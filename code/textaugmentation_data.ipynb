{
 "cells": [
  {
   "cell_type": "code",
   "execution_count": 1,
   "metadata": {},
   "outputs": [],
   "source": [
    "import pandas as pd"
   ]
  },
  {
   "cell_type": "code",
   "execution_count": 2,
   "metadata": {},
   "outputs": [
    {
     "data": {
      "text/html": [
       "<div>\n",
       "<style scoped>\n",
       "    .dataframe tbody tr th:only-of-type {\n",
       "        vertical-align: middle;\n",
       "    }\n",
       "\n",
       "    .dataframe tbody tr th {\n",
       "        vertical-align: top;\n",
       "    }\n",
       "\n",
       "    .dataframe thead th {\n",
       "        text-align: right;\n",
       "    }\n",
       "</style>\n",
       "<table border=\"1\" class=\"dataframe\">\n",
       "  <thead>\n",
       "    <tr style=\"text-align: right;\">\n",
       "      <th></th>\n",
       "      <th>Date</th>\n",
       "      <th>User</th>\n",
       "      <th>Tweet</th>\n",
       "      <th>Sentiment</th>\n",
       "    </tr>\n",
       "  </thead>\n",
       "  <tbody>\n",
       "    <tr>\n",
       "      <th>9926</th>\n",
       "      <td>2021-06-19 12:50:14</td>\n",
       "      <td>AdiPradhabasu</td>\n",
       "      <td>@aniesbaswedan Cocok pak. Dirumah lebih baik d...</td>\n",
       "      <td>1</td>\n",
       "    </tr>\n",
       "    <tr>\n",
       "      <th>5842</th>\n",
       "      <td>2021-07-19 15:40:15</td>\n",
       "      <td>kompascom</td>\n",
       "      <td>Bagaimana kronologinya? Simak selengkapnya den...</td>\n",
       "      <td>1</td>\n",
       "    </tr>\n",
       "    <tr>\n",
       "      <th>9699</th>\n",
       "      <td>2021-07-13 18:15:47</td>\n",
       "      <td>KuntetBoy</td>\n",
       "      <td>Yg namanya peraturan itu pasti memberatkan bro...</td>\n",
       "      <td>1</td>\n",
       "    </tr>\n",
       "    <tr>\n",
       "      <th>491</th>\n",
       "      <td>2021-08-19 09:54:17</td>\n",
       "      <td>BYurishiola</td>\n",
       "      <td>Turuo wes rek.. indonesia tak jogone.. aman am...</td>\n",
       "      <td>0</td>\n",
       "    </tr>\n",
       "    <tr>\n",
       "      <th>6296</th>\n",
       "      <td>2021-07-15 11:06:56</td>\n",
       "      <td>JNE_DPS</td>\n",
       "      <td>Ini dia tips jitu yang perlu kamu ketahui supa...</td>\n",
       "      <td>1</td>\n",
       "    </tr>\n",
       "    <tr>\n",
       "      <th>3687</th>\n",
       "      <td>2021-07-01 19:48:08</td>\n",
       "      <td>DanRomy3</td>\n",
       "      <td>@kumparan Kan Bapak yang paling getol membela ...</td>\n",
       "      <td>0</td>\n",
       "    </tr>\n",
       "    <tr>\n",
       "      <th>4174</th>\n",
       "      <td>2021-08-03 18:32:21</td>\n",
       "      <td>radar_malang</td>\n",
       "      <td>Perpanjangan masa #PPKM hingga 9 Agustus menda...</td>\n",
       "      <td>1</td>\n",
       "    </tr>\n",
       "    <tr>\n",
       "      <th>8708</th>\n",
       "      <td>2021-01-11 09:18:43</td>\n",
       "      <td>KADIN_Indonesia</td>\n",
       "      <td>Mulai hari ini, Senin (11/1) Penerapan Pembata...</td>\n",
       "      <td>1</td>\n",
       "    </tr>\n",
       "    <tr>\n",
       "      <th>4263</th>\n",
       "      <td>2021-08-03 09:13:37</td>\n",
       "      <td>yara_adit</td>\n",
       "      <td>POV 🐾 : Gue yang kena potongan efisiensi payro...</td>\n",
       "      <td>1</td>\n",
       "    </tr>\n",
       "    <tr>\n",
       "      <th>4497</th>\n",
       "      <td>2021-07-30 23:57:41</td>\n",
       "      <td>LaNyallaAcademy</td>\n",
       "      <td>Ketua DPD RI Minta Bulog Jatim Percepat Distri...</td>\n",
       "      <td>1</td>\n",
       "    </tr>\n",
       "  </tbody>\n",
       "</table>\n",
       "</div>"
      ],
      "text/plain": [
       "                     Date             User  \\\n",
       "9926  2021-06-19 12:50:14    AdiPradhabasu   \n",
       "5842  2021-07-19 15:40:15        kompascom   \n",
       "9699  2021-07-13 18:15:47        KuntetBoy   \n",
       "491   2021-08-19 09:54:17      BYurishiola   \n",
       "6296  2021-07-15 11:06:56          JNE_DPS   \n",
       "3687  2021-07-01 19:48:08         DanRomy3   \n",
       "4174  2021-08-03 18:32:21     radar_malang   \n",
       "8708  2021-01-11 09:18:43  KADIN_Indonesia   \n",
       "4263  2021-08-03 09:13:37        yara_adit   \n",
       "4497  2021-07-30 23:57:41  LaNyallaAcademy   \n",
       "\n",
       "                                                  Tweet  Sentiment  \n",
       "9926  @aniesbaswedan Cocok pak. Dirumah lebih baik d...          1  \n",
       "5842  Bagaimana kronologinya? Simak selengkapnya den...          1  \n",
       "9699  Yg namanya peraturan itu pasti memberatkan bro...          1  \n",
       "491   Turuo wes rek.. indonesia tak jogone.. aman am...          0  \n",
       "6296  Ini dia tips jitu yang perlu kamu ketahui supa...          1  \n",
       "3687  @kumparan Kan Bapak yang paling getol membela ...          0  \n",
       "4174  Perpanjangan masa #PPKM hingga 9 Agustus menda...          1  \n",
       "8708  Mulai hari ini, Senin (11/1) Penerapan Pembata...          1  \n",
       "4263  POV 🐾 : Gue yang kena potongan efisiensi payro...          1  \n",
       "4497  Ketua DPD RI Minta Bulog Jatim Percepat Distri...          1  "
      ]
     },
     "execution_count": 2,
     "metadata": {},
     "output_type": "execute_result"
    }
   ],
   "source": [
    "df = pd.read_csv(\"../dataset/INA_TweetsPPKM_Labeled_FIX.csv\", sep=\"\\t\")\n",
    "df.sample(10)\n"
   ]
  },
  {
   "cell_type": "code",
   "execution_count": 3,
   "metadata": {},
   "outputs": [
    {
     "data": {
      "text/plain": [
       "1    6100\n",
       "0    3900\n",
       "Name: Sentiment, dtype: int64"
      ]
     },
     "execution_count": 3,
     "metadata": {},
     "output_type": "execute_result"
    }
   ],
   "source": [
    "df['Sentiment'].value_counts()"
   ]
  },
  {
   "cell_type": "code",
   "execution_count": 5,
   "metadata": {},
   "outputs": [
    {
     "name": "stderr",
     "output_type": "stream",
     "text": [
      "Downloading (…)okenizer_config.json: 100%|██████████| 62.0/62.0 [00:00<?, ?B/s]\n",
      "g:\\CodeWarehouse\\project-skripsi\\env\\lib\\site-packages\\huggingface_hub\\file_download.py:133: UserWarning: `huggingface_hub` cache-system uses symlinks by default to efficiently store duplicated files but your machine does not support them in C:\\Users\\SNOW-WOLF\\.cache\\huggingface\\hub. Caching files will still work but in a degraded version that might require more space on your disk. This warning can be disabled by setting the `HF_HUB_DISABLE_SYMLINKS_WARNING` environment variable. For more details, see https://huggingface.co/docs/huggingface_hub/how-to-cache#limitations.\n",
      "To support symlinks on Windows, you either need to activate Developer Mode or to run Python as an administrator. In order to see activate developer mode, see this article: https://docs.microsoft.com/en-us/windows/apps/get-started/enable-your-device-for-development\n",
      "  warnings.warn(message)\n",
      "Downloading (…)lve/main/config.json: 100%|██████████| 468/468 [00:00<?, ?B/s] \n",
      "Downloading (…)solve/main/vocab.txt: 100%|██████████| 230k/230k [00:00<00:00, 475kB/s]\n",
      "Downloading (…)cial_tokens_map.json: 100%|██████████| 112/112 [00:00<?, ?B/s] \n",
      "Downloading pytorch_model.bin: 100%|██████████| 445M/445M [03:13<00:00, 2.30MB/s] \n"
     ]
    }
   ],
   "source": [
    "from transformers import AutoTokenizer, AutoModelForMaskedLM\n",
    "\n",
    "tokenizer = AutoTokenizer.from_pretrained(\"cahya/bert-base-indonesian-522M\")\n",
    "\n",
    "model = AutoModelForMaskedLM.from_pretrained(\"cahya/bert-base-indonesian-522M\")"
   ]
  },
  {
   "cell_type": "code",
   "execution_count": 1,
   "metadata": {},
   "outputs": [
    {
     "name": "stderr",
     "output_type": "stream",
     "text": [
      "g:\\CodeWarehouse\\project-skripsi\\env\\lib\\site-packages\\tqdm\\auto.py:22: TqdmWarning: IProgress not found. Please update jupyter and ipywidgets. See https://ipywidgets.readthedocs.io/en/stable/user_install.html\n",
      "  from .autonotebook import tqdm as notebook_tqdm\n"
     ]
    },
    {
     "data": {
      "text/html": [
       "<div>\n",
       "<style scoped>\n",
       "    .dataframe tbody tr th:only-of-type {\n",
       "        vertical-align: middle;\n",
       "    }\n",
       "\n",
       "    .dataframe tbody tr th {\n",
       "        vertical-align: top;\n",
       "    }\n",
       "\n",
       "    .dataframe thead th {\n",
       "        text-align: right;\n",
       "    }\n",
       "</style>\n",
       "<table border=\"1\" class=\"dataframe\">\n",
       "  <thead>\n",
       "    <tr style=\"text-align: right;\">\n",
       "      <th></th>\n",
       "      <th>Text</th>\n",
       "      <th>Augmented_Text</th>\n",
       "    </tr>\n",
       "  </thead>\n",
       "  <tbody>\n",
       "    <tr>\n",
       "      <th>0</th>\n",
       "      <td>saya tidak suka dengan kebijakan ini</td>\n",
       "      <td>[saya mengaku tidak pernah suka dengan kebijak...</td>\n",
       "    </tr>\n",
       "    <tr>\n",
       "      <th>1</th>\n",
       "      <td>saya senang melihat semangat presiden jokowi d...</td>\n",
       "      <td>[saya juga senang ketika melihat semangat lang...</td>\n",
       "    </tr>\n",
       "  </tbody>\n",
       "</table>\n",
       "</div>"
      ],
      "text/plain": [
       "                                                Text  \\\n",
       "0               saya tidak suka dengan kebijakan ini   \n",
       "1  saya senang melihat semangat presiden jokowi d...   \n",
       "\n",
       "                                      Augmented_Text  \n",
       "0  [saya mengaku tidak pernah suka dengan kebijak...  \n",
       "1  [saya juga senang ketika melihat semangat lang...  "
      ]
     },
     "execution_count": 1,
     "metadata": {},
     "output_type": "execute_result"
    }
   ],
   "source": [
    "import pandas as pd\n",
    "import nlpaug.augmenter.word as naw\n",
    "\n",
    "# Membuat fungsi untuk melakukan augmentasi teks\n",
    "def augment_text(text):\n",
    "    augmenter = naw.ContextualWordEmbsAug(model_path=\"cahya/bert-base-indonesian-522M\", action=\"insert\")\n",
    "    augmented_text = augmenter.augment(text)\n",
    "    return augmented_text\n",
    "\n",
    "# Membuat DataFrame contoh\n",
    "data = {'Text': ['saya tidak suka dengan kebijakan ini', 'saya senang melihat semangat presiden jokowi dalam bekerja']}\n",
    "df = pd.DataFrame(data)\n",
    "\n",
    "# Mengaplikasikan augmentasi teks pada DataFrame\n",
    "df['Augmented_Text'] = df['Text'].apply(augment_text)\n",
    "\n",
    "# Menampilkan hasil\n",
    "df\n"
   ]
  },
  {
   "cell_type": "code",
   "execution_count": null,
   "metadata": {},
   "outputs": [],
   "source": []
  }
 ],
 "metadata": {
  "kernelspec": {
   "display_name": "env",
   "language": "python",
   "name": "python3"
  },
  "language_info": {
   "codemirror_mode": {
    "name": "ipython",
    "version": 3
   },
   "file_extension": ".py",
   "mimetype": "text/x-python",
   "name": "python",
   "nbconvert_exporter": "python",
   "pygments_lexer": "ipython3",
   "version": "3.10.7"
  },
  "orig_nbformat": 4
 },
 "nbformat": 4,
 "nbformat_minor": 2
}
