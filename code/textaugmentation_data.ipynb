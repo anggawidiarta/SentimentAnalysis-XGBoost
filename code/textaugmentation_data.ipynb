{
 "cells": [
  {
   "cell_type": "code",
   "execution_count": 1,
   "metadata": {},
   "outputs": [
    {
     "name": "stderr",
     "output_type": "stream",
     "text": [
      "g:\\CodeWarehouse\\project-skripsi\\env\\lib\\site-packages\\tqdm\\auto.py:22: TqdmWarning: IProgress not found. Please update jupyter and ipywidgets. See https://ipywidgets.readthedocs.io/en/stable/user_install.html\n",
      "  from .autonotebook import tqdm as notebook_tqdm\n"
     ]
    }
   ],
   "source": [
    "import pandas as pd\n",
    "import warnings\n",
    "import nlpaug.augmenter.word as naw\n",
    "\n",
    "\n",
    "# Mengabaikan peringatan yang muncul\n",
    "warnings.simplefilter(\"ignore\")\n",
    "\n",
    "# Mengatur opsi pandas untuk menampilkan maksimal 500 kolom dalam output\n",
    "pd.set_option(\"display.max_columns\", 500)\n",
    "\n",
    "# Mengatur lebar tampilan output menjadi 1000 karakter\n",
    "pd.set_option(\"display.width\", 1000)\n"
   ]
  },
  {
   "cell_type": "code",
   "execution_count": 2,
   "metadata": {},
   "outputs": [],
   "source": [
    "# Membuat fungsi untuk melakukan augmentasi teks\n",
    "def augment_text(text):\n",
    "    # Membuat objek augmenter menggunakan model BERT bahasa Indonesia\n",
    "    augmenter = naw.ContextualWordEmbsAug(\n",
    "        model_path=\"cahya/bert-base-indonesian-522M\", action=\"insert\"\n",
    "    )\n",
    "\n",
    "    # Melakukan augmentasi teks\n",
    "    augmented_text = augmenter.augment(text)\n",
    "\n",
    "    # Mengembalikan teks yang telah diaugmentasi\n",
    "    return augmented_text\n"
   ]
  },
  {
   "attachments": {},
   "cell_type": "markdown",
   "metadata": {},
   "source": [
    "data = {\n",
    "    \"Text\": [\n",
    "        \"saya tidak suka dengan kebijakan ini\",\n",
    "        \"saya senang melihat semangat presiden jokowi dalam bekerja\",\n",
    "    ]\n",
    "}\n",
    "df = pd.DataFrame(data)\n",
    "\n",
    "# Mengaplikasikan augmentasi teks pada DataFrame\n",
    "df[\"Augmented_Text\"] = df[\"Text\"].apply(augment_text)\n",
    "\n",
    "# Menampilkan hasil\n",
    "df"
   ]
  },
  {
   "cell_type": "code",
   "execution_count": 3,
   "metadata": {},
   "outputs": [
    {
     "data": {
      "text/html": [
       "<div>\n",
       "<style scoped>\n",
       "    .dataframe tbody tr th:only-of-type {\n",
       "        vertical-align: middle;\n",
       "    }\n",
       "\n",
       "    .dataframe tbody tr th {\n",
       "        vertical-align: top;\n",
       "    }\n",
       "\n",
       "    .dataframe thead th {\n",
       "        text-align: right;\n",
       "    }\n",
       "</style>\n",
       "<table border=\"1\" class=\"dataframe\">\n",
       "  <thead>\n",
       "    <tr style=\"text-align: right;\">\n",
       "      <th></th>\n",
       "      <th>Date</th>\n",
       "      <th>User</th>\n",
       "      <th>Tweet</th>\n",
       "      <th>sentiment</th>\n",
       "    </tr>\n",
       "  </thead>\n",
       "  <tbody>\n",
       "    <tr>\n",
       "      <th>0</th>\n",
       "      <td>2022-03-26 04:51:44+00:00</td>\n",
       "      <td>CendekiaDelapan</td>\n",
       "      <td>Karena stimulasi untuk #anakberkebutuhankhusus...</td>\n",
       "      <td>0</td>\n",
       "    </tr>\n",
       "    <tr>\n",
       "      <th>1</th>\n",
       "      <td>2022-03-25 10:13:26+00:00</td>\n",
       "      <td>AnantaElvano</td>\n",
       "      <td>Hadir Kembali Boss!! MEGA WIN Dari https://t.c...</td>\n",
       "      <td>1</td>\n",
       "    </tr>\n",
       "    <tr>\n",
       "      <th>2</th>\n",
       "      <td>2022-03-23 23:15:45+00:00</td>\n",
       "      <td>mitrafmpwt</td>\n",
       "      <td>Hayolohhhhhhhhh... seneng kannnn??\\n\\n#covid19...</td>\n",
       "      <td>1</td>\n",
       "    </tr>\n",
       "    <tr>\n",
       "      <th>3</th>\n",
       "      <td>2022-03-23 10:29:52+00:00</td>\n",
       "      <td>895jizfm</td>\n",
       "      <td>Thank You teman-teman dari #saganheritagehotel...</td>\n",
       "      <td>1</td>\n",
       "    </tr>\n",
       "    <tr>\n",
       "      <th>4</th>\n",
       "      <td>2022-03-22 17:25:29+00:00</td>\n",
       "      <td>ViantAntony</td>\n",
       "      <td>Ruwet Ruwet Ruwet inilah Negeri RuwetNesia. He...</td>\n",
       "      <td>1</td>\n",
       "    </tr>\n",
       "  </tbody>\n",
       "</table>\n",
       "</div>"
      ],
      "text/plain": [
       "                        Date             User                                              Tweet  sentiment\n",
       "0  2022-03-26 04:51:44+00:00  CendekiaDelapan  Karena stimulasi untuk #anakberkebutuhankhusus...          0\n",
       "1  2022-03-25 10:13:26+00:00     AnantaElvano  Hadir Kembali Boss!! MEGA WIN Dari https://t.c...          1\n",
       "2  2022-03-23 23:15:45+00:00       mitrafmpwt  Hayolohhhhhhhhh... seneng kannnn??\\n\\n#covid19...          1\n",
       "3  2022-03-23 10:29:52+00:00         895jizfm  Thank You teman-teman dari #saganheritagehotel...          1\n",
       "4  2022-03-22 17:25:29+00:00      ViantAntony  Ruwet Ruwet Ruwet inilah Negeri RuwetNesia. He...          1"
      ]
     },
     "execution_count": 3,
     "metadata": {},
     "output_type": "execute_result"
    }
   ],
   "source": [
    "# Membaca file dataset dengan menggunakan pandas\n",
    "df = pd.read_csv(\"../dataset/INA_TweetsPPKM_Labeled_PosNeg.csv\", sep=\"\\t\")\n",
    "\n",
    "# Menampilkan 5 baris pertama dari dataset\n",
    "df.head()\n"
   ]
  },
  {
   "cell_type": "code",
   "execution_count": 4,
   "metadata": {},
   "outputs": [],
   "source": [
    "df.columns = df.columns.str.lower()\n",
    "df.drop([\"date\", \"user\"], axis=1, inplace=True)\n"
   ]
  },
  {
   "cell_type": "code",
   "execution_count": 5,
   "metadata": {},
   "outputs": [
    {
     "data": {
      "text/html": [
       "<div>\n",
       "<style scoped>\n",
       "    .dataframe tbody tr th:only-of-type {\n",
       "        vertical-align: middle;\n",
       "    }\n",
       "\n",
       "    .dataframe tbody tr th {\n",
       "        vertical-align: top;\n",
       "    }\n",
       "\n",
       "    .dataframe thead th {\n",
       "        text-align: right;\n",
       "    }\n",
       "</style>\n",
       "<table border=\"1\" class=\"dataframe\">\n",
       "  <thead>\n",
       "    <tr style=\"text-align: right;\">\n",
       "      <th></th>\n",
       "      <th>tweet</th>\n",
       "      <th>sentiment</th>\n",
       "    </tr>\n",
       "  </thead>\n",
       "  <tbody>\n",
       "    <tr>\n",
       "      <th>1735</th>\n",
       "      <td>Repost @bnn_cegahnarkoba \\nSiapa aja #sobatceg...</td>\n",
       "      <td>1</td>\n",
       "    </tr>\n",
       "    <tr>\n",
       "      <th>847</th>\n",
       "      <td>Happy Weekend BFFs! Berhubung #PPKM diperpanja...</td>\n",
       "      <td>1</td>\n",
       "    </tr>\n",
       "    <tr>\n",
       "      <th>4521</th>\n",
       "      <td>Tetap patuhi prokes ya Friends!!! \\n\\n#togethe...</td>\n",
       "      <td>1</td>\n",
       "    </tr>\n",
       "    <tr>\n",
       "      <th>304</th>\n",
       "      <td>Hi Parents!Ada kabar gembira mulai tanggal 5 O...</td>\n",
       "      <td>1</td>\n",
       "    </tr>\n",
       "    <tr>\n",
       "      <th>3453</th>\n",
       "      <td>PPKM versi aku nih, untung pake smartfren GOKI...</td>\n",
       "      <td>1</td>\n",
       "    </tr>\n",
       "  </tbody>\n",
       "</table>\n",
       "</div>"
      ],
      "text/plain": [
       "                                                  tweet  sentiment\n",
       "1735  Repost @bnn_cegahnarkoba \\nSiapa aja #sobatceg...          1\n",
       "847   Happy Weekend BFFs! Berhubung #PPKM diperpanja...          1\n",
       "4521  Tetap patuhi prokes ya Friends!!! \\n\\n#togethe...          1\n",
       "304   Hi Parents!Ada kabar gembira mulai tanggal 5 O...          1\n",
       "3453  PPKM versi aku nih, untung pake smartfren GOKI...          1"
      ]
     },
     "execution_count": 5,
     "metadata": {},
     "output_type": "execute_result"
    }
   ],
   "source": [
    "df_pos = df.loc[df['sentiment']!=0]\n",
    "df_pos.sample(5)"
   ]
  },
  {
   "cell_type": "code",
   "execution_count": 6,
   "metadata": {},
   "outputs": [],
   "source": [
    "%%timeit\n",
    "df_pos['augmented_text'] = df['tweet'].apply(augment_text)\n",
    "df.sample(5)"
   ]
  },
  {
   "cell_type": "code",
   "execution_count": null,
   "metadata": {},
   "outputs": [
    {
     "data": {
      "text/html": [
       "<div>\n",
       "<style scoped>\n",
       "    .dataframe tbody tr th:only-of-type {\n",
       "        vertical-align: middle;\n",
       "    }\n",
       "\n",
       "    .dataframe tbody tr th {\n",
       "        vertical-align: top;\n",
       "    }\n",
       "\n",
       "    .dataframe thead th {\n",
       "        text-align: right;\n",
       "    }\n",
       "</style>\n",
       "<table border=\"1\" class=\"dataframe\">\n",
       "  <thead>\n",
       "    <tr style=\"text-align: right;\">\n",
       "      <th></th>\n",
       "      <th>tweet</th>\n",
       "      <th>sentiment</th>\n",
       "      <th>augmented_text</th>\n",
       "    </tr>\n",
       "  </thead>\n",
       "  <tbody>\n",
       "    <tr>\n",
       "      <th>5232</th>\n",
       "      <td>@ELFARAFM @reviczilia @ngonoafer Bysany nonton...</td>\n",
       "      <td>1</td>\n",
       "      <td>[@ elfarafm @ reviczilia @ go ngonoafer my bys...</td>\n",
       "    </tr>\n",
       "    <tr>\n",
       "      <th>5803</th>\n",
       "      <td>- DTW Umbul Sidomukti, Bandungan.\\n- DTW Horti...</td>\n",
       "      <td>1</td>\n",
       "      <td>[- sesama dtw dukuh umbul sidomukti, bandungan...</td>\n",
       "    </tr>\n",
       "    <tr>\n",
       "      <th>2851</th>\n",
       "      <td>PPKM trus sampe Levi jadi jodohku. \\n#PPKM #PP...</td>\n",
       "      <td>1</td>\n",
       "      <td>[ppkm 60 trus levi sampe levi bukan jadi wasia...</td>\n",
       "    </tr>\n",
       "    <tr>\n",
       "      <th>1426</th>\n",
       "      <td>TKA masuk untuk bekerja,dan kita terpuruk kare...</td>\n",
       "      <td>1</td>\n",
       "      <td>[tka masuk untuk turut bekerja, dan kita mulai...</td>\n",
       "    </tr>\n",
       "    <tr>\n",
       "      <th>542</th>\n",
       "      <td>Yessss sun.\\n.\\n.\\n.\\n.\\n.\\n.\\n.\\n.\\n.\\n.\\n#ta...</td>\n",
       "      <td>1</td>\n",
       "      <td>[from yessss by sun........... # tattoo # tatt...</td>\n",
       "    </tr>\n",
       "    <tr>\n",
       "      <th>2730</th>\n",
       "      <td>Yakali disamain mah lucu, jauuhh #emyu #Liverp...</td>\n",
       "      <td>1</td>\n",
       "      <td>[ade yakali mah disamain mah yang lucu, jauuhh...</td>\n",
       "    </tr>\n",
       "    <tr>\n",
       "      <th>2967</th>\n",
       "      <td>Hallo... Ini #PPKM versiku\\nga bakalan bosenin...</td>\n",
       "      <td>1</td>\n",
       "      <td>[e hallo... ini # ppkm versiku ga ho bakalan b...</td>\n",
       "    </tr>\n",
       "    <tr>\n",
       "      <th>1369</th>\n",
       "      <td>Ini ppkm versi aku untung pakai smartfren goki...</td>\n",
       "      <td>1</td>\n",
       "      <td>[ini ppkm versi reguler aku untung pakai smart...</td>\n",
       "    </tr>\n",
       "    <tr>\n",
       "      <th>4633</th>\n",
       "      <td>Masih harus bertahan seadanya. Berjuang utk le...</td>\n",
       "      <td>1</td>\n",
       "      <td>[masih gigih harus bertahan lebih seadanya. be...</td>\n",
       "    </tr>\n",
       "    <tr>\n",
       "      <th>2729</th>\n",
       "      <td>PPKM versi aku nih https://t.co/kAoMZ6YX1n\\nMa...</td>\n",
       "      <td>1</td>\n",
       "      <td>[ppkm di versi aku nih https : / / t. en co / ...</td>\n",
       "    </tr>\n",
       "  </tbody>\n",
       "</table>\n",
       "</div>"
      ],
      "text/plain": [
       "                                                  tweet  sentiment                                     augmented_text\n",
       "5232  @ELFARAFM @reviczilia @ngonoafer Bysany nonton...          1  [@ elfarafm @ reviczilia @ go ngonoafer my bys...\n",
       "5803  - DTW Umbul Sidomukti, Bandungan.\\n- DTW Horti...          1  [- sesama dtw dukuh umbul sidomukti, bandungan...\n",
       "2851  PPKM trus sampe Levi jadi jodohku. \\n#PPKM #PP...          1  [ppkm 60 trus levi sampe levi bukan jadi wasia...\n",
       "1426  TKA masuk untuk bekerja,dan kita terpuruk kare...          1  [tka masuk untuk turut bekerja, dan kita mulai...\n",
       "542   Yessss sun.\\n.\\n.\\n.\\n.\\n.\\n.\\n.\\n.\\n.\\n.\\n#ta...          1  [from yessss by sun........... # tattoo # tatt...\n",
       "2730  Yakali disamain mah lucu, jauuhh #emyu #Liverp...          1  [ade yakali mah disamain mah yang lucu, jauuhh...\n",
       "2967  Hallo... Ini #PPKM versiku\\nga bakalan bosenin...          1  [e hallo... ini # ppkm versiku ga ho bakalan b...\n",
       "1369  Ini ppkm versi aku untung pakai smartfren goki...          1  [ini ppkm versi reguler aku untung pakai smart...\n",
       "4633  Masih harus bertahan seadanya. Berjuang utk le...          1  [masih gigih harus bertahan lebih seadanya. be...\n",
       "2729  PPKM versi aku nih https://t.co/kAoMZ6YX1n\\nMa...          1  [ppkm di versi aku nih https : / / t. en co / ..."
      ]
     },
     "execution_count": 127,
     "metadata": {},
     "output_type": "execute_result"
    }
   ],
   "source": [
    "df_pos.head()"
   ]
  },
  {
   "cell_type": "code",
   "execution_count": 111,
   "metadata": {},
   "outputs": [
    {
     "name": "stdout",
     "output_type": "stream",
     "text": [
      "<class 'pandas.core.frame.DataFrame'>\n",
      "RangeIndex: 2 entries, 0 to 1\n",
      "Data columns (total 2 columns):\n",
      " #   Column          Non-Null Count  Dtype \n",
      "---  ------          --------------  ----- \n",
      " 0   Text            2 non-null      object\n",
      " 1   Augmented_Text  2 non-null      object\n",
      "dtypes: object(2)\n",
      "memory usage: 160.0+ bytes\n"
     ]
    }
   ],
   "source": [
    "# Mengganti karakter [ dan ] dengan string kosong\n",
    "df[\"Augmented_Text\"] = df[\"Augmented_Text\"].str.replace(\"[\", \"\").str.replace(\"]\", \"\")\n",
    "\n",
    "# Mengganti karakter ' dengan string kosong\n",
    "df[\"Augmented_Text\"] = df[\"Augmented_Text\"].str.replace(\"'\", \"\")\n",
    "\n",
    "# Menampilkan informasi tentang DataFrame\n",
    "df.info()\n"
   ]
  },
  {
   "cell_type": "code",
   "execution_count": 112,
   "metadata": {},
   "outputs": [
    {
     "data": {
      "text/html": [
       "<div>\n",
       "<style scoped>\n",
       "    .dataframe tbody tr th:only-of-type {\n",
       "        vertical-align: middle;\n",
       "    }\n",
       "\n",
       "    .dataframe tbody tr th {\n",
       "        vertical-align: top;\n",
       "    }\n",
       "\n",
       "    .dataframe thead th {\n",
       "        text-align: right;\n",
       "    }\n",
       "</style>\n",
       "<table border=\"1\" class=\"dataframe\">\n",
       "  <thead>\n",
       "    <tr style=\"text-align: right;\">\n",
       "      <th></th>\n",
       "      <th>Text</th>\n",
       "      <th>Augmented_Text</th>\n",
       "    </tr>\n",
       "  </thead>\n",
       "  <tbody>\n",
       "    <tr>\n",
       "      <th>0</th>\n",
       "      <td>saya tidak suka dengan kebijakan ini</td>\n",
       "      <td>jika saya tidak suka dengan kebijakan semacam ini</td>\n",
       "    </tr>\n",
       "    <tr>\n",
       "      <th>1</th>\n",
       "      <td>saya senang melihat semangat presiden jokowi d...</td>\n",
       "      <td>bisa saya senang melihat betapa semangat presi...</td>\n",
       "    </tr>\n",
       "  </tbody>\n",
       "</table>\n",
       "</div>"
      ],
      "text/plain": [
       "                                                Text                                     Augmented_Text\n",
       "0               saya tidak suka dengan kebijakan ini  jika saya tidak suka dengan kebijakan semacam ini\n",
       "1  saya senang melihat semangat presiden jokowi d...  bisa saya senang melihat betapa semangat presi..."
      ]
     },
     "execution_count": 112,
     "metadata": {},
     "output_type": "execute_result"
    }
   ],
   "source": [
    "df.head()"
   ]
  },
  {
   "cell_type": "code",
   "execution_count": 113,
   "metadata": {},
   "outputs": [
    {
     "name": "stderr",
     "output_type": "stream",
     "text": [
      "[nltk_data] Downloading package punkt to C:\\Users\\SNOW-\n",
      "[nltk_data]     WOLF\\AppData\\Roaming\\nltk_data...\n",
      "[nltk_data]   Package punkt is already up-to-date!\n"
     ]
    },
    {
     "data": {
      "text/plain": [
       "True"
      ]
     },
     "execution_count": 113,
     "metadata": {},
     "output_type": "execute_result"
    }
   ],
   "source": [
    "import string\n",
    "import re\n",
    "import nltk\n",
    "from nltk.tokenize import word_tokenize\n",
    "from nltk.probability import FreqDist\n",
    "\n",
    "# Mengunduh resource yang diperlukan oleh NLTK (Natural Language Toolkit)\n",
    "nltk.download(\"punkt\")\n"
   ]
  },
  {
   "cell_type": "code",
   "execution_count": 114,
   "metadata": {},
   "outputs": [],
   "source": [
    "def remove_special_char(text):\n",
    "    # Menghapus karakter khusus seperti tab, baris baru, dan backslash\n",
    "    text = (\n",
    "        text.replace(\"\\\\t\", \" \")\n",
    "        .replace(\"\\\\n\", \" \")\n",
    "        .replace(\"\\\\u\", \" \")\n",
    "        .replace(\"\\\\\", \"\")\n",
    "    )\n",
    "    # Menghapus karakter non-ASCII seperti emotikon\n",
    "    text = text.encode(\"ASCII\", \"replace\").decode(\"ASCII\")\n",
    "    # Menghapus mention, link, dan hashtag\n",
    "    text = \" \".join(re.sub(\"([@#][A-Za-z0-9]+)|(\\w+:\\/\\/\\S+)\", \" \", text).split())\n",
    "    # Menghapus URL yang tidak lengkap\n",
    "    return text.replace(\"http://\", \" \").replace(\"https://\", \" \")\n",
    "\n",
    "\n",
    "def remove_number(text):\n",
    "    # Menghapus angka dari teks\n",
    "    return re.sub(r\"\\d+\", \"\", text)\n",
    "\n",
    "\n",
    "def remove_punctuation(text):\n",
    "    # Menghapus tanda baca dari teks\n",
    "    return text.translate(str.maketrans(\"\", \"\", string.punctuation))\n",
    "\n",
    "\n",
    "def remove_whitespace(text):\n",
    "    # Menghapus spasi di awal dan akhir teks\n",
    "    return text.strip()\n",
    "\n",
    "\n",
    "def remove_multiple_whitespace(text):\n",
    "    # Menghapus multiple whitespace menjadi satu spasi\n",
    "    return re.sub(\"\\s+\", \" \", text)\n",
    "\n",
    "\n",
    "def remove_single_char(text):\n",
    "    # Menghapus kata yang terdiri dari satu karakter saja\n",
    "    return re.sub(r\"\\b[a-zA-Z]\\b\", \"\", text)\n",
    "\n",
    "\n",
    "def tokenize(text):\n",
    "    # Melakukan tokenisasi kata pada teks menggunakan NLTK\n",
    "    return word_tokenize(text)\n"
   ]
  },
  {
   "cell_type": "code",
   "execution_count": 115,
   "metadata": {},
   "outputs": [
    {
     "data": {
      "text/html": [
       "<div>\n",
       "<style scoped>\n",
       "    .dataframe tbody tr th:only-of-type {\n",
       "        vertical-align: middle;\n",
       "    }\n",
       "\n",
       "    .dataframe tbody tr th {\n",
       "        vertical-align: top;\n",
       "    }\n",
       "\n",
       "    .dataframe thead th {\n",
       "        text-align: right;\n",
       "    }\n",
       "</style>\n",
       "<table border=\"1\" class=\"dataframe\">\n",
       "  <thead>\n",
       "    <tr style=\"text-align: right;\">\n",
       "      <th></th>\n",
       "      <th>Text</th>\n",
       "      <th>Augmented_Text</th>\n",
       "    </tr>\n",
       "  </thead>\n",
       "  <tbody>\n",
       "    <tr>\n",
       "      <th>0</th>\n",
       "      <td>saya tidak suka dengan kebijakan ini</td>\n",
       "      <td>[jika, saya, tidak, suka, dengan, kebijakan, s...</td>\n",
       "    </tr>\n",
       "    <tr>\n",
       "      <th>1</th>\n",
       "      <td>saya senang melihat semangat presiden jokowi d...</td>\n",
       "      <td>[bisa, saya, senang, melihat, betapa, semangat...</td>\n",
       "    </tr>\n",
       "  </tbody>\n",
       "</table>\n",
       "</div>"
      ],
      "text/plain": [
       "                                                Text                                     Augmented_Text\n",
       "0               saya tidak suka dengan kebijakan ini  [jika, saya, tidak, suka, dengan, kebijakan, s...\n",
       "1  saya senang melihat semangat presiden jokowi d...  [bisa, saya, senang, melihat, betapa, semangat..."
      ]
     },
     "execution_count": 115,
     "metadata": {},
     "output_type": "execute_result"
    }
   ],
   "source": [
    "# Mengaplikasikan fungsi remove_special_char pada kolom 'Augmented_Text'\n",
    "df[\"Augmented_Text\"] = df[\"Augmented_Text\"].map(remove_special_char)\n",
    "\n",
    "# Mengaplikasikan fungsi remove_number pada kolom 'Augmented_Text'\n",
    "df[\"Augmented_Text\"] = df[\"Augmented_Text\"].map(remove_number)\n",
    "\n",
    "# Mengaplikasikan fungsi remove_punctuation pada kolom 'Augmented_Text'\n",
    "df[\"Augmented_Text\"] = df[\"Augmented_Text\"].map(remove_punctuation)\n",
    "\n",
    "# Mengaplikasikan fungsi remove_whitespace pada kolom 'Augmented_Text'\n",
    "df[\"Augmented_Text\"] = df[\"Augmented_Text\"].map(remove_whitespace)\n",
    "\n",
    "# Mengaplikasikan fungsi remove_multiple_whitespace pada kolom 'Augmented_Text'\n",
    "df[\"Augmented_Text\"] = df[\"Augmented_Text\"].map(remove_multiple_whitespace)\n",
    "\n",
    "# Mengaplikasikan fungsi remove_single_char pada kolom 'Augmented_Text'\n",
    "df[\"Augmented_Text\"] = df[\"Augmented_Text\"].map(remove_single_char)\n",
    "\n",
    "# Mengaplikasikan fungsi tokenize pada kolom 'Augmented_Text'\n",
    "df[\"Augmented_Text\"] = df[\"Augmented_Text\"].map(tokenize)\n",
    "\n",
    "# Menampilkan lima baris pertama dari DataFrame setelah dilakukan preprocessing teks\n",
    "df.head()\n"
   ]
  }
 ],
 "metadata": {
  "kernelspec": {
   "display_name": "env",
   "language": "python",
   "name": "python3"
  },
  "language_info": {
   "codemirror_mode": {
    "name": "ipython",
    "version": 3
   },
   "file_extension": ".py",
   "mimetype": "text/x-python",
   "name": "python",
   "nbconvert_exporter": "python",
   "pygments_lexer": "ipython3",
   "version": "3.10.7"
  },
  "orig_nbformat": 4
 },
 "nbformat": 4,
 "nbformat_minor": 2
}
