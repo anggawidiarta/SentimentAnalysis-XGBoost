{
 "cells": [
  {
   "cell_type": "code",
   "execution_count": 37,
   "metadata": {},
   "outputs": [],
   "source": [
    "import pandas as pd\n",
    "import warnings\n",
    "\n",
    "warnings.simplefilter(\"ignore\")\n",
    "pd.set_option(\"display.max_columns\", 500)\n",
    "pd.set_option(\"display.width\", 1000)\n"
   ]
  },
  {
   "attachments": {},
   "cell_type": "markdown",
   "metadata": {},
   "source": [
    "- **df_label_fix: dataset yang telah dimodifikasi jumlah Augmented_Text pada masing - masing kategori sentimennya**\n",
    "- **Jumlah: 6100 Positif & 3900 Negatif**\n",
    "- **Ket: 1 Positif & 0 Negatif**\n"
   ]
  },
  {
   "cell_type": "code",
   "execution_count": 38,
   "metadata": {},
   "outputs": [
    {
     "data": {
      "text/html": [
       "<div>\n",
       "<style scoped>\n",
       "    .dataframe tbody tr th:only-of-type {\n",
       "        vertical-align: middle;\n",
       "    }\n",
       "\n",
       "    .dataframe tbody tr th {\n",
       "        vertical-align: top;\n",
       "    }\n",
       "\n",
       "    .dataframe thead th {\n",
       "        text-align: right;\n",
       "    }\n",
       "</style>\n",
       "<table border=\"1\" class=\"dataframe\">\n",
       "  <thead>\n",
       "    <tr style=\"text-align: right;\">\n",
       "      <th></th>\n",
       "      <th>date</th>\n",
       "      <th>user</th>\n",
       "      <th>tweet</th>\n",
       "      <th>sentiment</th>\n",
       "    </tr>\n",
       "  </thead>\n",
       "  <tbody>\n",
       "    <tr>\n",
       "      <th>4271</th>\n",
       "      <td>2021-07-13 14:59:04+00:00</td>\n",
       "      <td>rklzrd</td>\n",
       "      <td>#mantap #ppkm #6minggu #mati https://t.co/UBTk...</td>\n",
       "      <td>1</td>\n",
       "    </tr>\n",
       "    <tr>\n",
       "      <th>5354</th>\n",
       "      <td>2021-07-05 00:05:38+00:00</td>\n",
       "      <td>cintahrumah</td>\n",
       "      <td>Pak Presiden Kapan Mundur Indonesia Darurat #P...</td>\n",
       "      <td>0</td>\n",
       "    </tr>\n",
       "    <tr>\n",
       "      <th>5256</th>\n",
       "      <td>2021-07-05 07:58:07+00:00</td>\n",
       "      <td>putridijee</td>\n",
       "      <td>Pernah Perhatian Kemudian Menghilang. #PPKM</td>\n",
       "      <td>0</td>\n",
       "    </tr>\n",
       "    <tr>\n",
       "      <th>4191</th>\n",
       "      <td>2021-07-14 04:28:05+00:00</td>\n",
       "      <td>Moca_Moonblues</td>\n",
       "      <td>PPKM = Pernah Perhatian Kemudian Menghilang \\n...</td>\n",
       "      <td>0</td>\n",
       "    </tr>\n",
       "    <tr>\n",
       "      <th>5183</th>\n",
       "      <td>2021-07-05 13:47:04+00:00</td>\n",
       "      <td>betocation1</td>\n",
       "      <td>Minuman ini udah Rare neeh..... last stok Taji...</td>\n",
       "      <td>0</td>\n",
       "    </tr>\n",
       "  </tbody>\n",
       "</table>\n",
       "</div>"
      ],
      "text/plain": [
       "                           date            user                                              tweet  sentiment\n",
       "4271  2021-07-13 14:59:04+00:00          rklzrd  #mantap #ppkm #6minggu #mati https://t.co/UBTk...          1\n",
       "5354  2021-07-05 00:05:38+00:00     cintahrumah  Pak Presiden Kapan Mundur Indonesia Darurat #P...          0\n",
       "5256  2021-07-05 07:58:07+00:00      putridijee        Pernah Perhatian Kemudian Menghilang. #PPKM          0\n",
       "4191  2021-07-14 04:28:05+00:00  Moca_Moonblues  PPKM = Pernah Perhatian Kemudian Menghilang \\n...          0\n",
       "5183  2021-07-05 13:47:04+00:00     betocation1  Minuman ini udah Rare neeh..... last stok Taji...          0"
      ]
     },
     "execution_count": 38,
     "metadata": {},
     "output_type": "execute_result"
    }
   ],
   "source": [
    "df_label_fix = pd.read_csv(\"../dataset/INA_Augmented_TextsPPKM_Labeled_PosNeg.csv\", sep=\"\\t\")\n",
    "df_label_fix.columns = df_label_fix.columns.str.lower()\n",
    "df_label_fix.sample(5)\n"
   ]
  },
  {
   "cell_type": "code",
   "execution_count": 39,
   "metadata": {},
   "outputs": [
    {
     "data": {
      "text/plain": [
       "0    3980\n",
       "1    1958\n",
       "Name: sentiment, dtype: int64"
      ]
     },
     "execution_count": 39,
     "metadata": {},
     "output_type": "execute_result"
    }
   ],
   "source": [
    "df_label_fix['sentiment'].value_counts()"
   ]
  },
  {
   "attachments": {},
   "cell_type": "markdown",
   "metadata": {},
   "source": [
    "- **df_label_raw    : dataset yang masih murni hasil dari labeling yang belum mengalami modifikasi pada masing - masing kategori sentimennya**"
   ]
  },
  {
   "cell_type": "code",
   "execution_count": 40,
   "metadata": {},
   "outputs": [
    {
     "data": {
      "text/html": [
       "<div>\n",
       "<style scoped>\n",
       "    .dataframe tbody tr th:only-of-type {\n",
       "        vertical-align: middle;\n",
       "    }\n",
       "\n",
       "    .dataframe tbody tr th {\n",
       "        vertical-align: top;\n",
       "    }\n",
       "\n",
       "    .dataframe thead th {\n",
       "        text-align: right;\n",
       "    }\n",
       "</style>\n",
       "<table border=\"1\" class=\"dataframe\">\n",
       "  <thead>\n",
       "    <tr style=\"text-align: right;\">\n",
       "      <th></th>\n",
       "      <th>date</th>\n",
       "      <th>user</th>\n",
       "      <th>tweet</th>\n",
       "      <th>sentiment</th>\n",
       "    </tr>\n",
       "  </thead>\n",
       "  <tbody>\n",
       "    <tr>\n",
       "      <th>17272</th>\n",
       "      <td>2021-07-10 22:26:59+00:00</td>\n",
       "      <td>lanangedan</td>\n",
       "      <td>Sebuah meaningful yang insightful of life dari...</td>\n",
       "      <td>1</td>\n",
       "    </tr>\n",
       "    <tr>\n",
       "      <th>14592</th>\n",
       "      <td>2021-07-19 07:55:10+00:00</td>\n",
       "      <td>alineadotid</td>\n",
       "      <td>Juru Bicara Vaksinasi Kemenkes, Siti Nadia Tar...</td>\n",
       "      <td>1</td>\n",
       "    </tr>\n",
       "    <tr>\n",
       "      <th>4059</th>\n",
       "      <td>2021-09-24 13:22:21+00:00</td>\n",
       "      <td>tribunpontianak</td>\n",
       "      <td>Kapan Covid Berakhir\\n#berita #BeritaTerkini #...</td>\n",
       "      <td>1</td>\n",
       "    </tr>\n",
       "    <tr>\n",
       "      <th>20022</th>\n",
       "      <td>2021-07-02 13:00:02+00:00</td>\n",
       "      <td>OfficialiNewsTV</td>\n",
       "      <td>Aksi dugaan pungutan liar yang dilakukan seora...</td>\n",
       "      <td>1</td>\n",
       "    </tr>\n",
       "    <tr>\n",
       "      <th>22674</th>\n",
       "      <td>2021-01-30 12:17:10+00:00</td>\n",
       "      <td>abebram82</td>\n",
       "      <td>Apa hasil #ppkm atau #psbb selama ini? Koq bis...</td>\n",
       "      <td>2</td>\n",
       "    </tr>\n",
       "    <tr>\n",
       "      <th>3094</th>\n",
       "      <td>2021-10-24 11:30:37+00:00</td>\n",
       "      <td>id_indicator</td>\n",
       "      <td>Dibukanya kembali mal dan tempat wisata, menja...</td>\n",
       "      <td>1</td>\n",
       "    </tr>\n",
       "    <tr>\n",
       "      <th>20651</th>\n",
       "      <td>2021-06-23 00:39:08+00:00</td>\n",
       "      <td>binsarroy</td>\n",
       "      <td>Covid mengganas, saatnya tegas, jangan sampai ...</td>\n",
       "      <td>2</td>\n",
       "    </tr>\n",
       "    <tr>\n",
       "      <th>3480</th>\n",
       "      <td>2021-10-12 10:04:18+00:00</td>\n",
       "      <td>mnctrijaya</td>\n",
       "      <td>#mnctrijaya #trijaya #trijayafm #trijayaupdate...</td>\n",
       "      <td>1</td>\n",
       "    </tr>\n",
       "    <tr>\n",
       "      <th>3511</th>\n",
       "      <td>2021-10-11 05:12:26+00:00</td>\n",
       "      <td>KangMuslihat8</td>\n",
       "      <td>PENYEKATAN JALUR 3 PILAR KOTA PASURUAN\\nPenyek...</td>\n",
       "      <td>1</td>\n",
       "    </tr>\n",
       "    <tr>\n",
       "      <th>18330</th>\n",
       "      <td>2021-07-07 04:21:15+00:00</td>\n",
       "      <td>KahigamaID</td>\n",
       "      <td>Meskipun pandemi COVID sudah berlangsung &amp;gt; ...</td>\n",
       "      <td>0</td>\n",
       "    </tr>\n",
       "  </tbody>\n",
       "</table>\n",
       "</div>"
      ],
      "text/plain": [
       "                            date             user                                              tweet  sentiment\n",
       "17272  2021-07-10 22:26:59+00:00       lanangedan  Sebuah meaningful yang insightful of life dari...          1\n",
       "14592  2021-07-19 07:55:10+00:00      alineadotid  Juru Bicara Vaksinasi Kemenkes, Siti Nadia Tar...          1\n",
       "4059   2021-09-24 13:22:21+00:00  tribunpontianak  Kapan Covid Berakhir\\n#berita #BeritaTerkini #...          1\n",
       "20022  2021-07-02 13:00:02+00:00  OfficialiNewsTV  Aksi dugaan pungutan liar yang dilakukan seora...          1\n",
       "22674  2021-01-30 12:17:10+00:00        abebram82  Apa hasil #ppkm atau #psbb selama ini? Koq bis...          2\n",
       "3094   2021-10-24 11:30:37+00:00     id_indicator  Dibukanya kembali mal dan tempat wisata, menja...          1\n",
       "20651  2021-06-23 00:39:08+00:00        binsarroy  Covid mengganas, saatnya tegas, jangan sampai ...          2\n",
       "3480   2021-10-12 10:04:18+00:00       mnctrijaya  #mnctrijaya #trijaya #trijayafm #trijayaupdate...          1\n",
       "3511   2021-10-11 05:12:26+00:00    KangMuslihat8  PENYEKATAN JALUR 3 PILAR KOTA PASURUAN\\nPenyek...          1\n",
       "18330  2021-07-07 04:21:15+00:00       KahigamaID  Meskipun pandemi COVID sudah berlangsung &gt; ...          0"
      ]
     },
     "execution_count": 40,
     "metadata": {},
     "output_type": "execute_result"
    }
   ],
   "source": [
    "df_label_raw = pd.read_csv(\"../dataset/INA_Augmented_TextsPPKM_Labeled_Pure.csv\", sep=\"\\t\")\n",
    "df_label_raw.columns = df_label_raw.columns.str.lower()\n",
    "df_label_raw.sample(10)\n"
   ]
  },
  {
   "cell_type": "code",
   "execution_count": 41,
   "metadata": {},
   "outputs": [
    {
     "data": {
      "text/plain": [
       "1    17706\n",
       "2     3980\n",
       "0     1958\n",
       "Name: sentiment, dtype: int64"
      ]
     },
     "execution_count": 41,
     "metadata": {},
     "output_type": "execute_result"
    }
   ],
   "source": [
    "df_label_raw['sentiment'].value_counts()"
   ]
  },
  {
   "cell_type": "code",
   "execution_count": 109,
   "metadata": {},
   "outputs": [
    {
     "data": {
      "text/html": [
       "<div>\n",
       "<style scoped>\n",
       "    .dataframe tbody tr th:only-of-type {\n",
       "        vertical-align: middle;\n",
       "    }\n",
       "\n",
       "    .dataframe tbody tr th {\n",
       "        vertical-align: top;\n",
       "    }\n",
       "\n",
       "    .dataframe thead th {\n",
       "        text-align: right;\n",
       "    }\n",
       "</style>\n",
       "<table border=\"1\" class=\"dataframe\">\n",
       "  <thead>\n",
       "    <tr style=\"text-align: right;\">\n",
       "      <th></th>\n",
       "      <th>Text</th>\n",
       "      <th>Augmented_Text</th>\n",
       "    </tr>\n",
       "  </thead>\n",
       "  <tbody>\n",
       "    <tr>\n",
       "      <th>0</th>\n",
       "      <td>saya tidak suka dengan kebijakan ini</td>\n",
       "      <td>[jika saya tidak suka dengan kebijakan semacam...</td>\n",
       "    </tr>\n",
       "    <tr>\n",
       "      <th>1</th>\n",
       "      <td>saya senang melihat semangat presiden jokowi d...</td>\n",
       "      <td>[bisa saya senang melihat betapa semangat pres...</td>\n",
       "    </tr>\n",
       "  </tbody>\n",
       "</table>\n",
       "</div>"
      ],
      "text/plain": [
       "                                                Text                                     Augmented_Text\n",
       "0               saya tidak suka dengan kebijakan ini  [jika saya tidak suka dengan kebijakan semacam...\n",
       "1  saya senang melihat semangat presiden jokowi d...  [bisa saya senang melihat betapa semangat pres..."
      ]
     },
     "execution_count": 109,
     "metadata": {},
     "output_type": "execute_result"
    }
   ],
   "source": [
    "import pandas as pd\n",
    "import nlpaug.augmenter.word as naw\n",
    "\n",
    "\n",
    "# Membuat fungsi untuk melakukan augmentasi teks\n",
    "def augment_text(text):\n",
    "    augmenter = naw.ContextualWordEmbsAug(\n",
    "        model_path=\"cahya/bert-base-indonesian-522M\", action=\"insert\"\n",
    "    )\n",
    "    augmented_text = augmenter.augment(text)\n",
    "    return augmented_text\n",
    "\n",
    "\n",
    "# Membuat DataFrame contoh\n",
    "data = {\n",
    "    \"Text\": [\n",
    "        \"saya tidak suka dengan kebijakan ini\",\n",
    "        \"saya senang melihat semangat presiden jokowi dalam bekerja\",\n",
    "    ]\n",
    "}\n",
    "df = pd.DataFrame(data)\n",
    "\n",
    "# Mengaplikasikan augmentasi teks pada DataFrame\n",
    "df[\"Augmented_Text\"] = df[\"Text\"].apply(augment_text)\n",
    "\n",
    "# Menampilkan hasil\n",
    "df\n"
   ]
  },
  {
   "cell_type": "code",
   "execution_count": 110,
   "metadata": {},
   "outputs": [
    {
     "name": "stdout",
     "output_type": "stream",
     "text": [
      "<class 'pandas.core.frame.DataFrame'>\n",
      "RangeIndex: 2 entries, 0 to 1\n",
      "Data columns (total 2 columns):\n",
      " #   Column          Non-Null Count  Dtype \n",
      "---  ------          --------------  ----- \n",
      " 0   Text            2 non-null      object\n",
      " 1   Augmented_Text  2 non-null      object\n",
      "dtypes: object(2)\n",
      "memory usage: 160.0+ bytes\n"
     ]
    }
   ],
   "source": [
    "df['Augmented_Text'] = df['Augmented_Text'].astype(str)\n",
    "df.info()"
   ]
  },
  {
   "cell_type": "code",
   "execution_count": 111,
   "metadata": {},
   "outputs": [
    {
     "name": "stdout",
     "output_type": "stream",
     "text": [
      "<class 'pandas.core.frame.DataFrame'>\n",
      "RangeIndex: 2 entries, 0 to 1\n",
      "Data columns (total 2 columns):\n",
      " #   Column          Non-Null Count  Dtype \n",
      "---  ------          --------------  ----- \n",
      " 0   Text            2 non-null      object\n",
      " 1   Augmented_Text  2 non-null      object\n",
      "dtypes: object(2)\n",
      "memory usage: 160.0+ bytes\n"
     ]
    }
   ],
   "source": [
    "df[\"Augmented_Text\"] = df[\"Augmented_Text\"].str.replace('[','').str.replace(']','')\n",
    "df[\"Augmented_Text\"] = df[\"Augmented_Text\"].str.replace(\"'\",'')\n",
    "df.info()"
   ]
  },
  {
   "cell_type": "code",
   "execution_count": 112,
   "metadata": {},
   "outputs": [
    {
     "data": {
      "text/html": [
       "<div>\n",
       "<style scoped>\n",
       "    .dataframe tbody tr th:only-of-type {\n",
       "        vertical-align: middle;\n",
       "    }\n",
       "\n",
       "    .dataframe tbody tr th {\n",
       "        vertical-align: top;\n",
       "    }\n",
       "\n",
       "    .dataframe thead th {\n",
       "        text-align: right;\n",
       "    }\n",
       "</style>\n",
       "<table border=\"1\" class=\"dataframe\">\n",
       "  <thead>\n",
       "    <tr style=\"text-align: right;\">\n",
       "      <th></th>\n",
       "      <th>Text</th>\n",
       "      <th>Augmented_Text</th>\n",
       "    </tr>\n",
       "  </thead>\n",
       "  <tbody>\n",
       "    <tr>\n",
       "      <th>0</th>\n",
       "      <td>saya tidak suka dengan kebijakan ini</td>\n",
       "      <td>jika saya tidak suka dengan kebijakan semacam ini</td>\n",
       "    </tr>\n",
       "    <tr>\n",
       "      <th>1</th>\n",
       "      <td>saya senang melihat semangat presiden jokowi d...</td>\n",
       "      <td>bisa saya senang melihat betapa semangat presi...</td>\n",
       "    </tr>\n",
       "  </tbody>\n",
       "</table>\n",
       "</div>"
      ],
      "text/plain": [
       "                                                Text                                     Augmented_Text\n",
       "0               saya tidak suka dengan kebijakan ini  jika saya tidak suka dengan kebijakan semacam ini\n",
       "1  saya senang melihat semangat presiden jokowi d...  bisa saya senang melihat betapa semangat presi..."
      ]
     },
     "execution_count": 112,
     "metadata": {},
     "output_type": "execute_result"
    }
   ],
   "source": [
    "df.head()"
   ]
  },
  {
   "cell_type": "code",
   "execution_count": 113,
   "metadata": {},
   "outputs": [
    {
     "name": "stderr",
     "output_type": "stream",
     "text": [
      "[nltk_data] Downloading package punkt to C:\\Users\\SNOW-\n",
      "[nltk_data]     WOLF\\AppData\\Roaming\\nltk_data...\n",
      "[nltk_data]   Package punkt is already up-to-date!\n"
     ]
    },
    {
     "data": {
      "text/plain": [
       "True"
      ]
     },
     "execution_count": 113,
     "metadata": {},
     "output_type": "execute_result"
    }
   ],
   "source": [
    "import string\n",
    "import re\n",
    "import nltk\n",
    "from nltk.tokenize import word_tokenize\n",
    "from nltk.probability import FreqDist\n",
    "\n",
    "# Mengunduh resource yang diperlukan oleh NLTK (Natural Language Toolkit)\n",
    "nltk.download(\"punkt\")\n"
   ]
  },
  {
   "cell_type": "code",
   "execution_count": 114,
   "metadata": {},
   "outputs": [],
   "source": [
    "def remove_special_char(text):\n",
    "    # Menghapus karakter khusus seperti tab, baris baru, dan backslash\n",
    "    text = (\n",
    "        text.replace(\"\\\\t\", \" \")\n",
    "        .replace(\"\\\\n\", \" \")\n",
    "        .replace(\"\\\\u\", \" \")\n",
    "        .replace(\"\\\\\", \"\")\n",
    "    )\n",
    "    # Menghapus karakter non-ASCII seperti emotikon\n",
    "    text = text.encode(\"ASCII\", \"replace\").decode(\"ASCII\")\n",
    "    # Menghapus mention, link, dan hashtag\n",
    "    text = \" \".join(re.sub(\"([@#][A-Za-z0-9]+)|(\\w+:\\/\\/\\S+)\", \" \", text).split())\n",
    "    # Menghapus URL yang tidak lengkap\n",
    "    return text.replace(\"http://\", \" \").replace(\"https://\", \" \")\n",
    "\n",
    "\n",
    "def remove_number(text):\n",
    "    # Menghapus angka dari teks\n",
    "    return re.sub(r\"\\d+\", \"\", text)\n",
    "\n",
    "\n",
    "def remove_punctuation(text):\n",
    "    # Menghapus tanda baca dari teks\n",
    "    return text.translate(str.maketrans(\"\", \"\", string.punctuation))\n",
    "\n",
    "\n",
    "def remove_whitespace(text):\n",
    "    # Menghapus spasi di awal dan akhir teks\n",
    "    return text.strip()\n",
    "\n",
    "\n",
    "def remove_multiple_whitespace(text):\n",
    "    # Menghapus multiple whitespace menjadi satu spasi\n",
    "    return re.sub(\"\\s+\", \" \", text)\n",
    "\n",
    "\n",
    "def remove_single_char(text):\n",
    "    # Menghapus kata yang terdiri dari satu karakter saja\n",
    "    return re.sub(r\"\\b[a-zA-Z]\\b\", \"\", text)\n",
    "\n",
    "\n",
    "def tokenize(text):\n",
    "    # Melakukan tokenisasi kata pada teks menggunakan NLTK\n",
    "    return word_tokenize(text)\n"
   ]
  },
  {
   "cell_type": "code",
   "execution_count": 115,
   "metadata": {},
   "outputs": [
    {
     "data": {
      "text/html": [
       "<div>\n",
       "<style scoped>\n",
       "    .dataframe tbody tr th:only-of-type {\n",
       "        vertical-align: middle;\n",
       "    }\n",
       "\n",
       "    .dataframe tbody tr th {\n",
       "        vertical-align: top;\n",
       "    }\n",
       "\n",
       "    .dataframe thead th {\n",
       "        text-align: right;\n",
       "    }\n",
       "</style>\n",
       "<table border=\"1\" class=\"dataframe\">\n",
       "  <thead>\n",
       "    <tr style=\"text-align: right;\">\n",
       "      <th></th>\n",
       "      <th>Text</th>\n",
       "      <th>Augmented_Text</th>\n",
       "    </tr>\n",
       "  </thead>\n",
       "  <tbody>\n",
       "    <tr>\n",
       "      <th>0</th>\n",
       "      <td>saya tidak suka dengan kebijakan ini</td>\n",
       "      <td>[jika, saya, tidak, suka, dengan, kebijakan, s...</td>\n",
       "    </tr>\n",
       "    <tr>\n",
       "      <th>1</th>\n",
       "      <td>saya senang melihat semangat presiden jokowi d...</td>\n",
       "      <td>[bisa, saya, senang, melihat, betapa, semangat...</td>\n",
       "    </tr>\n",
       "  </tbody>\n",
       "</table>\n",
       "</div>"
      ],
      "text/plain": [
       "                                                Text                                     Augmented_Text\n",
       "0               saya tidak suka dengan kebijakan ini  [jika, saya, tidak, suka, dengan, kebijakan, s...\n",
       "1  saya senang melihat semangat presiden jokowi d...  [bisa, saya, senang, melihat, betapa, semangat..."
      ]
     },
     "execution_count": 115,
     "metadata": {},
     "output_type": "execute_result"
    }
   ],
   "source": [
    "# Mengaplikasikan fungsi remove_special_char pada kolom 'Augmented_Text'\n",
    "df[\"Augmented_Text\"] = df[\"Augmented_Text\"].map(remove_special_char)\n",
    "\n",
    "# Mengaplikasikan fungsi remove_number pada kolom 'Augmented_Text'\n",
    "df[\"Augmented_Text\"] = df[\"Augmented_Text\"].map(remove_number)\n",
    "\n",
    "# Mengaplikasikan fungsi remove_punctuation pada kolom 'Augmented_Text'\n",
    "df[\"Augmented_Text\"] = df[\"Augmented_Text\"].map(remove_punctuation)\n",
    "\n",
    "# Mengaplikasikan fungsi remove_whitespace pada kolom 'Augmented_Text'\n",
    "df[\"Augmented_Text\"] = df[\"Augmented_Text\"].map(remove_whitespace)\n",
    "\n",
    "# Mengaplikasikan fungsi remove_multiple_whitespace pada kolom 'Augmented_Text'\n",
    "df[\"Augmented_Text\"] = df[\"Augmented_Text\"].map(remove_multiple_whitespace)\n",
    "\n",
    "# Mengaplikasikan fungsi remove_single_char pada kolom 'Augmented_Text'\n",
    "df[\"Augmented_Text\"] = df[\"Augmented_Text\"].map(remove_single_char)\n",
    "\n",
    "# Mengaplikasikan fungsi tokenize pada kolom 'Augmented_Text'\n",
    "df[\"Augmented_Text\"] = df[\"Augmented_Text\"].map(tokenize)\n",
    "\n",
    "# Menampilkan lima baris pertama dari DataFrame setelah dilakukan preprocessing teks\n",
    "df.head()\n"
   ]
  }
 ],
 "metadata": {
  "kernelspec": {
   "display_name": "env",
   "language": "python",
   "name": "python3"
  },
  "language_info": {
   "codemirror_mode": {
    "name": "ipython",
    "version": 3
   },
   "file_extension": ".py",
   "mimetype": "text/x-python",
   "name": "python",
   "nbconvert_exporter": "python",
   "pygments_lexer": "ipython3",
   "version": "3.10.7"
  },
  "orig_nbformat": 4
 },
 "nbformat": 4,
 "nbformat_minor": 2
}
