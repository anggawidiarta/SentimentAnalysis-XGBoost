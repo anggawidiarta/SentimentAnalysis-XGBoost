{
 "cells": [
  {
   "cell_type": "code",
   "execution_count": 14,
   "metadata": {},
   "outputs": [],
   "source": [
    "import pandas as pd\n",
    "import warnings\n",
    "import nlpaug.augmenter.word as naw\n",
    "\n",
    "\n",
    "# Mengabaikan peringatan yang muncul\n",
    "warnings.simplefilter(\"ignore\")\n",
    "\n",
    "# Mengatur opsi pandas untuk menampilkan maksimal 500 kolom dalam output\n",
    "pd.set_option(\"display.max_columns\", 1000)\n",
    "\n",
    "# Mengatur lebar tampilan output menjadi 1000 karakter\n",
    "pd.set_option(\"display.width\", 5000)\n"
   ]
  },
  {
   "cell_type": "code",
   "execution_count": 2,
   "metadata": {},
   "outputs": [],
   "source": [
    "# Membuat fungsi untuk melakukan augmentasi teks\n",
    "def augment_text(text):\n",
    "    # Membuat objek augmenter menggunakan model BERT bahasa Indonesia\n",
    "    augmenter = naw.ContextualWordEmbsAug(\n",
    "        model_path=\"cahya/bert-base-indonesian-522M\", action=\"substitute\"\n",
    "    )\n",
    "\n",
    "    # Melakukan augmentasi teks\n",
    "    augmented_text = augmenter.augment(text)\n",
    "\n",
    "    # Mengembalikan teks yang telah diaugmentasi\n",
    "    return augmented_text\n"
   ]
  },
  {
   "cell_type": "code",
   "execution_count": 3,
   "metadata": {},
   "outputs": [
    {
     "data": {
      "text/html": [
       "<div>\n",
       "<style scoped>\n",
       "    .dataframe tbody tr th:only-of-type {\n",
       "        vertical-align: middle;\n",
       "    }\n",
       "\n",
       "    .dataframe tbody tr th {\n",
       "        vertical-align: top;\n",
       "    }\n",
       "\n",
       "    .dataframe thead th {\n",
       "        text-align: right;\n",
       "    }\n",
       "</style>\n",
       "<table border=\"1\" class=\"dataframe\">\n",
       "  <thead>\n",
       "    <tr style=\"text-align: right;\">\n",
       "      <th></th>\n",
       "      <th>Date</th>\n",
       "      <th>User</th>\n",
       "      <th>Tweet</th>\n",
       "      <th>sentiment</th>\n",
       "    </tr>\n",
       "  </thead>\n",
       "  <tbody>\n",
       "    <tr>\n",
       "      <th>0</th>\n",
       "      <td>2022-03-26 04:51:44+00:00</td>\n",
       "      <td>CendekiaDelapan</td>\n",
       "      <td>Karena stimulasi untuk #anakberkebutuhankhusus...</td>\n",
       "      <td>0</td>\n",
       "    </tr>\n",
       "    <tr>\n",
       "      <th>1</th>\n",
       "      <td>2022-03-25 10:13:26+00:00</td>\n",
       "      <td>AnantaElvano</td>\n",
       "      <td>Hadir Kembali Boss!! MEGA WIN Dari https://t.c...</td>\n",
       "      <td>1</td>\n",
       "    </tr>\n",
       "    <tr>\n",
       "      <th>2</th>\n",
       "      <td>2022-03-23 23:15:45+00:00</td>\n",
       "      <td>mitrafmpwt</td>\n",
       "      <td>Hayolohhhhhhhhh... seneng kannnn??\\n\\n#covid19...</td>\n",
       "      <td>1</td>\n",
       "    </tr>\n",
       "    <tr>\n",
       "      <th>3</th>\n",
       "      <td>2022-03-23 10:29:52+00:00</td>\n",
       "      <td>895jizfm</td>\n",
       "      <td>Thank You teman-teman dari #saganheritagehotel...</td>\n",
       "      <td>1</td>\n",
       "    </tr>\n",
       "    <tr>\n",
       "      <th>4</th>\n",
       "      <td>2022-03-22 17:25:29+00:00</td>\n",
       "      <td>ViantAntony</td>\n",
       "      <td>Ruwet Ruwet Ruwet inilah Negeri RuwetNesia. He...</td>\n",
       "      <td>1</td>\n",
       "    </tr>\n",
       "  </tbody>\n",
       "</table>\n",
       "</div>"
      ],
      "text/plain": [
       "                        Date             User                                              Tweet  sentiment\n",
       "0  2022-03-26 04:51:44+00:00  CendekiaDelapan  Karena stimulasi untuk #anakberkebutuhankhusus...          0\n",
       "1  2022-03-25 10:13:26+00:00     AnantaElvano  Hadir Kembali Boss!! MEGA WIN Dari https://t.c...          1\n",
       "2  2022-03-23 23:15:45+00:00       mitrafmpwt  Hayolohhhhhhhhh... seneng kannnn??\\n\\n#covid19...          1\n",
       "3  2022-03-23 10:29:52+00:00         895jizfm  Thank You teman-teman dari #saganheritagehotel...          1\n",
       "4  2022-03-22 17:25:29+00:00      ViantAntony  Ruwet Ruwet Ruwet inilah Negeri RuwetNesia. He...          1"
      ]
     },
     "execution_count": 3,
     "metadata": {},
     "output_type": "execute_result"
    }
   ],
   "source": [
    "# Membaca file dataset dengan menggunakan pandas\n",
    "df = pd.read_csv(\"../dataset/INA_TweetsPPKM_Labeled_PosNeg.csv\", sep=\"\\t\")\n",
    "\n",
    "# Menampilkan 5 baris pertama dari dataset\n",
    "df.head()\n"
   ]
  },
  {
   "cell_type": "code",
   "execution_count": 4,
   "metadata": {},
   "outputs": [],
   "source": [
    "# Mengubah semua nama kolom menjadi huruf kecil\n",
    "df.columns = df.columns.str.lower()\n",
    "\n",
    "# Menghapus kolom 'date' dan 'user' dari DataFrame\n",
    "df.drop([\"date\", \"user\"], axis=1, inplace=True)\n"
   ]
  },
  {
   "cell_type": "code",
   "execution_count": 5,
   "metadata": {},
   "outputs": [
    {
     "data": {
      "text/html": [
       "<div>\n",
       "<style scoped>\n",
       "    .dataframe tbody tr th:only-of-type {\n",
       "        vertical-align: middle;\n",
       "    }\n",
       "\n",
       "    .dataframe tbody tr th {\n",
       "        vertical-align: top;\n",
       "    }\n",
       "\n",
       "    .dataframe thead th {\n",
       "        text-align: right;\n",
       "    }\n",
       "</style>\n",
       "<table border=\"1\" class=\"dataframe\">\n",
       "  <thead>\n",
       "    <tr style=\"text-align: right;\">\n",
       "      <th></th>\n",
       "      <th>tweet</th>\n",
       "      <th>sentiment</th>\n",
       "    </tr>\n",
       "  </thead>\n",
       "  <tbody>\n",
       "    <tr>\n",
       "      <th>4308</th>\n",
       "      <td>Yg namanya peraturan itu pasti memberatkan bro...</td>\n",
       "      <td>1</td>\n",
       "    </tr>\n",
       "    <tr>\n",
       "      <th>5201</th>\n",
       "      <td>Ya Allah aku pengen liburan, tapi kenapa mau l...</td>\n",
       "      <td>1</td>\n",
       "    </tr>\n",
       "    <tr>\n",
       "      <th>2876</th>\n",
       "      <td>Terpujilah para bapak yang membagi kebahagiaan...</td>\n",
       "      <td>1</td>\n",
       "    </tr>\n",
       "    <tr>\n",
       "      <th>240</th>\n",
       "      <td>#PPKM dirumah sangat bermanfaat sekali untuk m...</td>\n",
       "      <td>1</td>\n",
       "    </tr>\n",
       "    <tr>\n",
       "      <th>2096</th>\n",
       "      <td>History made!!\\n\\nFirst gold medal in women’s ...</td>\n",
       "      <td>1</td>\n",
       "    </tr>\n",
       "  </tbody>\n",
       "</table>\n",
       "</div>"
      ],
      "text/plain": [
       "                                                  tweet  sentiment\n",
       "4308  Yg namanya peraturan itu pasti memberatkan bro...          1\n",
       "5201  Ya Allah aku pengen liburan, tapi kenapa mau l...          1\n",
       "2876  Terpujilah para bapak yang membagi kebahagiaan...          1\n",
       "240   #PPKM dirumah sangat bermanfaat sekali untuk m...          1\n",
       "2096  History made!!\\n\\nFirst gold medal in women’s ...          1"
      ]
     },
     "execution_count": 5,
     "metadata": {},
     "output_type": "execute_result"
    }
   ],
   "source": [
    "# Membuat DataFrame baru yang hanya berisi data dengan sentimen positif (nilai sentimen bukan 0)\n",
    "df_pos = df.loc[df['sentiment'] != 0]\n",
    "\n",
    "# Mengambil sampel acak sebanyak 5 baris dari DataFrame df_pos\n",
    "df_pos.sample(5)\n"
   ]
  },
  {
   "cell_type": "code",
   "execution_count": 6,
   "metadata": {},
   "outputs": [],
   "source": [
    "# Menerapkan fungsi augmentasi teks pada kolom 'tweet' dan menyimpan hasilnya dalam kolom 'augmented_text' pada DataFrame df_pos\n",
    "df_pos[\"augmented_text\"] = df[\"tweet\"].apply(augment_text)\n"
   ]
  },
  {
   "cell_type": "code",
   "execution_count": 15,
   "metadata": {},
   "outputs": [
    {
     "data": {
      "text/html": [
       "<div>\n",
       "<style scoped>\n",
       "    .dataframe tbody tr th:only-of-type {\n",
       "        vertical-align: middle;\n",
       "    }\n",
       "\n",
       "    .dataframe tbody tr th {\n",
       "        vertical-align: top;\n",
       "    }\n",
       "\n",
       "    .dataframe thead th {\n",
       "        text-align: right;\n",
       "    }\n",
       "</style>\n",
       "<table border=\"1\" class=\"dataframe\">\n",
       "  <thead>\n",
       "    <tr style=\"text-align: right;\">\n",
       "      <th></th>\n",
       "      <th>tweet</th>\n",
       "      <th>sentiment</th>\n",
       "      <th>augmented_text</th>\n",
       "    </tr>\n",
       "  </thead>\n",
       "  <tbody>\n",
       "    <tr>\n",
       "      <th>1</th>\n",
       "      <td>Hadir Kembali Boss!! MEGA WIN Dari https://t.c...</td>\n",
       "      <td>1</td>\n",
       "      <td>[bawa kembali boss!! mega win di https : / / t...</td>\n",
       "    </tr>\n",
       "    <tr>\n",
       "      <th>2</th>\n",
       "      <td>Hayolohhhhhhhhh... seneng kannnn??\\n\\n#covid19...</td>\n",
       "      <td>1</td>\n",
       "      <td>[fm... dj kapan?? # digital # corona # digital...</td>\n",
       "    </tr>\n",
       "    <tr>\n",
       "      <th>3</th>\n",
       "      <td>Thank You teman-teman dari #saganheritagehotel...</td>\n",
       "      <td>1</td>\n",
       "      <td>[thank 2016 bersama - teman dari # 1 sudah mam...</td>\n",
       "    </tr>\n",
       "  </tbody>\n",
       "</table>\n",
       "</div>"
      ],
      "text/plain": [
       "                                               tweet  sentiment                                     augmented_text\n",
       "1  Hadir Kembali Boss!! MEGA WIN Dari https://t.c...          1  [bawa kembali boss!! mega win di https : / / t...\n",
       "2  Hayolohhhhhhhhh... seneng kannnn??\\n\\n#covid19...          1  [fm... dj kapan?? # digital # corona # digital...\n",
       "3  Thank You teman-teman dari #saganheritagehotel...          1  [thank 2016 bersama - teman dari # 1 sudah mam..."
      ]
     },
     "execution_count": 15,
     "metadata": {},
     "output_type": "execute_result"
    }
   ],
   "source": [
    "df_pos.head(3)\n"
   ]
  },
  {
   "cell_type": "code",
   "execution_count": 10,
   "metadata": {},
   "outputs": [],
   "source": [
    "import dataframe_image as dfi\n",
    "\n",
    "df_pos_augmen_ss = df_pos.head(3)\n",
    "dfi.export(df_pos_augmen_ss,'../img/dataframe_augstem_contoh.png',max_cols=10)\n"
   ]
  },
  {
   "cell_type": "code",
   "execution_count": 7,
   "metadata": {},
   "outputs": [
    {
     "data": {
      "text/html": [
       "<div>\n",
       "<style scoped>\n",
       "    .dataframe tbody tr th:only-of-type {\n",
       "        vertical-align: middle;\n",
       "    }\n",
       "\n",
       "    .dataframe tbody tr th {\n",
       "        vertical-align: top;\n",
       "    }\n",
       "\n",
       "    .dataframe thead th {\n",
       "        text-align: right;\n",
       "    }\n",
       "</style>\n",
       "<table border=\"1\" class=\"dataframe\">\n",
       "  <thead>\n",
       "    <tr style=\"text-align: right;\">\n",
       "      <th></th>\n",
       "      <th>tweet</th>\n",
       "      <th>sentiment</th>\n",
       "    </tr>\n",
       "  </thead>\n",
       "  <tbody>\n",
       "    <tr>\n",
       "      <th>1</th>\n",
       "      <td>datang kembali boss!! mega win square https : ...</td>\n",
       "      <td>1</td>\n",
       "    </tr>\n",
       "    <tr>\n",
       "      <th>2</th>\n",
       "      <td>m... aja kannnn?? # 10 # 06 # html # com # 201...</td>\n",
       "      <td>1</td>\n",
       "    </tr>\n",
       "    <tr>\n",
       "      <th>3</th>\n",
       "      <td>juni 2017 teman - teman dari # saganheritageho...</td>\n",
       "      <td>1</td>\n",
       "    </tr>\n",
       "    <tr>\n",
       "      <th>4</th>\n",
       "      <td>ruwet ruwet seperti inilah dari ruwetnesia. he...</td>\n",
       "      <td>1</td>\n",
       "    </tr>\n",
       "    <tr>\n",
       "      <th>10</th>\n",
       "      <td>film ftv atau sinetron habaib. ii dah. # bekas...</td>\n",
       "      <td>1</td>\n",
       "    </tr>\n",
       "  </tbody>\n",
       "</table>\n",
       "</div>"
      ],
      "text/plain": [
       "                                                tweet  sentiment\n",
       "1   datang kembali boss!! mega win square https : ...          1\n",
       "2   m... aja kannnn?? # 10 # 06 # html # com # 201...          1\n",
       "3   juni 2017 teman - teman dari # saganheritageho...          1\n",
       "4   ruwet ruwet seperti inilah dari ruwetnesia. he...          1\n",
       "10  film ftv atau sinetron habaib. ii dah. # bekas...          1"
      ]
     },
     "execution_count": 7,
     "metadata": {},
     "output_type": "execute_result"
    }
   ],
   "source": [
    "# Membuat salinan DataFrame df_pos dan menyimpannya dalam df_pos_augmen\n",
    "df_pos_augmen = df_pos.copy()\n",
    "\n",
    "# Mengubah kolom 'augmented_text' menjadi tipe data string pada DataFrame df_pos_augmen\n",
    "df_pos_augmen[\"tweet\"] = df_pos_augmen[\"augmented_text\"].astype(str)\n",
    "\n",
    "# Menghapus karakter '[' dan ']' pada kolom 'tweet' pada DataFrame df_pos_augmen\n",
    "df_pos_augmen[\"tweet\"] = (\n",
    "    df_pos_augmen[\"tweet\"].str.replace(\"[\", \"\").str.replace(\"]\", \"\")\n",
    ")\n",
    "\n",
    "# Menghapus karakter \"'\" pada kolom 'tweet' pada DataFrame df_pos_augmen\n",
    "df_pos_augmen[\"tweet\"] = df_pos_augmen[\"tweet\"].str.replace(\"'\", \"\")\n",
    "\n",
    "# Menghapus kolom 'augmented_text' dari DataFrame df_pos_augmen\n",
    "df_pos_augmen.drop(\"augmented_text\", inplace=True, axis=1)\n",
    "\n",
    "# Menampilkan 5 baris pertama dari DataFrame df_pos_augmen\n",
    "df_pos_augmen.head()\n"
   ]
  },
  {
   "cell_type": "code",
   "execution_count": 8,
   "metadata": {},
   "outputs": [],
   "source": [
    "# Menampilkan 5 baris pertama dari DataFrame df_pos\n",
    "df_pos.head()\n",
    "\n",
    "# Menghapus kolom 'augmented_text' dari DataFrame df_pos\n",
    "df_pos.drop(\"augmented_text\", inplace=True, axis=1)\n"
   ]
  },
  {
   "cell_type": "code",
   "execution_count": 9,
   "metadata": {},
   "outputs": [
    {
     "data": {
      "text/plain": [
       "(3916, 2)"
      ]
     },
     "execution_count": 9,
     "metadata": {},
     "output_type": "execute_result"
    }
   ],
   "source": [
    "# Menggabungkan dataframe, dataframe yang digabungkan merupakan dataframe dengan sentimen positif saja\n",
    "df = pd.concat([df_pos, df_pos_augmen], ignore_index=True)\n",
    "# Tampilkan jumlah rows pada dataframe dengan jenis sentimen positif, jumlahnya hampir sama dengan data pada kategori sentimen negatif\n",
    "df.shape\n"
   ]
  },
  {
   "cell_type": "code",
   "execution_count": 10,
   "metadata": {},
   "outputs": [
    {
     "data": {
      "text/plain": [
       "0    3980\n",
       "1    1958\n",
       "Name: sentiment, dtype: int64"
      ]
     },
     "execution_count": 10,
     "metadata": {},
     "output_type": "execute_result"
    }
   ],
   "source": [
    "df_neg = pd.read_csv(\"../dataset/INA_TweetsPPKM_Labeled_PosNeg.csv\", sep=\"\\t\")\n",
    "df_neg.columns = df_neg.columns.str.lower()\n",
    "df_neg['sentiment'].value_counts()\n"
   ]
  },
  {
   "cell_type": "code",
   "execution_count": 11,
   "metadata": {},
   "outputs": [
    {
     "data": {
      "text/plain": [
       "(3980, 2)"
      ]
     },
     "execution_count": 11,
     "metadata": {},
     "output_type": "execute_result"
    }
   ],
   "source": [
    "df_neg = df_neg.loc[df_neg[\"sentiment\"] != 1]\n",
    "df_neg.drop([\"user\", \"date\"], inplace=True, axis=1)\n",
    "df_neg.shape\n"
   ]
  },
  {
   "cell_type": "code",
   "execution_count": 12,
   "metadata": {},
   "outputs": [
    {
     "data": {
      "text/plain": [
       "(7896, 2)"
      ]
     },
     "execution_count": 12,
     "metadata": {},
     "output_type": "execute_result"
    }
   ],
   "source": [
    "df_augmen = pd.concat([df,df_neg],ignore_index=True)\n",
    "df_augmen.shape"
   ]
  },
  {
   "cell_type": "code",
   "execution_count": 13,
   "metadata": {},
   "outputs": [],
   "source": [
    "df_augmen.to_csv(\"../dataset/INA_TweetsPPKM_LabeledSubstitute_Augmented.csv\", sep=\"\\t\", index=False)\n"
   ]
  }
 ],
 "metadata": {
  "kernelspec": {
   "display_name": "env",
   "language": "python",
   "name": "python3"
  },
  "language_info": {
   "codemirror_mode": {
    "name": "ipython",
    "version": 3
   },
   "file_extension": ".py",
   "mimetype": "text/x-python",
   "name": "python",
   "nbconvert_exporter": "python",
   "pygments_lexer": "ipython3",
   "version": "3.10.7"
  },
  "orig_nbformat": 4
 },
 "nbformat": 4,
 "nbformat_minor": 2
}
