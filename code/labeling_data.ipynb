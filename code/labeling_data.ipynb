{
 "cells": [
  {
   "cell_type": "code",
   "execution_count": 2,
   "metadata": {},
   "outputs": [
    {
     "name": "stderr",
     "output_type": "stream",
     "text": [
      "g:\\CodeWarehouse\\project-skripsi\\env\\lib\\site-packages\\tqdm\\auto.py:22: TqdmWarning: IProgress not found. Please update jupyter and ipywidgets. See https://ipywidgets.readthedocs.io/en/stable/user_install.html\n",
      "  from .autonotebook import tqdm as notebook_tqdm\n"
     ]
    }
   ],
   "source": [
    "import pandas as pd\n",
    "import torch\n",
    "from transformers import (\n",
    "    AutoTokenizer,\n",
    "    AutoModelForSequenceClassification,\n",
    ")\n",
    "import numpy as np\n"
   ]
  },
  {
   "cell_type": "code",
   "execution_count": 3,
   "metadata": {},
   "outputs": [],
   "source": [
    "# displaying strings in all col with 255 range\n",
    "pd.set_option(\"display.max_colwidth\", 155)\n"
   ]
  },
  {
   "cell_type": "code",
   "execution_count": 35,
   "metadata": {},
   "outputs": [
    {
     "name": "stderr",
     "output_type": "stream",
     "text": [
      "Downloading (…)okenizer_config.json: 100%|██████████| 522/522 [00:00<?, ?B/s] \n",
      "Downloading (…)solve/main/vocab.txt: 100%|██████████| 229k/229k [00:00<00:00, 395kB/s]\n",
      "Downloading (…)/main/tokenizer.json: 100%|██████████| 709k/709k [00:00<00:00, 1.78MB/s]\n",
      "Downloading (…)cial_tokens_map.json: 100%|██████████| 112/112 [00:00<00:00, 113kB/s]\n",
      "Downloading (…)lve/main/config.json: 100%|██████████| 1.09k/1.09k [00:00<?, ?B/s]\n",
      "Downloading pytorch_model.bin: 100%|██████████| 498M/498M [04:43<00:00, 1.76MB/s]\n"
     ]
    }
   ],
   "source": [
    "# using transformer model to clasifying the tweets dataset (indoBERT transform model, paper availabel)\n",
    "tokenizer = AutoTokenizer.from_pretrained(\"afbudiman/indobert-classification\")\n",
    "model = AutoModelForSequenceClassification.from_pretrained(\n",
    "    \"afbudiman/indobert-classification\"\n",
    ")\n"
   ]
  },
  {
   "cell_type": "code",
   "execution_count": 25,
   "metadata": {},
   "outputs": [],
   "source": [
    "# read the dataset that i've got from crawling using snscrape library, dataset crawled from 01-04-2020 - 01-04-2022\n",
    "df = pd.read_csv(\"../dataset/twitter_ppkm_dataset.csv\", sep=\"\\t\")\n"
   ]
  },
  {
   "cell_type": "code",
   "execution_count": 26,
   "metadata": {},
   "outputs": [],
   "source": [
    "df[\"Sentiment\"] = \" \"\n"
   ]
  },
  {
   "attachments": {},
   "cell_type": "markdown",
   "metadata": {},
   "source": [
    "### Labeling Tweets Dataset; Model = indoBert\n"
   ]
  },
  {
   "cell_type": "code",
   "execution_count": 37,
   "metadata": {},
   "outputs": [],
   "source": [
    "for index, row in df.iterrows():\n",
    "    tweet = row[\"Tweet\"]\n",
    "\n",
    "    encoded_input = tokenizer.encode_plus(\n",
    "        tweet,\n",
    "        max_length=128,\n",
    "        padding=\"max_length\",\n",
    "        truncation=True,\n",
    "        return_tensors=\"pt\",\n",
    "    )\n",
    "\n",
    "    device = torch.device(\"cuda\" if torch.cuda.is_available() else \"cpu\")\n",
    "    model = model.to(device)\n",
    "\n",
    "    with torch.no_grad():\n",
    "        input_ids = encoded_input[\"input_ids\"].to(device)\n",
    "        attention_mask = encoded_input[\"attention_mask\"].to(device)\n",
    "        outputs = model(input_ids, attention_mask=attention_mask)\n",
    "        logits = outputs.logits\n",
    "\n",
    "    predicted_label = torch.argmax(logits, dim=1).item()\n",
    "    df.at[index, \"sentiment\"] = predicted_label\n"
   ]
  },
  {
   "cell_type": "code",
   "execution_count": 38,
   "metadata": {},
   "outputs": [],
   "source": [
    "df.to_csv(\n",
    "    r\"../dataset/tweets_labeled_new.csv\",\n",
    "    index=False,\n",
    "    sep=\"\\t\",\n",
    "    encoding=\"utf-8\",\n",
    "    header=\"true\",\n",
    ")\n"
   ]
  },
  {
   "cell_type": "code",
   "execution_count": 47,
   "metadata": {},
   "outputs": [],
   "source": [
    "df[\"sentiment\"] = df[\"sentiment\"].astype(int)\n"
   ]
  },
  {
   "cell_type": "code",
   "execution_count": 48,
   "metadata": {},
   "outputs": [
    {
     "data": {
      "text/html": [
       "<div>\n",
       "<style scoped>\n",
       "    .dataframe tbody tr th:only-of-type {\n",
       "        vertical-align: middle;\n",
       "    }\n",
       "\n",
       "    .dataframe tbody tr th {\n",
       "        vertical-align: top;\n",
       "    }\n",
       "\n",
       "    .dataframe thead th {\n",
       "        text-align: right;\n",
       "    }\n",
       "</style>\n",
       "<table border=\"1\" class=\"dataframe\">\n",
       "  <thead>\n",
       "    <tr style=\"text-align: right;\">\n",
       "      <th></th>\n",
       "      <th>Date</th>\n",
       "      <th>User</th>\n",
       "      <th>Tweet</th>\n",
       "      <th>Sentiment</th>\n",
       "    </tr>\n",
       "    <tr>\n",
       "      <th>sentiment</th>\n",
       "      <th></th>\n",
       "      <th></th>\n",
       "      <th></th>\n",
       "      <th></th>\n",
       "    </tr>\n",
       "  </thead>\n",
       "  <tbody>\n",
       "    <tr>\n",
       "      <th>0</th>\n",
       "      <td>1860</td>\n",
       "      <td>1860</td>\n",
       "      <td>1860</td>\n",
       "      <td>1860</td>\n",
       "    </tr>\n",
       "    <tr>\n",
       "      <th>1</th>\n",
       "      <td>15309</td>\n",
       "      <td>15309</td>\n",
       "      <td>15309</td>\n",
       "      <td>15309</td>\n",
       "    </tr>\n",
       "    <tr>\n",
       "      <th>2</th>\n",
       "      <td>3874</td>\n",
       "      <td>3874</td>\n",
       "      <td>3874</td>\n",
       "      <td>3874</td>\n",
       "    </tr>\n",
       "  </tbody>\n",
       "</table>\n",
       "</div>"
      ],
      "text/plain": [
       "            Date   User  Tweet  Sentiment\n",
       "sentiment                                \n",
       "0           1860   1860   1860       1860\n",
       "1          15309  15309  15309      15309\n",
       "2           3874   3874   3874       3874"
      ]
     },
     "execution_count": 48,
     "metadata": {},
     "output_type": "execute_result"
    }
   ],
   "source": [
    "df.groupby([\"sentiment\"]).count()\n"
   ]
  },
  {
   "cell_type": "code",
   "execution_count": 3,
   "metadata": {},
   "outputs": [],
   "source": [
    "df[\"Sentiment\"] = df[\"sentiment\"].astype(int)\n"
   ]
  },
  {
   "attachments": {},
   "cell_type": "markdown",
   "metadata": {},
   "source": [
    "### **_Prune Dataset To 10.000_**\n",
    "\n",
    "> _cut the number of datasets to be used from 20 thousand to 10 thousand_\n"
   ]
  },
  {
   "attachments": {},
   "cell_type": "markdown",
   "metadata": {},
   "source": [
    "_<p>code di bawah berikut berfungsi untuk merubah label pada dataset yang telah dilabeli sebelumnya dan mengatur ukuran dataset sebelumnya ke jumlah baru yang diinginkan pada dataset baru di bawah ini</p>_\n",
    "\n",
    "**_<p>label : 1 (positive) & 0 (negative)</p>_**\n"
   ]
  },
  {
   "cell_type": "code",
   "execution_count": 5,
   "metadata": {},
   "outputs": [
    {
     "data": {
      "text/html": [
       "<div>\n",
       "<style scoped>\n",
       "    .dataframe tbody tr th:only-of-type {\n",
       "        vertical-align: middle;\n",
       "    }\n",
       "\n",
       "    .dataframe tbody tr th {\n",
       "        vertical-align: top;\n",
       "    }\n",
       "\n",
       "    .dataframe thead th {\n",
       "        text-align: right;\n",
       "    }\n",
       "</style>\n",
       "<table border=\"1\" class=\"dataframe\">\n",
       "  <thead>\n",
       "    <tr style=\"text-align: right;\">\n",
       "      <th></th>\n",
       "      <th>Date</th>\n",
       "      <th>User</th>\n",
       "      <th>Tweet</th>\n",
       "      <th>Sentiment</th>\n",
       "    </tr>\n",
       "  </thead>\n",
       "  <tbody>\n",
       "    <tr>\n",
       "      <th>0</th>\n",
       "      <td>2022-03-26 12:51:44</td>\n",
       "      <td>CendekiaDelapan</td>\n",
       "      <td>Karena stimulasi untuk #anakberkebutuhankhusus tidak optimal jika dilakukan secara online.\\n. \\nUntuk memenuhi kebutuhan tersebut, #RumahCendekia8 teta...</td>\n",
       "      <td>2</td>\n",
       "    </tr>\n",
       "    <tr>\n",
       "      <th>1</th>\n",
       "      <td>2022-03-23 01:10:09</td>\n",
       "      <td>ViantAntony</td>\n",
       "      <td>Ye ampun mbh anda seorang Wapres loh.&amp;amp;Gelar anda seorang kiyai @Kiyai_MarufAmin Knp anda terus membebani rakyatnya dengan cara2 licik sperti ini.N ...</td>\n",
       "      <td>2</td>\n",
       "    </tr>\n",
       "    <tr>\n",
       "      <th>2</th>\n",
       "      <td>2022-03-22 21:10:19</td>\n",
       "      <td>mtaufikmJKT48</td>\n",
       "      <td>Mulaik kumat lagi. 😀 #ppkm https://t.co/MNDSPHJU69</td>\n",
       "      <td>2</td>\n",
       "    </tr>\n",
       "    <tr>\n",
       "      <th>3</th>\n",
       "      <td>2022-03-22 15:43:24</td>\n",
       "      <td>PunditPintar</td>\n",
       "      <td>Welcome PPKM bau bau naik level nih, gimana nih mang\\n#ppkm</td>\n",
       "      <td>2</td>\n",
       "    </tr>\n",
       "    <tr>\n",
       "      <th>4</th>\n",
       "      <td>2022-03-22 15:30:34</td>\n",
       "      <td>PYI_Indonesia</td>\n",
       "      <td>Sesungguhnya Allah tidak menciptakan kita, hambaNya ini, sebagai makhluk yang lemah lagi mudah berputus asa. Kita sebagai manusia diciptakan Allah seba...</td>\n",
       "      <td>2</td>\n",
       "    </tr>\n",
       "  </tbody>\n",
       "</table>\n",
       "</div>"
      ],
      "text/plain": [
       "                 Date             User  \\\n",
       "0 2022-03-26 12:51:44  CendekiaDelapan   \n",
       "1 2022-03-23 01:10:09      ViantAntony   \n",
       "2 2022-03-22 21:10:19    mtaufikmJKT48   \n",
       "3 2022-03-22 15:43:24     PunditPintar   \n",
       "4 2022-03-22 15:30:34    PYI_Indonesia   \n",
       "\n",
       "                                                                                                                                                        Tweet  \\\n",
       "0  Karena stimulasi untuk #anakberkebutuhankhusus tidak optimal jika dilakukan secara online.\\n. \\nUntuk memenuhi kebutuhan tersebut, #RumahCendekia8 teta...   \n",
       "1  Ye ampun mbh anda seorang Wapres loh.&amp;Gelar anda seorang kiyai @Kiyai_MarufAmin Knp anda terus membebani rakyatnya dengan cara2 licik sperti ini.N ...   \n",
       "2                                                                                                          Mulaik kumat lagi. 😀 #ppkm https://t.co/MNDSPHJU69   \n",
       "3                                                                                                 Welcome PPKM bau bau naik level nih, gimana nih mang\\n#ppkm   \n",
       "4  Sesungguhnya Allah tidak menciptakan kita, hambaNya ini, sebagai makhluk yang lemah lagi mudah berputus asa. Kita sebagai manusia diciptakan Allah seba...   \n",
       "\n",
       "   Sentiment  \n",
       "0          2  \n",
       "1          2  \n",
       "2          2  \n",
       "3          2  \n",
       "4          2  "
      ]
     },
     "execution_count": 5,
     "metadata": {},
     "output_type": "execute_result"
    }
   ],
   "source": [
    "df = pd.read_excel(\n",
    "    \"../dataset/INA_TweetsPPKM_Labeled_V1.xlsx\", sheet_name=\"tweets_labeled\"\n",
    ")\n",
    "df.head()\n"
   ]
  },
  {
   "cell_type": "code",
   "execution_count": 6,
   "metadata": {},
   "outputs": [
    {
     "data": {
      "text/plain": [
       "0    9482\n",
       "1    7661\n",
       "2    3900\n",
       "Name: Sentiment, dtype: int64"
      ]
     },
     "execution_count": 6,
     "metadata": {},
     "output_type": "execute_result"
    }
   ],
   "source": [
    "df[\"Sentiment\"].value_counts()\n"
   ]
  },
  {
   "cell_type": "code",
   "execution_count": 7,
   "metadata": {},
   "outputs": [
    {
     "data": {
      "text/plain": [
       "0    9482\n",
       "2    3900\n",
       "Name: Sentiment, dtype: int64"
      ]
     },
     "execution_count": 7,
     "metadata": {},
     "output_type": "execute_result"
    }
   ],
   "source": [
    "df = df[df[\"Sentiment\"] != 1]\n",
    "df[\"Sentiment\"].value_counts()\n"
   ]
  },
  {
   "cell_type": "code",
   "execution_count": 8,
   "metadata": {},
   "outputs": [],
   "source": [
    "df.loc[df[\"Sentiment\"] == 0, \"Sentiment\"] = 1\n"
   ]
  },
  {
   "cell_type": "code",
   "execution_count": 9,
   "metadata": {},
   "outputs": [],
   "source": [
    "df.loc[df[\"Sentiment\"] == 2, \"Sentiment\"] = 0\n"
   ]
  },
  {
   "cell_type": "code",
   "execution_count": 10,
   "metadata": {},
   "outputs": [],
   "source": [
    "# remove random rows with value 1 in sentiment column\n",
    "# The amount value is the value we use so that the number of sentiment categories 1 is 6100\n",
    "amount_value = (6100 - 9482) * (-1)\n",
    "random_remove = np.random.choice(\n",
    "    df[df[\"Sentiment\"] == 1].index, size=amount_value, replace=False\n",
    ")\n",
    "df = df.drop(random_remove)\n"
   ]
  },
  {
   "cell_type": "code",
   "execution_count": 11,
   "metadata": {},
   "outputs": [
    {
     "name": "stdout",
     "output_type": "stream",
     "text": [
      "1    6100\n",
      "0    3900\n",
      "Name: Sentiment, dtype: int64\n",
      "(10000, 4)\n"
     ]
    }
   ],
   "source": [
    "print(df[\"Sentiment\"].value_counts())\n",
    "print(df.shape)\n"
   ]
  },
  {
   "cell_type": "code",
   "execution_count": 12,
   "metadata": {},
   "outputs": [],
   "source": [
    "df.to_csv(\n",
    "    \"../dataset/INA_TweetsPPKM_Labeled_FIX.csv\",\n",
    "    encoding=\"utf-8\",\n",
    "    sep=\"\\t\",\n",
    "    index=False,\n",
    "    header=True,\n",
    ")\n"
   ]
  }
 ],
 "metadata": {
  "kernelspec": {
   "display_name": "env",
   "language": "python",
   "name": "python3"
  },
  "language_info": {
   "codemirror_mode": {
    "name": "ipython",
    "version": 3
   },
   "file_extension": ".py",
   "mimetype": "text/x-python",
   "name": "python",
   "nbconvert_exporter": "python",
   "pygments_lexer": "ipython3",
   "version": "3.10.7"
  },
  "orig_nbformat": 4
 },
 "nbformat": 4,
 "nbformat_minor": 2
}
