{
 "cells": [
  {
   "attachments": {},
   "cell_type": "markdown",
   "metadata": {},
   "source": [
    "## **Labeling Data**"
   ]
  },
  {
   "cell_type": "code",
   "execution_count": 2,
   "metadata": {},
   "outputs": [],
   "source": [
    "# Import library pandas dan numpy\n",
    "import pandas as pd\n",
    "import numpy as np\n",
    "import warnings\n",
    "\n",
    "warnings.simplefilter(\"ignore\")\n"
   ]
  },
  {
   "cell_type": "code",
   "execution_count": 3,
   "metadata": {},
   "outputs": [],
   "source": [
    "# Mengatur opsi tampilan agar lebar maksimum kolom menjadi 155\n",
    "pd.set_option(\"display.max_colwidth\", 155)\n"
   ]
  },
  {
   "cell_type": "code",
   "execution_count": 9,
   "metadata": {},
   "outputs": [],
   "source": [
    "import torch\n",
    "from transformers import AutoTokenizer, AutoModelForSequenceClassification\n",
    "\n",
    "# Menginisialisasi tokenizer menggunakan model \"afbudiman/indobert-classification\"\n",
    "tokenizer = AutoTokenizer.from_pretrained(\"afbudiman/indobert-classification\")\n",
    "\n",
    "# Menginisialisasi model untuk klasifikasi urutan menggunakan model \"afbudiman/indobert-classification\"\n",
    "model = AutoModelForSequenceClassification.from_pretrained(\n",
    "    \"afbudiman/indobert-classification\"\n",
    ")\n"
   ]
  },
  {
   "cell_type": "code",
   "execution_count": 10,
   "metadata": {},
   "outputs": [],
   "source": [
    "df = pd.read_csv(\"../dataset/INA_TweetsPPKM_Raw.csv\", sep=\"\\t\")\n"
   ]
  },
  {
   "cell_type": "code",
   "execution_count": 11,
   "metadata": {},
   "outputs": [],
   "source": [
    "df[\"sentiment\"] = \" \"\n"
   ]
  },
  {
   "attachments": {},
   "cell_type": "markdown",
   "metadata": {},
   "source": [
    "### **Labeling Tweets Dataset**\n"
   ]
  },
  {
   "cell_type": "code",
   "execution_count": 12,
   "metadata": {},
   "outputs": [],
   "source": [
    "# Melakukan iterasi pada setiap baris dataset menggunakan metode iterrows() dari DataFrame\n",
    "for index, row in df.iterrows():\n",
    "    tweet = row[\"Tweet\"]\n",
    "\n",
    "    # Menggunakan tokenizer untuk mengodekan tweet menjadi input model\n",
    "    encoded_input = tokenizer.encode_plus(\n",
    "        tweet,\n",
    "        max_length=128,\n",
    "        padding=\"max_length\",\n",
    "        truncation=True,\n",
    "        return_tensors=\"pt\",\n",
    "    )\n",
    "\n",
    "    # Memilih perangkat yang digunakan (GPU jika tersedia, jika tidak, menggunakan CPU)\n",
    "    device = torch.device(\"cuda\" if torch.cuda.is_available() else \"cpu\")\n",
    "    model = model.to(device)\n",
    "\n",
    "    # Menggunakan model untuk melakukan inferensi pada input yang diberikan\n",
    "    with torch.no_grad():\n",
    "        input_ids = encoded_input[\"input_ids\"].to(device)\n",
    "        attention_mask = encoded_input[\"attention_mask\"].to(device)\n",
    "        outputs = model(input_ids, attention_mask=attention_mask)\n",
    "        logits = outputs.logits\n",
    "\n",
    "    # Mendapatkan label yang diprediksi dari logits\n",
    "    predicted_label = torch.argmax(logits, dim=1).item()\n",
    "\n",
    "    # Mengupdate nilai kolom \"sentiment\" pada baris yang sedang diiterasi\n",
    "    df.at[index, \"sentiment\"] = predicted_label"
   ]
  },
  {
   "cell_type": "code",
   "execution_count": 13,
   "metadata": {},
   "outputs": [],
   "source": [
    "df.to_csv(\n",
    "    \"../dataset/INA_TweetsPPKM_Labeled_Pure.csv\",  # Menyimpan DataFrame ke file CSV dengan nama dan path yang ditentukan\n",
    "    index=False,  # Tidak menyertakan index saat menyimpan ke file\n",
    "    sep=\"\\t\",  # Menggunakan \"\\t\" sebagai pemisah antar kolom dalam file CSV\n",
    "    encoding=\"utf-8\",  # Menggunakan encoding UTF-8 untuk menyimpan teks Unicode\n",
    "    header=\"true\",  # Menyertakan header kolom saat menyimpan ke file\n",
    ")"
   ]
  },
  {
   "cell_type": "code",
   "execution_count": 14,
   "metadata": {},
   "outputs": [
    {
     "name": "stdout",
     "output_type": "stream",
     "text": [
      "<class 'pandas.core.frame.DataFrame'>\n",
      "RangeIndex: 23644 entries, 0 to 23643\n",
      "Data columns (total 4 columns):\n",
      " #   Column     Non-Null Count  Dtype \n",
      "---  ------     --------------  ----- \n",
      " 0   Date       23644 non-null  object\n",
      " 1   User       23644 non-null  object\n",
      " 2   Tweet      23644 non-null  object\n",
      " 3   sentiment  23644 non-null  object\n",
      "dtypes: object(4)\n",
      "memory usage: 739.0+ KB\n"
     ]
    }
   ],
   "source": [
    "# Mengubah tipe data kolom \"sentiment\" menjadi tipe data integer\n",
    "df.info()\n",
    "df[\"sentiment\"] = df[\"sentiment\"].astype(int)"
   ]
  },
  {
   "cell_type": "code",
   "execution_count": 16,
   "metadata": {},
   "outputs": [
    {
     "data": {
      "text/html": [
       "<div>\n",
       "<style scoped>\n",
       "    .dataframe tbody tr th:only-of-type {\n",
       "        vertical-align: middle;\n",
       "    }\n",
       "\n",
       "    .dataframe tbody tr th {\n",
       "        vertical-align: top;\n",
       "    }\n",
       "\n",
       "    .dataframe thead th {\n",
       "        text-align: right;\n",
       "    }\n",
       "</style>\n",
       "<table border=\"1\" class=\"dataframe\">\n",
       "  <thead>\n",
       "    <tr style=\"text-align: right;\">\n",
       "      <th></th>\n",
       "      <th>Date</th>\n",
       "      <th>User</th>\n",
       "      <th>Tweet</th>\n",
       "    </tr>\n",
       "    <tr>\n",
       "      <th>sentiment</th>\n",
       "      <th></th>\n",
       "      <th></th>\n",
       "      <th></th>\n",
       "    </tr>\n",
       "  </thead>\n",
       "  <tbody>\n",
       "    <tr>\n",
       "      <th>0</th>\n",
       "      <td>1958</td>\n",
       "      <td>1958</td>\n",
       "      <td>1958</td>\n",
       "    </tr>\n",
       "    <tr>\n",
       "      <th>1</th>\n",
       "      <td>17706</td>\n",
       "      <td>17706</td>\n",
       "      <td>17706</td>\n",
       "    </tr>\n",
       "    <tr>\n",
       "      <th>2</th>\n",
       "      <td>3980</td>\n",
       "      <td>3980</td>\n",
       "      <td>3980</td>\n",
       "    </tr>\n",
       "  </tbody>\n",
       "</table>\n",
       "</div>"
      ],
      "text/plain": [
       "            Date   User  Tweet\n",
       "sentiment                     \n",
       "0           1958   1958   1958\n",
       "1          17706  17706  17706\n",
       "2           3980   3980   3980"
      ]
     },
     "execution_count": 16,
     "metadata": {},
     "output_type": "execute_result"
    }
   ],
   "source": [
    "# Mengelompokkan data berdasarkan kolom \"sentiment\" dan menghitung jumlah data pada setiap kelompok\n",
    "df.groupby([\"sentiment\"]).count()\n"
   ]
  },
  {
   "cell_type": "code",
   "execution_count": 18,
   "metadata": {},
   "outputs": [],
   "source": [
    "df[\"sentiment\"] = df[\"sentiment\"].astype(int)\n"
   ]
  },
  {
   "cell_type": "code",
   "execution_count": 22,
   "metadata": {},
   "outputs": [
    {
     "data": {
      "text/plain": [
       "2    3980\n",
       "0    1958\n",
       "Name: sentiment, dtype: int64"
      ]
     },
     "execution_count": 22,
     "metadata": {},
     "output_type": "execute_result"
    }
   ],
   "source": [
    "df = df[df[\"sentiment\"] != 1]\n",
    "df[\"sentiment\"].value_counts()\n"
   ]
  },
  {
   "cell_type": "code",
   "execution_count": 23,
   "metadata": {},
   "outputs": [
    {
     "data": {
      "text/html": [
       "<div>\n",
       "<style scoped>\n",
       "    .dataframe tbody tr th:only-of-type {\n",
       "        vertical-align: middle;\n",
       "    }\n",
       "\n",
       "    .dataframe tbody tr th {\n",
       "        vertical-align: top;\n",
       "    }\n",
       "\n",
       "    .dataframe thead th {\n",
       "        text-align: right;\n",
       "    }\n",
       "</style>\n",
       "<table border=\"1\" class=\"dataframe\">\n",
       "  <thead>\n",
       "    <tr style=\"text-align: right;\">\n",
       "      <th></th>\n",
       "      <th>Date</th>\n",
       "      <th>User</th>\n",
       "      <th>Tweet</th>\n",
       "      <th>sentiment</th>\n",
       "    </tr>\n",
       "  </thead>\n",
       "  <tbody>\n",
       "    <tr>\n",
       "      <th>14238</th>\n",
       "      <td>2021-07-20 09:55:44+00:00</td>\n",
       "      <td>GodEL96_</td>\n",
       "      <td>Vitamin D sangat dibutuhkan untuk kesehatan di masa pandemi begini. \"DUIT\".\\n\\n#dirumahaja #PPKM #motivasi</td>\n",
       "      <td>1</td>\n",
       "    </tr>\n",
       "    <tr>\n",
       "      <th>6231</th>\n",
       "      <td>2021-08-24 09:49:32+00:00</td>\n",
       "      <td>inilahdotcom</td>\n",
       "      <td>Intinya, PPKM akan terus diperpanjang sampai pademinya usai. Hanya berbeda levelnya.\\n\\nwah repot juga nih, tidak ada cara lain selain mengikuti aturan...</td>\n",
       "      <td>0</td>\n",
       "    </tr>\n",
       "    <tr>\n",
       "      <th>16283</th>\n",
       "      <td>2021-07-14 09:53:21+00:00</td>\n",
       "      <td>govoes</td>\n",
       "      <td>sekarang sudah ditahap dimana kenalan ada yang covid, uda ga kaget lagi.\\n\\n#ppkm</td>\n",
       "      <td>0</td>\n",
       "    </tr>\n",
       "    <tr>\n",
       "      <th>13090</th>\n",
       "      <td>2021-07-24 05:23:49+00:00</td>\n",
       "      <td>aryohimself</td>\n",
       "      <td>*brigade muslim indonesia* namanya nyatut nyatut agama, tapi ajarannya ngga dipake. Bangga betul itu yg tatoan sama cewe cepak buci gitu pose depan kam...</td>\n",
       "      <td>0</td>\n",
       "    </tr>\n",
       "    <tr>\n",
       "      <th>11615</th>\n",
       "      <td>2021-07-27 23:42:49+00:00</td>\n",
       "      <td>lensasehatid</td>\n",
       "      <td>Jaga kesehatan ya, kasihan keluarga merasa sedih mikirin &amp;amp; jagain kalian kalau sakit #prokes #5m #PPKM</td>\n",
       "      <td>0</td>\n",
       "    </tr>\n",
       "    <tr>\n",
       "      <th>5993</th>\n",
       "      <td>2021-08-26 12:21:55+00:00</td>\n",
       "      <td>EkaMeirly</td>\n",
       "      <td>Nih lama lama ppkm ngalahin level bon cabe :v\\n#PPKM</td>\n",
       "      <td>0</td>\n",
       "    </tr>\n",
       "    <tr>\n",
       "      <th>19078</th>\n",
       "      <td>2021-07-05 07:51:46+00:00</td>\n",
       "      <td>GonoSantoso1</td>\n",
       "      <td>Korban Covid terus berjatuhan dari kehari terus. Tidak ada rasa bersalah, tidak ada kata maaf, dan tidak ada rasa penyesalan karena sudah membuat kebij...</td>\n",
       "      <td>0</td>\n",
       "    </tr>\n",
       "    <tr>\n",
       "      <th>3924</th>\n",
       "      <td>2021-09-28 13:12:12+00:00</td>\n",
       "      <td>ArifNugroho_tpm</td>\n",
       "      <td>@kumparan Kalo kata Bu Tejo ; Tindakan Kapolri,  SOLUTIP 👍😁\\n@PolriBareskrim\\n@febridiansyah \\n@antikorupsi \\n@KPK_RI \\n@mohmahfudmd \\n@msaid_didu \\n@f...</td>\n",
       "      <td>0</td>\n",
       "    </tr>\n",
       "    <tr>\n",
       "      <th>12407</th>\n",
       "      <td>2021-07-26 03:44:40+00:00</td>\n",
       "      <td>dhy_Blekokk</td>\n",
       "      <td>PPKM = Pelan Pelan Kita Miskin, ga miskin gimana kerja stop, usaha stop mau dapat duit dari mana? #PPKM</td>\n",
       "      <td>0</td>\n",
       "    </tr>\n",
       "    <tr>\n",
       "      <th>13665</th>\n",
       "      <td>2021-07-22 01:03:33+00:00</td>\n",
       "      <td>seicow_store</td>\n",
       "      <td>#paketpromo #makansiang bareng nih. Top banget 😍😍. \\nCus order👇\\nhttps://t.co/2tP7PyrW87\\n\\n#ppkm #surabaya #seicow #seisapi #seiayam #gwalk #surabayah...</td>\n",
       "      <td>1</td>\n",
       "    </tr>\n",
       "  </tbody>\n",
       "</table>\n",
       "</div>"
      ],
      "text/plain": [
       "                            Date             User  \\\n",
       "14238  2021-07-20 09:55:44+00:00         GodEL96_   \n",
       "6231   2021-08-24 09:49:32+00:00     inilahdotcom   \n",
       "16283  2021-07-14 09:53:21+00:00           govoes   \n",
       "13090  2021-07-24 05:23:49+00:00      aryohimself   \n",
       "11615  2021-07-27 23:42:49+00:00     lensasehatid   \n",
       "5993   2021-08-26 12:21:55+00:00        EkaMeirly   \n",
       "19078  2021-07-05 07:51:46+00:00     GonoSantoso1   \n",
       "3924   2021-09-28 13:12:12+00:00  ArifNugroho_tpm   \n",
       "12407  2021-07-26 03:44:40+00:00      dhy_Blekokk   \n",
       "13665  2021-07-22 01:03:33+00:00     seicow_store   \n",
       "\n",
       "                                                                                                                                                            Tweet  \\\n",
       "14238                                                  Vitamin D sangat dibutuhkan untuk kesehatan di masa pandemi begini. \"DUIT\".\\n\\n#dirumahaja #PPKM #motivasi   \n",
       "6231   Intinya, PPKM akan terus diperpanjang sampai pademinya usai. Hanya berbeda levelnya.\\n\\nwah repot juga nih, tidak ada cara lain selain mengikuti aturan...   \n",
       "16283                                                                           sekarang sudah ditahap dimana kenalan ada yang covid, uda ga kaget lagi.\\n\\n#ppkm   \n",
       "13090  *brigade muslim indonesia* namanya nyatut nyatut agama, tapi ajarannya ngga dipake. Bangga betul itu yg tatoan sama cewe cepak buci gitu pose depan kam...   \n",
       "11615                                                  Jaga kesehatan ya, kasihan keluarga merasa sedih mikirin &amp; jagain kalian kalau sakit #prokes #5m #PPKM   \n",
       "5993                                                                                                         Nih lama lama ppkm ngalahin level bon cabe :v\\n#PPKM   \n",
       "19078  Korban Covid terus berjatuhan dari kehari terus. Tidak ada rasa bersalah, tidak ada kata maaf, dan tidak ada rasa penyesalan karena sudah membuat kebij...   \n",
       "3924   @kumparan Kalo kata Bu Tejo ; Tindakan Kapolri,  SOLUTIP 👍😁\\n@PolriBareskrim\\n@febridiansyah \\n@antikorupsi \\n@KPK_RI \\n@mohmahfudmd \\n@msaid_didu \\n@f...   \n",
       "12407                                                     PPKM = Pelan Pelan Kita Miskin, ga miskin gimana kerja stop, usaha stop mau dapat duit dari mana? #PPKM   \n",
       "13665  #paketpromo #makansiang bareng nih. Top banget 😍😍. \\nCus order👇\\nhttps://t.co/2tP7PyrW87\\n\\n#ppkm #surabaya #seicow #seisapi #seiayam #gwalk #surabayah...   \n",
       "\n",
       "       sentiment  \n",
       "14238          1  \n",
       "6231           0  \n",
       "16283          0  \n",
       "13090          0  \n",
       "11615          0  \n",
       "5993           0  \n",
       "19078          0  \n",
       "3924           0  \n",
       "12407          0  \n",
       "13665          1  "
      ]
     },
     "execution_count": 23,
     "metadata": {},
     "output_type": "execute_result"
    }
   ],
   "source": [
    "df['sentiment'] = df['sentiment'].replace([2,0],[0,1])\n"
   ]
  },
  {
   "cell_type": "code",
   "execution_count": 25,
   "metadata": {},
   "outputs": [
    {
     "data": {
      "text/html": [
       "<div>\n",
       "<style scoped>\n",
       "    .dataframe tbody tr th:only-of-type {\n",
       "        vertical-align: middle;\n",
       "    }\n",
       "\n",
       "    .dataframe tbody tr th {\n",
       "        vertical-align: top;\n",
       "    }\n",
       "\n",
       "    .dataframe thead th {\n",
       "        text-align: right;\n",
       "    }\n",
       "</style>\n",
       "<table border=\"1\" class=\"dataframe\">\n",
       "  <thead>\n",
       "    <tr style=\"text-align: right;\">\n",
       "      <th></th>\n",
       "      <th>Date</th>\n",
       "      <th>User</th>\n",
       "      <th>Tweet</th>\n",
       "      <th>sentiment</th>\n",
       "    </tr>\n",
       "  </thead>\n",
       "  <tbody>\n",
       "    <tr>\n",
       "      <th>13626</th>\n",
       "      <td>2021-07-22 03:30:05+00:00</td>\n",
       "      <td>EGINDO_co</td>\n",
       "      <td>Jakarta sudah berubah sejak PPKM, biasanya jalanan di ibukota selalu ada kemacetan panjang. Namun, kini terlihat sepi. #PPKM #Jakarta #covid19 https://...</td>\n",
       "      <td>0</td>\n",
       "    </tr>\n",
       "    <tr>\n",
       "      <th>19279</th>\n",
       "      <td>2021-07-05 02:34:18+00:00</td>\n",
       "      <td>gusnung</td>\n",
       "      <td>@Kocobenggolo1 @RachlanNashidik Aku bosen diapusi Mas Koco, di prank 🤡 terus, hoax wae #ppkm #PakPresidenKapanMundur https://t.co/Ih2fIdu03i</td>\n",
       "      <td>0</td>\n",
       "    </tr>\n",
       "    <tr>\n",
       "      <th>11128</th>\n",
       "      <td>2021-07-30 02:05:20+00:00</td>\n",
       "      <td>FathuRo92586941</td>\n",
       "      <td>Diet sukses setelah #PPKM, badan lincah tiap hari muter cari utang ke temen dan saudara</td>\n",
       "      <td>1</td>\n",
       "    </tr>\n",
       "    <tr>\n",
       "      <th>15553</th>\n",
       "      <td>2021-07-16 07:40:44+00:00</td>\n",
       "      <td>MisbahWiyono</td>\n",
       "      <td>Ternyata efek #PPKM memberikan kesempatan Bapak nonton #ikatancinta .\\n\\nDisisi lain #PPKMDarurat mengurangi Kesempatan Pedagang dalam berdagang.\\n\\nSt...</td>\n",
       "      <td>0</td>\n",
       "    </tr>\n",
       "    <tr>\n",
       "      <th>15870</th>\n",
       "      <td>2021-07-15 09:00:00+00:00</td>\n",
       "      <td>bolaskorcom</td>\n",
       "      <td>Di masa pandemi seperti sekarang ini, kita semua dituntut untuk selalu menjaga kesehatan agar tetap fit. Salah satu cara terbaik untuk mejaga kebugaran...</td>\n",
       "      <td>1</td>\n",
       "    </tr>\n",
       "  </tbody>\n",
       "</table>\n",
       "</div>"
      ],
      "text/plain": [
       "                            Date             User  \\\n",
       "13626  2021-07-22 03:30:05+00:00        EGINDO_co   \n",
       "19279  2021-07-05 02:34:18+00:00          gusnung   \n",
       "11128  2021-07-30 02:05:20+00:00  FathuRo92586941   \n",
       "15553  2021-07-16 07:40:44+00:00     MisbahWiyono   \n",
       "15870  2021-07-15 09:00:00+00:00      bolaskorcom   \n",
       "\n",
       "                                                                                                                                                            Tweet  \\\n",
       "13626  Jakarta sudah berubah sejak PPKM, biasanya jalanan di ibukota selalu ada kemacetan panjang. Namun, kini terlihat sepi. #PPKM #Jakarta #covid19 https://...   \n",
       "19279                @Kocobenggolo1 @RachlanNashidik Aku bosen diapusi Mas Koco, di prank 🤡 terus, hoax wae #ppkm #PakPresidenKapanMundur https://t.co/Ih2fIdu03i   \n",
       "11128                                                                     Diet sukses setelah #PPKM, badan lincah tiap hari muter cari utang ke temen dan saudara   \n",
       "15553  Ternyata efek #PPKM memberikan kesempatan Bapak nonton #ikatancinta .\\n\\nDisisi lain #PPKMDarurat mengurangi Kesempatan Pedagang dalam berdagang.\\n\\nSt...   \n",
       "15870  Di masa pandemi seperti sekarang ini, kita semua dituntut untuk selalu menjaga kesehatan agar tetap fit. Salah satu cara terbaik untuk mejaga kebugaran...   \n",
       "\n",
       "       sentiment  \n",
       "13626          0  \n",
       "19279          0  \n",
       "11128          1  \n",
       "15553          0  \n",
       "15870          1  "
      ]
     },
     "execution_count": 25,
     "metadata": {},
     "output_type": "execute_result"
    }
   ],
   "source": [
    "df.sample(5)"
   ]
  },
  {
   "cell_type": "code",
   "execution_count": 24,
   "metadata": {},
   "outputs": [
    {
     "data": {
      "text/plain": [
       "0    3980\n",
       "1    1958\n",
       "Name: sentiment, dtype: int64"
      ]
     },
     "execution_count": 24,
     "metadata": {},
     "output_type": "execute_result"
    }
   ],
   "source": [
    "df[\"sentiment\"].value_counts()\n"
   ]
  },
  {
   "cell_type": "code",
   "execution_count": 26,
   "metadata": {},
   "outputs": [],
   "source": [
    "df.to_csv(\n",
    "    \"../dataset/INA_TweetsPPKM_Labeled_PosNeg.csv\",  # Menyimpan DataFrame ke file CSV dengan nama dan path yang ditentukan\n",
    "    index=False,  # Tidak menyertakan index saat menyimpan ke file\n",
    "    sep=\"\\t\",  # Menggunakan \"\\t\" sebagai pemisah antar kolom dalam file CSV\n",
    "    encoding=\"utf-8\",  # Menggunakan encoding UTF-8 untuk menyimpan teks Unicode\n",
    "    header=\"true\",  # Menyertakan header kolom saat menyimpan ke file\n",
    ")\n"
   ]
  },
  {
   "cell_type": "code",
   "execution_count": null,
   "metadata": {},
   "outputs": [],
   "source": []
  },
  {
   "cell_type": "code",
   "execution_count": null,
   "metadata": {},
   "outputs": [],
   "source": []
  },
  {
   "attachments": {},
   "cell_type": "markdown",
   "metadata": {},
   "source": [
    "### **Prune Dataset To 10.000**\n",
    "\n",
    "- **cut the number of datasets to be used from 20 thousand to 10 thousand**\n"
   ]
  },
  {
   "attachments": {},
   "cell_type": "markdown",
   "metadata": {},
   "source": [
    "- **<p>code di bawah berikut berfungsi untuk merubah label pada dataset yang telah dilabeli sebelumnya dan mengatur ukuran dataset sebelumnya ke jumlah baru yang diinginkan pada dataset baru di bawah ini</p>**\n",
    "\n",
    "- **<p>label : 1 (positive) & 0 (negative)</p>**\n"
   ]
  },
  {
   "cell_type": "code",
   "execution_count": 27,
   "metadata": {},
   "outputs": [
    {
     "data": {
      "text/html": [
       "<div>\n",
       "<style scoped>\n",
       "    .dataframe tbody tr th:only-of-type {\n",
       "        vertical-align: middle;\n",
       "    }\n",
       "\n",
       "    .dataframe tbody tr th {\n",
       "        vertical-align: top;\n",
       "    }\n",
       "\n",
       "    .dataframe thead th {\n",
       "        text-align: right;\n",
       "    }\n",
       "</style>\n",
       "<table border=\"1\" class=\"dataframe\">\n",
       "  <thead>\n",
       "    <tr style=\"text-align: right;\">\n",
       "      <th></th>\n",
       "      <th>Date</th>\n",
       "      <th>User</th>\n",
       "      <th>Tweet</th>\n",
       "      <th>Sentiment</th>\n",
       "    </tr>\n",
       "  </thead>\n",
       "  <tbody>\n",
       "    <tr>\n",
       "      <th>0</th>\n",
       "      <td>2022-03-26 12:51:44</td>\n",
       "      <td>CendekiaDelapan</td>\n",
       "      <td>Karena stimulasi untuk #anakberkebutuhankhusus tidak optimal jika dilakukan secara online.\\n. \\nUntuk memenuhi kebutuhan tersebut, #RumahCendekia8 teta...</td>\n",
       "      <td>2</td>\n",
       "    </tr>\n",
       "    <tr>\n",
       "      <th>1</th>\n",
       "      <td>2022-03-23 01:10:09</td>\n",
       "      <td>ViantAntony</td>\n",
       "      <td>Ye ampun mbh anda seorang Wapres loh.&amp;amp;Gelar anda seorang kiyai @Kiyai_MarufAmin Knp anda terus membebani rakyatnya dengan cara2 licik sperti ini.N ...</td>\n",
       "      <td>2</td>\n",
       "    </tr>\n",
       "    <tr>\n",
       "      <th>2</th>\n",
       "      <td>2022-03-22 21:10:19</td>\n",
       "      <td>mtaufikmJKT48</td>\n",
       "      <td>Mulaik kumat lagi. 😀 #ppkm https://t.co/MNDSPHJU69</td>\n",
       "      <td>2</td>\n",
       "    </tr>\n",
       "    <tr>\n",
       "      <th>3</th>\n",
       "      <td>2022-03-22 15:43:24</td>\n",
       "      <td>PunditPintar</td>\n",
       "      <td>Welcome PPKM bau bau naik level nih, gimana nih mang\\n#ppkm</td>\n",
       "      <td>2</td>\n",
       "    </tr>\n",
       "    <tr>\n",
       "      <th>4</th>\n",
       "      <td>2022-03-22 15:30:34</td>\n",
       "      <td>PYI_Indonesia</td>\n",
       "      <td>Sesungguhnya Allah tidak menciptakan kita, hambaNya ini, sebagai makhluk yang lemah lagi mudah berputus asa. Kita sebagai manusia diciptakan Allah seba...</td>\n",
       "      <td>2</td>\n",
       "    </tr>\n",
       "  </tbody>\n",
       "</table>\n",
       "</div>"
      ],
      "text/plain": [
       "                 Date             User  \\\n",
       "0 2022-03-26 12:51:44  CendekiaDelapan   \n",
       "1 2022-03-23 01:10:09      ViantAntony   \n",
       "2 2022-03-22 21:10:19    mtaufikmJKT48   \n",
       "3 2022-03-22 15:43:24     PunditPintar   \n",
       "4 2022-03-22 15:30:34    PYI_Indonesia   \n",
       "\n",
       "                                                                                                                                                        Tweet  \\\n",
       "0  Karena stimulasi untuk #anakberkebutuhankhusus tidak optimal jika dilakukan secara online.\\n. \\nUntuk memenuhi kebutuhan tersebut, #RumahCendekia8 teta...   \n",
       "1  Ye ampun mbh anda seorang Wapres loh.&amp;Gelar anda seorang kiyai @Kiyai_MarufAmin Knp anda terus membebani rakyatnya dengan cara2 licik sperti ini.N ...   \n",
       "2                                                                                                          Mulaik kumat lagi. 😀 #ppkm https://t.co/MNDSPHJU69   \n",
       "3                                                                                                 Welcome PPKM bau bau naik level nih, gimana nih mang\\n#ppkm   \n",
       "4  Sesungguhnya Allah tidak menciptakan kita, hambaNya ini, sebagai makhluk yang lemah lagi mudah berputus asa. Kita sebagai manusia diciptakan Allah seba...   \n",
       "\n",
       "   Sentiment  \n",
       "0          2  \n",
       "1          2  \n",
       "2          2  \n",
       "3          2  \n",
       "4          2  "
      ]
     },
     "execution_count": 27,
     "metadata": {},
     "output_type": "execute_result"
    }
   ],
   "source": [
    "# Membaca file Excel menggunakan fungsi read_excel() dari pandas\n",
    "df = pd.read_excel(\n",
    "    \"../dataset/INA_TweetsPPKM_Labeled_V1.xlsx\", sheet_name=\"tweets_labeled\"\n",
    ")\n",
    "df.head()\n"
   ]
  },
  {
   "cell_type": "code",
   "execution_count": 28,
   "metadata": {},
   "outputs": [
    {
     "data": {
      "text/plain": [
       "0    9482\n",
       "1    7661\n",
       "2    3900\n",
       "Name: Sentiment, dtype: int64"
      ]
     },
     "execution_count": 28,
     "metadata": {},
     "output_type": "execute_result"
    }
   ],
   "source": [
    "df[\"Sentiment\"].value_counts()\n"
   ]
  },
  {
   "cell_type": "code",
   "execution_count": 29,
   "metadata": {},
   "outputs": [
    {
     "data": {
      "text/plain": [
       "0    9482\n",
       "2    3900\n",
       "Name: Sentiment, dtype: int64"
      ]
     },
     "execution_count": 29,
     "metadata": {},
     "output_type": "execute_result"
    }
   ],
   "source": [
    "# Membuang baris dalam DataFrame yang memiliki nilai \"Sentiment\" sama dengan 1\n",
    "df = df[df[\"Sentiment\"] != 1]\n",
    "\n",
    "# Menghitung jumlah data pada setiap nilai \"Sentiment\"\n",
    "df[\"Sentiment\"].value_counts()\n"
   ]
  },
  {
   "cell_type": "code",
   "execution_count": 30,
   "metadata": {},
   "outputs": [],
   "source": [
    "# Mengubah nilai \"Sentiment\" yang sama dengan 0 menjadi 1 menggunakan loc indexing\n",
    "df.loc[df[\"Sentiment\"] == 0, \"Sentiment\"] = 1\n"
   ]
  },
  {
   "cell_type": "code",
   "execution_count": 31,
   "metadata": {},
   "outputs": [],
   "source": [
    "# Mengubah nilai \"Sentiment\" yang sama dengan 2 menjadi 0 menggunakan loc indexing\n",
    "df.loc[df[\"Sentiment\"] == 2, \"Sentiment\"] = 0\n"
   ]
  },
  {
   "cell_type": "code",
   "execution_count": 10,
   "metadata": {},
   "outputs": [],
   "source": [
    "# Menghapus baris secara acak dengan nilai 1 pada kolom \"Sentiment\"\n",
    "# Jumlah baris yang dihapus adalah selisih antara jumlah kategori sentiment 1 dengan 6100\n",
    "amount_value = (6100 - 9482) * (-1)\n",
    "\n",
    "# Menggunakan fungsi np.random.choice untuk memilih baris secara acak dengan nilai 1 pada kolom \"Sentiment\"\n",
    "# Jumlah baris yang dihapus disimpan dalam variabel amount_value\n",
    "# replace=False digunakan untuk memastikan bahwa baris yang dipilih tidak diganti (tidak digunakan kembali dalam pemilihan berikutnya)\n",
    "random_remove = np.random.choice(\n",
    "    df[df[\"Sentiment\"] == 1].index, size=amount_value, replace=False\n",
    ")\n",
    "\n",
    "# Menghapus baris dengan menggunakan metode drop() pada DataFrame\n",
    "df = df.drop(random_remove)\n"
   ]
  },
  {
   "cell_type": "code",
   "execution_count": 11,
   "metadata": {},
   "outputs": [
    {
     "name": "stdout",
     "output_type": "stream",
     "text": [
      "1    6100\n",
      "0    3900\n",
      "Name: Sentiment, dtype: int64\n",
      "(10000, 4)\n"
     ]
    }
   ],
   "source": [
    "# Menampilkan jumlah nilai pada kolom \"Sentiment\"\n",
    "print(df[\"Sentiment\"].value_counts())\n",
    "\n",
    "# Menampilkan jumlah baris dan kolom pada DataFrame\n",
    "print(df.shape)\n"
   ]
  },
  {
   "cell_type": "code",
   "execution_count": 12,
   "metadata": {},
   "outputs": [],
   "source": [
    "# Menyimpan DataFrame ke dalam file CSV\n",
    "# File CSV disimpan dengan nama \"../dataset/INA_TweetsPPKM_Labeled_FIX.csv\"\n",
    "# Menggunakan encoding \"utf-8\" untuk mendukung karakter unicode\n",
    "# Menggunakan separator \"\\t\" (tab) sebagai pemisah antara kolom-kolom dalam file CSV\n",
    "# Tidak menyertakan index baris dalam file CSV dengan parameter index=False\n",
    "# Menyertakan header kolom dalam file CSV dengan parameter header=True\n",
    "df.to_csv(\n",
    "    \"../dataset/INA_TweetsPPKM_Labeled_FIX.csv\",\n",
    "    encoding=\"utf-8\",\n",
    "    sep=\"\\t\",\n",
    "    index=False,\n",
    "    header=True,\n",
    ")\n"
   ]
  }
 ],
 "metadata": {
  "kernelspec": {
   "display_name": "env",
   "language": "python",
   "name": "python3"
  },
  "language_info": {
   "codemirror_mode": {
    "name": "ipython",
    "version": 3
   },
   "file_extension": ".py",
   "mimetype": "text/x-python",
   "name": "python",
   "nbconvert_exporter": "python",
   "pygments_lexer": "ipython3",
   "version": "3.10.7"
  },
  "orig_nbformat": 4
 },
 "nbformat": 4,
 "nbformat_minor": 2
}
