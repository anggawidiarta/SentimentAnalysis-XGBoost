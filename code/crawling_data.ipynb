{
 "cells": [
  {
   "attachments": {},
   "cell_type": "markdown",
   "metadata": {},
   "source": [
    "## **Crawling Datasets** "
   ]
  },
  {
   "cell_type": "code",
   "execution_count": null,
   "metadata": {},
   "outputs": [],
   "source": [
    "import snscrape.modules.twitter as sntwitter\n",
    "import pandas as pd\n",
    "\n",
    "# Import library yang diperlukan\n",
    "# snscrape digunakan untuk mengambil data dari Twitter menggunakan API\n",
    "# pandas digunakan untuk memanipulasi dan menganalisis data dalam bentuk DataFrame\n"
   ]
  },
  {
   "cell_type": "code",
   "execution_count": 41,
   "metadata": {},
   "outputs": [],
   "source": [
    "tweets = []\n",
    "# Membuat list kosong untuk menyimpan tweet yang diambil\n",
    "\n",
    "query = \"(ppkm) (#ppkm OR #PPKM) until:2022-04-01 since:2020-04-01\"\n",
    "# Mengatur query pencarian dengan menggunakan kata kunci \"(ppkm)\" dan hashtag \"(#ppkm OR #PPKM)\"\n",
    "# Tanggal batas atas (\"until\") adalah 2022-04-01, sedangkan tanggal batas bawah (\"since\") adalah 2020-04-01\n",
    "\n",
    "limit = 100000\n",
    "# Menentukan batas jumlah tweet yang akan diambil agar tidak melebihi 100000\n",
    "\n",
    "# Selanjutnya, langkah-langkah pengambilan dan pemrosesan tweet akan dilakukan, tetapi tidak terdapat dalam kode yang diberikan.\n",
    "# Kode tersebut hanya mengatur variabel dan parameter untuk pengambilan tweet berdasarkan query dan batas yang ditentukan.\n"
   ]
  },
  {
   "cell_type": "code",
   "execution_count": 42,
   "metadata": {},
   "outputs": [],
   "source": [
    "for tweet in sntwitter.TwitterSearchScraper(query).get_items():\n",
    "    # Looping melalui setiap tweet yang diperoleh menggunakan TwitterSearchScraper berdasarkan query\n",
    "\n",
    "    if len(tweets) == limit:\n",
    "        # Jika jumlah tweet yang telah diperoleh sudah mencapai batas yang ditentukan, maka keluar dari loop\n",
    "        break\n",
    "    else:\n",
    "        # Jika jumlah tweet belum mencapai batas, tambahkan tweet ke dalam list tweets\n",
    "        tweets.append([tweet.date, tweet.user.username, tweet.content])\n",
    "\n",
    "# Membuat DataFrame dari list tweets dengan kolom yang sesuai\n",
    "df = pd.DataFrame(tweets, columns=[\"Date\", \"User\", \"Tweet\"])\n"
   ]
  },
  {
   "cell_type": "code",
   "execution_count": 39,
   "metadata": {},
   "outputs": [],
   "source": [
    "df.to_csv(\n",
    "    r\"G:\\CodeWarehouse\\Dicoding\\SentimentAnalysis\\dataset\\twitter_ppkm_newdataset.csv\",\n",
    "    index=False,\n",
    "    sep=\"\\t\",\n",
    "    encoding=\"utf-8\",\n",
    "    header=\"true\",\n",
    ")\n",
    "# Menyimpan DataFrame ke dalam file CSV dengan menggunakan fungsi to_csv()\n",
    "\n",
    "# Parameter r'G:\\CodeWarehouse\\Dicoding\\SentimentAnalysis\\dataset\\twitter_ppkm_newdataset.csv' menentukan path dan nama file tujuan\n",
    "# Parameter index=False mengecualikan penulisan indeks dalam file CSV\n",
    "# Parameter sep='\\t' menentukan pemisah kolom menggunakan karakter tab (\"\\t\")\n",
    "# Parameter encoding='utf-8' menentukan encoding teks dalam file CSV\n",
    "# Parameter header='true' menulis header kolom ke dalam file CSV\n"
   ]
  },
  {
   "cell_type": "code",
   "execution_count": 43,
   "metadata": {},
   "outputs": [
    {
     "data": {
      "text/plain": [
       "(23644, 3)"
      ]
     },
     "execution_count": 43,
     "metadata": {},
     "output_type": "execute_result"
    }
   ],
   "source": [
    "df.shape\n"
   ]
  }
 ],
 "metadata": {
  "kernelspec": {
   "display_name": "Python 3.9.6 64-bit",
   "language": "python",
   "name": "python3"
  },
  "language_info": {
   "codemirror_mode": {
    "name": "ipython",
    "version": 3
   },
   "file_extension": ".py",
   "mimetype": "text/x-python",
   "name": "python",
   "nbconvert_exporter": "python",
   "pygments_lexer": "ipython3",
   "version": "3.9.6"
  },
  "orig_nbformat": 4,
  "vscode": {
   "interpreter": {
    "hash": "9ec46e8bfac7a47cfa31e02bc92bb004274ff1db44e9e15f2527da484e64ee4c"
   }
  }
 },
 "nbformat": 4,
 "nbformat_minor": 2
}
