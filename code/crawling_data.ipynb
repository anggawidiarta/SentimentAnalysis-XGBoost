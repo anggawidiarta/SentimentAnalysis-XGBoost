{
 "cells": [
  {
   "attachments": {},
   "cell_type": "markdown",
   "metadata": {},
   "source": [
    "# **Crawling Datasets** "
   ]
  },
  {
   "cell_type": "code",
   "execution_count": null,
   "metadata": {},
   "outputs": [],
   "source": [
    "import snscrape.modules.twitter as sntwitter\n",
    "import csv\n",
    "import pandas as pd"
   ]
  },
  {
   "cell_type": "code",
   "execution_count": 41,
   "metadata": {},
   "outputs": [],
   "source": [
    "tweets = []\n",
    "query = \"(ppkm) (#ppkm OR #PPKM) until:2022-04-01 since:2020-04-01\"\n",
    "# putting limit so the tweet that has been crawled isn't more than 100000\n",
    "limit = 100000"
   ]
  },
  {
   "cell_type": "code",
   "execution_count": 42,
   "metadata": {},
   "outputs": [],
   "source": [
    "for tweet in sntwitter.TwitterSearchScraper(query).get_items():\n",
    "    if len(tweets) == limit:\n",
    "        break\n",
    "    else:\n",
    "        tweets.append([tweet.date, tweet.user.username, tweet.content])\n",
    "\n",
    "df = pd.DataFrame(tweets, columns=[\"Date\", \"User\", \"Tweet\"])"
   ]
  },
  {
   "cell_type": "code",
   "execution_count": 39,
   "metadata": {},
   "outputs": [],
   "source": [
    "#simpan ke csv\n",
    "df.to_csv(r'G:\\CodeWarehouse\\Dicoding\\SentimentAnalysis\\dataset\\twitter_ppkm_newdataset.csv', index=False, sep='\\t', encoding='utf-8', header='true')"
   ]
  },
  {
   "cell_type": "code",
   "execution_count": 43,
   "metadata": {},
   "outputs": [
    {
     "data": {
      "text/plain": [
       "(23644, 3)"
      ]
     },
     "execution_count": 43,
     "metadata": {},
     "output_type": "execute_result"
    }
   ],
   "source": [
    "df.shape"
   ]
  }
 ],
 "metadata": {
  "kernelspec": {
   "display_name": "Python 3.9.6 64-bit",
   "language": "python",
   "name": "python3"
  },
  "language_info": {
   "codemirror_mode": {
    "name": "ipython",
    "version": 3
   },
   "file_extension": ".py",
   "mimetype": "text/x-python",
   "name": "python",
   "nbconvert_exporter": "python",
   "pygments_lexer": "ipython3",
   "version": "3.9.6"
  },
  "orig_nbformat": 4,
  "vscode": {
   "interpreter": {
    "hash": "9ec46e8bfac7a47cfa31e02bc92bb004274ff1db44e9e15f2527da484e64ee4c"
   }
  }
 },
 "nbformat": 4,
 "nbformat_minor": 2
}
