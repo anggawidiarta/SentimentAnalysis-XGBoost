{
 "cells": [
  {
   "cell_type": "code",
   "execution_count": 2,
   "metadata": {},
   "outputs": [],
   "source": [
    "import numpy as np\n",
    "import pandas as pd\n",
    "import xgboost as xgb\n",
    "from sklearn.model_selection import (\n",
    "    cross_validate,  # Memuat fungsi cross_validate untuk melakukan validasi silang dengan metrik evaluasi yang lebih lengkap\n",
    "    GridSearchCV,  # Memuat kelas GridSearchCV untuk pencarian hiperparameter secara sistematis\n",
    ")\n",
    "import warnings\n",
    "\n",
    "warnings.simplefilter(\"ignore\")  # Mengabaikan peringatan (warnings) yang muncul\n"
   ]
  },
  {
   "attachments": {},
   "cell_type": "markdown",
   "metadata": {},
   "source": [
    "### **_Skenario Pengujian_**\n",
    "\n",
    "<ol>\n",
    "  <li>Dataset 1 (Tanpa Augmentasi)\n",
    "    <ol>\n",
    "      <li>Stemmed Data</li>\n",
    "          <ul>\n",
    "          <li>5 Fold</li>\n",
    "          <li>10 Fold</li>\n",
    "          </ul>\n",
    "      <li>Non Stemmed Data\n",
    "          <ul>\n",
    "          <li>5 Fold</li>\n",
    "          <li>10 Fold</li>\n",
    "          </ul>\n",
    "      </li>\n",
    "    </ol>\n",
    "  </li>\n",
    "  <br>\n",
    "  <li>Dataset 2 (Augmentasi)\n",
    "    <ol>\n",
    "      <li>Stemmed Data</li>\n",
    "          <ul>\n",
    "          <li>5 Fold</li>\n",
    "          <li>10 Fold</li>\n",
    "          </ul>\n",
    "      <li>Non Stemmed Data\n",
    "          <ul>\n",
    "          <li>5 Fold</li>\n",
    "          <li>10 Fold</li>\n",
    "          </ul>\n",
    "      </li>\n",
    "    </ol>\n",
    "  </li>\n",
    "</ol>\n"
   ]
  },
  {
   "attachments": {},
   "cell_type": "markdown",
   "metadata": {},
   "source": [
    "## **Dataset 1 (Tanpa Augmentasi)**"
   ]
  },
  {
   "attachments": {},
   "cell_type": "markdown",
   "metadata": {},
   "source": [
    "**1. Stemmed Data**\n"
   ]
  },
  {
   "cell_type": "code",
   "execution_count": 3,
   "metadata": {},
   "outputs": [
    {
     "data": {
      "text/plain": [
       "(5938, 11258)"
      ]
     },
     "execution_count": 3,
     "metadata": {},
     "output_type": "execute_result"
    }
   ],
   "source": [
    "df_noAug_stem = pd.read_csv(\n",
    "    \"../dataset/INA_TweetsPPKM_TFRF_DS1.csv\", sep=\"\\t\"\n",
    ")  # Membaca file CSV dengan nama \"../dataset/INA_TweetsPPKM_TFRF_DS2.csv\" dan menggunakan \"\\t\" sebagai pemisah kolom\n",
    "df_noAug_stem.shape  # Menampilkan bentuk (shape) dari DataFrame df_noAug_stem\n"
   ]
  },
  {
   "cell_type": "code",
   "execution_count": 4,
   "metadata": {},
   "outputs": [
    {
     "data": {
      "text/html": [
       "<div>\n",
       "<style scoped>\n",
       "    .dataframe tbody tr th:only-of-type {\n",
       "        vertical-align: middle;\n",
       "    }\n",
       "\n",
       "    .dataframe tbody tr th {\n",
       "        vertical-align: top;\n",
       "    }\n",
       "\n",
       "    .dataframe thead th {\n",
       "        text-align: right;\n",
       "    }\n",
       "</style>\n",
       "<table border=\"1\" class=\"dataframe\">\n",
       "  <thead>\n",
       "    <tr style=\"text-align: right;\">\n",
       "      <th></th>\n",
       "      <th>stimulasi</th>\n",
       "      <th>optimal</th>\n",
       "      <th>laku</th>\n",
       "      <th>online</th>\n",
       "      <th>penuh</th>\n",
       "      <th>butuh</th>\n",
       "      <th>sebut</th>\n",
       "      <th>tetap</th>\n",
       "      <th>operasi</th>\n",
       "      <th>sesuai</th>\n",
       "      <th>...</th>\n",
       "      <th>wawancara</th>\n",
       "      <th>koyak</th>\n",
       "      <th>distancing</th>\n",
       "      <th>phisical</th>\n",
       "      <th>kunyuk</th>\n",
       "      <th>perubahanperubahan</th>\n",
       "      <th>acau</th>\n",
       "      <th>siihh</th>\n",
       "      <th>disiniii</th>\n",
       "      <th>sentiment</th>\n",
       "    </tr>\n",
       "  </thead>\n",
       "  <tbody>\n",
       "    <tr>\n",
       "      <th>0</th>\n",
       "      <td>0.0</td>\n",
       "      <td>0.0</td>\n",
       "      <td>0.0</td>\n",
       "      <td>0.0</td>\n",
       "      <td>0.0</td>\n",
       "      <td>0.0</td>\n",
       "      <td>0.0</td>\n",
       "      <td>0.0</td>\n",
       "      <td>0.0</td>\n",
       "      <td>0.0</td>\n",
       "      <td>...</td>\n",
       "      <td>0.0</td>\n",
       "      <td>0.0</td>\n",
       "      <td>0.0</td>\n",
       "      <td>0.0</td>\n",
       "      <td>0.0</td>\n",
       "      <td>0.0</td>\n",
       "      <td>0.0</td>\n",
       "      <td>0.0</td>\n",
       "      <td>0.0</td>\n",
       "      <td>1</td>\n",
       "    </tr>\n",
       "    <tr>\n",
       "      <th>1</th>\n",
       "      <td>0.0</td>\n",
       "      <td>0.0</td>\n",
       "      <td>0.0</td>\n",
       "      <td>0.0</td>\n",
       "      <td>0.0</td>\n",
       "      <td>0.0</td>\n",
       "      <td>0.0</td>\n",
       "      <td>0.0</td>\n",
       "      <td>0.0</td>\n",
       "      <td>0.0</td>\n",
       "      <td>...</td>\n",
       "      <td>0.0</td>\n",
       "      <td>0.0</td>\n",
       "      <td>0.0</td>\n",
       "      <td>0.0</td>\n",
       "      <td>0.0</td>\n",
       "      <td>0.0</td>\n",
       "      <td>0.0</td>\n",
       "      <td>0.0</td>\n",
       "      <td>0.0</td>\n",
       "      <td>1</td>\n",
       "    </tr>\n",
       "    <tr>\n",
       "      <th>2</th>\n",
       "      <td>0.0</td>\n",
       "      <td>0.0</td>\n",
       "      <td>0.0</td>\n",
       "      <td>0.0</td>\n",
       "      <td>0.0</td>\n",
       "      <td>0.0</td>\n",
       "      <td>0.0</td>\n",
       "      <td>0.0</td>\n",
       "      <td>0.0</td>\n",
       "      <td>0.0</td>\n",
       "      <td>...</td>\n",
       "      <td>0.0</td>\n",
       "      <td>0.0</td>\n",
       "      <td>0.0</td>\n",
       "      <td>0.0</td>\n",
       "      <td>0.0</td>\n",
       "      <td>0.0</td>\n",
       "      <td>0.0</td>\n",
       "      <td>0.0</td>\n",
       "      <td>0.0</td>\n",
       "      <td>1</td>\n",
       "    </tr>\n",
       "    <tr>\n",
       "      <th>3</th>\n",
       "      <td>0.0</td>\n",
       "      <td>0.0</td>\n",
       "      <td>0.0</td>\n",
       "      <td>0.0</td>\n",
       "      <td>0.0</td>\n",
       "      <td>0.0</td>\n",
       "      <td>0.0</td>\n",
       "      <td>0.0</td>\n",
       "      <td>0.0</td>\n",
       "      <td>0.0</td>\n",
       "      <td>...</td>\n",
       "      <td>0.0</td>\n",
       "      <td>0.0</td>\n",
       "      <td>0.0</td>\n",
       "      <td>0.0</td>\n",
       "      <td>0.0</td>\n",
       "      <td>0.0</td>\n",
       "      <td>0.0</td>\n",
       "      <td>0.0</td>\n",
       "      <td>0.0</td>\n",
       "      <td>1</td>\n",
       "    </tr>\n",
       "    <tr>\n",
       "      <th>4</th>\n",
       "      <td>0.0</td>\n",
       "      <td>0.0</td>\n",
       "      <td>0.0</td>\n",
       "      <td>0.0</td>\n",
       "      <td>0.0</td>\n",
       "      <td>0.0</td>\n",
       "      <td>0.0</td>\n",
       "      <td>0.0</td>\n",
       "      <td>0.0</td>\n",
       "      <td>0.0</td>\n",
       "      <td>...</td>\n",
       "      <td>0.0</td>\n",
       "      <td>0.0</td>\n",
       "      <td>0.0</td>\n",
       "      <td>0.0</td>\n",
       "      <td>0.0</td>\n",
       "      <td>0.0</td>\n",
       "      <td>0.0</td>\n",
       "      <td>0.0</td>\n",
       "      <td>0.0</td>\n",
       "      <td>1</td>\n",
       "    </tr>\n",
       "  </tbody>\n",
       "</table>\n",
       "<p>5 rows × 11258 columns</p>\n",
       "</div>"
      ],
      "text/plain": [
       "   stimulasi  optimal  laku  online  penuh  butuh  sebut  tetap  operasi  \\\n",
       "0        0.0      0.0   0.0     0.0    0.0    0.0    0.0    0.0      0.0   \n",
       "1        0.0      0.0   0.0     0.0    0.0    0.0    0.0    0.0      0.0   \n",
       "2        0.0      0.0   0.0     0.0    0.0    0.0    0.0    0.0      0.0   \n",
       "3        0.0      0.0   0.0     0.0    0.0    0.0    0.0    0.0      0.0   \n",
       "4        0.0      0.0   0.0     0.0    0.0    0.0    0.0    0.0      0.0   \n",
       "\n",
       "   sesuai  ...  wawancara  koyak  distancing  phisical  kunyuk  \\\n",
       "0     0.0  ...        0.0    0.0         0.0       0.0     0.0   \n",
       "1     0.0  ...        0.0    0.0         0.0       0.0     0.0   \n",
       "2     0.0  ...        0.0    0.0         0.0       0.0     0.0   \n",
       "3     0.0  ...        0.0    0.0         0.0       0.0     0.0   \n",
       "4     0.0  ...        0.0    0.0         0.0       0.0     0.0   \n",
       "\n",
       "   perubahanperubahan  acau  siihh  disiniii  sentiment  \n",
       "0                 0.0   0.0    0.0       0.0          1  \n",
       "1                 0.0   0.0    0.0       0.0          1  \n",
       "2                 0.0   0.0    0.0       0.0          1  \n",
       "3                 0.0   0.0    0.0       0.0          1  \n",
       "4                 0.0   0.0    0.0       0.0          1  \n",
       "\n",
       "[5 rows x 11258 columns]"
      ]
     },
     "execution_count": 4,
     "metadata": {},
     "output_type": "execute_result"
    }
   ],
   "source": [
    "df_noAug_stem.head()"
   ]
  },
  {
   "cell_type": "code",
   "execution_count": 6,
   "metadata": {},
   "outputs": [
    {
     "name": "stdout",
     "output_type": "stream",
     "text": [
      "(5938, 11257) (5938,)\n"
     ]
    }
   ],
   "source": [
    "X = df_noAug_stem.drop(\n",
    "    \"sentiment\", axis=1\n",
    ")  # Mengambil fitur dengan menghapus kolom \"sentiment\" dari df_noAug_stem\n",
    "y = df_noAug_stem[\"sentiment\"]  # Mengambil variabel target \"sentiment\" dari df_noAug_stem\n",
    "print(X.shape, y.shape)  # Menampilkan bentuk (shape) dari X dan y\n"
   ]
  },
  {
   "attachments": {},
   "cell_type": "markdown",
   "metadata": {},
   "source": [
    "- **Model Initialize**"
   ]
  },
  {
   "cell_type": "code",
   "execution_count": 7,
   "metadata": {},
   "outputs": [],
   "source": [
    "model = xgb.XGBClassifier(\n",
    "    nthread=4,\n",
    ")\n",
    "\n",
    "scoring = {\n",
    "    \"accuracy\": \"accuracy\",\n",
    "    \"precision\": \"precision_macro\",\n",
    "    \"recall\": \"recall_macro\",\n",
    "}\n",
    "\n",
    "params = {\n",
    "    \"n_estimators\": [\n",
    "        100,\n",
    "        1000,\n",
    "    ],\n",
    "    \"max_depth\": [3, 6],\n",
    "    \"learning_rate\": [\n",
    "        0.01,\n",
    "        0.1,\n",
    "    ],\n",
    "    \"gamma\": [0],\n",
    "    \"subsample\": [1],\n",
    "}\n"
   ]
  },
  {
   "attachments": {},
   "cell_type": "markdown",
   "metadata": {},
   "source": [
    "- **5 Fold**"
   ]
  },
  {
   "cell_type": "code",
   "execution_count": 8,
   "metadata": {},
   "outputs": [
    {
     "name": "stdout",
     "output_type": "stream",
     "text": [
      "Optimal Hyperparameter : {'gamma': 0, 'learning_rate': 0.1, 'max_depth': 6, 'n_estimators': 1000, 'subsample': 1}\n",
      "\n",
      "Cross-Validation Results:\n",
      "Fold 1 : \n",
      "Accuracy = 82.74% | Precision = 81.11% | Recall = 78.90%\n",
      "\n",
      "Fold 2 : \n",
      "Accuracy = 83.00% | Precision = 83.77% | Recall = 76.82%\n",
      "\n",
      "Fold 3 : \n",
      "Accuracy = 83.59% | Precision = 82.51% | Recall = 79.34%\n",
      "\n",
      "Fold 4 : \n",
      "Accuracy = 82.31% | Precision = 81.27% | Recall = 77.37%\n",
      "\n",
      "Fold 5 : \n",
      "Accuracy = 84.08% | Precision = 84.33% | Recall = 78.69%\n",
      "\n",
      "Average Results : \n",
      "Accuracy = 83.14% (0.62%) | Precision = 82.60% (1.29%) | Recall = 78.23% (0.96%)\n"
     ]
    }
   ],
   "source": [
    "numFold = 5  # Jumlah lipatan (folds) dalam validasi silang\n",
    "\n",
    "xgb_gr = GridSearchCV(\n",
    "    estimator=model, param_grid=params, scoring=\"accuracy\", cv=numFold\n",
    ")  # Membuat objek GridSearchCV dengan model, params hyperparameter, metrik evaluasi, dan jumlah lipatan yang ditentukan\n",
    "\n",
    "xgb_gr.fit(\n",
    "    X, y\n",
    ")  # Melakukan pencarian params hyperparameter terbaik menggunakan fitur (X) dan target (y)\n",
    "best_params = xgb_gr.best_params_  # Mendapatkan hyperparameter terbaik yang ditemukan\n",
    "\n",
    "results = cross_validate(\n",
    "    xgb_gr.best_estimator_, X, y, cv=numFold, scoring=scoring\n",
    ")  # Melakukan validasi silang dengan model terbaik yang ditemukan, fitur (X), target (y), jumlah lipatan, dan metrik evaluasi yang telah ditentukan\n",
    "\n",
    "accuracy_scores = results[\n",
    "    \"test_accuracy\"\n",
    "]  # Menyimpan skor akurasi dari hasil validasi silang\n",
    "precision_scores = results[\n",
    "    \"test_precision\"\n",
    "]  # Menyimpan skor presisi dari hasil validasi silang\n",
    "recall_scores = results[\n",
    "    \"test_recall\"\n",
    "]  # Menyimpan skor recall dari hasil validasi silang\n",
    "\n",
    "print(f\"Optimal Hyperparameter : {best_params}\\n\")\n",
    "print(\"Cross-Validation Results:\")\n",
    "\n",
    "for i in range(numFold):  # Melakukan perulangan untuk setiap lipatan (fold)\n",
    "    print(f\"Fold {i+1} : \")\n",
    "    print(\n",
    "        f\"Accuracy = {accuracy_scores[i]*100:.2f}% | Precision = {precision_scores[i]*100:.2f}% | Recall = {recall_scores[i]*100:.2f}%\\n\"\n",
    "    )\n",
    "\n",
    "print(\n",
    "    f\"Average Results : \\nAccuracy = {accuracy_scores.mean()*100:.2f}% ({accuracy_scores.std()*100:.2f}%) | Precision = {precision_scores.mean()*100:.2f}% ({precision_scores.std()*100:.2f}%) | Recall = {recall_scores.mean()*100:.2f}% ({recall_scores.std()*100:.2f}%)\"\n",
    ")\n"
   ]
  },
  {
   "attachments": {},
   "cell_type": "markdown",
   "metadata": {},
   "source": [
    "- **10 Fold**"
   ]
  },
  {
   "cell_type": "code",
   "execution_count": 9,
   "metadata": {
    "tags": []
   },
   "outputs": [
    {
     "name": "stdout",
     "output_type": "stream",
     "text": [
      "Optimal Hyperparameter : {'gamma': 0, 'learning_rate': 0.1, 'max_depth': 6, 'n_estimators': 1000, 'subsample': 1}\n",
      "\n",
      "Cross-Validation Results:\n",
      "Fold 1 : \n",
      "Accuracy = 84.01% | Precision = 82.06% | Recall = 81.46%\n",
      "\n",
      "Fold 2 : \n",
      "Accuracy = 85.02% | Precision = 84.11% | Recall = 81.18%\n",
      "\n",
      "Fold 3 : \n",
      "Accuracy = 83.00% | Precision = 83.23% | Recall = 77.21%\n",
      "\n",
      "Fold 4 : \n",
      "Accuracy = 83.33% | Precision = 83.37% | Recall = 77.85%\n",
      "\n",
      "Fold 5 : \n",
      "Accuracy = 81.48% | Precision = 79.94% | Recall = 76.86%\n",
      "\n",
      "Fold 6 : \n",
      "Accuracy = 85.69% | Precision = 85.31% | Recall = 81.55%\n",
      "\n",
      "Fold 7 : \n",
      "Accuracy = 86.87% | Precision = 86.59% | Recall = 83.08%\n",
      "\n",
      "Fold 8 : \n",
      "Accuracy = 79.97% | Precision = 78.49% | Recall = 74.43%\n",
      "\n",
      "Fold 9 : \n",
      "Accuracy = 83.31% | Precision = 84.20% | Recall = 77.10%\n",
      "\n",
      "Fold 10 : \n",
      "Accuracy = 85.50% | Precision = 85.69% | Recall = 80.70%\n",
      "\n",
      "Average Results : \n",
      "Accuracy = 83.82% (1.96%) | Precision = 83.30% (2.41%) | Recall = 79.14% (2.65%)\n"
     ]
    }
   ],
   "source": [
    "numFold = 10  # Jumlah lipatan (folds) dalam validasi silang\n",
    "\n",
    "xgb_gr = GridSearchCV(\n",
    "    estimator=model, param_grid=params, scoring=\"accuracy\", cv=numFold\n",
    ")  # Membuat objek GridSearchCV dengan model, params hyperparameter, metrik evaluasi, dan jumlah lipatan yang ditentukan\n",
    "\n",
    "xgb_gr.fit(\n",
    "    X, y\n",
    ")  # Melakukan pencarian params hyperparameter terbaik menggunakan fitur (X) dan target (y)\n",
    "best_params = xgb_gr.best_params_  # Mendapatkan hyperparameter terbaik yang ditemukan\n",
    "\n",
    "results = cross_validate(\n",
    "    xgb_gr.best_estimator_, X, y, cv=numFold, scoring=scoring\n",
    ")  # Melakukan validasi silang dengan model terbaik yang ditemukan, fitur (X), target (y), jumlah lipatan, dan metrik evaluasi yang telah ditentukan\n",
    "\n",
    "accuracy_scores = results[\n",
    "    \"test_accuracy\"\n",
    "]  # Menyimpan skor akurasi dari hasil validasi silang\n",
    "precision_scores = results[\n",
    "    \"test_precision\"\n",
    "]  # Menyimpan skor presisi dari hasil validasi silang\n",
    "recall_scores = results[\n",
    "    \"test_recall\"\n",
    "]  # Menyimpan skor recall dari hasil validasi silang\n",
    "\n",
    "print(f\"Optimal Hyperparameter : {best_params}\\n\")\n",
    "print(\"Cross-Validation Results:\")\n",
    "\n",
    "for i in range(numFold):  # Melakukan perulangan untuk setiap lipatan (fold)\n",
    "    print(f\"Fold {i+1} : \")\n",
    "    print(\n",
    "        f\"Accuracy = {accuracy_scores[i]*100:.2f}% | Precision = {precision_scores[i]*100:.2f}% | Recall = {recall_scores[i]*100:.2f}%\\n\"\n",
    "    )\n",
    "\n",
    "print(\n",
    "    f\"Average Results : \\nAccuracy = {accuracy_scores.mean()*100:.2f}% ({accuracy_scores.std()*100:.2f}%) | Precision = {precision_scores.mean()*100:.2f}% ({precision_scores.std()*100:.2f}%) | Recall = {recall_scores.mean()*100:.2f}% ({recall_scores.std()*100:.2f}%)\"\n",
    ")\n"
   ]
  },
  {
   "attachments": {},
   "cell_type": "markdown",
   "metadata": {},
   "source": [
    "**2. Non Stemmed Data**\n"
   ]
  },
  {
   "attachments": {},
   "cell_type": "markdown",
   "metadata": {},
   "source": [
    "- **5 Fold**"
   ]
  },
  {
   "cell_type": "code",
   "execution_count": 10,
   "metadata": {},
   "outputs": [
    {
     "data": {
      "text/plain": [
       "(5938, 14773)"
      ]
     },
     "execution_count": 10,
     "metadata": {},
     "output_type": "execute_result"
    }
   ],
   "source": [
    "df_noAug_noStem = pd.read_csv(\"../dataset/INA_TweetsPPKM_TFRF_DS1_NoStem.csv\", sep=\"\\t\")\n",
    "df_noAug_noStem.shape"
   ]
  },
  {
   "cell_type": "code",
   "execution_count": 11,
   "metadata": {},
   "outputs": [
    {
     "data": {
      "text/plain": [
       "(5938, 14773)"
      ]
     },
     "execution_count": 11,
     "metadata": {},
     "output_type": "execute_result"
    }
   ],
   "source": [
    "df_noAug_noStem.shape"
   ]
  },
  {
   "cell_type": "code",
   "execution_count": 12,
   "metadata": {},
   "outputs": [
    {
     "name": "stdout",
     "output_type": "stream",
     "text": [
      "(5938, 14772) (5938,)\n"
     ]
    }
   ],
   "source": [
    "X = df_noAug_noStem.drop(\n",
    "    \"sentiment\", axis=1\n",
    ")  # Mengambil fitur dengan menghapus kolom \"sentiment\" dari df_noAug_stem\n",
    "y = df_noAug_noStem[\"sentiment\"]  # Mengambil variabel target \"sentiment\" dari df_noAug_stem\n",
    "print(X.shape, y.shape)  # Menampilkan bentuk (shape) dari X dan y\n"
   ]
  },
  {
   "attachments": {},
   "cell_type": "markdown",
   "metadata": {},
   "source": [
    "- **Model Initialize**"
   ]
  },
  {
   "cell_type": "code",
   "execution_count": 13,
   "metadata": {},
   "outputs": [],
   "source": [
    "model = xgb.XGBClassifier(\n",
    "    nthread=4,\n",
    ")\n",
    "\n",
    "scoring = {\n",
    "    \"accuracy\": \"accuracy\",\n",
    "    \"precision\": \"precision_macro\",\n",
    "    \"recall\": \"recall_macro\",\n",
    "}\n",
    "\n",
    "params = {\n",
    "    \"n_estimators\": [\n",
    "        100,\n",
    "        1000,\n",
    "    ],\n",
    "    \"max_depth\": [3, 6],\n",
    "    \"learning_rate\": [\n",
    "        0.01,\n",
    "        0.1,\n",
    "    ],\n",
    "    \"gamma\": [0],\n",
    "    \"subsample\": [1],\n",
    "}"
   ]
  },
  {
   "attachments": {},
   "cell_type": "markdown",
   "metadata": {},
   "source": [
    "- **5 Fold**"
   ]
  },
  {
   "cell_type": "code",
   "execution_count": 14,
   "metadata": {},
   "outputs": [
    {
     "name": "stdout",
     "output_type": "stream",
     "text": [
      "Optimal Hyperparameter : {'gamma': 0, 'learning_rate': 0.1, 'max_depth': 6, 'n_estimators': 1000, 'subsample': 1}\n",
      "\n",
      "Cross-Validation Results:\n",
      "Fold 1 : \n",
      "Accuracy = 82.32% | Precision = 80.58% | Recall = 78.46%\n",
      "\n",
      "Fold 2 : \n",
      "Accuracy = 83.16% | Precision = 84.31% | Recall = 76.82%\n",
      "\n",
      "Fold 3 : \n",
      "Accuracy = 83.33% | Precision = 82.27% | Recall = 78.95%\n",
      "\n",
      "Fold 4 : \n",
      "Accuracy = 81.55% | Precision = 81.12% | Recall = 75.64%\n",
      "\n",
      "Fold 5 : \n",
      "Accuracy = 82.14% | Precision = 81.89% | Recall = 76.34%\n",
      "\n",
      "Average Results : \n",
      "Accuracy = 82.50% (0.66%) | Precision = 82.03% (1.28%) | Recall = 77.24% (1.26%)\n"
     ]
    }
   ],
   "source": [
    "numFold = 5  # Jumlah lipatan (folds) dalam validasi silang\n",
    "\n",
    "xgb_gr = GridSearchCV(\n",
    "    estimator=model, param_grid=params, scoring=\"accuracy\", cv=numFold\n",
    ")  # Membuat objek GridSearchCV dengan model, params hyperparameter, metrik evaluasi, dan jumlah lipatan yang ditentukan\n",
    "\n",
    "xgb_gr.fit(\n",
    "    X, y\n",
    ")  # Melakukan pencarian params hyperparameter terbaik menggunakan fitur (X) dan target (y)\n",
    "best_params = xgb_gr.best_params_  # Mendapatkan hyperparameter terbaik yang ditemukan\n",
    "\n",
    "results = cross_validate(\n",
    "    xgb_gr.best_estimator_, X, y, cv=numFold, scoring=scoring\n",
    ")  # Melakukan validasi silang dengan model terbaik yang ditemukan, fitur (X), target (y), jumlah lipatan, dan metrik evaluasi yang telah ditentukan\n",
    "\n",
    "accuracy_scores = results[\n",
    "    \"test_accuracy\"\n",
    "]  # Menyimpan skor akurasi dari hasil validasi silang\n",
    "precision_scores = results[\n",
    "    \"test_precision\"\n",
    "]  # Menyimpan skor presisi dari hasil validasi silang\n",
    "recall_scores = results[\n",
    "    \"test_recall\"\n",
    "]  # Menyimpan skor recall dari hasil validasi silang\n",
    "\n",
    "print(f\"Optimal Hyperparameter : {best_params}\\n\")\n",
    "print(\"Cross-Validation Results:\")\n",
    "\n",
    "for i in range(numFold):  # Melakukan perulangan untuk setiap lipatan (fold)\n",
    "    print(f\"Fold {i+1} : \")\n",
    "    print(\n",
    "        f\"Accuracy = {accuracy_scores[i]*100:.2f}% | Precision = {precision_scores[i]*100:.2f}% | Recall = {recall_scores[i]*100:.2f}%\\n\"\n",
    "    )\n",
    "\n",
    "print(\n",
    "    f\"Average Results : \\nAccuracy = {accuracy_scores.mean()*100:.2f}% ({accuracy_scores.std()*100:.2f}%) | Precision = {precision_scores.mean()*100:.2f}% ({precision_scores.std()*100:.2f}%) | Recall = {recall_scores.mean()*100:.2f}% ({recall_scores.std()*100:.2f}%)\"\n",
    ")\n"
   ]
  },
  {
   "attachments": {},
   "cell_type": "markdown",
   "metadata": {},
   "source": [
    "- **10 Fold**"
   ]
  },
  {
   "cell_type": "code",
   "execution_count": 15,
   "metadata": {},
   "outputs": [],
   "source": [
    "numFold = 10  # Jumlah lipatan (folds) dalam validasi silang\n",
    "\n",
    "xgb_gr = GridSearchCV(\n",
    "    estimator=model, param_grid=params, scoring=\"accuracy\", cv=numFold\n",
    ")  # Membuat objek GridSearchCV dengan model, params hyperparameter, metrik evaluasi, dan jumlah lipatan yang ditentukan\n",
    "\n",
    "xgb_gr.fit(\n",
    "    X, y\n",
    ")  # Melakukan pencarian params hyperparameter terbaik menggunakan fitur (X) dan target (y)\n",
    "best_params = xgb_gr.best_params_  # Mendapatkan hyperparameter terbaik yang ditemukan\n",
    "\n",
    "results = cross_validate(\n",
    "    xgb_gr.best_estimator_, X, y, cv=numFold, scoring=scoring\n",
    ")  # Melakukan validasi silang dengan model terbaik yang ditemukan, fitur (X), target (y), jumlah lipatan, dan metrik evaluasi yang telah ditentukan\n",
    "\n",
    "accuracy_scores = results[\n",
    "    \"test_accuracy\"\n",
    "]  # Menyimpan skor akurasi dari hasil validasi silang\n",
    "precision_scores = results[\n",
    "    \"test_precision\"\n",
    "]  # Menyimpan skor presisi dari hasil validasi silang\n",
    "recall_scores = results[\n",
    "    \"test_recall\"\n",
    "]  # Menyimpan skor recall dari hasil validasi silang\n",
    "\n",
    "print(f\"Optimal Hyperparameter : {best_params}\\n\")\n",
    "print(\"Cross-Validation Results:\")\n",
    "\n",
    "for i in range(numFold):  # Melakukan perulangan untuk setiap lipatan (fold)\n",
    "    print(f\"Fold {i+1} : \")\n",
    "    print(\n",
    "        f\"Accuracy = {accuracy_scores[i]*100:.2f}% | Precision = {precision_scores[i]*100:.2f}% | Recall = {recall_scores[i]*100:.2f}%\\n\"\n",
    "    )\n",
    "\n",
    "print(\n",
    "    f\"Average Results : \\nAccuracy = {accuracy_scores.mean()*100:.2f}% ({accuracy_scores.std()*100:.2f}%) | Precision = {precision_scores.mean()*100:.2f}% ({precision_scores.std()*100:.2f}%) | Recall = {recall_scores.mean()*100:.2f}% ({recall_scores.std()*100:.2f}%)\"\n",
    ")"
   ]
  },
  {
   "attachments": {},
   "cell_type": "markdown",
   "metadata": {},
   "source": [
    "## **Dataset 2 (Augmentasi)**"
   ]
  },
  {
   "attachments": {},
   "cell_type": "markdown",
   "metadata": {},
   "source": [
    "**1. Stemmed**"
   ]
  },
  {
   "cell_type": "code",
   "execution_count": null,
   "metadata": {},
   "outputs": [],
   "source": [
    "df_aug_stem = pd.read_csv(\"../dataset/INA_TweetsPPKM_TFRF_DS3.csv\", sep=\"\\t\")\n",
    "df_aug_stem.shape"
   ]
  },
  {
   "cell_type": "code",
   "execution_count": null,
   "metadata": {},
   "outputs": [],
   "source": [
    "df_aug_stem.head(5)"
   ]
  },
  {
   "cell_type": "code",
   "execution_count": null,
   "metadata": {},
   "outputs": [],
   "source": [
    "X = df_aug_stem.drop(\"sentiment\", axis=1)\n",
    "y = df_aug_stem[\"sentiment\"]\n",
    "X.shape, y.shape\n"
   ]
  },
  {
   "attachments": {},
   "cell_type": "markdown",
   "metadata": {},
   "source": [
    "- **Model Initialize**"
   ]
  },
  {
   "cell_type": "code",
   "execution_count": null,
   "metadata": {},
   "outputs": [],
   "source": [
    "model = xgb.XGBClassifier(\n",
    "    nthread=4,\n",
    ")\n",
    "\n",
    "scoring = {\n",
    "    \"accuracy\": \"accuracy\",\n",
    "    \"precision\": \"precision_macro\",\n",
    "    \"recall\": \"recall_macro\",\n",
    "}\n",
    "\n",
    "params = {\n",
    "    \"n_estimators\": [\n",
    "        100,\n",
    "        1000,\n",
    "    ],\n",
    "    \"max_depth\": [3, 6],\n",
    "    \"learning_rate\": [\n",
    "        0.02,\n",
    "        0.1,\n",
    "    ],\n",
    "    \"gamma\": [0],\n",
    "    \"subsample\": [1],\n",
    "}\n"
   ]
  },
  {
   "attachments": {},
   "cell_type": "markdown",
   "metadata": {},
   "source": [
    "- **5 Fold**"
   ]
  },
  {
   "cell_type": "code",
   "execution_count": null,
   "metadata": {},
   "outputs": [],
   "source": [
    "numFold = 3  # Jumlah lipatan (folds) dalam validasi silang\n",
    "\n",
    "xgb_gr = GridSearchCV(\n",
    "    estimator=model, param_grid=params, scoring=\"accuracy\", cv=numFold\n",
    ")  # Membuat objek GridSearchCV dengan model, params hyperparameter, metrik evaluasi, dan jumlah lipatan yang ditentukan\n",
    "\n",
    "xgb_gr.fit(\n",
    "    X, y\n",
    ")  # Melakukan pencarian params hyperparameter terbaik menggunakan fitur (X) dan target (y)\n",
    "best_params = xgb_gr.best_params_  # Mendapatkan hyperparameter terbaik yang ditemukan\n",
    "\n",
    "results = cross_validate(\n",
    "    xgb_gr.best_estimator_, X, y, cv=numFold, scoring=scoring\n",
    ")  # Melakukan validasi silang dengan model terbaik yang ditemukan, fitur (X), target (y), jumlah lipatan, dan metrik evaluasi yang telah ditentukan\n",
    "\n",
    "accuracy_scores = results[\n",
    "    \"test_accuracy\"\n",
    "]  # Menyimpan skor akurasi dari hasil validasi silang\n",
    "precision_scores = results[\n",
    "    \"test_precision\"\n",
    "]  # Menyimpan skor presisi dari hasil validasi silang\n",
    "recall_scores = results[\n",
    "    \"test_recall\"\n",
    "]  # Menyimpan skor recall dari hasil validasi silang\n",
    "\n",
    "print(f\"Optimal Hyperparameter : {best_params}\\n\")\n",
    "print(\"Cross-Validation Results:\")\n",
    "\n",
    "for i in range(numFold):  # Melakukan perulangan untuk setiap lipatan (fold)\n",
    "    print(f\"Fold {i+1} : \")\n",
    "    print(\n",
    "        f\"Accuracy = {accuracy_scores[i]*100:.2f}% | Precision = {precision_scores[i]*100:.2f}% | Recall = {recall_scores[i]*100:.2f}%\\n\"\n",
    "    )\n",
    "\n",
    "print(\n",
    "    f\"Average Results : \\nAccuracy = {accuracy_scores.mean()*100:.2f}% ({accuracy_scores.std()*100:.2f}%) | Precision = {precision_scores.mean()*100:.2f}% | Recall = {recall_scores.mean()*100:.2f}%\"\n",
    ")"
   ]
  },
  {
   "attachments": {},
   "cell_type": "markdown",
   "metadata": {},
   "source": [
    "- **10 Fold**"
   ]
  },
  {
   "cell_type": "code",
   "execution_count": null,
   "metadata": {},
   "outputs": [],
   "source": [
    "kfold = KFold(n_splits=10)\n",
    "SKFold2 = StratifiedKFold(n_splits=10)\n",
    "result2 = cross_val_score(model, X=X, y=y, cv=SKFold2)\n",
    "print(\"Accuracy: %.2f%% (%.2f%%)\" % (result2.mean() * 100, result2.std() * 100))\n"
   ]
  },
  {
   "attachments": {},
   "cell_type": "markdown",
   "metadata": {},
   "source": [
    "**2. Non Stemmed**"
   ]
  },
  {
   "cell_type": "code",
   "execution_count": null,
   "metadata": {},
   "outputs": [],
   "source": [
    "df_aug_noStem = pd.read_csv(\"\", sep=\"\\t\")"
   ]
  },
  {
   "attachments": {},
   "cell_type": "markdown",
   "metadata": {},
   "source": [
    "- **5 Fold**"
   ]
  },
  {
   "cell_type": "code",
   "execution_count": null,
   "metadata": {},
   "outputs": [],
   "source": []
  },
  {
   "cell_type": "code",
   "execution_count": null,
   "metadata": {},
   "outputs": [],
   "source": []
  },
  {
   "attachments": {},
   "cell_type": "markdown",
   "metadata": {},
   "source": [
    "- **10 Fold**"
   ]
  },
  {
   "cell_type": "code",
   "execution_count": null,
   "metadata": {},
   "outputs": [],
   "source": [
    "\n"
   ]
  },
  {
   "cell_type": "code",
   "execution_count": null,
   "metadata": {},
   "outputs": [],
   "source": []
  }
 ],
 "metadata": {
  "kernelspec": {
   "display_name": "env",
   "language": "python",
   "name": "python3"
  },
  "language_info": {
   "codemirror_mode": {
    "name": "ipython",
    "version": 3
   },
   "file_extension": ".py",
   "mimetype": "text/x-python",
   "name": "python",
   "nbconvert_exporter": "python",
   "pygments_lexer": "ipython3",
   "version": "3.10.7"
  },
  "orig_nbformat": 4
 },
 "nbformat": 4,
 "nbformat_minor": 2
}
