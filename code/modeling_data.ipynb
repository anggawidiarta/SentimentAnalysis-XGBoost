{
 "cells": [
  {
   "cell_type": "code",
   "execution_count": 1,
   "metadata": {},
   "outputs": [],
   "source": [
    "import numpy as np\n",
    "import pandas as pd\n",
    "import xgboost as xgb\n",
    "from sklearn.model_selection import (\n",
    "    cross_validate,  # Memuat fungsi cross_validate untuk melakukan validasi silang dengan metrik evaluasi yang lebih lengkap\n",
    "    GridSearchCV,  # Memuat kelas GridSearchCV untuk pencarian hiperparameter secara sistematis\n",
    ")\n",
    "import warnings\n",
    "\n",
    "warnings.simplefilter(\"ignore\")  # Mengabaikan peringatan (warnings) yang muncul\n"
   ]
  },
  {
   "attachments": {},
   "cell_type": "markdown",
   "metadata": {},
   "source": [
    "## **Modeling Data Dataset 2 (Tanpa Augmentasi)**"
   ]
  },
  {
   "attachments": {},
   "cell_type": "markdown",
   "metadata": {},
   "source": [
    "- ### **_Stemmed Data_**\n"
   ]
  },
  {
   "cell_type": "code",
   "execution_count": 2,
   "metadata": {},
   "outputs": [
    {
     "data": {
      "text/plain": [
       "(5938, 11258)"
      ]
     },
     "execution_count": 2,
     "metadata": {},
     "output_type": "execute_result"
    }
   ],
   "source": [
    "df_noAug_stem = pd.read_csv(\n",
    "    \"../dataset/INA_TweetsPPKM_TFRF_DS2.csv\", sep=\"\\t\"\n",
    ")  # Membaca file CSV dengan nama \"../dataset/INA_TweetsPPKM_TFRF_DS2.csv\" dan menggunakan \"\\t\" sebagai pemisah kolom\n",
    "df_noAug_stem.shape  # Menampilkan bentuk (shape) dari DataFrame df_noAug_stem\n"
   ]
  },
  {
   "cell_type": "code",
   "execution_count": 3,
   "metadata": {},
   "outputs": [
    {
     "data": {
      "text/html": [
       "<div>\n",
       "<style scoped>\n",
       "    .dataframe tbody tr th:only-of-type {\n",
       "        vertical-align: middle;\n",
       "    }\n",
       "\n",
       "    .dataframe tbody tr th {\n",
       "        vertical-align: top;\n",
       "    }\n",
       "\n",
       "    .dataframe thead th {\n",
       "        text-align: right;\n",
       "    }\n",
       "</style>\n",
       "<table border=\"1\" class=\"dataframe\">\n",
       "  <thead>\n",
       "    <tr style=\"text-align: right;\">\n",
       "      <th></th>\n",
       "      <th>stimulasi</th>\n",
       "      <th>optimal</th>\n",
       "      <th>laku</th>\n",
       "      <th>online</th>\n",
       "      <th>penuh</th>\n",
       "      <th>butuh</th>\n",
       "      <th>sebut</th>\n",
       "      <th>tetap</th>\n",
       "      <th>operasi</th>\n",
       "      <th>sesuai</th>\n",
       "      <th>...</th>\n",
       "      <th>wawancara</th>\n",
       "      <th>koyak</th>\n",
       "      <th>distancing</th>\n",
       "      <th>phisical</th>\n",
       "      <th>kunyuk</th>\n",
       "      <th>perubahanperubahan</th>\n",
       "      <th>acau</th>\n",
       "      <th>siihh</th>\n",
       "      <th>disiniii</th>\n",
       "      <th>sentiment</th>\n",
       "    </tr>\n",
       "  </thead>\n",
       "  <tbody>\n",
       "    <tr>\n",
       "      <th>0</th>\n",
       "      <td>0.0</td>\n",
       "      <td>0.0</td>\n",
       "      <td>0.0</td>\n",
       "      <td>0.0</td>\n",
       "      <td>0.0</td>\n",
       "      <td>0.0</td>\n",
       "      <td>0.0</td>\n",
       "      <td>0.0</td>\n",
       "      <td>0.0</td>\n",
       "      <td>0.0</td>\n",
       "      <td>...</td>\n",
       "      <td>0.0</td>\n",
       "      <td>0.0</td>\n",
       "      <td>0.0</td>\n",
       "      <td>0.0</td>\n",
       "      <td>0.0</td>\n",
       "      <td>0.0</td>\n",
       "      <td>0.0</td>\n",
       "      <td>0.0</td>\n",
       "      <td>0.0</td>\n",
       "      <td>1</td>\n",
       "    </tr>\n",
       "    <tr>\n",
       "      <th>1</th>\n",
       "      <td>0.0</td>\n",
       "      <td>0.0</td>\n",
       "      <td>0.0</td>\n",
       "      <td>0.0</td>\n",
       "      <td>0.0</td>\n",
       "      <td>0.0</td>\n",
       "      <td>0.0</td>\n",
       "      <td>0.0</td>\n",
       "      <td>0.0</td>\n",
       "      <td>0.0</td>\n",
       "      <td>...</td>\n",
       "      <td>0.0</td>\n",
       "      <td>0.0</td>\n",
       "      <td>0.0</td>\n",
       "      <td>0.0</td>\n",
       "      <td>0.0</td>\n",
       "      <td>0.0</td>\n",
       "      <td>0.0</td>\n",
       "      <td>0.0</td>\n",
       "      <td>0.0</td>\n",
       "      <td>1</td>\n",
       "    </tr>\n",
       "    <tr>\n",
       "      <th>2</th>\n",
       "      <td>0.0</td>\n",
       "      <td>0.0</td>\n",
       "      <td>0.0</td>\n",
       "      <td>0.0</td>\n",
       "      <td>0.0</td>\n",
       "      <td>0.0</td>\n",
       "      <td>0.0</td>\n",
       "      <td>0.0</td>\n",
       "      <td>0.0</td>\n",
       "      <td>0.0</td>\n",
       "      <td>...</td>\n",
       "      <td>0.0</td>\n",
       "      <td>0.0</td>\n",
       "      <td>0.0</td>\n",
       "      <td>0.0</td>\n",
       "      <td>0.0</td>\n",
       "      <td>0.0</td>\n",
       "      <td>0.0</td>\n",
       "      <td>0.0</td>\n",
       "      <td>0.0</td>\n",
       "      <td>1</td>\n",
       "    </tr>\n",
       "    <tr>\n",
       "      <th>3</th>\n",
       "      <td>0.0</td>\n",
       "      <td>0.0</td>\n",
       "      <td>0.0</td>\n",
       "      <td>0.0</td>\n",
       "      <td>0.0</td>\n",
       "      <td>0.0</td>\n",
       "      <td>0.0</td>\n",
       "      <td>0.0</td>\n",
       "      <td>0.0</td>\n",
       "      <td>0.0</td>\n",
       "      <td>...</td>\n",
       "      <td>0.0</td>\n",
       "      <td>0.0</td>\n",
       "      <td>0.0</td>\n",
       "      <td>0.0</td>\n",
       "      <td>0.0</td>\n",
       "      <td>0.0</td>\n",
       "      <td>0.0</td>\n",
       "      <td>0.0</td>\n",
       "      <td>0.0</td>\n",
       "      <td>1</td>\n",
       "    </tr>\n",
       "    <tr>\n",
       "      <th>4</th>\n",
       "      <td>0.0</td>\n",
       "      <td>0.0</td>\n",
       "      <td>0.0</td>\n",
       "      <td>0.0</td>\n",
       "      <td>0.0</td>\n",
       "      <td>0.0</td>\n",
       "      <td>0.0</td>\n",
       "      <td>0.0</td>\n",
       "      <td>0.0</td>\n",
       "      <td>0.0</td>\n",
       "      <td>...</td>\n",
       "      <td>0.0</td>\n",
       "      <td>0.0</td>\n",
       "      <td>0.0</td>\n",
       "      <td>0.0</td>\n",
       "      <td>0.0</td>\n",
       "      <td>0.0</td>\n",
       "      <td>0.0</td>\n",
       "      <td>0.0</td>\n",
       "      <td>0.0</td>\n",
       "      <td>1</td>\n",
       "    </tr>\n",
       "  </tbody>\n",
       "</table>\n",
       "<p>5 rows × 11258 columns</p>\n",
       "</div>"
      ],
      "text/plain": [
       "   stimulasi  optimal  laku  online  penuh  butuh  sebut  tetap  operasi  \\\n",
       "0        0.0      0.0   0.0     0.0    0.0    0.0    0.0    0.0      0.0   \n",
       "1        0.0      0.0   0.0     0.0    0.0    0.0    0.0    0.0      0.0   \n",
       "2        0.0      0.0   0.0     0.0    0.0    0.0    0.0    0.0      0.0   \n",
       "3        0.0      0.0   0.0     0.0    0.0    0.0    0.0    0.0      0.0   \n",
       "4        0.0      0.0   0.0     0.0    0.0    0.0    0.0    0.0      0.0   \n",
       "\n",
       "   sesuai  ...  wawancara  koyak  distancing  phisical  kunyuk  \\\n",
       "0     0.0  ...        0.0    0.0         0.0       0.0     0.0   \n",
       "1     0.0  ...        0.0    0.0         0.0       0.0     0.0   \n",
       "2     0.0  ...        0.0    0.0         0.0       0.0     0.0   \n",
       "3     0.0  ...        0.0    0.0         0.0       0.0     0.0   \n",
       "4     0.0  ...        0.0    0.0         0.0       0.0     0.0   \n",
       "\n",
       "   perubahanperubahan  acau  siihh  disiniii  sentiment  \n",
       "0                 0.0   0.0    0.0       0.0          1  \n",
       "1                 0.0   0.0    0.0       0.0          1  \n",
       "2                 0.0   0.0    0.0       0.0          1  \n",
       "3                 0.0   0.0    0.0       0.0          1  \n",
       "4                 0.0   0.0    0.0       0.0          1  \n",
       "\n",
       "[5 rows x 11258 columns]"
      ]
     },
     "execution_count": 3,
     "metadata": {},
     "output_type": "execute_result"
    }
   ],
   "source": [
    "df_noAug_stem.head()"
   ]
  },
  {
   "cell_type": "code",
   "execution_count": 5,
   "metadata": {},
   "outputs": [
    {
     "name": "stdout",
     "output_type": "stream",
     "text": [
      "(5938, 11257) (5938,)\n"
     ]
    }
   ],
   "source": [
    "X = df_noAug_stem.drop(\n",
    "    \"sentiment\", axis=1\n",
    ")  # Mengambil fitur dengan menghapus kolom \"sentiment\" dari df_noAug_stem\n",
    "y = df_noAug_stem[\"sentiment\"]  # Mengambil variabel target \"sentiment\" dari df_noAug_stem\n",
    "print(X.shape, y.shape)  # Menampilkan bentuk (shape) dari X dan y\n"
   ]
  },
  {
   "attachments": {},
   "cell_type": "markdown",
   "metadata": {},
   "source": [
    "- **5 Fold**"
   ]
  },
  {
   "cell_type": "code",
   "execution_count": 9,
   "metadata": {},
   "outputs": [],
   "source": [
    "from sklearn.model_selection import GridSearchCV\n",
    "\n",
    "model = xgb.XGBClassifier(\n",
    "    gamma=0.5,  # Nilai gamma untuk kontrol pruning\n",
    "    subsample=0.5,  # Persentase sampel yang digunakan untuk melatih setiap pohon\n",
    "    nthread=4,  # Jumlah thread yang akan digunakan dalam pemodelan\n",
    ")\n",
    "\n",
    "scoring = {\n",
    "    \"accuracy\": \"accuracy\",  # Metrik evaluasi yang digunakan: akurasi\n",
    "    \"precision\": \"precision_macro\",  # Metrik evaluasi yang digunakan: presisi dengan skema makro\n",
    "    \"recall\": \"recall_macro\",  # Metrik evaluasi yang digunakan: recall dengan skema makro\n",
    "}\n",
    "\n",
    "grid = {\n",
    "    \"n_estimators\": [\n",
    "        25,\n",
    "        30,\n",
    "    ],  # Daftar nilai yang akan diuji untuk hyperparameter n_estimators\n",
    "    \"max_depth\": [3, 4],  # Daftar nilai yang akan diuji untuk hyperparameter max_depth\n",
    "    \"learning_rate\": [\n",
    "        0.02,\n",
    "        0.1,\n",
    "    ],  # Daftar nilai yang akan diuji untuk hyperparameter learning_rate\n",
    "}\n",
    "\n",
    "numFold = 5  # Jumlah lipatan (folds) dalam validasi silang\n",
    "\n",
    "xgb_gr = GridSearchCV(\n",
    "    estimator=model, param_grid=grid, scoring=\"accuracy\", cv=numFold\n",
    ")  # Membuat objek GridSearchCV dengan model, grid hyperparameter, metrik evaluasi, dan jumlah lipatan yang ditentukan\n",
    "\n",
    "xgb_gr.fit(\n",
    "    X, y\n",
    ")  # Melakukan pencarian grid hyperparameter terbaik menggunakan fitur (X) dan target (y)\n",
    "best_params = xgb_gr.best_params_  # Mendapatkan hyperparameter terbaik yang ditemukan\n",
    "\n",
    "results = cross_validate(\n",
    "    xgb_gr.best_estimator_, X, y, cv=numFold, scoring=scoring\n",
    ")  # Melakukan validasi silang dengan model terbaik yang ditemukan, fitur (X), target (y), jumlah lipatan, dan metrik evaluasi yang telah ditentukan\n",
    "\n",
    "accuracy_scores = results[\n",
    "    \"test_accuracy\"\n",
    "]  # Menyimpan skor akurasi dari hasil validasi silang\n",
    "precision_scores = results[\n",
    "    \"test_precision\"\n",
    "]  # Menyimpan skor presisi dari hasil validasi silang\n",
    "recall_scores = results[\n",
    "    \"test_recall\"\n",
    "]  # Menyimpan skor recall dari hasil validasi silang\n",
    "\n",
    "print(f\"Optimal Hyperparameter : {best_params}\\n\")\n",
    "print(\"Cross-Validation Results:\")\n",
    "\n",
    "for i in range(numFold):  # Melakukan perulangan untuk setiap lipatan (fold)\n",
    "    print(f\"Fold {i+1} : \")\n",
    "    print(\n",
    "        f\"Accuracy = {accuracy_scores[i]*100:.2f}% | Precision = {precision_scores[i]*100:.2f}% | Recall = {recall_scores[i]*100:.2f}%\\n\"\n",
    "    )\n",
    "\n",
    "print(\n",
    "    f\"Average Results : \\nAccuracy = {accuracy_scores.mean()*100:.2f}% ({accuracy_scores.std()*100:.2f}%) | Precision = {precision_scores.mean()*100:.2f}% ({precision_scores.std()*100:.2f}%) | Recall = {recall_scores.mean()*100:.2f}% ({recall_scores.std()*100:.2f}%)\"\n",
    ")\n"
   ]
  },
  {
   "attachments": {},
   "cell_type": "markdown",
   "metadata": {},
   "source": [
    "- **10 Fold**"
   ]
  },
  {
   "cell_type": "code",
   "execution_count": null,
   "metadata": {
    "tags": []
   },
   "outputs": [],
   "source": [
    "numFold = 10  # Jumlah lipatan (folds) dalam validasi silang\n",
    "\n",
    "xgb_gr = GridSearchCV(\n",
    "    estimator=model, param_grid=grid, scoring=\"accuracy\", cv=numFold\n",
    ")  # Membuat objek GridSearchCV dengan model, grid hyperparameter, metrik evaluasi, dan jumlah lipatan yang ditentukan\n",
    "\n",
    "xgb_gr.fit(\n",
    "    X, y\n",
    ")  # Melakukan pencarian grid hyperparameter terbaik menggunakan fitur (X) dan target (y)\n",
    "best_params = xgb_gr.best_params_  # Mendapatkan hyperparameter terbaik yang ditemukan\n",
    "\n",
    "results = cross_validate(\n",
    "    xgb_gr.best_estimator_, X, y, cv=numFold, scoring=scoring\n",
    ")  # Melakukan validasi silang dengan model terbaik yang ditemukan, fitur (X), target (y), jumlah lipatan, dan metrik evaluasi yang telah ditentukan\n",
    "\n",
    "accuracy_scores = results[\n",
    "    \"test_accuracy\"\n",
    "]  # Menyimpan skor akurasi dari hasil validasi silang\n",
    "precision_scores = results[\n",
    "    \"test_precision\"\n",
    "]  # Menyimpan skor presisi dari hasil validasi silang\n",
    "recall_scores = results[\n",
    "    \"test_recall\"\n",
    "]  # Menyimpan skor recall dari hasil validasi silang\n",
    "\n",
    "print(f\"Optimal Hyperparameter : {best_params}\\n\")\n",
    "print(\"Cross-Validation Results:\")\n",
    "\n",
    "for i in range(numFold):  # Melakukan perulangan untuk setiap lipatan (fold)\n",
    "    print(f\"Fold {i+1} : \")\n",
    "    print(\n",
    "        f\"Accuracy = {accuracy_scores[i]*100:.2f}% | Precision = {precision_scores[i]*100:.2f}% | Recall = {recall_scores[i]*100:.2f}%\\n\"\n",
    "    )\n",
    "\n",
    "print(\n",
    "    f\"Average Results : \\nAccuracy = {accuracy_scores.mean()*100:.2f}% ({accuracy_scores.std()*100:.2f}%) | Precision = {precision_scores.mean()*100:.2f}% ({precision_scores.std()*100:.2f}%) | Recall = {recall_scores.mean()*100:.2f}% ({recall_scores.std()*100:.2f}%)\"\n",
    ")\n"
   ]
  },
  {
   "attachments": {},
   "cell_type": "markdown",
   "metadata": {},
   "source": [
    "- ### **_Non Stemmed_**\n"
   ]
  },
  {
   "cell_type": "code",
   "execution_count": null,
   "metadata": {},
   "outputs": [],
   "source": [
    "df_noAug_noStem = pd.read_csv(\"../dataset/ina\", sep=\"\\t\")\n"
   ]
  },
  {
   "attachments": {},
   "cell_type": "markdown",
   "metadata": {},
   "source": [
    "## **Modeling Data Dataset 3 (Augmentasi)**"
   ]
  },
  {
   "attachments": {},
   "cell_type": "markdown",
   "metadata": {},
   "source": [
    "- ### ***Stemmed***"
   ]
  },
  {
   "cell_type": "code",
   "execution_count": null,
   "metadata": {},
   "outputs": [],
   "source": [
    "import numpy as np  # linear algebra\n",
    "import pandas as pd  # data processing, CSV file I/O (e.g. pd.read_csv)\n",
    "import xgboost as xgb\n",
    "from sklearn.model_selection import train_test_split, KFold, cross_val_score\n"
   ]
  },
  {
   "cell_type": "code",
   "execution_count": null,
   "metadata": {},
   "outputs": [],
   "source": [
    "df_aug_stem = pd.read_csv(\"../dataset/INA_TweetsPPKM_TFRF_DS3.csv\", sep=\"\\t\")\n",
    "df_aug_stem.shape"
   ]
  },
  {
   "cell_type": "code",
   "execution_count": null,
   "metadata": {},
   "outputs": [],
   "source": [
    "df_aug_stem.head(5)"
   ]
  },
  {
   "cell_type": "code",
   "execution_count": null,
   "metadata": {},
   "outputs": [],
   "source": [
    "X = df_aug_stem.drop(\"sentiment\", axis=1)\n",
    "y = df_aug_stem[\"sentiment\"]\n",
    "X.shape, y.shape\n"
   ]
  },
  {
   "cell_type": "code",
   "execution_count": null,
   "metadata": {},
   "outputs": [],
   "source": [
    "model = xgb.XGBClassifier(\n",
    "    gamma=0.5,  # Nilai gamma untuk kontrol pruning\n",
    "    subsample=0.5,  # Persentase sampel yang digunakan untuk melatih setiap pohon\n",
    "    nthread=4,  # Jumlah thread yang akan digunakan dalam pemodelan\n",
    ")\n",
    "\n",
    "scoring = {\n",
    "    \"accuracy\": \"accuracy\",  # Metrik evaluasi yang digunakan: akurasi\n",
    "    \"precision\": \"precision_macro\",  # Metrik evaluasi yang digunakan: presisi dengan skema makro\n",
    "    \"recall\": \"recall_macro\",  # Metrik evaluasi yang digunakan: recall dengan skema makro\n",
    "}\n",
    "\n",
    "grid = {\n",
    "    \"n_estimators\": [\n",
    "        25,\n",
    "        30,\n",
    "    ],  # Daftar nilai yang akan diuji untuk hyperparameter n_estimators\n",
    "    \"max_depth\": [3, 4],  # Daftar nilai yang akan diuji untuk hyperparameter max_depth\n",
    "    \"learning_rate\": [\n",
    "        0.02,\n",
    "        0.1,\n",
    "    ],  # Daftar nilai yang akan diuji untuk hyperparameter learning_rate\n",
    "}\n",
    "\n",
    "numFold = 3  # Jumlah lipatan (folds) dalam validasi silang\n",
    "\n",
    "xgb_gr = GridSearchCV(\n",
    "    estimator=model, param_grid=grid, scoring=\"accuracy\", cv=numFold\n",
    ")  # Membuat objek GridSearchCV dengan model, grid hyperparameter, metrik evaluasi, dan jumlah lipatan yang ditentukan\n",
    "\n",
    "xgb_gr.fit(\n",
    "    X, y\n",
    ")  # Melakukan pencarian grid hyperparameter terbaik menggunakan fitur (X) dan target (y)\n",
    "best_params = xgb_gr.best_params_  # Mendapatkan hyperparameter terbaik yang ditemukan\n",
    "\n",
    "results = cross_validate(\n",
    "    xgb_gr.best_estimator_, X, y, cv=numFold, scoring=scoring\n",
    ")  # Melakukan validasi silang dengan model terbaik yang ditemukan, fitur (X), target (y), jumlah lipatan, dan metrik evaluasi yang telah ditentukan\n",
    "\n",
    "accuracy_scores = results[\n",
    "    \"test_accuracy\"\n",
    "]  # Menyimpan skor akurasi dari hasil validasi silang\n",
    "precision_scores = results[\n",
    "    \"test_precision\"\n",
    "]  # Menyimpan skor presisi dari hasil validasi silang\n",
    "recall_scores = results[\n",
    "    \"test_recall\"\n",
    "]  # Menyimpan skor recall dari hasil validasi silang\n",
    "\n",
    "print(f\"Optimal Hyperparameter : {best_params}\\n\")\n",
    "print(\"Cross-Validation Results:\")\n",
    "\n",
    "for i in range(numFold):  # Melakukan perulangan untuk setiap lipatan (fold)\n",
    "    print(f\"Fold {i+1} : \")\n",
    "    print(\n",
    "        f\"Accuracy = {accuracy_scores[i]*100:.2f}% | Precision = {precision_scores[i]*100:.2f}% | Recall = {recall_scores[i]*100:.2f}%\\n\"\n",
    "    )\n",
    "\n",
    "print(\n",
    "    f\"Average Results : \\nAccuracy = {accuracy_scores.mean()*100:.2f}% ({accuracy_scores.std()*100:.2f}%) | Precision = {precision_scores.mean()*100:.2f}% | Recall = {recall_scores.mean()*100:.2f}%\"\n",
    ")\n"
   ]
  },
  {
   "cell_type": "code",
   "execution_count": null,
   "metadata": {},
   "outputs": [],
   "source": [
    "kfold = KFold(n_splits=10)\n",
    "SKFold2 = StratifiedKFold(n_splits=10)\n",
    "result2 = cross_val_score(model, X=X, y=y, cv=SKFold2)\n",
    "print(\"Accuracy: %.2f%% (%.2f%%)\" % (result2.mean() * 100, result2.std() * 100))\n"
   ]
  },
  {
   "attachments": {},
   "cell_type": "markdown",
   "metadata": {},
   "source": [
    "- ### ***Non Stemmed***"
   ]
  },
  {
   "cell_type": "code",
   "execution_count": null,
   "metadata": {},
   "outputs": [],
   "source": [
    "df_aug_noStem = pd.read_csv(\"\", sep=\"\\t\")\n"
   ]
  }
 ],
 "metadata": {
  "kernelspec": {
   "display_name": "env",
   "language": "python",
   "name": "python3"
  },
  "language_info": {
   "codemirror_mode": {
    "name": "ipython",
    "version": 3
   },
   "file_extension": ".py",
   "mimetype": "text/x-python",
   "name": "python",
   "nbconvert_exporter": "python",
   "pygments_lexer": "ipython3",
   "version": "3.10.7"
  },
  "orig_nbformat": 4
 },
 "nbformat": 4,
 "nbformat_minor": 2
}
