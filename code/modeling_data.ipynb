{
 "cells": [
  {
   "cell_type": "code",
   "execution_count": 5,
   "metadata": {},
   "outputs": [],
   "source": [
    "import numpy as np\n",
    "import pandas as pd\n",
    "import xgboost as xgb\n",
    "import joblib\n",
    "from sklearn.model_selection import (\n",
    "    cross_validate,  # Memuat fungsi cross_validate untuk melakukan validasi silang dengan metrik evaluasi yang lebih lengkap\n",
    "    GridSearchCV,  # Memuat kelas GridSearchCV untuk pencarian hiperparameter secara sistematis\n",
    ")\n",
    "import warnings\n",
    "\n",
    "warnings.simplefilter(\"ignore\")  # Mengabaikan peringatan (warnings) yang muncul\n"
   ]
  },
  {
   "attachments": {},
   "cell_type": "markdown",
   "metadata": {},
   "source": [
    "### **_Skenario Pengujian_**\n",
    "\n",
    "<ol>\n",
    "  <li>Dataset 1 (Tanpa Augmentasi)\n",
    "    <ol>\n",
    "      <li>Stemmed Data</li>\n",
    "          <ul>\n",
    "          <li>5 Fold</li>\n",
    "          <li>10 Fold</li>\n",
    "          </ul>\n",
    "      <li>Non Stemmed Data\n",
    "          <ul>\n",
    "          <li>5 Fold</li>\n",
    "          <li>10 Fold</li>\n",
    "          </ul>\n",
    "      </li>\n",
    "    </ol>\n",
    "  </li>\n",
    "  <br>\n",
    "  <li>Dataset 2 (Augmentasi)\n",
    "    <ol>\n",
    "      <li>Stemmed Data</li>\n",
    "          <ul>\n",
    "          <li>5 Fold</li>\n",
    "          <li>10 Fold</li>\n",
    "          </ul>\n",
    "      <li>Non Stemmed Data\n",
    "          <ul>\n",
    "          <li>5 Fold</li>\n",
    "          <li>10 Fold</li>\n",
    "          </ul>\n",
    "      </li>\n",
    "    </ol>\n",
    "  </li>\n",
    "</ol>\n"
   ]
  },
  {
   "attachments": {},
   "cell_type": "markdown",
   "metadata": {},
   "source": [
    "## **Dataset 1 (Tanpa Augmentasi)**"
   ]
  },
  {
   "attachments": {},
   "cell_type": "markdown",
   "metadata": {},
   "source": [
    "### **1. Stemmed Data**\n"
   ]
  },
  {
   "cell_type": "code",
   "execution_count": 3,
   "metadata": {},
   "outputs": [
    {
     "data": {
      "text/plain": [
       "(5938, 11258)"
      ]
     },
     "execution_count": 3,
     "metadata": {},
     "output_type": "execute_result"
    }
   ],
   "source": [
    "df_noAug_stem = pd.read_csv(\n",
    "    \"../dataset/INA_TweetsPPKM_TFRF_DS1.csv\", sep=\"\\t\"\n",
    ")  # Membaca file CSV dengan nama \"../dataset/INA_TweetsPPKM_TFRF_DS2.csv\" dan menggunakan \"\\t\" sebagai pemisah kolom\n",
    "df_noAug_stem.shape  # Menampilkan bentuk (shape) dari DataFrame df_noAug_stem\n"
   ]
  },
  {
   "cell_type": "code",
   "execution_count": 4,
   "metadata": {},
   "outputs": [
    {
     "data": {
      "text/html": [
       "<div>\n",
       "<style scoped>\n",
       "    .dataframe tbody tr th:only-of-type {\n",
       "        vertical-align: middle;\n",
       "    }\n",
       "\n",
       "    .dataframe tbody tr th {\n",
       "        vertical-align: top;\n",
       "    }\n",
       "\n",
       "    .dataframe thead th {\n",
       "        text-align: right;\n",
       "    }\n",
       "</style>\n",
       "<table border=\"1\" class=\"dataframe\">\n",
       "  <thead>\n",
       "    <tr style=\"text-align: right;\">\n",
       "      <th></th>\n",
       "      <th>stimulasi</th>\n",
       "      <th>optimal</th>\n",
       "      <th>laku</th>\n",
       "      <th>online</th>\n",
       "      <th>penuh</th>\n",
       "      <th>butuh</th>\n",
       "      <th>sebut</th>\n",
       "      <th>tetap</th>\n",
       "      <th>operasi</th>\n",
       "      <th>sesuai</th>\n",
       "      <th>...</th>\n",
       "      <th>wawancara</th>\n",
       "      <th>koyak</th>\n",
       "      <th>distancing</th>\n",
       "      <th>phisical</th>\n",
       "      <th>kunyuk</th>\n",
       "      <th>perubahanperubahan</th>\n",
       "      <th>acau</th>\n",
       "      <th>siihh</th>\n",
       "      <th>disiniii</th>\n",
       "      <th>sentiment</th>\n",
       "    </tr>\n",
       "  </thead>\n",
       "  <tbody>\n",
       "    <tr>\n",
       "      <th>0</th>\n",
       "      <td>0.0</td>\n",
       "      <td>0.0</td>\n",
       "      <td>0.0</td>\n",
       "      <td>0.0</td>\n",
       "      <td>0.0</td>\n",
       "      <td>0.0</td>\n",
       "      <td>0.0</td>\n",
       "      <td>0.0</td>\n",
       "      <td>0.0</td>\n",
       "      <td>0.0</td>\n",
       "      <td>...</td>\n",
       "      <td>0.0</td>\n",
       "      <td>0.0</td>\n",
       "      <td>0.0</td>\n",
       "      <td>0.0</td>\n",
       "      <td>0.0</td>\n",
       "      <td>0.0</td>\n",
       "      <td>0.0</td>\n",
       "      <td>0.0</td>\n",
       "      <td>0.0</td>\n",
       "      <td>1</td>\n",
       "    </tr>\n",
       "    <tr>\n",
       "      <th>1</th>\n",
       "      <td>0.0</td>\n",
       "      <td>0.0</td>\n",
       "      <td>0.0</td>\n",
       "      <td>0.0</td>\n",
       "      <td>0.0</td>\n",
       "      <td>0.0</td>\n",
       "      <td>0.0</td>\n",
       "      <td>0.0</td>\n",
       "      <td>0.0</td>\n",
       "      <td>0.0</td>\n",
       "      <td>...</td>\n",
       "      <td>0.0</td>\n",
       "      <td>0.0</td>\n",
       "      <td>0.0</td>\n",
       "      <td>0.0</td>\n",
       "      <td>0.0</td>\n",
       "      <td>0.0</td>\n",
       "      <td>0.0</td>\n",
       "      <td>0.0</td>\n",
       "      <td>0.0</td>\n",
       "      <td>1</td>\n",
       "    </tr>\n",
       "    <tr>\n",
       "      <th>2</th>\n",
       "      <td>0.0</td>\n",
       "      <td>0.0</td>\n",
       "      <td>0.0</td>\n",
       "      <td>0.0</td>\n",
       "      <td>0.0</td>\n",
       "      <td>0.0</td>\n",
       "      <td>0.0</td>\n",
       "      <td>0.0</td>\n",
       "      <td>0.0</td>\n",
       "      <td>0.0</td>\n",
       "      <td>...</td>\n",
       "      <td>0.0</td>\n",
       "      <td>0.0</td>\n",
       "      <td>0.0</td>\n",
       "      <td>0.0</td>\n",
       "      <td>0.0</td>\n",
       "      <td>0.0</td>\n",
       "      <td>0.0</td>\n",
       "      <td>0.0</td>\n",
       "      <td>0.0</td>\n",
       "      <td>1</td>\n",
       "    </tr>\n",
       "    <tr>\n",
       "      <th>3</th>\n",
       "      <td>0.0</td>\n",
       "      <td>0.0</td>\n",
       "      <td>0.0</td>\n",
       "      <td>0.0</td>\n",
       "      <td>0.0</td>\n",
       "      <td>0.0</td>\n",
       "      <td>0.0</td>\n",
       "      <td>0.0</td>\n",
       "      <td>0.0</td>\n",
       "      <td>0.0</td>\n",
       "      <td>...</td>\n",
       "      <td>0.0</td>\n",
       "      <td>0.0</td>\n",
       "      <td>0.0</td>\n",
       "      <td>0.0</td>\n",
       "      <td>0.0</td>\n",
       "      <td>0.0</td>\n",
       "      <td>0.0</td>\n",
       "      <td>0.0</td>\n",
       "      <td>0.0</td>\n",
       "      <td>1</td>\n",
       "    </tr>\n",
       "    <tr>\n",
       "      <th>4</th>\n",
       "      <td>0.0</td>\n",
       "      <td>0.0</td>\n",
       "      <td>0.0</td>\n",
       "      <td>0.0</td>\n",
       "      <td>0.0</td>\n",
       "      <td>0.0</td>\n",
       "      <td>0.0</td>\n",
       "      <td>0.0</td>\n",
       "      <td>0.0</td>\n",
       "      <td>0.0</td>\n",
       "      <td>...</td>\n",
       "      <td>0.0</td>\n",
       "      <td>0.0</td>\n",
       "      <td>0.0</td>\n",
       "      <td>0.0</td>\n",
       "      <td>0.0</td>\n",
       "      <td>0.0</td>\n",
       "      <td>0.0</td>\n",
       "      <td>0.0</td>\n",
       "      <td>0.0</td>\n",
       "      <td>1</td>\n",
       "    </tr>\n",
       "  </tbody>\n",
       "</table>\n",
       "<p>5 rows × 11258 columns</p>\n",
       "</div>"
      ],
      "text/plain": [
       "   stimulasi  optimal  laku  online  penuh  butuh  sebut  tetap  operasi  \\\n",
       "0        0.0      0.0   0.0     0.0    0.0    0.0    0.0    0.0      0.0   \n",
       "1        0.0      0.0   0.0     0.0    0.0    0.0    0.0    0.0      0.0   \n",
       "2        0.0      0.0   0.0     0.0    0.0    0.0    0.0    0.0      0.0   \n",
       "3        0.0      0.0   0.0     0.0    0.0    0.0    0.0    0.0      0.0   \n",
       "4        0.0      0.0   0.0     0.0    0.0    0.0    0.0    0.0      0.0   \n",
       "\n",
       "   sesuai  ...  wawancara  koyak  distancing  phisical  kunyuk  \\\n",
       "0     0.0  ...        0.0    0.0         0.0       0.0     0.0   \n",
       "1     0.0  ...        0.0    0.0         0.0       0.0     0.0   \n",
       "2     0.0  ...        0.0    0.0         0.0       0.0     0.0   \n",
       "3     0.0  ...        0.0    0.0         0.0       0.0     0.0   \n",
       "4     0.0  ...        0.0    0.0         0.0       0.0     0.0   \n",
       "\n",
       "   perubahanperubahan  acau  siihh  disiniii  sentiment  \n",
       "0                 0.0   0.0    0.0       0.0          1  \n",
       "1                 0.0   0.0    0.0       0.0          1  \n",
       "2                 0.0   0.0    0.0       0.0          1  \n",
       "3                 0.0   0.0    0.0       0.0          1  \n",
       "4                 0.0   0.0    0.0       0.0          1  \n",
       "\n",
       "[5 rows x 11258 columns]"
      ]
     },
     "execution_count": 4,
     "metadata": {},
     "output_type": "execute_result"
    }
   ],
   "source": [
    "df_noAug_stem.head()"
   ]
  },
  {
   "cell_type": "code",
   "execution_count": 6,
   "metadata": {},
   "outputs": [
    {
     "name": "stdout",
     "output_type": "stream",
     "text": [
      "(5938, 11257) (5938,)\n"
     ]
    }
   ],
   "source": [
    "X = df_noAug_stem.drop(\n",
    "    \"sentiment\", axis=1\n",
    ")  # Mengambil fitur dengan menghapus kolom \"sentiment\" dari df_noAug_stem\n",
    "y = df_noAug_stem[\"sentiment\"]  # Mengambil variabel target \"sentiment\" dari df_noAug_stem\n",
    "print(X.shape, y.shape)  # Menampilkan bentuk (shape) dari X dan y\n"
   ]
  },
  {
   "attachments": {},
   "cell_type": "markdown",
   "metadata": {},
   "source": [
    "- **Model Initialize**"
   ]
  },
  {
   "cell_type": "code",
   "execution_count": 7,
   "metadata": {},
   "outputs": [],
   "source": [
    "model = xgb.XGBClassifier(\n",
    "    nthread=4,\n",
    ")\n",
    "\n",
    "scoring = {\n",
    "    \"accuracy\": \"accuracy\",\n",
    "    \"precision\": \"precision_macro\",\n",
    "    \"recall\": \"recall_macro\",\n",
    "}\n",
    "\n",
    "params = {\n",
    "    \"n_estimators\": [\n",
    "        100,\n",
    "        1000,\n",
    "    ],\n",
    "    \"max_depth\": [3, 6],\n",
    "    \"learning_rate\": [\n",
    "        0.01,\n",
    "        0.1,\n",
    "    ],\n",
    "    \"gamma\": [0],\n",
    "    \"subsample\": [1],\n",
    "}\n"
   ]
  },
  {
   "attachments": {},
   "cell_type": "markdown",
   "metadata": {},
   "source": [
    "- **5 Fold**"
   ]
  },
  {
   "cell_type": "code",
   "execution_count": 8,
   "metadata": {},
   "outputs": [
    {
     "name": "stdout",
     "output_type": "stream",
     "text": [
      "Optimal Hyperparameter : {'gamma': 0, 'learning_rate': 0.1, 'max_depth': 6, 'n_estimators': 1000, 'subsample': 1}\n",
      "\n",
      "Cross-Validation Results:\n",
      "Fold 1 : \n",
      "Accuracy = 82.74% | Precision = 81.11% | Recall = 78.90%\n",
      "\n",
      "Fold 2 : \n",
      "Accuracy = 83.00% | Precision = 83.77% | Recall = 76.82%\n",
      "\n",
      "Fold 3 : \n",
      "Accuracy = 83.59% | Precision = 82.51% | Recall = 79.34%\n",
      "\n",
      "Fold 4 : \n",
      "Accuracy = 82.31% | Precision = 81.27% | Recall = 77.37%\n",
      "\n",
      "Fold 5 : \n",
      "Accuracy = 84.08% | Precision = 84.33% | Recall = 78.69%\n",
      "\n",
      "Average Results : \n",
      "Accuracy = 83.14% (0.62%) | Precision = 82.60% (1.29%) | Recall = 78.23% (0.96%)\n"
     ]
    }
   ],
   "source": [
    "numFold = 5  # Jumlah lipatan (folds) dalam validasi silang\n",
    "\n",
    "xgb_gr = GridSearchCV(\n",
    "    estimator=model, param_grid=params, scoring=\"accuracy\", cv=numFold\n",
    ")  # Membuat objek GridSearchCV dengan model, params hyperparameter, metrik evaluasi, dan jumlah lipatan yang ditentukan\n",
    "\n",
    "xgb_gr.fit(\n",
    "    X, y\n",
    ")  # Melakukan pencarian params hyperparameter terbaik menggunakan fitur (X) dan target (y)\n",
    "best_params = xgb_gr.best_params_  # Mendapatkan hyperparameter terbaik yang ditemukan\n",
    "\n",
    "results = cross_validate(\n",
    "    xgb_gr.best_estimator_, X, y, cv=numFold, scoring=scoring\n",
    ")  # Melakukan validasi silang dengan model terbaik yang ditemukan, fitur (X), target (y), jumlah lipatan, dan metrik evaluasi yang telah ditentukan\n",
    "\n",
    "accuracy_scores = results[\n",
    "    \"test_accuracy\"\n",
    "]  # Menyimpan skor akurasi dari hasil validasi silang\n",
    "precision_scores = results[\n",
    "    \"test_precision\"\n",
    "]  # Menyimpan skor presisi dari hasil validasi silang\n",
    "recall_scores = results[\n",
    "    \"test_recall\"\n",
    "]  # Menyimpan skor recall dari hasil validasi silang\n",
    "\n",
    "print(f\"Optimal Hyperparameter : {best_params}\\n\")\n",
    "print(\"Cross-Validation Results:\")\n",
    "\n",
    "for i in range(numFold):  # Melakukan perulangan untuk setiap lipatan (fold)\n",
    "    print(f\"Fold {i+1} : \")\n",
    "    print(\n",
    "        f\"Accuracy = {accuracy_scores[i]*100:.2f}% | Precision = {precision_scores[i]*100:.2f}% | Recall = {recall_scores[i]*100:.2f}%\\n\"\n",
    "    )\n",
    "\n",
    "print(\n",
    "    f\"Average Results : \\nAccuracy = {accuracy_scores.mean()*100:.2f}% ({accuracy_scores.std()*100:.2f}%) | Precision = {precision_scores.mean()*100:.2f}% ({precision_scores.std()*100:.2f}%) | Recall = {recall_scores.mean()*100:.2f}% ({recall_scores.std()*100:.2f}%)\"\n",
    ")\n"
   ]
  },
  {
   "attachments": {},
   "cell_type": "markdown",
   "metadata": {},
   "source": [
    "- **10 Fold**"
   ]
  },
  {
   "cell_type": "code",
   "execution_count": 9,
   "metadata": {
    "tags": []
   },
   "outputs": [
    {
     "name": "stdout",
     "output_type": "stream",
     "text": [
      "Optimal Hyperparameter : {'gamma': 0, 'learning_rate': 0.1, 'max_depth': 6, 'n_estimators': 1000, 'subsample': 1}\n",
      "\n",
      "Cross-Validation Results:\n",
      "Fold 1 : \n",
      "Accuracy = 84.01% | Precision = 82.06% | Recall = 81.46%\n",
      "\n",
      "Fold 2 : \n",
      "Accuracy = 85.02% | Precision = 84.11% | Recall = 81.18%\n",
      "\n",
      "Fold 3 : \n",
      "Accuracy = 83.00% | Precision = 83.23% | Recall = 77.21%\n",
      "\n",
      "Fold 4 : \n",
      "Accuracy = 83.33% | Precision = 83.37% | Recall = 77.85%\n",
      "\n",
      "Fold 5 : \n",
      "Accuracy = 81.48% | Precision = 79.94% | Recall = 76.86%\n",
      "\n",
      "Fold 6 : \n",
      "Accuracy = 85.69% | Precision = 85.31% | Recall = 81.55%\n",
      "\n",
      "Fold 7 : \n",
      "Accuracy = 86.87% | Precision = 86.59% | Recall = 83.08%\n",
      "\n",
      "Fold 8 : \n",
      "Accuracy = 79.97% | Precision = 78.49% | Recall = 74.43%\n",
      "\n",
      "Fold 9 : \n",
      "Accuracy = 83.31% | Precision = 84.20% | Recall = 77.10%\n",
      "\n",
      "Fold 10 : \n",
      "Accuracy = 85.50% | Precision = 85.69% | Recall = 80.70%\n",
      "\n",
      "Average Results : \n",
      "Accuracy = 83.82% (1.96%) | Precision = 83.30% (2.41%) | Recall = 79.14% (2.65%)\n"
     ]
    }
   ],
   "source": [
    "numFold = 10  # Jumlah lipatan (folds) dalam validasi silang\n",
    "\n",
    "xgb_gr = GridSearchCV(\n",
    "    estimator=model, param_grid=params, scoring=\"accuracy\", cv=numFold\n",
    ")  # Membuat objek GridSearchCV dengan model, params hyperparameter, metrik evaluasi, dan jumlah lipatan yang ditentukan\n",
    "\n",
    "xgb_gr.fit(\n",
    "    X, y\n",
    ")  # Melakukan pencarian params hyperparameter terbaik menggunakan fitur (X) dan target (y)\n",
    "best_params = xgb_gr.best_params_  # Mendapatkan hyperparameter terbaik yang ditemukan\n",
    "\n",
    "results = cross_validate(\n",
    "    xgb_gr.best_estimator_, X, y, cv=numFold, scoring=scoring\n",
    ")  # Melakukan validasi silang dengan model terbaik yang ditemukan, fitur (X), target (y), jumlah lipatan, dan metrik evaluasi yang telah ditentukan\n",
    "\n",
    "accuracy_scores = results[\n",
    "    \"test_accuracy\"\n",
    "]  # Menyimpan skor akurasi dari hasil validasi silang\n",
    "precision_scores = results[\n",
    "    \"test_precision\"\n",
    "]  # Menyimpan skor presisi dari hasil validasi silang\n",
    "recall_scores = results[\n",
    "    \"test_recall\"\n",
    "]  # Menyimpan skor recall dari hasil validasi silang\n",
    "\n",
    "print(f\"Optimal Hyperparameter : {best_params}\\n\")\n",
    "print(\"Cross-Validation Results:\")\n",
    "\n",
    "for i in range(numFold):  # Melakukan perulangan untuk setiap lipatan (fold)\n",
    "    print(f\"Fold {i+1} : \")\n",
    "    print(\n",
    "        f\"Accuracy = {accuracy_scores[i]*100:.2f}% | Precision = {precision_scores[i]*100:.2f}% | Recall = {recall_scores[i]*100:.2f}%\\n\"\n",
    "    )\n",
    "\n",
    "print(\n",
    "    f\"Average Results : \\nAccuracy = {accuracy_scores.mean()*100:.2f}% ({accuracy_scores.std()*100:.2f}%) | Precision = {precision_scores.mean()*100:.2f}% ({precision_scores.std()*100:.2f}%) | Recall = {recall_scores.mean()*100:.2f}% ({recall_scores.std()*100:.2f}%)\"\n",
    ")\n"
   ]
  },
  {
   "attachments": {},
   "cell_type": "markdown",
   "metadata": {},
   "source": [
    "### **2. Non Stemmed Data**\n"
   ]
  },
  {
   "attachments": {},
   "cell_type": "markdown",
   "metadata": {},
   "source": [
    "- **5 Fold**"
   ]
  },
  {
   "cell_type": "code",
   "execution_count": 10,
   "metadata": {},
   "outputs": [
    {
     "data": {
      "text/plain": [
       "(5938, 14773)"
      ]
     },
     "execution_count": 10,
     "metadata": {},
     "output_type": "execute_result"
    }
   ],
   "source": [
    "df_noAug_noStem = pd.read_csv(\"../dataset/INA_TweetsPPKM_TFRF_DS1_NoStem.csv\", sep=\"\\t\")\n",
    "df_noAug_noStem.shape"
   ]
  },
  {
   "cell_type": "code",
   "execution_count": 11,
   "metadata": {},
   "outputs": [
    {
     "data": {
      "text/plain": [
       "(5938, 14773)"
      ]
     },
     "execution_count": 11,
     "metadata": {},
     "output_type": "execute_result"
    }
   ],
   "source": [
    "df_noAug_noStem.shape"
   ]
  },
  {
   "cell_type": "code",
   "execution_count": 12,
   "metadata": {},
   "outputs": [
    {
     "name": "stdout",
     "output_type": "stream",
     "text": [
      "(5938, 14772) (5938,)\n"
     ]
    }
   ],
   "source": [
    "X = df_noAug_noStem.drop(\n",
    "    \"sentiment\", axis=1\n",
    ")  # Mengambil fitur dengan menghapus kolom \"sentiment\" dari df_noAug_stem\n",
    "y = df_noAug_noStem[\"sentiment\"]  # Mengambil variabel target \"sentiment\" dari df_noAug_stem\n",
    "print(X.shape, y.shape)  # Menampilkan bentuk (shape) dari X dan y\n"
   ]
  },
  {
   "attachments": {},
   "cell_type": "markdown",
   "metadata": {},
   "source": [
    "- **Model Initialize**"
   ]
  },
  {
   "cell_type": "code",
   "execution_count": 13,
   "metadata": {},
   "outputs": [],
   "source": [
    "model = xgb.XGBClassifier(\n",
    "    nthread=4,\n",
    ")\n",
    "\n",
    "scoring = {\n",
    "    \"accuracy\": \"accuracy\",\n",
    "    \"precision\": \"precision_macro\",\n",
    "    \"recall\": \"recall_macro\",\n",
    "}\n",
    "\n",
    "params = {\n",
    "    \"n_estimators\": [\n",
    "        100,\n",
    "        1000,\n",
    "    ],\n",
    "    \"max_depth\": [3, 6],\n",
    "    \"learning_rate\": [\n",
    "        0.01,\n",
    "        0.1,\n",
    "    ],\n",
    "    \"gamma\": [0],\n",
    "    \"subsample\": [1],\n",
    "}"
   ]
  },
  {
   "attachments": {},
   "cell_type": "markdown",
   "metadata": {},
   "source": [
    "- **5 Fold**"
   ]
  },
  {
   "cell_type": "code",
   "execution_count": 14,
   "metadata": {},
   "outputs": [
    {
     "name": "stdout",
     "output_type": "stream",
     "text": [
      "Optimal Hyperparameter : {'gamma': 0, 'learning_rate': 0.1, 'max_depth': 6, 'n_estimators': 1000, 'subsample': 1}\n",
      "\n",
      "Cross-Validation Results:\n",
      "Fold 1 : \n",
      "Accuracy = 82.32% | Precision = 80.58% | Recall = 78.46%\n",
      "\n",
      "Fold 2 : \n",
      "Accuracy = 83.16% | Precision = 84.31% | Recall = 76.82%\n",
      "\n",
      "Fold 3 : \n",
      "Accuracy = 83.33% | Precision = 82.27% | Recall = 78.95%\n",
      "\n",
      "Fold 4 : \n",
      "Accuracy = 81.55% | Precision = 81.12% | Recall = 75.64%\n",
      "\n",
      "Fold 5 : \n",
      "Accuracy = 82.14% | Precision = 81.89% | Recall = 76.34%\n",
      "\n",
      "Average Results : \n",
      "Accuracy = 82.50% (0.66%) | Precision = 82.03% (1.28%) | Recall = 77.24% (1.26%)\n"
     ]
    }
   ],
   "source": [
    "numFold = 5  # Jumlah lipatan (folds) dalam validasi silang\n",
    "\n",
    "xgb_gr = GridSearchCV(\n",
    "    estimator=model, param_grid=params, scoring=\"accuracy\", cv=numFold\n",
    ")  # Membuat objek GridSearchCV dengan model, params hyperparameter, metrik evaluasi, dan jumlah lipatan yang ditentukan\n",
    "\n",
    "xgb_gr.fit(\n",
    "    X, y\n",
    ")  # Melakukan pencarian params hyperparameter terbaik menggunakan fitur (X) dan target (y)\n",
    "best_params = xgb_gr.best_params_  # Mendapatkan hyperparameter terbaik yang ditemukan\n",
    "\n",
    "results = cross_validate(\n",
    "    xgb_gr.best_estimator_, X, y, cv=numFold, scoring=scoring\n",
    ")  # Melakukan validasi silang dengan model terbaik yang ditemukan, fitur (X), target (y), jumlah lipatan, dan metrik evaluasi yang telah ditentukan\n",
    "\n",
    "accuracy_scores = results[\n",
    "    \"test_accuracy\"\n",
    "]  # Menyimpan skor akurasi dari hasil validasi silang\n",
    "precision_scores = results[\n",
    "    \"test_precision\"\n",
    "]  # Menyimpan skor presisi dari hasil validasi silang\n",
    "recall_scores = results[\n",
    "    \"test_recall\"\n",
    "]  # Menyimpan skor recall dari hasil validasi silang\n",
    "\n",
    "print(f\"Optimal Hyperparameter : {best_params}\\n\")\n",
    "print(\"Cross-Validation Results:\")\n",
    "\n",
    "for i in range(numFold):  # Melakukan perulangan untuk setiap lipatan (fold)\n",
    "    print(f\"Fold {i+1} : \")\n",
    "    print(\n",
    "        f\"Accuracy = {accuracy_scores[i]*100:.2f}% | Precision = {precision_scores[i]*100:.2f}% | Recall = {recall_scores[i]*100:.2f}%\\n\"\n",
    "    )\n",
    "\n",
    "print(\n",
    "    f\"Average Results : \\nAccuracy = {accuracy_scores.mean()*100:.2f}% ({accuracy_scores.std()*100:.2f}%) | Precision = {precision_scores.mean()*100:.2f}% ({precision_scores.std()*100:.2f}%) | Recall = {recall_scores.mean()*100:.2f}% ({recall_scores.std()*100:.2f}%)\"\n",
    ")\n"
   ]
  },
  {
   "attachments": {},
   "cell_type": "markdown",
   "metadata": {},
   "source": [
    "- **10 Fold**"
   ]
  },
  {
   "cell_type": "code",
   "execution_count": 15,
   "metadata": {},
   "outputs": [
    {
     "name": "stdout",
     "output_type": "stream",
     "text": [
      "Optimal Hyperparameter : {'gamma': 0, 'learning_rate': 0.1, 'max_depth': 6, 'n_estimators': 1000, 'subsample': 1}\n",
      "\n",
      "Cross-Validation Results:\n",
      "Fold 1 : \n",
      "Accuracy = 81.14% | Precision = 78.94% | Recall = 77.64%\n",
      "\n",
      "Fold 2 : \n",
      "Accuracy = 85.02% | Precision = 84.58% | Recall = 80.66%\n",
      "\n",
      "Fold 3 : \n",
      "Accuracy = 82.66% | Precision = 84.10% | Recall = 75.93%\n",
      "\n",
      "Fold 4 : \n",
      "Accuracy = 81.65% | Precision = 81.69% | Recall = 75.43%\n",
      "\n",
      "Fold 5 : \n",
      "Accuracy = 79.12% | Precision = 77.34% | Recall = 73.55%\n",
      "\n",
      "Fold 6 : \n",
      "Accuracy = 85.86% | Precision = 85.09% | Recall = 82.20%\n",
      "\n",
      "Fold 7 : \n",
      "Accuracy = 85.86% | Precision = 86.02% | Recall = 81.29%\n",
      "\n",
      "Fold 8 : \n",
      "Accuracy = 80.64% | Precision = 79.98% | Recall = 74.55%\n",
      "\n",
      "Fold 9 : \n",
      "Accuracy = 82.97% | Precision = 83.53% | Recall = 76.85%\n",
      "\n",
      "Fold 10 : \n",
      "Accuracy = 84.32% | Precision = 83.79% | Recall = 79.68%\n",
      "\n",
      "Average Results : \n",
      "Accuracy = 82.92% (2.19%) | Precision = 82.51% (2.74%) | Recall = 77.78% (2.86%)\n"
     ]
    }
   ],
   "source": [
    "numFold = 10  # Jumlah lipatan (folds) dalam validasi silang\n",
    "\n",
    "xgb_gr = GridSearchCV(\n",
    "    estimator=model, param_grid=params, scoring=\"accuracy\", cv=numFold\n",
    ")  # Membuat objek GridSearchCV dengan model, params hyperparameter, metrik evaluasi, dan jumlah lipatan yang ditentukan\n",
    "\n",
    "xgb_gr.fit(\n",
    "    X, y\n",
    ")  # Melakukan pencarian params hyperparameter terbaik menggunakan fitur (X) dan target (y)\n",
    "best_params = xgb_gr.best_params_  # Mendapatkan hyperparameter terbaik yang ditemukan\n",
    "\n",
    "results = cross_validate(\n",
    "    xgb_gr.best_estimator_, X, y, cv=numFold, scoring=scoring\n",
    ")  # Melakukan validasi silang dengan model terbaik yang ditemukan, fitur (X), target (y), jumlah lipatan, dan metrik evaluasi yang telah ditentukan\n",
    "\n",
    "\n",
    "accuracy_scores = results[\n",
    "    \"test_accuracy\"\n",
    "]  # Menyimpan skor akurasi dari hasil validasi silang\n",
    "precision_scores = results[\n",
    "    \"test_precision\"\n",
    "]  # Menyimpan skor presisi dari hasil validasi silang\n",
    "recall_scores = results[\n",
    "    \"test_recall\"\n",
    "]  # Menyimpan skor recall dari hasil validasi silang\n",
    "\n",
    "print(f\"Optimal Hyperparameter : {best_params}\\n\")\n",
    "print(\"Cross-Validation Results:\")\n",
    "\n",
    "for i in range(numFold):  # Melakukan perulangan untuk setiap lipatan (fold)\n",
    "    print(f\"Fold {i+1} : \")\n",
    "    print(\n",
    "        f\"Accuracy = {accuracy_scores[i]*100:.2f}% | Precision = {precision_scores[i]*100:.2f}% | Recall = {recall_scores[i]*100:.2f}%\\n\"\n",
    "    )\n",
    "\n",
    "print(\n",
    "    f\"Average Results : \\nAccuracy = {accuracy_scores.mean()*100:.2f}% ({accuracy_scores.std()*100:.2f}%) | Precision = {precision_scores.mean()*100:.2f}% ({precision_scores.std()*100:.2f}%) | Recall = {recall_scores.mean()*100:.2f}% ({recall_scores.std()*100:.2f}%)\"\n",
    ")"
   ]
  },
  {
   "attachments": {},
   "cell_type": "markdown",
   "metadata": {},
   "source": [
    "## **Dataset 2 (Augmentasi)**"
   ]
  },
  {
   "attachments": {},
   "cell_type": "markdown",
   "metadata": {},
   "source": [
    "### **1. Stemmed**"
   ]
  },
  {
   "cell_type": "code",
   "execution_count": 22,
   "metadata": {},
   "outputs": [],
   "source": [
    "import dataframe_image as dfi"
   ]
  },
  {
   "cell_type": "code",
   "execution_count": 23,
   "metadata": {},
   "outputs": [],
   "source": [
    "pd.options.display.max_columns\n",
    "pd.set_option(\"display.max_columns\", 10)\n"
   ]
  },
  {
   "cell_type": "code",
   "execution_count": 24,
   "metadata": {},
   "outputs": [
    {
     "data": {
      "text/plain": [
       "(7896, 14652)"
      ]
     },
     "execution_count": 24,
     "metadata": {},
     "output_type": "execute_result"
    }
   ],
   "source": [
    "df_aug_stem = pd.read_csv(\"../dataset/INA_TweetsPPKM_TFRF_DS2.csv\", sep=\"\\t\")\n",
    "df_aug_stem.shape\n"
   ]
  },
  {
   "cell_type": "code",
   "execution_count": 17,
   "metadata": {},
   "outputs": [],
   "source": [
    "df_aug_stem_head = df_aug_stem.head(10)\n",
    "dfi.export(df_aug_stem_head,'../img/tfrf_dataframe_augstem.png',max_cols=10)\n"
   ]
  },
  {
   "cell_type": "code",
   "execution_count": 25,
   "metadata": {},
   "outputs": [
    {
     "data": {
      "text/plain": [
       "((7896, 14651), (7896,))"
      ]
     },
     "execution_count": 25,
     "metadata": {},
     "output_type": "execute_result"
    }
   ],
   "source": [
    "X = df_aug_stem.drop(\"sentiment\", axis=1)\n",
    "y = df_aug_stem[\"sentiment\"]\n",
    "X.shape, y.shape\n"
   ]
  },
  {
   "cell_type": "code",
   "execution_count": 26,
   "metadata": {},
   "outputs": [],
   "source": [
    "X_train = X.values"
   ]
  },
  {
   "attachments": {},
   "cell_type": "markdown",
   "metadata": {},
   "source": [
    "- **Model Initialize**"
   ]
  },
  {
   "cell_type": "code",
   "execution_count": 27,
   "metadata": {},
   "outputs": [],
   "source": [
    "model = xgb.XGBClassifier(\n",
    "    nthread=4,\n",
    ")\n",
    "\n",
    "scoring = {\n",
    "    \"accuracy\": \"accuracy\",\n",
    "    \"precision\": \"precision_macro\",\n",
    "    \"recall\": \"recall_macro\",\n",
    "}\n",
    "\n",
    "params = {\n",
    "    \"n_estimators\": [\n",
    "        100,\n",
    "        1000,\n",
    "    ],\n",
    "    \"max_depth\": [3, 6],\n",
    "    \"learning_rate\": [\n",
    "        0.02,\n",
    "        0.1,\n",
    "    ],\n",
    "    \"gamma\": [0],\n",
    "    \"subsample\": [1],\n",
    "}\n"
   ]
  },
  {
   "attachments": {},
   "cell_type": "markdown",
   "metadata": {},
   "source": [
    "- **5 Fold**"
   ]
  },
  {
   "cell_type": "code",
   "execution_count": 28,
   "metadata": {},
   "outputs": [],
   "source": [
    "numFold = 5  # Jumlah lipatan (folds) dalam validasi silang\n",
    "\n",
    "xgb_gr = GridSearchCV(\n",
    "    estimator=model, param_grid=params, scoring=\"accuracy\", cv=3\n",
    ")  # Membuat objek GridSearchCV dengan model, params hyperparameter, metrik evaluasi, dan jumlah lipatan yang ditentukan\n",
    "\n",
    "xgb_gr.fit(\n",
    "    X, y\n",
    ")  # Melakukan pencarian params hyperparameter terbaik menggunakan fitur (X) dan target (y)\n",
    "best_params = xgb_gr.best_params_  # Mendapatkan hyperparameter terbaik yang ditemukan\n"
   ]
  },
  {
   "cell_type": "code",
   "execution_count": 29,
   "metadata": {},
   "outputs": [
    {
     "data": {
      "text/plain": [
       "['model.pkl']"
      ]
     },
     "execution_count": 29,
     "metadata": {},
     "output_type": "execute_result"
    }
   ],
   "source": [
    "#saving best model\n",
    "joblib.dump(xgb_gr.best_estimator_, 'model.pkl')"
   ]
  },
  {
   "cell_type": "code",
   "execution_count": null,
   "metadata": {},
   "outputs": [],
   "source": [
    "results = cross_validate(\n",
    "    xgb_gr.best_estimator_, X, y, cv=numFold, scoring=scoring\n",
    ")  # Melakukan validasi silang dengan model terbaik yang ditemukan, fitur (X), target (y), jumlah lipatan, dan metrik evaluasi yang telah ditentukan\n",
    "\n",
    "accuracy_scores = results[\n",
    "    \"test_accuracy\"\n",
    "]  # Menyimpan skor akurasi dari hasil validasi silang\n",
    "precision_scores = results[\n",
    "    \"test_precision\"\n",
    "]  # Menyimpan skor presisi dari hasil validasi silang\n",
    "recall_scores = results[\n",
    "    \"test_recall\"\n",
    "]  # Menyimpan skor recall dari hasil validasi silang\n",
    "\n",
    "print(f\"Optimal Hyperparameter : {best_params}\\n\")\n",
    "print(\"Cross-Validation Results:\")\n",
    "\n",
    "for i in range(numFold):  # Melakukan perulangan untuk setiap lipatan (fold)\n",
    "    print(f\"Fold {i+1} : \")\n",
    "    print(\n",
    "        f\"Accuracy = {accuracy_scores[i]*100:.2f}% | Precision = {precision_scores[i]*100:.2f}% | Recall = {recall_scores[i]*100:.2f}%\\n\"\n",
    "    )\n",
    "\n",
    "print(\n",
    "    f\"Average Results : \\nAccuracy = {accuracy_scores.mean()*100:.2f}% ({accuracy_scores.std()*100:.2f}%) | Precision = {precision_scores.mean()*100:.2f}% | Recall = {recall_scores.mean()*100:.2f}%\"\n",
    ")\n"
   ]
  },
  {
   "attachments": {},
   "cell_type": "markdown",
   "metadata": {},
   "source": [
    "- **10 Fold**"
   ]
  },
  {
   "cell_type": "code",
   "execution_count": 7,
   "metadata": {},
   "outputs": [
    {
     "name": "stdout",
     "output_type": "stream",
     "text": [
      "Optimal Hyperparameter : {'gamma': 0, 'learning_rate': 0.1, 'max_depth': 6, 'n_estimators': 1000, 'subsample': 1}\n",
      "\n",
      "Cross-Validation Results:\n",
      "Fold 1 : \n",
      "Accuracy = 77.59% | Precision = 78.28% | Recall = 77.53%\n",
      "\n",
      "Fold 2 : \n",
      "Accuracy = 79.37% | Precision = 82.02% | Recall = 79.26%\n",
      "\n",
      "Fold 3 : \n",
      "Accuracy = 82.15% | Precision = 84.07% | Recall = 82.06%\n",
      "\n",
      "Fold 4 : \n",
      "Accuracy = 80.00% | Precision = 81.67% | Recall = 79.91%\n",
      "\n",
      "Fold 5 : \n",
      "Accuracy = 78.73% | Precision = 79.57% | Recall = 78.67%\n",
      "\n",
      "Fold 6 : \n",
      "Accuracy = 92.91% | Precision = 92.99% | Recall = 92.93%\n",
      "\n",
      "Fold 7 : \n",
      "Accuracy = 90.24% | Precision = 90.28% | Recall = 90.23%\n",
      "\n",
      "Fold 8 : \n",
      "Accuracy = 89.10% | Precision = 89.12% | Recall = 89.11%\n",
      "\n",
      "Fold 9 : \n",
      "Accuracy = 91.76% | Precision = 91.80% | Recall = 91.75%\n",
      "\n",
      "Fold 10 : \n",
      "Accuracy = 90.87% | Precision = 90.90% | Recall = 90.89%\n",
      "\n",
      "Average Results : \n",
      "Accuracy = 85.27% (5.88%) | Precision = 86.07% | Recall = 85.23%\n"
     ]
    }
   ],
   "source": [
    "numFold = 10  # Jumlah lipatan (folds) dalam validasi silang\n",
    "\n",
    "# xgb_gr = GridSearchCV(\n",
    "#     estimator=model, param_grid=params, scoring=\"accuracy\", cv=3\n",
    "# )  # Membuat objek GridSearchCV dengan model, params hyperparameter, metrik evaluasi, dan jumlah lipatan yang ditentukan\n",
    "\n",
    "# xgb_gr.fit(\n",
    "#     X, y\n",
    "# )  # Melakukan pencarian params hyperparameter terbaik menggunakan fitur (X) dan target (y)\n",
    "# best_params = xgb_gr.best_params_  # Mendapatkan hyperparameter terbaik yang ditemukan\n",
    "\n",
    "results = cross_validate(\n",
    "    xgb_gr.best_estimator_, X, y, cv=numFold, scoring=scoring\n",
    ")  # Melakukan validasi silang dengan model terbaik yang ditemukan, fitur (X), target (y), jumlah lipatan, dan metrik evaluasi yang telah ditentukan\n",
    "\n",
    "accuracy_scores = results[\n",
    "    \"test_accuracy\"\n",
    "]  # Menyimpan skor akurasi dari hasil validasi silang\n",
    "precision_scores = results[\n",
    "    \"test_precision\"\n",
    "]  # Menyimpan skor presisi dari hasil validasi silang\n",
    "recall_scores = results[\n",
    "    \"test_recall\"\n",
    "]  # Menyimpan skor recall dari hasil validasi silang\n",
    "\n",
    "print(f\"Optimal Hyperparameter : {best_params}\\n\")\n",
    "print(\"Cross-Validation Results:\")\n",
    "\n",
    "for i in range(numFold):  # Melakukan perulangan untuk setiap lipatan (fold)\n",
    "    print(f\"Fold {i+1} : \")\n",
    "    print(\n",
    "        f\"Accuracy = {accuracy_scores[i]*100:.2f}% | Precision = {precision_scores[i]*100:.2f}% | Recall = {recall_scores[i]*100:.2f}%\\n\"\n",
    "    )\n",
    "\n",
    "print(\n",
    "    f\"Average Results : \\nAccuracy = {accuracy_scores.mean()*100:.2f}% ({accuracy_scores.std()*100:.2f}%) | Precision = {precision_scores.mean()*100:.2f}% | Recall = {recall_scores.mean()*100:.2f}%\"\n",
    ")\n"
   ]
  },
  {
   "attachments": {},
   "cell_type": "markdown",
   "metadata": {},
   "source": [
    "### **2. Non Stemmed**"
   ]
  },
  {
   "cell_type": "code",
   "execution_count": 7,
   "metadata": {},
   "outputs": [],
   "source": [
    "df_aug_noStem = pd.read_csv('../dataset/INA_TweetsPPKM_TFRF_DS2_NoStem.csv',sep='\\t')"
   ]
  },
  {
   "attachments": {},
   "cell_type": "markdown",
   "metadata": {},
   "source": [
    "- **5 Fold**"
   ]
  },
  {
   "cell_type": "code",
   "execution_count": 8,
   "metadata": {},
   "outputs": [
    {
     "data": {
      "text/plain": [
       "(7896, 18468)"
      ]
     },
     "execution_count": 8,
     "metadata": {},
     "output_type": "execute_result"
    }
   ],
   "source": [
    "df_aug_noStem.shape\n"
   ]
  },
  {
   "cell_type": "code",
   "execution_count": 9,
   "metadata": {},
   "outputs": [
    {
     "data": {
      "text/html": [
       "<div>\n",
       "<style scoped>\n",
       "    .dataframe tbody tr th:only-of-type {\n",
       "        vertical-align: middle;\n",
       "    }\n",
       "\n",
       "    .dataframe tbody tr th {\n",
       "        vertical-align: top;\n",
       "    }\n",
       "\n",
       "    .dataframe thead th {\n",
       "        text-align: right;\n",
       "    }\n",
       "</style>\n",
       "<table border=\"1\" class=\"dataframe\">\n",
       "  <thead>\n",
       "    <tr style=\"text-align: right;\">\n",
       "      <th></th>\n",
       "      <th>hadir</th>\n",
       "      <th>boss</th>\n",
       "      <th>mega</th>\n",
       "      <th>win</th>\n",
       "      <th>jackpot</th>\n",
       "      <th>jutaan</th>\n",
       "      <th>rupiah</th>\n",
       "      <th>kemenangan</th>\n",
       "      <th>extra</th>\n",
       "      <th>menanti</th>\n",
       "      <th>...</th>\n",
       "      <th>menggali</th>\n",
       "      <th>dikoyak</th>\n",
       "      <th>distancing</th>\n",
       "      <th>phisical</th>\n",
       "      <th>kunyuk</th>\n",
       "      <th>arahnya</th>\n",
       "      <th>perubahanperubahan</th>\n",
       "      <th>amburadulnya</th>\n",
       "      <th>mengacaukan</th>\n",
       "      <th>sentiment</th>\n",
       "    </tr>\n",
       "  </thead>\n",
       "  <tbody>\n",
       "    <tr>\n",
       "      <th>0</th>\n",
       "      <td>0.95424</td>\n",
       "      <td>0.727</td>\n",
       "      <td>1.11394</td>\n",
       "      <td>1.25527</td>\n",
       "      <td>1.07918</td>\n",
       "      <td>0.716</td>\n",
       "      <td>0.86034</td>\n",
       "      <td>1.23045</td>\n",
       "      <td>1.21748</td>\n",
       "      <td>0.87506</td>\n",
       "      <td>...</td>\n",
       "      <td>0.0</td>\n",
       "      <td>0.0</td>\n",
       "      <td>0.0</td>\n",
       "      <td>0.0</td>\n",
       "      <td>0.0</td>\n",
       "      <td>0.0</td>\n",
       "      <td>0.0</td>\n",
       "      <td>0.0</td>\n",
       "      <td>0.0</td>\n",
       "      <td>1</td>\n",
       "    </tr>\n",
       "    <tr>\n",
       "      <th>1</th>\n",
       "      <td>0.00000</td>\n",
       "      <td>0.000</td>\n",
       "      <td>0.00000</td>\n",
       "      <td>0.00000</td>\n",
       "      <td>0.00000</td>\n",
       "      <td>0.000</td>\n",
       "      <td>0.00000</td>\n",
       "      <td>0.00000</td>\n",
       "      <td>0.00000</td>\n",
       "      <td>0.00000</td>\n",
       "      <td>...</td>\n",
       "      <td>0.0</td>\n",
       "      <td>0.0</td>\n",
       "      <td>0.0</td>\n",
       "      <td>0.0</td>\n",
       "      <td>0.0</td>\n",
       "      <td>0.0</td>\n",
       "      <td>0.0</td>\n",
       "      <td>0.0</td>\n",
       "      <td>0.0</td>\n",
       "      <td>1</td>\n",
       "    </tr>\n",
       "    <tr>\n",
       "      <th>2</th>\n",
       "      <td>0.00000</td>\n",
       "      <td>0.000</td>\n",
       "      <td>0.00000</td>\n",
       "      <td>0.00000</td>\n",
       "      <td>0.00000</td>\n",
       "      <td>0.000</td>\n",
       "      <td>0.00000</td>\n",
       "      <td>0.00000</td>\n",
       "      <td>0.00000</td>\n",
       "      <td>0.00000</td>\n",
       "      <td>...</td>\n",
       "      <td>0.0</td>\n",
       "      <td>0.0</td>\n",
       "      <td>0.0</td>\n",
       "      <td>0.0</td>\n",
       "      <td>0.0</td>\n",
       "      <td>0.0</td>\n",
       "      <td>0.0</td>\n",
       "      <td>0.0</td>\n",
       "      <td>0.0</td>\n",
       "      <td>1</td>\n",
       "    </tr>\n",
       "    <tr>\n",
       "      <th>3</th>\n",
       "      <td>0.00000</td>\n",
       "      <td>0.000</td>\n",
       "      <td>0.00000</td>\n",
       "      <td>0.00000</td>\n",
       "      <td>0.00000</td>\n",
       "      <td>0.000</td>\n",
       "      <td>0.00000</td>\n",
       "      <td>0.00000</td>\n",
       "      <td>0.00000</td>\n",
       "      <td>0.00000</td>\n",
       "      <td>...</td>\n",
       "      <td>0.0</td>\n",
       "      <td>0.0</td>\n",
       "      <td>0.0</td>\n",
       "      <td>0.0</td>\n",
       "      <td>0.0</td>\n",
       "      <td>0.0</td>\n",
       "      <td>0.0</td>\n",
       "      <td>0.0</td>\n",
       "      <td>0.0</td>\n",
       "      <td>1</td>\n",
       "    </tr>\n",
       "    <tr>\n",
       "      <th>4</th>\n",
       "      <td>0.00000</td>\n",
       "      <td>0.000</td>\n",
       "      <td>0.00000</td>\n",
       "      <td>0.00000</td>\n",
       "      <td>0.00000</td>\n",
       "      <td>0.000</td>\n",
       "      <td>0.00000</td>\n",
       "      <td>0.00000</td>\n",
       "      <td>0.00000</td>\n",
       "      <td>0.00000</td>\n",
       "      <td>...</td>\n",
       "      <td>0.0</td>\n",
       "      <td>0.0</td>\n",
       "      <td>0.0</td>\n",
       "      <td>0.0</td>\n",
       "      <td>0.0</td>\n",
       "      <td>0.0</td>\n",
       "      <td>0.0</td>\n",
       "      <td>0.0</td>\n",
       "      <td>0.0</td>\n",
       "      <td>1</td>\n",
       "    </tr>\n",
       "  </tbody>\n",
       "</table>\n",
       "<p>5 rows × 18468 columns</p>\n",
       "</div>"
      ],
      "text/plain": [
       "     hadir   boss     mega      win  jackpot  jutaan   rupiah  kemenangan  \\\n",
       "0  0.95424  0.727  1.11394  1.25527  1.07918   0.716  0.86034     1.23045   \n",
       "1  0.00000  0.000  0.00000  0.00000  0.00000   0.000  0.00000     0.00000   \n",
       "2  0.00000  0.000  0.00000  0.00000  0.00000   0.000  0.00000     0.00000   \n",
       "3  0.00000  0.000  0.00000  0.00000  0.00000   0.000  0.00000     0.00000   \n",
       "4  0.00000  0.000  0.00000  0.00000  0.00000   0.000  0.00000     0.00000   \n",
       "\n",
       "     extra  menanti  ...  menggali  dikoyak  distancing  phisical  kunyuk  \\\n",
       "0  1.21748  0.87506  ...       0.0      0.0         0.0       0.0     0.0   \n",
       "1  0.00000  0.00000  ...       0.0      0.0         0.0       0.0     0.0   \n",
       "2  0.00000  0.00000  ...       0.0      0.0         0.0       0.0     0.0   \n",
       "3  0.00000  0.00000  ...       0.0      0.0         0.0       0.0     0.0   \n",
       "4  0.00000  0.00000  ...       0.0      0.0         0.0       0.0     0.0   \n",
       "\n",
       "   arahnya  perubahanperubahan  amburadulnya  mengacaukan  sentiment  \n",
       "0      0.0                 0.0           0.0          0.0          1  \n",
       "1      0.0                 0.0           0.0          0.0          1  \n",
       "2      0.0                 0.0           0.0          0.0          1  \n",
       "3      0.0                 0.0           0.0          0.0          1  \n",
       "4      0.0                 0.0           0.0          0.0          1  \n",
       "\n",
       "[5 rows x 18468 columns]"
      ]
     },
     "execution_count": 9,
     "metadata": {},
     "output_type": "execute_result"
    }
   ],
   "source": [
    "df_aug_noStem.head()"
   ]
  },
  {
   "cell_type": "code",
   "execution_count": 10,
   "metadata": {},
   "outputs": [
    {
     "name": "stdout",
     "output_type": "stream",
     "text": [
      "(7896, 18467) (7896,)\n"
     ]
    }
   ],
   "source": [
    "X = df_aug_noStem.drop(\n",
    "    \"sentiment\", axis=1\n",
    ")  # Mengambil fitur dengan menghapus kolom \"sentiment\" dari df_noAug_stem\n",
    "y = df_aug_noStem[\"sentiment\"]  # Mengambil variabel target \"sentiment\" dari df_noAug_stem\n",
    "print(X.shape, y.shape)  # Menampilkan bentuk (shape) dari X dan y\n"
   ]
  },
  {
   "cell_type": "code",
   "execution_count": 14,
   "metadata": {},
   "outputs": [],
   "source": [
    "xgb_gr = GridSearchCV(\n",
    "    estimator=model, param_grid=params, scoring=\"accuracy\", cv=3\n",
    ")  # Membuat objek GridSearchCV dengan model, params hyperparameter, metrik evaluasi, dan jumlah lipatan yang ditentukan\n",
    "\n",
    "xgb_gr.fit(\n",
    "    X, y\n",
    ")  # Melakukan pencarian params hyperparameter terbaik menggunakan fitur (X) dan target (y)\n",
    "best_params = xgb_gr.best_params_  # Mendapatkan hyperparameter terbaik yang ditemukan\n"
   ]
  },
  {
   "cell_type": "code",
   "execution_count": 15,
   "metadata": {},
   "outputs": [
    {
     "name": "stdout",
     "output_type": "stream",
     "text": [
      "Optimal Hyperparameter : {'gamma': 0, 'learning_rate': 0.1, 'max_depth': 6, 'n_estimators': 1000, 'subsample': 1}\n",
      "\n",
      "Cross-Validation Results:\n",
      "Fold 1 : \n",
      "Accuracy = 76.33% | Precision = 78.39% | Recall = 76.23%\n",
      "\n",
      "Fold 2 : \n",
      "Accuracy = 77.14% | Precision = 79.70% | Recall = 77.02%\n",
      "\n",
      "Fold 3 : \n",
      "Accuracy = 85.43% | Precision = 85.62% | Recall = 85.40%\n",
      "\n",
      "Fold 4 : \n",
      "Accuracy = 88.22% | Precision = 88.23% | Recall = 88.21%\n",
      "\n",
      "Fold 5 : \n",
      "Accuracy = 89.87% | Precision = 89.87% | Recall = 89.86%\n",
      "\n",
      "Average Results : \n",
      "Accuracy = 83.40% (5.63%) | Precision = 84.36% (4.57%) | Recall = 83.34% (5.68%)\n"
     ]
    }
   ],
   "source": [
    "numFold = 5\n",
    "\n",
    "results = cross_validate(\n",
    "    xgb_gr.best_estimator_, X, y, cv=numFold, scoring=scoring\n",
    ")  # Melakukan validasi silang dengan model terbaik yang ditemukan, fitur (X), target (y), jumlah lipatan, dan metrik evaluasi yang telah ditentukan\n",
    "\n",
    "accuracy_scores = results[\n",
    "    \"test_accuracy\"\n",
    "]  # Menyimpan skor akurasi dari hasil validasi silang\n",
    "precision_scores = results[\n",
    "    \"test_precision\"\n",
    "]  # Menyimpan skor presisi dari hasil validasi silang\n",
    "recall_scores = results[\n",
    "    \"test_recall\"\n",
    "]  # Menyimpan skor recall dari hasil validasi silang\n",
    "\n",
    "print(f\"Optimal Hyperparameter : {best_params}\\n\")\n",
    "print(\"Cross-Validation Results:\")\n",
    "\n",
    "for i in range(numFold):  # Melakukan perulangan untuk setiap lipatan (fold)\n",
    "    print(f\"Fold {i+1} : \")\n",
    "    print(\n",
    "        f\"Accuracy = {accuracy_scores[i]*100:.2f}% | Precision = {precision_scores[i]*100:.2f}% | Recall = {recall_scores[i]*100:.2f}%\\n\"\n",
    "    )\n",
    "\n",
    "print(\n",
    "    f\"Average Results : \\nAccuracy = {accuracy_scores.mean()*100:.2f}% ({accuracy_scores.std()*100:.2f}%) | Precision = {precision_scores.mean()*100:.2f}% ({precision_scores.std()*100:.2f}%) | Recall = {recall_scores.mean()*100:.2f}% ({recall_scores.std()*100:.2f}%)\"\n",
    ")\n"
   ]
  },
  {
   "attachments": {},
   "cell_type": "markdown",
   "metadata": {},
   "source": [
    "- **10 Fold**"
   ]
  },
  {
   "cell_type": "code",
   "execution_count": 16,
   "metadata": {},
   "outputs": [
    {
     "name": "stdout",
     "output_type": "stream",
     "text": [
      "Optimal Hyperparameter : {'gamma': 0, 'learning_rate': 0.1, 'max_depth': 6, 'n_estimators': 1000, 'subsample': 1}\n",
      "\n",
      "Cross-Validation Results:\n",
      "Fold 1 : \n",
      "Accuracy = 77.97% | Precision = 78.44% | Recall = 77.93%\n",
      "\n",
      "Fold 2 : \n",
      "Accuracy = 78.48% | Precision = 81.10% | Recall = 78.37%\n",
      "\n",
      "Fold 3 : \n",
      "Accuracy = 81.52% | Precision = 84.00% | Recall = 81.42%\n",
      "\n",
      "Fold 4 : \n",
      "Accuracy = 77.59% | Precision = 79.63% | Recall = 77.49%\n",
      "\n",
      "Fold 5 : \n",
      "Accuracy = 76.71% | Precision = 77.86% | Recall = 76.63%\n",
      "\n",
      "Fold 6 : \n",
      "Accuracy = 92.28% | Precision = 92.32% | Recall = 92.29%\n",
      "\n",
      "Fold 7 : \n",
      "Accuracy = 88.97% | Precision = 89.12% | Recall = 88.95%\n",
      "\n",
      "Fold 8 : \n",
      "Accuracy = 88.47% | Precision = 88.47% | Recall = 88.46%\n",
      "\n",
      "Fold 9 : \n",
      "Accuracy = 91.00% | Precision = 91.18% | Recall = 90.97%\n",
      "\n",
      "Fold 10 : \n",
      "Accuracy = 90.11% | Precision = 90.15% | Recall = 90.13%\n",
      "\n",
      "Average Results : \n",
      "Accuracy = 84.31% (6.05%) | Precision = 85.23% (5.35%) | Recall = 84.26% (6.09%)\n"
     ]
    }
   ],
   "source": [
    "numFold = 10\n",
    "\n",
    "results = cross_validate(\n",
    "    xgb_gr.best_estimator_, X, y, cv=numFold, scoring=scoring\n",
    ")  # Melakukan validasi silang dengan model terbaik yang ditemukan, fitur (X), target (y), jumlah lipatan, dan metrik evaluasi yang telah ditentukan\n",
    "\n",
    "accuracy_scores = results[\n",
    "    \"test_accuracy\"\n",
    "]  # Menyimpan skor akurasi dari hasil validasi silang\n",
    "precision_scores = results[\n",
    "    \"test_precision\"\n",
    "]  # Menyimpan skor presisi dari hasil validasi silang\n",
    "recall_scores = results[\n",
    "    \"test_recall\"\n",
    "]  # Menyimpan skor recall dari hasil validasi silang\n",
    "\n",
    "print(f\"Optimal Hyperparameter : {best_params}\\n\")\n",
    "print(\"Cross-Validation Results:\")\n",
    "\n",
    "for i in range(numFold):  # Melakukan perulangan untuk setiap lipatan (fold)\n",
    "    print(f\"Fold {i+1} : \")\n",
    "    print(\n",
    "        f\"Accuracy = {accuracy_scores[i]*100:.2f}% | Precision = {precision_scores[i]*100:.2f}% | Recall = {recall_scores[i]*100:.2f}%\\n\"\n",
    "    )\n",
    "\n",
    "print(\n",
    "    f\"Average Results : \\nAccuracy = {accuracy_scores.mean()*100:.2f}% ({accuracy_scores.std()*100:.2f}%) | Precision = {precision_scores.mean()*100:.2f}% ({precision_scores.std()*100:.2f}%) | Recall = {recall_scores.mean()*100:.2f}% ({recall_scores.std()*100:.2f}%)\"\n",
    ")\n",
    "\n"
   ]
  }
 ],
 "metadata": {
  "kernelspec": {
   "display_name": "env",
   "language": "python",
   "name": "python3"
  },
  "language_info": {
   "codemirror_mode": {
    "name": "ipython",
    "version": 3
   },
   "file_extension": ".py",
   "mimetype": "text/x-python",
   "name": "python",
   "nbconvert_exporter": "python",
   "pygments_lexer": "ipython3",
   "version": "3.10.7"
  },
  "orig_nbformat": 4
 },
 "nbformat": 4,
 "nbformat_minor": 2
}
