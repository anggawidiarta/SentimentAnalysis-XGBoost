{
 "cells": [
  {
   "cell_type": "code",
   "execution_count": 1,
   "metadata": {},
   "outputs": [],
   "source": [
    "import numpy as np\n",
    "import pandas as pd\n",
    "import xgboost as xgb\n",
    "from sklearn.model_selection import (\n",
    "    StratifiedKFold,  # Memuat kelas StratifiedKFold untuk validasi silang dengan mempertahankan distribusi kelas yang seimbang\n",
    "    KFold,  # Memuat kelas KFold untuk validasi silang\n",
    "    cross_val_score,  # Memuat fungsi cross_val_score untuk melakukan validasi silang dan menghitung skor\n",
    "    cross_validate,  # Memuat fungsi cross_validate untuk melakukan validasi silang dengan metrik evaluasi yang lebih lengkap\n",
    "    GridSearchCV,  # Memuat kelas GridSearchCV untuk pencarian hiperparameter secara sistematis\n",
    ")\n",
    "from sklearn.metrics import (\n",
    "    accuracy_score,  # Memuat fungsi accuracy_score untuk menghitung skor akurasi\n",
    "    precision_score,  # Memuat fungsi precision_score untuk menghitung skor presisi\n",
    "    recall_score,  # Memuat fungsi recall_score untuk menghitung skor recall\n",
    "    make_scorer,  # Memuat fungsi make_scorer untuk membuat metrik evaluasi khusus\n",
    ")\n",
    "import warnings\n",
    "\n",
    "warnings.simplefilter(\"ignore\")  # Mengabaikan peringatan (warnings) yang muncul\n"
   ]
  },
  {
   "cell_type": "code",
   "execution_count": null,
   "metadata": {},
   "outputs": [],
   "source": [
    "# import xgboost as xgb\n",
    "# from sklearn.model_selection import KFold, cross_val_score\n",
    "\n",
    "\n",
    "# # Create an XGBoost classifier with specified parameters\n",
    "# model = xgb.XGBClassifier(\n",
    "#     n_estimators=1000,  # Number of trees in the forest\n",
    "#     gamma=1,  # Minimum loss reduction required to make a further partition on a leaf node\n",
    "#     learning_rate=1,  # Step size shrinkage used in update to prevent overfitting\n",
    "#     subsample=1,  # Subsample ratio of the training instances\n",
    "#     max_depth=4,  # Maximum depth of a tree\n",
    "# )\n",
    "\n",
    "# # Create a K-Fold cross-validation object with 5 splits\n",
    "# kfold = KFold(n_splits=10)\n",
    "\n",
    "# # Perform cross-validation and get the accuracy scores\n",
    "# result = cross_val_score(model, X=X, y=y, cv=kfold)\n",
    "\n",
    "# # Print the mean and standard deviation of the accuracy scores\n",
    "# print(\"Accuracy: %.2f%% (%.2f%%)\" % (result.mean() * 100, result.std() * 100))\n"
   ]
  },
  {
   "attachments": {},
   "cell_type": "markdown",
   "metadata": {},
   "source": [
    "## **Modeling Data Dataset 2 (Tanpa Augmentasi)**"
   ]
  },
  {
   "cell_type": "code",
   "execution_count": 2,
   "metadata": {},
   "outputs": [
    {
     "data": {
      "text/plain": [
       "(5938, 11258)"
      ]
     },
     "execution_count": 2,
     "metadata": {},
     "output_type": "execute_result"
    }
   ],
   "source": [
    "df_noAug = pd.read_csv(\n",
    "    \"../dataset/INA_TweetsPPKM_TFRF_DS2.csv\", sep=\"\\t\"\n",
    ")  # Membaca file CSV dengan nama \"../dataset/INA_TweetsPPKM_TFRF_DS2.csv\" dan menggunakan \"\\t\" sebagai pemisah kolom\n",
    "df_noAug.shape  # Menampilkan bentuk (shape) dari DataFrame df_noAug\n"
   ]
  },
  {
   "cell_type": "code",
   "execution_count": 3,
   "metadata": {},
   "outputs": [
    {
     "data": {
      "text/html": [
       "<div>\n",
       "<style scoped>\n",
       "    .dataframe tbody tr th:only-of-type {\n",
       "        vertical-align: middle;\n",
       "    }\n",
       "\n",
       "    .dataframe tbody tr th {\n",
       "        vertical-align: top;\n",
       "    }\n",
       "\n",
       "    .dataframe thead th {\n",
       "        text-align: right;\n",
       "    }\n",
       "</style>\n",
       "<table border=\"1\" class=\"dataframe\">\n",
       "  <thead>\n",
       "    <tr style=\"text-align: right;\">\n",
       "      <th></th>\n",
       "      <th>stimulasi</th>\n",
       "      <th>optimal</th>\n",
       "      <th>laku</th>\n",
       "      <th>online</th>\n",
       "      <th>penuh</th>\n",
       "      <th>butuh</th>\n",
       "      <th>sebut</th>\n",
       "      <th>tetap</th>\n",
       "      <th>operasi</th>\n",
       "      <th>sesuai</th>\n",
       "      <th>...</th>\n",
       "      <th>wawancara</th>\n",
       "      <th>koyak</th>\n",
       "      <th>distancing</th>\n",
       "      <th>phisical</th>\n",
       "      <th>kunyuk</th>\n",
       "      <th>perubahanperubahan</th>\n",
       "      <th>acau</th>\n",
       "      <th>siihh</th>\n",
       "      <th>disiniii</th>\n",
       "      <th>sentiment</th>\n",
       "    </tr>\n",
       "  </thead>\n",
       "  <tbody>\n",
       "    <tr>\n",
       "      <th>0</th>\n",
       "      <td>0.0</td>\n",
       "      <td>0.0</td>\n",
       "      <td>0.0</td>\n",
       "      <td>0.0</td>\n",
       "      <td>0.0</td>\n",
       "      <td>0.0</td>\n",
       "      <td>0.0</td>\n",
       "      <td>0.0</td>\n",
       "      <td>0.0</td>\n",
       "      <td>0.0</td>\n",
       "      <td>...</td>\n",
       "      <td>0.0</td>\n",
       "      <td>0.0</td>\n",
       "      <td>0.0</td>\n",
       "      <td>0.0</td>\n",
       "      <td>0.0</td>\n",
       "      <td>0.0</td>\n",
       "      <td>0.0</td>\n",
       "      <td>0.0</td>\n",
       "      <td>0.0</td>\n",
       "      <td>1</td>\n",
       "    </tr>\n",
       "    <tr>\n",
       "      <th>1</th>\n",
       "      <td>0.0</td>\n",
       "      <td>0.0</td>\n",
       "      <td>0.0</td>\n",
       "      <td>0.0</td>\n",
       "      <td>0.0</td>\n",
       "      <td>0.0</td>\n",
       "      <td>0.0</td>\n",
       "      <td>0.0</td>\n",
       "      <td>0.0</td>\n",
       "      <td>0.0</td>\n",
       "      <td>...</td>\n",
       "      <td>0.0</td>\n",
       "      <td>0.0</td>\n",
       "      <td>0.0</td>\n",
       "      <td>0.0</td>\n",
       "      <td>0.0</td>\n",
       "      <td>0.0</td>\n",
       "      <td>0.0</td>\n",
       "      <td>0.0</td>\n",
       "      <td>0.0</td>\n",
       "      <td>1</td>\n",
       "    </tr>\n",
       "    <tr>\n",
       "      <th>2</th>\n",
       "      <td>0.0</td>\n",
       "      <td>0.0</td>\n",
       "      <td>0.0</td>\n",
       "      <td>0.0</td>\n",
       "      <td>0.0</td>\n",
       "      <td>0.0</td>\n",
       "      <td>0.0</td>\n",
       "      <td>0.0</td>\n",
       "      <td>0.0</td>\n",
       "      <td>0.0</td>\n",
       "      <td>...</td>\n",
       "      <td>0.0</td>\n",
       "      <td>0.0</td>\n",
       "      <td>0.0</td>\n",
       "      <td>0.0</td>\n",
       "      <td>0.0</td>\n",
       "      <td>0.0</td>\n",
       "      <td>0.0</td>\n",
       "      <td>0.0</td>\n",
       "      <td>0.0</td>\n",
       "      <td>1</td>\n",
       "    </tr>\n",
       "    <tr>\n",
       "      <th>3</th>\n",
       "      <td>0.0</td>\n",
       "      <td>0.0</td>\n",
       "      <td>0.0</td>\n",
       "      <td>0.0</td>\n",
       "      <td>0.0</td>\n",
       "      <td>0.0</td>\n",
       "      <td>0.0</td>\n",
       "      <td>0.0</td>\n",
       "      <td>0.0</td>\n",
       "      <td>0.0</td>\n",
       "      <td>...</td>\n",
       "      <td>0.0</td>\n",
       "      <td>0.0</td>\n",
       "      <td>0.0</td>\n",
       "      <td>0.0</td>\n",
       "      <td>0.0</td>\n",
       "      <td>0.0</td>\n",
       "      <td>0.0</td>\n",
       "      <td>0.0</td>\n",
       "      <td>0.0</td>\n",
       "      <td>1</td>\n",
       "    </tr>\n",
       "    <tr>\n",
       "      <th>4</th>\n",
       "      <td>0.0</td>\n",
       "      <td>0.0</td>\n",
       "      <td>0.0</td>\n",
       "      <td>0.0</td>\n",
       "      <td>0.0</td>\n",
       "      <td>0.0</td>\n",
       "      <td>0.0</td>\n",
       "      <td>0.0</td>\n",
       "      <td>0.0</td>\n",
       "      <td>0.0</td>\n",
       "      <td>...</td>\n",
       "      <td>0.0</td>\n",
       "      <td>0.0</td>\n",
       "      <td>0.0</td>\n",
       "      <td>0.0</td>\n",
       "      <td>0.0</td>\n",
       "      <td>0.0</td>\n",
       "      <td>0.0</td>\n",
       "      <td>0.0</td>\n",
       "      <td>0.0</td>\n",
       "      <td>1</td>\n",
       "    </tr>\n",
       "  </tbody>\n",
       "</table>\n",
       "<p>5 rows × 11258 columns</p>\n",
       "</div>"
      ],
      "text/plain": [
       "   stimulasi  optimal  laku  online  penuh  butuh  sebut  tetap  operasi  \\\n",
       "0        0.0      0.0   0.0     0.0    0.0    0.0    0.0    0.0      0.0   \n",
       "1        0.0      0.0   0.0     0.0    0.0    0.0    0.0    0.0      0.0   \n",
       "2        0.0      0.0   0.0     0.0    0.0    0.0    0.0    0.0      0.0   \n",
       "3        0.0      0.0   0.0     0.0    0.0    0.0    0.0    0.0      0.0   \n",
       "4        0.0      0.0   0.0     0.0    0.0    0.0    0.0    0.0      0.0   \n",
       "\n",
       "   sesuai  ...  wawancara  koyak  distancing  phisical  kunyuk  \\\n",
       "0     0.0  ...        0.0    0.0         0.0       0.0     0.0   \n",
       "1     0.0  ...        0.0    0.0         0.0       0.0     0.0   \n",
       "2     0.0  ...        0.0    0.0         0.0       0.0     0.0   \n",
       "3     0.0  ...        0.0    0.0         0.0       0.0     0.0   \n",
       "4     0.0  ...        0.0    0.0         0.0       0.0     0.0   \n",
       "\n",
       "   perubahanperubahan  acau  siihh  disiniii  sentiment  \n",
       "0                 0.0   0.0    0.0       0.0          1  \n",
       "1                 0.0   0.0    0.0       0.0          1  \n",
       "2                 0.0   0.0    0.0       0.0          1  \n",
       "3                 0.0   0.0    0.0       0.0          1  \n",
       "4                 0.0   0.0    0.0       0.0          1  \n",
       "\n",
       "[5 rows x 11258 columns]"
      ]
     },
     "execution_count": 3,
     "metadata": {},
     "output_type": "execute_result"
    }
   ],
   "source": [
    "df_noAug.head()"
   ]
  },
  {
   "cell_type": "code",
   "execution_count": 4,
   "metadata": {},
   "outputs": [
    {
     "name": "stdout",
     "output_type": "stream",
     "text": [
      "(5938, 11257) (5938,)\n"
     ]
    }
   ],
   "source": [
    "X = df_noAug.drop(\n",
    "    \"sentiment\", axis=1\n",
    ")  # Mengambil fitur dengan menghapus kolom \"sentiment\" dari df_noAug\n",
    "y = df_noAug[\"sentiment\"]  # Mengambil variabel target \"sentiment\" dari df_noAug\n",
    "print(X.shape, y.shape)  # Menampilkan bentuk (shape) dari X dan y\n"
   ]
  },
  {
   "attachments": {},
   "cell_type": "markdown",
   "metadata": {},
   "source": [
    "- **Testing Using Cross Validate Method**"
   ]
  },
  {
   "cell_type": "code",
   "execution_count": null,
   "metadata": {},
   "outputs": [],
   "source": [
    "model = xgb.XGBClassifier(\n",
    "    n_estimators=100,  # Jumlah pohon keputusan yang akan dibangun dalam model\n",
    "    gamma=0.5,  # Parameter untuk kontrol pruning, mengatur ambang batas pemangkasan pohon\n",
    "    learning_rate=0.1,  # Tingkat pembelajaran (learning rate) untuk mengontrol kontribusi setiap pohon\n",
    "    subsample=0.5,  # Persentase sampel yang digunakan untuk melatih setiap pohon\n",
    "    max_depth=3,  # Kedalaman maksimum dari setiap pohon keputusan\n",
    "    nthread=4,  # Jumlah thread yang akan digunakan dalam pemodelan\n",
    ")\n",
    "\n",
    "scoring = {\n",
    "    \"accuracy\": \"accuracy\",  # Metrik evaluasi yang digunakan: akurasi\n",
    "    \"precision\": \"precision_macro\",  # Metrik evaluasi yang digunakan: presisi dengan skema makro\n",
    "    \"recall\": \"recall_macro\",  # Metrik evaluasi yang digunakan: recall dengan skema makro\n",
    "}\n",
    "\n",
    "numFold = 3  # Jumlah lipatan (folds) dalam validasi silang\n",
    "\n",
    "results = cross_validate(\n",
    "    model, X, y, cv=numFold, scoring=scoring\n",
    ")  # Melakukan validasi silang dengan model, fitur (X), target (y), jumlah lipatan, dan metrik evaluasi yang telah ditentukan sebelumnya\n",
    "\n",
    "accuracy_scores = results[\n",
    "    \"test_accuracy\"\n",
    "]  # Menyimpan skor akurasi dari hasil validasi silang\n",
    "precision_scores = results[\n",
    "    \"test_precision\"\n",
    "]  # Menyimpan skor presisi dari hasil validasi silang\n",
    "recall_scores = results[\n",
    "    \"test_recall\"\n",
    "]  # Menyimpan skor recall dari hasil validasi silang\n",
    "\n",
    "print(\"Cross-Validation Results:\")\n",
    "\n",
    "for i in range(numFold):  # Melakukan perulangan untuk setiap lipatan (fold)\n",
    "    print(f\"Fold {i+1} : \")\n",
    "    print(\n",
    "        f\"Accuracy = {accuracy_scores[i]*100:.2f}% | Precision = {precision_scores[i]*100:.2f}% | Recall = {recall_scores[i]*100:.2f}%\\n\"\n",
    "    )\n",
    "\n",
    "print(\n",
    "    f\"Average Results : \\nAccuracy = {accuracy_scores.mean()*100:.2f}% | Precision = {precision_scores.mean()*100:.2f}% | Recall = {recall_scores.mean()*100:.2f}%\"\n",
    ")\n"
   ]
  },
  {
   "attachments": {},
   "cell_type": "markdown",
   "metadata": {},
   "source": [
    "- **Testing Using Combination Of Cross Validation And Gridsearch**"
   ]
  },
  {
   "cell_type": "code",
   "execution_count": 5,
   "metadata": {},
   "outputs": [],
   "source": [
    "from sklearn.model_selection import GridSearchCV\n",
    "\n",
    "model = xgb.XGBClassifier(\n",
    "    gamma=0.5,  #\n",
    "    subsample=0.5,\n",
    "    nthread=4,\n",
    ")\n",
    "\n",
    "scoring = {\n",
    "    \"accuracy\": \"accuracy\",\n",
    "    \"precision\": \"precision_macro\",\n",
    "    \"recall\": \"recall_macro\",\n",
    "}\n",
    "\n",
    "grid = {\n",
    "    \"n_estimators\": [25, 30],\n",
    "    \"max_depth\": [3, 4],\n",
    "    \"learning_rate\": [0.02, 0.1],\n",
    "}\n",
    "\n",
    "numFold = 3\n",
    "\n",
    "xgb_gr = GridSearchCV(\n",
    "    estimator=model, param_grid=grid, scoring='accuracy', cv=numFold, n_jobs=-1, refit=True\n",
    ")\n",
    "\n",
    "\n",
    "results = cross_validate(xgb_gr, X, y, cv=numFold, scoring=scoring)\n",
    "\n",
    "\n",
    "# print(\"Cross-Validation Results:\")\n",
    "\n",
    "# for i in range(numFold):\n",
    "#     print(f\"Fold {i+1} : \")\n",
    "#     print(\n",
    "#         f\"Accuracy = {accuracy_scores[i]*100:.2f}% | Precision = {precision_scores[i]*100:.2f}% | Recall = {recall_scores[i]*100:.2f}%\\n\"\n",
    "#     )\n",
    "# print(\n",
    "#     f\"Average Results : \\nAccuracy = {accuracy_scores.mean()*100:.2f}% | Precision = {precision_scores.mean()*100:.2f}% | Recall = {recall_scores.mean()*100:.2f}%\"\n",
    "# )\n"
   ]
  },
  {
   "cell_type": "code",
   "execution_count": 17,
   "metadata": {},
   "outputs": [
    {
     "data": {
      "text/html": [
       "<style>#sk-container-id-1 {color: black;background-color: white;}#sk-container-id-1 pre{padding: 0;}#sk-container-id-1 div.sk-toggleable {background-color: white;}#sk-container-id-1 label.sk-toggleable__label {cursor: pointer;display: block;width: 100%;margin-bottom: 0;padding: 0.3em;box-sizing: border-box;text-align: center;}#sk-container-id-1 label.sk-toggleable__label-arrow:before {content: \"▸\";float: left;margin-right: 0.25em;color: #696969;}#sk-container-id-1 label.sk-toggleable__label-arrow:hover:before {color: black;}#sk-container-id-1 div.sk-estimator:hover label.sk-toggleable__label-arrow:before {color: black;}#sk-container-id-1 div.sk-toggleable__content {max-height: 0;max-width: 0;overflow: hidden;text-align: left;background-color: #f0f8ff;}#sk-container-id-1 div.sk-toggleable__content pre {margin: 0.2em;color: black;border-radius: 0.25em;background-color: #f0f8ff;}#sk-container-id-1 input.sk-toggleable__control:checked~div.sk-toggleable__content {max-height: 200px;max-width: 100%;overflow: auto;}#sk-container-id-1 input.sk-toggleable__control:checked~label.sk-toggleable__label-arrow:before {content: \"▾\";}#sk-container-id-1 div.sk-estimator input.sk-toggleable__control:checked~label.sk-toggleable__label {background-color: #d4ebff;}#sk-container-id-1 div.sk-label input.sk-toggleable__control:checked~label.sk-toggleable__label {background-color: #d4ebff;}#sk-container-id-1 input.sk-hidden--visually {border: 0;clip: rect(1px 1px 1px 1px);clip: rect(1px, 1px, 1px, 1px);height: 1px;margin: -1px;overflow: hidden;padding: 0;position: absolute;width: 1px;}#sk-container-id-1 div.sk-estimator {font-family: monospace;background-color: #f0f8ff;border: 1px dotted black;border-radius: 0.25em;box-sizing: border-box;margin-bottom: 0.5em;}#sk-container-id-1 div.sk-estimator:hover {background-color: #d4ebff;}#sk-container-id-1 div.sk-parallel-item::after {content: \"\";width: 100%;border-bottom: 1px solid gray;flex-grow: 1;}#sk-container-id-1 div.sk-label:hover label.sk-toggleable__label {background-color: #d4ebff;}#sk-container-id-1 div.sk-serial::before {content: \"\";position: absolute;border-left: 1px solid gray;box-sizing: border-box;top: 0;bottom: 0;left: 50%;z-index: 0;}#sk-container-id-1 div.sk-serial {display: flex;flex-direction: column;align-items: center;background-color: white;padding-right: 0.2em;padding-left: 0.2em;position: relative;}#sk-container-id-1 div.sk-item {position: relative;z-index: 1;}#sk-container-id-1 div.sk-parallel {display: flex;align-items: stretch;justify-content: center;background-color: white;position: relative;}#sk-container-id-1 div.sk-item::before, #sk-container-id-1 div.sk-parallel-item::before {content: \"\";position: absolute;border-left: 1px solid gray;box-sizing: border-box;top: 0;bottom: 0;left: 50%;z-index: -1;}#sk-container-id-1 div.sk-parallel-item {display: flex;flex-direction: column;z-index: 1;position: relative;background-color: white;}#sk-container-id-1 div.sk-parallel-item:first-child::after {align-self: flex-end;width: 50%;}#sk-container-id-1 div.sk-parallel-item:last-child::after {align-self: flex-start;width: 50%;}#sk-container-id-1 div.sk-parallel-item:only-child::after {width: 0;}#sk-container-id-1 div.sk-dashed-wrapped {border: 1px dashed gray;margin: 0 0.4em 0.5em 0.4em;box-sizing: border-box;padding-bottom: 0.4em;background-color: white;}#sk-container-id-1 div.sk-label label {font-family: monospace;font-weight: bold;display: inline-block;line-height: 1.2em;}#sk-container-id-1 div.sk-label-container {text-align: center;}#sk-container-id-1 div.sk-container {/* jupyter's `normalize.less` sets `[hidden] { display: none; }` but bootstrap.min.css set `[hidden] { display: none !important; }` so we also need the `!important` here to be able to override the default hidden behavior on the sphinx rendered scikit-learn.org. See: https://github.com/scikit-learn/scikit-learn/issues/21755 */display: inline-block !important;position: relative;}#sk-container-id-1 div.sk-text-repr-fallback {display: none;}</style><div id=\"sk-container-id-1\" class=\"sk-top-container\"><div class=\"sk-text-repr-fallback\"><pre>GridSearchCV(cv=3,\n",
       "             estimator=XGBClassifier(base_score=None, booster=None,\n",
       "                                     callbacks=None, colsample_bylevel=None,\n",
       "                                     colsample_bynode=None,\n",
       "                                     colsample_bytree=None,\n",
       "                                     early_stopping_rounds=None,\n",
       "                                     enable_categorical=False, eval_metric=None,\n",
       "                                     feature_types=None, gamma=0.5, gpu_id=None,\n",
       "                                     grow_policy=None, importance_type=None,\n",
       "                                     interaction_constraints=None,\n",
       "                                     learning_rate=None, m...,\n",
       "                                     max_cat_threshold=None,\n",
       "                                     max_cat_to_onehot=None,\n",
       "                                     max_delta_step=None, max_depth=None,\n",
       "                                     max_leaves=None, min_child_weight=None,\n",
       "                                     missing=nan, monotone_constraints=None,\n",
       "                                     n_estimators=100, n_jobs=None, nthread=4,\n",
       "                                     num_parallel_tree=None, predictor=None, ...),\n",
       "             n_jobs=-1,\n",
       "             param_grid={&#x27;learning_rate&#x27;: [0.02, 0.1], &#x27;max_depth&#x27;: [3, 4],\n",
       "                         &#x27;n_estimators&#x27;: [25, 30]},\n",
       "             scoring=&#x27;accuracy&#x27;)</pre><b>In a Jupyter environment, please rerun this cell to show the HTML representation or trust the notebook. <br />On GitHub, the HTML representation is unable to render, please try loading this page with nbviewer.org.</b></div><div class=\"sk-container\" hidden><div class=\"sk-item sk-dashed-wrapped\"><div class=\"sk-label-container\"><div class=\"sk-label sk-toggleable\"><input class=\"sk-toggleable__control sk-hidden--visually\" id=\"sk-estimator-id-1\" type=\"checkbox\" ><label for=\"sk-estimator-id-1\" class=\"sk-toggleable__label sk-toggleable__label-arrow\">GridSearchCV</label><div class=\"sk-toggleable__content\"><pre>GridSearchCV(cv=3,\n",
       "             estimator=XGBClassifier(base_score=None, booster=None,\n",
       "                                     callbacks=None, colsample_bylevel=None,\n",
       "                                     colsample_bynode=None,\n",
       "                                     colsample_bytree=None,\n",
       "                                     early_stopping_rounds=None,\n",
       "                                     enable_categorical=False, eval_metric=None,\n",
       "                                     feature_types=None, gamma=0.5, gpu_id=None,\n",
       "                                     grow_policy=None, importance_type=None,\n",
       "                                     interaction_constraints=None,\n",
       "                                     learning_rate=None, m...,\n",
       "                                     max_cat_threshold=None,\n",
       "                                     max_cat_to_onehot=None,\n",
       "                                     max_delta_step=None, max_depth=None,\n",
       "                                     max_leaves=None, min_child_weight=None,\n",
       "                                     missing=nan, monotone_constraints=None,\n",
       "                                     n_estimators=100, n_jobs=None, nthread=4,\n",
       "                                     num_parallel_tree=None, predictor=None, ...),\n",
       "             n_jobs=-1,\n",
       "             param_grid={&#x27;learning_rate&#x27;: [0.02, 0.1], &#x27;max_depth&#x27;: [3, 4],\n",
       "                         &#x27;n_estimators&#x27;: [25, 30]},\n",
       "             scoring=&#x27;accuracy&#x27;)</pre></div></div></div><div class=\"sk-parallel\"><div class=\"sk-parallel-item\"><div class=\"sk-item\"><div class=\"sk-label-container\"><div class=\"sk-label sk-toggleable\"><input class=\"sk-toggleable__control sk-hidden--visually\" id=\"sk-estimator-id-2\" type=\"checkbox\" ><label for=\"sk-estimator-id-2\" class=\"sk-toggleable__label sk-toggleable__label-arrow\">estimator: XGBClassifier</label><div class=\"sk-toggleable__content\"><pre>XGBClassifier(base_score=None, booster=None, callbacks=None,\n",
       "              colsample_bylevel=None, colsample_bynode=None,\n",
       "              colsample_bytree=None, early_stopping_rounds=None,\n",
       "              enable_categorical=False, eval_metric=None, feature_types=None,\n",
       "              gamma=0.5, gpu_id=None, grow_policy=None, importance_type=None,\n",
       "              interaction_constraints=None, learning_rate=None, max_bin=None,\n",
       "              max_cat_threshold=None, max_cat_to_onehot=None,\n",
       "              max_delta_step=None, max_depth=None, max_leaves=None,\n",
       "              min_child_weight=None, missing=nan, monotone_constraints=None,\n",
       "              n_estimators=100, n_jobs=None, nthread=4, num_parallel_tree=None,\n",
       "              predictor=None, ...)</pre></div></div></div><div class=\"sk-serial\"><div class=\"sk-item\"><div class=\"sk-estimator sk-toggleable\"><input class=\"sk-toggleable__control sk-hidden--visually\" id=\"sk-estimator-id-3\" type=\"checkbox\" ><label for=\"sk-estimator-id-3\" class=\"sk-toggleable__label sk-toggleable__label-arrow\">XGBClassifier</label><div class=\"sk-toggleable__content\"><pre>XGBClassifier(base_score=None, booster=None, callbacks=None,\n",
       "              colsample_bylevel=None, colsample_bynode=None,\n",
       "              colsample_bytree=None, early_stopping_rounds=None,\n",
       "              enable_categorical=False, eval_metric=None, feature_types=None,\n",
       "              gamma=0.5, gpu_id=None, grow_policy=None, importance_type=None,\n",
       "              interaction_constraints=None, learning_rate=None, max_bin=None,\n",
       "              max_cat_threshold=None, max_cat_to_onehot=None,\n",
       "              max_delta_step=None, max_depth=None, max_leaves=None,\n",
       "              min_child_weight=None, missing=nan, monotone_constraints=None,\n",
       "              n_estimators=100, n_jobs=None, nthread=4, num_parallel_tree=None,\n",
       "              predictor=None, ...)</pre></div></div></div></div></div></div></div></div></div></div>"
      ],
      "text/plain": [
       "GridSearchCV(cv=3,\n",
       "             estimator=XGBClassifier(base_score=None, booster=None,\n",
       "                                     callbacks=None, colsample_bylevel=None,\n",
       "                                     colsample_bynode=None,\n",
       "                                     colsample_bytree=None,\n",
       "                                     early_stopping_rounds=None,\n",
       "                                     enable_categorical=False, eval_metric=None,\n",
       "                                     feature_types=None, gamma=0.5, gpu_id=None,\n",
       "                                     grow_policy=None, importance_type=None,\n",
       "                                     interaction_constraints=None,\n",
       "                                     learning_rate=None, m...,\n",
       "                                     max_cat_threshold=None,\n",
       "                                     max_cat_to_onehot=None,\n",
       "                                     max_delta_step=None, max_depth=None,\n",
       "                                     max_leaves=None, min_child_weight=None,\n",
       "                                     missing=nan, monotone_constraints=None,\n",
       "                                     n_estimators=100, n_jobs=None, nthread=4,\n",
       "                                     num_parallel_tree=None, predictor=None, ...),\n",
       "             n_jobs=-1,\n",
       "             param_grid={'learning_rate': [0.02, 0.1], 'max_depth': [3, 4],\n",
       "                         'n_estimators': [25, 30]},\n",
       "             scoring='accuracy')"
      ]
     },
     "execution_count": 17,
     "metadata": {},
     "output_type": "execute_result"
    }
   ],
   "source": [
    "xgb_gr.fit(X,y)"
   ]
  },
  {
   "cell_type": "code",
   "execution_count": 18,
   "metadata": {},
   "outputs": [
    {
     "name": "stdout",
     "output_type": "stream",
     "text": [
      "{'learning_rate': 0.1, 'max_depth': 4, 'n_estimators': 30}\n"
     ]
    }
   ],
   "source": [
    "best_params = xgb_gr.best_params_\n",
    "print(best_params)"
   ]
  },
  {
   "cell_type": "code",
   "execution_count": 19,
   "metadata": {},
   "outputs": [],
   "source": [
    "results = cross_validate(xgb_gr.best_estimator_, X, y, cv=numFold, scoring=scoring)"
   ]
  },
  {
   "cell_type": "code",
   "execution_count": 23,
   "metadata": {},
   "outputs": [
    {
     "name": "stdout",
     "output_type": "stream",
     "text": [
      "Cross-Validation Results:\n",
      "Fold 1 : \n",
      "Accuracy = 74.24% | Precision = 76.47% | Recall = 62.89%\n",
      "\n",
      "Fold 2 : \n",
      "Accuracy = 77.01% | Precision = 80.61% | Recall = 66.72%\n",
      "\n",
      "Fold 3 : \n",
      "Accuracy = 72.51% | Precision = 75.43% | Recall = 59.80%\n",
      "\n",
      "Average Results : \n",
      "Accuracy = 74.59% | Precision = 77.50% | Recall = 63.14%\n",
      "\n",
      "Best Hyperparameter : {'learning_rate': 0.1, 'max_depth': 4, 'n_estimators': 30}\n"
     ]
    }
   ],
   "source": [
    "accuracy_scores = results[\n",
    "    \"test_accuracy\"\n",
    "]  # Menyimpan skor akurasi dari hasil validasi silang\n",
    "precision_scores = results[\n",
    "    \"test_precision\"\n",
    "]  # Menyimpan skor presisi dari hasil validasi silang\n",
    "recall_scores = results[\n",
    "    \"test_recall\"\n",
    "]  # Menyimpan skor recall dari hasil validasi silang\n",
    "\n",
    "print(\"Cross-Validation Results:\")\n",
    "\n",
    "for i in range(numFold):\n",
    "    print(f\"Fold {i+1} : \")\n",
    "    print(\n",
    "        f\"Accuracy = {accuracy_scores[i]*100:.2f}% | Precision = {precision_scores[i]*100:.2f}% | Recall = {recall_scores[i]*100:.2f}%\\n\"\n",
    "    )\n",
    "print(\n",
    "    f\"Average Results : \\nAccuracy = {accuracy_scores.mean()*100:.2f}% | Precision = {precision_scores.mean()*100:.2f}% | Recall = {recall_scores.mean()*100:.2f}%\"\n",
    ")\n",
    "print(f\"\\nBest Hyperparameter : {best_params}\")\n"
   ]
  },
  {
   "cell_type": "code",
   "execution_count": 16,
   "metadata": {},
   "outputs": [
    {
     "ename": "AttributeError",
     "evalue": "'GridSearchCV' object has no attribute 'best_params_'",
     "output_type": "error",
     "traceback": [
      "\u001b[1;31m---------------------------------------------------------------------------\u001b[0m",
      "\u001b[1;31mAttributeError\u001b[0m                            Traceback (most recent call last)",
      "Cell \u001b[1;32mIn[16], line 1\u001b[0m\n\u001b[1;32m----> 1\u001b[0m xgb_gr\u001b[39m.\u001b[39;49mbest_params_()\n",
      "\u001b[1;31mAttributeError\u001b[0m: 'GridSearchCV' object has no attribute 'best_params_'"
     ]
    }
   ],
   "source": [
    "xgb_gr.best_params_()"
   ]
  },
  {
   "cell_type": "code",
   "execution_count": 15,
   "metadata": {},
   "outputs": [
    {
     "name": "stdout",
     "output_type": "stream",
     "text": [
      "0.7458746127265581\n",
      "{'fit_time': array([204.82278681, 189.44186544, 190.03686118]), 'score_time': array([0.52416444, 0.50572109, 0.49767184]), 'test_accuracy': array([0.74242424, 0.7700859 , 0.72511369]), 'test_precision': array([0.76470714, 0.80607049, 0.75433586]), 'test_recall': array([0.62893999, 0.66715288, 0.59803526])}\n"
     ]
    }
   ],
   "source": [
    "print(results['test_accuracy'].mean())\n",
    "print(results)"
   ]
  },
  {
   "cell_type": "code",
   "execution_count": null,
   "metadata": {},
   "outputs": [],
   "source": [
    "# Create an XGBoost classifier with specified parameters\n",
    "model = xgb.XGBClassifier(\n",
    "    n_estimators=1000,  # Number of trees in the forest\n",
    "    gamma=1,  # Minimum loss reduction required to make a further partition on a leaf node\n",
    "    learning_rate=1,  # Step size shrinkage used in update to prevent overfitting\n",
    "    subsample=1,  # Subsample ratio of the training instances\n",
    "    max_depth=4,  # Maximum depth of a tree\n",
    ")\n",
    "\n",
    "# Create a K-Fold cross-validation object with 5 splits\n",
    "kfold_1 = KFold(n_splits=5)\n",
    "SKFold_1 = StratifiedKFold(n_splits=5)\n",
    "\n",
    "# Perform cross-validation and get the accuracy scores\n",
    "accuracy_scores = cross_val_score(model, X, y, cv=SKFold_1, scoring=\"accuracy\")\n",
    "precision_scores = cross_val_score(model, X, y, cv=SKFold_1, scoring=\"precision_macro\")\n",
    "recall_scores = cross_val_score(model, X, y, cv=SKFold_1, scoring=\"recall_macro\")\n",
    "\n",
    "# Print the mean and standard deviation of the scores\n",
    "print(\n",
    "    \"Accuracy: {:.2f} (+/- {:.2f})\".format(\n",
    "        accuracy_scores.mean(), accuracy_scores.std() * 2\n",
    "    )\n",
    ")\n",
    "print(\n",
    "    \"Precision: {:.2f} (+/- {:.2f})\".format(\n",
    "        precision_scores.mean(), precision_scores.std() * 2\n",
    "    )\n",
    ")\n",
    "print(\n",
    "    \"Recall: {:.2f} (+/- {:.2f})\".format(recall_scores.mean(), recall_scores.std() * 2)\n",
    ")\n"
   ]
  },
  {
   "cell_type": "code",
   "execution_count": null,
   "metadata": {},
   "outputs": [],
   "source": [
    "# Create an XGBoost classifier with specified parameters\n",
    "model = xgb.XGBClassifier(\n",
    "    n_estimators=1000,  # Number of trees in the forest\n",
    "    gamma=1,  # Minimum loss reduction required to make a further partition on a leaf node\n",
    "    learning_rate=1,  # Step size shrinkage used in update to prevent overfitting\n",
    "    subsample=1,  # Subsample ratio of the training instances\n",
    "    max_depth=4,  # Maximum depth of a tree\n",
    ")\n",
    "\n",
    "# Create a K-Fold cross-validation object with 5 splits\n",
    "numFold = 5\n",
    "kfold_1 = KFold(n_splits=5)\n",
    "SKFold_1 = StratifiedKFold(n_splits=numFold, random_state=42, shuffle=True)\n",
    "\n",
    "accuracy_scores = cross_val_score(model, X, y, cv=SKFold_1, scoring=\"accuracy\")\n",
    "precision_scores = cross_val_score(model, X, y, cv=SKFold_1, scoring=\"precision_macro\")\n",
    "recall_scores = cross_val_score(model, X, y, cv=SKFold_1, scoring=\"recall_macro\")\n",
    "\n",
    "\n",
    "for i in range(numFold):\n",
    "    print(\n",
    "        f\"Fold {i+1} : Accuracy = {accuracy_scores[i] * 100:.2f}% | Precision : {precision_scores[i]*100:.2f}% | Recall = {recall_scores[i]*100:.2f}% \\n\"\n",
    "    )\n",
    "\n",
    "print(\n",
    "    f\"Average Scores : Accuracy = {accuracy_scores.mean()*100:.2f}% ({accuracy_scores.std()*100:.2f}%) | Precision = {precision_scores.mean()*100:.2f}% | Recall = {recall_scores.mean()*100:.2f}%\"\n",
    ")\n"
   ]
  },
  {
   "cell_type": "code",
   "execution_count": null,
   "metadata": {},
   "outputs": [],
   "source": [
    "kfold = KFold(n_splits=10)\n",
    "SKFold_2 = StratifiedKFold(n_splits=10)\n",
    "result2 = cross_val_score(model, X=X, y=y, cv=SKFold_2)\n",
    "print(\"Accuracy: %.2f%% (%.2f%%)\" % (result2.mean() * 100, result2.std() * 100))\n"
   ]
  },
  {
   "attachments": {},
   "cell_type": "markdown",
   "metadata": {},
   "source": [
    "## **Modeling Data Dataset 3 (Augmentasi)**"
   ]
  },
  {
   "cell_type": "code",
   "execution_count": null,
   "metadata": {},
   "outputs": [],
   "source": [
    "import numpy as np  # linear algebra\n",
    "import pandas as pd  # data processing, CSV file I/O (e.g. pd.read_csv)\n",
    "import xgboost as xgb\n",
    "from sklearn.model_selection import train_test_split, KFold, cross_val_score\n"
   ]
  },
  {
   "cell_type": "code",
   "execution_count": null,
   "metadata": {},
   "outputs": [],
   "source": [
    "df = pd.read_csv(\"../dataset/INA_TweetsPPKM_TFRF_DS3.csv\", sep=\"\\t\")\n"
   ]
  },
  {
   "cell_type": "code",
   "execution_count": null,
   "metadata": {},
   "outputs": [],
   "source": [
    "df.head(5)"
   ]
  },
  {
   "cell_type": "code",
   "execution_count": null,
   "metadata": {},
   "outputs": [],
   "source": [
    "# implementing cv in xgboost model\n",
    "df.shape"
   ]
  },
  {
   "cell_type": "code",
   "execution_count": null,
   "metadata": {},
   "outputs": [],
   "source": [
    "X = df.drop(\"sentiment\", axis=1)\n",
    "y = df[\"sentiment\"]\n",
    "print(X.shape)\n",
    "print(y.shape)\n"
   ]
  },
  {
   "cell_type": "code",
   "execution_count": null,
   "metadata": {},
   "outputs": [],
   "source": [
    "import xgboost as xgb\n",
    "from sklearn.model_selection import KFold, cross_val_score, StratifiedKFold\n",
    "\n",
    "\n",
    "# Create an XGBoost classifier with specified parameters\n",
    "model = xgb.XGBClassifier(\n",
    "    n_estimators=1000,  # Number of trees in the forest\n",
    "    gamma=0.5,  # Minimum loss reduction required to make a further partition on a leaf node\n",
    "    learning_rate=0.1,  # Step size shrinkage used in update to prevent overfitting\n",
    "    subsample=0.5,  # Subsample ratio of the training instances\n",
    "    max_depth=4,  # Maximum depth of a tree\n",
    "\n",
    ")\n",
    "\n",
    "numFold = 5\n",
    "kfold_1 = KFold(n_splits=5)\n",
    "SKFold_1 = StratifiedKFold(n_splits=numFold, random_state=42, shuffle=True)\n",
    "\n",
    "accuracy_scores = cross_val_score(model, X, y, cv=SKFold_1, scoring=\"accuracy\")\n",
    "precision_scores = cross_val_score(model, X, y, cv=SKFold_1, scoring=\"precision_macro\")\n",
    "recall_scores = cross_val_score(model, X, y, cv=SKFold_1, scoring=\"recall_macro\")\n",
    "\n",
    "\n",
    "for i in range(numFold):\n",
    "    print(\n",
    "        f\"Fold {i+1} : Accuracy = {accuracy_scores[i] * 100:.2f}% | Precision : {precision_scores[i]*100:.2f}% | Recall = {recall_scores[i]*100:.2f}% \\n\"\n",
    "    )\n",
    "\n",
    "print(\n",
    "    f\"Average Scores : Accuracy = {accuracy_scores.mean()*100:.2f}% ({accuracy_scores.std()*100:.2f}%) | Precision = {precision_scores.mean()*100:.2f}% | Recall = {recall_scores.mean()*100:.2f}%\"\n",
    ")\n"
   ]
  },
  {
   "cell_type": "code",
   "execution_count": null,
   "metadata": {},
   "outputs": [],
   "source": [
    "kfold = KFold(n_splits=10)\n",
    "SKFold2 = StratifiedKFold(n_splits=10)\n",
    "result2 = cross_val_score(model, X=X, y=y, cv=SKFold2)\n",
    "print(\"Accuracy: %.2f%% (%.2f%%)\" % (result2.mean() * 100, result2.std() * 100))\n"
   ]
  },
  {
   "cell_type": "code",
   "execution_count": null,
   "metadata": {},
   "outputs": [],
   "source": [
    "result2"
   ]
  },
  {
   "cell_type": "code",
   "execution_count": null,
   "metadata": {},
   "outputs": [],
   "source": []
  }
 ],
 "metadata": {
  "kernelspec": {
   "display_name": "env",
   "language": "python",
   "name": "python3"
  },
  "language_info": {
   "codemirror_mode": {
    "name": "ipython",
    "version": 3
   },
   "file_extension": ".py",
   "mimetype": "text/x-python",
   "name": "python",
   "nbconvert_exporter": "python",
   "pygments_lexer": "ipython3",
   "version": "3.10.7"
  },
  "orig_nbformat": 4
 },
 "nbformat": 4,
 "nbformat_minor": 2
}
