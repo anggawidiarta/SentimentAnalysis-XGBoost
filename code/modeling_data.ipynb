{
 "cells": [
  {
   "attachments": {},
   "cell_type": "markdown",
   "metadata": {},
   "source": [
    "## **Modeling Data Dataset 1**"
   ]
  },
  {
   "cell_type": "code",
   "execution_count": 1,
   "metadata": {},
   "outputs": [],
   "source": [
    "import numpy as np  # linear algebra\n",
    "import pandas as pd  # data processing, CSV file I/O (e.g. pd.read_csv)\n",
    "import xgboost as xgb\n",
    "from sklearn.model_selection import train_test_split, KFold, cross_val_score\n"
   ]
  },
  {
   "cell_type": "code",
   "execution_count": 2,
   "metadata": {},
   "outputs": [],
   "source": [
    "df = pd.read_csv(\"../dataset/INA_TweetsPPKM_TFRF.csv\", index_col=[0])\n"
   ]
  },
  {
   "cell_type": "code",
   "execution_count": 3,
   "metadata": {},
   "outputs": [
    {
     "data": {
      "text/html": [
       "<div>\n",
       "<style scoped>\n",
       "    .dataframe tbody tr th:only-of-type {\n",
       "        vertical-align: middle;\n",
       "    }\n",
       "\n",
       "    .dataframe tbody tr th {\n",
       "        vertical-align: top;\n",
       "    }\n",
       "\n",
       "    .dataframe thead th {\n",
       "        text-align: right;\n",
       "    }\n",
       "</style>\n",
       "<table border=\"1\" class=\"dataframe\">\n",
       "  <thead>\n",
       "    <tr style=\"text-align: right;\">\n",
       "      <th></th>\n",
       "      <th>stimulasi</th>\n",
       "      <th>optimal</th>\n",
       "      <th>laku</th>\n",
       "      <th>online</th>\n",
       "      <th>penuh</th>\n",
       "      <th>butuh</th>\n",
       "      <th>sebut</th>\n",
       "      <th>tetap</th>\n",
       "      <th>operasi</th>\n",
       "      <th>sesuai</th>\n",
       "      <th>...</th>\n",
       "      <th>kbar</th>\n",
       "      <th>shalallahu</th>\n",
       "      <th>alaihi</th>\n",
       "      <th>wasallam</th>\n",
       "      <th>bedane</th>\n",
       "      <th>ketatin</th>\n",
       "      <th>rameeee</th>\n",
       "      <th>siihh</th>\n",
       "      <th>disiniii</th>\n",
       "      <th>sentiment</th>\n",
       "    </tr>\n",
       "  </thead>\n",
       "  <tbody>\n",
       "    <tr>\n",
       "      <th>9995</th>\n",
       "      <td>0.0</td>\n",
       "      <td>0.0</td>\n",
       "      <td>0.0</td>\n",
       "      <td>0.0</td>\n",
       "      <td>0.0</td>\n",
       "      <td>0.00000</td>\n",
       "      <td>0.0</td>\n",
       "      <td>0.0</td>\n",
       "      <td>0.0</td>\n",
       "      <td>0.0</td>\n",
       "      <td>...</td>\n",
       "      <td>0.0</td>\n",
       "      <td>0.0</td>\n",
       "      <td>0.0</td>\n",
       "      <td>0.0</td>\n",
       "      <td>0.0</td>\n",
       "      <td>0.0</td>\n",
       "      <td>0.0</td>\n",
       "      <td>0.0</td>\n",
       "      <td>0.0</td>\n",
       "      <td>0</td>\n",
       "    </tr>\n",
       "    <tr>\n",
       "      <th>9996</th>\n",
       "      <td>0.0</td>\n",
       "      <td>0.0</td>\n",
       "      <td>0.0</td>\n",
       "      <td>0.0</td>\n",
       "      <td>0.0</td>\n",
       "      <td>0.00000</td>\n",
       "      <td>0.0</td>\n",
       "      <td>0.0</td>\n",
       "      <td>0.0</td>\n",
       "      <td>0.0</td>\n",
       "      <td>...</td>\n",
       "      <td>0.0</td>\n",
       "      <td>0.0</td>\n",
       "      <td>0.0</td>\n",
       "      <td>0.0</td>\n",
       "      <td>0.0</td>\n",
       "      <td>0.0</td>\n",
       "      <td>0.0</td>\n",
       "      <td>0.0</td>\n",
       "      <td>0.0</td>\n",
       "      <td>0</td>\n",
       "    </tr>\n",
       "    <tr>\n",
       "      <th>9997</th>\n",
       "      <td>0.0</td>\n",
       "      <td>0.0</td>\n",
       "      <td>0.0</td>\n",
       "      <td>0.0</td>\n",
       "      <td>0.0</td>\n",
       "      <td>0.52099</td>\n",
       "      <td>0.0</td>\n",
       "      <td>0.0</td>\n",
       "      <td>0.0</td>\n",
       "      <td>0.0</td>\n",
       "      <td>...</td>\n",
       "      <td>0.0</td>\n",
       "      <td>0.0</td>\n",
       "      <td>0.0</td>\n",
       "      <td>0.0</td>\n",
       "      <td>0.0</td>\n",
       "      <td>0.0</td>\n",
       "      <td>0.0</td>\n",
       "      <td>0.0</td>\n",
       "      <td>0.0</td>\n",
       "      <td>0</td>\n",
       "    </tr>\n",
       "    <tr>\n",
       "      <th>9998</th>\n",
       "      <td>0.0</td>\n",
       "      <td>0.0</td>\n",
       "      <td>0.0</td>\n",
       "      <td>0.0</td>\n",
       "      <td>0.0</td>\n",
       "      <td>0.00000</td>\n",
       "      <td>0.0</td>\n",
       "      <td>0.0</td>\n",
       "      <td>0.0</td>\n",
       "      <td>0.0</td>\n",
       "      <td>...</td>\n",
       "      <td>0.0</td>\n",
       "      <td>0.0</td>\n",
       "      <td>0.0</td>\n",
       "      <td>0.0</td>\n",
       "      <td>0.0</td>\n",
       "      <td>0.0</td>\n",
       "      <td>0.0</td>\n",
       "      <td>0.0</td>\n",
       "      <td>0.0</td>\n",
       "      <td>0</td>\n",
       "    </tr>\n",
       "    <tr>\n",
       "      <th>9999</th>\n",
       "      <td>0.0</td>\n",
       "      <td>0.0</td>\n",
       "      <td>0.0</td>\n",
       "      <td>0.0</td>\n",
       "      <td>0.0</td>\n",
       "      <td>0.00000</td>\n",
       "      <td>0.0</td>\n",
       "      <td>0.0</td>\n",
       "      <td>0.0</td>\n",
       "      <td>0.0</td>\n",
       "      <td>...</td>\n",
       "      <td>0.0</td>\n",
       "      <td>0.0</td>\n",
       "      <td>0.0</td>\n",
       "      <td>0.0</td>\n",
       "      <td>0.0</td>\n",
       "      <td>0.0</td>\n",
       "      <td>0.0</td>\n",
       "      <td>0.0</td>\n",
       "      <td>0.0</td>\n",
       "      <td>0</td>\n",
       "    </tr>\n",
       "  </tbody>\n",
       "</table>\n",
       "<p>5 rows × 13828 columns</p>\n",
       "</div>"
      ],
      "text/plain": [
       "      stimulasi  optimal  laku  online  penuh    butuh  sebut  tetap  operasi  \\\n",
       "9995        0.0      0.0   0.0     0.0    0.0  0.00000    0.0    0.0      0.0   \n",
       "9996        0.0      0.0   0.0     0.0    0.0  0.00000    0.0    0.0      0.0   \n",
       "9997        0.0      0.0   0.0     0.0    0.0  0.52099    0.0    0.0      0.0   \n",
       "9998        0.0      0.0   0.0     0.0    0.0  0.00000    0.0    0.0      0.0   \n",
       "9999        0.0      0.0   0.0     0.0    0.0  0.00000    0.0    0.0      0.0   \n",
       "\n",
       "      sesuai  ...  kbar  shalallahu  alaihi  wasallam  bedane  ketatin  \\\n",
       "9995     0.0  ...   0.0         0.0     0.0       0.0     0.0      0.0   \n",
       "9996     0.0  ...   0.0         0.0     0.0       0.0     0.0      0.0   \n",
       "9997     0.0  ...   0.0         0.0     0.0       0.0     0.0      0.0   \n",
       "9998     0.0  ...   0.0         0.0     0.0       0.0     0.0      0.0   \n",
       "9999     0.0  ...   0.0         0.0     0.0       0.0     0.0      0.0   \n",
       "\n",
       "      rameeee  siihh  disiniii  sentiment  \n",
       "9995      0.0    0.0       0.0          0  \n",
       "9996      0.0    0.0       0.0          0  \n",
       "9997      0.0    0.0       0.0          0  \n",
       "9998      0.0    0.0       0.0          0  \n",
       "9999      0.0    0.0       0.0          0  \n",
       "\n",
       "[5 rows x 13828 columns]"
      ]
     },
     "execution_count": 3,
     "metadata": {},
     "output_type": "execute_result"
    }
   ],
   "source": [
    "df.tail()\n"
   ]
  },
  {
   "cell_type": "code",
   "execution_count": 4,
   "metadata": {},
   "outputs": [
    {
     "data": {
      "text/plain": [
       "(10000, 13828)"
      ]
     },
     "execution_count": 4,
     "metadata": {},
     "output_type": "execute_result"
    }
   ],
   "source": [
    "# implementing cv in xgboost model\n",
    "df.shape"
   ]
  },
  {
   "cell_type": "code",
   "execution_count": 5,
   "metadata": {},
   "outputs": [],
   "source": [
    "X = df.drop(\"sentiment\", axis=1)\n",
    "y = df[\"sentiment\"]\n"
   ]
  },
  {
   "cell_type": "code",
   "execution_count": 6,
   "metadata": {},
   "outputs": [
    {
     "name": "stdout",
     "output_type": "stream",
     "text": [
      "(10000, 13827)\n",
      "(10000,)\n"
     ]
    }
   ],
   "source": [
    "print(X.shape)\n",
    "print(y.shape)"
   ]
  },
  {
   "cell_type": "code",
   "execution_count": 8,
   "metadata": {},
   "outputs": [
    {
     "name": "stdout",
     "output_type": "stream",
     "text": [
      "Accuracy: 74.63% (10.61%)\n"
     ]
    }
   ],
   "source": [
    "import xgboost as xgb\n",
    "from sklearn.model_selection import KFold, cross_val_score\n",
    "\n",
    "\n",
    "# Create an XGBoost classifier with specified parameters\n",
    "model = xgb.XGBClassifier(\n",
    "    n_estimators=1000,  # Number of trees in the forest\n",
    "    gamma=1,  # Minimum loss reduction required to make a further partition on a leaf node\n",
    "    learning_rate=1,  # Step size shrinkage used in update to prevent overfitting\n",
    "    subsample=1,  # Subsample ratio of the training instances\n",
    "    max_depth=4,  # Maximum depth of a tree\n",
    ")\n",
    "\n",
    "# Create a K-Fold cross-validation object with 5 splits\n",
    "kfold = KFold(n_splits=10)\n",
    "\n",
    "# Perform cross-validation and get the accuracy scores\n",
    "result = cross_val_score(model, X=X, y=y, cv=kfold)\n",
    "\n",
    "# Print the mean and standard deviation of the accuracy scores\n",
    "print(\"Accuracy: %.2f%% (%.2f%%)\" % (result.mean() * 100, result.std() * 100))\n"
   ]
  },
  {
   "attachments": {},
   "cell_type": "markdown",
   "metadata": {},
   "source": [
    "kfold = KFold(n_splits=10)\n",
    "result2 = cross_val_score(model, X=X, y=y, cv=kfold)\n",
    "print(\"Accuracy: %.2f%% (%.2f%%)\" % (result2.mean() * 100, result2.std() * 100))\n"
   ]
  },
  {
   "attachments": {},
   "cell_type": "markdown",
   "metadata": {},
   "source": [
    "### **Tanpa Stemming**"
   ]
  },
  {
   "cell_type": "code",
   "execution_count": null,
   "metadata": {},
   "outputs": [],
   "source": [
    "data_without_stemming = pd.read_csv(\n",
    "    \"../dataset/INA_TweetsPPKM_Preprocessed_NoStemming.csv\",\n",
    "    sep=\"\\t\",\n",
    ")\n",
    "data_without_stemming.head()\n"
   ]
  },
  {
   "attachments": {},
   "cell_type": "markdown",
   "metadata": {},
   "source": [
    "## **Modeling Data Dataset 2**"
   ]
  },
  {
   "cell_type": "code",
   "execution_count": 1,
   "metadata": {},
   "outputs": [],
   "source": [
    "import numpy as np  # linear algebra\n",
    "import pandas as pd  # data processing, CSV file I/O (e.g. pd.read_csv)\n",
    "import xgboost as xgb\n",
    "from sklearn.model_selection import train_test_split, KFold, cross_val_score\n"
   ]
  },
  {
   "cell_type": "code",
   "execution_count": 7,
   "metadata": {},
   "outputs": [],
   "source": [
    "df = pd.read_csv(\"../dataset/INA_TweetsPPKM_TFRF_DS2.csv\", sep=\"\\t\")\n"
   ]
  },
  {
   "cell_type": "code",
   "execution_count": 8,
   "metadata": {},
   "outputs": [
    {
     "data": {
      "text/html": [
       "<div>\n",
       "<style scoped>\n",
       "    .dataframe tbody tr th:only-of-type {\n",
       "        vertical-align: middle;\n",
       "    }\n",
       "\n",
       "    .dataframe tbody tr th {\n",
       "        vertical-align: top;\n",
       "    }\n",
       "\n",
       "    .dataframe thead th {\n",
       "        text-align: right;\n",
       "    }\n",
       "</style>\n",
       "<table border=\"1\" class=\"dataframe\">\n",
       "  <thead>\n",
       "    <tr style=\"text-align: right;\">\n",
       "      <th></th>\n",
       "      <th>stimulasi</th>\n",
       "      <th>optimal</th>\n",
       "      <th>laku</th>\n",
       "      <th>online</th>\n",
       "      <th>penuh</th>\n",
       "      <th>butuh</th>\n",
       "      <th>sebut</th>\n",
       "      <th>tetap</th>\n",
       "      <th>operasi</th>\n",
       "      <th>sesuai</th>\n",
       "      <th>...</th>\n",
       "      <th>wawancara</th>\n",
       "      <th>koyak</th>\n",
       "      <th>distancing</th>\n",
       "      <th>phisical</th>\n",
       "      <th>kunyuk</th>\n",
       "      <th>perubahanperubahan</th>\n",
       "      <th>acau</th>\n",
       "      <th>siihh</th>\n",
       "      <th>disiniii</th>\n",
       "      <th>sentiment</th>\n",
       "    </tr>\n",
       "  </thead>\n",
       "  <tbody>\n",
       "    <tr>\n",
       "      <th>430</th>\n",
       "      <td>0.0</td>\n",
       "      <td>0.0</td>\n",
       "      <td>0.0</td>\n",
       "      <td>0.0</td>\n",
       "      <td>0.0</td>\n",
       "      <td>0.0</td>\n",
       "      <td>0.0</td>\n",
       "      <td>0.0</td>\n",
       "      <td>0.0</td>\n",
       "      <td>0.0</td>\n",
       "      <td>...</td>\n",
       "      <td>0.0</td>\n",
       "      <td>0.0</td>\n",
       "      <td>0.0</td>\n",
       "      <td>0.0</td>\n",
       "      <td>0.0</td>\n",
       "      <td>0.0</td>\n",
       "      <td>0.0</td>\n",
       "      <td>0.0</td>\n",
       "      <td>0.0</td>\n",
       "      <td>1</td>\n",
       "    </tr>\n",
       "    <tr>\n",
       "      <th>1755</th>\n",
       "      <td>0.0</td>\n",
       "      <td>0.0</td>\n",
       "      <td>0.0</td>\n",
       "      <td>0.0</td>\n",
       "      <td>0.0</td>\n",
       "      <td>0.0</td>\n",
       "      <td>0.0</td>\n",
       "      <td>0.0</td>\n",
       "      <td>0.0</td>\n",
       "      <td>0.0</td>\n",
       "      <td>...</td>\n",
       "      <td>0.0</td>\n",
       "      <td>0.0</td>\n",
       "      <td>0.0</td>\n",
       "      <td>0.0</td>\n",
       "      <td>0.0</td>\n",
       "      <td>0.0</td>\n",
       "      <td>0.0</td>\n",
       "      <td>0.0</td>\n",
       "      <td>0.0</td>\n",
       "      <td>1</td>\n",
       "    </tr>\n",
       "    <tr>\n",
       "      <th>4990</th>\n",
       "      <td>0.0</td>\n",
       "      <td>0.0</td>\n",
       "      <td>0.0</td>\n",
       "      <td>0.0</td>\n",
       "      <td>0.0</td>\n",
       "      <td>0.0</td>\n",
       "      <td>0.0</td>\n",
       "      <td>0.0</td>\n",
       "      <td>0.0</td>\n",
       "      <td>0.0</td>\n",
       "      <td>...</td>\n",
       "      <td>0.0</td>\n",
       "      <td>0.0</td>\n",
       "      <td>0.0</td>\n",
       "      <td>0.0</td>\n",
       "      <td>0.0</td>\n",
       "      <td>0.0</td>\n",
       "      <td>0.0</td>\n",
       "      <td>0.0</td>\n",
       "      <td>0.0</td>\n",
       "      <td>0</td>\n",
       "    </tr>\n",
       "    <tr>\n",
       "      <th>5513</th>\n",
       "      <td>0.0</td>\n",
       "      <td>0.0</td>\n",
       "      <td>0.0</td>\n",
       "      <td>0.0</td>\n",
       "      <td>0.0</td>\n",
       "      <td>0.0</td>\n",
       "      <td>0.0</td>\n",
       "      <td>0.0</td>\n",
       "      <td>0.0</td>\n",
       "      <td>0.0</td>\n",
       "      <td>...</td>\n",
       "      <td>0.0</td>\n",
       "      <td>0.0</td>\n",
       "      <td>0.0</td>\n",
       "      <td>0.0</td>\n",
       "      <td>0.0</td>\n",
       "      <td>0.0</td>\n",
       "      <td>0.0</td>\n",
       "      <td>0.0</td>\n",
       "      <td>0.0</td>\n",
       "      <td>0</td>\n",
       "    </tr>\n",
       "    <tr>\n",
       "      <th>2714</th>\n",
       "      <td>0.0</td>\n",
       "      <td>0.0</td>\n",
       "      <td>0.0</td>\n",
       "      <td>0.0</td>\n",
       "      <td>0.0</td>\n",
       "      <td>0.0</td>\n",
       "      <td>0.0</td>\n",
       "      <td>0.0</td>\n",
       "      <td>0.0</td>\n",
       "      <td>0.0</td>\n",
       "      <td>...</td>\n",
       "      <td>0.0</td>\n",
       "      <td>0.0</td>\n",
       "      <td>0.0</td>\n",
       "      <td>0.0</td>\n",
       "      <td>0.0</td>\n",
       "      <td>0.0</td>\n",
       "      <td>0.0</td>\n",
       "      <td>0.0</td>\n",
       "      <td>0.0</td>\n",
       "      <td>0</td>\n",
       "    </tr>\n",
       "  </tbody>\n",
       "</table>\n",
       "<p>5 rows × 11258 columns</p>\n",
       "</div>"
      ],
      "text/plain": [
       "      stimulasi  optimal  laku  online  penuh  butuh  sebut  tetap  operasi  \\\n",
       "430         0.0      0.0   0.0     0.0    0.0    0.0    0.0    0.0      0.0   \n",
       "1755        0.0      0.0   0.0     0.0    0.0    0.0    0.0    0.0      0.0   \n",
       "4990        0.0      0.0   0.0     0.0    0.0    0.0    0.0    0.0      0.0   \n",
       "5513        0.0      0.0   0.0     0.0    0.0    0.0    0.0    0.0      0.0   \n",
       "2714        0.0      0.0   0.0     0.0    0.0    0.0    0.0    0.0      0.0   \n",
       "\n",
       "      sesuai  ...  wawancara  koyak  distancing  phisical  kunyuk  \\\n",
       "430      0.0  ...        0.0    0.0         0.0       0.0     0.0   \n",
       "1755     0.0  ...        0.0    0.0         0.0       0.0     0.0   \n",
       "4990     0.0  ...        0.0    0.0         0.0       0.0     0.0   \n",
       "5513     0.0  ...        0.0    0.0         0.0       0.0     0.0   \n",
       "2714     0.0  ...        0.0    0.0         0.0       0.0     0.0   \n",
       "\n",
       "      perubahanperubahan  acau  siihh  disiniii  sentiment  \n",
       "430                  0.0   0.0    0.0       0.0          1  \n",
       "1755                 0.0   0.0    0.0       0.0          1  \n",
       "4990                 0.0   0.0    0.0       0.0          0  \n",
       "5513                 0.0   0.0    0.0       0.0          0  \n",
       "2714                 0.0   0.0    0.0       0.0          0  \n",
       "\n",
       "[5 rows x 11258 columns]"
      ]
     },
     "execution_count": 8,
     "metadata": {},
     "output_type": "execute_result"
    }
   ],
   "source": [
    "df.sample(5)"
   ]
  },
  {
   "cell_type": "code",
   "execution_count": 10,
   "metadata": {},
   "outputs": [
    {
     "data": {
      "text/plain": [
       "(5938, 11258)"
      ]
     },
     "execution_count": 10,
     "metadata": {},
     "output_type": "execute_result"
    }
   ],
   "source": [
    "# implementing cv in xgboost model\n",
    "df.shape"
   ]
  },
  {
   "cell_type": "code",
   "execution_count": 12,
   "metadata": {},
   "outputs": [
    {
     "name": "stdout",
     "output_type": "stream",
     "text": [
      "(5938, 11257)\n",
      "(5938,)\n"
     ]
    }
   ],
   "source": [
    "X = df.drop(\"sentiment\", axis=1)\n",
    "y = df[\"sentiment\"]\n",
    "print(X.shape)\n",
    "print(y.shape)\n"
   ]
  },
  {
   "cell_type": "code",
   "execution_count": 13,
   "metadata": {},
   "outputs": [
    {
     "name": "stdout",
     "output_type": "stream",
     "text": [
      "Accuracy: 74.00% (18.49%)\n"
     ]
    }
   ],
   "source": [
    "import xgboost as xgb\n",
    "from sklearn.model_selection import KFold, cross_val_score\n",
    "\n",
    "\n",
    "# Create an XGBoost classifier with specified parameters\n",
    "model = xgb.XGBClassifier(\n",
    "    n_estimators=1000,  # Number of trees in the forest\n",
    "    gamma=1,  # Minimum loss reduction required to make a further partition on a leaf node\n",
    "    learning_rate=1,  # Step size shrinkage used in update to prevent overfitting\n",
    "    subsample=1,  # Subsample ratio of the training instances\n",
    "    max_depth=4,  # Maximum depth of a tree\n",
    ")\n",
    "\n",
    "# Create a K-Fold cross-validation object with 5 splits\n",
    "kfold = KFold(n_splits=5)\n",
    "\n",
    "# Perform cross-validation and get the accuracy scores\n",
    "result = cross_val_score(model, X=X, y=y, cv=kfold)\n",
    "\n",
    "# Print the mean and standard deviation of the accuracy scores\n",
    "print(\"Accuracy: %.2f%% (%.2f%%)\" % (result.mean() * 100, result.std() * 100))\n"
   ]
  },
  {
   "cell_type": "code",
   "execution_count": 14,
   "metadata": {},
   "outputs": [
    {
     "name": "stdout",
     "output_type": "stream",
     "text": [
      "Accuracy: 78.82% (15.23%)\n"
     ]
    }
   ],
   "source": [
    "kfold = KFold(n_splits=10)\n",
    "result2 = cross_val_score(model, X=X, y=y, cv=kfold)\n",
    "print(\"Accuracy: %.2f%% (%.2f%%)\" % (result2.mean() * 100, result2.std() * 100))\n"
   ]
  },
  {
   "attachments": {},
   "cell_type": "markdown",
   "metadata": {},
   "source": [
    "## **Modeling Data Dataset 3**"
   ]
  },
  {
   "cell_type": "code",
   "execution_count": 1,
   "metadata": {},
   "outputs": [],
   "source": [
    "import numpy as np  # linear algebra\n",
    "import pandas as pd  # data processing, CSV file I/O (e.g. pd.read_csv)\n",
    "import xgboost as xgb\n",
    "from sklearn.model_selection import train_test_split, KFold, cross_val_score\n"
   ]
  },
  {
   "cell_type": "code",
   "execution_count": 2,
   "metadata": {},
   "outputs": [],
   "source": [
    "df = pd.read_csv(\"../dataset/INA_TweetsPPKM_TFRF_DS3.csv\", sep=\"\\t\")\n"
   ]
  },
  {
   "cell_type": "code",
   "execution_count": 8,
   "metadata": {},
   "outputs": [
    {
     "data": {
      "text/html": [
       "<div>\n",
       "<style scoped>\n",
       "    .dataframe tbody tr th:only-of-type {\n",
       "        vertical-align: middle;\n",
       "    }\n",
       "\n",
       "    .dataframe tbody tr th {\n",
       "        vertical-align: top;\n",
       "    }\n",
       "\n",
       "    .dataframe thead th {\n",
       "        text-align: right;\n",
       "    }\n",
       "</style>\n",
       "<table border=\"1\" class=\"dataframe\">\n",
       "  <thead>\n",
       "    <tr style=\"text-align: right;\">\n",
       "      <th></th>\n",
       "      <th>hadir</th>\n",
       "      <th>boss</th>\n",
       "      <th>mega</th>\n",
       "      <th>win</th>\n",
       "      <th>jackpot</th>\n",
       "      <th>juta</th>\n",
       "      <th>rupiah</th>\n",
       "      <th>menang</th>\n",
       "      <th>extra</th>\n",
       "      <th>nanti</th>\n",
       "      <th>...</th>\n",
       "      <th>kedodoran</th>\n",
       "      <th>melorotkewaspadaannya</th>\n",
       "      <th>wawancara</th>\n",
       "      <th>koyak</th>\n",
       "      <th>distancing</th>\n",
       "      <th>phisical</th>\n",
       "      <th>kunyuk</th>\n",
       "      <th>perubahanperubahan</th>\n",
       "      <th>acau</th>\n",
       "      <th>sentiment</th>\n",
       "    </tr>\n",
       "  </thead>\n",
       "  <tbody>\n",
       "    <tr>\n",
       "      <th>0</th>\n",
       "      <td>1.09691</td>\n",
       "      <td>0.77815</td>\n",
       "      <td>1.14613</td>\n",
       "      <td>1.27875</td>\n",
       "      <td>1.14613</td>\n",
       "      <td>0.5404</td>\n",
       "      <td>0.8893</td>\n",
       "      <td>0.74938</td>\n",
       "      <td>1.21748</td>\n",
       "      <td>0.97004</td>\n",
       "      <td>...</td>\n",
       "      <td>0.0</td>\n",
       "      <td>0.0</td>\n",
       "      <td>0.0</td>\n",
       "      <td>0.0</td>\n",
       "      <td>0.0</td>\n",
       "      <td>0.0</td>\n",
       "      <td>0.0</td>\n",
       "      <td>0.0</td>\n",
       "      <td>0.0</td>\n",
       "      <td>1</td>\n",
       "    </tr>\n",
       "    <tr>\n",
       "      <th>1</th>\n",
       "      <td>0.00000</td>\n",
       "      <td>0.00000</td>\n",
       "      <td>0.00000</td>\n",
       "      <td>0.00000</td>\n",
       "      <td>0.00000</td>\n",
       "      <td>0.0000</td>\n",
       "      <td>0.0000</td>\n",
       "      <td>0.00000</td>\n",
       "      <td>0.00000</td>\n",
       "      <td>0.00000</td>\n",
       "      <td>...</td>\n",
       "      <td>0.0</td>\n",
       "      <td>0.0</td>\n",
       "      <td>0.0</td>\n",
       "      <td>0.0</td>\n",
       "      <td>0.0</td>\n",
       "      <td>0.0</td>\n",
       "      <td>0.0</td>\n",
       "      <td>0.0</td>\n",
       "      <td>0.0</td>\n",
       "      <td>1</td>\n",
       "    </tr>\n",
       "    <tr>\n",
       "      <th>2</th>\n",
       "      <td>0.00000</td>\n",
       "      <td>0.00000</td>\n",
       "      <td>0.00000</td>\n",
       "      <td>0.00000</td>\n",
       "      <td>0.00000</td>\n",
       "      <td>0.0000</td>\n",
       "      <td>0.0000</td>\n",
       "      <td>0.00000</td>\n",
       "      <td>0.00000</td>\n",
       "      <td>0.00000</td>\n",
       "      <td>...</td>\n",
       "      <td>0.0</td>\n",
       "      <td>0.0</td>\n",
       "      <td>0.0</td>\n",
       "      <td>0.0</td>\n",
       "      <td>0.0</td>\n",
       "      <td>0.0</td>\n",
       "      <td>0.0</td>\n",
       "      <td>0.0</td>\n",
       "      <td>0.0</td>\n",
       "      <td>1</td>\n",
       "    </tr>\n",
       "    <tr>\n",
       "      <th>3</th>\n",
       "      <td>0.00000</td>\n",
       "      <td>0.00000</td>\n",
       "      <td>0.00000</td>\n",
       "      <td>0.00000</td>\n",
       "      <td>0.00000</td>\n",
       "      <td>0.0000</td>\n",
       "      <td>0.0000</td>\n",
       "      <td>0.00000</td>\n",
       "      <td>0.00000</td>\n",
       "      <td>0.00000</td>\n",
       "      <td>...</td>\n",
       "      <td>0.0</td>\n",
       "      <td>0.0</td>\n",
       "      <td>0.0</td>\n",
       "      <td>0.0</td>\n",
       "      <td>0.0</td>\n",
       "      <td>0.0</td>\n",
       "      <td>0.0</td>\n",
       "      <td>0.0</td>\n",
       "      <td>0.0</td>\n",
       "      <td>1</td>\n",
       "    </tr>\n",
       "    <tr>\n",
       "      <th>4</th>\n",
       "      <td>0.00000</td>\n",
       "      <td>0.00000</td>\n",
       "      <td>0.00000</td>\n",
       "      <td>0.00000</td>\n",
       "      <td>0.00000</td>\n",
       "      <td>0.0000</td>\n",
       "      <td>0.0000</td>\n",
       "      <td>0.00000</td>\n",
       "      <td>0.00000</td>\n",
       "      <td>0.00000</td>\n",
       "      <td>...</td>\n",
       "      <td>0.0</td>\n",
       "      <td>0.0</td>\n",
       "      <td>0.0</td>\n",
       "      <td>0.0</td>\n",
       "      <td>0.0</td>\n",
       "      <td>0.0</td>\n",
       "      <td>0.0</td>\n",
       "      <td>0.0</td>\n",
       "      <td>0.0</td>\n",
       "      <td>1</td>\n",
       "    </tr>\n",
       "  </tbody>\n",
       "</table>\n",
       "<p>5 rows × 15941 columns</p>\n",
       "</div>"
      ],
      "text/plain": [
       "     hadir     boss     mega      win  jackpot    juta  rupiah   menang  \\\n",
       "0  1.09691  0.77815  1.14613  1.27875  1.14613  0.5404  0.8893  0.74938   \n",
       "1  0.00000  0.00000  0.00000  0.00000  0.00000  0.0000  0.0000  0.00000   \n",
       "2  0.00000  0.00000  0.00000  0.00000  0.00000  0.0000  0.0000  0.00000   \n",
       "3  0.00000  0.00000  0.00000  0.00000  0.00000  0.0000  0.0000  0.00000   \n",
       "4  0.00000  0.00000  0.00000  0.00000  0.00000  0.0000  0.0000  0.00000   \n",
       "\n",
       "     extra    nanti  ...  kedodoran  melorotkewaspadaannya  wawancara  koyak  \\\n",
       "0  1.21748  0.97004  ...        0.0                    0.0        0.0    0.0   \n",
       "1  0.00000  0.00000  ...        0.0                    0.0        0.0    0.0   \n",
       "2  0.00000  0.00000  ...        0.0                    0.0        0.0    0.0   \n",
       "3  0.00000  0.00000  ...        0.0                    0.0        0.0    0.0   \n",
       "4  0.00000  0.00000  ...        0.0                    0.0        0.0    0.0   \n",
       "\n",
       "   distancing  phisical  kunyuk  perubahanperubahan  acau  sentiment  \n",
       "0         0.0       0.0     0.0                 0.0   0.0          1  \n",
       "1         0.0       0.0     0.0                 0.0   0.0          1  \n",
       "2         0.0       0.0     0.0                 0.0   0.0          1  \n",
       "3         0.0       0.0     0.0                 0.0   0.0          1  \n",
       "4         0.0       0.0     0.0                 0.0   0.0          1  \n",
       "\n",
       "[5 rows x 15941 columns]"
      ]
     },
     "execution_count": 8,
     "metadata": {},
     "output_type": "execute_result"
    }
   ],
   "source": [
    "df.head(5)"
   ]
  },
  {
   "cell_type": "code",
   "execution_count": 4,
   "metadata": {},
   "outputs": [
    {
     "data": {
      "text/plain": [
       "(7896, 15941)"
      ]
     },
     "execution_count": 4,
     "metadata": {},
     "output_type": "execute_result"
    }
   ],
   "source": [
    "# implementing cv in xgboost model\n",
    "df.shape"
   ]
  },
  {
   "cell_type": "code",
   "execution_count": 5,
   "metadata": {},
   "outputs": [
    {
     "name": "stdout",
     "output_type": "stream",
     "text": [
      "(7896, 15940)\n",
      "(7896,)\n"
     ]
    }
   ],
   "source": [
    "X = df.drop(\"sentiment\", axis=1)\n",
    "y = df[\"sentiment\"]\n",
    "print(X.shape)\n",
    "print(y.shape)\n"
   ]
  },
  {
   "cell_type": "code",
   "execution_count": 6,
   "metadata": {},
   "outputs": [
    {
     "name": "stdout",
     "output_type": "stream",
     "text": [
      "Accuracy: 75.11% (21.97%)\n"
     ]
    }
   ],
   "source": [
    "import xgboost as xgb\n",
    "from sklearn.model_selection import KFold, cross_val_score\n",
    "\n",
    "\n",
    "# Create an XGBoost classifier with specified parameters\n",
    "model = xgb.XGBClassifier(\n",
    "    n_estimators=1000,  # Number of trees in the forest\n",
    "    gamma=0.5,  # Minimum loss reduction required to make a further partition on a leaf node\n",
    "    learning_rate=0.1,  # Step size shrinkage used in update to prevent overfitting\n",
    "    subsample=0.5,  # Subsample ratio of the training instances\n",
    "    max_depth=6,  # Maximum depth of a tree\n",
    ")\n",
    "\n",
    "# Create a K-Fold cross-validation object with 5 splits\n",
    "kfold = KFold(n_splits=5)\n",
    "\n",
    "# Perform cross-validation and get the accuracy scores\n",
    "result = cross_val_score(model, X=X, y=y, cv=kfold)\n",
    "\n",
    "# Print the mean and standard deviation of the accuracy scores\n",
    "print(\"Accuracy: %.2f%% (%.2f%%)\" % (result.mean() * 100, result.std() * 100))\n"
   ]
  },
  {
   "cell_type": "code",
   "execution_count": 9,
   "metadata": {},
   "outputs": [
    {
     "name": "stdout",
     "output_type": "stream",
     "text": [
      "Accuracy: 82.78% (13.30%)\n"
     ]
    }
   ],
   "source": [
    "kfold = KFold(n_splits=10)\n",
    "result2 = cross_val_score(model, X=X, y=y, cv=kfold)\n",
    "print(\"Accuracy: %.2f%% (%.2f%%)\" % (result2.mean() * 100, result2.std() * 100))\n"
   ]
  },
  {
   "cell_type": "code",
   "execution_count": null,
   "metadata": {},
   "outputs": [],
   "source": [
    "def test():\n",
    "    pass\n"
   ]
  }
 ],
 "metadata": {
  "kernelspec": {
   "display_name": "env",
   "language": "python",
   "name": "python3"
  },
  "language_info": {
   "codemirror_mode": {
    "name": "ipython",
    "version": 3
   },
   "file_extension": ".py",
   "mimetype": "text/x-python",
   "name": "python",
   "nbconvert_exporter": "python",
   "pygments_lexer": "ipython3",
   "version": "3.10.7"
  },
  "orig_nbformat": 4
 },
 "nbformat": 4,
 "nbformat_minor": 2
}
