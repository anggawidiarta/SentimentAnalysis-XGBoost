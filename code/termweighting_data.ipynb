{
 "cells": [
  {
   "attachments": {},
   "cell_type": "markdown",
   "metadata": {},
   "source": [
    "## **Term Weighting Using TF-RF Dataset 1**"
   ]
  },
  {
   "cell_type": "code",
   "execution_count": null,
   "metadata": {},
   "outputs": [],
   "source": [
    "import pandas as pd\n",
    "import numpy as np\n"
   ]
  },
  {
   "attachments": {},
   "cell_type": "markdown",
   "metadata": {},
   "source": [
    "### **Stemmed Dataset**"
   ]
  },
  {
   "cell_type": "code",
   "execution_count": null,
   "metadata": {},
   "outputs": [],
   "source": [
    "load_path = \"../dataset/INA_TweetsPPKM_Preprocessed.csv\"\n",
    "# Menentukan path file dataset yang akan di-load\n",
    "\n",
    "df = pd.read_csv(load_path, sep=\"\\t\")\n",
    "# Membaca dataset dari file CSV menggunakan pandas\n",
    "\n",
    "df[\"tweet\"] = df[\"tweet\"].apply(lambda word: eval(word))\n",
    "# Menggunakan fungsi `apply` pada kolom \"tweet\" untuk menerapkan fungsi lambda pada setiap kata\n",
    "# Fungsi lambda digunakan untuk mengkonversi string kata-kata menjadi list kata-kata dengan menggunakan fungsi `eval`\n",
    "\n",
    "df.head(10)\n",
    "# Menampilkan 10 baris pertama dari dataframe yang sudah diubah\n"
   ]
  },
  {
   "attachments": {},
   "cell_type": "markdown",
   "metadata": {},
   "source": [
    "- **_mendefinisikan fungsi untuk perhitungan tf dan df_**\n"
   ]
  },
  {
   "cell_type": "code",
   "execution_count": null,
   "metadata": {},
   "outputs": [],
   "source": [
    "# Fungsi untuk menampilkan seluruh data teks pada kolom\n",
    "def showAll(column):\n",
    "    for value in column:\n",
    "        print(value)\n",
    "\n",
    "\n",
    "# Fungsi untuk menampilkan data pada kategori tertentu saja\n",
    "def showOneCategory(typeColumn, textColumn, columnType):\n",
    "    for text, category in zip(textColumn, typeColumn):\n",
    "        if category == columnType:\n",
    "            print(text)\n",
    "\n",
    "\n",
    "# Fungsi untuk memeriksa apakah suatu kata ada dalam array atau tidak (untuk menghindari duplikasi)\n",
    "def check(array, word):\n",
    "    return word not in array\n",
    "\n",
    "\n",
    "# Fungsi untuk menggabungkan semua data hasil pra-pemrosesan menjadi daftar kata tunggal (tanpa duplikasi)\n",
    "def termMerging(textColumn, termList):\n",
    "    for text in textColumn:\n",
    "        for term in text:\n",
    "            if check(termList, term):\n",
    "                termList.append(term)\n",
    "\n",
    "\n",
    "# Fungsi untuk menghitung frekuensi kemunculan setiap kata dalam setiap dokumen\n",
    "def countTF(textColumn, typeColumn, termList, TFList):\n",
    "    for text, category in zip(textColumn, typeColumn):\n",
    "        docList = [text.count(term) for term in termList]\n",
    "        docList.append(category)\n",
    "        TFList.append(docList)\n",
    "\n",
    "\n",
    "# Fungsi untuk mengubah nilai yang lebih besar dari 1 menjadi 1 (untuk perhitungan DF)\n",
    "def changeValue(TFList, prepareDFList):\n",
    "    for doc in TFList:\n",
    "        dataList = [min(term, 1) for term in doc[:-1]]\n",
    "        prepareDFList.append(dataList)\n",
    "\n",
    "\n",
    "# Fungsi untuk menghitung dalam berapa banyak dokumen suatu kata muncul (DF)\n",
    "def countDF(TFList, DFList):\n",
    "    for term in zip(*TFList):\n",
    "        DFList.append(sum(term))\n"
   ]
  },
  {
   "cell_type": "code",
   "execution_count": null,
   "metadata": {},
   "outputs": [],
   "source": [
    "term = []\n",
    "# Membuat list kosong untuk menyimpan semua term\n",
    "\n",
    "termMerging(termList=term, textColumn=df[\"tweet\"])\n",
    "# Memanggil fungsi `termMerging` dengan parameter `termList` yang merupakan list kosong yang akan diisi dengan semua term\n",
    "# Parameter `textColumn` adalah kolom \"tweet\" dari dataframe `df`\n",
    "# Fungsi `termMerging` akan menggabungkan semua term dari kolom \"tweet\" ke dalam list `term` tanpa adanya term yang berulang\n"
   ]
  },
  {
   "cell_type": "code",
   "execution_count": null,
   "metadata": {},
   "outputs": [],
   "source": [
    "term_frequency = []\n",
    "# Membuat list kosong untuk menyimpan frekuensi term dalam setiap dokumen\n",
    "\n",
    "countTF(df[\"tweet\"], df[\"sentiment\"], term, term_frequency)\n",
    "# Memanggil fungsi `countTF` dengan parameter sebagai berikut:\n",
    "# - `textColumn`: kolom \"tweet\" dari dataframe `df` yang berisi teks dalam setiap dokumen\n",
    "# - `typeColumn`: kolom \"sentiment\" dari dataframe `df` yang berisi label sentimen untuk setiap dokumen\n",
    "# - `termList`: list yang berisi semua term yang telah dihasilkan sebelumnya\n",
    "# - `TFList`: list yang akan diisi dengan frekuensi term dalam setiap dokumen dan label sentimennya\n",
    "\n",
    "print(len(term_frequency))\n",
    "# Menampilkan panjang dari list `term_frequency`, yang mengindikasikan jumlah dokumen yang diproses\n"
   ]
  },
  {
   "cell_type": "code",
   "execution_count": null,
   "metadata": {},
   "outputs": [],
   "source": [
    "tf_forDF = []\n",
    "# Membuat list kosong untuk menyimpan frekuensi term dalam setiap dokumen dengan nilai yang telah diubah\n",
    "\n",
    "changeValue(term_frequency, tf_forDF)\n",
    "# Memanggil fungsi `changeValue` dengan parameter sebagai berikut:\n",
    "# - `TFList`: list `term_frequency` yang berisi frekuensi term dalam setiap dokumen dan label sentimennya\n",
    "# - `prepareDFList`: list yang akan diisi dengan frekuensi term dalam setiap dokumen dengan nilai yang telah diubah\n",
    "\n",
    "print(len(tf_forDF))\n",
    "# Menampilkan panjang dari list `tf_forDF`, yang mengindikasikan jumlah dokumen yang diproses setelah nilai yang lebih besar dari 1 diubah menjadi 1\n"
   ]
  },
  {
   "cell_type": "code",
   "execution_count": null,
   "metadata": {},
   "outputs": [],
   "source": [
    "document_frequency = []\n",
    "# Membuat list kosong untuk menyimpan frekuensi kemunculan setiap term dalam dokumen\n",
    "\n",
    "countDF(tf_forDF, document_frequency)\n",
    "# Memanggil fungsi `countDF` dengan parameter sebagai berikut:\n",
    "# - `TFList`: list `tf_forDF` yang berisi frekuensi term dalam setiap dokumen dengan nilai yang telah diubah\n",
    "# - `DFList`: list yang akan diisi dengan frekuensi kemunculan setiap term dalam dokumen\n",
    "\n",
    "print(len(document_frequency))\n",
    "# Menampilkan panjang dari list `document_frequency`, yang mengindikasikan jumlah term yang muncul dalam dokumen\n"
   ]
  },
  {
   "attachments": {},
   "cell_type": "markdown",
   "metadata": {},
   "source": [
    "### **_Find value for RF & TF-RF_**\n",
    "\n",
    "<ol>\n",
    "  <li>RF</li>\n",
    "  <li>TF-RF</li>\n",
    "\n",
    "</ol>\n"
   ]
  },
  {
   "cell_type": "code",
   "execution_count": null,
   "metadata": {},
   "outputs": [],
   "source": [
    "# method to count TF in each document category\n",
    "def count_tf_category(dataTableCategory, termList, textColumn):\n",
    "    tf_spam_list = []\n",
    "    for i in range(len(dataTableCategory)):\n",
    "        doclist = []\n",
    "        for j in termList:\n",
    "            count = 0\n",
    "            for k in range(len(textColumn[i])):\n",
    "                if j == textColumn[i][k]:\n",
    "                    count += 1\n",
    "            doclist.append(count)\n",
    "        doclist.append(dataTableCategory[\"sentiment\"][i])\n",
    "        tf_spam_list.append(doclist)\n",
    "    return tf_spam_list\n"
   ]
  },
  {
   "cell_type": "code",
   "execution_count": null,
   "metadata": {},
   "outputs": [],
   "source": [
    "# splitting tweets that only contain positive sentiment\n",
    "df_positive = df[df[\"sentiment\"] != 0].reset_index(drop=True)\n",
    "df_positive.head()\n"
   ]
  },
  {
   "cell_type": "code",
   "execution_count": null,
   "metadata": {},
   "outputs": [],
   "source": [
    "# splitting tweets that only contain negative sentiment\n",
    "df_negative = df[df[\"sentiment\"] != 1].reset_index(drop=True)\n",
    "df_negative.head()\n"
   ]
  },
  {
   "cell_type": "code",
   "execution_count": null,
   "metadata": {},
   "outputs": [],
   "source": [
    "# count tf value in tweets with positive sentiment\n",
    "tf_positive_rf = count_tf_category(df_positive, term, df_positive[\"tweet\"])\n",
    "print(len(tf_positive_rf))\n"
   ]
  },
  {
   "cell_type": "code",
   "execution_count": null,
   "metadata": {},
   "outputs": [],
   "source": [
    "# count tf value in tweets with negative sentiment\n",
    "tf_negative_rf = count_tf_category(df_negative, term, df_negative[\"tweet\"])\n",
    "print(len(tf_negative_rf))\n"
   ]
  },
  {
   "cell_type": "code",
   "execution_count": null,
   "metadata": {},
   "outputs": [],
   "source": [
    "tf_positive_df = []\n",
    "changeValue(tf_positive_rf, tf_positive_df)\n",
    "print(len(tf_positive_df))\n"
   ]
  },
  {
   "cell_type": "code",
   "execution_count": null,
   "metadata": {},
   "outputs": [],
   "source": [
    "tf_negative_df = []\n",
    "changeValue(tf_negative_rf, tf_negative_df)\n",
    "print(len(tf_negative_df))\n"
   ]
  },
  {
   "cell_type": "code",
   "execution_count": null,
   "metadata": {},
   "outputs": [],
   "source": [
    "nij = []\n",
    "countDF(tf_positive_df, nij)\n",
    "print(len(nij))\n"
   ]
  },
  {
   "cell_type": "code",
   "execution_count": null,
   "metadata": {},
   "outputs": [],
   "source": [
    "nij_aksen = []\n",
    "countDF(tf_negative_df, nij_aksen)\n",
    "print(len(nij_aksen))\n"
   ]
  },
  {
   "cell_type": "code",
   "execution_count": null,
   "metadata": {},
   "outputs": [],
   "source": [
    "# determining the maximum value between 1 and the value of nij accent\n",
    "max_numerator = []\n",
    "for i in range(len(nij_aksen)):\n",
    "    temp = 0\n",
    "    temp = max(1, nij_aksen[i])\n",
    "    max_numerator.append(temp)\n",
    "print(max_numerator)\n"
   ]
  },
  {
   "cell_type": "code",
   "execution_count": null,
   "metadata": {},
   "outputs": [],
   "source": [
    "import math\n",
    "\n",
    "# find rf value\n",
    "rf_list = []\n",
    "for i in range(len(nij)):\n",
    "    temp = 0\n",
    "    temp = math.log10(2 + (nij[i] / max_numerator[i]))\n",
    "    temp = round(temp, 5)\n",
    "    rf_list.append(temp)\n",
    "print(rf_list)\n"
   ]
  },
  {
   "cell_type": "code",
   "execution_count": null,
   "metadata": {},
   "outputs": [],
   "source": [
    "# Combining the values of TF for spam and non-spam.\n",
    "tf_forRF = []\n",
    "\n",
    "for i in range(len(tf_positive_rf)):\n",
    "    tf_forRF.append(tf_positive_rf[i])\n",
    "\n",
    "for i in range(len(tf_negative_rf)):\n",
    "    tf_forRF.append(tf_negative_rf[i])\n",
    "\n",
    "print(len(tf_forRF))\n"
   ]
  },
  {
   "cell_type": "code",
   "execution_count": null,
   "metadata": {},
   "outputs": [],
   "source": [
    "tf_rf = []\n",
    "for i in range(len(tf_forRF)):\n",
    "    doclist = []\n",
    "    for j in range(len(tf_forRF[0])):\n",
    "        if j == len(tf_forRF[0]) - 1:\n",
    "            temp = tf_forRF[i][j]\n",
    "            doclist.append(temp)\n",
    "        else:\n",
    "            temp = rf_list[j] * tf_forRF[i][j]\n",
    "            doclist.append(temp)\n",
    "    tf_rf.append(doclist)\n",
    "print(len(tf_rf))\n"
   ]
  },
  {
   "attachments": {},
   "cell_type": "markdown",
   "metadata": {},
   "source": [
    "### **_Save Dataframe To CSV_**\n"
   ]
  },
  {
   "cell_type": "code",
   "execution_count": null,
   "metadata": {},
   "outputs": [],
   "source": [
    "columnName = term\n",
    "columnName.append('sentiment')"
   ]
  },
  {
   "cell_type": "code",
   "execution_count": null,
   "metadata": {},
   "outputs": [],
   "source": [
    "data = pd.DataFrame(tf_rf, columns=columnName)\n",
    "data.to_csv(\"../dataset/INA_TweetsPPKM_TFRF.csv\", index=False, sep=\"\\t\")\n"
   ]
  },
  {
   "attachments": {},
   "cell_type": "markdown",
   "metadata": {},
   "source": [
    "### **_Unstemmed Dataset_**\n"
   ]
  },
  {
   "attachments": {},
   "cell_type": "markdown",
   "metadata": {},
   "source": [
    "- _calculate TF, RF & TF-RF for unstemmed dataset to compare it later_\n"
   ]
  },
  {
   "cell_type": "code",
   "execution_count": null,
   "metadata": {},
   "outputs": [],
   "source": [
    "import pandas as pd"
   ]
  },
  {
   "cell_type": "code",
   "execution_count": null,
   "metadata": {},
   "outputs": [],
   "source": [
    "df_noStem = pd.read_csv(\n",
    "    \"../dataset/INA_TweetsPPKM_Preprocessed_NoStemming.csv\", sep=\"\\t\"\n",
    ")\n"
   ]
  },
  {
   "cell_type": "code",
   "execution_count": null,
   "metadata": {},
   "outputs": [],
   "source": [
    "df_noStem.head()"
   ]
  },
  {
   "attachments": {},
   "cell_type": "markdown",
   "metadata": {},
   "source": [
    "## **Term Weighting Using TF-RF Dataset 2**"
   ]
  },
  {
   "cell_type": "code",
   "execution_count": null,
   "metadata": {},
   "outputs": [],
   "source": [
    "import pandas as pd\n",
    "import numpy as np\n"
   ]
  },
  {
   "attachments": {},
   "cell_type": "markdown",
   "metadata": {},
   "source": [
    "### **Stemmed Dataset**"
   ]
  },
  {
   "cell_type": "code",
   "execution_count": null,
   "metadata": {},
   "outputs": [],
   "source": [
    "load_path = \"../dataset/INA_TweetsPPKM_Preprocessed_DS2.csv\"\n",
    "# Menentukan path file dataset yang akan di-load\n",
    "\n",
    "df = pd.read_csv(load_path, sep=\"\\t\")\n",
    "# Membaca dataset dari file CSV menggunakan pandas\n",
    "\n",
    "df[\"tweet\"] = df[\"tweet\"].apply(lambda word: eval(word))\n",
    "# Menggunakan fungsi `apply` pada kolom \"tweet\" untuk menerapkan fungsi lambda pada setiap kata\n",
    "# Fungsi lambda digunakan untuk mengkonversi string kata-kata menjadi list kata-kata dengan menggunakan fungsi `eval`\n",
    "\n",
    "df.sample(5)\n",
    "# Menampilkan 10 baris pertama dari dataframe yang sudah diubah\n"
   ]
  },
  {
   "cell_type": "code",
   "execution_count": null,
   "metadata": {},
   "outputs": [],
   "source": [
    "df.drop(['date','user'],axis=1,inplace=True)"
   ]
  },
  {
   "attachments": {},
   "cell_type": "markdown",
   "metadata": {},
   "source": [
    "- **_mendefinisikan fungsi untuk perhitungan tf dan df_**\n"
   ]
  },
  {
   "cell_type": "code",
   "execution_count": null,
   "metadata": {},
   "outputs": [],
   "source": [
    "# Fungsi untuk menampilkan seluruh data teks pada kolom\n",
    "def showAll(column):\n",
    "    for value in column:\n",
    "        print(value)\n",
    "\n",
    "\n",
    "# Fungsi untuk menampilkan data pada kategori tertentu saja\n",
    "def showOneCategory(typeColumn, textColumn, columnType):\n",
    "    for text, category in zip(textColumn, typeColumn):\n",
    "        if category == columnType:\n",
    "            print(text)\n",
    "\n",
    "\n",
    "# Fungsi untuk memeriksa apakah suatu kata ada dalam array atau tidak (untuk menghindari duplikasi)\n",
    "def check(array, word):\n",
    "    return word not in array\n",
    "\n",
    "\n",
    "# Fungsi untuk menggabungkan semua data hasil pra-pemrosesan menjadi daftar kata tunggal (tanpa duplikasi)\n",
    "def termMerging(textColumn, termList):\n",
    "    for text in textColumn:\n",
    "        for term in text:\n",
    "            if check(termList, term):\n",
    "                termList.append(term)\n",
    "\n",
    "\n",
    "# Fungsi untuk menghitung frekuensi kemunculan setiap kata dalam setiap dokumen\n",
    "def countTF(textColumn, typeColumn, termList, TFList):\n",
    "    for text, category in zip(textColumn, typeColumn):\n",
    "        docList = [text.count(term) for term in termList]\n",
    "        docList.append(category)\n",
    "        TFList.append(docList)\n",
    "\n",
    "\n",
    "# Fungsi untuk mengubah nilai yang lebih besar dari 1 menjadi 1 (untuk perhitungan DF)\n",
    "def changeValue(TFList, prepareDFList):\n",
    "    for doc in TFList:\n",
    "        dataList = [min(term, 1) for term in doc[:-1]]\n",
    "        prepareDFList.append(dataList)\n",
    "\n",
    "\n",
    "# Fungsi untuk menghitung dalam berapa banyak dokumen suatu kata muncul (DF)\n",
    "def countDF(TFList, DFList):\n",
    "    for term in zip(*TFList):\n",
    "        DFList.append(sum(term))\n"
   ]
  },
  {
   "cell_type": "code",
   "execution_count": null,
   "metadata": {},
   "outputs": [],
   "source": [
    "term = []\n",
    "# Membuat list kosong untuk menyimpan semua term\n",
    "\n",
    "termMerging(termList=term, textColumn=df[\"tweet\"])\n",
    "# Memanggil fungsi `termMerging` dengan parameter `termList` yang merupakan list kosong yang akan diisi dengan semua term\n",
    "# Parameter `textColumn` adalah kolom \"tweet\" dari dataframe `df`\n",
    "# Fungsi `termMerging` akan menggabungkan semua term dari kolom \"tweet\" ke dalam list `term` tanpa adanya term yang berulang\n"
   ]
  },
  {
   "cell_type": "code",
   "execution_count": null,
   "metadata": {},
   "outputs": [],
   "source": [
    "term_frequency = []\n",
    "# Membuat list kosong untuk menyimpan frekuensi term dalam setiap dokumen\n",
    "\n",
    "countTF(df[\"tweet\"], df[\"sentiment\"], term, term_frequency)\n",
    "# Memanggil fungsi `countTF` dengan parameter sebagai berikut:\n",
    "# - `textColumn`: kolom \"tweet\" dari dataframe `df` yang berisi teks dalam setiap dokumen\n",
    "# - `typeColumn`: kolom \"sentiment\" dari dataframe `df` yang berisi label sentimen untuk setiap dokumen\n",
    "# - `termList`: list yang berisi semua term yang telah dihasilkan sebelumnya\n",
    "# - `TFList`: list yang akan diisi dengan frekuensi term dalam setiap dokumen dan label sentimennya\n",
    "\n",
    "print(len(term_frequency))\n",
    "# Menampilkan panjang dari list `term_frequency`, yang mengindikasikan jumlah dokumen yang diproses\n"
   ]
  },
  {
   "cell_type": "code",
   "execution_count": null,
   "metadata": {},
   "outputs": [],
   "source": [
    "tf_forDF = []\n",
    "# Membuat list kosong untuk menyimpan frekuensi term dalam setiap dokumen dengan nilai yang telah diubah\n",
    "\n",
    "changeValue(term_frequency, tf_forDF)\n",
    "# Memanggil fungsi `changeValue` dengan parameter sebagai berikut:\n",
    "# - `TFList`: list `term_frequency` yang berisi frekuensi term dalam setiap dokumen dan label sentimennya\n",
    "# - `prepareDFList`: list yang akan diisi dengan frekuensi term dalam setiap dokumen dengan nilai yang telah diubah\n",
    "\n",
    "print(len(tf_forDF))\n",
    "# Menampilkan panjang dari list `tf_forDF`, yang mengindikasikan jumlah dokumen yang diproses setelah nilai yang lebih besar dari 1 diubah menjadi 1\n"
   ]
  },
  {
   "cell_type": "code",
   "execution_count": null,
   "metadata": {},
   "outputs": [],
   "source": [
    "document_frequency = []\n",
    "# Membuat list kosong untuk menyimpan frekuensi kemunculan setiap term dalam dokumen\n",
    "\n",
    "countDF(tf_forDF, document_frequency)\n",
    "# Memanggil fungsi `countDF` dengan parameter sebagai berikut:\n",
    "# - `TFList`: list `tf_forDF` yang berisi frekuensi term dalam setiap dokumen dengan nilai yang telah diubah\n",
    "# - `DFList`: list yang akan diisi dengan frekuensi kemunculan setiap term dalam dokumen\n",
    "\n",
    "print(len(document_frequency))\n",
    "# Menampilkan panjang dari list `document_frequency`, yang mengindikasikan jumlah term yang muncul dalam dokumen\n"
   ]
  },
  {
   "attachments": {},
   "cell_type": "markdown",
   "metadata": {},
   "source": [
    "### **_Find value for RF & TF-RF_**\n",
    "\n",
    "<ol>\n",
    "  <li>RF</li>\n",
    "  <li>TF-RF</li>\n",
    "\n",
    "</ol>\n"
   ]
  },
  {
   "cell_type": "code",
   "execution_count": null,
   "metadata": {},
   "outputs": [],
   "source": [
    "# method to count TF in each document category\n",
    "def count_tf_category(dataTableCategory, termList, textColumn):\n",
    "    tf_spam_list = []\n",
    "    for i in range(len(dataTableCategory)):\n",
    "        doclist = []\n",
    "        for j in termList:\n",
    "            count = 0\n",
    "            for k in range(len(textColumn[i])):\n",
    "                if j == textColumn[i][k]:\n",
    "                    count += 1\n",
    "            doclist.append(count)\n",
    "        doclist.append(dataTableCategory[\"sentiment\"][i])\n",
    "        tf_spam_list.append(doclist)\n",
    "    return tf_spam_list\n"
   ]
  },
  {
   "cell_type": "code",
   "execution_count": null,
   "metadata": {},
   "outputs": [],
   "source": [
    "# splitting tweets that only contain positive sentiment\n",
    "df_positive = df[df[\"sentiment\"] != 0].reset_index(drop=True)\n",
    "df_positive.head()\n"
   ]
  },
  {
   "cell_type": "code",
   "execution_count": null,
   "metadata": {},
   "outputs": [],
   "source": [
    "# splitting tweets that only contain negative sentiment\n",
    "df_negative = df[df[\"sentiment\"] != 1].reset_index(drop=True)\n",
    "df_negative.head()\n"
   ]
  },
  {
   "cell_type": "code",
   "execution_count": null,
   "metadata": {},
   "outputs": [],
   "source": [
    "# count tf value in tweets with positive sentiment\n",
    "tf_positive_rf = count_tf_category(df_positive, term, df_positive[\"tweet\"])\n",
    "print(len(tf_positive_rf))\n"
   ]
  },
  {
   "cell_type": "code",
   "execution_count": null,
   "metadata": {},
   "outputs": [],
   "source": [
    "# count tf value in tweets with negative sentiment\n",
    "tf_negative_rf = count_tf_category(df_negative, term, df_negative[\"tweet\"])\n",
    "print(len(tf_negative_rf))\n"
   ]
  },
  {
   "cell_type": "code",
   "execution_count": null,
   "metadata": {},
   "outputs": [],
   "source": [
    "tf_positive_df = []\n",
    "changeValue(tf_positive_rf, tf_positive_df)\n",
    "print(len(tf_positive_df))\n"
   ]
  },
  {
   "cell_type": "code",
   "execution_count": null,
   "metadata": {},
   "outputs": [],
   "source": [
    "tf_negative_df = []\n",
    "changeValue(tf_negative_rf, tf_negative_df)\n",
    "print(len(tf_negative_df))\n"
   ]
  },
  {
   "cell_type": "code",
   "execution_count": null,
   "metadata": {},
   "outputs": [],
   "source": [
    "nij = []\n",
    "countDF(tf_positive_df, nij)\n",
    "print(len(nij))\n"
   ]
  },
  {
   "cell_type": "code",
   "execution_count": null,
   "metadata": {},
   "outputs": [],
   "source": [
    "nij_aksen = []\n",
    "countDF(tf_negative_df, nij_aksen)\n",
    "print(len(nij_aksen))\n"
   ]
  },
  {
   "cell_type": "code",
   "execution_count": null,
   "metadata": {},
   "outputs": [],
   "source": [
    "# determining the maximum value between 1 and the value of nij accent\n",
    "max_numerator = []\n",
    "for i in range(len(nij_aksen)):\n",
    "    temp = 0\n",
    "    temp = max(1, nij_aksen[i])\n",
    "    max_numerator.append(temp)\n",
    "print(max_numerator)\n"
   ]
  },
  {
   "cell_type": "code",
   "execution_count": null,
   "metadata": {},
   "outputs": [],
   "source": [
    "import math\n",
    "\n",
    "# find rf value\n",
    "rf_list = []\n",
    "for i in range(len(nij)):\n",
    "    temp = 0\n",
    "    temp = math.log10(2 + (nij[i] / max_numerator[i]))\n",
    "    temp = round(temp, 5)\n",
    "    rf_list.append(temp)\n",
    "print(rf_list)\n"
   ]
  },
  {
   "cell_type": "code",
   "execution_count": null,
   "metadata": {},
   "outputs": [],
   "source": [
    "# Combining the values of TF for spam and non-spam.\n",
    "tf_forRF = []\n",
    "\n",
    "for i in range(len(tf_positive_rf)):\n",
    "    tf_forRF.append(tf_positive_rf[i])\n",
    "\n",
    "for i in range(len(tf_negative_rf)):\n",
    "    tf_forRF.append(tf_negative_rf[i])\n",
    "\n",
    "print(len(tf_forRF))\n"
   ]
  },
  {
   "cell_type": "code",
   "execution_count": null,
   "metadata": {},
   "outputs": [],
   "source": [
    "tf_rf = []\n",
    "for i in range(len(tf_forRF)):\n",
    "    doclist = []\n",
    "    for j in range(len(tf_forRF[0])):\n",
    "        if j == len(tf_forRF[0]) - 1:\n",
    "            temp = tf_forRF[i][j]\n",
    "            doclist.append(temp)\n",
    "        else:\n",
    "            temp = rf_list[j] * tf_forRF[i][j]\n",
    "            doclist.append(temp)\n",
    "    tf_rf.append(doclist)\n",
    "print(len(tf_rf))\n"
   ]
  },
  {
   "attachments": {},
   "cell_type": "markdown",
   "metadata": {},
   "source": [
    "### **_Save Dataframe To CSV_**\n"
   ]
  },
  {
   "cell_type": "code",
   "execution_count": null,
   "metadata": {},
   "outputs": [],
   "source": [
    "columnName = term\n",
    "columnName.append('sentiment')"
   ]
  },
  {
   "cell_type": "code",
   "execution_count": null,
   "metadata": {},
   "outputs": [],
   "source": [
    "data = pd.DataFrame(tf_rf, columns=columnName)\n",
    "data.to_csv(\"../dataset/INA_TweetsPPKM_TFRF_DS2.csv\", index=False, sep=\"\\t\")\n"
   ]
  },
  {
   "attachments": {},
   "cell_type": "markdown",
   "metadata": {},
   "source": [
    "## **Term Weighting Using TF-RF Dataset 3**"
   ]
  },
  {
   "cell_type": "code",
   "execution_count": 2,
   "metadata": {},
   "outputs": [],
   "source": [
    "import pandas as pd\n",
    "import numpy as np\n"
   ]
  },
  {
   "attachments": {},
   "cell_type": "markdown",
   "metadata": {},
   "source": [
    "### **Stemmed Dataset**"
   ]
  },
  {
   "cell_type": "code",
   "execution_count": 3,
   "metadata": {},
   "outputs": [
    {
     "data": {
      "text/html": [
       "<div>\n",
       "<style scoped>\n",
       "    .dataframe tbody tr th:only-of-type {\n",
       "        vertical-align: middle;\n",
       "    }\n",
       "\n",
       "    .dataframe tbody tr th {\n",
       "        vertical-align: top;\n",
       "    }\n",
       "\n",
       "    .dataframe thead th {\n",
       "        text-align: right;\n",
       "    }\n",
       "</style>\n",
       "<table border=\"1\" class=\"dataframe\">\n",
       "  <thead>\n",
       "    <tr style=\"text-align: right;\">\n",
       "      <th></th>\n",
       "      <th>tweet</th>\n",
       "      <th>sentiment</th>\n",
       "    </tr>\n",
       "  </thead>\n",
       "  <tbody>\n",
       "    <tr>\n",
       "      <th>382</th>\n",
       "      <td>[hayu, sen, jens, snack, gaiscemilan, enak, ni...</td>\n",
       "      <td>1</td>\n",
       "    </tr>\n",
       "    <tr>\n",
       "      <th>1265</th>\n",
       "      <td>[booming, tahan, pangan, jangan, lupa, apa, te...</td>\n",
       "      <td>1</td>\n",
       "    </tr>\n",
       "    <tr>\n",
       "      <th>6652</th>\n",
       "      <td>[bila, beri, orang, ikhlas, apa, makna, nya]</td>\n",
       "      <td>0</td>\n",
       "    </tr>\n",
       "    <tr>\n",
       "      <th>6020</th>\n",
       "      <td>[ppkm, level, saing, sama, mak, icih, bentar]</td>\n",
       "      <td>0</td>\n",
       "    </tr>\n",
       "    <tr>\n",
       "      <th>4953</th>\n",
       "      <td>[ppkm, panjang, sedih, lihat, dagang, yg, cari...</td>\n",
       "      <td>0</td>\n",
       "    </tr>\n",
       "  </tbody>\n",
       "</table>\n",
       "</div>"
      ],
      "text/plain": [
       "                                                  tweet  sentiment\n",
       "382   [hayu, sen, jens, snack, gaiscemilan, enak, ni...          1\n",
       "1265  [booming, tahan, pangan, jangan, lupa, apa, te...          1\n",
       "6652       [bila, beri, orang, ikhlas, apa, makna, nya]          0\n",
       "6020      [ppkm, level, saing, sama, mak, icih, bentar]          0\n",
       "4953  [ppkm, panjang, sedih, lihat, dagang, yg, cari...          0"
      ]
     },
     "execution_count": 3,
     "metadata": {},
     "output_type": "execute_result"
    }
   ],
   "source": [
    "load_path = \"../dataset/INA_TweetsPPKM_Preprocessed_DS3.csv\"\n",
    "# Menentukan path file dataset yang akan di-load\n",
    "\n",
    "df = pd.read_csv(load_path, sep=\"\\t\")\n",
    "# Membaca dataset dari file CSV menggunakan pandas\n",
    "\n",
    "df[\"tweet\"] = df[\"tweet\"].apply(lambda word: eval(word))\n",
    "# Menggunakan fungsi `apply` pada kolom \"tweet\" untuk menerapkan fungsi lambda pada setiap kata\n",
    "# Fungsi lambda digunakan untuk mengkonversi string kata-kata menjadi list kata-kata dengan menggunakan fungsi `eval`\n",
    "\n",
    "df.sample(5)\n",
    "# Menampilkan 10 baris pertama dari dataframe yang sudah diubah\n"
   ]
  },
  {
   "cell_type": "code",
   "execution_count": 5,
   "metadata": {},
   "outputs": [],
   "source": [
    "df.drop(['date','user'],axis=1,inplace=True,errors='ignore')"
   ]
  },
  {
   "attachments": {},
   "cell_type": "markdown",
   "metadata": {},
   "source": [
    "- **_mendefinisikan fungsi untuk perhitungan tf dan df_**\n"
   ]
  },
  {
   "cell_type": "code",
   "execution_count": 7,
   "metadata": {},
   "outputs": [],
   "source": [
    "# Fungsi untuk menampilkan seluruh data teks pada kolom\n",
    "def showAll(column):\n",
    "    for value in column:\n",
    "        print(value)\n",
    "\n",
    "\n",
    "# Fungsi untuk menampilkan data pada kategori tertentu saja\n",
    "def showOneCategory(typeColumn, textColumn, columnType):\n",
    "    for text, category in zip(textColumn, typeColumn):\n",
    "        if category == columnType:\n",
    "            print(text)\n",
    "\n",
    "\n",
    "# Fungsi untuk memeriksa apakah suatu kata ada dalam array atau tidak (untuk menghindari duplikasi)\n",
    "def check(array, word):\n",
    "    return word not in array\n",
    "\n",
    "\n",
    "# Fungsi untuk menggabungkan semua data hasil pra-pemrosesan menjadi daftar kata tunggal (tanpa duplikasi)\n",
    "def termMerging(textColumn, termList):\n",
    "    for text in textColumn:\n",
    "        for term in text:\n",
    "            if check(termList, term):\n",
    "                termList.append(term)\n",
    "\n",
    "\n",
    "# Fungsi untuk menghitung frekuensi kemunculan setiap kata dalam setiap dokumen\n",
    "def countTF(textColumn, typeColumn, termList, TFList):\n",
    "    for text, category in zip(textColumn, typeColumn):\n",
    "        docList = [text.count(term) for term in termList]\n",
    "        docList.append(category)\n",
    "        TFList.append(docList)\n",
    "\n",
    "\n",
    "# Fungsi untuk mengubah nilai yang lebih besar dari 1 menjadi 1 (untuk perhitungan DF)\n",
    "def changeValue(TFList, prepareDFList):\n",
    "    for doc in TFList:\n",
    "        dataList = [min(term, 1) for term in doc[:-1]]\n",
    "        prepareDFList.append(dataList)\n",
    "\n",
    "\n",
    "# Fungsi untuk menghitung dalam berapa banyak dokumen suatu kata muncul (DF)\n",
    "def countDF(TFList, DFList):\n",
    "    for term in zip(*TFList):\n",
    "        DFList.append(sum(term))\n"
   ]
  },
  {
   "cell_type": "code",
   "execution_count": 8,
   "metadata": {},
   "outputs": [],
   "source": [
    "term = []\n",
    "# Membuat list kosong untuk menyimpan semua term\n",
    "\n",
    "termMerging(termList=term, textColumn=df[\"tweet\"])\n",
    "# Memanggil fungsi `termMerging` dengan parameter `termList` yang merupakan list kosong yang akan diisi dengan semua term\n",
    "# Parameter `textColumn` adalah kolom \"tweet\" dari dataframe `df`\n",
    "# Fungsi `termMerging` akan menggabungkan semua term dari kolom \"tweet\" ke dalam list `term` tanpa adanya term yang berulang\n"
   ]
  },
  {
   "cell_type": "code",
   "execution_count": 9,
   "metadata": {},
   "outputs": [
    {
     "name": "stdout",
     "output_type": "stream",
     "text": [
      "7896\n"
     ]
    }
   ],
   "source": [
    "term_frequency = []\n",
    "# Membuat list kosong untuk menyimpan frekuensi term dalam setiap dokumen\n",
    "\n",
    "countTF(df[\"tweet\"], df[\"sentiment\"], term, term_frequency)\n",
    "# Memanggil fungsi `countTF` dengan parameter sebagai berikut:\n",
    "# - `textColumn`: kolom \"tweet\" dari dataframe `df` yang berisi teks dalam setiap dokumen\n",
    "# - `typeColumn`: kolom \"sentiment\" dari dataframe `df` yang berisi label sentimen untuk setiap dokumen\n",
    "# - `termList`: list yang berisi semua term yang telah dihasilkan sebelumnya\n",
    "# - `TFList`: list yang akan diisi dengan frekuensi term dalam setiap dokumen dan label sentimennya\n",
    "\n",
    "print(len(term_frequency))\n",
    "# Menampilkan panjang dari list `term_frequency`, yang mengindikasikan jumlah dokumen yang diproses\n"
   ]
  },
  {
   "cell_type": "code",
   "execution_count": 10,
   "metadata": {},
   "outputs": [
    {
     "name": "stdout",
     "output_type": "stream",
     "text": [
      "7896\n"
     ]
    }
   ],
   "source": [
    "tf_forDF = []\n",
    "# Membuat list kosong untuk menyimpan frekuensi term dalam setiap dokumen dengan nilai yang telah diubah\n",
    "\n",
    "changeValue(term_frequency, tf_forDF)\n",
    "# Memanggil fungsi `changeValue` dengan parameter sebagai berikut:\n",
    "# - `TFList`: list `term_frequency` yang berisi frekuensi term dalam setiap dokumen dan label sentimennya\n",
    "# - `prepareDFList`: list yang akan diisi dengan frekuensi term dalam setiap dokumen dengan nilai yang telah diubah\n",
    "\n",
    "print(len(tf_forDF))\n",
    "# Menampilkan panjang dari list `tf_forDF`, yang mengindikasikan jumlah dokumen yang diproses setelah nilai yang lebih besar dari 1 diubah menjadi 1\n"
   ]
  },
  {
   "cell_type": "code",
   "execution_count": 11,
   "metadata": {},
   "outputs": [
    {
     "name": "stdout",
     "output_type": "stream",
     "text": [
      "15940\n"
     ]
    }
   ],
   "source": [
    "document_frequency = []\n",
    "# Membuat list kosong untuk menyimpan frekuensi kemunculan setiap term dalam dokumen\n",
    "\n",
    "countDF(tf_forDF, document_frequency)\n",
    "# Memanggil fungsi `countDF` dengan parameter sebagai berikut:\n",
    "# - `TFList`: list `tf_forDF` yang berisi frekuensi term dalam setiap dokumen dengan nilai yang telah diubah\n",
    "# - `DFList`: list yang akan diisi dengan frekuensi kemunculan setiap term dalam dokumen\n",
    "\n",
    "print(len(document_frequency))\n",
    "# Menampilkan panjang dari list `document_frequency`, yang mengindikasikan jumlah term yang muncul dalam dokumen\n"
   ]
  },
  {
   "attachments": {},
   "cell_type": "markdown",
   "metadata": {},
   "source": [
    "### **_Find value for RF & TF-RF_**\n",
    "\n",
    "<ol>\n",
    "  <li>RF</li>\n",
    "  <li>TF-RF</li>\n",
    "\n",
    "</ol>\n"
   ]
  },
  {
   "cell_type": "code",
   "execution_count": 12,
   "metadata": {},
   "outputs": [],
   "source": [
    "# method to count TF in each document category\n",
    "def count_tf_category(dataTableCategory, termList, textColumn):\n",
    "    tf_spam_list = []\n",
    "    for i in range(len(dataTableCategory)):\n",
    "        doclist = []\n",
    "        for j in termList:\n",
    "            count = 0\n",
    "            for k in range(len(textColumn[i])):\n",
    "                if j == textColumn[i][k]:\n",
    "                    count += 1\n",
    "            doclist.append(count)\n",
    "        doclist.append(dataTableCategory[\"sentiment\"][i])\n",
    "        tf_spam_list.append(doclist)\n",
    "    return tf_spam_list\n"
   ]
  },
  {
   "cell_type": "code",
   "execution_count": 13,
   "metadata": {},
   "outputs": [
    {
     "data": {
      "text/html": [
       "<div>\n",
       "<style scoped>\n",
       "    .dataframe tbody tr th:only-of-type {\n",
       "        vertical-align: middle;\n",
       "    }\n",
       "\n",
       "    .dataframe tbody tr th {\n",
       "        vertical-align: top;\n",
       "    }\n",
       "\n",
       "    .dataframe thead th {\n",
       "        text-align: right;\n",
       "    }\n",
       "</style>\n",
       "<table border=\"1\" class=\"dataframe\">\n",
       "  <thead>\n",
       "    <tr style=\"text-align: right;\">\n",
       "      <th></th>\n",
       "      <th>tweet</th>\n",
       "      <th>sentiment</th>\n",
       "    </tr>\n",
       "  </thead>\n",
       "  <tbody>\n",
       "    <tr>\n",
       "      <th>0</th>\n",
       "      <td>[hadir, boss, mega, win, jackpot, juta, rupiah...</td>\n",
       "      <td>1</td>\n",
       "    </tr>\n",
       "    <tr>\n",
       "      <th>1</th>\n",
       "      <td>[hayolohhhhhhhhh, neng, kannnn]</td>\n",
       "      <td>1</td>\n",
       "    </tr>\n",
       "    <tr>\n",
       "      <th>2</th>\n",
       "      <td>[thank, you, temanteman, udah, mampir, ngobrol...</td>\n",
       "      <td>1</td>\n",
       "    </tr>\n",
       "    <tr>\n",
       "      <th>3</th>\n",
       "      <td>[ruwet, ruwet, ruwet, ini, negeri, ruwetnesia,...</td>\n",
       "      <td>1</td>\n",
       "    </tr>\n",
       "    <tr>\n",
       "      <th>4</th>\n",
       "      <td>[film, bagus, nih, karya, habaib, tonton, dah]</td>\n",
       "      <td>1</td>\n",
       "    </tr>\n",
       "  </tbody>\n",
       "</table>\n",
       "</div>"
      ],
      "text/plain": [
       "                                               tweet  sentiment\n",
       "0  [hadir, boss, mega, win, jackpot, juta, rupiah...          1\n",
       "1                    [hayolohhhhhhhhh, neng, kannnn]          1\n",
       "2  [thank, you, temanteman, udah, mampir, ngobrol...          1\n",
       "3  [ruwet, ruwet, ruwet, ini, negeri, ruwetnesia,...          1\n",
       "4     [film, bagus, nih, karya, habaib, tonton, dah]          1"
      ]
     },
     "execution_count": 13,
     "metadata": {},
     "output_type": "execute_result"
    }
   ],
   "source": [
    "# splitting tweets that only contain positive sentiment\n",
    "df_positive = df[df[\"sentiment\"] != 0].reset_index(drop=True)\n",
    "df_positive.head()\n"
   ]
  },
  {
   "cell_type": "code",
   "execution_count": 14,
   "metadata": {},
   "outputs": [
    {
     "data": {
      "text/html": [
       "<div>\n",
       "<style scoped>\n",
       "    .dataframe tbody tr th:only-of-type {\n",
       "        vertical-align: middle;\n",
       "    }\n",
       "\n",
       "    .dataframe tbody tr th {\n",
       "        vertical-align: top;\n",
       "    }\n",
       "\n",
       "    .dataframe thead th {\n",
       "        text-align: right;\n",
       "    }\n",
       "</style>\n",
       "<table border=\"1\" class=\"dataframe\">\n",
       "  <thead>\n",
       "    <tr style=\"text-align: right;\">\n",
       "      <th></th>\n",
       "      <th>tweet</th>\n",
       "      <th>sentiment</th>\n",
       "    </tr>\n",
       "  </thead>\n",
       "  <tbody>\n",
       "    <tr>\n",
       "      <th>0</th>\n",
       "      <td>[stimulasi, optimal, laku, online, penuh, butu...</td>\n",
       "      <td>0</td>\n",
       "    </tr>\n",
       "    <tr>\n",
       "      <th>1</th>\n",
       "      <td>[ye, ampun, mbh, orang, wapres, lohampgelar, o...</td>\n",
       "      <td>0</td>\n",
       "    </tr>\n",
       "    <tr>\n",
       "      <th>2</th>\n",
       "      <td>[mulaik, kumat]</td>\n",
       "      <td>0</td>\n",
       "    </tr>\n",
       "    <tr>\n",
       "      <th>3</th>\n",
       "      <td>[welcome, ppkm, bau, bau, naik, level, nih, gi...</td>\n",
       "      <td>0</td>\n",
       "    </tr>\n",
       "    <tr>\n",
       "      <th>4</th>\n",
       "      <td>[sungguh, allah, cipta, hamba, makhluk, lemah,...</td>\n",
       "      <td>0</td>\n",
       "    </tr>\n",
       "  </tbody>\n",
       "</table>\n",
       "</div>"
      ],
      "text/plain": [
       "                                               tweet  sentiment\n",
       "0  [stimulasi, optimal, laku, online, penuh, butu...          0\n",
       "1  [ye, ampun, mbh, orang, wapres, lohampgelar, o...          0\n",
       "2                                    [mulaik, kumat]          0\n",
       "3  [welcome, ppkm, bau, bau, naik, level, nih, gi...          0\n",
       "4  [sungguh, allah, cipta, hamba, makhluk, lemah,...          0"
      ]
     },
     "execution_count": 14,
     "metadata": {},
     "output_type": "execute_result"
    }
   ],
   "source": [
    "# splitting tweets that only contain negative sentiment\n",
    "df_negative = df[df[\"sentiment\"] != 1].reset_index(drop=True)\n",
    "df_negative.head()\n"
   ]
  },
  {
   "cell_type": "code",
   "execution_count": 15,
   "metadata": {},
   "outputs": [
    {
     "name": "stdout",
     "output_type": "stream",
     "text": [
      "3916\n"
     ]
    }
   ],
   "source": [
    "# count tf value in tweets with positive sentiment\n",
    "tf_positive_rf = count_tf_category(df_positive, term, df_positive[\"tweet\"])\n",
    "print(len(tf_positive_rf))\n"
   ]
  },
  {
   "cell_type": "code",
   "execution_count": 16,
   "metadata": {},
   "outputs": [
    {
     "name": "stdout",
     "output_type": "stream",
     "text": [
      "3980\n"
     ]
    }
   ],
   "source": [
    "# count tf value in tweets with negative sentiment\n",
    "tf_negative_rf = count_tf_category(df_negative, term, df_negative[\"tweet\"])\n",
    "print(len(tf_negative_rf))\n"
   ]
  },
  {
   "cell_type": "code",
   "execution_count": 17,
   "metadata": {},
   "outputs": [
    {
     "name": "stdout",
     "output_type": "stream",
     "text": [
      "3916\n"
     ]
    }
   ],
   "source": [
    "tf_positive_df = []\n",
    "changeValue(tf_positive_rf, tf_positive_df)\n",
    "print(len(tf_positive_df))\n"
   ]
  },
  {
   "cell_type": "code",
   "execution_count": 18,
   "metadata": {},
   "outputs": [
    {
     "name": "stdout",
     "output_type": "stream",
     "text": [
      "3980\n"
     ]
    }
   ],
   "source": [
    "tf_negative_df = []\n",
    "changeValue(tf_negative_rf, tf_negative_df)\n",
    "print(len(tf_negative_df))\n"
   ]
  },
  {
   "cell_type": "code",
   "execution_count": 19,
   "metadata": {},
   "outputs": [
    {
     "name": "stdout",
     "output_type": "stream",
     "text": [
      "15940\n"
     ]
    }
   ],
   "source": [
    "nij = []\n",
    "countDF(tf_positive_df, nij)\n",
    "print(len(nij))\n"
   ]
  },
  {
   "cell_type": "code",
   "execution_count": 20,
   "metadata": {},
   "outputs": [
    {
     "name": "stdout",
     "output_type": "stream",
     "text": [
      "15940\n"
     ]
    }
   ],
   "source": [
    "nij_aksen = []\n",
    "countDF(tf_negative_df, nij_aksen)\n",
    "print(len(nij_aksen))\n"
   ]
  },
  {
   "cell_type": "code",
   "execution_count": 21,
   "metadata": {},
   "outputs": [
    {
     "name": "stdout",
     "output_type": "stream",
     "text": [
      "[4, 3, 1, 1, 1, 17, 4, 13, 2, 3, 5, 1, 6, 1, 18, 1, 1, 7, 1, 189, 1, 1, 18, 7, 6, 52, 6, 10, 1, 1, 13, 34, 1, 3, 64, 83, 3, 2, 34, 1, 1, 1, 53, 512, 1, 196, 6, 9, 117, 3, 1, 10, 54, 1, 4, 24, 5, 126, 94, 48, 59, 21, 162, 434, 36, 1, 1, 1, 1, 63, 2, 3, 5, 127, 7, 1, 25, 1, 1, 83, 1, 33, 1067, 3, 14, 13, 1, 16, 102, 44, 1, 29, 2, 4, 38, 46, 42, 52, 17, 91, 9, 13, 33, 1, 5, 1, 15, 57, 184, 1, 8, 3, 37, 1, 216, 5, 2, 1, 5, 17, 49, 8, 10, 91, 2, 8, 1, 55, 212, 4, 21, 70, 9, 227, 292, 76, 19, 7, 24, 89, 10, 5, 1, 14, 117, 86, 57, 4, 12, 5, 7, 195, 17, 1, 1, 14, 38, 13, 40, 167, 41, 8, 14, 138, 21, 3, 45, 8, 18, 145, 1, 31, 152, 16, 7, 1, 26, 13, 4, 24, 22, 1, 28, 5, 8, 11, 46, 33, 6, 1, 42, 10, 141, 1, 17, 43, 1, 8, 49, 35, 1, 19, 42, 114, 29, 56, 4, 51, 1, 1, 1, 6, 33, 1, 31, 1, 12, 6, 16, 271, 28, 2, 11, 46, 26, 3, 2, 33, 15, 1, 1, 1, 1, 49, 47, 4, 321, 393, 122, 96, 5, 20, 1, 80, 83, 43, 28, 228, 6, 199, 1, 16, 20, 8, 1, 30, 8, 128, 18, 1, 10, 3, 2, 2, 2, 1, 1, 9, 1, 109, 2, 20, 2, 89, 10, 103, 24, 16, 67, 34, 55, 25, 1, 11, 1, 287, 51, 123, 159, 89, 22, 3, 1, 4, 1, 7, 16, 35, 1, 1, 8, 1, 26, 1, 10, 1, 3, 6, 53, 3, 1, 5, 29, 5, 1, 1, 6, 80, 47, 116, 71, 1, 8, 1, 1, 26, 47, 37, 6, 150, 30, 7, 7, 41, 22, 19, 7, 2, 7, 37, 8, 5, 1, 126, 1, 54, 8, 18, 1, 3, 2, 1, 18, 7, 3, 1, 15, 1, 37, 1, 1, 19, 17, 5, 17, 22, 9, 52, 35, 10, 10, 30, 2, 20, 1, 12, 1, 63, 100, 1, 1, 102, 1, 23, 40, 16, 12, 16, 25, 3, 9, 11, 9, 1, 89, 4, 3, 30, 3, 28, 14, 16, 1, 4, 6, 29, 1, 9, 40, 7, 9, 9, 12, 3, 72, 86, 153, 2, 1, 6, 5, 95, 153, 8, 43, 31, 280, 23, 1, 1, 1, 1, 1, 84, 1, 1, 1, 9, 2, 23, 4, 108, 30, 13, 6, 4, 1, 26, 1, 9, 1, 181, 5, 46, 6, 131, 1, 100, 107, 31, 4, 24, 43, 11, 4, 4, 8, 20, 1, 41, 1, 4, 14, 50, 1, 1, 1, 8, 1, 1, 1, 5, 1, 23, 1, 2, 1, 12, 120, 1, 116, 1, 18, 15, 14, 1, 68, 1, 21, 18, 41, 4, 2, 71, 10, 20, 1, 27, 14, 75, 19, 1, 11, 18, 2, 16, 35, 7, 2, 12, 1, 165, 1, 8, 4, 69, 3, 1, 98, 1, 100, 1, 81, 32, 8, 1, 1, 1, 4, 2, 1, 1, 1, 3, 1, 2, 19, 62, 8, 1, 2, 2, 1, 104, 6, 6, 45, 1, 5, 37, 11, 12, 1, 98, 1, 4, 3, 2, 8, 96, 7, 43, 1, 1, 11, 2, 9, 8, 1, 10, 1, 5, 1, 30, 3, 1, 4, 1, 3, 6, 3, 6, 17, 10, 79, 2, 17, 1, 1, 1, 24, 2, 1, 1, 35, 67, 3, 2, 6, 37, 35, 14, 2, 3, 1, 1, 1, 1, 1, 1, 240, 12, 1, 1, 3, 5, 5, 5, 1, 16, 1, 7, 1, 3, 16, 5, 17, 6, 23, 29, 1, 61, 7, 8, 3, 2, 34, 1, 55, 1, 46, 8, 1, 1, 1, 3, 5, 15, 12, 4, 1, 25, 2, 2, 9, 5, 3, 10, 1, 6, 5, 1, 69, 29, 7, 1, 4, 1, 57, 1, 1, 1, 140, 4, 13, 1, 2, 70, 12, 5, 1, 26, 13, 5, 6, 1, 61, 23, 34, 2, 1, 19, 30, 1, 4, 1, 25, 2, 5, 1, 1, 28, 24, 68, 1, 6, 1, 46, 3, 3, 6, 1, 48, 78, 4, 22, 2, 1, 10, 1, 2, 1, 21, 2, 24, 1, 12, 1, 1, 1, 3, 10, 165, 75, 1, 3, 6, 1, 6, 4, 1, 2, 12, 2, 1, 1, 1, 3, 1, 1, 1, 1, 1, 1, 1, 1, 7, 1, 1, 1, 1, 4, 1, 1, 1, 1, 1, 1, 1, 1, 1, 1, 1, 1, 1, 32, 28, 126, 9, 1, 33, 5, 12, 33, 4, 4, 7, 1, 8, 17, 12, 48, 16, 35, 28, 13, 1, 1, 3, 1, 4, 1, 27, 8, 17, 1, 3, 4, 1, 8, 1, 1, 2, 5, 4, 31, 3, 1, 51, 1, 6, 1, 22, 1, 6, 18, 3, 1, 1, 28, 27, 5, 13, 7, 1, 81, 1, 5, 5, 1, 1, 1, 1, 1, 2, 3, 5, 2, 1, 3, 1, 2, 4, 1, 1, 1, 30, 1, 2, 1, 1, 1, 6, 1, 2, 2, 4, 34, 1, 31, 1, 2, 51, 1, 1, 4, 1, 1, 1, 6, 3, 21, 1, 1, 3, 15, 20, 1, 36, 1, 3, 19, 1, 4, 45, 1, 10, 63, 6, 1, 8, 1, 1, 2, 1, 1, 9, 1, 4, 21, 2, 1, 4, 1, 2, 1, 15, 1, 2, 1, 1, 1, 1, 1, 1, 8, 8, 6, 17, 1, 5, 1, 5, 3, 12, 3, 1, 1, 1, 2, 1, 7, 4, 6, 3, 1, 1, 4, 2, 1, 4, 2, 1, 1, 5, 1, 19, 1, 1, 1, 1, 6, 1, 4, 6, 71, 13, 1, 19, 1, 1, 19, 49, 1, 1, 1, 12, 2, 1, 1, 1, 51, 70, 3, 2, 2, 4, 5, 2, 1, 9, 2, 11, 6, 19, 42, 1, 1, 1, 1, 2, 5, 12, 2, 1, 11, 1, 1, 1, 2, 1, 1, 1, 1, 3, 1, 8, 1, 3, 4, 12, 1, 12, 3, 11, 1, 1, 4, 5, 11, 3, 3, 1, 4, 1, 20, 1, 1, 3, 46, 46, 45, 40, 1, 11, 1, 3, 3, 1, 3, 1, 1, 3, 1, 1, 90, 1, 5, 1, 2, 3, 7, 2, 1, 2, 6, 1, 13, 19, 7, 11, 5, 1, 1, 3, 3, 4, 1, 7, 8, 1, 1, 1, 1, 1, 1, 1, 1, 1, 1, 1, 1, 1, 1, 1, 1, 1, 1, 1, 1, 70, 6, 2, 34, 14, 11, 9, 1, 8, 4, 1, 1, 4, 1, 4, 2, 2, 1, 7, 1, 1, 18, 7, 7, 3, 1, 1, 1, 1, 2, 13, 1, 36, 2, 1, 2, 1, 29, 1, 1, 1, 1, 1, 1, 1, 1, 1, 1, 15, 1, 27, 37, 3, 20, 25, 1, 1, 3, 18, 3, 1, 1, 1, 1, 1, 12, 1, 1, 2, 2, 13, 1, 17, 39, 1, 1, 1, 1, 9, 1, 1, 8, 1, 1, 1, 7, 1, 1, 38, 99, 41, 3, 8, 4, 9, 2, 1, 1, 4, 2, 1, 1, 1, 1, 24, 1, 1, 1, 1, 1, 3, 1, 1, 1, 4, 1, 5, 5, 1, 5, 1, 40, 1, 1, 1, 1, 1, 1, 1, 1, 1, 14, 1, 1, 1, 10, 3, 103, 12, 40, 39, 1, 1, 1, 1, 21, 1, 7, 5, 1, 8, 1, 4, 5, 5, 1, 1, 1, 1, 1, 7, 1, 1, 1, 7, 1, 1, 22, 1, 2, 1, 1, 1, 1, 2, 1, 7, 11, 17, 1, 2, 2, 1, 1, 1, 39, 2, 12, 1, 3, 1, 3, 1, 1, 4, 1, 1, 14, 10, 1, 43, 1, 1, 1, 1, 1, 1, 1, 3, 1, 8, 1, 1, 2, 9, 12, 4, 1, 1, 1, 1, 5, 14, 3, 1, 12, 1, 12, 78, 1, 1, 23, 7, 1, 1, 12, 11, 1, 3, 7, 7, 2, 9, 5, 1, 1, 1, 6, 1, 1, 18, 7, 11, 1, 5, 3, 1, 68, 1, 1, 1, 4, 13, 1, 1, 3, 3, 1, 23, 10, 21, 2, 12, 2, 8, 3, 1, 1, 1, 1, 5, 2, 13, 1, 1, 1, 15, 16, 1, 1, 1, 1, 1, 6, 1, 1, 1, 1, 8, 40, 1, 17, 1, 1, 1, 1, 1, 1, 14, 1, 1, 1, 8, 1, 1, 2, 11, 1, 3, 1, 17, 6, 1, 1, 8, 1, 6, 1, 21, 1, 9, 2, 1, 8, 8, 57, 1, 1, 8, 1, 1, 13, 1, 50, 1, 1, 1, 2, 12, 1, 3, 1, 10, 1, 1, 1, 1, 3, 1, 7, 26, 17, 9, 25, 4, 3, 1, 2, 1, 2, 1, 1, 1, 1, 18, 30, 1, 1, 1, 1, 10, 7, 19, 5, 1, 1, 1, 1, 5, 1, 1, 1, 1, 33, 2, 2, 19, 1, 8, 1, 5, 17, 40, 1, 1, 9, 31, 39, 1, 2, 62, 4, 1, 7, 1, 2, 11, 50, 35, 1, 2, 4, 4, 1, 1, 2, 1, 101, 1, 1, 1, 4, 4, 32, 1, 2, 1, 1, 24, 3, 1, 17, 1, 3, 1, 1, 10, 1, 21, 12, 1, 1, 1, 1, 1, 1, 34, 1, 1, 1, 3, 1, 2, 1, 1, 4, 1, 1, 1, 1, 1, 6, 5, 21, 1, 1, 1, 1, 1, 8, 2, 2, 1, 6, 1, 6, 12, 1, 1, 1, 1, 5, 2, 1, 1, 1, 1, 2, 1, 41, 1, 1, 1, 36, 1, 1, 4, 6, 2, 1, 1, 1, 3, 1, 3, 1, 138, 35, 4, 1, 1, 1, 1, 1, 1, 1, 1, 4, 1, 1, 1, 1, 1, 1, 19, 1, 1, 1, 1, 6, 1, 1, 24, 5, 1, 8, 4, 1, 54, 1, 2, 1, 1, 4, 1, 3, 8, 1, 1, 1, 4, 1, 1, 14, 1, 11, 1, 1, 1, 4, 5, 6, 1, 1, 2, 1, 6, 2, 1, 2, 1, 1, 1, 7, 1, 1, 1, 1, 7, 1, 1, 23, 22, 1, 3, 7, 1, 42, 3, 2, 1, 1, 1, 1, 7, 2, 16, 1, 1, 3, 1, 1, 3, 5, 1, 1, 6, 7, 1, 1, 1, 2, 1, 1, 1, 1, 3, 3, 1, 45, 11, 2, 4, 31, 1, 14, 1, 5, 1, 1, 3, 9, 1, 1, 1, 4, 1, 19, 7, 1, 1, 1, 1, 35, 9, 3, 1, 5, 1, 1, 1, 35, 1, 5, 1, 9, 3, 1, 1, 1, 1, 1, 1, 59, 1, 7, 1, 1, 1, 1, 2, 1, 1, 1, 1, 1, 2, 1, 3, 1, 1, 1, 1, 1, 1, 1, 1, 2, 1, 1, 1, 1, 1, 1, 1, 1, 1, 2, 1, 5, 6, 3, 1, 1, 1, 1, 1, 5, 3, 7, 1, 1, 6, 15, 1, 1, 2, 6, 6, 5, 4, 1, 3, 1, 7, 7, 1, 1, 1, 1, 1, 1, 1, 1, 1, 1, 3, 1, 8, 2, 1, 5, 2, 1, 2, 2, 3, 1, 18, 6, 21, 6, 1, 1, 3, 1, 1, 1, 1, 3, 3, 8, 15, 8, 1, 1, 1, 1, 1, 1, 1, 8, 5, 1, 1, 1, 4, 1, 1, 7, 1, 1, 1, 4, 2, 1, 6, 1, 1, 1, 1, 6, 10, 5, 1, 14, 1, 11, 13, 1, 2, 1, 7, 1, 1, 2, 13, 1, 1, 3, 2, 1, 1, 2, 1, 1, 36, 3, 18, 19, 3, 7, 1, 5, 1, 1, 1, 65, 1, 3, 1, 7, 1, 17, 1, 1, 12, 1, 1, 1, 2, 13, 1, 1, 1, 1, 2, 73, 15, 5, 9, 1, 7, 1, 1, 1, 1, 16, 2, 13, 8, 1, 1, 1, 2, 49, 1, 2, 1, 1, 6, 14, 4, 1, 1, 1, 1, 11, 1, 1, 14, 1, 5, 1, 1, 12, 1, 8, 1, 2, 1, 8, 2, 20, 1, 1, 6, 1, 4, 14, 8, 1, 1, 7, 1, 1, 1, 8, 24, 2, 1, 5, 1, 1, 1, 4, 52, 6, 7, 1, 1, 1, 1, 1, 3, 5, 10, 2, 8, 9, 1, 9, 1, 5, 2, 11, 1, 1, 7, 1, 1, 2, 2, 1, 1, 1, 1, 11, 1, 38, 1, 1, 1, 1, 1, 3, 8, 22, 1, 1, 1, 10, 1, 5, 1, 8, 1, 2, 1, 1, 1, 1, 1, 1, 1, 1, 1, 2, 1, 1, 5, 5, 1, 1, 1, 1, 1, 2, 17, 3, 1, 5, 1, 6, 1, 1, 1, 1, 1, 1, 1, 7, 1, 1, 7, 2, 1, 2, 5, 3, 10, 1, 1, 1, 2, 7, 1, 1, 2, 1, 1, 1, 1, 3, 1, 1, 1, 2, 1, 1, 1, 3, 5, 1, 1, 1, 1, 1, 3, 1, 1, 1, 9, 2, 6, 2, 1, 1, 13, 1, 1, 1, 1, 1, 5, 58, 7, 1, 9, 17, 149, 12, 3, 1, 7, 11, 132, 1, 1, 1, 1, 2, 1, 4, 1, 1, 2, 3, 3, 1, 12, 1, 1, 1, 1, 1, 3, 1, 1, 1, 2, 1, 1, 1, 1, 1, 1, 1, 1, 10, 10, 4, 1, 1, 4, 2, 1, 1, 1, 28, 4, 1, 4, 1, 29, 1, 1, 1, 1, 1, 1, 1, 1, 12, 4, 1, 6, 1, 2, 4, 3, 1, 1, 1, 3, 1, 1, 43, 2, 1, 22, 3, 61, 5, 8, 1, 2, 4, 2, 1, 1, 5, 10, 2, 1, 10, 49, 3, 1, 1, 3, 1, 7, 15, 1, 3, 1, 1, 5, 2, 6, 1, 1, 1, 2, 1, 1, 1, 1, 1, 1, 3, 1, 1, 1, 1, 2, 11, 1, 34, 1, 1, 1, 39, 1, 1, 1, 6, 1, 1, 1, 1, 2, 1, 1, 1, 3, 4, 1, 1, 1, 3, 4, 9, 1, 6, 17, 1, 1, 1, 1, 1, 1, 1, 1, 10, 7, 10, 8, 1, 1, 1, 1, 1, 1, 1, 1, 1, 1, 5, 1, 1, 1, 1, 1, 1, 2, 3, 1, 2, 1, 1, 1, 1, 1, 1, 1, 1, 2, 1, 1, 1, 1, 1, 1, 1, 1, 1, 1, 1, 1, 10, 1, 1, 2, 1, 4, 1, 1, 1, 9, 1, 1, 3, 1, 2, 1, 34, 1, 1, 1, 1, 1, 1, 1, 1, 2, 1, 9, 1, 1, 1, 1, 1, 1, 1, 1, 25, 2, 1, 4, 2, 9, 1, 12, 1, 3, 10, 1, 1, 1, 3, 1, 12, 1, 4, 1, 1, 2, 31, 4, 3, 3, 6, 1, 1, 1, 1, 1, 3, 1, 1, 1, 11, 1, 22, 7, 1, 1, 1, 7, 7, 1, 1, 1, 1, 1, 6, 4, 1, 1, 1, 1, 2, 1, 1, 1, 1, 1, 5, 47, 1, 1, 3, 1, 1, 2, 3, 2, 1, 1, 14, 2, 75, 1, 1, 8, 1, 43, 2, 6, 6, 1, 15, 4, 1, 4, 1, 1, 1, 1, 1, 1, 1, 5, 5, 3, 1, 1, 8, 1, 1, 1, 1, 1, 1, 1, 2, 1, 1, 1, 1, 1, 3, 1, 1, 8, 6, 1, 1, 21, 5, 1, 13, 1, 1, 1, 1, 21, 51, 1, 3, 18, 1, 11, 1, 2, 1, 1, 1, 2, 1, 1, 1, 7, 1, 1, 4, 1, 1, 1, 1, 1, 1, 1, 2, 5, 1, 1, 1, 1, 4, 1, 1, 1, 1, 1, 1, 3, 1, 23, 19, 1, 3, 1, 1, 5, 1, 1, 1, 8, 1, 1, 6, 1, 1, 1, 1, 1, 1, 1, 1, 6, 7, 4, 1, 3, 6, 21, 1, 16, 1, 1, 1, 1, 1, 1, 1, 1, 1, 1, 1, 1, 1, 1, 2, 1, 1, 1, 3, 1, 1, 2, 44, 1, 1, 2, 1, 1, 1, 7, 4, 1, 1, 1, 12, 1, 1, 1, 9, 1, 1, 5, 22, 2, 1, 1, 1, 1, 1, 4, 10, 31, 1, 10, 1, 1, 1, 1, 1, 1, 1, 4, 1, 1, 1, 1, 1, 1, 5, 1, 17, 1, 4, 1, 1, 1, 1, 7, 12, 1, 31, 2, 1, 1, 1, 1, 39, 1, 1, 10, 1, 1, 20, 1, 3, 1, 5, 1, 26, 1, 2, 3, 3, 1, 5, 1, 1, 1, 1, 1, 1, 2, 13, 1, 1, 1, 4, 1, 1, 1, 1, 1, 13, 1, 1, 1, 5, 4, 1, 1, 4, 1, 1, 1, 1, 1, 3, 3, 11, 4, 1, 1, 1, 1, 1, 1, 1, 1, 1, 2, 1, 1, 3, 1, 1, 2, 2, 2, 7, 1, 1, 1, 1, 1, 1, 1, 1, 1, 1, 1, 1, 5, 1, 14, 1, 5, 1, 1, 2, 1, 1, 1, 1, 1, 1, 12, 1, 1, 8, 5, 3, 2, 1, 4, 6, 4, 1, 1, 1, 5, 6, 1, 1, 1, 3, 1, 1, 1, 1, 3, 1, 1, 1, 3, 1, 1, 1, 1, 5, 33, 4, 1, 1, 1, 3, 1, 1, 4, 1, 1, 1, 3, 1, 5, 1, 1, 1, 1, 1, 8, 1, 1, 1, 1, 1, 1, 1, 1, 1, 3, 1, 1, 1, 19, 4, 13, 21, 4, 1, 1, 1, 1, 1, 1, 1, 2, 1, 4, 1, 1, 1, 63, 1, 4, 1, 1, 1, 1, 2, 1, 1, 3, 1, 1, 1, 1, 1, 1, 1, 1, 1, 15, 1, 4, 2, 11, 1, 21, 2, 2, 7, 1, 1, 1, 1, 1, 23, 1, 1, 11, 3, 3, 3, 10, 3, 1, 1, 1, 1, 2, 1, 1, 3, 1, 1, 1, 1, 1, 3, 1, 1, 1, 1, 1, 2, 2, 1, 1, 12, 3, 1, 1, 1, 1, 1, 1, 1, 2, 12, 1, 1, 34, 7, 1, 11, 4, 1, 5, 1, 1, 1, 2, 3, 1, 1, 1, 1, 4, 1, 27, 1, 1, 1, 2, 3, 1, 1, 1, 1, 1, 10, 1, 1, 4, 1, 2, 1, 1, 2, 1, 13, 12, 1, 1, 2, 2, 3, 1, 1, 3, 1, 1, 1, 1, 1, 1, 1, 1, 1, 1, 1, 1, 1, 1, 1, 1, 1, 1, 1, 1, 8, 1, 1, 1, 1, 1, 1, 12, 1, 1, 1, 12, 1, 2, 1, 2, 2, 1, 1, 1, 1, 4, 1, 1, 1, 1, 1, 1, 1, 1, 1, 2, 1, 1, 1, 2, 1, 1, 1, 1, 1, 1, 4, 2, 4, 1, 1, 10, 2, 1, 1, 1, 1, 1, 1, 49, 1, 1, 1, 4, 1, 1, 2, 1, 1, 1, 1, 1, 1, 1, 1, 10, 3, 1, 1, 1, 1, 1, 1, 1, 28, 1, 1, 1, 1, 1, 1, 1, 1, 48, 1, 1, 1, 2, 1, 6, 1, 1, 1, 1, 10, 1, 1, 1, 1, 2, 1, 1, 1, 1, 1, 13, 1, 1, 1, 4, 1, 1, 8, 25, 2, 3, 3, 1, 5, 17, 1, 93, 1, 1, 2, 1, 1, 1, 3, 25, 1, 23, 1, 1, 2, 1, 1, 1, 1, 1, 1, 1, 1, 1, 1, 1, 1, 2, 1, 1, 1, 21, 1, 8, 2, 2, 1, 1, 1, 7, 1, 1, 1, 1, 1, 1, 1, 3, 1, 1, 1, 1, 3, 1, 1, 1, 1, 2, 1, 1, 15, 1, 1, 5, 1, 2, 1, 8, 1, 2, 8, 3, 9, 1, 4, 1, 1, 1, 1, 1, 1, 11, 5, 2, 1, 1, 1, 1, 2, 2, 11, 1, 25, 1, 1, 1, 2, 1, 1, 1, 1, 1, 1, 5, 6, 1, 5, 10, 1, 1, 2, 1, 1, 1, 1, 3, 1, 1, 1, 4, 3, 6, 1, 1, 1, 1, 7, 1, 1, 3, 1, 1, 1, 4, 1, 1, 1, 3, 1, 4, 1, 1, 1, 1, 1, 1, 6, 1, 1, 1, 6, 4, 1, 1, 1, 1, 1, 1, 1, 1, 2, 3, 1, 1, 1, 5, 1, 4, 1, 4, 1, 1, 1, 1, 1, 4, 1, 1, 2, 1, 1, 1, 1, 1, 1, 1, 1, 1, 1, 1, 1, 1, 3, 8, 6, 2, 1, 1, 7, 1, 1, 1, 37, 1, 1, 1, 1, 1, 1, 1, 1, 1, 11, 1, 1, 1, 1, 1, 10, 1, 1, 1, 1, 1, 1, 7, 15, 1, 1, 1, 1, 1, 1, 1, 8, 1, 4, 1, 1, 1, 1, 1, 1, 1, 14, 1, 1, 1, 2, 1, 11, 1, 8, 3, 1, 3, 5, 6, 1, 1, 2, 1, 1, 1, 1, 1, 1, 1, 1, 1, 1, 7, 2, 22, 17, 1, 1, 1, 1, 1, 1, 1, 3, 1, 1, 2, 1, 1, 1, 1, 1, 1, 10, 8, 17, 1, 35, 4, 1, 1, 1, 1, 1, 1, 1, 1, 1, 1, 1, 1, 6, 1, 1, 1, 1, 1, 1, 3, 6, 1, 2, 1, 1, 2, 1, 1, 1, 1, 1, 1, 1, 8, 1, 1, 1, 11, 1, 5, 2, 1, 4, 1, 1, 1, 1, 1, 1, 1, 2, 1, 1, 10, 1, 1, 1, 1, 5, 3, 1, 3, 1, 1, 5, 2, 1, 1, 6, 5, 1, 1, 1, 1, 1, 7, 1, 2, 1, 1, 1, 23, 16, 17, 1, 1, 1, 1, 1, 1, 1, 1, 1, 2, 1, 3, 1, 2, 1, 1, 1, 1, 2, 1, 1, 4, 1, 1, 8, 2, 2, 1, 1, 1, 1, 1, 1, 1, 1, 1, 7, 3, 1, 7, 1, 1, 1, 1, 1, 1, 1, 4, 1, 1, 11, 1, 13, 1, 1, 7, 1, 1, 1, 1, 1, 1, 1, 1, 1, 7, 1, 1, 1, 3, 8, 1, 1, 1, 1, 4, 1, 3, 1, 1, 3, 1, 1, 1, 1, 9, 4, 1, 1, 1, 1, 11, 1, 1, 1, 1, 1, 2, 1, 1, 1, 6, 1, 5, 1, 5, 1, 1, 1, 1, 1, 8, 1, 1, 1, 1, 1, 1, 1, 1, 1, 1, 1, 1, 1, 1, 1, 2, 2, 1, 1, 1, 12, 1, 1, 1, 1, 4, 27, 1, 1, 3, 1, 1, 1, 1, 3, 1, 1, 6, 1, 1, 1, 1, 1, 1, 1, 1, 1, 1, 1, 10, 1, 1, 1, 1, 1, 1, 1, 1, 1, 1, 9, 1, 4, 1, 1, 2, 1, 1, 12, 4, 1, 1, 1, 9, 4, 6, 1, 1, 1, 1, 1, 1, 1, 1, 1, 1, 3, 1, 1, 1, 4, 1, 2, 1, 1, 1, 1, 1, 4, 1, 1, 1, 1, 7, 1, 1, 1, 2, 1, 1, 1, 1, 1, 4, 1, 1, 14, 1, 1, 1, 7, 16, 1, 1, 9, 1, 1, 1, 1, 1, 3, 9, 1, 1, 21, 2, 2, 3, 1, 1, 2, 1, 1, 10, 4, 18, 1, 1, 1, 1, 1, 1, 1, 1, 1, 1, 11, 1, 1, 1, 1, 1, 1, 1, 1, 1, 1, 3, 1, 1, 1, 1, 1, 1, 1, 5, 7, 1, 1, 1, 2, 6, 1, 1, 2, 1, 1, 1, 1, 6, 2, 1, 51, 3, 1, 1, 1, 1, 1, 2, 1, 1, 1, 1, 1, 6, 1, 1, 1, 1, 10, 2, 1, 4, 4, 1, 1, 8, 1, 1, 1, 1, 3, 1, 1, 1, 1, 2, 1, 1, 3, 1, 1, 1, 1, 4, 3, 12, 2, 1, 6, 1, 1, 1, 3, 1, 1, 1, 1, 1, 1, 1, 1, 6, 1, 1, 1, 21, 1, 1, 1, 5, 7, 1, 1, 1, 1, 6, 1, 5, 6, 1, 1, 1, 1, 1, 3, 1, 1, 1, 4, 1, 1, 1, 1, 8, 2, 1, 1, 4, 1, 1, 1, 1, 1, 4, 1, 1, 2, 1, 4, 1, 1, 1, 3, 1, 1, 4, 1, 1, 1, 1, 1, 1, 19, 1, 1, 29, 1, 1, 1, 1, 1, 3, 1, 2, 8, 13, 2, 1, 1, 1, 1, 1, 1, 1, 1, 1, 1, 1, 1, 1, 1, 1, 1, 21, 5, 1, 9, 10, 1, 1, 7, 13, 9, 3, 1, 1, 5, 1, 1, 7, 1, 4, 1, 1, 1, 1, 1, 3, 1, 1, 3, 5, 1, 1, 1, 1, 1, 1, 2, 1, 1, 1, 1, 3, 3, 2, 2, 1, 2, 2, 1, 1, 7, 1, 1, 1, 1, 1, 1, 1, 1, 1, 1, 1, 1, 2, 1, 1, 3, 1, 1, 1, 1, 1, 1, 1, 1, 1, 1, 1, 1, 1, 1, 2, 5, 1, 2, 7, 1, 2, 3, 1, 1, 5, 1, 2, 10, 2, 9, 1, 1, 1, 1, 1, 1, 1, 1, 1, 1, 1, 2, 1, 5, 15, 1, 1, 62, 23, 1, 6, 9, 1, 23, 1, 20, 1, 1, 2, 1, 2, 1, 1, 2, 9, 3, 2, 1, 1, 1, 1, 1, 1, 1, 1, 1, 1, 2, 1, 1, 1, 1, 1, 1, 1, 1, 1, 1, 1, 1, 2, 1, 5, 8, 1, 1, 1, 1, 1, 3, 1, 1, 1, 1, 1, 1, 8, 3, 1, 2, 2, 6, 5, 1, 1, 1, 1, 24, 1, 1, 3, 1, 1, 1, 1, 1, 1, 1, 14, 1, 1, 1, 1, 1, 2, 1, 1, 1, 15, 1, 7, 1, 1, 1, 1, 1, 1, 1, 2, 1, 1, 1, 1, 1, 2, 14, 1, 1, 1, 2, 1, 1, 1, 1, 1, 1, 3, 4, 1, 1, 1, 1, 1, 1, 1, 1, 1, 1, 1, 1, 1, 1, 1, 1, 1, 1, 1, 7, 1, 1, 1, 1, 9, 1, 1, 1, 1, 1, 8, 1, 1, 6, 1, 1, 1, 1, 1, 1, 1, 1, 1, 3, 1, 1, 1, 6, 2, 6, 1, 1, 1, 8, 3, 1, 1, 1, 1, 1, 1, 1, 4, 1, 4, 1, 1, 1, 1, 5, 8, 1, 1, 1, 1, 3, 1, 1, 1, 1, 1, 5, 1, 1, 1, 1, 1, 1, 1, 1, 1, 4, 1, 15, 1, 1, 1, 1, 1, 1, 1, 1, 2, 14, 1, 1, 1, 1, 1, 1, 1, 3, 8, 2, 1, 5, 1, 20, 6, 1, 1, 1, 1, 1, 1, 1, 1, 1, 1, 2, 3, 3, 3, 3, 1, 6, 13, 1, 21, 1, 1, 3, 1, 1, 1, 1, 1, 1, 2, 1, 1, 1, 1, 2, 1, 1, 1, 1, 4, 1, 1, 1, 2, 1, 1, 1, 1, 3, 4, 1, 1, 1, 1, 1, 1, 2, 1, 1, 1, 1, 10, 1, 1, 1, 1, 1, 1, 1, 1, 1, 1, 1, 1, 2, 1, 1, 1, 1, 1, 1, 1, 11, 1, 1, 1, 5, 1, 1, 3, 1, 1, 2, 2, 1, 1, 1, 1, 1, 1, 2, 1, 2, 1, 1, 1, 1, 6, 1, 1, 1, 8, 1, 1, 1, 1, 1, 1, 1, 1, 1, 1, 1, 1, 17, 9, 1, 1, 1, 1, 1, 1, 1, 1, 1, 1, 4, 1, 2, 1, 4, 2, 1, 1, 1, 1, 1, 4, 1, 1, 4, 2, 1, 2, 1, 2, 1, 1, 5, 1, 1, 1, 7, 1, 1, 1, 1, 1, 1, 1, 1, 3, 2, 1, 1, 1, 4, 1, 1, 2, 2, 1, 1, 1, 1, 1, 1, 4, 1, 2, 1, 6, 2, 1, 1, 1, 1, 1, 1, 1, 1, 1, 1, 1, 1, 1, 1, 1, 2, 1, 1, 1, 1, 3, 1, 1, 1, 1, 1, 3, 1, 1, 2, 2, 5, 1, 3, 1, 3, 1, 1, 1, 1, 1, 1, 1, 1, 1, 1, 1, 1, 6, 1, 3, 1, 1, 1, 3, 1, 1, 1, 1, 1, 1, 1, 1, 1, 1, 1, 1, 1, 3, 1, 1, 1, 1, 1, 1, 1, 1, 2, 4, 1, 1, 1, 1, 1, 1, 1, 1, 1, 1, 1, 1, 1, 3, 1, 1, 9, 2, 1, 1, 1, 1, 1, 1, 5, 1, 1, 1, 1, 1, 1, 1, 1, 9, 1, 1, 1, 1, 1, 2, 1, 1, 1, 1, 1, 1, 1, 1, 1, 1, 1, 1, 1, 1, 9, 1, 1, 1, 1, 1, 1, 1, 1, 1, 7, 1, 1, 1, 1, 2, 1, 1, 1, 1, 1, 1, 3, 1, 1, 1, 1, 1, 1, 1, 1, 1, 1, 4, 1, 2, 2, 1, 1, 3, 1, 1, 1, 1, 1, 3, 1, 5, 9, 1, 2, 2, 6, 1, 1, 1, 1, 1, 1, 1, 1, 1, 1, 1, 1, 2, 4, 1, 1, 1, 1, 1, 1, 1, 1, 10, 1, 8, 2, 1, 3, 8, 7, 1, 1, 10, 1, 1, 1, 1, 2, 1, 1, 1, 1, 1, 1, 2, 1, 1, 1, 9, 32, 2, 1, 3, 1, 1, 1, 1, 2, 1, 1, 1, 1, 5, 3, 1, 17, 36, 1, 1, 1, 1, 1, 1, 1, 1, 1, 14, 1, 1, 2, 5, 19, 1, 1, 1, 1, 1, 1, 1, 26, 2, 2, 1, 1, 1, 1, 1, 3, 1, 1, 1, 6, 3, 4, 1, 11, 1, 2, 1, 1, 3, 16, 1, 1, 1, 1, 1, 1, 1, 1, 3, 1, 1, 1, 1, 1, 3, 1, 1, 1, 1, 4, 1, 1, 1, 1, 1, 1, 1, 1, 1, 1, 1, 1, 7, 1, 1, 1, 1, 14, 1, 2, 1, 1, 9, 1, 1, 1, 1, 1, 1, 1, 1, 1, 1, 1, 1, 1, 1, 1, 1, 6, 1, 1, 1, 1, 4, 1, 1, 1, 15, 1, 2, 1, 1, 1, 7, 1, 1, 1, 1, 1, 1, 1, 1, 1, 1, 1, 1, 1, 12, 1, 3, 4, 1, 6, 1, 1, 3, 3, 1, 1, 1, 1, 1, 1, 2, 3, 1, 1, 1, 1, 1, 1, 7, 1, 1, 1, 1, 1, 1, 1, 1, 1, 1, 1, 1, 2, 4, 1, 1, 1, 1, 1, 1, 1, 1, 1, 1, 1, 12, 4, 1, 1, 1, 3, 1, 1, 1, 1, 1, 14, 29, 1, 1, 1, 1, 1, 1, 1, 1, 6, 4, 1, 1, 1, 2, 1, 1, 2, 1, 1, 1, 1, 1, 1, 1, 1, 1, 2, 1, 1, 1, 1, 2, 1, 1, 11, 1, 1, 1, 3, 1, 1, 1, 2, 1, 1, 1, 1, 1, 1, 1, 1, 2, 1, 1, 1, 1, 1, 1, 1, 1, 1, 1, 1, 1, 9, 1, 1, 1, 1, 2, 1, 1, 1, 1, 1, 1, 1, 1, 1, 1, 1, 1, 1, 1, 1, 1, 1, 1, 3, 2, 1, 1, 1, 1, 1, 1, 1, 8, 1, 3, 1, 2, 1, 1, 9, 1, 1, 1, 1, 2, 1, 1, 1, 1, 4, 6, 5, 1, 2, 1, 1, 1, 1, 1, 1, 1, 3, 1, 1, 1, 1, 1, 1, 1, 1, 1, 1, 3, 1, 7, 1, 1, 1, 1, 3, 2, 2, 1, 1, 1, 1, 1, 1, 1, 1, 1, 1, 1, 1, 1, 1, 1, 6, 3, 7, 4, 5, 1, 5, 1, 1, 1, 1, 1, 1, 1, 1, 1, 1, 1, 3, 1, 1, 1, 1, 1, 1, 1, 1, 1, 2, 1, 1, 2, 1, 1, 1, 1, 1, 1, 1, 1, 1, 1, 1, 1, 1, 1, 1, 1, 1, 1, 1, 1, 1, 1, 1, 1, 1, 1, 3, 1, 2, 1, 1, 1, 1, 1, 1, 9, 1, 1, 1, 1, 8, 1, 1, 1, 21, 2, 1, 4, 1, 1, 8, 3, 7, 1, 1, 1, 1, 1, 1, 1, 1, 1, 2, 1, 1, 1, 1, 5, 1, 7, 1, 2, 1, 1, 2, 1, 5, 1, 1, 1, 1, 5, 1, 1, 1, 3, 1, 1, 1, 5, 1, 1, 1, 4, 1, 1, 1, 1, 1, 1, 1, 3, 1, 1, 1, 1, 1, 1, 1, 3, 1, 1, 1, 1, 4, 2, 7, 1, 4, 1, 1, 25, 1, 1, 1, 1, 1, 1, 1, 1, 1, 1, 1, 2, 1, 1, 1, 1, 1, 2, 1, 1, 1, 1, 1, 1, 1, 1, 1, 1, 1, 8, 2, 4, 1, 1, 2, 5, 1, 1, 1, 1, 1, 1, 1, 1, 1, 1, 5, 1, 1, 1, 1, 1, 7, 1, 1, 26, 1, 1, 1, 1, 1, 17, 1, 1, 1, 1, 1, 2, 3, 3, 1, 1, 1, 1, 1, 1, 1, 1, 3, 13, 5, 1, 1, 3, 1, 1, 1, 1, 2, 1, 1, 1, 1, 4, 1, 1, 3, 1, 1, 1, 1, 1, 1, 1, 2, 1, 1, 1, 1, 1, 1, 1, 1, 1, 1, 1, 1, 1, 2, 1, 1, 1, 1, 1, 1, 1, 1, 1, 1, 1, 1, 1, 7, 1, 1, 1, 1, 1, 1, 1, 29, 1, 1, 1, 8, 1, 10, 8, 1, 1, 1, 1, 4, 1, 1, 1, 1, 1, 1, 1, 1, 1, 1, 3, 4, 1, 1, 1, 2, 1, 1, 1, 4, 1, 7, 1, 1, 1, 1, 1, 1, 1, 1, 1, 1, 1, 2, 2, 7, 1, 1, 1, 1, 1, 3, 1, 8, 1, 1, 15, 1, 1, 4, 1, 1, 1, 1, 1, 1, 1, 1, 1, 1, 1, 1, 1, 1, 1, 2, 1, 1, 1, 1, 1, 1, 1, 1, 1, 9, 1, 1, 1, 2, 1, 1, 1, 1, 1, 1, 3, 1, 18, 1, 1, 1, 2, 1, 1, 11, 1, 1, 1, 1, 1, 1, 1, 1, 1, 1, 1, 1, 7, 1, 1, 1, 1, 1, 17, 1, 1, 1, 1, 1, 1, 1, 1, 1, 1, 1, 1, 3, 1, 1, 1, 1, 1, 1, 1, 1, 1, 1, 1, 1, 1, 1, 2, 1, 1, 1, 1, 1, 1, 1, 1, 1, 1, 1, 1, 1, 1, 1, 1, 1, 1, 1, 1, 1, 1, 1, 1, 1, 1, 1, 1, 1, 1, 1, 1, 1, 1, 1, 1, 1, 1, 1, 1, 1, 1, 1, 1, 1, 1, 1, 1, 1, 1, 1, 1, 1, 1, 1, 1, 1, 1, 1, 1, 1, 1, 1, 1, 1, 1, 1, 1, 1, 1, 1, 1, 1, 1, 1, 1, 1, 2, 1, 1, 1, 1, 1, 1, 2, 1, 1, 1, 1, 1, 1, 1, 1, 1, 1, 1, 1, 1, 1, 1, 1, 1, 1, 1, 1, 1, 1, 2, 1, 1, 1, 1, 1, 1, 1, 1, 1, 1, 1, 1, 4, 1, 1, 1, 1, 1, 1, 1, 1, 1, 2, 1, 1, 1, 1, 1, 1, 1, 1, 1, 1, 1, 1, 1, 1, 1, 1, 1, 1, 1, 1, 1, 1, 1, 1, 1, 1, 1, 1, 1, 1, 1, 1, 1, 1, 1, 1, 1, 1, 1, 1, 1, 1, 3, 1, 1, 1, 1, 1, 1, 1, 1, 1, 1, 3, 1, 1, 1, 1, 1, 1, 1, 1, 1, 1, 1, 1, 1, 1, 2, 1, 1, 1, 1, 1, 1, 1, 1, 1, 1, 1, 1, 1, 1, 1, 1, 3, 1, 1, 1, 1, 1, 1, 1, 1, 1, 1, 1, 1, 1, 5, 1, 1, 1, 1, 1, 1, 1, 1, 1, 1, 1, 1, 1, 1, 1, 1, 1, 1, 1, 1, 1, 1, 1, 1, 1, 1, 1, 1, 1, 1, 1, 1, 1, 1, 3, 1, 1, 1, 1, 1, 1, 1, 1, 1, 1, 1, 1, 1, 1, 1, 1, 1, 1, 1, 1, 1, 1, 1, 1, 1, 1, 1, 1, 1, 1, 1, 1, 1, 1, 1, 1, 1, 1, 1, 1, 1, 1, 1, 1, 4, 1, 1, 1, 2, 1, 1, 1, 1, 1, 1, 1, 1, 1, 1, 1, 1, 1, 1, 1, 1, 1, 1, 1, 1, 1, 1, 1, 2, 1, 1, 1, 1, 1, 1, 1, 1, 1, 1, 1, 1, 1, 1, 1, 1, 1, 1, 1, 1, 3, 1, 1, 5, 1, 2, 1, 1, 1, 1, 1, 1, 1, 7, 1, 1, 1, 1, 1, 1, 1, 1, 1, 1, 1, 1, 1, 1, 1, 1, 1, 1, 1, 1, 1, 1, 1, 1, 1, 1, 1, 1, 1, 1, 1, 1, 1, 1, 1, 1, 1, 1, 1, 1, 1, 1, 1, 1, 1, 1, 1, 1, 1, 1, 1, 1, 1, 1, 1, 1, 1, 1, 1, 1, 1, 1, 1, 1, 1, 1, 1, 1, 1, 1, 1, 1, 1, 1, 1, 1, 1, 1, 1, 1, 1, 1, 1, 1, 1, 2, 1, 1, 1, 1, 1, 1, 1, 1, 1, 1, 1, 1, 1, 2, 1, 3, 1, 1, 1, 1, 1, 1, 1, 1, 1, 1, 1, 1, 1, 1, 1, 1, 1, 7, 1, 1, 1, 1, 1, 1, 1, 1, 1, 1, 1, 1, 1, 1, 1, 1, 2, 1, 1, 1, 1, 1, 1, 1, 13, 1, 1, 1, 1, 1, 1, 2, 1, 1, 1, 1, 1, 1, 1, 11, 1, 1, 1, 1, 1, 1, 1, 1, 1, 1, 1, 1, 1, 1, 1, 1, 1, 1, 1, 1, 1, 1, 1, 1, 1, 1, 1, 1, 1, 1, 1, 1, 1, 1, 1, 1, 1, 1, 1, 1, 1, 1, 1, 1, 1, 1, 1, 1, 1, 1, 1, 1, 1, 1, 2, 1, 1, 1, 1, 1, 1, 1, 1, 1, 1, 1, 1, 1, 1, 1, 1, 1, 1, 3, 1, 1, 1, 1, 1, 1, 1, 1, 1, 1, 1, 1, 1, 1, 1, 1, 1, 1, 1, 1, 2, 1, 1, 1, 1, 1, 1, 1, 1, 1, 1, 1, 1, 1, 1, 1, 1, 1, 3, 1, 1, 1, 1, 1, 1, 1, 1, 1, 1, 1, 1, 1, 3, 1, 1, 1, 1, 1, 1, 1, 1, 6, 1, 1, 1, 2, 1, 1, 5, 1, 1, 1, 1, 1, 1, 1, 1, 1, 1, 1, 1, 1, 1, 1, 1, 1, 1, 1, 1, 1, 1, 4, 1, 1, 1, 1, 1, 1, 1, 1, 1, 1, 1, 1, 1, 1, 1, 2, 1, 1, 1, 1, 1, 1, 1, 1, 1, 1, 1, 1, 1, 1, 1, 1, 1, 1, 1, 1, 1, 1, 1, 1, 1, 1, 1, 1, 1, 1, 1, 1, 1, 1, 1, 1, 1, 1, 1, 1, 1, 1, 1, 1, 1, 1, 1, 1, 1, 1, 1, 1, 1, 1, 1, 1, 1, 1, 1, 1, 4, 1, 1, 1, 1, 3, 1, 1, 1, 1, 3, 1, 1, 1, 2, 1, 1, 1, 1, 2, 1, 1, 1, 1, 1, 1, 1, 1, 1, 8, 1, 1, 1, 1, 1, 1, 1, 1, 3, 1, 1, 1, 1, 1, 1, 1, 1, 1, 1, 1, 1, 1, 1, 1, 1, 1, 1, 1, 1, 1, 1, 1, 1, 1, 1, 1, 1, 1, 1, 1, 1, 1, 1, 1, 1, 1, 1, 1, 1, 1, 1, 1, 1, 1, 1, 1, 1, 1, 1, 1, 1, 1, 1, 1, 1, 1, 1, 1, 1, 1, 1, 5, 3, 1, 1, 1, 1, 1, 1, 1, 1, 1, 1, 1, 1, 1, 1, 1, 1, 1, 1, 1, 1, 1, 1, 1, 1, 1, 1, 1, 1, 1, 1, 1, 1, 1, 1, 1, 2, 2, 1, 1, 1, 1, 1, 1, 1, 1, 1, 1, 1, 1, 1, 1, 1, 1, 1, 1, 1, 1, 1, 1, 1, 1, 1, 1, 1, 1, 1, 1, 1, 1, 1, 6, 1, 1, 1, 1, 1, 1, 4, 1, 1, 1, 1, 1, 1, 2, 1, 1, 1, 1, 3, 1, 1, 1, 1, 1, 1, 1, 1, 1, 1, 1, 1, 1, 1, 1, 1, 1, 1, 1, 1, 1, 1, 1, 1, 1, 1, 1, 1, 1, 1, 1, 1, 1, 1, 1, 1, 1, 1, 1, 1, 1, 1, 1, 3, 1, 1, 1, 1, 1, 1, 1, 1, 1, 1, 4, 1, 1, 1, 1, 1, 1, 1, 1, 1, 1, 1, 1, 1, 1, 1, 1, 1, 1, 1, 1, 1, 1, 1, 1, 1, 1, 1, 1, 1, 1, 1, 1, 1, 1, 1, 1, 1, 1, 1, 1, 1, 1, 1, 1, 1, 1, 1, 1, 1, 1, 1, 1, 1, 1, 1, 1, 1, 1, 1, 1, 1, 1, 1, 1, 1, 1, 1, 1, 1, 1, 1, 1, 1, 1, 1, 1, 1, 1, 1, 3, 1, 1, 1, 1, 1, 1, 1, 1, 1, 1, 1, 1, 1, 1, 1, 1, 1, 4, 1, 1, 2, 1, 1, 1, 1, 1, 1, 1, 1, 1, 1, 1, 1, 1, 15, 1, 1, 1, 1, 1, 1, 1, 1, 1, 1, 1, 2, 1, 1, 1, 1, 1, 1, 1, 1, 1, 1, 1, 1, 1, 1, 1, 1, 1, 1, 1, 1, 1, 1, 1, 1, 1, 1, 1, 1, 1, 1, 1, 1, 3, 1, 1, 1, 1, 1, 1, 1, 1, 1, 1, 1, 1, 1, 1, 1, 1, 1, 1, 1, 1, 1, 1, 1, 1, 1, 1, 1, 1, 1, 1, 1, 1, 1, 1, 1, 1, 1, 1, 1, 1, 1, 1, 1, 1, 1, 1, 1, 1, 1, 1, 1, 1, 1, 1, 1, 1, 1, 1, 1, 1, 1, 1, 1, 1, 1, 1, 1, 1, 1, 1, 1, 1, 1, 1, 1, 1, 1, 1, 1, 1, 1, 1, 1, 1, 1, 1, 1, 1, 1, 1, 1, 1, 1, 1, 1, 1, 1, 1, 1, 1, 1, 1, 1, 1, 1, 2, 1, 1, 1, 1, 1, 2, 1, 1, 1, 1, 1, 1, 1, 1, 1, 1, 1, 1, 1, 1, 1, 1, 1, 1, 1, 1, 1, 2, 1, 1, 1, 1, 1, 1, 1, 1, 1, 1, 1, 1, 1, 1, 1, 1, 1, 1, 1, 1, 1, 1, 1, 1, 1, 1, 1, 1, 1, 1, 1, 1, 1, 1, 1, 1, 1, 1, 1, 1, 1, 1, 1, 1, 1, 1, 1, 1, 1, 1, 1, 1, 1, 1, 1, 1, 1, 1, 1, 1, 1, 1, 1, 1, 1, 1, 1, 1, 1, 1, 1, 1, 1, 1, 1, 1, 1, 1, 1, 1, 1, 1, 1, 1, 1, 5, 1, 1, 1, 1, 1, 1, 1, 1, 1, 1, 1, 1, 1, 1, 1, 1, 1, 1, 1, 1, 1, 1, 1, 1, 1, 1, 1, 1, 1, 1, 1, 1, 5, 1, 1, 1, 1, 1, 1, 1, 1, 1, 1, 2, 1, 1, 1, 9, 1, 1, 1, 7, 1, 1, 1, 1, 1, 1, 1, 1, 1, 1, 1, 1, 5, 1, 1, 1, 1, 1, 1, 1, 1, 3, 1, 1, 1, 1, 1, 1, 1, 1, 1, 1, 1, 1, 1, 1, 1, 1, 1, 1, 1, 1, 1, 1, 1, 1, 1, 1, 1, 2, 1, 1, 1, 1, 1, 1, 1, 1, 1, 1, 1, 1, 1, 1, 1, 1, 1, 1, 1, 1, 1, 1, 1, 1, 1, 1, 1, 1, 1, 1, 1, 1, 1, 1, 1, 1, 1, 1, 1, 1, 2, 1, 1, 1, 1, 1, 1, 1, 1, 1, 1, 1, 1, 1, 1, 1, 1, 1, 1, 1, 1, 1, 1, 1, 1, 1, 1, 1, 1, 1, 1, 1, 1, 1, 1, 1, 1, 1, 1, 1, 1, 1, 1, 1, 1, 1, 1, 1, 1, 1, 1, 1, 1, 1, 1, 1, 1, 1, 1, 1, 1, 1, 1, 1, 1, 1, 1, 1, 1, 1, 1, 1, 1, 1, 1, 1, 1, 1, 1, 1, 1, 1, 1, 1, 1, 1, 1, 1, 1, 1, 1, 1, 2, 1, 1, 1, 1, 1, 2, 1, 1, 1, 1, 3, 1, 1, 1, 1, 1, 1, 1, 1, 1, 1, 1, 1, 1, 1, 1, 1, 1, 1, 1, 1, 1, 1, 1, 1, 1, 1, 1, 1, 1, 1, 1, 1, 1, 1, 1, 1, 1, 1, 1, 1, 1, 1, 1, 1, 1, 1, 1, 1, 1, 1, 1, 1, 1, 1, 1, 1, 1, 1, 1, 1, 1, 1, 1, 1, 1, 1, 1, 1, 1, 1, 1, 1, 1, 1, 1, 1, 1, 1, 4, 1, 1, 1, 1, 1, 1, 1, 1, 1, 1, 1, 1, 1, 1, 1, 1, 1, 1, 1, 1, 1, 1, 1, 1, 1, 1, 1, 1, 1, 1, 1, 1, 1, 1, 1, 1, 1, 1, 1, 1, 1, 1, 1, 1, 1, 1, 4, 1, 1, 1, 1, 1, 1, 1, 1, 1, 1, 1, 1, 1, 1, 1, 1, 1, 1, 1, 1, 1, 1, 1, 1, 1, 1, 1, 1, 1, 1, 1, 1, 1, 1, 1, 1, 1, 1, 1, 1, 4, 1, 1, 1, 1, 1, 1, 1, 1, 1, 1, 1, 1, 1, 1, 1, 1, 1, 1, 1, 1, 1, 1, 1, 1, 1, 3, 1, 1, 1, 1, 1, 1, 1, 1, 1, 1, 1, 1, 1, 1, 1, 1, 1, 1, 1, 1, 1, 1, 1, 1, 1, 1, 1, 1, 1, 1, 1, 1, 1, 1, 1, 4, 1, 1, 1, 1, 1, 1, 1, 1, 1, 1, 1, 1, 1, 1, 1, 1, 1, 1, 1, 1, 1, 1, 1, 1, 1, 1, 3, 1, 1, 1, 1, 1, 1, 1, 1, 1, 1, 1, 1, 1, 1, 1, 1, 1, 1, 1, 2, 1, 1, 1, 1, 1, 1, 1, 1, 1, 1, 1, 1, 1, 1, 1, 1, 1, 1, 1, 1, 1, 1, 1, 1, 1, 1, 1, 1, 1, 1, 1, 1, 1, 1, 1, 1, 1, 1, 1, 1, 1, 1, 7, 1, 1, 1, 1, 1, 1, 1, 1, 1, 1, 1, 1, 1, 1, 1, 1, 1, 1, 2, 1, 1, 1, 1, 1, 1, 1, 1, 1, 1, 1, 1, 1, 1, 1, 1, 1, 1, 1, 1, 1, 1, 1, 1, 1, 2, 1, 1, 1, 1, 1, 1, 1, 1, 1, 1, 1, 1, 1, 1, 1, 1, 1, 1, 1, 1, 1, 1, 1, 1, 1, 1, 1, 1, 1, 1, 1, 1, 1, 1, 1, 1, 1, 1, 1, 1, 1, 1, 1, 1, 1, 1, 1, 1, 1, 1, 1, 1, 1, 1, 1, 1, 1, 1, 1, 1, 1, 1, 1, 1, 1, 1, 1, 1, 1, 1, 1, 1, 3, 1, 1, 1, 1, 1, 1, 1, 1, 1, 1, 1, 1, 1, 1, 1, 1, 2, 1, 1, 1, 1, 1, 1, 2, 1, 1, 1, 1, 1, 1, 1, 1, 1, 1, 5, 1, 1, 1, 1, 1, 1, 1, 1, 1, 2, 1, 1, 1, 1, 1, 1, 1, 1, 1, 1, 1, 1, 1, 1, 1, 1, 1, 1, 1, 1, 1, 1, 1, 1, 1, 1, 1, 1, 1, 1, 1, 1, 1, 1, 1, 1, 1, 1, 1, 1, 1, 1, 1, 1, 1, 1, 1, 1, 1, 1, 1, 1, 1, 1, 1, 1, 1, 1, 1, 2, 1, 1, 1, 1, 1, 1, 1, 1, 1, 1, 1, 1, 1, 1, 1, 1, 1, 1, 1, 1, 1, 1, 1, 1, 3, 1, 1, 1, 1, 1, 1, 1, 1, 1, 1, 1, 1, 1, 1, 1, 1, 1, 1, 1, 1, 1, 1, 1, 1, 1, 1, 1, 1, 1, 1, 1, 1, 1, 1, 1, 1, 1, 1, 1, 1, 1, 1, 1, 1, 1, 1, 1, 1, 1, 2, 1, 1, 1, 1, 1, 1, 1, 1, 1, 1, 1, 1, 1, 1, 1, 1, 1, 1, 1, 1, 1, 1, 1, 1, 1, 1, 1, 1, 1, 1, 1, 1, 1, 1, 1, 1, 1, 1, 1, 1, 2, 1, 1, 1, 1, 1, 1, 1, 1, 1, 1, 1, 1, 1, 1, 1, 1, 1, 1, 1, 1, 1, 1, 1, 2, 1, 1, 1, 1, 1, 1, 1, 1, 1, 1, 1, 1, 1, 1, 1, 1, 1, 1, 1, 1, 1, 4, 1, 1, 1, 1, 1, 1, 1, 1, 1, 1, 1, 1, 1, 1, 1, 1, 1, 1, 1, 1, 1, 1, 1, 1, 1, 1, 1, 1, 1, 1, 1, 1, 1, 1, 1, 2, 1, 1, 1, 1, 1, 1, 1, 1, 1, 1, 1, 1, 1, 1, 1, 1, 1, 1, 1, 1, 1, 1, 1, 1, 1, 1, 1, 1, 1, 1, 1, 1, 1, 1, 1, 1, 1, 1, 1, 1, 1, 1, 1, 1, 1, 1, 1, 6, 1, 1, 1, 1, 1, 1, 1, 1, 1, 1, 1, 1, 1, 3, 1, 1, 1, 1, 1, 1, 1, 1, 1, 1, 1, 1, 1, 1, 1, 1, 1, 1, 1, 1, 1, 1, 1, 1, 2, 1, 1, 1, 1, 1, 1, 3, 13, 1, 1, 1, 1, 1, 1, 1, 1, 1, 1, 1, 1, 1, 1, 1, 1, 2, 1, 1, 1, 1, 1, 1, 1, 1, 1, 1, 1, 1, 1, 1, 1, 1, 1, 1, 1, 2, 1, 1, 1, 1, 1, 1, 1, 1, 1, 1, 1, 1, 1, 1, 1, 1, 1, 1, 1, 1, 1, 1, 1, 1, 1, 4, 1, 1, 1, 1, 1, 1, 1, 1, 1, 2, 4, 1, 1, 1, 1, 6, 1, 1, 1, 1, 1, 1, 1, 1, 1, 1, 1, 1, 1, 1, 1, 1, 1, 1, 1, 1, 1, 1, 1, 1, 1, 1, 1, 1, 1, 1, 1, 1, 1, 5, 1, 1, 1, 1, 1, 1, 1, 1, 1, 1, 1, 1, 1, 1, 1, 1, 1, 1, 1, 1, 1, 1, 1, 1, 1, 1, 1, 1, 1, 1, 1, 1, 1, 1, 1, 1, 1, 1, 1, 1, 1, 1, 1, 1, 1, 1, 1, 1, 1, 1, 1, 1, 1, 1, 1, 1, 1, 1, 1, 2, 1, 1, 1, 1, 1, 1, 1, 1, 1, 1, 1, 1, 1, 1, 1, 1, 1, 1, 1, 1, 1, 1, 1, 6, 1, 1, 1, 1, 1, 1, 1, 1, 1, 1, 1, 1, 1, 1, 1, 1, 15, 1, 1, 1, 1, 1, 1, 1, 1, 1, 1, 1, 1, 1, 1, 1, 1, 1, 1, 1, 1, 1, 1, 1, 1, 1, 2, 1, 1, 1, 1, 1, 1, 2, 1, 1, 1, 1, 1, 3, 1, 1, 2, 2, 6, 1, 1, 1, 1, 1, 1, 1, 1, 1, 1, 1, 1, 1, 1, 1, 1, 1, 1, 1, 1, 1, 1, 1, 1, 1, 1, 1, 1, 1, 1, 1, 1, 1, 1, 1, 1, 1, 1, 1, 1, 1, 13, 1, 1, 1, 1, 1, 1, 1, 1, 1, 1, 1, 1, 1, 1, 1, 1, 1, 1, 1, 1, 1, 1, 1, 1, 1, 1, 1, 1, 1, 1, 1, 1, 1, 1, 1, 1, 3, 1, 1, 1, 1, 1, 1, 1, 1, 1, 1, 1, 1, 1, 1, 1, 1, 1, 1, 1, 1, 1, 1, 1, 2, 1, 1, 1, 1, 1, 1, 1, 1, 1, 1, 1, 1, 1, 1, 1, 1, 1, 1, 1, 1, 1, 1, 1, 1, 1, 1, 1, 1, 3, 1, 1, 1, 1, 2, 1, 1, 1, 1, 1, 1, 1, 6, 1, 1, 1, 1, 1, 1, 1, 1, 1, 8, 1, 1, 1, 1, 1, 1, 1, 1, 1, 2, 1, 1, 2, 1, 1, 1, 1, 1, 1, 1, 1, 1, 1, 1, 1, 1, 1, 1, 1, 1, 1, 1, 1, 4, 1, 1, 1, 1, 1, 1, 1, 1, 1, 1, 1, 1, 1, 1, 1, 1, 1, 1, 1, 1, 1, 1, 1, 1, 1, 1, 1, 1, 1, 1, 1, 1, 1, 1, 1, 1, 1, 1, 1, 1, 1, 1, 1, 1, 1, 1, 1, 1, 1, 1, 1, 1, 1, 1, 1, 1, 1, 1, 1, 1, 1, 1, 1, 1, 1, 1, 1, 1, 1, 2, 1, 1, 1, 2, 1, 1, 1, 1, 1, 1, 1, 1, 1, 1, 1, 1, 1, 1, 1, 1, 1, 1, 1, 1, 1, 1, 1, 1, 1, 1, 1, 1, 1, 1, 1, 1, 1, 1, 1, 6, 1, 1, 1, 1, 1, 1, 1, 1, 1, 1, 1, 1, 1, 1, 1, 1, 1, 1, 1, 1, 1, 1, 1, 1, 13, 1, 1, 1, 1, 1, 1, 1, 1, 1, 1, 1, 1, 1, 1, 1, 1, 1, 1, 1, 1, 1, 1, 1, 1, 1, 1, 1, 1, 4, 1, 1, 1, 1, 1, 1, 1, 1, 1, 1, 1, 1, 1, 1, 1, 1, 1, 1, 2, 1, 1, 1, 1, 1, 1, 1, 1, 1, 2, 1, 1, 1, 1, 1, 1, 1, 1, 1, 1, 1, 1, 1, 1, 1, 1, 1, 1, 1, 1, 1, 1, 1, 1, 1, 1, 2, 2, 1, 1, 1, 6, 1, 1, 1, 1, 1, 1, 1, 1, 1, 1, 1, 1, 1, 1, 1, 1, 1, 1, 1, 1, 1, 1, 1, 1, 1, 1, 1, 1, 2, 1, 1, 1, 1, 1, 1, 1, 1, 1, 1, 1, 1, 1, 1, 1, 2, 1, 1, 1, 1, 1, 1, 1, 1, 2, 1, 1, 1, 1, 1, 1, 1, 1, 1, 1, 1, 1, 1, 1, 1, 1, 1, 1, 1, 1, 1, 1, 1, 5, 4, 1, 1, 1, 1, 1, 1, 1, 1, 1, 1, 1, 1, 1, 2, 1, 1, 1, 1, 1, 1, 1, 1, 1, 1, 1, 1, 1, 1, 3, 1, 1, 1, 1, 1, 1, 1, 1, 1, 1, 1, 1, 1, 1, 1, 1, 1, 1, 1, 1, 7, 1, 1, 1, 1, 1, 1, 1, 1, 1, 1, 1, 1, 1, 1, 1, 1, 1, 1, 1, 1, 4, 1, 1, 1, 1, 1, 1, 1, 1, 2, 1, 1, 1, 1, 1, 1, 1, 1, 1, 1, 1, 1, 1, 1, 1, 1, 1, 1, 1, 1, 1, 1, 1, 1, 1, 1, 1, 1, 1, 1, 1, 1, 1, 1, 1, 1, 1, 1, 1, 1, 1, 1, 1, 1, 1, 1, 1, 1, 1, 2, 1, 1, 1, 1, 1, 1, 1, 1, 1, 1, 1, 1, 1, 1, 1, 1, 1, 1, 1, 1, 1, 1, 1, 1, 1, 1, 1, 1, 1, 1, 1, 1, 1, 1, 1, 1, 1, 1, 1, 1, 1, 1, 1, 1, 1, 1, 1, 1, 1, 1, 1, 1, 1, 1, 1, 1, 1, 1, 1, 1, 1, 1, 1, 1, 1, 1, 1, 1, 1, 4, 1, 1, 1, 1, 1, 1, 1, 1, 1, 1, 1, 1, 1, 1, 1, 1, 1, 1, 1, 1, 1, 1, 1, 3, 1, 1, 1, 1, 1, 1, 1, 1, 1, 1, 1, 1, 1, 1, 1, 1, 1, 1, 1, 1, 1, 1, 1, 1, 1, 1, 1, 1, 1, 1, 1, 1, 1, 1, 1, 2, 1, 9, 1, 1, 1, 1, 1, 1, 1, 1, 1, 1, 1, 1, 1, 1, 1, 1, 1, 1, 1, 1, 1, 1, 1, 9, 1, 1, 1, 2, 5, 1, 1, 1, 1, 1, 1, 1, 1, 1, 1, 1, 1, 1, 1, 1, 1, 1, 1, 1, 1, 1, 1, 1, 1, 1, 1, 1, 1, 1, 1, 8, 1, 1, 1, 1, 1, 1, 1, 1, 1, 1, 1, 1, 1, 1, 1, 1, 1, 1, 1, 1, 1, 1, 1, 1, 1, 1, 1, 1, 1, 1, 1, 1, 1, 1, 1, 1, 1, 1, 1, 1, 1, 1, 1, 1, 1, 1, 1, 1, 1, 1, 1, 1, 1, 1, 1, 1, 1, 1, 1, 1, 3, 3, 1, 1, 1, 1, 1, 1, 1, 1, 1, 1, 1, 1, 1, 1, 1, 1, 1, 1, 1, 1, 1, 1, 1, 1, 1, 1, 1, 1, 1, 1, 1, 1, 1, 1, 1, 1, 1, 1, 1, 1, 1, 1, 1, 1, 1, 1, 2, 1, 1, 1, 1, 1, 1, 1, 1, 1, 1, 1, 1, 1, 1, 1, 1, 1, 1, 1, 1, 1, 1, 1, 1, 1, 1, 1, 1, 1, 1, 1, 1, 1, 1, 1, 1, 1, 1, 1, 1, 1, 1, 1, 1, 1, 2, 1, 1, 1, 1, 1, 1, 1, 1, 1, 1, 1, 1, 1, 1, 1, 1, 1, 1, 1, 1, 1, 1, 1, 1, 1, 1, 1, 1, 1, 1, 1, 1, 1, 1, 1, 1, 1, 1, 1, 1, 1, 1, 1, 1, 1, 1, 1, 1, 1, 1, 1, 1, 1, 1, 1, 1, 1, 1, 1, 1, 1, 1, 1, 1, 1, 1, 1, 1, 1, 1, 2, 1, 1, 1, 1, 1, 1, 1, 1, 1, 1, 1, 1, 1, 1, 1, 1, 1, 1, 1, 1, 1, 1, 1, 1, 1, 1, 1, 1, 1, 1, 1, 1, 1, 1, 1, 1, 1, 1, 1, 1, 1, 1, 1, 1, 1, 1, 1, 1, 1, 1, 1, 1, 1, 1, 1, 1, 1, 1, 1, 1, 1, 1, 1, 1, 1, 1, 1, 1, 1, 1, 1, 1, 1, 1, 1, 1, 1, 1, 1, 1, 1, 1, 1, 1, 1, 1, 1, 1, 1, 1, 1, 1, 1, 1, 1, 1, 1, 1, 1, 1, 1, 2, 1, 1, 1, 1, 1, 1, 1, 1, 1, 1, 1, 1, 1, 1, 1, 1, 1, 1, 1, 1, 2, 1, 1, 1, 1, 1, 1, 1, 1, 1, 1, 1, 1, 1, 1, 1, 1, 3, 1, 1, 1, 1, 1, 1, 1, 1, 1, 1, 1, 1, 1, 1, 1, 1, 1, 1, 1, 1, 1, 1, 1, 1, 1, 1, 1, 1, 1, 1, 1, 1, 1, 1, 1, 1, 1, 1, 1, 1, 1, 1, 1, 1, 1, 1, 1, 1, 1, 1, 1, 1, 1, 1, 5, 1, 1, 1, 1, 1, 1, 1, 1, 1, 1, 1, 1, 1, 1, 1, 1, 1, 1, 1, 1, 1, 1, 1, 1, 1, 2, 1, 1, 1, 1, 1, 1, 1, 1, 1, 1, 1, 1, 1, 1, 1, 1, 1, 1, 1, 1, 1, 1, 1, 1, 1, 1, 1, 1, 1, 1, 1, 1, 4, 1, 1, 1, 1, 1, 1, 1, 1, 1, 1, 1, 1, 1, 1, 1, 1, 1, 1, 1, 1, 1, 1, 1, 1, 1, 1, 1, 1, 1, 1, 1, 1, 1, 1, 1, 1, 2, 1, 1, 1, 1, 1, 1, 1, 1, 1, 1, 1, 1, 1, 1, 1, 1, 1, 1, 1, 1, 1, 1, 1, 1, 1, 1, 1, 1, 1, 1, 1, 1, 1, 1, 1, 1, 1, 1, 1, 1, 1, 1, 1, 1, 1, 1, 1, 1, 1, 1, 1, 1, 2, 1, 1, 1, 1, 1, 1, 1, 1, 1, 1, 1, 1, 1, 1, 1, 1, 1, 1, 1, 1, 1, 1, 1, 1, 1, 1, 1, 1, 4, 1, 1, 1, 1, 1, 1, 1, 1, 1, 1, 1, 1, 1, 1, 1, 1, 1, 1, 1, 1, 1, 1, 1, 1, 1, 1, 1, 1, 1, 1, 1, 1, 1, 1, 1, 1, 1, 1, 1, 1, 1, 1, 1, 1, 1, 1, 5, 1, 1, 1, 1, 4, 1, 1, 1, 1, 1, 1, 1, 1, 1, 1, 1, 1, 1, 7, 1, 1, 1, 1, 5, 1, 1, 1, 1, 1, 1, 1, 1, 1, 1, 1, 4, 1, 1, 1, 1, 1, 1, 1, 1, 1, 1, 1, 1, 1, 1, 1, 1, 1, 1, 1, 1, 1, 2, 2, 1, 1, 1, 1, 1, 1, 1, 1, 1, 1, 1, 1, 1, 1, 1, 1, 1, 1, 1, 1, 1, 1, 1, 1, 1, 1, 1, 1, 1, 1, 1, 1, 1, 1, 1, 1, 1, 1, 1, 1, 1, 1, 1, 11, 1, 1, 1, 1, 1, 1, 1, 1, 2, 1, 1, 1, 1, 1, 1, 1, 1, 1, 1, 1, 1, 1, 1, 1, 1, 1, 1, 1, 1, 1, 1, 1, 1, 2, 1, 1, 1, 1, 1, 1, 1, 5, 1, 1, 1, 1, 1, 1, 1, 1, 1, 1, 1, 1, 1, 1, 1, 1, 1, 1, 1, 1, 1, 1, 1, 1, 1, 1, 1, 1, 1, 1, 1, 1, 1, 5, 1, 1, 1, 1, 1, 1, 1, 1, 1, 1, 1, 1, 1, 1, 1, 1, 2, 1, 1, 1, 1, 1, 1, 1, 1, 1, 1, 1, 1, 1, 1, 1, 1, 1, 1, 1, 1, 1, 1, 1, 1, 1, 1, 1, 1, 1, 1, 1, 1, 1, 1, 1, 1, 1, 1, 1, 1, 1, 1, 1, 1, 1, 1, 1, 1, 1, 1, 1, 1, 1, 1, 7, 1, 1, 1, 1, 1, 1, 1, 1, 1, 1, 1, 1, 1, 1, 1, 1, 1, 1, 1, 1, 1, 1, 1, 1, 1, 1, 1, 1, 1, 1, 1, 1, 1, 1, 1, 1, 1, 1, 1, 1, 1, 1, 1, 1, 1, 1, 1, 1, 1, 1, 1, 1, 1, 1, 1, 1, 1, 1, 1, 1, 1, 1, 1, 1, 1, 1, 1, 1, 1, 1, 1, 1, 1, 1, 1, 1, 1, 1, 1, 1, 1, 1, 1, 1, 1, 1, 1, 1, 1, 1, 1, 1, 1, 1, 1, 1, 1, 1, 1, 1, 1, 1, 1, 1, 1, 1, 5, 1, 1, 1, 1, 1, 1, 1, 1, 1, 1, 1, 1, 1, 1, 1, 7, 1, 1, 1, 1, 1, 1, 1, 1, 1, 1, 1, 1, 1, 1, 1, 1, 1, 1, 1, 1, 1, 1, 1, 1, 1, 1, 1, 1, 1, 3, 1, 1, 1, 1, 1, 1, 1, 1, 1, 1, 9, 1, 1, 1, 1, 1, 1, 1, 1, 1, 2, 1, 1, 1, 1, 1, 1, 1, 1, 4, 1, 1, 1, 1, 1, 1, 1, 1, 1, 1, 1, 1, 1, 1, 1, 1, 1, 1, 1, 1, 1, 1, 1, 1, 1, 1, 1, 1, 1, 1, 1, 1, 1, 1, 1, 1, 1, 1, 1, 1, 1, 1, 1, 1, 1, 1, 1, 1, 1, 1, 1, 1, 1, 1, 1, 1, 1, 1, 1, 1, 1, 1, 1, 1, 1, 1, 1, 1, 1, 1, 1, 1, 1, 3, 1, 1, 1, 1, 2, 1, 1, 1, 3, 1, 1, 1, 1, 1, 1, 1, 1, 1, 1, 3, 1, 1, 1, 1, 1, 1, 1, 10, 1, 1, 1, 1, 1, 1, 1, 1, 1, 1, 1, 1, 1, 1, 1, 1, 1, 1, 1, 1, 1, 1, 1, 1, 1, 1, 1, 1, 1, 1, 1, 1, 1, 1, 1, 1, 1, 1, 1, 1, 1, 1, 1, 1, 1, 1, 1, 1, 1, 1, 1, 1, 1, 1, 1, 1, 1, 1, 1, 1, 1, 1, 1, 1, 1, 1, 1, 1, 1, 1, 1, 1, 1, 1, 1, 1, 1, 1, 1, 1, 1, 1, 1, 1, 1, 1, 1, 1, 1, 1, 1, 1, 1, 1, 1, 1, 1, 1, 1, 1, 1, 1, 1, 1, 1, 1, 3, 1, 1, 1, 1, 1, 1, 1, 1, 1, 1, 1, 1, 1, 1, 1, 1, 1, 1, 1, 1, 1, 1, 1, 1, 1, 1, 1, 1, 1, 1, 1, 1, 1, 1, 1, 1, 18, 1, 2, 1, 1, 1, 1, 1, 1, 1, 1, 1, 1, 1, 1, 1, 1, 1, 1, 1, 1, 1, 1, 1, 1, 1, 1, 1, 1, 1, 1, 1, 1, 1, 1, 1, 1, 1, 1, 1, 1, 1, 1, 1, 1, 1, 1, 1, 1, 1, 1, 1, 1, 1, 1, 1, 1, 1, 1, 1, 1, 1, 1, 1, 1, 2, 1, 1, 1, 1, 1, 1, 1, 1, 1, 1, 1, 1, 1, 1, 1, 1, 1, 1, 1, 1, 1, 1, 1, 1, 1, 1, 1, 1, 1, 1, 1, 1, 1, 1, 1, 1, 1, 1, 1, 1, 1, 1, 1, 1, 1, 1, 1, 1, 1, 1, 1, 1, 1, 1, 1, 1, 1, 1, 1, 1, 1, 1, 1, 1, 1, 1, 1, 1, 1, 1, 1, 1, 1, 1, 1, 1, 1, 1, 1, 1, 1, 1, 1, 1, 1, 1, 1, 1, 1, 2, 1, 1, 1, 1, 1, 1, 1, 1, 1, 1, 1, 1, 1, 1, 2, 1, 1, 1, 1, 1, 1, 1, 1, 1, 1, 5, 1, 2, 1, 2, 2, 1, 1, 1, 2, 6, 3, 1, 1, 3, 1, 1, 1, 1, 1, 1, 1, 1, 1, 3, 2, 1, 1, 1, 10, 2, 3, 1, 1, 1, 2, 1, 9, 1, 1, 1, 2, 1, 1, 1, 2, 1, 6, 1, 1, 1, 8, 14, 1, 2, 16, 1, 2, 1, 23, 1, 5, 3, 1, 2, 1, 4, 1, 1, 22, 1, 1, 1, 12, 1, 2, 8, 1, 6, 9, 7, 2, 1, 2, 1, 2, 11, 1, 13, 1, 2, 7, 1, 1, 1, 1, 2, 7, 1, 1, 2, 1, 1, 1, 1, 2, 1, 1, 3, 2, 2, 1, 4, 7, 2, 4, 9, 1, 1, 1, 1, 5, 1, 5, 1, 4, 1, 1, 3, 1, 2, 1, 3, 1, 1, 1, 1, 1, 1, 1, 1, 12, 2, 9, 6, 9, 2, 1, 1, 1, 1, 2, 2, 7, 1, 1, 1, 1, 1, 2, 1, 1, 1, 1, 1, 7, 1, 1, 2, 1, 1, 1, 1, 1, 13, 1, 1, 1, 1, 1, 1, 1, 1, 4, 1, 1, 1, 3, 8, 6, 2, 1, 1, 3, 1, 5, 1, 1, 1, 2, 5, 2, 2, 1, 3, 1, 4, 1, 1, 1, 1, 1, 2, 5, 1, 5, 1, 4, 1, 1, 1, 1, 1, 1, 1, 4, 1, 15, 1, 2, 2, 2, 4, 1, 1, 1, 1, 1, 1, 4, 8, 3, 1, 1, 2, 1, 1, 1, 1, 1, 1, 2, 1, 1, 2, 1, 1, 1, 1, 1, 1, 1, 2, 1, 1, 1, 3, 1, 1, 1, 2, 1, 1, 11, 1, 2, 1, 12, 26, 13, 2, 1, 2, 2, 6, 1, 1, 1, 2, 1, 1, 2, 5, 1, 3, 1, 1, 2, 1, 1, 1, 1, 5, 1, 1, 1, 2, 1, 1, 2, 1, 1, 1, 2, 1, 1, 1, 1, 1, 1, 1, 1, 2, 2, 1, 1, 1, 6, 1, 1, 2, 1, 3, 7, 2, 1, 2, 2, 2, 1, 2, 1, 1, 1, 1, 1, 1, 1, 2, 1, 1, 1, 6, 1, 1, 2, 1, 1, 1, 1, 1, 1, 1, 1, 1, 1, 1, 1, 7, 1, 2, 1, 1, 1, 1, 1, 1, 1, 1, 1, 4, 1, 1, 11, 1, 2, 1, 1, 1, 2, 1, 2, 1, 6, 7, 3, 1, 1, 7, 2, 3, 1, 1, 2, 1, 1, 1, 1, 4, 1, 7, 1, 1, 1, 5, 1, 4, 3, 1, 1, 1, 3, 1, 3, 1, 1, 1, 2, 5, 1, 1, 1, 8, 1, 2, 1, 1, 1, 1, 1, 5, 2, 1, 10, 1, 1, 2, 4, 2, 2, 5, 1, 3, 1, 1, 1, 1, 1, 1, 1, 1, 1, 1, 1, 1, 6, 2, 1, 1, 3, 2, 2, 1, 5, 1, 1, 1, 1, 1, 1, 1, 1, 1, 1, 3, 1, 2, 3, 1, 3, 1, 2, 1, 1, 5, 2, 1, 2, 1, 1, 7, 1, 1, 3, 1, 1, 3, 1, 1, 2, 1, 7, 5, 1, 2, 6, 1, 2, 11, 3, 1, 6, 1, 1, 1, 1, 2, 2, 1, 1, 1, 1, 5, 1, 1, 2, 2, 1, 1, 1, 4, 1, 1, 2, 1, 1, 3, 1, 1, 1, 2, 1, 1, 1, 1, 1, 2, 1, 1, 1, 1, 3, 1, 1, 2, 1, 1, 1, 1, 2, 5, 3, 1, 1, 1, 4, 2, 2, 1, 1, 2, 1, 6, 2, 4, 1, 1, 1, 1, 1, 1, 1, 1, 2, 1, 2, 1, 1, 2, 4, 4, 5, 1, 2, 3, 4, 1, 1, 1, 1, 1, 1, 3, 1, 2, 1, 1, 2, 3, 1, 1, 5, 2, 1, 1, 1, 2, 2, 1, 1, 1, 1, 4, 1, 1, 1, 13, 2, 3, 1, 3, 5, 5, 5, 6, 1, 1, 1, 3, 3, 3, 3, 4, 1, 3, 3, 3, 5, 3, 3, 3, 3, 3, 3, 3, 1, 1, 2, 2, 1, 7, 1, 1, 2, 2, 1, 1, 1, 4, 3, 1, 9, 1, 4, 13, 1, 4, 2, 2, 1, 3, 1, 3, 1, 1, 2, 1, 1, 1, 1, 1, 1, 1, 1, 1, 1, 15, 1, 1, 30, 1, 1, 1, 1, 1, 1, 8, 1, 1, 1, 1, 1, 1, 2, 1, 4, 1, 1, 1, 3, 2, 1, 5, 1, 4, 1, 7, 18, 1, 1, 1, 3, 1, 2, 1, 2, 3, 3, 4, 1, 1, 1, 1, 1, 1, 1, 4, 2, 1, 1, 1, 1, 2, 1, 1, 1, 3, 1, 1, 1, 1, 2, 1, 2, 2, 2, 1, 1, 1, 1, 1, 1, 2, 1, 3, 2, 1, 1, 8, 2, 6, 3, 1, 2, 1, 2, 2, 1, 1, 1, 1, 1, 1, 1, 1, 1, 1, 1, 1, 1, 1, 3, 2, 1, 1, 1, 2, 2, 3, 4, 1, 1, 5, 1, 1, 1, 1, 1, 5, 2, 1, 9, 1, 1, 1, 1, 1, 2, 1, 4, 1, 1, 1, 2, 1, 1, 1, 1, 2, 2, 4, 1, 1, 1, 1, 2, 1, 2, 1, 1, 1, 4, 5, 1, 1, 1, 1, 2, 8, 1, 2, 1, 6, 1, 1, 1, 1, 1, 2, 1, 1, 1, 3, 1, 1, 4, 4, 2, 9, 2, 1, 4, 3, 3, 1, 7, 1, 1, 3, 2, 1, 1, 1, 2, 1, 1, 3, 1, 1, 2, 8, 1, 1, 1, 1, 1, 1, 1, 14, 1, 2, 4, 4, 1, 1, 1, 2, 1, 1, 2, 2, 1, 1, 1, 5, 1, 1, 5, 1, 1, 2, 4, 1, 1, 1, 1, 1, 1, 2, 1, 1, 2, 1, 1, 1, 1, 1, 1, 1, 2, 1, 1, 1, 27, 1, 1, 2, 3, 1, 1, 12, 5, 1, 1, 1, 1, 1, 1, 3, 1, 6, 1, 1, 1, 1, 3, 1, 1, 1, 1, 2, 3, 2, 1, 4, 1, 1, 1, 3, 4, 3, 1, 5, 3, 1, 1, 1, 1, 6, 1, 1, 1, 1, 1, 2, 1, 1, 1, 7, 3, 1, 1, 7, 1, 2, 4, 1, 3, 2, 2, 1, 1, 1, 1, 1, 1, 1, 1, 1, 2, 2, 1, 1, 10, 1, 1, 2, 1, 1, 6, 4, 4, 1, 3, 1, 1, 1, 1, 1, 1, 2, 1, 5, 1, 3, 1, 1, 1, 1, 2, 1, 3, 1, 1, 2, 1, 1, 1, 1, 1, 1, 3, 2, 3, 1, 1, 1, 1, 2, 3, 4, 3, 4, 1, 1, 1, 4, 1, 2, 2, 2, 1, 1, 1, 2, 2, 6, 1, 1, 1, 1, 1, 1, 1, 4, 1, 2, 1, 1, 1, 2, 5, 2, 1, 1, 1, 1, 2, 3, 1, 4, 1, 1, 1, 1, 1, 1, 7, 1, 2, 5, 4, 1, 2, 2, 1, 1, 1, 3, 1, 1, 3, 1, 4, 5, 1, 1, 1, 2, 1, 1, 1, 1, 1, 1, 1, 1, 1, 1, 1, 1, 1, 1, 1, 1, 10, 1, 1, 1, 1, 1, 1, 5, 1, 1, 1, 1, 1, 6, 1, 1, 1, 2, 2, 1, 3, 1, 3, 8, 1, 1, 2, 1, 1, 1, 1, 2, 1, 1, 3, 1, 1, 1, 1, 1, 7, 3, 3, 1, 3, 3, 1, 1, 3, 6, 1, 1, 1, 1, 3, 1, 1, 1, 3, 1, 4, 1, 1, 1, 2, 1, 1, 2, 1, 1, 1, 1, 4, 1, 1, 4, 1, 1, 1, 1, 1, 1, 1, 2, 1, 1, 1, 1, 2, 1, 3, 7, 1, 1, 1, 1, 3, 6, 1, 1, 1, 5, 1, 1, 1, 1, 1, 2, 1, 1, 1, 1, 1, 1, 1, 3, 1, 1, 1, 6, 4, 4, 2, 2, 2, 1, 1, 1, 1, 1, 2, 1, 1, 1, 2, 1, 2, 1, 4, 1, 1, 1, 1, 1, 1, 1, 1, 1, 3, 3, 1, 1, 2, 2, 1, 1, 2, 1, 2, 1, 1, 1, 4, 1, 3, 5, 1, 1, 1, 1, 1, 2, 2, 1, 2, 1, 1, 1, 1, 1, 1, 2, 5, 11, 1, 1, 2, 4, 1, 3, 1, 1, 1, 4, 6, 3, 1, 1, 1, 5, 2, 8, 6, 2, 1, 1, 1, 1, 1, 1, 1, 1, 2, 1, 1, 1, 1, 2, 2, 2, 3, 1, 1, 1, 1, 1, 1, 1, 3, 2, 1, 1, 11, 1, 6, 4, 1, 1, 9, 1, 3, 1, 1, 1, 9, 1, 1, 1, 1, 1, 1, 2, 2, 1, 1, 1, 1, 1, 1, 1, 1, 1, 1, 1, 2, 4, 1, 1, 1, 1, 1, 1, 1, 1, 1, 1, 1, 1, 1, 1, 1, 2, 1, 1, 2, 1, 1, 4, 1, 1, 4, 2, 1, 5, 2, 1, 1, 1, 1, 1, 1, 1, 1, 2, 1, 2, 3, 2, 1, 2, 2, 3, 1, 1, 2, 3, 15, 2, 5, 1, 1, 1, 1, 1, 1, 1, 1, 1, 1, 3, 1, 1, 3, 1, 1, 1, 1, 2, 2, 3, 4, 1, 1, 1, 1, 2, 5, 1, 1, 1, 4, 1, 9, 4, 4, 1, 2, 1, 1, 3, 1, 3, 1, 1, 1, 2, 1, 3, 1, 1, 3, 2, 1, 1, 3, 1, 3, 1, 1, 4, 2, 1, 1, 1, 3, 3, 1, 1, 2, 4, 1, 1, 1, 1, 5, 1, 1, 3, 3, 1, 1, 1, 1, 6, 4, 1, 1, 2, 1, 1, 1, 3, 3, 1, 1, 3, 2, 1, 2, 2, 1, 1, 1, 1, 2, 1, 3, 1, 1, 1, 1, 2, 1, 1, 1, 1, 1, 1, 1, 6, 1, 4, 1, 1, 1, 1, 1, 2, 1, 1, 2, 1, 4, 1, 1, 1, 2, 5, 1, 1, 1, 1, 1, 1, 1, 2, 3, 5, 1, 3, 1, 1, 1, 2, 1, 1, 6, 1, 1, 1, 1, 2, 3, 1, 1, 1, 1, 1, 1, 1, 4, 1, 1, 1, 1, 1, 1, 1, 1, 1, 1, 1, 3, 2, 1, 1, 1, 1, 1, 8, 1, 1, 1, 1, 2, 1, 1, 1, 1, 1, 1, 1, 4, 1, 5, 1, 1, 1, 1, 1, 1, 1, 4, 1, 1, 1, 1, 1, 5, 6, 1, 4, 5, 1, 1, 1, 1, 1, 1, 4, 1, 6, 2, 5, 1, 1, 1, 1, 1, 1, 1, 1, 2, 1, 1, 1, 2, 2, 1, 3, 1, 1, 1, 1, 1, 1, 1, 2, 1, 1, 6, 1, 2, 1, 1, 1, 1, 1, 2, 1, 1, 1, 1, 1, 4, 1, 1, 1, 2, 1, 1, 1, 1, 1, 2, 3, 1, 1, 1, 1, 1, 1, 2, 2, 1, 1, 2, 2, 2, 1, 1, 2, 1, 6, 2, 3, 4, 2, 3, 1, 1, 1, 1, 1, 1, 1, 1, 2, 1, 3, 1, 1, 1, 1, 1, 1, 1, 1, 2, 1, 5, 1, 6, 1, 1, 1, 1, 1, 1, 6, 1, 1, 1, 2, 1, 1, 1, 1, 1, 1, 1, 1, 1, 1, 1, 1, 1, 1, 1, 1, 1, 1, 2, 1, 2, 1, 2, 1, 1, 1, 1, 4, 2, 1, 2, 1, 1, 1, 1, 1, 1, 1, 1, 1, 1, 1, 1, 1, 10, 1, 1, 1, 1, 1, 1, 1, 3, 1, 1, 3, 1, 2, 1, 1, 1, 1, 4, 1, 2, 1, 1, 1, 1, 1, 1, 1, 1, 1, 1, 1, 1, 1, 2, 1, 1, 1, 2, 1, 2, 1, 1, 1, 1, 1, 6, 1, 2, 1, 2, 1, 1, 1, 3, 1, 13, 1, 1, 1, 1, 2, 1, 1, 1, 1, 3, 2, 1, 1, 1, 1, 1, 1, 1, 1, 2, 1, 1, 4, 6, 1, 3, 2, 1, 1, 1, 2, 1, 1, 2, 1, 1, 1, 1, 1, 1, 1, 1, 1, 1, 2, 2, 2, 1, 6, 1, 1, 1, 3, 1, 4, 1, 1, 3, 1, 1, 1, 1, 1, 4, 3, 1, 1, 1, 1, 1, 1, 1, 1, 1, 3, 4, 1, 1, 1, 5, 2, 2, 1, 1, 2, 1, 1, 1, 1, 2, 1, 1, 1, 1, 1, 2, 1, 2, 1, 1, 1, 1, 1, 1, 1, 1, 1, 1, 1, 1, 1, 1, 1, 1, 1, 1, 2, 1, 1, 2, 1, 2, 1, 1, 1, 1, 1, 1, 1, 1, 1, 1, 1, 1, 1, 1, 1, 1, 1, 1, 2, 2, 1, 1, 2, 1, 1, 1, 1, 1, 2, 1, 1, 1, 1, 1, 2, 1, 2, 2, 1, 1, 1, 2, 1, 1, 2, 1, 1, 1, 1, 1, 1, 1, 1, 6, 1, 1, 1, 1, 1, 1, 1, 1, 1, 1, 1, 1, 5, 1, 1, 1, 1, 1, 5, 1, 1, 2, 1, 1, 1, 1, 1, 4, 2, 1, 1, 2, 1, 3, 1, 7, 1, 1, 2, 2, 1, 1, 1, 2, 1, 1, 1, 1, 1, 1, 1, 1, 1, 1, 1, 2, 1, 2, 1, 1, 1, 1, 2, 1, 1, 2, 1, 1, 1, 1, 2, 1, 1, 1, 1, 1, 3, 3, 1, 1, 1, 1, 1, 1, 1, 1, 3, 1, 1, 1, 2, 4, 1, 1, 1, 1, 1, 1, 1, 2, 1, 1, 1, 1, 2, 1, 1, 1, 1, 2, 1, 2, 1, 1, 1, 1, 1, 3, 1, 2, 7, 1, 1, 2, 1, 1, 2, 1, 1, 1, 1, 1, 1, 1, 2, 1, 7, 1, 1, 1, 3, 1, 1, 2, 1, 1, 1, 5, 1, 3, 1, 1, 2, 2, 2, 1, 1, 1, 1, 7, 1, 1, 1, 1, 1, 1, 1, 1, 1, 1, 1, 1, 1, 2, 1, 1, 1, 1, 1, 1, 1, 1, 1, 1, 2, 1, 1, 1, 1, 1, 2, 1, 1, 1, 1, 3, 2, 1, 1, 1, 1, 5, 6, 1, 1, 5, 2, 1, 1, 1, 1, 1, 1, 1, 3, 1, 1, 6, 1, 1, 1, 5, 1, 1, 1, 2, 1, 1, 1, 6, 1, 1, 1, 1, 1, 3, 1, 1, 1, 1, 1, 1, 2, 1, 3, 1, 1, 1, 1, 1, 1, 1, 1, 1, 1, 1, 2, 1, 2, 1, 1, 2, 1, 1, 1, 2, 1, 1, 1, 2, 1, 1, 1, 4, 1, 2, 1, 1, 1, 1, 1, 1, 1, 5, 1, 1, 1, 1, 1, 1, 1, 1, 2, 1, 1, 1, 1, 1, 2, 2, 1, 1, 1, 1, 1, 2, 1, 1, 1, 3, 1, 1, 1, 1, 2, 1, 1, 2, 2, 1, 1, 1, 1, 1, 1, 3, 2, 5, 2, 1, 2, 1, 1, 1, 1, 1, 1, 1, 1, 1, 1, 2, 1, 2, 1, 1, 1, 1, 1, 1, 1, 1, 1, 4, 7, 2, 1, 1, 1, 1, 1, 1, 1, 1, 2, 1, 1, 2, 1, 1, 1, 1, 1, 1, 1, 1, 1, 1, 2, 1, 1, 2, 1, 2, 1, 1, 1, 1, 1, 1, 1, 1, 1, 1, 1, 1, 1, 1, 2, 1, 1, 2, 1, 5, 1, 1, 1, 1, 1, 1, 1, 1, 1, 1, 1, 1, 1, 1, 1, 1, 1, 1, 1, 1, 3, 1, 2, 1, 1, 1, 1, 1, 1, 2, 1, 1, 2, 1, 1, 1, 2, 1, 1, 1, 1, 1, 1, 1, 1, 1, 1, 1, 1, 3, 1, 1, 1, 1, 2, 1, 1, 1, 1, 1, 1, 1, 1, 1, 1, 1, 1, 2, 2, 1, 1, 1, 1, 1, 1, 1, 1, 1, 1, 1, 1, 1, 1, 1, 1, 1, 1, 1, 1, 1, 1, 1, 1, 1, 1, 1, 1, 1, 2, 1, 1, 1, 1, 1, 1, 1, 1, 1, 1, 1, 1, 2, 2, 2, 2, 1, 1, 1, 1, 1, 4, 1, 1, 1, 1, 2, 1, 1, 1, 2, 3, 1, 1, 3, 3, 1, 2, 1, 1, 1, 2, 1, 1, 1, 1, 1, 1, 1, 1, 1, 1, 3, 1, 1, 1, 1, 1, 3, 1, 2, 1, 1, 1, 2, 1, 2, 1, 1, 1, 1, 1, 1, 1, 2, 2, 2, 1, 1, 1, 1, 1, 2, 2, 2, 1, 1, 1, 1, 1, 1, 1, 1, 1, 1, 1, 1, 1, 1, 1, 1, 2, 1, 1, 1, 1, 1, 1, 1, 1, 1, 1, 2, 1, 1, 1, 1, 1, 1, 1, 1, 1, 1, 1, 1, 1, 1, 4, 1, 2, 1, 1, 2, 1, 1, 1, 1, 1, 1, 1, 1, 1, 1, 1, 1, 1, 1, 1, 2, 1, 1, 1, 1, 1, 1, 1, 1, 1, 1, 1, 1, 1, 1, 1, 1, 1, 1, 1, 1, 1, 1, 1, 1, 1, 1, 1, 1, 1, 1, 1, 1, 1, 2, 1, 1, 2, 2, 1, 1, 1, 3, 1, 1, 1, 2, 2, 1, 1, 1, 1, 1, 1, 1, 1, 1, 2, 1, 1, 1, 1, 1, 2, 2, 1, 1, 4, 1, 1, 1, 1, 1, 1, 1, 1, 2, 1, 1, 1, 2, 1, 1, 1, 1, 3, 1, 1, 1, 1, 1, 1, 1, 1, 1, 4, 1, 2, 1, 1, 1, 3, 1, 1, 1, 1, 1, 1, 1, 1, 1, 1, 1, 2, 2, 1, 1, 1, 1, 1, 2, 1, 1, 2, 3, 1, 1, 1, 3, 4, 1, 1, 2, 1, 1, 1, 1, 1, 1, 1, 1, 2, 1, 1, 1, 1, 1, 1, 1, 1, 1, 1, 1, 1, 1, 1, 1, 1, 1, 1, 1, 1, 2, 1, 1, 2, 1, 1, 1, 1, 1, 1, 1, 1, 1, 1, 1, 1, 1, 1, 1, 1, 1, 3, 1, 1, 1, 1, 1, 1, 1, 1, 2, 1, 2, 1, 1, 1, 2, 2, 6, 1, 1, 1, 11, 1, 1, 1, 1, 1, 1, 1, 1, 1, 2, 1, 1, 1, 4, 1, 1, 1, 1, 1, 1, 1, 1, 3, 1, 1, 1, 1, 2, 1, 1, 1, 3, 2, 1, 1, 1, 1, 1, 1, 1, 3, 1, 1, 1, 1, 1, 1, 1, 1, 1, 1, 1, 1, 1, 1, 1, 1, 1, 1, 2, 1, 1, 1, 1, 1, 1, 1, 1, 1, 1, 3, 2, 1, 1, 1, 1, 1, 1, 2, 2, 1, 1, 1, 1, 1, 1, 1, 2, 2, 1, 1, 1, 1, 1, 1, 1, 4, 1, 3, 1, 2, 1, 1, 1, 1, 1, 1, 1, 1, 1, 2, 1, 1, 1, 1, 1, 1, 1, 1, 1, 1, 1, 1, 1, 1, 1, 1, 1, 1, 1, 1, 1, 1, 2, 2, 3, 3, 2, 1, 2, 1, 1, 1, 1, 1, 1, 1, 1, 2, 1, 2, 1, 1, 1, 1, 2, 1, 1, 1, 5, 1, 1, 1, 1, 1, 1, 1, 2, 1, 1, 1, 1, 1, 2, 1, 3, 1, 1, 4, 4, 3, 2, 1, 1, 1, 1, 1, 2, 1, 1, 2, 1, 1, 2, 1, 1, 1, 1, 1, 1, 1, 1, 1, 1, 1, 1, 1, 4, 1, 1, 1, 1, 2, 1, 1, 1, 1, 2, 1, 1, 1, 1, 1, 1, 1, 1, 1, 1, 1, 1, 2, 2, 1, 2, 1, 1, 2, 1, 1, 1, 2, 1, 1, 1, 1, 1, 1, 1, 1, 1, 1, 1, 2, 1, 1, 1, 1, 1, 1, 1, 1, 1, 1, 1, 1, 1, 1, 1, 1, 1, 1, 3, 2, 1, 1, 1, 1, 1, 1, 1, 2, 1, 2, 1, 1, 1, 1, 1, 1, 1, 1, 1, 1, 1, 1, 2, 2, 1, 1, 1, 1, 1, 1, 1, 1, 1, 1, 1, 1, 1, 1, 1, 1, 1, 1, 1, 1, 1, 1, 1, 2, 1, 1, 1, 1, 2, 1, 1, 1, 1, 1, 1, 1, 1, 1, 2, 1, 1, 2, 2, 1, 1, 1, 1, 1, 1, 2, 1, 1, 1, 1, 1, 2, 2, 1, 1, 1, 1, 1, 1, 1, 1, 1, 1, 1, 1, 1, 1, 1, 1, 1, 1, 1, 1, 2, 1, 1, 2, 1, 1, 1, 1, 1, 1, 1, 1, 1, 2, 6, 1, 1, 1, 1, 1, 1, 1, 1, 1, 1, 2, 1, 1, 3, 1, 1, 1, 1, 1, 1, 1, 1, 2, 1, 1, 1, 2, 2, 1, 1, 1, 1, 1, 1, 1, 1, 1, 1, 1, 1, 2, 1, 1, 3, 2, 4, 1, 1, 1, 2, 1, 1, 1, 1, 3, 1, 1, 1, 1, 1, 1, 1, 1, 1, 2, 1, 1, 1, 1, 2, 2, 2, 2, 1, 1, 1, 3, 1, 6, 1, 1, 1, 2, 1, 1, 1, 1, 1, 1, 1, 1, 1, 1, 1, 2, 1, 1, 1, 1, 1, 1, 1, 1, 1, 1, 1, 1, 2, 1, 1, 1, 1, 1, 1, 1, 2, 1, 1, 2, 1, 2, 1, 1, 1, 2, 1, 1, 1, 1, 1, 1, 1, 1, 1, 1, 1, 1, 1, 1, 1, 1, 1, 1, 1, 1, 1, 1, 1, 1, 2, 1, 1, 1, 1, 1, 1, 1, 1, 1, 1, 1, 1, 1, 1, 1, 2, 1, 1, 1, 2, 1, 1, 1, 1, 1, 1, 1, 2, 1, 1, 1, 1, 1, 1, 1, 1, 1, 1, 1, 1, 1, 1, 1, 1, 1, 1, 1, 1, 1, 1, 1, 1, 1, 1, 1, 2, 1, 1, 1, 1, 1, 1, 1, 1, 1, 1, 1, 2, 1, 1, 1, 1, 1, 1, 1, 1, 1, 1, 1, 2, 2, 1, 2, 1, 1, 1, 1, 1, 1, 1, 2, 1, 1, 1, 1, 1, 3, 1, 1, 1, 1, 1, 1, 1, 1, 1, 2, 1, 1, 1, 1, 1, 1, 1, 1, 1, 2, 3, 1, 1, 1, 1, 1, 1, 2, 1, 2, 1, 1, 1, 1, 2, 1, 1, 1, 1, 1, 1, 1, 1, 1, 8, 1, 1, 1, 1, 1, 1, 1, 1, 1, 2, 1, 1, 1, 1, 2, 1, 1, 1, 6, 1, 1, 1, 2, 1, 1, 1, 1, 1, 1, 1, 1, 2, 1, 2, 1, 1, 2, 1, 1, 3, 1, 1, 1, 2, 1, 1, 1, 1, 3, 1, 1, 4, 1, 1, 2, 1, 1, 1, 1, 1, 1, 1, 1, 1, 1, 1, 1, 1, 1, 1, 1, 1, 1, 1, 1, 1, 1, 1, 1, 1, 1, 2, 1, 1, 1, 1, 2, 1, 1, 1, 1, 1, 1, 2, 1, 1, 1, 2, 3, 1, 1, 1, 1, 1, 1, 1, 1, 1, 1, 1, 1, 1, 1, 1, 1, 1, 1, 1, 1, 1, 1, 1, 1, 1, 1, 1, 1, 1, 3, 1, 1, 1, 1, 1, 1, 1, 2, 1, 1, 1, 2, 2, 1, 1, 1, 1, 1, 1, 2, 2, 1, 1, 1, 1, 1, 1, 1, 1, 1, 1, 1, 1, 1, 1, 1, 1, 1, 1, 1, 1, 1, 2, 1, 1, 1, 1, 1, 1, 3, 1, 1, 1, 1, 1, 1, 1, 1, 1, 1, 1, 1, 3, 1, 2, 1, 1, 1, 1, 3, 1, 1, 1, 1, 1, 1, 1, 3, 1, 1, 1, 1, 1, 1, 1, 1, 1, 1, 1, 2, 1, 1, 1, 1, 1, 1, 1, 1, 1, 1, 1, 1, 1, 1, 1, 2, 1, 1, 1, 1, 1, 1, 1, 1, 1, 1, 1, 2, 1, 1, 1, 1, 1, 1, 1, 1, 1, 2, 1, 1, 1, 1, 1, 1, 1, 3, 1, 1, 1, 1, 1, 1, 1, 2, 1, 1, 1, 1, 1, 2, 1, 1, 1, 1, 1, 1, 1, 1, 1, 1, 1, 1, 1, 1, 1, 1, 1, 1, 1, 1, 1, 1, 1, 1, 1, 1, 1, 1, 1, 2, 1, 2, 1, 2, 1, 1, 1, 1, 1, 1, 1, 1, 1, 1, 1, 1, 1, 1, 1, 1, 1, 1, 1, 2, 1, 1, 1, 1, 1, 1, 1, 1, 1, 1, 1, 2, 1, 1, 1, 1, 1, 1, 1, 2, 1, 1, 1, 1, 2, 1, 1, 1, 1, 1, 1, 1, 1, 1, 1, 1, 1, 1, 3, 1, 1, 1, 1, 1, 1, 1, 1, 1, 2, 1, 1, 1, 1, 1, 1, 1, 1, 1, 1, 1, 1, 1, 1, 1, 2, 1, 1, 1, 1, 2, 1, 2, 1, 1, 1, 1, 1, 1, 1, 1, 1, 1, 1, 1, 2, 1, 1, 2, 1, 1, 1, 2, 1, 1, 1, 1, 1, 1, 1, 2, 1, 1, 1, 1, 1, 1, 1, 1, 1, 1, 1, 1, 1, 1, 1, 1, 1, 1, 1, 2, 1, 1, 1, 1, 1, 1, 1, 1, 1, 1, 1, 1, 1, 1, 1, 2, 1, 1, 1, 1, 1, 1, 1, 1, 1, 1, 1, 1, 1, 1, 1, 1, 1, 1, 1, 1, 1, 1, 1, 1, 1, 3, 1, 1, 1, 1, 2, 1, 1, 1, 1, 1, 1, 1, 1, 2, 1, 1, 1, 1, 1, 1, 1, 1, 1, 1, 1, 1, 1, 1, 1, 1, 1, 1, 1, 1, 1, 1, 1, 4, 1, 1, 1, 1, 1, 1, 2, 1, 1, 1, 1, 1, 1, 1, 1, 1, 1, 2, 1, 1, 1, 1, 1, 1, 1, 1, 1, 1, 1, 1, 1, 1, 1, 1, 1, 1, 1, 1, 1, 1, 1, 1, 1, 1, 1, 1, 1, 1, 1, 1, 1, 1, 1, 1, 1, 1, 1, 1, 1, 1, 1, 1, 1, 1, 1, 2, 1, 1, 1, 1, 1, 1, 1, 1, 2, 1, 1, 1, 1, 1, 1, 1, 1, 1, 1, 1, 1, 1, 1, 1, 1, 2, 2, 1, 1, 1, 1, 1, 1, 1, 1, 1, 1, 1, 1, 1, 1, 2, 2, 2, 1, 1, 1, 1, 1, 1, 2, 1, 1, 1, 1, 1, 1, 1, 1, 1, 1, 1, 1, 1, 1, 1, 1, 1, 1, 1, 1, 1, 1, 1, 1, 1, 1, 2, 1, 1, 1, 1, 1, 1, 1, 1, 1, 1, 1, 1, 1, 1, 1, 1, 1, 1, 1, 1, 1, 1, 1, 1, 1, 1, 1, 1, 1, 1, 1, 1, 1, 1, 1, 1, 1, 1, 1, 1, 1, 1, 2, 1, 1, 1, 1, 1, 1, 1, 1, 1, 2, 1, 1, 1, 1, 1, 1, 1, 1, 1, 2, 1, 1, 1, 1, 1, 1, 1, 1, 1, 1, 1, 1, 1, 1, 2, 1, 1, 1, 1, 2, 2, 1, 1, 1, 1, 1, 1, 1, 1, 2, 1, 1, 1, 1, 1, 1, 1, 3, 1, 1, 1, 1, 1, 2, 2, 2, 1, 1, 1, 1, 1, 1, 1, 1, 1, 1, 1, 1, 1, 1, 1, 1, 1, 1, 1, 1, 1, 1, 1, 1, 1, 1, 1, 1, 1, 1, 1, 1, 2, 1, 1, 1, 1, 1, 1, 1, 1, 2, 1, 1, 1, 1, 1, 1, 1, 1, 1, 1, 1, 1, 1, 1, 1, 1, 1, 1, 1, 1, 1, 1, 1, 1, 1, 1, 1, 1, 1, 1, 1, 1, 1, 1, 1, 1, 2, 1, 1, 1, 1, 1, 1, 1, 1, 1, 1, 1, 1, 1, 1, 1, 1, 1, 1, 4, 1, 1, 1, 1, 1, 1, 1, 1, 1, 1, 1, 1, 1, 1, 1, 1, 1, 1, 1, 1, 1, 1, 1, 1, 1, 1, 1, 1, 1, 1, 1, 1, 1, 1, 1, 1, 1, 1, 1, 2, 1, 1, 1, 1, 1, 1, 3, 1, 1, 1, 1, 1, 1, 1, 1, 1, 1, 1, 1, 1, 1, 1, 1, 1, 1, 1, 1, 1, 1, 1, 1, 1, 1, 1, 1, 1, 1, 1, 1, 1, 1, 1, 1, 1, 1, 1, 1, 1, 1, 1, 1, 2, 1, 1, 1, 1, 1, 1, 1, 1, 1, 1, 2, 1, 1, 1, 1, 1, 1, 1, 1, 1, 1, 1, 1, 1, 1, 1, 1, 1, 1, 1, 1, 1, 1, 1, 1, 1, 1, 1, 1, 1, 1, 1, 1, 1, 1, 1, 1, 1, 1, 1, 1, 1, 1, 1, 1, 1, 1, 1, 1, 1, 1, 1, 1, 1, 1, 2, 2, 2, 1, 1, 1, 1, 1, 2, 1, 1, 1, 1, 1, 1, 1, 1, 1, 1, 1, 1, 1, 1, 1, 1, 1, 1, 1, 1, 1, 1, 1, 1, 1, 1, 1, 1, 1, 1, 1, 1, 2, 1, 1, 1, 1, 1, 1, 1, 1, 1, 1, 1, 1, 1, 2, 1, 1, 1, 2, 1, 2, 1, 1, 1, 1, 1, 2, 1, 1, 1, 1, 1, 1, 1, 2, 2, 1, 1, 1, 1, 1, 1, 1, 1, 1, 1, 1, 1, 1, 1, 1, 1, 1, 1, 1, 2, 2, 2, 3, 2, 2, 1, 1, 1, 1, 1, 1, 1, 1, 2, 1, 1, 1, 1, 1, 2, 1, 1, 1, 1, 1, 1, 1, 1, 1, 1, 1, 1, 1, 1, 1, 1, 1, 1, 1, 1, 1, 1, 1, 1, 1, 1, 1, 1, 1, 1, 1, 1, 1, 1, 1, 1, 1, 1, 1, 1, 1, 1, 1, 1, 2, 6, 6, 2, 2, 2, 2, 2, 2, 1, 1, 1, 1, 1, 1, 1, 1, 1, 1, 1, 1, 1, 1, 1, 1, 1, 1, 1, 1, 1, 1, 1, 1, 1, 1, 1, 1, 1, 1, 1, 2, 1, 1, 1, 1, 2, 1, 1, 1, 1, 1, 1, 1, 1, 1, 1, 1, 1, 1, 1, 1, 1, 1, 1, 1, 1, 1, 1, 1, 1, 1, 1, 1, 2, 1, 1, 1, 1, 1, 1, 1, 1, 1, 1, 1, 1, 1, 1, 1, 1, 1, 1, 1, 1, 1, 1, 1, 1, 1, 1, 1, 1, 1, 1, 1, 1, 1, 1, 1, 1, 1, 1, 1, 1, 1, 1, 1, 1, 1, 1, 1, 1, 1, 1, 1, 1, 1, 1, 1, 1, 1, 1, 1, 1, 1, 2, 1, 1, 1, 1, 1, 1, 1, 1, 1, 1, 2, 1, 1, 1, 1, 1, 1, 1, 1, 1, 1, 1, 1, 1, 1, 1, 1, 1, 1, 1, 1, 1, 1, 1, 1, 1, 1, 1, 1, 1, 1, 1, 1, 1, 1, 1, 1, 1, 1, 1, 1, 1, 1, 1, 1, 1, 1, 1, 1, 1, 1, 1, 1, 1, 1, 1, 1, 1, 1, 1, 1, 1, 1, 1, 1, 1, 1, 1, 1, 1, 1, 1, 1, 1, 1, 1, 1, 1, 1, 1, 1, 1, 1, 1, 1, 1, 1, 1, 1, 1, 1, 1, 1, 1, 1, 1, 1, 1, 1, 1, 1, 1, 1, 1, 1, 1, 1, 1, 1, 1, 1, 1, 1, 1, 1, 1, 1, 1, 1, 1, 1, 1, 1, 1, 1, 1, 1, 1, 1, 1, 1, 1, 1, 1, 1, 1, 1, 1, 1, 1, 1, 1, 1, 1, 1, 1, 1, 1, 1, 1, 1, 1, 1, 1, 1, 1, 1, 1, 1, 1, 1, 1, 1, 1, 1, 1, 1, 1, 1, 1, 1, 1, 1, 1, 1, 1, 1, 1, 1, 1, 1, 1, 1, 1, 1, 1, 1, 1, 1, 1, 1, 1, 1, 1, 1, 1, 1, 1, 1, 1, 1, 1, 1, 1, 1, 1, 1, 1, 1, 1, 1, 1, 1, 1, 1, 1, 1, 1, 1, 1, 1, 1, 1, 1, 1, 1, 1, 1, 1, 1, 1, 1, 1, 1, 1, 1, 1, 1, 1, 1, 1, 1, 1, 1, 1, 1, 1, 1, 1, 1, 1, 1, 1]\n"
     ]
    }
   ],
   "source": [
    "# determining the maximum value between 1 and the value of nij accent\n",
    "max_numerator = []\n",
    "for i in range(len(nij_aksen)):\n",
    "    temp = 0\n",
    "    temp = max(1, nij_aksen[i])\n",
    "    max_numerator.append(temp)\n",
    "print(max_numerator)\n"
   ]
  },
  {
   "cell_type": "code",
   "execution_count": 22,
   "metadata": {},
   "outputs": [
    {
     "name": "stdout",
     "output_type": "stream",
     "text": [
      "[1.09691, 0.77815, 1.14613, 1.27875, 1.14613, 0.5404, 0.8893, 0.74938, 1.21748, 0.97004, 1.23553, 1.14613, 1.06695, 0.60206, 0.53712, 0.60206, 0.8451, 0.7231, 1.14613, 0.41727, 1.34242, 0.47712, 0.77411, 1.17609, 1.19498, 0.69224, 0.47712, 0.716, 1.20412, 0.77815, 0.45426, 0.52543, 0.60206, 1.09108, 0.39522, 0.43117, 0.47712, 0.60206, 0.50595, 0.60206, 0.60206, 0.60206, 0.5237, 0.38275, 0.60206, 0.40147, 0.61979, 0.90908, 0.65527, 1.12494, 0.60206, 0.5563, 0.40115, 0.60206, 0.94201, 0.58358, 0.5563, 0.59336, 0.45175, 0.64098, 0.36269, 0.54701, 0.46991, 0.46115, 0.63682, 0.69897, 0.77815, 0.47712, 0.60206, 0.59686, 0.47712, 0.66901, 0.53148, 0.51004, 0.45593, 0.69897, 0.44716, 0.60206, 0.77815, 0.63237, 0.60206, 0.68831, 0.62302, 0.727, 0.6173, 0.55815, 0.47712, 0.8451, 0.39623, 0.96185, 1.47712, 0.50139, 1.14613, 0.97772, 0.59631, 0.86358, 0.52597, 0.79185, 0.57573, 0.46256, 0.60206, 0.71213, 0.45461, 0.77815, 1.11394, 1.43136, 0.83251, 0.52516, 0.5809, 1.50515, 0.54407, 0.90309, 0.48102, 1.20412, 0.46143, 0.5563, 0.87506, 1.11394, 0.91381, 0.52543, 0.53511, 0.39794, 0.74036, 0.52951, 0.60206, 0.54407, 0.60206, 0.42101, 0.41086, 0.51188, 0.50386, 0.40532, 0.61396, 0.3583, 0.5529, 0.89297, 0.67064, 1.01223, 0.8653, 0.81553, 1.0, 1.1271, 1.62325, 0.59423, 0.72139, 0.46344, 0.66737, 0.8293, 0.80163, 0.74819, 0.63202, 0.61142, 0.95707, 1.0, 1.0, 0.69272, 0.77432, 0.92348, 0.48073, 0.58549, 0.60206, 0.91645, 0.90309, 0.55209, 0.55859, 0.63682, 0.51705, 0.51188, 0.67923, 0.60504, 1.0, 0.61585, 0.63506, 0.54407, 0.90309, 0.77815, 0.50931, 0.52951, 0.47712, 0.46489, 0.92709, 0.60206, 0.67995, 0.69897, 0.58827, 0.50268, 0.93494, 0.61502, 0.4523, 0.60206, 0.60464, 0.79239, 0.72177, 0.60206, 0.48555, 0.63135, 0.90309, 0.90982, 0.64022, 0.49336, 0.8451, 0.65067, 0.53511, 0.78383, 0.62039, 0.56988, 0.62839, 0.52032, 0.47712, 0.60206, 1.30103, 1.13566, 0.49852, 0.77815, 0.76632, 1.59106, 1.01072, 0.81291, 0.99728, 0.4189, 0.43366, 1.38021, 0.98391, 0.34156, 0.41754, 0.60206, 0.74036, 0.8617, 0.80163, 0.69897, 0.60206, 0.47712, 0.60206, 0.87091, 0.56343, 0.86034, 0.41048, 0.43214, 0.41333, 0.48162, 0.97313, 0.70329, 0.90309, 0.57835, 0.42727, 0.73389, 0.54848, 0.54678, 0.8653, 0.55848, 0.90309, 0.54407, 0.66276, 0.54407, 0.60206, 0.55226, 0.67669, 0.55175, 0.38818, 0.60206, 0.34242, 0.60206, 0.47712, 0.90309, 1.21748, 0.60206, 1.07918, 1.0, 1.07918, 0.46772, 0.47712, 0.83885, 0.60206, 0.48518, 0.62325, 0.52874, 0.42597, 0.64098, 0.52995, 0.48555, 0.58392, 0.77815, 0.60206, 0.75795, 1.38021, 0.41486, 0.4538, 0.38866, 0.59029, 0.48036, 0.691, 1.41497, 1.32222, 1.0, 1.38021, 0.77815, 0.78711, 0.68124, 1.44716, 0.60206, 0.8293, 0.60206, 0.55351, 0.60206, 0.4624, 0.69897, 0.42597, 0.63682, 0.37953, 0.77815, 0.60206, 0.38021, 0.65155, 0.53148, 0.60206, 0.69897, 0.71321, 0.49485, 0.5293, 0.45537, 0.38679, 0.60206, 0.39794, 0.90309, 0.60206, 0.77815, 0.56343, 0.52871, 0.74036, 0.51499, 0.5721, 0.6173, 0.89526, 0.63273, 0.72946, 0.40249, 0.83614, 0.47712, 0.51663, 0.39559, 0.39794, 0.41497, 0.77815, 0.4155, 0.60206, 0.48245, 0.79588, 0.55091, 0.77815, 0.77815, 0.69897, 0.47712, 0.36798, 0.6173, 0.95424, 1.20412, 0.49601, 0.47712, 0.61932, 0.60206, 0.60206, 0.52059, 0.3928, 0.5563, 0.62081, 0.39794, 0.74473, 0.46009, 0.38535, 0.61278, 0.79239, 0.6596, 0.77815, 0.62839, 1.23045, 0.47712, 0.60206, 0.6089, 0.52763, 0.47712, 0.60206, 0.43544, 0.77815, 0.69135, 0.58263, 0.37566, 0.74689, 0.39794, 0.56585, 0.42597, 0.4437, 0.80987, 0.58983, 0.90309, 0.645, 0.79588, 1.04139, 0.85126, 0.42597, 0.53511, 0.76236, 0.68797, 0.77815, 0.65321, 0.61979, 0.51987, 0.60206, 0.40749, 0.54407, 0.79835, 0.38818, 0.64782, 0.41218, 0.63682, 0.41218, 0.49847, 0.52964, 0.60206, 0.60206, 0.75333, 0.73239, 0.46003, 0.44574, 0.61542, 0.51266, 0.47712, 0.43136, 0.4017, 0.77815, 0.77815, 1.0, 0.60206, 1.04139, 0.45774, 0.77815, 0.60206, 0.77815, 0.40749, 0.47712, 0.45782, 0.69897, 0.38818, 0.53572, 0.36318, 0.39794, 0.54407, 0.69897, 0.49351, 0.77815, 0.8451, 0.77815, 0.4811, 0.64345, 0.68942, 0.66901, 0.63478, 0.77815, 0.49415, 0.51344, 0.40073, 0.47712, 0.78711, 0.41185, 0.57139, 0.62839, 0.75967, 0.54407, 0.52504, 1.51851, 0.59134, 0.47712, 0.69897, 0.86671, 0.48572, 0.60206, 0.60206, 0.60206, 0.57403, 0.60206, 1.38021, 0.60206, 0.77815, 0.60206, 0.48337, 0.60206, 0.90309, 1.23045, 0.57403, 0.40937, 0.47712, 0.62218, 1.25527, 0.88461, 0.83251, 1.01223, 1.07918, 0.45529, 1.07918, 0.5411, 0.4437, 0.49781, 0.65321, 0.69897, 0.65525, 0.73239, 0.67669, 0.60206, 0.60606, 0.41017, 0.37291, 0.43725, 0.60206, 0.53839, 0.49292, 0.54407, 0.35218, 0.47297, 0.41017, 0.77815, 0.39794, 0.60206, 0.40783, 0.60206, 0.43933, 0.39794, 0.48749, 0.60206, 0.90309, 0.50293, 0.60206, 0.41996, 0.60206, 0.43787, 0.60544, 0.41913, 1.07918, 0.60206, 0.60206, 0.72016, 0.8451, 0.60206, 1.14613, 0.60206, 1.15635, 0.60206, 0.69897, 0.84182, 0.44314, 0.43933, 0.47712, 1.20412, 1.0, 0.60206, 0.44386, 0.42597, 0.727, 0.52576, 0.60206, 0.79239, 0.54574, 0.8451, 0.35218, 0.47712, 0.38899, 0.60206, 0.54407, 0.90309, 1.11394, 0.60206, 0.63891, 0.78837, 0.60708, 0.77815, 0.90309, 0.60206, 1.02119, 0.75333, 1.04139, 0.69897, 0.85733, 0.60206, 0.53148, 0.77815, 0.40369, 0.727, 0.77815, 0.74036, 0.95424, 0.8653, 0.90309, 1.06695, 0.81291, 0.81487, 0.5563, 0.54953, 0.47712, 0.47712, 0.90309, 0.60206, 0.60206, 0.48311, 0.47712, 0.69897, 0.60206, 0.54935, 0.42678, 0.52288, 0.47712, 0.42597, 0.68222, 0.62912, 1.27217, 1.04139, 0.47712, 0.60206, 0.69897, 0.60206, 0.8451, 0.69897, 1.11394, 0.42529, 0.79588, 0.60206, 0.77815, 1.45738, 0.57978, 0.66276, 0.85733, 0.60206, 0.76436, 0.69897, 0.67342, 1.25527, 0.60206, 0.43933, 0.38021, 0.34933, 0.36798, 0.37863, 0.91962, 0.60206, 0.53689, 1.64345, 1.55328, 0.60206, 0.8451, 0.61465, 1.25527, 0.7524, 0.60206, 0.38646, 1.43337, 0.47712, 1.0, 0.60206, 0.66901, 0.5563, 0.59476, 0.77815, 1.04139, 1.57978, 0.57978, 0.81291, 0.97772, 0.8451, 0.60206, 0.77815, 0.53148, 0.77815, 0.727, 0.76343, 0.90309, 0.58929, 0.66145, 0.8451, 0.69897, 0.67669, 0.77815, 0.53859, 1.0, 0.60206, 1.30103, 0.47192, 0.54407, 0.67139, 0.60206, 0.39794, 0.48532, 0.94612, 1.53908, 0.77815, 0.50931, 1.14613, 1.45637, 1.24715, 1.25527, 0.45522, 0.69518, 0.44624, 1.09691, 0.60206, 0.48467, 0.4624, 0.60206, 0.57403, 0.60206, 0.52634, 0.65321, 0.62325, 0.60206, 0.60206, 0.45047, 0.41218, 0.53485, 0.47712, 0.98528, 0.60206, 0.47712, 0.66901, 0.63682, 0.63682, 0.69897, 0.56673, 0.40016, 0.67669, 0.61662, 1.09691, 0.60206, 0.47712, 0.95424, 0.47712, 0.77815, 0.41814, 0.69897, 0.36798, 0.60206, 0.52288, 0.60206, 1.11394, 0.77815, 0.42597, 0.57978, 0.39104, 0.47129, 0.60206, 0.56427, 0.76592, 0.69897, 0.56427, 0.47712, 0.60206, 0.47712, 0.8653, 1.0607, 0.77815, 0.60206, 0.60206, 1.01424, 1.0, 0.69897, 0.60206, 0.60206, 0.60206, 0.60206, 0.8451, 0.95424, 0.91078, 0.60206, 0.90309, 0.90309, 0.60206, 0.67669, 0.77815, 0.60206, 0.60206, 0.60206, 0.60206, 0.90309, 0.60206, 0.60206, 0.90309, 0.60206, 0.60206, 0.47712, 0.60206, 0.47257, 0.72893, 0.32451, 0.83815, 1.14613, 0.46376, 1.07918, 0.60206, 0.56427, 1.26717, 0.47712, 0.56988, 0.60206, 0.35218, 0.79074, 0.8893, 0.57644, 0.70969, 0.48124, 0.66343, 0.64193, 0.90309, 0.60206, 0.80163, 0.8451, 0.67669, 0.90309, 0.655, 0.8451, 0.45975, 0.90309, 0.56427, 0.47712, 0.77815, 0.47712, 0.60206, 0.60206, 0.60206, 0.38021, 1.19033, 0.60206, 0.82391, 0.60206, 0.43544, 0.60206, 0.42597, 0.77815, 0.40577, 0.95424, 0.8451, 0.71321, 1.39794, 0.60206, 0.90309, 0.73753, 0.76176, 0.76343, 0.40457, 0.56988, 0.60206, 0.38598, 0.60206, 0.64345, 0.57978, 0.60206, 0.60206, 0.60206, 0.77815, 0.60206, 0.54407, 0.42597, 0.50515, 0.90309, 0.60206, 0.52288, 0.77815, 0.60206, 1.10551, 1.27875, 0.47712, 1.23045, 0.40937, 0.77815, 0.65321, 0.60206, 0.69897, 0.60206, 0.68425, 0.60206, 0.69897, 0.92942, 0.54407, 0.6084, 0.60206, 0.64218, 0.8451, 0.8451, 0.58246, 1.0, 1.25527, 0.87506, 1.20412, 1.17609, 0.47712, 0.52288, 0.69897, 0.35902, 0.60206, 0.69897, 0.47712, 0.46736, 0.53148, 0.47712, 0.65052, 0.47712, 0.42597, 0.42022, 0.60206, 0.39794, 0.46406, 0.60206, 0.41497, 0.44617, 0.47712, 0.60206, 0.60206, 0.90309, 0.60206, 0.77815, 0.60206, 0.60206, 0.50816, 0.69897, 0.54407, 0.62717, 0.47712, 1.34242, 0.60206, 0.60206, 0.81291, 0.77815, 0.58734, 0.95424, 1.16137, 0.77815, 0.60206, 0.60206, 0.60206, 0.60206, 0.60206, 0.72016, 0.39794, 0.54407, 0.38233, 0.60206, 0.50515, 1.04139, 0.76343, 0.97004, 0.83463, 1.34895, 0.60206, 0.60206, 0.60206, 0.69897, 0.90309, 0.43366, 0.75967, 0.54407, 0.80163, 0.77815, 0.77815, 0.95424, 0.60206, 1.32222, 0.79588, 0.77815, 0.60206, 0.60206, 0.66276, 0.60206, 0.79679, 0.90309, 0.60206, 0.60206, 0.60206, 1.12494, 0.77815, 0.91645, 0.92082, 0.38679, 0.44236, 0.60206, 0.52743, 0.60206, 0.60206, 0.384, 0.4945, 0.60206, 0.77815, 0.60206, 0.36798, 0.47712, 0.60206, 0.60206, 0.60206, 0.37879, 0.41972, 1.18564, 1.5563, 0.97772, 0.96614, 0.64345, 1.14613, 0.60206, 0.74473, 0.60206, 0.60206, 0.54407, 0.44552, 0.58358, 0.60206, 1.14613, 0.60206, 0.60206, 0.65321, 0.60206, 0.79005, 0.8451, 0.60206, 0.40577, 0.60206, 0.47712, 0.95424, 0.54407, 0.47712, 0.77815, 0.8451, 0.60206, 0.727, 0.77815, 0.62839, 0.60206, 1.53148, 0.74036, 0.52288, 0.60206, 0.61979, 0.8451, 0.71448, 0.47712, 0.77815, 0.75967, 0.99123, 0.42101, 0.77815, 0.69897, 0.90309, 0.54407, 0.77815, 0.5682, 0.60206, 0.60206, 0.66901, 0.36663, 0.44783, 0.59721, 0.46982, 0.90309, 0.62137, 0.60206, 0.8653, 0.97004, 1.04139, 1.24715, 0.60206, 1.07918, 0.727, 1.04139, 0.60206, 0.38818, 0.77815, 1.0569, 0.60206, 0.47712, 0.63682, 0.64626, 0.87506, 1.17609, 0.54407, 0.52288, 0.47712, 0.5673, 0.71247, 0.79835, 0.691, 0.38021, 1.14613, 0.95424, 0.60206, 0.63682, 0.94201, 0.90309, 0.63202, 0.51188, 0.60206, 0.60206, 0.60206, 0.60206, 0.60206, 0.60206, 0.60206, 0.60206, 1.27875, 0.60206, 0.95424, 0.60206, 0.60206, 0.60206, 1.04139, 0.47712, 0.60206, 0.60206, 0.77815, 0.60206, 0.38021, 0.42597, 1.17609, 0.41791, 0.59423, 0.59208, 0.76176, 0.60206, 0.39794, 0.47712, 0.77815, 1.04139, 0.54407, 0.77815, 0.54407, 0.65321, 0.77815, 1.0, 0.87091, 0.60206, 0.60206, 0.5708, 0.76769, 1.20022, 0.52288, 0.77815, 1.0, 0.69897, 0.60206, 1.39794, 0.57625, 0.77815, 0.42597, 1.13033, 0.90309, 0.69897, 0.60206, 0.67748, 0.90309, 0.60206, 0.8451, 0.60206, 0.60206, 0.77815, 0.60206, 0.47712, 0.77815, 0.60206, 0.59476, 0.60206, 0.4437, 0.39084, 0.60206, 0.50515, 0.35793, 1.04139, 0.69897, 0.8451, 0.53712, 0.66901, 0.69897, 1.07918, 0.8451, 0.77815, 0.60206, 0.46489, 0.69897, 0.77815, 0.74036, 0.77815, 0.64193, 0.60206, 0.5891, 0.46584, 0.60206, 0.60206, 0.60206, 0.60206, 0.90309, 0.77815, 0.60206, 0.45864, 0.60206, 0.8451, 0.47712, 0.60206, 0.77815, 0.60206, 0.55376, 0.34481, 0.50779, 0.42597, 0.68797, 0.8293, 0.52288, 0.87506, 0.95424, 0.69897, 0.72016, 1.16137, 0.90309, 1.07918, 0.90309, 0.60206, 0.59292, 0.77815, 0.60206, 0.90309, 0.60206, 0.47712, 0.75333, 1.07918, 0.60206, 0.60206, 0.69897, 0.60206, 0.5563, 0.64345, 0.60206, 0.47712, 0.95424, 0.5563, 0.47712, 0.69897, 0.60206, 0.60206, 0.60206, 0.60206, 0.60206, 1.17609, 0.60206, 0.65321, 0.60206, 0.60206, 0.60206, 0.51851, 0.47712, 0.37633, 0.42597, 0.43136, 0.42177, 0.90309, 0.90309, 1.0, 1.0, 0.76414, 1.0, 0.67342, 0.5563, 0.90309, 0.54407, 1.04139, 1.07918, 0.90309, 0.62325, 0.60206, 1.47712, 0.77815, 0.60206, 1.07918, 0.6173, 0.60206, 0.60206, 0.90309, 0.7231, 0.60206, 0.60206, 0.33882, 0.60206, 0.47712, 0.60206, 0.77815, 0.60206, 0.60206, 0.92942, 0.60206, 0.79835, 0.59208, 0.42276, 0.8451, 0.54407, 0.90309, 0.60206, 1.27875, 0.8451, 0.34343, 0.81291, 0.43933, 0.60206, 0.75333, 0.60206, 0.60206, 1.0, 0.90309, 0.91645, 0.8451, 1.20412, 0.41017, 0.60206, 0.77815, 0.47374, 0.60206, 0.60206, 0.8451, 0.90309, 0.47712, 0.60206, 0.60206, 0.63682, 0.60206, 0.49485, 0.77815, 0.60206, 0.87506, 0.34679, 0.36798, 0.57403, 0.60206, 0.60206, 0.60206, 0.60206, 1.17609, 0.56988, 0.42597, 0.60206, 0.36798, 1.23045, 0.51188, 0.33835, 0.60206, 0.77815, 0.4956, 0.45593, 0.60206, 0.60206, 0.36798, 0.46376, 0.90309, 0.42597, 0.64626, 1.09442, 0.97772, 0.79395, 0.50515, 0.90309, 0.60206, 0.8451, 0.58358, 0.95424, 0.60206, 0.43492, 0.83614, 1.19665, 0.8451, 0.44716, 0.56427, 1.0, 0.40804, 0.8451, 0.90309, 0.60206, 0.81291, 0.39121, 0.69897, 0.77815, 0.727, 0.60206, 0.47712, 0.55209, 0.6721, 0.34054, 0.69897, 0.55429, 0.77815, 0.35218, 0.42597, 0.60206, 0.60206, 0.60206, 1.50515, 0.44716, 0.74036, 0.44236, 0.60206, 0.60206, 0.60206, 0.63009, 0.41913, 0.77815, 0.60206, 0.60206, 0.95424, 0.60206, 0.56427, 0.47712, 0.60206, 0.60206, 0.77815, 0.62839, 0.50853, 0.69897, 0.53298, 0.77815, 0.60206, 0.77815, 0.95424, 0.60206, 0.60206, 0.67342, 0.60206, 0.77815, 0.77815, 0.45864, 0.77815, 1.07918, 0.8451, 0.59208, 0.77815, 0.52288, 0.77815, 0.38233, 0.61979, 0.60206, 0.77815, 0.45864, 1.07918, 1.29373, 1.23045, 0.66901, 0.60206, 0.38818, 0.90309, 0.8451, 0.55931, 0.54407, 0.43165, 0.60206, 0.60206, 0.39794, 0.60206, 0.60206, 0.73115, 0.69897, 0.44091, 0.60206, 0.60206, 0.60206, 1.04139, 0.57403, 0.8451, 1.11394, 0.95424, 0.50515, 0.60206, 0.60206, 1.4624, 0.60206, 0.52288, 0.47712, 0.51663, 0.43012, 0.47712, 0.55091, 0.66652, 1.13033, 0.77815, 0.8451, 0.92942, 0.60206, 0.8451, 1.11394, 1.0, 0.77815, 0.60206, 0.48509, 0.45738, 0.60206, 0.60206, 0.60206, 0.47712, 0.38021, 0.49732, 0.5601, 0.5563, 0.60206, 0.60206, 0.60206, 0.60206, 0.38021, 0.60206, 0.60206, 0.60206, 0.60206, 0.35072, 0.69897, 0.54407, 0.4994, 0.60206, 0.47712, 0.47712, 0.64345, 0.45975, 0.39794, 0.95424, 0.77815, 0.57724, 0.41173, 0.62378, 0.90309, 0.69897, 0.48636, 0.67669, 0.77815, 0.41017, 0.90309, 0.69897, 0.59208, 0.37291, 0.41017, 0.8451, 1.0, 0.67669, 0.69897, 1.43136, 0.60206, 0.47712, 0.47712, 0.33013, 0.77815, 1.04139, 0.77815, 0.39794, 0.87506, 0.37566, 0.77815, 0.47712, 1.07918, 1.50515, 0.727, 0.90309, 0.60206, 0.69897, 0.60206, 0.60206, 0.60206, 0.8451, 1.04922, 0.60206, 0.41017, 0.51188, 0.60206, 0.60206, 1.27875, 0.60206, 0.60206, 1.14613, 0.66165, 0.60206, 0.47712, 0.60206, 0.75333, 0.90309, 0.74036, 0.90309, 0.77815, 0.67669, 0.60206, 0.60206, 0.77815, 1.04139, 0.47712, 0.54407, 0.94448, 0.49732, 0.60206, 0.60206, 0.60206, 0.60206, 0.60206, 0.47712, 0.95424, 1.26717, 0.60206, 0.61979, 0.60206, 0.36798, 0.5336, 0.60206, 0.60206, 0.60206, 0.60206, 0.69897, 0.47712, 0.60206, 0.77815, 0.60206, 0.60206, 0.95424, 0.77815, 0.42464, 0.77815, 1.11394, 0.60206, 0.45653, 0.60206, 0.60206, 0.75967, 0.5006, 0.60206, 0.77815, 0.69897, 0.47712, 0.66901, 0.60206, 0.66901, 0.60206, 0.34726, 0.38535, 0.39794, 0.60206, 0.77815, 0.60206, 0.77815, 0.77815, 1.17609, 0.77815, 0.77815, 0.62839, 0.47712, 0.47712, 0.69897, 0.60206, 0.90309, 0.77815, 0.42022, 0.60206, 0.60206, 0.60206, 0.60206, 0.52288, 0.77815, 0.90309, 0.42597, 0.5563, 0.8451, 0.51188, 0.65321, 1.23045, 0.44658, 0.47712, 0.90309, 0.60206, 0.77815, 0.69897, 0.90309, 0.42597, 0.57403, 0.60206, 0.60206, 0.8451, 0.39794, 0.60206, 0.60206, 0.38535, 0.60206, 0.40577, 0.60206, 0.90309, 1.14613, 0.62839, 0.5563, 0.727, 1.36173, 0.60206, 0.69897, 0.77815, 0.42597, 0.77815, 0.60206, 0.60206, 1.04139, 0.60206, 0.60206, 0.41017, 0.60206, 0.60206, 0.60206, 0.60206, 0.51663, 0.60206, 0.60206, 0.51909, 0.38997, 0.60206, 0.92082, 0.47712, 0.60206, 0.36798, 0.42597, 0.47712, 0.60206, 0.60206, 0.60206, 0.60206, 0.55284, 0.90309, 0.45864, 0.60206, 0.60206, 0.69897, 0.60206, 1.20412, 0.42597, 0.47712, 0.77815, 0.60206, 0.66901, 0.56988, 1.07918, 1.07918, 0.77815, 0.95424, 0.77815, 0.60206, 0.60206, 0.90309, 0.88461, 0.42597, 0.60206, 0.35539, 0.43573, 0.69897, 0.95424, 0.47712, 0.60206, 0.48734, 0.60206, 0.38021, 0.60206, 0.60206, 0.42597, 0.34679, 0.8451, 0.77815, 0.69897, 0.54407, 1.14613, 0.40249, 0.69897, 0.77815, 1.14613, 0.69897, 0.60206, 0.64062, 0.88461, 0.60206, 0.60206, 0.716, 0.77815, 0.60206, 0.60206, 0.53872, 0.60206, 0.50515, 0.60206, 0.34679, 0.69897, 0.60206, 0.60206, 0.60206, 0.60206, 0.60206, 0.60206, 0.45186, 0.60206, 0.58627, 0.47712, 0.60206, 0.69897, 0.60206, 0.65321, 0.77815, 0.60206, 0.60206, 0.60206, 0.60206, 0.47712, 1.32222, 0.52288, 0.60206, 0.69897, 0.90309, 0.60206, 0.60206, 0.60206, 0.60206, 0.60206, 0.60206, 0.60206, 0.77815, 0.8451, 0.60206, 0.60206, 0.60206, 0.60206, 0.60206, 0.60206, 0.47712, 1.07918, 0.50515, 0.54407, 1.27875, 1.0, 0.8451, 0.77815, 0.60206, 0.60206, 0.47712, 0.60206, 0.43366, 0.90309, 0.60206, 0.5006, 0.56427, 0.60206, 0.60206, 0.69897, 0.66901, 0.60206, 0.716, 0.77815, 1.14613, 1.20412, 0.60206, 0.56988, 0.66005, 0.60206, 0.60206, 0.90309, 0.8451, 0.90309, 0.60206, 0.60206, 0.60206, 0.60206, 0.60206, 0.52288, 0.69897, 0.39794, 0.47712, 0.60206, 0.90309, 1.21748, 1.20412, 0.77815, 0.95424, 0.92082, 1.34242, 0.42597, 0.36798, 0.32123, 0.47712, 1.07918, 0.60206, 0.82391, 1.20412, 0.90309, 0.60206, 0.60206, 0.42597, 0.88461, 0.64098, 0.69314, 0.43933, 0.77815, 1.14613, 0.60206, 0.95424, 0.60206, 1.41497, 0.60206, 0.67669, 0.69897, 1.20412, 1.07918, 1.07918, 0.54407, 0.77815, 1.49136, 0.64626, 0.60206, 0.60206, 0.95424, 0.69897, 0.47712, 0.60206, 0.52288, 0.47712, 0.47712, 1.11394, 0.77815, 0.4523, 0.60206, 0.96379, 1.11394, 0.52597, 0.60206, 0.40577, 0.51953, 0.60206, 0.69897, 0.77815, 0.87918, 0.90309, 1.07918, 0.90309, 0.33321, 0.77815, 0.8451, 0.60206, 0.60206, 0.8451, 1.07918, 0.69897, 0.90309, 0.60206, 0.47308, 0.52288, 0.64235, 0.42882, 0.42597, 0.6173, 0.60206, 0.80618, 0.60206, 1.04139, 0.47712, 0.4326, 0.60206, 0.727, 1.14613, 0.7112, 0.69897, 0.37161, 0.77815, 0.60206, 0.33579, 0.60206, 0.60206, 0.90309, 0.74036, 0.44236, 0.47712, 0.77815, 0.77815, 0.47712, 1.23045, 0.3408, 0.52288, 0.66276, 0.34679, 1.07918, 0.63202, 0.90309, 0.77815, 0.77815, 0.90309, 0.55931, 1.02119, 0.46584, 0.57403, 1.04139, 0.60206, 0.60206, 0.60206, 0.37799, 0.60206, 0.47712, 0.90309, 0.77815, 0.39794, 0.37239, 0.8451, 0.60206, 0.60206, 0.90309, 1.14613, 0.46376, 0.60206, 0.60206, 0.44494, 0.90309, 0.50515, 0.60206, 0.90309, 0.5006, 0.47712, 1.04139, 0.60206, 1.14613, 0.69897, 0.41913, 0.60206, 0.41497, 0.69897, 0.60206, 0.42597, 0.60206, 0.79588, 0.33099, 0.45864, 0.47712, 0.60206, 0.43366, 0.47712, 0.77815, 0.77815, 0.51188, 0.48311, 1.09691, 0.60206, 0.60206, 0.60206, 1.0, 0.60206, 0.65321, 0.3739, 0.42597, 0.53511, 0.60206, 0.60206, 0.8451, 1.07918, 0.60206, 0.42597, 0.47712, 0.61278, 0.74036, 0.52827, 0.4437, 0.69897, 0.34679, 0.8451, 0.90309, 0.97772, 0.63071, 0.60206, 0.69897, 0.35902, 0.60206, 0.60206, 0.60206, 1.14613, 0.69897, 0.60206, 0.60206, 0.60206, 0.51491, 0.90309, 0.46161, 0.60206, 1.0, 0.60206, 0.47712, 0.69897, 0.52288, 0.37566, 0.35655, 0.60206, 0.90309, 0.90309, 0.94939, 0.77815, 0.62325, 0.77815, 0.51188, 0.60206, 0.81291, 0.8451, 0.60206, 0.60206, 0.60206, 0.60206, 0.77815, 0.60206, 0.60206, 0.60206, 0.47712, 0.60206, 0.47712, 0.60206, 0.50515, 1.0, 1.0, 0.95424, 0.90309, 0.90309, 0.65321, 0.413, 0.66901, 0.60206, 0.38021, 0.60206, 0.39794, 0.60206, 0.60206, 0.60206, 0.60206, 0.60206, 1.0, 0.60206, 0.35902, 0.47712, 0.95424, 0.69897, 0.65321, 0.60206, 0.60206, 0.47712, 0.60206, 0.38021, 1.44716, 0.77815, 0.47712, 0.60206, 0.60206, 0.47712, 1.51851, 0.60206, 0.69897, 0.90309, 0.60206, 0.47712, 0.60206, 0.60206, 0.69897, 0.90309, 0.47712, 0.60206, 0.60206, 0.69897, 1.0, 0.73239, 0.60206, 0.60206, 0.60206, 0.69897, 0.60206, 0.98528, 0.47712, 0.47712, 0.60206, 0.38818, 0.60206, 0.61979, 0.65321, 0.8451, 0.60206, 0.33321, 0.47712, 0.60206, 0.60206, 0.8451, 1.07918, 0.38021, 0.33694, 0.43366, 0.60206, 0.55091, 0.34933, 0.34664, 0.38322, 0.52288, 0.60206, 0.60206, 0.51491, 0.36938, 0.77815, 0.60206, 0.60206, 0.60206, 0.47712, 0.60206, 0.47712, 0.60206, 0.69897, 0.65321, 1.10266, 0.727, 0.60206, 0.4523, 0.60206, 0.77815, 0.60206, 0.60206, 0.60206, 0.80163, 0.8451, 0.60206, 0.60206, 0.60206, 0.69897, 0.90309, 0.8451, 0.60206, 1.32222, 0.90309, 0.77815, 1.14613, 0.47712, 0.36173, 0.8451, 1.36173, 0.60206, 0.39794, 0.47712, 0.60206, 0.69897, 0.60206, 0.39794, 0.57403, 0.60206, 0.43933, 0.60206, 0.34378, 0.60206, 0.60206, 0.90309, 0.60206, 0.60206, 0.90309, 0.69897, 0.77815, 0.5006, 0.91645, 1.07918, 0.47712, 0.60206, 0.77815, 0.39794, 0.47712, 0.60206, 0.60206, 0.60206, 0.42597, 0.60206, 0.69897, 0.37513, 1.04139, 0.60206, 0.33882, 0.47712, 0.3608, 0.44716, 0.37566, 1.0, 0.65321, 1.0, 0.54407, 0.60206, 0.60206, 0.38021, 0.38021, 0.77815, 0.60206, 0.41497, 0.39259, 0.47712, 0.60206, 0.60206, 0.69897, 0.77815, 0.67342, 0.34242, 0.60206, 0.60206, 0.69897, 0.60206, 0.64345, 0.47712, 0.58358, 0.60206, 0.47712, 0.60206, 0.90309, 1.81954, 0.90309, 0.69897, 0.60206, 0.60206, 0.60206, 0.52288, 0.60206, 1.14613, 0.60206, 0.69897, 0.69897, 0.908, 0.69897, 0.31362, 0.60206, 0.60206, 0.60206, 0.36798, 0.77815, 0.60206, 0.69897, 0.47712, 0.90309, 0.60206, 0.60206, 0.60206, 0.60206, 0.90309, 0.77815, 0.60206, 0.80163, 0.51188, 0.90309, 0.60206, 0.60206, 1.43669, 0.54407, 0.60206, 0.60206, 0.63682, 0.33775, 0.47712, 0.47712, 0.47712, 1.07918, 0.77815, 1.0, 0.77815, 0.60206, 0.5563, 0.8873, 0.38021, 0.57403, 0.47712, 0.60206, 0.47712, 0.60206, 0.47712, 0.69897, 0.60206, 0.60206, 0.60206, 0.69897, 0.50515, 0.60206, 0.90309, 0.60206, 0.60206, 0.60206, 0.8451, 0.47712, 0.8653, 0.69897, 0.60206, 0.60206, 0.60206, 0.60206, 1.0, 0.60206, 0.60206, 0.60206, 1.0, 0.97772, 1.0, 0.8451, 0.77815, 0.95424, 0.77815, 0.77815, 1.0, 1.23045, 1.0, 0.77815, 0.60206, 0.47712, 0.43136, 0.60206, 0.60206, 0.60206, 0.77815, 0.47712, 0.60206, 0.60206, 1.0, 0.42597, 0.47712, 0.77815, 0.52288, 0.60206, 0.47712, 0.60206, 0.413, 0.47712, 0.60206, 0.60206, 0.60206, 0.60206, 0.60206, 0.60206, 0.60206, 0.69897, 0.69897, 0.58983, 0.60206, 0.69897, 0.90309, 1.07918, 0.77815, 0.60206, 0.60206, 0.60206, 0.35025, 0.47712, 0.77815, 0.39794, 0.47712, 0.64782, 0.90309, 0.75967, 0.47712, 0.60206, 0.53148, 0.60206, 0.60206, 1.0, 0.60206, 0.60206, 0.33579, 0.47712, 0.57403, 0.47712, 0.60206, 0.77815, 0.40627, 0.92942, 0.42597, 0.42597, 0.42597, 0.77815, 0.60206, 0.77815, 0.60206, 0.60206, 0.52288, 0.60206, 0.60206, 0.60206, 0.47712, 0.77815, 0.47049, 0.35902, 0.77815, 0.47712, 0.60206, 0.75696, 0.51663, 0.60206, 0.77815, 0.69897, 0.60206, 0.69897, 0.4523, 0.39794, 0.60206, 0.60206, 0.60206, 1.04139, 0.47712, 1.0, 0.60206, 0.69897, 0.60206, 0.60206, 0.47712, 0.3365, 0.77815, 0.60206, 1.22185, 0.60206, 0.60206, 0.95424, 0.75333, 0.65321, 0.60206, 0.77815, 0.33099, 0.47712, 0.39445, 0.47712, 0.60206, 0.35218, 1.0, 0.41961, 0.60206, 0.36798, 0.65321, 0.60206, 0.32906, 0.39794, 0.60206, 0.39794, 0.60206, 0.60206, 0.8451, 0.60206, 0.60206, 0.77815, 0.60206, 0.41497, 0.53148, 0.63682, 0.60206, 0.90309, 0.81291, 0.60206, 0.60206, 0.60206, 0.60206, 0.60206, 0.60206, 0.60206, 0.47712, 0.60206, 0.60206, 0.60206, 0.60206, 0.60206, 0.60206, 0.60206, 0.60206, 0.35218, 0.36798, 0.60206, 0.60206, 0.41017, 0.38021, 0.60206, 0.33321, 0.60206, 0.60206, 0.69897, 0.60206, 0.42597, 0.31774, 0.60206, 0.90309, 0.33579, 1.0, 0.49009, 0.60206, 1.13033, 0.60206, 0.77815, 0.60206, 0.69897, 0.60206, 0.60206, 0.90309, 0.49732, 0.60206, 0.47712, 0.62839, 0.60206, 0.60206, 0.69897, 0.60206, 0.60206, 0.60206, 0.60206, 0.65321, 0.38021, 0.60206, 1.47712, 0.8451, 0.47712, 0.57403, 0.77815, 0.90309, 0.77815, 0.90309, 0.77815, 0.77815, 0.42597, 0.60206, 0.4236, 0.37446, 0.69897, 0.90309, 0.60206, 0.60206, 0.47712, 0.60206, 0.60206, 0.60206, 0.35218, 0.60206, 0.60206, 0.58358, 0.47712, 0.60206, 1.07918, 0.60206, 0.60206, 0.60206, 0.60206, 1.04139, 0.47712, 0.66005, 0.57403, 0.60206, 0.52288, 0.36798, 0.39378, 0.77815, 0.37566, 0.60206, 0.60206, 0.60206, 0.60206, 0.60206, 0.60206, 0.77815, 0.77815, 0.60206, 0.60206, 0.47712, 0.47712, 0.60206, 0.77815, 0.60206, 1.11394, 0.60206, 0.60206, 0.52288, 0.60206, 0.47712, 0.81291, 0.39794, 0.8451, 0.60206, 0.47712, 0.60206, 0.95424, 0.47712, 0.49732, 0.60206, 1.34242, 0.60206, 0.8451, 0.42597, 0.60206, 0.77815, 0.60206, 0.49292, 1.0, 0.77815, 0.38021, 0.35655, 0.60206, 1.14613, 0.69897, 0.60206, 0.60206, 0.60206, 0.60206, 0.41497, 0.36597, 0.60206, 0.39794, 0.77815, 0.60206, 0.60206, 0.47712, 0.60206, 0.60206, 0.47712, 0.39794, 0.60206, 1.14613, 0.90309, 0.60206, 0.47712, 0.60206, 0.62325, 0.47712, 0.3928, 0.60206, 0.69897, 0.60206, 0.60206, 0.60206, 1.14613, 0.49732, 0.42597, 0.60206, 0.32818, 0.69897, 0.60206, 0.60206, 0.60206, 0.60206, 0.33835, 0.60206, 0.60206, 0.64345, 0.60206, 0.60206, 0.43933, 0.60206, 0.60206, 0.60206, 1.0, 0.60206, 0.33321, 0.60206, 0.47712, 0.42597, 0.42597, 0.60206, 0.38021, 0.60206, 0.60206, 0.60206, 0.60206, 0.60206, 0.60206, 0.65321, 0.67139, 0.69897, 0.60206, 0.60206, 0.92942, 0.77815, 0.77815, 0.77815, 0.69897, 0.60206, 0.37742, 0.47712, 0.60206, 0.77815, 0.38021, 0.87506, 0.60206, 0.77815, 0.39794, 0.77815, 0.77815, 0.69897, 0.90309, 0.77815, 0.66901, 0.82391, 0.37358, 0.39794, 0.47712, 0.60206, 0.60206, 0.60206, 0.60206, 0.60206, 0.77815, 0.60206, 0.60206, 0.47712, 0.60206, 0.60206, 0.60206, 0.60206, 0.60206, 0.47712, 0.47712, 0.47712, 0.68638, 0.60206, 0.60206, 0.60206, 0.60206, 0.90309, 0.60206, 0.47712, 0.90309, 1.04139, 0.69897, 0.60206, 0.60206, 0.41497, 0.90309, 0.44494, 0.77815, 0.62325, 0.77815, 0.77815, 0.65321, 0.60206, 0.90309, 0.60206, 0.60206, 0.60206, 0.60206, 0.36798, 0.90309, 0.60206, 0.43933, 0.44716, 0.42597, 0.77815, 0.47712, 0.43933, 0.63682, 0.39794, 0.77815, 0.69897, 0.69897, 0.44716, 0.69897, 0.47712, 0.47712, 0.47712, 0.52288, 0.77815, 0.90309, 0.60206, 0.60206, 1.01424, 1.14613, 0.60206, 0.60206, 0.52288, 0.47712, 0.60206, 0.60206, 0.60206, 0.44716, 0.49009, 0.39794, 0.60206, 0.69897, 0.60206, 0.75333, 0.60206, 0.60206, 0.57403, 0.60206, 0.77815, 0.60206, 0.42597, 0.77815, 0.47712, 1.0, 1.0, 0.60206, 0.77815, 0.60206, 0.58827, 0.60206, 0.60206, 1.0, 0.60206, 0.60206, 0.60206, 0.47712, 0.69897, 0.60206, 0.42597, 0.60206, 0.90309, 0.90309, 0.47712, 0.74036, 0.48812, 0.32123, 0.47712, 0.60206, 0.60206, 0.60206, 0.60206, 0.60206, 0.60206, 0.77815, 1.19033, 0.69897, 0.57403, 0.90309, 0.60206, 0.60206, 0.34367, 1.0, 0.51188, 0.60206, 0.60206, 0.77815, 0.60206, 0.60206, 0.60206, 0.60206, 0.77815, 0.77815, 0.90309, 0.90309, 0.60206, 0.60206, 0.60206, 0.90309, 0.60206, 0.60206, 0.38021, 0.95424, 0.47712, 0.60206, 0.37358, 0.60206, 0.40206, 0.74036, 0.47712, 0.47712, 0.60206, 0.69897, 0.60206, 0.60206, 0.69897, 0.36255, 0.60206, 0.60206, 0.42101, 0.42597, 0.47712, 0.727, 0.51851, 0.42597, 0.60206, 0.77815, 0.60206, 1.07918, 0.47712, 0.60206, 0.60206, 0.47712, 0.69897, 0.60206, 0.60206, 0.60206, 0.60206, 0.42597, 0.60206, 0.60206, 0.60206, 0.60206, 0.47712, 0.8451, 0.47712, 0.60206, 0.69897, 0.42597, 0.63682, 0.60206, 0.60206, 0.60206, 0.60206, 0.69897, 1.25527, 1.0, 0.47712, 0.4523, 0.60206, 0.69897, 0.33775, 0.53511, 0.69897, 0.37358, 0.54407, 0.60206, 0.44716, 0.69897, 0.95424, 1.17609, 0.65321, 0.42597, 1.0, 0.60206, 0.60206, 0.60206, 0.72016, 0.60206, 0.38155, 0.77815, 0.8451, 0.47712, 0.47712, 0.75333, 0.60206, 0.60206, 0.60206, 0.60206, 0.47712, 0.34242, 0.60206, 0.60206, 0.39794, 0.77815, 0.77815, 0.60206, 0.47712, 0.39794, 0.60206, 0.36318, 0.36798, 0.77815, 0.60206, 0.47712, 0.77815, 0.42597, 0.60206, 0.60206, 0.66901, 0.60206, 0.47712, 0.60206, 0.60206, 0.60206, 0.60206, 0.60206, 0.60206, 0.60206, 1.14613, 0.77815, 1.11394, 0.60206, 0.77815, 0.60206, 0.60206, 0.60206, 0.60206, 0.60206, 0.60206, 0.35218, 0.60206, 0.60206, 0.60206, 0.60206, 0.47712, 0.60206, 0.48902, 0.90309, 1.14613, 0.69897, 0.5006, 0.60206, 0.47712, 0.60206, 0.47712, 0.54407, 0.69897, 0.60206, 0.60206, 0.60206, 0.54407, 0.60206, 0.60206, 0.60206, 0.60206, 0.60206, 0.60206, 0.60206, 0.60206, 0.60206, 0.47712, 0.60206, 0.60206, 0.77815, 0.47712, 0.8451, 0.60206, 1.0, 0.77815, 0.60206, 0.77815, 0.39794, 0.47712, 0.54407, 0.60206, 0.60206, 0.41497, 0.47712, 0.60206, 0.47712, 0.47712, 0.60206, 0.95424, 0.90309, 0.33099, 0.60206, 0.60206, 0.60206, 0.60206, 0.47712, 0.47712, 0.74036, 0.60206, 0.60206, 0.69897, 0.60206, 0.60206, 0.60206, 0.60206, 0.47712, 0.38021, 0.75333, 0.77815, 0.60206, 0.60206, 0.60206, 0.60206, 0.60206, 0.69897, 0.33099, 0.60206, 1.04139, 0.60206, 0.77815, 0.60206, 1.0, 1.14613, 0.60206, 0.4327, 0.77815, 0.90309, 0.60206, 0.74036, 0.60206, 0.47712, 0.60206, 0.60206, 0.90309, 0.60206, 0.34242, 0.60206, 0.69897, 0.60206, 0.69897, 0.60206, 1.0, 0.60206, 0.60206, 0.60206, 1.0, 0.53927, 0.60206, 0.77815, 0.77815, 0.62839, 0.60206, 0.60206, 0.35218, 0.38021, 0.60206, 0.42597, 0.47712, 0.60206, 0.38021, 0.32585, 0.60206, 0.47085, 0.8451, 0.60206, 0.47712, 0.60206, 0.77815, 0.60206, 0.75333, 0.44091, 0.77815, 0.55209, 0.69897, 0.60206, 0.54407, 0.60206, 0.60206, 0.47712, 0.60206, 0.60206, 1.07918, 0.60206, 0.60206, 0.77815, 0.60206, 0.60206, 0.60206, 0.60206, 0.60206, 0.60206, 0.47712, 0.39378, 0.60206, 0.43933, 0.60206, 0.47712, 0.60206, 0.60206, 0.60206, 0.35902, 0.69897, 0.77815, 0.95424, 1.0, 1.0, 1.0, 1.0, 0.52288, 0.60206, 0.69897, 0.60206, 0.69897, 0.52288, 1.0, 1.17609, 0.60206, 0.90309, 0.47712, 0.60206, 0.77815, 0.42597, 0.60206, 0.60206, 0.38021, 1.25527, 0.60206, 0.60206, 0.69897, 0.60206, 0.47712, 0.35218, 0.60206, 0.52288, 0.60206, 0.62839, 1.41497, 0.8451, 0.60206, 0.47712, 0.47712, 0.60206, 0.33882, 0.38021, 0.77815, 0.90309, 0.60206, 0.60206, 0.60206, 0.69897, 0.97772, 0.52681, 0.90309, 0.36549, 0.60206, 0.60206, 0.60206, 0.65321, 0.60206, 0.60206, 0.60206, 0.60206, 0.8451, 0.95424, 0.38021, 0.47712, 0.47712, 0.50515, 0.38021, 0.60206, 0.60206, 0.47712, 0.95424, 0.60206, 0.60206, 0.60206, 0.42597, 0.47712, 0.60206, 0.60206, 0.47712, 0.47712, 0.54407, 0.60206, 0.77815, 0.60206, 0.77815, 0.43366, 0.60206, 0.77815, 0.52288, 0.60206, 0.60206, 0.60206, 0.60206, 0.60206, 0.60206, 0.60206, 0.47712, 0.60206, 0.39794, 0.60206, 0.47712, 0.60206, 0.60206, 0.60206, 0.60206, 0.42597, 0.69897, 0.60206, 0.60206, 0.56427, 0.47712, 0.60206, 0.60206, 0.8451, 0.69897, 0.90309, 0.8451, 0.90309, 0.47712, 0.47712, 0.42597, 0.60206, 0.60206, 0.60206, 0.38021, 0.60206, 0.51188, 0.60206, 0.69897, 0.8451, 0.77815, 0.60206, 0.60206, 0.60206, 0.96614, 0.69897, 0.77815, 0.47712, 0.60206, 1.0, 0.60206, 0.77815, 0.60206, 0.69897, 0.60206, 0.77815, 0.60206, 0.77815, 0.47712, 0.60206, 0.90309, 0.42597, 0.47712, 0.4523, 0.60206, 0.60206, 0.60206, 0.41017, 0.8451, 0.47712, 0.60206, 0.31261, 0.60206, 0.60206, 0.60206, 0.60206, 0.69897, 0.47712, 0.69897, 0.8451, 0.60206, 0.56067, 0.47712, 0.60206, 0.60206, 0.60206, 0.60206, 0.38021, 0.8451, 0.47712, 1.0, 0.77815, 0.77815, 0.60206, 0.66005, 0.46736, 0.60206, 0.90309, 0.60206, 0.77815, 0.60206, 0.60206, 0.77815, 0.47712, 1.20412, 0.39794, 0.60206, 0.60206, 0.90309, 0.60206, 0.60206, 0.90309, 0.60206, 0.51663, 0.60206, 0.60206, 0.77815, 0.65321, 0.47712, 0.52681, 0.60206, 0.37566, 0.42597, 0.8451, 0.42597, 0.38021, 0.58358, 0.69897, 0.60206, 0.69897, 0.60206, 0.60206, 0.77815, 0.47712, 0.60206, 0.60206, 0.60206, 0.60206, 0.60206, 0.60206, 0.35902, 0.47712, 0.67041, 0.56889, 0.69897, 0.69897, 0.60206, 0.60206, 0.60206, 0.60206, 0.60206, 0.42597, 0.77815, 0.60206, 0.47712, 0.77815, 0.47712, 1.07918, 0.77815, 0.77815, 0.60206, 0.41497, 0.35218, 0.40302, 0.60206, 0.31326, 1.02119, 0.69897, 0.60206, 0.60206, 0.60206, 0.60206, 0.60206, 0.77815, 0.60206, 0.60206, 0.77815, 0.60206, 0.60206, 0.47712, 0.60206, 0.60206, 0.8451, 0.47712, 0.60206, 0.60206, 0.42597, 0.47712, 0.77815, 0.47712, 0.47712, 0.47712, 0.47712, 0.47712, 0.47712, 0.60206, 0.47712, 0.47712, 0.60206, 0.47712, 0.49485, 0.60206, 0.60206, 0.60206, 0.38997, 0.60206, 0.44716, 0.47712, 0.60206, 0.39794, 0.60206, 0.60206, 0.60206, 0.60206, 0.60206, 0.69897, 0.60206, 0.60206, 0.47712, 0.60206, 0.39794, 0.60206, 0.60206, 0.60206, 0.60206, 0.38021, 0.8451, 0.60206, 0.42597, 0.60206, 0.77815, 0.57978, 0.54407, 0.60206, 0.60206, 0.42597, 0.47712, 0.60206, 0.77815, 0.60206, 1.14613, 0.60206, 0.41017, 0.60206, 0.60206, 0.77815, 0.60206, 0.60206, 0.39415, 0.39794, 0.44165, 0.60206, 0.60206, 0.60206, 0.60206, 0.77815, 0.60206, 0.60206, 0.95424, 0.69897, 0.74036, 0.60206, 0.63682, 0.60206, 0.60206, 1.0, 0.69897, 0.60206, 0.60206, 0.47712, 0.60206, 0.60206, 0.47712, 0.60206, 0.60206, 0.54407, 0.47712, 0.47712, 0.60206, 0.60206, 0.60206, 0.60206, 0.60206, 0.60206, 0.60206, 0.60206, 0.60206, 0.41017, 0.60206, 0.60206, 0.41017, 0.60206, 0.60206, 0.60206, 0.60206, 0.60206, 0.47712, 0.60206, 0.39794, 0.60206, 0.60206, 0.40577, 0.77815, 0.52951, 0.47712, 0.60206, 0.43366, 0.47712, 0.60206, 0.60206, 0.60206, 0.60206, 0.60206, 0.60206, 0.60206, 0.60206, 0.41017, 0.60206, 0.69897, 0.60206, 0.42597, 0.43933, 0.60206, 0.60206, 0.60206, 0.60206, 0.74036, 0.60206, 0.42597, 0.60206, 0.60206, 0.42597, 0.60206, 0.77815, 0.60206, 0.60206, 0.42597, 0.57403, 0.60206, 0.60206, 0.60206, 0.60206, 0.40577, 0.60206, 0.60206, 0.60206, 0.60206, 0.60206, 0.47712, 0.60206, 0.60206, 0.77815, 0.42597, 0.60206, 0.38021, 0.60206, 0.50515, 0.60206, 0.60206, 0.60206, 0.60206, 0.60206, 0.35218, 0.60206, 1.39794, 0.60206, 0.60206, 0.60206, 0.60206, 0.69897, 0.60206, 0.60206, 0.60206, 0.60206, 0.60206, 0.60206, 0.60206, 0.77815, 0.60206, 0.69897, 0.8451, 0.60206, 0.60206, 0.39794, 0.69897, 0.60206, 0.60206, 0.60206, 0.67669, 0.44945, 0.77815, 0.60206, 0.82391, 0.77815, 0.77815, 0.47712, 0.60206, 0.47712, 0.60206, 0.60206, 0.54407, 0.60206, 0.60206, 0.60206, 0.60206, 0.60206, 0.60206, 0.60206, 0.60206, 0.69897, 0.60206, 0.60206, 0.41497, 0.60206, 0.60206, 0.60206, 0.60206, 0.60206, 0.60206, 0.60206, 0.60206, 0.69897, 0.90309, 0.4437, 0.60206, 0.62839, 0.90309, 0.60206, 0.60206, 0.47712, 0.60206, 0.35218, 0.39794, 0.60206, 0.60206, 0.69897, 0.38818, 0.39794, 0.54407, 0.60206, 0.60206, 0.69897, 0.60206, 0.60206, 0.60206, 0.47712, 0.60206, 0.77815, 0.60206, 0.42597, 0.60206, 0.60206, 0.77815, 0.39794, 0.60206, 0.54407, 0.60206, 0.60206, 0.47712, 0.60206, 0.47712, 0.47712, 0.60206, 0.60206, 0.60206, 0.60206, 0.49732, 0.60206, 1.0, 0.60206, 0.47712, 1.0, 0.60206, 1.30103, 0.60206, 0.60206, 0.47712, 0.8451, 0.77815, 0.56988, 0.47712, 0.60206, 0.60206, 0.58627, 0.44909, 0.60206, 0.60206, 0.34679, 0.47712, 0.60206, 1.0, 0.60206, 0.60206, 0.66901, 0.36798, 0.60206, 0.60206, 0.35902, 0.47712, 0.60206, 0.52288, 0.47712, 0.47712, 0.60206, 0.60206, 0.8451, 0.51851, 0.39794, 0.36798, 0.60206, 0.60206, 0.60206, 0.60206, 0.60206, 0.60206, 0.60206, 0.60206, 0.47712, 0.90309, 0.37358, 0.60206, 1.07918, 0.77815, 0.60206, 0.60206, 0.60206, 0.60206, 0.47712, 0.60206, 0.60206, 0.42597, 0.60206, 0.90309, 0.90309, 0.77815, 0.60206, 0.60206, 0.60206, 0.38021, 0.41017, 0.60206, 0.60206, 1.0, 0.8451, 0.42597, 0.60206, 0.60206, 0.47712, 0.60206, 0.60206, 0.60206, 0.47712, 0.39794, 0.39794, 0.69897, 0.32986, 0.42597, 0.60206, 0.60206, 0.60206, 0.60206, 0.60206, 0.47712, 0.60206, 0.60206, 0.60206, 0.60206, 0.60206, 0.42597, 0.60206, 0.60206, 0.90309, 0.69897, 0.34242, 0.47712, 1.0, 0.60206, 0.47712, 1.0, 0.60206, 0.41913, 0.60206, 0.60206, 0.60206, 0.47712, 0.42597, 0.69897, 0.60206, 0.60206, 0.60206, 0.47712, 0.77815, 0.60206, 0.52288, 0.60206, 0.60206, 0.60206, 0.77815, 0.39794, 0.42597, 0.33579, 0.39794, 0.60206, 0.65321, 0.60206, 0.60206, 0.60206, 0.42597, 0.90309, 0.90309, 0.60206, 0.60206, 0.60206, 0.60206, 0.60206, 0.8451, 0.60206, 0.60206, 1.32222, 0.60206, 0.39378, 0.60206, 0.60206, 1.04139, 0.38021, 0.35902, 0.60206, 0.77815, 0.60206, 0.60206, 0.52288, 0.77815, 0.80618, 0.79005, 1.07918, 0.60206, 0.77815, 0.60206, 0.60206, 0.56427, 1.17609, 0.47712, 0.60206, 0.62839, 0.77815, 0.60206, 0.60206, 0.60206, 0.52827, 0.47712, 0.60206, 0.60206, 0.51188, 0.60206, 0.60206, 1.0, 0.47712, 0.77815, 0.62839, 0.60206, 0.60206, 0.47712, 0.60206, 0.51188, 0.60206, 0.47712, 0.60206, 0.42597, 0.60206, 0.60206, 0.47712, 0.60206, 0.60206, 0.60206, 0.60206, 0.77815, 0.60206, 0.32331, 0.90309, 0.60206, 0.37645, 0.77815, 0.47712, 0.60206, 0.60206, 0.60206, 0.42597, 0.60206, 0.90309, 0.51188, 0.33321, 0.60206, 0.60206, 0.60206, 0.77815, 0.60206, 0.90309, 0.60206, 0.60206, 0.60206, 0.47712, 0.60206, 0.60206, 0.60206, 0.90309, 0.95424, 0.77815, 0.60206, 0.34988, 0.38021, 0.60206, 0.46073, 0.49136, 0.60206, 0.60206, 0.35902, 0.37742, 0.42597, 0.42597, 0.60206, 0.77815, 0.38021, 0.60206, 0.77815, 0.49732, 0.77815, 0.77815, 0.60206, 0.60206, 0.60206, 0.69897, 0.60206, 0.42597, 0.8451, 0.60206, 0.42597, 0.44716, 0.60206, 0.60206, 0.60206, 0.69897, 0.60206, 0.69897, 0.47712, 0.69897, 0.60206, 0.60206, 1.25527, 0.52288, 0.8451, 0.8451, 0.8451, 0.60206, 0.60206, 0.81291, 0.60206, 0.90309, 0.45593, 0.77815, 0.60206, 0.47712, 0.60206, 0.60206, 0.60206, 0.69897, 0.95424, 0.47712, 0.60206, 0.8451, 0.47712, 0.47712, 0.60206, 0.60206, 0.52288, 0.60206, 0.60206, 0.60206, 0.60206, 0.60206, 0.47712, 0.60206, 0.60206, 0.60206, 0.60206, 0.77815, 0.60206, 0.60206, 0.60206, 0.47712, 0.60206, 0.47712, 0.65321, 0.41017, 0.60206, 0.92942, 0.69897, 0.8451, 0.60206, 0.44716, 0.60206, 0.69897, 0.34242, 0.47712, 0.34679, 0.60206, 0.8451, 0.60206, 0.60206, 0.60206, 1.86332, 0.60206, 0.69897, 0.60206, 0.60206, 0.60206, 0.77815, 0.60206, 0.38021, 0.35539, 0.60206, 0.47712, 0.32155, 0.35428, 0.60206, 0.36798, 0.38818, 0.60206, 0.37067, 0.60206, 0.4624, 0.60206, 0.60206, 0.60206, 0.60206, 0.54407, 0.60206, 0.60206, 0.54407, 0.46073, 0.63682, 0.54407, 0.90309, 0.60206, 0.60206, 0.60206, 0.60206, 0.60206, 0.60206, 0.60206, 0.77815, 0.60206, 0.54407, 0.60206, 0.60206, 0.77815, 0.90309, 0.77815, 0.60206, 0.60206, 0.60206, 0.60206, 0.47712, 0.60206, 0.60206, 0.54407, 0.77815, 0.38021, 0.37566, 0.60206, 0.60206, 0.60206, 0.8451, 0.8451, 0.56427, 0.69897, 0.60206, 0.60206, 0.77815, 0.90309, 0.60206, 0.37566, 0.47712, 0.60206, 0.60206, 0.60206, 0.42597, 0.50515, 0.77815, 0.47712, 0.60206, 0.60206, 0.38322, 0.60206, 0.77815, 0.52288, 0.60206, 0.60206, 0.60206, 0.60206, 0.60206, 0.60206, 0.8451, 0.41017, 0.47712, 0.60206, 0.47712, 0.60206, 0.60206, 0.65321, 0.77815, 0.47712, 0.60206, 0.41497, 0.60206, 0.35902, 0.60206, 0.60206, 1.23045, 0.60206, 0.47712, 0.60206, 0.60206, 0.47712, 0.47712, 0.60206, 0.60206, 0.60206, 0.60206, 0.47712, 0.34523, 0.47712, 0.47712, 0.90309, 0.97772, 0.90309, 0.90309, 0.90309, 0.90309, 0.90309, 0.60206, 0.42597, 0.72016, 0.60206, 0.60206, 0.60206, 0.69897, 0.60206, 0.60206, 0.60206, 0.60206, 0.60206, 0.77815, 0.77815, 0.8451, 0.77815, 0.47712, 0.77815, 0.60206, 0.60206, 0.60206, 0.69897, 0.35902, 0.60206, 0.60206, 0.69897, 0.60206, 0.34679, 0.60206, 0.77815, 0.60206, 1.04139, 0.60206, 0.35218, 0.60206, 0.47712, 0.54407, 0.60206, 0.60206, 0.60206, 0.60206, 0.60206, 0.60206, 0.60206, 0.60206, 0.60206, 0.36798, 0.60206, 0.60206, 0.47712, 0.5006, 0.60206, 0.4523, 0.77815, 0.60206, 0.60206, 0.61542, 0.42597, 0.60206, 0.60206, 0.60206, 0.60206, 0.60206, 0.60206, 0.60206, 0.47712, 0.60206, 0.60206, 0.60206, 0.60206, 0.60206, 0.60206, 0.50515, 0.35218, 0.60206, 0.60206, 0.60206, 0.60206, 0.60206, 0.60206, 0.60206, 0.60206, 0.47712, 0.60206, 0.38021, 0.60206, 0.60206, 0.60206, 0.60206, 0.60206, 0.60206, 0.60206, 0.60206, 0.60206, 0.39794, 0.60206, 0.38021, 0.60206, 0.47712, 0.60206, 1.0, 0.77815, 0.60206, 0.60206, 0.60206, 0.47712, 0.33099, 0.60206, 0.60206, 0.60206, 0.60206, 0.60206, 0.60206, 0.47712, 0.42597, 0.35218, 0.54407, 0.60206, 0.50515, 0.47712, 0.32222, 0.36798, 0.47712, 0.60206, 0.47712, 1.27875, 0.60206, 0.60206, 1.04139, 0.60206, 0.60206, 0.47712, 0.47712, 0.727, 0.727, 0.42597, 0.77815, 0.60206, 0.39794, 0.33321, 0.60206, 0.32123, 0.60206, 0.60206, 0.42597, 0.60206, 0.60206, 0.47712, 0.47712, 0.60206, 0.60206, 0.60206, 0.60206, 0.60206, 0.60206, 0.47712, 0.60206, 0.8451, 0.47712, 0.90309, 0.60206, 0.43933, 0.60206, 0.60206, 0.60206, 0.54407, 0.60206, 0.60206, 0.60206, 0.60206, 0.42597, 0.39794, 0.60206, 0.60206, 0.60206, 0.47712, 0.60206, 0.60206, 0.47712, 0.60206, 0.60206, 0.69897, 0.47712, 0.38021, 0.77815, 0.77815, 0.60206, 0.60206, 0.60206, 0.60206, 0.60206, 0.60206, 0.60206, 0.69897, 0.60206, 0.60206, 0.65321, 0.60206, 0.60206, 0.60206, 0.60206, 0.60206, 0.60206, 0.60206, 0.35655, 0.60206, 0.60206, 0.60206, 0.44716, 0.60206, 0.60206, 0.47712, 0.47712, 0.8451, 0.87506, 0.69897, 0.47712, 0.60206, 0.60206, 0.60206, 0.60206, 0.60206, 0.47712, 0.60206, 0.47712, 0.60206, 0.60206, 0.60206, 0.77815, 0.5006, 0.47712, 1.04139, 0.60206, 0.43933, 0.60206, 0.60206, 0.60206, 0.60206, 0.60206, 0.60206, 0.60206, 0.60206, 0.77815, 0.77815, 0.60206, 0.60206, 0.32585, 0.38818, 0.60206, 0.60206, 0.47712, 0.60206, 0.47712, 0.60206, 0.60206, 0.90309, 0.77815, 0.77815, 0.47712, 0.60206, 0.65321, 0.60206, 0.39794, 0.47712, 0.60206, 0.60206, 0.60206, 0.60206, 0.60206, 0.43933, 0.90309, 0.60206, 0.92942, 0.65321, 0.90309, 0.54407, 0.77815, 0.47712, 0.69897, 0.60206, 0.5563, 0.60206, 0.60206, 0.60206, 0.41017, 0.60206, 0.60206, 0.60206, 0.60206, 0.60206, 0.60206, 0.60206, 0.47712, 0.75333, 0.47712, 0.60206, 0.60206, 0.60206, 0.47712, 0.60206, 0.60206, 0.47712, 0.47712, 0.60206, 0.60206, 0.60206, 0.60206, 0.47712, 1.0, 0.43933, 0.60206, 0.47712, 0.60206, 0.36798, 0.47712, 0.60206, 0.60206, 0.60206, 0.60206, 0.47712, 0.60206, 0.77815, 0.60206, 0.60206, 0.77815, 0.60206, 0.60206, 0.60206, 0.77815, 0.69897, 0.47712, 0.60206, 0.60206, 0.60206, 0.60206, 0.52288, 0.90309, 0.69897, 0.60206, 0.60206, 0.47712, 0.52288, 0.77815, 0.60206, 0.47712, 0.47712, 0.38021, 1.14613, 0.52288, 0.60206, 0.52288, 0.90309, 1.0, 0.60206, 0.60206, 0.60206, 0.60206, 0.60206, 0.60206, 0.60206, 0.60206, 0.60206, 0.60206, 0.36798, 0.60206, 0.47712, 0.60206, 0.60206, 0.60206, 0.56427, 0.60206, 1.23045, 0.47712, 0.47712, 0.60206, 0.60206, 0.60206, 0.60206, 0.60206, 0.60206, 0.69897, 0.47712, 0.90309, 0.52288, 0.60206, 0.47712, 0.60206, 0.47712, 0.77815, 0.60206, 0.60206, 0.60206, 0.47712, 0.57403, 0.69897, 0.60206, 0.60206, 0.95424, 0.60206, 0.60206, 0.60206, 0.60206, 0.60206, 0.60206, 0.77815, 0.60206, 0.69897, 0.42597, 0.60206, 0.47712, 0.4437, 0.47712, 0.47712, 0.47712, 0.47712, 0.60206, 0.60206, 0.47712, 0.41497, 0.60206, 0.60206, 0.60206, 0.47712, 0.47712, 0.47712, 0.47712, 0.69897, 0.49292, 0.69897, 0.60206, 0.60206, 0.95424, 0.77815, 0.47712, 0.60206, 0.69897, 0.69897, 0.60206, 0.60206, 0.60206, 0.60206, 0.60206, 0.60206, 0.60206, 0.60206, 0.60206, 0.60206, 0.60206, 0.47712, 0.60206, 0.77815, 0.69897, 0.60206, 0.77815, 0.60206, 0.60206, 0.90309, 0.60206, 0.35902, 0.60206, 0.60206, 0.60206, 0.60206, 0.81291, 0.60206, 0.60206, 0.60206, 0.60206, 0.60206, 0.60206, 0.52288, 0.60206, 0.60206, 0.60206, 0.60206, 0.60206, 0.77815, 0.60206, 0.60206, 0.60206, 1.07918, 0.47712, 0.60206, 0.74036, 0.60206, 0.60206, 0.60206, 0.42597, 0.60206, 0.60206, 0.47712, 0.60206, 0.60206, 0.47712, 0.60206, 0.38021, 0.38818, 0.60206, 0.54407, 0.54407, 0.47712, 0.60206, 0.60206, 0.60206, 0.60206, 0.60206, 0.60206, 0.60206, 0.60206, 0.77815, 0.60206, 0.60206, 0.60206, 0.47712, 0.47712, 0.60206, 0.60206, 0.60206, 0.60206, 0.60206, 0.47712, 0.69897, 0.77815, 0.50515, 0.77815, 0.47712, 0.47712, 0.60206, 0.42597, 0.35218, 0.43366, 0.47712, 0.90309, 0.34242, 0.69897, 0.60206, 0.47712, 0.47712, 0.60206, 0.60206, 0.60206, 0.60206, 0.60206, 0.47712, 0.60206, 0.47712, 0.60206, 0.60206, 1.0, 0.40749, 0.33995, 0.47712, 0.60206, 0.47712, 0.60206, 0.60206, 0.60206, 0.60206, 0.47712, 0.60206, 0.77815, 0.60206, 0.60206, 0.38021, 0.36798, 0.60206, 0.413, 0.31293, 0.47712, 0.60206, 0.60206, 0.60206, 0.47712, 0.60206, 0.60206, 0.60206, 1.0, 0.39794, 0.60206, 0.60206, 0.47712, 0.44716, 0.33403, 0.60206, 0.60206, 0.60206, 0.47712, 0.47712, 0.47712, 0.47712, 0.34845, 0.47712, 0.65321, 0.60206, 0.60206, 0.60206, 0.77815, 0.60206, 0.42597, 0.60206, 0.60206, 0.60206, 0.36798, 0.52288, 0.47712, 0.60206, 0.33882, 0.60206, 0.47712, 0.60206, 0.60206, 0.56427, 0.33995, 0.60206, 0.60206, 0.60206, 0.77815, 0.60206, 0.60206, 0.60206, 0.60206, 0.42597, 0.60206, 0.60206, 0.60206, 0.60206, 0.60206, 0.42597, 0.60206, 0.60206, 0.60206, 0.60206, 0.39794, 0.69897, 0.60206, 0.77815, 0.90309, 0.60206, 0.60206, 0.60206, 0.69897, 0.60206, 0.69897, 0.95424, 0.60206, 0.41017, 0.60206, 0.60206, 0.60206, 0.60206, 0.33099, 0.47712, 0.81291, 0.95424, 0.60206, 0.46073, 0.77815, 0.69897, 0.77815, 0.60206, 0.60206, 0.60206, 0.69897, 0.60206, 0.90309, 0.60206, 0.95424, 0.60206, 0.8451, 0.69897, 0.60206, 0.60206, 0.4523, 0.90309, 0.60206, 0.60206, 0.60206, 0.39794, 0.95424, 0.60206, 0.77815, 0.39211, 0.60206, 0.47712, 0.47712, 0.60206, 0.60206, 0.41017, 0.60206, 0.60206, 0.60206, 0.60206, 0.60206, 0.60206, 0.47712, 0.60206, 0.60206, 0.69897, 0.60206, 0.60206, 0.60206, 0.33579, 0.60206, 0.47712, 0.39794, 0.60206, 0.36798, 0.69897, 0.60206, 0.47712, 0.42597, 0.77815, 0.47712, 0.47712, 0.60206, 0.60206, 0.60206, 0.69897, 0.42597, 0.60206, 0.60206, 0.60206, 0.60206, 0.60206, 0.60206, 0.35902, 0.60206, 0.60206, 0.47712, 0.47712, 0.60206, 0.60206, 0.60206, 0.77815, 0.60206, 0.60206, 0.69897, 0.60206, 0.47712, 0.51188, 0.60206, 0.47712, 0.47712, 0.60206, 0.60206, 0.60206, 0.47712, 0.60206, 0.47712, 0.47712, 0.60206, 0.36798, 0.51188, 0.60206, 0.60206, 0.60206, 0.56427, 0.60206, 0.60206, 0.60206, 0.60206, 0.60206, 0.33099, 0.32999, 0.60206, 0.60206, 0.60206, 0.60206, 0.60206, 0.69897, 0.60206, 0.47712, 0.36798, 0.39794, 0.60206, 0.60206, 0.47712, 0.54407, 0.60206, 0.60206, 0.47712, 0.69897, 0.60206, 0.60206, 0.60206, 0.60206, 0.60206, 1.43136, 1.07918, 0.60206, 0.69897, 0.60206, 0.60206, 0.60206, 0.60206, 0.47712, 0.77815, 0.47712, 0.35655, 0.77815, 0.47712, 0.60206, 0.42597, 0.60206, 0.60206, 0.60206, 0.54407, 0.60206, 0.60206, 0.60206, 0.60206, 0.60206, 0.60206, 0.60206, 0.60206, 0.47712, 0.60206, 0.60206, 0.60206, 0.60206, 0.60206, 0.60206, 0.60206, 0.60206, 0.60206, 0.60206, 0.69897, 0.60206, 0.34679, 0.60206, 0.47712, 0.47712, 0.69897, 0.47712, 0.60206, 0.69897, 0.60206, 0.47712, 0.60206, 0.47712, 0.60206, 0.60206, 1.34242, 0.69897, 0.60206, 0.60206, 0.60206, 0.69897, 0.60206, 0.69897, 0.60206, 0.60206, 0.42597, 0.47712, 0.60206, 0.47712, 0.60206, 0.77815, 0.8451, 0.60206, 0.60206, 0.35218, 0.60206, 0.42597, 0.60206, 0.47712, 0.60206, 0.60206, 0.34679, 0.69897, 0.60206, 0.60206, 0.60206, 0.47712, 0.60206, 0.60206, 0.60206, 0.60206, 0.39794, 0.4523, 0.34242, 0.60206, 0.47712, 0.60206, 0.60206, 0.69897, 0.60206, 0.60206, 0.60206, 0.60206, 0.42597, 0.60206, 0.47712, 0.60206, 0.60206, 0.60206, 0.60206, 0.69897, 0.60206, 0.77815, 0.77815, 0.42597, 0.69897, 0.38535, 0.77815, 0.77815, 0.77815, 0.60206, 0.42597, 0.47712, 0.47712, 0.60206, 0.60206, 0.69897, 0.77815, 0.60206, 0.60206, 0.60206, 0.60206, 0.60206, 0.60206, 0.77815, 0.60206, 0.60206, 0.60206, 0.47712, 0.36798, 0.47712, 0.38535, 0.39794, 0.44716, 0.60206, 0.38021, 0.60206, 0.60206, 0.60206, 0.69897, 0.60206, 0.60206, 0.60206, 0.60206, 0.60206, 0.60206, 0.60206, 0.42597, 0.95424, 0.60206, 1.0, 0.60206, 0.95424, 0.60206, 0.60206, 0.60206, 0.60206, 0.47712, 0.60206, 0.60206, 0.47712, 0.60206, 0.60206, 0.60206, 0.47712, 0.60206, 0.60206, 0.60206, 0.60206, 0.60206, 0.60206, 0.60206, 0.60206, 0.60206, 0.47712, 0.60206, 0.60206, 0.47712, 0.60206, 0.47712, 0.60206, 0.60206, 0.60206, 0.60206, 0.60206, 0.60206, 0.95424, 0.75333, 0.60206, 0.47712, 0.60206, 0.47712, 0.47712, 0.60206, 0.60206, 0.60206, 0.38818, 0.47712, 0.60206, 0.60206, 0.8451, 0.39794, 0.60206, 0.60206, 0.69897, 0.32123, 0.47712, 0.60206, 0.47712, 0.60206, 0.77815, 0.57403, 0.52288, 0.45593, 0.47712, 0.60206, 0.60206, 0.60206, 0.60206, 0.60206, 0.60206, 0.69897, 0.8451, 0.47712, 0.60206, 0.60206, 0.60206, 0.60206, 0.38021, 0.60206, 0.35902, 0.60206, 0.47712, 0.77815, 0.60206, 0.47712, 0.60206, 0.38021, 0.60206, 0.60206, 0.47712, 0.77815, 0.44716, 0.60206, 0.47712, 0.60206, 0.42597, 0.60206, 0.77815, 0.77815, 0.38021, 0.69897, 0.60206, 0.60206, 0.39794, 0.60206, 0.60206, 0.47712, 0.60206, 0.60206, 0.77815, 0.47712, 0.52288, 0.77815, 1.0, 0.60206, 0.60206, 0.69897, 0.47712, 0.47712, 0.52288, 0.60206, 0.60206, 0.60206, 0.60206, 0.39794, 0.60206, 0.38535, 0.60206, 0.39794, 0.47712, 0.60206, 0.31806, 0.60206, 0.47712, 0.60206, 0.69897, 0.60206, 0.60206, 0.60206, 0.60206, 0.60206, 0.60206, 0.60206, 0.47712, 0.47712, 0.60206, 0.69897, 0.69897, 0.60206, 0.60206, 0.60206, 0.60206, 0.60206, 0.47712, 0.77815, 0.60206, 0.60206, 0.60206, 0.60206, 0.60206, 0.60206, 0.43933, 0.47712, 0.57403, 0.69897, 0.60206, 0.47712, 0.44716, 0.60206, 0.77815, 0.60206, 0.60206, 0.60206, 0.60206, 0.60206, 0.77815, 0.60206, 0.60206, 0.41497, 0.60206, 0.60206, 0.60206, 0.60206, 0.47712, 0.35902, 0.47712, 0.60206, 0.31742, 0.60206, 0.77815, 0.60206, 0.60206, 0.60206, 0.37161, 0.47712, 0.60206, 0.47712, 0.60206, 0.60206, 0.47712, 0.42597, 0.47712, 0.77815, 0.77815, 0.77815, 0.60206, 0.60206, 0.47712, 0.60206, 0.60206, 0.42597, 0.39121, 0.41497, 0.77815, 0.60206, 0.47712, 0.60206, 0.60206, 0.60206, 0.60206, 0.47712, 0.60206, 0.60206, 0.47712, 0.47712, 0.54407, 0.60206, 0.60206, 0.42597, 0.47712, 0.60206, 0.60206, 0.60206, 0.60206, 0.60206, 0.60206, 0.60206, 0.60206, 0.60206, 0.60206, 1.07918, 1.0, 1.0, 1.0, 1.04139, 1.0, 1.0, 0.77815, 0.60206, 0.47712, 0.47712, 0.60206, 0.60206, 0.95424, 0.60206, 0.69897, 0.60206, 0.60206, 0.47712, 0.60206, 0.60206, 0.77815, 0.60206, 0.60206, 0.64626, 1.25527, 0.60206, 0.60206, 0.60206, 0.60206, 0.69897, 0.60206, 0.35052, 0.60206, 0.95424, 0.77815, 0.35218, 0.69897, 0.34242, 0.35218, 0.60206, 0.95424, 0.69897, 0.60206, 0.43933, 0.60206, 0.60206, 0.60206, 0.60206, 0.47712, 0.60206, 0.60206, 0.60206, 0.60206, 0.60206, 0.42597, 0.43933, 0.60206, 0.60206, 0.60206, 0.47712, 0.60206, 0.60206, 0.60206, 0.39794, 0.60206, 0.35902, 0.60206, 0.60206, 0.60206, 0.60206, 0.60206, 0.60206, 0.60206, 0.60206, 0.60206, 0.60206, 0.60206, 0.47712, 0.47712, 0.35902, 0.60206, 0.60206, 0.60206, 0.60206, 0.60206, 0.42597, 0.60206, 0.35218, 0.60206, 0.60206, 0.34242, 0.60206, 0.60206, 0.39794, 0.60206, 0.60206, 0.60206, 0.60206, 0.60206, 0.47712, 0.47712, 0.47712, 0.47712, 1.39794, 0.60206, 0.47712, 0.60206, 0.47712, 0.47712, 0.39794, 0.60206, 0.60206, 0.60206, 0.60206, 0.60206, 0.47712, 0.60206, 0.60206, 0.77815, 0.36798, 0.60206, 0.60206, 0.60206, 0.47712, 0.60206, 0.47712, 0.60206, 0.60206, 0.60206, 0.60206, 0.56427, 0.60206, 0.32451, 0.60206, 0.60206, 0.60206, 0.47712, 0.8451, 0.60206, 0.33882, 0.60206, 0.69897, 0.47712, 3.10449, 3.10551, 0.60206, 0.90309, 0.90309, 0.90309, 0.90309, 0.90309, 0.90309, 0.47712, 0.90309, 0.90309, 0.69897, 0.47712, 0.47712, 0.32585, 1.0, 0.47712, 1.50515, 0.47712, 0.47712, 0.47712, 0.47712, 0.60206, 0.47712, 1.78533, 0.60206, 0.47712, 0.36798, 0.77815, 0.47712, 1.57978, 0.47712, 2.70842, 0.47712, 0.47712, 0.47712, 0.69897, 0.47712, 1.76343, 0.47712, 2.01703, 0.47712, 1.43136, 0.90309, 0.60206, 0.69897, 0.77815, 0.60206, 0.95424, 0.69897, 0.60206, 0.8451, 0.47712, 0.69897, 0.77815, 0.47712, 1.88081, 1.34242, 0.47712, 1.36173, 0.47712, 0.47712, 0.47712, 1.04139, 0.47712, 0.47712, 0.60206, 0.69897, 0.47712, 0.47712, 0.47712, 0.47712, 0.69897, 0.47712, 0.47712, 0.77815, 0.47712, 0.47712, 1.11394, 0.8451, 0.47712, 0.47712, 0.69897, 0.47712, 0.60206, 0.47712, 0.47712, 0.47712, 0.47712, 0.47712, 0.47712, 0.47712, 0.47712, 0.47712, 0.47712, 1.91381, 0.8451, 0.69897, 0.47712, 0.47712, 0.47712, 0.47712, 0.47712, 0.47712, 0.47712, 0.60206, 0.47712, 0.47712, 0.69897, 0.47712, 0.47712, 0.47712, 0.47712, 0.47712, 0.69897, 0.47712, 0.47712, 0.47712, 1.11394, 0.47712, 0.97772, 0.60206, 0.60206, 0.47712, 0.95424, 1.17609, 0.47712, 0.47712, 0.60206, 0.47712, 0.47712, 0.47712, 1.17609, 1.23045, 0.47712, 0.69897, 0.47712, 0.90309, 0.60206, 0.47712, 0.60206, 0.47712, 0.47712, 0.47712, 0.47712, 0.47712, 0.47712, 0.47712, 0.47712, 0.60206, 0.39794, 0.47712, 0.47712, 0.60206, 0.47712, 0.47712, 2.0607, 0.47712, 0.47712, 0.60206, 0.47712, 0.47712, 0.47712, 0.47712, 0.47712, 0.69897, 0.47712, 0.47712, 0.47712, 0.47712, 0.47712, 0.47712, 0.47712, 0.39794, 0.47712, 0.77815, 0.47712, 0.47712, 0.47712, 0.47712, 0.47712, 0.47712, 0.47712, 0.47712, 0.47712, 0.47712, 0.60206, 0.47712, 0.47712, 0.47712, 0.69897, 0.47712, 0.47712, 0.47712, 0.47712, 1.27875, 0.47712, 0.47712, 0.47712, 0.47712, 0.47712, 0.47712, 0.47712, 0.47712, 0.47712, 0.47712, 0.47712, 0.60206, 0.47712, 0.47712, 0.47712, 0.47712, 0.47712, 0.47712, 0.60206, 0.47712, 0.63682, 0.47712, 0.47712, 0.47712, 0.47712, 0.47712, 0.47712, 0.47712, 0.69897, 0.69897, 0.69897, 0.56427, 0.69897, 0.69897, 0.69897, 0.69897, 0.69897, 0.69897, 0.69897, 0.77815, 0.69897, 1.07918, 0.47712, 0.47712, 0.47712, 0.69897, 0.54407, 0.60206, 0.47712, 0.47712, 0.77815, 0.47712, 0.47712, 0.47712, 0.47712, 0.60206, 0.47712, 0.8451, 0.60206, 0.47712, 1.0, 0.47712, 0.47712, 0.42597, 0.47712, 0.90309, 0.47712, 2.23553, 2.25042, 2.25285, 2.1271, 1.30103, 1.30103, 1.14613, 0.47712, 0.47712, 0.60206, 0.38021, 0.47712, 1.27875, 0.47712, 0.95424, 0.47712, 0.60206, 0.47712, 0.47712, 0.47712, 0.47712, 0.47712, 0.47712, 0.47712, 0.47712, 0.47712, 0.60206, 0.47712, 0.47712, 0.47712, 0.47712, 0.47712, 0.47712, 1.23045, 0.47712, 0.47712, 0.95424, 0.47712, 0.47712, 0.47712, 0.77815, 0.47712, 0.47712, 0.47712, 0.47712, 0.60206, 0.60206, 0.47712, 1.32222, 0.47712, 0.47712, 0.47712, 1.14613, 0.47712, 0.47712, 0.47712, 0.47712, 0.47712, 0.47712, 0.95424, 0.60206, 0.47712, 0.47712, 0.60206, 0.69897, 0.47712, 0.60206, 0.60206, 0.8451, 0.47712, 0.47712, 0.47712, 0.47712, 0.77815, 0.47712, 0.60206, 0.47712, 0.8451, 0.8451, 0.47712, 0.47712, 0.47712, 0.47712, 0.47712, 0.47712, 0.47712, 0.69897, 0.47712, 0.69897, 0.60206, 0.35218, 0.47712, 0.47712, 0.47712, 0.47712, 0.47712, 0.47712, 0.47712, 1.04139, 0.47712, 0.47712, 0.60206, 0.8451, 0.47712, 0.47712, 0.47712, 0.69897, 0.47712, 0.47712, 0.47712, 0.77815, 0.69897, 0.47712, 0.47712, 0.47712, 0.47712, 0.47712, 0.47712, 0.69897, 0.69897, 0.60206, 0.60206, 0.47712, 0.47712, 0.47712, 0.60206, 0.47712, 0.69897, 0.60206, 0.69897, 0.77815, 0.47712, 0.47712, 0.47712, 0.90309, 1.0, 0.47712, 0.47712, 1.07918, 0.60206, 0.47712, 0.47712, 0.38021, 0.60206, 0.39794, 0.60206, 0.47712, 0.47712, 0.60206, 0.47712, 0.47712, 0.69897, 0.45593, 1.0, 0.77815, 0.47712, 1.11394, 0.69897, 0.47712, 0.47712, 0.47712, 0.69897, 0.47712, 1.04139, 0.60206, 0.60206, 0.47712, 0.47712, 0.47712, 0.8451, 0.47712, 0.47712, 1.0, 0.95424, 0.47712, 0.47712, 0.60206, 0.47712, 0.47712, 0.47712, 0.47712, 0.47712, 0.47712, 0.47712, 0.47712, 0.69897, 1.32222, 0.47712, 0.47712, 0.47712, 0.47712, 0.47712, 0.90309, 0.47712, 0.77815, 0.47712, 0.47712, 0.8451, 0.69897, 0.47712, 0.60206, 0.47712, 0.47712, 0.47712, 0.90309, 1.04139, 1.0, 0.47712, 0.90309, 0.90309, 0.90309, 0.60206, 0.95424, 0.77815, 0.47712, 0.8451, 0.47712, 0.47712, 0.69897, 0.47712, 0.60206, 0.47712, 0.47712, 0.69897, 0.47712, 0.47712, 0.47712, 0.47712, 0.47712, 0.47712, 0.47712, 0.47712, 0.47712, 0.47712, 0.47712, 0.47712, 0.47712, 0.69897, 0.39794, 0.47712, 0.47712, 0.47712, 0.47712, 0.47712, 0.47712, 0.69897, 0.47712, 0.47712, 0.90309, 0.60206, 0.47712, 0.47712, 0.69897, 0.47712, 0.42597, 0.47712, 0.60206, 1.27875, 0.47712, 0.47712, 0.47712, 0.47712, 0.47712, 0.77815, 0.47712, 0.47712, 0.47712, 0.95424, 0.47712, 0.47712, 0.47712, 0.47712, 0.49732, 0.60206, 0.47712, 1.32222, 0.69897, 0.47712, 0.47712, 0.47712, 0.47712, 0.47712, 0.47712, 0.60206, 0.47712, 0.47712, 1.0, 0.47712, 0.47712, 0.54407, 0.47712, 0.47712, 0.69897, 0.47712, 0.60206, 0.60206, 0.60206, 0.41754, 0.60206, 0.47712, 0.47712, 0.47712, 0.47712, 0.47712, 0.39794, 0.47712, 0.69897, 0.47712, 1.39794, 0.47712, 0.47712, 0.47712, 0.33882, 0.77815, 0.47712, 0.47712, 0.77815, 0.47712, 0.47712, 0.60206, 0.47712, 0.47712, 0.77815, 0.47712, 0.47712, 0.47712, 0.47712, 0.47712, 0.47712, 0.47712, 0.47712, 0.47712, 0.47712, 0.47712, 0.47712, 0.47712, 0.60206, 0.60206, 0.47712, 0.47712, 0.60206, 0.47712, 0.47712, 0.47712, 0.47712, 0.47712, 0.47712, 0.47712, 0.77815, 0.47712, 0.47712, 0.47712, 0.47712, 0.60206, 0.60206, 0.47712, 0.47712, 0.47712, 0.47712, 1.0, 0.47712, 0.47712, 0.47712, 0.69897, 0.47712, 0.47712, 0.77815, 0.39794, 0.95424, 0.47712, 0.47712, 0.47712, 1.27875, 0.60206, 0.47712, 0.47712, 1.5563, 1.07918, 0.47712, 0.47712, 0.47712, 0.47712, 0.69897, 0.47712, 0.47712, 0.47712, 0.36798, 0.47712, 0.47712, 0.47712, 0.47712, 0.47712, 0.47712, 0.47712, 0.47712, 0.47712, 0.47712, 0.60206, 0.60206, 0.47712, 0.77815, 0.8451, 0.47712, 0.90309, 0.47712, 0.47712, 0.47712, 0.47712, 0.47712, 0.47712, 0.47712, 0.47712, 0.47712, 0.8451, 0.47712, 0.47712, 0.47712, 0.47712, 0.8451, 0.47712, 0.47712, 0.60206, 0.47712, 0.47712, 0.60206, 0.47712, 0.60206, 0.47712, 0.47712, 0.47712, 0.47712, 0.47712, 0.47712, 0.47712, 0.47712, 0.69897, 1.54407, 0.47712, 0.47712, 0.36798, 0.47712, 0.47712, 0.90309, 0.47712, 0.47712, 0.47712, 0.47712, 0.47712, 0.33579, 0.47712, 0.47712, 0.47712, 0.69897, 0.47712, 0.47712, 0.34242, 0.47712, 0.47712, 0.47712, 0.47712, 0.47712, 0.69897, 0.47712, 0.77815, 0.47712, 0.47712, 0.47712, 0.47712, 0.47712, 0.69897, 0.47712, 0.47712, 0.47712, 0.47712, 1.60206, 0.47712, 0.47712, 0.47712, 0.39794, 0.47712, 0.47712, 0.47712, 0.47712, 0.60206, 0.60206, 0.47712, 0.47712, 0.47712, 0.60206, 0.60206, 0.47712, 0.47712, 0.69897, 0.47712, 0.60206, 0.90309, 0.47712, 0.47712, 0.47712, 0.47712, 0.47712, 0.95424, 0.47712, 0.47712, 0.47712, 0.47712, 0.47712, 0.47712, 0.47712, 0.47712, 0.47712, 0.47712, 0.47712, 0.60206, 0.47712, 0.47712, 1.0, 0.60206, 0.90309, 0.47712, 0.47712, 0.47712, 0.47712, 0.47712, 0.47712, 0.77815, 0.47712, 0.47712, 0.47712, 0.60206, 0.47712, 0.47712, 0.47712, 0.47712, 0.47712, 0.47712, 0.47712, 0.47712, 0.60206, 0.47712, 0.47712, 0.60206, 0.60206, 0.60206, 0.60206, 0.60206, 0.60206, 0.90309, 0.60206, 0.69897, 0.60206, 0.60206, 0.47712, 0.47712, 0.47712, 0.62839, 0.47712, 0.47712, 0.47712, 0.47712, 0.42597, 0.47712, 0.47712, 0.60206, 0.60206, 0.52288, 0.47712, 0.60206, 0.47712, 0.47712, 0.69897, 0.60206, 0.47712, 0.47712, 0.39794, 0.47712, 0.47712, 0.60206, 0.47712, 0.69897, 0.47712, 0.47712, 0.47712, 0.47712, 0.37566, 1.50515, 0.60206, 0.8451, 0.47712, 0.47712, 0.47712, 0.47712, 0.47712, 0.42597, 0.47712, 2.20952, 0.47712, 0.47712, 0.60206, 0.60206, 0.60206, 0.47712, 0.47712, 0.47712, 0.47712, 0.8451, 0.47712, 0.47712, 0.47712, 0.47712, 0.47712, 0.47712, 0.47712, 0.47712, 0.47712, 0.8451, 0.47712, 0.47712, 0.47712, 0.47712, 0.60206, 0.60206, 0.47712, 0.60206, 0.77815, 0.60206, 0.47712, 0.47712, 0.47712, 0.47712, 0.47712, 0.47712, 0.47712, 0.60206, 0.60206, 1.04139, 0.47712, 0.47712, 0.47712, 0.47712, 0.47712, 0.47712, 0.47712, 0.60206, 0.47712, 0.77815, 0.47712, 0.47712, 0.47712, 0.47712, 0.47712, 0.47712, 0.60206, 0.47712, 0.47712, 0.47712, 0.44716, 0.47712, 0.47712, 0.60206, 0.47712, 0.47712, 0.47712, 0.47712, 0.47712, 0.47712, 0.69897, 0.47712, 0.47712, 0.47712, 0.47712, 0.95424, 0.60206, 0.47712, 0.60206, 0.47712, 0.47712, 0.47712, 0.47712, 0.47712, 0.47712, 0.47712, 0.47712, 0.47712, 0.47712, 0.47712, 0.47712, 0.47712, 0.69897, 0.60206, 0.60206, 0.60206, 0.47712, 0.47712, 0.39794, 0.47712, 0.60206, 0.60206, 0.47712, 0.47712, 0.8451, 0.8451, 0.47712, 0.47712, 0.47712, 0.47712, 0.47712, 0.47712, 0.60206, 0.47712, 0.47712, 0.47712, 0.47712, 0.47712, 0.47712, 0.47712, 0.47712, 0.47712, 0.47712, 0.47712, 0.47712, 0.47712, 0.8451, 0.47712, 0.95424, 0.47712, 0.47712, 0.77815, 0.52288, 0.47712, 0.47712, 0.47712, 0.47712, 0.47712, 0.60206, 0.35218, 0.47712, 0.77815, 0.47712, 0.60206, 0.47712, 0.47712, 0.39794, 0.47712, 0.47712, 0.47712, 0.47712, 0.56427, 0.47712, 0.69897, 0.47712, 0.95424, 0.47712, 0.60206, 0.47712, 0.47712, 0.47712, 0.47712, 0.47712, 0.47712, 0.47712, 0.77815, 0.47712, 0.60206, 0.60206, 0.47712, 0.47712, 0.47712, 0.47712, 0.47712, 0.47712, 0.47712, 0.47712, 0.47712, 0.47712, 0.60206, 0.60206, 0.47712, 0.60206, 0.47712, 0.47712, 0.60206, 0.47712, 0.47712, 0.47712, 0.47712, 0.47712, 0.47712, 0.47712, 1.0, 0.47712, 0.36798, 0.60206, 0.60206, 0.60206, 0.77815, 0.47712, 0.47712, 0.47712, 0.60206, 0.60206, 0.47712, 0.39794, 0.47712, 0.8451, 0.47712, 0.47712, 0.47712, 0.8451, 0.47712, 0.47712, 0.69897, 1.11394, 0.47712, 0.47712, 0.47712, 0.77815, 0.47712, 0.47712, 0.47712, 0.47712, 0.47712, 0.47712, 0.47712, 0.47712, 0.47712, 0.47712, 0.60206, 0.60206, 0.47712, 0.60206, 0.47712, 0.47712, 0.47712, 0.47712, 0.47712, 0.60206, 0.47712, 0.47712, 0.47712, 0.47712, 0.47712, 0.47712, 0.60206, 0.47712, 0.47712, 0.47712, 0.47712, 0.47712, 0.47712, 0.47712, 0.47712, 0.47712, 0.47712, 0.60206, 0.47712, 0.47712, 0.47712, 0.47712, 0.47712, 0.47712, 0.47712, 0.77815, 0.77815, 0.69897, 0.47712, 0.47712, 0.47712, 0.47712, 0.47712, 0.69897, 0.60206, 0.47712, 0.47712, 0.47712, 0.47712, 0.60206, 0.60206, 0.47712, 0.47712, 0.47712, 0.47712, 0.42597, 0.47712, 0.47712, 0.47712, 0.47712, 0.47712, 0.47712, 0.47712, 0.47712, 0.47712, 0.47712, 0.47712, 0.60206, 0.47712, 0.47712, 0.47712, 0.47712, 0.47712, 0.43933, 0.47712, 0.47712, 0.54407, 0.60206, 0.60206, 0.47712, 0.47712, 0.47712, 0.47712, 0.47712, 0.47712, 0.90309, 0.47712, 0.47712, 0.47712, 0.47712, 0.31527, 0.47712, 0.47712, 0.47712, 0.60206, 0.47712, 0.47712, 0.47712, 0.47712, 0.47712, 0.60206, 0.47712, 0.81291, 0.47712, 0.47712, 0.47712, 0.47712, 0.47712, 0.47712, 0.47712, 0.69897, 0.47712, 0.60206, 0.47712, 0.47712, 0.47712, 0.47712, 0.47712, 0.47712, 0.47712, 0.47712, 0.60206, 0.47712, 0.47712, 0.69897, 0.69897, 0.47712, 0.47712, 0.47712, 0.47712, 0.47712, 0.8451, 0.47712, 0.77815, 0.47712, 0.36798, 0.47712, 0.47712, 0.47712, 0.47712, 0.47712, 0.47712, 0.47712, 0.47712, 0.47712, 0.47712, 0.47712, 0.47712, 0.47712, 0.47712, 0.47712, 0.47712, 0.47712, 0.47712, 0.47712, 0.47712, 0.47712, 0.47712, 0.47712, 0.47712, 0.47712, 0.47712, 0.8451, 0.47712, 0.69897, 0.69897, 0.69897, 0.69897, 0.69897, 0.69897, 0.69897, 0.69897, 0.69897, 0.69897, 0.69897, 0.47712, 0.47712, 0.47712, 0.47712, 0.47712, 0.47712, 0.47712, 0.47712, 0.69897, 0.47712, 0.47712, 0.47712, 0.47712, 0.47712, 0.47712, 0.47712, 0.47712, 0.47712, 0.47712, 0.47712, 0.47712, 0.47712, 0.47712, 0.47712, 0.47712, 0.47712, 0.47712, 0.69897, 0.47712, 0.47712, 0.47712, 0.47712, 0.47712, 0.47712, 0.77815, 0.69897, 0.60206, 0.47712, 0.47712, 0.47712, 0.47712, 0.60206, 0.8451, 0.47712, 0.47712, 0.47712, 0.47712, 0.47712, 0.47712, 0.47712, 0.47712, 0.47712, 0.47712, 0.47712, 0.47712, 0.47712, 0.47712, 0.47712, 0.47712, 0.47712, 0.47712, 0.8451, 0.47712, 0.47712, 0.47712, 0.60206, 0.39794, 0.47712, 0.47712, 0.47712, 0.47712, 0.69897, 0.39794, 0.47712, 0.60206, 0.47712, 0.47712, 0.47712, 0.47712, 0.60206, 0.47712, 0.47712, 0.47712, 0.47712, 0.47712, 0.47712, 0.47712, 0.47712, 0.60206, 0.60206, 0.47712, 0.47712, 0.47712, 0.47712, 0.39794, 0.47712, 0.47712, 0.47712, 0.47712, 0.47712, 0.60206, 0.47712, 0.47712, 0.47712, 0.90309, 0.47712, 0.47712, 0.47712, 0.95424, 0.47712, 0.60206, 0.47712, 0.47712, 0.47712, 0.47712, 0.47712, 1.20412, 0.47712, 0.47712, 0.47712, 0.47712, 0.47712, 0.47712, 0.47712, 0.47712, 0.47712, 0.47712, 0.47712, 0.47712, 0.47712, 0.47712, 0.47712, 0.47712, 0.47712, 0.47712, 0.47712, 0.47712, 0.47712, 0.47712, 0.47712, 0.69897, 0.47712, 0.47712, 0.47712, 0.47712, 0.47712, 0.8451, 0.47712, 0.47712, 0.47712, 0.47712, 0.47712, 0.47712, 0.47712, 0.47712, 0.60206, 0.47712, 0.47712, 0.47712, 0.47712, 0.47712, 0.47712, 0.47712, 0.47712, 0.47712, 0.47712, 0.47712, 0.47712, 0.47712, 0.47712, 0.47712, 0.47712, 0.69897, 0.47712, 0.47712, 0.90309, 0.47712, 0.47712, 0.60206, 0.47712, 0.41497, 0.47712, 0.47712, 0.47712, 0.47712, 0.47712, 0.47712, 0.47712, 0.47712, 0.47712, 0.47712, 1.17609, 0.47712, 0.47712, 0.77815, 0.47712, 0.47712, 0.47712, 0.47712, 0.8451, 0.47712, 0.47712, 0.47712, 0.8451, 0.47712, 0.47712, 0.47712, 0.47712, 0.47712, 0.77815, 0.47712, 0.47712, 0.47712, 0.41497, 0.47712, 0.47712, 0.47712, 0.47712, 0.77815, 0.69897, 0.47712, 0.60206, 0.60206, 0.47712, 0.39794, 0.47712, 0.47712, 0.47712, 0.32451, 0.69897, 0.47712, 0.60206, 0.33099, 0.60206, 0.60206, 0.69897, 0.60206, 0.60206, 0.8451, 0.60206, 0.47712, 0.60206, 0.60206, 0.47712, 0.47712, 0.34242, 0.47712, 0.60206, 0.47712, 0.47712, 0.77815, 0.47712, 0.47712, 0.47712, 0.42597, 0.47712, 0.47712, 0.60206, 0.69897, 0.69897, 0.69897, 0.69897, 0.77815, 0.47712, 0.47712, 0.47712, 0.47712, 0.47712, 0.60206, 0.47712, 0.47712, 0.47712, 0.47712, 0.47712, 0.47712, 0.47712, 0.47712, 0.47712, 0.47712, 0.47712, 0.47712, 0.47712, 0.47712, 0.47712, 0.90309, 0.47712, 0.47712, 0.47712, 0.60206, 0.47712, 0.47712, 0.77815, 0.47712, 0.47712, 0.47712, 0.47712, 0.47712, 0.47712, 0.47712, 0.47712, 0.47712, 0.47712, 0.47712, 0.47712, 0.47712, 0.47712, 0.47712, 0.47712, 0.60206, 0.47712, 0.47712, 0.47712, 0.47712, 0.47712, 0.47712, 0.60206, 0.47712, 0.47712, 0.60206, 0.47712, 0.47712, 0.47712, 0.47712, 0.54407, 0.47712, 0.47712, 0.47712, 0.47712, 0.47712, 0.47712, 0.47712, 0.47712, 0.47712, 0.47712, 0.47712, 0.47712, 0.47712, 0.47712, 0.47712, 0.47712, 0.47712, 0.47712, 0.47712, 0.47712, 0.47712, 0.47712, 0.47712, 0.47712, 0.60206, 0.69897, 0.47712, 0.47712, 0.47712, 0.90309, 0.47712, 0.47712, 0.47712, 0.47712, 0.47712, 0.47712, 0.60206, 0.47712, 0.47712, 0.47712, 0.47712, 0.47712, 0.47712, 0.47712, 0.69897, 0.47712, 0.47712, 0.90309, 0.47712, 0.47712, 0.47712, 0.47712, 0.47712, 0.47712, 0.47712, 0.47712, 0.47712, 0.47712, 0.47712, 0.47712, 0.47712, 0.47712, 0.47712, 0.47712, 0.47712, 0.60206, 0.47712, 0.47712, 0.47712, 0.47712, 0.47712, 0.47712, 0.47712, 0.60206, 0.47712, 0.47712, 0.60206, 0.60206, 0.47712, 0.47712, 0.47712, 0.47712, 0.47712, 0.47712, 0.77815, 0.8451, 0.77815, 0.8451, 0.77815, 0.77815, 0.77815, 0.60206, 0.77815, 0.77815, 0.77815, 0.77815, 0.77815, 0.60206, 0.77815, 0.8451, 0.77815, 0.77815, 0.42597, 0.47712, 0.47712, 0.47712, 0.47712, 0.47712, 0.47712, 0.47712, 0.47712, 0.8451, 0.47712, 0.47712, 0.47712, 0.47712, 0.47712, 0.47712, 0.47712, 0.47712, 0.47712, 0.47712, 0.47712, 0.47712, 0.47712, 0.47712, 0.60206, 0.47712, 0.47712, 0.47712, 0.47712, 0.47712, 0.47712, 0.47712, 0.47712, 0.47712, 0.47712, 0.47712, 0.60206, 0.47712, 0.47712, 0.47712, 0.47712, 0.47712, 0.47712, 0.69897, 0.47712, 0.47712, 0.47712, 0.47712, 0.47712, 0.47712, 0.60206, 0.47712, 0.47712, 0.47712, 0.47712, 0.47712, 0.47712, 0.47712, 0.47712, 0.47712, 0.47712, 0.47712, 0.60206, 0.47712, 0.47712, 0.47712, 0.47712, 0.60206, 0.47712, 0.60206, 0.47712, 0.47712, 0.60206, 0.47712, 0.47712, 0.47712, 0.47712, 0.47712, 0.47712, 0.35218, 0.47712, 0.60206, 0.47712, 0.47712, 0.60206, 0.47712, 0.47712, 0.47712, 0.47712, 0.47712, 0.47712, 0.47712, 0.47712, 0.47712, 0.47712, 0.47712, 0.47712, 0.47712, 0.47712, 0.47712, 0.47712, 0.47712, 0.47712, 0.47712, 0.47712, 0.47712, 1.0, 0.47712, 0.47712, 0.47712, 0.47712, 0.47712, 0.47712, 0.47712, 0.47712, 0.47712, 0.47712, 0.47712, 0.47712, 0.47712, 0.60206, 0.47712, 0.47712, 0.47712, 0.47712, 0.47712, 0.39794, 0.60206, 0.47712, 0.69897, 0.47712, 0.69897, 0.60206, 0.60206, 0.47712, 0.47712, 0.47712, 0.47712, 0.47712, 0.8451, 0.47712, 0.47712, 0.47712, 0.69897, 0.47712, 0.60206, 0.47712, 0.69897, 0.60206, 0.47712, 0.47712, 0.47712, 0.47712, 0.47712, 0.47712, 0.47712, 0.47712, 0.47712, 0.47712, 0.47712, 0.47712, 0.47712, 0.47712, 0.47712, 0.47712, 0.47712, 0.47712, 0.35218, 0.47712, 0.47712, 0.47712, 0.47712, 0.47712, 0.47712, 0.47712, 0.47712, 0.47712, 0.47712, 0.8451, 0.47712, 0.47712, 0.47712, 0.47712, 0.47712, 0.47712, 0.60206, 0.47712, 0.60206, 0.47712, 0.47712, 0.47712, 0.77815, 0.47712, 0.36798, 0.47712, 0.47712, 0.47712, 0.60206, 0.69897, 0.47712, 0.47712, 0.47712, 0.47712, 0.47712, 0.47712, 0.47712, 0.47712, 0.47712, 0.60206, 0.47712, 0.47712, 0.90309, 0.47712, 0.47712, 0.47712, 0.47712, 0.47712, 0.47712, 0.47712, 0.47712, 0.60206, 0.47712, 0.47712, 0.47712, 0.47712, 0.60206, 0.47712, 0.47712, 0.47712, 0.35218, 0.60206, 0.47712, 0.60206, 0.47712, 0.47712, 0.60206, 0.60206, 0.60206, 0.47712, 0.47712, 0.47712, 0.47712, 0.47712, 0.47712, 0.47712, 0.47712, 0.47712, 0.47712, 0.47712, 0.47712, 0.47712, 0.47712, 0.47712, 0.47712, 0.47712, 0.47712, 0.47712, 0.47712, 0.47712, 0.47712, 0.47712, 0.47712, 0.60206, 0.47712, 0.47712, 0.69897, 0.69897, 0.69897, 0.47712, 0.47712, 0.47712, 0.47712, 0.47712, 0.47712, 0.47712, 0.47712, 0.39794, 0.47712, 0.60206, 0.69897, 0.47712, 0.47712, 0.47712, 0.47712, 0.47712, 0.47712, 0.47712, 0.47712, 0.47712, 0.60206, 0.60206, 0.47712, 0.47712, 0.47712, 0.47712, 0.47712, 0.47712, 0.47712, 0.47712, 0.69897, 0.47712, 0.47712, 0.47712, 0.47712, 0.47712, 0.47712, 0.8451, 0.47712, 0.47712, 0.47712, 0.47712, 0.47712, 0.47712, 0.47712, 0.47712, 0.47712, 0.47712, 0.69897, 0.60206, 0.38535, 0.47712, 0.47712, 0.47712, 0.47712, 0.47712, 0.47712, 0.47712, 0.47712, 0.47712, 0.47712, 0.47712, 0.47712, 0.47712, 0.47712, 0.47712, 0.47712, 0.47712, 0.47712, 0.39794, 0.60206, 0.47712, 0.60206, 0.47712, 0.47712, 0.60206, 0.47712, 0.47712, 0.47712, 0.47712, 0.47712, 0.47712, 0.47712, 0.47712, 0.47712, 0.47712, 0.60206, 0.47712, 0.90309, 0.69897, 0.77815, 0.47712, 0.47712, 0.47712, 0.47712, 0.39794, 0.47712, 0.47712, 0.47712, 0.47712, 0.47712, 0.47712, 0.47712, 0.47712, 0.47712, 0.47712, 0.77815, 0.47712, 0.47712, 0.47712, 0.47712, 0.47712, 0.47712, 0.47712, 0.47712, 0.47712, 0.47712, 0.47712, 0.47712, 0.47712, 0.47712, 0.60206, 0.47712, 0.69897, 0.47712, 0.47712, 0.47712, 0.47712, 0.47712, 0.47712, 0.47712, 0.47712, 0.47712, 0.47712, 0.47712, 0.47712, 0.47712, 0.47712, 0.47712, 0.47712, 0.47712, 0.47712, 0.60206, 0.47712, 0.47712, 0.60206, 0.47712, 0.47712, 0.47712, 0.47712, 0.47712, 0.47712, 0.60206, 0.47712, 0.47712, 0.47712, 0.47712, 0.47712, 0.47712, 0.60206, 0.47712, 0.47712, 0.47712, 0.47712, 0.47712, 0.47712, 0.47712, 0.47712, 0.36798, 0.47712, 0.47712, 0.47712, 0.47712, 0.47712, 0.47712, 0.60206, 0.60206, 0.47712, 0.47712, 0.47712, 0.47712, 0.60206, 0.60206, 0.60206, 0.60206, 0.60206, 0.60206, 0.60206, 0.47712, 0.47712, 0.47712, 0.47712, 0.39794, 0.47712, 0.47712, 0.47712, 0.69897, 0.47712, 0.47712, 0.47712, 0.47712, 0.47712, 0.60206, 0.34242, 0.47712, 0.77815, 0.47712, 0.47712, 0.47712, 0.47712, 0.47712, 0.90309, 0.47712, 0.47712, 0.47712, 0.47712, 0.60206, 0.47712, 0.47712, 0.47712, 0.47712, 0.47712, 0.60206, 0.47712, 0.60206, 0.47712, 0.69897, 0.47712, 0.47712, 0.47712, 0.47712, 0.47712, 0.47712, 0.47712, 0.47712, 0.47712, 0.47712, 0.47712, 0.47712, 0.47712, 0.47712, 0.47712, 0.47712, 0.47712, 0.47712, 0.60206, 0.47712, 0.47712, 0.47712, 0.47712, 0.47712, 0.47712, 0.47712, 0.47712, 0.47712, 0.47712, 0.47712, 0.47712, 0.47712, 0.69897, 0.47712, 0.47712, 0.47712, 0.47712, 0.47712, 0.47712, 0.47712, 0.47712, 0.47712, 0.47712, 0.47712, 0.47712, 0.47712, 0.39794, 0.60206, 0.47712, 0.47712, 0.47712, 0.47712, 0.47712, 0.47712, 0.47712, 0.47712, 0.47712, 0.47712, 0.47712, 0.60206, 0.47712, 0.47712, 0.47712, 0.47712, 0.47712, 0.77815, 0.60206, 0.69897, 0.47712, 0.47712, 0.47712, 0.36798, 0.69897, 0.47712, 0.47712, 0.47712, 0.47712, 0.47712, 0.47712, 0.47712, 0.47712, 0.47712, 0.47712, 0.47712, 0.47712, 0.47712, 0.47712, 0.47712, 0.47712, 0.47712, 0.47712, 0.60206, 0.47712, 0.47712, 0.47712, 0.69897, 0.8451, 0.47712, 0.47712, 0.47712, 0.47712, 0.47712, 0.47712, 0.47712, 0.47712, 0.47712, 0.47712, 0.69897, 0.47712, 0.47712, 0.47712, 0.47712, 0.47712, 0.69897, 0.47712, 0.47712, 0.47712, 0.47712, 0.47712, 0.47712, 0.47712, 0.39794, 0.47712, 0.8451, 0.69897, 0.90309, 0.69897, 0.69897, 0.69897, 0.69897, 0.69897, 0.69897, 0.47712, 0.47712, 0.69897, 0.47712, 0.47712, 0.47712, 0.47712, 0.47712, 0.47712, 0.47712, 0.47712, 0.47712, 0.47712, 0.47712, 0.47712, 0.47712, 0.60206, 0.47712, 0.47712, 0.47712, 0.47712, 0.47712, 0.60206, 0.47712, 0.47712, 0.47712, 0.47712, 0.47712, 0.47712, 0.47712, 0.39794, 0.47712, 0.47712, 0.47712, 0.47712, 0.47712, 0.47712, 1.4624, 0.47712, 0.47712, 0.47712, 0.47712, 0.47712, 0.47712, 0.47712, 0.47712, 0.69897, 0.60206, 0.60206, 0.47712, 0.47712, 0.47712, 0.47712, 0.47712, 0.39794, 0.47712, 0.60206, 0.47712, 0.47712, 0.47712, 0.47712, 0.47712, 0.47712, 0.47712, 0.47712, 0.47712, 0.47712, 0.47712, 0.47712, 0.47712, 0.47712, 0.47712, 0.47712, 0.47712, 0.47712, 0.47712, 0.35218, 0.47712, 0.47712, 0.47712, 0.69897, 0.47712, 0.47712, 0.47712, 0.60206, 0.47712, 0.47712, 0.47712, 0.47712, 0.47712, 0.47712, 0.47712, 0.47712, 0.47712, 0.47712, 0.47712, 0.47712, 0.47712, 0.47712, 0.47712, 0.47712, 0.47712, 0.47712, 0.47712, 0.47712, 0.47712, 0.47712, 0.47712, 0.47712, 0.47712, 0.47712, 0.47712, 0.39794, 0.47712, 0.47712, 1.38021, 0.47712, 0.47712, 0.47712, 0.47712, 0.47712, 0.47712, 0.47712, 0.47712, 0.47712, 0.47712, 0.47712, 0.47712, 0.47712, 0.47712, 0.47712, 0.47712, 0.47712, 1.04139, 0.47712, 0.47712, 0.47712, 0.47712, 0.47712, 0.47712, 0.47712, 0.47712, 0.47712, 0.47712, 0.47712, 0.47712, 0.60206, 0.47712, 0.47712, 0.47712, 0.69897, 0.69897, 0.47712, 0.60206, 0.47712, 0.47712, 0.47712, 0.47712, 0.47712, 0.47712, 0.39794, 0.47712, 0.47712, 0.47712, 0.47712, 0.47712, 0.47712, 0.47712, 0.47712, 0.47712, 0.47712, 0.47712, 0.47712, 0.47712, 0.36798, 0.47712, 0.47712, 0.47712, 0.47712, 0.77815, 0.47712, 0.47712, 0.60206, 0.8451, 0.47712, 0.47712, 0.47712, 0.47712, 0.47712, 0.47712, 0.47712, 0.47712, 0.47712, 0.47712, 0.47712, 0.47712, 0.47712, 0.47712, 0.47712, 0.39794, 0.47712, 0.69897, 0.60206, 0.47712, 0.47712, 0.47712, 0.36798, 0.33321, 0.69897, 0.47712, 0.60206, 0.69897, 0.47712, 0.60206, 0.47712, 0.47712, 0.69897, 0.69897, 0.60206, 0.60206, 0.47712, 0.47712, 0.47712, 0.60206, 0.39794, 0.69897, 0.47712, 0.60206, 0.60206, 0.47712, 0.47712, 0.47712, 0.47712, 0.47712, 0.47712, 0.47712, 0.47712, 0.60206, 0.47712, 0.60206, 0.47712, 0.47712, 0.47712, 0.47712, 0.39794, 0.47712, 0.47712, 0.47712, 0.47712, 0.47712, 0.47712, 0.47712, 0.47712, 0.47712, 0.47712, 0.47712, 0.47712, 0.47712, 0.47712, 0.47712, 0.47712, 0.47712, 0.47712, 0.47712, 0.47712, 0.47712, 0.47712, 0.47712, 0.47712, 0.47712, 0.35218, 0.60206, 0.47712, 0.47712, 0.47712, 0.47712, 0.47712, 0.47712, 0.47712, 0.47712, 0.47712, 0.35218, 0.47712, 0.77815, 0.47712, 0.47712, 0.33579, 0.47712, 0.47712, 0.47712, 0.77815, 0.60206, 0.60206, 0.60206, 0.60206, 0.47712, 0.47712, 0.47712, 0.47712, 0.47712, 0.69897, 0.69897, 0.47712, 0.47712, 0.60206, 0.60206, 0.60206, 0.60206, 0.60206, 0.60206, 0.47712, 0.60206, 0.47712, 0.47712, 0.47712, 0.47712, 0.47712, 0.47712, 0.47712, 0.60206, 0.34242, 0.60206, 0.60206, 0.47712, 0.47712, 0.47712, 0.47712, 0.47712, 0.69897, 0.47712, 0.47712, 0.47712, 0.47712, 0.47712, 0.47712, 0.60206, 0.47712, 0.47712, 0.47712, 0.47712, 0.47712, 0.47712, 0.69897, 0.60206, 0.47712, 0.47712, 0.47712, 0.47712, 0.47712, 0.47712, 0.47712, 0.47712, 0.47712, 0.47712, 0.47712, 0.47712, 0.47712, 0.47712, 0.47712, 0.47712, 0.60206, 0.47712, 0.47712, 0.47712, 0.47712, 0.47712, 0.47712, 0.47712, 0.47712, 0.47712, 0.47712, 0.47712, 0.47712, 0.47712, 0.47712, 0.47712, 0.47712, 0.47712, 0.47712, 0.47712, 0.47712, 0.47712, 0.47712, 0.47712, 0.47712, 0.47712, 0.47712, 0.47712, 0.47712, 0.47712, 0.47712, 0.47712, 0.47712, 0.47712, 0.47712, 0.47712, 0.90309, 0.90309, 0.90309, 0.90309, 0.90309, 0.90309, 0.47712, 0.47712, 0.33579, 0.47712, 0.47712, 0.47712, 0.47712, 0.47712, 0.47712, 0.47712, 0.47712, 0.47712, 0.47712, 0.47712, 0.47712, 0.47712, 0.47712, 0.47712, 0.47712, 0.39211, 0.47712, 0.60206, 0.47712, 0.47712, 0.47712, 0.47712, 0.47712, 0.47712, 0.47712, 0.47712, 0.47712, 0.60206, 0.47712, 0.47712, 0.47712, 0.47712, 0.47712, 0.47712, 0.47712, 0.47712, 0.47712, 0.47712, 0.47712, 0.47712, 0.47712, 0.39794, 0.47712, 0.47712, 0.47712, 0.47712, 0.47712, 0.60206, 0.65321, 0.60206, 0.47712, 0.47712, 0.47712, 0.47712, 0.47712, 0.47712, 0.47712, 0.39794, 0.60206, 0.33579, 0.47712, 0.47712, 0.47712, 0.47712, 0.47712, 0.47712, 0.47712, 0.47712, 0.47712, 0.47712, 0.47712, 0.47712, 0.47712, 0.47712, 0.47712, 0.47712, 0.47712, 0.47712, 0.47712, 0.47712, 0.47712, 0.47712, 0.47712, 0.47712, 0.47712, 0.47712, 0.47712, 0.47712, 0.47712, 0.47712, 0.47712, 0.47712, 0.47712, 0.60206, 0.60206, 0.95424, 0.90309, 0.47712, 0.47712, 0.47712, 0.47712, 0.31742, 0.47712, 0.47712, 0.47712, 0.47712, 0.47712, 0.47712, 0.47712, 0.47712, 0.47712, 0.47712, 0.47712, 0.60206, 0.47712, 0.47712, 0.47712, 0.47712, 0.47712, 0.47712, 0.47712, 0.47712, 0.47712, 0.47712, 0.47712, 0.47712, 0.47712, 0.47712, 0.47712, 0.47712, 0.47712, 0.47712, 0.47712, 0.47712, 0.47712, 0.47712, 0.47712, 0.47712, 0.36798, 0.47712, 0.47712, 0.47712, 0.47712, 0.47712, 0.47712, 0.47712, 0.47712, 0.47712, 0.47712, 0.47712, 0.47712, 0.47712, 0.47712, 0.47712, 0.47712, 0.47712, 0.47712, 0.47712, 0.47712, 0.47712, 0.47712, 0.8451, 0.39794, 0.47712, 0.47712, 0.47712, 0.47712, 0.47712, 0.60206, 0.47712, 0.47712, 0.47712, 0.47712, 0.47712, 0.47712, 0.47712, 0.47712, 0.47712, 0.47712, 0.47712, 0.47712, 0.47712, 0.47712, 0.47712, 0.47712, 0.47712, 0.47712, 0.47712, 0.47712, 0.47712, 0.47712, 0.36798, 0.47712, 0.47712, 0.47712, 0.47712, 0.39794, 0.47712, 0.47712, 0.47712, 0.47712, 0.47712, 0.47712, 0.47712, 0.33579, 0.47712, 0.47712, 0.47712, 0.47712, 0.47712, 0.47712, 0.47712, 0.47712, 0.47712, 0.35218, 0.47712, 0.47712, 0.60206, 0.60206, 0.60206, 0.47712, 0.47712, 0.47712, 0.47712, 0.39794, 0.60206, 0.47712, 0.47712, 0.47712, 0.60206, 0.47712, 0.47712, 0.47712, 0.47712, 0.77815, 0.47712, 0.47712, 0.47712, 0.47712, 0.47712, 0.47712, 0.47712, 0.47712, 0.47712, 0.47712, 0.47712, 0.47712, 0.47712, 0.35218, 0.47712, 0.47712, 0.60206, 0.47712, 0.47712, 0.47712, 0.47712, 0.47712, 0.47712, 0.47712, 0.47712, 0.47712, 0.47712, 0.47712, 0.47712, 0.47712, 0.47712, 0.47712, 0.47712, 0.47712, 0.47712, 0.69897, 0.47712, 0.47712, 0.47712, 0.47712, 0.60206, 0.47712, 0.47712, 0.47712, 0.47712, 0.47712, 0.47712, 0.47712, 0.47712, 0.47712, 0.47712, 0.47712, 0.47712, 0.60206, 0.60206, 0.47712, 0.47712, 0.47712, 0.47712, 0.47712, 0.60206, 0.47712, 0.47712, 0.47712, 0.47712, 0.47712, 0.47712, 0.47712, 0.47712, 0.47712, 0.47712, 0.47712, 0.47712, 0.60206, 0.47712, 0.47712, 0.47712, 0.60206, 0.60206, 0.47712, 0.47712, 0.47712, 0.47712, 0.47712, 0.47712, 0.47712, 0.47712, 0.39794, 0.47712, 0.47712, 0.47712, 0.60206, 0.47712, 0.47712, 0.47712, 0.60206, 0.47712, 0.47712, 0.47712, 0.47712, 0.47712, 0.47712, 0.47712, 0.47712, 0.69897, 0.47712, 0.47712, 0.47712, 0.47712, 0.47712, 0.47712, 0.47712, 0.47712, 0.47712, 0.47712, 0.47712, 0.47712, 0.47712, 0.47712, 0.47712, 0.47712, 0.47712, 0.47712, 0.33579, 0.47712, 0.60206, 0.47712, 0.47712, 0.60206, 0.47712, 0.47712, 0.47712, 0.47712, 0.47712, 0.47712, 0.47712, 0.47712, 0.47712, 0.47712, 0.47712, 0.60206, 0.47712, 0.47712, 0.47712, 0.47712, 0.47712, 0.47712, 0.47712, 0.31742, 0.69897, 0.47712, 0.69897, 0.47712, 0.60206, 0.47712, 0.47712, 0.47712, 0.47712, 0.47712, 0.47712, 0.47712, 0.47712, 0.60206, 0.47712, 0.47712, 0.47712, 0.47712, 0.47712, 0.47712, 0.77815, 0.47712, 0.47712, 0.60206, 0.60206, 0.60206, 0.47712, 0.47712, 0.35218, 0.47712, 0.69897, 0.47712, 0.47712, 0.60206, 0.60206, 0.77815, 0.47712, 0.47712, 0.47712, 0.47712, 0.60206, 0.60206, 0.60206, 0.60206, 0.47712, 0.60206, 0.60206, 0.47712, 0.60206, 0.47712, 0.47712, 0.47712, 0.47712, 0.47712, 0.47712, 0.60206, 0.47712, 0.39794, 0.69897, 0.47712, 0.47712, 0.47712, 0.47712, 0.47712, 0.47712, 0.60206, 0.47712, 0.47712, 0.47712, 0.47712, 0.77815, 0.47712, 0.77815, 0.77815, 0.77815, 0.47712, 0.47712, 0.47712, 0.47712, 0.47712, 0.47712, 0.47712, 0.69897, 0.47712, 0.39794, 0.39794, 0.47712, 0.47712, 0.47712, 0.36798, 0.47712, 0.47712, 0.47712, 0.47712, 0.47712, 0.47712, 0.47712, 0.47712, 0.47712, 0.47712, 0.47712, 0.47712, 0.47712, 0.47712, 0.47712, 0.47712, 0.47712, 0.47712, 0.47712, 0.47712, 0.47712, 0.47712, 0.47712, 0.47712, 0.47712, 0.69897, 0.47712, 0.47712, 0.39794, 0.47712, 0.47712, 0.69897, 0.47712, 0.47712, 0.47712, 0.47712, 0.47712, 0.47712, 0.47712, 0.60206, 0.47712, 0.47712, 0.47712, 0.47712, 0.39794, 0.47712, 0.47712, 0.47712, 0.47712, 0.47712, 1.14613, 0.69897, 0.47712, 0.54407, 0.47712, 0.47712, 0.47712, 0.47712, 0.47712, 0.47712, 0.47712, 0.47712, 0.47712, 0.47712, 0.47712, 0.47712, 0.47712, 0.47712, 0.47712, 0.47712, 0.47712, 0.47712, 0.47712, 0.47712, 0.60206, 0.47712, 0.47712, 0.34242, 0.35218, 0.69897, 0.47712, 0.47712, 0.47712, 0.60206, 0.60206, 0.60206, 0.60206, 0.60206, 0.47712, 0.47712, 0.47712, 0.47712, 0.39794, 0.47712, 0.47712, 0.47712, 0.47712, 0.47712, 0.47712, 0.47712, 0.47712, 0.60206, 0.60206, 0.47712, 0.47712, 0.47712, 0.60206, 0.36798, 0.47712, 0.47712, 0.47712, 0.47712, 0.47712, 0.47712, 0.47712, 0.47712, 0.60206, 0.47712, 0.47712, 0.47712, 0.47712, 0.47712, 0.47712, 0.47712, 0.47712, 0.47712, 0.47712, 0.47712, 0.33099, 0.47712, 0.47712, 0.47712, 0.47712, 0.47712, 0.47712, 0.47712, 0.47712, 0.47712, 0.47712, 0.47712, 0.60206, 0.47712, 0.47712, 0.60206, 0.47712, 0.47712, 0.77815, 0.47712, 0.47712, 0.35218, 0.47712, 0.47712, 0.47712, 0.47712, 0.47712, 0.47712, 0.47712, 0.47712, 0.39794, 0.47712, 0.47712, 0.47712, 0.47712, 0.60206, 0.47712, 0.47712, 0.47712, 0.47712, 0.47712, 0.47712, 0.47712, 0.47712, 0.47712, 0.47712, 0.47712, 0.47712, 0.47712, 0.47712, 0.47712, 0.47712, 0.47712, 0.47712, 0.47712, 0.47712, 0.47712, 0.47712, 0.47712, 0.60206, 0.60206, 0.47712, 0.47712, 0.47712, 0.47712, 0.60206, 0.47712, 0.47712, 0.47712, 0.47712, 0.47712, 0.47712, 0.47712, 0.47712, 0.8451, 0.47712, 0.47712, 0.47712, 0.47712, 0.47712, 0.39794, 0.47712, 0.47712, 0.47712, 0.47712, 0.60206, 0.47712, 0.47712, 0.47712, 0.47712, 0.47712, 0.47712, 0.47712, 0.47712, 0.47712, 0.47712, 0.47712, 0.47712, 0.47712, 0.47712, 0.47712, 0.47712, 0.47712, 0.47712, 0.47712, 0.60206, 0.47712, 0.47712, 0.47712, 0.47712, 0.60206, 0.47712, 0.47712, 0.47712, 0.47712, 0.47712, 0.47712, 0.47712, 0.47712, 0.47712, 0.47712, 0.47712, 0.47712, 0.47712, 0.47712, 0.47712, 0.47712, 0.47712, 0.47712, 0.47712, 0.60206, 0.47712, 0.47712, 0.47712, 0.47712, 0.47712, 0.47712, 0.47712, 0.47712, 0.47712, 0.47712, 0.47712, 0.47712, 0.69897, 0.60206, 0.47712, 0.60206, 0.47712, 0.47712, 0.60206, 0.35218, 0.47712, 0.47712, 0.47712, 0.47712, 0.47712, 0.47712, 0.47712, 0.47712, 0.47712, 0.47712, 0.47712, 0.47712, 0.47712, 0.47712, 0.47712, 0.47712, 0.47712, 0.47712, 0.47712, 0.47712, 0.47712, 0.47712, 0.47712, 0.36798, 0.47712, 0.47712, 0.47712, 0.47712, 0.69897, 0.47712, 0.47712, 0.47712, 0.47712, 0.47712, 0.47712, 0.47712, 0.47712, 0.47712, 0.47712, 0.60206, 0.60206, 0.47712, 0.47712, 0.47712, 0.47712, 0.47712, 0.47712, 0.47712, 0.47712, 0.47712, 0.47712, 0.47712, 0.47712, 0.47712, 0.47712, 0.47712, 0.47712, 0.47712, 0.47712, 0.47712, 0.47712, 0.32451, 0.47712, 0.47712, 0.47712, 0.47712, 0.47712, 0.47712, 0.47712, 0.47712, 0.47712, 0.47712, 0.60206, 0.47712, 0.47712, 0.47712, 0.47712, 0.47712, 0.47712, 0.47712, 0.47712, 0.47712, 0.47712, 0.47712, 0.47712, 0.32451, 0.47712, 0.47712, 0.47712, 0.39794, 0.34242, 0.47712, 0.69897, 0.47712, 0.60206, 0.47712, 0.47712, 0.47712, 0.60206, 0.47712, 0.47712, 0.47712, 0.60206, 0.60206, 0.60206, 0.47712, 0.47712, 0.47712, 0.47712, 0.47712, 0.47712, 0.47712, 0.47712, 0.47712, 0.60206, 0.47712, 0.47712, 0.47712, 0.47712, 0.47712, 0.47712, 0.32736, 0.60206, 0.47712, 0.47712, 0.47712, 0.47712, 0.47712, 0.47712, 0.47712, 0.47712, 0.47712, 0.47712, 0.47712, 0.47712, 0.47712, 0.47712, 0.47712, 0.47712, 0.47712, 0.47712, 0.47712, 0.47712, 0.47712, 0.47712, 0.47712, 0.47712, 0.47712, 0.47712, 0.47712, 0.47712, 0.47712, 0.47712, 0.47712, 0.47712, 0.47712, 0.47712, 0.47712, 0.47712, 0.47712, 0.47712, 0.47712, 0.47712, 0.47712, 0.47712, 0.47712, 0.47712, 0.47712, 0.47712, 0.47712, 0.47712, 0.47712, 0.47712, 0.47712, 0.47712, 0.47712, 0.47712, 0.47712, 0.47712, 0.47712, 0.47712, 0.47712, 0.36798, 0.36798, 0.47712, 0.47712, 0.47712, 0.47712, 0.47712, 0.47712, 0.60206, 0.47712, 0.47712, 0.47712, 0.47712, 0.47712, 0.47712, 0.47712, 0.47712, 0.47712, 0.47712, 0.47712, 0.47712, 0.47712, 0.47712, 0.47712, 0.47712, 0.47712, 0.47712, 0.47712, 0.47712, 0.60206, 0.60206, 0.47712, 0.47712, 0.47712, 0.8451, 0.47712, 0.47712, 0.47712, 0.47712, 0.47712, 0.47712, 0.47712, 0.47712, 0.47712, 0.47712, 0.47712, 0.47712, 0.47712, 0.39794, 0.47712, 0.47712, 0.47712, 0.47712, 0.47712, 0.47712, 0.47712, 0.47712, 0.47712, 0.60206, 0.60206, 0.60206, 0.47712, 0.60206, 0.60206, 0.60206, 0.69897, 0.60206, 0.47712, 0.47712, 0.47712, 0.60206, 0.47712, 0.47712, 0.47712, 0.47712, 0.47712, 0.69897, 0.47712, 0.47712, 0.47712, 0.47712, 0.47712, 0.47712, 0.47712, 0.47712, 0.47712, 0.47712, 0.47712, 0.47712, 0.47712, 0.47712, 0.47712, 0.47712, 0.47712, 0.39794, 0.47712, 0.47712, 0.47712, 0.47712, 0.47712, 0.47712, 0.47712, 0.47712, 0.47712, 0.47712, 0.47712, 0.47712, 0.47712, 0.47712, 1.07918, 0.47712, 0.47712, 0.47712, 0.47712, 0.47712, 0.47712, 0.47712, 0.47712, 0.47712, 0.47712, 1.32222, 0.60206, 0.47712, 0.47712, 0.47712, 0.60206, 0.60206, 0.60206, 0.60206, 0.47712, 0.47712, 0.47712, 0.47712, 0.47712, 0.47712, 0.47712, 0.47712, 0.60206, 0.47712, 0.69897, 0.47712, 0.47712, 0.47712, 0.47712, 0.47712, 0.47712, 0.47712, 0.47712, 0.47712, 0.47712, 0.60206, 0.47712, 0.47712, 0.47712, 0.47712, 0.47712, 0.47712, 0.47712, 0.47712, 0.47712, 0.47712, 0.47712, 0.47712, 0.47712, 0.47712, 0.39794, 0.47712, 0.47712, 0.47712, 0.47712, 0.60206, 0.60206, 0.47712, 0.47712, 0.47712, 0.47712, 0.47712, 0.47712, 0.47712, 0.47712, 0.47712, 0.60206, 0.60206, 0.60206, 0.60206, 0.60206, 0.60206, 0.47712, 0.47712, 0.47712, 0.47712, 0.47712, 0.47712, 0.47712, 0.47712, 0.47712, 0.47712, 0.47712, 0.47712, 0.47712, 0.47712, 0.47712, 0.47712, 0.47712, 0.47712, 0.47712, 0.47712, 0.69897, 0.47712, 0.47712, 0.47712, 0.47712, 0.47712, 0.47712, 0.47712, 0.47712, 0.47712, 0.47712, 0.47712, 0.47712, 0.47712, 0.47712, 0.47712, 0.47712, 0.69897, 0.47712, 0.47712, 0.47712, 0.47712, 0.47712, 0.47712, 0.47712, 0.47712, 0.47712, 0.47712, 0.47712, 0.47712, 0.47712, 0.47712, 0.47712, 0.47712, 0.60206, 0.47712, 0.47712, 0.47712, 0.47712, 0.47712, 0.47712, 0.47712, 0.47712, 0.47712, 0.47712, 0.47712, 0.47712, 0.47712, 0.47712, 0.47712, 0.47712, 0.47712, 0.60206, 0.47712, 0.47712, 0.47712, 0.60206, 0.47712, 0.47712, 0.47712, 0.39794, 0.47712, 0.47712, 0.47712, 0.47712, 0.47712, 0.47712, 0.47712, 0.47712, 0.47712, 0.47712, 0.47712, 0.47712, 0.47712, 0.47712, 0.47712, 0.47712, 0.60206, 0.60206, 0.47712, 0.47712, 0.39794, 0.47712, 0.47712, 0.47712, 0.47712, 0.47712, 0.47712, 0.47712, 0.47712, 0.47712, 0.47712, 0.47712, 0.47712, 0.47712, 0.47712, 0.47712, 0.47712, 0.42597, 0.47712, 0.47712, 0.47712, 0.47712, 0.47712, 0.47712, 0.60206, 0.47712, 0.47712, 0.47712, 0.47712, 0.47712, 0.8451, 0.60206, 0.47712, 0.47712, 0.47712, 0.47712, 0.47712, 0.77815, 0.47712, 0.47712, 0.47712, 0.47712, 0.47712, 0.47712, 0.60206, 0.47712, 0.47712, 0.47712, 0.47712, 0.60206, 0.47712, 0.47712, 0.47712, 0.47712, 0.47712, 0.47712, 0.47712, 0.47712, 0.47712, 0.47712, 0.47712, 0.47712, 0.47712, 0.47712, 0.47712, 0.47712, 0.47712, 0.47712, 0.47712, 0.47712, 0.47712, 0.47712, 0.34242, 0.47712, 0.47712, 0.47712, 0.47712, 0.47712, 0.47712, 0.47712, 0.47712, 0.47712, 0.47712, 0.47712, 0.60206, 0.47712, 0.47712, 0.47712, 0.47712, 0.47712, 0.47712, 0.47712, 0.47712, 0.69897, 0.47712, 0.47712, 0.47712, 0.47712, 0.39794, 0.47712, 0.47712, 0.47712, 0.47712, 0.47712, 0.47712, 0.47712, 0.47712, 0.47712, 0.47712, 0.47712, 0.47712, 0.47712, 0.47712, 0.47712, 0.47712, 0.47712, 0.47712, 0.47712, 0.47712, 0.47712, 0.47712, 0.60206, 0.47712, 0.47712, 0.47712, 0.47712, 0.47712, 0.47712, 0.47712, 0.47712, 0.47712, 0.74036, 0.47712, 0.47712, 0.60206, 0.47712, 0.47712, 0.47712, 0.47712, 0.47712, 0.47712, 0.47712, 0.47712, 0.47712, 0.47712, 0.47712, 0.47712, 0.47712, 0.47712, 0.60206, 0.47712, 0.47712, 0.47712, 0.47712, 0.47712, 0.47712, 0.47712, 0.47712, 0.47712, 0.47712, 0.47712, 0.47712, 0.47712, 0.47712, 0.47712, 0.47712, 0.47712, 0.47712, 0.39794, 0.47712, 0.47712, 0.47712, 0.47712, 0.47712, 0.47712, 0.47712, 0.47712, 0.47712, 0.47712, 0.47712, 0.47712, 0.47712, 0.47712, 0.47712, 0.47712, 0.47712, 0.47712, 0.47712, 0.47712, 0.47712, 0.47712, 0.47712, 0.47712, 0.47712, 0.47712, 0.60206, 0.60206, 0.47712, 0.60206, 0.60206, 0.47712, 0.47712, 0.60206, 0.60206, 0.47712, 0.60206, 0.47712, 0.47712, 0.47712, 0.47712, 0.47712, 0.47712, 0.47712, 0.47712, 0.47712, 0.47712, 0.47712, 0.47712, 0.47712, 0.47712, 0.60206, 0.8451, 0.47712, 0.47712, 0.47712, 0.47712, 0.47712, 0.47712, 0.69897, 0.60206, 0.60206, 0.47712, 1.0, 0.47712, 0.8451, 0.47712, 0.47712, 0.47712, 0.47712, 0.47712, 0.47712, 0.47712, 0.47712, 0.47712, 0.47712, 0.47712, 0.47712, 0.47712, 0.47712, 0.47712, 0.39794, 0.47712, 0.77815, 0.47712, 0.47712, 0.47712, 0.47712, 0.47712, 0.47712, 0.60206, 0.47712, 0.47712, 0.47712, 1.25527, 0.47712, 0.47712, 0.47712, 0.47712, 0.47712, 0.47712, 0.47712, 0.47712, 0.47712, 0.47712, 0.47712, 0.47712, 0.47712, 0.47712, 0.47712, 0.47712, 0.47712, 0.47712, 0.47712, 0.47712, 0.47712, 0.47712, 0.47712, 0.60206, 0.47712, 0.47712, 0.60206, 0.47712, 0.47712, 0.47712, 0.47712, 0.47712, 0.47712, 0.34242, 0.47712, 0.47712, 0.60206, 0.47712, 0.35218, 0.47712, 0.47712, 0.47712, 0.47712, 0.60206, 0.60206, 0.60206, 0.47712, 0.47712, 0.47712, 0.47712, 0.47712, 0.47712, 0.33099, 0.47712, 0.47712, 0.47712, 0.47712, 0.34242, 0.47712, 0.47712, 0.60206, 0.47712, 0.60206, 0.47712, 0.47712, 0.47712, 0.47712, 0.47712, 0.47712, 0.35218, 0.47712, 0.47712, 0.47712, 0.47712, 0.47712, 0.47712, 0.47712, 0.47712, 0.47712, 0.47712, 0.47712, 0.47712, 0.47712, 0.47712, 0.47712, 0.47712, 0.47712, 0.47712, 0.47712, 0.47712, 0.47712, 0.39794, 0.39794, 0.47712, 0.47712, 0.47712, 0.47712, 0.47712, 0.47712, 0.47712, 0.47712, 0.47712, 0.47712, 0.47712, 0.47712, 0.47712, 0.47712, 0.47712, 0.47712, 0.47712, 0.47712, 0.47712, 0.47712, 0.47712, 0.47712, 0.47712, 0.60206, 0.47712, 0.47712, 0.47712, 0.47712, 0.47712, 0.47712, 0.60206, 0.47712, 0.47712, 0.60206, 0.47712, 0.47712, 0.47712, 0.47712, 0.47712, 0.47712, 0.47712, 0.60206, 0.47712, 0.32034, 0.60206, 0.47712, 0.60206, 0.77815, 0.47712, 0.47712, 0.47712, 0.47712, 0.39794, 0.47712, 0.47712, 0.47712, 0.47712, 0.47712, 0.60206, 0.47712, 0.47712, 0.47712, 0.47712, 0.47712, 0.47712, 0.47712, 0.47712, 0.47712, 0.47712, 0.47712, 0.47712, 0.69897, 0.47712, 0.47712, 0.47712, 0.47712, 0.47712, 0.39794, 0.47712, 0.47712, 0.47712, 0.47712, 0.47712, 0.69897, 0.47712, 0.34242, 0.47712, 0.47712, 0.47712, 0.47712, 0.47712, 0.47712, 0.47712, 0.47712, 0.47712, 0.47712, 0.60206, 0.47712, 0.47712, 0.47712, 0.47712, 0.47712, 0.47712, 0.47712, 0.47712, 0.47712, 0.47712, 0.47712, 0.47712, 0.47712, 0.47712, 0.47712, 1.07918, 1.07918, 0.47712, 0.47712, 0.47712, 0.47712, 0.47712, 0.38021, 0.60206, 0.47712, 0.60206, 0.47712, 0.47712, 0.47712, 0.47712, 0.47712, 0.47712, 0.47712, 0.47712, 0.47712, 0.47712, 0.47712, 0.69897, 0.47712, 0.39794, 0.47712, 0.47712, 0.47712, 0.47712, 0.47712, 0.47712, 0.47712, 0.47712, 0.47712, 0.47712, 0.95424, 0.47712, 0.47712, 0.47712, 0.47712, 0.47712, 0.47712, 0.47712, 0.47712, 0.47712, 0.47712, 0.47712, 0.47712, 0.47712, 0.47712, 0.47712, 0.47712, 0.47712, 0.47712, 0.47712, 0.47712, 0.47712, 0.47712, 0.47712, 0.47712, 0.47712, 0.47712, 0.47712, 0.47712, 0.47712, 0.47712, 0.47712, 0.47712, 0.47712, 0.47712, 0.47712, 0.47712, 0.8451, 0.47712, 0.47712, 0.47712, 0.47712, 0.47712, 0.47712, 0.33099, 0.47712, 0.47712, 0.47712, 0.47712, 0.47712, 0.47712, 0.47712, 0.69897, 0.69897, 0.69897, 0.69897, 0.47712, 0.47712, 0.47712, 0.47712, 0.69897, 0.47712, 0.47712, 0.47712, 0.47712, 0.47712, 0.47712, 0.47712, 0.47712, 0.47712, 0.47712, 0.47712, 0.47712, 0.47712, 0.47712, 0.47712, 0.47712, 0.47712, 0.47712, 0.47712, 0.60206, 0.47712, 0.47712, 0.47712, 0.47712, 0.47712, 0.47712, 0.47712, 0.47712, 0.47712, 0.47712, 0.47712, 0.47712, 0.47712, 0.47712, 0.47712, 0.47712, 0.47712, 0.47712, 0.47712, 0.47712, 0.47712, 0.47712, 0.47712, 0.47712, 0.47712, 0.47712, 0.47712, 0.47712, 0.47712, 0.47712, 0.47712, 0.47712, 0.47712, 0.47712, 0.47712, 0.60206, 0.47712, 0.47712, 0.47712, 0.47712, 0.47712, 0.47712, 0.47712, 0.47712, 0.47712, 0.47712, 0.47712, 0.47712, 0.47712, 0.47712, 0.47712, 0.47712, 0.47712, 0.47712, 0.47712, 0.47712, 0.47712, 0.47712, 0.47712, 0.47712, 0.47712, 0.77815, 0.47712, 0.47712, 0.47712, 0.47712, 0.47712, 0.47712, 0.47712, 0.47712, 0.34242, 0.47712, 0.47712, 0.47712, 0.47712, 0.47712, 0.47712, 0.47712, 0.47712, 0.47712, 0.47712, 0.47712, 0.47712, 0.47712, 0.47712, 0.60206, 0.33099, 0.77815, 0.47712, 0.47712, 0.47712, 0.47712, 0.47712, 0.47712, 0.47712, 0.47712, 0.47712, 0.47712, 0.47712, 0.47712, 0.47712, 0.47712, 0.47712, 0.47712, 0.47712, 0.47712, 0.47712, 0.47712, 0.47712, 0.47712, 0.60206, 0.47712, 0.47712, 0.47712, 0.47712, 0.47712, 0.42597, 0.47712, 0.47712, 0.47712, 0.47712, 0.47712, 0.47712, 0.47712, 0.47712, 0.47712, 0.47712, 0.32451, 0.47712, 0.47712, 0.47712, 0.47712, 0.47712, 0.47712, 0.47712, 0.47712, 0.47712, 0.39794, 0.47712, 0.47712, 0.47712, 0.47712, 0.47712, 0.47712, 0.47712, 0.47712, 0.35218, 0.47712, 0.47712, 0.47712, 0.47712, 0.47712, 0.47712, 0.47712, 0.47712, 0.47712, 0.47712, 0.47712, 0.47712, 0.47712, 0.60206, 0.47712, 0.60206, 0.47712, 0.47712, 0.47712, 0.47712, 0.47712, 0.47712, 0.47712, 0.47712, 0.47712, 0.77815, 0.77815, 0.47712, 0.47712, 0.47712, 0.60206, 0.47712, 0.47712, 0.47712, 0.47712, 0.47712, 0.47712, 0.47712, 0.47712, 0.47712, 0.47712, 0.47712, 0.47712, 0.47712, 0.47712, 0.47712, 0.47712, 0.47712, 0.47712, 0.47712, 0.47712, 0.47712, 0.47712, 0.47712, 0.47712, 0.47712, 0.47712, 0.47712, 0.47712, 0.47712, 0.47712, 0.47712, 0.47712, 0.47712, 0.60206, 0.47712, 0.60206, 0.47712, 0.47712, 0.47712, 0.47712, 0.47712, 0.47712, 0.36798, 0.47712, 0.47712, 0.47712, 0.47712, 0.39794, 0.47712, 0.47712, 0.47712, 0.36798, 0.47712, 0.60206, 0.47712, 0.47712, 0.47712, 0.47712, 0.47712, 0.47712, 0.47712, 0.47712, 0.36798, 0.47712, 0.47712, 0.47712, 0.47712, 0.47712, 0.47712, 0.47712, 0.32222, 0.47712, 0.47712, 0.47712, 0.47712, 0.47712, 0.47712, 0.47712, 0.77815, 0.47712, 0.47712, 0.47712, 0.47712, 0.47712, 0.47712, 0.47712, 0.47712, 0.47712, 0.47712, 0.47712, 0.47712, 0.47712, 0.47712, 0.47712, 0.47712, 0.47712, 0.47712, 0.47712, 0.47712, 0.90309, 0.47712, 0.47712, 0.47712, 0.47712, 0.47712, 0.47712, 0.47712, 0.47712, 0.47712, 0.47712, 0.47712, 0.47712, 0.47712, 0.47712, 0.47712, 0.47712, 0.47712, 0.47712, 0.47712, 0.47712, 0.47712, 0.47712, 0.47712, 0.47712, 0.47712, 0.47712, 0.47712, 0.47712, 0.47712, 0.47712, 0.47712, 0.47712, 0.47712, 0.47712, 0.47712, 0.47712, 0.47712, 0.47712, 0.47712, 0.47712, 0.47712, 0.47712, 0.47712, 0.47712, 0.47712, 0.47712, 0.47712, 0.47712, 0.47712, 0.47712, 0.47712, 0.47712, 0.47712, 0.47712, 0.47712, 0.47712, 0.47712, 0.47712, 0.47712, 0.47712, 0.47712, 0.47712, 0.47712, 0.47712, 0.47712, 0.47712, 0.47712, 0.47712, 0.47712, 0.47712, 0.47712, 0.47712, 0.47712, 0.47712, 0.47712, 0.47712, 0.47712, 0.36798, 0.47712, 0.47712, 0.47712, 0.47712, 0.47712, 0.47712, 0.47712, 0.47712, 0.47712, 0.47712, 0.47712, 0.47712, 0.47712, 0.47712, 0.47712, 0.47712, 1.04139, 1.04139, 1.04139, 1.04139, 1.17609, 1.17609, 1.14613, 1.14613, 0.8451, 0.8451, 1.04139, 0.47712, 0.47712, 0.77815, 0.47712, 0.47712, 0.47712, 0.47712, 0.47712, 0.47712, 0.31293, 0.47712, 0.39794, 0.47712, 0.47712, 0.47712, 0.47712, 0.47712, 0.47712, 0.47712, 0.47712, 0.47712, 0.47712, 0.47712, 0.47712, 0.47712, 0.47712, 0.47712, 0.47712, 0.47712, 0.47712, 0.47712, 0.47712, 0.47712, 0.60206, 0.47712, 0.47712, 0.47712, 0.47712, 0.47712, 0.47712, 1.0, 0.95424, 0.47712, 0.47712, 0.60206, 0.47712, 0.47712, 0.47712, 0.47712, 0.47712, 0.47712, 0.47712, 0.47712, 0.60206, 0.47712, 0.47712, 0.69897, 0.69897, 0.47712, 0.47712, 0.47712, 0.47712, 0.47712, 0.47712, 0.47712, 0.47712, 0.47712, 0.47712, 0.47712, 0.47712, 0.47712, 0.47712, 0.47712, 0.47712, 0.39794, 0.47712, 0.47712, 0.47712, 0.47712, 0.47712, 0.47712, 0.47712, 0.47712, 0.47712, 0.47712, 0.47712, 0.47712, 0.47712, 0.47712, 0.77815, 0.77815, 0.47712, 0.47712, 0.47712, 0.69897, 0.69897, 0.47712, 0.60206, 0.47712, 0.47712, 0.47712, 0.47712, 0.47712, 0.47712, 0.47712, 0.47712, 0.47712, 0.47712, 0.47712, 0.47712, 0.47712, 0.47712, 0.47712, 0.47712, 0.47712, 0.47712, 0.47712, 0.47712, 0.47712, 0.47712, 0.47712, 0.47712, 0.47712, 0.47712, 0.47712, 0.47712, 0.47712, 0.47712, 0.47712, 0.47712, 0.47712, 0.47712, 0.47712, 0.47712, 0.47712, 0.47712, 0.47712, 0.47712, 0.47712, 0.47712, 0.47712, 0.47712, 0.47712, 0.47712, 0.47712, 0.47712, 0.60206, 0.47712, 0.47712, 0.47712, 0.47712, 0.47712, 0.47712, 0.47712, 0.47712, 0.47712, 0.47712, 1.04139, 0.47712, 0.47712, 0.47712, 0.47712, 0.47712, 0.47712, 0.39794, 0.47712, 0.47712, 0.47712, 0.47712, 0.47712, 0.47712, 0.47712, 0.47712, 0.47712, 0.47712, 0.47712, 0.47712, 0.47712, 0.47712, 0.39794, 0.47712, 0.47712, 0.47712, 0.47712, 0.47712, 0.47712, 0.47712, 0.47712, 0.47712, 0.47712, 0.30103, 0.30103, 0.30103, 0.30103, 0.30103, 0.30103, 0.30103, 0.30103, 0.30103, 0.30103, 0.30103, 0.30103, 0.30103, 0.30103, 0.30103, 0.30103, 0.30103, 0.30103, 0.30103, 0.30103, 0.30103, 0.30103, 0.30103, 0.30103, 0.30103, 0.30103, 0.30103, 0.30103, 0.30103, 0.30103, 0.30103, 0.30103, 0.30103, 0.30103, 0.30103, 0.30103, 0.30103, 0.30103, 0.30103, 0.30103, 0.30103, 0.30103, 0.30103, 0.30103, 0.30103, 0.30103, 0.30103, 0.30103, 0.30103, 0.30103, 0.30103, 0.30103, 0.30103, 0.30103, 0.30103, 0.30103, 0.30103, 0.30103, 0.30103, 0.30103, 0.30103, 0.30103, 0.30103, 0.30103, 0.30103, 0.30103, 0.30103, 0.30103, 0.30103, 0.30103, 0.30103, 0.30103, 0.30103, 0.30103, 0.30103, 0.30103, 0.30103, 0.30103, 0.30103, 0.30103, 0.30103, 0.30103, 0.30103, 0.30103, 0.30103, 0.30103, 0.30103, 0.30103, 0.30103, 0.30103, 0.30103, 0.30103, 0.30103, 0.30103, 0.30103, 0.30103, 0.30103, 0.30103, 0.30103, 0.30103, 0.30103, 0.30103, 0.30103, 0.30103, 0.30103, 0.30103, 0.30103, 0.30103, 0.30103, 0.30103, 0.30103, 0.30103, 0.30103, 0.30103, 0.30103, 0.30103, 0.30103, 0.30103, 0.30103, 0.30103, 0.30103, 0.30103, 0.30103, 0.30103, 0.30103, 0.30103, 0.30103, 0.30103, 0.30103, 0.30103, 0.30103, 0.30103, 0.30103, 0.30103, 0.30103, 0.30103, 0.30103, 0.30103, 0.30103, 0.30103, 0.30103, 0.30103, 0.30103, 0.30103, 0.30103, 0.30103, 0.30103, 0.30103, 0.30103, 0.30103, 0.30103, 0.30103, 0.30103, 0.30103, 0.30103, 0.30103, 0.30103, 0.30103, 0.30103, 0.30103, 0.30103, 0.30103, 0.30103, 0.30103, 0.30103, 0.30103, 0.30103, 0.30103, 0.30103, 0.30103, 0.30103, 0.30103, 0.30103, 0.30103, 0.30103, 0.30103, 0.30103, 0.30103, 0.30103, 0.30103, 0.30103, 0.30103, 0.30103, 0.30103, 0.30103, 0.30103, 0.30103, 0.30103, 0.30103, 0.30103, 0.30103, 0.30103, 0.30103, 0.30103, 0.30103, 0.30103, 0.30103, 0.30103, 0.30103, 0.30103, 0.30103, 0.30103, 0.30103, 0.30103, 0.30103, 0.30103, 0.30103, 0.30103, 0.30103, 0.30103, 0.30103, 0.30103, 0.30103, 0.30103, 0.30103, 0.30103, 0.30103, 0.30103, 0.30103, 0.30103, 0.30103, 0.30103, 0.30103, 0.30103, 0.30103, 0.30103, 0.30103, 0.30103, 0.30103, 0.30103, 0.30103, 0.30103, 0.30103, 0.30103, 0.30103, 0.30103, 0.30103, 0.30103, 0.30103, 0.30103, 0.30103, 0.30103, 0.30103, 0.30103, 0.30103, 0.30103, 0.30103, 0.30103, 0.30103, 0.30103, 0.30103, 0.30103, 0.30103, 0.30103, 0.30103, 0.30103, 0.30103, 0.30103, 0.30103, 0.30103, 0.30103, 0.30103, 0.30103, 0.30103, 0.30103, 0.30103, 0.30103, 0.30103, 0.30103, 0.30103, 0.30103, 0.30103, 0.30103, 0.30103, 0.30103, 0.30103, 0.30103, 0.30103, 0.30103, 0.30103, 0.30103, 0.30103, 0.30103, 0.30103, 0.30103, 0.30103, 0.30103, 0.30103, 0.30103, 0.30103, 0.30103, 0.30103, 0.30103, 0.30103, 0.30103, 0.30103, 0.30103, 0.30103, 0.30103, 0.30103, 0.30103, 0.30103, 0.30103, 0.30103, 0.30103, 0.30103, 0.30103, 0.30103, 0.30103, 0.30103, 0.30103, 0.30103, 0.30103, 0.30103, 0.30103, 0.30103, 0.30103, 0.30103, 0.30103, 0.30103, 0.30103, 0.30103, 0.30103, 0.30103, 0.30103, 0.30103, 0.30103, 0.30103, 0.30103, 0.30103, 0.30103, 0.30103, 0.30103, 0.30103, 0.30103, 0.30103, 0.30103, 0.30103, 0.30103, 0.30103, 0.30103, 0.30103, 0.30103, 0.30103, 0.30103, 0.30103, 0.30103, 0.30103, 0.30103, 0.30103, 0.30103, 0.30103, 0.30103, 0.30103, 0.30103, 0.30103, 0.30103, 0.30103, 0.30103, 0.30103, 0.30103, 0.30103, 0.30103, 0.30103, 0.30103, 0.30103, 0.30103, 0.30103, 0.30103, 0.30103, 0.30103, 0.30103, 0.30103, 0.30103, 0.30103, 0.30103, 0.30103, 0.30103, 0.30103, 0.30103, 0.30103, 0.30103, 0.30103, 0.30103, 0.30103, 0.30103, 0.30103, 0.30103, 0.30103, 0.30103, 0.30103, 0.30103, 0.30103, 0.30103, 0.30103, 0.30103, 0.30103, 0.30103, 0.30103, 0.30103, 0.30103, 0.30103, 0.30103, 0.30103, 0.30103, 0.30103, 0.30103, 0.30103, 0.30103, 0.30103, 0.30103, 0.30103, 0.30103, 0.30103, 0.30103, 0.30103, 0.30103, 0.30103, 0.30103, 0.30103, 0.30103, 0.30103, 0.30103, 0.30103, 0.30103, 0.30103, 0.30103, 0.30103, 0.30103, 0.30103, 0.30103, 0.30103, 0.30103, 0.30103, 0.30103, 0.30103, 0.30103, 0.30103, 0.30103, 0.30103, 0.30103, 0.30103, 0.30103, 0.30103, 0.30103, 0.30103, 0.30103, 0.30103, 0.30103, 0.30103, 0.30103, 0.30103, 0.30103, 0.30103, 0.30103, 0.30103, 0.30103, 0.30103, 0.30103, 0.30103, 0.30103, 0.30103, 0.30103, 0.30103, 0.30103, 0.30103, 0.30103, 0.30103, 0.30103, 0.30103, 0.30103, 0.30103, 0.30103, 0.30103, 0.30103, 0.30103, 0.30103, 0.30103, 0.30103, 0.30103, 0.30103, 0.30103, 0.30103, 0.30103, 0.30103, 0.30103, 0.30103, 0.30103, 0.30103, 0.30103, 0.30103, 0.30103, 0.30103, 0.30103, 0.30103, 0.30103, 0.30103, 0.30103, 0.30103, 0.30103, 0.30103, 0.30103, 0.30103, 0.30103, 0.30103, 0.30103, 0.30103, 0.30103, 0.30103, 0.30103, 0.30103, 0.30103, 0.30103, 0.30103, 0.30103, 0.30103, 0.30103, 0.30103, 0.30103, 0.30103, 0.30103, 0.30103, 0.30103, 0.30103, 0.30103, 0.30103, 0.30103, 0.30103, 0.30103, 0.30103, 0.30103, 0.30103, 0.30103, 0.30103, 0.30103, 0.30103, 0.30103, 0.30103, 0.30103, 0.30103, 0.30103, 0.30103, 0.30103, 0.30103, 0.30103, 0.30103, 0.30103, 0.30103, 0.30103, 0.30103, 0.30103, 0.30103, 0.30103, 0.30103, 0.30103, 0.30103, 0.30103, 0.30103, 0.30103, 0.30103, 0.30103, 0.30103, 0.30103, 0.30103, 0.30103, 0.30103, 0.30103, 0.30103, 0.30103, 0.30103, 0.30103, 0.30103, 0.30103, 0.30103, 0.30103, 0.30103, 0.30103, 0.30103, 0.30103, 0.30103, 0.30103, 0.30103, 0.30103, 0.30103, 0.30103, 0.30103, 0.30103, 0.30103, 0.30103, 0.30103, 0.30103, 0.30103, 0.30103, 0.30103, 0.30103, 0.30103, 0.30103, 0.30103, 0.30103, 0.30103, 0.30103, 0.30103, 0.30103, 0.30103, 0.30103, 0.30103, 0.30103, 0.30103, 0.30103, 0.30103, 0.30103, 0.30103, 0.30103, 0.30103, 0.30103, 0.30103, 0.30103, 0.30103, 0.30103, 0.30103, 0.30103, 0.30103, 0.30103, 0.30103, 0.30103, 0.30103, 0.30103, 0.30103, 0.30103, 0.30103, 0.30103, 0.30103, 0.30103, 0.30103, 0.30103, 0.30103, 0.30103, 0.30103, 0.30103, 0.30103, 0.30103, 0.30103, 0.30103, 0.30103, 0.30103, 0.30103, 0.30103, 0.30103, 0.30103, 0.30103, 0.30103, 0.30103, 0.30103, 0.30103, 0.30103, 0.30103, 0.30103, 0.30103, 0.30103, 0.30103, 0.30103, 0.30103, 0.30103, 0.30103, 0.30103, 0.30103, 0.30103, 0.30103, 0.30103, 0.30103, 0.30103, 0.30103, 0.30103, 0.30103, 0.30103, 0.30103, 0.30103, 0.30103, 0.30103, 0.30103, 0.30103, 0.30103, 0.30103, 0.30103, 0.30103, 0.30103, 0.30103, 0.30103, 0.30103, 0.30103, 0.30103, 0.30103, 0.30103, 0.30103, 0.30103, 0.30103, 0.30103, 0.30103, 0.30103, 0.30103, 0.30103, 0.30103, 0.30103, 0.30103, 0.30103, 0.30103, 0.30103, 0.30103, 0.30103, 0.30103, 0.30103, 0.30103, 0.30103, 0.30103, 0.30103, 0.30103, 0.30103, 0.30103, 0.30103, 0.30103, 0.30103, 0.30103, 0.30103, 0.30103, 0.30103, 0.30103, 0.30103, 0.30103, 0.30103, 0.30103, 0.30103, 0.30103, 0.30103, 0.30103, 0.30103, 0.30103, 0.30103, 0.30103, 0.30103, 0.30103, 0.30103, 0.30103, 0.30103, 0.30103, 0.30103, 0.30103, 0.30103, 0.30103, 0.30103, 0.30103, 0.30103, 0.30103, 0.30103, 0.30103, 0.30103, 0.30103, 0.30103, 0.30103, 0.30103, 0.30103, 0.30103, 0.30103, 0.30103, 0.30103, 0.30103, 0.30103, 0.30103, 0.30103, 0.30103, 0.30103, 0.30103, 0.30103, 0.30103, 0.30103, 0.30103, 0.30103, 0.30103, 0.30103, 0.30103, 0.30103, 0.30103, 0.30103, 0.30103, 0.30103, 0.30103, 0.30103, 0.30103, 0.30103, 0.30103, 0.30103, 0.30103, 0.30103, 0.30103, 0.30103, 0.30103, 0.30103, 0.30103, 0.30103, 0.30103, 0.30103, 0.30103, 0.30103, 0.30103, 0.30103, 0.30103, 0.30103, 0.30103, 0.30103, 0.30103, 0.30103, 0.30103, 0.30103, 0.30103, 0.30103, 0.30103, 0.30103, 0.30103, 0.30103, 0.30103, 0.30103, 0.30103, 0.30103, 0.30103, 0.30103, 0.30103, 0.30103, 0.30103, 0.30103, 0.30103, 0.30103, 0.30103, 0.30103, 0.30103, 0.30103, 0.30103, 0.30103, 0.30103, 0.30103, 0.30103, 0.30103, 0.30103, 0.30103, 0.30103, 0.30103, 0.30103, 0.30103, 0.30103, 0.30103, 0.30103, 0.30103, 0.30103, 0.30103, 0.30103, 0.30103, 0.30103, 0.30103, 0.30103, 0.30103, 0.30103, 0.30103, 0.30103, 0.30103, 0.30103, 0.30103, 0.30103, 0.30103, 0.30103, 0.30103, 0.30103, 0.30103, 0.30103, 0.30103, 0.30103, 0.30103, 0.30103, 0.30103, 0.30103, 0.30103, 0.30103, 0.30103, 0.30103, 0.30103, 0.30103, 0.30103, 0.30103, 0.30103, 0.30103, 0.30103, 0.30103, 0.30103, 0.30103, 0.30103, 0.30103, 0.30103, 0.30103, 0.30103, 0.30103, 0.30103, 0.30103, 0.30103, 0.30103, 0.30103, 0.30103, 0.30103, 0.30103, 0.30103, 0.30103, 0.30103, 0.30103, 0.30103, 0.30103, 0.30103, 0.30103, 0.30103, 0.30103, 0.30103, 0.30103, 0.30103, 0.30103, 0.30103, 0.30103, 0.30103, 0.30103, 0.30103, 0.30103, 0.30103, 0.30103, 0.30103, 0.30103, 0.30103, 0.30103, 0.30103, 0.30103, 0.30103, 0.30103, 0.30103, 0.30103, 0.30103, 0.30103, 0.30103, 0.30103, 0.30103, 0.30103, 0.30103, 0.30103, 0.30103, 0.30103, 0.30103, 0.30103, 0.30103, 0.30103, 0.30103, 0.30103, 0.30103, 0.30103, 0.30103, 0.30103, 0.30103, 0.30103, 0.30103, 0.30103, 0.30103, 0.30103, 0.30103, 0.30103, 0.30103, 0.30103, 0.30103, 0.30103, 0.30103, 0.30103, 0.30103, 0.30103, 0.30103, 0.30103, 0.30103, 0.30103, 0.30103, 0.30103, 0.30103, 0.30103, 0.30103, 0.30103, 0.30103, 0.30103, 0.30103, 0.30103, 0.30103, 0.30103, 0.30103, 0.30103, 0.30103, 0.30103, 0.30103, 0.30103, 0.30103, 0.30103, 0.30103, 0.30103, 0.30103, 0.30103, 0.30103, 0.30103, 0.30103, 0.30103, 0.30103, 0.30103, 0.30103, 0.30103, 0.30103, 0.30103, 0.30103, 0.30103, 0.30103, 0.30103, 0.30103, 0.30103, 0.30103, 0.30103, 0.30103, 0.30103, 0.30103, 0.30103, 0.30103, 0.30103, 0.30103, 0.30103, 0.30103, 0.30103, 0.30103, 0.30103, 0.30103, 0.30103, 0.30103, 0.30103, 0.30103, 0.30103, 0.30103, 0.30103, 0.30103, 0.30103, 0.30103, 0.30103, 0.30103, 0.30103, 0.30103, 0.30103, 0.30103, 0.30103, 0.30103, 0.30103, 0.30103, 0.30103, 0.30103, 0.30103, 0.30103, 0.30103, 0.30103, 0.30103, 0.30103, 0.30103, 0.30103, 0.30103, 0.30103, 0.30103, 0.30103, 0.30103, 0.30103, 0.30103, 0.30103, 0.30103, 0.30103, 0.30103, 0.30103, 0.30103, 0.30103, 0.30103, 0.30103, 0.30103, 0.30103, 0.30103, 0.30103, 0.30103, 0.30103, 0.30103, 0.30103, 0.30103, 0.30103, 0.30103, 0.30103, 0.30103, 0.30103, 0.30103, 0.30103, 0.30103, 0.30103, 0.30103, 0.30103, 0.30103, 0.30103, 0.30103, 0.30103, 0.30103, 0.30103, 0.30103, 0.30103, 0.30103, 0.30103, 0.30103, 0.30103, 0.30103, 0.30103, 0.30103, 0.30103, 0.30103, 0.30103, 0.30103, 0.30103, 0.30103, 0.30103, 0.30103, 0.30103, 0.30103, 0.30103, 0.30103, 0.30103, 0.30103, 0.30103, 0.30103, 0.30103, 0.30103, 0.30103, 0.30103, 0.30103, 0.30103, 0.30103, 0.30103, 0.30103, 0.30103, 0.30103, 0.30103, 0.30103, 0.30103, 0.30103, 0.30103, 0.30103, 0.30103, 0.30103, 0.30103, 0.30103, 0.30103, 0.30103, 0.30103, 0.30103, 0.30103, 0.30103, 0.30103, 0.30103, 0.30103, 0.30103, 0.30103, 0.30103, 0.30103, 0.30103, 0.30103, 0.30103, 0.30103, 0.30103, 0.30103, 0.30103, 0.30103, 0.30103, 0.30103, 0.30103, 0.30103, 0.30103, 0.30103, 0.30103, 0.30103, 0.30103, 0.30103, 0.30103, 0.30103, 0.30103, 0.30103, 0.30103, 0.30103, 0.30103, 0.30103, 0.30103, 0.30103, 0.30103, 0.30103, 0.30103, 0.30103, 0.30103, 0.30103, 0.30103, 0.30103, 0.30103, 0.30103, 0.30103, 0.30103, 0.30103, 0.30103, 0.30103, 0.30103, 0.30103, 0.30103, 0.30103, 0.30103, 0.30103, 0.30103, 0.30103, 0.30103, 0.30103, 0.30103, 0.30103, 0.30103, 0.30103, 0.30103, 0.30103, 0.30103, 0.30103, 0.30103, 0.30103, 0.30103, 0.30103, 0.30103, 0.30103, 0.30103, 0.30103, 0.30103, 0.30103, 0.30103, 0.30103, 0.30103, 0.30103, 0.30103, 0.30103, 0.30103, 0.30103, 0.30103, 0.30103, 0.30103, 0.30103, 0.30103, 0.30103, 0.30103, 0.30103, 0.30103, 0.30103, 0.30103, 0.30103, 0.30103, 0.30103, 0.30103, 0.30103, 0.30103, 0.30103, 0.30103, 0.30103, 0.30103, 0.30103, 0.30103, 0.30103, 0.30103, 0.30103, 0.30103, 0.30103, 0.30103, 0.30103, 0.30103, 0.30103, 0.30103, 0.30103, 0.30103, 0.30103, 0.30103, 0.30103, 0.30103, 0.30103, 0.30103, 0.30103, 0.30103, 0.30103, 0.30103, 0.30103, 0.30103, 0.30103, 0.30103, 0.30103, 0.30103, 0.30103, 0.30103, 0.30103, 0.30103, 0.30103, 0.30103, 0.30103, 0.30103, 0.30103, 0.30103, 0.30103, 0.30103, 0.30103, 0.30103, 0.30103, 0.30103, 0.30103, 0.30103, 0.30103, 0.30103, 0.30103, 0.30103, 0.30103, 0.30103, 0.30103, 0.30103, 0.30103, 0.30103, 0.30103, 0.30103, 0.30103, 0.30103, 0.30103, 0.30103, 0.30103, 0.30103, 0.30103, 0.30103, 0.30103, 0.30103, 0.30103, 0.30103, 0.30103, 0.30103, 0.30103, 0.30103, 0.30103, 0.30103, 0.30103, 0.30103, 0.30103, 0.30103, 0.30103, 0.30103, 0.30103, 0.30103, 0.30103, 0.30103, 0.30103, 0.30103, 0.30103, 0.30103, 0.30103, 0.30103, 0.30103, 0.30103, 0.30103, 0.30103, 0.30103, 0.30103, 0.30103, 0.30103, 0.30103, 0.30103, 0.30103, 0.30103, 0.30103, 0.30103, 0.30103, 0.30103, 0.30103, 0.30103, 0.30103, 0.30103, 0.30103, 0.30103, 0.30103, 0.30103, 0.30103, 0.30103, 0.30103, 0.30103, 0.30103, 0.30103, 0.30103, 0.30103, 0.30103, 0.30103, 0.30103, 0.30103, 0.30103, 0.30103, 0.30103, 0.30103, 0.30103, 0.30103, 0.30103, 0.30103, 0.30103, 0.30103, 0.30103, 0.30103, 0.30103, 0.30103, 0.30103, 0.30103, 0.30103, 0.30103, 0.30103, 0.30103, 0.30103, 0.30103, 0.30103, 0.30103, 0.30103, 0.30103, 0.30103, 0.30103, 0.30103, 0.30103, 0.30103, 0.30103, 0.30103, 0.30103, 0.30103, 0.30103, 0.30103, 0.30103, 0.30103, 0.30103, 0.30103, 0.30103, 0.30103, 0.30103, 0.30103, 0.30103, 0.30103, 0.30103, 0.30103, 0.30103, 0.30103, 0.30103, 0.30103, 0.30103, 0.30103, 0.30103, 0.30103, 0.30103, 0.30103, 0.30103, 0.30103, 0.30103, 0.30103, 0.30103, 0.30103, 0.30103, 0.30103, 0.30103, 0.30103, 0.30103, 0.30103, 0.30103, 0.30103, 0.30103, 0.30103, 0.30103, 0.30103, 0.30103, 0.30103, 0.30103, 0.30103, 0.30103, 0.30103, 0.30103, 0.30103, 0.30103, 0.30103, 0.30103, 0.30103, 0.30103, 0.30103, 0.30103, 0.30103, 0.30103, 0.30103, 0.30103, 0.30103, 0.30103, 0.30103, 0.30103, 0.30103, 0.30103, 0.30103, 0.30103, 0.30103, 0.30103, 0.30103, 0.30103, 0.30103, 0.30103, 0.30103, 0.30103, 0.30103, 0.30103, 0.30103, 0.30103, 0.30103, 0.30103, 0.30103, 0.30103, 0.30103, 0.30103, 0.30103, 0.30103, 0.30103, 0.30103, 0.30103, 0.30103, 0.30103, 0.30103, 0.30103, 0.30103, 0.30103, 0.30103, 0.30103, 0.30103, 0.30103, 0.30103, 0.30103, 0.30103, 0.30103, 0.30103, 0.30103, 0.30103, 0.30103, 0.30103, 0.30103, 0.30103, 0.30103, 0.30103, 0.30103, 0.30103, 0.30103, 0.30103, 0.30103, 0.30103, 0.30103, 0.30103, 0.30103, 0.30103, 0.30103, 0.30103, 0.30103, 0.30103, 0.30103, 0.30103, 0.30103, 0.30103, 0.30103, 0.30103, 0.30103, 0.30103, 0.30103, 0.30103, 0.30103, 0.30103, 0.30103, 0.30103, 0.30103, 0.30103, 0.30103, 0.30103, 0.30103, 0.30103, 0.30103, 0.30103, 0.30103, 0.30103, 0.30103, 0.30103, 0.30103, 0.30103, 0.30103, 0.30103, 0.30103, 0.30103, 0.30103, 0.30103, 0.30103, 0.30103, 0.30103, 0.30103, 0.30103, 0.30103, 0.30103, 0.30103, 0.30103, 0.30103, 0.30103, 0.30103, 0.30103, 0.30103, 0.30103, 0.30103, 0.30103, 0.30103, 0.30103, 0.30103, 0.30103, 0.30103, 0.30103, 0.30103, 0.30103, 0.30103, 0.30103, 0.30103, 0.30103, 0.30103, 0.30103, 0.30103, 0.30103, 0.30103, 0.30103, 0.30103, 0.30103, 0.30103, 0.30103, 0.30103, 0.30103, 0.30103, 0.30103, 0.30103, 0.30103, 0.30103, 0.30103, 0.30103, 0.30103, 0.30103, 0.30103, 0.30103, 0.30103, 0.30103, 0.30103, 0.30103, 0.30103, 0.30103, 0.30103, 0.30103, 0.30103, 0.30103, 0.30103, 0.30103, 0.30103, 0.30103, 0.30103, 0.30103, 0.30103, 0.30103, 0.30103, 0.30103, 0.30103, 0.30103, 0.30103, 0.30103, 0.30103, 0.30103, 0.30103, 0.30103, 0.30103, 0.30103, 0.30103, 0.30103, 0.30103, 0.30103, 0.30103, 0.30103, 0.30103, 0.30103, 0.30103, 0.30103, 0.30103, 0.30103, 0.30103, 0.30103, 0.30103, 0.30103, 0.30103, 0.30103, 0.30103, 0.30103, 0.30103, 0.30103, 0.30103, 0.30103, 0.30103, 0.30103, 0.30103, 0.30103, 0.30103, 0.30103, 0.30103, 0.30103, 0.30103, 0.30103, 0.30103, 0.30103, 0.30103, 0.30103, 0.30103, 0.30103, 0.30103, 0.30103, 0.30103, 0.30103, 0.30103, 0.30103, 0.30103, 0.30103, 0.30103, 0.30103, 0.30103, 0.30103, 0.30103, 0.30103, 0.30103, 0.30103, 0.30103, 0.30103, 0.30103, 0.30103, 0.30103, 0.30103, 0.30103, 0.30103, 0.30103, 0.30103, 0.30103, 0.30103, 0.30103, 0.30103, 0.30103, 0.30103, 0.30103, 0.30103, 0.30103, 0.30103, 0.30103, 0.30103, 0.30103, 0.30103, 0.30103, 0.30103, 0.30103, 0.30103, 0.30103, 0.30103, 0.30103, 0.30103, 0.30103, 0.30103, 0.30103, 0.30103, 0.30103, 0.30103, 0.30103, 0.30103, 0.30103, 0.30103, 0.30103, 0.30103, 0.30103, 0.30103, 0.30103, 0.30103, 0.30103, 0.30103, 0.30103, 0.30103, 0.30103, 0.30103, 0.30103, 0.30103, 0.30103, 0.30103, 0.30103, 0.30103, 0.30103, 0.30103, 0.30103, 0.30103, 0.30103, 0.30103, 0.30103, 0.30103, 0.30103, 0.30103, 0.30103, 0.30103, 0.30103, 0.30103, 0.30103, 0.30103, 0.30103, 0.30103, 0.30103, 0.30103, 0.30103, 0.30103, 0.30103, 0.30103, 0.30103, 0.30103, 0.30103, 0.30103, 0.30103, 0.30103, 0.30103, 0.30103, 0.30103, 0.30103, 0.30103, 0.30103, 0.30103, 0.30103, 0.30103, 0.30103, 0.30103, 0.30103, 0.30103, 0.30103, 0.30103, 0.30103, 0.30103, 0.30103, 0.30103, 0.30103, 0.30103, 0.30103, 0.30103, 0.30103, 0.30103, 0.30103, 0.30103, 0.30103, 0.30103, 0.30103, 0.30103, 0.30103, 0.30103, 0.30103, 0.30103, 0.30103, 0.30103, 0.30103, 0.30103, 0.30103, 0.30103, 0.30103, 0.30103, 0.30103, 0.30103, 0.30103, 0.30103, 0.30103, 0.30103, 0.30103, 0.30103, 0.30103, 0.30103, 0.30103, 0.30103, 0.30103, 0.30103, 0.30103, 0.30103, 0.30103, 0.30103, 0.30103, 0.30103, 0.30103, 0.30103, 0.30103, 0.30103, 0.30103, 0.30103, 0.30103, 0.30103, 0.30103, 0.30103, 0.30103, 0.30103, 0.30103, 0.30103, 0.30103, 0.30103, 0.30103, 0.30103, 0.30103, 0.30103, 0.30103, 0.30103, 0.30103, 0.30103, 0.30103, 0.30103, 0.30103, 0.30103, 0.30103, 0.30103, 0.30103, 0.30103, 0.30103, 0.30103, 0.30103, 0.30103, 0.30103, 0.30103, 0.30103, 0.30103, 0.30103, 0.30103, 0.30103, 0.30103, 0.30103, 0.30103, 0.30103, 0.30103, 0.30103, 0.30103, 0.30103, 0.30103, 0.30103, 0.30103, 0.30103, 0.30103, 0.30103, 0.30103, 0.30103, 0.30103, 0.30103, 0.30103, 0.30103, 0.30103, 0.30103, 0.30103, 0.30103, 0.30103, 0.30103, 0.30103, 0.30103, 0.30103, 0.30103, 0.30103, 0.30103, 0.30103, 0.30103, 0.30103, 0.30103, 0.30103, 0.30103, 0.30103, 0.30103, 0.30103, 0.30103, 0.30103, 0.30103, 0.30103, 0.30103, 0.30103, 0.30103, 0.30103, 0.30103, 0.30103, 0.30103, 0.30103, 0.30103, 0.30103, 0.30103, 0.30103, 0.30103, 0.30103, 0.30103, 0.30103, 0.30103, 0.30103, 0.30103, 0.30103, 0.30103, 0.30103, 0.30103, 0.30103, 0.30103, 0.30103, 0.30103, 0.30103, 0.30103, 0.30103, 0.30103, 0.30103, 0.30103, 0.30103, 0.30103, 0.30103, 0.30103, 0.30103, 0.30103, 0.30103, 0.30103, 0.30103, 0.30103, 0.30103, 0.30103, 0.30103, 0.30103, 0.30103, 0.30103, 0.30103, 0.30103, 0.30103, 0.30103, 0.30103, 0.30103, 0.30103, 0.30103, 0.30103, 0.30103, 0.30103, 0.30103, 0.30103, 0.30103, 0.30103, 0.30103, 0.30103, 0.30103, 0.30103, 0.30103, 0.30103, 0.30103, 0.30103, 0.30103, 0.30103, 0.30103, 0.30103, 0.30103, 0.30103, 0.30103, 0.30103, 0.30103, 0.30103, 0.30103, 0.30103, 0.30103, 0.30103, 0.30103, 0.30103, 0.30103, 0.30103, 0.30103, 0.30103, 0.30103, 0.30103, 0.30103, 0.30103, 0.30103, 0.30103, 0.30103, 0.30103, 0.30103, 0.30103, 0.30103, 0.30103, 0.30103, 0.30103, 0.30103, 0.30103, 0.30103, 0.30103, 0.30103, 0.30103, 0.30103, 0.30103, 0.30103, 0.30103, 0.30103, 0.30103, 0.30103, 0.30103, 0.30103, 0.30103, 0.30103, 0.30103, 0.30103, 0.30103, 0.30103, 0.30103, 0.30103, 0.30103, 0.30103, 0.30103, 0.30103, 0.30103, 0.30103, 0.30103, 0.30103, 0.30103, 0.30103, 0.30103, 0.30103, 0.30103, 0.30103, 0.30103, 0.30103, 0.30103, 0.30103, 0.30103, 0.30103, 0.30103, 0.30103, 0.30103, 0.30103, 0.30103, 0.30103, 0.30103, 0.30103, 0.30103, 0.30103, 0.30103, 0.30103, 0.30103, 0.30103, 0.30103, 0.30103, 0.30103, 0.30103, 0.30103, 0.30103, 0.30103, 0.30103, 0.30103, 0.30103, 0.30103, 0.30103, 0.30103, 0.30103, 0.30103, 0.30103, 0.30103, 0.30103, 0.30103, 0.30103, 0.30103, 0.30103, 0.30103, 0.30103, 0.30103, 0.30103, 0.30103, 0.30103, 0.30103, 0.30103, 0.30103, 0.30103, 0.30103, 0.30103, 0.30103, 0.30103, 0.30103, 0.30103, 0.30103, 0.30103, 0.30103, 0.30103, 0.30103, 0.30103, 0.30103, 0.30103, 0.30103, 0.30103, 0.30103, 0.30103, 0.30103, 0.30103, 0.30103, 0.30103, 0.30103, 0.30103, 0.30103, 0.30103, 0.30103, 0.30103, 0.30103, 0.30103, 0.30103, 0.30103, 0.30103, 0.30103, 0.30103, 0.30103, 0.30103, 0.30103, 0.30103, 0.30103, 0.30103, 0.30103, 0.30103, 0.30103, 0.30103, 0.30103, 0.30103, 0.30103, 0.30103, 0.30103, 0.30103, 0.30103, 0.30103, 0.30103, 0.30103, 0.30103, 0.30103, 0.30103, 0.30103, 0.30103, 0.30103, 0.30103, 0.30103, 0.30103, 0.30103, 0.30103, 0.30103, 0.30103, 0.30103, 0.30103, 0.30103, 0.30103, 0.30103, 0.30103, 0.30103, 0.30103, 0.30103, 0.30103, 0.30103, 0.30103, 0.30103, 0.30103, 0.30103, 0.30103, 0.30103, 0.30103, 0.30103, 0.30103, 0.30103, 0.30103, 0.30103, 0.30103, 0.30103, 0.30103, 0.30103, 0.30103, 0.30103, 0.30103, 0.30103, 0.30103, 0.30103, 0.30103, 0.30103, 0.30103, 0.30103, 0.30103, 0.30103, 0.30103, 0.30103, 0.30103, 0.30103, 0.30103, 0.30103, 0.30103, 0.30103, 0.30103, 0.30103, 0.30103, 0.30103, 0.30103, 0.30103, 0.30103, 0.30103, 0.30103, 0.30103, 0.30103, 0.30103, 0.30103, 0.30103, 0.30103, 0.30103, 0.30103, 0.30103, 0.30103, 0.30103, 0.30103, 0.30103, 0.30103, 0.30103, 0.30103, 0.30103, 0.30103, 0.30103, 0.30103, 0.30103, 0.30103, 0.30103, 0.30103, 0.30103, 0.30103, 0.30103, 0.30103, 0.30103, 0.30103, 0.30103, 0.30103, 0.30103, 0.30103, 0.30103, 0.30103, 0.30103, 0.30103, 0.30103, 0.30103, 0.30103, 0.30103, 0.30103, 0.30103, 0.30103, 0.30103, 0.30103, 0.30103, 0.30103, 0.30103, 0.30103, 0.30103, 0.30103, 0.30103, 0.30103, 0.30103, 0.30103, 0.30103, 0.30103, 0.30103, 0.30103, 0.30103, 0.30103, 0.30103, 0.30103, 0.30103, 0.30103, 0.30103, 0.30103, 0.30103, 0.30103, 0.30103, 0.30103, 0.30103, 0.30103, 0.30103, 0.30103, 0.30103, 0.30103, 0.30103, 0.30103, 0.30103, 0.30103, 0.30103, 0.30103, 0.30103, 0.30103, 0.30103, 0.30103, 0.30103, 0.30103, 0.30103, 0.30103, 0.30103, 0.30103, 0.30103, 0.30103, 0.30103, 0.30103, 0.30103, 0.30103, 0.30103, 0.30103, 0.30103, 0.30103, 0.30103, 0.30103, 0.30103, 0.30103, 0.30103, 0.30103, 0.30103, 0.30103, 0.30103, 0.30103, 0.30103, 0.30103, 0.30103, 0.30103, 0.30103, 0.30103, 0.30103, 0.30103, 0.30103, 0.30103, 0.30103, 0.30103, 0.30103, 0.30103, 0.30103, 0.30103, 0.30103, 0.30103, 0.30103, 0.30103, 0.30103, 0.30103, 0.30103, 0.30103, 0.30103, 0.30103, 0.30103, 0.30103, 0.30103, 0.30103, 0.30103, 0.30103, 0.30103, 0.30103, 0.30103, 0.30103, 0.30103, 0.30103, 0.30103, 0.30103, 0.30103, 0.30103, 0.30103, 0.30103, 0.30103, 0.30103, 0.30103, 0.30103, 0.30103, 0.30103, 0.30103, 0.30103, 0.30103, 0.30103, 0.30103, 0.30103, 0.30103, 0.30103, 0.30103, 0.30103, 0.30103, 0.30103, 0.30103, 0.30103, 0.30103, 0.30103, 0.30103, 0.30103, 0.30103, 0.30103, 0.30103, 0.30103, 0.30103, 0.30103, 0.30103, 0.30103, 0.30103, 0.30103, 0.30103, 0.30103, 0.30103, 0.30103, 0.30103, 0.30103, 0.30103, 0.30103, 0.30103, 0.30103, 0.30103, 0.30103, 0.30103, 0.30103, 0.30103, 0.30103, 0.30103, 0.30103, 0.30103, 0.30103, 0.30103, 0.30103, 0.30103, 0.30103, 0.30103, 0.30103, 0.30103, 0.30103, 0.30103, 0.30103, 0.30103, 0.30103, 0.30103, 0.30103, 0.30103, 0.30103, 0.30103, 0.30103, 0.30103, 0.30103, 0.30103, 0.30103, 0.30103, 0.30103, 0.30103, 0.30103, 0.30103, 0.30103, 0.30103, 0.30103, 0.30103, 0.30103, 0.30103, 0.30103, 0.30103, 0.30103, 0.30103, 0.30103, 0.30103, 0.30103, 0.30103, 0.30103, 0.30103, 0.30103, 0.30103, 0.30103, 0.30103, 0.30103, 0.30103, 0.30103, 0.30103, 0.30103, 0.30103, 0.30103, 0.30103, 0.30103, 0.30103, 0.30103, 0.30103, 0.30103, 0.30103, 0.30103, 0.30103, 0.30103, 0.30103, 0.30103, 0.30103, 0.30103, 0.30103, 0.30103, 0.30103, 0.30103, 0.30103, 0.30103, 0.30103, 0.30103, 0.30103, 0.30103, 0.30103, 0.30103, 0.30103, 0.30103, 0.30103, 0.30103, 0.30103, 0.30103, 0.30103, 0.30103, 0.30103, 0.30103, 0.30103, 0.30103, 0.30103, 0.30103, 0.30103, 0.30103, 0.30103, 0.30103, 0.30103, 0.30103, 0.30103, 0.30103, 0.30103, 0.30103, 0.30103, 0.30103, 0.30103, 0.30103, 0.30103, 0.30103, 0.30103, 0.30103, 0.30103, 0.30103, 0.30103, 0.30103, 0.30103, 0.30103, 0.30103, 0.30103, 0.30103, 0.30103, 0.30103, 0.30103, 0.30103, 0.30103, 0.30103, 0.30103, 0.30103, 0.30103, 0.30103, 0.30103, 0.30103, 0.30103, 0.30103, 0.30103, 0.30103, 0.30103, 0.30103, 0.30103, 0.30103, 0.30103, 0.30103, 0.30103, 0.30103, 0.30103, 0.30103, 0.30103, 0.30103, 0.30103, 0.30103, 0.30103, 0.30103, 0.30103, 0.30103, 0.30103, 0.30103, 0.30103, 0.30103, 0.30103, 0.30103, 0.30103, 0.30103, 0.30103, 0.30103, 0.30103, 0.30103, 0.30103, 0.30103, 0.30103, 0.30103, 0.30103, 0.30103, 0.30103, 0.30103, 0.30103, 0.30103, 0.30103, 0.30103, 0.30103, 0.30103, 0.30103, 0.30103, 0.30103, 0.30103, 0.30103, 0.30103, 0.30103, 0.30103, 0.30103, 0.30103, 0.30103, 0.30103, 0.30103, 0.30103, 0.30103, 0.30103, 0.30103, 0.30103, 0.30103, 0.30103, 0.30103, 0.30103, 0.30103, 0.30103, 0.30103, 0.30103, 0.30103, 0.30103, 0.30103, 0.30103, 0.30103, 0.30103, 0.30103, 0.30103, 0.30103, 0.30103, 0.30103, 0.30103, 0.30103, 0.30103, 0.30103, 0.30103, 0.30103, 0.30103, 0.30103, 0.30103, 0.30103, 0.30103, 0.30103, 0.30103, 0.30103, 0.30103, 0.30103, 0.30103, 0.30103, 0.30103, 0.30103, 0.30103, 0.30103, 0.30103, 0.30103, 0.30103, 0.30103, 0.30103, 0.30103, 0.30103, 0.30103, 0.30103, 0.30103, 0.30103, 0.30103, 0.30103, 0.30103, 0.30103, 0.30103, 0.30103, 0.30103, 0.30103, 0.30103, 0.30103, 0.30103, 0.30103, 0.30103, 0.30103, 0.30103, 0.30103, 0.30103, 0.30103, 0.30103, 0.30103, 0.30103, 0.30103, 0.30103, 0.30103, 0.30103, 0.30103, 0.30103, 0.30103, 0.30103, 0.30103, 0.30103, 0.30103, 0.30103, 0.30103, 0.30103, 0.30103, 0.30103, 0.30103, 0.30103, 0.30103, 0.30103, 0.30103, 0.30103, 0.30103, 0.30103, 0.30103, 0.30103, 0.30103, 0.30103, 0.30103, 0.30103, 0.30103, 0.30103, 0.30103, 0.30103, 0.30103, 0.30103, 0.30103, 0.30103, 0.30103, 0.30103, 0.30103, 0.30103, 0.30103, 0.30103, 0.30103, 0.30103, 0.30103, 0.30103, 0.30103, 0.30103, 0.30103, 0.30103, 0.30103, 0.30103, 0.30103, 0.30103, 0.30103, 0.30103, 0.30103, 0.30103, 0.30103, 0.30103, 0.30103, 0.30103, 0.30103, 0.30103, 0.30103, 0.30103, 0.30103, 0.30103, 0.30103, 0.30103, 0.30103, 0.30103, 0.30103, 0.30103, 0.30103, 0.30103, 0.30103, 0.30103, 0.30103, 0.30103, 0.30103, 0.30103, 0.30103, 0.30103, 0.30103, 0.30103, 0.30103, 0.30103, 0.30103, 0.30103, 0.30103, 0.30103, 0.30103, 0.30103, 0.30103, 0.30103, 0.30103, 0.30103, 0.30103, 0.30103, 0.30103, 0.30103, 0.30103, 0.30103, 0.30103, 0.30103, 0.30103, 0.30103, 0.30103, 0.30103, 0.30103, 0.30103, 0.30103, 0.30103, 0.30103, 0.30103, 0.30103, 0.30103, 0.30103, 0.30103, 0.30103, 0.30103, 0.30103, 0.30103, 0.30103, 0.30103, 0.30103, 0.30103, 0.30103, 0.30103, 0.30103, 0.30103, 0.30103, 0.30103, 0.30103, 0.30103, 0.30103, 0.30103, 0.30103, 0.30103, 0.30103, 0.30103, 0.30103, 0.30103, 0.30103, 0.30103, 0.30103, 0.30103, 0.30103, 0.30103, 0.30103, 0.30103, 0.30103, 0.30103, 0.30103, 0.30103, 0.30103, 0.30103, 0.30103, 0.30103, 0.30103, 0.30103, 0.30103, 0.30103, 0.30103, 0.30103, 0.30103, 0.30103, 0.30103, 0.30103, 0.30103, 0.30103, 0.30103, 0.30103, 0.30103, 0.30103, 0.30103, 0.30103, 0.30103, 0.30103, 0.30103, 0.30103, 0.30103, 0.30103, 0.30103, 0.30103, 0.30103, 0.30103, 0.30103, 0.30103, 0.30103, 0.30103, 0.30103, 0.30103, 0.30103, 0.30103, 0.30103, 0.30103, 0.30103, 0.30103, 0.30103, 0.30103, 0.30103, 0.30103, 0.30103, 0.30103, 0.30103, 0.30103, 0.30103, 0.30103, 0.30103, 0.30103, 0.30103, 0.30103, 0.30103, 0.30103, 0.30103, 0.30103, 0.30103, 0.30103, 0.30103, 0.30103, 0.30103, 0.30103, 0.30103, 0.30103, 0.30103, 0.30103, 0.30103, 0.30103, 0.30103, 0.30103, 0.30103, 0.30103, 0.30103, 0.30103, 0.30103, 0.30103, 0.30103, 0.30103, 0.30103, 0.30103, 0.30103, 0.30103, 0.30103, 0.30103, 0.30103, 0.30103, 0.30103, 0.30103, 0.30103, 0.30103, 0.30103, 0.30103, 0.30103, 0.30103, 0.30103, 0.30103, 0.30103, 0.30103, 0.30103, 0.30103, 0.30103, 0.30103, 0.30103, 0.30103, 0.30103, 0.30103, 0.30103, 0.30103, 0.30103, 0.30103, 0.30103, 0.30103, 0.30103, 0.30103, 0.30103, 0.30103, 0.30103, 0.30103, 0.30103, 0.30103, 0.30103, 0.30103, 0.30103, 0.30103, 0.30103, 0.30103, 0.30103, 0.30103, 0.30103, 0.30103, 0.30103, 0.30103, 0.30103, 0.30103, 0.30103, 0.30103, 0.30103, 0.30103, 0.30103, 0.30103, 0.30103, 0.30103, 0.30103, 0.30103, 0.30103, 0.30103, 0.30103, 0.30103, 0.30103, 0.30103, 0.30103, 0.30103, 0.30103, 0.30103, 0.30103, 0.30103, 0.30103, 0.30103, 0.30103, 0.30103, 0.30103, 0.30103, 0.30103, 0.30103, 0.30103, 0.30103, 0.30103, 0.30103, 0.30103, 0.30103, 0.30103, 0.30103, 0.30103, 0.30103, 0.30103, 0.30103, 0.30103, 0.30103, 0.30103, 0.30103, 0.30103, 0.30103, 0.30103, 0.30103, 0.30103, 0.30103, 0.30103, 0.30103, 0.30103, 0.30103, 0.30103, 0.30103, 0.30103, 0.30103, 0.30103, 0.30103, 0.30103, 0.30103, 0.30103, 0.30103, 0.30103, 0.30103, 0.30103, 0.30103, 0.30103, 0.30103, 0.30103, 0.30103, 0.30103, 0.30103, 0.30103, 0.30103, 0.30103, 0.30103, 0.30103, 0.30103, 0.30103, 0.30103, 0.30103, 0.30103, 0.30103, 0.30103, 0.30103, 0.30103, 0.30103, 0.30103, 0.30103, 0.30103, 0.30103, 0.30103, 0.30103, 0.30103, 0.30103, 0.30103, 0.30103, 0.30103, 0.30103, 0.30103, 0.30103, 0.30103, 0.30103, 0.30103, 0.30103, 0.30103, 0.30103, 0.30103, 0.30103, 0.30103, 0.30103, 0.30103, 0.30103, 0.30103, 0.30103, 0.30103, 0.30103, 0.30103, 0.30103, 0.30103, 0.30103, 0.30103, 0.30103, 0.30103, 0.30103, 0.30103, 0.30103, 0.30103, 0.30103, 0.30103, 0.30103, 0.30103, 0.30103, 0.30103, 0.30103, 0.30103, 0.30103, 0.30103, 0.30103, 0.30103, 0.30103, 0.30103, 0.30103, 0.30103, 0.30103, 0.30103, 0.30103, 0.30103, 0.30103, 0.30103, 0.30103, 0.30103, 0.30103, 0.30103, 0.30103, 0.30103, 0.30103, 0.30103, 0.30103, 0.30103, 0.30103, 0.30103, 0.30103, 0.30103, 0.30103, 0.30103, 0.30103, 0.30103, 0.30103, 0.30103, 0.30103, 0.30103, 0.30103, 0.30103, 0.30103, 0.30103, 0.30103, 0.30103, 0.30103, 0.30103, 0.30103, 0.30103, 0.30103, 0.30103, 0.30103, 0.30103, 0.30103, 0.30103, 0.30103, 0.30103, 0.30103, 0.30103, 0.30103, 0.30103, 0.30103, 0.30103, 0.30103, 0.30103, 0.30103, 0.30103, 0.30103, 0.30103, 0.30103, 0.30103, 0.30103, 0.30103, 0.30103, 0.30103, 0.30103, 0.30103, 0.30103, 0.30103, 0.30103, 0.30103, 0.30103, 0.30103, 0.30103, 0.30103, 0.30103, 0.30103, 0.30103, 0.30103, 0.30103, 0.30103, 0.30103, 0.30103, 0.30103, 0.30103, 0.30103, 0.30103, 0.30103, 0.30103, 0.30103, 0.30103, 0.30103, 0.30103, 0.30103, 0.30103, 0.30103, 0.30103, 0.30103, 0.30103, 0.30103, 0.30103, 0.30103, 0.30103, 0.30103, 0.30103, 0.30103, 0.30103, 0.30103, 0.30103, 0.30103, 0.30103, 0.30103, 0.30103, 0.30103, 0.30103, 0.30103, 0.30103, 0.30103, 0.30103, 0.30103, 0.30103, 0.30103, 0.30103, 0.30103, 0.30103, 0.30103, 0.30103, 0.30103, 0.30103, 0.30103, 0.30103, 0.30103, 0.30103, 0.30103, 0.30103, 0.30103, 0.30103, 0.30103, 0.30103, 0.30103, 0.30103, 0.30103, 0.30103, 0.30103, 0.30103, 0.30103, 0.30103, 0.30103, 0.30103, 0.30103, 0.30103, 0.30103, 0.30103, 0.30103, 0.30103, 0.30103, 0.30103, 0.30103, 0.30103, 0.30103, 0.30103, 0.30103, 0.30103, 0.30103, 0.30103, 0.30103, 0.30103, 0.30103, 0.30103, 0.30103, 0.30103, 0.30103, 0.30103, 0.30103, 0.30103, 0.30103, 0.30103, 0.30103, 0.30103, 0.30103, 0.30103, 0.30103, 0.30103, 0.30103, 0.30103, 0.30103, 0.30103, 0.30103, 0.30103, 0.30103, 0.30103, 0.30103, 0.30103, 0.30103, 0.30103, 0.30103, 0.30103, 0.30103, 0.30103, 0.30103, 0.30103, 0.30103, 0.30103, 0.30103, 0.30103, 0.30103, 0.30103, 0.30103, 0.30103, 0.30103, 0.30103, 0.30103, 0.30103, 0.30103, 0.30103, 0.30103, 0.30103, 0.30103, 0.30103, 0.30103, 0.30103, 0.30103, 0.30103, 0.30103, 0.30103, 0.30103, 0.30103, 0.30103, 0.30103, 0.30103, 0.30103, 0.30103, 0.30103, 0.30103, 0.30103, 0.30103, 0.30103, 0.30103, 0.30103, 0.30103, 0.30103, 0.30103, 0.30103, 0.30103, 0.30103, 0.30103, 0.30103, 0.30103, 0.30103, 0.30103, 0.30103, 0.30103, 0.30103, 0.30103, 0.30103, 0.30103, 0.30103, 0.30103, 0.30103, 0.30103, 0.30103, 0.30103, 0.30103, 0.30103, 0.30103, 0.30103, 0.30103, 0.30103, 0.30103, 0.30103, 0.30103, 0.30103, 0.30103, 0.30103, 0.30103, 0.30103, 0.30103, 0.30103, 0.30103, 0.30103, 0.30103, 0.30103, 0.30103, 0.30103, 0.30103, 0.30103, 0.30103, 0.30103, 0.30103, 0.30103, 0.30103, 0.30103, 0.30103, 0.30103, 0.30103, 0.30103, 0.30103, 0.30103, 0.30103, 0.30103, 0.30103, 0.30103, 0.30103, 0.30103, 0.30103, 0.30103, 0.30103, 0.30103, 0.30103, 0.30103, 0.30103, 0.30103, 0.30103, 0.30103, 0.30103, 0.30103, 0.30103, 0.30103, 0.30103, 0.30103, 0.30103, 0.30103, 0.30103, 0.30103, 0.30103, 0.30103, 0.30103, 0.30103, 0.30103, 0.30103, 0.30103, 0.30103, 0.30103, 0.30103, 0.30103, 0.30103, 0.30103, 0.30103, 0.30103, 0.30103, 0.30103, 0.30103, 0.30103, 0.30103, 0.30103, 0.30103, 0.30103, 0.30103, 0.30103, 0.30103, 0.30103, 0.30103, 0.30103, 0.30103, 0.30103, 0.30103, 0.30103, 0.30103, 0.30103, 0.30103, 0.30103, 0.30103, 0.30103, 0.30103, 0.30103, 0.30103, 0.30103, 0.30103, 0.30103, 0.30103, 0.30103, 0.30103, 0.30103, 0.30103, 0.30103, 0.30103, 0.30103, 0.30103, 0.30103, 0.30103, 0.30103, 0.30103, 0.30103, 0.30103, 0.30103, 0.30103, 0.30103, 0.30103, 0.30103, 0.30103, 0.30103, 0.30103, 0.30103, 0.30103, 0.30103, 0.30103, 0.30103, 0.30103, 0.30103, 0.30103, 0.30103, 0.30103, 0.30103, 0.30103, 0.30103, 0.30103, 0.30103, 0.30103, 0.30103, 0.30103, 0.30103, 0.30103, 0.30103, 0.30103, 0.30103, 0.30103, 0.30103, 0.30103, 0.30103, 0.30103, 0.30103, 0.30103, 0.30103, 0.30103, 0.30103, 0.30103, 0.30103, 0.30103, 0.30103, 0.30103, 0.30103, 0.30103, 0.30103, 0.30103, 0.30103, 0.30103, 0.30103, 0.30103, 0.30103, 0.30103, 0.30103, 0.30103, 0.30103, 0.30103, 0.30103, 0.30103, 0.30103, 0.30103, 0.30103, 0.30103, 0.30103, 0.30103, 0.30103, 0.30103, 0.30103, 0.30103, 0.30103, 0.30103, 0.30103, 0.30103, 0.30103, 0.30103, 0.30103, 0.30103, 0.30103, 0.30103, 0.30103, 0.30103, 0.30103, 0.30103, 0.30103, 0.30103, 0.30103, 0.30103, 0.30103, 0.30103, 0.30103, 0.30103, 0.30103, 0.30103, 0.30103, 0.30103, 0.30103, 0.30103, 0.30103, 0.30103, 0.30103, 0.30103, 0.30103, 0.30103, 0.30103, 0.30103, 0.30103, 0.30103, 0.30103, 0.30103, 0.30103, 0.30103, 0.30103, 0.30103, 0.30103, 0.30103, 0.30103, 0.30103, 0.30103, 0.30103, 0.30103, 0.30103, 0.30103, 0.30103, 0.30103, 0.30103, 0.30103, 0.30103, 0.30103, 0.30103, 0.30103, 0.30103, 0.30103, 0.30103, 0.30103, 0.30103, 0.30103, 0.30103, 0.30103, 0.30103, 0.30103, 0.30103, 0.30103, 0.30103, 0.30103, 0.30103, 0.30103, 0.30103, 0.30103, 0.30103, 0.30103, 0.30103, 0.30103, 0.30103, 0.30103, 0.30103, 0.30103, 0.30103, 0.30103, 0.30103, 0.30103, 0.30103, 0.30103, 0.30103, 0.30103, 0.30103, 0.30103, 0.30103, 0.30103, 0.30103, 0.30103, 0.30103, 0.30103, 0.30103, 0.30103, 0.30103, 0.30103, 0.30103, 0.30103, 0.30103, 0.30103, 0.30103, 0.30103, 0.30103, 0.30103, 0.30103, 0.30103, 0.30103, 0.30103, 0.30103, 0.30103, 0.30103, 0.30103, 0.30103, 0.30103, 0.30103, 0.30103, 0.30103, 0.30103, 0.30103, 0.30103, 0.30103, 0.30103, 0.30103, 0.30103, 0.30103, 0.30103, 0.30103, 0.30103, 0.30103, 0.30103, 0.30103, 0.30103, 0.30103, 0.30103, 0.30103, 0.30103, 0.30103, 0.30103, 0.30103, 0.30103, 0.30103, 0.30103, 0.30103, 0.30103, 0.30103, 0.30103, 0.30103, 0.30103, 0.30103, 0.30103, 0.30103, 0.30103, 0.30103, 0.30103, 0.30103, 0.30103, 0.30103, 0.30103, 0.30103, 0.30103, 0.30103, 0.30103, 0.30103, 0.30103, 0.30103, 0.30103, 0.30103, 0.30103, 0.30103, 0.30103, 0.30103, 0.30103, 0.30103, 0.30103, 0.30103, 0.30103, 0.30103, 0.30103, 0.30103, 0.30103, 0.30103, 0.30103, 0.30103, 0.30103, 0.30103, 0.30103, 0.30103, 0.30103, 0.30103, 0.30103, 0.30103, 0.30103, 0.30103, 0.30103, 0.30103, 0.30103, 0.30103, 0.30103, 0.30103, 0.30103, 0.30103, 0.30103, 0.30103, 0.30103, 0.30103, 0.30103, 0.30103, 0.30103, 0.30103, 0.30103, 0.30103, 0.30103, 0.30103, 0.30103, 0.30103, 0.30103, 0.30103, 0.30103, 0.30103, 0.30103, 0.30103, 0.30103, 0.30103, 0.30103, 0.30103, 0.30103, 0.30103, 0.30103, 0.30103, 0.30103, 0.30103, 0.30103, 0.30103, 0.30103, 0.30103, 0.30103, 0.30103, 0.30103, 0.30103, 0.30103, 0.30103, 0.30103, 0.30103, 0.30103, 0.30103, 0.30103, 0.30103, 0.30103, 0.30103, 0.30103, 0.30103, 0.30103, 0.30103, 0.30103, 0.30103, 0.30103, 0.30103, 0.30103, 0.30103, 0.30103, 0.30103, 0.30103, 0.30103, 0.30103, 0.30103, 0.30103, 0.30103, 0.30103, 0.30103, 0.30103, 0.30103, 0.30103, 0.30103, 0.30103, 0.30103, 0.30103, 0.30103, 0.30103, 0.30103, 0.30103, 0.30103, 0.30103, 0.30103, 0.30103, 0.30103, 0.30103, 0.30103, 0.30103, 0.30103, 0.30103, 0.30103, 0.30103, 0.30103, 0.30103, 0.30103, 0.30103, 0.30103, 0.30103, 0.30103, 0.30103, 0.30103, 0.30103, 0.30103, 0.30103, 0.30103, 0.30103, 0.30103, 0.30103, 0.30103, 0.30103, 0.30103, 0.30103, 0.30103, 0.30103, 0.30103, 0.30103, 0.30103, 0.30103, 0.30103, 0.30103, 0.30103, 0.30103, 0.30103, 0.30103, 0.30103, 0.30103, 0.30103, 0.30103, 0.30103, 0.30103, 0.30103, 0.30103, 0.30103, 0.30103, 0.30103, 0.30103, 0.30103, 0.30103, 0.30103, 0.30103, 0.30103, 0.30103, 0.30103, 0.30103, 0.30103, 0.30103, 0.30103, 0.30103, 0.30103, 0.30103, 0.30103, 0.30103, 0.30103, 0.30103, 0.30103, 0.30103, 0.30103, 0.30103, 0.30103, 0.30103, 0.30103, 0.30103, 0.30103, 0.30103, 0.30103, 0.30103, 0.30103, 0.30103, 0.30103, 0.30103, 0.30103, 0.30103, 0.30103, 0.30103, 0.30103, 0.30103, 0.30103, 0.30103, 0.30103, 0.30103, 0.30103, 0.30103, 0.30103, 0.30103, 0.30103, 0.30103, 0.30103, 0.30103, 0.30103, 0.30103, 0.30103, 0.30103, 0.30103, 0.30103, 0.30103, 0.30103, 0.30103, 0.30103, 0.30103, 0.30103, 0.30103, 0.30103, 0.30103, 0.30103, 0.30103, 0.30103, 0.30103, 0.30103, 0.30103, 0.30103, 0.30103, 0.30103, 0.30103, 0.30103, 0.30103, 0.30103, 0.30103, 0.30103, 0.30103, 0.30103, 0.30103, 0.30103, 0.30103, 0.30103, 0.30103, 0.30103, 0.30103, 0.30103, 0.30103, 0.30103, 0.30103, 0.30103, 0.30103, 0.30103, 0.30103, 0.30103, 0.30103, 0.30103, 0.30103, 0.30103, 0.30103, 0.30103, 0.30103, 0.30103, 0.30103, 0.30103, 0.30103, 0.30103, 0.30103, 0.30103, 0.30103, 0.30103, 0.30103, 0.30103, 0.30103, 0.30103, 0.30103, 0.30103, 0.30103, 0.30103, 0.30103, 0.30103, 0.30103, 0.30103, 0.30103, 0.30103, 0.30103, 0.30103, 0.30103, 0.30103, 0.30103, 0.30103, 0.30103, 0.30103, 0.30103, 0.30103, 0.30103, 0.30103, 0.30103, 0.30103, 0.30103, 0.30103, 0.30103, 0.30103, 0.30103, 0.30103, 0.30103, 0.30103, 0.30103, 0.30103, 0.30103, 0.30103, 0.30103, 0.30103, 0.30103, 0.30103, 0.30103, 0.30103, 0.30103, 0.30103, 0.30103, 0.30103, 0.30103, 0.30103, 0.30103, 0.30103, 0.30103, 0.30103, 0.30103, 0.30103, 0.30103, 0.30103, 0.30103, 0.30103, 0.30103, 0.30103, 0.30103, 0.30103, 0.30103, 0.30103, 0.30103, 0.30103, 0.30103, 0.30103, 0.30103, 0.30103, 0.30103, 0.30103, 0.30103, 0.30103, 0.30103, 0.30103, 0.30103, 0.30103, 0.30103, 0.30103, 0.30103, 0.30103, 0.30103, 0.30103, 0.30103, 0.30103, 0.30103, 0.30103, 0.30103, 0.30103, 0.30103, 0.30103, 0.30103, 0.30103, 0.30103, 0.30103, 0.30103, 0.30103, 0.30103, 0.30103, 0.30103, 0.30103, 0.30103, 0.30103, 0.30103, 0.30103, 0.30103, 0.30103, 0.30103, 0.30103, 0.30103, 0.30103, 0.30103, 0.30103, 0.30103, 0.30103, 0.30103, 0.30103, 0.30103, 0.30103, 0.30103, 0.30103, 0.30103, 0.30103, 0.30103, 0.30103, 0.30103, 0.30103, 0.30103, 0.30103, 0.30103, 0.30103, 0.30103, 0.30103, 0.30103, 0.30103, 0.30103, 0.30103, 0.30103, 0.30103, 0.30103, 0.30103, 0.30103, 0.30103, 0.30103, 0.30103, 0.30103, 0.30103, 0.30103, 0.30103, 0.30103, 0.30103, 0.30103, 0.30103, 0.30103, 0.30103, 0.30103, 0.30103, 0.30103, 0.30103, 0.30103, 0.30103, 0.30103, 0.30103, 0.30103, 0.30103, 0.30103, 0.30103, 0.30103, 0.30103, 0.30103, 0.30103, 0.30103, 0.30103, 0.30103, 0.30103, 0.30103, 0.30103, 0.30103, 0.30103, 0.30103, 0.30103, 0.30103, 0.30103, 0.30103, 0.30103, 0.30103, 0.30103, 0.30103, 0.30103, 0.30103, 0.30103, 0.30103, 0.30103, 0.30103, 0.30103, 0.30103, 0.30103, 0.30103, 0.30103, 0.30103, 0.30103, 0.30103, 0.30103, 0.30103, 0.30103, 0.30103, 0.30103, 0.30103, 0.30103, 0.30103, 0.30103, 0.30103, 0.30103, 0.30103, 0.30103, 0.30103, 0.30103, 0.30103, 0.30103, 0.30103, 0.30103, 0.30103, 0.30103, 0.30103, 0.30103, 0.30103, 0.30103, 0.30103, 0.30103, 0.30103, 0.30103, 0.30103, 0.30103, 0.30103, 0.30103, 0.30103, 0.30103, 0.30103, 0.30103, 0.30103, 0.30103, 0.30103, 0.30103, 0.30103, 0.30103, 0.30103, 0.30103, 0.30103, 0.30103, 0.30103, 0.30103, 0.30103, 0.30103, 0.30103, 0.30103, 0.30103, 0.30103, 0.30103, 0.30103, 0.30103, 0.30103, 0.30103, 0.30103, 0.30103, 0.30103, 0.30103, 0.30103, 0.30103, 0.30103, 0.30103, 0.30103, 0.30103, 0.30103, 0.30103, 0.30103, 0.30103, 0.30103, 0.30103, 0.30103, 0.30103, 0.30103, 0.30103, 0.30103, 0.30103, 0.30103, 0.30103, 0.30103, 0.30103, 0.30103, 0.30103, 0.30103, 0.30103, 0.30103, 0.30103, 0.30103, 0.30103, 0.30103, 0.30103, 0.30103, 0.30103, 0.30103, 0.30103, 0.30103, 0.30103, 0.30103, 0.30103, 0.30103, 0.30103, 0.30103, 0.30103, 0.30103, 0.30103, 0.30103, 0.30103, 0.30103, 0.30103, 0.30103, 0.30103, 0.30103, 0.30103, 0.30103, 0.30103, 0.30103, 0.30103, 0.30103, 0.30103, 0.30103, 0.30103, 0.30103, 0.30103, 0.30103, 0.30103, 0.30103, 0.30103, 0.30103, 0.30103, 0.30103, 0.30103, 0.30103, 0.30103, 0.30103, 0.30103, 0.30103, 0.30103, 0.30103, 0.30103, 0.30103, 0.30103, 0.30103, 0.30103, 0.30103, 0.30103, 0.30103, 0.30103, 0.30103, 0.30103, 0.30103, 0.30103, 0.30103, 0.30103, 0.30103, 0.30103, 0.30103, 0.30103, 0.30103, 0.30103, 0.30103, 0.30103, 0.30103, 0.30103, 0.30103, 0.30103, 0.30103, 0.30103, 0.30103, 0.30103, 0.30103, 0.30103, 0.30103, 0.30103, 0.30103, 0.30103, 0.30103, 0.30103, 0.30103, 0.30103, 0.30103, 0.30103, 0.30103, 0.30103, 0.30103, 0.30103, 0.30103, 0.30103, 0.30103, 0.30103, 0.30103, 0.30103, 0.30103, 0.30103, 0.30103, 0.30103, 0.30103, 0.30103, 0.30103, 0.30103, 0.30103, 0.30103, 0.30103, 0.30103, 0.30103, 0.30103, 0.30103, 0.30103, 0.30103, 0.30103, 0.30103, 0.30103, 0.30103, 0.30103, 0.30103, 0.30103, 0.30103, 0.30103, 0.30103, 0.30103, 0.30103, 0.30103, 0.30103, 0.30103, 0.30103, 0.30103, 0.30103, 0.30103, 0.30103, 0.30103, 0.30103, 0.30103, 0.30103, 0.30103, 0.30103, 0.30103, 0.30103, 0.30103, 0.30103, 0.30103, 0.30103, 0.30103, 0.30103, 0.30103, 0.30103, 0.30103, 0.30103, 0.30103, 0.30103, 0.30103, 0.30103, 0.30103, 0.30103, 0.30103, 0.30103, 0.30103, 0.30103, 0.30103, 0.30103, 0.30103, 0.30103, 0.30103, 0.30103, 0.30103, 0.30103, 0.30103, 0.30103, 0.30103, 0.30103, 0.30103, 0.30103, 0.30103, 0.30103, 0.30103, 0.30103, 0.30103, 0.30103, 0.30103, 0.30103, 0.30103, 0.30103, 0.30103, 0.30103, 0.30103, 0.30103, 0.30103, 0.30103, 0.30103, 0.30103, 0.30103, 0.30103, 0.30103, 0.30103, 0.30103, 0.30103, 0.30103, 0.30103, 0.30103, 0.30103, 0.30103, 0.30103, 0.30103, 0.30103, 0.30103, 0.30103, 0.30103, 0.30103, 0.30103, 0.30103, 0.30103, 0.30103, 0.30103, 0.30103, 0.30103, 0.30103, 0.30103, 0.30103, 0.30103, 0.30103, 0.30103, 0.30103, 0.30103, 0.30103, 0.30103, 0.30103, 0.30103, 0.30103, 0.30103, 0.30103, 0.30103, 0.30103, 0.30103, 0.30103, 0.30103, 0.30103, 0.30103, 0.30103, 0.30103, 0.30103, 0.30103, 0.30103, 0.30103, 0.30103, 0.30103, 0.30103, 0.30103, 0.30103, 0.30103, 0.30103, 0.30103, 0.30103, 0.30103, 0.30103, 0.30103, 0.30103, 0.30103, 0.30103, 0.30103, 0.30103, 0.30103, 0.30103, 0.30103, 0.30103, 0.30103, 0.30103, 0.30103, 0.30103, 0.30103, 0.30103, 0.30103, 0.30103, 0.30103, 0.30103, 0.30103, 0.30103, 0.30103, 0.30103, 0.30103, 0.30103, 0.30103, 0.30103, 0.30103, 0.30103, 0.30103, 0.30103, 0.30103, 0.30103, 0.30103, 0.30103, 0.30103, 0.30103, 0.30103, 0.30103, 0.30103, 0.30103, 0.30103, 0.30103, 0.30103, 0.30103, 0.30103, 0.30103, 0.30103, 0.30103, 0.30103, 0.30103, 0.30103, 0.30103, 0.30103, 0.30103, 0.30103, 0.30103, 0.30103, 0.30103, 0.30103, 0.30103, 0.30103, 0.30103, 0.30103, 0.30103, 0.30103, 0.30103, 0.30103, 0.30103, 0.30103, 0.30103, 0.30103, 0.30103, 0.30103, 0.30103, 0.30103, 0.30103, 0.30103, 0.30103, 0.30103, 0.30103, 0.30103, 0.30103, 0.30103, 0.30103, 0.30103, 0.30103, 0.30103, 0.30103, 0.30103, 0.30103, 0.30103, 0.30103, 0.30103, 0.30103, 0.30103, 0.30103, 0.30103, 0.30103, 0.30103, 0.30103, 0.30103, 0.30103, 0.30103, 0.30103, 0.30103, 0.30103, 0.30103, 0.30103, 0.30103, 0.30103, 0.30103, 0.30103, 0.30103, 0.30103, 0.30103, 0.30103, 0.30103, 0.30103, 0.30103, 0.30103, 0.30103, 0.30103, 0.30103, 0.30103, 0.30103, 0.30103, 0.30103, 0.30103, 0.30103, 0.30103, 0.30103, 0.30103, 0.30103, 0.30103, 0.30103, 0.30103, 0.30103, 0.30103, 0.30103, 0.30103, 0.30103, 0.30103, 0.30103, 0.30103, 0.30103, 0.30103, 0.30103, 0.30103, 0.30103, 0.30103, 0.30103, 0.30103, 0.30103, 0.30103, 0.30103, 0.30103, 0.30103, 0.30103, 0.30103, 0.30103, 0.30103, 0.30103, 0.30103, 0.30103, 0.30103, 0.30103, 0.30103, 0.30103, 0.30103, 0.30103, 0.30103, 0.30103, 0.30103, 0.30103, 0.30103, 0.30103, 0.30103, 0.30103, 0.30103, 0.30103, 0.30103, 0.30103, 0.30103, 0.30103, 0.30103, 0.30103, 0.30103, 0.30103, 0.30103, 0.30103, 0.30103, 0.30103, 0.30103, 0.30103, 0.30103, 0.30103, 0.30103, 0.30103, 0.30103, 0.30103, 0.30103, 0.30103, 0.30103, 0.30103, 0.30103, 0.30103, 0.30103, 0.30103, 0.30103, 0.30103, 0.30103, 0.30103, 0.30103, 0.30103, 0.30103, 0.30103, 0.30103, 0.30103, 0.30103, 0.30103, 0.30103, 0.30103, 0.30103, 0.30103, 0.30103, 0.30103, 0.30103, 0.30103, 0.30103, 0.30103, 0.30103, 0.30103, 0.30103, 0.30103, 0.30103, 0.30103, 0.30103, 0.30103, 0.30103, 0.30103, 0.30103, 0.30103, 0.30103, 0.30103, 0.30103, 0.30103, 0.30103, 0.30103, 0.30103, 0.30103, 0.30103, 0.30103, 0.30103, 0.30103, 0.30103, 0.30103, 0.30103, 0.30103, 0.30103, 0.30103, 0.30103, 0.30103, 0.30103, 0.30103, 0.30103, 0.30103, 0.30103, 0.30103, 0.30103, 0.30103, 0.30103, 0.30103, 0.30103, 0.30103, 0.30103, 0.30103, 0.30103, 0.30103, 0.30103, 0.30103, 0.30103, 0.30103, 0.30103, 0.30103, 0.30103, 0.30103, 0.30103, 0.30103, 0.30103, 0.30103, 0.30103, 0.30103, 0.30103, 0.30103, 0.30103, 0.30103, 0.30103, 0.30103, 0.30103, 0.30103, 0.30103, 0.30103, 0.30103, 0.30103, 0.30103, 0.30103, 0.30103, 0.30103, 0.30103, 0.30103, 0.30103, 0.30103, 0.30103, 0.30103, 0.30103, 0.30103, 0.30103, 0.30103, 0.30103, 0.30103, 0.30103, 0.30103, 0.30103, 0.30103, 0.30103, 0.30103, 0.30103, 0.30103, 0.30103, 0.30103, 0.30103, 0.30103, 0.30103, 0.30103, 0.30103, 0.30103, 0.30103, 0.30103, 0.30103, 0.30103, 0.30103, 0.30103, 0.30103, 0.30103, 0.30103, 0.30103, 0.30103, 0.30103, 0.30103, 0.30103, 0.30103, 0.30103, 0.30103, 0.30103, 0.30103, 0.30103, 0.30103, 0.30103, 0.30103, 0.30103, 0.30103, 0.30103, 0.30103, 0.30103, 0.30103, 0.30103, 0.30103, 0.30103, 0.30103, 0.30103, 0.30103, 0.30103, 0.30103, 0.30103, 0.30103, 0.30103, 0.30103, 0.30103, 0.30103, 0.30103, 0.30103, 0.30103, 0.30103, 0.30103, 0.30103, 0.30103, 0.30103, 0.30103, 0.30103, 0.30103, 0.30103, 0.30103, 0.30103, 0.30103, 0.30103, 0.30103, 0.30103, 0.30103, 0.30103, 0.30103, 0.30103, 0.30103, 0.30103, 0.30103, 0.30103, 0.30103, 0.30103, 0.30103, 0.30103, 0.30103, 0.30103, 0.30103, 0.30103, 0.30103, 0.30103, 0.30103, 0.30103, 0.30103, 0.30103, 0.30103, 0.30103, 0.30103, 0.30103, 0.30103, 0.30103, 0.30103, 0.30103, 0.30103, 0.30103, 0.30103, 0.30103, 0.30103, 0.30103, 0.30103, 0.30103, 0.30103, 0.30103, 0.30103, 0.30103, 0.30103, 0.30103, 0.30103, 0.30103, 0.30103, 0.30103, 0.30103, 0.30103, 0.30103, 0.30103, 0.30103, 0.30103, 0.30103, 0.30103, 0.30103, 0.30103, 0.30103, 0.30103, 0.30103, 0.30103, 0.30103, 0.30103, 0.30103, 0.30103, 0.30103, 0.30103, 0.30103, 0.30103, 0.30103, 0.30103, 0.30103, 0.30103, 0.30103, 0.30103, 0.30103, 0.30103, 0.30103, 0.30103, 0.30103, 0.30103, 0.30103, 0.30103, 0.30103, 0.30103, 0.30103, 0.30103, 0.30103, 0.30103, 0.30103, 0.30103, 0.30103, 0.30103, 0.30103, 0.30103, 0.30103, 0.30103, 0.30103, 0.30103, 0.30103, 0.30103, 0.30103, 0.30103, 0.30103, 0.30103, 0.30103, 0.30103, 0.30103, 0.30103, 0.30103, 0.30103, 0.30103, 0.30103, 0.30103, 0.30103, 0.30103, 0.30103, 0.30103, 0.30103, 0.30103, 0.30103, 0.30103, 0.30103, 0.30103, 0.30103, 0.30103, 0.30103, 0.30103, 0.30103, 0.30103, 0.30103, 0.30103, 0.30103, 0.30103, 0.30103, 0.30103, 0.30103, 0.30103, 0.30103, 0.30103, 0.30103, 0.30103, 0.30103, 0.30103, 0.30103, 0.30103, 0.30103, 0.30103, 0.30103, 0.30103, 0.30103, 0.30103]\n"
     ]
    }
   ],
   "source": [
    "import math\n",
    "\n",
    "# find rf value\n",
    "rf_list = []\n",
    "for i in range(len(nij)):\n",
    "    temp = 0\n",
    "    temp = math.log10(2 + (nij[i] / max_numerator[i]))\n",
    "    temp = round(temp, 5)\n",
    "    rf_list.append(temp)\n",
    "print(rf_list)\n"
   ]
  },
  {
   "cell_type": "code",
   "execution_count": 23,
   "metadata": {},
   "outputs": [
    {
     "name": "stdout",
     "output_type": "stream",
     "text": [
      "7896\n"
     ]
    }
   ],
   "source": [
    "# Combining the values of TF for spam and non-spam.\n",
    "tf_forRF = []\n",
    "\n",
    "for i in range(len(tf_positive_rf)):\n",
    "    tf_forRF.append(tf_positive_rf[i])\n",
    "\n",
    "for i in range(len(tf_negative_rf)):\n",
    "    tf_forRF.append(tf_negative_rf[i])\n",
    "\n",
    "print(len(tf_forRF))\n"
   ]
  },
  {
   "cell_type": "code",
   "execution_count": 24,
   "metadata": {},
   "outputs": [
    {
     "name": "stdout",
     "output_type": "stream",
     "text": [
      "7896\n"
     ]
    }
   ],
   "source": [
    "tf_rf = []\n",
    "for i in range(len(tf_forRF)):\n",
    "    doclist = []\n",
    "    for j in range(len(tf_forRF[0])):\n",
    "        if j == len(tf_forRF[0]) - 1:\n",
    "            temp = tf_forRF[i][j]\n",
    "            doclist.append(temp)\n",
    "        else:\n",
    "            temp = rf_list[j] * tf_forRF[i][j]\n",
    "            doclist.append(temp)\n",
    "    tf_rf.append(doclist)\n",
    "print(len(tf_rf))\n"
   ]
  },
  {
   "attachments": {},
   "cell_type": "markdown",
   "metadata": {},
   "source": [
    "### **_Save Dataframe To CSV_**\n"
   ]
  },
  {
   "cell_type": "code",
   "execution_count": 25,
   "metadata": {},
   "outputs": [],
   "source": [
    "columnName = term\n",
    "columnName.append('sentiment')"
   ]
  },
  {
   "cell_type": "code",
   "execution_count": 26,
   "metadata": {},
   "outputs": [],
   "source": [
    "data = pd.DataFrame(tf_rf, columns=columnName)\n",
    "data.to_csv(\"../dataset/INA_TweetsPPKM_TFRF_DS3.csv\", index=False, sep=\"\\t\")\n"
   ]
  }
 ],
 "metadata": {
  "kernelspec": {
   "display_name": "env",
   "language": "python",
   "name": "python3"
  },
  "language_info": {
   "codemirror_mode": {
    "name": "ipython",
    "version": 3
   },
   "file_extension": ".py",
   "mimetype": "text/x-python",
   "name": "python",
   "nbconvert_exporter": "python",
   "pygments_lexer": "ipython3",
   "version": "3.10.7"
  },
  "orig_nbformat": 4
 },
 "nbformat": 4,
 "nbformat_minor": 2
}
