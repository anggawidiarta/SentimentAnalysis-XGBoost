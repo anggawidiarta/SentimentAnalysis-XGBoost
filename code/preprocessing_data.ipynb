{
 "cells": [
  {
   "attachments": {},
   "cell_type": "markdown",
   "metadata": {},
   "source": [
    "## **Preprocessing DF**\n",
    "\n",
    "<ol>\n",
    "  <li>Case Folding</li>\n",
    "  <li>Tokenizing</li>\n",
    "  <li>Stopwords Removal</li>\n",
    "  <li>Stemming</li>\n",
    "</ol> "
   ]
  },
  {
   "cell_type": "code",
   "execution_count": 1,
   "metadata": {},
   "outputs": [],
   "source": [
    "import pandas as pd\n",
    "import matplotlib.pyplot as plt\n",
    "import numpy as np\n",
    "\n",
    "# Mengimpor semua library yang diperlukan\n",
    "# pandas digunakan untuk memanipulasi dan menganalisis data dalam bentuk DataFrame\n",
    "# matplotlib.pyplot digunakan untuk membuat visualisasi grafik\n",
    "# numpy digunakan untuk operasi matematika dan manipulasi array\n"
   ]
  },
  {
   "cell_type": "code",
   "execution_count": 2,
   "metadata": {},
   "outputs": [
    {
     "name": "stdout",
     "output_type": "stream",
     "text": [
      "Rows : 10000, Columns : 4\n"
     ]
    }
   ],
   "source": [
    "# Mengatur jumlah maksimum baris yang ditampilkan saat mencetak DataFrame\n",
    "pd.options.display.max_rows\n",
    "\n",
    "# Mengatur jumlah maksimum kolom yang ditampilkan saat mencetak DataFrame\n",
    "pd.options.display.max_columns\n",
    "\n",
    "# Mengatur lebar maksimum kolom agar setiap kolom dapat menampilkan string hingga 75 karakter\n",
    "pd.options.display.max_colwidth = 75\n",
    "\n",
    "# Mendefinisikan path file CSV yang akan dibaca\n",
    "path = \"../dataset/INA_TweetsPPKM_Labeled_FIX.csv\"\n",
    "\n",
    "# Membaca file CSV menjadi DataFrame menggunakan pandas\n",
    "df = pd.read_csv(path, sep=\"\\t\")\n",
    "\n",
    "# Mencetak jumlah baris dan kolom dalam DataFrame\n",
    "print(f\"Rows : {df.shape[0]}, Columns : {df.shape[1]}\")\n"
   ]
  },
  {
   "cell_type": "code",
   "execution_count": 3,
   "metadata": {},
   "outputs": [
    {
     "data": {
      "text/html": [
       "<div>\n",
       "<style scoped>\n",
       "    .dataframe tbody tr th:only-of-type {\n",
       "        vertical-align: middle;\n",
       "    }\n",
       "\n",
       "    .dataframe tbody tr th {\n",
       "        vertical-align: top;\n",
       "    }\n",
       "\n",
       "    .dataframe thead th {\n",
       "        text-align: right;\n",
       "    }\n",
       "</style>\n",
       "<table border=\"1\" class=\"dataframe\">\n",
       "  <thead>\n",
       "    <tr style=\"text-align: right;\">\n",
       "      <th></th>\n",
       "      <th>date</th>\n",
       "      <th>user</th>\n",
       "      <th>tweet</th>\n",
       "      <th>sentiment</th>\n",
       "    </tr>\n",
       "  </thead>\n",
       "  <tbody>\n",
       "    <tr>\n",
       "      <th>5311</th>\n",
       "      <td>2021-07-23 20:15:50</td>\n",
       "      <td>yudaalexander59</td>\n",
       "      <td>Kerap Memikirkan Warga Terdampak PPKM Darurat, Wali Kota Bandung Dilari...</td>\n",
       "      <td>1</td>\n",
       "    </tr>\n",
       "    <tr>\n",
       "      <th>2876</th>\n",
       "      <td>2021-07-12 05:45:59</td>\n",
       "      <td>kalimatsakti</td>\n",
       "      <td>Orang nonton EURO kenapa ga ada yang pakai masker\\r\\n\\r\\n#Euro2021 \\r\\n...</td>\n",
       "      <td>0</td>\n",
       "    </tr>\n",
       "    <tr>\n",
       "      <th>3309</th>\n",
       "      <td>2021-07-06 10:10:22</td>\n",
       "      <td>leelleekk</td>\n",
       "      <td>#PPKM\\r\\nPak Presiden Kapan Mundur</td>\n",
       "      <td>0</td>\n",
       "    </tr>\n",
       "    <tr>\n",
       "      <th>453</th>\n",
       "      <td>2021-08-22 14:45:51</td>\n",
       "      <td>mmmxthco</td>\n",
       "      <td>Senyamannya diri sendiri orang lain ngak bisa mengatur.\\r\\nTapi endingn...</td>\n",
       "      <td>0</td>\n",
       "    </tr>\n",
       "    <tr>\n",
       "      <th>7635</th>\n",
       "      <td>2021-07-02 12:37:48</td>\n",
       "      <td>sukajalannn</td>\n",
       "      <td>Untuk kesekian kalinya gw refund tiket gara2 CORONA🥴🥴 #PPKM #1JutaVaksi...</td>\n",
       "      <td>1</td>\n",
       "    </tr>\n",
       "  </tbody>\n",
       "</table>\n",
       "</div>"
      ],
      "text/plain": [
       "                     date             user  \\\n",
       "5311  2021-07-23 20:15:50  yudaalexander59   \n",
       "2876  2021-07-12 05:45:59     kalimatsakti   \n",
       "3309  2021-07-06 10:10:22        leelleekk   \n",
       "453   2021-08-22 14:45:51         mmmxthco   \n",
       "7635  2021-07-02 12:37:48      sukajalannn   \n",
       "\n",
       "                                                                           tweet  \\\n",
       "5311  Kerap Memikirkan Warga Terdampak PPKM Darurat, Wali Kota Bandung Dilari...   \n",
       "2876  Orang nonton EURO kenapa ga ada yang pakai masker\\r\\n\\r\\n#Euro2021 \\r\\n...   \n",
       "3309                                          #PPKM\\r\\nPak Presiden Kapan Mundur   \n",
       "453   Senyamannya diri sendiri orang lain ngak bisa mengatur.\\r\\nTapi endingn...   \n",
       "7635  Untuk kesekian kalinya gw refund tiket gara2 CORONA🥴🥴 #PPKM #1JutaVaksi...   \n",
       "\n",
       "      sentiment  \n",
       "5311          1  \n",
       "2876          0  \n",
       "3309          0  \n",
       "453           0  \n",
       "7635          1  "
      ]
     },
     "execution_count": 3,
     "metadata": {},
     "output_type": "execute_result"
    }
   ],
   "source": [
    "# Mengubah semua nama kolom dalam DataFrame menjadi huruf kecil\n",
    "df.columns = df.columns.str.lower()\n",
    "\n",
    "# Mengambil sampel acak 5 baris dari DataFrame\n",
    "df.sample(5)\n"
   ]
  },
  {
   "cell_type": "code",
   "execution_count": 4,
   "metadata": {},
   "outputs": [],
   "source": [
    "# Menghapus kolom \"date\" dan \"user\" dari DataFrame\n",
    "df.drop(columns=[\"date\", \"user\"], inplace=True, axis=1)\n"
   ]
  },
  {
   "cell_type": "code",
   "execution_count": 5,
   "metadata": {},
   "outputs": [
    {
     "data": {
      "text/plain": [
       "tweet        0\n",
       "sentiment    0\n",
       "dtype: int64"
      ]
     },
     "execution_count": 5,
     "metadata": {},
     "output_type": "execute_result"
    }
   ],
   "source": [
    "# Menghitung jumlah nilai yang hilang (NaN) pada setiap kolom dalam DataFrame\n",
    "df.isna().sum()\n"
   ]
  },
  {
   "cell_type": "code",
   "execution_count": 6,
   "metadata": {},
   "outputs": [
    {
     "name": "stdout",
     "output_type": "stream",
     "text": [
      "<class 'pandas.core.frame.DataFrame'>\n",
      "RangeIndex: 10000 entries, 0 to 9999\n",
      "Data columns (total 2 columns):\n",
      " #   Column     Non-Null Count  Dtype \n",
      "---  ------     --------------  ----- \n",
      " 0   tweet      10000 non-null  object\n",
      " 1   sentiment  10000 non-null  int64 \n",
      "dtypes: int64(1), object(1)\n",
      "memory usage: 156.4+ KB\n"
     ]
    }
   ],
   "source": [
    "# Menampilkan informasi tentang DataFrame, termasuk informasi tentang kolom, tipe data, dan jumlah non-null values\n",
    "df.info()\n"
   ]
  },
  {
   "cell_type": "code",
   "execution_count": 7,
   "metadata": {},
   "outputs": [
    {
     "data": {
      "text/plain": [
       "1    6100\n",
       "0    3900\n",
       "Name: sentiment, dtype: int64"
      ]
     },
     "execution_count": 7,
     "metadata": {},
     "output_type": "execute_result"
    }
   ],
   "source": [
    "# Menghitung jumlah kemunculan setiap nilai dalam kolom 'sentiment' dalam DataFrame\n",
    "df[\"sentiment\"].value_counts()\n"
   ]
  },
  {
   "cell_type": "code",
   "execution_count": 8,
   "metadata": {},
   "outputs": [
    {
     "data": {
      "text/plain": [
       "Text(0.5, 1.0, 'Jumlah Masing - Masing Kategori Sentimen')"
      ]
     },
     "execution_count": 8,
     "metadata": {},
     "output_type": "execute_result"
    },
    {
     "data": {
      "image/png": "[encoded data removed]",
      "text/plain": [
       "<Figure size 640x480 with 1 Axes>"
      ]
     },
     "metadata": {},
     "output_type": "display_data"
    }
   ],
   "source": [
    "# Mengelompokkan DataFrame berdasarkan kolom 'sentiment' dan menghitung jumlah kemunculan setiap nilai sentiment\n",
    "sentiment_df = df.groupby(\"sentiment\")[\"sentiment\"].count()\n",
    "\n",
    "# Membuat peta warna untuk representasi visual, di mana 0 direpresentasikan sebagai \"red\" dan 1 direpresentasikan sebagai \"green\"\n",
    "color_map = {0: \"red\", 1: \"green\"}\n",
    "\n",
    "# Membuat plot bar dengan menggunakan data dari sentiment_df, dengan warna yang sesuai dengan peta warna\n",
    "sentiment_df.plot(kind=\"bar\", alpha=0.7, color=[\"red\", \"green\"])\n",
    "\n",
    "# Menambahkan label pada sumbu x dengan teks \"Kategori\"\n",
    "plt.xlabel(\"Kategori\")\n",
    "\n",
    "# Mengatur rotasi label sumbu x menjadi 0 (tidak berputar)\n",
    "plt.xticks(rotation=0)\n",
    "\n",
    "# Menambahkan label pada sumbu y dengan teks \"Total\"\n",
    "plt.ylabel(\"Total\")\n",
    "\n",
    "# Menambahkan judul pada plot dengan teks \"Jumlah Masing - Masing Kategori Sentimen\"\n",
    "plt.title(\"Jumlah Masing - Masing Kategori Sentimen\")\n"
   ]
  },
  {
   "cell_type": "code",
   "execution_count": 9,
   "metadata": {},
   "outputs": [
    {
     "data": {
      "text/html": [
       "<div>\n",
       "<style scoped>\n",
       "    .dataframe tbody tr th:only-of-type {\n",
       "        vertical-align: middle;\n",
       "    }\n",
       "\n",
       "    .dataframe tbody tr th {\n",
       "        vertical-align: top;\n",
       "    }\n",
       "\n",
       "    .dataframe thead th {\n",
       "        text-align: right;\n",
       "    }\n",
       "</style>\n",
       "<table border=\"1\" class=\"dataframe\">\n",
       "  <thead>\n",
       "    <tr style=\"text-align: right;\">\n",
       "      <th></th>\n",
       "      <th>tweet</th>\n",
       "      <th>sentiment</th>\n",
       "    </tr>\n",
       "  </thead>\n",
       "  <tbody>\n",
       "    <tr>\n",
       "      <th>0</th>\n",
       "      <td>Karena stimulasi untuk #anakberkebutuhankhusus tidak optimal jika dilak...</td>\n",
       "      <td>0</td>\n",
       "    </tr>\n",
       "    <tr>\n",
       "      <th>1</th>\n",
       "      <td>Ye ampun mbh anda seorang Wapres loh.&amp;amp;Gelar anda seorang kiyai @Kiy...</td>\n",
       "      <td>0</td>\n",
       "    </tr>\n",
       "    <tr>\n",
       "      <th>2</th>\n",
       "      <td>Mulaik kumat lagi. 😀 #ppkm https://t.co/MNDSPHJU69</td>\n",
       "      <td>0</td>\n",
       "    </tr>\n",
       "    <tr>\n",
       "      <th>3</th>\n",
       "      <td>Welcome PPKM bau bau naik level nih, gimana nih mang\\r\\n#ppkm</td>\n",
       "      <td>0</td>\n",
       "    </tr>\n",
       "    <tr>\n",
       "      <th>4</th>\n",
       "      <td>Sesungguhnya Allah tidak menciptakan kita, hambaNya ini, sebagai makhlu...</td>\n",
       "      <td>0</td>\n",
       "    </tr>\n",
       "  </tbody>\n",
       "</table>\n",
       "</div>"
      ],
      "text/plain": [
       "                                                                        tweet  \\\n",
       "0  Karena stimulasi untuk #anakberkebutuhankhusus tidak optimal jika dilak...   \n",
       "1  Ye ampun mbh anda seorang Wapres loh.&amp;Gelar anda seorang kiyai @Kiy...   \n",
       "2                          Mulaik kumat lagi. 😀 #ppkm https://t.co/MNDSPHJU69   \n",
       "3               Welcome PPKM bau bau naik level nih, gimana nih mang\\r\\n#ppkm   \n",
       "4  Sesungguhnya Allah tidak menciptakan kita, hambaNya ini, sebagai makhlu...   \n",
       "\n",
       "   sentiment  \n",
       "0          0  \n",
       "1          0  \n",
       "2          0  \n",
       "3          0  \n",
       "4          0  "
      ]
     },
     "execution_count": 9,
     "metadata": {},
     "output_type": "execute_result"
    }
   ],
   "source": [
    "df.head()\n"
   ]
  },
  {
   "attachments": {},
   "cell_type": "markdown",
   "metadata": {},
   "source": [
    "### **Case Folding**\n"
   ]
  },
  {
   "cell_type": "code",
   "execution_count": 10,
   "metadata": {},
   "outputs": [
    {
     "name": "stdout",
     "output_type": "stream",
     "text": [
      "Case Folding Result:\n"
     ]
    },
    {
     "data": {
      "text/html": [
       "<div>\n",
       "<style scoped>\n",
       "    .dataframe tbody tr th:only-of-type {\n",
       "        vertical-align: middle;\n",
       "    }\n",
       "\n",
       "    .dataframe tbody tr th {\n",
       "        vertical-align: top;\n",
       "    }\n",
       "\n",
       "    .dataframe thead th {\n",
       "        text-align: right;\n",
       "    }\n",
       "</style>\n",
       "<table border=\"1\" class=\"dataframe\">\n",
       "  <thead>\n",
       "    <tr style=\"text-align: right;\">\n",
       "      <th></th>\n",
       "      <th>tweet</th>\n",
       "      <th>sentiment</th>\n",
       "    </tr>\n",
       "  </thead>\n",
       "  <tbody>\n",
       "    <tr>\n",
       "      <th>0</th>\n",
       "      <td>karena stimulasi untuk #anakberkebutuhankhusus tidak optimal jika dilak...</td>\n",
       "      <td>0</td>\n",
       "    </tr>\n",
       "    <tr>\n",
       "      <th>1</th>\n",
       "      <td>ye ampun mbh anda seorang wapres loh.&amp;amp;gelar anda seorang kiyai @kiy...</td>\n",
       "      <td>0</td>\n",
       "    </tr>\n",
       "    <tr>\n",
       "      <th>2</th>\n",
       "      <td>mulaik kumat lagi. 😀 #ppkm https://t.co/mndsphju69</td>\n",
       "      <td>0</td>\n",
       "    </tr>\n",
       "    <tr>\n",
       "      <th>3</th>\n",
       "      <td>welcome ppkm bau bau naik level nih, gimana nih mang\\r\\n#ppkm</td>\n",
       "      <td>0</td>\n",
       "    </tr>\n",
       "    <tr>\n",
       "      <th>4</th>\n",
       "      <td>sesungguhnya allah tidak menciptakan kita, hambanya ini, sebagai makhlu...</td>\n",
       "      <td>0</td>\n",
       "    </tr>\n",
       "  </tbody>\n",
       "</table>\n",
       "</div>"
      ],
      "text/plain": [
       "                                                                        tweet  \\\n",
       "0  karena stimulasi untuk #anakberkebutuhankhusus tidak optimal jika dilak...   \n",
       "1  ye ampun mbh anda seorang wapres loh.&amp;gelar anda seorang kiyai @kiy...   \n",
       "2                          mulaik kumat lagi. 😀 #ppkm https://t.co/mndsphju69   \n",
       "3               welcome ppkm bau bau naik level nih, gimana nih mang\\r\\n#ppkm   \n",
       "4  sesungguhnya allah tidak menciptakan kita, hambanya ini, sebagai makhlu...   \n",
       "\n",
       "   sentiment  \n",
       "0          0  \n",
       "1          0  \n",
       "2          0  \n",
       "3          0  \n",
       "4          0  "
      ]
     },
     "execution_count": 10,
     "metadata": {},
     "output_type": "execute_result"
    }
   ],
   "source": [
    "# Mengubah semua teks dalam kolom 'tweet' menjadi huruf kecil\n",
    "df[\"tweet\"] = df[\"tweet\"].str.lower()\n",
    "\n",
    "# Mencetak hasil dari Case Folding\n",
    "print(\"Case Folding Result:\")\n",
    "\n",
    "# Menampilkan lima baris pertama dari DataFrame setelah dilakukan Case Folding\n",
    "df.head(5)\n"
   ]
  },
  {
   "attachments": {},
   "cell_type": "markdown",
   "metadata": {},
   "source": [
    "### **Tokenizing**\n"
   ]
  },
  {
   "cell_type": "code",
   "execution_count": 11,
   "metadata": {},
   "outputs": [
    {
     "name": "stderr",
     "output_type": "stream",
     "text": [
      "[nltk_data] Downloading package punkt to C:\\Users\\SNOW-\n",
      "[nltk_data]     WOLF\\AppData\\Roaming\\nltk_data...\n",
      "[nltk_data]   Package punkt is already up-to-date!\n"
     ]
    },
    {
     "data": {
      "text/plain": [
       "True"
      ]
     },
     "execution_count": 11,
     "metadata": {},
     "output_type": "execute_result"
    }
   ],
   "source": [
    "import string\n",
    "import re\n",
    "import nltk\n",
    "from nltk.tokenize import word_tokenize\n",
    "from nltk.probability import FreqDist\n",
    "\n",
    "# Mengunduh resource yang diperlukan oleh NLTK (Natural Language Toolkit)\n",
    "nltk.download(\"punkt\")\n"
   ]
  },
  {
   "cell_type": "code",
   "execution_count": 12,
   "metadata": {},
   "outputs": [],
   "source": [
    "def remove_special_char(text):\n",
    "    # Menghapus karakter khusus seperti tab, baris baru, dan backslash\n",
    "    text = (\n",
    "        text.replace(\"\\\\t\", \" \")\n",
    "        .replace(\"\\\\n\", \" \")\n",
    "        .replace(\"\\\\u\", \" \")\n",
    "        .replace(\"\\\\\", \"\")\n",
    "    )\n",
    "    # Menghapus karakter non-ASCII seperti emotikon\n",
    "    text = text.encode(\"ASCII\", \"replace\").decode(\"ASCII\")\n",
    "    # Menghapus mention, link, dan hashtag\n",
    "    text = \" \".join(re.sub(\"([@#][A-Za-z0-9]+)|(\\w+:\\/\\/\\S+)\", \" \", text).split())\n",
    "    # Menghapus URL yang tidak lengkap\n",
    "    return text.replace(\"http://\", \" \").replace(\"https://\", \" \")\n",
    "\n",
    "\n",
    "def remove_number(text):\n",
    "    # Menghapus angka dari teks\n",
    "    return re.sub(r\"\\d+\", \"\", text)\n",
    "\n",
    "\n",
    "def remove_punctuation(text):\n",
    "    # Menghapus tanda baca dari teks\n",
    "    return text.translate(str.maketrans(\"\", \"\", string.punctuation))\n",
    "\n",
    "\n",
    "def remove_whitespace(text):\n",
    "    # Menghapus spasi di awal dan akhir teks\n",
    "    return text.strip()\n",
    "\n",
    "\n",
    "def remove_multiple_whitespace(text):\n",
    "    # Menghapus multiple whitespace menjadi satu spasi\n",
    "    return re.sub(\"\\s+\", \" \", text)\n",
    "\n",
    "\n",
    "def remove_single_char(text):\n",
    "    # Menghapus kata yang terdiri dari satu karakter saja\n",
    "    return re.sub(r\"\\b[a-zA-Z]\\b\", \"\", text)\n",
    "\n",
    "\n",
    "def tokenize(text):\n",
    "    # Melakukan tokenisasi kata pada teks menggunakan NLTK\n",
    "    return word_tokenize(text)\n"
   ]
  },
  {
   "cell_type": "code",
   "execution_count": 13,
   "metadata": {},
   "outputs": [
    {
     "data": {
      "text/html": [
       "<div>\n",
       "<style scoped>\n",
       "    .dataframe tbody tr th:only-of-type {\n",
       "        vertical-align: middle;\n",
       "    }\n",
       "\n",
       "    .dataframe tbody tr th {\n",
       "        vertical-align: top;\n",
       "    }\n",
       "\n",
       "    .dataframe thead th {\n",
       "        text-align: right;\n",
       "    }\n",
       "</style>\n",
       "<table border=\"1\" class=\"dataframe\">\n",
       "  <thead>\n",
       "    <tr style=\"text-align: right;\">\n",
       "      <th></th>\n",
       "      <th>tweet</th>\n",
       "      <th>sentiment</th>\n",
       "    </tr>\n",
       "  </thead>\n",
       "  <tbody>\n",
       "    <tr>\n",
       "      <th>0</th>\n",
       "      <td>[karena, stimulasi, untuk, tidak, optimal, jika, dilakukan, secara, onl...</td>\n",
       "      <td>0</td>\n",
       "    </tr>\n",
       "    <tr>\n",
       "      <th>1</th>\n",
       "      <td>[ye, ampun, mbh, anda, seorang, wapres, lohampgelar, anda, seorang, kiy...</td>\n",
       "      <td>0</td>\n",
       "    </tr>\n",
       "    <tr>\n",
       "      <th>2</th>\n",
       "      <td>[mulaik, kumat, lagi]</td>\n",
       "      <td>0</td>\n",
       "    </tr>\n",
       "    <tr>\n",
       "      <th>3</th>\n",
       "      <td>[welcome, ppkm, bau, bau, naik, level, nih, gimana, nih, mang]</td>\n",
       "      <td>0</td>\n",
       "    </tr>\n",
       "    <tr>\n",
       "      <th>4</th>\n",
       "      <td>[sesungguhnya, allah, tidak, menciptakan, kita, hambanya, ini, sebagai,...</td>\n",
       "      <td>0</td>\n",
       "    </tr>\n",
       "  </tbody>\n",
       "</table>\n",
       "</div>"
      ],
      "text/plain": [
       "                                                                        tweet  \\\n",
       "0  [karena, stimulasi, untuk, tidak, optimal, jika, dilakukan, secara, onl...   \n",
       "1  [ye, ampun, mbh, anda, seorang, wapres, lohampgelar, anda, seorang, kiy...   \n",
       "2                                                       [mulaik, kumat, lagi]   \n",
       "3              [welcome, ppkm, bau, bau, naik, level, nih, gimana, nih, mang]   \n",
       "4  [sesungguhnya, allah, tidak, menciptakan, kita, hambanya, ini, sebagai,...   \n",
       "\n",
       "   sentiment  \n",
       "0          0  \n",
       "1          0  \n",
       "2          0  \n",
       "3          0  \n",
       "4          0  "
      ]
     },
     "execution_count": 13,
     "metadata": {},
     "output_type": "execute_result"
    }
   ],
   "source": [
    "# Mengaplikasikan fungsi remove_special_char pada kolom 'tweet'\n",
    "df[\"tweet\"] = df[\"tweet\"].map(remove_special_char)\n",
    "\n",
    "# Mengaplikasikan fungsi remove_number pada kolom 'tweet'\n",
    "df[\"tweet\"] = df[\"tweet\"].map(remove_number)\n",
    "\n",
    "# Mengaplikasikan fungsi remove_punctuation pada kolom 'tweet'\n",
    "df[\"tweet\"] = df[\"tweet\"].map(remove_punctuation)\n",
    "\n",
    "# Mengaplikasikan fungsi remove_whitespace pada kolom 'tweet'\n",
    "df[\"tweet\"] = df[\"tweet\"].map(remove_whitespace)\n",
    "\n",
    "# Mengaplikasikan fungsi remove_multiple_whitespace pada kolom 'tweet'\n",
    "df[\"tweet\"] = df[\"tweet\"].map(remove_multiple_whitespace)\n",
    "\n",
    "# Mengaplikasikan fungsi remove_single_char pada kolom 'tweet'\n",
    "df[\"tweet\"] = df[\"tweet\"].map(remove_single_char)\n",
    "\n",
    "# Mengaplikasikan fungsi tokenize pada kolom 'tweet'\n",
    "df[\"tweet\"] = df[\"tweet\"].map(tokenize)\n",
    "\n",
    "# Menampilkan lima baris pertama dari DataFrame setelah dilakukan preprocessing teks\n",
    "df.head()\n"
   ]
  },
  {
   "attachments": {},
   "cell_type": "markdown",
   "metadata": {},
   "source": [
    "### **Stopwords Removal**\n"
   ]
  },
  {
   "cell_type": "code",
   "execution_count": 14,
   "metadata": {},
   "outputs": [
    {
     "name": "stderr",
     "output_type": "stream",
     "text": [
      "[nltk_data] Downloading package stopwords to C:\\Users\\SNOW-\n",
      "[nltk_data]     WOLF\\AppData\\Roaming\\nltk_data...\n",
      "[nltk_data]   Package stopwords is already up-to-date!\n"
     ]
    },
    {
     "data": {
      "text/plain": [
       "True"
      ]
     },
     "execution_count": 14,
     "metadata": {},
     "output_type": "execute_result"
    }
   ],
   "source": [
    "from nltk.corpus import stopwords\n",
    "\n",
    "# Mengunduh resource stopwords dari NLTK\n",
    "nltk.download(\"stopwords\")\n"
   ]
  },
  {
   "cell_type": "code",
   "execution_count": 15,
   "metadata": {},
   "outputs": [
    {
     "name": "stdout",
     "output_type": "stream",
     "text": [
      "['ada', 'adalah', 'agak', 'agar', 'akan', 'amat', 'anda', 'antara', 'anu', 'apakah', 'apalagi', 'atau', 'bagaimanapun', 'bagi', 'bahwa', 'begitu', 'belum', 'bisa', 'boleh', 'dahulu', 'dalam', 'dan', 'dapat', 'dari', 'daripada', 'demi', 'demikian', 'dengan', 'di', 'dia', 'dimana', 'dll', 'dsb', 'dst', 'dua', 'dulunya', 'guna', 'hal', 'hanya', 'harus', 'ia', 'ingin', 'ini', 'itu', 'itulah', 'jika', 'jika', 'juga', 'juga', 'kah', 'kami', 'karena', 'ke', 'kecuali', 'kemana', 'kembali', 'kenapa', 'kepada', 'ketika', 'kita', 'lagi', 'lain', 'maka', 'mari', 'masih', 'melainkan', 'mengapa', 'menurut', 'mereka', 'namun', 'nanti', 'nggak', 'oh', 'ok', 'oleh', 'pada', 'para', 'pasti', 'pula', 'pun', 'saat', 'saja', 'sambil', 'sampai', 'saya', 'sebab', 'sebagai', 'sebelum', 'sebetulnya', 'secara', 'sedangkan', 'seharusnya', 'sehingga', 'sekitar', 'selagi', 'selain', 'sementara', 'sementara', 'seolah', 'seperti', 'seraya', 'serta', 'sesuatu', 'sesudah', 'setelah', 'seterusnya', 'setiap', 'setidaknya', 'sudah', 'supaya', 'tanpa', 'tapi', 'telah', 'tentang', 'tentu', 'terhadap', 'tetapi', 'tidak', 'toh', 'tolong', 'untuk', 'walau', 'ya', 'yaitu', 'yakni', 'yang']\n"
     ]
    }
   ],
   "source": [
    "from Sastrawi.StopWordRemover.StopWordRemoverFactory import StopWordRemoverFactory\n",
    "\n",
    "# Membuat instance dari StopWordRemoverFactory\n",
    "factory = StopWordRemoverFactory()\n",
    "\n",
    "# Mendapatkan daftar stopwords dari factory\n",
    "stopwords = factory.get_stop_words()\n",
    "\n",
    "# Mencetak stopwords yang telah diurutkan secara alfabetis\n",
    "print(sorted(stopwords))\n"
   ]
  },
  {
   "cell_type": "code",
   "execution_count": 16,
   "metadata": {},
   "outputs": [
    {
     "data": {
      "text/html": [
       "<div>\n",
       "<style scoped>\n",
       "    .dataframe tbody tr th:only-of-type {\n",
       "        vertical-align: middle;\n",
       "    }\n",
       "\n",
       "    .dataframe tbody tr th {\n",
       "        vertical-align: top;\n",
       "    }\n",
       "\n",
       "    .dataframe thead th {\n",
       "        text-align: right;\n",
       "    }\n",
       "</style>\n",
       "<table border=\"1\" class=\"dataframe\">\n",
       "  <thead>\n",
       "    <tr style=\"text-align: right;\">\n",
       "      <th></th>\n",
       "      <th>tweet</th>\n",
       "      <th>sentiment</th>\n",
       "    </tr>\n",
       "  </thead>\n",
       "  <tbody>\n",
       "    <tr>\n",
       "      <th>0</th>\n",
       "      <td>[stimulasi, optimal, dilakukan, online, memenuhi, kebutuhan, tersebut, ...</td>\n",
       "      <td>0</td>\n",
       "    </tr>\n",
       "    <tr>\n",
       "      <th>1</th>\n",
       "      <td>[ye, ampun, mbh, seorang, wapres, lohampgelar, seorang, kiyai, marufami...</td>\n",
       "      <td>0</td>\n",
       "    </tr>\n",
       "    <tr>\n",
       "      <th>2</th>\n",
       "      <td>[mulaik, kumat]</td>\n",
       "      <td>0</td>\n",
       "    </tr>\n",
       "    <tr>\n",
       "      <th>3</th>\n",
       "      <td>[welcome, ppkm, bau, bau, naik, level, nih, gimana, nih, mang]</td>\n",
       "      <td>0</td>\n",
       "    </tr>\n",
       "    <tr>\n",
       "      <th>4</th>\n",
       "      <td>[sesungguhnya, allah, menciptakan, hambanya, makhluk, lemah, mudah, ber...</td>\n",
       "      <td>0</td>\n",
       "    </tr>\n",
       "  </tbody>\n",
       "</table>\n",
       "</div>"
      ],
      "text/plain": [
       "                                                                        tweet  \\\n",
       "0  [stimulasi, optimal, dilakukan, online, memenuhi, kebutuhan, tersebut, ...   \n",
       "1  [ye, ampun, mbh, seorang, wapres, lohampgelar, seorang, kiyai, marufami...   \n",
       "2                                                             [mulaik, kumat]   \n",
       "3              [welcome, ppkm, bau, bau, naik, level, nih, gimana, nih, mang]   \n",
       "4  [sesungguhnya, allah, menciptakan, hambanya, makhluk, lemah, mudah, ber...   \n",
       "\n",
       "   sentiment  \n",
       "0          0  \n",
       "1          0  \n",
       "2          0  \n",
       "3          0  \n",
       "4          0  "
      ]
     },
     "execution_count": 16,
     "metadata": {},
     "output_type": "execute_result"
    }
   ],
   "source": [
    "def stopwords_removal(words):\n",
    "    # Menerapkan filter stopwords pada kata-kata dalam teks\n",
    "    filtered_words = [word for word in words if word not in stopwords]\n",
    "    return filtered_words\n",
    "\n",
    "\n",
    "# Mengaplikasikan fungsi stopwords_removal pada kolom 'tweet'\n",
    "df[\"tweet\"] = df[\"tweet\"].map(stopwords_removal)\n",
    "\n",
    "# Menampilkan lima baris pertama dari DataFrame setelah dilakukan stopwords removal\n",
    "df.head()\n"
   ]
  },
  {
   "attachments": {},
   "cell_type": "markdown",
   "metadata": {},
   "source": [
    "### **Without Stemming**"
   ]
  },
  {
   "cell_type": "code",
   "execution_count": 17,
   "metadata": {},
   "outputs": [
    {
     "name": "stdout",
     "output_type": "stream",
     "text": [
      "<class 'pandas.core.frame.DataFrame'>\n",
      "RangeIndex: 10000 entries, 0 to 9999\n",
      "Data columns (total 2 columns):\n",
      " #   Column     Non-Null Count  Dtype \n",
      "---  ------     --------------  ----- \n",
      " 0   tweet      10000 non-null  object\n",
      " 1   sentiment  10000 non-null  int64 \n",
      "dtypes: int64(1), object(1)\n",
      "memory usage: 156.4+ KB\n"
     ]
    }
   ],
   "source": [
    "# Menyimpan DataFrame ke dalam dataset tanpa stemming untuk dibandingkan nanti dengan yang sudah dilakukan stemming\n",
    "df.to_csv(\n",
    "    \"../dataset/INA_TweetsPPKM_Preprocessed_NoStemming.csv\",\n",
    "    index=False,\n",
    "    header=\"true\",\n",
    "    encoding=\"utf-8\",\n",
    "    sep=\"\\t\",\n",
    ")\n",
    "\n",
    "# Menampilkan informasi tentang DataFrame\n",
    "df.info()\n"
   ]
  },
  {
   "attachments": {},
   "cell_type": "markdown",
   "metadata": {},
   "source": [
    "### **Stemming**\n"
   ]
  },
  {
   "cell_type": "code",
   "execution_count": 18,
   "metadata": {},
   "outputs": [],
   "source": [
    "# Melakukan stemming pada dataset untuk mendapatkan kata dasar\n",
    "from Sastrawi.Stemmer.StemmerFactory import StemmerFactory\n",
    "\n",
    "# Membuat objek stemmer\n",
    "factory = StemmerFactory()\n",
    "stemmer = factory.create_stemmer()\n",
    "\n"
   ]
  },
  {
   "cell_type": "code",
   "execution_count": 19,
   "metadata": {},
   "outputs": [],
   "source": [
    "def stemming_words(words):\n",
    "    # Melakukan stemming pada setiap kata dalam daftar kata\n",
    "    return [stemmer.stem(word) for word in words]\n",
    "\n",
    "\n",
    "# Proses stemming\n",
    "df[\"tweet\"] = df[\"tweet\"].map(stemming_words)\n"
   ]
  },
  {
   "cell_type": "code",
   "execution_count": 20,
   "metadata": {},
   "outputs": [
    {
     "data": {
      "text/html": [
       "<div>\n",
       "<style scoped>\n",
       "    .dataframe tbody tr th:only-of-type {\n",
       "        vertical-align: middle;\n",
       "    }\n",
       "\n",
       "    .dataframe tbody tr th {\n",
       "        vertical-align: top;\n",
       "    }\n",
       "\n",
       "    .dataframe thead th {\n",
       "        text-align: right;\n",
       "    }\n",
       "</style>\n",
       "<table border=\"1\" class=\"dataframe\">\n",
       "  <thead>\n",
       "    <tr style=\"text-align: right;\">\n",
       "      <th></th>\n",
       "      <th>tweet</th>\n",
       "      <th>sentiment</th>\n",
       "    </tr>\n",
       "  </thead>\n",
       "  <tbody>\n",
       "    <tr>\n",
       "      <th>0</th>\n",
       "      <td>[stimulasi, optimal, laku, online, penuh, butuh, sebut, tetap, operasi,...</td>\n",
       "      <td>0</td>\n",
       "    </tr>\n",
       "    <tr>\n",
       "      <th>1</th>\n",
       "      <td>[ye, ampun, mbh, orang, wapres, lohampgelar, orang, kiyai, marufamin, k...</td>\n",
       "      <td>0</td>\n",
       "    </tr>\n",
       "    <tr>\n",
       "      <th>2</th>\n",
       "      <td>[mulaik, kumat]</td>\n",
       "      <td>0</td>\n",
       "    </tr>\n",
       "    <tr>\n",
       "      <th>3</th>\n",
       "      <td>[welcome, ppkm, bau, bau, naik, level, nih, gimana, nih, mang]</td>\n",
       "      <td>0</td>\n",
       "    </tr>\n",
       "    <tr>\n",
       "      <th>4</th>\n",
       "      <td>[sungguh, allah, cipta, hamba, makhluk, lemah, mudah, putus, asa, manus...</td>\n",
       "      <td>0</td>\n",
       "    </tr>\n",
       "  </tbody>\n",
       "</table>\n",
       "</div>"
      ],
      "text/plain": [
       "                                                                        tweet  \\\n",
       "0  [stimulasi, optimal, laku, online, penuh, butuh, sebut, tetap, operasi,...   \n",
       "1  [ye, ampun, mbh, orang, wapres, lohampgelar, orang, kiyai, marufamin, k...   \n",
       "2                                                             [mulaik, kumat]   \n",
       "3              [welcome, ppkm, bau, bau, naik, level, nih, gimana, nih, mang]   \n",
       "4  [sungguh, allah, cipta, hamba, makhluk, lemah, mudah, putus, asa, manus...   \n",
       "\n",
       "   sentiment  \n",
       "0          0  \n",
       "1          0  \n",
       "2          0  \n",
       "3          0  \n",
       "4          0  "
      ]
     },
     "execution_count": 20,
     "metadata": {},
     "output_type": "execute_result"
    }
   ],
   "source": [
    "df.head()\n"
   ]
  },
  {
   "cell_type": "code",
   "execution_count": 21,
   "metadata": {},
   "outputs": [
    {
     "name": "stdout",
     "output_type": "stream",
     "text": [
      "<class 'pandas.core.frame.DataFrame'>\n",
      "RangeIndex: 10000 entries, 0 to 9999\n",
      "Data columns (total 2 columns):\n",
      " #   Column     Non-Null Count  Dtype \n",
      "---  ------     --------------  ----- \n",
      " 0   tweet      10000 non-null  object\n",
      " 1   sentiment  10000 non-null  int64 \n",
      "dtypes: int64(1), object(1)\n",
      "memory usage: 156.4+ KB\n"
     ]
    }
   ],
   "source": [
    "# Menyimpan DataFrame ke dalam dataset baru\n",
    "save_path = \"../dataset/INA_TweetsPPKM_Preprocessed.csv\"\n",
    "df.to_csv(\n",
    "    save_path,\n",
    "    index=False,\n",
    "    header=\"true\",\n",
    "    encoding=\"utf-8\",\n",
    "    sep=\"\\t\",\n",
    ")\n",
    "\n",
    "# Menampilkan informasi tentang DataFrame\n",
    "df.info()\n"
   ]
  }
 ],
 "metadata": {
  "kernelspec": {
   "display_name": "env",
   "language": "python",
   "name": "python3"
  },
  "language_info": {
   "codemirror_mode": {
    "name": "ipython",
    "version": 3
   },
   "file_extension": ".py",
   "mimetype": "text/x-python",
   "name": "python",
   "nbconvert_exporter": "python",
   "pygments_lexer": "ipython3",
   "version": "3.10.7"
  },
  "orig_nbformat": 4,
  "vscode": {
   "interpreter": {
    "hash": "c285b301a46071fcccff14b1a2ddfb9ddc9ba056fadc5c2235af0b5e4e0ba093"
   }
  }
 },
 "nbformat": 4,
 "nbformat_minor": 2
}
