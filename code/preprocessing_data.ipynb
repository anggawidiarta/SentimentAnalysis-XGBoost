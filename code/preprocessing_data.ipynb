{
 "cells": [
  {
   "cell_type": "code",
   "execution_count": 19,
   "metadata": {},
   "outputs": [],
   "source": [
    "import pandas as pd\n",
    "import matplotlib.pyplot as plt\n",
    "import numpy as np\n",
    "\n",
    "# Mengimpor semua library yang diperlukan\n",
    "# pandas digunakan untuk memanipulasi dan menganalisis data dalam bentuk DataFrame\n",
    "# matplotlib.pyplot digunakan untuk membuat visualisasi grafik\n",
    "# numpy digunakan untuk operasi matematika dan manipulasi array\n",
    "\n",
    "# Mengatur jumlah maksimum baris yang ditampilkan saat mencetak DataFrame\n",
    "pd.options.display.max_rows\n",
    "\n",
    "# Mengatur jumlah maksimum kolom yang ditampilkan saat mencetak DataFrame\n",
    "pd.options.display.max_columns\n",
    "\n",
    "# Mengatur lebar maksimum kolom agar setiap kolom dapat menampilkan string hingga 75 karakter\n",
    "pd.options.display.max_colwidth = 100\n"
   ]
  },
  {
   "attachments": {},
   "cell_type": "markdown",
   "metadata": {},
   "source": [
    "## **Preprocessing Dataset 1 (Tanpa Augmentasi)**\n",
    "\n",
    "<ol>\n",
    "  <li>Case Folding</li>\n",
    "  <li>Tokenizing</li>\n",
    "  <li>Stopwords Removal</li>\n",
    "  <li>Stemming</li>\n",
    "</ol>\n"
   ]
  },
  {
   "cell_type": "code",
   "execution_count": 2,
   "metadata": {},
   "outputs": [
    {
     "name": "stdout",
     "output_type": "stream",
     "text": [
      "Rows : 5938, Columns : 4\n"
     ]
    }
   ],
   "source": [
    "# Mendefinisikan path file CSV yang akan dibaca\n",
    "path = \"../dataset/INA_TweetsPPKM_Labeled_PosNeg.csv\"\n",
    "\n",
    "# Membaca file CSV menjadi DataFrame menggunakan pandas\n",
    "df = pd.read_csv(path, sep=\"\\t\")\n",
    "\n",
    "# Mencetak jumlah baris dan kolom dalam DataFrame\n",
    "print(f\"Rows : {df.shape[0]}, Columns : {df.shape[1]}\")\n"
   ]
  },
  {
   "cell_type": "code",
   "execution_count": 3,
   "metadata": {},
   "outputs": [
    {
     "data": {
      "text/html": [
       "<div>\n",
       "<style scoped>\n",
       "    .dataframe tbody tr th:only-of-type {\n",
       "        vertical-align: middle;\n",
       "    }\n",
       "\n",
       "    .dataframe tbody tr th {\n",
       "        vertical-align: top;\n",
       "    }\n",
       "\n",
       "    .dataframe thead th {\n",
       "        text-align: right;\n",
       "    }\n",
       "</style>\n",
       "<table border=\"1\" class=\"dataframe\">\n",
       "  <thead>\n",
       "    <tr style=\"text-align: right;\">\n",
       "      <th></th>\n",
       "      <th>date</th>\n",
       "      <th>user</th>\n",
       "      <th>tweet</th>\n",
       "      <th>sentiment</th>\n",
       "    </tr>\n",
       "  </thead>\n",
       "  <tbody>\n",
       "    <tr>\n",
       "      <th>5259</th>\n",
       "      <td>2021-07-05 07:51:46+00:00</td>\n",
       "      <td>GonoSantoso1</td>\n",
       "      <td>Korban Covid terus berjatuhan dari kehari terus. Tidak ada rasa bersalah, tidak ada kata maaf, d...</td>\n",
       "      <td>0</td>\n",
       "    </tr>\n",
       "    <tr>\n",
       "      <th>1438</th>\n",
       "      <td>2021-08-10 01:08:46+00:00</td>\n",
       "      <td>TukWa9</td>\n",
       "      <td>Hidup hanya untuk #ppkm\\n\\nOOO dasar......Cui LAN plastik</td>\n",
       "      <td>0</td>\n",
       "    </tr>\n",
       "    <tr>\n",
       "      <th>2622</th>\n",
       "      <td>2021-07-27 00:05:26+00:00</td>\n",
       "      <td>IsnainahMubarak</td>\n",
       "      <td>#PPKM versi aku nih Lihat video Isnainah Mubarak! #TikTok https://t.co/6ONRyYy77n walaupun PPKM ...</td>\n",
       "      <td>1</td>\n",
       "    </tr>\n",
       "    <tr>\n",
       "      <th>4216</th>\n",
       "      <td>2021-07-14 02:20:43+00:00</td>\n",
       "      <td>deni_se16</td>\n",
       "      <td>#PPKM TAK MEMBERIKAN SOLUSI UNTUK RAKYAT KECIL YANG DI HARUSKAN SURVIVE UNTUK KELUARGANYA !!! \\n...</td>\n",
       "      <td>0</td>\n",
       "    </tr>\n",
       "    <tr>\n",
       "      <th>2954</th>\n",
       "      <td>2021-07-24 14:04:05+00:00</td>\n",
       "      <td>rachma727</td>\n",
       "      <td>#PPKM versiku https://t.co/syBpNZPeHB\\n\\nhari2ku bersama smartfren Gokil MAX lebih produktif bis...</td>\n",
       "      <td>1</td>\n",
       "    </tr>\n",
       "  </tbody>\n",
       "</table>\n",
       "</div>"
      ],
      "text/plain": [
       "                           date             user  \\\n",
       "5259  2021-07-05 07:51:46+00:00     GonoSantoso1   \n",
       "1438  2021-08-10 01:08:46+00:00           TukWa9   \n",
       "2622  2021-07-27 00:05:26+00:00  IsnainahMubarak   \n",
       "4216  2021-07-14 02:20:43+00:00        deni_se16   \n",
       "2954  2021-07-24 14:04:05+00:00        rachma727   \n",
       "\n",
       "                                                                                                    tweet  \\\n",
       "5259  Korban Covid terus berjatuhan dari kehari terus. Tidak ada rasa bersalah, tidak ada kata maaf, d...   \n",
       "1438                                            Hidup hanya untuk #ppkm\\n\\nOOO dasar......Cui LAN plastik   \n",
       "2622  #PPKM versi aku nih Lihat video Isnainah Mubarak! #TikTok https://t.co/6ONRyYy77n walaupun PPKM ...   \n",
       "4216  #PPKM TAK MEMBERIKAN SOLUSI UNTUK RAKYAT KECIL YANG DI HARUSKAN SURVIVE UNTUK KELUARGANYA !!! \\n...   \n",
       "2954  #PPKM versiku https://t.co/syBpNZPeHB\\n\\nhari2ku bersama smartfren Gokil MAX lebih produktif bis...   \n",
       "\n",
       "      sentiment  \n",
       "5259          0  \n",
       "1438          0  \n",
       "2622          1  \n",
       "4216          0  \n",
       "2954          1  "
      ]
     },
     "execution_count": 3,
     "metadata": {},
     "output_type": "execute_result"
    }
   ],
   "source": [
    "# Mengubah semua nama kolom dalam DataFrame menjadi huruf kecil\n",
    "df.columns = df.columns.str.lower()\n",
    "\n",
    "# Mengambil sampel acak 5 baris dari DataFrame\n",
    "df.sample(5)\n"
   ]
  },
  {
   "cell_type": "code",
   "execution_count": 4,
   "metadata": {},
   "outputs": [
    {
     "data": {
      "text/plain": [
       "date         0\n",
       "user         0\n",
       "tweet        0\n",
       "sentiment    0\n",
       "dtype: int64"
      ]
     },
     "execution_count": 4,
     "metadata": {},
     "output_type": "execute_result"
    }
   ],
   "source": [
    "# Menghitung jumlah nilai yang hilang (NaN) pada setiap kolom dalam DataFrame\n",
    "df.isna().sum()\n"
   ]
  },
  {
   "cell_type": "code",
   "execution_count": 5,
   "metadata": {},
   "outputs": [
    {
     "name": "stdout",
     "output_type": "stream",
     "text": [
      "<class 'pandas.core.frame.DataFrame'>\n",
      "RangeIndex: 5938 entries, 0 to 5937\n",
      "Data columns (total 4 columns):\n",
      " #   Column     Non-Null Count  Dtype \n",
      "---  ------     --------------  ----- \n",
      " 0   date       5938 non-null   object\n",
      " 1   user       5938 non-null   object\n",
      " 2   tweet      5938 non-null   object\n",
      " 3   sentiment  5938 non-null   int64 \n",
      "dtypes: int64(1), object(3)\n",
      "memory usage: 185.7+ KB\n"
     ]
    }
   ],
   "source": [
    "# Menampilkan informasi tentang DataFrame, termasuk informasi tentang kolom, tipe data, dan jumlah non-null values\n",
    "df.info()\n"
   ]
  },
  {
   "cell_type": "code",
   "execution_count": 6,
   "metadata": {},
   "outputs": [
    {
     "data": {
      "text/plain": [
       "0    3980\n",
       "1    1958\n",
       "Name: sentiment, dtype: int64"
      ]
     },
     "execution_count": 6,
     "metadata": {},
     "output_type": "execute_result"
    }
   ],
   "source": [
    "# Menghitung jumlah kemunculan setiap nilai dalam kolom 'sentiment' dalam DataFrame\n",
    "df[\"sentiment\"].value_counts()\n"
   ]
  },
  {
   "cell_type": "code",
   "execution_count": 7,
   "metadata": {},
   "outputs": [
    {
     "data": {
      "image/png": "[encoded data removed]",
      "text/plain": [
       "<Figure size 640x480 with 1 Axes>"
      ]
     },
     "metadata": {},
     "output_type": "display_data"
    }
   ],
   "source": [
    "# Mengelompokkan DataFrame berdasarkan kolom 'sentiment' dan menghitung jumlah kemunculan setiap nilai sentiment\n",
    "sentiment_df = df.groupby(\"sentiment\")[\"sentiment\"].count()\n",
    "\n",
    "# Membuat peta warna untuk representasi visual, di mana 0 direpresentasikan sebagai \"red\" dan 1 direpresentasikan sebagai \"green\"\n",
    "color_map = {0: \"red\", 1: \"green\"}\n",
    "\n",
    "# Membuat plot bar dengan menggunakan data dari sentiment_df, dengan warna yang sesuai dengan peta warna\n",
    "sentiment_df.plot(kind=\"bar\", alpha=0.7, color=[\"red\", \"green\"])\n",
    "\n",
    "# Menambahkan label pada sumbu x dengan teks \"Kategori\"\n",
    "plt.xlabel(\"Kategori\")\n",
    "\n",
    "# Mengatur rotasi label sumbu x menjadi 0 (tidak berputar)\n",
    "plt.xticks(rotation=0)\n",
    "\n",
    "# Menambahkan label pada sumbu y dengan teks \"Total\"\n",
    "plt.ylabel(\"Total\")\n",
    "\n",
    "# Menambahkan judul pada plot dengan teks \"Jumlah Masing - Masing Kategori Sentimen\"\n",
    "plt.title(\"Jumlah Masing - Masing Kategori Sentimen\")\n",
    "plt.show()\n"
   ]
  },
  {
   "attachments": {},
   "cell_type": "markdown",
   "metadata": {},
   "source": [
    "### **Case Folding**\n"
   ]
  },
  {
   "cell_type": "code",
   "execution_count": 8,
   "metadata": {},
   "outputs": [
    {
     "name": "stdout",
     "output_type": "stream",
     "text": [
      "Case Folding Result:\n"
     ]
    },
    {
     "data": {
      "text/html": [
       "<div>\n",
       "<style scoped>\n",
       "    .dataframe tbody tr th:only-of-type {\n",
       "        vertical-align: middle;\n",
       "    }\n",
       "\n",
       "    .dataframe tbody tr th {\n",
       "        vertical-align: top;\n",
       "    }\n",
       "\n",
       "    .dataframe thead th {\n",
       "        text-align: right;\n",
       "    }\n",
       "</style>\n",
       "<table border=\"1\" class=\"dataframe\">\n",
       "  <thead>\n",
       "    <tr style=\"text-align: right;\">\n",
       "      <th></th>\n",
       "      <th>date</th>\n",
       "      <th>user</th>\n",
       "      <th>tweet</th>\n",
       "      <th>sentiment</th>\n",
       "    </tr>\n",
       "  </thead>\n",
       "  <tbody>\n",
       "    <tr>\n",
       "      <th>0</th>\n",
       "      <td>2022-03-26 04:51:44+00:00</td>\n",
       "      <td>CendekiaDelapan</td>\n",
       "      <td>karena stimulasi untuk #anakberkebutuhankhusus tidak optimal jika dilakukan secara online.\\n. \\n...</td>\n",
       "      <td>0</td>\n",
       "    </tr>\n",
       "    <tr>\n",
       "      <th>1</th>\n",
       "      <td>2022-03-25 10:13:26+00:00</td>\n",
       "      <td>AnantaElvano</td>\n",
       "      <td>hadir kembali boss!! mega win dari https://t.co/3ge7hbt18k jackpot jutaan rupiah serta kemenanga...</td>\n",
       "      <td>1</td>\n",
       "    </tr>\n",
       "    <tr>\n",
       "      <th>2</th>\n",
       "      <td>2022-03-23 23:15:45+00:00</td>\n",
       "      <td>mitrafmpwt</td>\n",
       "      <td>hayolohhhhhhhhh... seneng kannnn??\\n\\n#covid19\\n#corona\\n#pcr\\n#ppkm\\n#radio\\n#radiopurwokerto h...</td>\n",
       "      <td>1</td>\n",
       "    </tr>\n",
       "    <tr>\n",
       "      <th>3</th>\n",
       "      <td>2022-03-23 10:29:52+00:00</td>\n",
       "      <td>895jizfm</td>\n",
       "      <td>thank you teman-teman dari #saganheritagehotel udah mampir ngobrol-ngobrol bareng @felisenyum te...</td>\n",
       "      <td>1</td>\n",
       "    </tr>\n",
       "    <tr>\n",
       "      <th>4</th>\n",
       "      <td>2022-03-22 17:25:29+00:00</td>\n",
       "      <td>ViantAntony</td>\n",
       "      <td>ruwet ruwet ruwet inilah negeri ruwetnesia. hebatnya virus itu adalah dia tau ramadhan akn datan...</td>\n",
       "      <td>1</td>\n",
       "    </tr>\n",
       "  </tbody>\n",
       "</table>\n",
       "</div>"
      ],
      "text/plain": [
       "                        date             user  \\\n",
       "0  2022-03-26 04:51:44+00:00  CendekiaDelapan   \n",
       "1  2022-03-25 10:13:26+00:00     AnantaElvano   \n",
       "2  2022-03-23 23:15:45+00:00       mitrafmpwt   \n",
       "3  2022-03-23 10:29:52+00:00         895jizfm   \n",
       "4  2022-03-22 17:25:29+00:00      ViantAntony   \n",
       "\n",
       "                                                                                                 tweet  \\\n",
       "0  karena stimulasi untuk #anakberkebutuhankhusus tidak optimal jika dilakukan secara online.\\n. \\n...   \n",
       "1  hadir kembali boss!! mega win dari https://t.co/3ge7hbt18k jackpot jutaan rupiah serta kemenanga...   \n",
       "2  hayolohhhhhhhhh... seneng kannnn??\\n\\n#covid19\\n#corona\\n#pcr\\n#ppkm\\n#radio\\n#radiopurwokerto h...   \n",
       "3  thank you teman-teman dari #saganheritagehotel udah mampir ngobrol-ngobrol bareng @felisenyum te...   \n",
       "4  ruwet ruwet ruwet inilah negeri ruwetnesia. hebatnya virus itu adalah dia tau ramadhan akn datan...   \n",
       "\n",
       "   sentiment  \n",
       "0          0  \n",
       "1          1  \n",
       "2          1  \n",
       "3          1  \n",
       "4          1  "
      ]
     },
     "execution_count": 8,
     "metadata": {},
     "output_type": "execute_result"
    }
   ],
   "source": [
    "# Mengubah semua teks dalam kolom 'tweet' menjadi huruf kecil\n",
    "df[\"tweet\"] = df[\"tweet\"].str.lower()\n",
    "\n",
    "# Mencetak hasil dari Case Folding\n",
    "print(\"Case Folding Result:\")\n",
    "\n",
    "# Menampilkan lima baris pertama dari DataFrame setelah dilakukan Case Folding\n",
    "df.head(5)\n"
   ]
  },
  {
   "attachments": {},
   "cell_type": "markdown",
   "metadata": {},
   "source": [
    "### **Tokenizing**\n"
   ]
  },
  {
   "cell_type": "code",
   "execution_count": 9,
   "metadata": {},
   "outputs": [
    {
     "name": "stderr",
     "output_type": "stream",
     "text": [
      "[nltk_data] Downloading package punkt to C:\\Users\\SNOW-\n",
      "[nltk_data]     WOLF\\AppData\\Roaming\\nltk_data...\n",
      "[nltk_data]   Package punkt is already up-to-date!\n"
     ]
    },
    {
     "data": {
      "text/plain": [
       "True"
      ]
     },
     "execution_count": 9,
     "metadata": {},
     "output_type": "execute_result"
    }
   ],
   "source": [
    "import string\n",
    "import re\n",
    "import nltk\n",
    "from nltk.tokenize import word_tokenize\n",
    "from nltk.probability import FreqDist\n",
    "\n",
    "# Mengunduh resource yang diperlukan oleh NLTK (Natural Language Toolkit)\n",
    "nltk.download(\"punkt\")\n"
   ]
  },
  {
   "cell_type": "code",
   "execution_count": 10,
   "metadata": {},
   "outputs": [],
   "source": [
    "def remove_special_char(text):\n",
    "    # Menghapus karakter khusus seperti tab, baris baru, dan backslash\n",
    "    text = (\n",
    "        text.replace(\"\\\\t\", \" \")\n",
    "        .replace(\"\\\\n\", \" \")\n",
    "        .replace(\"\\\\u\", \" \")\n",
    "        .replace(\"\\\\\", \"\")\n",
    "    )\n",
    "    # Menghapus karakter non-ASCII seperti emotikon\n",
    "    text = text.encode(\"ASCII\", \"replace\").decode(\"ASCII\")\n",
    "    # Menghapus mention, link, dan hashtag\n",
    "    text = \" \".join(re.sub(\"([@#][A-Za-z0-9]+)|(\\w+:\\/\\/\\S+)\", \" \", text).split())\n",
    "    # Menghapus URL yang tidak lengkap\n",
    "    return text.replace(\"http://\", \" \").replace(\"https://\", \" \")\n",
    "\n",
    "\n",
    "def remove_number(text):\n",
    "    # Menghapus angka dari teks\n",
    "    return re.sub(r\"\\d+\", \"\", text)\n",
    "\n",
    "\n",
    "def remove_punctuation(text):\n",
    "    # Menghapus tanda baca dari teks\n",
    "    return text.translate(str.maketrans(\"\", \"\", string.punctuation))\n",
    "\n",
    "\n",
    "def remove_whitespace(text):\n",
    "    # Menghapus spasi di awal dan akhir teks\n",
    "    return text.strip()\n",
    "\n",
    "\n",
    "def remove_multiple_whitespace(text):\n",
    "    # Menghapus multiple whitespace menjadi satu spasi\n",
    "    return re.sub(\"\\s+\", \" \", text)\n",
    "\n",
    "\n",
    "def remove_single_char(text):\n",
    "    # Menghapus kata yang terdiri dari satu karakter saja\n",
    "    return re.sub(r\"\\b[a-zA-Z]\\b\", \"\", text)\n",
    "\n",
    "\n",
    "def tokenize(text):\n",
    "    # Melakukan tokenisasi kata pada teks menggunakan NLTK\n",
    "    return word_tokenize(text)\n"
   ]
  },
  {
   "cell_type": "code",
   "execution_count": 11,
   "metadata": {},
   "outputs": [
    {
     "data": {
      "text/html": [
       "<div>\n",
       "<style scoped>\n",
       "    .dataframe tbody tr th:only-of-type {\n",
       "        vertical-align: middle;\n",
       "    }\n",
       "\n",
       "    .dataframe tbody tr th {\n",
       "        vertical-align: top;\n",
       "    }\n",
       "\n",
       "    .dataframe thead th {\n",
       "        text-align: right;\n",
       "    }\n",
       "</style>\n",
       "<table border=\"1\" class=\"dataframe\">\n",
       "  <thead>\n",
       "    <tr style=\"text-align: right;\">\n",
       "      <th></th>\n",
       "      <th>date</th>\n",
       "      <th>user</th>\n",
       "      <th>tweet</th>\n",
       "      <th>sentiment</th>\n",
       "    </tr>\n",
       "  </thead>\n",
       "  <tbody>\n",
       "    <tr>\n",
       "      <th>0</th>\n",
       "      <td>2022-03-26 04:51:44+00:00</td>\n",
       "      <td>CendekiaDelapan</td>\n",
       "      <td>[karena, stimulasi, untuk, tidak, optimal, jika, dilakukan, secara, online, untuk, memenuhi, keb...</td>\n",
       "      <td>0</td>\n",
       "    </tr>\n",
       "    <tr>\n",
       "      <th>1</th>\n",
       "      <td>2022-03-25 10:13:26+00:00</td>\n",
       "      <td>AnantaElvano</td>\n",
       "      <td>[hadir, kembali, boss, mega, win, dari, jackpot, jutaan, rupiah, serta, kemenangan, extra, menan...</td>\n",
       "      <td>1</td>\n",
       "    </tr>\n",
       "    <tr>\n",
       "      <th>2</th>\n",
       "      <td>2022-03-23 23:15:45+00:00</td>\n",
       "      <td>mitrafmpwt</td>\n",
       "      <td>[hayolohhhhhhhhh, seneng, kannnn]</td>\n",
       "      <td>1</td>\n",
       "    </tr>\n",
       "    <tr>\n",
       "      <th>3</th>\n",
       "      <td>2022-03-23 10:29:52+00:00</td>\n",
       "      <td>895jizfm</td>\n",
       "      <td>[thank, you, temanteman, dari, udah, mampir, ngobrolngobrol, bareng, tentang, promo, paket, buka...</td>\n",
       "      <td>1</td>\n",
       "    </tr>\n",
       "    <tr>\n",
       "      <th>4</th>\n",
       "      <td>2022-03-22 17:25:29+00:00</td>\n",
       "      <td>ViantAntony</td>\n",
       "      <td>[ruwet, ruwet, ruwet, inilah, negeri, ruwetnesia, hebatnya, virus, itu, adalah, dia, tau, ramadh...</td>\n",
       "      <td>1</td>\n",
       "    </tr>\n",
       "  </tbody>\n",
       "</table>\n",
       "</div>"
      ],
      "text/plain": [
       "                        date             user  \\\n",
       "0  2022-03-26 04:51:44+00:00  CendekiaDelapan   \n",
       "1  2022-03-25 10:13:26+00:00     AnantaElvano   \n",
       "2  2022-03-23 23:15:45+00:00       mitrafmpwt   \n",
       "3  2022-03-23 10:29:52+00:00         895jizfm   \n",
       "4  2022-03-22 17:25:29+00:00      ViantAntony   \n",
       "\n",
       "                                                                                                 tweet  \\\n",
       "0  [karena, stimulasi, untuk, tidak, optimal, jika, dilakukan, secara, online, untuk, memenuhi, keb...   \n",
       "1  [hadir, kembali, boss, mega, win, dari, jackpot, jutaan, rupiah, serta, kemenangan, extra, menan...   \n",
       "2                                                                    [hayolohhhhhhhhh, seneng, kannnn]   \n",
       "3  [thank, you, temanteman, dari, udah, mampir, ngobrolngobrol, bareng, tentang, promo, paket, buka...   \n",
       "4  [ruwet, ruwet, ruwet, inilah, negeri, ruwetnesia, hebatnya, virus, itu, adalah, dia, tau, ramadh...   \n",
       "\n",
       "   sentiment  \n",
       "0          0  \n",
       "1          1  \n",
       "2          1  \n",
       "3          1  \n",
       "4          1  "
      ]
     },
     "execution_count": 11,
     "metadata": {},
     "output_type": "execute_result"
    }
   ],
   "source": [
    "# Mengaplikasikan fungsi remove_special_char pada kolom 'tweet'\n",
    "df[\"tweet\"] = df[\"tweet\"].map(remove_special_char)\n",
    "\n",
    "# Mengaplikasikan fungsi remove_number pada kolom 'tweet'\n",
    "df[\"tweet\"] = df[\"tweet\"].map(remove_number)\n",
    "\n",
    "# Mengaplikasikan fungsi remove_punctuation pada kolom 'tweet'\n",
    "df[\"tweet\"] = df[\"tweet\"].map(remove_punctuation)\n",
    "\n",
    "# Mengaplikasikan fungsi remove_whitespace pada kolom 'tweet'\n",
    "df[\"tweet\"] = df[\"tweet\"].map(remove_whitespace)\n",
    "\n",
    "# Mengaplikasikan fungsi remove_multiple_whitespace pada kolom 'tweet'\n",
    "df[\"tweet\"] = df[\"tweet\"].map(remove_multiple_whitespace)\n",
    "\n",
    "# Mengaplikasikan fungsi remove_single_char pada kolom 'tweet'\n",
    "df[\"tweet\"] = df[\"tweet\"].map(remove_single_char)\n",
    "\n",
    "# Mengaplikasikan fungsi tokenize pada kolom 'tweet'\n",
    "df[\"tweet\"] = df[\"tweet\"].map(tokenize)\n",
    "\n",
    "# Menampilkan lima baris pertama dari DataFrame setelah dilakukan preprocessing teks\n",
    "df.head()\n"
   ]
  },
  {
   "attachments": {},
   "cell_type": "markdown",
   "metadata": {},
   "source": [
    "### **Stopwords Removal**\n"
   ]
  },
  {
   "cell_type": "code",
   "execution_count": 12,
   "metadata": {},
   "outputs": [
    {
     "name": "stderr",
     "output_type": "stream",
     "text": [
      "[nltk_data] Downloading package stopwords to C:\\Users\\SNOW-\n",
      "[nltk_data]     WOLF\\AppData\\Roaming\\nltk_data...\n",
      "[nltk_data]   Package stopwords is already up-to-date!\n"
     ]
    },
    {
     "data": {
      "text/plain": [
       "True"
      ]
     },
     "execution_count": 12,
     "metadata": {},
     "output_type": "execute_result"
    }
   ],
   "source": [
    "from nltk.corpus import stopwords\n",
    "\n",
    "# Mengunduh resource stopwords dari NLTK\n",
    "nltk.download(\"stopwords\")\n"
   ]
  },
  {
   "cell_type": "code",
   "execution_count": 13,
   "metadata": {},
   "outputs": [
    {
     "name": "stdout",
     "output_type": "stream",
     "text": [
      "['ada', 'adalah', 'agak', 'agar', 'akan', 'amat', 'anda', 'antara', 'anu', 'apakah', 'apalagi', 'atau', 'bagaimanapun', 'bagi', 'bahwa', 'begitu', 'belum', 'bisa', 'boleh', 'dahulu', 'dalam', 'dan', 'dapat', 'dari', 'daripada', 'demi', 'demikian', 'dengan', 'di', 'dia', 'dimana', 'dll', 'dsb', 'dst', 'dua', 'dulunya', 'guna', 'hal', 'hanya', 'harus', 'ia', 'ingin', 'ini', 'itu', 'itulah', 'jika', 'jika', 'juga', 'juga', 'kah', 'kami', 'karena', 'ke', 'kecuali', 'kemana', 'kembali', 'kenapa', 'kepada', 'ketika', 'kita', 'lagi', 'lain', 'maka', 'mari', 'masih', 'melainkan', 'mengapa', 'menurut', 'mereka', 'namun', 'nanti', 'nggak', 'oh', 'ok', 'oleh', 'pada', 'para', 'pasti', 'pula', 'pun', 'saat', 'saja', 'sambil', 'sampai', 'saya', 'sebab', 'sebagai', 'sebelum', 'sebetulnya', 'secara', 'sedangkan', 'seharusnya', 'sehingga', 'sekitar', 'selagi', 'selain', 'sementara', 'sementara', 'seolah', 'seperti', 'seraya', 'serta', 'sesuatu', 'sesudah', 'setelah', 'seterusnya', 'setiap', 'setidaknya', 'sudah', 'supaya', 'tanpa', 'tapi', 'telah', 'tentang', 'tentu', 'terhadap', 'tetapi', 'tidak', 'toh', 'tolong', 'untuk', 'walau', 'ya', 'yaitu', 'yakni', 'yang']\n"
     ]
    }
   ],
   "source": [
    "from Sastrawi.StopWordRemover.StopWordRemoverFactory import StopWordRemoverFactory\n",
    "\n",
    "# Membuat instance dari StopWordRemoverFactory\n",
    "factory = StopWordRemoverFactory()\n",
    "\n",
    "# Mendapatkan daftar stopwords dari factory\n",
    "stopwords = factory.get_stop_words()\n",
    "\n",
    "# Mencetak stopwords yang telah diurutkan secara alfabetis\n",
    "print(sorted(stopwords))\n"
   ]
  },
  {
   "cell_type": "code",
   "execution_count": 14,
   "metadata": {},
   "outputs": [
    {
     "data": {
      "text/html": [
       "<div>\n",
       "<style scoped>\n",
       "    .dataframe tbody tr th:only-of-type {\n",
       "        vertical-align: middle;\n",
       "    }\n",
       "\n",
       "    .dataframe tbody tr th {\n",
       "        vertical-align: top;\n",
       "    }\n",
       "\n",
       "    .dataframe thead th {\n",
       "        text-align: right;\n",
       "    }\n",
       "</style>\n",
       "<table border=\"1\" class=\"dataframe\">\n",
       "  <thead>\n",
       "    <tr style=\"text-align: right;\">\n",
       "      <th></th>\n",
       "      <th>date</th>\n",
       "      <th>user</th>\n",
       "      <th>tweet</th>\n",
       "      <th>sentiment</th>\n",
       "    </tr>\n",
       "  </thead>\n",
       "  <tbody>\n",
       "    <tr>\n",
       "      <th>0</th>\n",
       "      <td>2022-03-26 04:51:44+00:00</td>\n",
       "      <td>CendekiaDelapan</td>\n",
       "      <td>[stimulasi, optimal, dilakukan, online, memenuhi, kebutuhan, tersebut, tetap, beroperasi, sesuai...</td>\n",
       "      <td>0</td>\n",
       "    </tr>\n",
       "    <tr>\n",
       "      <th>1</th>\n",
       "      <td>2022-03-25 10:13:26+00:00</td>\n",
       "      <td>AnantaElvano</td>\n",
       "      <td>[hadir, boss, mega, win, jackpot, jutaan, rupiah, kemenangan, extra, menanti, salam, wd, wa]</td>\n",
       "      <td>1</td>\n",
       "    </tr>\n",
       "    <tr>\n",
       "      <th>2</th>\n",
       "      <td>2022-03-23 23:15:45+00:00</td>\n",
       "      <td>mitrafmpwt</td>\n",
       "      <td>[hayolohhhhhhhhh, seneng, kannnn]</td>\n",
       "      <td>1</td>\n",
       "    </tr>\n",
       "    <tr>\n",
       "      <th>3</th>\n",
       "      <td>2022-03-23 10:29:52+00:00</td>\n",
       "      <td>895jizfm</td>\n",
       "      <td>[thank, you, temanteman, udah, mampir, ngobrolngobrol, bareng, promo, paket, buka, puasa, kenyan...</td>\n",
       "      <td>1</td>\n",
       "    </tr>\n",
       "    <tr>\n",
       "      <th>4</th>\n",
       "      <td>2022-03-22 17:25:29+00:00</td>\n",
       "      <td>ViantAntony</td>\n",
       "      <td>[ruwet, ruwet, ruwet, inilah, negeri, ruwetnesia, hebatnya, virus, tau, ramadhan, akn, datang, m...</td>\n",
       "      <td>1</td>\n",
       "    </tr>\n",
       "  </tbody>\n",
       "</table>\n",
       "</div>"
      ],
      "text/plain": [
       "                        date             user  \\\n",
       "0  2022-03-26 04:51:44+00:00  CendekiaDelapan   \n",
       "1  2022-03-25 10:13:26+00:00     AnantaElvano   \n",
       "2  2022-03-23 23:15:45+00:00       mitrafmpwt   \n",
       "3  2022-03-23 10:29:52+00:00         895jizfm   \n",
       "4  2022-03-22 17:25:29+00:00      ViantAntony   \n",
       "\n",
       "                                                                                                 tweet  \\\n",
       "0  [stimulasi, optimal, dilakukan, online, memenuhi, kebutuhan, tersebut, tetap, beroperasi, sesuai...   \n",
       "1         [hadir, boss, mega, win, jackpot, jutaan, rupiah, kemenangan, extra, menanti, salam, wd, wa]   \n",
       "2                                                                    [hayolohhhhhhhhh, seneng, kannnn]   \n",
       "3  [thank, you, temanteman, udah, mampir, ngobrolngobrol, bareng, promo, paket, buka, puasa, kenyan...   \n",
       "4  [ruwet, ruwet, ruwet, inilah, negeri, ruwetnesia, hebatnya, virus, tau, ramadhan, akn, datang, m...   \n",
       "\n",
       "   sentiment  \n",
       "0          0  \n",
       "1          1  \n",
       "2          1  \n",
       "3          1  \n",
       "4          1  "
      ]
     },
     "execution_count": 14,
     "metadata": {},
     "output_type": "execute_result"
    }
   ],
   "source": [
    "def stopwords_removal(words):\n",
    "    # Menerapkan filter stopwords pada kata-kata dalam teks\n",
    "    filtered_words = [word for word in words if word not in stopwords]\n",
    "    return filtered_words\n",
    "\n",
    "\n",
    "# Mengaplikasikan fungsi stopwords_removal pada kolom 'tweet'\n",
    "df[\"tweet\"] = df[\"tweet\"].map(stopwords_removal)\n",
    "\n",
    "# Menampilkan lima baris pertama dari DataFrame setelah dilakukan stopwords removal\n",
    "df.head()\n"
   ]
  },
  {
   "attachments": {},
   "cell_type": "markdown",
   "metadata": {},
   "source": [
    "### **Without Stemming**\n"
   ]
  },
  {
   "cell_type": "code",
   "execution_count": 17,
   "metadata": {},
   "outputs": [
    {
     "name": "stdout",
     "output_type": "stream",
     "text": [
      "<class 'pandas.core.frame.DataFrame'>\n",
      "RangeIndex: 5938 entries, 0 to 5937\n",
      "Data columns (total 4 columns):\n",
      " #   Column     Non-Null Count  Dtype \n",
      "---  ------     --------------  ----- \n",
      " 0   date       5938 non-null   object\n",
      " 1   user       5938 non-null   object\n",
      " 2   tweet      5938 non-null   object\n",
      " 3   sentiment  5938 non-null   int64 \n",
      "dtypes: int64(1), object(3)\n",
      "memory usage: 185.7+ KB\n"
     ]
    }
   ],
   "source": [
    "# Menyimpan DataFrame ke dalam dataset tanpa stemming untuk dibandingkan nanti dengan yang sudah dilakukan stemming\n",
    "df.to_csv(\n",
    "    \"../dataset/INA_TweetsPPKM_Preprocessed_DS1_NoStem.csv\",\n",
    "    index=False,\n",
    "    header=\"true\",\n",
    "    encoding=\"utf-8\",\n",
    "    sep=\"\\t\",\n",
    ")\n",
    "\n",
    "# Menampilkan informasi tentang DataFrame\n",
    "df.info()\n"
   ]
  },
  {
   "attachments": {},
   "cell_type": "markdown",
   "metadata": {},
   "source": [
    "### **Stemming**\n"
   ]
  },
  {
   "cell_type": "code",
   "execution_count": 22,
   "metadata": {},
   "outputs": [],
   "source": [
    "# Melakukan stemming pada dataset untuk mendapatkan kata dasar\n",
    "from Sastrawi.Stemmer.StemmerFactory import StemmerFactory\n",
    "\n",
    "# Membuat objek stemmer\n",
    "factory = StemmerFactory()\n",
    "stemmer = factory.create_stemmer()\n"
   ]
  },
  {
   "cell_type": "code",
   "execution_count": 23,
   "metadata": {},
   "outputs": [],
   "source": [
    "def stemming_words(words):\n",
    "    # Melakukan stemming pada setiap kata dalam daftar kata\n",
    "    return [stemmer.stem(word) for word in words]\n",
    "\n",
    "\n",
    "# Proses stemming\n",
    "df[\"tweet\"] = df[\"tweet\"].map(stemming_words)\n"
   ]
  },
  {
   "cell_type": "code",
   "execution_count": 24,
   "metadata": {},
   "outputs": [
    {
     "data": {
      "text/html": [
       "<div>\n",
       "<style scoped>\n",
       "    .dataframe tbody tr th:only-of-type {\n",
       "        vertical-align: middle;\n",
       "    }\n",
       "\n",
       "    .dataframe tbody tr th {\n",
       "        vertical-align: top;\n",
       "    }\n",
       "\n",
       "    .dataframe thead th {\n",
       "        text-align: right;\n",
       "    }\n",
       "</style>\n",
       "<table border=\"1\" class=\"dataframe\">\n",
       "  <thead>\n",
       "    <tr style=\"text-align: right;\">\n",
       "      <th></th>\n",
       "      <th>date</th>\n",
       "      <th>user</th>\n",
       "      <th>tweet</th>\n",
       "      <th>sentiment</th>\n",
       "    </tr>\n",
       "  </thead>\n",
       "  <tbody>\n",
       "    <tr>\n",
       "      <th>0</th>\n",
       "      <td>2022-03-26 04:51:44+00:00</td>\n",
       "      <td>CendekiaDelapan</td>\n",
       "      <td>[stimulasi, optimal, laku, online, penuh, butuh, sebut, tetap, operasi, sesuai, atur, dgn, jaga,...</td>\n",
       "      <td>0</td>\n",
       "    </tr>\n",
       "    <tr>\n",
       "      <th>1</th>\n",
       "      <td>2022-03-25 10:13:26+00:00</td>\n",
       "      <td>AnantaElvano</td>\n",
       "      <td>[hadir, boss, mega, win, jackpot, juta, rupiah, menang, extra, nanti, salam, wd, wa]</td>\n",
       "      <td>1</td>\n",
       "    </tr>\n",
       "    <tr>\n",
       "      <th>2</th>\n",
       "      <td>2022-03-23 23:15:45+00:00</td>\n",
       "      <td>mitrafmpwt</td>\n",
       "      <td>[hayolohhhhhhhhh, neng, kannnn]</td>\n",
       "      <td>1</td>\n",
       "    </tr>\n",
       "    <tr>\n",
       "      <th>3</th>\n",
       "      <td>2022-03-23 10:29:52+00:00</td>\n",
       "      <td>895jizfm</td>\n",
       "      <td>[thank, you, temanteman, udah, mampir, ngobrolngobrol, bareng, promo, paket, buka, puasa, kenyan...</td>\n",
       "      <td>1</td>\n",
       "    </tr>\n",
       "    <tr>\n",
       "      <th>4</th>\n",
       "      <td>2022-03-22 17:25:29+00:00</td>\n",
       "      <td>ViantAntony</td>\n",
       "      <td>[ruwet, ruwet, ruwet, ini, negeri, ruwetnesia, hebat, virus, tau, ramadhan, akn, datang, raka, a...</td>\n",
       "      <td>1</td>\n",
       "    </tr>\n",
       "  </tbody>\n",
       "</table>\n",
       "</div>"
      ],
      "text/plain": [
       "                        date             user  \\\n",
       "0  2022-03-26 04:51:44+00:00  CendekiaDelapan   \n",
       "1  2022-03-25 10:13:26+00:00     AnantaElvano   \n",
       "2  2022-03-23 23:15:45+00:00       mitrafmpwt   \n",
       "3  2022-03-23 10:29:52+00:00         895jizfm   \n",
       "4  2022-03-22 17:25:29+00:00      ViantAntony   \n",
       "\n",
       "                                                                                                 tweet  \\\n",
       "0  [stimulasi, optimal, laku, online, penuh, butuh, sebut, tetap, operasi, sesuai, atur, dgn, jaga,...   \n",
       "1                 [hadir, boss, mega, win, jackpot, juta, rupiah, menang, extra, nanti, salam, wd, wa]   \n",
       "2                                                                      [hayolohhhhhhhhh, neng, kannnn]   \n",
       "3  [thank, you, temanteman, udah, mampir, ngobrolngobrol, bareng, promo, paket, buka, puasa, kenyan...   \n",
       "4  [ruwet, ruwet, ruwet, ini, negeri, ruwetnesia, hebat, virus, tau, ramadhan, akn, datang, raka, a...   \n",
       "\n",
       "   sentiment  \n",
       "0          0  \n",
       "1          1  \n",
       "2          1  \n",
       "3          1  \n",
       "4          1  "
      ]
     },
     "execution_count": 24,
     "metadata": {},
     "output_type": "execute_result"
    }
   ],
   "source": [
    "df.head()\n"
   ]
  },
  {
   "attachments": {},
   "cell_type": "markdown",
   "metadata": {},
   "source": [
    "- **WordCloud For Non Augmented Data**\n"
   ]
  },
  {
   "cell_type": "code",
   "execution_count": null,
   "metadata": {},
   "outputs": [],
   "source": []
  },
  {
   "attachments": {},
   "cell_type": "markdown",
   "metadata": {},
   "source": [
    "- **Save To CSV**\n"
   ]
  },
  {
   "cell_type": "code",
   "execution_count": 25,
   "metadata": {},
   "outputs": [
    {
     "name": "stdout",
     "output_type": "stream",
     "text": [
      "<class 'pandas.core.frame.DataFrame'>\n",
      "RangeIndex: 5938 entries, 0 to 5937\n",
      "Data columns (total 4 columns):\n",
      " #   Column     Non-Null Count  Dtype \n",
      "---  ------     --------------  ----- \n",
      " 0   date       5938 non-null   object\n",
      " 1   user       5938 non-null   object\n",
      " 2   tweet      5938 non-null   object\n",
      " 3   sentiment  5938 non-null   int64 \n",
      "dtypes: int64(1), object(3)\n",
      "memory usage: 185.7+ KB\n"
     ]
    }
   ],
   "source": [
    "# Menyimpan DataFrame ke dalam dataset baru\n",
    "save_path = \"../dataset/INA_TweetsPPKM_Preprocessed_DS1.csv\"  # Path dan nama file untuk dataset baru\n",
    "df.to_csv(\n",
    "    save_path,  # Menyimpan DataFrame ke file CSV dengan path yang ditentukan\n",
    "    index=False,  # Tidak menyertakan index saat menyimpan ke file\n",
    "    header=\"true\",  # Menyertakan header kolom saat menyimpan ke file\n",
    "    encoding=\"utf-8\",  # Menggunakan encoding UTF-8 untuk menyimpan teks Unicode\n",
    "    sep=\"\\t\",  # Menggunakan \"\\t\" sebagai pemisah antar kolom dalam file CSV\n",
    ")\n",
    "\n",
    "# Menampilkan informasi tentang DataFrame\n",
    "df.info()\n"
   ]
  },
  {
   "attachments": {},
   "cell_type": "markdown",
   "metadata": {},
   "source": [
    "## **Preprocessing Dataset 2 (Augmentasi)**\n",
    "\n",
    "<ol>\n",
    "  <li>Case Folding</li>\n",
    "  <li>Tokenizing</li>\n",
    "  <li>Stopwords Removal</li>\n",
    "  <li>Stemming</li>\n",
    "</ol>\n"
   ]
  },
  {
   "cell_type": "code",
   "execution_count": 20,
   "metadata": {},
   "outputs": [
    {
     "name": "stdout",
     "output_type": "stream",
     "text": [
      "Rows : 7896, Columns : 2\n"
     ]
    }
   ],
   "source": [
    "# Mendefinisikan path file CSV yang akan dibaca\n",
    "path = \"../dataset/INA_TweetsPPKM_Labeled_Augmented.csv\"\n",
    "\n",
    "# Membaca file CSV menjadi DataFrame menggunakan pandas\n",
    "df = pd.read_csv(path, sep=\"\\t\")\n",
    "\n",
    "# Mencetak jumlah baris dan kolom dalam DataFrame\n",
    "print(f\"Rows : {df.shape[0]}, Columns : {df.shape[1]}\")\n"
   ]
  },
  {
   "cell_type": "code",
   "execution_count": 22,
   "metadata": {},
   "outputs": [
    {
     "data": {
      "text/html": [
       "<div>\n",
       "<style scoped>\n",
       "    .dataframe tbody tr th:only-of-type {\n",
       "        vertical-align: middle;\n",
       "    }\n",
       "\n",
       "    .dataframe tbody tr th {\n",
       "        vertical-align: top;\n",
       "    }\n",
       "\n",
       "    .dataframe thead th {\n",
       "        text-align: right;\n",
       "    }\n",
       "</style>\n",
       "<table border=\"1\" class=\"dataframe\">\n",
       "  <thead>\n",
       "    <tr style=\"text-align: right;\">\n",
       "      <th></th>\n",
       "      <th>tweet</th>\n",
       "      <th>sentiment</th>\n",
       "    </tr>\n",
       "  </thead>\n",
       "  <tbody>\n",
       "    <tr>\n",
       "      <th>0</th>\n",
       "      <td>Hadir Kembali Boss!! MEGA WIN Dari https://t.co/3ge7hBt18k Jackpot Jutaan Rupiah Serta Kemenanga...</td>\n",
       "      <td>1</td>\n",
       "    </tr>\n",
       "    <tr>\n",
       "      <th>1</th>\n",
       "      <td>Hayolohhhhhhhhh... seneng kannnn??\\n\\n#covid19\\n#Corona\\n#PCR\\n#PPKM\\n#Radio\\n#RadioPurwokerto h...</td>\n",
       "      <td>1</td>\n",
       "    </tr>\n",
       "    <tr>\n",
       "      <th>2</th>\n",
       "      <td>Thank You teman-teman dari #saganheritagehotel udah mampir ngobrol-ngobrol bareng @felisenyum te...</td>\n",
       "      <td>1</td>\n",
       "    </tr>\n",
       "    <tr>\n",
       "      <th>3</th>\n",
       "      <td>Ruwet Ruwet Ruwet inilah Negeri RuwetNesia. Hebatnya Virus itu adalah dia tau Ramadhan akn datan...</td>\n",
       "      <td>1</td>\n",
       "    </tr>\n",
       "    <tr>\n",
       "      <th>4</th>\n",
       "      <td>Film bagus nih karya habaib. Tonton dah.\\n\\n#mk #selasa #tempe #bareskrim #ppkm\\n\\nhttps://t.co/...</td>\n",
       "      <td>1</td>\n",
       "    </tr>\n",
       "  </tbody>\n",
       "</table>\n",
       "</div>"
      ],
      "text/plain": [
       "                                                                                                 tweet  \\\n",
       "0  Hadir Kembali Boss!! MEGA WIN Dari https://t.co/3ge7hBt18k Jackpot Jutaan Rupiah Serta Kemenanga...   \n",
       "1  Hayolohhhhhhhhh... seneng kannnn??\\n\\n#covid19\\n#Corona\\n#PCR\\n#PPKM\\n#Radio\\n#RadioPurwokerto h...   \n",
       "2  Thank You teman-teman dari #saganheritagehotel udah mampir ngobrol-ngobrol bareng @felisenyum te...   \n",
       "3  Ruwet Ruwet Ruwet inilah Negeri RuwetNesia. Hebatnya Virus itu adalah dia tau Ramadhan akn datan...   \n",
       "4  Film bagus nih karya habaib. Tonton dah.\\n\\n#mk #selasa #tempe #bareskrim #ppkm\\n\\nhttps://t.co/...   \n",
       "\n",
       "   sentiment  \n",
       "0          1  \n",
       "1          1  \n",
       "2          1  \n",
       "3          1  \n",
       "4          1  "
      ]
     },
     "execution_count": 22,
     "metadata": {},
     "output_type": "execute_result"
    }
   ],
   "source": [
    "# Mengubah semua nama kolom dalam DataFrame menjadi huruf kecil\n",
    "df.columns = df.columns.str.lower()\n",
    "\n",
    "# Mengambil sampel acak 5 baris dari DataFrame\n",
    "df.head(5)\n"
   ]
  },
  {
   "cell_type": "code",
   "execution_count": 23,
   "metadata": {},
   "outputs": [
    {
     "data": {
      "text/plain": [
       "tweet        0\n",
       "sentiment    0\n",
       "dtype: int64"
      ]
     },
     "execution_count": 23,
     "metadata": {},
     "output_type": "execute_result"
    }
   ],
   "source": [
    "# Menghitung jumlah nilai yang hilang (NaN) pada setiap kolom dalam DataFrame\n",
    "df.isna().sum()\n"
   ]
  },
  {
   "cell_type": "code",
   "execution_count": 24,
   "metadata": {},
   "outputs": [
    {
     "name": "stdout",
     "output_type": "stream",
     "text": [
      "<class 'pandas.core.frame.DataFrame'>\n",
      "RangeIndex: 7896 entries, 0 to 7895\n",
      "Data columns (total 2 columns):\n",
      " #   Column     Non-Null Count  Dtype \n",
      "---  ------     --------------  ----- \n",
      " 0   tweet      7896 non-null   object\n",
      " 1   sentiment  7896 non-null   int64 \n",
      "dtypes: int64(1), object(1)\n",
      "memory usage: 123.5+ KB\n"
     ]
    }
   ],
   "source": [
    "# Menampilkan informasi tentang DataFrame, termasuk informasi tentang kolom, tipe data, dan jumlah non-null values\n",
    "df.info()\n"
   ]
  },
  {
   "cell_type": "code",
   "execution_count": 25,
   "metadata": {},
   "outputs": [
    {
     "data": {
      "text/plain": [
       "0    3980\n",
       "1    3916\n",
       "Name: sentiment, dtype: int64"
      ]
     },
     "execution_count": 25,
     "metadata": {},
     "output_type": "execute_result"
    }
   ],
   "source": [
    "# Menghitung jumlah kemunculan setiap nilai dalam kolom 'sentiment' dalam DataFrame\n",
    "df[\"sentiment\"].value_counts()\n"
   ]
  },
  {
   "cell_type": "code",
   "execution_count": 26,
   "metadata": {},
   "outputs": [
    {
     "data": {
      "image/png": "[encoded data removed]",
      "text/plain": [
       "<Figure size 640x480 with 1 Axes>"
      ]
     },
     "metadata": {},
     "output_type": "display_data"
    }
   ],
   "source": [
    "# Mengelompokkan DataFrame berdasarkan kolom 'sentiment' dan menghitung jumlah kemunculan setiap nilai sentiment\n",
    "sentiment_df = df.groupby(\"sentiment\")[\"sentiment\"].count()\n",
    "\n",
    "# Membuat peta warna untuk representasi visual, di mana 0 direpresentasikan sebagai \"red\" dan 1 direpresentasikan sebagai \"green\"\n",
    "color_map = {0: \"red\", 1: \"green\"}\n",
    "\n",
    "# Membuat plot bar dengan menggunakan data dari sentiment_df, dengan warna yang sesuai dengan peta warna\n",
    "sentiment_df.plot(kind=\"bar\", alpha=0.7, color=[\"red\", \"green\"])\n",
    "\n",
    "# Menambahkan label pada sumbu x dengan teks \"Kategori\"\n",
    "plt.xlabel(\"Kategori\")\n",
    "\n",
    "# Mengatur rotasi label sumbu x menjadi 0 (tidak berputar)\n",
    "plt.xticks(rotation=0)\n",
    "\n",
    "# Menambahkan label pada sumbu y dengan teks \"Total\"\n",
    "plt.ylabel(\"Total\")\n",
    "\n",
    "# Menambahkan judul pada plot dengan teks \"Jumlah Masing - Masing Kategori Sentimen\"\n",
    "plt.title(\"Jumlah Tweet Pada Masing - Masing Kategori Sentimen\")\n",
    "plt.show()\n"
   ]
  },
  {
   "attachments": {},
   "cell_type": "markdown",
   "metadata": {},
   "source": [
    "### **Case Folding**\n"
   ]
  },
  {
   "cell_type": "code",
   "execution_count": 27,
   "metadata": {},
   "outputs": [
    {
     "name": "stdout",
     "output_type": "stream",
     "text": [
      "Case Folding Result:\n"
     ]
    },
    {
     "data": {
      "text/html": [
       "<div>\n",
       "<style scoped>\n",
       "    .dataframe tbody tr th:only-of-type {\n",
       "        vertical-align: middle;\n",
       "    }\n",
       "\n",
       "    .dataframe tbody tr th {\n",
       "        vertical-align: top;\n",
       "    }\n",
       "\n",
       "    .dataframe thead th {\n",
       "        text-align: right;\n",
       "    }\n",
       "</style>\n",
       "<table border=\"1\" class=\"dataframe\">\n",
       "  <thead>\n",
       "    <tr style=\"text-align: right;\">\n",
       "      <th></th>\n",
       "      <th>tweet</th>\n",
       "      <th>sentiment</th>\n",
       "    </tr>\n",
       "  </thead>\n",
       "  <tbody>\n",
       "    <tr>\n",
       "      <th>0</th>\n",
       "      <td>hadir kembali boss!! mega win dari https://t.co/3ge7hbt18k jackpot jutaan rupiah serta kemenanga...</td>\n",
       "      <td>1</td>\n",
       "    </tr>\n",
       "    <tr>\n",
       "      <th>1</th>\n",
       "      <td>hayolohhhhhhhhh... seneng kannnn??\\n\\n#covid19\\n#corona\\n#pcr\\n#ppkm\\n#radio\\n#radiopurwokerto h...</td>\n",
       "      <td>1</td>\n",
       "    </tr>\n",
       "    <tr>\n",
       "      <th>2</th>\n",
       "      <td>thank you teman-teman dari #saganheritagehotel udah mampir ngobrol-ngobrol bareng @felisenyum te...</td>\n",
       "      <td>1</td>\n",
       "    </tr>\n",
       "    <tr>\n",
       "      <th>3</th>\n",
       "      <td>ruwet ruwet ruwet inilah negeri ruwetnesia. hebatnya virus itu adalah dia tau ramadhan akn datan...</td>\n",
       "      <td>1</td>\n",
       "    </tr>\n",
       "    <tr>\n",
       "      <th>4</th>\n",
       "      <td>film bagus nih karya habaib. tonton dah.\\n\\n#mk #selasa #tempe #bareskrim #ppkm\\n\\nhttps://t.co/...</td>\n",
       "      <td>1</td>\n",
       "    </tr>\n",
       "  </tbody>\n",
       "</table>\n",
       "</div>"
      ],
      "text/plain": [
       "                                                                                                 tweet  \\\n",
       "0  hadir kembali boss!! mega win dari https://t.co/3ge7hbt18k jackpot jutaan rupiah serta kemenanga...   \n",
       "1  hayolohhhhhhhhh... seneng kannnn??\\n\\n#covid19\\n#corona\\n#pcr\\n#ppkm\\n#radio\\n#radiopurwokerto h...   \n",
       "2  thank you teman-teman dari #saganheritagehotel udah mampir ngobrol-ngobrol bareng @felisenyum te...   \n",
       "3  ruwet ruwet ruwet inilah negeri ruwetnesia. hebatnya virus itu adalah dia tau ramadhan akn datan...   \n",
       "4  film bagus nih karya habaib. tonton dah.\\n\\n#mk #selasa #tempe #bareskrim #ppkm\\n\\nhttps://t.co/...   \n",
       "\n",
       "   sentiment  \n",
       "0          1  \n",
       "1          1  \n",
       "2          1  \n",
       "3          1  \n",
       "4          1  "
      ]
     },
     "execution_count": 27,
     "metadata": {},
     "output_type": "execute_result"
    }
   ],
   "source": [
    "# Mengubah semua teks dalam kolom 'tweet' menjadi huruf kecil\n",
    "df[\"tweet\"] = df[\"tweet\"].str.lower()\n",
    "\n",
    "# Mencetak hasil dari Case Folding\n",
    "print(\"Case Folding Result:\")\n",
    "\n",
    "# Menampilkan lima baris pertama dari DataFrame setelah dilakukan Case Folding\n",
    "df.head(5)\n"
   ]
  },
  {
   "attachments": {},
   "cell_type": "markdown",
   "metadata": {},
   "source": [
    "### **Tokenizing**\n"
   ]
  },
  {
   "cell_type": "code",
   "execution_count": 29,
   "metadata": {},
   "outputs": [
    {
     "name": "stderr",
     "output_type": "stream",
     "text": [
      "[nltk_data] Downloading package punkt to C:\\Users\\SNOW-\n",
      "[nltk_data]     WOLF\\AppData\\Roaming\\nltk_data...\n",
      "[nltk_data]   Package punkt is already up-to-date!\n"
     ]
    },
    {
     "data": {
      "text/plain": [
       "True"
      ]
     },
     "execution_count": 29,
     "metadata": {},
     "output_type": "execute_result"
    }
   ],
   "source": [
    "import string\n",
    "import re\n",
    "import nltk\n",
    "from nltk.tokenize import word_tokenize\n",
    "\n",
    "# Mengunduh resource yang diperlukan oleh NLTK (Natural Language Toolkit)\n",
    "nltk.download(\"punkt\")\n"
   ]
  },
  {
   "cell_type": "code",
   "execution_count": 30,
   "metadata": {},
   "outputs": [],
   "source": [
    "def remove_special_char(text):\n",
    "    # Menghapus karakter khusus seperti tab, baris baru, dan backslash\n",
    "    text = (\n",
    "        text.replace(\"\\\\t\", \" \")\n",
    "        .replace(\"\\\\n\", \" \")\n",
    "        .replace(\"\\\\u\", \" \")\n",
    "        .replace(\"\\\\\", \"\")\n",
    "    )\n",
    "    # Menghapus karakter non-ASCII seperti emotikon\n",
    "    text = text.encode(\"ASCII\", \"replace\").decode(\"ASCII\")\n",
    "    # Menghapus mention, link, dan hashtag\n",
    "    text = \" \".join(re.sub(\"([@#][A-Za-z0-9]+)|(\\w+:\\/\\/\\S+)\", \" \", text).split())\n",
    "    # Menghapus URL yang tidak lengkap\n",
    "    return text.replace(\"http://\", \" \").replace(\"https://\", \" \")\n",
    "\n",
    "\n",
    "def remove_number(text):\n",
    "    # Menghapus angka dari teks\n",
    "    return re.sub(r\"\\d+\", \"\", text)\n",
    "\n",
    "\n",
    "def remove_punctuation(text):\n",
    "    # Menghapus tanda baca dari teks\n",
    "    return text.translate(str.maketrans(\"\", \"\", string.punctuation))\n",
    "\n",
    "\n",
    "def remove_whitespace(text):\n",
    "    # Menghapus spasi di awal dan akhir teks\n",
    "    return text.strip()\n",
    "\n",
    "\n",
    "def remove_multiple_whitespace(text):\n",
    "    # Menghapus multiple whitespace menjadi satu spasi\n",
    "    return re.sub(\"\\s+\", \" \", text)\n",
    "\n",
    "\n",
    "def remove_single_char(text):\n",
    "    # Menghapus kata yang terdiri dari satu karakter saja\n",
    "    return re.sub(r\"\\b[a-zA-Z]\\b\", \"\", text)\n",
    "\n",
    "\n",
    "def tokenize(text):\n",
    "    # Melakukan tokenisasi kata pada teks menggunakan NLTK\n",
    "    return word_tokenize(text)\n"
   ]
  },
  {
   "cell_type": "code",
   "execution_count": 31,
   "metadata": {},
   "outputs": [
    {
     "data": {
      "text/html": [
       "<div>\n",
       "<style scoped>\n",
       "    .dataframe tbody tr th:only-of-type {\n",
       "        vertical-align: middle;\n",
       "    }\n",
       "\n",
       "    .dataframe tbody tr th {\n",
       "        vertical-align: top;\n",
       "    }\n",
       "\n",
       "    .dataframe thead th {\n",
       "        text-align: right;\n",
       "    }\n",
       "</style>\n",
       "<table border=\"1\" class=\"dataframe\">\n",
       "  <thead>\n",
       "    <tr style=\"text-align: right;\">\n",
       "      <th></th>\n",
       "      <th>tweet</th>\n",
       "      <th>sentiment</th>\n",
       "    </tr>\n",
       "  </thead>\n",
       "  <tbody>\n",
       "    <tr>\n",
       "      <th>0</th>\n",
       "      <td>[hadir, kembali, boss, mega, win, dari, jackpot, jutaan, rupiah, serta, kemenangan, extra, menan...</td>\n",
       "      <td>1</td>\n",
       "    </tr>\n",
       "    <tr>\n",
       "      <th>1</th>\n",
       "      <td>[hayolohhhhhhhhh, seneng, kannnn]</td>\n",
       "      <td>1</td>\n",
       "    </tr>\n",
       "    <tr>\n",
       "      <th>2</th>\n",
       "      <td>[thank, you, temanteman, dari, udah, mampir, ngobrolngobrol, bareng, tentang, promo, paket, buka...</td>\n",
       "      <td>1</td>\n",
       "    </tr>\n",
       "    <tr>\n",
       "      <th>3</th>\n",
       "      <td>[ruwet, ruwet, ruwet, inilah, negeri, ruwetnesia, hebatnya, virus, itu, adalah, dia, tau, ramadh...</td>\n",
       "      <td>1</td>\n",
       "    </tr>\n",
       "    <tr>\n",
       "      <th>4</th>\n",
       "      <td>[film, bagus, nih, karya, habaib, tonton, dah]</td>\n",
       "      <td>1</td>\n",
       "    </tr>\n",
       "  </tbody>\n",
       "</table>\n",
       "</div>"
      ],
      "text/plain": [
       "                                                                                                 tweet  \\\n",
       "0  [hadir, kembali, boss, mega, win, dari, jackpot, jutaan, rupiah, serta, kemenangan, extra, menan...   \n",
       "1                                                                    [hayolohhhhhhhhh, seneng, kannnn]   \n",
       "2  [thank, you, temanteman, dari, udah, mampir, ngobrolngobrol, bareng, tentang, promo, paket, buka...   \n",
       "3  [ruwet, ruwet, ruwet, inilah, negeri, ruwetnesia, hebatnya, virus, itu, adalah, dia, tau, ramadh...   \n",
       "4                                                       [film, bagus, nih, karya, habaib, tonton, dah]   \n",
       "\n",
       "   sentiment  \n",
       "0          1  \n",
       "1          1  \n",
       "2          1  \n",
       "3          1  \n",
       "4          1  "
      ]
     },
     "execution_count": 31,
     "metadata": {},
     "output_type": "execute_result"
    }
   ],
   "source": [
    "# Mengaplikasikan fungsi remove_special_char pada kolom 'tweet'\n",
    "df[\"tweet\"] = df[\"tweet\"].map(remove_special_char)\n",
    "\n",
    "# Mengaplikasikan fungsi remove_number pada kolom 'tweet'\n",
    "df[\"tweet\"] = df[\"tweet\"].map(remove_number)\n",
    "\n",
    "# Mengaplikasikan fungsi remove_punctuation pada kolom 'tweet'\n",
    "df[\"tweet\"] = df[\"tweet\"].map(remove_punctuation)\n",
    "\n",
    "# Mengaplikasikan fungsi remove_whitespace pada kolom 'tweet'\n",
    "df[\"tweet\"] = df[\"tweet\"].map(remove_whitespace)\n",
    "\n",
    "# Mengaplikasikan fungsi remove_multiple_whitespace pada kolom 'tweet'\n",
    "df[\"tweet\"] = df[\"tweet\"].map(remove_multiple_whitespace)\n",
    "\n",
    "# Mengaplikasikan fungsi remove_single_char pada kolom 'tweet'\n",
    "df[\"tweet\"] = df[\"tweet\"].map(remove_single_char)\n",
    "\n",
    "# Mengaplikasikan fungsi tokenize pada kolom 'tweet'\n",
    "df[\"tweet\"] = df[\"tweet\"].map(tokenize)\n",
    "\n",
    "# Menampilkan lima baris pertama dari DataFrame setelah dilakukan preprocessing teks\n",
    "df.head()\n"
   ]
  },
  {
   "attachments": {},
   "cell_type": "markdown",
   "metadata": {},
   "source": [
    "### **Stopwords Removal**\n"
   ]
  },
  {
   "cell_type": "code",
   "execution_count": 32,
   "metadata": {},
   "outputs": [
    {
     "name": "stderr",
     "output_type": "stream",
     "text": [
      "[nltk_data] Downloading package stopwords to C:\\Users\\SNOW-\n",
      "[nltk_data]     WOLF\\AppData\\Roaming\\nltk_data...\n",
      "[nltk_data]   Package stopwords is already up-to-date!\n"
     ]
    },
    {
     "data": {
      "text/plain": [
       "True"
      ]
     },
     "execution_count": 32,
     "metadata": {},
     "output_type": "execute_result"
    }
   ],
   "source": [
    "from nltk.corpus import stopwords\n",
    "\n",
    "# Mengunduh resource stopwords dari NLTK\n",
    "nltk.download(\"stopwords\")\n"
   ]
  },
  {
   "cell_type": "code",
   "execution_count": 33,
   "metadata": {},
   "outputs": [
    {
     "name": "stdout",
     "output_type": "stream",
     "text": [
      "['ada', 'adalah', 'agak', 'agar', 'akan', 'amat', 'anda', 'antara', 'anu', 'apakah', 'apalagi', 'atau', 'bagaimanapun', 'bagi', 'bahwa', 'begitu', 'belum', 'bisa', 'boleh', 'dahulu', 'dalam', 'dan', 'dapat', 'dari', 'daripada', 'demi', 'demikian', 'dengan', 'di', 'dia', 'dimana', 'dll', 'dsb', 'dst', 'dua', 'dulunya', 'guna', 'hal', 'hanya', 'harus', 'ia', 'ingin', 'ini', 'itu', 'itulah', 'jika', 'jika', 'juga', 'juga', 'kah', 'kami', 'karena', 'ke', 'kecuali', 'kemana', 'kembali', 'kenapa', 'kepada', 'ketika', 'kita', 'lagi', 'lain', 'maka', 'mari', 'masih', 'melainkan', 'mengapa', 'menurut', 'mereka', 'namun', 'nanti', 'nggak', 'oh', 'ok', 'oleh', 'pada', 'para', 'pasti', 'pula', 'pun', 'saat', 'saja', 'sambil', 'sampai', 'saya', 'sebab', 'sebagai', 'sebelum', 'sebetulnya', 'secara', 'sedangkan', 'seharusnya', 'sehingga', 'sekitar', 'selagi', 'selain', 'sementara', 'sementara', 'seolah', 'seperti', 'seraya', 'serta', 'sesuatu', 'sesudah', 'setelah', 'seterusnya', 'setiap', 'setidaknya', 'sudah', 'supaya', 'tanpa', 'tapi', 'telah', 'tentang', 'tentu', 'terhadap', 'tetapi', 'tidak', 'toh', 'tolong', 'untuk', 'walau', 'ya', 'yaitu', 'yakni', 'yang']\n"
     ]
    }
   ],
   "source": [
    "from Sastrawi.StopWordRemover.StopWordRemoverFactory import StopWordRemoverFactory\n",
    "\n",
    "# Membuat instance dari StopWordRemoverFactory\n",
    "factory = StopWordRemoverFactory()\n",
    "\n",
    "# Mendapatkan daftar stopwords dari factory\n",
    "stopwords = factory.get_stop_words()\n",
    "\n",
    "# Mencetak stopwords yang telah diurutkan secara alfabetis\n",
    "print(sorted(stopwords))\n"
   ]
  },
  {
   "cell_type": "code",
   "execution_count": 34,
   "metadata": {},
   "outputs": [
    {
     "data": {
      "text/html": [
       "<div>\n",
       "<style scoped>\n",
       "    .dataframe tbody tr th:only-of-type {\n",
       "        vertical-align: middle;\n",
       "    }\n",
       "\n",
       "    .dataframe tbody tr th {\n",
       "        vertical-align: top;\n",
       "    }\n",
       "\n",
       "    .dataframe thead th {\n",
       "        text-align: right;\n",
       "    }\n",
       "</style>\n",
       "<table border=\"1\" class=\"dataframe\">\n",
       "  <thead>\n",
       "    <tr style=\"text-align: right;\">\n",
       "      <th></th>\n",
       "      <th>tweet</th>\n",
       "      <th>sentiment</th>\n",
       "    </tr>\n",
       "  </thead>\n",
       "  <tbody>\n",
       "    <tr>\n",
       "      <th>0</th>\n",
       "      <td>[hadir, boss, mega, win, jackpot, jutaan, rupiah, kemenangan, extra, menanti, salam, wd, wa]</td>\n",
       "      <td>1</td>\n",
       "    </tr>\n",
       "    <tr>\n",
       "      <th>1</th>\n",
       "      <td>[hayolohhhhhhhhh, seneng, kannnn]</td>\n",
       "      <td>1</td>\n",
       "    </tr>\n",
       "    <tr>\n",
       "      <th>2</th>\n",
       "      <td>[thank, you, temanteman, udah, mampir, ngobrolngobrol, bareng, promo, paket, buka, puasa, kenyan...</td>\n",
       "      <td>1</td>\n",
       "    </tr>\n",
       "    <tr>\n",
       "      <th>3</th>\n",
       "      <td>[ruwet, ruwet, ruwet, inilah, negeri, ruwetnesia, hebatnya, virus, tau, ramadhan, akn, datang, m...</td>\n",
       "      <td>1</td>\n",
       "    </tr>\n",
       "    <tr>\n",
       "      <th>4</th>\n",
       "      <td>[film, bagus, nih, karya, habaib, tonton, dah]</td>\n",
       "      <td>1</td>\n",
       "    </tr>\n",
       "  </tbody>\n",
       "</table>\n",
       "</div>"
      ],
      "text/plain": [
       "                                                                                                 tweet  \\\n",
       "0         [hadir, boss, mega, win, jackpot, jutaan, rupiah, kemenangan, extra, menanti, salam, wd, wa]   \n",
       "1                                                                    [hayolohhhhhhhhh, seneng, kannnn]   \n",
       "2  [thank, you, temanteman, udah, mampir, ngobrolngobrol, bareng, promo, paket, buka, puasa, kenyan...   \n",
       "3  [ruwet, ruwet, ruwet, inilah, negeri, ruwetnesia, hebatnya, virus, tau, ramadhan, akn, datang, m...   \n",
       "4                                                       [film, bagus, nih, karya, habaib, tonton, dah]   \n",
       "\n",
       "   sentiment  \n",
       "0          1  \n",
       "1          1  \n",
       "2          1  \n",
       "3          1  \n",
       "4          1  "
      ]
     },
     "execution_count": 34,
     "metadata": {},
     "output_type": "execute_result"
    }
   ],
   "source": [
    "def stopwords_removal(words):\n",
    "    # Menerapkan filter stopwords pada kata-kata dalam teks\n",
    "    filtered_words = [word for word in words if word not in stopwords]\n",
    "    return filtered_words\n",
    "\n",
    "\n",
    "# Mengaplikasikan fungsi stopwords_removal pada kolom 'tweet'\n",
    "df[\"tweet\"] = df[\"tweet\"].map(stopwords_removal)\n",
    "\n",
    "# Menampilkan lima baris pertama dari DataFrame setelah dilakukan stopwords removal\n",
    "df.head()\n"
   ]
  },
  {
   "attachments": {},
   "cell_type": "markdown",
   "metadata": {},
   "source": [
    "### **Without Stemming**\n"
   ]
  },
  {
   "cell_type": "code",
   "execution_count": 35,
   "metadata": {},
   "outputs": [
    {
     "name": "stdout",
     "output_type": "stream",
     "text": [
      "<class 'pandas.core.frame.DataFrame'>\n",
      "RangeIndex: 7896 entries, 0 to 7895\n",
      "Data columns (total 2 columns):\n",
      " #   Column     Non-Null Count  Dtype \n",
      "---  ------     --------------  ----- \n",
      " 0   tweet      7896 non-null   object\n",
      " 1   sentiment  7896 non-null   int64 \n",
      "dtypes: int64(1), object(1)\n",
      "memory usage: 123.5+ KB\n"
     ]
    }
   ],
   "source": [
    "# Menyimpan DataFrame ke dalam dataset tanpa stemming untuk dibandingkan nanti dengan yang sudah dilakukan stemming\n",
    "df.to_csv(\n",
    "    \"../dataset/INA_TweetsPPKM_Preprocessed_DS2_NoStem.csv\",\n",
    "    index=False,\n",
    "    header=\"true\",\n",
    "    encoding=\"utf-8\",\n",
    "    sep=\"\\t\",\n",
    ")\n",
    "\n",
    "# Menampilkan informasi tentang DataFrame\n",
    "df.info()\n"
   ]
  },
  {
   "attachments": {},
   "cell_type": "markdown",
   "metadata": {},
   "source": [
    "### **Stemming**\n"
   ]
  },
  {
   "cell_type": "code",
   "execution_count": 17,
   "metadata": {},
   "outputs": [],
   "source": [
    "# Melakukan stemming pada dataset untuk mendapatkan kata dasar\n",
    "from Sastrawi.Stemmer.StemmerFactory import StemmerFactory\n",
    "\n",
    "# Membuat objek stemmer\n",
    "factory = StemmerFactory()\n",
    "stemmer = factory.create_stemmer()\n"
   ]
  },
  {
   "cell_type": "code",
   "execution_count": 18,
   "metadata": {},
   "outputs": [],
   "source": [
    "def stemming_words(words):\n",
    "    # Melakukan stemming pada setiap kata dalam daftar kata\n",
    "    return [stemmer.stem(word) for word in words]\n",
    "\n",
    "\n",
    "# Proses stemming\n",
    "df[\"tweet\"] = df[\"tweet\"].map(stemming_words)\n"
   ]
  },
  {
   "cell_type": "code",
   "execution_count": 19,
   "metadata": {},
   "outputs": [
    {
     "data": {
      "text/html": [
       "<div>\n",
       "<style scoped>\n",
       "    .dataframe tbody tr th:only-of-type {\n",
       "        vertical-align: middle;\n",
       "    }\n",
       "\n",
       "    .dataframe tbody tr th {\n",
       "        vertical-align: top;\n",
       "    }\n",
       "\n",
       "    .dataframe thead th {\n",
       "        text-align: right;\n",
       "    }\n",
       "</style>\n",
       "<table border=\"1\" class=\"dataframe\">\n",
       "  <thead>\n",
       "    <tr style=\"text-align: right;\">\n",
       "      <th></th>\n",
       "      <th>tweet</th>\n",
       "      <th>sentiment</th>\n",
       "    </tr>\n",
       "  </thead>\n",
       "  <tbody>\n",
       "    <tr>\n",
       "      <th>0</th>\n",
       "      <td>[hadir, boss, mega, win, jackpot, juta, rupiah, menang, extra, nanti, salam, wd, wa]</td>\n",
       "      <td>1</td>\n",
       "    </tr>\n",
       "    <tr>\n",
       "      <th>1</th>\n",
       "      <td>[hayolohhhhhhhhh, neng, kannnn]</td>\n",
       "      <td>1</td>\n",
       "    </tr>\n",
       "    <tr>\n",
       "      <th>2</th>\n",
       "      <td>[thank, you, temanteman, udah, mampir, ngobrolngobrol, bareng, promo, paket, buka, puasa, kenyan...</td>\n",
       "      <td>1</td>\n",
       "    </tr>\n",
       "    <tr>\n",
       "      <th>3</th>\n",
       "      <td>[ruwet, ruwet, ruwet, ini, negeri, ruwetnesia, hebat, virus, tau, ramadhan, akn, datang, raka, a...</td>\n",
       "      <td>1</td>\n",
       "    </tr>\n",
       "    <tr>\n",
       "      <th>4</th>\n",
       "      <td>[film, bagus, nih, karya, habaib, tonton, dah]</td>\n",
       "      <td>1</td>\n",
       "    </tr>\n",
       "  </tbody>\n",
       "</table>\n",
       "</div>"
      ],
      "text/plain": [
       "                                                                                                 tweet  \\\n",
       "0                 [hadir, boss, mega, win, jackpot, juta, rupiah, menang, extra, nanti, salam, wd, wa]   \n",
       "1                                                                      [hayolohhhhhhhhh, neng, kannnn]   \n",
       "2  [thank, you, temanteman, udah, mampir, ngobrolngobrol, bareng, promo, paket, buka, puasa, kenyan...   \n",
       "3  [ruwet, ruwet, ruwet, ini, negeri, ruwetnesia, hebat, virus, tau, ramadhan, akn, datang, raka, a...   \n",
       "4                                                       [film, bagus, nih, karya, habaib, tonton, dah]   \n",
       "\n",
       "   sentiment  \n",
       "0          1  \n",
       "1          1  \n",
       "2          1  \n",
       "3          1  \n",
       "4          1  "
      ]
     },
     "execution_count": 19,
     "metadata": {},
     "output_type": "execute_result"
    }
   ],
   "source": [
    "df.head()\n"
   ]
  },
  {
   "attachments": {},
   "cell_type": "markdown",
   "metadata": {},
   "source": [
    "- **WordCloud For Augmented Data**\n"
   ]
  },
  {
   "cell_type": "code",
   "execution_count": null,
   "metadata": {},
   "outputs": [],
   "source": []
  },
  {
   "cell_type": "code",
   "execution_count": null,
   "metadata": {},
   "outputs": [],
   "source": []
  },
  {
   "attachments": {},
   "cell_type": "markdown",
   "metadata": {},
   "source": [
    "- **Save To CSV**\n"
   ]
  },
  {
   "cell_type": "code",
   "execution_count": 20,
   "metadata": {},
   "outputs": [
    {
     "name": "stdout",
     "output_type": "stream",
     "text": [
      "<class 'pandas.core.frame.DataFrame'>\n",
      "RangeIndex: 7896 entries, 0 to 7895\n",
      "Data columns (total 2 columns):\n",
      " #   Column     Non-Null Count  Dtype \n",
      "---  ------     --------------  ----- \n",
      " 0   tweet      7896 non-null   object\n",
      " 1   sentiment  7896 non-null   int64 \n",
      "dtypes: int64(1), object(1)\n",
      "memory usage: 123.5+ KB\n"
     ]
    }
   ],
   "source": [
    "# Menyimpan DataFrame ke dalam dataset baru\n",
    "save_path = \"../dataset/INA_TweetsPPKM_Preprocessed_DS3.csv\"  # Path dan nama file untuk dataset baru\n",
    "df.to_csv(\n",
    "    save_path,  # Menyimpan DataFrame ke file CSV dengan path yang ditentukan\n",
    "    index=False,  # Tidak menyertakan index saat menyimpan ke file\n",
    "    header=\"true\",  # Menyertakan header kolom saat menyimpan ke file\n",
    "    encoding=\"utf-8\",  # Menggunakan encoding UTF-8 untuk menyimpan teks Unicode\n",
    "    sep=\"\\t\",  # Menggunakan \"\\t\" sebagai pemisah antar kolom dalam file CSV\n",
    ")\n",
    "\n",
    "# Menampilkan informasi tentang DataFrame\n",
    "df.info()\n"
   ]
  }
 ],
 "metadata": {
  "kernelspec": {
   "display_name": "env",
   "language": "python",
   "name": "python3"
  },
  "language_info": {
   "codemirror_mode": {
    "name": "ipython",
    "version": 3
   },
   "file_extension": ".py",
   "mimetype": "text/x-python",
   "name": "python",
   "nbconvert_exporter": "python",
   "pygments_lexer": "ipython3",
   "version": "3.10.7"
  },
  "orig_nbformat": 4,
  "vscode": {
   "interpreter": {
    "hash": "c285b301a46071fcccff14b1a2ddfb9ddc9ba056fadc5c2235af0b5e4e0ba093"
   }
  }
 },
 "nbformat": 4,
 "nbformat_minor": 2
}
