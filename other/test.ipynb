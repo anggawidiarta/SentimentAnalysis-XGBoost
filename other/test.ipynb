{
 "cells": [
  {
   "cell_type": "code",
   "execution_count": 14,
   "metadata": {},
   "outputs": [],
   "source": [
    "import warnings\n",
    "warnings.filterwarnings(\"ignore\")"
   ]
  },
  {
   "cell_type": "code",
   "execution_count": 15,
   "metadata": {},
   "outputs": [
    {
     "name": "stdout",
     "output_type": "stream",
     "text": [
      "Fold-1: 1.0\n",
      "Fold-2: 0.9666666666666667\n",
      "Fold-3: 0.9333333333333333\n",
      "Fold-4: 1.0\n",
      "Fold-5: 0.9333333333333333\n",
      "Average Accuracy: 0.9666666666666668\n"
     ]
    }
   ],
   "source": [
    "from sklearn.datasets import load_iris\n",
    "from sklearn.model_selection import cross_val_score, StratifiedKFold\n",
    "from sklearn.linear_model import LogisticRegression\n",
    "\n",
    "# Memuat dataset Iris\n",
    "iris = load_iris()\n",
    "X = iris.data\n",
    "y = iris.target\n",
    "\n",
    "# Inisialisasi model regresi logistik\n",
    "model = LogisticRegression()\n",
    "\n",
    "# Inisialisasi K-Fold dengan StratifiedKFold\n",
    "kfold = StratifiedKFold(n_splits=5, shuffle=True, random_state=42)\n",
    "\n",
    "# Melakukan cross validation dan menghitung skor akurasi pada setiap fold\n",
    "scores = cross_val_score(model, X, y, cv=kfold, scoring='accuracy')\n",
    "\n",
    "# Cetak skor akurasi setiap fold\n",
    "for fold_idx, score in enumerate(scores):\n",
    "    print(f\"Fold-{fold_idx+1}: {score}\")\n",
    "\n",
    "# Cetak rata-rata skor akurasi dari seluruh fold\n",
    "average_score = scores.mean()\n",
    "print(\"Average Accuracy:\", average_score)\n"
   ]
  },
  {
   "cell_type": "code",
   "execution_count": null,
   "metadata": {},
   "outputs": [],
   "source": []
  }
 ],
 "metadata": {
  "kernelspec": {
   "display_name": "env",
   "language": "python",
   "name": "python3"
  },
  "language_info": {
   "codemirror_mode": {
    "name": "ipython",
    "version": 3
   },
   "file_extension": ".py",
   "mimetype": "text/x-python",
   "name": "python",
   "nbconvert_exporter": "python",
   "pygments_lexer": "ipython3",
   "version": "3.10.7"
  },
  "orig_nbformat": 4
 },
 "nbformat": 4,
 "nbformat_minor": 2
}
