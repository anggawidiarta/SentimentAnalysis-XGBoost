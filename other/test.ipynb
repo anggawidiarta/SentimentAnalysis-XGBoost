{
 "cells": [
  {
   "cell_type": "code",
   "execution_count": 14,
   "metadata": {},
   "outputs": [],
   "source": [
    "import warnings\n",
    "warnings.filterwarnings(\"ignore\")"
   ]
  },
  {
   "cell_type": "code",
   "execution_count": 15,
   "metadata": {},
   "outputs": [
    {
     "name": "stdout",
     "output_type": "stream",
     "text": [
      "Fold-1: 1.0\n",
      "Fold-2: 0.9666666666666667\n",
      "Fold-3: 0.9333333333333333\n",
      "Fold-4: 1.0\n",
      "Fold-5: 0.9333333333333333\n",
      "Average Accuracy: 0.9666666666666668\n"
     ]
    }
   ],
   "source": [
    "from sklearn.datasets import load_iris\n",
    "from sklearn.model_selection import cross_val_score, StratifiedKFold\n",
    "from sklearn.linear_model import LogisticRegression\n",
    "\n",
    "# Memuat dataset Iris\n",
    "iris = load_iris()\n",
    "X = iris.data\n",
    "y = iris.target\n",
    "\n",
    "# Inisialisasi model regresi logistik\n",
    "model = LogisticRegression()\n",
    "\n",
    "# Inisialisasi K-Fold dengan StratifiedKFold\n",
    "kfold = StratifiedKFold(n_splits=5, shuffle=True, random_state=42)\n",
    "\n",
    "# Melakukan cross validation dan menghitung skor akurasi pada setiap fold\n",
    "scores = cross_val_score(model, X, y, cv=kfold, scoring='accuracy')\n",
    "\n",
    "# Cetak skor akurasi setiap fold\n",
    "for fold_idx, score in enumerate(scores):\n",
    "    print(f\"Fold-{fold_idx+1}: {score}\")\n",
    "\n",
    "# Cetak rata-rata skor akurasi dari seluruh fold\n",
    "average_score = scores.mean()\n",
    "print(\"Average Accuracy:\", average_score)\n"
   ]
  },
  {
   "attachments": {},
   "cell_type": "markdown",
   "metadata": {},
   "source": [
    "## **Preprocessing Dataset 1**\n",
    "\n",
    "<ol>\n",
    "  <li>Case Folding</li>\n",
    "  <li>Tokenizing</li>\n",
    "  <li>Stopwords Removal</li>\n",
    "  <li>Stemming</li>\n",
    "</ol>\n"
   ]
  },
  {
   "cell_type": "code",
   "execution_count": 1,
   "metadata": {},
   "outputs": [],
   "source": [
    "import pandas as pd\n",
    "import matplotlib.pyplot as plt\n",
    "import numpy as np\n",
    "\n",
    "# Mengimpor semua library yang diperlukan\n",
    "# pandas digunakan untuk memanipulasi dan menganalisis data dalam bentuk DataFrame\n",
    "# matplotlib.pyplot digunakan untuk membuat visualisasi grafik\n",
    "# numpy digunakan untuk operasi matematika dan manipulasi array\n"
   ]
  },
  {
   "cell_type": "code",
   "execution_count": null,
   "metadata": {},
   "outputs": [],
   "source": [
    "# Mengatur jumlah maksimum baris yang ditampilkan saat mencetak DataFrame\n",
    "pd.options.display.max_rows\n",
    "\n",
    "# Mengatur jumlah maksimum kolom yang ditampilkan saat mencetak DataFrame\n",
    "pd.options.display.max_columns\n",
    "\n",
    "# Mengatur lebar maksimum kolom agar setiap kolom dapat menampilkan string hingga 75 karakter\n",
    "pd.options.display.max_colwidth = 75\n",
    "\n",
    "# Mendefinisikan path file CSV yang akan dibaca\n",
    "path = \"../dataset/INA_TweetsPPKM_Labeled_FIX.csv\"\n",
    "\n",
    "# Membaca file CSV menjadi DataFrame menggunakan pandas\n",
    "df = pd.read_csv(path, sep=\"\\t\")\n",
    "\n",
    "# Mencetak jumlah baris dan kolom dalam DataFrame\n",
    "print(f\"Rows : {df.shape[0]}, Columns : {df.shape[1]}\")\n",
    "\n",
    "\n"
   ]
  }
 ],
 "metadata": {
  "kernelspec": {
   "display_name": "env",
   "language": "python",
   "name": "python3"
  },
  "language_info": {
   "codemirror_mode": {
    "name": "ipython",
    "version": 3
   },
   "file_extension": ".py",
   "mimetype": "text/x-python",
   "name": "python",
   "nbconvert_exporter": "python",
   "pygments_lexer": "ipython3",
   "version": "3.10.7"
  },
  "orig_nbformat": 4
 },
 "nbformat": 4,
 "nbformat_minor": 2
}
