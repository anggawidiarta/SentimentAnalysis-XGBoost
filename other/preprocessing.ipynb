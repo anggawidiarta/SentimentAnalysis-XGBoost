{
 "cells": [
  {
   "cell_type": "code",
   "execution_count": 1,
   "id": "4aa9bdb7",
   "metadata": {},
   "outputs": [],
   "source": [
    "import pandas as pd\n",
    "import numpy as np"
   ]
  },
  {
   "attachments": {},
   "cell_type": "markdown",
   "id": "0a0224ce",
   "metadata": {},
   "source": [
    "<h1>1. Dengan Stemming</h1>"
   ]
  },
  {
   "attachments": {},
   "cell_type": "markdown",
   "id": "89380957",
   "metadata": {},
   "source": [
    "<h2>a. Membaca dataset</h2>"
   ]
  },
  {
   "cell_type": "code",
   "execution_count": 2,
   "id": "366273eb",
   "metadata": {},
   "outputs": [
    {
     "data": {
      "text/html": [
       "<div>\n",
       "<style scoped>\n",
       "    .dataframe tbody tr th:only-of-type {\n",
       "        vertical-align: middle;\n",
       "    }\n",
       "\n",
       "    .dataframe tbody tr th {\n",
       "        vertical-align: top;\n",
       "    }\n",
       "\n",
       "    .dataframe thead th {\n",
       "        text-align: right;\n",
       "    }\n",
       "</style>\n",
       "<table border=\"1\" class=\"dataframe\">\n",
       "  <thead>\n",
       "    <tr style=\"text-align: right;\">\n",
       "      <th></th>\n",
       "      <th>teks</th>\n",
       "      <th>jenis</th>\n",
       "      <th>kategori</th>\n",
       "      <th>pengirim</th>\n",
       "      <th>waktu</th>\n",
       "    </tr>\n",
       "  </thead>\n",
       "  <tbody>\n",
       "    <tr>\n",
       "      <th>0</th>\n",
       "      <td>WOW SELAMAT! Ga hanya kuota GRATIS dr pemerint...</td>\n",
       "      <td>non</td>\n",
       "      <td>promo</td>\n",
       "      <td>myIM3</td>\n",
       "      <td>12/10/2021 22:40</td>\n",
       "    </tr>\n",
       "    <tr>\n",
       "      <th>1</th>\n",
       "      <td>10 Desember 2021: Selamat Merayakan Hari Hak A...</td>\n",
       "      <td>non</td>\n",
       "      <td>operator</td>\n",
       "      <td>KOMNAS HAM</td>\n",
       "      <td>12/10/2021 19:27</td>\n",
       "    </tr>\n",
       "    <tr>\n",
       "      <th>2</th>\n",
       "      <td>HOT PROMO, Isi ulang skr: Min 50rb cashback 10...</td>\n",
       "      <td>non</td>\n",
       "      <td>promo</td>\n",
       "      <td>INDOSAT</td>\n",
       "      <td>12/10/2021 12:03</td>\n",
       "    </tr>\n",
       "    <tr>\n",
       "      <th>3</th>\n",
       "      <td>HotPromo super deal, 25rb dpt 12.12GB, yuk bel...</td>\n",
       "      <td>non</td>\n",
       "      <td>promo</td>\n",
       "      <td>HOT PROMO</td>\n",
       "      <td>12/10/2021 11:37</td>\n",
       "    </tr>\n",
       "    <tr>\n",
       "      <th>4</th>\n",
       "      <td>Hakim ganteng KIM MIN KYU naksir CHORONG APINK...</td>\n",
       "      <td>non</td>\n",
       "      <td>penawaran</td>\n",
       "      <td>INDOSAT</td>\n",
       "      <td>12/10/2021 8:23</td>\n",
       "    </tr>\n",
       "  </tbody>\n",
       "</table>\n",
       "</div>"
      ],
      "text/plain": [
       "                                                teks jenis   kategori  \\\n",
       "0  WOW SELAMAT! Ga hanya kuota GRATIS dr pemerint...   non      promo   \n",
       "1  10 Desember 2021: Selamat Merayakan Hari Hak A...   non   operator   \n",
       "2  HOT PROMO, Isi ulang skr: Min 50rb cashback 10...   non      promo   \n",
       "3  HotPromo super deal, 25rb dpt 12.12GB, yuk bel...   non      promo   \n",
       "4  Hakim ganteng KIM MIN KYU naksir CHORONG APINK...   non  penawaran   \n",
       "\n",
       "     pengirim             waktu  \n",
       "0       myIM3  12/10/2021 22:40  \n",
       "1  KOMNAS HAM  12/10/2021 19:27  \n",
       "2     INDOSAT  12/10/2021 12:03  \n",
       "3   HOT PROMO  12/10/2021 11:37  \n",
       "4     INDOSAT   12/10/2021 8:23  "
      ]
     },
     "execution_count": 2,
     "metadata": {},
     "output_type": "execute_result"
    }
   ],
   "source": [
    "# membaca dataset sms csv dari foldernya, lalu tampilkan 5 data pertama\n",
    "csv_path = \"../Dataset/dataset_finalkah.csv\"\n",
    "df = pd.read_csv(csv_path)\n",
    "df.head()"
   ]
  },
  {
   "cell_type": "code",
   "execution_count": 3,
   "id": "90d6d0c2",
   "metadata": {},
   "outputs": [],
   "source": [
    "# coba menampilkan kolom teksnya saja\n",
    "# for i in range(len(df[\"teks\"])):\n",
    "#     print(df[\"teks\"][i])"
   ]
  },
  {
   "attachments": {},
   "cell_type": "markdown",
   "id": "43371d57",
   "metadata": {},
   "source": [
    "<h2>b. Preprocessing</h2>\n",
    "<ul>\n",
    "    <li>case folding = jadi kecil semua</li>\n",
    "    <li>tokenizing = pecah/split jadi per kata</li>\n",
    "    <li>stemming = rubah jadi kata dasar</li>\n",
    "    <li>stopword removal = ambil kata kata yg penting aja</li>\n",
    "    <li>ubah label ke numerik</li>\n",
    "</ul>"
   ]
  },
  {
   "attachments": {},
   "cell_type": "markdown",
   "id": "faa1003a",
   "metadata": {},
   "source": [
    "<h4>Method-method preprocessing</h4>"
   ]
  },
  {
   "cell_type": "code",
   "execution_count": 4,
   "id": "b52b6688",
   "metadata": {},
   "outputs": [
    {
     "name": "stderr",
     "output_type": "stream",
     "text": [
      "[nltk_data] Downloading package punkt to\n",
      "[nltk_data]     C:\\Users\\muhsy\\AppData\\Roaming\\nltk_data...\n",
      "[nltk_data]   Package punkt is already up-to-date!\n"
     ]
    }
   ],
   "source": [
    "#3. case folding\n",
    "def caseFolding (textColumn):\n",
    "    for i in range(len(textColumn)):\n",
    "        textColumn[i] = textColumn[i].lower()\n",
    "\n",
    "#4. stemming\n",
    "from Sastrawi.Stemmer.StemmerFactory import StemmerFactory\n",
    "factory = StemmerFactory()\n",
    "stemmer = factory.create_stemmer()\n",
    "\n",
    "def stemming (textColumn):\n",
    "    for i in range(len(textColumn)):\n",
    "        textColumn[i] = stemmer.stem(textColumn[i])\n",
    "\n",
    "#5. stopword\n",
    "from Sastrawi.StopWordRemover.StopWordRemoverFactory import StopWordRemoverFactory\n",
    "\n",
    "factory = StopWordRemoverFactory()\n",
    "stopword = factory.create_stop_word_remover()\n",
    "\n",
    "def stopwordRemoval (textColumn):\n",
    "    for i in range(len(textColumn)):\n",
    "        textColumn[i] = stopword.remove(textColumn[i])\n",
    "\n",
    "#6. tokenizing\n",
    "# jadi per kata, bisa split, bisa nltk\n",
    "import nltk\n",
    "from nltk.tokenize import word_tokenize\n",
    "nltk.download('punkt')\n",
    "\n",
    "def tokenizing (textColumn):\n",
    "    for i in range(len(textColumn)):\n",
    "        textColumn[i] = word_tokenize(textColumn[i])"
   ]
  },
  {
   "attachments": {},
   "cell_type": "markdown",
   "id": "a3ef01b0",
   "metadata": {},
   "source": [
    "<h4>Jalankan semua method</h4>"
   ]
  },
  {
   "cell_type": "code",
   "execution_count": 5,
   "id": "07d3bbf9",
   "metadata": {},
   "outputs": [
    {
     "data": {
      "text/html": [
       "<div>\n",
       "<style scoped>\n",
       "    .dataframe tbody tr th:only-of-type {\n",
       "        vertical-align: middle;\n",
       "    }\n",
       "\n",
       "    .dataframe tbody tr th {\n",
       "        vertical-align: top;\n",
       "    }\n",
       "\n",
       "    .dataframe thead th {\n",
       "        text-align: right;\n",
       "    }\n",
       "</style>\n",
       "<table border=\"1\" class=\"dataframe\">\n",
       "  <thead>\n",
       "    <tr style=\"text-align: right;\">\n",
       "      <th></th>\n",
       "      <th>teks</th>\n",
       "      <th>jenis</th>\n",
       "      <th>kategori</th>\n",
       "      <th>pengirim</th>\n",
       "      <th>waktu</th>\n",
       "    </tr>\n",
       "  </thead>\n",
       "  <tbody>\n",
       "    <tr>\n",
       "      <th>0</th>\n",
       "      <td>wow selamat! ga hanya kuota gratis dr pemerint...</td>\n",
       "      <td>non</td>\n",
       "      <td>promo</td>\n",
       "      <td>myIM3</td>\n",
       "      <td>12/10/2021 22:40</td>\n",
       "    </tr>\n",
       "    <tr>\n",
       "      <th>1</th>\n",
       "      <td>10 desember 2021: selamat merayakan hari hak a...</td>\n",
       "      <td>non</td>\n",
       "      <td>operator</td>\n",
       "      <td>KOMNAS HAM</td>\n",
       "      <td>12/10/2021 19:27</td>\n",
       "    </tr>\n",
       "    <tr>\n",
       "      <th>2</th>\n",
       "      <td>hot promo, isi ulang skr: min 50rb cashback 10...</td>\n",
       "      <td>non</td>\n",
       "      <td>promo</td>\n",
       "      <td>INDOSAT</td>\n",
       "      <td>12/10/2021 12:03</td>\n",
       "    </tr>\n",
       "    <tr>\n",
       "      <th>3</th>\n",
       "      <td>hotpromo super deal, 25rb dpt 12.12gb, yuk bel...</td>\n",
       "      <td>non</td>\n",
       "      <td>promo</td>\n",
       "      <td>HOT PROMO</td>\n",
       "      <td>12/10/2021 11:37</td>\n",
       "    </tr>\n",
       "    <tr>\n",
       "      <th>4</th>\n",
       "      <td>hakim ganteng kim min kyu naksir chorong apink...</td>\n",
       "      <td>non</td>\n",
       "      <td>penawaran</td>\n",
       "      <td>INDOSAT</td>\n",
       "      <td>12/10/2021 8:23</td>\n",
       "    </tr>\n",
       "  </tbody>\n",
       "</table>\n",
       "</div>"
      ],
      "text/plain": [
       "                                                teks jenis   kategori  \\\n",
       "0  wow selamat! ga hanya kuota gratis dr pemerint...   non      promo   \n",
       "1  10 desember 2021: selamat merayakan hari hak a...   non   operator   \n",
       "2  hot promo, isi ulang skr: min 50rb cashback 10...   non      promo   \n",
       "3  hotpromo super deal, 25rb dpt 12.12gb, yuk bel...   non      promo   \n",
       "4  hakim ganteng kim min kyu naksir chorong apink...   non  penawaran   \n",
       "\n",
       "     pengirim             waktu  \n",
       "0       myIM3  12/10/2021 22:40  \n",
       "1  KOMNAS HAM  12/10/2021 19:27  \n",
       "2     INDOSAT  12/10/2021 12:03  \n",
       "3   HOT PROMO  12/10/2021 11:37  \n",
       "4     INDOSAT   12/10/2021 8:23  "
      ]
     },
     "execution_count": 5,
     "metadata": {},
     "output_type": "execute_result"
    }
   ],
   "source": [
    "caseFolding(df[\"teks\"])\n",
    "df.head()"
   ]
  },
  {
   "cell_type": "code",
   "execution_count": 6,
   "id": "c8b6fa38",
   "metadata": {},
   "outputs": [
    {
     "data": {
      "text/html": [
       "<div>\n",
       "<style scoped>\n",
       "    .dataframe tbody tr th:only-of-type {\n",
       "        vertical-align: middle;\n",
       "    }\n",
       "\n",
       "    .dataframe tbody tr th {\n",
       "        vertical-align: top;\n",
       "    }\n",
       "\n",
       "    .dataframe thead th {\n",
       "        text-align: right;\n",
       "    }\n",
       "</style>\n",
       "<table border=\"1\" class=\"dataframe\">\n",
       "  <thead>\n",
       "    <tr style=\"text-align: right;\">\n",
       "      <th></th>\n",
       "      <th>teks</th>\n",
       "      <th>jenis</th>\n",
       "      <th>kategori</th>\n",
       "      <th>pengirim</th>\n",
       "      <th>waktu</th>\n",
       "    </tr>\n",
       "  </thead>\n",
       "  <tbody>\n",
       "    <tr>\n",
       "      <th>0</th>\n",
       "      <td>wow selamat! ga kuota gratis dr pemerintah bis...</td>\n",
       "      <td>non</td>\n",
       "      <td>promo</td>\n",
       "      <td>myIM3</td>\n",
       "      <td>12/10/2021 22:40</td>\n",
       "    </tr>\n",
       "    <tr>\n",
       "      <th>1</th>\n",
       "      <td>10 desember 2021: selamat merayakan hari hak a...</td>\n",
       "      <td>non</td>\n",
       "      <td>operator</td>\n",
       "      <td>KOMNAS HAM</td>\n",
       "      <td>12/10/2021 19:27</td>\n",
       "    </tr>\n",
       "    <tr>\n",
       "      <th>2</th>\n",
       "      <td>hot promo, isi ulang skr: min 50rb cashback 10...</td>\n",
       "      <td>non</td>\n",
       "      <td>promo</td>\n",
       "      <td>INDOSAT</td>\n",
       "      <td>12/10/2021 12:03</td>\n",
       "    </tr>\n",
       "    <tr>\n",
       "      <th>3</th>\n",
       "      <td>hotpromo super deal, 25rb dpt 12.12gb, yuk bel...</td>\n",
       "      <td>non</td>\n",
       "      <td>promo</td>\n",
       "      <td>HOT PROMO</td>\n",
       "      <td>12/10/2021 11:37</td>\n",
       "    </tr>\n",
       "    <tr>\n",
       "      <th>4</th>\n",
       "      <td>hakim ganteng kim min kyu naksir chorong apink...</td>\n",
       "      <td>non</td>\n",
       "      <td>penawaran</td>\n",
       "      <td>INDOSAT</td>\n",
       "      <td>12/10/2021 8:23</td>\n",
       "    </tr>\n",
       "  </tbody>\n",
       "</table>\n",
       "</div>"
      ],
      "text/plain": [
       "                                                teks jenis   kategori  \\\n",
       "0  wow selamat! ga kuota gratis dr pemerintah bis...   non      promo   \n",
       "1  10 desember 2021: selamat merayakan hari hak a...   non   operator   \n",
       "2  hot promo, isi ulang skr: min 50rb cashback 10...   non      promo   \n",
       "3  hotpromo super deal, 25rb dpt 12.12gb, yuk bel...   non      promo   \n",
       "4  hakim ganteng kim min kyu naksir chorong apink...   non  penawaran   \n",
       "\n",
       "     pengirim             waktu  \n",
       "0       myIM3  12/10/2021 22:40  \n",
       "1  KOMNAS HAM  12/10/2021 19:27  \n",
       "2     INDOSAT  12/10/2021 12:03  \n",
       "3   HOT PROMO  12/10/2021 11:37  \n",
       "4     INDOSAT   12/10/2021 8:23  "
      ]
     },
     "execution_count": 6,
     "metadata": {},
     "output_type": "execute_result"
    }
   ],
   "source": [
    "stopwordRemoval(df[\"teks\"])\n",
    "df.head()"
   ]
  },
  {
   "cell_type": "code",
   "execution_count": 7,
   "id": "2696ae07",
   "metadata": {},
   "outputs": [
    {
     "data": {
      "text/html": [
       "<div>\n",
       "<style scoped>\n",
       "    .dataframe tbody tr th:only-of-type {\n",
       "        vertical-align: middle;\n",
       "    }\n",
       "\n",
       "    .dataframe tbody tr th {\n",
       "        vertical-align: top;\n",
       "    }\n",
       "\n",
       "    .dataframe thead th {\n",
       "        text-align: right;\n",
       "    }\n",
       "</style>\n",
       "<table border=\"1\" class=\"dataframe\">\n",
       "  <thead>\n",
       "    <tr style=\"text-align: right;\">\n",
       "      <th></th>\n",
       "      <th>teks</th>\n",
       "      <th>jenis</th>\n",
       "      <th>kategori</th>\n",
       "      <th>pengirim</th>\n",
       "      <th>waktu</th>\n",
       "    </tr>\n",
       "  </thead>\n",
       "  <tbody>\n",
       "    <tr>\n",
       "      <th>0</th>\n",
       "      <td>wow selamat ga kuota gratis dr perintah bisa a...</td>\n",
       "      <td>non</td>\n",
       "      <td>promo</td>\n",
       "      <td>myIM3</td>\n",
       "      <td>12/10/2021 22:40</td>\n",
       "    </tr>\n",
       "    <tr>\n",
       "      <th>1</th>\n",
       "      <td>10 desember 2021 selamat raya hari hak asasi m...</td>\n",
       "      <td>non</td>\n",
       "      <td>operator</td>\n",
       "      <td>KOMNAS HAM</td>\n",
       "      <td>12/10/2021 19:27</td>\n",
       "    </tr>\n",
       "    <tr>\n",
       "      <th>2</th>\n",
       "      <td>hot promo isi ulang skr min 50rb cashback 100 ...</td>\n",
       "      <td>non</td>\n",
       "      <td>promo</td>\n",
       "      <td>INDOSAT</td>\n",
       "      <td>12/10/2021 12:03</td>\n",
       "    </tr>\n",
       "    <tr>\n",
       "      <th>3</th>\n",
       "      <td>hotpromo super deal 25rb dpt 12 12gb yuk beli ...</td>\n",
       "      <td>non</td>\n",
       "      <td>promo</td>\n",
       "      <td>HOT PROMO</td>\n",
       "      <td>12/10/2021 11:37</td>\n",
       "    </tr>\n",
       "    <tr>\n",
       "      <th>4</th>\n",
       "      <td>hakim ganteng kim min kyu naksir chorong apink...</td>\n",
       "      <td>non</td>\n",
       "      <td>penawaran</td>\n",
       "      <td>INDOSAT</td>\n",
       "      <td>12/10/2021 8:23</td>\n",
       "    </tr>\n",
       "  </tbody>\n",
       "</table>\n",
       "</div>"
      ],
      "text/plain": [
       "                                                teks jenis   kategori  \\\n",
       "0  wow selamat ga kuota gratis dr perintah bisa a...   non      promo   \n",
       "1  10 desember 2021 selamat raya hari hak asasi m...   non   operator   \n",
       "2  hot promo isi ulang skr min 50rb cashback 100 ...   non      promo   \n",
       "3  hotpromo super deal 25rb dpt 12 12gb yuk beli ...   non      promo   \n",
       "4  hakim ganteng kim min kyu naksir chorong apink...   non  penawaran   \n",
       "\n",
       "     pengirim             waktu  \n",
       "0       myIM3  12/10/2021 22:40  \n",
       "1  KOMNAS HAM  12/10/2021 19:27  \n",
       "2     INDOSAT  12/10/2021 12:03  \n",
       "3   HOT PROMO  12/10/2021 11:37  \n",
       "4     INDOSAT   12/10/2021 8:23  "
      ]
     },
     "execution_count": 7,
     "metadata": {},
     "output_type": "execute_result"
    }
   ],
   "source": [
    "stemming(df[\"teks\"])\n",
    "df.head()"
   ]
  },
  {
   "cell_type": "code",
   "execution_count": 9,
   "metadata": {},
   "outputs": [
    {
     "data": {
      "text/html": [
       "<div>\n",
       "<style scoped>\n",
       "    .dataframe tbody tr th:only-of-type {\n",
       "        vertical-align: middle;\n",
       "    }\n",
       "\n",
       "    .dataframe tbody tr th {\n",
       "        vertical-align: top;\n",
       "    }\n",
       "\n",
       "    .dataframe thead th {\n",
       "        text-align: right;\n",
       "    }\n",
       "</style>\n",
       "<table border=\"1\" class=\"dataframe\">\n",
       "  <thead>\n",
       "    <tr style=\"text-align: right;\">\n",
       "      <th></th>\n",
       "      <th>Name</th>\n",
       "      <th>Age</th>\n",
       "      <th>Score</th>\n",
       "    </tr>\n",
       "  </thead>\n",
       "  <tbody>\n",
       "    <tr>\n",
       "      <th>0</th>\n",
       "      <td>Stephen</td>\n",
       "      <td>30</td>\n",
       "      <td>8</td>\n",
       "    </tr>\n",
       "    <tr>\n",
       "      <th>1</th>\n",
       "      <td>Olga</td>\n",
       "      <td>65</td>\n",
       "      <td>5</td>\n",
       "    </tr>\n",
       "    <tr>\n",
       "      <th>2</th>\n",
       "      <td>David</td>\n",
       "      <td>25</td>\n",
       "      <td>9</td>\n",
       "    </tr>\n",
       "    <tr>\n",
       "      <th>3</th>\n",
       "      <td>Jane</td>\n",
       "      <td>42</td>\n",
       "      <td>2</td>\n",
       "    </tr>\n",
       "    <tr>\n",
       "      <th>4</th>\n",
       "      <td>Manny</td>\n",
       "      <td>51</td>\n",
       "      <td>3</td>\n",
       "    </tr>\n",
       "  </tbody>\n",
       "</table>\n",
       "</div>"
      ],
      "text/plain": [
       "      Name  Age  Score\n",
       "0  Stephen   30      8\n",
       "1     Olga   65      5\n",
       "2    David   25      9\n",
       "3     Jane   42      2\n",
       "4    Manny   51      3"
      ]
     },
     "execution_count": 9,
     "metadata": {},
     "output_type": "execute_result"
    }
   ],
   "source": []
  },
  {
   "cell_type": "code",
   "execution_count": 12,
   "id": "a41aacf6",
   "metadata": {},
   "outputs": [
    {
     "data": {
      "text/html": [
       "<div>\n",
       "<style scoped>\n",
       "    .dataframe tbody tr th:only-of-type {\n",
       "        vertical-align: middle;\n",
       "    }\n",
       "\n",
       "    .dataframe tbody tr th {\n",
       "        vertical-align: top;\n",
       "    }\n",
       "\n",
       "    .dataframe thead th {\n",
       "        text-align: right;\n",
       "    }\n",
       "</style>\n",
       "<table border=\"1\" class=\"dataframe\">\n",
       "  <thead>\n",
       "    <tr style=\"text-align: right;\">\n",
       "      <th></th>\n",
       "      <th>Name</th>\n",
       "      <th>Age</th>\n",
       "      <th>Score</th>\n",
       "    </tr>\n",
       "  </thead>\n",
       "  <tbody>\n",
       "    <tr>\n",
       "      <th>0</th>\n",
       "      <td>Stephen</td>\n",
       "      <td>30</td>\n",
       "      <td>8</td>\n",
       "    </tr>\n",
       "    <tr>\n",
       "      <th>1</th>\n",
       "      <td>Olga</td>\n",
       "      <td>65</td>\n",
       "      <td>5</td>\n",
       "    </tr>\n",
       "    <tr>\n",
       "      <th>2</th>\n",
       "      <td>David</td>\n",
       "      <td>25</td>\n",
       "      <td>9</td>\n",
       "    </tr>\n",
       "    <tr>\n",
       "      <th>3</th>\n",
       "      <td>Jane</td>\n",
       "      <td>42</td>\n",
       "      <td>2</td>\n",
       "    </tr>\n",
       "    <tr>\n",
       "      <th>4</th>\n",
       "      <td>Manny</td>\n",
       "      <td>51</td>\n",
       "      <td>3</td>\n",
       "    </tr>\n",
       "  </tbody>\n",
       "</table>\n",
       "</div>"
      ],
      "text/plain": [
       "      Name  Age  Score\n",
       "0  Stephen   30      8\n",
       "1     Olga   65      5\n",
       "2    David   25      9\n",
       "3     Jane   42      2\n",
       "4    Manny   51      3"
      ]
     },
     "execution_count": 12,
     "metadata": {},
     "output_type": "execute_result"
    }
   ],
   "source": [
    "import pandas as pd\n",
    "\n",
    "# Example DataFrame\n",
    "df = pd.DataFrame(\n",
    "    [\n",
    "        [\"'Stephen'\", 30, 8],\n",
    "        [\"'Olga'\", 65, 5],\n",
    "        [\"'David'\", 25, 9],\n",
    "        [\"'Jane'\", 42, 2],\n",
    "        [\"'Manny'\", 51, 3],\n",
    "        [\"'Sigrid'\", 18, 6],\n",
    "    ],\n",
    "    columns=[\"Name\", \"Age\", \"Score\"],\n",
    ")\n",
    "\n",
    "# Remove quotation marks from strings in the DataFrame column\n",
    "df['Name'] = df['Name'].str.strip(\"'\")\n",
    "\n",
    "# Print the modified DataFrame\n",
    "df.head()"
   ]
  },
  {
   "cell_type": "code",
   "execution_count": 8,
   "id": "08570f13",
   "metadata": {},
   "outputs": [
    {
     "data": {
      "text/html": [
       "<div>\n",
       "<style scoped>\n",
       "    .dataframe tbody tr th:only-of-type {\n",
       "        vertical-align: middle;\n",
       "    }\n",
       "\n",
       "    .dataframe tbody tr th {\n",
       "        vertical-align: top;\n",
       "    }\n",
       "\n",
       "    .dataframe thead th {\n",
       "        text-align: right;\n",
       "    }\n",
       "</style>\n",
       "<table border=\"1\" class=\"dataframe\">\n",
       "  <thead>\n",
       "    <tr style=\"text-align: right;\">\n",
       "      <th></th>\n",
       "      <th>teks</th>\n",
       "      <th>jenis</th>\n",
       "      <th>kategori</th>\n",
       "      <th>pengirim</th>\n",
       "      <th>waktu</th>\n",
       "    </tr>\n",
       "  </thead>\n",
       "  <tbody>\n",
       "    <tr>\n",
       "      <th>0</th>\n",
       "      <td>[wow, selamat, ga, kuota, gratis, dr, perintah...</td>\n",
       "      <td>non</td>\n",
       "      <td>promo</td>\n",
       "      <td>myIM3</td>\n",
       "      <td>12/10/2021 22:40</td>\n",
       "    </tr>\n",
       "    <tr>\n",
       "      <th>1</th>\n",
       "      <td>[10, desember, 2021, selamat, raya, hari, hak,...</td>\n",
       "      <td>non</td>\n",
       "      <td>operator</td>\n",
       "      <td>KOMNAS HAM</td>\n",
       "      <td>12/10/2021 19:27</td>\n",
       "    </tr>\n",
       "    <tr>\n",
       "      <th>2</th>\n",
       "      <td>[hot, promo, isi, ulang, skr, min, 50rb, cashb...</td>\n",
       "      <td>non</td>\n",
       "      <td>promo</td>\n",
       "      <td>INDOSAT</td>\n",
       "      <td>12/10/2021 12:03</td>\n",
       "    </tr>\n",
       "    <tr>\n",
       "      <th>3</th>\n",
       "      <td>[hotpromo, super, deal, 25rb, dpt, 12, 12gb, y...</td>\n",
       "      <td>non</td>\n",
       "      <td>promo</td>\n",
       "      <td>HOT PROMO</td>\n",
       "      <td>12/10/2021 11:37</td>\n",
       "    </tr>\n",
       "    <tr>\n",
       "      <th>4</th>\n",
       "      <td>[hakim, ganteng, kim, min, kyu, naksir, choron...</td>\n",
       "      <td>non</td>\n",
       "      <td>penawaran</td>\n",
       "      <td>INDOSAT</td>\n",
       "      <td>12/10/2021 8:23</td>\n",
       "    </tr>\n",
       "  </tbody>\n",
       "</table>\n",
       "</div>"
      ],
      "text/plain": [
       "                                                teks jenis   kategori  \\\n",
       "0  [wow, selamat, ga, kuota, gratis, dr, perintah...   non      promo   \n",
       "1  [10, desember, 2021, selamat, raya, hari, hak,...   non   operator   \n",
       "2  [hot, promo, isi, ulang, skr, min, 50rb, cashb...   non      promo   \n",
       "3  [hotpromo, super, deal, 25rb, dpt, 12, 12gb, y...   non      promo   \n",
       "4  [hakim, ganteng, kim, min, kyu, naksir, choron...   non  penawaran   \n",
       "\n",
       "     pengirim             waktu  \n",
       "0       myIM3  12/10/2021 22:40  \n",
       "1  KOMNAS HAM  12/10/2021 19:27  \n",
       "2     INDOSAT  12/10/2021 12:03  \n",
       "3   HOT PROMO  12/10/2021 11:37  \n",
       "4     INDOSAT   12/10/2021 8:23  "
      ]
     },
     "execution_count": 8,
     "metadata": {},
     "output_type": "execute_result"
    }
   ],
   "source": [
    "tokenizing(df[\"teks\"])\n",
    "df.head()"
   ]
  },
  {
   "cell_type": "code",
   "execution_count": 9,
   "id": "2c3acd9e-48b1-4e14-8b68-75d7bb363baf",
   "metadata": {},
   "outputs": [],
   "source": [
    "firstWord = ['dr', 'yg', 'no', 'n0', 'wa', 'bol4', 'pinj4m4n', 'p1nj4m4n', 'pinj4man', 'pjmn', 'thn', '4nd4', '4nda', 't@g3l', 't@gel', 't063l', 'c@sino', 'd4n4']\n",
    "toBe = ['dari', 'yang', 'nomor', 'nomor', 'whatsapp', 'bola', 'pinjaman', 'pinjaman', 'pinjaman', 'pinjaman', 'tahun', 'anda', 'anda', 'togel', 'togel', 'togel', 'casino', 'dana']\n",
    "\n",
    "for i in range(len(firstWord)):\n",
    "    for j in range(len(df['teks'])):\n",
    "        for k in range(len(df['teks'][j])):\n",
    "            if(firstWord[i] == df['teks'][j][k]):\n",
    "                df['teks'][j][k] = toBe[i]"
   ]
  },
  {
   "attachments": {},
   "cell_type": "markdown",
   "id": "2dc1e83d",
   "metadata": {},
   "source": [
    "<h4>Ubah label jadi numerik</h4>"
   ]
  },
  {
   "cell_type": "code",
   "execution_count": 10,
   "id": "48367d48",
   "metadata": {},
   "outputs": [
    {
     "data": {
      "text/plain": [
       "array(['non', 'spam'], dtype=object)"
      ]
     },
     "execution_count": 10,
     "metadata": {},
     "output_type": "execute_result"
    }
   ],
   "source": [
    "from sklearn.preprocessing import LabelEncoder\n",
    "df['jenis'].unique()"
   ]
  },
  {
   "cell_type": "code",
   "execution_count": 11,
   "id": "20e8c731",
   "metadata": {},
   "outputs": [
    {
     "data": {
      "text/plain": [
       "array([0, 1])"
      ]
     },
     "execution_count": 11,
     "metadata": {},
     "output_type": "execute_result"
    }
   ],
   "source": [
    "le = LabelEncoder()\n",
    "df['jenis'] = le.fit_transform(df['jenis'])\n",
    "df['jenis'].unique()"
   ]
  },
  {
   "cell_type": "code",
   "execution_count": 1,
   "id": "30e69c37",
   "metadata": {},
   "outputs": [
    {
     "name": "stdout",
     "output_type": "stream",
     "text": [
      "[[1, 1, 0, 0], [0, 0, 1, 0]]\n"
     ]
    }
   ],
   "source": [
    "import pandas as pd\n",
    "\n",
    "def countTF(dataTable, textColumn, typeColumn, termList, TFList):\n",
    "    for i in range(len(dataTable)):\n",
    "        docList = [textColumn[i].count(j) for j in termList]\n",
    "        docList.append(typeColumn[i])\n",
    "        TFList.append(docList)\n",
    "\n",
    "# Contoh penggunaan\n",
    "data = {'text': [['pak', 'polisi', 'nya', 'humanis', 'sekali', 'sana'],\n",
    "                 ['klo', 'sdh', 'kena', 'batas', 'apa']],\n",
    "        'type': [0, 0]}\n",
    "df = pd.DataFrame(data)\n",
    "\n",
    "termList = ['pak', 'polisi', 'kena']\n",
    "TFList = []\n",
    "\n",
    "countTF(df, df['text'], df['type'], termList, TFList)\n",
    "print(TFList)\n"
   ]
  },
  {
   "attachments": {},
   "cell_type": "markdown",
   "id": "a36d60b9",
   "metadata": {},
   "source": [
    "<h2>c. Pembobotan</h2>\n",
    "\n",
    "<h4>1) TF-IDF</h4>\n",
    "<ul>\n",
    "    <li>hitung nilai TF</li>\n",
    "    <li>hitung nilai DF</li>\n",
    "    <li>hitung nilai IDF, TF-IDF</li>\n",
    "</ul>"
   ]
  },
  {
   "attachments": {},
   "cell_type": "markdown",
   "id": "d993cb0f",
   "metadata": {},
   "source": [
    "<h4>Method untuk perhitungan TF dan DF</h4>"
   ]
  },
  {
   "cell_type": "code",
   "execution_count": 12,
   "id": "d164211d",
   "metadata": {},
   "outputs": [],
   "source": [
    "# 1. nampilin data teks tiap row\n",
    "def showAll(dataTable, column):\n",
    "    for i in range(len(dataTable)):\n",
    "        print(column[i])\n",
    "\n",
    "# 2. nampilin data untuk satu kategori saja\n",
    "def showOneCategory(dataTable, typeColumn, textColumn, columnType):\n",
    "    # df.iloc[[1]]\n",
    "    for i in range(len(dataTable)):\n",
    "        if(typeColumn[i] == columnType):\n",
    "            print(textColumn[i])\n",
    "\n",
    "# 3. cek term tersebut apakah sudah ada didalam list/array atau belum(biar gada term yang double)\n",
    "def check(array, word):\n",
    "    for i in array:\n",
    "        if (i == word):\n",
    "            return False\n",
    "    return True\n",
    "\n",
    "# 4. gabungin semua data yang sudah dipreprocessing jadi satu list term (tanpa ada yg double)\n",
    "def termMerging(dataTable, textColumn, termList):\n",
    "    for i in range(len(dataTable)):\n",
    "        for j in range(len(textColumn[i])):\n",
    "            if (check(termList, textColumn[i][j])):\n",
    "                termList.append(textColumn[i][j])\n",
    "\n",
    "# 5. hitung kemunculan tiap term di tiap dokumen\n",
    "# cara 1\n",
    "def countTF(dataTable, count, textColumn, typeColumn, docList, termList, TFList):\n",
    "    for i in range(len(dataTable)):\n",
    "        docList = []\n",
    "        for j in termList:\n",
    "            count = 0\n",
    "            for k in range(len(textColumn[i])):\n",
    "                if (j == textColumn[i][k]):\n",
    "                    count += 1\n",
    "            docList.append(count)\n",
    "        docList.append(typeColumn[i])\n",
    "        TFList.append(docList)\n",
    "\n",
    "# 6. ubah nilai yg lebih dari 1 jadi 1, untuk penghitungan DF\n",
    "def changeValue(TFList, prepareDFList):\n",
    "    for i in range(len(TFList)):\n",
    "        dataList = []\n",
    "        for j in range(len(TFList[0])):\n",
    "            if(j == len(TFList[0])-1):\n",
    "                break\n",
    "            temp = TFList[i][j]\n",
    "            if(temp >= 1):\n",
    "                temp = 1\n",
    "            dataList.append(temp)\n",
    "        prepareDFList.append(dataList)\n",
    "\n",
    "# 7. hitung di berapa dokumen suatu term muncul\n",
    "def countDF(TFList, DFList):\n",
    "    for i in range(len(TFList[0])):\n",
    "        value = 0\n",
    "        for j in range(len(TFList)):\n",
    "            value += TFList[j][i]\n",
    "        DFList.append(value)"
   ]
  },
  {
   "cell_type": "code",
   "execution_count": 13,
   "id": "a2ff7952",
   "metadata": {},
   "outputs": [],
   "source": [
    "# nampilin data teks tiap row\n",
    "# showAll(df, df[\"teks\"])"
   ]
  },
  {
   "cell_type": "code",
   "execution_count": 14,
   "id": "e47e47df",
   "metadata": {},
   "outputs": [],
   "source": [
    "# nampilin data untuk satu kategori saja\n",
    "# showOneCategory(df, df[\"jenis\"], df[\"teks\"], 0)"
   ]
  },
  {
   "cell_type": "code",
   "execution_count": 15,
   "id": "1580e263",
   "metadata": {},
   "outputs": [
    {
     "name": "stdout",
     "output_type": "stream",
     "text": [
      "['wow', 'selamat', 'ga', 'kuota', 'gratis', 'dari', 'perintah', 'bisa', 'ambil', '5gb', 'rp1', 'perak', 'yuk', 'raih', 'hingga', '100gb', 'bit', 'ly', 'tbswr', '10', 'desember', '2021', 'raya', 'hari', 'hak', 'asasi', 'manusia', 'maju', 'tegak', 'semua', 'hot', 'promo', 'isi', 'ulang', 'skr', 'min', '50rb', 'cashback', '100', '3gb', '10rb', '50', '1gb', '5rb', 'cashback25', 'bonus', 'utk', 'nelp', 'sms', 'nomor', 'im3', 'internetan', 'hotpromo', 'super', 'deal', '25rb', 'dpt', '12', '12gb', 'beli', 'whatsapp', 'official', 'ooredoo', 'klik', 'im3fs12', '12hari', '9-20des', 'pilih', 'di', '123', '60', 'hakim', 'ganteng', 'kim', 'kyu', 'naksir', 'chorong', 'apink', 'serial', 'drama', 'romance', 'special', 'law', 'nonton', 'sekarang', 'trueid', 'https', '3oghdd1', 'sim', 'card', 'resmi', 'dapat', 'bantu', 'dana', 'subsidi', 'rp', '189', '000', 'pin', 'menang', '717747', '087836275975', 'subsidi4', 'cuma', 'nelpon', 'puas', 'lama', '30', 'ayo', 'cek', 'paket', 'hanya', 'kamu', 'lho', 'musim', 'belanja', 'byk', 'butuh', 'aju', 'ucan', 'saja', 'pinjam', 'digital', 'aman', 'plus', '50gb', 'do', 'cs', '021-30055300', 'dsi', 'topup', 'pulsa', '25000', 'hasil', 'via', 'i-banking', 'mandiri', 'kode', 'trx', '1209103415364038', 'saat', '35291', 'terima', 'kasih', 'guna', 'indosat', 'onnet', '3', 'aktif', 's', 'd', '34', '557', '8', '250', 'impoin', 'dri', 'msk', 'akun', 'you', 've', 'earned', 'valid', 'until', '31-12-2021', 'redeem', 'w', 'attractive', 'rewards', 'imnm3', 'horee', 'udh', 'pakai', 'data', 'mau', 'lagi', 'daftar', 'http', 'dpktnc', 'pagi', 'sy', 'pegawai', 'unram', 'informasi', 'kpd', 'serta', 'wawancara', 'ecek', 'link', 'zoom', 'email', 'masing2', 'yang', 'blm', 'kirim', 'hubung', 'nomer', 'ini', 'terimakasih', 'cpns', 'kemdikbud', 'go', 'id', 'umum', 'pengumuman-tentang-penundaan-pelaksanaan-seleksi-kompetensi-bidang-skb-wawancara-dan-tes-praktik-mengajar-micro-teaching', 'index', 'html', 'info', 'mndptkan', '75jt', 'tiktok', 'cashkode', 'kbr99d7', 'silah', 'tiktokers', '17', 'tambah', '60mnt', 'telp', 'sama', 'xl', 'laku', '1hari', 'dgn', 'tuju', 'bijak', 'baru', 'co', 'kebijakan-privasi', 'balas', 'lc', 'xnc50b', 'harap', 'hadir', 'bpk', 'ibu', 'pd', 'rabu', '1', 'pkl', '09', 'konfirmasi', 'ruang', 'psikometri', 'rsj', '4', 'indikator', 'pengaruh', 'sebar', 'covid-19', 'mobilitas', 'duduk', 'cakup', 'vaksinasi', 'patuh', 'prokes', 'mampu', 'sakit', 'waspada', 'covid19', 'kejut', 'uitah', '54mb', 'bayar', 'qris', 'imkas', 'install', 'promosimkassms', 'imkassms', 'smsccim3', 'sedang', 'baik', 'nikmat', 'terus', '24', 'jam', 'khawatir', 'jebol', 'myim3', 'your', 'apple', 'code', 'is', '624641', 'don', 't', 'share', 'it', 'with', 'anyone', 'com', 'yth', 'bapak', 'tawar', 'online', 'bunga', '2', 'prtaun', 'minimal', '2-300jta', '082290163221', 'sdh', 'bnyk', 'mngg', 'b0sq', 'lsng', 'kt', 'byr', 'brppun', 'dft', 'dis1tu5', 'jd', 'onli-ne', 'b0-la', '5l0-t', 'casi-n0', 'p0-ker', 't0-gel', '0nli-ne', 'skrng', 'dilin-k', 'hokibet5', 'utama', 'transaksi', 'myxlapp', 'page', 'nov', 'rp15000', '0', '99971115182393', 'registrasi', 'xl-mu', '4444', 'kartu', 'pasuk', 'masa', 'tenggang', 'segera', 'apa', 'komunikasi', 'tdk', 'putus', 'xj008b', 'sisa', '641', 'layan', 'oopss', 'ooredoo-nya', 'portal', 'i', 'ncnd', 'in', 'u', 'nc', 'freedom', 'internet', 'zone', 'rp15rb', '08', '300mb', 'm3cpx', '11', 'kpn', '11gb', '30hari', 'rp22rb', 'yakin', 'gak', 'tarik', 'intip', 'aja', 'dulu', 'lain', 'jg', 'im3hotpromo', 'sd', '15nov', 'gas', 'ksh', 'isipulsa', 'cb', '10rb-cb50', '3hr', '25rb-cb100', '50rb-cb100', '3gb3hr', '100rb-cb100', '4gb5hr', '21', 'pt', 'rkb', 'gold', 'beri', 'profit', '20', '-30', 'per', '6', '08152335210', 'www', 'rkb-gold', 'harga', 'pas', 'kantong', 'tetap', 'penuh', '4rb', '6gb', '18rb', '30hr', 'diskon', 'unlimited', 'makin', 'gede', '25gb', 'ada', 'm3mkd', 'prtahun', '2-300jt', '0815-2507-559', 'shopee', 'slmt', 'anda', 'mendaptkan', 'hadiah', 'ke-2', 'tunai', '185jt', 'ad25md47', 'info-bigsale-11-11', 'tren', 'indonesia', 'naik', 'pusat', 'rekreasi', 'disiplin', 'vaksin', 'lengkap', 'dosis', 'spesial', 'buat', 'rp10jt', 'aplikasi', 'lebih', 'cepat', 'stabil', 'kttm3', 'dg', 'tarif', 'dasar', 'km', '2100', 'hemat', 'pkt', 'mulai', '15rb', '32gb', 'modal', 'usaha', 'siap', '5jt', '500jt', 'ringan', 'agen', 'pin-ol', 'percaya', '085825534663', 'assalamualaikum', 'cair', 'ksp', 'seluruh', 'minat', 'kami', 'chat', '087718858834', 'budi', 'galery-shopee2021', '085823390427', 'tetaphappy', 'tunggu', 'lg', 'kisah', 'sekolah', 'pasto', 'dptin', 'trf', '7700', '2tsihfy', '185', 'bls', 'ketik', 'hindar', 'lokasi', 'bahaya', 'padat', 'orang', 'tutup', 'dan', 'atau', 'sempit', 'ventilasi', 'udara', 'buruk', 'abai', 'taruh', 'keluarga', '2-500jt', '082250170207', 'm-dptkan', '155jta', 'giveaway', 'tik-tok', 'f577a79', 'lanjut', 'giveaway-tiktok25', '085656024445', 'minpinjaman', '5jt-500jt', '085796446430', 'useetv', 'verification', 'for', 'subscription', '4881', 'use', 'this', 'to', 'finish', '712885', '927026', 'github', 'authentication', 'givewaytiktok', '155juta', 'giveawaytiktok297', '087787772297', 'octa', 'buka', 'investasi', 'tahun', 'silver', '1jt', '19jt', '4jt', '85jt', 'platinum', '8jt', '200jt', 'octainvestama4d', 'dan4', 'pinjaman', 'langung', 'rendah', 'bulan', '2jt', '085221726262', 'm-dptkn', '37jt', 'program', 'bpjsinfo', 'bantuan-dana3', 'unduh', 'pedulilindungi', 'juga', 'lindung', 'diri', 'peduli', 'resiko', 'xj008g', 'otp', '5458', 'rahasia', 'minta', 'nmr', 'pada', '19', '14', '59', 'sdg', 'panggil', 'hub', 'beberapa', 'istimewa', 'dptkan', '3hari', 'minimum', '7hari', 'lihat', 'apps', 'myxl', 'myxl4you', 'xnd84b', 'enggeh', 'trims', '28437', 'verifikasi', 'ubah', 'faskes', 'pertama', 'nke', 'ustadz', 'ramli', 'bengkel', 'sertifikat', 'baiq', 'nurlaeli', 'hidayat', 'nik', '52xxx01', 'sedia', 'pdl', 'c', '1a1gb4dg', 'akses', 'mudah', 'lewat', 'playstore', 'appstore', 'tp', 'muncul', 'nya', 'tes', 'sm', 'plggh', '0812916179180', '23411', 'handphone', 'berkah', 'pmnng', 'pertaminaberbagi47', '087833434477', 'rek', 'side', 'pk', 'aji', '450603', 'kadaluarsa', 'waktu', 'menit', 'f43sp', 'yfun', 'mik', 'kalo', 'prya', 'besok', 'titip', 'stnk', 'nike', 'gih', 'maaf', 'ganggu', 'kmi', 'sini', 'menarwarkan', 'pinjman', 'dll', '5-500jt', 'jelas', '087787866977', 'm-dpatkan', 'c3k', 'pertamina', '85251323939', 'pertamina939', 'langgan', '085238147508', 'hape', '2000', 'coin', '500', '75', 'tukar', 'jadi', 'pak', 'alamatx', 'sendiri', 'insyaallah', 'bsk', 'dah', 'mtor', 'gk', 'dpake', 'td', '18', 'sudah', 'nsbh', 'bsi', 'ex', 'bnis', 'update', 'proses', 'konversi', 'rekening', 'weekend', 'banking', 'sabtu', '30-14', '00', 'outlet', 'tentu', 'bsiweekendbanking', 'ktntuan', 'protokol', 'dlakukan', 'mobile', 'call', '14040', 'tekan', 'slalu', 'wspada', 'thdp', 'tipu', 'sidang', 'mpr', '16', 'agustus', 'konvensi', 'ketatanegaraan', 'rangka', 'lapor', 'kerja', 'lembaga', 'negara', 'pesan', 'das', 'beauty', '175jta', 'ck805ku', 'program-resmi427', '087837589899', 'sakti', '100ribu', 'poin', 'langsung', 'voucher', 'joox', 'vip', '7', 'aktivasi', 'loyal3', '12ags21', 'skb', 'suzuki', 'carry', 'pick', 'up', 'dp', 'juta', 'banyak', 'bos', 'ku', 'mesan', 'firman', 'marketing', 'lombok', '081917720669', 'saya', 'kerabat', 'rencana', 'mobil', 'fee', 'krtu', 'dgunakn', 'atm', 'tnp', 'biaya', 'rkening', 'sluruh', 'cbng', 'trdkt', 'ppkm', 'darurat', 'selalu', 'faqbsi', 'miq', 'mhn', 'msh', 'rmh', 'biar', 'tiang', 'anter', 'nnti', 'air', 'saing', 'total', '222', 'skrg', 'cm', 'rp1500', 'hr', '50sms', 'axis', 'xpf01a', 'haji', 'kirimak', 'izaura', 'dus', 'soponyono', 'uang', 'senin', 'sore', 'wah', 'jari', 'ne', 'kesini', 'plg', 'omg', '100mb', 'download', 'mytelkomsel', 'tsel', 'me', 'entertainment', '363', 'slmat', 'trpilih', 'mndpatkan', 'bntuan', 'idr', '150', 'lbih', 'lngkpnya', 'silahkn', 'bangkesbpjs', 'locked', '257257', 'pemberitahuan', 'trakhir', '175', 'pr0gram', 'vrifikasi', 'surprise', 'giveaway07', 'main', 'sl0tguru88', 'sg88jp', 'berapa', 'qq39bet', 'daftarqq39bet', 'punya', 'hangus', 'tunjuk', 'ktp', 'drive-thru', 'xlaxiata', 'indonesiabangkit', 'sinovac-biofarma', 'br196a', 'menwrkn', 'barang', 'jatuh', 'tempo', 'gadai', 'ori', 'balailelangresmi73', '51345050', 'facebook', 'laz', 'nxcarlw', 'rp10', 'rwrd5gb', '466564', 'bank', 'syariah', '5', 'salam', 'sukses', 'oleh', 'plan', 'a', 'tgl', '25-5-2021', 'b000112785', 'sponsor', 'pasang', 'jumlah', 'admin', '-7', 'transfer', '42', 'r000014644', 'b000035978', '242', 'mu', 'belum', 'mndapatkan', 'dng', 'lnjut', 'shopee-berbagi-2021', 'milik', 'mb', '20-05-2021', '23', 'lokal', '82', 'gb', 'perdana', '04', '17-06-2021', 'va', '200', 'danabpjs-2021', '25b547', 'b', 'member', 'r000014841', 'april', '514', '840', '507', '340', 'simcard', 'trdftar', 'bpjs', 'urut', 'danabantuankesbpjs', 'masuk', '25qr47', 'ke-7', 'bpjssalurandanabantuan47', '557557', 'jt', '-', 'mud', 'whatsaap', '085348747397', 'ass', 'btuh', 'tmbhan', 'mdal', '085340304479', 'hormat', 'mnwaran', 'pnjman', 'brbsis', 'rndah', 'thun', 'dlam', 'tnpa', 'anggun', 'whatsup', '087788796547', '17-12-2021', 'b000145719', 'maksimal', 'diskusi', '300', 'org', '15gb', 'pro', 'zoompro', 'b000145718', 'jual', 'kawin', 'renda', '082352630303', 'kntr', 'c3lc1u5k', 'dana-bantuanbpjs2020', 'pesungihan', 'tumbal', '-dana', 'goib', '-penglaris', '-bisnis', '-asmara', 'mbah', 'mijang', '082339339135', 'kredit', 'agun', '500jta', '0852-4857-6969', 'jo1n', 'r3c0v3ry', 'inve5t4s1', '600', 'win', '7jt', '15jt', '32jt', '40jt', '80jt', '95jt', 'investasidana-sukses', '25f4777', '1nf0', 'hadiah7700', 'sb', 'finance', '-khusus', 'ekonomi', '-proses', '081215147499', 'modah', 'cpat', 'angunan', '5jta-500jta', '6285340130704', 'sulit', 'bikin', 'pnjmn', 'amanah', '5juta', 'sammpai', '500juta', '085213725533', 'cp4t', 'd4n', 'trperc4ya', '082189443339', 'wktux', 'rupiah', 'jamin', 'shd', 'ojk', 'cht', '082233764198', '0822', '1705', '7985', 'koperasi', 'mnwrkn', '085283195227', '000-', 'dibaw', 'undian-pemenang', 'bri', 'n', 'risma', '4479', '0102', '1801', '539', 'kre4dit', 'pinter', 'rakyat', '5jt-500t', 'tampa', 'prthn', '0857-5780-4757', 'mendapa', 'ooo', 'kliklink', 'galeripemenang012', '1nfo', 'galerihadiah182', 'galerihadiah47', 'solusi', 'finansial', '-u', '-min', '-max', '700jt', '-langsung', 'stelah', '082346631967', 'beli1', 'gratis1', 'burger', 'bbq', 'beef', 'rasher', 'coke', '50k', 'king', 'dekat', 'tselbk281', '606', 'meal', 'offer', '2pc', 'ayam', 'rice', 'tselbk271', 'mozzarella', 'cheeseburger', 'regular', 'fries', '58', 'tselbk261', 'minum', 'pun-grande', 'size', 'starbucks', 'exc', 'airport', 'tinggal', '4g', '1000', '4g15', 'untuk', 'ke', 'hotoffer', 'telegram', '42350', 'can', 'also', 'tap', 'on', 'log', 'login', 'akan', 'akhir', '22', '2020', '4-cheese', 'whopper', 'jr', '63k', 'tselbk251', 'pc', 'waffle', 'rp65', 'tselbk241', 'telkomsel', '1hr', 'kartuhalo', '138gb', '6bln', '100rb', 'vivo', 'grapari', 'store', 'erafone', 'haloerafone', 'khusus', '10gb', '600mb', 'free', 'rol', 'md', 'ajar', 'tanggal', 'wib', 'telah', 'kena', 'tariff', 'normal', '40', 'chicken', 'strips', 'nasi', '39', 'ribu', 'nett', 'cfc', 'transmart', 'mataram', 'classic', 'crispy', 'rp50', 'tselbk199', 'semeton', 'youtube', 'sosmed', 'unlimitedmax', '70rban', 'mytsel', 'ksmptn', 'minggu', 'pulsabln9', 'teman', 'yes', 'contoh', '08123456789', '5rb-an', '844', 'sempat', 'hpsamsung', 'smartwatch', 'saldo', 'linkaja', 'kuotabelajarbalnus', 'habis', 'sila', 'tsel1', 'my', 'mndptkn', 'murah', '10rp', 'reward', 'instagram', 'riah', 'keteng', 'mahal', 'loh', 'aktifin', '847', 'nsp', '7hr', 'aku', 'rela-tri', 'suaka', 'nspsk', '188', 'legends', 'gratiss', 'nanti', 'ckp', 'datang', 'pergi-mahen', 'berkali2x', '6bulan', 'jalapeno', 'tselbk121', 'bagai', 'telepon', 'gift', 'disney', 'hotstar', 'non', 'n1s', '100pulsa', 'adalah', '25001', 'panjang', 'g-875529', 'google', 'g-765034', 'collect', 'tolak', '6285338647408', '89', '21-09-2020', '350', '38', '19-06-2021', '320-294', 'ketuk', 'taut', 'v', '320294', 'jangan', 'bagi', 'dengan', '4sglq1p5sv6', 'ilmupedia', 'cakap', 'ruangguru', 'rp100rb', 'racingkuota', '6285158442388', 'salah', '62852382410', 'sn', '02524500000637163815', '29', '06', 'mercy', 'gla200', '1poin', 'sya', 'malaysia', 'tolong', 'ncik', 'hrta', 'serakah', 'istri', 'jka', 'si4p', 'ch4t', '601131246148', 'permisi', 'siapa', 'tahu', 'kembang', '082316469276', 'rp75000', 'combo', 'pinjamamn', '085341764479', 'youngjoy', 'technology', 'limited', 'diamonds', 'bang', 'play', '18480', 'ppn', 'jasa', 'gopay', 'metode', 'games', 'video', 'kuotabelajar', 'tokopedia', 'memberitahu', 'pihak', 'kasus', '362183', 'perlu', '082291120869', 'diamond', '92400', 'hp', '081246632537', 'ya', '871951', 'indodax', 'mnormanmm', 'stop', 'janggal', 'rp0', 'jang', 'ganggu-shine', 'of', 'black', 'blu', 'by', 'bca', 'app', 'redi', 'redixblu', 'ken', 'cobain', 'zoompro1', '6282317685757', '250rb', 'untung', 'cara', 'bni', '141', 'menu', 'smsbankingbni', 'ikan', '382622', '150911', 'tidak', 'tonton', 'wandavision', 'soul', 'grey', 'anatomy', 'tayang', 'global', 'dp1mm', '200mnttsel', '400smstsel', 'bebas', 'line', 'musicmax', 'gamesmax', 'maxstream', 'batas', 'wajar', '20gb', '120000', 'status', 'henti', 'lalu', 'and', 'l0cked', '47aa277', '0822-9718-2422', 'inf0', 'l1nk', 'rejekibpjskes22', 'pusing', 'cri', 'jngan', 'khawtir', 'slusinya', 'membntu', 'prekonomian', 'masyrkat', 'minmal', '5jt-500juta', 'bermnt', 'lngsung', '081240845590', 'slamat', 'mendptkan', 'tik21k77', '082268519889', 'terpilihm-dpatkan', 'layanan-cs67', 'hack', 'talk', 'event', 'upnormal', 'coffee', 'oktober', 'pukul', 'wita', 'nih', 'redisms2', 'sampe', '39805', 'viu', 'vidio', 'rp25rb', 'gigamax', 'gigamaxfit', '21nov', '083113979577', 'infopertamina3', '0822-9718-2399', 'linknya', 'csbantuanbpjs', 'kupon', '70', 'mendpatkan', 'degan', 'pemen4ng', 'cs-pertamina459', 'ramai', 'promosi', 'rp10ribu', 'iklan', 'promositepat23', 'twitter', '995', '94', '14-10-2021', '24-10-2021', 'baca', '101', 'chatting', 'ina', 'ambon', 'brkat', 'ki', 'ageng', 'tembus', '4angka', 'kemaring', 'sydney', '2359', 'cobah', 'tlp', '085214969127', 'tau', 'sperti', 'm-daptkan', 'b4ntu4n', 'dar1', 'kantor', 'bpjsindonesia', '052632', 'subsid1', 'formation', 'mypertamina04', 'whsp', '087882141504', 'gojek', 'bukan', 'secure', 'pun', 'bahkan', 'karna', 'ngakses', 'gopaymu', '012803', 'safety', '4pkezqv9ubl', 'kunjung', 'cabang', '528756', 'selesai', 'latih', 'vsga', 'fga', 'ikut', 'pasca', 'gabung', 'channel', 'pascapelatihan2021', 'tagih', 'spaylater', 'team', 'bossqe', 'bapau', 'baim-paula', 'ucap', '35jt', 'kdr99d7', 'chatwa', '082251183665', 'pacific', 'trader', 'jdilah', 'bisnis', 'nmor', 'propit', '-60', 't-prcya', 'web', 'pacificgt', 'tlgram', 'pacificglobaltrader', 'celana', 'jogger', 'cukup', 'buru', 'toped8', 'mohd', 'norman', 'mukhallish', '52xxx04', '19z3v6hd', 'myads', 'jackp0t', 'slot', 'terlengk4p', 'br0t', '63l', 'dik', 'si', 'mtn6d', 'b4cc4r4t', 'ding', 'dong', 'gel', 'bo', 'la', 's1n0', 'sbo', 'mi', 'yaitu', '973528', 'd4n4h', 'muda', '350jt', '085233028807', 'gelombang', 'tiga', 'masker', 'jaga', 'jarak', 'cuci', 'tangan', 'sabun', 'kerumun', '15', '9843', '175juta', '082347317477', 'situs', 'infomenarik55', '6282344419262', '082359502768', '65', 'texasp', 'k3rcc', 'tpk999', 'cambodia', 'hongkong', 'mino', '845829', '355245', 'cuan', 'rp30rb', '30gb', 'n1a', 'besar', 'x3', 'china', 'japan', 'singapore', 'j0k3rb3t888', 'hkb09', 'ce', 'hkb', '51', '12-11-2021', 'mud4h', 'cep4t', 'minim4l', 'bung4', '0822-9060-2686', '6281290710758', '6285386634551', 'nasabah', 'sampai', '100jt', '082397118699', 'penerima-bantuan2021', 'layanan-cs47', 'tangkas', '0maha', 'p', 'k3r', '0n', '36d', 'dragon', 'tiger', 'rg0b3t', 'hkb89', 'kemendikbud', 'bs', '5itus', '5icb0', 'live', 'hi-lo', 'bola', 's8083t', 'game', 'pr0m0', '8080sp0rt', '8080sp0r7', 'comsakmax6', 'pulsaoct', '561475', '082210389778', '6282316492484', 'asik', 'sahabat', 'sma', 'bintang', 'anneth', 'zara', 'ari', 'irham', 'ayah', 'peran', 'enda', 'ungu', 'film', 'kau', 'maxstreamgala', '465', '75gb', '16rb', 'ksemptan', 'pulsapljr10', 'j01n', 'gitart', 'g3l', 'cardgames', 'nusantara', 'sgp', 'hk', 'sb0', 'ca', 'sino', 'sportsbook', '3mzvn6w', 'seru', 'mendpatkanbantuan', 'cs-pertamina-75', 'ntn', 'temu', 'sesuai', 'combo1', '081230049774', 'k', 'm1', 't4w', 'rkan', 'p1nj', 'm', 'cep', 'c4ir', 'o853', '8682', '8345', 'rg0', 'gymgv', 'depo', 'domino', 'po', 'b0', 'sb08et', 'spb977', '082297298621', 'ptpertamina2021', 'extra', 'bln', 'combosakti', 'rumah', 'lbh', 'lancar', 'pulsabn9', 'tingkatin', '14000', 'bmri', 'lttsel', 'rp10rb', '120min', '200sms', 'wow25', 'life1', 'sep', 'banget', '25', 'okt', 'rp10000', '75min', '30sms', '2hari', 'pd10', 'jk', '505', 'bosen', 'dirumahaja', 'bibit', '2681', 'a0tl8ay', 'qim', '6254', 'ngaku', '1287', '347001', 'pemenang-pesta2021', 'm-dapatkan', '175jt', 'wha012', 'whatsapp-indonesia2021', 'paypal', 'security', '890920', 'expires', 'minutes', '2x', 'lipat', '2gb', '8gb', 'm3hpr', 'hidup', 'santuy', 'kalau', 'full', 'krn', 'hepi', 'nyusul', '5rb-cb', '10rb-cb', '25rb-cb', '01', 'ingin', 'lelang', 'kualitas', 'asli', 'bumn', '9', 'alam', 'jawab', 'tanya', 'singkat', 'undi', 'pemenangshopee2021', 'hati', 'lazad', 'daftar-pemenang87', 'trading', 'forex', 'saham', '600rb', 'get', '120jt', 'open', 'tradingforexsaham', '50jt', '1faw7', 'baim', 'wong', '082148646816', 'm3rco', 'resm', 'whastapp', '085824676275', 'gebyarshopee275', '5rb-cashback', '10rb-cashback', '25rb-cashback', '5hari', '085737xxx', 'pemenang-shopee12-12', 'lazada', 'ck643z77', 'undian-ptlazada39', 'sifat', 'jenius', 'reset', 'password', '877630', 'menawarin', 'arwana', 'red', 'ana', '60cm', 'tangkar', 'hrg', '082279875479', 'smp', 'sblm', 'dapetin', 'imdm3', 'cocok', 'whatsapp-inc755', '081243401157', 'real', '085888602577', 'm3inp', 'giveway', '77hhba', 'paula', '082215766627', 'trimakasih', 'kepda', 'terpercayah', 'pnjaman', '085311657297', '92', 'statusrbt', 'lucu', 'wajah', 'preman', 'iman', 'tampan', 'begajulan', '817', 'pnjm', '082296932649', 'hai', 'yellow', 'ck64z77', 'undianptlazada-2021', 'dermawan', 'masalah', '081543170499', 'coam3', '00-24', '50000', '02', 'krisis', 'pangan', 'saudara', 'tani', 'rugi', 'bangkit', '660', '0000', '765', 'an', 'yayasan', 'wakaf', 'layananact', 'kk', '0857-5673-3449', 'fire', 'fun', 'top', '35ipdie', 'vs230a', 'masih', 'rbt', 'otomatis', 'ganti', 'lagu', '1818', 'tenda', 'ungsi', 'palestina', 'suriah', 'lebanon', 'juang', 'lawan', 'dingin', 'cuaca', 'perut', 'lapar', 'tahan', 'salur', '6600003303', 'aksi', 'tanggap', 'dalam', 'tingkat', 'kuis', 'mohon', 'partisipasi', 'survey', 'surveyxl2', 'fb', 'ig', 'spotify', '30rban', 'ekstra', 'internet2gb', 'hny', 'xtraul', 'simpel', '082271370775', 'bwa', 'botol', 'simpan', 'customer', 'service', 'maya', 'xai50a', '4gb', 'mytelkomsel-reward', 'kak', 'tuan', 'mnwrkan', 'minim', 'lkp', '085283011615', 'asswrwb', 'rsup', 'provinsi', 'antar', 'warga', 'obat', 'selese', 'mana', 'plgh', 'penujak', 'user', 'pasword', '28feb', '17gb', '300min', 'music', '75rb', 'aslamu', 'alaikum', 'brp', 'mil', 'ukur', 'botolanx', 'bsa', 'bli', 'ecer', 'ni', 'psan', 'airx', 'stu', 'kira2', 'jm', 'bsok', 'insya', 'allah', 'mf', 'siang', 'pijaman', 'baunga', 'perthn', 'wahtsahp', '087704197222', 'ppinjaman', 'bas', 'watsahp', '085333103541', '085221661327', '085825106988', 'panjaman', 'buku', 'tabung', 'untuh', 'wahatsap', '082260512778', 'menawarkn', '085348744252', 'satu', 'kardus', 'siaga', 'pembyran', '911', 'ktk', 'jumat', 'm3n4w4rk4n', 'p1njaman', 'r1ng4n', '25-30', '085387119440', 'atas', 'bonusdisney', '98', 'pestarakyatbri', '35', 'und1an', '150699', 'britama-simpedes', 'kini', 'aktfkn', '50rban', 'combo-sakti', 'exadana', 'visindo', 'exadanavisindo', 'serba', '550', 'toko', '085215031128', 'mnawark', 'pijmn', 'minm', 'l', '0853-1405-7745', 'bingung', 'kl', 'maen', 'daftarin', 'telkomselmu', 'ribet', 'potong', 'rp50rb', 'fortumo', 'mini', 'days', '12000', '133', '140', 'freefire', 'dirumahterusterhibur', 'duniagames', '35rban', '085955106477', '125jt', 'da', 'ri', 'progran', 'h', 'o', 'e', '25477blw', 'layanan-33', 'ultimited', '312h58j', 'telkomsel2021', 'lm', '0823-9954-2006', '73000', '03', '20feb21', 'menangin', 'samsung', 'a02s', 'kuy', 'uuh', 'tak', 'bicara', 'balik', 'assalamuailakum', 'barangkaliada', 'megajukan', '085386583137', 'rp20rb', '500mb', '999', 'disney1pre', '10apr', 'birthday', 'sale', '99', 'ongkir', 'se-indonesia', 'luar', 'sebut', 'rp90rb', '22gb', 'youtube-an', 'sosmed-an', 'fb-ig', 'tiktok-an', 'ketenganunlimited', '1bln', 'join', 'nntn', 'marvel', 'studios', 'gpsh', 'gohppqburar', 'streaming', 'premium', '20ribu', 'ds', 'a3', '191502', 'suka', '150mnttlpn', '400sms', '15rban', 'gaji', 'csu', 'cash1ok', 'box', 'office', 'maxendeal12gb', '60gb', '164rb', 'wow11', 'maret', 'edukasi', 'conference', 'jaring', 'rp6rb', 'chr1', 'chr2', 'ho', '6apr', 'tnc', '683287', 'michat', 'sg', '8fx317vnfgl', 'jgn', 'curi', '705933', 'mnt', 'tips', 'lzd', 'nx63pbktnz2', 'blokir', 'atur', 'profil', 'sibuk', 'tidur', 'dsb', 'tiket', 'umroh', 'manager', '330', '180', 'unreg', '83838', 'tix', '462477', 'xg86vu2hwt7', 'discord', '650', '229', 'rusak', 'sering', '75rban', 'konten', '5500', 'xm', 'spasi', '619597', '02152971540', 'nila', 'ppn10', 'triyakom', '61f108682f69489283baecb53d31f680', 'ibadah', 'khidmat', 'enggak', 'telpon', 'olah', 'raga', 'susah', 'angkat', 'rp500', 'token', 'listrik', 'hotelmurah', 'hmlistrik', 'dlm', 'debit', 'bnicall', '1500046', '877558', '1568', '3ipxpwmulq8b', 'perangkat', 'goo', 'gl', 'lhcs9w', 'reg', '5272011809000004', '52720133129', '101468', 'grab', 'activation', 'gac', 'not', 'h9cmnjtz1r6', 'ovo', '7934', 'kepada', '1500696', 'tseljoox', 'sosok', 'misterius', 'the', 'penthouse', 'ke-3', 'phouse', 'kawatir', '22jun', 'sbgai', '100juta', 'slah', 'ld', '385ua27', 'lnfo', 'undian-pertamina2021', 'awal', 'wifi', 'orbit', 'tokped', 'cicil', 'orbittokopedia', 'skema', 'halo', 'didik', 'ajak', 'temen', 'kelas', 'kam', 'mnawarkan', 'pnjmn-online', '5jt-5oojt', '082191745771', 'mnwarkan', '-mudah', '5jt-300jt', '6285251588854', 't0to', 'terpecaya', 'p4sar4n', 're5mi', 'd3pos1t', 'price', 'price3', 'cambo', 'b0nu5', 'roterpecaya', 'tncr1', 'preorder', 'galaxy', 's21', 'series', 'bundling', '160gb', '3bln', 'dsini', 'mnerima', 'syrat', 'sngt', 'mdh', 'cpt', '082399088209', 'mlbb', 'pubg', 'transferkuota', 'yeay', 'cap', 'jempol', 'udah', 'rp20', 'check-in', 'rp5', 'alamat', 'website', 'cxes', 'site', 'mjyzmq', 'xelj0nhjw1', 'bgi', 'lnkap', '4m4n', 'terperc4y4', '082149407947', 'beritahu', 'bukalapak', '93383', 'error', 'monitor', 'wawan', '085224447446', 'product', 'england', 'kacamata', 'x-ray', 'fungsi', 'perti', 'kain', 'ramik', 'logam', '085394142233', 'topping', 'ceria', 'allnet', '6000', '6285158617xxx', '2021-01-02', '36', '6285238474xxx', '2017-10-31', '07', 'kejar', '10x', 'kejarsms', 'menerim4', 'd4ri', 'k4ntor', 'pus4t', 'dana-bpjs2021', 'kembali', '30min', 'akivasi', 'apr', 'hore20', 'utbk', 'class', 'mentor', 'pahamify', 'ioc', 'prabayar', 'input', '1822', '8495', '4362', '6743', '7519', 'idpel', '45029429896', '67', 'kwh', 'salurandanabpjs2021', '25fr47', 'd4ft4r', 'dmbet99', 'dmb3t99', 'ker', 'bo-l4', 'on-line', 'd1ng-dong', 'g4mes', 'takut', 'all', '5hope3', 'layanan-progran63', 'syarat', 'jokernet88', 'j0kern3t88', 'deals', 'shopeepay', '14rb', 'koin', 'shopeepay2', 'nita', '085223955574', 'pin74m4n', '50-500', '566', 't4np4', 'j4min4n', 'd3p051t', 'emas', 'mas', 'gunungsari', 'fleksibel', 'taksir', 'tinggi', 'map', 'shorturl', 'at', 'bmjm3', '081936722710', '113-001-510-3165', 'dewi', 'wulandari', 'keredit', '50jt-500jt', 'adm', '0823114511888', 'fitri', 'thr', 'tiba', 'serbu', 'apr-2', 'mei', 'baju', 'muslim', 'wanita', 'dptkn', 'tiap', 'blnja', '300rb', 'jp', 'kali', 't0', 'jayapo', 'j4y4p-k3r', 'b4nd4r', 'dna', 'usha', 'jmnan', 'bnga', 'dn', 'mnmal', '0858-4537-5373', '085238474786', 'ramadhan', '220', 'siap2', '7-9', '0213-788-563', 'fatimah', 'bgt', 'lupa', '234712', 'br0ve64s', 'br0veg4s', 's17us', 'd1n9-d0ng', 'sa', 'kong', 'c3-m3', 'batam', 'lucky', 'plaza', 'stock', '500rb', 'iphone', 'oppo', 'relmi', 'redmi', 'grup', 'toko-batam', 'b0-l4', 'd1n9-d0n9', 'sl0tgame', 'ahabet', 'cutt', 'ahab3t', '6285373144625', '2021-06-15', '888', 'laptop', 'smartphone', 'rediapp']\n"
     ]
    }
   ],
   "source": [
    "# gabungin semua data yang sudah dipreprocessing jadi satu list term (tanpa ada yg double)\n",
    "term = []\n",
    "termMerging(df, df[\"teks\"], term)\n",
    "print(term)"
   ]
  },
  {
   "cell_type": "code",
   "execution_count": 16,
   "id": "2ec9748d-18c6-400c-b420-8344236dc476",
   "metadata": {},
   "outputs": [
    {
     "name": "stdout",
     "output_type": "stream",
     "text": [
      "['wow', 'selamat', 'ga', 'kuota', 'gratis', 'dari', 'perintah', 'bisa', 'ambil', '5gb', 'rp1', 'perak', 'yuk', 'raih', 'hingga', '100gb', 'bit', 'ly', 'tbswr', 'desember', 'raya', 'hari', 'hak', 'asasi', 'manusia', 'maju', 'tegak', 'semua', 'hot', 'promo', 'isi', 'ulang', 'skr', 'min', '50rb', 'cashback', '3gb', '10rb', '1gb', '5rb', 'cashback25', 'bonus', 'utk', 'nelp', 'sms', 'nomor', 'im3', 'internetan', 'hotpromo', 'super', 'deal', '25rb', 'dpt', '12gb', 'beli', 'whatsapp', 'official', 'ooredoo', 'klik', 'im3fs12', '12hari', '9-20des', 'pilih', 'di', 'hakim', 'ganteng', 'kim', 'kyu', 'naksir', 'chorong', 'apink', 'serial', 'drama', 'romance', 'special', 'law', 'nonton', 'sekarang', 'trueid', 'https', '3oghdd1', 'sim', 'card', 'resmi', 'dapat', 'bantu', 'dana', 'subsidi', 'rp', 'pin', 'menang', 'subsidi4', 'cuma', 'nelpon', 'puas', 'lama', 'ayo', 'cek', 'paket', 'hanya', 'kamu', 'lho', 'musim', 'belanja', 'byk', 'butuh', 'aju', 'ucan', 'saja', 'pinjam', 'digital', 'aman', 'plus', '50gb', 'do', 'cs', '021-30055300', 'dsi', 'topup', 'pulsa', 'hasil', 'via', 'i-banking', 'mandiri', 'kode', 'trx', 'saat', 'terima', 'kasih', 'guna', 'indosat', 'onnet', 'aktif', 's', 'd', 'impoin', 'dri', 'msk', 'akun', 'you', 've', 'earned', 'valid', 'until', '31-12-2021', 'redeem', 'w', 'attractive', 'rewards', 'imnm3', 'horee', 'udh', 'pakai', 'data', 'mau', 'lagi', 'daftar', 'http', 'dpktnc', 'pagi', 'sy', 'pegawai', 'unram', 'informasi', 'kpd', 'serta', 'wawancara', 'ecek', 'link', 'zoom', 'email', 'masing2', 'yang', 'blm', 'kirim', 'hubung', 'nomer', 'ini', 'terimakasih', 'cpns', 'kemdikbud', 'go', 'id', 'umum', 'pengumuman-tentang-penundaan-pelaksanaan-seleksi-kompetensi-bidang-skb-wawancara-dan-tes-praktik-mengajar-micro-teaching', 'index', 'html', 'info', 'mndptkan', '75jt', 'tiktok', 'cashkode', 'kbr99d7', 'silah', 'tiktokers', 'tambah', '60mnt', 'telp', 'sama', 'xl', 'laku', '1hari', 'dgn', 'tuju', 'bijak', 'baru', 'co', 'kebijakan-privasi', 'balas', 'lc', 'xnc50b', 'harap', 'hadir', 'bpk', 'ibu', 'pd', 'rabu', 'pkl', 'konfirmasi', 'ruang', 'psikometri', 'rsj', 'indikator', 'pengaruh', 'sebar', 'covid-19', 'mobilitas', 'duduk', 'cakup', 'vaksinasi', 'patuh', 'prokes', 'mampu', 'sakit', 'waspada', 'covid19', 'kejut', 'uitah', '54mb', 'bayar', 'qris', 'imkas', 'install', 'promosimkassms', 'imkassms', 'smsccim3', 'sedang', 'baik', 'nikmat', 'terus', 'jam', 'khawatir', 'jebol', 'myim3', 'your', 'apple', 'code', 'is', 'don', 't', 'share', 'it', 'with', 'anyone', 'com', 'yth', 'bapak', 'tawar', 'online', 'bunga', 'prtaun', 'minimal', '2-300jta', 'sdh', 'bnyk', 'mngg', 'b0sq', 'lsng', 'kt', 'byr', 'brppun', 'dft', 'dis1tu5', 'jd', 'onli-ne', 'b0-la', '5l0-t', 'casi-n0', 'p0-ker', 't0-gel', '0nli-ne', 'skrng', 'dilin-k', 'hokibet5', 'utama', 'transaksi', 'myxlapp', 'page', 'nov', 'rp15000', 'registrasi', 'xl-mu', 'kartu', 'pasuk', 'masa', 'tenggang', 'segera', 'apa', 'komunikasi', 'tdk', 'putus', 'xj008b', 'sisa', 'layan', 'oopss', 'ooredoo-nya', 'portal', 'i', 'ncnd', 'in', 'u', 'nc', 'freedom', 'internet', 'zone', 'rp15rb', '300mb', 'm3cpx', 'kpn', '11gb', '30hari', 'rp22rb', 'yakin', 'gak', 'tarik', 'intip', 'aja', 'dulu', 'lain', 'jg', 'im3hotpromo', 'sd', '15nov', 'gas', 'ksh', 'isipulsa', 'cb', '10rb-cb50', '3hr', '25rb-cb100', '50rb-cb100', '3gb3hr', '100rb-cb100', '4gb5hr', 'pt', 'rkb', 'gold', 'beri', 'profit', '-30', 'per', 'www', 'rkb-gold', 'harga', 'pas', 'kantong', 'tetap', 'penuh', '4rb', '6gb', '18rb', '30hr', 'diskon', 'unlimited', 'makin', 'gede', '25gb', 'ada', 'm3mkd', 'prtahun', '2-300jt', '0815-2507-559', 'shopee', 'slmt', 'anda', 'mendaptkan', 'hadiah', 'ke-2', 'tunai', '185jt', 'ad25md47', 'info-bigsale-11-11', 'tren', 'indonesia', 'naik', 'pusat', 'rekreasi', 'disiplin', 'vaksin', 'lengkap', 'dosis', 'spesial', 'buat', 'rp10jt', 'aplikasi', 'lebih', 'cepat', 'stabil', 'kttm3', 'dg', 'tarif', 'dasar', 'km', 'hemat', 'pkt', 'mulai', '15rb', '32gb', 'modal', 'usaha', 'siap', '5jt', '500jt', 'ringan', 'agen', 'pin-ol', 'percaya', 'assalamualaikum', 'cair', 'ksp', 'seluruh', 'minat', 'kami', 'chat', 'budi', 'galery-shopee2021', 'tetaphappy', 'tunggu', 'lg', 'kisah', 'sekolah', 'pasto', 'dptin', 'trf', '2tsihfy', 'bls', 'ketik', 'hindar', 'lokasi', 'bahaya', 'padat', 'orang', 'tutup', 'dan', 'atau', 'sempit', 'ventilasi', 'udara', 'buruk', 'abai', 'taruh', 'keluarga', '2-500jt', 'm-dptkan', '155jta', 'giveaway', 'tik-tok', 'f577a79', 'lanjut', 'giveaway-tiktok25', 'minpinjaman', '5jt-500jt', 'useetv', 'verification', 'for', 'subscription', 'use', 'this', 'to', 'finish', 'github', 'authentication', 'givewaytiktok', '155juta', 'giveawaytiktok297', 'octa', 'buka', 'investasi', 'tahun', 'silver', '1jt', '19jt', '4jt', '85jt', 'platinum', '8jt', '200jt', 'octainvestama4d', 'dan4', 'pinjaman', 'langung', 'rendah', 'bulan', '2jt', 'm-dptkn', '37jt', 'program', 'bpjsinfo', 'bantuan-dana3', 'unduh', 'pedulilindungi', 'juga', 'lindung', 'diri', 'peduli', 'resiko', 'xj008g', 'otp', 'rahasia', 'minta', 'nmr', 'pada', 'sdg', 'panggil', 'hub', 'beberapa', 'istimewa', 'dptkan', '3hari', 'minimum', '7hari', 'lihat', 'apps', 'myxl', 'myxl4you', 'xnd84b', 'enggeh', 'trims', 'verifikasi', 'ubah', 'faskes', 'pertama', 'nke', 'ustadz', 'ramli', 'bengkel', 'sertifikat', 'baiq', 'nurlaeli', 'hidayat', 'nik', '52xxx01', 'sedia', 'pdl', 'c', '1a1gb4dg', 'akses', 'mudah', 'lewat', 'playstore', 'appstore', 'tp', 'muncul', 'nya', 'tes', 'sm', 'plggh', 'handphone', 'berkah', 'pmnng', 'pertaminaberbagi47', 'rek', 'side', 'pk', 'aji', 'kadaluarsa', 'waktu', 'menit', 'f43sp', 'yfun', 'mik', 'kalo', 'prya', 'besok', 'titip', 'stnk', 'nike', 'gih', 'maaf', 'ganggu', 'kmi', 'sini', 'menarwarkan', 'pinjman', 'dll', '5-500jt', 'jelas', 'm-dpatkan', 'c3k', 'pertamina', 'pertamina939', 'langgan', 'hape', 'coin', 'tukar', 'jadi', 'pak', 'alamatx', 'sendiri', 'insyaallah', 'bsk', 'dah', 'mtor', 'gk', 'dpake', 'td', 'sudah', 'nsbh', 'bsi', 'ex', 'bnis', 'update', 'proses', 'konversi', 'rekening', 'weekend', 'banking', 'sabtu', '30-14', 'outlet', 'tentu', 'bsiweekendbanking', 'ktntuan', 'protokol', 'dlakukan', 'mobile', 'call', 'tekan', 'slalu', 'wspada', 'thdp', 'tipu', 'sidang', 'mpr', 'agustus', 'konvensi', 'ketatanegaraan', 'rangka', 'lapor', 'kerja', 'lembaga', 'negara', 'pesan', 'das', 'beauty', '175jta', 'ck805ku', 'program-resmi427', 'sakti', '100ribu', 'poin', 'langsung', 'voucher', 'joox', 'vip', 'aktivasi', 'loyal3', '12ags21', 'skb', 'suzuki', 'carry', 'pick', 'up', 'dp', 'juta', 'banyak', 'bos', 'ku', 'mesan', 'firman', 'marketing', 'lombok', 'saya', 'kerabat', 'rencana', 'mobil', 'fee', 'krtu', 'dgunakn', 'atm', 'tnp', 'biaya', 'rkening', 'sluruh', 'cbng', 'trdkt', 'ppkm', 'darurat', 'selalu', 'faqbsi', 'miq', 'mhn', 'msh', 'rmh', 'biar', 'tiang', 'anter', 'nnti', 'air', 'saing', 'total', 'skrg', 'cm', 'rp1500', 'hr', '50sms', 'axis', 'xpf01a', 'haji', 'kirimak', 'izaura', 'dus', 'soponyono', 'uang', 'senin', 'sore', 'wah', 'jari', 'ne', 'kesini', 'plg', 'omg', '100mb', 'download', 'mytelkomsel', 'tsel', 'me', 'entertainment', 'slmat', 'trpilih', 'mndpatkan', 'bntuan', 'idr', 'lbih', 'lngkpnya', 'silahkn', 'bangkesbpjs', 'locked', 'pemberitahuan', 'trakhir', 'pr0gram', 'vrifikasi', 'surprise', 'giveaway07', 'main', 'sl0tguru88', 'sg88jp', 'berapa', 'qq39bet', 'daftarqq39bet', 'punya', 'hangus', 'tunjuk', 'ktp', 'drive-thru', 'xlaxiata', 'indonesiabangkit', 'sinovac-biofarma', 'br196a', 'menwrkn', 'barang', 'jatuh', 'tempo', 'gadai', 'ori', 'balailelangresmi73', 'facebook', 'laz', 'nxcarlw', 'rp10', 'rwrd5gb', 'bank', 'syariah', 'salam', 'sukses', 'oleh', 'plan', 'a', 'tgl', '25-5-2021', 'b000112785', 'sponsor', 'pasang', 'jumlah', 'admin', '-7', 'transfer', 'r000014644', 'b000035978', 'mu', 'belum', 'mndapatkan', 'dng', 'lnjut', 'shopee-berbagi-2021', 'milik', 'mb', '20-05-2021', 'lokal', 'gb', 'perdana', '17-06-2021', 'va', 'danabpjs-2021', '25b547', 'b', 'member', 'r000014841', 'april', 'simcard', 'trdftar', 'bpjs', 'urut', 'danabantuankesbpjs', 'masuk', '25qr47', 'ke-7', 'bpjssalurandanabantuan47', 'jt', '-', 'mud', 'whatsaap', 'ass', 'btuh', 'tmbhan', 'mdal', 'hormat', 'mnwaran', 'pnjman', 'brbsis', 'rndah', 'thun', 'dlam', 'tnpa', 'anggun', 'whatsup', '17-12-2021', 'b000145719', 'maksimal', 'diskusi', 'org', '15gb', 'pro', 'zoompro', 'b000145718', 'jual', 'kawin', 'renda', 'kntr', 'c3lc1u5k', 'dana-bantuanbpjs2020', 'pesungihan', 'tumbal', '-dana', 'goib', '-penglaris', '-bisnis', '-asmara', 'mbah', 'mijang', 'kredit', 'agun', '500jta', '0852-4857-6969', 'jo1n', 'r3c0v3ry', 'inve5t4s1', 'win', '7jt', '15jt', '32jt', '40jt', '80jt', '95jt', 'investasidana-sukses', '25f4777', '1nf0', 'hadiah7700', 'sb', 'finance', '-khusus', 'ekonomi', '-proses', 'modah', 'cpat', 'angunan', '5jta-500jta', 'sulit', 'bikin', 'pnjmn', 'amanah', '5juta', 'sammpai', '500juta', 'cp4t', 'd4n', 'trperc4ya', 'wktux', 'rupiah', 'jamin', 'shd', 'ojk', 'cht', 'koperasi', 'mnwrkn', '000-', 'dibaw', 'undian-pemenang', 'bri', 'n', 'risma', 'kre4dit', 'pinter', 'rakyat', '5jt-500t', 'tampa', 'prthn', '0857-5780-4757', 'mendapa', 'ooo', 'kliklink', 'galeripemenang012', '1nfo', 'galerihadiah182', 'galerihadiah47', 'solusi', 'finansial', '-u', '-min', '-max', '700jt', '-langsung', 'stelah', 'beli1', 'gratis1', 'burger', 'bbq', 'beef', 'rasher', 'coke', '50k', 'king', 'dekat', 'tselbk281', 'meal', 'offer', '2pc', 'ayam', 'rice', 'tselbk271', 'mozzarella', 'cheeseburger', 'regular', 'fries', 'tselbk261', 'minum', 'pun-grande', 'size', 'starbucks', 'exc', 'airport', 'tinggal', '4g', '4g15', 'untuk', 'ke', 'hotoffer', 'telegram', 'can', 'also', 'tap', 'on', 'log', 'login', 'akan', 'akhir', '4-cheese', 'whopper', 'jr', '63k', 'tselbk251', 'pc', 'waffle', 'rp65', 'tselbk241', 'telkomsel', '1hr', 'kartuhalo', '138gb', '6bln', '100rb', 'vivo', 'grapari', 'store', 'erafone', 'haloerafone', 'khusus', '10gb', '600mb', 'free', 'rol', 'md', 'ajar', 'tanggal', 'wib', 'telah', 'kena', 'tariff', 'normal', 'chicken', 'strips', 'nasi', 'ribu', 'nett', 'cfc', 'transmart', 'mataram', 'classic', 'crispy', 'rp50', 'tselbk199', 'semeton', 'youtube', 'sosmed', 'unlimitedmax', '70rban', 'mytsel', 'ksmptn', 'minggu', 'pulsabln9', 'teman', 'yes', 'contoh', '5rb-an', 'sempat', 'hpsamsung', 'smartwatch', 'saldo', 'linkaja', 'kuotabelajarbalnus', 'habis', 'sila', 'tsel1', 'my', 'mndptkn', 'murah', '10rp', 'reward', 'instagram', 'riah', 'keteng', 'mahal', 'loh', 'aktifin', 'nsp', '7hr', 'aku', 'rela-tri', 'suaka', 'nspsk', 'legends', 'gratiss', 'nanti', 'ckp', 'datang', 'pergi-mahen', 'berkali2x', '6bulan', 'jalapeno', 'tselbk121', 'bagai', 'telepon', 'gift', 'disney', 'hotstar', 'non', 'n1s', '100pulsa', 'adalah', 'panjang', 'g-875529', 'google', 'g-765034', 'collect', 'tolak', '21-09-2020', '19-06-2021', '320-294', 'ketuk', 'taut', 'v', 'jangan', 'bagi', 'dengan', '4sglq1p5sv6', 'ilmupedia', 'cakap', 'ruangguru', 'rp100rb', 'racingkuota', 'salah', 'sn', 'mercy', 'gla200', '1poin', 'sya', 'malaysia', 'tolong', 'ncik', 'hrta', 'serakah', 'istri', 'jka', 'si4p', 'ch4t', 'permisi', 'siapa', 'tahu', 'kembang', 'rp75000', 'combo', 'pinjamamn', 'youngjoy', 'technology', 'limited', 'diamonds', 'bang', 'play', 'ppn', 'jasa', 'gopay', 'metode', 'games', 'video', 'kuotabelajar', 'tokopedia', 'memberitahu', 'pihak', 'kasus', 'perlu', 'diamond', 'hp', 'ya', 'indodax', 'mnormanmm', 'stop', 'janggal', 'rp0', 'jang', 'ganggu-shine', 'of', 'black', 'blu', 'by', 'bca', 'app', 'redi', 'redixblu', 'ken', 'cobain', 'zoompro1', '250rb', 'untung', 'cara', 'bni', 'menu', 'smsbankingbni', 'ikan', 'tidak', 'tonton', 'wandavision', 'soul', 'grey', 'anatomy', 'tayang', 'global', 'dp1mm', '200mnttsel', '400smstsel', 'bebas', 'line', 'musicmax', 'gamesmax', 'maxstream', 'batas', 'wajar', '20gb', 'status', 'henti', 'lalu', 'and', 'l0cked', '47aa277', '0822-9718-2422', 'inf0', 'l1nk', 'rejekibpjskes22', 'pusing', 'cri', 'jngan', 'khawtir', 'slusinya', 'membntu', 'prekonomian', 'masyrkat', 'minmal', '5jt-500juta', 'bermnt', 'lngsung', 'slamat', 'mendptkan', 'tik21k77', 'terpilihm-dpatkan', 'layanan-cs67', 'hack', 'talk', 'event', 'upnormal', 'coffee', 'oktober', 'pukul', 'wita', 'nih', 'redisms2', 'sampe', 'viu', 'vidio', 'rp25rb', 'gigamax', 'gigamaxfit', '21nov', 'infopertamina3', '0822-9718-2399', 'linknya', 'csbantuanbpjs', 'kupon', 'mendpatkan', 'degan', 'pemen4ng', 'cs-pertamina459', 'ramai', 'promosi', 'rp10ribu', 'iklan', 'promositepat23', 'twitter', '14-10-2021', '24-10-2021', 'baca', 'chatting', 'ina', 'ambon', 'brkat', 'ki', 'ageng', 'tembus', '4angka', 'kemaring', 'sydney', 'cobah', 'tlp', 'tau', 'sperti', 'm-daptkan', 'b4ntu4n', 'dar1', 'kantor', 'bpjsindonesia', 'subsid1', 'formation', 'mypertamina04', 'whsp', 'gojek', 'bukan', 'secure', 'pun', 'bahkan', 'karna', 'ngakses', 'gopaymu', 'safety', '4pkezqv9ubl', 'kunjung', 'cabang', 'selesai', 'latih', 'vsga', 'fga', 'ikut', 'pasca', 'gabung', 'channel', 'pascapelatihan2021', 'tagih', 'spaylater', 'team', 'bossqe', 'bapau', 'baim-paula', 'ucap', '35jt', 'kdr99d7', 'chatwa', 'pacific', 'trader', 'jdilah', 'bisnis', 'nmor', 'propit', '-60', 't-prcya', 'web', 'pacificgt', 'tlgram', 'pacificglobaltrader', 'celana', 'jogger', 'cukup', 'buru', 'toped8', 'mohd', 'norman', 'mukhallish', '52xxx04', '19z3v6hd', 'myads', 'jackp0t', 'slot', 'terlengk4p', 'br0t', '63l', 'dik', 'si', 'mtn6d', 'b4cc4r4t', 'ding', 'dong', 'gel', 'bo', 'la', 's1n0', 'sbo', 'mi', 'yaitu', 'd4n4h', 'muda', '350jt', 'gelombang', 'tiga', 'masker', 'jaga', 'jarak', 'cuci', 'tangan', 'sabun', 'kerumun', '175juta', 'situs', 'infomenarik55', 'texasp', 'k3rcc', 'tpk999', 'cambodia', 'hongkong', 'mino', 'cuan', 'rp30rb', '30gb', 'n1a', 'besar', 'x3', 'china', 'japan', 'singapore', 'j0k3rb3t888', 'hkb09', 'ce', 'hkb', '12-11-2021', 'mud4h', 'cep4t', 'minim4l', 'bung4', '0822-9060-2686', 'nasabah', 'sampai', '100jt', 'penerima-bantuan2021', 'layanan-cs47', 'tangkas', '0maha', 'p', 'k3r', '0n', '36d', 'dragon', 'tiger', 'rg0b3t', 'hkb89', 'kemendikbud', 'bs', '5itus', '5icb0', 'live', 'hi-lo', 'bola', 's8083t', 'game', 'pr0m0', '8080sp0rt', '8080sp0r7', 'comsakmax6', 'pulsaoct', 'asik', 'sahabat', 'sma', 'bintang', 'anneth', 'zara', 'ari', 'irham', 'ayah', 'peran', 'enda', 'ungu', 'film', 'kau', 'maxstreamgala', '75gb', '16rb', 'ksemptan', 'pulsapljr10', 'j01n', 'gitart', 'g3l', 'cardgames', 'nusantara', 'sgp', 'hk', 'sb0', 'ca', 'sino', 'sportsbook', '3mzvn6w', 'seru', 'mendpatkanbantuan', 'cs-pertamina-75', 'ntn', 'temu', 'sesuai', 'combo1', 'k', 'm1', 't4w', 'rkan', 'p1nj', 'm', 'cep', 'c4ir', 'o853', 'rg0', 'gymgv', 'depo', 'domino', 'po', 'b0', 'sb08et', 'spb977', 'ptpertamina2021', 'extra', 'bln', 'combosakti', 'rumah', 'lbh', 'lancar', 'pulsabn9', 'tingkatin', 'bmri', 'lttsel', 'rp10rb', '120min', '200sms', 'wow25', 'life1', 'sep', 'banget', 'okt', 'rp10000', '75min', '30sms', '2hari', 'pd10', 'jk', 'bosen', 'dirumahaja', 'bibit', 'a0tl8ay', 'qim', 'ngaku', 'pemenang-pesta2021', 'm-dapatkan', '175jt', 'wha012', 'whatsapp-indonesia2021', 'paypal', 'security', 'expires', 'minutes', '2x', 'lipat', '2gb', '8gb', 'm3hpr', 'hidup', 'santuy', 'kalau', 'full', 'krn', 'hepi', 'nyusul', '5rb-cb', '10rb-cb', '25rb-cb', 'ingin', 'lelang', 'kualitas', 'asli', 'bumn', 'alam', 'jawab', 'tanya', 'singkat', 'undi', 'pemenangshopee2021', 'hati', 'lazad', 'daftar-pemenang87', 'trading', 'forex', 'saham', '600rb', 'get', '120jt', 'open', 'tradingforexsaham', '50jt', '1faw7', 'baim', 'wong', 'm3rco', 'resm', 'whastapp', 'gebyarshopee275', '5rb-cashback', '10rb-cashback', '25rb-cashback', '5hari', '085737xxx', 'pemenang-shopee12-12', 'lazada', 'ck643z77', 'undian-ptlazada39', 'sifat', 'jenius', 'reset', 'password', 'menawarin', 'arwana', 'red', 'ana', '60cm', 'tangkar', 'hrg', 'smp', 'sblm', 'dapetin', 'imdm3', 'cocok', 'whatsapp-inc755', 'real', 'm3inp', 'giveway', '77hhba', 'paula', 'trimakasih', 'kepda', 'terpercayah', 'pnjaman', 'statusrbt', 'lucu', 'wajah', 'preman', 'iman', 'tampan', 'begajulan', 'pnjm', 'hai', 'yellow', 'ck64z77', 'undianptlazada-2021', 'dermawan', 'masalah', 'coam3', '00-24', 'krisis', 'pangan', 'saudara', 'tani', 'rugi', 'bangkit', 'an', 'yayasan', 'wakaf', 'layananact', 'kk', '0857-5673-3449', 'fire', 'fun', 'top', '35ipdie', 'vs230a', 'masih', 'rbt', 'otomatis', 'ganti', 'lagu', 'tenda', 'ungsi', 'palestina', 'suriah', 'lebanon', 'juang', 'lawan', 'dingin', 'cuaca', 'perut', 'lapar', 'tahan', 'salur', 'aksi', 'tanggap', 'dalam', 'tingkat', 'kuis', 'mohon', 'partisipasi', 'survey', 'surveyxl2', 'fb', 'ig', 'spotify', '30rban', 'ekstra', 'internet2gb', 'hny', 'xtraul', 'simpel', 'bwa', 'botol', 'simpan', 'customer', 'service', 'maya', 'xai50a', '4gb', 'mytelkomsel-reward', 'kak', 'tuan', 'mnwrkan', 'minim', 'lkp', 'asswrwb', 'rsup', 'provinsi', 'antar', 'warga', 'obat', 'selese', 'mana', 'plgh', 'penujak', 'user', 'pasword', '28feb', '17gb', '300min', 'music', '75rb', 'aslamu', 'alaikum', 'brp', 'mil', 'ukur', 'botolanx', 'bsa', 'bli', 'ecer', 'ni', 'psan', 'airx', 'stu', 'kira2', 'jm', 'bsok', 'insya', 'allah', 'mf', 'siang', 'pijaman', 'baunga', 'perthn', 'wahtsahp', 'ppinjaman', 'bas', 'watsahp', 'panjaman', 'buku', 'tabung', 'untuh', 'wahatsap', 'menawarkn', 'satu', 'kardus', 'siaga', 'pembyran', 'ktk', 'jumat', 'm3n4w4rk4n', 'p1njaman', 'r1ng4n', '25-30', 'atas', 'bonusdisney', 'pestarakyatbri', 'und1an', 'britama-simpedes', 'kini', 'aktfkn', '50rban', 'combo-sakti', 'exadana', 'visindo', 'exadanavisindo', 'serba', 'toko', 'mnawark', 'pijmn', 'minm', 'l', '0853-1405-7745', 'bingung', 'kl', 'maen', 'daftarin', 'telkomselmu', 'ribet', 'potong', 'rp50rb', 'fortumo', 'mini', 'days', 'freefire', 'dirumahterusterhibur', 'duniagames', '35rban', '125jt', 'da', 'ri', 'progran', 'h', 'o', 'e', '25477blw', 'layanan-33', 'ultimited', '312h58j', 'telkomsel2021', 'lm', '0823-9954-2006', '20feb21', 'menangin', 'samsung', 'a02s', 'kuy', 'uuh', 'tak', 'bicara', 'balik', 'assalamuailakum', 'barangkaliada', 'megajukan', 'rp20rb', '500mb', 'disney1pre', '10apr', 'birthday', 'sale', 'ongkir', 'se-indonesia', 'luar', 'sebut', 'rp90rb', '22gb', 'youtube-an', 'sosmed-an', 'fb-ig', 'tiktok-an', 'ketenganunlimited', '1bln', 'join', 'nntn', 'marvel', 'studios', 'gpsh', 'gohppqburar', 'streaming', 'premium', '20ribu', 'ds', 'a3', 'suka', '150mnttlpn', '400sms', '15rban', 'gaji', 'csu', 'cash1ok', 'box', 'office', 'maxendeal12gb', '60gb', '164rb', 'wow11', 'maret', 'edukasi', 'conference', 'jaring', 'rp6rb', 'chr1', 'chr2', 'ho', '6apr', 'tnc', 'michat', 'sg', '8fx317vnfgl', 'jgn', 'curi', 'mnt', 'tips', 'lzd', 'nx63pbktnz2', 'blokir', 'atur', 'profil', 'sibuk', 'tidur', 'dsb', 'tiket', 'umroh', 'manager', 'unreg', 'tix', 'xg86vu2hwt7', 'discord', 'rusak', 'sering', '75rban', 'konten', 'xm', 'spasi', 'nila', 'ppn10', 'triyakom', '61f108682f69489283baecb53d31f680', 'ibadah', 'khidmat', 'enggak', 'telpon', 'olah', 'raga', 'susah', 'angkat', 'rp500', 'token', 'listrik', 'hotelmurah', 'hmlistrik', 'dlm', 'debit', 'bnicall', '3ipxpwmulq8b', 'perangkat', 'goo', 'gl', 'lhcs9w', 'reg', 'grab', 'activation', 'gac', 'not', 'h9cmnjtz1r6', 'ovo', 'kepada', 'tseljoox', 'sosok', 'misterius', 'the', 'penthouse', 'ke-3', 'phouse', 'kawatir', '22jun', 'sbgai', '100juta', 'slah', 'ld', '385ua27', 'lnfo', 'undian-pertamina2021', 'awal', 'wifi', 'orbit', 'tokped', 'cicil', 'orbittokopedia', 'skema', 'halo', 'didik', 'ajak', 'temen', 'kelas', 'kam', 'mnawarkan', 'pnjmn-online', '5jt-5oojt', 'mnwarkan', '-mudah', '5jt-300jt', 't0to', 'terpecaya', 'p4sar4n', 're5mi', 'd3pos1t', 'price', 'price3', 'cambo', 'b0nu5', 'roterpecaya', 'tncr1', 'preorder', 'galaxy', 's21', 'series', 'bundling', '160gb', '3bln', 'dsini', 'mnerima', 'syrat', 'sngt', 'mdh', 'cpt', 'mlbb', 'pubg', 'transferkuota', 'yeay', 'cap', 'jempol', 'udah', 'rp20', 'check-in', 'rp5', 'alamat', 'website', 'cxes', 'site', 'mjyzmq', 'xelj0nhjw1', 'bgi', 'lnkap', '4m4n', 'terperc4y4', 'beritahu', 'bukalapak', 'error', 'monitor', 'wawan', 'product', 'england', 'kacamata', 'x-ray', 'fungsi', 'perti', 'kain', 'ramik', 'logam', 'topping', 'ceria', 'allnet', '6285158617xxx', '2021-01-02', '6285238474xxx', '2017-10-31', 'kejar', '10x', 'kejarsms', 'menerim4', 'd4ri', 'k4ntor', 'pus4t', 'dana-bpjs2021', 'kembali', '30min', 'akivasi', 'apr', 'hore20', 'utbk', 'class', 'mentor', 'pahamify', 'ioc', 'prabayar', 'input', 'idpel', 'kwh', 'salurandanabpjs2021', '25fr47', 'd4ft4r', 'dmbet99', 'dmb3t99', 'ker', 'bo-l4', 'on-line', 'd1ng-dong', 'g4mes', 'takut', 'all', '5hope3', 'layanan-progran63', 'syarat', 'jokernet88', 'j0kern3t88', 'deals', 'shopeepay', '14rb', 'koin', 'shopeepay2', 'nita', 'pin74m4n', '50-500', 't4np4', 'j4min4n', 'd3p051t', 'emas', 'mas', 'gunungsari', 'fleksibel', 'taksir', 'tinggi', 'map', 'shorturl', 'at', 'bmjm3', '113-001-510-3165', 'dewi', 'wulandari', 'keredit', '50jt-500jt', 'adm', 'fitri', 'thr', 'tiba', 'serbu', 'apr-2', 'mei', 'baju', 'muslim', 'wanita', 'dptkn', 'tiap', 'blnja', '300rb', 'jp', 'kali', 't0', 'jayapo', 'j4y4p-k3r', 'b4nd4r', 'dna', 'usha', 'jmnan', 'bnga', 'dn', 'mnmal', '0858-4537-5373', 'ramadhan', 'siap2', '7-9', '0213-788-563', 'fatimah', 'bgt', 'lupa', 'br0ve64s', 'br0veg4s', 's17us', 'd1n9-d0ng', 'sa', 'kong', 'c3-m3', 'batam', 'lucky', 'plaza', 'stock', '500rb', 'iphone', 'oppo', 'relmi', 'redmi', 'grup', 'toko-batam', 'b0-l4', 'd1n9-d0n9', 'sl0tgame', 'ahabet', 'cutt', 'ahab3t', '2021-06-15', 'laptop', 'smartphone', 'rediapp']\n",
      "['10', '2021', '100', '50', '12', '123', '60', '189', '000', '717747', '087836275975', '30', '25000', '1209103415364038', '35291', '3', '34', '557', '8', '250', '17', '1', '09', '4', '24', '624641', '2', '082290163221', '0', '99971115182393', '4444', '641', '08', '11', '21', '20', '6', '08152335210', '2100', '085825534663', '087718858834', '085823390427', '7700', '185', '082250170207', '085656024445', '085796446430', '4881', '712885', '927026', '087787772297', '085221726262', '5458', '19', '14', '59', '28437', '0812916179180', '23411', '087833434477', '450603', '087787866977', '85251323939', '085238147508', '2000', '500', '75', '18', '00', '14040', '16', '087837589899', '7', '081917720669', '222', '363', '150', '257257', '175', '51345050', '466564', '5', '42', '242', '23', '82', '04', '200', '514', '840', '507', '340', '557557', '085348747397', '085340304479', '087788796547', '300', '082352630303', '082339339135', '600', '081215147499', '6285340130704', '085213725533', '082189443339', '082233764198', '0822', '1705', '7985', '085283195227', '4479', '0102', '1801', '539', '082346631967', '606', '58', '1000', '42350', '22', '2020', '40', '39', '08123456789', '844', '847', '188', '25001', '6285338647408', '89', '350', '38', '320294', '6285158442388', '62852382410', '02524500000637163815', '29', '06', '601131246148', '082316469276', '085341764479', '18480', '362183', '082291120869', '92400', '081246632537', '871951', '6282317685757', '141', '382622', '150911', '120000', '081240845590', '082268519889', '39805', '083113979577', '70', '995', '94', '101', '2359', '085214969127', '052632', '087882141504', '012803', '528756', '082251183665', '973528', '085233028807', '15', '9843', '082347317477', '6282344419262', '082359502768', '65', '845829', '355245', '51', '6281290710758', '6285386634551', '082397118699', '561475', '082210389778', '6282316492484', '465', '081230049774', '8682', '8345', '082297298621', '14000', '25', '505', '2681', '6254', '1287', '347001', '890920', '01', '9', '082148646816', '085824676275', '877630', '082279875479', '081243401157', '085888602577', '082215766627', '085311657297', '92', '817', '082296932649', '081543170499', '50000', '02', '660', '0000', '765', '1818', '6600003303', '082271370775', '085283011615', '087704197222', '085333103541', '085221661327', '085825106988', '082260512778', '085348744252', '911', '085387119440', '98', '35', '150699', '550', '085215031128', '12000', '133', '140', '085955106477', '73000', '03', '085386583137', '999', '99', '191502', '683287', '705933', '330', '180', '83838', '462477', '650', '229', '5500', '619597', '02152971540', '1500046', '877558', '1568', '5272011809000004', '52720133129', '101468', '7934', '1500696', '082191745771', '6285251588854', '082399088209', '082149407947', '93383', '085224447446', '085394142233', '6000', '36', '07', '1822', '8495', '4362', '6743', '7519', '45029429896', '67', '085223955574', '566', '081936722710', '0823114511888', '085238474786', '220', '234712', '6285373144625', '888']\n"
     ]
    }
   ],
   "source": [
    "teks_hapus = []\n",
    "for i in range(len(term)):\n",
    "    if(term[i] == '!'):\n",
    "        teks_hapus.append(term[i])\n",
    "    if(term[i].isnumeric()):\n",
    "        teks_hapus.append(term[i])\n",
    "        \n",
    "for i in range(len(teks_hapus)):\n",
    "    term.remove(teks_hapus[i])\n",
    "    \n",
    "print(term)\n",
    "print(teks_hapus)"
   ]
  },
  {
   "cell_type": "code",
   "execution_count": 17,
   "id": "76811501",
   "metadata": {},
   "outputs": [
    {
     "name": "stdout",
     "output_type": "stream",
     "text": [
      "[[1, 1, 1, 1, 2, 1, 1, 1, 2, 1, 1, 1, 1, 1, 1, 1, 1, 1, 1, 0, 0, 0, 0, 0, 0, 0, 0, 0, 0, 0, 0, 0, 0, 0, 0, 0, 0, 0, 0, 0, 0, 0, 0, 0, 0, 0, 0, 0, 0, 0, 0, 0, 0, 0, 0, 0, 0, 0, 0, 0, 0, 0, 0, 0, 0, 0, 0, 0, 0, 0, 0, 0, 0, 0, 0, 0, 0, 0, 0, 0, 0, 0, 0, 0, 0, 0, 0, 0, 0, 0, 0, 0, 0, 0, 0, 0, 0, 0, 0, 0, 0, 0, 0, 0, 0, 0, 0, 0, 0, 0, 0, 0, 0, 0, 0, 0, 0, 0, 0, 0, 0, 0, 0, 0, 0, 0, 0, 0, 0, 0, 0, 0, 0, 0, 0, 0, 0, 0, 0, 0, 0, 0, 0, 0, 0, 0, 0, 0, 0, 0, 0, 0, 0, 0, 0, 0, 0, 0, 0, 0, 0, 0, 0, 0, 0, 0, 0, 0, 0, 0, 0, 0, 0, 0, 0, 0, 0, 0, 0, 0, 0, 0, 0, 0, 0, 0, 0, 0, 0, 0, 0, 0, 0, 0, 0, 0, 0, 0, 0, 0, 0, 0, 0, 0, 0, 0, 0, 0, 0, 0, 0, 0, 0, 0, 0, 0, 0, 0, 0, 0, 0, 0, 0, 0, 0, 0, 0, 0, 0, 0, 0, 0, 0, 0, 0, 0, 0, 0, 0, 0, 0, 0, 0, 0, 0, 0, 0, 0, 0, 0, 0, 0, 0, 0, 0, 0, 0, 0, 0, 0, 0, 0, 0, 0, 0, 0, 0, 0, 0, 0, 0, 0, 0, 0, 0, 0, 0, 0, 0, 0, 0, 0, 0, 0, 0, 0, 0, 0, 0, 0, 0, 0, 0, 0, 0, 0, 0, 0, 0, 0, 0, 0, 0, 0, 0, 0, 0, 0, 0, 0, 0, 0, 0, 0, 0, 0, 0, 0, 0, 0, 0, 0, 0, 0, 0, 0, 0, 0, 0, 0, 0, 0, 0, 0, 0, 0, 0, 0, 0, 0, 0, 0, 0, 0, 0, 0, 0, 0, 0, 0, 0, 0, 0, 0, 0, 0, 0, 0, 0, 0, 0, 0, 0, 0, 0, 0, 0, 0, 0, 0, 0, 0, 0, 0, 0, 0, 0, 0, 0, 0, 0, 0, 0, 0, 0, 0, 0, 0, 0, 0, 0, 0, 0, 0, 0, 0, 0, 0, 0, 0, 0, 0, 0, 0, 0, 0, 0, 0, 0, 0, 0, 0, 0, 0, 0, 0, 0, 0, 0, 0, 0, 0, 0, 0, 0, 0, 0, 0, 0, 0, 0, 0, 0, 0, 0, 0, 0, 0, 0, 0, 0, 0, 0, 0, 0, 0, 0, 0, 0, 0, 0, 0, 0, 0, 0, 0, 0, 0, 0, 0, 0, 0, 0, 0, 0, 0, 0, 0, 0, 0, 0, 0, 0, 0, 0, 0, 0, 0, 0, 0, 0, 0, 0, 0, 0, 0, 0, 0, 0, 0, 0, 0, 0, 0, 0, 0, 0, 0, 0, 0, 0, 0, 0, 0, 0, 0, 0, 0, 0, 0, 0, 0, 0, 0, 0, 0, 0, 0, 0, 0, 0, 0, 0, 0, 0, 0, 0, 0, 0, 0, 0, 0, 0, 0, 0, 0, 0, 0, 0, 0, 0, 0, 0, 0, 0, 0, 0, 0, 0, 0, 0, 0, 0, 0, 0, 0, 0, 0, 0, 0, 0, 0, 0, 0, 0, 0, 0, 0, 0, 0, 0, 0, 0, 0, 0, 0, 0, 0, 0, 0, 0, 0, 0, 0, 0, 0, 0, 0, 0, 0, 0, 0, 0, 0, 0, 0, 0, 0, 0, 0, 0, 0, 0, 0, 0, 0, 0, 0, 0, 0, 0, 0, 0, 0, 0, 0, 0, 0, 0, 0, 0, 0, 0, 0, 0, 0, 0, 0, 0, 0, 0, 0, 0, 0, 0, 0, 0, 0, 0, 0, 0, 0, 0, 0, 0, 0, 0, 0, 0, 0, 0, 0, 0, 0, 0, 0, 0, 0, 0, 0, 0, 0, 0, 0, 0, 0, 0, 0, 0, 0, 0, 0, 0, 0, 0, 0, 0, 0, 0, 0, 0, 0, 0, 0, 0, 0, 0, 0, 0, 0, 0, 0, 0, 0, 0, 0, 0, 0, 0, 0, 0, 0, 0, 0, 0, 0, 0, 0, 0, 0, 0, 0, 0, 0, 0, 0, 0, 0, 0, 0, 0, 0, 0, 0, 0, 0, 0, 0, 0, 0, 0, 0, 0, 0, 0, 0, 0, 0, 0, 0, 0, 0, 0, 0, 0, 0, 0, 0, 0, 0, 0, 0, 0, 0, 0, 0, 0, 0, 0, 0, 0, 0, 0, 0, 0, 0, 0, 0, 0, 0, 0, 0, 0, 0, 0, 0, 0, 0, 0, 0, 0, 0, 0, 0, 0, 0, 0, 0, 0, 0, 0, 0, 0, 0, 0, 0, 0, 0, 0, 0, 0, 0, 0, 0, 0, 0, 0, 0, 0, 0, 0, 0, 0, 0, 0, 0, 0, 0, 0, 0, 0, 0, 0, 0, 0, 0, 0, 0, 0, 0, 0, 0, 0, 0, 0, 0, 0, 0, 0, 0, 0, 0, 0, 0, 0, 0, 0, 0, 0, 0, 0, 0, 0, 0, 0, 0, 0, 0, 0, 0, 0, 0, 0, 0, 0, 0, 0, 0, 0, 0, 0, 0, 0, 0, 0, 0, 0, 0, 0, 0, 0, 0, 0, 0, 0, 0, 0, 0, 0, 0, 0, 0, 0, 0, 0, 0, 0, 0, 0, 0, 0, 0, 0, 0, 0, 0, 0, 0, 0, 0, 0, 0, 0, 0, 0, 0, 0, 0, 0, 0, 0, 0, 0, 0, 0, 0, 0, 0, 0, 0, 0, 0, 0, 0, 0, 0, 0, 0, 0, 0, 0, 0, 0, 0, 0, 0, 0, 0, 0, 0, 0, 0, 0, 0, 0, 0, 0, 0, 0, 0, 0, 0, 0, 0, 0, 0, 0, 0, 0, 0, 0, 0, 0, 0, 0, 0, 0, 0, 0, 0, 0, 0, 0, 0, 0, 0, 0, 0, 0, 0, 0, 0, 0, 0, 0, 0, 0, 0, 0, 0, 0, 0, 0, 0, 0, 0, 0, 0, 0, 0, 0, 0, 0, 0, 0, 0, 0, 0, 0, 0, 0, 0, 0, 0, 0, 0, 0, 0, 0, 0, 0, 0, 0, 0, 0, 0, 0, 0, 0, 0, 0, 0, 0, 0, 0, 0, 0, 0, 0, 0, 0, 0, 0, 0, 0, 0, 0, 0, 0, 0, 0, 0, 0, 0, 0, 0, 0, 0, 0, 0, 0, 0, 0, 0, 0, 0, 0, 0, 0, 0, 0, 0, 0, 0, 0, 0, 0, 0, 0, 0, 0, 0, 0, 0, 0, 0, 0, 0, 0, 0, 0, 0, 0, 0, 0, 0, 0, 0, 0, 0, 0, 0, 0, 0, 0, 0, 0, 0, 0, 0, 0, 0, 0, 0, 0, 0, 0, 0, 0, 0, 0, 0, 0, 0, 0, 0, 0, 0, 0, 0, 0, 0, 0, 0, 0, 0, 0, 0, 0, 0, 0, 0, 0, 0, 0, 0, 0, 0, 0, 0, 0, 0, 0, 0, 0, 0, 0, 0, 0, 0, 0, 0, 0, 0, 0, 0, 0, 0, 0, 0, 0, 0, 0, 0, 0, 0, 0, 0, 0, 0, 0, 0, 0, 0, 0, 0, 0, 0, 0, 0, 0, 0, 0, 0, 0, 0, 0, 0, 0, 0, 0, 0, 0, 0, 0, 0, 0, 0, 0, 0, 0, 0, 0, 0, 0, 0, 0, 0, 0, 0, 0, 0, 0, 0, 0, 0, 0, 0, 0, 0, 0, 0, 0, 0, 0, 0, 0, 0, 0, 0, 0, 0, 0, 0, 0, 0, 0, 0, 0, 0, 0, 0, 0, 0, 0, 0, 0, 0, 0, 0, 0, 0, 0, 0, 0, 0, 0, 0, 0, 0, 0, 0, 0, 0, 0, 0, 0, 0, 0, 0, 0, 0, 0, 0, 0, 0, 0, 0, 0, 0, 0, 0, 0, 0, 0, 0, 0, 0, 0, 0, 0, 0, 0, 0, 0, 0, 0, 0, 0, 0, 0, 0, 0, 0, 0, 0, 0, 0, 0, 0, 0, 0, 0, 0, 0, 0, 0, 0, 0, 0, 0, 0, 0, 0, 0, 0, 0, 0, 0, 0, 0, 0, 0, 0, 0, 0, 0, 0, 0, 0, 0, 0, 0, 0, 0, 0, 0, 0, 0, 0, 0, 0, 0, 0, 0, 0, 0, 0, 0, 0, 0, 0, 0, 0, 0, 0, 0, 0, 0, 0, 0, 0, 0, 0, 0, 0, 0, 0, 0, 0, 0, 0, 0, 0, 0, 0, 0, 0, 0, 0, 0, 0, 0, 0, 0, 0, 0, 0, 0, 0, 0, 0, 0, 0, 0, 0, 0, 0, 0, 0, 0, 0, 0, 0, 0, 0, 0, 0, 0, 0, 0, 0, 0, 0, 0, 0, 0, 0, 0, 0, 0, 0, 0, 0, 0, 0, 0, 0, 0, 0, 0, 0, 0, 0, 0, 0, 0, 0, 0, 0, 0, 0, 0, 0, 0, 0, 0, 0, 0, 0, 0, 0, 0, 0, 0, 0, 0, 0, 0, 0, 0, 0, 0, 0, 0, 0, 0, 0, 0, 0, 0, 0, 0, 0, 0, 0, 0, 0, 0, 0, 0, 0, 0, 0, 0, 0, 0, 0, 0, 0, 0, 0, 0, 0, 0, 0, 0, 0, 0, 0, 0, 0, 0, 0, 0, 0, 0, 0, 0, 0, 0, 0, 0, 0, 0, 0, 0, 0, 0, 0, 0, 0, 0, 0, 0, 0, 0, 0, 0, 0, 0, 0, 0, 0, 0, 0, 0, 0, 0, 0, 0, 0, 0, 0, 0, 0, 0, 0, 0, 0, 0, 0, 0, 0, 0, 0, 0, 0, 0, 0, 0, 0, 0, 0, 0, 0, 0, 0, 0, 0, 0, 0, 0, 0, 0, 0, 0, 0, 0, 0, 0, 0, 0, 0, 0, 0, 0, 0, 0, 0, 0, 0, 0, 0, 0, 0, 0, 0, 0, 0, 0, 0, 0, 0, 0, 0, 0, 0, 0, 0, 0, 0, 0, 0, 0, 0, 0, 0, 0, 0, 0, 0, 0, 0, 0, 0, 0, 0, 0, 0, 0, 0, 0, 0, 0, 0, 0, 0, 0, 0, 0, 0, 0, 0, 0, 0, 0, 0, 0, 0, 0, 0, 0, 0, 0, 0, 0, 0, 0, 0, 0, 0, 0, 0, 0, 0, 0, 0, 0, 0, 0, 0, 0, 0, 0, 0, 0, 0, 0, 0, 0, 0, 0, 0, 0, 0, 0, 0, 0, 0, 0, 0, 0, 0, 0, 0, 0, 0, 0, 0, 0, 0, 0, 0, 0, 0, 0, 0, 0, 0, 0, 0, 0, 0, 0, 0, 0, 0, 0, 0, 0, 0, 0, 0, 0, 0, 0, 0, 0, 0, 0, 0, 0, 0, 0, 0, 0, 0, 0, 0, 0, 0, 0, 0, 0, 0, 0, 0, 0, 0, 0, 0, 0, 0, 0, 0, 0, 0, 0, 0, 0, 0, 0, 0, 0, 0, 0, 0, 0, 0, 0, 0, 0, 0, 0, 0, 0, 0, 0, 0, 0, 0, 0, 0, 0, 0, 0, 0, 0, 0, 0, 0, 0, 0, 0, 0, 0, 0, 0, 0, 0, 0, 0, 0, 0, 0, 0, 0, 0, 0, 0, 0, 0, 0, 0, 0, 0, 0, 0, 0, 0, 0, 0, 0, 0, 0, 0, 0, 0, 0, 0, 0, 0, 0, 0, 0, 0, 0, 0, 0, 0, 0, 0, 0, 0, 0, 0, 0, 0, 0, 0, 0, 0, 0, 0, 0, 0, 0, 0, 0, 0, 0, 0, 0, 0, 0, 0, 0, 0, 0, 0, 0, 0, 0, 0, 0, 0, 0, 0, 0, 0, 0, 0, 0, 0, 0, 0, 0, 0, 0, 0, 0, 0, 0, 0, 0, 0, 0, 0, 0, 0, 0, 0, 0, 0, 0, 0, 0, 0, 0, 0, 0, 0, 0, 0, 0, 0, 0, 0, 0, 0, 0, 0, 0, 0, 0, 0, 0, 0, 0, 0, 0, 0, 0, 0, 0, 0, 0, 0, 0, 0, 0, 0, 0, 0, 0, 0, 0, 0, 0, 0, 0, 0, 0, 0, 0, 0, 0, 0, 0, 0, 0, 0, 0, 0, 0, 0, 0, 0, 0, 0, 0, 0, 0, 0, 0, 0, 0, 0, 0, 0, 0, 0, 0, 0, 0, 0, 0, 0, 0, 0, 0, 0, 0, 0, 0, 0, 0, 0, 0, 0, 0, 0, 0, 0, 0, 0, 0, 0, 0, 0, 0, 0, 0, 0, 0, 0, 0, 0, 0, 0, 0, 0, 0, 0, 0, 0, 0, 0, 0, 0, 0, 0, 0, 0, 0, 0, 0, 0, 0, 0, 0, 0, 0, 0, 0, 0, 0, 0, 0, 0, 0, 0, 0, 0, 0, 0, 0, 0, 0, 0, 0, 0, 0, 0, 0, 0, 0, 0, 0, 0, 0, 0, 0, 0, 0, 0, 0, 0, 0, 0, 0, 0, 0, 0, 0, 0, 0, 0, 0, 0, 0, 0, 0, 0, 0, 0, 0, 0, 0, 0, 0, 0, 0, 0, 0, 0, 0, 0, 0, 0, 0], [0, 1, 0, 0, 0, 0, 0, 0, 0, 0, 0, 0, 0, 0, 0, 0, 0, 0, 0, 1, 1, 1, 2, 2, 2, 1, 1, 1, 0, 0, 0, 0, 0, 0, 0, 0, 0, 0, 0, 0, 0, 0, 0, 0, 0, 0, 0, 0, 0, 0, 0, 0, 0, 0, 0, 0, 0, 0, 0, 0, 0, 0, 0, 0, 0, 0, 0, 0, 0, 0, 0, 0, 0, 0, 0, 0, 0, 0, 0, 0, 0, 0, 0, 0, 0, 0, 0, 0, 0, 0, 0, 0, 0, 0, 0, 0, 0, 0, 0, 0, 0, 0, 0, 0, 0, 0, 0, 0, 0, 0, 0, 0, 0, 0, 0, 0, 0, 0, 0, 0, 0, 0, 0, 0, 0, 0, 0, 0, 0, 0, 0, 0, 0, 0, 0, 0, 0, 0, 0, 0, 0, 0, 0, 0, 0, 0, 0, 0, 0, 0, 0, 0, 0, 0, 0, 0, 0, 0, 0, 0, 0, 0, 0, 0, 0, 0, 0, 0, 0, 0, 0, 0, 0, 0, 0, 0, 0, 0, 0, 0, 0, 0, 0, 0, 0, 0, 0, 0, 0, 0, 0, 0, 0, 0, 0, 0, 0, 0, 0, 0, 0, 0, 0, 0, 0, 0, 0, 0, 0, 0, 0, 0, 0, 0, 0, 0, 0, 0, 0, 0, 0, 0, 0, 0, 0, 0, 0, 0, 0, 0, 0, 0, 0, 0, 0, 0, 0, 0, 0, 0, 0, 0, 0, 0, 0, 0, 0, 0, 0, 0, 0, 0, 0, 0, 0, 0, 0, 0, 0, 0, 0, 0, 0, 0, 0, 0, 0, 0, 0, 0, 0, 0, 0, 0, 0, 0, 0, 0, 0, 0, 0, 0, 0, 0, 0, 0, 0, 0, 0, 0, 0, 0, 0, 0, 0, 0, 0, 0, 0, 0, 0, 0, 0, 0, 0, 0, 0, 0, 0, 0, 0, 0, 0, 0, 0, 0, 0, 0, 0, 0, 0, 0, 0, 0, 0, 0, 0, 0, 0, 0, 0, 0, 0, 0, 0, 0, 0, 0, 0, 0, 0, 0, 0, 0, 0, 0, 0, 0, 0, 0, 0, 0, 0, 0, 0, 0, 0, 0, 0, 0, 0, 0, 0, 0, 0, 0, 0, 0, 0, 0, 0, 0, 0, 0, 0, 0, 0, 0, 0, 0, 0, 0, 0, 0, 0, 0, 0, 0, 0, 0, 0, 0, 0, 0, 0, 0, 0, 0, 0, 0, 0, 0, 0, 0, 0, 0, 0, 0, 0, 0, 0, 0, 0, 0, 0, 0, 0, 0, 0, 0, 0, 0, 0, 0, 0, 0, 0, 0, 0, 0, 0, 0, 0, 0, 0, 0, 0, 0, 0, 0, 0, 0, 0, 0, 0, 0, 0, 0, 0, 0, 0, 0, 0, 0, 0, 0, 0, 0, 0, 0, 0, 0, 0, 0, 0, 0, 0, 0, 0, 0, 0, 0, 0, 0, 0, 0, 0, 0, 0, 0, 0, 0, 0, 0, 0, 0, 0, 0, 0, 0, 0, 0, 0, 0, 0, 0, 0, 0, 0, 0, 0, 0, 0, 0, 0, 0, 0, 0, 0, 0, 0, 0, 0, 0, 0, 0, 0, 0, 0, 0, 0, 0, 0, 0, 0, 0, 0, 0, 0, 0, 0, 0, 0, 0, 0, 0, 0, 0, 0, 0, 0, 0, 0, 0, 0, 0, 0, 0, 0, 0, 0, 0, 0, 0, 0, 0, 0, 0, 0, 0, 0, 0, 0, 0, 0, 0, 0, 0, 0, 0, 0, 0, 0, 0, 0, 0, 0, 0, 0, 0, 0, 0, 0, 0, 0, 0, 0, 0, 0, 0, 0, 0, 0, 0, 0, 0, 0, 0, 0, 0, 0, 0, 0, 0, 0, 0, 0, 0, 0, 0, 0, 0, 0, 0, 0, 0, 0, 0, 0, 0, 0, 0, 0, 0, 0, 0, 0, 0, 0, 0, 0, 0, 0, 0, 0, 0, 0, 0, 0, 0, 0, 0, 0, 0, 0, 0, 0, 0, 0, 0, 0, 0, 0, 0, 0, 0, 0, 0, 0, 0, 0, 0, 0, 0, 0, 0, 0, 0, 0, 0, 0, 0, 0, 0, 0, 0, 0, 0, 0, 0, 0, 0, 0, 0, 0, 0, 0, 0, 0, 0, 0, 0, 0, 0, 0, 0, 0, 0, 0, 0, 0, 0, 0, 0, 0, 0, 0, 0, 0, 0, 0, 0, 0, 0, 0, 0, 0, 0, 0, 0, 0, 0, 0, 0, 0, 0, 0, 0, 0, 0, 0, 0, 0, 0, 0, 0, 0, 0, 0, 0, 0, 0, 0, 0, 0, 0, 0, 0, 0, 0, 0, 0, 0, 0, 0, 0, 0, 0, 0, 0, 0, 0, 0, 0, 0, 0, 0, 0, 0, 0, 0, 0, 0, 0, 0, 0, 0, 0, 0, 0, 0, 0, 0, 0, 0, 0, 0, 0, 0, 0, 0, 0, 0, 0, 0, 0, 0, 0, 0, 0, 0, 0, 0, 0, 0, 0, 0, 0, 0, 0, 0, 0, 0, 0, 0, 0, 0, 0, 0, 0, 0, 0, 0, 0, 0, 0, 0, 0, 0, 0, 0, 0, 0, 0, 0, 0, 0, 0, 0, 0, 0, 0, 0, 0, 0, 0, 0, 0, 0, 0, 0, 0, 0, 0, 0, 0, 0, 0, 0, 0, 0, 0, 0, 0, 0, 0, 0, 0, 0, 0, 0, 0, 0, 0, 0, 0, 0, 0, 0, 0, 0, 0, 0, 0, 0, 0, 0, 0, 0, 0, 0, 0, 0, 0, 0, 0, 0, 0, 0, 0, 0, 0, 0, 0, 0, 0, 0, 0, 0, 0, 0, 0, 0, 0, 0, 0, 0, 0, 0, 0, 0, 0, 0, 0, 0, 0, 0, 0, 0, 0, 0, 0, 0, 0, 0, 0, 0, 0, 0, 0, 0, 0, 0, 0, 0, 0, 0, 0, 0, 0, 0, 0, 0, 0, 0, 0, 0, 0, 0, 0, 0, 0, 0, 0, 0, 0, 0, 0, 0, 0, 0, 0, 0, 0, 0, 0, 0, 0, 0, 0, 0, 0, 0, 0, 0, 0, 0, 0, 0, 0, 0, 0, 0, 0, 0, 0, 0, 0, 0, 0, 0, 0, 0, 0, 0, 0, 0, 0, 0, 0, 0, 0, 0, 0, 0, 0, 0, 0, 0, 0, 0, 0, 0, 0, 0, 0, 0, 0, 0, 0, 0, 0, 0, 0, 0, 0, 0, 0, 0, 0, 0, 0, 0, 0, 0, 0, 0, 0, 0, 0, 0, 0, 0, 0, 0, 0, 0, 0, 0, 0, 0, 0, 0, 0, 0, 0, 0, 0, 0, 0, 0, 0, 0, 0, 0, 0, 0, 0, 0, 0, 0, 0, 0, 0, 0, 0, 0, 0, 0, 0, 0, 0, 0, 0, 0, 0, 0, 0, 0, 0, 0, 0, 0, 0, 0, 0, 0, 0, 0, 0, 0, 0, 0, 0, 0, 0, 0, 0, 0, 0, 0, 0, 0, 0, 0, 0, 0, 0, 0, 0, 0, 0, 0, 0, 0, 0, 0, 0, 0, 0, 0, 0, 0, 0, 0, 0, 0, 0, 0, 0, 0, 0, 0, 0, 0, 0, 0, 0, 0, 0, 0, 0, 0, 0, 0, 0, 0, 0, 0, 0, 0, 0, 0, 0, 0, 0, 0, 0, 0, 0, 0, 0, 0, 0, 0, 0, 0, 0, 0, 0, 0, 0, 0, 0, 0, 0, 0, 0, 0, 0, 0, 0, 0, 0, 0, 0, 0, 0, 0, 0, 0, 0, 0, 0, 0, 0, 0, 0, 0, 0, 0, 0, 0, 0, 0, 0, 0, 0, 0, 0, 0, 0, 0, 0, 0, 0, 0, 0, 0, 0, 0, 0, 0, 0, 0, 0, 0, 0, 0, 0, 0, 0, 0, 0, 0, 0, 0, 0, 0, 0, 0, 0, 0, 0, 0, 0, 0, 0, 0, 0, 0, 0, 0, 0, 0, 0, 0, 0, 0, 0, 0, 0, 0, 0, 0, 0, 0, 0, 0, 0, 0, 0, 0, 0, 0, 0, 0, 0, 0, 0, 0, 0, 0, 0, 0, 0, 0, 0, 0, 0, 0, 0, 0, 0, 0, 0, 0, 0, 0, 0, 0, 0, 0, 0, 0, 0, 0, 0, 0, 0, 0, 0, 0, 0, 0, 0, 0, 0, 0, 0, 0, 0, 0, 0, 0, 0, 0, 0, 0, 0, 0, 0, 0, 0, 0, 0, 0, 0, 0, 0, 0, 0, 0, 0, 0, 0, 0, 0, 0, 0, 0, 0, 0, 0, 0, 0, 0, 0, 0, 0, 0, 0, 0, 0, 0, 0, 0, 0, 0, 0, 0, 0, 0, 0, 0, 0, 0, 0, 0, 0, 0, 0, 0, 0, 0, 0, 0, 0, 0, 0, 0, 0, 0, 0, 0, 0, 0, 0, 0, 0, 0, 0, 0, 0, 0, 0, 0, 0, 0, 0, 0, 0, 0, 0, 0, 0, 0, 0, 0, 0, 0, 0, 0, 0, 0, 0, 0, 0, 0, 0, 0, 0, 0, 0, 0, 0, 0, 0, 0, 0, 0, 0, 0, 0, 0, 0, 0, 0, 0, 0, 0, 0, 0, 0, 0, 0, 0, 0, 0, 0, 0, 0, 0, 0, 0, 0, 0, 0, 0, 0, 0, 0, 0, 0, 0, 0, 0, 0, 0, 0, 0, 0, 0, 0, 0, 0, 0, 0, 0, 0, 0, 0, 0, 0, 0, 0, 0, 0, 0, 0, 0, 0, 0, 0, 0, 0, 0, 0, 0, 0, 0, 0, 0, 0, 0, 0, 0, 0, 0, 0, 0, 0, 0, 0, 0, 0, 0, 0, 0, 0, 0, 0, 0, 0, 0, 0, 0, 0, 0, 0, 0, 0, 0, 0, 0, 0, 0, 0, 0, 0, 0, 0, 0, 0, 0, 0, 0, 0, 0, 0, 0, 0, 0, 0, 0, 0, 0, 0, 0, 0, 0, 0, 0, 0, 0, 0, 0, 0, 0, 0, 0, 0, 0, 0, 0, 0, 0, 0, 0, 0, 0, 0, 0, 0, 0, 0, 0, 0, 0, 0, 0, 0, 0, 0, 0, 0, 0, 0, 0, 0, 0, 0, 0, 0, 0, 0, 0, 0, 0, 0, 0, 0, 0, 0, 0, 0, 0, 0, 0, 0, 0, 0, 0, 0, 0, 0, 0, 0, 0, 0, 0, 0, 0, 0, 0, 0, 0, 0, 0, 0, 0, 0, 0, 0, 0, 0, 0, 0, 0, 0, 0, 0, 0, 0, 0, 0, 0, 0, 0, 0, 0, 0, 0, 0, 0, 0, 0, 0, 0, 0, 0, 0, 0, 0, 0, 0, 0, 0, 0, 0, 0, 0, 0, 0, 0, 0, 0, 0, 0, 0, 0, 0, 0, 0, 0, 0, 0, 0, 0, 0, 0, 0, 0, 0, 0, 0, 0, 0, 0, 0, 0, 0, 0, 0, 0, 0, 0, 0, 0, 0, 0, 0, 0, 0, 0, 0, 0, 0, 0, 0, 0, 0, 0, 0, 0, 0, 0, 0, 0, 0, 0, 0, 0, 0, 0, 0, 0, 0, 0, 0, 0, 0, 0, 0, 0, 0, 0, 0, 0, 0, 0, 0, 0, 0, 0, 0, 0, 0, 0, 0, 0, 0, 0, 0, 0, 0, 0, 0, 0, 0, 0, 0, 0, 0, 0, 0, 0, 0, 0, 0, 0, 0, 0, 0, 0, 0, 0, 0, 0, 0, 0, 0, 0, 0, 0, 0, 0, 0, 0, 0, 0, 0, 0, 0, 0, 0, 0, 0, 0, 0, 0, 0, 0, 0, 0, 0, 0, 0, 0, 0, 0, 0, 0, 0, 0, 0, 0, 0, 0, 0, 0, 0, 0, 0, 0, 0, 0, 0, 0, 0, 0, 0, 0, 0, 0, 0, 0, 0, 0, 0, 0, 0, 0, 0, 0, 0, 0, 0, 0, 0, 0, 0, 0, 0, 0, 0, 0, 0, 0, 0, 0, 0, 0, 0, 0, 0, 0, 0, 0, 0, 0, 0, 0, 0, 0, 0, 0, 0, 0, 0, 0, 0, 0, 0, 0, 0, 0, 0, 0, 0, 0, 0, 0, 0, 0, 0, 0, 0, 0, 0, 0, 0, 0, 0, 0, 0, 0, 0, 0, 0, 0, 0, 0, 0, 0, 0, 0, 0, 0, 0, 0, 0, 0, 0, 0, 0, 0, 0, 0, 0, 0, 0, 0, 0, 0, 0, 0, 0, 0, 0, 0, 0, 0, 0, 0, 0, 0, 0, 0, 0, 0, 0, 0, 0, 0, 0, 0, 0, 0, 0, 0, 0, 0, 0, 0, 0, 0, 0, 0, 0, 0, 0, 0, 0, 0, 0, 0, 0, 0, 0, 0, 0, 0, 0, 0, 0, 0, 0, 0, 0, 0, 0, 0, 0, 0, 0, 0, 0, 0, 0, 0, 0, 0, 0, 0, 0, 0, 0, 0, 0, 0, 0, 0, 0, 0, 0, 0, 0, 0, 0, 0, 0, 0, 0, 0, 0, 0, 0, 0, 0, 0, 0, 0, 0, 0, 0, 0, 0, 0, 0, 0, 0, 0, 0, 0, 0, 0, 0, 0, 0, 0, 0, 0, 0, 0, 0, 0, 0, 0, 0, 0, 0, 0, 0, 0, 0, 0, 0, 0, 0, 0, 0, 0, 0, 0, 0, 0, 0, 0, 0, 0, 0, 0, 0, 0, 0, 0, 0, 0, 0, 0, 0]]\n"
     ]
    }
   ],
   "source": [
    "# hitung kemunculan tiap term di tiap dokumen\n",
    "tf_akhir = []\n",
    "temp = 0\n",
    "docList = []\n",
    "\n",
    "countTF(df, temp, df[\"teks\"], df[\"jenis\"], docList, term, tf_akhir)\n",
    "# data yang dimunculin hanya 2 karna cukup banyak\n",
    "print(tf_akhir[:2])"
   ]
  },
  {
   "cell_type": "code",
   "execution_count": 18,
   "id": "d404fff4",
   "metadata": {},
   "outputs": [
    {
     "name": "stdout",
     "output_type": "stream",
     "text": [
      "[[1, 1, 1, 1, 1, 1, 1, 1, 1, 1, 1, 1, 1, 1, 1, 1, 1, 1, 1, 0, 0, 0, 0, 0, 0, 0, 0, 0, 0, 0, 0, 0, 0, 0, 0, 0, 0, 0, 0, 0, 0, 0, 0, 0, 0, 0, 0, 0, 0, 0, 0, 0, 0, 0, 0, 0, 0, 0, 0, 0, 0, 0, 0, 0, 0, 0, 0, 0, 0, 0, 0, 0, 0, 0, 0, 0, 0, 0, 0, 0, 0, 0, 0, 0, 0, 0, 0, 0, 0, 0, 0, 0, 0, 0, 0, 0, 0, 0, 0, 0, 0, 0, 0, 0, 0, 0, 0, 0, 0, 0, 0, 0, 0, 0, 0, 0, 0, 0, 0, 0, 0, 0, 0, 0, 0, 0, 0, 0, 0, 0, 0, 0, 0, 0, 0, 0, 0, 0, 0, 0, 0, 0, 0, 0, 0, 0, 0, 0, 0, 0, 0, 0, 0, 0, 0, 0, 0, 0, 0, 0, 0, 0, 0, 0, 0, 0, 0, 0, 0, 0, 0, 0, 0, 0, 0, 0, 0, 0, 0, 0, 0, 0, 0, 0, 0, 0, 0, 0, 0, 0, 0, 0, 0, 0, 0, 0, 0, 0, 0, 0, 0, 0, 0, 0, 0, 0, 0, 0, 0, 0, 0, 0, 0, 0, 0, 0, 0, 0, 0, 0, 0, 0, 0, 0, 0, 0, 0, 0, 0, 0, 0, 0, 0, 0, 0, 0, 0, 0, 0, 0, 0, 0, 0, 0, 0, 0, 0, 0, 0, 0, 0, 0, 0, 0, 0, 0, 0, 0, 0, 0, 0, 0, 0, 0, 0, 0, 0, 0, 0, 0, 0, 0, 0, 0, 0, 0, 0, 0, 0, 0, 0, 0, 0, 0, 0, 0, 0, 0, 0, 0, 0, 0, 0, 0, 0, 0, 0, 0, 0, 0, 0, 0, 0, 0, 0, 0, 0, 0, 0, 0, 0, 0, 0, 0, 0, 0, 0, 0, 0, 0, 0, 0, 0, 0, 0, 0, 0, 0, 0, 0, 0, 0, 0, 0, 0, 0, 0, 0, 0, 0, 0, 0, 0, 0, 0, 0, 0, 0, 0, 0, 0, 0, 0, 0, 0, 0, 0, 0, 0, 0, 0, 0, 0, 0, 0, 0, 0, 0, 0, 0, 0, 0, 0, 0, 0, 0, 0, 0, 0, 0, 0, 0, 0, 0, 0, 0, 0, 0, 0, 0, 0, 0, 0, 0, 0, 0, 0, 0, 0, 0, 0, 0, 0, 0, 0, 0, 0, 0, 0, 0, 0, 0, 0, 0, 0, 0, 0, 0, 0, 0, 0, 0, 0, 0, 0, 0, 0, 0, 0, 0, 0, 0, 0, 0, 0, 0, 0, 0, 0, 0, 0, 0, 0, 0, 0, 0, 0, 0, 0, 0, 0, 0, 0, 0, 0, 0, 0, 0, 0, 0, 0, 0, 0, 0, 0, 0, 0, 0, 0, 0, 0, 0, 0, 0, 0, 0, 0, 0, 0, 0, 0, 0, 0, 0, 0, 0, 0, 0, 0, 0, 0, 0, 0, 0, 0, 0, 0, 0, 0, 0, 0, 0, 0, 0, 0, 0, 0, 0, 0, 0, 0, 0, 0, 0, 0, 0, 0, 0, 0, 0, 0, 0, 0, 0, 0, 0, 0, 0, 0, 0, 0, 0, 0, 0, 0, 0, 0, 0, 0, 0, 0, 0, 0, 0, 0, 0, 0, 0, 0, 0, 0, 0, 0, 0, 0, 0, 0, 0, 0, 0, 0, 0, 0, 0, 0, 0, 0, 0, 0, 0, 0, 0, 0, 0, 0, 0, 0, 0, 0, 0, 0, 0, 0, 0, 0, 0, 0, 0, 0, 0, 0, 0, 0, 0, 0, 0, 0, 0, 0, 0, 0, 0, 0, 0, 0, 0, 0, 0, 0, 0, 0, 0, 0, 0, 0, 0, 0, 0, 0, 0, 0, 0, 0, 0, 0, 0, 0, 0, 0, 0, 0, 0, 0, 0, 0, 0, 0, 0, 0, 0, 0, 0, 0, 0, 0, 0, 0, 0, 0, 0, 0, 0, 0, 0, 0, 0, 0, 0, 0, 0, 0, 0, 0, 0, 0, 0, 0, 0, 0, 0, 0, 0, 0, 0, 0, 0, 0, 0, 0, 0, 0, 0, 0, 0, 0, 0, 0, 0, 0, 0, 0, 0, 0, 0, 0, 0, 0, 0, 0, 0, 0, 0, 0, 0, 0, 0, 0, 0, 0, 0, 0, 0, 0, 0, 0, 0, 0, 0, 0, 0, 0, 0, 0, 0, 0, 0, 0, 0, 0, 0, 0, 0, 0, 0, 0, 0, 0, 0, 0, 0, 0, 0, 0, 0, 0, 0, 0, 0, 0, 0, 0, 0, 0, 0, 0, 0, 0, 0, 0, 0, 0, 0, 0, 0, 0, 0, 0, 0, 0, 0, 0, 0, 0, 0, 0, 0, 0, 0, 0, 0, 0, 0, 0, 0, 0, 0, 0, 0, 0, 0, 0, 0, 0, 0, 0, 0, 0, 0, 0, 0, 0, 0, 0, 0, 0, 0, 0, 0, 0, 0, 0, 0, 0, 0, 0, 0, 0, 0, 0, 0, 0, 0, 0, 0, 0, 0, 0, 0, 0, 0, 0, 0, 0, 0, 0, 0, 0, 0, 0, 0, 0, 0, 0, 0, 0, 0, 0, 0, 0, 0, 0, 0, 0, 0, 0, 0, 0, 0, 0, 0, 0, 0, 0, 0, 0, 0, 0, 0, 0, 0, 0, 0, 0, 0, 0, 0, 0, 0, 0, 0, 0, 0, 0, 0, 0, 0, 0, 0, 0, 0, 0, 0, 0, 0, 0, 0, 0, 0, 0, 0, 0, 0, 0, 0, 0, 0, 0, 0, 0, 0, 0, 0, 0, 0, 0, 0, 0, 0, 0, 0, 0, 0, 0, 0, 0, 0, 0, 0, 0, 0, 0, 0, 0, 0, 0, 0, 0, 0, 0, 0, 0, 0, 0, 0, 0, 0, 0, 0, 0, 0, 0, 0, 0, 0, 0, 0, 0, 0, 0, 0, 0, 0, 0, 0, 0, 0, 0, 0, 0, 0, 0, 0, 0, 0, 0, 0, 0, 0, 0, 0, 0, 0, 0, 0, 0, 0, 0, 0, 0, 0, 0, 0, 0, 0, 0, 0, 0, 0, 0, 0, 0, 0, 0, 0, 0, 0, 0, 0, 0, 0, 0, 0, 0, 0, 0, 0, 0, 0, 0, 0, 0, 0, 0, 0, 0, 0, 0, 0, 0, 0, 0, 0, 0, 0, 0, 0, 0, 0, 0, 0, 0, 0, 0, 0, 0, 0, 0, 0, 0, 0, 0, 0, 0, 0, 0, 0, 0, 0, 0, 0, 0, 0, 0, 0, 0, 0, 0, 0, 0, 0, 0, 0, 0, 0, 0, 0, 0, 0, 0, 0, 0, 0, 0, 0, 0, 0, 0, 0, 0, 0, 0, 0, 0, 0, 0, 0, 0, 0, 0, 0, 0, 0, 0, 0, 0, 0, 0, 0, 0, 0, 0, 0, 0, 0, 0, 0, 0, 0, 0, 0, 0, 0, 0, 0, 0, 0, 0, 0, 0, 0, 0, 0, 0, 0, 0, 0, 0, 0, 0, 0, 0, 0, 0, 0, 0, 0, 0, 0, 0, 0, 0, 0, 0, 0, 0, 0, 0, 0, 0, 0, 0, 0, 0, 0, 0, 0, 0, 0, 0, 0, 0, 0, 0, 0, 0, 0, 0, 0, 0, 0, 0, 0, 0, 0, 0, 0, 0, 0, 0, 0, 0, 0, 0, 0, 0, 0, 0, 0, 0, 0, 0, 0, 0, 0, 0, 0, 0, 0, 0, 0, 0, 0, 0, 0, 0, 0, 0, 0, 0, 0, 0, 0, 0, 0, 0, 0, 0, 0, 0, 0, 0, 0, 0, 0, 0, 0, 0, 0, 0, 0, 0, 0, 0, 0, 0, 0, 0, 0, 0, 0, 0, 0, 0, 0, 0, 0, 0, 0, 0, 0, 0, 0, 0, 0, 0, 0, 0, 0, 0, 0, 0, 0, 0, 0, 0, 0, 0, 0, 0, 0, 0, 0, 0, 0, 0, 0, 0, 0, 0, 0, 0, 0, 0, 0, 0, 0, 0, 0, 0, 0, 0, 0, 0, 0, 0, 0, 0, 0, 0, 0, 0, 0, 0, 0, 0, 0, 0, 0, 0, 0, 0, 0, 0, 0, 0, 0, 0, 0, 0, 0, 0, 0, 0, 0, 0, 0, 0, 0, 0, 0, 0, 0, 0, 0, 0, 0, 0, 0, 0, 0, 0, 0, 0, 0, 0, 0, 0, 0, 0, 0, 0, 0, 0, 0, 0, 0, 0, 0, 0, 0, 0, 0, 0, 0, 0, 0, 0, 0, 0, 0, 0, 0, 0, 0, 0, 0, 0, 0, 0, 0, 0, 0, 0, 0, 0, 0, 0, 0, 0, 0, 0, 0, 0, 0, 0, 0, 0, 0, 0, 0, 0, 0, 0, 0, 0, 0, 0, 0, 0, 0, 0, 0, 0, 0, 0, 0, 0, 0, 0, 0, 0, 0, 0, 0, 0, 0, 0, 0, 0, 0, 0, 0, 0, 0, 0, 0, 0, 0, 0, 0, 0, 0, 0, 0, 0, 0, 0, 0, 0, 0, 0, 0, 0, 0, 0, 0, 0, 0, 0, 0, 0, 0, 0, 0, 0, 0, 0, 0, 0, 0, 0, 0, 0, 0, 0, 0, 0, 0, 0, 0, 0, 0, 0, 0, 0, 0, 0, 0, 0, 0, 0, 0, 0, 0, 0, 0, 0, 0, 0, 0, 0, 0, 0, 0, 0, 0, 0, 0, 0, 0, 0, 0, 0, 0, 0, 0, 0, 0, 0, 0, 0, 0, 0, 0, 0, 0, 0, 0, 0, 0, 0, 0, 0, 0, 0, 0, 0, 0, 0, 0, 0, 0, 0, 0, 0, 0, 0, 0, 0, 0, 0, 0, 0, 0, 0, 0, 0, 0, 0, 0, 0, 0, 0, 0, 0, 0, 0, 0, 0, 0, 0, 0, 0, 0, 0, 0, 0, 0, 0, 0, 0, 0, 0, 0, 0, 0, 0, 0, 0, 0, 0, 0, 0, 0, 0, 0, 0, 0, 0, 0, 0, 0, 0, 0, 0, 0, 0, 0, 0, 0, 0, 0, 0, 0, 0, 0, 0, 0, 0, 0, 0, 0, 0, 0, 0, 0, 0, 0, 0, 0, 0, 0, 0, 0, 0, 0, 0, 0, 0, 0, 0, 0, 0, 0, 0, 0, 0, 0, 0, 0, 0, 0, 0, 0, 0, 0, 0, 0, 0, 0, 0, 0, 0, 0, 0, 0, 0, 0, 0, 0, 0, 0, 0, 0, 0, 0, 0, 0, 0, 0, 0, 0, 0, 0, 0, 0, 0, 0, 0, 0, 0, 0, 0, 0, 0, 0, 0, 0, 0, 0, 0, 0, 0, 0, 0, 0, 0, 0, 0, 0, 0, 0, 0, 0, 0, 0, 0, 0, 0, 0, 0, 0, 0, 0, 0, 0, 0, 0, 0, 0, 0, 0, 0, 0, 0, 0, 0, 0, 0, 0, 0, 0, 0, 0, 0, 0, 0, 0, 0, 0, 0, 0, 0, 0, 0, 0, 0, 0, 0, 0, 0, 0, 0, 0, 0, 0, 0, 0, 0, 0, 0, 0, 0, 0, 0, 0, 0, 0, 0, 0, 0, 0, 0, 0, 0, 0, 0, 0, 0, 0, 0, 0, 0, 0, 0, 0, 0, 0, 0, 0, 0, 0, 0, 0, 0, 0, 0, 0, 0, 0, 0, 0, 0, 0, 0, 0, 0, 0, 0, 0, 0, 0, 0, 0, 0, 0, 0, 0, 0, 0, 0, 0, 0, 0, 0, 0, 0, 0, 0, 0, 0, 0, 0, 0, 0, 0, 0, 0, 0, 0, 0, 0, 0, 0, 0, 0, 0, 0, 0, 0, 0, 0, 0, 0, 0, 0, 0, 0, 0, 0, 0, 0, 0, 0, 0, 0, 0, 0, 0, 0, 0, 0, 0, 0, 0, 0, 0, 0, 0, 0, 0, 0, 0, 0, 0, 0, 0, 0, 0, 0, 0, 0, 0, 0, 0, 0, 0, 0, 0, 0, 0, 0, 0, 0, 0, 0, 0, 0, 0, 0, 0, 0, 0, 0, 0, 0, 0, 0, 0, 0, 0, 0, 0, 0, 0, 0, 0, 0, 0, 0, 0, 0, 0, 0, 0, 0, 0, 0, 0, 0, 0, 0, 0, 0, 0, 0, 0, 0, 0, 0, 0, 0, 0, 0, 0, 0, 0, 0, 0, 0, 0, 0, 0, 0, 0, 0, 0, 0, 0, 0, 0, 0, 0, 0, 0, 0, 0, 0, 0, 0, 0, 0, 0, 0, 0, 0, 0, 0, 0, 0, 0, 0, 0, 0, 0, 0, 0, 0, 0, 0, 0, 0, 0, 0, 0, 0, 0, 0, 0, 0, 0, 0, 0, 0, 0, 0, 0, 0, 0, 0, 0, 0, 0, 0, 0, 0, 0, 0, 0, 0, 0, 0, 0, 0, 0, 0, 0, 0, 0, 0, 0, 0, 0, 0, 0, 0, 0, 0, 0, 0, 0, 0, 0, 0, 0, 0, 0, 0, 0, 0, 0, 0, 0, 0, 0, 0, 0, 0, 0, 0, 0, 0, 0, 0, 0, 0, 0, 0, 0, 0, 0, 0, 0, 0, 0, 0, 0, 0, 0, 0, 0, 0, 0, 0, 0, 0, 0, 0, 0, 0, 0, 0, 0, 0, 0, 0, 0, 0, 0, 0, 0, 0, 0, 0, 0, 0, 0, 0, 0, 0, 0], [0, 1, 0, 0, 0, 0, 0, 0, 0, 0, 0, 0, 0, 0, 0, 0, 0, 0, 0, 1, 1, 1, 1, 1, 1, 1, 1, 1, 0, 0, 0, 0, 0, 0, 0, 0, 0, 0, 0, 0, 0, 0, 0, 0, 0, 0, 0, 0, 0, 0, 0, 0, 0, 0, 0, 0, 0, 0, 0, 0, 0, 0, 0, 0, 0, 0, 0, 0, 0, 0, 0, 0, 0, 0, 0, 0, 0, 0, 0, 0, 0, 0, 0, 0, 0, 0, 0, 0, 0, 0, 0, 0, 0, 0, 0, 0, 0, 0, 0, 0, 0, 0, 0, 0, 0, 0, 0, 0, 0, 0, 0, 0, 0, 0, 0, 0, 0, 0, 0, 0, 0, 0, 0, 0, 0, 0, 0, 0, 0, 0, 0, 0, 0, 0, 0, 0, 0, 0, 0, 0, 0, 0, 0, 0, 0, 0, 0, 0, 0, 0, 0, 0, 0, 0, 0, 0, 0, 0, 0, 0, 0, 0, 0, 0, 0, 0, 0, 0, 0, 0, 0, 0, 0, 0, 0, 0, 0, 0, 0, 0, 0, 0, 0, 0, 0, 0, 0, 0, 0, 0, 0, 0, 0, 0, 0, 0, 0, 0, 0, 0, 0, 0, 0, 0, 0, 0, 0, 0, 0, 0, 0, 0, 0, 0, 0, 0, 0, 0, 0, 0, 0, 0, 0, 0, 0, 0, 0, 0, 0, 0, 0, 0, 0, 0, 0, 0, 0, 0, 0, 0, 0, 0, 0, 0, 0, 0, 0, 0, 0, 0, 0, 0, 0, 0, 0, 0, 0, 0, 0, 0, 0, 0, 0, 0, 0, 0, 0, 0, 0, 0, 0, 0, 0, 0, 0, 0, 0, 0, 0, 0, 0, 0, 0, 0, 0, 0, 0, 0, 0, 0, 0, 0, 0, 0, 0, 0, 0, 0, 0, 0, 0, 0, 0, 0, 0, 0, 0, 0, 0, 0, 0, 0, 0, 0, 0, 0, 0, 0, 0, 0, 0, 0, 0, 0, 0, 0, 0, 0, 0, 0, 0, 0, 0, 0, 0, 0, 0, 0, 0, 0, 0, 0, 0, 0, 0, 0, 0, 0, 0, 0, 0, 0, 0, 0, 0, 0, 0, 0, 0, 0, 0, 0, 0, 0, 0, 0, 0, 0, 0, 0, 0, 0, 0, 0, 0, 0, 0, 0, 0, 0, 0, 0, 0, 0, 0, 0, 0, 0, 0, 0, 0, 0, 0, 0, 0, 0, 0, 0, 0, 0, 0, 0, 0, 0, 0, 0, 0, 0, 0, 0, 0, 0, 0, 0, 0, 0, 0, 0, 0, 0, 0, 0, 0, 0, 0, 0, 0, 0, 0, 0, 0, 0, 0, 0, 0, 0, 0, 0, 0, 0, 0, 0, 0, 0, 0, 0, 0, 0, 0, 0, 0, 0, 0, 0, 0, 0, 0, 0, 0, 0, 0, 0, 0, 0, 0, 0, 0, 0, 0, 0, 0, 0, 0, 0, 0, 0, 0, 0, 0, 0, 0, 0, 0, 0, 0, 0, 0, 0, 0, 0, 0, 0, 0, 0, 0, 0, 0, 0, 0, 0, 0, 0, 0, 0, 0, 0, 0, 0, 0, 0, 0, 0, 0, 0, 0, 0, 0, 0, 0, 0, 0, 0, 0, 0, 0, 0, 0, 0, 0, 0, 0, 0, 0, 0, 0, 0, 0, 0, 0, 0, 0, 0, 0, 0, 0, 0, 0, 0, 0, 0, 0, 0, 0, 0, 0, 0, 0, 0, 0, 0, 0, 0, 0, 0, 0, 0, 0, 0, 0, 0, 0, 0, 0, 0, 0, 0, 0, 0, 0, 0, 0, 0, 0, 0, 0, 0, 0, 0, 0, 0, 0, 0, 0, 0, 0, 0, 0, 0, 0, 0, 0, 0, 0, 0, 0, 0, 0, 0, 0, 0, 0, 0, 0, 0, 0, 0, 0, 0, 0, 0, 0, 0, 0, 0, 0, 0, 0, 0, 0, 0, 0, 0, 0, 0, 0, 0, 0, 0, 0, 0, 0, 0, 0, 0, 0, 0, 0, 0, 0, 0, 0, 0, 0, 0, 0, 0, 0, 0, 0, 0, 0, 0, 0, 0, 0, 0, 0, 0, 0, 0, 0, 0, 0, 0, 0, 0, 0, 0, 0, 0, 0, 0, 0, 0, 0, 0, 0, 0, 0, 0, 0, 0, 0, 0, 0, 0, 0, 0, 0, 0, 0, 0, 0, 0, 0, 0, 0, 0, 0, 0, 0, 0, 0, 0, 0, 0, 0, 0, 0, 0, 0, 0, 0, 0, 0, 0, 0, 0, 0, 0, 0, 0, 0, 0, 0, 0, 0, 0, 0, 0, 0, 0, 0, 0, 0, 0, 0, 0, 0, 0, 0, 0, 0, 0, 0, 0, 0, 0, 0, 0, 0, 0, 0, 0, 0, 0, 0, 0, 0, 0, 0, 0, 0, 0, 0, 0, 0, 0, 0, 0, 0, 0, 0, 0, 0, 0, 0, 0, 0, 0, 0, 0, 0, 0, 0, 0, 0, 0, 0, 0, 0, 0, 0, 0, 0, 0, 0, 0, 0, 0, 0, 0, 0, 0, 0, 0, 0, 0, 0, 0, 0, 0, 0, 0, 0, 0, 0, 0, 0, 0, 0, 0, 0, 0, 0, 0, 0, 0, 0, 0, 0, 0, 0, 0, 0, 0, 0, 0, 0, 0, 0, 0, 0, 0, 0, 0, 0, 0, 0, 0, 0, 0, 0, 0, 0, 0, 0, 0, 0, 0, 0, 0, 0, 0, 0, 0, 0, 0, 0, 0, 0, 0, 0, 0, 0, 0, 0, 0, 0, 0, 0, 0, 0, 0, 0, 0, 0, 0, 0, 0, 0, 0, 0, 0, 0, 0, 0, 0, 0, 0, 0, 0, 0, 0, 0, 0, 0, 0, 0, 0, 0, 0, 0, 0, 0, 0, 0, 0, 0, 0, 0, 0, 0, 0, 0, 0, 0, 0, 0, 0, 0, 0, 0, 0, 0, 0, 0, 0, 0, 0, 0, 0, 0, 0, 0, 0, 0, 0, 0, 0, 0, 0, 0, 0, 0, 0, 0, 0, 0, 0, 0, 0, 0, 0, 0, 0, 0, 0, 0, 0, 0, 0, 0, 0, 0, 0, 0, 0, 0, 0, 0, 0, 0, 0, 0, 0, 0, 0, 0, 0, 0, 0, 0, 0, 0, 0, 0, 0, 0, 0, 0, 0, 0, 0, 0, 0, 0, 0, 0, 0, 0, 0, 0, 0, 0, 0, 0, 0, 0, 0, 0, 0, 0, 0, 0, 0, 0, 0, 0, 0, 0, 0, 0, 0, 0, 0, 0, 0, 0, 0, 0, 0, 0, 0, 0, 0, 0, 0, 0, 0, 0, 0, 0, 0, 0, 0, 0, 0, 0, 0, 0, 0, 0, 0, 0, 0, 0, 0, 0, 0, 0, 0, 0, 0, 0, 0, 0, 0, 0, 0, 0, 0, 0, 0, 0, 0, 0, 0, 0, 0, 0, 0, 0, 0, 0, 0, 0, 0, 0, 0, 0, 0, 0, 0, 0, 0, 0, 0, 0, 0, 0, 0, 0, 0, 0, 0, 0, 0, 0, 0, 0, 0, 0, 0, 0, 0, 0, 0, 0, 0, 0, 0, 0, 0, 0, 0, 0, 0, 0, 0, 0, 0, 0, 0, 0, 0, 0, 0, 0, 0, 0, 0, 0, 0, 0, 0, 0, 0, 0, 0, 0, 0, 0, 0, 0, 0, 0, 0, 0, 0, 0, 0, 0, 0, 0, 0, 0, 0, 0, 0, 0, 0, 0, 0, 0, 0, 0, 0, 0, 0, 0, 0, 0, 0, 0, 0, 0, 0, 0, 0, 0, 0, 0, 0, 0, 0, 0, 0, 0, 0, 0, 0, 0, 0, 0, 0, 0, 0, 0, 0, 0, 0, 0, 0, 0, 0, 0, 0, 0, 0, 0, 0, 0, 0, 0, 0, 0, 0, 0, 0, 0, 0, 0, 0, 0, 0, 0, 0, 0, 0, 0, 0, 0, 0, 0, 0, 0, 0, 0, 0, 0, 0, 0, 0, 0, 0, 0, 0, 0, 0, 0, 0, 0, 0, 0, 0, 0, 0, 0, 0, 0, 0, 0, 0, 0, 0, 0, 0, 0, 0, 0, 0, 0, 0, 0, 0, 0, 0, 0, 0, 0, 0, 0, 0, 0, 0, 0, 0, 0, 0, 0, 0, 0, 0, 0, 0, 0, 0, 0, 0, 0, 0, 0, 0, 0, 0, 0, 0, 0, 0, 0, 0, 0, 0, 0, 0, 0, 0, 0, 0, 0, 0, 0, 0, 0, 0, 0, 0, 0, 0, 0, 0, 0, 0, 0, 0, 0, 0, 0, 0, 0, 0, 0, 0, 0, 0, 0, 0, 0, 0, 0, 0, 0, 0, 0, 0, 0, 0, 0, 0, 0, 0, 0, 0, 0, 0, 0, 0, 0, 0, 0, 0, 0, 0, 0, 0, 0, 0, 0, 0, 0, 0, 0, 0, 0, 0, 0, 0, 0, 0, 0, 0, 0, 0, 0, 0, 0, 0, 0, 0, 0, 0, 0, 0, 0, 0, 0, 0, 0, 0, 0, 0, 0, 0, 0, 0, 0, 0, 0, 0, 0, 0, 0, 0, 0, 0, 0, 0, 0, 0, 0, 0, 0, 0, 0, 0, 0, 0, 0, 0, 0, 0, 0, 0, 0, 0, 0, 0, 0, 0, 0, 0, 0, 0, 0, 0, 0, 0, 0, 0, 0, 0, 0, 0, 0, 0, 0, 0, 0, 0, 0, 0, 0, 0, 0, 0, 0, 0, 0, 0, 0, 0, 0, 0, 0, 0, 0, 0, 0, 0, 0, 0, 0, 0, 0, 0, 0, 0, 0, 0, 0, 0, 0, 0, 0, 0, 0, 0, 0, 0, 0, 0, 0, 0, 0, 0, 0, 0, 0, 0, 0, 0, 0, 0, 0, 0, 0, 0, 0, 0, 0, 0, 0, 0, 0, 0, 0, 0, 0, 0, 0, 0, 0, 0, 0, 0, 0, 0, 0, 0, 0, 0, 0, 0, 0, 0, 0, 0, 0, 0, 0, 0, 0, 0, 0, 0, 0, 0, 0, 0, 0, 0, 0, 0, 0, 0, 0, 0, 0, 0, 0, 0, 0, 0, 0, 0, 0, 0, 0, 0, 0, 0, 0, 0, 0, 0, 0, 0, 0, 0, 0, 0, 0, 0, 0, 0, 0, 0, 0, 0, 0, 0, 0, 0, 0, 0, 0, 0, 0, 0, 0, 0, 0, 0, 0, 0, 0, 0, 0, 0, 0, 0, 0, 0, 0, 0, 0, 0, 0, 0, 0, 0, 0, 0, 0, 0, 0, 0, 0, 0, 0, 0, 0, 0, 0, 0, 0, 0, 0, 0, 0, 0, 0, 0, 0, 0, 0, 0, 0, 0, 0, 0, 0, 0, 0, 0, 0, 0, 0, 0, 0, 0, 0, 0, 0, 0, 0, 0, 0, 0, 0, 0, 0, 0, 0, 0, 0, 0, 0, 0, 0, 0, 0, 0, 0, 0, 0, 0, 0, 0, 0, 0, 0, 0, 0, 0, 0, 0, 0, 0, 0, 0, 0, 0, 0, 0, 0, 0, 0, 0, 0, 0, 0, 0, 0, 0, 0, 0, 0, 0, 0, 0, 0, 0, 0, 0, 0, 0, 0, 0, 0, 0, 0, 0, 0, 0, 0, 0, 0, 0, 0, 0, 0, 0, 0, 0, 0, 0, 0, 0, 0, 0, 0, 0, 0, 0, 0, 0, 0, 0, 0, 0, 0, 0, 0, 0, 0, 0, 0, 0, 0, 0, 0, 0, 0, 0, 0, 0, 0, 0, 0, 0, 0, 0, 0, 0, 0, 0, 0, 0, 0, 0, 0, 0, 0, 0, 0, 0, 0, 0, 0, 0, 0, 0, 0, 0, 0, 0, 0, 0, 0, 0, 0, 0, 0, 0, 0, 0, 0, 0, 0, 0, 0, 0, 0, 0, 0, 0, 0, 0, 0, 0, 0, 0, 0, 0, 0, 0, 0, 0, 0, 0, 0, 0, 0, 0, 0, 0, 0, 0, 0, 0, 0, 0, 0, 0, 0, 0, 0, 0, 0, 0, 0, 0, 0, 0, 0, 0, 0, 0, 0, 0, 0, 0, 0, 0, 0, 0, 0, 0, 0, 0, 0, 0, 0, 0, 0, 0, 0, 0, 0, 0, 0, 0, 0, 0, 0, 0, 0, 0, 0, 0, 0, 0, 0, 0, 0, 0, 0, 0, 0, 0, 0, 0, 0, 0, 0, 0, 0, 0, 0, 0, 0, 0, 0, 0, 0, 0, 0, 0, 0, 0, 0, 0, 0, 0, 0, 0, 0, 0, 0, 0, 0, 0, 0, 0, 0, 0, 0, 0, 0, 0, 0, 0, 0, 0, 0, 0, 0, 0, 0, 0, 0, 0, 0, 0, 0, 0, 0, 0, 0, 0, 0, 0, 0, 0, 0, 0, 0, 0, 0, 0, 0, 0, 0, 0, 0, 0, 0, 0, 0, 0, 0, 0, 0, 0, 0, 0, 0, 0, 0, 0, 0, 0, 0, 0, 0, 0, 0, 0, 0, 0, 0, 0, 0, 0, 0, 0, 0, 0, 0, 0, 0, 0, 0, 0, 0, 0, 0, 0, 0, 0, 0, 0, 0, 0, 0, 0, 0, 0, 0, 0, 0, 0, 0, 0, 0, 0, 0, 0, 0, 0, 0, 0, 0, 0, 0, 0, 0, 0, 0, 0, 0, 0, 0, 0, 0, 0, 0, 0, 0, 0, 0, 0, 0, 0, 0, 0, 0, 0, 0, 0, 0, 0, 0, 0, 0, 0, 0, 0, 0]]\n"
     ]
    }
   ],
   "source": [
    "# ubah nilai yg lebih dari 1 jadi 1, untuk penghitungan DF\n",
    "tf_forDF = []\n",
    "changeValue(tf_akhir, tf_forDF)\n",
    "print(tf_forDF[:2])"
   ]
  },
  {
   "cell_type": "code",
   "execution_count": 19,
   "id": "62d24f11",
   "metadata": {},
   "outputs": [
    {
     "name": "stdout",
     "output_type": "stream",
     "text": [
      "[1, 46, 4, 86, 21, 17, 5, 6, 15, 15, 1, 4, 23, 18, 13, 1, 105, 107, 1, 2, 2, 52, 4, 1, 1, 1, 1, 9, 4, 39, 23, 16, 2, 29, 9, 7, 11, 4, 9, 1, 1, 29, 43, 2, 45, 50, 13, 8, 2, 5, 4, 4, 27, 2, 59, 93, 1, 5, 59, 1, 1, 1, 24, 42, 1, 1, 1, 1, 1, 1, 1, 2, 1, 1, 1, 1, 8, 20, 1, 25, 1, 3, 3, 13, 41, 22, 25, 6, 60, 43, 20, 1, 16, 6, 10, 8, 9, 50, 79, 2, 50, 7, 2, 3, 1, 28, 3, 1, 4, 16, 6, 9, 1, 4, 4, 19, 1, 2, 2, 57, 9, 5, 1, 4, 40, 1, 3, 14, 10, 15, 3, 3, 44, 52, 33, 4, 15, 2, 13, 4, 2, 2, 2, 2, 2, 2, 3, 2, 2, 2, 1, 1, 23, 28, 15, 5, 10, 21, 1, 2, 4, 1, 1, 3, 3, 3, 2, 1, 10, 5, 1, 1, 19, 2, 5, 15, 4, 26, 2, 1, 5, 6, 51, 1, 1, 1, 1, 148, 4, 3, 3, 1, 2, 10, 1, 11, 1, 13, 12, 7, 32, 2, 31, 4, 1, 5, 9, 1, 13, 5, 1, 2, 2, 37, 40, 2, 1, 11, 2, 2, 1, 1, 1, 1, 1, 7, 2, 1, 1, 3, 1, 2, 1, 2, 7, 5, 4, 1, 1, 11, 1, 1, 4, 1, 1, 1, 3, 7, 4, 11, 8, 1, 1, 7, 11, 1, 19, 11, 2, 11, 3, 4, 3, 3, 11, 43, 3, 18, 26, 37, 3, 9, 2, 6, 2, 1, 1, 1, 1, 2, 1, 1, 1, 3, 1, 1, 1, 1, 1, 1, 1, 1, 1, 1, 2, 10, 1, 1, 3, 1, 4, 1, 7, 3, 8, 5, 21, 11, 2, 9, 5, 1, 2, 13, 1, 1, 1, 1, 1, 6, 31, 1, 4, 36, 1, 2, 1, 1, 1, 2, 3, 1, 1, 6, 3, 1, 11, 6, 26, 8, 2, 23, 1, 3, 3, 1, 3, 1, 5, 1, 1, 1, 1, 1, 9, 1, 2, 1, 3, 1, 2, 7, 1, 18, 3, 2, 3, 3, 5, 2, 2, 13, 8, 13, 4, 1, 5, 6, 1, 1, 1, 1, 10, 2, 26, 1, 17, 8, 9, 1, 6, 1, 1, 9, 1, 6, 1, 1, 4, 7, 1, 7, 17, 1, 22, 21, 21, 1, 1, 11, 11, 1, 2, 5, 2, 25, 3, 2, 11, 26, 8, 19, 17, 3, 2, 2, 3, 7, 6, 3, 2, 12, 10, 25, 1, 1, 1, 5, 2, 2, 2, 1, 1, 1, 1, 5, 9, 3, 3, 1, 1, 3, 1, 2, 6, 1, 1, 1, 1, 3, 1, 6, 1, 9, 1, 4, 2, 2, 19, 1, 1, 11, 2, 6, 2, 2, 1, 4, 12, 1, 1, 1, 1, 1, 1, 1, 16, 2, 23, 1, 4, 1, 3, 1, 1, 1, 6, 1, 1, 3, 1, 5, 14, 3, 1, 1, 7, 1, 1, 5, 6, 5, 1, 2, 1, 1, 1, 8, 6, 12, 9, 4, 2, 2, 35, 2, 1, 8, 6, 3, 2, 2, 11, 2, 1, 1, 2, 2, 17, 1, 1, 1, 1, 1, 1, 1, 2, 1, 1, 1, 3, 1, 8, 2, 4, 1, 16, 13, 3, 3, 2, 1, 1, 5, 1, 1, 1, 1, 4, 1, 1, 3, 1, 4, 1, 3, 4, 6, 3, 3, 4, 1, 1, 2, 1, 1, 1, 1, 10, 6, 7, 7, 1, 3, 7, 5, 1, 4, 2, 2, 1, 31, 1, 6, 24, 10, 4, 1, 2, 1, 1, 1, 1, 2, 1, 1, 2, 2, 2, 2, 3, 4, 23, 2, 8, 4, 8, 3, 1, 13, 2, 1, 2, 1, 2, 8, 6, 2, 1, 2, 2, 8, 1, 1, 1, 1, 1, 2, 1, 2, 1, 1, 10, 1, 1, 2, 3, 1, 16, 1, 8, 3, 3, 2, 2, 2, 1, 1, 60, 1, 1, 1, 2, 2, 4, 7, 1, 1, 2, 1, 1, 2, 2, 1, 1, 3, 1, 1, 1, 2, 1, 10, 1, 1, 1, 1, 1, 3, 1, 1, 1, 2, 1, 3, 1, 4, 1, 1, 2, 1, 3, 8, 6, 1, 3, 1, 1, 1, 5, 1, 3, 2, 1, 8, 1, 1, 1, 1, 1, 1, 8, 7, 1, 14, 32, 92, 99, 2, 6, 4, 3, 4, 3, 4, 3, 5, 1, 9, 1, 1, 1, 1, 2, 1, 12, 2, 2, 4, 2, 2, 3, 6, 1, 4, 1, 1, 1, 1, 1, 2, 3, 3, 3, 4, 3, 2, 3, 1, 1, 4, 1, 4, 2, 6, 11, 4, 5, 7, 10, 2, 1, 4, 10, 5, 9, 5, 9, 2, 2, 3, 2, 1, 1, 2, 1, 6, 6, 1, 6, 10, 2, 1, 4, 2, 2, 1, 1, 1, 1, 3, 3, 9, 5, 2, 26, 2, 2, 2, 6, 13, 2, 2, 15, 6, 3, 3, 3, 2, 5, 2, 3, 3, 2, 2, 6, 2, 2, 1, 1, 1, 1, 4, 3, 1, 1, 2, 1, 1, 1, 1, 1, 1, 1, 1, 1, 1, 1, 1, 1, 1, 5, 4, 1, 1, 1, 1, 1, 1, 2, 2, 2, 2, 2, 2, 1, 6, 2, 1, 2, 2, 1, 1, 1, 1, 1, 3, 1, 4, 5, 3, 6, 4, 3, 4, 1, 1, 1, 1, 4, 6, 1, 1, 2, 1, 1, 1, 1, 1, 2, 6, 1, 1, 1, 3, 1, 4, 1, 1, 1, 1, 1, 1, 3, 1, 1, 2, 1, 2, 2, 1, 2, 1, 1, 2, 2, 7, 1, 1, 1, 7, 1, 7, 13, 1, 1, 2, 1, 2, 1, 1, 1, 2, 3, 3, 1, 2, 2, 2, 2, 2, 2, 4, 7, 1, 11, 7, 2, 4, 2, 2, 2, 2, 2, 7, 4, 15, 1, 2, 2, 1, 1, 1, 1, 1, 1, 24, 7, 1, 1, 1, 4, 2, 2, 1, 1, 1, 4, 3, 3, 8, 4, 1, 13, 5, 10, 8, 5, 4, 9, 2, 1, 1, 1, 1, 1, 1, 3, 1, 1, 3, 1, 2, 10, 11, 4, 3, 11, 2, 7, 2, 3, 3, 2, 2, 2, 1, 1, 3, 6, 1, 8, 5, 1, 6, 1, 8, 2, 2, 2, 1, 2, 1, 3, 1, 4, 7, 2, 1, 1, 2, 5, 1, 1, 1, 4, 1, 2, 1, 1, 1, 3, 3, 1, 13, 13, 3, 1, 1, 4, 2, 1, 8, 1, 3, 3, 1, 1, 1, 2, 2, 2, 16, 4, 2, 1, 2, 1, 1, 2, 2, 2, 1, 2, 2, 2, 1, 1, 1, 1, 1, 1, 1, 1, 1, 1, 5, 14, 3, 4, 2, 18, 1, 3, 3, 3, 3, 3, 3, 5, 6, 3, 1, 14, 8, 6, 3, 2, 8, 1, 2, 3, 8, 4, 1, 2, 3, 2, 2, 1, 1, 1, 1, 2, 2, 3, 7, 4, 2, 2, 2, 2, 4, 6, 4, 5, 5, 2, 5, 4, 5, 3, 2, 2, 2, 3, 4, 2, 1, 1, 2, 5, 1, 1, 3, 1, 1, 5, 4, 5, 11, 1, 1, 2, 1, 1, 1, 1, 1, 1, 1, 1, 1, 1, 1, 1, 1, 1, 1, 1, 2, 3, 1, 1, 1, 2, 2, 2, 2, 2, 2, 3, 2, 4, 1, 1, 2, 1, 1, 1, 1, 1, 1, 1, 1, 1, 1, 1, 1, 2, 1, 1, 1, 1, 1, 1, 2, 1, 1, 4, 4, 1, 1, 1, 1, 1, 2, 1, 1, 8, 1, 1, 1, 1, 1, 2, 1, 2, 1, 1, 1, 1, 1, 4, 2, 1, 4, 3, 1, 2, 1, 2, 3, 3, 1, 2, 2, 2, 2, 6, 2, 4, 2, 2, 2, 1, 1, 1, 1, 1, 1, 1, 1, 1, 1, 1, 1, 1, 1, 1, 1, 1, 2, 1, 1, 1, 1, 1, 5, 4, 1, 1, 1, 1, 1, 1, 1, 2, 7, 2, 1, 1, 1, 1, 1, 3, 5, 5, 11, 3, 4, 2, 2, 1, 1, 1, 1, 1, 1, 1, 1, 1, 1, 1, 1, 1, 1, 1, 3, 1, 1, 1, 1, 5, 6, 1, 1, 1, 3, 2, 1, 1, 2, 3, 2, 1, 1, 4, 9, 1, 2, 2, 1, 4, 1, 4, 1, 3, 1, 1, 1, 1, 4, 3, 2, 1, 2, 2, 1, 1, 4, 4, 1, 1, 5, 1, 1, 1, 1, 1, 1, 1, 1, 1, 2, 2, 1, 1, 1, 1, 1, 1, 1, 1, 1, 1, 4, 1, 1, 1, 1, 1, 1, 1, 1, 2, 1, 1, 2, 2, 5, 2, 2, 1, 1, 3, 1, 1, 3, 3, 4, 7, 8, 1, 1, 1, 1, 2, 1, 1, 1, 1, 1, 1, 1, 6, 1, 1, 1, 1, 3, 5, 6, 3, 2, 2, 1, 2, 2, 2, 3, 3, 2, 2, 2, 1, 2, 1, 1, 1, 1, 1, 1, 1, 1, 2, 1, 1, 1, 2, 1, 1, 3, 2, 1, 1, 2, 2, 2, 1, 1, 3, 1, 1, 1, 1, 2, 1, 1, 2, 1, 1, 1, 1, 2, 1, 1, 1, 1, 1, 1, 1, 1, 3, 1, 2, 1, 1, 1, 1, 1, 1, 1, 1, 1, 1, 2, 1, 2, 1, 1, 1, 1, 1, 2, 2, 2, 2, 1, 1, 4, 1, 1, 1, 1, 1, 1, 1, 1, 1, 1, 1, 1, 4, 1, 1, 2, 1, 1, 1, 1, 1, 1, 1, 1, 1, 2, 2, 3, 1, 1, 1, 1, 1, 1, 1, 1, 1, 1, 1, 1, 1, 2, 1, 1, 1, 2, 2, 1, 2, 1, 2, 1, 1, 2, 3, 1, 1, 1, 1, 1, 1, 1, 2, 2, 4, 1, 1, 1, 1, 1, 1, 1, 1, 1, 1, 1, 1, 1, 1, 1, 1, 1, 2, 2, 2, 1, 1, 1, 7, 7, 2, 1, 1, 1, 3, 1, 1, 1, 1, 3, 1, 1, 1, 1, 2, 1, 3, 3, 1, 1, 1, 1, 1, 1, 1, 1, 1, 1, 1, 1, 1, 1, 1, 2, 3, 1, 2, 1, 2, 2, 2, 1, 1, 1, 1, 1, 1, 2, 1, 2, 1, 1, 2, 1, 1, 1, 1, 1, 2, 2, 2, 2, 1, 2, 1, 1, 1, 2, 1, 1, 1, 1, 1, 1, 1, 1, 1, 2, 1, 1, 1, 1, 1, 1, 1, 1, 2, 2, 1, 2, 1, 1, 1, 2, 2, 1, 1, 1, 1, 1, 1, 1, 1, 1, 1, 1, 3, 2, 1, 1, 1, 1, 1, 1, 1, 2, 1, 1, 1, 1, 1, 1, 2, 1, 1, 1, 1, 2, 1, 2, 2, 1, 1, 1, 1, 1, 1, 1, 1, 1, 1, 2, 1, 2, 1, 1, 1, 1, 1, 2, 1, 1, 1, 1, 1, 1, 1, 1, 1, 1, 1, 1, 1, 1, 1, 1, 1, 1, 1, 1, 1, 2, 1, 2, 1, 1, 1, 1, 1, 1, 1, 1, 1, 1, 1, 1, 2, 2, 1, 1, 1, 1, 1, 1, 1, 1, 2, 1, 2, 1, 1, 1, 2, 1, 4, 1, 1, 1, 1, 1, 4, 1, 1, 1, 1, 1, 1, 1, 2, 2, 1, 1, 1, 1, 1, 1, 1, 1, 2, 1, 1, 1, 1, 1, 1, 2, 1, 1, 1, 1, 1, 1, 1, 1, 1, 1, 1, 1, 1, 1, 1, 1, 1, 1, 1, 1, 1, 1, 1, 1, 1, 1, 1, 1, 1, 1, 1, 1, 1, 1, 2, 1, 1, 1, 1, 1, 1, 2, 1, 1, 1, 1, 1, 1, 1, 1, 1, 1, 1, 1, 1, 1, 1, 1, 1, 1, 1, 1, 1, 1, 1, 1, 1, 1, 1, 1, 1, 1, 1, 2, 1, 2, 3, 1, 1, 1, 2, 1, 1, 2, 1, 1, 1, 1, 1, 1, 1, 1, 1, 1, 1, 1, 1, 1, 1, 1, 1, 1, 1, 1, 1, 1, 1, 1, 1, 1, 1, 1, 1, 1, 1, 1, 1, 1, 1, 1, 1, 1, 1, 1, 1, 1, 1, 1, 1, 1, 1, 1, 1, 1, 1, 1, 1, 1, 1, 1, 1, 1, 1, 1, 1, 5, 1, 2, 2, 1, 1, 1, 1, 1, 2, 1, 1, 1, 1, 1, 1, 1, 1, 1, 1, 1, 1, 1, 3, 2, 2, 2, 2, 2, 2, 2, 2, 2, 1, 1, 1, 1, 1, 1, 2, 2, 1, 1, 1, 2, 2, 2, 1, 1, 2, 2, 2, 1, 1, 1, 1, 1, 1, 1, 1, 1, 1, 1, 1, 1, 1, 1, 1, 1, 1, 1, 1, 1, 1, 1, 1, 1, 1, 1, 1, 1, 1, 1, 1, 1, 1, 1, 1, 1, 1, 1, 1, 1, 1, 1, 1, 1, 1, 1, 1]\n"
     ]
    }
   ],
   "source": [
    "# hitung di berapa dokumen suatu term muncul\n",
    "df_akhir = []\n",
    "countDF(tf_forDF, df_akhir)\n",
    "print(df_akhir)"
   ]
  },
  {
   "attachments": {},
   "cell_type": "markdown",
   "id": "4ea2a937",
   "metadata": {},
   "source": [
    "<h4>Method untuk perhitungan IDF dan TF-IDF</h4>"
   ]
  },
  {
   "cell_type": "code",
   "execution_count": 20,
   "id": "170d9b24",
   "metadata": {},
   "outputs": [],
   "source": [
    "import math\n",
    "\n",
    "# 1. hitung nilai idf\n",
    "def countIDF(dataTable, DFList, IDFList):\n",
    "    for i in range(len(DFList)):\n",
    "        temp = round(math.log10(len(dataTable)/DFList[i]), 5)\n",
    "        IDFList.append(temp)\n",
    "        \n",
    "# 2. hitung nilai tf idf\n",
    "def countTFIDF(TFList, IDFList, TFIDFList):\n",
    "    for i in range(len(TFList)):\n",
    "        doclist = []\n",
    "        for j in range(len(TFList[0])):\n",
    "            if(j == len(TFList[0])-1):\n",
    "                temp = TFList[i][j]\n",
    "                doclist.append(temp)\n",
    "            else:\n",
    "                temp = IDFList[j] * TFList[i][j]\n",
    "                doclist.append(temp)\n",
    "        TFIDFList.append(doclist)  "
   ]
  },
  {
   "cell_type": "code",
   "execution_count": 21,
   "id": "81972ccd",
   "metadata": {},
   "outputs": [
    {
     "name": "stdout",
     "output_type": "stream",
     "text": [
      "[2.69897, 1.03621, 2.09691, 0.76447, 1.37675, 1.46852, 2.0, 1.92082, 1.52288, 1.52288, 2.69897, 2.09691, 1.33724, 1.4437, 1.58503, 2.69897, 0.67778, 0.66959, 2.69897, 2.39794, 2.39794, 0.98297, 2.09691, 2.69897, 2.69897, 2.69897, 2.69897, 1.74473, 2.09691, 1.10791, 1.33724, 1.49485, 2.39794, 1.23657, 1.74473, 1.85387, 1.65758, 2.09691, 1.74473, 2.69897, 2.69897, 1.23657, 1.0655, 2.39794, 1.04576, 1.0, 1.58503, 1.79588, 2.39794, 2.0, 2.09691, 2.09691, 1.26761, 2.39794, 0.92812, 0.73049, 2.69897, 2.0, 0.92812, 2.69897, 2.69897, 2.69897, 1.31876, 1.07572, 2.69897, 2.69897, 2.69897, 2.69897, 2.69897, 2.69897, 2.69897, 2.39794, 2.69897, 2.69897, 2.69897, 2.69897, 1.79588, 1.39794, 2.69897, 1.30103, 2.69897, 2.22185, 2.22185, 1.58503, 1.08619, 1.35655, 1.30103, 1.92082, 0.92082, 1.0655, 1.39794, 2.69897, 1.49485, 1.92082, 1.69897, 1.79588, 1.74473, 1.0, 0.80134, 2.39794, 1.0, 1.85387, 2.39794, 2.22185, 2.69897, 1.25181, 2.22185, 2.69897, 2.09691, 1.49485, 1.92082, 1.74473, 2.69897, 2.09691, 2.09691, 1.42022, 2.69897, 2.39794, 2.39794, 0.9431, 1.74473, 2.0, 2.69897, 2.09691, 1.09691, 2.69897, 2.22185, 1.55284, 1.69897, 1.52288, 2.22185, 2.22185, 1.05552, 0.98297, 1.18046, 2.09691, 1.52288, 2.39794, 1.58503, 2.09691, 2.39794, 2.39794, 2.39794, 2.39794, 2.39794, 2.39794, 2.22185, 2.39794, 2.39794, 2.39794, 2.69897, 2.69897, 1.33724, 1.25181, 1.52288, 2.0, 1.69897, 1.37675, 2.69897, 2.39794, 2.09691, 2.69897, 2.69897, 2.22185, 2.22185, 2.22185, 2.39794, 2.69897, 1.69897, 2.0, 2.69897, 2.69897, 1.42022, 2.39794, 2.0, 1.52288, 2.09691, 1.284, 2.39794, 2.69897, 2.0, 1.92082, 0.9914, 2.69897, 2.69897, 2.69897, 2.69897, 0.52871, 2.09691, 2.22185, 2.22185, 2.69897, 2.39794, 1.69897, 2.69897, 1.65758, 2.69897, 1.58503, 1.61979, 1.85387, 1.19382, 2.39794, 1.20761, 2.09691, 2.69897, 2.0, 1.74473, 2.69897, 1.58503, 2.0, 2.69897, 2.39794, 2.39794, 1.13077, 1.09691, 2.39794, 2.69897, 1.65758, 2.39794, 2.39794, 2.69897, 2.69897, 2.69897, 2.69897, 2.69897, 1.85387, 2.39794, 2.69897, 2.69897, 2.22185, 2.69897, 2.39794, 2.69897, 2.39794, 1.85387, 2.0, 2.09691, 2.69897, 2.69897, 1.65758, 2.69897, 2.69897, 2.09691, 2.69897, 2.69897, 2.69897, 2.22185, 1.85387, 2.09691, 1.65758, 1.79588, 2.69897, 2.69897, 1.85387, 1.65758, 2.69897, 1.42022, 1.65758, 2.39794, 1.65758, 2.22185, 2.09691, 2.22185, 2.22185, 1.65758, 1.0655, 2.22185, 1.4437, 1.284, 1.13077, 2.22185, 1.74473, 2.39794, 1.92082, 2.39794, 2.69897, 2.69897, 2.69897, 2.69897, 2.39794, 2.69897, 2.69897, 2.69897, 2.22185, 2.69897, 2.69897, 2.69897, 2.69897, 2.69897, 2.69897, 2.69897, 2.69897, 2.69897, 2.69897, 2.39794, 1.69897, 2.69897, 2.69897, 2.22185, 2.69897, 2.09691, 2.69897, 1.85387, 2.22185, 1.79588, 2.0, 1.37675, 1.65758, 2.39794, 1.74473, 2.0, 2.69897, 2.39794, 1.58503, 2.69897, 2.69897, 2.69897, 2.69897, 2.69897, 1.92082, 1.20761, 2.69897, 2.09691, 1.14267, 2.69897, 2.39794, 2.69897, 2.69897, 2.69897, 2.39794, 2.22185, 2.69897, 2.69897, 1.92082, 2.22185, 2.69897, 1.65758, 1.92082, 1.284, 1.79588, 2.39794, 1.33724, 2.69897, 2.22185, 2.22185, 2.69897, 2.22185, 2.69897, 2.0, 2.69897, 2.69897, 2.69897, 2.69897, 2.69897, 1.74473, 2.69897, 2.39794, 2.69897, 2.22185, 2.69897, 2.39794, 1.85387, 2.69897, 1.4437, 2.22185, 2.39794, 2.22185, 2.22185, 2.0, 2.39794, 2.39794, 1.58503, 1.79588, 1.58503, 2.09691, 2.69897, 2.0, 1.92082, 2.69897, 2.69897, 2.69897, 2.69897, 1.69897, 2.39794, 1.284, 2.69897, 1.46852, 1.79588, 1.74473, 2.69897, 1.92082, 2.69897, 2.69897, 1.74473, 2.69897, 1.92082, 2.69897, 2.69897, 2.09691, 1.85387, 2.69897, 1.85387, 1.46852, 2.69897, 1.35655, 1.37675, 1.37675, 2.69897, 2.69897, 1.65758, 1.65758, 2.69897, 2.39794, 2.0, 2.39794, 1.30103, 2.22185, 2.39794, 1.65758, 1.284, 1.79588, 1.42022, 1.46852, 2.22185, 2.39794, 2.39794, 2.22185, 1.85387, 1.92082, 2.22185, 2.39794, 1.61979, 1.69897, 1.30103, 2.69897, 2.69897, 2.69897, 2.0, 2.39794, 2.39794, 2.39794, 2.69897, 2.69897, 2.69897, 2.69897, 2.0, 1.74473, 2.22185, 2.22185, 2.69897, 2.69897, 2.22185, 2.69897, 2.39794, 1.92082, 2.69897, 2.69897, 2.69897, 2.69897, 2.22185, 2.69897, 1.92082, 2.69897, 1.74473, 2.69897, 2.09691, 2.39794, 2.39794, 1.42022, 2.69897, 2.69897, 1.65758, 2.39794, 1.92082, 2.39794, 2.39794, 2.69897, 2.09691, 1.61979, 2.69897, 2.69897, 2.69897, 2.69897, 2.69897, 2.69897, 2.69897, 1.49485, 2.39794, 1.33724, 2.69897, 2.09691, 2.69897, 2.22185, 2.69897, 2.69897, 2.69897, 1.92082, 2.69897, 2.69897, 2.22185, 2.69897, 2.0, 1.55284, 2.22185, 2.69897, 2.69897, 1.85387, 2.69897, 2.69897, 2.0, 1.92082, 2.0, 2.69897, 2.39794, 2.69897, 2.69897, 2.69897, 1.79588, 1.92082, 1.61979, 1.74473, 2.09691, 2.39794, 2.39794, 1.1549, 2.39794, 2.69897, 1.79588, 1.92082, 2.22185, 2.39794, 2.39794, 1.65758, 2.39794, 2.69897, 2.69897, 2.39794, 2.39794, 1.46852, 2.69897, 2.69897, 2.69897, 2.69897, 2.69897, 2.69897, 2.69897, 2.39794, 2.69897, 2.69897, 2.69897, 2.22185, 2.69897, 1.79588, 2.39794, 2.09691, 2.69897, 1.49485, 1.58503, 2.22185, 2.22185, 2.39794, 2.69897, 2.69897, 2.0, 2.69897, 2.69897, 2.69897, 2.69897, 2.09691, 2.69897, 2.69897, 2.22185, 2.69897, 2.09691, 2.69897, 2.22185, 2.09691, 1.92082, 2.22185, 2.22185, 2.09691, 2.69897, 2.69897, 2.39794, 2.69897, 2.69897, 2.69897, 2.69897, 1.69897, 1.92082, 1.85387, 1.85387, 2.69897, 2.22185, 1.85387, 2.0, 2.69897, 2.09691, 2.39794, 2.39794, 2.69897, 1.20761, 2.69897, 1.92082, 1.31876, 1.69897, 2.09691, 2.69897, 2.39794, 2.69897, 2.69897, 2.69897, 2.69897, 2.39794, 2.69897, 2.69897, 2.39794, 2.39794, 2.39794, 2.39794, 2.22185, 2.09691, 1.33724, 2.39794, 1.79588, 2.09691, 1.79588, 2.22185, 2.69897, 1.58503, 2.39794, 2.69897, 2.39794, 2.69897, 2.39794, 1.79588, 1.92082, 2.39794, 2.69897, 2.39794, 2.39794, 1.79588, 2.69897, 2.69897, 2.69897, 2.69897, 2.69897, 2.39794, 2.69897, 2.39794, 2.69897, 2.69897, 1.69897, 2.69897, 2.69897, 2.39794, 2.22185, 2.69897, 1.49485, 2.69897, 1.79588, 2.22185, 2.22185, 2.39794, 2.39794, 2.39794, 2.69897, 2.69897, 0.92082, 2.69897, 2.69897, 2.69897, 2.39794, 2.39794, 2.09691, 1.85387, 2.69897, 2.69897, 2.39794, 2.69897, 2.69897, 2.39794, 2.39794, 2.69897, 2.69897, 2.22185, 2.69897, 2.69897, 2.69897, 2.39794, 2.69897, 1.69897, 2.69897, 2.69897, 2.69897, 2.69897, 2.69897, 2.22185, 2.69897, 2.69897, 2.69897, 2.39794, 2.69897, 2.22185, 2.69897, 2.09691, 2.69897, 2.69897, 2.39794, 2.69897, 2.22185, 1.79588, 1.92082, 2.69897, 2.22185, 2.69897, 2.69897, 2.69897, 2.0, 2.69897, 2.22185, 2.39794, 2.69897, 1.79588, 2.69897, 2.69897, 2.69897, 2.69897, 2.69897, 2.69897, 1.79588, 1.85387, 2.69897, 1.55284, 1.19382, 0.73518, 0.70333, 2.39794, 1.92082, 2.09691, 2.22185, 2.09691, 2.22185, 2.09691, 2.22185, 2.0, 2.69897, 1.74473, 2.69897, 2.69897, 2.69897, 2.69897, 2.39794, 2.69897, 1.61979, 2.39794, 2.39794, 2.09691, 2.39794, 2.39794, 2.22185, 1.92082, 2.69897, 2.09691, 2.69897, 2.69897, 2.69897, 2.69897, 2.69897, 2.39794, 2.22185, 2.22185, 2.22185, 2.09691, 2.22185, 2.39794, 2.22185, 2.69897, 2.69897, 2.09691, 2.69897, 2.09691, 2.39794, 1.92082, 1.65758, 2.09691, 2.0, 1.85387, 1.69897, 2.39794, 2.69897, 2.09691, 1.69897, 2.0, 1.74473, 2.0, 1.74473, 2.39794, 2.39794, 2.22185, 2.39794, 2.69897, 2.69897, 2.39794, 2.69897, 1.92082, 1.92082, 2.69897, 1.92082, 1.69897, 2.39794, 2.69897, 2.09691, 2.39794, 2.39794, 2.69897, 2.69897, 2.69897, 2.69897, 2.22185, 2.22185, 1.74473, 2.0, 2.39794, 1.284, 2.39794, 2.39794, 2.39794, 1.92082, 1.58503, 2.39794, 2.39794, 1.52288, 1.92082, 2.22185, 2.22185, 2.22185, 2.39794, 2.0, 2.39794, 2.22185, 2.22185, 2.39794, 2.39794, 1.92082, 2.39794, 2.39794, 2.69897, 2.69897, 2.69897, 2.69897, 2.09691, 2.22185, 2.69897, 2.69897, 2.39794, 2.69897, 2.69897, 2.69897, 2.69897, 2.69897, 2.69897, 2.69897, 2.69897, 2.69897, 2.69897, 2.69897, 2.69897, 2.69897, 2.69897, 2.0, 2.09691, 2.69897, 2.69897, 2.69897, 2.69897, 2.69897, 2.69897, 2.39794, 2.39794, 2.39794, 2.39794, 2.39794, 2.39794, 2.69897, 1.92082, 2.39794, 2.69897, 2.39794, 2.39794, 2.69897, 2.69897, 2.69897, 2.69897, 2.69897, 2.22185, 2.69897, 2.09691, 2.0, 2.22185, 1.92082, 2.09691, 2.22185, 2.09691, 2.69897, 2.69897, 2.69897, 2.69897, 2.09691, 1.92082, 2.69897, 2.69897, 2.39794, 2.69897, 2.69897, 2.69897, 2.69897, 2.69897, 2.39794, 1.92082, 2.69897, 2.69897, 2.69897, 2.22185, 2.69897, 2.09691, 2.69897, 2.69897, 2.69897, 2.69897, 2.69897, 2.69897, 2.22185, 2.69897, 2.69897, 2.39794, 2.69897, 2.39794, 2.39794, 2.69897, 2.39794, 2.69897, 2.69897, 2.39794, 2.39794, 1.85387, 2.69897, 2.69897, 2.69897, 1.85387, 2.69897, 1.85387, 1.58503, 2.69897, 2.69897, 2.39794, 2.69897, 2.39794, 2.69897, 2.69897, 2.69897, 2.39794, 2.22185, 2.22185, 2.69897, 2.39794, 2.39794, 2.39794, 2.39794, 2.39794, 2.39794, 2.09691, 1.85387, 2.69897, 1.65758, 1.85387, 2.39794, 2.09691, 2.39794, 2.39794, 2.39794, 2.39794, 2.39794, 1.85387, 2.09691, 1.52288, 2.69897, 2.39794, 2.39794, 2.69897, 2.69897, 2.69897, 2.69897, 2.69897, 2.69897, 1.31876, 1.85387, 2.69897, 2.69897, 2.69897, 2.09691, 2.39794, 2.39794, 2.69897, 2.69897, 2.69897, 2.09691, 2.22185, 2.22185, 1.79588, 2.09691, 2.69897, 1.58503, 2.0, 1.69897, 1.79588, 2.0, 2.09691, 1.74473, 2.39794, 2.69897, 2.69897, 2.69897, 2.69897, 2.69897, 2.69897, 2.22185, 2.69897, 2.69897, 2.22185, 2.69897, 2.39794, 1.69897, 1.65758, 2.09691, 2.22185, 1.65758, 2.39794, 1.85387, 2.39794, 2.22185, 2.22185, 2.39794, 2.39794, 2.39794, 2.69897, 2.69897, 2.22185, 1.92082, 2.69897, 1.79588, 2.0, 2.69897, 1.92082, 2.69897, 1.79588, 2.39794, 2.39794, 2.39794, 2.69897, 2.39794, 2.69897, 2.22185, 2.69897, 2.09691, 1.85387, 2.39794, 2.69897, 2.69897, 2.39794, 2.0, 2.69897, 2.69897, 2.69897, 2.09691, 2.69897, 2.39794, 2.69897, 2.69897, 2.69897, 2.22185, 2.22185, 2.69897, 1.58503, 1.58503, 2.22185, 2.69897, 2.69897, 2.09691, 2.39794, 2.69897, 1.79588, 2.69897, 2.22185, 2.22185, 2.69897, 2.69897, 2.69897, 2.39794, 2.39794, 2.39794, 1.49485, 2.09691, 2.39794, 2.69897, 2.39794, 2.69897, 2.69897, 2.39794, 2.39794, 2.39794, 2.69897, 2.39794, 2.39794, 2.39794, 2.69897, 2.69897, 2.69897, 2.69897, 2.69897, 2.69897, 2.69897, 2.69897, 2.69897, 2.69897, 2.0, 1.55284, 2.22185, 2.09691, 2.39794, 1.4437, 2.69897, 2.22185, 2.22185, 2.22185, 2.22185, 2.22185, 2.22185, 2.0, 1.92082, 2.22185, 2.69897, 1.55284, 1.79588, 1.92082, 2.22185, 2.39794, 1.79588, 2.69897, 2.39794, 2.22185, 1.79588, 2.09691, 2.69897, 2.39794, 2.22185, 2.39794, 2.39794, 2.69897, 2.69897, 2.69897, 2.69897, 2.39794, 2.39794, 2.22185, 1.85387, 2.09691, 2.39794, 2.39794, 2.39794, 2.39794, 2.09691, 1.92082, 2.09691, 2.0, 2.0, 2.39794, 2.0, 2.09691, 2.0, 2.22185, 2.39794, 2.39794, 2.39794, 2.22185, 2.09691, 2.39794, 2.69897, 2.69897, 2.39794, 2.0, 2.69897, 2.69897, 2.22185, 2.69897, 2.69897, 2.0, 2.09691, 2.0, 1.65758, 2.69897, 2.69897, 2.39794, 2.69897, 2.69897, 2.69897, 2.69897, 2.69897, 2.69897, 2.69897, 2.69897, 2.69897, 2.69897, 2.69897, 2.69897, 2.69897, 2.69897, 2.69897, 2.69897, 2.39794, 2.22185, 2.69897, 2.69897, 2.69897, 2.39794, 2.39794, 2.39794, 2.39794, 2.39794, 2.39794, 2.22185, 2.39794, 2.09691, 2.69897, 2.69897, 2.39794, 2.69897, 2.69897, 2.69897, 2.69897, 2.69897, 2.69897, 2.69897, 2.69897, 2.69897, 2.69897, 2.69897, 2.69897, 2.39794, 2.69897, 2.69897, 2.69897, 2.69897, 2.69897, 2.69897, 2.39794, 2.69897, 2.69897, 2.09691, 2.09691, 2.69897, 2.69897, 2.69897, 2.69897, 2.69897, 2.39794, 2.69897, 2.69897, 1.79588, 2.69897, 2.69897, 2.69897, 2.69897, 2.69897, 2.39794, 2.69897, 2.39794, 2.69897, 2.69897, 2.69897, 2.69897, 2.69897, 2.09691, 2.39794, 2.69897, 2.09691, 2.22185, 2.69897, 2.39794, 2.69897, 2.39794, 2.22185, 2.22185, 2.69897, 2.39794, 2.39794, 2.39794, 2.39794, 1.92082, 2.39794, 2.09691, 2.39794, 2.39794, 2.39794, 2.69897, 2.69897, 2.69897, 2.69897, 2.69897, 2.69897, 2.69897, 2.69897, 2.69897, 2.69897, 2.69897, 2.69897, 2.69897, 2.69897, 2.69897, 2.69897, 2.69897, 2.39794, 2.69897, 2.69897, 2.69897, 2.69897, 2.69897, 2.0, 2.09691, 2.69897, 2.69897, 2.69897, 2.69897, 2.69897, 2.69897, 2.69897, 2.39794, 1.85387, 2.39794, 2.69897, 2.69897, 2.69897, 2.69897, 2.69897, 2.22185, 2.0, 2.0, 1.65758, 2.22185, 2.09691, 2.39794, 2.39794, 2.69897, 2.69897, 2.69897, 2.69897, 2.69897, 2.69897, 2.69897, 2.69897, 2.69897, 2.69897, 2.69897, 2.69897, 2.69897, 2.69897, 2.69897, 2.22185, 2.69897, 2.69897, 2.69897, 2.69897, 2.0, 1.92082, 2.69897, 2.69897, 2.69897, 2.22185, 2.39794, 2.69897, 2.69897, 2.39794, 2.22185, 2.39794, 2.69897, 2.69897, 2.09691, 1.74473, 2.69897, 2.39794, 2.39794, 2.69897, 2.09691, 2.69897, 2.09691, 2.69897, 2.22185, 2.69897, 2.69897, 2.69897, 2.69897, 2.09691, 2.22185, 2.39794, 2.69897, 2.39794, 2.39794, 2.69897, 2.69897, 2.09691, 2.09691, 2.69897, 2.69897, 2.0, 2.69897, 2.69897, 2.69897, 2.69897, 2.69897, 2.69897, 2.69897, 2.69897, 2.69897, 2.39794, 2.39794, 2.69897, 2.69897, 2.69897, 2.69897, 2.69897, 2.69897, 2.69897, 2.69897, 2.69897, 2.69897, 2.09691, 2.69897, 2.69897, 2.69897, 2.69897, 2.69897, 2.69897, 2.69897, 2.69897, 2.39794, 2.69897, 2.69897, 2.39794, 2.39794, 2.0, 2.39794, 2.39794, 2.69897, 2.69897, 2.22185, 2.69897, 2.69897, 2.22185, 2.22185, 2.09691, 1.85387, 1.79588, 2.69897, 2.69897, 2.69897, 2.69897, 2.39794, 2.69897, 2.69897, 2.69897, 2.69897, 2.69897, 2.69897, 2.69897, 1.92082, 2.69897, 2.69897, 2.69897, 2.69897, 2.22185, 2.0, 1.92082, 2.22185, 2.39794, 2.39794, 2.69897, 2.39794, 2.39794, 2.39794, 2.22185, 2.22185, 2.39794, 2.39794, 2.39794, 2.69897, 2.39794, 2.69897, 2.69897, 2.69897, 2.69897, 2.69897, 2.69897, 2.69897, 2.69897, 2.39794, 2.69897, 2.69897, 2.69897, 2.39794, 2.69897, 2.69897, 2.22185, 2.39794, 2.69897, 2.69897, 2.39794, 2.39794, 2.39794, 2.69897, 2.69897, 2.22185, 2.69897, 2.69897, 2.69897, 2.69897, 2.39794, 2.69897, 2.69897, 2.39794, 2.69897, 2.69897, 2.69897, 2.69897, 2.39794, 2.69897, 2.69897, 2.69897, 2.69897, 2.69897, 2.69897, 2.69897, 2.69897, 2.22185, 2.69897, 2.39794, 2.69897, 2.69897, 2.69897, 2.69897, 2.69897, 2.69897, 2.69897, 2.69897, 2.69897, 2.69897, 2.39794, 2.69897, 2.39794, 2.69897, 2.69897, 2.69897, 2.69897, 2.69897, 2.39794, 2.39794, 2.39794, 2.39794, 2.69897, 2.69897, 2.09691, 2.69897, 2.69897, 2.69897, 2.69897, 2.69897, 2.69897, 2.69897, 2.69897, 2.69897, 2.69897, 2.69897, 2.69897, 2.09691, 2.69897, 2.69897, 2.39794, 2.69897, 2.69897, 2.69897, 2.69897, 2.69897, 2.69897, 2.69897, 2.69897, 2.69897, 2.39794, 2.39794, 2.22185, 2.69897, 2.69897, 2.69897, 2.69897, 2.69897, 2.69897, 2.69897, 2.69897, 2.69897, 2.69897, 2.69897, 2.69897, 2.69897, 2.39794, 2.69897, 2.69897, 2.69897, 2.39794, 2.39794, 2.69897, 2.39794, 2.69897, 2.39794, 2.69897, 2.69897, 2.39794, 2.22185, 2.69897, 2.69897, 2.69897, 2.69897, 2.69897, 2.69897, 2.69897, 2.39794, 2.39794, 2.09691, 2.69897, 2.69897, 2.69897, 2.69897, 2.69897, 2.69897, 2.69897, 2.69897, 2.69897, 2.69897, 2.69897, 2.69897, 2.69897, 2.69897, 2.69897, 2.69897, 2.69897, 2.39794, 2.39794, 2.39794, 2.69897, 2.69897, 2.69897, 1.85387, 1.85387, 2.39794, 2.69897, 2.69897, 2.69897, 2.22185, 2.69897, 2.69897, 2.69897, 2.69897, 2.22185, 2.69897, 2.69897, 2.69897, 2.69897, 2.39794, 2.69897, 2.22185, 2.22185, 2.69897, 2.69897, 2.69897, 2.69897, 2.69897, 2.69897, 2.69897, 2.69897, 2.69897, 2.69897, 2.69897, 2.69897, 2.69897, 2.69897, 2.69897, 2.39794, 2.22185, 2.69897, 2.39794, 2.69897, 2.39794, 2.39794, 2.39794, 2.69897, 2.69897, 2.69897, 2.69897, 2.69897, 2.69897, 2.39794, 2.69897, 2.39794, 2.69897, 2.69897, 2.39794, 2.69897, 2.69897, 2.69897, 2.69897, 2.69897, 2.39794, 2.39794, 2.39794, 2.39794, 2.69897, 2.39794, 2.69897, 2.69897, 2.69897, 2.39794, 2.69897, 2.69897, 2.69897, 2.69897, 2.69897, 2.69897, 2.69897, 2.69897, 2.69897, 2.39794, 2.69897, 2.69897, 2.69897, 2.69897, 2.69897, 2.69897, 2.69897, 2.69897, 2.39794, 2.39794, 2.69897, 2.39794, 2.69897, 2.69897, 2.69897, 2.39794, 2.39794, 2.69897, 2.69897, 2.69897, 2.69897, 2.69897, 2.69897, 2.69897, 2.69897, 2.69897, 2.69897, 2.69897, 2.22185, 2.39794, 2.69897, 2.69897, 2.69897, 2.69897, 2.69897, 2.69897, 2.69897, 2.39794, 2.69897, 2.69897, 2.69897, 2.69897, 2.69897, 2.69897, 2.39794, 2.69897, 2.69897, 2.69897, 2.69897, 2.39794, 2.69897, 2.39794, 2.39794, 2.69897, 2.69897, 2.69897, 2.69897, 2.69897, 2.69897, 2.69897, 2.69897, 2.69897, 2.69897, 2.39794, 2.69897, 2.39794, 2.69897, 2.69897, 2.69897, 2.69897, 2.69897, 2.39794, 2.69897, 2.69897, 2.69897, 2.69897, 2.69897, 2.69897, 2.69897, 2.69897, 2.69897, 2.69897, 2.69897, 2.69897, 2.69897, 2.69897, 2.69897, 2.69897, 2.69897, 2.69897, 2.69897, 2.69897, 2.69897, 2.39794, 2.69897, 2.39794, 2.69897, 2.69897, 2.69897, 2.69897, 2.69897, 2.69897, 2.69897, 2.69897, 2.69897, 2.69897, 2.69897, 2.69897, 2.39794, 2.39794, 2.69897, 2.69897, 2.69897, 2.69897, 2.69897, 2.69897, 2.69897, 2.69897, 2.39794, 2.69897, 2.39794, 2.69897, 2.69897, 2.69897, 2.39794, 2.69897, 2.09691, 2.69897, 2.69897, 2.69897, 2.69897, 2.69897, 2.09691, 2.69897, 2.69897, 2.69897, 2.69897, 2.69897, 2.69897, 2.69897, 2.39794, 2.39794, 2.69897, 2.69897, 2.69897, 2.69897, 2.69897, 2.69897, 2.69897, 2.69897, 2.39794, 2.69897, 2.69897, 2.69897, 2.69897, 2.69897, 2.69897, 2.39794, 2.69897, 2.69897, 2.69897, 2.69897, 2.69897, 2.69897, 2.69897, 2.69897, 2.69897, 2.69897, 2.69897, 2.69897, 2.69897, 2.69897, 2.69897, 2.69897, 2.69897, 2.69897, 2.69897, 2.69897, 2.69897, 2.69897, 2.69897, 2.69897, 2.69897, 2.69897, 2.69897, 2.69897, 2.69897, 2.69897, 2.69897, 2.69897, 2.69897, 2.69897, 2.39794, 2.69897, 2.69897, 2.69897, 2.69897, 2.69897, 2.69897, 2.39794, 2.69897, 2.69897, 2.69897, 2.69897, 2.69897, 2.69897, 2.69897, 2.69897, 2.69897, 2.69897, 2.69897, 2.69897, 2.69897, 2.69897, 2.69897, 2.69897, 2.69897, 2.69897, 2.69897, 2.69897, 2.69897, 2.69897, 2.69897, 2.69897, 2.69897, 2.69897, 2.69897, 2.69897, 2.69897, 2.69897, 2.69897, 2.39794, 2.69897, 2.39794, 2.22185, 2.69897, 2.69897, 2.69897, 2.39794, 2.69897, 2.69897, 2.39794, 2.69897, 2.69897, 2.69897, 2.69897, 2.69897, 2.69897, 2.69897, 2.69897, 2.69897, 2.69897, 2.69897, 2.69897, 2.69897, 2.69897, 2.69897, 2.69897, 2.69897, 2.69897, 2.69897, 2.69897, 2.69897, 2.69897, 2.69897, 2.69897, 2.69897, 2.69897, 2.69897, 2.69897, 2.69897, 2.69897, 2.69897, 2.69897, 2.69897, 2.69897, 2.69897, 2.69897, 2.69897, 2.69897, 2.69897, 2.69897, 2.69897, 2.69897, 2.69897, 2.69897, 2.69897, 2.69897, 2.69897, 2.69897, 2.69897, 2.69897, 2.69897, 2.69897, 2.69897, 2.69897, 2.69897, 2.69897, 2.69897, 2.69897, 2.69897, 2.69897, 2.69897, 2.0, 2.69897, 2.39794, 2.39794, 2.69897, 2.69897, 2.69897, 2.69897, 2.69897, 2.39794, 2.69897, 2.69897, 2.69897, 2.69897, 2.69897, 2.69897, 2.69897, 2.69897, 2.69897, 2.69897, 2.69897, 2.69897, 2.69897, 2.22185, 2.39794, 2.39794, 2.39794, 2.39794, 2.39794, 2.39794, 2.39794, 2.39794, 2.39794, 2.69897, 2.69897, 2.69897, 2.69897, 2.69897, 2.69897, 2.39794, 2.39794, 2.69897, 2.69897, 2.69897, 2.39794, 2.39794, 2.39794, 2.69897, 2.69897, 2.39794, 2.39794, 2.39794, 2.69897, 2.69897, 2.69897, 2.69897, 2.69897, 2.69897, 2.69897, 2.69897, 2.69897, 2.69897, 2.69897, 2.69897, 2.69897, 2.69897, 2.69897, 2.69897, 2.69897, 2.69897, 2.69897, 2.69897, 2.69897, 2.69897, 2.69897, 2.69897, 2.69897, 2.69897, 2.69897, 2.69897, 2.69897, 2.69897, 2.69897, 2.69897, 2.69897, 2.69897, 2.69897, 2.69897, 2.69897, 2.69897, 2.69897, 2.69897, 2.69897, 2.69897, 2.69897, 2.69897, 2.69897, 2.69897, 2.69897, 2.69897]\n"
     ]
    }
   ],
   "source": [
    "# hitung nilai idf\n",
    "idf = []\n",
    "countIDF(df, df_akhir, idf)\n",
    "print(idf)"
   ]
  },
  {
   "cell_type": "code",
   "execution_count": 22,
   "id": "b67d8b14",
   "metadata": {},
   "outputs": [
    {
     "name": "stdout",
     "output_type": "stream",
     "text": [
      "[[2.69897, 1.03621, 2.09691, 0.76447, 2.7535, 1.46852, 2.0, 1.92082, 3.04576, 1.52288, 2.69897, 2.09691, 1.33724, 1.4437, 1.58503, 2.69897, 0.67778, 0.66959, 2.69897, 0.0, 0.0, 0.0, 0.0, 0.0, 0.0, 0.0, 0.0, 0.0, 0.0, 0.0, 0.0, 0.0, 0.0, 0.0, 0.0, 0.0, 0.0, 0.0, 0.0, 0.0, 0.0, 0.0, 0.0, 0.0, 0.0, 0.0, 0.0, 0.0, 0.0, 0.0, 0.0, 0.0, 0.0, 0.0, 0.0, 0.0, 0.0, 0.0, 0.0, 0.0, 0.0, 0.0, 0.0, 0.0, 0.0, 0.0, 0.0, 0.0, 0.0, 0.0, 0.0, 0.0, 0.0, 0.0, 0.0, 0.0, 0.0, 0.0, 0.0, 0.0, 0.0, 0.0, 0.0, 0.0, 0.0, 0.0, 0.0, 0.0, 0.0, 0.0, 0.0, 0.0, 0.0, 0.0, 0.0, 0.0, 0.0, 0.0, 0.0, 0.0, 0.0, 0.0, 0.0, 0.0, 0.0, 0.0, 0.0, 0.0, 0.0, 0.0, 0.0, 0.0, 0.0, 0.0, 0.0, 0.0, 0.0, 0.0, 0.0, 0.0, 0.0, 0.0, 0.0, 0.0, 0.0, 0.0, 0.0, 0.0, 0.0, 0.0, 0.0, 0.0, 0.0, 0.0, 0.0, 0.0, 0.0, 0.0, 0.0, 0.0, 0.0, 0.0, 0.0, 0.0, 0.0, 0.0, 0.0, 0.0, 0.0, 0.0, 0.0, 0.0, 0.0, 0.0, 0.0, 0.0, 0.0, 0.0, 0.0, 0.0, 0.0, 0.0, 0.0, 0.0, 0.0, 0.0, 0.0, 0.0, 0.0, 0.0, 0.0, 0.0, 0.0, 0.0, 0.0, 0.0, 0.0, 0.0, 0.0, 0.0, 0.0, 0.0, 0.0, 0.0, 0.0, 0.0, 0.0, 0.0, 0.0, 0.0, 0.0, 0.0, 0.0, 0.0, 0.0, 0.0, 0.0, 0.0, 0.0, 0.0, 0.0, 0.0, 0.0, 0.0, 0.0, 0.0, 0.0, 0.0, 0.0, 0.0, 0.0, 0.0, 0.0, 0.0, 0.0, 0.0, 0.0, 0.0, 0.0, 0.0, 0.0, 0.0, 0.0, 0.0, 0.0, 0.0, 0.0, 0.0, 0.0, 0.0, 0.0, 0.0, 0.0, 0.0, 0.0, 0.0, 0.0, 0.0, 0.0, 0.0, 0.0, 0.0, 0.0, 0.0, 0.0, 0.0, 0.0, 0.0, 0.0, 0.0, 0.0, 0.0, 0.0, 0.0, 0.0, 0.0, 0.0, 0.0, 0.0, 0.0, 0.0, 0.0, 0.0, 0.0, 0.0, 0.0, 0.0, 0.0, 0.0, 0.0, 0.0, 0.0, 0.0, 0.0, 0.0, 0.0, 0.0, 0.0, 0.0, 0.0, 0.0, 0.0, 0.0, 0.0, 0.0, 0.0, 0.0, 0.0, 0.0, 0.0, 0.0, 0.0, 0.0, 0.0, 0.0, 0.0, 0.0, 0.0, 0.0, 0.0, 0.0, 0.0, 0.0, 0.0, 0.0, 0.0, 0.0, 0.0, 0.0, 0.0, 0.0, 0.0, 0.0, 0.0, 0.0, 0.0, 0.0, 0.0, 0.0, 0.0, 0.0, 0.0, 0.0, 0.0, 0.0, 0.0, 0.0, 0.0, 0.0, 0.0, 0.0, 0.0, 0.0, 0.0, 0.0, 0.0, 0.0, 0.0, 0.0, 0.0, 0.0, 0.0, 0.0, 0.0, 0.0, 0.0, 0.0, 0.0, 0.0, 0.0, 0.0, 0.0, 0.0, 0.0, 0.0, 0.0, 0.0, 0.0, 0.0, 0.0, 0.0, 0.0, 0.0, 0.0, 0.0, 0.0, 0.0, 0.0, 0.0, 0.0, 0.0, 0.0, 0.0, 0.0, 0.0, 0.0, 0.0, 0.0, 0.0, 0.0, 0.0, 0.0, 0.0, 0.0, 0.0, 0.0, 0.0, 0.0, 0.0, 0.0, 0.0, 0.0, 0.0, 0.0, 0.0, 0.0, 0.0, 0.0, 0.0, 0.0, 0.0, 0.0, 0.0, 0.0, 0.0, 0.0, 0.0, 0.0, 0.0, 0.0, 0.0, 0.0, 0.0, 0.0, 0.0, 0.0, 0.0, 0.0, 0.0, 0.0, 0.0, 0.0, 0.0, 0.0, 0.0, 0.0, 0.0, 0.0, 0.0, 0.0, 0.0, 0.0, 0.0, 0.0, 0.0, 0.0, 0.0, 0.0, 0.0, 0.0, 0.0, 0.0, 0.0, 0.0, 0.0, 0.0, 0.0, 0.0, 0.0, 0.0, 0.0, 0.0, 0.0, 0.0, 0.0, 0.0, 0.0, 0.0, 0.0, 0.0, 0.0, 0.0, 0.0, 0.0, 0.0, 0.0, 0.0, 0.0, 0.0, 0.0, 0.0, 0.0, 0.0, 0.0, 0.0, 0.0, 0.0, 0.0, 0.0, 0.0, 0.0, 0.0, 0.0, 0.0, 0.0, 0.0, 0.0, 0.0, 0.0, 0.0, 0.0, 0.0, 0.0, 0.0, 0.0, 0.0, 0.0, 0.0, 0.0, 0.0, 0.0, 0.0, 0.0, 0.0, 0.0, 0.0, 0.0, 0.0, 0.0, 0.0, 0.0, 0.0, 0.0, 0.0, 0.0, 0.0, 0.0, 0.0, 0.0, 0.0, 0.0, 0.0, 0.0, 0.0, 0.0, 0.0, 0.0, 0.0, 0.0, 0.0, 0.0, 0.0, 0.0, 0.0, 0.0, 0.0, 0.0, 0.0, 0.0, 0.0, 0.0, 0.0, 0.0, 0.0, 0.0, 0.0, 0.0, 0.0, 0.0, 0.0, 0.0, 0.0, 0.0, 0.0, 0.0, 0.0, 0.0, 0.0, 0.0, 0.0, 0.0, 0.0, 0.0, 0.0, 0.0, 0.0, 0.0, 0.0, 0.0, 0.0, 0.0, 0.0, 0.0, 0.0, 0.0, 0.0, 0.0, 0.0, 0.0, 0.0, 0.0, 0.0, 0.0, 0.0, 0.0, 0.0, 0.0, 0.0, 0.0, 0.0, 0.0, 0.0, 0.0, 0.0, 0.0, 0.0, 0.0, 0.0, 0.0, 0.0, 0.0, 0.0, 0.0, 0.0, 0.0, 0.0, 0.0, 0.0, 0.0, 0.0, 0.0, 0.0, 0.0, 0.0, 0.0, 0.0, 0.0, 0.0, 0.0, 0.0, 0.0, 0.0, 0.0, 0.0, 0.0, 0.0, 0.0, 0.0, 0.0, 0.0, 0.0, 0.0, 0.0, 0.0, 0.0, 0.0, 0.0, 0.0, 0.0, 0.0, 0.0, 0.0, 0.0, 0.0, 0.0, 0.0, 0.0, 0.0, 0.0, 0.0, 0.0, 0.0, 0.0, 0.0, 0.0, 0.0, 0.0, 0.0, 0.0, 0.0, 0.0, 0.0, 0.0, 0.0, 0.0, 0.0, 0.0, 0.0, 0.0, 0.0, 0.0, 0.0, 0.0, 0.0, 0.0, 0.0, 0.0, 0.0, 0.0, 0.0, 0.0, 0.0, 0.0, 0.0, 0.0, 0.0, 0.0, 0.0, 0.0, 0.0, 0.0, 0.0, 0.0, 0.0, 0.0, 0.0, 0.0, 0.0, 0.0, 0.0, 0.0, 0.0, 0.0, 0.0, 0.0, 0.0, 0.0, 0.0, 0.0, 0.0, 0.0, 0.0, 0.0, 0.0, 0.0, 0.0, 0.0, 0.0, 0.0, 0.0, 0.0, 0.0, 0.0, 0.0, 0.0, 0.0, 0.0, 0.0, 0.0, 0.0, 0.0, 0.0, 0.0, 0.0, 0.0, 0.0, 0.0, 0.0, 0.0, 0.0, 0.0, 0.0, 0.0, 0.0, 0.0, 0.0, 0.0, 0.0, 0.0, 0.0, 0.0, 0.0, 0.0, 0.0, 0.0, 0.0, 0.0, 0.0, 0.0, 0.0, 0.0, 0.0, 0.0, 0.0, 0.0, 0.0, 0.0, 0.0, 0.0, 0.0, 0.0, 0.0, 0.0, 0.0, 0.0, 0.0, 0.0, 0.0, 0.0, 0.0, 0.0, 0.0, 0.0, 0.0, 0.0, 0.0, 0.0, 0.0, 0.0, 0.0, 0.0, 0.0, 0.0, 0.0, 0.0, 0.0, 0.0, 0.0, 0.0, 0.0, 0.0, 0.0, 0.0, 0.0, 0.0, 0.0, 0.0, 0.0, 0.0, 0.0, 0.0, 0.0, 0.0, 0.0, 0.0, 0.0, 0.0, 0.0, 0.0, 0.0, 0.0, 0.0, 0.0, 0.0, 0.0, 0.0, 0.0, 0.0, 0.0, 0.0, 0.0, 0.0, 0.0, 0.0, 0.0, 0.0, 0.0, 0.0, 0.0, 0.0, 0.0, 0.0, 0.0, 0.0, 0.0, 0.0, 0.0, 0.0, 0.0, 0.0, 0.0, 0.0, 0.0, 0.0, 0.0, 0.0, 0.0, 0.0, 0.0, 0.0, 0.0, 0.0, 0.0, 0.0, 0.0, 0.0, 0.0, 0.0, 0.0, 0.0, 0.0, 0.0, 0.0, 0.0, 0.0, 0.0, 0.0, 0.0, 0.0, 0.0, 0.0, 0.0, 0.0, 0.0, 0.0, 0.0, 0.0, 0.0, 0.0, 0.0, 0.0, 0.0, 0.0, 0.0, 0.0, 0.0, 0.0, 0.0, 0.0, 0.0, 0.0, 0.0, 0.0, 0.0, 0.0, 0.0, 0.0, 0.0, 0.0, 0.0, 0.0, 0.0, 0.0, 0.0, 0.0, 0.0, 0.0, 0.0, 0.0, 0.0, 0.0, 0.0, 0.0, 0.0, 0.0, 0.0, 0.0, 0.0, 0.0, 0.0, 0.0, 0.0, 0.0, 0.0, 0.0, 0.0, 0.0, 0.0, 0.0, 0.0, 0.0, 0.0, 0.0, 0.0, 0.0, 0.0, 0.0, 0.0, 0.0, 0.0, 0.0, 0.0, 0.0, 0.0, 0.0, 0.0, 0.0, 0.0, 0.0, 0.0, 0.0, 0.0, 0.0, 0.0, 0.0, 0.0, 0.0, 0.0, 0.0, 0.0, 0.0, 0.0, 0.0, 0.0, 0.0, 0.0, 0.0, 0.0, 0.0, 0.0, 0.0, 0.0, 0.0, 0.0, 0.0, 0.0, 0.0, 0.0, 0.0, 0.0, 0.0, 0.0, 0.0, 0.0, 0.0, 0.0, 0.0, 0.0, 0.0, 0.0, 0.0, 0.0, 0.0, 0.0, 0.0, 0.0, 0.0, 0.0, 0.0, 0.0, 0.0, 0.0, 0.0, 0.0, 0.0, 0.0, 0.0, 0.0, 0.0, 0.0, 0.0, 0.0, 0.0, 0.0, 0.0, 0.0, 0.0, 0.0, 0.0, 0.0, 0.0, 0.0, 0.0, 0.0, 0.0, 0.0, 0.0, 0.0, 0.0, 0.0, 0.0, 0.0, 0.0, 0.0, 0.0, 0.0, 0.0, 0.0, 0.0, 0.0, 0.0, 0.0, 0.0, 0.0, 0.0, 0.0, 0.0, 0.0, 0.0, 0.0, 0.0, 0.0, 0.0, 0.0, 0.0, 0.0, 0.0, 0.0, 0.0, 0.0, 0.0, 0.0, 0.0, 0.0, 0.0, 0.0, 0.0, 0.0, 0.0, 0.0, 0.0, 0.0, 0.0, 0.0, 0.0, 0.0, 0.0, 0.0, 0.0, 0.0, 0.0, 0.0, 0.0, 0.0, 0.0, 0.0, 0.0, 0.0, 0.0, 0.0, 0.0, 0.0, 0.0, 0.0, 0.0, 0.0, 0.0, 0.0, 0.0, 0.0, 0.0, 0.0, 0.0, 0.0, 0.0, 0.0, 0.0, 0.0, 0.0, 0.0, 0.0, 0.0, 0.0, 0.0, 0.0, 0.0, 0.0, 0.0, 0.0, 0.0, 0.0, 0.0, 0.0, 0.0, 0.0, 0.0, 0.0, 0.0, 0.0, 0.0, 0.0, 0.0, 0.0, 0.0, 0.0, 0.0, 0.0, 0.0, 0.0, 0.0, 0.0, 0.0, 0.0, 0.0, 0.0, 0.0, 0.0, 0.0, 0.0, 0.0, 0.0, 0.0, 0.0, 0.0, 0.0, 0.0, 0.0, 0.0, 0.0, 0.0, 0.0, 0.0, 0.0, 0.0, 0.0, 0.0, 0.0, 0.0, 0.0, 0.0, 0.0, 0.0, 0.0, 0.0, 0.0, 0.0, 0.0, 0.0, 0.0, 0.0, 0.0, 0.0, 0.0, 0.0, 0.0, 0.0, 0.0, 0.0, 0.0, 0.0, 0.0, 0.0, 0.0, 0.0, 0.0, 0.0, 0.0, 0.0, 0.0, 0.0, 0.0, 0.0, 0.0, 0.0, 0.0, 0.0, 0.0, 0.0, 0.0, 0.0, 0.0, 0.0, 0.0, 0.0, 0.0, 0.0, 0.0, 0.0, 0.0, 0.0, 0.0, 0.0, 0.0, 0.0, 0.0, 0.0, 0.0, 0.0, 0.0, 0.0, 0.0, 0.0, 0.0, 0.0, 0.0, 0.0, 0.0, 0.0, 0.0, 0.0, 0.0, 0.0, 0.0, 0.0, 0.0, 0.0, 0.0, 0.0, 0.0, 0.0, 0.0, 0.0, 0.0, 0.0, 0.0, 0.0, 0.0, 0.0, 0.0, 0.0, 0.0, 0.0, 0.0, 0.0, 0.0, 0.0, 0.0, 0.0, 0.0, 0.0, 0.0, 0.0, 0.0, 0.0, 0.0, 0.0, 0.0, 0.0, 0.0, 0.0, 0.0, 0.0, 0.0, 0.0, 0.0, 0.0, 0.0, 0.0, 0.0, 0.0, 0.0, 0.0, 0.0, 0.0, 0.0, 0.0, 0.0, 0.0, 0.0, 0.0, 0.0, 0.0, 0.0, 0.0, 0.0, 0.0, 0.0, 0.0, 0.0, 0.0, 0.0, 0.0, 0.0, 0.0, 0.0, 0.0, 0.0, 0.0, 0.0, 0.0, 0.0, 0.0, 0.0, 0.0, 0.0, 0.0, 0.0, 0.0, 0.0, 0.0, 0.0, 0.0, 0.0, 0.0, 0.0, 0.0, 0.0, 0.0, 0.0, 0.0, 0.0, 0.0, 0.0, 0.0, 0.0, 0.0, 0.0, 0.0, 0.0, 0.0, 0.0, 0.0, 0.0, 0.0, 0.0, 0.0, 0.0, 0.0, 0.0, 0.0, 0.0, 0.0, 0.0, 0.0, 0.0, 0.0, 0.0, 0.0, 0.0, 0.0, 0.0, 0.0, 0.0, 0.0, 0.0, 0.0, 0.0, 0.0, 0.0, 0.0, 0.0, 0.0, 0.0, 0.0, 0.0, 0.0, 0.0, 0.0, 0.0, 0.0, 0.0, 0.0, 0.0, 0.0, 0.0, 0.0, 0.0, 0.0, 0.0, 0.0, 0.0, 0.0, 0.0, 0.0, 0.0, 0.0, 0.0, 0.0, 0.0, 0.0, 0.0, 0.0, 0.0, 0.0, 0.0, 0.0, 0.0, 0.0, 0.0, 0.0, 0.0, 0.0, 0.0, 0.0, 0.0, 0.0, 0.0, 0.0, 0.0, 0.0, 0.0, 0.0, 0.0, 0.0, 0.0, 0.0, 0.0, 0.0, 0.0, 0.0, 0.0, 0.0, 0.0, 0.0, 0.0, 0.0, 0.0, 0.0, 0.0, 0.0, 0.0, 0.0, 0.0, 0.0, 0.0, 0.0, 0.0, 0.0, 0.0, 0.0, 0.0, 0.0, 0.0, 0.0, 0.0, 0.0, 0.0, 0.0, 0.0, 0.0, 0.0, 0.0, 0.0, 0.0, 0.0, 0.0, 0.0, 0.0, 0.0, 0.0, 0.0, 0.0, 0.0, 0.0, 0.0, 0.0, 0.0, 0.0, 0.0, 0.0, 0.0, 0.0, 0.0, 0.0, 0.0, 0.0, 0.0, 0.0, 0.0, 0.0, 0.0, 0.0, 0.0, 0.0, 0.0, 0.0, 0.0, 0.0, 0.0, 0.0, 0.0, 0.0, 0.0, 0.0, 0.0, 0.0, 0.0, 0.0, 0.0, 0.0, 0.0, 0.0, 0.0, 0.0, 0.0, 0.0, 0.0, 0.0, 0.0, 0.0, 0.0, 0.0, 0.0, 0.0, 0.0, 0.0, 0.0, 0.0, 0.0, 0.0, 0.0, 0.0, 0.0, 0.0, 0.0, 0.0, 0.0, 0.0, 0.0, 0.0, 0.0, 0.0, 0.0, 0.0, 0.0, 0.0, 0.0, 0.0, 0.0, 0.0, 0.0, 0.0, 0.0, 0.0, 0.0, 0.0, 0.0, 0.0, 0.0, 0.0, 0.0, 0.0, 0.0, 0.0, 0.0, 0.0, 0.0, 0.0, 0.0, 0.0, 0.0, 0.0, 0.0, 0.0, 0.0, 0.0, 0.0, 0.0, 0.0, 0.0, 0.0, 0.0, 0.0, 0.0, 0.0, 0.0, 0.0, 0.0, 0.0, 0.0, 0.0, 0.0, 0.0, 0.0, 0.0, 0.0, 0.0, 0.0, 0.0, 0.0, 0.0, 0.0, 0.0, 0.0, 0.0, 0.0, 0.0, 0.0, 0.0, 0.0, 0.0, 0.0, 0.0, 0.0, 0.0, 0.0, 0.0, 0.0, 0.0, 0.0, 0.0, 0.0, 0.0, 0.0, 0.0, 0.0, 0.0, 0.0, 0.0, 0.0, 0.0, 0.0, 0.0, 0.0, 0.0, 0.0, 0.0, 0.0, 0.0, 0.0, 0.0, 0.0, 0.0, 0.0, 0.0, 0.0, 0.0, 0.0, 0.0, 0.0, 0.0, 0.0, 0.0, 0.0, 0.0, 0.0, 0.0, 0.0, 0.0, 0.0, 0.0, 0.0, 0.0, 0.0, 0.0, 0.0, 0.0, 0.0, 0.0, 0.0, 0.0, 0.0, 0.0, 0.0, 0.0, 0.0, 0.0, 0.0, 0.0, 0.0, 0.0, 0.0, 0.0, 0.0, 0.0, 0.0, 0.0, 0.0, 0.0, 0.0, 0.0, 0.0, 0.0, 0.0, 0.0, 0.0, 0.0, 0.0, 0.0, 0.0, 0.0, 0.0, 0.0, 0.0, 0.0, 0.0, 0.0, 0.0, 0.0, 0.0, 0.0, 0.0, 0.0, 0.0, 0.0, 0.0, 0.0, 0.0, 0.0, 0.0, 0.0, 0.0, 0.0, 0.0, 0.0, 0.0, 0.0, 0.0, 0.0, 0.0, 0.0, 0.0, 0.0, 0.0, 0.0, 0.0, 0.0, 0.0, 0.0, 0.0, 0.0, 0.0, 0.0, 0.0, 0.0, 0.0, 0.0, 0.0, 0.0, 0.0, 0.0, 0.0, 0.0, 0.0, 0.0, 0.0, 0.0, 0.0, 0.0, 0.0, 0.0, 0.0, 0.0, 0.0, 0.0, 0.0, 0.0, 0.0, 0.0, 0.0, 0.0, 0.0, 0.0, 0.0, 0.0, 0.0, 0.0, 0.0, 0.0, 0.0, 0.0, 0.0, 0.0, 0.0, 0.0, 0.0, 0.0, 0.0, 0.0, 0.0, 0.0, 0.0, 0.0, 0.0, 0.0, 0.0, 0.0, 0.0, 0.0, 0.0, 0.0, 0.0, 0.0, 0.0, 0.0, 0.0, 0.0, 0.0, 0.0, 0.0, 0.0, 0.0, 0.0, 0.0, 0.0, 0.0, 0.0, 0.0, 0.0, 0.0, 0.0, 0.0, 0.0, 0.0, 0.0, 0.0, 0.0, 0.0, 0.0, 0.0, 0.0, 0.0, 0.0, 0.0, 0.0, 0.0, 0.0, 0.0, 0.0, 0.0, 0.0, 0.0, 0.0, 0.0, 0.0, 0.0, 0.0, 0.0, 0.0, 0.0, 0.0, 0.0, 0.0, 0.0, 0.0, 0.0, 0.0, 0.0, 0.0, 0.0, 0.0, 0.0, 0.0, 0.0, 0.0, 0.0, 0.0, 0.0, 0.0, 0.0, 0.0, 0.0, 0.0, 0.0, 0.0, 0.0, 0.0, 0.0, 0.0, 0.0, 0.0, 0.0, 0.0, 0.0, 0.0, 0.0, 0.0, 0.0, 0.0, 0.0, 0.0, 0.0, 0.0, 0.0, 0.0, 0.0, 0.0, 0.0, 0.0, 0.0, 0.0, 0.0, 0.0, 0.0, 0.0, 0.0, 0.0, 0.0, 0.0, 0.0, 0.0, 0.0, 0.0, 0.0, 0.0, 0.0, 0.0, 0.0, 0.0, 0.0, 0.0, 0.0, 0.0, 0.0, 0.0, 0.0, 0.0, 0.0, 0.0, 0.0, 0.0, 0.0, 0.0, 0.0, 0.0, 0.0, 0.0, 0.0, 0.0, 0.0, 0.0, 0.0, 0.0, 0.0, 0.0, 0.0, 0.0, 0.0, 0.0, 0.0, 0.0, 0.0, 0.0, 0.0, 0.0, 0.0, 0.0, 0.0, 0.0, 0.0, 0.0, 0.0, 0.0, 0.0, 0.0, 0.0, 0.0, 0.0, 0.0, 0.0, 0.0, 0.0, 0.0, 0.0, 0.0, 0.0, 0.0, 0.0, 0.0, 0.0, 0.0, 0.0, 0.0, 0.0, 0.0, 0.0, 0.0, 0.0, 0.0, 0.0, 0.0, 0.0, 0.0, 0.0, 0.0, 0.0, 0.0, 0.0, 0.0, 0.0, 0.0, 0.0, 0.0, 0.0, 0.0, 0.0, 0.0, 0.0, 0.0, 0.0, 0.0, 0.0, 0.0, 0.0, 0.0, 0.0, 0.0, 0.0, 0.0, 0.0, 0.0, 0.0, 0.0, 0.0, 0.0, 0.0, 0.0, 0.0, 0.0, 0.0, 0.0, 0.0, 0.0, 0.0, 0.0, 0.0, 0.0, 0.0, 0.0, 0.0, 0.0, 0.0, 0.0, 0.0, 0.0, 0.0, 0.0, 0.0, 0.0, 0.0, 0.0, 0.0, 0.0, 0.0, 0.0, 0.0, 0.0, 0.0, 0.0, 0.0, 0.0, 0.0, 0.0, 0.0, 0.0, 0.0, 0.0, 0.0, 0.0, 0.0, 0.0, 0.0, 0.0, 0.0, 0.0, 0.0, 0.0, 0.0, 0.0, 0.0, 0.0, 0.0, 0.0, 0.0, 0.0, 0.0, 0.0, 0.0, 0.0, 0.0, 0.0, 0.0, 0.0, 0.0, 0.0, 0.0, 0.0, 0.0, 0.0, 0.0, 0.0, 0.0, 0.0, 0.0, 0.0, 0.0, 0.0, 0.0, 0.0, 0.0, 0.0, 0.0, 0.0, 0.0, 0.0, 0.0, 0.0, 0.0, 0.0, 0.0, 0.0, 0], [0.0, 1.03621, 0.0, 0.0, 0.0, 0.0, 0.0, 0.0, 0.0, 0.0, 0.0, 0.0, 0.0, 0.0, 0.0, 0.0, 0.0, 0.0, 0.0, 2.39794, 2.39794, 0.98297, 4.19382, 5.39794, 5.39794, 2.69897, 2.69897, 1.74473, 0.0, 0.0, 0.0, 0.0, 0.0, 0.0, 0.0, 0.0, 0.0, 0.0, 0.0, 0.0, 0.0, 0.0, 0.0, 0.0, 0.0, 0.0, 0.0, 0.0, 0.0, 0.0, 0.0, 0.0, 0.0, 0.0, 0.0, 0.0, 0.0, 0.0, 0.0, 0.0, 0.0, 0.0, 0.0, 0.0, 0.0, 0.0, 0.0, 0.0, 0.0, 0.0, 0.0, 0.0, 0.0, 0.0, 0.0, 0.0, 0.0, 0.0, 0.0, 0.0, 0.0, 0.0, 0.0, 0.0, 0.0, 0.0, 0.0, 0.0, 0.0, 0.0, 0.0, 0.0, 0.0, 0.0, 0.0, 0.0, 0.0, 0.0, 0.0, 0.0, 0.0, 0.0, 0.0, 0.0, 0.0, 0.0, 0.0, 0.0, 0.0, 0.0, 0.0, 0.0, 0.0, 0.0, 0.0, 0.0, 0.0, 0.0, 0.0, 0.0, 0.0, 0.0, 0.0, 0.0, 0.0, 0.0, 0.0, 0.0, 0.0, 0.0, 0.0, 0.0, 0.0, 0.0, 0.0, 0.0, 0.0, 0.0, 0.0, 0.0, 0.0, 0.0, 0.0, 0.0, 0.0, 0.0, 0.0, 0.0, 0.0, 0.0, 0.0, 0.0, 0.0, 0.0, 0.0, 0.0, 0.0, 0.0, 0.0, 0.0, 0.0, 0.0, 0.0, 0.0, 0.0, 0.0, 0.0, 0.0, 0.0, 0.0, 0.0, 0.0, 0.0, 0.0, 0.0, 0.0, 0.0, 0.0, 0.0, 0.0, 0.0, 0.0, 0.0, 0.0, 0.0, 0.0, 0.0, 0.0, 0.0, 0.0, 0.0, 0.0, 0.0, 0.0, 0.0, 0.0, 0.0, 0.0, 0.0, 0.0, 0.0, 0.0, 0.0, 0.0, 0.0, 0.0, 0.0, 0.0, 0.0, 0.0, 0.0, 0.0, 0.0, 0.0, 0.0, 0.0, 0.0, 0.0, 0.0, 0.0, 0.0, 0.0, 0.0, 0.0, 0.0, 0.0, 0.0, 0.0, 0.0, 0.0, 0.0, 0.0, 0.0, 0.0, 0.0, 0.0, 0.0, 0.0, 0.0, 0.0, 0.0, 0.0, 0.0, 0.0, 0.0, 0.0, 0.0, 0.0, 0.0, 0.0, 0.0, 0.0, 0.0, 0.0, 0.0, 0.0, 0.0, 0.0, 0.0, 0.0, 0.0, 0.0, 0.0, 0.0, 0.0, 0.0, 0.0, 0.0, 0.0, 0.0, 0.0, 0.0, 0.0, 0.0, 0.0, 0.0, 0.0, 0.0, 0.0, 0.0, 0.0, 0.0, 0.0, 0.0, 0.0, 0.0, 0.0, 0.0, 0.0, 0.0, 0.0, 0.0, 0.0, 0.0, 0.0, 0.0, 0.0, 0.0, 0.0, 0.0, 0.0, 0.0, 0.0, 0.0, 0.0, 0.0, 0.0, 0.0, 0.0, 0.0, 0.0, 0.0, 0.0, 0.0, 0.0, 0.0, 0.0, 0.0, 0.0, 0.0, 0.0, 0.0, 0.0, 0.0, 0.0, 0.0, 0.0, 0.0, 0.0, 0.0, 0.0, 0.0, 0.0, 0.0, 0.0, 0.0, 0.0, 0.0, 0.0, 0.0, 0.0, 0.0, 0.0, 0.0, 0.0, 0.0, 0.0, 0.0, 0.0, 0.0, 0.0, 0.0, 0.0, 0.0, 0.0, 0.0, 0.0, 0.0, 0.0, 0.0, 0.0, 0.0, 0.0, 0.0, 0.0, 0.0, 0.0, 0.0, 0.0, 0.0, 0.0, 0.0, 0.0, 0.0, 0.0, 0.0, 0.0, 0.0, 0.0, 0.0, 0.0, 0.0, 0.0, 0.0, 0.0, 0.0, 0.0, 0.0, 0.0, 0.0, 0.0, 0.0, 0.0, 0.0, 0.0, 0.0, 0.0, 0.0, 0.0, 0.0, 0.0, 0.0, 0.0, 0.0, 0.0, 0.0, 0.0, 0.0, 0.0, 0.0, 0.0, 0.0, 0.0, 0.0, 0.0, 0.0, 0.0, 0.0, 0.0, 0.0, 0.0, 0.0, 0.0, 0.0, 0.0, 0.0, 0.0, 0.0, 0.0, 0.0, 0.0, 0.0, 0.0, 0.0, 0.0, 0.0, 0.0, 0.0, 0.0, 0.0, 0.0, 0.0, 0.0, 0.0, 0.0, 0.0, 0.0, 0.0, 0.0, 0.0, 0.0, 0.0, 0.0, 0.0, 0.0, 0.0, 0.0, 0.0, 0.0, 0.0, 0.0, 0.0, 0.0, 0.0, 0.0, 0.0, 0.0, 0.0, 0.0, 0.0, 0.0, 0.0, 0.0, 0.0, 0.0, 0.0, 0.0, 0.0, 0.0, 0.0, 0.0, 0.0, 0.0, 0.0, 0.0, 0.0, 0.0, 0.0, 0.0, 0.0, 0.0, 0.0, 0.0, 0.0, 0.0, 0.0, 0.0, 0.0, 0.0, 0.0, 0.0, 0.0, 0.0, 0.0, 0.0, 0.0, 0.0, 0.0, 0.0, 0.0, 0.0, 0.0, 0.0, 0.0, 0.0, 0.0, 0.0, 0.0, 0.0, 0.0, 0.0, 0.0, 0.0, 0.0, 0.0, 0.0, 0.0, 0.0, 0.0, 0.0, 0.0, 0.0, 0.0, 0.0, 0.0, 0.0, 0.0, 0.0, 0.0, 0.0, 0.0, 0.0, 0.0, 0.0, 0.0, 0.0, 0.0, 0.0, 0.0, 0.0, 0.0, 0.0, 0.0, 0.0, 0.0, 0.0, 0.0, 0.0, 0.0, 0.0, 0.0, 0.0, 0.0, 0.0, 0.0, 0.0, 0.0, 0.0, 0.0, 0.0, 0.0, 0.0, 0.0, 0.0, 0.0, 0.0, 0.0, 0.0, 0.0, 0.0, 0.0, 0.0, 0.0, 0.0, 0.0, 0.0, 0.0, 0.0, 0.0, 0.0, 0.0, 0.0, 0.0, 0.0, 0.0, 0.0, 0.0, 0.0, 0.0, 0.0, 0.0, 0.0, 0.0, 0.0, 0.0, 0.0, 0.0, 0.0, 0.0, 0.0, 0.0, 0.0, 0.0, 0.0, 0.0, 0.0, 0.0, 0.0, 0.0, 0.0, 0.0, 0.0, 0.0, 0.0, 0.0, 0.0, 0.0, 0.0, 0.0, 0.0, 0.0, 0.0, 0.0, 0.0, 0.0, 0.0, 0.0, 0.0, 0.0, 0.0, 0.0, 0.0, 0.0, 0.0, 0.0, 0.0, 0.0, 0.0, 0.0, 0.0, 0.0, 0.0, 0.0, 0.0, 0.0, 0.0, 0.0, 0.0, 0.0, 0.0, 0.0, 0.0, 0.0, 0.0, 0.0, 0.0, 0.0, 0.0, 0.0, 0.0, 0.0, 0.0, 0.0, 0.0, 0.0, 0.0, 0.0, 0.0, 0.0, 0.0, 0.0, 0.0, 0.0, 0.0, 0.0, 0.0, 0.0, 0.0, 0.0, 0.0, 0.0, 0.0, 0.0, 0.0, 0.0, 0.0, 0.0, 0.0, 0.0, 0.0, 0.0, 0.0, 0.0, 0.0, 0.0, 0.0, 0.0, 0.0, 0.0, 0.0, 0.0, 0.0, 0.0, 0.0, 0.0, 0.0, 0.0, 0.0, 0.0, 0.0, 0.0, 0.0, 0.0, 0.0, 0.0, 0.0, 0.0, 0.0, 0.0, 0.0, 0.0, 0.0, 0.0, 0.0, 0.0, 0.0, 0.0, 0.0, 0.0, 0.0, 0.0, 0.0, 0.0, 0.0, 0.0, 0.0, 0.0, 0.0, 0.0, 0.0, 0.0, 0.0, 0.0, 0.0, 0.0, 0.0, 0.0, 0.0, 0.0, 0.0, 0.0, 0.0, 0.0, 0.0, 0.0, 0.0, 0.0, 0.0, 0.0, 0.0, 0.0, 0.0, 0.0, 0.0, 0.0, 0.0, 0.0, 0.0, 0.0, 0.0, 0.0, 0.0, 0.0, 0.0, 0.0, 0.0, 0.0, 0.0, 0.0, 0.0, 0.0, 0.0, 0.0, 0.0, 0.0, 0.0, 0.0, 0.0, 0.0, 0.0, 0.0, 0.0, 0.0, 0.0, 0.0, 0.0, 0.0, 0.0, 0.0, 0.0, 0.0, 0.0, 0.0, 0.0, 0.0, 0.0, 0.0, 0.0, 0.0, 0.0, 0.0, 0.0, 0.0, 0.0, 0.0, 0.0, 0.0, 0.0, 0.0, 0.0, 0.0, 0.0, 0.0, 0.0, 0.0, 0.0, 0.0, 0.0, 0.0, 0.0, 0.0, 0.0, 0.0, 0.0, 0.0, 0.0, 0.0, 0.0, 0.0, 0.0, 0.0, 0.0, 0.0, 0.0, 0.0, 0.0, 0.0, 0.0, 0.0, 0.0, 0.0, 0.0, 0.0, 0.0, 0.0, 0.0, 0.0, 0.0, 0.0, 0.0, 0.0, 0.0, 0.0, 0.0, 0.0, 0.0, 0.0, 0.0, 0.0, 0.0, 0.0, 0.0, 0.0, 0.0, 0.0, 0.0, 0.0, 0.0, 0.0, 0.0, 0.0, 0.0, 0.0, 0.0, 0.0, 0.0, 0.0, 0.0, 0.0, 0.0, 0.0, 0.0, 0.0, 0.0, 0.0, 0.0, 0.0, 0.0, 0.0, 0.0, 0.0, 0.0, 0.0, 0.0, 0.0, 0.0, 0.0, 0.0, 0.0, 0.0, 0.0, 0.0, 0.0, 0.0, 0.0, 0.0, 0.0, 0.0, 0.0, 0.0, 0.0, 0.0, 0.0, 0.0, 0.0, 0.0, 0.0, 0.0, 0.0, 0.0, 0.0, 0.0, 0.0, 0.0, 0.0, 0.0, 0.0, 0.0, 0.0, 0.0, 0.0, 0.0, 0.0, 0.0, 0.0, 0.0, 0.0, 0.0, 0.0, 0.0, 0.0, 0.0, 0.0, 0.0, 0.0, 0.0, 0.0, 0.0, 0.0, 0.0, 0.0, 0.0, 0.0, 0.0, 0.0, 0.0, 0.0, 0.0, 0.0, 0.0, 0.0, 0.0, 0.0, 0.0, 0.0, 0.0, 0.0, 0.0, 0.0, 0.0, 0.0, 0.0, 0.0, 0.0, 0.0, 0.0, 0.0, 0.0, 0.0, 0.0, 0.0, 0.0, 0.0, 0.0, 0.0, 0.0, 0.0, 0.0, 0.0, 0.0, 0.0, 0.0, 0.0, 0.0, 0.0, 0.0, 0.0, 0.0, 0.0, 0.0, 0.0, 0.0, 0.0, 0.0, 0.0, 0.0, 0.0, 0.0, 0.0, 0.0, 0.0, 0.0, 0.0, 0.0, 0.0, 0.0, 0.0, 0.0, 0.0, 0.0, 0.0, 0.0, 0.0, 0.0, 0.0, 0.0, 0.0, 0.0, 0.0, 0.0, 0.0, 0.0, 0.0, 0.0, 0.0, 0.0, 0.0, 0.0, 0.0, 0.0, 0.0, 0.0, 0.0, 0.0, 0.0, 0.0, 0.0, 0.0, 0.0, 0.0, 0.0, 0.0, 0.0, 0.0, 0.0, 0.0, 0.0, 0.0, 0.0, 0.0, 0.0, 0.0, 0.0, 0.0, 0.0, 0.0, 0.0, 0.0, 0.0, 0.0, 0.0, 0.0, 0.0, 0.0, 0.0, 0.0, 0.0, 0.0, 0.0, 0.0, 0.0, 0.0, 0.0, 0.0, 0.0, 0.0, 0.0, 0.0, 0.0, 0.0, 0.0, 0.0, 0.0, 0.0, 0.0, 0.0, 0.0, 0.0, 0.0, 0.0, 0.0, 0.0, 0.0, 0.0, 0.0, 0.0, 0.0, 0.0, 0.0, 0.0, 0.0, 0.0, 0.0, 0.0, 0.0, 0.0, 0.0, 0.0, 0.0, 0.0, 0.0, 0.0, 0.0, 0.0, 0.0, 0.0, 0.0, 0.0, 0.0, 0.0, 0.0, 0.0, 0.0, 0.0, 0.0, 0.0, 0.0, 0.0, 0.0, 0.0, 0.0, 0.0, 0.0, 0.0, 0.0, 0.0, 0.0, 0.0, 0.0, 0.0, 0.0, 0.0, 0.0, 0.0, 0.0, 0.0, 0.0, 0.0, 0.0, 0.0, 0.0, 0.0, 0.0, 0.0, 0.0, 0.0, 0.0, 0.0, 0.0, 0.0, 0.0, 0.0, 0.0, 0.0, 0.0, 0.0, 0.0, 0.0, 0.0, 0.0, 0.0, 0.0, 0.0, 0.0, 0.0, 0.0, 0.0, 0.0, 0.0, 0.0, 0.0, 0.0, 0.0, 0.0, 0.0, 0.0, 0.0, 0.0, 0.0, 0.0, 0.0, 0.0, 0.0, 0.0, 0.0, 0.0, 0.0, 0.0, 0.0, 0.0, 0.0, 0.0, 0.0, 0.0, 0.0, 0.0, 0.0, 0.0, 0.0, 0.0, 0.0, 0.0, 0.0, 0.0, 0.0, 0.0, 0.0, 0.0, 0.0, 0.0, 0.0, 0.0, 0.0, 0.0, 0.0, 0.0, 0.0, 0.0, 0.0, 0.0, 0.0, 0.0, 0.0, 0.0, 0.0, 0.0, 0.0, 0.0, 0.0, 0.0, 0.0, 0.0, 0.0, 0.0, 0.0, 0.0, 0.0, 0.0, 0.0, 0.0, 0.0, 0.0, 0.0, 0.0, 0.0, 0.0, 0.0, 0.0, 0.0, 0.0, 0.0, 0.0, 0.0, 0.0, 0.0, 0.0, 0.0, 0.0, 0.0, 0.0, 0.0, 0.0, 0.0, 0.0, 0.0, 0.0, 0.0, 0.0, 0.0, 0.0, 0.0, 0.0, 0.0, 0.0, 0.0, 0.0, 0.0, 0.0, 0.0, 0.0, 0.0, 0.0, 0.0, 0.0, 0.0, 0.0, 0.0, 0.0, 0.0, 0.0, 0.0, 0.0, 0.0, 0.0, 0.0, 0.0, 0.0, 0.0, 0.0, 0.0, 0.0, 0.0, 0.0, 0.0, 0.0, 0.0, 0.0, 0.0, 0.0, 0.0, 0.0, 0.0, 0.0, 0.0, 0.0, 0.0, 0.0, 0.0, 0.0, 0.0, 0.0, 0.0, 0.0, 0.0, 0.0, 0.0, 0.0, 0.0, 0.0, 0.0, 0.0, 0.0, 0.0, 0.0, 0.0, 0.0, 0.0, 0.0, 0.0, 0.0, 0.0, 0.0, 0.0, 0.0, 0.0, 0.0, 0.0, 0.0, 0.0, 0.0, 0.0, 0.0, 0.0, 0.0, 0.0, 0.0, 0.0, 0.0, 0.0, 0.0, 0.0, 0.0, 0.0, 0.0, 0.0, 0.0, 0.0, 0.0, 0.0, 0.0, 0.0, 0.0, 0.0, 0.0, 0.0, 0.0, 0.0, 0.0, 0.0, 0.0, 0.0, 0.0, 0.0, 0.0, 0.0, 0.0, 0.0, 0.0, 0.0, 0.0, 0.0, 0.0, 0.0, 0.0, 0.0, 0.0, 0.0, 0.0, 0.0, 0.0, 0.0, 0.0, 0.0, 0.0, 0.0, 0.0, 0.0, 0.0, 0.0, 0.0, 0.0, 0.0, 0.0, 0.0, 0.0, 0.0, 0.0, 0.0, 0.0, 0.0, 0.0, 0.0, 0.0, 0.0, 0.0, 0.0, 0.0, 0.0, 0.0, 0.0, 0.0, 0.0, 0.0, 0.0, 0.0, 0.0, 0.0, 0.0, 0.0, 0.0, 0.0, 0.0, 0.0, 0.0, 0.0, 0.0, 0.0, 0.0, 0.0, 0.0, 0.0, 0.0, 0.0, 0.0, 0.0, 0.0, 0.0, 0.0, 0.0, 0.0, 0.0, 0.0, 0.0, 0.0, 0.0, 0.0, 0.0, 0.0, 0.0, 0.0, 0.0, 0.0, 0.0, 0.0, 0.0, 0.0, 0.0, 0.0, 0.0, 0.0, 0.0, 0.0, 0.0, 0.0, 0.0, 0.0, 0.0, 0.0, 0.0, 0.0, 0.0, 0.0, 0.0, 0.0, 0.0, 0.0, 0.0, 0.0, 0.0, 0.0, 0.0, 0.0, 0.0, 0.0, 0.0, 0.0, 0.0, 0.0, 0.0, 0.0, 0.0, 0.0, 0.0, 0.0, 0.0, 0.0, 0.0, 0.0, 0.0, 0.0, 0.0, 0.0, 0.0, 0.0, 0.0, 0.0, 0.0, 0.0, 0.0, 0.0, 0.0, 0.0, 0.0, 0.0, 0.0, 0.0, 0.0, 0.0, 0.0, 0.0, 0.0, 0.0, 0.0, 0.0, 0.0, 0.0, 0.0, 0.0, 0.0, 0.0, 0.0, 0.0, 0.0, 0.0, 0.0, 0.0, 0.0, 0.0, 0.0, 0.0, 0.0, 0.0, 0.0, 0.0, 0.0, 0.0, 0.0, 0.0, 0.0, 0.0, 0.0, 0.0, 0.0, 0.0, 0.0, 0.0, 0.0, 0.0, 0.0, 0.0, 0.0, 0.0, 0.0, 0.0, 0.0, 0.0, 0.0, 0.0, 0.0, 0.0, 0.0, 0.0, 0.0, 0.0, 0.0, 0.0, 0.0, 0.0, 0.0, 0.0, 0.0, 0.0, 0.0, 0.0, 0.0, 0.0, 0.0, 0.0, 0.0, 0.0, 0.0, 0.0, 0.0, 0.0, 0.0, 0.0, 0.0, 0.0, 0.0, 0.0, 0.0, 0.0, 0.0, 0.0, 0.0, 0.0, 0.0, 0.0, 0.0, 0.0, 0.0, 0.0, 0.0, 0.0, 0.0, 0.0, 0.0, 0.0, 0.0, 0.0, 0.0, 0.0, 0.0, 0.0, 0.0, 0.0, 0.0, 0.0, 0.0, 0.0, 0.0, 0.0, 0.0, 0.0, 0.0, 0.0, 0.0, 0.0, 0.0, 0.0, 0.0, 0.0, 0.0, 0.0, 0.0, 0.0, 0.0, 0.0, 0.0, 0.0, 0.0, 0.0, 0.0, 0.0, 0.0, 0.0, 0.0, 0.0, 0.0, 0.0, 0.0, 0.0, 0.0, 0.0, 0.0, 0.0, 0.0, 0.0, 0.0, 0.0, 0.0, 0.0, 0.0, 0.0, 0.0, 0.0, 0.0, 0.0, 0.0, 0.0, 0.0, 0.0, 0.0, 0.0, 0.0, 0.0, 0.0, 0.0, 0.0, 0.0, 0.0, 0.0, 0.0, 0.0, 0.0, 0.0, 0.0, 0.0, 0.0, 0.0, 0.0, 0.0, 0.0, 0.0, 0.0, 0.0, 0.0, 0.0, 0.0, 0.0, 0.0, 0.0, 0.0, 0.0, 0.0, 0.0, 0.0, 0.0, 0.0, 0.0, 0.0, 0.0, 0.0, 0.0, 0.0, 0.0, 0.0, 0.0, 0.0, 0.0, 0.0, 0.0, 0.0, 0.0, 0.0, 0.0, 0.0, 0.0, 0.0, 0.0, 0.0, 0.0, 0.0, 0.0, 0.0, 0.0, 0.0, 0.0, 0.0, 0.0, 0.0, 0.0, 0.0, 0.0, 0.0, 0.0, 0.0, 0.0, 0.0, 0.0, 0.0, 0.0, 0.0, 0.0, 0.0, 0.0, 0.0, 0.0, 0.0, 0.0, 0.0, 0.0, 0.0, 0.0, 0.0, 0.0, 0.0, 0.0, 0.0, 0.0, 0.0, 0.0, 0.0, 0.0, 0.0, 0.0, 0.0, 0.0, 0.0, 0.0, 0.0, 0.0, 0.0, 0.0, 0.0, 0.0, 0.0, 0.0, 0.0, 0.0, 0.0, 0.0, 0.0, 0.0, 0.0, 0.0, 0.0, 0.0, 0.0, 0.0, 0.0, 0.0, 0.0, 0.0, 0.0, 0.0, 0.0, 0.0, 0.0, 0.0, 0.0, 0.0, 0.0, 0.0, 0.0, 0.0, 0.0, 0.0, 0.0, 0.0, 0.0, 0.0, 0.0, 0.0, 0.0, 0.0, 0.0, 0.0, 0.0, 0.0, 0.0, 0.0, 0.0, 0.0, 0.0, 0.0, 0.0, 0.0, 0.0, 0.0, 0.0, 0.0, 0.0, 0.0, 0.0, 0.0, 0.0, 0.0, 0.0, 0.0, 0.0, 0.0, 0.0, 0.0, 0.0, 0.0, 0.0, 0.0, 0.0, 0.0, 0.0, 0.0, 0.0, 0.0, 0.0, 0.0, 0.0, 0.0, 0.0, 0.0, 0.0, 0.0, 0.0, 0.0, 0.0, 0.0, 0.0, 0.0, 0.0, 0.0, 0.0, 0.0, 0.0, 0.0, 0.0, 0.0, 0.0, 0.0, 0.0, 0.0, 0.0, 0.0, 0.0, 0.0, 0.0, 0.0, 0.0, 0.0, 0.0, 0.0, 0.0, 0.0, 0.0, 0.0, 0.0, 0.0, 0.0, 0.0, 0.0, 0.0, 0.0, 0.0, 0.0, 0.0, 0.0, 0.0, 0.0, 0.0, 0.0, 0.0, 0.0, 0.0, 0.0, 0.0, 0.0, 0.0, 0.0, 0.0, 0.0, 0.0, 0.0, 0.0, 0.0, 0.0, 0.0, 0.0, 0.0, 0.0, 0.0, 0.0, 0.0, 0.0, 0.0, 0.0, 0.0, 0.0, 0.0, 0.0, 0.0, 0.0, 0.0, 0.0, 0.0, 0.0, 0.0, 0.0, 0.0, 0.0, 0.0, 0.0, 0.0, 0.0, 0.0, 0.0, 0.0, 0.0, 0.0, 0.0, 0.0, 0.0, 0.0, 0.0, 0.0, 0.0, 0.0, 0.0, 0.0, 0.0, 0.0, 0.0, 0.0, 0.0, 0.0, 0.0, 0.0, 0.0, 0.0, 0.0, 0.0, 0.0, 0.0, 0.0, 0.0, 0.0, 0.0, 0.0, 0.0, 0.0, 0.0, 0.0, 0.0, 0.0, 0.0, 0.0, 0.0, 0.0, 0.0, 0.0, 0.0, 0.0, 0.0, 0.0, 0.0, 0.0, 0.0, 0.0, 0.0, 0.0, 0.0, 0.0, 0.0, 0.0, 0.0, 0.0, 0.0, 0.0, 0.0, 0.0, 0.0, 0.0, 0.0, 0.0, 0.0, 0.0, 0.0, 0.0, 0.0, 0.0, 0.0, 0.0, 0.0, 0.0, 0.0, 0.0, 0.0, 0.0, 0.0, 0.0, 0.0, 0.0, 0.0, 0.0, 0.0, 0.0, 0.0, 0.0, 0.0, 0.0, 0.0, 0.0, 0.0, 0.0, 0.0, 0.0, 0.0, 0.0, 0.0, 0.0, 0.0, 0.0, 0.0, 0]]\n"
     ]
    }
   ],
   "source": [
    "# hitung nilai tf idf\n",
    "tf_idf = []\n",
    "countTFIDF(tf_akhir, idf, tf_idf)\n",
    "print(tf_idf[:2])"
   ]
  },
  {
   "attachments": {},
   "cell_type": "markdown",
   "id": "cb406aa0",
   "metadata": {},
   "source": [
    "<h4>2) TF-RF</h4>\n",
    "<ul>\n",
    "    <li>hitung nilai RF</li>\n",
    "    <li>hitung nilai TF-RF</li>\n",
    "</ul>"
   ]
  },
  {
   "attachments": {},
   "cell_type": "markdown",
   "id": "dae5f6c9",
   "metadata": {},
   "source": [
    "<h4>Method untuk perhitungan RF dan TF RF</h4>"
   ]
  },
  {
   "cell_type": "code",
   "execution_count": 23,
   "id": "73ee879d",
   "metadata": {},
   "outputs": [],
   "source": [
    "# 1. hitung nilai tf di tiap dokumen masing2 kategori\n",
    "def countTFCategory(dataTableCategory, termList, textColumn, TFSpamList):\n",
    "    for i in range(len(dataTableCategory)):\n",
    "        doclist = []\n",
    "        for j in termList:\n",
    "            count = 0\n",
    "            for k in range(len(textColumn[i])):\n",
    "                if(j == textColumn[i][k]):\n",
    "                    count += 1\n",
    "            doclist.append(count)\n",
    "        doclist.append(dataTableCategory['jenis'][i])\n",
    "        TFSpamList.append(doclist)"
   ]
  },
  {
   "attachments": {},
   "cell_type": "markdown",
   "id": "16f48638",
   "metadata": {},
   "source": [
    "<h4>Memisahkan data yg spam saja dari dataset, lalu reset indexnya</h4>"
   ]
  },
  {
   "cell_type": "code",
   "execution_count": 24,
   "id": "5c883eaf",
   "metadata": {},
   "outputs": [
    {
     "data": {
      "text/html": [
       "<div>\n",
       "<style scoped>\n",
       "    .dataframe tbody tr th:only-of-type {\n",
       "        vertical-align: middle;\n",
       "    }\n",
       "\n",
       "    .dataframe tbody tr th {\n",
       "        vertical-align: top;\n",
       "    }\n",
       "\n",
       "    .dataframe thead th {\n",
       "        text-align: right;\n",
       "    }\n",
       "</style>\n",
       "<table border=\"1\" class=\"dataframe\">\n",
       "  <thead>\n",
       "    <tr style=\"text-align: right;\">\n",
       "      <th></th>\n",
       "      <th>index</th>\n",
       "      <th>teks</th>\n",
       "      <th>jenis</th>\n",
       "      <th>kategori</th>\n",
       "      <th>pengirim</th>\n",
       "      <th>waktu</th>\n",
       "    </tr>\n",
       "  </thead>\n",
       "  <tbody>\n",
       "    <tr>\n",
       "      <th>0</th>\n",
       "      <td>5</td>\n",
       "      <td>[sim, card, resmi, selamat, dapat, bantu, dana...</td>\n",
       "      <td>1</td>\n",
       "      <td>penipuan</td>\n",
       "      <td>81902082953</td>\n",
       "      <td>12/10/2021 8:10</td>\n",
       "    </tr>\n",
       "    <tr>\n",
       "      <th>1</th>\n",
       "      <td>14</td>\n",
       "      <td>[info, resmi, selamat, mndptkan, 75jt, tiktok,...</td>\n",
       "      <td>1</td>\n",
       "      <td>penipuan</td>\n",
       "      <td>87745066300</td>\n",
       "      <td>12/2/2021 13:13</td>\n",
       "    </tr>\n",
       "    <tr>\n",
       "      <th>2</th>\n",
       "      <td>21</td>\n",
       "      <td>[yth, bapak, ibu, tawar, pinjam, online, bunga...</td>\n",
       "      <td>1</td>\n",
       "      <td>pinjol</td>\n",
       "      <td>85657034996</td>\n",
       "      <td>11/16/2021 8:50</td>\n",
       "    </tr>\n",
       "    <tr>\n",
       "      <th>3</th>\n",
       "      <td>22</td>\n",
       "      <td>[sdh, bnyk, yang, mngg, b0sq, lsng, kt, byr, b...</td>\n",
       "      <td>1</td>\n",
       "      <td>judi</td>\n",
       "      <td>81384604303</td>\n",
       "      <td>11/16/2021 8:50</td>\n",
       "    </tr>\n",
       "    <tr>\n",
       "      <th>4</th>\n",
       "      <td>32</td>\n",
       "      <td>[pt, rkb, gold, beri, hasil, tambah, profit, 2...</td>\n",
       "      <td>1</td>\n",
       "      <td>penipuan</td>\n",
       "      <td>85696435767</td>\n",
       "      <td>11/8/2021 10:59</td>\n",
       "    </tr>\n",
       "    <tr>\n",
       "      <th>...</th>\n",
       "      <td>...</td>\n",
       "      <td>...</td>\n",
       "      <td>...</td>\n",
       "      <td>...</td>\n",
       "      <td>...</td>\n",
       "      <td>...</td>\n",
       "    </tr>\n",
       "    <tr>\n",
       "      <th>170</th>\n",
       "      <td>490</td>\n",
       "      <td>[langgan, 085238474786, 1000, poin, ramadhan, ...</td>\n",
       "      <td>1</td>\n",
       "      <td>NaN</td>\n",
       "      <td>85215945008</td>\n",
       "      <td>5/6/2021 13:39</td>\n",
       "    </tr>\n",
       "    <tr>\n",
       "      <th>171</th>\n",
       "      <td>492</td>\n",
       "      <td>[transfer, rekening, aja, bank, bca, nomor, re...</td>\n",
       "      <td>1</td>\n",
       "      <td>NaN</td>\n",
       "      <td>85298032769</td>\n",
       "      <td>5/10/2021 11:19</td>\n",
       "    </tr>\n",
       "    <tr>\n",
       "      <th>172</th>\n",
       "      <td>495</td>\n",
       "      <td>[raih, bonus, syarat, br0ve64s, bit, ly, br0ve...</td>\n",
       "      <td>1</td>\n",
       "      <td>NaN</td>\n",
       "      <td>82383715018</td>\n",
       "      <td>5/16/2021 14:01</td>\n",
       "    </tr>\n",
       "    <tr>\n",
       "      <th>173</th>\n",
       "      <td>496</td>\n",
       "      <td>[toko, batam, lucky, plaza, sedia, promo, habi...</td>\n",
       "      <td>1</td>\n",
       "      <td>NaN</td>\n",
       "      <td>85213643630</td>\n",
       "      <td>5/19/2021 9:34</td>\n",
       "    </tr>\n",
       "    <tr>\n",
       "      <th>174</th>\n",
       "      <td>497</td>\n",
       "      <td>[main, rumah, dpt, juta, rupiah, dgn, main, po...</td>\n",
       "      <td>1</td>\n",
       "      <td>NaN</td>\n",
       "      <td>85376989584</td>\n",
       "      <td>5/24/2021 4:59</td>\n",
       "    </tr>\n",
       "  </tbody>\n",
       "</table>\n",
       "<p>175 rows × 6 columns</p>\n",
       "</div>"
      ],
      "text/plain": [
       "     index                                               teks  jenis  \\\n",
       "0        5  [sim, card, resmi, selamat, dapat, bantu, dana...      1   \n",
       "1       14  [info, resmi, selamat, mndptkan, 75jt, tiktok,...      1   \n",
       "2       21  [yth, bapak, ibu, tawar, pinjam, online, bunga...      1   \n",
       "3       22  [sdh, bnyk, yang, mngg, b0sq, lsng, kt, byr, b...      1   \n",
       "4       32  [pt, rkb, gold, beri, hasil, tambah, profit, 2...      1   \n",
       "..     ...                                                ...    ...   \n",
       "170    490  [langgan, 085238474786, 1000, poin, ramadhan, ...      1   \n",
       "171    492  [transfer, rekening, aja, bank, bca, nomor, re...      1   \n",
       "172    495  [raih, bonus, syarat, br0ve64s, bit, ly, br0ve...      1   \n",
       "173    496  [toko, batam, lucky, plaza, sedia, promo, habi...      1   \n",
       "174    497  [main, rumah, dpt, juta, rupiah, dgn, main, po...      1   \n",
       "\n",
       "     kategori     pengirim            waktu  \n",
       "0    penipuan  81902082953  12/10/2021 8:10  \n",
       "1    penipuan  87745066300  12/2/2021 13:13  \n",
       "2      pinjol  85657034996  11/16/2021 8:50  \n",
       "3        judi  81384604303  11/16/2021 8:50  \n",
       "4    penipuan  85696435767  11/8/2021 10:59  \n",
       "..        ...          ...              ...  \n",
       "170       NaN  85215945008   5/6/2021 13:39  \n",
       "171       NaN  85298032769  5/10/2021 11:19  \n",
       "172       NaN  82383715018  5/16/2021 14:01  \n",
       "173       NaN  85213643630   5/19/2021 9:34  \n",
       "174       NaN  85376989584   5/24/2021 4:59  \n",
       "\n",
       "[175 rows x 6 columns]"
      ]
     },
     "execution_count": 24,
     "metadata": {},
     "output_type": "execute_result"
    }
   ],
   "source": [
    "df_spam = df[ df['jenis'] != 0 ]\n",
    "df_spam.reset_index(inplace=True)\n",
    "df_spam"
   ]
  },
  {
   "attachments": {},
   "cell_type": "markdown",
   "id": "afb35463",
   "metadata": {},
   "source": [
    "<h4>Memisahkan data yg non spam saja dari dataset, lalu reset indexnya</h4>"
   ]
  },
  {
   "cell_type": "code",
   "execution_count": 25,
   "id": "118d5cb2",
   "metadata": {},
   "outputs": [
    {
     "data": {
      "text/html": [
       "<div>\n",
       "<style scoped>\n",
       "    .dataframe tbody tr th:only-of-type {\n",
       "        vertical-align: middle;\n",
       "    }\n",
       "\n",
       "    .dataframe tbody tr th {\n",
       "        vertical-align: top;\n",
       "    }\n",
       "\n",
       "    .dataframe thead th {\n",
       "        text-align: right;\n",
       "    }\n",
       "</style>\n",
       "<table border=\"1\" class=\"dataframe\">\n",
       "  <thead>\n",
       "    <tr style=\"text-align: right;\">\n",
       "      <th></th>\n",
       "      <th>index</th>\n",
       "      <th>teks</th>\n",
       "      <th>jenis</th>\n",
       "      <th>kategori</th>\n",
       "      <th>pengirim</th>\n",
       "      <th>waktu</th>\n",
       "    </tr>\n",
       "  </thead>\n",
       "  <tbody>\n",
       "    <tr>\n",
       "      <th>0</th>\n",
       "      <td>0</td>\n",
       "      <td>[wow, selamat, ga, kuota, gratis, dari, perint...</td>\n",
       "      <td>0</td>\n",
       "      <td>promo</td>\n",
       "      <td>myIM3</td>\n",
       "      <td>12/10/2021 22:40</td>\n",
       "    </tr>\n",
       "    <tr>\n",
       "      <th>1</th>\n",
       "      <td>1</td>\n",
       "      <td>[10, desember, 2021, selamat, raya, hari, hak,...</td>\n",
       "      <td>0</td>\n",
       "      <td>operator</td>\n",
       "      <td>KOMNAS HAM</td>\n",
       "      <td>12/10/2021 19:27</td>\n",
       "    </tr>\n",
       "    <tr>\n",
       "      <th>2</th>\n",
       "      <td>2</td>\n",
       "      <td>[hot, promo, isi, ulang, skr, min, 50rb, cashb...</td>\n",
       "      <td>0</td>\n",
       "      <td>promo</td>\n",
       "      <td>INDOSAT</td>\n",
       "      <td>12/10/2021 12:03</td>\n",
       "    </tr>\n",
       "    <tr>\n",
       "      <th>3</th>\n",
       "      <td>3</td>\n",
       "      <td>[hotpromo, super, deal, 25rb, dpt, 12, 12gb, y...</td>\n",
       "      <td>0</td>\n",
       "      <td>promo</td>\n",
       "      <td>HOT PROMO</td>\n",
       "      <td>12/10/2021 11:37</td>\n",
       "    </tr>\n",
       "    <tr>\n",
       "      <th>4</th>\n",
       "      <td>4</td>\n",
       "      <td>[hakim, ganteng, kim, min, kyu, naksir, choron...</td>\n",
       "      <td>0</td>\n",
       "      <td>penawaran</td>\n",
       "      <td>INDOSAT</td>\n",
       "      <td>12/10/2021 8:23</td>\n",
       "    </tr>\n",
       "    <tr>\n",
       "      <th>...</th>\n",
       "      <td>...</td>\n",
       "      <td>...</td>\n",
       "      <td>...</td>\n",
       "      <td>...</td>\n",
       "      <td>...</td>\n",
       "      <td>...</td>\n",
       "    </tr>\n",
       "    <tr>\n",
       "      <th>320</th>\n",
       "      <td>491</td>\n",
       "      <td>[bpk, fitri, thr, banyak, siap2, weekend, buru...</td>\n",
       "      <td>0</td>\n",
       "      <td>NaN</td>\n",
       "      <td>MATAHARI</td>\n",
       "      <td>5/7/2021 9:21</td>\n",
       "    </tr>\n",
       "    <tr>\n",
       "      <th>321</th>\n",
       "      <td>493</td>\n",
       "      <td>[murah, bgt, beli, bagai, paket, 4g, tarik, ya...</td>\n",
       "      <td>0</td>\n",
       "      <td>NaN</td>\n",
       "      <td>Telkomsel</td>\n",
       "      <td>5/13/2021 23:33</td>\n",
       "    </tr>\n",
       "    <tr>\n",
       "      <th>322</th>\n",
       "      <td>494</td>\n",
       "      <td>[jangan, ikan, kode, ke, siapa, masuk, pihak, ...</td>\n",
       "      <td>0</td>\n",
       "      <td>NaN</td>\n",
       "      <td>LinkAja</td>\n",
       "      <td>5/14/2021 11:10</td>\n",
       "    </tr>\n",
       "    <tr>\n",
       "      <th>323</th>\n",
       "      <td>498</td>\n",
       "      <td>[dapat, tambah, pulsa, rp, 25000, nomor, 62853...</td>\n",
       "      <td>0</td>\n",
       "      <td>NaN</td>\n",
       "      <td>858</td>\n",
       "      <td>6/2/2021 9:47</td>\n",
       "    </tr>\n",
       "    <tr>\n",
       "      <th>324</th>\n",
       "      <td>499</td>\n",
       "      <td>[dapat, laptop, smartphone, emas, banyak, puls...</td>\n",
       "      <td>0</td>\n",
       "      <td>NaN</td>\n",
       "      <td>SMS BANKING</td>\n",
       "      <td>7/26/2021 12:09</td>\n",
       "    </tr>\n",
       "  </tbody>\n",
       "</table>\n",
       "<p>325 rows × 6 columns</p>\n",
       "</div>"
      ],
      "text/plain": [
       "     index                                               teks  jenis  \\\n",
       "0        0  [wow, selamat, ga, kuota, gratis, dari, perint...      0   \n",
       "1        1  [10, desember, 2021, selamat, raya, hari, hak,...      0   \n",
       "2        2  [hot, promo, isi, ulang, skr, min, 50rb, cashb...      0   \n",
       "3        3  [hotpromo, super, deal, 25rb, dpt, 12, 12gb, y...      0   \n",
       "4        4  [hakim, ganteng, kim, min, kyu, naksir, choron...      0   \n",
       "..     ...                                                ...    ...   \n",
       "320    491  [bpk, fitri, thr, banyak, siap2, weekend, buru...      0   \n",
       "321    493  [murah, bgt, beli, bagai, paket, 4g, tarik, ya...      0   \n",
       "322    494  [jangan, ikan, kode, ke, siapa, masuk, pihak, ...      0   \n",
       "323    498  [dapat, tambah, pulsa, rp, 25000, nomor, 62853...      0   \n",
       "324    499  [dapat, laptop, smartphone, emas, banyak, puls...      0   \n",
       "\n",
       "      kategori     pengirim             waktu  \n",
       "0        promo        myIM3  12/10/2021 22:40  \n",
       "1     operator   KOMNAS HAM  12/10/2021 19:27  \n",
       "2        promo      INDOSAT  12/10/2021 12:03  \n",
       "3        promo    HOT PROMO  12/10/2021 11:37  \n",
       "4    penawaran      INDOSAT   12/10/2021 8:23  \n",
       "..         ...          ...               ...  \n",
       "320        NaN     MATAHARI     5/7/2021 9:21  \n",
       "321        NaN    Telkomsel   5/13/2021 23:33  \n",
       "322        NaN      LinkAja   5/14/2021 11:10  \n",
       "323        NaN          858     6/2/2021 9:47  \n",
       "324        NaN  SMS BANKING   7/26/2021 12:09  \n",
       "\n",
       "[325 rows x 6 columns]"
      ]
     },
     "execution_count": 25,
     "metadata": {},
     "output_type": "execute_result"
    }
   ],
   "source": [
    "df_non = df[ df['jenis'] != 1 ]\n",
    "df_non.reset_index(inplace=True)\n",
    "df_non"
   ]
  },
  {
   "cell_type": "code",
   "execution_count": 26,
   "id": "37722024",
   "metadata": {},
   "outputs": [
    {
     "name": "stdout",
     "output_type": "stream",
     "text": [
      "[[0, 1, 0, 0, 0, 0, 1, 0, 0, 0, 0, 0, 0, 0, 0, 0, 1, 1, 0, 0, 0, 0, 0, 0, 0, 0, 0, 0, 0, 0, 0, 0, 0, 0, 0, 0, 0, 0, 0, 0, 0, 0, 0, 0, 0, 0, 0, 0, 0, 0, 0, 0, 0, 0, 0, 1, 0, 0, 0, 0, 0, 0, 0, 0, 0, 0, 0, 0, 0, 0, 0, 0, 0, 0, 0, 0, 0, 0, 0, 0, 0, 1, 1, 1, 1, 1, 1, 1, 1, 1, 1, 1, 0, 0, 0, 0, 0, 0, 0, 0, 0, 0, 0, 0, 0, 0, 0, 0, 0, 0, 0, 0, 0, 0, 0, 0, 0, 0, 0, 0, 0, 0, 0, 0, 0, 0, 0, 0, 0, 0, 0, 0, 0, 0, 0, 0, 0, 0, 0, 0, 0, 0, 0, 0, 0, 0, 0, 0, 0, 0, 0, 0, 0, 0, 0, 0, 0, 0, 0, 0, 0, 0, 0, 0, 0, 0, 0, 0, 0, 0, 0, 0, 0, 0, 0, 0, 0, 0, 0, 0, 0, 0, 0, 0, 0, 0, 0, 0, 0, 0, 0, 0, 0, 0, 0, 0, 0, 0, 0, 0, 0, 0, 0, 0, 0, 0, 0, 0, 0, 0, 0, 0, 0, 0, 0, 0, 0, 0, 0, 0, 0, 0, 0, 0, 0, 0, 0, 0, 0, 0, 0, 0, 0, 0, 0, 0, 0, 0, 0, 0, 0, 0, 0, 0, 0, 0, 0, 0, 0, 0, 0, 0, 0, 0, 0, 0, 0, 0, 0, 0, 0, 0, 0, 0, 0, 0, 0, 0, 0, 0, 0, 0, 0, 0, 0, 0, 0, 0, 0, 0, 0, 0, 0, 0, 0, 0, 0, 0, 0, 0, 0, 0, 0, 0, 0, 0, 0, 0, 0, 0, 0, 0, 0, 0, 0, 0, 0, 0, 0, 0, 0, 0, 0, 0, 0, 0, 0, 0, 0, 0, 0, 0, 0, 0, 0, 0, 0, 0, 0, 0, 0, 0, 0, 0, 0, 0, 0, 0, 0, 0, 0, 0, 0, 0, 0, 0, 0, 0, 0, 0, 0, 0, 0, 0, 0, 0, 0, 0, 0, 0, 0, 0, 0, 0, 0, 0, 0, 0, 0, 0, 0, 0, 0, 0, 0, 0, 0, 0, 0, 0, 0, 0, 0, 0, 0, 0, 0, 0, 0, 0, 0, 0, 0, 0, 0, 0, 0, 0, 0, 0, 0, 0, 0, 0, 0, 0, 0, 0, 0, 0, 0, 0, 0, 0, 0, 0, 0, 0, 0, 0, 0, 0, 0, 0, 0, 0, 0, 0, 0, 0, 0, 0, 0, 0, 0, 0, 0, 0, 0, 0, 0, 0, 0, 0, 0, 0, 0, 0, 0, 0, 0, 0, 0, 0, 0, 0, 0, 0, 0, 0, 0, 0, 0, 0, 0, 0, 0, 0, 0, 0, 0, 0, 0, 0, 0, 0, 0, 0, 0, 0, 0, 0, 0, 0, 0, 0, 0, 0, 0, 0, 0, 0, 0, 0, 0, 0, 0, 0, 0, 0, 0, 0, 0, 0, 0, 0, 0, 0, 0, 0, 0, 0, 0, 0, 0, 0, 0, 0, 0, 0, 0, 0, 0, 0, 0, 0, 0, 0, 0, 0, 0, 0, 0, 0, 0, 0, 0, 0, 0, 0, 0, 0, 0, 0, 0, 0, 0, 0, 0, 0, 0, 0, 0, 0, 0, 0, 0, 0, 0, 0, 0, 0, 0, 0, 0, 0, 0, 0, 0, 0, 0, 0, 0, 0, 0, 0, 0, 0, 0, 0, 0, 0, 0, 0, 0, 0, 0, 0, 0, 0, 0, 0, 0, 0, 0, 0, 0, 0, 0, 0, 0, 0, 0, 0, 0, 0, 0, 0, 0, 0, 0, 0, 0, 0, 0, 0, 0, 0, 0, 0, 0, 0, 0, 0, 0, 0, 0, 0, 0, 0, 0, 0, 0, 0, 0, 0, 0, 0, 0, 0, 0, 0, 0, 0, 0, 0, 0, 0, 0, 0, 0, 0, 0, 0, 0, 0, 0, 0, 0, 0, 0, 0, 0, 0, 0, 0, 0, 0, 0, 0, 0, 0, 0, 0, 0, 0, 0, 0, 0, 0, 0, 0, 0, 0, 0, 0, 0, 0, 0, 0, 0, 0, 0, 0, 0, 0, 0, 0, 0, 0, 0, 0, 0, 0, 0, 0, 0, 0, 0, 0, 0, 0, 0, 0, 0, 0, 0, 0, 0, 0, 0, 0, 0, 0, 0, 0, 0, 0, 0, 0, 0, 0, 0, 0, 0, 0, 0, 0, 0, 0, 0, 0, 0, 0, 0, 0, 0, 0, 0, 0, 0, 0, 0, 0, 0, 0, 0, 0, 0, 0, 0, 0, 0, 0, 0, 0, 0, 0, 0, 0, 0, 0, 0, 0, 0, 0, 0, 0, 0, 0, 0, 0, 0, 0, 0, 0, 0, 0, 0, 0, 0, 0, 0, 0, 0, 0, 0, 0, 0, 0, 0, 0, 0, 0, 0, 0, 0, 0, 0, 0, 0, 0, 0, 0, 0, 0, 0, 0, 0, 0, 0, 0, 0, 0, 0, 0, 0, 0, 0, 0, 0, 0, 0, 0, 0, 0, 0, 0, 0, 0, 0, 0, 0, 0, 0, 0, 0, 0, 0, 0, 0, 0, 0, 0, 0, 0, 0, 0, 0, 0, 0, 0, 0, 0, 0, 0, 0, 0, 0, 0, 0, 0, 0, 0, 0, 0, 0, 0, 0, 0, 0, 0, 0, 0, 0, 0, 0, 0, 0, 0, 0, 0, 0, 0, 0, 0, 0, 0, 0, 0, 0, 0, 0, 0, 0, 0, 0, 0, 0, 0, 0, 0, 0, 0, 0, 0, 0, 0, 0, 0, 0, 0, 0, 0, 0, 0, 0, 0, 0, 0, 0, 0, 0, 0, 0, 0, 0, 0, 0, 0, 0, 0, 0, 0, 0, 0, 0, 0, 0, 0, 0, 0, 0, 0, 0, 0, 0, 0, 0, 0, 0, 0, 0, 0, 0, 0, 0, 0, 0, 0, 0, 0, 0, 0, 0, 0, 0, 0, 0, 0, 0, 0, 0, 0, 0, 0, 0, 0, 0, 0, 0, 0, 0, 0, 0, 0, 0, 0, 0, 0, 0, 0, 0, 0, 0, 0, 0, 0, 0, 0, 0, 0, 0, 0, 0, 0, 0, 0, 0, 0, 0, 0, 0, 0, 0, 0, 0, 0, 0, 0, 0, 0, 0, 0, 0, 0, 0, 0, 0, 0, 0, 0, 0, 0, 0, 0, 0, 0, 0, 0, 0, 0, 0, 0, 0, 0, 0, 0, 0, 0, 0, 0, 0, 0, 0, 0, 0, 0, 0, 0, 0, 0, 0, 0, 0, 0, 0, 0, 0, 0, 0, 0, 0, 0, 0, 0, 0, 0, 0, 0, 0, 0, 0, 0, 0, 0, 0, 0, 0, 0, 0, 0, 0, 0, 0, 0, 0, 0, 0, 0, 0, 0, 0, 0, 0, 0, 0, 0, 0, 0, 0, 0, 0, 0, 0, 0, 0, 0, 0, 0, 0, 0, 0, 0, 0, 0, 0, 0, 0, 0, 0, 0, 0, 0, 0, 0, 0, 0, 0, 0, 0, 0, 0, 0, 0, 0, 0, 0, 0, 0, 0, 0, 0, 0, 0, 0, 0, 0, 0, 0, 0, 0, 0, 0, 0, 0, 0, 0, 0, 0, 0, 0, 0, 0, 0, 0, 0, 0, 0, 0, 0, 0, 0, 0, 0, 0, 0, 0, 0, 0, 0, 0, 0, 0, 0, 0, 0, 0, 0, 0, 0, 0, 0, 0, 0, 0, 0, 0, 0, 0, 0, 0, 0, 0, 0, 0, 0, 0, 0, 0, 0, 0, 0, 0, 0, 0, 0, 0, 0, 0, 0, 0, 0, 0, 0, 0, 0, 0, 0, 0, 0, 0, 0, 0, 0, 0, 0, 0, 0, 0, 0, 0, 0, 0, 0, 0, 0, 0, 0, 0, 0, 0, 0, 0, 0, 0, 0, 0, 0, 0, 0, 0, 0, 0, 0, 0, 0, 0, 0, 0, 0, 0, 0, 0, 0, 0, 0, 0, 0, 0, 0, 0, 0, 0, 0, 0, 0, 0, 0, 0, 0, 0, 0, 0, 0, 0, 0, 0, 0, 0, 0, 0, 0, 0, 0, 0, 0, 0, 0, 0, 0, 0, 0, 0, 0, 0, 0, 0, 0, 0, 0, 0, 0, 0, 0, 0, 0, 0, 0, 0, 0, 0, 0, 0, 0, 0, 0, 0, 0, 0, 0, 0, 0, 0, 0, 0, 0, 0, 0, 0, 0, 0, 0, 0, 0, 0, 0, 0, 0, 0, 0, 0, 0, 0, 0, 0, 0, 0, 0, 0, 0, 0, 0, 0, 0, 0, 0, 0, 0, 0, 0, 0, 0, 0, 0, 0, 0, 0, 0, 0, 0, 0, 0, 0, 0, 0, 0, 0, 0, 0, 0, 0, 0, 0, 0, 0, 0, 0, 0, 0, 0, 0, 0, 0, 0, 0, 0, 0, 0, 0, 0, 0, 0, 0, 0, 0, 0, 0, 0, 0, 0, 0, 0, 0, 0, 0, 0, 0, 0, 0, 0, 0, 0, 0, 0, 0, 0, 0, 0, 0, 0, 0, 0, 0, 0, 0, 0, 0, 0, 0, 0, 0, 0, 0, 0, 0, 0, 0, 0, 0, 0, 0, 0, 0, 0, 0, 0, 0, 0, 0, 0, 0, 0, 0, 0, 0, 0, 0, 0, 0, 0, 0, 0, 0, 0, 0, 0, 0, 0, 0, 0, 0, 0, 0, 0, 0, 0, 0, 0, 0, 0, 0, 0, 0, 0, 0, 0, 0, 0, 0, 0, 0, 0, 0, 0, 0, 0, 0, 0, 0, 0, 0, 0, 0, 0, 0, 0, 0, 0, 0, 0, 0, 0, 0, 0, 0, 0, 0, 0, 0, 0, 0, 0, 0, 0, 0, 0, 0, 0, 0, 0, 0, 0, 0, 0, 0, 0, 0, 0, 0, 0, 0, 0, 0, 0, 0, 0, 0, 0, 0, 0, 0, 0, 0, 0, 0, 0, 0, 0, 0, 0, 0, 0, 0, 0, 0, 0, 0, 0, 0, 0, 0, 0, 0, 0, 0, 0, 0, 0, 0, 0, 0, 0, 0, 0, 0, 0, 0, 0, 0, 0, 0, 0, 0, 0, 0, 0, 0, 0, 0, 0, 0, 0, 0, 0, 0, 0, 0, 0, 0, 0, 0, 0, 0, 0, 0, 0, 0, 0, 0, 0, 0, 0, 0, 0, 0, 0, 0, 0, 0, 0, 0, 0, 0, 0, 0, 0, 0, 0, 0, 0, 0, 0, 0, 0, 0, 0, 0, 0, 0, 0, 0, 0, 0, 0, 0, 0, 0, 0, 0, 0, 0, 0, 0, 0, 0, 0, 0, 0, 0, 0, 0, 0, 0, 0, 0, 0, 0, 0, 0, 0, 0, 0, 0, 0, 0, 0, 0, 0, 0, 0, 0, 0, 0, 0, 0, 0, 0, 0, 0, 0, 0, 0, 0, 0, 0, 0, 0, 0, 0, 0, 0, 0, 0, 0, 0, 0, 0, 0, 0, 0, 0, 0, 0, 0, 0, 0, 0, 0, 0, 0, 0, 0, 0, 0, 0, 0, 0, 0, 0, 0, 0, 0, 0, 0, 0, 0, 0, 0, 0, 0, 0, 0, 0, 0, 0, 0, 0, 0, 0, 0, 0, 0, 0, 0, 0, 0, 0, 0, 0, 0, 0, 0, 0, 0, 0, 0, 0, 0, 0, 0, 0, 0, 0, 0, 0, 0, 0, 0, 0, 0, 0, 0, 0, 0, 0, 0, 0, 0, 0, 0, 0, 0, 0, 0, 0, 0, 0, 0, 0, 0, 0, 0, 0, 0, 0, 0, 0, 0, 0, 0, 0, 0, 0, 0, 0, 0, 0, 0, 0, 0, 0, 0, 0, 0, 0, 0, 0, 0, 0, 0, 0, 0, 0, 0, 0, 0, 0, 0, 0, 0, 0, 0, 0, 0, 0, 0, 0, 0, 0, 0, 0, 0, 0, 0, 0, 0, 0, 0, 0, 0, 0, 0, 0, 0, 0, 0, 0, 0, 0, 0, 0, 0, 0, 0, 0, 0, 0, 0, 0, 0, 0, 0, 0, 0, 0, 0, 0, 0, 0, 0, 0, 0, 0, 0, 0, 0, 0, 0, 0, 0, 0, 0, 0, 0, 0, 0, 0, 0, 0, 0, 0, 0, 0, 0, 0, 0, 0, 0, 0, 0, 0, 0, 0, 0, 0, 0, 0, 0, 0, 0, 0, 0, 0, 0, 0, 0, 0, 0, 0, 0, 0, 0, 0, 0, 0, 0, 0, 0, 0, 0, 0, 0, 0, 0, 0, 0, 0, 0, 0, 0, 0, 0, 0, 0, 0, 0, 0, 0, 0, 0, 0, 0, 0, 0, 0, 0, 0, 0, 0, 0, 0, 0, 0, 0, 0, 0, 0, 0, 0, 0, 0, 0, 0, 0, 0, 0, 0, 0, 0, 0, 0, 0, 0, 0, 0, 0, 0, 0, 0, 0, 0, 0, 0, 0, 0, 0, 0, 0, 0, 0, 0, 0, 0, 0, 0, 0, 0, 0, 0, 0, 0, 0, 0, 0, 0, 0, 0, 0, 0, 0, 0, 0, 0, 0, 0, 0, 0, 0, 0, 0, 0, 0, 0, 0, 0, 0, 0, 0, 0, 0, 0, 0, 0, 0, 0, 0, 0, 0, 0, 0, 0, 0, 0, 0, 0, 0, 0, 0, 0, 0, 1], [0, 1, 0, 0, 0, 0, 0, 0, 0, 0, 0, 0, 0, 0, 0, 0, 1, 1, 0, 0, 0, 0, 0, 0, 0, 0, 0, 0, 0, 0, 0, 0, 0, 0, 0, 0, 0, 0, 0, 0, 0, 0, 0, 0, 0, 0, 0, 0, 0, 0, 0, 0, 0, 0, 0, 0, 0, 0, 1, 0, 0, 0, 0, 0, 0, 0, 0, 0, 0, 0, 0, 0, 0, 0, 0, 0, 0, 0, 0, 1, 0, 0, 0, 1, 0, 0, 0, 0, 0, 1, 0, 0, 0, 0, 0, 0, 0, 0, 0, 0, 0, 0, 0, 0, 0, 0, 0, 0, 0, 0, 0, 0, 0, 0, 0, 0, 0, 0, 0, 0, 0, 0, 0, 0, 0, 0, 0, 0, 0, 0, 0, 0, 0, 0, 0, 0, 0, 0, 0, 0, 0, 0, 0, 0, 0, 0, 0, 0, 0, 0, 0, 0, 0, 0, 0, 0, 0, 0, 0, 0, 0, 0, 0, 0, 0, 0, 0, 0, 0, 0, 0, 0, 0, 0, 0, 0, 0, 0, 0, 0, 0, 0, 0, 0, 0, 0, 0, 1, 1, 1, 1, 1, 1, 1, 1, 0, 0, 0, 0, 0, 0, 0, 0, 0, 0, 0, 0, 0, 0, 0, 0, 0, 0, 0, 0, 0, 0, 0, 0, 0, 0, 0, 0, 0, 0, 0, 0, 0, 0, 0, 0, 0, 0, 0, 0, 0, 0, 0, 0, 0, 0, 0, 0, 0, 0, 0, 0, 0, 0, 0, 0, 0, 0, 0, 0, 0, 0, 0, 0, 0, 0, 0, 0, 0, 0, 0, 0, 0, 0, 0, 0, 0, 0, 0, 0, 0, 0, 0, 0, 0, 0, 0, 0, 0, 0, 0, 0, 0, 0, 0, 0, 0, 0, 0, 0, 0, 0, 0, 0, 0, 0, 0, 0, 0, 0, 0, 0, 0, 0, 0, 0, 0, 0, 0, 0, 0, 0, 0, 0, 0, 0, 0, 0, 0, 0, 0, 0, 0, 0, 0, 0, 0, 0, 0, 0, 0, 0, 0, 0, 0, 0, 0, 0, 0, 0, 0, 0, 0, 0, 0, 0, 0, 0, 0, 0, 0, 0, 0, 0, 0, 0, 0, 0, 0, 0, 0, 0, 0, 0, 0, 0, 0, 0, 0, 0, 0, 0, 0, 0, 0, 0, 0, 0, 0, 0, 0, 0, 0, 0, 0, 0, 0, 0, 0, 0, 0, 0, 0, 0, 0, 0, 0, 0, 0, 0, 0, 0, 0, 0, 0, 0, 0, 0, 0, 0, 0, 0, 0, 0, 0, 0, 0, 0, 0, 0, 0, 0, 0, 0, 0, 0, 0, 0, 0, 0, 0, 0, 0, 0, 0, 0, 0, 0, 0, 0, 0, 0, 0, 0, 0, 0, 0, 0, 0, 0, 0, 0, 0, 0, 0, 0, 0, 0, 0, 0, 0, 0, 0, 0, 0, 0, 0, 0, 0, 0, 0, 0, 0, 0, 0, 0, 0, 0, 0, 0, 0, 0, 0, 0, 0, 0, 0, 0, 0, 0, 0, 0, 0, 0, 0, 0, 0, 0, 0, 0, 0, 0, 0, 0, 0, 0, 0, 0, 0, 0, 0, 0, 0, 0, 0, 0, 0, 0, 0, 0, 0, 0, 0, 0, 0, 0, 0, 0, 0, 0, 0, 0, 0, 0, 0, 0, 0, 0, 0, 0, 0, 0, 0, 0, 0, 0, 0, 0, 0, 0, 0, 0, 0, 0, 0, 0, 0, 0, 0, 0, 0, 0, 0, 0, 0, 0, 0, 0, 0, 0, 0, 0, 0, 0, 0, 0, 0, 0, 0, 0, 0, 0, 0, 0, 0, 0, 0, 0, 0, 0, 0, 0, 0, 0, 0, 0, 0, 0, 0, 0, 0, 0, 0, 0, 0, 0, 0, 0, 0, 0, 0, 0, 0, 0, 0, 0, 0, 0, 0, 0, 0, 0, 0, 0, 0, 0, 0, 0, 0, 0, 0, 0, 0, 0, 0, 0, 0, 0, 0, 0, 0, 0, 0, 0, 0, 0, 0, 0, 0, 0, 0, 0, 0, 0, 0, 0, 0, 0, 0, 0, 0, 0, 0, 0, 0, 0, 0, 0, 0, 0, 0, 0, 0, 0, 0, 0, 0, 0, 0, 0, 0, 0, 0, 0, 0, 0, 0, 0, 0, 0, 0, 0, 0, 0, 0, 0, 0, 0, 0, 0, 0, 0, 0, 0, 0, 0, 0, 0, 0, 0, 0, 0, 0, 0, 0, 0, 0, 0, 0, 0, 0, 0, 0, 0, 0, 0, 0, 0, 0, 0, 0, 0, 0, 0, 0, 0, 0, 0, 0, 0, 0, 0, 0, 0, 0, 0, 0, 0, 0, 0, 0, 0, 0, 0, 0, 0, 0, 0, 0, 0, 0, 0, 0, 0, 0, 0, 0, 0, 0, 0, 0, 0, 0, 0, 0, 0, 0, 0, 0, 0, 0, 0, 0, 0, 0, 0, 0, 0, 0, 0, 0, 0, 0, 0, 0, 0, 0, 0, 0, 0, 0, 0, 0, 0, 0, 0, 0, 0, 0, 0, 0, 0, 0, 0, 0, 0, 0, 0, 0, 0, 0, 0, 0, 0, 0, 0, 0, 0, 0, 0, 0, 0, 0, 0, 0, 0, 0, 0, 0, 0, 0, 0, 0, 0, 0, 0, 0, 0, 0, 0, 0, 0, 0, 0, 0, 0, 0, 0, 0, 0, 0, 0, 0, 0, 0, 0, 0, 0, 0, 0, 0, 0, 0, 0, 0, 0, 0, 0, 0, 0, 0, 0, 0, 0, 0, 0, 0, 0, 0, 0, 0, 0, 0, 0, 0, 0, 0, 0, 0, 0, 0, 0, 0, 0, 0, 0, 0, 0, 0, 0, 0, 0, 0, 0, 0, 0, 0, 0, 0, 0, 0, 0, 0, 0, 0, 0, 0, 0, 0, 0, 0, 0, 0, 0, 0, 0, 0, 0, 0, 0, 0, 0, 0, 0, 0, 0, 0, 0, 0, 0, 0, 0, 0, 0, 0, 0, 0, 0, 0, 0, 0, 0, 0, 0, 0, 0, 0, 0, 0, 0, 0, 0, 0, 0, 0, 0, 0, 0, 0, 0, 0, 0, 0, 0, 0, 0, 0, 0, 0, 0, 0, 0, 0, 0, 0, 0, 0, 0, 0, 0, 0, 0, 0, 0, 0, 0, 0, 0, 0, 0, 0, 0, 0, 0, 0, 0, 0, 0, 0, 0, 0, 0, 0, 0, 0, 0, 0, 0, 0, 0, 0, 0, 0, 0, 0, 0, 0, 0, 0, 0, 0, 0, 0, 0, 0, 0, 0, 0, 0, 0, 0, 0, 0, 0, 0, 0, 0, 0, 0, 0, 0, 0, 0, 0, 0, 0, 0, 0, 0, 0, 0, 0, 0, 0, 0, 0, 0, 0, 0, 0, 0, 0, 0, 0, 0, 0, 0, 0, 0, 0, 0, 0, 0, 0, 0, 0, 0, 0, 0, 0, 0, 0, 0, 0, 0, 0, 0, 0, 0, 0, 0, 0, 0, 0, 0, 0, 0, 0, 0, 0, 0, 0, 0, 0, 0, 0, 0, 0, 0, 0, 0, 0, 0, 0, 0, 0, 0, 0, 0, 0, 0, 0, 0, 0, 0, 0, 0, 0, 0, 0, 0, 0, 0, 0, 0, 0, 0, 0, 0, 0, 0, 0, 0, 0, 0, 0, 0, 0, 0, 0, 0, 0, 0, 0, 0, 0, 0, 0, 0, 0, 0, 0, 0, 0, 0, 0, 0, 0, 0, 0, 0, 0, 0, 0, 0, 0, 0, 0, 0, 0, 0, 0, 0, 0, 0, 0, 0, 0, 0, 0, 0, 0, 0, 0, 0, 0, 0, 0, 0, 0, 0, 0, 0, 0, 0, 0, 0, 0, 0, 0, 0, 0, 0, 0, 0, 0, 0, 0, 0, 0, 0, 0, 0, 0, 0, 0, 0, 0, 0, 0, 0, 0, 0, 0, 0, 0, 0, 0, 0, 0, 0, 0, 0, 0, 0, 0, 0, 0, 0, 0, 0, 0, 0, 0, 0, 0, 0, 0, 0, 0, 0, 0, 0, 0, 0, 0, 0, 0, 0, 0, 0, 0, 0, 0, 0, 0, 0, 0, 0, 0, 0, 0, 0, 0, 0, 0, 0, 0, 0, 0, 0, 0, 0, 0, 0, 0, 0, 0, 0, 0, 0, 0, 0, 0, 0, 0, 0, 0, 0, 0, 0, 0, 0, 0, 0, 0, 0, 0, 0, 0, 0, 0, 0, 0, 0, 0, 0, 0, 0, 0, 0, 0, 0, 0, 0, 0, 0, 0, 0, 0, 0, 0, 0, 0, 0, 0, 0, 0, 0, 0, 0, 0, 0, 0, 0, 0, 0, 0, 0, 0, 0, 0, 0, 0, 0, 0, 0, 0, 0, 0, 0, 0, 0, 0, 0, 0, 0, 0, 0, 0, 0, 0, 0, 0, 0, 0, 0, 0, 0, 0, 0, 0, 0, 0, 0, 0, 0, 0, 0, 0, 0, 0, 0, 0, 0, 0, 0, 0, 0, 0, 0, 0, 0, 0, 0, 0, 0, 0, 0, 0, 0, 0, 0, 0, 0, 0, 0, 0, 0, 0, 0, 0, 0, 0, 0, 0, 0, 0, 0, 0, 0, 0, 0, 0, 0, 0, 0, 0, 0, 0, 0, 0, 0, 0, 0, 0, 0, 0, 0, 0, 0, 0, 0, 0, 0, 0, 0, 0, 0, 0, 0, 0, 0, 0, 0, 0, 0, 0, 0, 0, 0, 0, 0, 0, 0, 0, 0, 0, 0, 0, 0, 0, 0, 0, 0, 0, 0, 0, 0, 0, 0, 0, 0, 0, 0, 0, 0, 0, 0, 0, 0, 0, 0, 0, 0, 0, 0, 0, 0, 0, 0, 0, 0, 0, 0, 0, 0, 0, 0, 0, 0, 0, 0, 0, 0, 0, 0, 0, 0, 0, 0, 0, 0, 0, 0, 0, 0, 0, 0, 0, 0, 0, 0, 0, 0, 0, 0, 0, 0, 0, 0, 0, 0, 0, 0, 0, 0, 0, 0, 0, 0, 0, 0, 0, 0, 0, 0, 0, 0, 0, 0, 0, 0, 0, 0, 0, 0, 0, 0, 0, 0, 0, 0, 0, 0, 0, 0, 0, 0, 0, 0, 0, 0, 0, 0, 0, 0, 0, 0, 0, 0, 0, 0, 0, 0, 0, 0, 0, 0, 0, 0, 0, 0, 0, 0, 0, 0, 0, 0, 0, 0, 0, 0, 0, 0, 0, 0, 0, 0, 0, 0, 0, 0, 0, 0, 0, 0, 0, 0, 0, 0, 0, 0, 0, 0, 0, 0, 0, 0, 0, 0, 0, 0, 0, 0, 0, 0, 0, 0, 0, 0, 0, 0, 0, 0, 0, 0, 0, 0, 0, 0, 0, 0, 0, 0, 0, 0, 0, 0, 0, 0, 0, 0, 0, 0, 0, 0, 0, 0, 0, 0, 0, 0, 0, 0, 0, 0, 0, 0, 0, 0, 0, 0, 0, 0, 0, 0, 0, 0, 0, 0, 0, 0, 0, 0, 0, 0, 0, 0, 0, 0, 0, 0, 0, 0, 0, 0, 0, 0, 0, 0, 0, 0, 0, 0, 0, 0, 0, 0, 0, 0, 0, 0, 0, 0, 0, 0, 0, 0, 0, 0, 0, 0, 0, 0, 0, 0, 0, 0, 0, 0, 0, 0, 0, 0, 0, 0, 0, 0, 0, 0, 0, 0, 0, 0, 0, 0, 0, 0, 0, 0, 0, 0, 0, 0, 0, 0, 0, 0, 0, 0, 0, 0, 0, 0, 0, 0, 0, 0, 0, 0, 0, 0, 0, 0, 0, 0, 0, 0, 0, 0, 0, 0, 0, 0, 0, 0, 0, 0, 0, 0, 0, 0, 0, 0, 0, 0, 0, 0, 0, 0, 0, 0, 0, 0, 0, 0, 0, 0, 0, 0, 0, 0, 0, 0, 0, 0, 0, 0, 0, 0, 0, 0, 0, 0, 0, 0, 0, 0, 0, 0, 0, 0, 0, 0, 0, 0, 0, 0, 0, 0, 0, 0, 0, 0, 0, 0, 0, 0, 0, 0, 0, 0, 0, 0, 0, 0, 0, 0, 0, 0, 0, 0, 0, 0, 0, 0, 0, 0, 0, 0, 0, 0, 0, 0, 0, 0, 0, 0, 0, 0, 0, 0, 0, 0, 0, 0, 0, 0, 0, 0, 0, 0, 0, 0, 0, 0, 0, 0, 0, 0, 0, 0, 0, 0, 0, 0, 0, 0, 0, 0, 0, 0, 0, 0, 0, 0, 0, 0, 0, 0, 0, 0, 0, 0, 0, 0, 0, 0, 0, 0, 0, 0, 0, 0, 0, 0, 0, 0, 0, 0, 0, 0, 0, 0, 0, 0, 0, 0, 0, 0, 0, 0, 0, 0, 0, 0, 0, 0, 0, 0, 0, 0, 0, 0, 0, 0, 0, 0, 0, 0, 0, 0, 0, 0, 0, 0, 0, 0, 0, 0, 0, 0, 0, 0, 0, 0, 0, 0, 0, 0, 0, 0, 0, 0, 0, 0, 0, 0, 0, 0, 0, 0, 0, 0, 0, 0, 0, 0, 0, 0, 0, 0, 0, 0, 0, 0, 0, 0, 0, 0, 0, 0, 0, 0, 0, 0, 0, 0, 0, 0, 0, 0, 0, 0, 0, 0, 0, 0, 0, 0, 0, 0, 0, 0, 0, 0, 0, 0, 0, 0, 0, 0, 0, 0, 0, 0, 0, 0, 0, 0, 0, 0, 0, 0, 0, 0, 0, 0, 0, 0, 0, 0, 0, 0, 0, 1]]\n"
     ]
    }
   ],
   "source": [
    "# hitung nilai tf di kategori spam\n",
    "tf_spamrf = []\n",
    "countTFCategory(df_spam, term, df_spam['teks'], tf_spamrf)\n",
    "print(tf_spamrf[:2])"
   ]
  },
  {
   "cell_type": "code",
   "execution_count": 27,
   "id": "742622cd",
   "metadata": {},
   "outputs": [
    {
     "name": "stdout",
     "output_type": "stream",
     "text": [
      "[[1, 1, 1, 1, 2, 1, 1, 1, 2, 1, 1, 1, 1, 1, 1, 1, 1, 1, 1, 0, 0, 0, 0, 0, 0, 0, 0, 0, 0, 0, 0, 0, 0, 0, 0, 0, 0, 0, 0, 0, 0, 0, 0, 0, 0, 0, 0, 0, 0, 0, 0, 0, 0, 0, 0, 0, 0, 0, 0, 0, 0, 0, 0, 0, 0, 0, 0, 0, 0, 0, 0, 0, 0, 0, 0, 0, 0, 0, 0, 0, 0, 0, 0, 0, 0, 0, 0, 0, 0, 0, 0, 0, 0, 0, 0, 0, 0, 0, 0, 0, 0, 0, 0, 0, 0, 0, 0, 0, 0, 0, 0, 0, 0, 0, 0, 0, 0, 0, 0, 0, 0, 0, 0, 0, 0, 0, 0, 0, 0, 0, 0, 0, 0, 0, 0, 0, 0, 0, 0, 0, 0, 0, 0, 0, 0, 0, 0, 0, 0, 0, 0, 0, 0, 0, 0, 0, 0, 0, 0, 0, 0, 0, 0, 0, 0, 0, 0, 0, 0, 0, 0, 0, 0, 0, 0, 0, 0, 0, 0, 0, 0, 0, 0, 0, 0, 0, 0, 0, 0, 0, 0, 0, 0, 0, 0, 0, 0, 0, 0, 0, 0, 0, 0, 0, 0, 0, 0, 0, 0, 0, 0, 0, 0, 0, 0, 0, 0, 0, 0, 0, 0, 0, 0, 0, 0, 0, 0, 0, 0, 0, 0, 0, 0, 0, 0, 0, 0, 0, 0, 0, 0, 0, 0, 0, 0, 0, 0, 0, 0, 0, 0, 0, 0, 0, 0, 0, 0, 0, 0, 0, 0, 0, 0, 0, 0, 0, 0, 0, 0, 0, 0, 0, 0, 0, 0, 0, 0, 0, 0, 0, 0, 0, 0, 0, 0, 0, 0, 0, 0, 0, 0, 0, 0, 0, 0, 0, 0, 0, 0, 0, 0, 0, 0, 0, 0, 0, 0, 0, 0, 0, 0, 0, 0, 0, 0, 0, 0, 0, 0, 0, 0, 0, 0, 0, 0, 0, 0, 0, 0, 0, 0, 0, 0, 0, 0, 0, 0, 0, 0, 0, 0, 0, 0, 0, 0, 0, 0, 0, 0, 0, 0, 0, 0, 0, 0, 0, 0, 0, 0, 0, 0, 0, 0, 0, 0, 0, 0, 0, 0, 0, 0, 0, 0, 0, 0, 0, 0, 0, 0, 0, 0, 0, 0, 0, 0, 0, 0, 0, 0, 0, 0, 0, 0, 0, 0, 0, 0, 0, 0, 0, 0, 0, 0, 0, 0, 0, 0, 0, 0, 0, 0, 0, 0, 0, 0, 0, 0, 0, 0, 0, 0, 0, 0, 0, 0, 0, 0, 0, 0, 0, 0, 0, 0, 0, 0, 0, 0, 0, 0, 0, 0, 0, 0, 0, 0, 0, 0, 0, 0, 0, 0, 0, 0, 0, 0, 0, 0, 0, 0, 0, 0, 0, 0, 0, 0, 0, 0, 0, 0, 0, 0, 0, 0, 0, 0, 0, 0, 0, 0, 0, 0, 0, 0, 0, 0, 0, 0, 0, 0, 0, 0, 0, 0, 0, 0, 0, 0, 0, 0, 0, 0, 0, 0, 0, 0, 0, 0, 0, 0, 0, 0, 0, 0, 0, 0, 0, 0, 0, 0, 0, 0, 0, 0, 0, 0, 0, 0, 0, 0, 0, 0, 0, 0, 0, 0, 0, 0, 0, 0, 0, 0, 0, 0, 0, 0, 0, 0, 0, 0, 0, 0, 0, 0, 0, 0, 0, 0, 0, 0, 0, 0, 0, 0, 0, 0, 0, 0, 0, 0, 0, 0, 0, 0, 0, 0, 0, 0, 0, 0, 0, 0, 0, 0, 0, 0, 0, 0, 0, 0, 0, 0, 0, 0, 0, 0, 0, 0, 0, 0, 0, 0, 0, 0, 0, 0, 0, 0, 0, 0, 0, 0, 0, 0, 0, 0, 0, 0, 0, 0, 0, 0, 0, 0, 0, 0, 0, 0, 0, 0, 0, 0, 0, 0, 0, 0, 0, 0, 0, 0, 0, 0, 0, 0, 0, 0, 0, 0, 0, 0, 0, 0, 0, 0, 0, 0, 0, 0, 0, 0, 0, 0, 0, 0, 0, 0, 0, 0, 0, 0, 0, 0, 0, 0, 0, 0, 0, 0, 0, 0, 0, 0, 0, 0, 0, 0, 0, 0, 0, 0, 0, 0, 0, 0, 0, 0, 0, 0, 0, 0, 0, 0, 0, 0, 0, 0, 0, 0, 0, 0, 0, 0, 0, 0, 0, 0, 0, 0, 0, 0, 0, 0, 0, 0, 0, 0, 0, 0, 0, 0, 0, 0, 0, 0, 0, 0, 0, 0, 0, 0, 0, 0, 0, 0, 0, 0, 0, 0, 0, 0, 0, 0, 0, 0, 0, 0, 0, 0, 0, 0, 0, 0, 0, 0, 0, 0, 0, 0, 0, 0, 0, 0, 0, 0, 0, 0, 0, 0, 0, 0, 0, 0, 0, 0, 0, 0, 0, 0, 0, 0, 0, 0, 0, 0, 0, 0, 0, 0, 0, 0, 0, 0, 0, 0, 0, 0, 0, 0, 0, 0, 0, 0, 0, 0, 0, 0, 0, 0, 0, 0, 0, 0, 0, 0, 0, 0, 0, 0, 0, 0, 0, 0, 0, 0, 0, 0, 0, 0, 0, 0, 0, 0, 0, 0, 0, 0, 0, 0, 0, 0, 0, 0, 0, 0, 0, 0, 0, 0, 0, 0, 0, 0, 0, 0, 0, 0, 0, 0, 0, 0, 0, 0, 0, 0, 0, 0, 0, 0, 0, 0, 0, 0, 0, 0, 0, 0, 0, 0, 0, 0, 0, 0, 0, 0, 0, 0, 0, 0, 0, 0, 0, 0, 0, 0, 0, 0, 0, 0, 0, 0, 0, 0, 0, 0, 0, 0, 0, 0, 0, 0, 0, 0, 0, 0, 0, 0, 0, 0, 0, 0, 0, 0, 0, 0, 0, 0, 0, 0, 0, 0, 0, 0, 0, 0, 0, 0, 0, 0, 0, 0, 0, 0, 0, 0, 0, 0, 0, 0, 0, 0, 0, 0, 0, 0, 0, 0, 0, 0, 0, 0, 0, 0, 0, 0, 0, 0, 0, 0, 0, 0, 0, 0, 0, 0, 0, 0, 0, 0, 0, 0, 0, 0, 0, 0, 0, 0, 0, 0, 0, 0, 0, 0, 0, 0, 0, 0, 0, 0, 0, 0, 0, 0, 0, 0, 0, 0, 0, 0, 0, 0, 0, 0, 0, 0, 0, 0, 0, 0, 0, 0, 0, 0, 0, 0, 0, 0, 0, 0, 0, 0, 0, 0, 0, 0, 0, 0, 0, 0, 0, 0, 0, 0, 0, 0, 0, 0, 0, 0, 0, 0, 0, 0, 0, 0, 0, 0, 0, 0, 0, 0, 0, 0, 0, 0, 0, 0, 0, 0, 0, 0, 0, 0, 0, 0, 0, 0, 0, 0, 0, 0, 0, 0, 0, 0, 0, 0, 0, 0, 0, 0, 0, 0, 0, 0, 0, 0, 0, 0, 0, 0, 0, 0, 0, 0, 0, 0, 0, 0, 0, 0, 0, 0, 0, 0, 0, 0, 0, 0, 0, 0, 0, 0, 0, 0, 0, 0, 0, 0, 0, 0, 0, 0, 0, 0, 0, 0, 0, 0, 0, 0, 0, 0, 0, 0, 0, 0, 0, 0, 0, 0, 0, 0, 0, 0, 0, 0, 0, 0, 0, 0, 0, 0, 0, 0, 0, 0, 0, 0, 0, 0, 0, 0, 0, 0, 0, 0, 0, 0, 0, 0, 0, 0, 0, 0, 0, 0, 0, 0, 0, 0, 0, 0, 0, 0, 0, 0, 0, 0, 0, 0, 0, 0, 0, 0, 0, 0, 0, 0, 0, 0, 0, 0, 0, 0, 0, 0, 0, 0, 0, 0, 0, 0, 0, 0, 0, 0, 0, 0, 0, 0, 0, 0, 0, 0, 0, 0, 0, 0, 0, 0, 0, 0, 0, 0, 0, 0, 0, 0, 0, 0, 0, 0, 0, 0, 0, 0, 0, 0, 0, 0, 0, 0, 0, 0, 0, 0, 0, 0, 0, 0, 0, 0, 0, 0, 0, 0, 0, 0, 0, 0, 0, 0, 0, 0, 0, 0, 0, 0, 0, 0, 0, 0, 0, 0, 0, 0, 0, 0, 0, 0, 0, 0, 0, 0, 0, 0, 0, 0, 0, 0, 0, 0, 0, 0, 0, 0, 0, 0, 0, 0, 0, 0, 0, 0, 0, 0, 0, 0, 0, 0, 0, 0, 0, 0, 0, 0, 0, 0, 0, 0, 0, 0, 0, 0, 0, 0, 0, 0, 0, 0, 0, 0, 0, 0, 0, 0, 0, 0, 0, 0, 0, 0, 0, 0, 0, 0, 0, 0, 0, 0, 0, 0, 0, 0, 0, 0, 0, 0, 0, 0, 0, 0, 0, 0, 0, 0, 0, 0, 0, 0, 0, 0, 0, 0, 0, 0, 0, 0, 0, 0, 0, 0, 0, 0, 0, 0, 0, 0, 0, 0, 0, 0, 0, 0, 0, 0, 0, 0, 0, 0, 0, 0, 0, 0, 0, 0, 0, 0, 0, 0, 0, 0, 0, 0, 0, 0, 0, 0, 0, 0, 0, 0, 0, 0, 0, 0, 0, 0, 0, 0, 0, 0, 0, 0, 0, 0, 0, 0, 0, 0, 0, 0, 0, 0, 0, 0, 0, 0, 0, 0, 0, 0, 0, 0, 0, 0, 0, 0, 0, 0, 0, 0, 0, 0, 0, 0, 0, 0, 0, 0, 0, 0, 0, 0, 0, 0, 0, 0, 0, 0, 0, 0, 0, 0, 0, 0, 0, 0, 0, 0, 0, 0, 0, 0, 0, 0, 0, 0, 0, 0, 0, 0, 0, 0, 0, 0, 0, 0, 0, 0, 0, 0, 0, 0, 0, 0, 0, 0, 0, 0, 0, 0, 0, 0, 0, 0, 0, 0, 0, 0, 0, 0, 0, 0, 0, 0, 0, 0, 0, 0, 0, 0, 0, 0, 0, 0, 0, 0, 0, 0, 0, 0, 0, 0, 0, 0, 0, 0, 0, 0, 0, 0, 0, 0, 0, 0, 0, 0, 0, 0, 0, 0, 0, 0, 0, 0, 0, 0, 0, 0, 0, 0, 0, 0, 0, 0, 0, 0, 0, 0, 0, 0, 0, 0, 0, 0, 0, 0, 0, 0, 0, 0, 0, 0, 0, 0, 0, 0, 0, 0, 0, 0, 0, 0, 0, 0, 0, 0, 0, 0, 0, 0, 0, 0, 0, 0, 0, 0, 0, 0, 0, 0, 0, 0, 0, 0, 0, 0, 0, 0, 0, 0, 0, 0, 0, 0, 0, 0, 0, 0, 0, 0, 0, 0, 0, 0, 0, 0, 0, 0, 0, 0, 0, 0, 0, 0, 0, 0, 0, 0, 0, 0, 0, 0, 0, 0, 0, 0, 0, 0, 0, 0, 0, 0, 0, 0, 0, 0, 0, 0, 0, 0, 0, 0, 0, 0, 0, 0, 0, 0, 0, 0, 0, 0, 0, 0, 0, 0, 0, 0, 0, 0, 0, 0, 0, 0, 0, 0, 0, 0, 0, 0, 0, 0, 0, 0, 0, 0, 0, 0, 0, 0, 0, 0, 0, 0, 0, 0, 0, 0, 0, 0, 0, 0, 0, 0, 0, 0, 0, 0, 0, 0, 0, 0, 0, 0, 0, 0, 0, 0, 0, 0, 0, 0, 0, 0, 0, 0, 0, 0, 0, 0, 0, 0, 0, 0, 0, 0, 0, 0, 0, 0, 0, 0, 0, 0, 0, 0, 0, 0, 0, 0, 0, 0, 0, 0, 0, 0, 0, 0, 0, 0, 0, 0, 0, 0, 0, 0, 0, 0, 0, 0, 0, 0, 0, 0, 0, 0, 0, 0, 0, 0, 0, 0, 0, 0, 0, 0, 0, 0, 0, 0, 0, 0, 0, 0, 0, 0, 0, 0, 0, 0, 0, 0, 0, 0, 0, 0, 0, 0, 0, 0, 0, 0, 0, 0, 0, 0, 0, 0, 0, 0, 0, 0, 0, 0, 0, 0, 0, 0, 0, 0, 0, 0, 0, 0, 0, 0, 0, 0, 0, 0, 0, 0, 0, 0, 0, 0, 0, 0, 0, 0, 0, 0, 0, 0, 0, 0, 0, 0, 0, 0, 0, 0, 0, 0, 0, 0, 0, 0, 0, 0, 0, 0, 0, 0, 0, 0, 0, 0, 0, 0, 0, 0, 0, 0, 0, 0, 0, 0, 0, 0, 0, 0, 0, 0, 0, 0, 0, 0, 0, 0, 0, 0, 0, 0, 0, 0, 0, 0, 0, 0, 0, 0, 0, 0, 0, 0, 0, 0, 0, 0, 0, 0, 0, 0, 0, 0, 0, 0, 0, 0, 0, 0, 0, 0, 0, 0, 0, 0, 0, 0, 0, 0, 0, 0, 0, 0, 0, 0, 0, 0, 0, 0, 0, 0, 0, 0, 0, 0, 0, 0, 0, 0, 0, 0, 0, 0, 0, 0, 0, 0, 0, 0, 0, 0, 0, 0, 0, 0, 0, 0, 0, 0, 0, 0, 0, 0, 0, 0, 0, 0, 0, 0, 0, 0, 0, 0, 0, 0, 0, 0, 0, 0, 0, 0, 0, 0, 0, 0, 0, 0, 0, 0, 0, 0, 0, 0, 0, 0, 0, 0, 0, 0, 0, 0, 0, 0, 0, 0, 0, 0, 0, 0, 0, 0, 0, 0, 0, 0, 0, 0, 0, 0, 0, 0, 0, 0, 0, 0, 0, 0, 0, 0, 0, 0, 0, 0, 0, 0, 0, 0, 0, 0, 0, 0, 0, 0, 0, 0, 0, 0, 0], [0, 1, 0, 0, 0, 0, 0, 0, 0, 0, 0, 0, 0, 0, 0, 0, 0, 0, 0, 1, 1, 1, 2, 2, 2, 1, 1, 1, 0, 0, 0, 0, 0, 0, 0, 0, 0, 0, 0, 0, 0, 0, 0, 0, 0, 0, 0, 0, 0, 0, 0, 0, 0, 0, 0, 0, 0, 0, 0, 0, 0, 0, 0, 0, 0, 0, 0, 0, 0, 0, 0, 0, 0, 0, 0, 0, 0, 0, 0, 0, 0, 0, 0, 0, 0, 0, 0, 0, 0, 0, 0, 0, 0, 0, 0, 0, 0, 0, 0, 0, 0, 0, 0, 0, 0, 0, 0, 0, 0, 0, 0, 0, 0, 0, 0, 0, 0, 0, 0, 0, 0, 0, 0, 0, 0, 0, 0, 0, 0, 0, 0, 0, 0, 0, 0, 0, 0, 0, 0, 0, 0, 0, 0, 0, 0, 0, 0, 0, 0, 0, 0, 0, 0, 0, 0, 0, 0, 0, 0, 0, 0, 0, 0, 0, 0, 0, 0, 0, 0, 0, 0, 0, 0, 0, 0, 0, 0, 0, 0, 0, 0, 0, 0, 0, 0, 0, 0, 0, 0, 0, 0, 0, 0, 0, 0, 0, 0, 0, 0, 0, 0, 0, 0, 0, 0, 0, 0, 0, 0, 0, 0, 0, 0, 0, 0, 0, 0, 0, 0, 0, 0, 0, 0, 0, 0, 0, 0, 0, 0, 0, 0, 0, 0, 0, 0, 0, 0, 0, 0, 0, 0, 0, 0, 0, 0, 0, 0, 0, 0, 0, 0, 0, 0, 0, 0, 0, 0, 0, 0, 0, 0, 0, 0, 0, 0, 0, 0, 0, 0, 0, 0, 0, 0, 0, 0, 0, 0, 0, 0, 0, 0, 0, 0, 0, 0, 0, 0, 0, 0, 0, 0, 0, 0, 0, 0, 0, 0, 0, 0, 0, 0, 0, 0, 0, 0, 0, 0, 0, 0, 0, 0, 0, 0, 0, 0, 0, 0, 0, 0, 0, 0, 0, 0, 0, 0, 0, 0, 0, 0, 0, 0, 0, 0, 0, 0, 0, 0, 0, 0, 0, 0, 0, 0, 0, 0, 0, 0, 0, 0, 0, 0, 0, 0, 0, 0, 0, 0, 0, 0, 0, 0, 0, 0, 0, 0, 0, 0, 0, 0, 0, 0, 0, 0, 0, 0, 0, 0, 0, 0, 0, 0, 0, 0, 0, 0, 0, 0, 0, 0, 0, 0, 0, 0, 0, 0, 0, 0, 0, 0, 0, 0, 0, 0, 0, 0, 0, 0, 0, 0, 0, 0, 0, 0, 0, 0, 0, 0, 0, 0, 0, 0, 0, 0, 0, 0, 0, 0, 0, 0, 0, 0, 0, 0, 0, 0, 0, 0, 0, 0, 0, 0, 0, 0, 0, 0, 0, 0, 0, 0, 0, 0, 0, 0, 0, 0, 0, 0, 0, 0, 0, 0, 0, 0, 0, 0, 0, 0, 0, 0, 0, 0, 0, 0, 0, 0, 0, 0, 0, 0, 0, 0, 0, 0, 0, 0, 0, 0, 0, 0, 0, 0, 0, 0, 0, 0, 0, 0, 0, 0, 0, 0, 0, 0, 0, 0, 0, 0, 0, 0, 0, 0, 0, 0, 0, 0, 0, 0, 0, 0, 0, 0, 0, 0, 0, 0, 0, 0, 0, 0, 0, 0, 0, 0, 0, 0, 0, 0, 0, 0, 0, 0, 0, 0, 0, 0, 0, 0, 0, 0, 0, 0, 0, 0, 0, 0, 0, 0, 0, 0, 0, 0, 0, 0, 0, 0, 0, 0, 0, 0, 0, 0, 0, 0, 0, 0, 0, 0, 0, 0, 0, 0, 0, 0, 0, 0, 0, 0, 0, 0, 0, 0, 0, 0, 0, 0, 0, 0, 0, 0, 0, 0, 0, 0, 0, 0, 0, 0, 0, 0, 0, 0, 0, 0, 0, 0, 0, 0, 0, 0, 0, 0, 0, 0, 0, 0, 0, 0, 0, 0, 0, 0, 0, 0, 0, 0, 0, 0, 0, 0, 0, 0, 0, 0, 0, 0, 0, 0, 0, 0, 0, 0, 0, 0, 0, 0, 0, 0, 0, 0, 0, 0, 0, 0, 0, 0, 0, 0, 0, 0, 0, 0, 0, 0, 0, 0, 0, 0, 0, 0, 0, 0, 0, 0, 0, 0, 0, 0, 0, 0, 0, 0, 0, 0, 0, 0, 0, 0, 0, 0, 0, 0, 0, 0, 0, 0, 0, 0, 0, 0, 0, 0, 0, 0, 0, 0, 0, 0, 0, 0, 0, 0, 0, 0, 0, 0, 0, 0, 0, 0, 0, 0, 0, 0, 0, 0, 0, 0, 0, 0, 0, 0, 0, 0, 0, 0, 0, 0, 0, 0, 0, 0, 0, 0, 0, 0, 0, 0, 0, 0, 0, 0, 0, 0, 0, 0, 0, 0, 0, 0, 0, 0, 0, 0, 0, 0, 0, 0, 0, 0, 0, 0, 0, 0, 0, 0, 0, 0, 0, 0, 0, 0, 0, 0, 0, 0, 0, 0, 0, 0, 0, 0, 0, 0, 0, 0, 0, 0, 0, 0, 0, 0, 0, 0, 0, 0, 0, 0, 0, 0, 0, 0, 0, 0, 0, 0, 0, 0, 0, 0, 0, 0, 0, 0, 0, 0, 0, 0, 0, 0, 0, 0, 0, 0, 0, 0, 0, 0, 0, 0, 0, 0, 0, 0, 0, 0, 0, 0, 0, 0, 0, 0, 0, 0, 0, 0, 0, 0, 0, 0, 0, 0, 0, 0, 0, 0, 0, 0, 0, 0, 0, 0, 0, 0, 0, 0, 0, 0, 0, 0, 0, 0, 0, 0, 0, 0, 0, 0, 0, 0, 0, 0, 0, 0, 0, 0, 0, 0, 0, 0, 0, 0, 0, 0, 0, 0, 0, 0, 0, 0, 0, 0, 0, 0, 0, 0, 0, 0, 0, 0, 0, 0, 0, 0, 0, 0, 0, 0, 0, 0, 0, 0, 0, 0, 0, 0, 0, 0, 0, 0, 0, 0, 0, 0, 0, 0, 0, 0, 0, 0, 0, 0, 0, 0, 0, 0, 0, 0, 0, 0, 0, 0, 0, 0, 0, 0, 0, 0, 0, 0, 0, 0, 0, 0, 0, 0, 0, 0, 0, 0, 0, 0, 0, 0, 0, 0, 0, 0, 0, 0, 0, 0, 0, 0, 0, 0, 0, 0, 0, 0, 0, 0, 0, 0, 0, 0, 0, 0, 0, 0, 0, 0, 0, 0, 0, 0, 0, 0, 0, 0, 0, 0, 0, 0, 0, 0, 0, 0, 0, 0, 0, 0, 0, 0, 0, 0, 0, 0, 0, 0, 0, 0, 0, 0, 0, 0, 0, 0, 0, 0, 0, 0, 0, 0, 0, 0, 0, 0, 0, 0, 0, 0, 0, 0, 0, 0, 0, 0, 0, 0, 0, 0, 0, 0, 0, 0, 0, 0, 0, 0, 0, 0, 0, 0, 0, 0, 0, 0, 0, 0, 0, 0, 0, 0, 0, 0, 0, 0, 0, 0, 0, 0, 0, 0, 0, 0, 0, 0, 0, 0, 0, 0, 0, 0, 0, 0, 0, 0, 0, 0, 0, 0, 0, 0, 0, 0, 0, 0, 0, 0, 0, 0, 0, 0, 0, 0, 0, 0, 0, 0, 0, 0, 0, 0, 0, 0, 0, 0, 0, 0, 0, 0, 0, 0, 0, 0, 0, 0, 0, 0, 0, 0, 0, 0, 0, 0, 0, 0, 0, 0, 0, 0, 0, 0, 0, 0, 0, 0, 0, 0, 0, 0, 0, 0, 0, 0, 0, 0, 0, 0, 0, 0, 0, 0, 0, 0, 0, 0, 0, 0, 0, 0, 0, 0, 0, 0, 0, 0, 0, 0, 0, 0, 0, 0, 0, 0, 0, 0, 0, 0, 0, 0, 0, 0, 0, 0, 0, 0, 0, 0, 0, 0, 0, 0, 0, 0, 0, 0, 0, 0, 0, 0, 0, 0, 0, 0, 0, 0, 0, 0, 0, 0, 0, 0, 0, 0, 0, 0, 0, 0, 0, 0, 0, 0, 0, 0, 0, 0, 0, 0, 0, 0, 0, 0, 0, 0, 0, 0, 0, 0, 0, 0, 0, 0, 0, 0, 0, 0, 0, 0, 0, 0, 0, 0, 0, 0, 0, 0, 0, 0, 0, 0, 0, 0, 0, 0, 0, 0, 0, 0, 0, 0, 0, 0, 0, 0, 0, 0, 0, 0, 0, 0, 0, 0, 0, 0, 0, 0, 0, 0, 0, 0, 0, 0, 0, 0, 0, 0, 0, 0, 0, 0, 0, 0, 0, 0, 0, 0, 0, 0, 0, 0, 0, 0, 0, 0, 0, 0, 0, 0, 0, 0, 0, 0, 0, 0, 0, 0, 0, 0, 0, 0, 0, 0, 0, 0, 0, 0, 0, 0, 0, 0, 0, 0, 0, 0, 0, 0, 0, 0, 0, 0, 0, 0, 0, 0, 0, 0, 0, 0, 0, 0, 0, 0, 0, 0, 0, 0, 0, 0, 0, 0, 0, 0, 0, 0, 0, 0, 0, 0, 0, 0, 0, 0, 0, 0, 0, 0, 0, 0, 0, 0, 0, 0, 0, 0, 0, 0, 0, 0, 0, 0, 0, 0, 0, 0, 0, 0, 0, 0, 0, 0, 0, 0, 0, 0, 0, 0, 0, 0, 0, 0, 0, 0, 0, 0, 0, 0, 0, 0, 0, 0, 0, 0, 0, 0, 0, 0, 0, 0, 0, 0, 0, 0, 0, 0, 0, 0, 0, 0, 0, 0, 0, 0, 0, 0, 0, 0, 0, 0, 0, 0, 0, 0, 0, 0, 0, 0, 0, 0, 0, 0, 0, 0, 0, 0, 0, 0, 0, 0, 0, 0, 0, 0, 0, 0, 0, 0, 0, 0, 0, 0, 0, 0, 0, 0, 0, 0, 0, 0, 0, 0, 0, 0, 0, 0, 0, 0, 0, 0, 0, 0, 0, 0, 0, 0, 0, 0, 0, 0, 0, 0, 0, 0, 0, 0, 0, 0, 0, 0, 0, 0, 0, 0, 0, 0, 0, 0, 0, 0, 0, 0, 0, 0, 0, 0, 0, 0, 0, 0, 0, 0, 0, 0, 0, 0, 0, 0, 0, 0, 0, 0, 0, 0, 0, 0, 0, 0, 0, 0, 0, 0, 0, 0, 0, 0, 0, 0, 0, 0, 0, 0, 0, 0, 0, 0, 0, 0, 0, 0, 0, 0, 0, 0, 0, 0, 0, 0, 0, 0, 0, 0, 0, 0, 0, 0, 0, 0, 0, 0, 0, 0, 0, 0, 0, 0, 0, 0, 0, 0, 0, 0, 0, 0, 0, 0, 0, 0, 0, 0, 0, 0, 0, 0, 0, 0, 0, 0, 0, 0, 0, 0, 0, 0, 0, 0, 0, 0, 0, 0, 0, 0, 0, 0, 0, 0, 0, 0, 0, 0, 0, 0, 0, 0, 0, 0, 0, 0, 0, 0, 0, 0, 0, 0, 0, 0, 0, 0, 0, 0, 0, 0, 0, 0, 0, 0, 0, 0, 0, 0, 0, 0, 0, 0, 0, 0, 0, 0, 0, 0, 0, 0, 0, 0, 0, 0, 0, 0, 0, 0, 0, 0, 0, 0, 0, 0, 0, 0, 0, 0, 0, 0, 0, 0, 0, 0, 0, 0, 0, 0, 0, 0, 0, 0, 0, 0, 0, 0, 0, 0, 0, 0, 0, 0, 0, 0, 0, 0, 0, 0, 0, 0, 0, 0, 0, 0, 0, 0, 0, 0, 0, 0, 0, 0, 0, 0, 0, 0, 0, 0, 0, 0, 0, 0, 0, 0, 0, 0, 0, 0, 0, 0, 0, 0, 0, 0, 0, 0, 0, 0, 0, 0, 0, 0, 0, 0, 0, 0, 0, 0, 0, 0, 0, 0, 0, 0, 0, 0, 0, 0, 0, 0, 0, 0, 0, 0, 0, 0, 0, 0, 0, 0, 0, 0, 0, 0, 0, 0, 0, 0, 0, 0, 0, 0, 0, 0, 0, 0, 0, 0, 0, 0, 0, 0, 0, 0, 0, 0, 0, 0, 0, 0, 0, 0, 0, 0, 0, 0, 0, 0, 0, 0, 0, 0, 0, 0, 0, 0, 0, 0, 0, 0, 0, 0, 0, 0, 0, 0, 0, 0, 0, 0, 0, 0, 0, 0, 0, 0, 0, 0, 0, 0, 0, 0, 0, 0, 0, 0, 0, 0, 0, 0, 0, 0, 0, 0, 0, 0, 0, 0, 0, 0, 0, 0, 0, 0, 0, 0, 0, 0, 0, 0, 0, 0, 0, 0, 0, 0, 0, 0, 0, 0, 0, 0, 0, 0, 0, 0, 0, 0, 0, 0, 0, 0, 0, 0, 0, 0, 0, 0, 0, 0, 0, 0, 0, 0, 0, 0, 0, 0, 0, 0, 0, 0, 0, 0, 0, 0, 0, 0, 0, 0, 0, 0, 0, 0, 0, 0, 0, 0, 0, 0, 0, 0, 0, 0, 0, 0, 0, 0, 0, 0, 0, 0, 0, 0, 0, 0, 0, 0, 0, 0, 0, 0, 0, 0, 0, 0, 0, 0, 0, 0, 0, 0, 0, 0, 0, 0, 0, 0, 0, 0, 0, 0, 0, 0, 0, 0, 0, 0, 0, 0, 0, 0, 0, 0, 0, 0, 0, 0, 0, 0, 0, 0, 0, 0, 0, 0, 0, 0, 0, 0, 0, 0, 0, 0, 0, 0, 0, 0, 0, 0, 0, 0, 0, 0, 0, 0, 0, 0, 0, 0, 0, 0, 0, 0, 0, 0, 0, 0, 0, 0, 0, 0, 0, 0, 0, 0, 0, 0, 0, 0, 0]]\n"
     ]
    }
   ],
   "source": [
    "# hitung nilai tf di kategori non\n",
    "tf_nonrf = []\n",
    "countTFCategory(df_non, term, df_non['teks'], tf_nonrf)\n",
    "print(tf_nonrf[:2])"
   ]
  },
  {
   "cell_type": "code",
   "execution_count": 28,
   "id": "451437ec",
   "metadata": {},
   "outputs": [
    {
     "name": "stdout",
     "output_type": "stream",
     "text": [
      "[[0, 1, 0, 0, 0, 0, 1, 0, 0, 0, 0, 0, 0, 0, 0, 0, 1, 1, 0, 0, 0, 0, 0, 0, 0, 0, 0, 0, 0, 0, 0, 0, 0, 0, 0, 0, 0, 0, 0, 0, 0, 0, 0, 0, 0, 0, 0, 0, 0, 0, 0, 0, 0, 0, 0, 1, 0, 0, 0, 0, 0, 0, 0, 0, 0, 0, 0, 0, 0, 0, 0, 0, 0, 0, 0, 0, 0, 0, 0, 0, 0, 1, 1, 1, 1, 1, 1, 1, 1, 1, 1, 1, 0, 0, 0, 0, 0, 0, 0, 0, 0, 0, 0, 0, 0, 0, 0, 0, 0, 0, 0, 0, 0, 0, 0, 0, 0, 0, 0, 0, 0, 0, 0, 0, 0, 0, 0, 0, 0, 0, 0, 0, 0, 0, 0, 0, 0, 0, 0, 0, 0, 0, 0, 0, 0, 0, 0, 0, 0, 0, 0, 0, 0, 0, 0, 0, 0, 0, 0, 0, 0, 0, 0, 0, 0, 0, 0, 0, 0, 0, 0, 0, 0, 0, 0, 0, 0, 0, 0, 0, 0, 0, 0, 0, 0, 0, 0, 0, 0, 0, 0, 0, 0, 0, 0, 0, 0, 0, 0, 0, 0, 0, 0, 0, 0, 0, 0, 0, 0, 0, 0, 0, 0, 0, 0, 0, 0, 0, 0, 0, 0, 0, 0, 0, 0, 0, 0, 0, 0, 0, 0, 0, 0, 0, 0, 0, 0, 0, 0, 0, 0, 0, 0, 0, 0, 0, 0, 0, 0, 0, 0, 0, 0, 0, 0, 0, 0, 0, 0, 0, 0, 0, 0, 0, 0, 0, 0, 0, 0, 0, 0, 0, 0, 0, 0, 0, 0, 0, 0, 0, 0, 0, 0, 0, 0, 0, 0, 0, 0, 0, 0, 0, 0, 0, 0, 0, 0, 0, 0, 0, 0, 0, 0, 0, 0, 0, 0, 0, 0, 0, 0, 0, 0, 0, 0, 0, 0, 0, 0, 0, 0, 0, 0, 0, 0, 0, 0, 0, 0, 0, 0, 0, 0, 0, 0, 0, 0, 0, 0, 0, 0, 0, 0, 0, 0, 0, 0, 0, 0, 0, 0, 0, 0, 0, 0, 0, 0, 0, 0, 0, 0, 0, 0, 0, 0, 0, 0, 0, 0, 0, 0, 0, 0, 0, 0, 0, 0, 0, 0, 0, 0, 0, 0, 0, 0, 0, 0, 0, 0, 0, 0, 0, 0, 0, 0, 0, 0, 0, 0, 0, 0, 0, 0, 0, 0, 0, 0, 0, 0, 0, 0, 0, 0, 0, 0, 0, 0, 0, 0, 0, 0, 0, 0, 0, 0, 0, 0, 0, 0, 0, 0, 0, 0, 0, 0, 0, 0, 0, 0, 0, 0, 0, 0, 0, 0, 0, 0, 0, 0, 0, 0, 0, 0, 0, 0, 0, 0, 0, 0, 0, 0, 0, 0, 0, 0, 0, 0, 0, 0, 0, 0, 0, 0, 0, 0, 0, 0, 0, 0, 0, 0, 0, 0, 0, 0, 0, 0, 0, 0, 0, 0, 0, 0, 0, 0, 0, 0, 0, 0, 0, 0, 0, 0, 0, 0, 0, 0, 0, 0, 0, 0, 0, 0, 0, 0, 0, 0, 0, 0, 0, 0, 0, 0, 0, 0, 0, 0, 0, 0, 0, 0, 0, 0, 0, 0, 0, 0, 0, 0, 0, 0, 0, 0, 0, 0, 0, 0, 0, 0, 0, 0, 0, 0, 0, 0, 0, 0, 0, 0, 0, 0, 0, 0, 0, 0, 0, 0, 0, 0, 0, 0, 0, 0, 0, 0, 0, 0, 0, 0, 0, 0, 0, 0, 0, 0, 0, 0, 0, 0, 0, 0, 0, 0, 0, 0, 0, 0, 0, 0, 0, 0, 0, 0, 0, 0, 0, 0, 0, 0, 0, 0, 0, 0, 0, 0, 0, 0, 0, 0, 0, 0, 0, 0, 0, 0, 0, 0, 0, 0, 0, 0, 0, 0, 0, 0, 0, 0, 0, 0, 0, 0, 0, 0, 0, 0, 0, 0, 0, 0, 0, 0, 0, 0, 0, 0, 0, 0, 0, 0, 0, 0, 0, 0, 0, 0, 0, 0, 0, 0, 0, 0, 0, 0, 0, 0, 0, 0, 0, 0, 0, 0, 0, 0, 0, 0, 0, 0, 0, 0, 0, 0, 0, 0, 0, 0, 0, 0, 0, 0, 0, 0, 0, 0, 0, 0, 0, 0, 0, 0, 0, 0, 0, 0, 0, 0, 0, 0, 0, 0, 0, 0, 0, 0, 0, 0, 0, 0, 0, 0, 0, 0, 0, 0, 0, 0, 0, 0, 0, 0, 0, 0, 0, 0, 0, 0, 0, 0, 0, 0, 0, 0, 0, 0, 0, 0, 0, 0, 0, 0, 0, 0, 0, 0, 0, 0, 0, 0, 0, 0, 0, 0, 0, 0, 0, 0, 0, 0, 0, 0, 0, 0, 0, 0, 0, 0, 0, 0, 0, 0, 0, 0, 0, 0, 0, 0, 0, 0, 0, 0, 0, 0, 0, 0, 0, 0, 0, 0, 0, 0, 0, 0, 0, 0, 0, 0, 0, 0, 0, 0, 0, 0, 0, 0, 0, 0, 0, 0, 0, 0, 0, 0, 0, 0, 0, 0, 0, 0, 0, 0, 0, 0, 0, 0, 0, 0, 0, 0, 0, 0, 0, 0, 0, 0, 0, 0, 0, 0, 0, 0, 0, 0, 0, 0, 0, 0, 0, 0, 0, 0, 0, 0, 0, 0, 0, 0, 0, 0, 0, 0, 0, 0, 0, 0, 0, 0, 0, 0, 0, 0, 0, 0, 0, 0, 0, 0, 0, 0, 0, 0, 0, 0, 0, 0, 0, 0, 0, 0, 0, 0, 0, 0, 0, 0, 0, 0, 0, 0, 0, 0, 0, 0, 0, 0, 0, 0, 0, 0, 0, 0, 0, 0, 0, 0, 0, 0, 0, 0, 0, 0, 0, 0, 0, 0, 0, 0, 0, 0, 0, 0, 0, 0, 0, 0, 0, 0, 0, 0, 0, 0, 0, 0, 0, 0, 0, 0, 0, 0, 0, 0, 0, 0, 0, 0, 0, 0, 0, 0, 0, 0, 0, 0, 0, 0, 0, 0, 0, 0, 0, 0, 0, 0, 0, 0, 0, 0, 0, 0, 0, 0, 0, 0, 0, 0, 0, 0, 0, 0, 0, 0, 0, 0, 0, 0, 0, 0, 0, 0, 0, 0, 0, 0, 0, 0, 0, 0, 0, 0, 0, 0, 0, 0, 0, 0, 0, 0, 0, 0, 0, 0, 0, 0, 0, 0, 0, 0, 0, 0, 0, 0, 0, 0, 0, 0, 0, 0, 0, 0, 0, 0, 0, 0, 0, 0, 0, 0, 0, 0, 0, 0, 0, 0, 0, 0, 0, 0, 0, 0, 0, 0, 0, 0, 0, 0, 0, 0, 0, 0, 0, 0, 0, 0, 0, 0, 0, 0, 0, 0, 0, 0, 0, 0, 0, 0, 0, 0, 0, 0, 0, 0, 0, 0, 0, 0, 0, 0, 0, 0, 0, 0, 0, 0, 0, 0, 0, 0, 0, 0, 0, 0, 0, 0, 0, 0, 0, 0, 0, 0, 0, 0, 0, 0, 0, 0, 0, 0, 0, 0, 0, 0, 0, 0, 0, 0, 0, 0, 0, 0, 0, 0, 0, 0, 0, 0, 0, 0, 0, 0, 0, 0, 0, 0, 0, 0, 0, 0, 0, 0, 0, 0, 0, 0, 0, 0, 0, 0, 0, 0, 0, 0, 0, 0, 0, 0, 0, 0, 0, 0, 0, 0, 0, 0, 0, 0, 0, 0, 0, 0, 0, 0, 0, 0, 0, 0, 0, 0, 0, 0, 0, 0, 0, 0, 0, 0, 0, 0, 0, 0, 0, 0, 0, 0, 0, 0, 0, 0, 0, 0, 0, 0, 0, 0, 0, 0, 0, 0, 0, 0, 0, 0, 0, 0, 0, 0, 0, 0, 0, 0, 0, 0, 0, 0, 0, 0, 0, 0, 0, 0, 0, 0, 0, 0, 0, 0, 0, 0, 0, 0, 0, 0, 0, 0, 0, 0, 0, 0, 0, 0, 0, 0, 0, 0, 0, 0, 0, 0, 0, 0, 0, 0, 0, 0, 0, 0, 0, 0, 0, 0, 0, 0, 0, 0, 0, 0, 0, 0, 0, 0, 0, 0, 0, 0, 0, 0, 0, 0, 0, 0, 0, 0, 0, 0, 0, 0, 0, 0, 0, 0, 0, 0, 0, 0, 0, 0, 0, 0, 0, 0, 0, 0, 0, 0, 0, 0, 0, 0, 0, 0, 0, 0, 0, 0, 0, 0, 0, 0, 0, 0, 0, 0, 0, 0, 0, 0, 0, 0, 0, 0, 0, 0, 0, 0, 0, 0, 0, 0, 0, 0, 0, 0, 0, 0, 0, 0, 0, 0, 0, 0, 0, 0, 0, 0, 0, 0, 0, 0, 0, 0, 0, 0, 0, 0, 0, 0, 0, 0, 0, 0, 0, 0, 0, 0, 0, 0, 0, 0, 0, 0, 0, 0, 0, 0, 0, 0, 0, 0, 0, 0, 0, 0, 0, 0, 0, 0, 0, 0, 0, 0, 0, 0, 0, 0, 0, 0, 0, 0, 0, 0, 0, 0, 0, 0, 0, 0, 0, 0, 0, 0, 0, 0, 0, 0, 0, 0, 0, 0, 0, 0, 0, 0, 0, 0, 0, 0, 0, 0, 0, 0, 0, 0, 0, 0, 0, 0, 0, 0, 0, 0, 0, 0, 0, 0, 0, 0, 0, 0, 0, 0, 0, 0, 0, 0, 0, 0, 0, 0, 0, 0, 0, 0, 0, 0, 0, 0, 0, 0, 0, 0, 0, 0, 0, 0, 0, 0, 0, 0, 0, 0, 0, 0, 0, 0, 0, 0, 0, 0, 0, 0, 0, 0, 0, 0, 0, 0, 0, 0, 0, 0, 0, 0, 0, 0, 0, 0, 0, 0, 0, 0, 0, 0, 0, 0, 0, 0, 0, 0, 0, 0, 0, 0, 0, 0, 0, 0, 0, 0, 0, 0, 0, 0, 0, 0, 0, 0, 0, 0, 0, 0, 0, 0, 0, 0, 0, 0, 0, 0, 0, 0, 0, 0, 0, 0, 0, 0, 0, 0, 0, 0, 0, 0, 0, 0, 0, 0, 0, 0, 0, 0, 0, 0, 0, 0, 0, 0, 0, 0, 0, 0, 0, 0, 0, 0, 0, 0, 0, 0, 0, 0, 0, 0, 0, 0, 0, 0, 0, 0, 0, 0, 0, 0, 0, 0, 0, 0, 0, 0, 0, 0, 0, 0, 0, 0, 0, 0, 0, 0, 0, 0, 0, 0, 0, 0, 0, 0, 0, 0, 0, 0, 0, 0, 0, 0, 0, 0, 0, 0, 0, 0, 0, 0, 0, 0, 0, 0, 0, 0, 0, 0, 0, 0, 0, 0, 0, 0, 0, 0, 0, 0, 0, 0, 0, 0, 0, 0, 0, 0, 0, 0, 0, 0, 0, 0, 0, 0, 0, 0, 0, 0, 0, 0, 0, 0, 0, 0, 0, 0, 0, 0, 0, 0, 0, 0, 0, 0, 0, 0, 0, 0, 0, 0, 0, 0, 0, 0, 0, 0, 0, 0, 0, 0, 0, 0, 0, 0, 0, 0, 0, 0, 0, 0, 0, 0, 0, 0, 0, 0, 0, 0, 0, 0, 0, 0, 0, 0, 0, 0, 0, 0, 0, 0, 0, 0, 0, 0, 0, 0, 0, 0, 0, 0, 0, 0, 0, 0, 0, 0, 0, 0, 0, 0, 0, 0, 0, 0, 0, 0, 0, 0, 0, 0, 0, 0, 0, 0, 0, 0, 0, 0, 0, 0, 0, 0, 0, 0, 0, 0, 0, 0, 0, 0, 0, 0, 0, 0, 0, 0, 0, 0, 0, 0, 0, 0, 0, 0, 0, 0, 0, 0, 0, 0, 0, 0, 0, 0, 0, 0, 0, 0, 0, 0, 0, 0, 0, 0, 0, 0, 0, 0, 0, 0, 0, 0, 0, 0, 0, 0, 0, 0, 0, 0, 0, 0, 0, 0, 0, 0, 0, 0, 0, 0, 0, 0, 0, 0, 0, 0, 0, 0, 0, 0, 0, 0, 0, 0, 0, 0, 0, 0, 0, 0, 0, 0, 0, 0, 0, 0, 0, 0, 0, 0, 0, 0, 0, 0, 0, 0, 0, 0, 0, 0, 0, 0, 0, 0, 0, 0, 0, 0, 0, 0, 0, 0, 0, 0, 0, 0, 0, 0, 0, 0, 0, 0, 0, 0, 0, 0, 0, 0, 0, 0, 0, 0, 0, 0, 0, 0, 0, 0, 0, 0, 0, 0, 0, 0, 0, 0, 0, 0, 0, 0, 0, 0, 0, 0, 0, 0, 0, 0, 0, 0, 0, 0, 0, 0, 0, 0, 0, 0, 0, 0, 0, 0, 0, 0, 0, 0, 0, 0, 0, 0, 0, 0, 0, 0, 0, 0, 0, 0, 0, 0, 0, 0, 0, 0, 0, 0, 0, 0, 0, 0, 0, 0, 0, 0, 0, 0, 0, 0, 0, 0, 0, 0, 0, 0, 0, 0, 0, 0, 0, 0, 0, 0, 0, 0, 0, 0, 0, 0, 0, 0, 0, 0, 0, 0, 0, 0, 0, 0, 0, 0, 0, 0, 0, 0, 0, 0, 0, 0, 0, 0, 0, 0, 0, 0, 0, 0, 0, 0, 0, 0, 0, 0, 0, 0, 0, 0, 0, 0, 0, 0, 0, 0, 0, 0, 0, 0, 0, 0, 0, 0, 0, 0, 0, 0, 0, 0, 0, 0, 0, 0, 0, 0], [0, 1, 0, 0, 0, 0, 0, 0, 0, 0, 0, 0, 0, 0, 0, 0, 1, 1, 0, 0, 0, 0, 0, 0, 0, 0, 0, 0, 0, 0, 0, 0, 0, 0, 0, 0, 0, 0, 0, 0, 0, 0, 0, 0, 0, 0, 0, 0, 0, 0, 0, 0, 0, 0, 0, 0, 0, 0, 1, 0, 0, 0, 0, 0, 0, 0, 0, 0, 0, 0, 0, 0, 0, 0, 0, 0, 0, 0, 0, 1, 0, 0, 0, 1, 0, 0, 0, 0, 0, 1, 0, 0, 0, 0, 0, 0, 0, 0, 0, 0, 0, 0, 0, 0, 0, 0, 0, 0, 0, 0, 0, 0, 0, 0, 0, 0, 0, 0, 0, 0, 0, 0, 0, 0, 0, 0, 0, 0, 0, 0, 0, 0, 0, 0, 0, 0, 0, 0, 0, 0, 0, 0, 0, 0, 0, 0, 0, 0, 0, 0, 0, 0, 0, 0, 0, 0, 0, 0, 0, 0, 0, 0, 0, 0, 0, 0, 0, 0, 0, 0, 0, 0, 0, 0, 0, 0, 0, 0, 0, 0, 0, 0, 0, 0, 0, 0, 0, 1, 1, 1, 1, 1, 1, 1, 1, 0, 0, 0, 0, 0, 0, 0, 0, 0, 0, 0, 0, 0, 0, 0, 0, 0, 0, 0, 0, 0, 0, 0, 0, 0, 0, 0, 0, 0, 0, 0, 0, 0, 0, 0, 0, 0, 0, 0, 0, 0, 0, 0, 0, 0, 0, 0, 0, 0, 0, 0, 0, 0, 0, 0, 0, 0, 0, 0, 0, 0, 0, 0, 0, 0, 0, 0, 0, 0, 0, 0, 0, 0, 0, 0, 0, 0, 0, 0, 0, 0, 0, 0, 0, 0, 0, 0, 0, 0, 0, 0, 0, 0, 0, 0, 0, 0, 0, 0, 0, 0, 0, 0, 0, 0, 0, 0, 0, 0, 0, 0, 0, 0, 0, 0, 0, 0, 0, 0, 0, 0, 0, 0, 0, 0, 0, 0, 0, 0, 0, 0, 0, 0, 0, 0, 0, 0, 0, 0, 0, 0, 0, 0, 0, 0, 0, 0, 0, 0, 0, 0, 0, 0, 0, 0, 0, 0, 0, 0, 0, 0, 0, 0, 0, 0, 0, 0, 0, 0, 0, 0, 0, 0, 0, 0, 0, 0, 0, 0, 0, 0, 0, 0, 0, 0, 0, 0, 0, 0, 0, 0, 0, 0, 0, 0, 0, 0, 0, 0, 0, 0, 0, 0, 0, 0, 0, 0, 0, 0, 0, 0, 0, 0, 0, 0, 0, 0, 0, 0, 0, 0, 0, 0, 0, 0, 0, 0, 0, 0, 0, 0, 0, 0, 0, 0, 0, 0, 0, 0, 0, 0, 0, 0, 0, 0, 0, 0, 0, 0, 0, 0, 0, 0, 0, 0, 0, 0, 0, 0, 0, 0, 0, 0, 0, 0, 0, 0, 0, 0, 0, 0, 0, 0, 0, 0, 0, 0, 0, 0, 0, 0, 0, 0, 0, 0, 0, 0, 0, 0, 0, 0, 0, 0, 0, 0, 0, 0, 0, 0, 0, 0, 0, 0, 0, 0, 0, 0, 0, 0, 0, 0, 0, 0, 0, 0, 0, 0, 0, 0, 0, 0, 0, 0, 0, 0, 0, 0, 0, 0, 0, 0, 0, 0, 0, 0, 0, 0, 0, 0, 0, 0, 0, 0, 0, 0, 0, 0, 0, 0, 0, 0, 0, 0, 0, 0, 0, 0, 0, 0, 0, 0, 0, 0, 0, 0, 0, 0, 0, 0, 0, 0, 0, 0, 0, 0, 0, 0, 0, 0, 0, 0, 0, 0, 0, 0, 0, 0, 0, 0, 0, 0, 0, 0, 0, 0, 0, 0, 0, 0, 0, 0, 0, 0, 0, 0, 0, 0, 0, 0, 0, 0, 0, 0, 0, 0, 0, 0, 0, 0, 0, 0, 0, 0, 0, 0, 0, 0, 0, 0, 0, 0, 0, 0, 0, 0, 0, 0, 0, 0, 0, 0, 0, 0, 0, 0, 0, 0, 0, 0, 0, 0, 0, 0, 0, 0, 0, 0, 0, 0, 0, 0, 0, 0, 0, 0, 0, 0, 0, 0, 0, 0, 0, 0, 0, 0, 0, 0, 0, 0, 0, 0, 0, 0, 0, 0, 0, 0, 0, 0, 0, 0, 0, 0, 0, 0, 0, 0, 0, 0, 0, 0, 0, 0, 0, 0, 0, 0, 0, 0, 0, 0, 0, 0, 0, 0, 0, 0, 0, 0, 0, 0, 0, 0, 0, 0, 0, 0, 0, 0, 0, 0, 0, 0, 0, 0, 0, 0, 0, 0, 0, 0, 0, 0, 0, 0, 0, 0, 0, 0, 0, 0, 0, 0, 0, 0, 0, 0, 0, 0, 0, 0, 0, 0, 0, 0, 0, 0, 0, 0, 0, 0, 0, 0, 0, 0, 0, 0, 0, 0, 0, 0, 0, 0, 0, 0, 0, 0, 0, 0, 0, 0, 0, 0, 0, 0, 0, 0, 0, 0, 0, 0, 0, 0, 0, 0, 0, 0, 0, 0, 0, 0, 0, 0, 0, 0, 0, 0, 0, 0, 0, 0, 0, 0, 0, 0, 0, 0, 0, 0, 0, 0, 0, 0, 0, 0, 0, 0, 0, 0, 0, 0, 0, 0, 0, 0, 0, 0, 0, 0, 0, 0, 0, 0, 0, 0, 0, 0, 0, 0, 0, 0, 0, 0, 0, 0, 0, 0, 0, 0, 0, 0, 0, 0, 0, 0, 0, 0, 0, 0, 0, 0, 0, 0, 0, 0, 0, 0, 0, 0, 0, 0, 0, 0, 0, 0, 0, 0, 0, 0, 0, 0, 0, 0, 0, 0, 0, 0, 0, 0, 0, 0, 0, 0, 0, 0, 0, 0, 0, 0, 0, 0, 0, 0, 0, 0, 0, 0, 0, 0, 0, 0, 0, 0, 0, 0, 0, 0, 0, 0, 0, 0, 0, 0, 0, 0, 0, 0, 0, 0, 0, 0, 0, 0, 0, 0, 0, 0, 0, 0, 0, 0, 0, 0, 0, 0, 0, 0, 0, 0, 0, 0, 0, 0, 0, 0, 0, 0, 0, 0, 0, 0, 0, 0, 0, 0, 0, 0, 0, 0, 0, 0, 0, 0, 0, 0, 0, 0, 0, 0, 0, 0, 0, 0, 0, 0, 0, 0, 0, 0, 0, 0, 0, 0, 0, 0, 0, 0, 0, 0, 0, 0, 0, 0, 0, 0, 0, 0, 0, 0, 0, 0, 0, 0, 0, 0, 0, 0, 0, 0, 0, 0, 0, 0, 0, 0, 0, 0, 0, 0, 0, 0, 0, 0, 0, 0, 0, 0, 0, 0, 0, 0, 0, 0, 0, 0, 0, 0, 0, 0, 0, 0, 0, 0, 0, 0, 0, 0, 0, 0, 0, 0, 0, 0, 0, 0, 0, 0, 0, 0, 0, 0, 0, 0, 0, 0, 0, 0, 0, 0, 0, 0, 0, 0, 0, 0, 0, 0, 0, 0, 0, 0, 0, 0, 0, 0, 0, 0, 0, 0, 0, 0, 0, 0, 0, 0, 0, 0, 0, 0, 0, 0, 0, 0, 0, 0, 0, 0, 0, 0, 0, 0, 0, 0, 0, 0, 0, 0, 0, 0, 0, 0, 0, 0, 0, 0, 0, 0, 0, 0, 0, 0, 0, 0, 0, 0, 0, 0, 0, 0, 0, 0, 0, 0, 0, 0, 0, 0, 0, 0, 0, 0, 0, 0, 0, 0, 0, 0, 0, 0, 0, 0, 0, 0, 0, 0, 0, 0, 0, 0, 0, 0, 0, 0, 0, 0, 0, 0, 0, 0, 0, 0, 0, 0, 0, 0, 0, 0, 0, 0, 0, 0, 0, 0, 0, 0, 0, 0, 0, 0, 0, 0, 0, 0, 0, 0, 0, 0, 0, 0, 0, 0, 0, 0, 0, 0, 0, 0, 0, 0, 0, 0, 0, 0, 0, 0, 0, 0, 0, 0, 0, 0, 0, 0, 0, 0, 0, 0, 0, 0, 0, 0, 0, 0, 0, 0, 0, 0, 0, 0, 0, 0, 0, 0, 0, 0, 0, 0, 0, 0, 0, 0, 0, 0, 0, 0, 0, 0, 0, 0, 0, 0, 0, 0, 0, 0, 0, 0, 0, 0, 0, 0, 0, 0, 0, 0, 0, 0, 0, 0, 0, 0, 0, 0, 0, 0, 0, 0, 0, 0, 0, 0, 0, 0, 0, 0, 0, 0, 0, 0, 0, 0, 0, 0, 0, 0, 0, 0, 0, 0, 0, 0, 0, 0, 0, 0, 0, 0, 0, 0, 0, 0, 0, 0, 0, 0, 0, 0, 0, 0, 0, 0, 0, 0, 0, 0, 0, 0, 0, 0, 0, 0, 0, 0, 0, 0, 0, 0, 0, 0, 0, 0, 0, 0, 0, 0, 0, 0, 0, 0, 0, 0, 0, 0, 0, 0, 0, 0, 0, 0, 0, 0, 0, 0, 0, 0, 0, 0, 0, 0, 0, 0, 0, 0, 0, 0, 0, 0, 0, 0, 0, 0, 0, 0, 0, 0, 0, 0, 0, 0, 0, 0, 0, 0, 0, 0, 0, 0, 0, 0, 0, 0, 0, 0, 0, 0, 0, 0, 0, 0, 0, 0, 0, 0, 0, 0, 0, 0, 0, 0, 0, 0, 0, 0, 0, 0, 0, 0, 0, 0, 0, 0, 0, 0, 0, 0, 0, 0, 0, 0, 0, 0, 0, 0, 0, 0, 0, 0, 0, 0, 0, 0, 0, 0, 0, 0, 0, 0, 0, 0, 0, 0, 0, 0, 0, 0, 0, 0, 0, 0, 0, 0, 0, 0, 0, 0, 0, 0, 0, 0, 0, 0, 0, 0, 0, 0, 0, 0, 0, 0, 0, 0, 0, 0, 0, 0, 0, 0, 0, 0, 0, 0, 0, 0, 0, 0, 0, 0, 0, 0, 0, 0, 0, 0, 0, 0, 0, 0, 0, 0, 0, 0, 0, 0, 0, 0, 0, 0, 0, 0, 0, 0, 0, 0, 0, 0, 0, 0, 0, 0, 0, 0, 0, 0, 0, 0, 0, 0, 0, 0, 0, 0, 0, 0, 0, 0, 0, 0, 0, 0, 0, 0, 0, 0, 0, 0, 0, 0, 0, 0, 0, 0, 0, 0, 0, 0, 0, 0, 0, 0, 0, 0, 0, 0, 0, 0, 0, 0, 0, 0, 0, 0, 0, 0, 0, 0, 0, 0, 0, 0, 0, 0, 0, 0, 0, 0, 0, 0, 0, 0, 0, 0, 0, 0, 0, 0, 0, 0, 0, 0, 0, 0, 0, 0, 0, 0, 0, 0, 0, 0, 0, 0, 0, 0, 0, 0, 0, 0, 0, 0, 0, 0, 0, 0, 0, 0, 0, 0, 0, 0, 0, 0, 0, 0, 0, 0, 0, 0, 0, 0, 0, 0, 0, 0, 0, 0, 0, 0, 0, 0, 0, 0, 0, 0, 0, 0, 0, 0, 0, 0, 0, 0, 0, 0, 0, 0, 0, 0, 0, 0, 0, 0, 0, 0, 0, 0, 0, 0, 0, 0, 0, 0, 0, 0, 0, 0, 0, 0, 0, 0, 0, 0, 0, 0, 0, 0, 0, 0, 0, 0, 0, 0, 0, 0, 0, 0, 0, 0, 0, 0, 0, 0, 0, 0, 0, 0, 0, 0, 0, 0, 0, 0, 0, 0, 0, 0, 0, 0, 0, 0, 0, 0, 0, 0, 0, 0, 0, 0, 0, 0, 0, 0, 0, 0, 0, 0, 0, 0, 0, 0, 0, 0, 0, 0, 0, 0, 0, 0, 0, 0, 0, 0, 0, 0, 0, 0, 0, 0, 0, 0, 0, 0, 0, 0, 0, 0, 0, 0, 0, 0, 0, 0, 0, 0, 0, 0, 0, 0, 0, 0, 0, 0, 0, 0, 0, 0, 0, 0, 0, 0, 0, 0, 0, 0, 0, 0, 0, 0, 0, 0, 0, 0, 0, 0, 0, 0, 0, 0, 0, 0, 0, 0, 0, 0, 0, 0, 0, 0, 0, 0, 0, 0, 0, 0, 0, 0, 0, 0, 0, 0, 0, 0, 0, 0, 0, 0, 0, 0, 0, 0, 0, 0, 0, 0, 0, 0, 0, 0, 0, 0, 0, 0, 0, 0, 0, 0, 0, 0, 0, 0, 0, 0, 0, 0, 0, 0, 0, 0, 0, 0, 0, 0, 0, 0, 0, 0, 0, 0, 0, 0, 0, 0, 0, 0, 0, 0, 0, 0, 0, 0, 0, 0, 0, 0, 0, 0, 0, 0, 0, 0, 0, 0, 0, 0, 0, 0, 0, 0, 0, 0, 0, 0, 0, 0, 0, 0, 0, 0, 0, 0, 0, 0, 0, 0, 0, 0, 0, 0, 0, 0, 0, 0, 0, 0, 0, 0, 0, 0, 0, 0, 0, 0, 0, 0, 0, 0, 0, 0, 0, 0, 0, 0, 0, 0, 0, 0, 0, 0, 0, 0, 0, 0, 0, 0, 0, 0, 0, 0, 0, 0, 0, 0, 0, 0, 0, 0, 0, 0, 0, 0, 0, 0, 0, 0, 0, 0, 0, 0, 0, 0, 0, 0, 0, 0, 0, 0, 0, 0, 0, 0, 0, 0, 0, 0, 0, 0, 0, 0, 0, 0, 0, 0, 0, 0, 0, 0, 0, 0, 0, 0, 0, 0, 0, 0, 0, 0, 0, 0, 0, 0, 0, 0, 0, 0, 0, 0, 0, 0, 0, 0, 0, 0, 0, 0, 0, 0, 0, 0, 0, 0, 0, 0, 0, 0, 0, 0, 0, 0, 0, 0, 0, 0, 0, 0, 0, 0, 0]]\n"
     ]
    }
   ],
   "source": [
    "# ubah nilai yg lebih dari 1 jadi 1, untuk penghitungan DF\n",
    "tf_spamForNIJ = []\n",
    "changeValue(tf_spamrf, tf_spamForNIJ)\n",
    "print(tf_spamForNIJ[:2])"
   ]
  },
  {
   "cell_type": "code",
   "execution_count": 29,
   "id": "dff3606d",
   "metadata": {},
   "outputs": [
    {
     "name": "stdout",
     "output_type": "stream",
     "text": [
      "[[1, 1, 1, 1, 1, 1, 1, 1, 1, 1, 1, 1, 1, 1, 1, 1, 1, 1, 1, 0, 0, 0, 0, 0, 0, 0, 0, 0, 0, 0, 0, 0, 0, 0, 0, 0, 0, 0, 0, 0, 0, 0, 0, 0, 0, 0, 0, 0, 0, 0, 0, 0, 0, 0, 0, 0, 0, 0, 0, 0, 0, 0, 0, 0, 0, 0, 0, 0, 0, 0, 0, 0, 0, 0, 0, 0, 0, 0, 0, 0, 0, 0, 0, 0, 0, 0, 0, 0, 0, 0, 0, 0, 0, 0, 0, 0, 0, 0, 0, 0, 0, 0, 0, 0, 0, 0, 0, 0, 0, 0, 0, 0, 0, 0, 0, 0, 0, 0, 0, 0, 0, 0, 0, 0, 0, 0, 0, 0, 0, 0, 0, 0, 0, 0, 0, 0, 0, 0, 0, 0, 0, 0, 0, 0, 0, 0, 0, 0, 0, 0, 0, 0, 0, 0, 0, 0, 0, 0, 0, 0, 0, 0, 0, 0, 0, 0, 0, 0, 0, 0, 0, 0, 0, 0, 0, 0, 0, 0, 0, 0, 0, 0, 0, 0, 0, 0, 0, 0, 0, 0, 0, 0, 0, 0, 0, 0, 0, 0, 0, 0, 0, 0, 0, 0, 0, 0, 0, 0, 0, 0, 0, 0, 0, 0, 0, 0, 0, 0, 0, 0, 0, 0, 0, 0, 0, 0, 0, 0, 0, 0, 0, 0, 0, 0, 0, 0, 0, 0, 0, 0, 0, 0, 0, 0, 0, 0, 0, 0, 0, 0, 0, 0, 0, 0, 0, 0, 0, 0, 0, 0, 0, 0, 0, 0, 0, 0, 0, 0, 0, 0, 0, 0, 0, 0, 0, 0, 0, 0, 0, 0, 0, 0, 0, 0, 0, 0, 0, 0, 0, 0, 0, 0, 0, 0, 0, 0, 0, 0, 0, 0, 0, 0, 0, 0, 0, 0, 0, 0, 0, 0, 0, 0, 0, 0, 0, 0, 0, 0, 0, 0, 0, 0, 0, 0, 0, 0, 0, 0, 0, 0, 0, 0, 0, 0, 0, 0, 0, 0, 0, 0, 0, 0, 0, 0, 0, 0, 0, 0, 0, 0, 0, 0, 0, 0, 0, 0, 0, 0, 0, 0, 0, 0, 0, 0, 0, 0, 0, 0, 0, 0, 0, 0, 0, 0, 0, 0, 0, 0, 0, 0, 0, 0, 0, 0, 0, 0, 0, 0, 0, 0, 0, 0, 0, 0, 0, 0, 0, 0, 0, 0, 0, 0, 0, 0, 0, 0, 0, 0, 0, 0, 0, 0, 0, 0, 0, 0, 0, 0, 0, 0, 0, 0, 0, 0, 0, 0, 0, 0, 0, 0, 0, 0, 0, 0, 0, 0, 0, 0, 0, 0, 0, 0, 0, 0, 0, 0, 0, 0, 0, 0, 0, 0, 0, 0, 0, 0, 0, 0, 0, 0, 0, 0, 0, 0, 0, 0, 0, 0, 0, 0, 0, 0, 0, 0, 0, 0, 0, 0, 0, 0, 0, 0, 0, 0, 0, 0, 0, 0, 0, 0, 0, 0, 0, 0, 0, 0, 0, 0, 0, 0, 0, 0, 0, 0, 0, 0, 0, 0, 0, 0, 0, 0, 0, 0, 0, 0, 0, 0, 0, 0, 0, 0, 0, 0, 0, 0, 0, 0, 0, 0, 0, 0, 0, 0, 0, 0, 0, 0, 0, 0, 0, 0, 0, 0, 0, 0, 0, 0, 0, 0, 0, 0, 0, 0, 0, 0, 0, 0, 0, 0, 0, 0, 0, 0, 0, 0, 0, 0, 0, 0, 0, 0, 0, 0, 0, 0, 0, 0, 0, 0, 0, 0, 0, 0, 0, 0, 0, 0, 0, 0, 0, 0, 0, 0, 0, 0, 0, 0, 0, 0, 0, 0, 0, 0, 0, 0, 0, 0, 0, 0, 0, 0, 0, 0, 0, 0, 0, 0, 0, 0, 0, 0, 0, 0, 0, 0, 0, 0, 0, 0, 0, 0, 0, 0, 0, 0, 0, 0, 0, 0, 0, 0, 0, 0, 0, 0, 0, 0, 0, 0, 0, 0, 0, 0, 0, 0, 0, 0, 0, 0, 0, 0, 0, 0, 0, 0, 0, 0, 0, 0, 0, 0, 0, 0, 0, 0, 0, 0, 0, 0, 0, 0, 0, 0, 0, 0, 0, 0, 0, 0, 0, 0, 0, 0, 0, 0, 0, 0, 0, 0, 0, 0, 0, 0, 0, 0, 0, 0, 0, 0, 0, 0, 0, 0, 0, 0, 0, 0, 0, 0, 0, 0, 0, 0, 0, 0, 0, 0, 0, 0, 0, 0, 0, 0, 0, 0, 0, 0, 0, 0, 0, 0, 0, 0, 0, 0, 0, 0, 0, 0, 0, 0, 0, 0, 0, 0, 0, 0, 0, 0, 0, 0, 0, 0, 0, 0, 0, 0, 0, 0, 0, 0, 0, 0, 0, 0, 0, 0, 0, 0, 0, 0, 0, 0, 0, 0, 0, 0, 0, 0, 0, 0, 0, 0, 0, 0, 0, 0, 0, 0, 0, 0, 0, 0, 0, 0, 0, 0, 0, 0, 0, 0, 0, 0, 0, 0, 0, 0, 0, 0, 0, 0, 0, 0, 0, 0, 0, 0, 0, 0, 0, 0, 0, 0, 0, 0, 0, 0, 0, 0, 0, 0, 0, 0, 0, 0, 0, 0, 0, 0, 0, 0, 0, 0, 0, 0, 0, 0, 0, 0, 0, 0, 0, 0, 0, 0, 0, 0, 0, 0, 0, 0, 0, 0, 0, 0, 0, 0, 0, 0, 0, 0, 0, 0, 0, 0, 0, 0, 0, 0, 0, 0, 0, 0, 0, 0, 0, 0, 0, 0, 0, 0, 0, 0, 0, 0, 0, 0, 0, 0, 0, 0, 0, 0, 0, 0, 0, 0, 0, 0, 0, 0, 0, 0, 0, 0, 0, 0, 0, 0, 0, 0, 0, 0, 0, 0, 0, 0, 0, 0, 0, 0, 0, 0, 0, 0, 0, 0, 0, 0, 0, 0, 0, 0, 0, 0, 0, 0, 0, 0, 0, 0, 0, 0, 0, 0, 0, 0, 0, 0, 0, 0, 0, 0, 0, 0, 0, 0, 0, 0, 0, 0, 0, 0, 0, 0, 0, 0, 0, 0, 0, 0, 0, 0, 0, 0, 0, 0, 0, 0, 0, 0, 0, 0, 0, 0, 0, 0, 0, 0, 0, 0, 0, 0, 0, 0, 0, 0, 0, 0, 0, 0, 0, 0, 0, 0, 0, 0, 0, 0, 0, 0, 0, 0, 0, 0, 0, 0, 0, 0, 0, 0, 0, 0, 0, 0, 0, 0, 0, 0, 0, 0, 0, 0, 0, 0, 0, 0, 0, 0, 0, 0, 0, 0, 0, 0, 0, 0, 0, 0, 0, 0, 0, 0, 0, 0, 0, 0, 0, 0, 0, 0, 0, 0, 0, 0, 0, 0, 0, 0, 0, 0, 0, 0, 0, 0, 0, 0, 0, 0, 0, 0, 0, 0, 0, 0, 0, 0, 0, 0, 0, 0, 0, 0, 0, 0, 0, 0, 0, 0, 0, 0, 0, 0, 0, 0, 0, 0, 0, 0, 0, 0, 0, 0, 0, 0, 0, 0, 0, 0, 0, 0, 0, 0, 0, 0, 0, 0, 0, 0, 0, 0, 0, 0, 0, 0, 0, 0, 0, 0, 0, 0, 0, 0, 0, 0, 0, 0, 0, 0, 0, 0, 0, 0, 0, 0, 0, 0, 0, 0, 0, 0, 0, 0, 0, 0, 0, 0, 0, 0, 0, 0, 0, 0, 0, 0, 0, 0, 0, 0, 0, 0, 0, 0, 0, 0, 0, 0, 0, 0, 0, 0, 0, 0, 0, 0, 0, 0, 0, 0, 0, 0, 0, 0, 0, 0, 0, 0, 0, 0, 0, 0, 0, 0, 0, 0, 0, 0, 0, 0, 0, 0, 0, 0, 0, 0, 0, 0, 0, 0, 0, 0, 0, 0, 0, 0, 0, 0, 0, 0, 0, 0, 0, 0, 0, 0, 0, 0, 0, 0, 0, 0, 0, 0, 0, 0, 0, 0, 0, 0, 0, 0, 0, 0, 0, 0, 0, 0, 0, 0, 0, 0, 0, 0, 0, 0, 0, 0, 0, 0, 0, 0, 0, 0, 0, 0, 0, 0, 0, 0, 0, 0, 0, 0, 0, 0, 0, 0, 0, 0, 0, 0, 0, 0, 0, 0, 0, 0, 0, 0, 0, 0, 0, 0, 0, 0, 0, 0, 0, 0, 0, 0, 0, 0, 0, 0, 0, 0, 0, 0, 0, 0, 0, 0, 0, 0, 0, 0, 0, 0, 0, 0, 0, 0, 0, 0, 0, 0, 0, 0, 0, 0, 0, 0, 0, 0, 0, 0, 0, 0, 0, 0, 0, 0, 0, 0, 0, 0, 0, 0, 0, 0, 0, 0, 0, 0, 0, 0, 0, 0, 0, 0, 0, 0, 0, 0, 0, 0, 0, 0, 0, 0, 0, 0, 0, 0, 0, 0, 0, 0, 0, 0, 0, 0, 0, 0, 0, 0, 0, 0, 0, 0, 0, 0, 0, 0, 0, 0, 0, 0, 0, 0, 0, 0, 0, 0, 0, 0, 0, 0, 0, 0, 0, 0, 0, 0, 0, 0, 0, 0, 0, 0, 0, 0, 0, 0, 0, 0, 0, 0, 0, 0, 0, 0, 0, 0, 0, 0, 0, 0, 0, 0, 0, 0, 0, 0, 0, 0, 0, 0, 0, 0, 0, 0, 0, 0, 0, 0, 0, 0, 0, 0, 0, 0, 0, 0, 0, 0, 0, 0, 0, 0, 0, 0, 0, 0, 0, 0, 0, 0, 0, 0, 0, 0, 0, 0, 0, 0, 0, 0, 0, 0, 0, 0, 0, 0, 0, 0, 0, 0, 0, 0, 0, 0, 0, 0, 0, 0, 0, 0, 0, 0, 0, 0, 0, 0, 0, 0, 0, 0, 0, 0, 0, 0, 0, 0, 0, 0, 0, 0, 0, 0, 0, 0, 0, 0, 0, 0, 0, 0, 0, 0, 0, 0, 0, 0, 0, 0, 0, 0, 0, 0, 0, 0, 0, 0, 0, 0, 0, 0, 0, 0, 0, 0, 0, 0, 0, 0, 0, 0, 0, 0, 0, 0, 0, 0, 0, 0, 0, 0, 0, 0, 0, 0, 0, 0, 0, 0, 0, 0, 0, 0, 0, 0, 0, 0, 0, 0, 0, 0, 0, 0, 0, 0, 0, 0, 0, 0, 0, 0, 0, 0, 0, 0, 0, 0, 0, 0, 0, 0, 0, 0, 0, 0, 0, 0, 0, 0, 0, 0, 0, 0, 0, 0, 0, 0, 0, 0, 0, 0, 0, 0, 0, 0, 0, 0, 0, 0, 0, 0, 0, 0, 0, 0, 0, 0, 0, 0, 0, 0, 0, 0, 0, 0, 0, 0, 0, 0, 0, 0, 0, 0, 0, 0, 0, 0, 0, 0, 0, 0, 0, 0, 0, 0, 0, 0, 0, 0, 0, 0, 0, 0, 0, 0, 0, 0, 0, 0, 0, 0, 0, 0, 0, 0, 0, 0, 0, 0, 0, 0, 0, 0, 0, 0, 0, 0, 0, 0, 0, 0, 0, 0, 0, 0, 0, 0, 0, 0, 0, 0, 0, 0, 0, 0, 0, 0, 0, 0, 0, 0, 0, 0, 0, 0, 0, 0, 0, 0, 0, 0, 0, 0, 0, 0, 0, 0, 0, 0, 0, 0, 0, 0, 0, 0, 0, 0, 0, 0, 0, 0, 0, 0, 0, 0, 0, 0, 0, 0, 0, 0, 0, 0, 0, 0, 0, 0, 0, 0, 0, 0, 0, 0, 0, 0, 0, 0, 0, 0, 0, 0, 0, 0, 0, 0, 0, 0, 0, 0, 0, 0, 0, 0, 0, 0, 0, 0, 0, 0, 0, 0, 0, 0, 0, 0, 0, 0, 0, 0, 0, 0, 0, 0, 0, 0, 0, 0, 0, 0, 0, 0, 0, 0, 0, 0, 0, 0, 0, 0, 0, 0, 0, 0, 0, 0, 0, 0, 0, 0, 0, 0, 0, 0, 0, 0, 0, 0, 0, 0, 0, 0, 0, 0, 0, 0, 0, 0, 0, 0, 0, 0, 0, 0, 0, 0, 0, 0, 0, 0, 0, 0, 0, 0, 0, 0, 0, 0, 0, 0, 0, 0, 0, 0, 0, 0, 0, 0, 0, 0, 0, 0, 0, 0, 0, 0, 0, 0, 0, 0, 0, 0, 0, 0, 0, 0, 0, 0, 0, 0, 0, 0, 0, 0, 0, 0, 0, 0, 0, 0, 0, 0, 0, 0, 0, 0, 0, 0, 0, 0, 0, 0, 0, 0, 0, 0, 0, 0, 0, 0, 0, 0, 0, 0, 0, 0, 0, 0, 0, 0, 0, 0, 0, 0, 0, 0, 0, 0, 0, 0, 0, 0, 0, 0, 0, 0, 0, 0, 0, 0, 0, 0, 0, 0, 0, 0, 0, 0, 0, 0, 0, 0, 0, 0, 0, 0, 0, 0, 0, 0, 0, 0, 0, 0, 0, 0, 0, 0, 0, 0, 0, 0, 0, 0, 0, 0, 0, 0, 0, 0, 0, 0, 0, 0, 0, 0, 0, 0, 0, 0, 0, 0, 0, 0, 0, 0, 0, 0, 0, 0, 0, 0, 0, 0, 0, 0, 0, 0, 0, 0, 0, 0, 0, 0, 0, 0, 0, 0, 0, 0, 0, 0, 0, 0, 0, 0, 0, 0, 0, 0, 0, 0, 0, 0, 0, 0, 0, 0, 0, 0, 0, 0, 0, 0, 0, 0, 0, 0, 0, 0, 0, 0, 0], [0, 1, 0, 0, 0, 0, 0, 0, 0, 0, 0, 0, 0, 0, 0, 0, 0, 0, 0, 1, 1, 1, 1, 1, 1, 1, 1, 1, 0, 0, 0, 0, 0, 0, 0, 0, 0, 0, 0, 0, 0, 0, 0, 0, 0, 0, 0, 0, 0, 0, 0, 0, 0, 0, 0, 0, 0, 0, 0, 0, 0, 0, 0, 0, 0, 0, 0, 0, 0, 0, 0, 0, 0, 0, 0, 0, 0, 0, 0, 0, 0, 0, 0, 0, 0, 0, 0, 0, 0, 0, 0, 0, 0, 0, 0, 0, 0, 0, 0, 0, 0, 0, 0, 0, 0, 0, 0, 0, 0, 0, 0, 0, 0, 0, 0, 0, 0, 0, 0, 0, 0, 0, 0, 0, 0, 0, 0, 0, 0, 0, 0, 0, 0, 0, 0, 0, 0, 0, 0, 0, 0, 0, 0, 0, 0, 0, 0, 0, 0, 0, 0, 0, 0, 0, 0, 0, 0, 0, 0, 0, 0, 0, 0, 0, 0, 0, 0, 0, 0, 0, 0, 0, 0, 0, 0, 0, 0, 0, 0, 0, 0, 0, 0, 0, 0, 0, 0, 0, 0, 0, 0, 0, 0, 0, 0, 0, 0, 0, 0, 0, 0, 0, 0, 0, 0, 0, 0, 0, 0, 0, 0, 0, 0, 0, 0, 0, 0, 0, 0, 0, 0, 0, 0, 0, 0, 0, 0, 0, 0, 0, 0, 0, 0, 0, 0, 0, 0, 0, 0, 0, 0, 0, 0, 0, 0, 0, 0, 0, 0, 0, 0, 0, 0, 0, 0, 0, 0, 0, 0, 0, 0, 0, 0, 0, 0, 0, 0, 0, 0, 0, 0, 0, 0, 0, 0, 0, 0, 0, 0, 0, 0, 0, 0, 0, 0, 0, 0, 0, 0, 0, 0, 0, 0, 0, 0, 0, 0, 0, 0, 0, 0, 0, 0, 0, 0, 0, 0, 0, 0, 0, 0, 0, 0, 0, 0, 0, 0, 0, 0, 0, 0, 0, 0, 0, 0, 0, 0, 0, 0, 0, 0, 0, 0, 0, 0, 0, 0, 0, 0, 0, 0, 0, 0, 0, 0, 0, 0, 0, 0, 0, 0, 0, 0, 0, 0, 0, 0, 0, 0, 0, 0, 0, 0, 0, 0, 0, 0, 0, 0, 0, 0, 0, 0, 0, 0, 0, 0, 0, 0, 0, 0, 0, 0, 0, 0, 0, 0, 0, 0, 0, 0, 0, 0, 0, 0, 0, 0, 0, 0, 0, 0, 0, 0, 0, 0, 0, 0, 0, 0, 0, 0, 0, 0, 0, 0, 0, 0, 0, 0, 0, 0, 0, 0, 0, 0, 0, 0, 0, 0, 0, 0, 0, 0, 0, 0, 0, 0, 0, 0, 0, 0, 0, 0, 0, 0, 0, 0, 0, 0, 0, 0, 0, 0, 0, 0, 0, 0, 0, 0, 0, 0, 0, 0, 0, 0, 0, 0, 0, 0, 0, 0, 0, 0, 0, 0, 0, 0, 0, 0, 0, 0, 0, 0, 0, 0, 0, 0, 0, 0, 0, 0, 0, 0, 0, 0, 0, 0, 0, 0, 0, 0, 0, 0, 0, 0, 0, 0, 0, 0, 0, 0, 0, 0, 0, 0, 0, 0, 0, 0, 0, 0, 0, 0, 0, 0, 0, 0, 0, 0, 0, 0, 0, 0, 0, 0, 0, 0, 0, 0, 0, 0, 0, 0, 0, 0, 0, 0, 0, 0, 0, 0, 0, 0, 0, 0, 0, 0, 0, 0, 0, 0, 0, 0, 0, 0, 0, 0, 0, 0, 0, 0, 0, 0, 0, 0, 0, 0, 0, 0, 0, 0, 0, 0, 0, 0, 0, 0, 0, 0, 0, 0, 0, 0, 0, 0, 0, 0, 0, 0, 0, 0, 0, 0, 0, 0, 0, 0, 0, 0, 0, 0, 0, 0, 0, 0, 0, 0, 0, 0, 0, 0, 0, 0, 0, 0, 0, 0, 0, 0, 0, 0, 0, 0, 0, 0, 0, 0, 0, 0, 0, 0, 0, 0, 0, 0, 0, 0, 0, 0, 0, 0, 0, 0, 0, 0, 0, 0, 0, 0, 0, 0, 0, 0, 0, 0, 0, 0, 0, 0, 0, 0, 0, 0, 0, 0, 0, 0, 0, 0, 0, 0, 0, 0, 0, 0, 0, 0, 0, 0, 0, 0, 0, 0, 0, 0, 0, 0, 0, 0, 0, 0, 0, 0, 0, 0, 0, 0, 0, 0, 0, 0, 0, 0, 0, 0, 0, 0, 0, 0, 0, 0, 0, 0, 0, 0, 0, 0, 0, 0, 0, 0, 0, 0, 0, 0, 0, 0, 0, 0, 0, 0, 0, 0, 0, 0, 0, 0, 0, 0, 0, 0, 0, 0, 0, 0, 0, 0, 0, 0, 0, 0, 0, 0, 0, 0, 0, 0, 0, 0, 0, 0, 0, 0, 0, 0, 0, 0, 0, 0, 0, 0, 0, 0, 0, 0, 0, 0, 0, 0, 0, 0, 0, 0, 0, 0, 0, 0, 0, 0, 0, 0, 0, 0, 0, 0, 0, 0, 0, 0, 0, 0, 0, 0, 0, 0, 0, 0, 0, 0, 0, 0, 0, 0, 0, 0, 0, 0, 0, 0, 0, 0, 0, 0, 0, 0, 0, 0, 0, 0, 0, 0, 0, 0, 0, 0, 0, 0, 0, 0, 0, 0, 0, 0, 0, 0, 0, 0, 0, 0, 0, 0, 0, 0, 0, 0, 0, 0, 0, 0, 0, 0, 0, 0, 0, 0, 0, 0, 0, 0, 0, 0, 0, 0, 0, 0, 0, 0, 0, 0, 0, 0, 0, 0, 0, 0, 0, 0, 0, 0, 0, 0, 0, 0, 0, 0, 0, 0, 0, 0, 0, 0, 0, 0, 0, 0, 0, 0, 0, 0, 0, 0, 0, 0, 0, 0, 0, 0, 0, 0, 0, 0, 0, 0, 0, 0, 0, 0, 0, 0, 0, 0, 0, 0, 0, 0, 0, 0, 0, 0, 0, 0, 0, 0, 0, 0, 0, 0, 0, 0, 0, 0, 0, 0, 0, 0, 0, 0, 0, 0, 0, 0, 0, 0, 0, 0, 0, 0, 0, 0, 0, 0, 0, 0, 0, 0, 0, 0, 0, 0, 0, 0, 0, 0, 0, 0, 0, 0, 0, 0, 0, 0, 0, 0, 0, 0, 0, 0, 0, 0, 0, 0, 0, 0, 0, 0, 0, 0, 0, 0, 0, 0, 0, 0, 0, 0, 0, 0, 0, 0, 0, 0, 0, 0, 0, 0, 0, 0, 0, 0, 0, 0, 0, 0, 0, 0, 0, 0, 0, 0, 0, 0, 0, 0, 0, 0, 0, 0, 0, 0, 0, 0, 0, 0, 0, 0, 0, 0, 0, 0, 0, 0, 0, 0, 0, 0, 0, 0, 0, 0, 0, 0, 0, 0, 0, 0, 0, 0, 0, 0, 0, 0, 0, 0, 0, 0, 0, 0, 0, 0, 0, 0, 0, 0, 0, 0, 0, 0, 0, 0, 0, 0, 0, 0, 0, 0, 0, 0, 0, 0, 0, 0, 0, 0, 0, 0, 0, 0, 0, 0, 0, 0, 0, 0, 0, 0, 0, 0, 0, 0, 0, 0, 0, 0, 0, 0, 0, 0, 0, 0, 0, 0, 0, 0, 0, 0, 0, 0, 0, 0, 0, 0, 0, 0, 0, 0, 0, 0, 0, 0, 0, 0, 0, 0, 0, 0, 0, 0, 0, 0, 0, 0, 0, 0, 0, 0, 0, 0, 0, 0, 0, 0, 0, 0, 0, 0, 0, 0, 0, 0, 0, 0, 0, 0, 0, 0, 0, 0, 0, 0, 0, 0, 0, 0, 0, 0, 0, 0, 0, 0, 0, 0, 0, 0, 0, 0, 0, 0, 0, 0, 0, 0, 0, 0, 0, 0, 0, 0, 0, 0, 0, 0, 0, 0, 0, 0, 0, 0, 0, 0, 0, 0, 0, 0, 0, 0, 0, 0, 0, 0, 0, 0, 0, 0, 0, 0, 0, 0, 0, 0, 0, 0, 0, 0, 0, 0, 0, 0, 0, 0, 0, 0, 0, 0, 0, 0, 0, 0, 0, 0, 0, 0, 0, 0, 0, 0, 0, 0, 0, 0, 0, 0, 0, 0, 0, 0, 0, 0, 0, 0, 0, 0, 0, 0, 0, 0, 0, 0, 0, 0, 0, 0, 0, 0, 0, 0, 0, 0, 0, 0, 0, 0, 0, 0, 0, 0, 0, 0, 0, 0, 0, 0, 0, 0, 0, 0, 0, 0, 0, 0, 0, 0, 0, 0, 0, 0, 0, 0, 0, 0, 0, 0, 0, 0, 0, 0, 0, 0, 0, 0, 0, 0, 0, 0, 0, 0, 0, 0, 0, 0, 0, 0, 0, 0, 0, 0, 0, 0, 0, 0, 0, 0, 0, 0, 0, 0, 0, 0, 0, 0, 0, 0, 0, 0, 0, 0, 0, 0, 0, 0, 0, 0, 0, 0, 0, 0, 0, 0, 0, 0, 0, 0, 0, 0, 0, 0, 0, 0, 0, 0, 0, 0, 0, 0, 0, 0, 0, 0, 0, 0, 0, 0, 0, 0, 0, 0, 0, 0, 0, 0, 0, 0, 0, 0, 0, 0, 0, 0, 0, 0, 0, 0, 0, 0, 0, 0, 0, 0, 0, 0, 0, 0, 0, 0, 0, 0, 0, 0, 0, 0, 0, 0, 0, 0, 0, 0, 0, 0, 0, 0, 0, 0, 0, 0, 0, 0, 0, 0, 0, 0, 0, 0, 0, 0, 0, 0, 0, 0, 0, 0, 0, 0, 0, 0, 0, 0, 0, 0, 0, 0, 0, 0, 0, 0, 0, 0, 0, 0, 0, 0, 0, 0, 0, 0, 0, 0, 0, 0, 0, 0, 0, 0, 0, 0, 0, 0, 0, 0, 0, 0, 0, 0, 0, 0, 0, 0, 0, 0, 0, 0, 0, 0, 0, 0, 0, 0, 0, 0, 0, 0, 0, 0, 0, 0, 0, 0, 0, 0, 0, 0, 0, 0, 0, 0, 0, 0, 0, 0, 0, 0, 0, 0, 0, 0, 0, 0, 0, 0, 0, 0, 0, 0, 0, 0, 0, 0, 0, 0, 0, 0, 0, 0, 0, 0, 0, 0, 0, 0, 0, 0, 0, 0, 0, 0, 0, 0, 0, 0, 0, 0, 0, 0, 0, 0, 0, 0, 0, 0, 0, 0, 0, 0, 0, 0, 0, 0, 0, 0, 0, 0, 0, 0, 0, 0, 0, 0, 0, 0, 0, 0, 0, 0, 0, 0, 0, 0, 0, 0, 0, 0, 0, 0, 0, 0, 0, 0, 0, 0, 0, 0, 0, 0, 0, 0, 0, 0, 0, 0, 0, 0, 0, 0, 0, 0, 0, 0, 0, 0, 0, 0, 0, 0, 0, 0, 0, 0, 0, 0, 0, 0, 0, 0, 0, 0, 0, 0, 0, 0, 0, 0, 0, 0, 0, 0, 0, 0, 0, 0, 0, 0, 0, 0, 0, 0, 0, 0, 0, 0, 0, 0, 0, 0, 0, 0, 0, 0, 0, 0, 0, 0, 0, 0, 0, 0, 0, 0, 0, 0, 0, 0, 0, 0, 0, 0, 0, 0, 0, 0, 0, 0, 0, 0, 0, 0, 0, 0, 0, 0, 0, 0, 0, 0, 0, 0, 0, 0, 0, 0, 0, 0, 0, 0, 0, 0, 0, 0, 0, 0, 0, 0, 0, 0, 0, 0, 0, 0, 0, 0, 0, 0, 0, 0, 0, 0, 0, 0, 0, 0, 0, 0, 0, 0, 0, 0, 0, 0, 0, 0, 0, 0, 0, 0, 0, 0, 0, 0, 0, 0, 0, 0, 0, 0, 0, 0, 0, 0, 0, 0, 0, 0, 0, 0, 0, 0, 0, 0, 0, 0, 0, 0, 0, 0, 0, 0, 0, 0, 0, 0, 0, 0, 0, 0, 0, 0, 0, 0, 0, 0, 0, 0, 0, 0, 0, 0, 0, 0, 0, 0, 0, 0, 0, 0, 0, 0, 0, 0, 0, 0, 0, 0, 0, 0, 0, 0, 0, 0, 0, 0, 0, 0, 0, 0, 0, 0, 0, 0, 0, 0, 0, 0, 0, 0, 0, 0, 0, 0, 0, 0, 0, 0, 0, 0, 0, 0, 0, 0, 0, 0, 0, 0, 0, 0, 0, 0, 0, 0, 0, 0, 0, 0, 0, 0, 0, 0, 0, 0, 0, 0, 0, 0, 0, 0, 0, 0, 0, 0, 0, 0, 0, 0, 0, 0, 0, 0, 0, 0, 0, 0, 0, 0, 0, 0, 0, 0, 0, 0, 0, 0, 0, 0, 0, 0, 0, 0, 0, 0, 0, 0, 0, 0, 0, 0, 0, 0, 0, 0, 0, 0, 0, 0, 0, 0, 0, 0, 0, 0, 0, 0, 0, 0, 0, 0, 0, 0, 0, 0, 0, 0, 0, 0, 0, 0, 0, 0, 0, 0, 0, 0, 0, 0, 0, 0, 0, 0, 0, 0, 0, 0, 0, 0, 0, 0, 0, 0, 0, 0, 0, 0, 0, 0, 0, 0, 0, 0, 0, 0, 0, 0, 0, 0, 0, 0, 0, 0, 0, 0, 0, 0, 0, 0, 0, 0, 0, 0, 0, 0, 0, 0, 0, 0, 0, 0, 0, 0, 0, 0, 0, 0, 0, 0, 0, 0, 0, 0, 0, 0, 0, 0, 0, 0, 0, 0, 0, 0, 0, 0, 0, 0, 0, 0, 0, 0, 0, 0, 0, 0, 0, 0, 0, 0, 0, 0, 0, 0, 0, 0, 0, 0, 0, 0, 0, 0]]\n"
     ]
    }
   ],
   "source": [
    "# ubah nilai yg lebih dari 1 jadi 1, untuk penghitungan DF\n",
    "tf_nonForNIJ = []\n",
    "changeValue(tf_nonrf, tf_nonForNIJ)\n",
    "print(tf_nonForNIJ[:2])"
   ]
  },
  {
   "cell_type": "code",
   "execution_count": 30,
   "id": "72005f7b",
   "metadata": {},
   "outputs": [
    {
     "name": "stdout",
     "output_type": "stream",
     "text": [
      "[0, 21, 0, 6, 1, 7, 4, 3, 8, 0, 0, 0, 5, 6, 1, 0, 60, 62, 0, 0, 1, 6, 0, 0, 0, 0, 0, 0, 0, 3, 0, 1, 1, 24, 0, 0, 1, 1, 0, 0, 0, 6, 5, 0, 0, 33, 0, 0, 0, 2, 0, 0, 1, 0, 1, 82, 0, 0, 31, 0, 0, 0, 18, 11, 0, 0, 0, 0, 0, 0, 0, 0, 0, 0, 0, 0, 0, 1, 0, 4, 0, 3, 3, 13, 10, 17, 23, 6, 34, 36, 17, 1, 3, 0, 0, 0, 2, 17, 1, 0, 6, 4, 0, 1, 0, 21, 2, 0, 1, 15, 0, 5, 0, 0, 1, 0, 0, 0, 0, 7, 2, 1, 0, 1, 14, 0, 0, 7, 0, 2, 1, 0, 2, 30, 16, 0, 13, 0, 0, 0, 0, 0, 0, 0, 0, 0, 1, 0, 0, 0, 0, 0, 1, 4, 1, 1, 3, 6, 0, 1, 1, 0, 0, 1, 2, 0, 0, 0, 6, 0, 0, 0, 7, 0, 0, 4, 0, 1, 1, 0, 0, 1, 27, 0, 0, 0, 0, 85, 4, 3, 2, 1, 2, 6, 1, 3, 0, 0, 3, 0, 1, 0, 9, 0, 0, 2, 0, 0, 0, 0, 0, 1, 0, 34, 39, 0, 0, 1, 0, 1, 0, 0, 0, 0, 0, 1, 0, 0, 0, 0, 0, 0, 0, 0, 0, 1, 0, 0, 0, 4, 0, 0, 0, 0, 0, 0, 0, 3, 0, 0, 2, 0, 0, 0, 0, 0, 6, 0, 0, 5, 0, 1, 0, 0, 3, 26, 3, 16, 22, 37, 3, 9, 2, 1, 2, 1, 1, 1, 1, 1, 1, 1, 1, 2, 1, 1, 1, 1, 1, 1, 1, 1, 1, 1, 0, 0, 0, 0, 0, 0, 1, 0, 0, 0, 0, 0, 7, 0, 0, 0, 0, 0, 0, 6, 0, 0, 0, 0, 0, 0, 27, 0, 0, 0, 0, 0, 0, 0, 0, 0, 0, 0, 0, 0, 0, 0, 2, 0, 5, 4, 0, 0, 0, 0, 0, 0, 0, 0, 0, 0, 0, 0, 0, 0, 9, 1, 2, 1, 3, 1, 1, 6, 1, 1, 0, 0, 1, 0, 0, 0, 0, 0, 1, 0, 0, 0, 0, 1, 0, 1, 1, 1, 9, 2, 12, 1, 14, 6, 9, 1, 6, 1, 0, 7, 0, 5, 0, 0, 0, 3, 0, 0, 9, 0, 0, 7, 14, 0, 0, 0, 0, 0, 0, 0, 0, 8, 0, 0, 9, 25, 5, 19, 16, 3, 2, 2, 3, 5, 6, 3, 1, 12, 9, 22, 1, 1, 0, 1, 0, 0, 0, 0, 0, 0, 0, 0, 0, 1, 1, 1, 1, 1, 1, 1, 1, 1, 1, 1, 1, 1, 1, 3, 1, 9, 1, 4, 2, 2, 13, 1, 1, 11, 0, 0, 0, 0, 0, 0, 9, 0, 0, 0, 1, 1, 1, 1, 7, 2, 20, 1, 4, 1, 3, 1, 1, 1, 6, 1, 1, 3, 1, 5, 1, 3, 1, 1, 4, 1, 1, 0, 0, 1, 0, 0, 0, 0, 0, 0, 0, 0, 1, 0, 0, 0, 16, 0, 0, 2, 0, 0, 0, 1, 1, 0, 0, 0, 0, 0, 3, 0, 0, 0, 0, 0, 0, 0, 0, 0, 0, 0, 0, 0, 5, 0, 2, 0, 0, 10, 0, 0, 0, 0, 0, 3, 0, 0, 0, 0, 3, 1, 1, 2, 0, 0, 0, 0, 1, 1, 0, 0, 0, 0, 0, 0, 0, 0, 0, 0, 5, 4, 6, 4, 1, 3, 5, 5, 1, 4, 2, 2, 1, 8, 1, 6, 8, 7, 0, 0, 1, 0, 0, 0, 0, 0, 0, 0, 0, 0, 0, 0, 0, 0, 17, 0, 4, 0, 0, 0, 0, 0, 0, 0, 0, 0, 0, 0, 0, 0, 0, 0, 0, 1, 0, 0, 0, 0, 0, 0, 0, 0, 0, 0, 4, 1, 1, 2, 3, 1, 0, 0, 1, 0, 0, 0, 0, 0, 0, 0, 0, 1, 1, 1, 1, 2, 3, 2, 1, 1, 2, 1, 1, 1, 1, 1, 1, 1, 1, 0, 0, 0, 0, 4, 0, 0, 0, 0, 0, 0, 0, 0, 0, 0, 0, 0, 0, 0, 0, 0, 0, 0, 0, 1, 0, 0, 0, 0, 0, 0, 0, 0, 0, 0, 0, 7, 0, 0, 0, 0, 0, 0, 0, 0, 0, 0, 0, 1, 5, 0, 6, 4, 3, 4, 3, 4, 3, 5, 1, 9, 1, 1, 1, 1, 1, 1, 11, 2, 2, 4, 2, 2, 1, 6, 0, 3, 0, 0, 0, 0, 0, 2, 3, 3, 3, 2, 3, 2, 0, 0, 0, 0, 0, 2, 0, 2, 1, 0, 0, 3, 1, 0, 0, 0, 4, 0, 3, 0, 2, 0, 0, 3, 2, 1, 1, 2, 1, 1, 0, 0, 0, 0, 0, 0, 0, 2, 2, 0, 0, 0, 0, 3, 3, 9, 5, 2, 6, 2, 2, 2, 6, 4, 2, 2, 15, 6, 3, 3, 3, 2, 5, 2, 3, 3, 2, 2, 6, 2, 0, 0, 0, 0, 0, 0, 0, 0, 0, 1, 1, 1, 1, 1, 1, 1, 1, 1, 1, 1, 1, 1, 1, 1, 3, 4, 1, 1, 1, 1, 1, 1, 2, 2, 2, 2, 2, 2, 1, 6, 2, 1, 2, 2, 1, 1, 1, 1, 1, 3, 1, 4, 3, 3, 6, 4, 3, 4, 1, 1, 1, 1, 3, 5, 1, 1, 2, 1, 1, 1, 1, 1, 2, 5, 1, 1, 1, 3, 1, 4, 1, 1, 1, 1, 1, 1, 3, 1, 1, 2, 1, 2, 2, 1, 2, 1, 1, 0, 0, 0, 0, 0, 0, 0, 0, 0, 0, 0, 0, 0, 0, 0, 0, 0, 0, 0, 0, 0, 0, 0, 0, 0, 0, 0, 0, 0, 1, 0, 0, 1, 0, 0, 0, 0, 0, 0, 0, 0, 0, 0, 0, 0, 0, 0, 0, 0, 0, 0, 0, 1, 0, 0, 0, 0, 0, 1, 0, 0, 0, 0, 0, 0, 0, 0, 0, 0, 0, 0, 1, 0, 0, 0, 0, 0, 0, 0, 0, 0, 0, 0, 0, 0, 0, 0, 0, 0, 0, 0, 0, 0, 0, 0, 1, 0, 0, 0, 0, 0, 0, 0, 0, 0, 0, 0, 1, 2, 0, 1, 0, 0, 0, 0, 0, 0, 0, 0, 0, 0, 0, 0, 0, 0, 0, 0, 0, 0, 0, 0, 1, 0, 0, 0, 0, 0, 0, 0, 0, 0, 0, 0, 0, 0, 0, 0, 0, 0, 0, 0, 0, 0, 0, 0, 0, 0, 0, 0, 0, 1, 0, 0, 0, 0, 0, 0, 0, 0, 0, 0, 0, 1, 1, 1, 1, 1, 1, 1, 1, 1, 1, 5, 2, 1, 4, 0, 0, 1, 0, 0, 0, 0, 0, 0, 0, 0, 0, 0, 4, 0, 0, 0, 0, 0, 0, 1, 0, 6, 3, 0, 0, 0, 0, 0, 0, 0, 0, 0, 0, 0, 1, 0, 0, 0, 0, 0, 0, 0, 0, 0, 0, 0, 0, 1, 0, 0, 0, 0, 0, 0, 0, 1, 0, 0, 0, 0, 2, 0, 0, 0, 0, 0, 0, 1, 1, 1, 1, 1, 2, 1, 1, 1, 1, 1, 1, 1, 1, 1, 1, 1, 1, 1, 1, 1, 1, 2, 3, 1, 1, 1, 0, 0, 0, 0, 0, 0, 0, 0, 0, 0, 0, 0, 0, 0, 0, 0, 0, 1, 1, 1, 1, 1, 1, 1, 2, 1, 0, 0, 0, 0, 0, 0, 0, 0, 0, 0, 1, 1, 1, 1, 1, 2, 1, 1, 8, 1, 1, 1, 1, 1, 2, 1, 2, 1, 1, 1, 1, 1, 0, 0, 0, 0, 0, 0, 0, 0, 0, 0, 0, 0, 0, 0, 0, 0, 0, 0, 2, 0, 0, 0, 0, 1, 1, 1, 1, 1, 1, 1, 1, 1, 1, 1, 1, 1, 1, 1, 1, 2, 1, 1, 1, 0, 0, 0, 0, 0, 0, 0, 0, 0, 0, 0, 2, 7, 2, 1, 1, 1, 1, 1, 3, 5, 5, 11, 3, 4, 2, 2, 0, 0, 1, 1, 1, 0, 0, 0, 0, 0, 0, 0, 0, 0, 1, 3, 1, 1, 1, 1, 5, 6, 1, 0, 0, 0, 0, 1, 1, 2, 3, 2, 1, 1, 4, 9, 0, 2, 2, 1, 4, 1, 3, 1, 3, 1, 1, 1, 1, 4, 3, 2, 1, 2, 2, 1, 1, 0, 2, 1, 1, 5, 1, 1, 1, 1, 1, 1, 1, 0, 0, 0, 0, 0, 0, 0, 0, 0, 0, 0, 0, 0, 0, 0, 0, 0, 0, 0, 0, 0, 1, 1, 2, 1, 1, 2, 2, 5, 2, 2, 1, 1, 1, 1, 1, 0, 0, 0, 0, 2, 1, 1, 1, 1, 2, 1, 1, 1, 1, 1, 1, 1, 6, 1, 1, 1, 1, 0, 1, 0, 1, 0, 0, 0, 0, 0, 0, 0, 0, 0, 0, 0, 0, 0, 0, 0, 0, 0, 0, 0, 0, 0, 0, 0, 0, 0, 0, 1, 1, 3, 2, 1, 0, 0, 0, 0, 0, 0, 0, 0, 0, 0, 0, 0, 0, 0, 0, 0, 0, 0, 0, 2, 1, 1, 1, 1, 0, 0, 0, 0, 2, 1, 1, 1, 1, 1, 1, 1, 1, 1, 1, 1, 1, 2, 1, 2, 1, 0, 1, 1, 1, 0, 0, 0, 0, 1, 1, 2, 1, 1, 0, 0, 0, 0, 1, 1, 1, 1, 1, 1, 1, 0, 0, 0, 0, 1, 1, 1, 0, 1, 1, 1, 1, 2, 2, 3, 0, 0, 0, 0, 0, 0, 0, 1, 0, 0, 1, 1, 1, 1, 0, 0, 0, 0, 0, 0, 0, 0, 0, 0, 0, 0, 3, 1, 0, 0, 0, 0, 0, 0, 0, 0, 0, 0, 0, 0, 0, 0, 0, 0, 0, 0, 0, 0, 0, 0, 0, 0, 0, 0, 0, 0, 0, 0, 0, 0, 0, 0, 0, 0, 0, 0, 0, 0, 1, 0, 0, 0, 0, 0, 0, 0, 0, 0, 0, 0, 1, 1, 1, 0, 0, 0, 0, 0, 0, 0, 0, 0, 0, 0, 0, 0, 1, 0, 0, 0, 0, 0, 0, 0, 0, 0, 0, 0, 0, 0, 0, 0, 0, 0, 0, 0, 0, 0, 0, 0, 2, 2, 2, 2, 1, 2, 1, 1, 1, 2, 1, 1, 1, 0, 0, 0, 0, 0, 0, 2, 1, 1, 1, 0, 0, 1, 1, 1, 0, 0, 0, 0, 1, 1, 1, 2, 2, 1, 1, 1, 1, 1, 0, 0, 0, 0, 0, 0, 0, 0, 0, 0, 0, 0, 0, 0, 0, 2, 1, 1, 1, 1, 1, 1, 2, 1, 1, 1, 1, 0, 1, 0, 0, 0, 0, 0, 0, 0, 0, 0, 1, 1, 1, 0, 0, 0, 0, 0, 0, 0, 0, 0, 0, 0, 0, 0, 0, 0, 0, 0, 0, 0, 0, 0, 0, 0, 0, 0, 0, 0, 0, 0, 0, 0, 0, 0, 0, 0, 0, 0, 0, 0, 0, 0, 0, 0, 0, 0, 0, 0, 0, 0, 0, 0, 0, 0, 0, 0, 1, 0, 1, 0, 0, 0, 0, 0, 0, 0, 0, 0, 0, 0, 0, 0, 0, 0, 0, 0, 0, 0, 0, 0, 0, 0, 0, 0, 0, 0, 0, 0, 0, 0, 0, 0, 0, 0, 0, 0, 0, 0, 0, 0, 0, 0, 0, 0, 0, 0, 0, 0, 0, 0, 0, 0, 0, 0, 0, 0, 0, 0, 0, 0, 0, 0, 0, 1, 1, 1, 1, 1, 1, 1, 1, 0, 0, 0, 0, 0, 0, 0, 0, 0, 0, 0, 1, 1, 1, 1, 1, 1, 1, 1, 1, 1, 1, 1, 1, 1, 1, 1, 1, 0, 0, 0, 0, 0, 0, 0, 0, 1, 1, 2, 1, 2, 3, 0, 0, 0, 0, 0, 0, 0, 1, 1, 1, 1, 1, 1, 1, 1, 1, 1, 1, 1, 1, 0, 0, 1, 1, 1, 1, 1, 1, 1, 1, 1, 1, 1, 1, 0, 1, 1, 0, 0, 0, 0, 0, 0, 0, 1, 1, 1, 1, 1, 0, 0, 0, 0, 0, 0, 0, 0, 0, 0, 0, 0, 0, 0, 1, 1, 1, 1, 1, 5, 1, 2, 2, 1, 0, 0, 1, 1, 2, 1, 1, 0, 0, 0, 0, 0, 1, 1, 1, 1, 1, 1, 0, 0, 0, 0, 0, 0, 0, 0, 0, 0, 1, 1, 1, 1, 1, 1, 0, 0, 0, 0, 0, 0, 0, 0, 0, 0, 0, 0, 0, 1, 1, 1, 1, 1, 1, 1, 1, 1, 1, 1, 1, 1, 1, 0, 0, 1, 1, 0, 0, 1, 1, 1, 1, 1, 1, 1, 1, 1, 1, 1, 1, 1, 1, 1, 1, 1, 1, 1, 1, 1, 1, 1, 1, 0, 0, 0, 0]\n"
     ]
    }
   ],
   "source": [
    "# hitung di berapa dokumen suatu term muncul\n",
    "nij = []\n",
    "countDF(tf_spamForNIJ, nij)\n",
    "print(nij)"
   ]
  },
  {
   "cell_type": "code",
   "execution_count": 31,
   "id": "08789eee",
   "metadata": {},
   "outputs": [
    {
     "name": "stdout",
     "output_type": "stream",
     "text": [
      "[1, 25, 4, 80, 20, 10, 1, 3, 7, 15, 1, 4, 18, 12, 12, 1, 45, 45, 1, 2, 1, 46, 4, 1, 1, 1, 1, 9, 4, 36, 23, 15, 1, 5, 9, 7, 10, 3, 9, 1, 1, 23, 38, 2, 45, 17, 13, 8, 2, 3, 4, 4, 26, 2, 58, 11, 1, 5, 28, 1, 1, 1, 6, 31, 1, 1, 1, 1, 1, 1, 1, 2, 1, 1, 1, 1, 8, 19, 1, 21, 1, 0, 0, 0, 31, 5, 2, 0, 26, 7, 3, 0, 13, 6, 10, 8, 7, 33, 78, 2, 44, 3, 2, 2, 1, 7, 1, 1, 3, 1, 6, 4, 1, 4, 3, 19, 1, 2, 2, 50, 7, 4, 1, 3, 26, 1, 3, 7, 10, 13, 2, 3, 42, 22, 17, 4, 2, 2, 13, 4, 2, 2, 2, 2, 2, 2, 2, 2, 2, 2, 1, 1, 22, 24, 14, 4, 7, 15, 1, 1, 3, 1, 1, 2, 1, 3, 2, 1, 4, 5, 1, 1, 12, 2, 5, 11, 4, 25, 1, 1, 5, 5, 24, 1, 1, 1, 1, 63, 0, 0, 1, 0, 0, 4, 0, 8, 1, 13, 9, 7, 31, 2, 22, 4, 1, 3, 9, 1, 13, 5, 1, 1, 2, 3, 1, 2, 1, 10, 2, 1, 1, 1, 1, 1, 1, 6, 2, 1, 1, 3, 1, 2, 1, 2, 7, 4, 4, 1, 1, 7, 1, 1, 4, 1, 1, 1, 3, 4, 4, 11, 6, 1, 1, 7, 11, 1, 13, 11, 2, 6, 3, 3, 3, 3, 8, 17, 0, 2, 4, 0, 0, 0, 0, 5, 0, 0, 0, 0, 0, 1, 0, 0, 0, 1, 0, 0, 0, 0, 0, 0, 0, 0, 0, 0, 2, 10, 1, 1, 3, 1, 3, 1, 7, 3, 8, 5, 14, 11, 2, 9, 5, 1, 2, 7, 1, 1, 1, 1, 1, 6, 4, 1, 4, 36, 1, 2, 1, 1, 1, 2, 3, 1, 1, 6, 3, 1, 9, 6, 21, 4, 2, 23, 1, 3, 3, 1, 3, 1, 5, 1, 1, 1, 1, 1, 0, 0, 0, 0, 0, 0, 1, 1, 0, 17, 3, 2, 2, 3, 5, 2, 2, 13, 7, 13, 4, 1, 5, 5, 1, 0, 0, 0, 1, 0, 14, 0, 3, 2, 0, 0, 0, 0, 1, 2, 1, 1, 1, 1, 4, 4, 1, 7, 8, 1, 22, 14, 7, 1, 1, 11, 11, 1, 2, 5, 2, 17, 3, 2, 2, 1, 3, 0, 1, 0, 0, 0, 0, 2, 0, 0, 1, 0, 1, 3, 0, 0, 1, 4, 2, 2, 2, 1, 1, 1, 1, 5, 9, 2, 2, 0, 0, 2, 0, 1, 5, 0, 0, 0, 0, 2, 0, 3, 0, 0, 0, 0, 0, 0, 6, 0, 0, 0, 2, 6, 2, 2, 1, 4, 3, 1, 1, 1, 0, 0, 0, 0, 9, 0, 3, 0, 0, 0, 0, 0, 0, 0, 0, 0, 0, 0, 0, 0, 13, 0, 0, 0, 3, 0, 0, 5, 6, 4, 1, 2, 1, 1, 1, 8, 6, 12, 8, 4, 2, 2, 19, 2, 1, 6, 6, 3, 2, 1, 10, 2, 1, 1, 2, 2, 14, 1, 1, 1, 1, 1, 1, 1, 2, 1, 1, 1, 3, 1, 3, 2, 2, 1, 16, 3, 3, 3, 2, 1, 1, 2, 1, 1, 1, 1, 1, 0, 0, 1, 1, 4, 1, 3, 3, 5, 3, 3, 4, 1, 1, 2, 1, 1, 1, 1, 5, 2, 1, 3, 0, 0, 2, 0, 0, 0, 0, 0, 0, 23, 0, 0, 16, 3, 4, 1, 1, 1, 1, 1, 1, 2, 1, 1, 2, 2, 2, 2, 3, 4, 6, 2, 4, 4, 8, 3, 1, 13, 2, 1, 2, 1, 2, 8, 6, 2, 1, 2, 2, 7, 1, 1, 1, 1, 1, 2, 1, 2, 1, 1, 6, 0, 0, 0, 0, 0, 16, 1, 7, 3, 3, 2, 2, 2, 1, 1, 60, 0, 0, 0, 1, 0, 1, 5, 0, 0, 0, 0, 0, 1, 1, 0, 0, 2, 0, 1, 1, 2, 1, 6, 1, 1, 1, 1, 1, 3, 1, 1, 1, 2, 1, 3, 1, 4, 1, 1, 2, 1, 3, 7, 6, 1, 3, 1, 1, 1, 5, 1, 3, 2, 1, 1, 1, 1, 1, 1, 1, 1, 8, 7, 1, 14, 32, 91, 94, 2, 0, 0, 0, 0, 0, 0, 0, 0, 0, 0, 0, 0, 0, 0, 1, 0, 1, 0, 0, 0, 0, 0, 2, 0, 1, 1, 1, 1, 1, 1, 1, 0, 0, 0, 0, 2, 0, 0, 3, 1, 1, 4, 1, 2, 2, 4, 10, 4, 5, 4, 9, 2, 1, 4, 6, 5, 6, 5, 7, 2, 2, 0, 0, 0, 0, 0, 0, 5, 6, 1, 6, 10, 2, 1, 4, 0, 0, 1, 1, 1, 1, 0, 0, 0, 0, 0, 20, 0, 0, 0, 0, 9, 0, 0, 0, 0, 0, 0, 0, 0, 0, 0, 0, 0, 0, 0, 0, 0, 2, 1, 1, 1, 1, 4, 3, 1, 1, 1, 0, 0, 0, 0, 0, 0, 0, 0, 0, 0, 0, 0, 0, 0, 2, 0, 0, 0, 0, 0, 0, 0, 0, 0, 0, 0, 0, 0, 0, 0, 0, 0, 0, 0, 0, 0, 0, 0, 0, 0, 0, 0, 2, 0, 0, 0, 0, 0, 0, 0, 0, 0, 1, 1, 0, 0, 0, 0, 0, 0, 0, 0, 0, 1, 0, 0, 0, 0, 0, 0, 0, 0, 0, 0, 0, 0, 0, 0, 0, 0, 0, 0, 0, 0, 0, 0, 0, 2, 2, 7, 1, 1, 1, 7, 1, 7, 13, 1, 1, 2, 1, 2, 1, 1, 1, 2, 3, 3, 1, 2, 2, 2, 2, 2, 2, 4, 6, 1, 11, 6, 2, 4, 2, 2, 2, 2, 2, 7, 4, 15, 1, 2, 2, 1, 1, 1, 1, 1, 1, 23, 7, 1, 1, 1, 4, 1, 2, 1, 1, 1, 4, 3, 3, 8, 4, 1, 13, 5, 9, 8, 5, 4, 9, 2, 1, 1, 1, 1, 1, 1, 3, 1, 1, 3, 1, 2, 10, 11, 4, 3, 11, 2, 6, 2, 3, 3, 2, 2, 2, 1, 1, 3, 6, 1, 7, 3, 1, 5, 1, 8, 2, 2, 2, 1, 2, 1, 3, 1, 4, 7, 2, 1, 1, 2, 5, 1, 1, 1, 3, 1, 2, 1, 1, 1, 3, 3, 1, 13, 13, 3, 1, 1, 4, 2, 1, 8, 1, 3, 3, 1, 1, 1, 2, 2, 2, 16, 4, 1, 1, 2, 1, 1, 2, 2, 2, 1, 2, 2, 2, 0, 0, 0, 0, 0, 0, 0, 0, 0, 0, 0, 12, 2, 0, 2, 18, 0, 3, 3, 3, 3, 3, 3, 5, 6, 3, 1, 10, 8, 6, 3, 2, 8, 1, 1, 3, 2, 1, 1, 2, 3, 2, 2, 1, 1, 1, 1, 2, 2, 2, 7, 4, 2, 2, 2, 2, 4, 6, 4, 5, 5, 2, 4, 4, 5, 3, 2, 2, 2, 3, 3, 2, 1, 1, 2, 3, 1, 1, 3, 1, 1, 5, 3, 4, 10, 0, 0, 0, 0, 0, 0, 0, 0, 0, 0, 0, 0, 0, 0, 0, 0, 0, 0, 0, 0, 0, 0, 0, 0, 2, 2, 2, 2, 2, 2, 3, 2, 4, 1, 1, 2, 1, 1, 1, 1, 1, 0, 0, 0, 0, 0, 0, 0, 0, 0, 1, 1, 1, 1, 1, 2, 1, 1, 4, 4, 0, 0, 0, 0, 0, 0, 0, 0, 0, 0, 0, 0, 0, 0, 0, 0, 0, 0, 0, 0, 0, 0, 4, 2, 1, 4, 3, 1, 2, 1, 2, 3, 3, 1, 2, 2, 2, 2, 6, 2, 2, 2, 2, 2, 1, 0, 0, 0, 0, 0, 0, 0, 0, 0, 0, 0, 0, 0, 0, 0, 0, 0, 0, 0, 0, 1, 1, 5, 4, 1, 1, 1, 1, 1, 1, 1, 0, 0, 0, 0, 0, 0, 0, 0, 0, 0, 0, 0, 0, 0, 0, 0, 1, 1, 0, 0, 0, 1, 1, 1, 1, 1, 1, 1, 1, 1, 0, 0, 0, 0, 0, 0, 0, 0, 0, 1, 1, 3, 2, 0, 0, 0, 0, 0, 0, 0, 0, 0, 1, 0, 0, 0, 0, 0, 1, 0, 0, 0, 0, 0, 0, 0, 0, 0, 0, 0, 0, 0, 0, 4, 2, 0, 0, 0, 0, 0, 0, 0, 0, 0, 0, 1, 1, 2, 2, 1, 1, 1, 1, 1, 1, 1, 1, 1, 1, 4, 1, 1, 1, 1, 1, 1, 0, 0, 0, 0, 0, 0, 0, 0, 0, 0, 0, 0, 2, 0, 0, 3, 3, 4, 7, 6, 0, 0, 0, 0, 0, 0, 0, 0, 0, 0, 0, 0, 0, 0, 0, 0, 0, 3, 4, 6, 2, 2, 2, 1, 2, 2, 2, 3, 3, 2, 2, 2, 1, 2, 1, 1, 1, 1, 1, 1, 1, 1, 2, 1, 1, 1, 2, 0, 0, 0, 0, 0, 1, 2, 2, 2, 1, 1, 3, 1, 1, 1, 1, 2, 1, 1, 2, 1, 1, 1, 1, 0, 0, 0, 0, 0, 1, 1, 1, 1, 1, 0, 1, 0, 0, 0, 0, 0, 0, 0, 0, 0, 0, 0, 0, 0, 0, 1, 0, 0, 0, 2, 2, 2, 2, 0, 0, 2, 0, 0, 1, 1, 1, 1, 0, 0, 0, 0, 0, 0, 3, 1, 1, 2, 1, 0, 0, 0, 1, 0, 0, 0, 0, 0, 0, 0, 1, 1, 1, 1, 1, 1, 1, 0, 1, 1, 0, 0, 0, 1, 1, 1, 1, 2, 2, 1, 2, 1, 2, 1, 1, 2, 0, 0, 1, 1, 1, 1, 1, 1, 2, 2, 4, 1, 1, 1, 1, 1, 1, 1, 1, 1, 1, 1, 1, 1, 1, 1, 1, 1, 2, 2, 2, 1, 1, 1, 7, 7, 2, 1, 1, 1, 3, 1, 0, 1, 1, 3, 1, 1, 1, 1, 2, 1, 3, 3, 0, 0, 0, 1, 1, 1, 1, 1, 1, 1, 1, 1, 1, 1, 1, 2, 2, 1, 2, 1, 2, 2, 2, 1, 1, 1, 1, 1, 1, 2, 1, 2, 1, 1, 2, 1, 1, 1, 1, 1, 0, 0, 0, 0, 0, 0, 0, 0, 0, 0, 0, 0, 0, 1, 1, 1, 1, 1, 1, 0, 0, 0, 0, 1, 1, 0, 0, 0, 2, 2, 1, 2, 0, 0, 0, 0, 0, 0, 0, 0, 0, 0, 1, 1, 1, 1, 1, 1, 3, 2, 1, 1, 1, 1, 1, 1, 1, 0, 0, 0, 0, 0, 0, 0, 0, 0, 0, 0, 0, 2, 0, 2, 2, 1, 1, 1, 1, 1, 1, 1, 0, 0, 0, 2, 1, 2, 1, 1, 1, 1, 1, 2, 1, 1, 1, 1, 1, 1, 1, 1, 1, 1, 1, 1, 1, 1, 1, 1, 1, 1, 1, 1, 1, 2, 1, 2, 1, 1, 1, 1, 1, 1, 1, 1, 1, 1, 1, 1, 2, 2, 1, 1, 1, 1, 1, 1, 1, 1, 1, 1, 1, 1, 1, 1, 2, 1, 4, 1, 1, 1, 1, 1, 4, 1, 1, 1, 1, 1, 1, 1, 2, 2, 1, 1, 1, 1, 1, 1, 1, 1, 2, 1, 1, 1, 1, 1, 1, 2, 1, 1, 1, 1, 1, 1, 1, 1, 1, 1, 1, 1, 1, 1, 1, 1, 1, 1, 1, 1, 1, 1, 1, 1, 1, 1, 1, 0, 0, 0, 0, 0, 0, 0, 1, 1, 1, 1, 1, 1, 1, 2, 1, 1, 1, 1, 0, 0, 0, 0, 0, 0, 0, 0, 0, 0, 0, 0, 0, 0, 0, 0, 0, 1, 1, 1, 1, 1, 1, 1, 1, 0, 0, 0, 0, 0, 0, 1, 1, 1, 2, 1, 1, 2, 0, 0, 0, 0, 0, 0, 0, 0, 0, 0, 0, 0, 0, 1, 1, 0, 0, 0, 0, 0, 0, 0, 0, 0, 0, 0, 0, 1, 0, 0, 1, 1, 1, 1, 1, 1, 1, 0, 0, 0, 0, 0, 1, 1, 1, 1, 1, 1, 1, 1, 1, 1, 1, 1, 1, 1, 0, 0, 0, 0, 0, 0, 0, 0, 0, 0, 1, 1, 0, 0, 0, 0, 0, 1, 1, 1, 1, 1, 0, 0, 0, 0, 0, 0, 3, 2, 2, 2, 2, 2, 2, 2, 2, 2, 0, 0, 0, 0, 0, 0, 2, 2, 1, 1, 1, 2, 2, 2, 1, 1, 2, 2, 2, 0, 0, 0, 0, 0, 0, 0, 0, 0, 0, 0, 0, 0, 0, 1, 1, 0, 0, 1, 1, 0, 0, 0, 0, 0, 0, 0, 0, 0, 0, 0, 0, 0, 0, 0, 0, 0, 0, 0, 0, 0, 0, 0, 0, 1, 1, 1, 1]\n"
     ]
    }
   ],
   "source": [
    "# hitung di berapa dokumen suatu term muncul\n",
    "nij_aksen = []\n",
    "countDF(tf_nonForNIJ, nij_aksen)\n",
    "print(nij_aksen)"
   ]
  },
  {
   "cell_type": "code",
   "execution_count": 32,
   "id": "8a8c3698",
   "metadata": {},
   "outputs": [
    {
     "name": "stdout",
     "output_type": "stream",
     "text": [
      "[1, 25, 4, 80, 20, 10, 1, 3, 7, 15, 1, 4, 18, 12, 12, 1, 45, 45, 1, 2, 1, 46, 4, 1, 1, 1, 1, 9, 4, 36, 23, 15, 1, 5, 9, 7, 10, 3, 9, 1, 1, 23, 38, 2, 45, 17, 13, 8, 2, 3, 4, 4, 26, 2, 58, 11, 1, 5, 28, 1, 1, 1, 6, 31, 1, 1, 1, 1, 1, 1, 1, 2, 1, 1, 1, 1, 8, 19, 1, 21, 1, 1, 1, 1, 31, 5, 2, 1, 26, 7, 3, 1, 13, 6, 10, 8, 7, 33, 78, 2, 44, 3, 2, 2, 1, 7, 1, 1, 3, 1, 6, 4, 1, 4, 3, 19, 1, 2, 2, 50, 7, 4, 1, 3, 26, 1, 3, 7, 10, 13, 2, 3, 42, 22, 17, 4, 2, 2, 13, 4, 2, 2, 2, 2, 2, 2, 2, 2, 2, 2, 1, 1, 22, 24, 14, 4, 7, 15, 1, 1, 3, 1, 1, 2, 1, 3, 2, 1, 4, 5, 1, 1, 12, 2, 5, 11, 4, 25, 1, 1, 5, 5, 24, 1, 1, 1, 1, 63, 1, 1, 1, 1, 1, 4, 1, 8, 1, 13, 9, 7, 31, 2, 22, 4, 1, 3, 9, 1, 13, 5, 1, 1, 2, 3, 1, 2, 1, 10, 2, 1, 1, 1, 1, 1, 1, 6, 2, 1, 1, 3, 1, 2, 1, 2, 7, 4, 4, 1, 1, 7, 1, 1, 4, 1, 1, 1, 3, 4, 4, 11, 6, 1, 1, 7, 11, 1, 13, 11, 2, 6, 3, 3, 3, 3, 8, 17, 1, 2, 4, 1, 1, 1, 1, 5, 1, 1, 1, 1, 1, 1, 1, 1, 1, 1, 1, 1, 1, 1, 1, 1, 1, 1, 1, 1, 2, 10, 1, 1, 3, 1, 3, 1, 7, 3, 8, 5, 14, 11, 2, 9, 5, 1, 2, 7, 1, 1, 1, 1, 1, 6, 4, 1, 4, 36, 1, 2, 1, 1, 1, 2, 3, 1, 1, 6, 3, 1, 9, 6, 21, 4, 2, 23, 1, 3, 3, 1, 3, 1, 5, 1, 1, 1, 1, 1, 1, 1, 1, 1, 1, 1, 1, 1, 1, 17, 3, 2, 2, 3, 5, 2, 2, 13, 7, 13, 4, 1, 5, 5, 1, 1, 1, 1, 1, 1, 14, 1, 3, 2, 1, 1, 1, 1, 1, 2, 1, 1, 1, 1, 4, 4, 1, 7, 8, 1, 22, 14, 7, 1, 1, 11, 11, 1, 2, 5, 2, 17, 3, 2, 2, 1, 3, 1, 1, 1, 1, 1, 1, 2, 1, 1, 1, 1, 1, 3, 1, 1, 1, 4, 2, 2, 2, 1, 1, 1, 1, 5, 9, 2, 2, 1, 1, 2, 1, 1, 5, 1, 1, 1, 1, 2, 1, 3, 1, 1, 1, 1, 1, 1, 6, 1, 1, 1, 2, 6, 2, 2, 1, 4, 3, 1, 1, 1, 1, 1, 1, 1, 9, 1, 3, 1, 1, 1, 1, 1, 1, 1, 1, 1, 1, 1, 1, 1, 13, 1, 1, 1, 3, 1, 1, 5, 6, 4, 1, 2, 1, 1, 1, 8, 6, 12, 8, 4, 2, 2, 19, 2, 1, 6, 6, 3, 2, 1, 10, 2, 1, 1, 2, 2, 14, 1, 1, 1, 1, 1, 1, 1, 2, 1, 1, 1, 3, 1, 3, 2, 2, 1, 16, 3, 3, 3, 2, 1, 1, 2, 1, 1, 1, 1, 1, 1, 1, 1, 1, 4, 1, 3, 3, 5, 3, 3, 4, 1, 1, 2, 1, 1, 1, 1, 5, 2, 1, 3, 1, 1, 2, 1, 1, 1, 1, 1, 1, 23, 1, 1, 16, 3, 4, 1, 1, 1, 1, 1, 1, 2, 1, 1, 2, 2, 2, 2, 3, 4, 6, 2, 4, 4, 8, 3, 1, 13, 2, 1, 2, 1, 2, 8, 6, 2, 1, 2, 2, 7, 1, 1, 1, 1, 1, 2, 1, 2, 1, 1, 6, 1, 1, 1, 1, 1, 16, 1, 7, 3, 3, 2, 2, 2, 1, 1, 60, 1, 1, 1, 1, 1, 1, 5, 1, 1, 1, 1, 1, 1, 1, 1, 1, 2, 1, 1, 1, 2, 1, 6, 1, 1, 1, 1, 1, 3, 1, 1, 1, 2, 1, 3, 1, 4, 1, 1, 2, 1, 3, 7, 6, 1, 3, 1, 1, 1, 5, 1, 3, 2, 1, 1, 1, 1, 1, 1, 1, 1, 8, 7, 1, 14, 32, 91, 94, 2, 1, 1, 1, 1, 1, 1, 1, 1, 1, 1, 1, 1, 1, 1, 1, 1, 1, 1, 1, 1, 1, 1, 2, 1, 1, 1, 1, 1, 1, 1, 1, 1, 1, 1, 1, 2, 1, 1, 3, 1, 1, 4, 1, 2, 2, 4, 10, 4, 5, 4, 9, 2, 1, 4, 6, 5, 6, 5, 7, 2, 2, 1, 1, 1, 1, 1, 1, 5, 6, 1, 6, 10, 2, 1, 4, 1, 1, 1, 1, 1, 1, 1, 1, 1, 1, 1, 20, 1, 1, 1, 1, 9, 1, 1, 1, 1, 1, 1, 1, 1, 1, 1, 1, 1, 1, 1, 1, 1, 2, 1, 1, 1, 1, 4, 3, 1, 1, 1, 1, 1, 1, 1, 1, 1, 1, 1, 1, 1, 1, 1, 1, 1, 2, 1, 1, 1, 1, 1, 1, 1, 1, 1, 1, 1, 1, 1, 1, 1, 1, 1, 1, 1, 1, 1, 1, 1, 1, 1, 1, 1, 2, 1, 1, 1, 1, 1, 1, 1, 1, 1, 1, 1, 1, 1, 1, 1, 1, 1, 1, 1, 1, 1, 1, 1, 1, 1, 1, 1, 1, 1, 1, 1, 1, 1, 1, 1, 1, 1, 1, 1, 1, 1, 1, 1, 1, 2, 2, 7, 1, 1, 1, 7, 1, 7, 13, 1, 1, 2, 1, 2, 1, 1, 1, 2, 3, 3, 1, 2, 2, 2, 2, 2, 2, 4, 6, 1, 11, 6, 2, 4, 2, 2, 2, 2, 2, 7, 4, 15, 1, 2, 2, 1, 1, 1, 1, 1, 1, 23, 7, 1, 1, 1, 4, 1, 2, 1, 1, 1, 4, 3, 3, 8, 4, 1, 13, 5, 9, 8, 5, 4, 9, 2, 1, 1, 1, 1, 1, 1, 3, 1, 1, 3, 1, 2, 10, 11, 4, 3, 11, 2, 6, 2, 3, 3, 2, 2, 2, 1, 1, 3, 6, 1, 7, 3, 1, 5, 1, 8, 2, 2, 2, 1, 2, 1, 3, 1, 4, 7, 2, 1, 1, 2, 5, 1, 1, 1, 3, 1, 2, 1, 1, 1, 3, 3, 1, 13, 13, 3, 1, 1, 4, 2, 1, 8, 1, 3, 3, 1, 1, 1, 2, 2, 2, 16, 4, 1, 1, 2, 1, 1, 2, 2, 2, 1, 2, 2, 2, 1, 1, 1, 1, 1, 1, 1, 1, 1, 1, 1, 12, 2, 1, 2, 18, 1, 3, 3, 3, 3, 3, 3, 5, 6, 3, 1, 10, 8, 6, 3, 2, 8, 1, 1, 3, 2, 1, 1, 2, 3, 2, 2, 1, 1, 1, 1, 2, 2, 2, 7, 4, 2, 2, 2, 2, 4, 6, 4, 5, 5, 2, 4, 4, 5, 3, 2, 2, 2, 3, 3, 2, 1, 1, 2, 3, 1, 1, 3, 1, 1, 5, 3, 4, 10, 1, 1, 1, 1, 1, 1, 1, 1, 1, 1, 1, 1, 1, 1, 1, 1, 1, 1, 1, 1, 1, 1, 1, 1, 2, 2, 2, 2, 2, 2, 3, 2, 4, 1, 1, 2, 1, 1, 1, 1, 1, 1, 1, 1, 1, 1, 1, 1, 1, 1, 1, 1, 1, 1, 1, 2, 1, 1, 4, 4, 1, 1, 1, 1, 1, 1, 1, 1, 1, 1, 1, 1, 1, 1, 1, 1, 1, 1, 1, 1, 1, 1, 4, 2, 1, 4, 3, 1, 2, 1, 2, 3, 3, 1, 2, 2, 2, 2, 6, 2, 2, 2, 2, 2, 1, 1, 1, 1, 1, 1, 1, 1, 1, 1, 1, 1, 1, 1, 1, 1, 1, 1, 1, 1, 1, 1, 1, 5, 4, 1, 1, 1, 1, 1, 1, 1, 1, 1, 1, 1, 1, 1, 1, 1, 1, 1, 1, 1, 1, 1, 1, 1, 1, 1, 1, 1, 1, 1, 1, 1, 1, 1, 1, 1, 1, 1, 1, 1, 1, 1, 1, 1, 1, 1, 1, 1, 1, 3, 2, 1, 1, 1, 1, 1, 1, 1, 1, 1, 1, 1, 1, 1, 1, 1, 1, 1, 1, 1, 1, 1, 1, 1, 1, 1, 1, 1, 1, 1, 1, 4, 2, 1, 1, 1, 1, 1, 1, 1, 1, 1, 1, 1, 1, 2, 2, 1, 1, 1, 1, 1, 1, 1, 1, 1, 1, 4, 1, 1, 1, 1, 1, 1, 1, 1, 1, 1, 1, 1, 1, 1, 1, 1, 1, 1, 2, 1, 1, 3, 3, 4, 7, 6, 1, 1, 1, 1, 1, 1, 1, 1, 1, 1, 1, 1, 1, 1, 1, 1, 1, 3, 4, 6, 2, 2, 2, 1, 2, 2, 2, 3, 3, 2, 2, 2, 1, 2, 1, 1, 1, 1, 1, 1, 1, 1, 2, 1, 1, 1, 2, 1, 1, 1, 1, 1, 1, 2, 2, 2, 1, 1, 3, 1, 1, 1, 1, 2, 1, 1, 2, 1, 1, 1, 1, 1, 1, 1, 1, 1, 1, 1, 1, 1, 1, 1, 1, 1, 1, 1, 1, 1, 1, 1, 1, 1, 1, 1, 1, 1, 1, 1, 1, 1, 1, 2, 2, 2, 2, 1, 1, 2, 1, 1, 1, 1, 1, 1, 1, 1, 1, 1, 1, 1, 3, 1, 1, 2, 1, 1, 1, 1, 1, 1, 1, 1, 1, 1, 1, 1, 1, 1, 1, 1, 1, 1, 1, 1, 1, 1, 1, 1, 1, 1, 1, 1, 1, 2, 2, 1, 2, 1, 2, 1, 1, 2, 1, 1, 1, 1, 1, 1, 1, 1, 2, 2, 4, 1, 1, 1, 1, 1, 1, 1, 1, 1, 1, 1, 1, 1, 1, 1, 1, 1, 2, 2, 2, 1, 1, 1, 7, 7, 2, 1, 1, 1, 3, 1, 1, 1, 1, 3, 1, 1, 1, 1, 2, 1, 3, 3, 1, 1, 1, 1, 1, 1, 1, 1, 1, 1, 1, 1, 1, 1, 1, 2, 2, 1, 2, 1, 2, 2, 2, 1, 1, 1, 1, 1, 1, 2, 1, 2, 1, 1, 2, 1, 1, 1, 1, 1, 1, 1, 1, 1, 1, 1, 1, 1, 1, 1, 1, 1, 1, 1, 1, 1, 1, 1, 1, 1, 1, 1, 1, 1, 1, 1, 1, 1, 2, 2, 1, 2, 1, 1, 1, 1, 1, 1, 1, 1, 1, 1, 1, 1, 1, 1, 1, 1, 3, 2, 1, 1, 1, 1, 1, 1, 1, 1, 1, 1, 1, 1, 1, 1, 1, 1, 1, 1, 1, 2, 1, 2, 2, 1, 1, 1, 1, 1, 1, 1, 1, 1, 1, 2, 1, 2, 1, 1, 1, 1, 1, 2, 1, 1, 1, 1, 1, 1, 1, 1, 1, 1, 1, 1, 1, 1, 1, 1, 1, 1, 1, 1, 1, 2, 1, 2, 1, 1, 1, 1, 1, 1, 1, 1, 1, 1, 1, 1, 2, 2, 1, 1, 1, 1, 1, 1, 1, 1, 1, 1, 1, 1, 1, 1, 2, 1, 4, 1, 1, 1, 1, 1, 4, 1, 1, 1, 1, 1, 1, 1, 2, 2, 1, 1, 1, 1, 1, 1, 1, 1, 2, 1, 1, 1, 1, 1, 1, 2, 1, 1, 1, 1, 1, 1, 1, 1, 1, 1, 1, 1, 1, 1, 1, 1, 1, 1, 1, 1, 1, 1, 1, 1, 1, 1, 1, 1, 1, 1, 1, 1, 1, 1, 1, 1, 1, 1, 1, 1, 1, 2, 1, 1, 1, 1, 1, 1, 1, 1, 1, 1, 1, 1, 1, 1, 1, 1, 1, 1, 1, 1, 1, 1, 1, 1, 1, 1, 1, 1, 1, 1, 1, 1, 1, 1, 1, 1, 1, 1, 2, 1, 1, 2, 1, 1, 1, 1, 1, 1, 1, 1, 1, 1, 1, 1, 1, 1, 1, 1, 1, 1, 1, 1, 1, 1, 1, 1, 1, 1, 1, 1, 1, 1, 1, 1, 1, 1, 1, 1, 1, 1, 1, 1, 1, 1, 1, 1, 1, 1, 1, 1, 1, 1, 1, 1, 1, 1, 1, 1, 1, 1, 1, 1, 1, 1, 1, 1, 1, 1, 1, 1, 1, 1, 1, 1, 1, 1, 1, 1, 1, 1, 1, 1, 1, 1, 1, 1, 3, 2, 2, 2, 2, 2, 2, 2, 2, 2, 1, 1, 1, 1, 1, 1, 2, 2, 1, 1, 1, 2, 2, 2, 1, 1, 2, 2, 2, 1, 1, 1, 1, 1, 1, 1, 1, 1, 1, 1, 1, 1, 1, 1, 1, 1, 1, 1, 1, 1, 1, 1, 1, 1, 1, 1, 1, 1, 1, 1, 1, 1, 1, 1, 1, 1, 1, 1, 1, 1, 1, 1, 1, 1, 1, 1, 1]\n"
     ]
    }
   ],
   "source": [
    "# menentukan nilai max antara 1 dengan nilai nij aksen\n",
    "max_numerator = []\n",
    "for i in range(len(nij_aksen)):\n",
    "    temp = 0\n",
    "    temp = max(1, nij_aksen[i])\n",
    "    max_numerator.append(temp)\n",
    "print(max_numerator)"
   ]
  },
  {
   "cell_type": "code",
   "execution_count": 33,
   "id": "b5fc43b9",
   "metadata": {},
   "outputs": [
    {
     "name": "stdout",
     "output_type": "stream",
     "text": [
      "[0.30103, 0.45332, 0.30103, 0.31702, 0.31175, 0.43136, 0.77815, 0.47712, 0.49732, 0.30103, 0.30103, 0.30103, 0.35751, 0.39794, 0.31876, 0.30103, 0.52288, 0.52863, 0.30103, 0.30103, 0.47712, 0.32847, 0.30103, 0.30103, 0.30103, 0.30103, 0.30103, 0.30103, 0.30103, 0.31876, 0.30103, 0.31527, 0.47712, 0.83251, 0.30103, 0.30103, 0.32222, 0.36798, 0.30103, 0.30103, 0.30103, 0.35428, 0.3287, 0.30103, 0.30103, 0.59563, 0.30103, 0.30103, 0.30103, 0.42597, 0.30103, 0.30103, 0.3093, 0.30103, 0.30476, 0.97564, 0.30103, 0.30103, 0.49236, 0.30103, 0.30103, 0.30103, 0.69897, 0.37196, 0.30103, 0.30103, 0.30103, 0.30103, 0.30103, 0.30103, 0.30103, 0.30103, 0.30103, 0.30103, 0.30103, 0.30103, 0.30103, 0.31231, 0.30103, 0.34054, 0.30103, 0.69897, 0.69897, 1.17609, 0.36597, 0.73239, 1.13033, 0.90309, 0.51953, 0.85387, 0.88461, 0.47712, 0.34845, 0.30103, 0.30103, 0.30103, 0.35902, 0.40056, 0.30381, 0.30103, 0.32968, 0.52288, 0.30103, 0.39794, 0.30103, 0.69897, 0.60206, 0.30103, 0.36798, 1.23045, 0.30103, 0.51188, 0.30103, 0.30103, 0.36798, 0.30103, 0.30103, 0.30103, 0.30103, 0.33041, 0.35902, 0.35218, 0.30103, 0.36798, 0.40457, 0.30103, 0.30103, 0.47712, 0.30103, 0.33321, 0.39794, 0.30103, 0.31125, 0.52681, 0.46852, 0.30103, 0.92942, 0.30103, 0.30103, 0.30103, 0.30103, 0.30103, 0.30103, 0.30103, 0.30103, 0.30103, 0.39794, 0.30103, 0.30103, 0.30103, 0.30103, 0.30103, 0.31079, 0.33579, 0.31627, 0.35218, 0.38535, 0.38021, 0.30103, 0.47712, 0.36798, 0.30103, 0.30103, 0.39794, 0.60206, 0.30103, 0.30103, 0.30103, 0.54407, 0.30103, 0.30103, 0.30103, 0.41218, 0.30103, 0.30103, 0.37358, 0.30103, 0.30963, 0.47712, 0.30103, 0.30103, 0.34242, 0.49485, 0.30103, 0.30103, 0.30103, 0.30103, 0.52494, 0.77815, 0.69897, 0.60206, 0.47712, 0.60206, 0.54407, 0.47712, 0.37566, 0.30103, 0.30103, 0.36798, 0.30103, 0.30798, 0.30103, 0.38185, 0.30103, 0.30103, 0.42597, 0.30103, 0.30103, 0.30103, 0.30103, 0.30103, 0.47712, 0.30103, 1.12494, 1.61278, 0.30103, 0.30103, 0.32222, 0.30103, 0.47712, 0.30103, 0.30103, 0.30103, 0.30103, 0.30103, 0.33579, 0.30103, 0.30103, 0.30103, 0.30103, 0.30103, 0.30103, 0.30103, 0.30103, 0.30103, 0.35218, 0.30103, 0.30103, 0.30103, 0.41017, 0.30103, 0.30103, 0.30103, 0.30103, 0.30103, 0.30103, 0.30103, 0.43933, 0.30103, 0.30103, 0.36798, 0.30103, 0.30103, 0.30103, 0.30103, 0.30103, 0.39121, 0.30103, 0.30103, 0.4523, 0.30103, 0.36798, 0.30103, 0.30103, 0.37566, 0.5477, 0.69897, 1.0, 0.87506, 1.59106, 0.69897, 1.04139, 0.60206, 0.34242, 0.60206, 0.47712, 0.47712, 0.47712, 0.47712, 0.47712, 0.47712, 0.47712, 0.47712, 0.60206, 0.47712, 0.47712, 0.47712, 0.47712, 0.47712, 0.47712, 0.47712, 0.47712, 0.47712, 0.47712, 0.30103, 0.30103, 0.30103, 0.30103, 0.30103, 0.30103, 0.36798, 0.30103, 0.30103, 0.30103, 0.30103, 0.30103, 0.39794, 0.30103, 0.30103, 0.30103, 0.30103, 0.30103, 0.30103, 0.45593, 0.30103, 0.30103, 0.30103, 0.30103, 0.30103, 0.30103, 0.94201, 0.30103, 0.30103, 0.30103, 0.30103, 0.30103, 0.30103, 0.30103, 0.30103, 0.30103, 0.30103, 0.30103, 0.30103, 0.30103, 0.30103, 0.30103, 0.34679, 0.30103, 0.34988, 0.47712, 0.30103, 0.30103, 0.30103, 0.30103, 0.30103, 0.30103, 0.30103, 0.30103, 0.30103, 0.30103, 0.30103, 0.30103, 0.30103, 0.30103, 1.04139, 0.47712, 0.60206, 0.47712, 0.69897, 0.47712, 0.47712, 0.90309, 0.47712, 0.31362, 0.30103, 0.30103, 0.39794, 0.30103, 0.30103, 0.30103, 0.30103, 0.30103, 0.33099, 0.30103, 0.30103, 0.30103, 0.30103, 0.34242, 0.30103, 0.47712, 0.47712, 0.47712, 1.04139, 0.60206, 0.45593, 0.47712, 0.82391, 0.69897, 1.04139, 0.47712, 0.90309, 0.47712, 0.30103, 0.74036, 0.30103, 0.8451, 0.30103, 0.30103, 0.30103, 0.43933, 0.30103, 0.30103, 0.49485, 0.30103, 0.30103, 0.39794, 0.60206, 0.30103, 0.30103, 0.30103, 0.30103, 0.30103, 0.30103, 0.30103, 0.30103, 0.3928, 0.30103, 0.30103, 0.81291, 1.43136, 0.56427, 1.32222, 1.25527, 0.69897, 0.60206, 0.60206, 0.69897, 0.65321, 0.90309, 0.69897, 0.47712, 1.14613, 1.04139, 0.97004, 0.47712, 0.47712, 0.30103, 0.35218, 0.30103, 0.30103, 0.30103, 0.30103, 0.30103, 0.30103, 0.30103, 0.30103, 0.30103, 0.39794, 0.39794, 0.47712, 0.47712, 0.39794, 0.47712, 0.47712, 0.34242, 0.47712, 0.47712, 0.47712, 0.47712, 0.39794, 0.47712, 0.47712, 0.47712, 1.04139, 0.47712, 0.77815, 0.60206, 0.60206, 0.61979, 0.47712, 0.47712, 1.11394, 0.30103, 0.30103, 0.30103, 0.30103, 0.30103, 0.30103, 0.69897, 0.30103, 0.30103, 0.30103, 0.47712, 0.47712, 0.47712, 0.47712, 0.4437, 0.60206, 0.93785, 0.47712, 0.77815, 0.47712, 0.69897, 0.47712, 0.47712, 0.47712, 0.90309, 0.47712, 0.47712, 0.69897, 0.47712, 0.8451, 0.31742, 0.69897, 0.47712, 0.47712, 0.52288, 0.47712, 0.47712, 0.30103, 0.30103, 0.35218, 0.30103, 0.30103, 0.30103, 0.30103, 0.30103, 0.30103, 0.30103, 0.30103, 0.32736, 0.30103, 0.30103, 0.30103, 0.45364, 0.30103, 0.30103, 0.36798, 0.30103, 0.30103, 0.30103, 0.47712, 0.32222, 0.30103, 0.30103, 0.30103, 0.30103, 0.30103, 0.34523, 0.30103, 0.30103, 0.30103, 0.30103, 0.30103, 0.30103, 0.30103, 0.30103, 0.30103, 0.30103, 0.30103, 0.30103, 0.30103, 0.56427, 0.30103, 0.47712, 0.30103, 0.30103, 0.727, 0.30103, 0.30103, 0.30103, 0.30103, 0.30103, 0.54407, 0.30103, 0.30103, 0.30103, 0.30103, 0.69897, 0.47712, 0.47712, 0.60206, 0.30103, 0.30103, 0.30103, 0.30103, 0.36798, 0.34242, 0.30103, 0.30103, 0.30103, 0.30103, 0.30103, 0.30103, 0.30103, 0.30103, 0.30103, 0.30103, 0.47712, 0.60206, 0.90309, 0.52288, 0.47712, 0.69897, 0.65321, 0.8451, 0.47712, 0.77815, 0.60206, 0.60206, 0.47712, 0.37067, 0.47712, 0.90309, 0.39794, 0.63682, 0.30103, 0.30103, 0.47712, 0.30103, 0.30103, 0.30103, 0.30103, 0.30103, 0.30103, 0.30103, 0.30103, 0.30103, 0.30103, 0.30103, 0.30103, 0.30103, 0.68425, 0.30103, 0.47712, 0.30103, 0.30103, 0.30103, 0.30103, 0.30103, 0.30103, 0.30103, 0.30103, 0.30103, 0.30103, 0.30103, 0.30103, 0.30103, 0.30103, 0.30103, 0.30103, 0.33099, 0.30103, 0.30103, 0.30103, 0.30103, 0.30103, 0.30103, 0.30103, 0.30103, 0.30103, 0.30103, 0.42597, 0.47712, 0.47712, 0.60206, 0.69897, 0.47712, 0.30103, 0.30103, 0.33099, 0.30103, 0.30103, 0.30103, 0.30103, 0.30103, 0.30103, 0.30103, 0.30103, 0.47712, 0.47712, 0.47712, 0.47712, 0.60206, 0.69897, 0.38021, 0.47712, 0.47712, 0.60206, 0.47712, 0.47712, 0.47712, 0.47712, 0.47712, 0.47712, 0.39794, 0.47712, 0.30103, 0.30103, 0.30103, 0.30103, 0.42597, 0.30103, 0.30103, 0.30103, 0.30103, 0.30103, 0.30103, 0.30103, 0.30103, 0.30103, 0.30103, 0.30103, 0.30103, 0.30103, 0.30103, 0.30103, 0.30103, 0.30103, 0.30103, 0.30103, 0.33099, 0.30103, 0.30103, 0.30103, 0.30103, 0.30103, 0.30103, 0.30103, 0.30103, 0.30103, 0.30103, 0.30103, 0.95424, 0.30103, 0.30103, 0.30103, 0.30103, 0.30103, 0.30103, 0.30103, 0.30103, 0.30103, 0.30103, 0.30103, 0.30341, 0.31243, 0.30103, 0.90309, 0.77815, 0.69897, 0.77815, 0.69897, 0.77815, 0.69897, 0.8451, 0.47712, 1.04139, 0.47712, 0.47712, 0.47712, 0.47712, 0.47712, 0.47712, 1.11394, 0.60206, 0.60206, 0.77815, 0.60206, 0.60206, 0.39794, 0.90309, 0.30103, 0.69897, 0.30103, 0.30103, 0.30103, 0.30103, 0.30103, 0.60206, 0.69897, 0.69897, 0.69897, 0.47712, 0.69897, 0.60206, 0.30103, 0.30103, 0.30103, 0.30103, 0.30103, 0.47712, 0.30103, 0.39794, 0.32222, 0.30103, 0.30103, 0.43933, 0.32451, 0.30103, 0.30103, 0.30103, 0.42597, 0.30103, 0.39794, 0.30103, 0.35902, 0.30103, 0.30103, 0.69897, 0.60206, 0.47712, 0.47712, 0.60206, 0.47712, 0.34242, 0.30103, 0.30103, 0.30103, 0.30103, 0.30103, 0.30103, 0.30103, 0.60206, 0.60206, 0.30103, 0.30103, 0.30103, 0.30103, 0.69897, 0.69897, 1.04139, 0.8451, 0.60206, 0.36173, 0.60206, 0.60206, 0.60206, 0.90309, 0.38818, 0.60206, 0.60206, 1.23045, 0.90309, 0.69897, 0.69897, 0.69897, 0.60206, 0.8451, 0.60206, 0.69897, 0.69897, 0.60206, 0.60206, 0.90309, 0.60206, 0.30103, 0.30103, 0.30103, 0.30103, 0.30103, 0.30103, 0.30103, 0.30103, 0.30103, 0.47712, 0.47712, 0.47712, 0.47712, 0.47712, 0.47712, 0.47712, 0.47712, 0.47712, 0.47712, 0.47712, 0.47712, 0.47712, 0.47712, 0.47712, 0.54407, 0.77815, 0.47712, 0.47712, 0.47712, 0.47712, 0.47712, 0.47712, 0.60206, 0.60206, 0.60206, 0.60206, 0.60206, 0.60206, 0.47712, 0.90309, 0.60206, 0.47712, 0.60206, 0.60206, 0.47712, 0.47712, 0.47712, 0.47712, 0.47712, 0.69897, 0.47712, 0.77815, 0.54407, 0.69897, 0.90309, 0.77815, 0.69897, 0.77815, 0.47712, 0.47712, 0.47712, 0.47712, 0.69897, 0.8451, 0.47712, 0.47712, 0.60206, 0.47712, 0.47712, 0.47712, 0.47712, 0.47712, 0.60206, 0.8451, 0.47712, 0.47712, 0.47712, 0.69897, 0.47712, 0.77815, 0.47712, 0.47712, 0.47712, 0.47712, 0.47712, 0.47712, 0.69897, 0.47712, 0.47712, 0.60206, 0.47712, 0.60206, 0.60206, 0.47712, 0.60206, 0.47712, 0.47712, 0.30103, 0.30103, 0.30103, 0.30103, 0.30103, 0.30103, 0.30103, 0.30103, 0.30103, 0.30103, 0.30103, 0.30103, 0.30103, 0.30103, 0.30103, 0.30103, 0.30103, 0.30103, 0.30103, 0.30103, 0.30103, 0.30103, 0.30103, 0.30103, 0.30103, 0.30103, 0.30103, 0.30103, 0.30103, 0.33579, 0.30103, 0.30103, 0.33579, 0.30103, 0.30103, 0.30103, 0.30103, 0.30103, 0.30103, 0.30103, 0.30103, 0.30103, 0.30103, 0.30103, 0.30103, 0.30103, 0.30103, 0.30103, 0.30103, 0.30103, 0.30103, 0.30103, 0.31037, 0.30103, 0.30103, 0.30103, 0.30103, 0.30103, 0.47712, 0.30103, 0.30103, 0.30103, 0.30103, 0.30103, 0.30103, 0.30103, 0.30103, 0.30103, 0.30103, 0.30103, 0.30103, 0.32451, 0.30103, 0.30103, 0.30103, 0.30103, 0.30103, 0.30103, 0.30103, 0.30103, 0.30103, 0.30103, 0.30103, 0.30103, 0.30103, 0.30103, 0.30103, 0.30103, 0.30103, 0.30103, 0.30103, 0.30103, 0.30103, 0.30103, 0.30103, 0.33579, 0.30103, 0.30103, 0.30103, 0.30103, 0.30103, 0.30103, 0.30103, 0.30103, 0.30103, 0.30103, 0.30103, 0.33099, 0.42597, 0.30103, 0.34242, 0.30103, 0.30103, 0.30103, 0.30103, 0.30103, 0.30103, 0.30103, 0.30103, 0.30103, 0.30103, 0.30103, 0.30103, 0.30103, 0.30103, 0.30103, 0.30103, 0.30103, 0.30103, 0.30103, 0.30103, 0.36798, 0.30103, 0.30103, 0.30103, 0.30103, 0.30103, 0.30103, 0.30103, 0.30103, 0.30103, 0.30103, 0.30103, 0.30103, 0.30103, 0.30103, 0.30103, 0.30103, 0.30103, 0.30103, 0.30103, 0.30103, 0.30103, 0.30103, 0.30103, 0.30103, 0.30103, 0.30103, 0.30103, 0.30103, 0.47712, 0.30103, 0.30103, 0.30103, 0.30103, 0.30103, 0.30103, 0.30103, 0.30103, 0.30103, 0.30103, 0.30103, 0.47712, 0.47712, 0.47712, 0.47712, 0.47712, 0.47712, 0.47712, 0.47712, 0.47712, 0.47712, 0.8451, 0.33579, 0.39794, 0.77815, 0.30103, 0.30103, 0.47712, 0.30103, 0.30103, 0.30103, 0.30103, 0.30103, 0.30103, 0.30103, 0.30103, 0.30103, 0.30103, 0.38021, 0.30103, 0.30103, 0.30103, 0.30103, 0.30103, 0.30103, 0.47712, 0.30103, 0.69897, 0.69897, 0.30103, 0.30103, 0.30103, 0.30103, 0.30103, 0.30103, 0.30103, 0.30103, 0.30103, 0.30103, 0.30103, 0.39794, 0.30103, 0.30103, 0.30103, 0.30103, 0.30103, 0.30103, 0.30103, 0.30103, 0.30103, 0.30103, 0.30103, 0.30103, 0.35218, 0.30103, 0.30103, 0.30103, 0.30103, 0.30103, 0.30103, 0.30103, 0.36798, 0.30103, 0.30103, 0.30103, 0.30103, 0.42597, 0.30103, 0.30103, 0.30103, 0.30103, 0.30103, 0.30103, 0.36798, 0.35218, 0.32222, 0.47712, 0.47712, 0.60206, 0.47712, 0.47712, 0.47712, 0.47712, 0.47712, 0.47712, 0.47712, 0.47712, 0.47712, 0.47712, 0.47712, 0.47712, 0.47712, 0.47712, 0.47712, 0.47712, 0.60206, 0.69897, 0.47712, 0.47712, 0.47712, 0.30103, 0.30103, 0.30103, 0.30103, 0.30103, 0.30103, 0.30103, 0.30103, 0.30103, 0.30103, 0.30103, 0.30103, 0.30103, 0.30103, 0.30103, 0.30103, 0.30103, 0.47712, 0.47712, 0.47712, 0.47712, 0.47712, 0.47712, 0.47712, 0.60206, 0.47712, 0.30103, 0.30103, 0.30103, 0.30103, 0.30103, 0.30103, 0.30103, 0.30103, 0.30103, 0.30103, 0.47712, 0.47712, 0.47712, 0.47712, 0.47712, 0.60206, 0.47712, 0.47712, 1.0, 0.47712, 0.47712, 0.47712, 0.47712, 0.47712, 0.60206, 0.47712, 0.60206, 0.47712, 0.47712, 0.47712, 0.47712, 0.47712, 0.30103, 0.30103, 0.30103, 0.30103, 0.30103, 0.30103, 0.30103, 0.30103, 0.30103, 0.30103, 0.30103, 0.30103, 0.30103, 0.30103, 0.30103, 0.30103, 0.30103, 0.30103, 0.47712, 0.30103, 0.30103, 0.30103, 0.30103, 0.47712, 0.47712, 0.47712, 0.47712, 0.47712, 0.47712, 0.47712, 0.47712, 0.47712, 0.47712, 0.47712, 0.47712, 0.47712, 0.47712, 0.47712, 0.47712, 0.60206, 0.47712, 0.47712, 0.47712, 0.30103, 0.30103, 0.30103, 0.30103, 0.30103, 0.30103, 0.30103, 0.30103, 0.30103, 0.30103, 0.30103, 0.60206, 0.95424, 0.60206, 0.47712, 0.47712, 0.47712, 0.47712, 0.47712, 0.69897, 0.8451, 0.8451, 1.11394, 0.69897, 0.77815, 0.60206, 0.60206, 0.30103, 0.30103, 0.47712, 0.47712, 0.47712, 0.30103, 0.30103, 0.30103, 0.30103, 0.30103, 0.30103, 0.30103, 0.30103, 0.30103, 0.47712, 0.69897, 0.47712, 0.47712, 0.47712, 0.47712, 0.8451, 0.90309, 0.47712, 0.30103, 0.30103, 0.30103, 0.30103, 0.47712, 0.47712, 0.60206, 0.69897, 0.60206, 0.47712, 0.47712, 0.77815, 1.04139, 0.30103, 0.60206, 0.60206, 0.47712, 0.77815, 0.47712, 0.69897, 0.47712, 0.69897, 0.47712, 0.47712, 0.47712, 0.47712, 0.77815, 0.69897, 0.60206, 0.47712, 0.60206, 0.60206, 0.47712, 0.47712, 0.30103, 0.47712, 0.47712, 0.47712, 0.8451, 0.47712, 0.47712, 0.47712, 0.47712, 0.47712, 0.47712, 0.47712, 0.30103, 0.30103, 0.30103, 0.30103, 0.30103, 0.30103, 0.30103, 0.30103, 0.30103, 0.30103, 0.30103, 0.30103, 0.30103, 0.30103, 0.30103, 0.30103, 0.30103, 0.30103, 0.30103, 0.30103, 0.30103, 0.47712, 0.47712, 0.60206, 0.47712, 0.47712, 0.60206, 0.60206, 0.8451, 0.60206, 0.60206, 0.47712, 0.47712, 0.39794, 0.47712, 0.47712, 0.30103, 0.30103, 0.30103, 0.30103, 0.36798, 0.47712, 0.47712, 0.47712, 0.47712, 0.60206, 0.47712, 0.47712, 0.47712, 0.47712, 0.47712, 0.47712, 0.47712, 0.90309, 0.47712, 0.47712, 0.47712, 0.47712, 0.30103, 0.35218, 0.30103, 0.39794, 0.30103, 0.30103, 0.30103, 0.30103, 0.30103, 0.30103, 0.30103, 0.30103, 0.30103, 0.30103, 0.30103, 0.30103, 0.30103, 0.30103, 0.30103, 0.30103, 0.30103, 0.30103, 0.30103, 0.30103, 0.30103, 0.30103, 0.30103, 0.30103, 0.30103, 0.30103, 0.47712, 0.47712, 0.69897, 0.60206, 0.47712, 0.30103, 0.30103, 0.30103, 0.30103, 0.30103, 0.30103, 0.30103, 0.30103, 0.30103, 0.30103, 0.30103, 0.30103, 0.30103, 0.30103, 0.30103, 0.30103, 0.30103, 0.30103, 0.30103, 0.60206, 0.47712, 0.47712, 0.47712, 0.47712, 0.30103, 0.30103, 0.30103, 0.30103, 0.60206, 0.47712, 0.47712, 0.47712, 0.47712, 0.47712, 0.47712, 0.47712, 0.47712, 0.47712, 0.47712, 0.47712, 0.47712, 0.60206, 0.47712, 0.60206, 0.47712, 0.30103, 0.47712, 0.47712, 0.47712, 0.30103, 0.30103, 0.30103, 0.30103, 0.47712, 0.47712, 0.47712, 0.47712, 0.47712, 0.30103, 0.30103, 0.30103, 0.30103, 0.47712, 0.47712, 0.47712, 0.47712, 0.47712, 0.47712, 0.36798, 0.30103, 0.30103, 0.30103, 0.30103, 0.47712, 0.47712, 0.47712, 0.30103, 0.47712, 0.47712, 0.47712, 0.47712, 0.60206, 0.60206, 0.69897, 0.30103, 0.30103, 0.30103, 0.30103, 0.30103, 0.30103, 0.30103, 0.47712, 0.30103, 0.30103, 0.47712, 0.47712, 0.47712, 0.47712, 0.30103, 0.30103, 0.30103, 0.30103, 0.30103, 0.30103, 0.30103, 0.30103, 0.30103, 0.30103, 0.30103, 0.30103, 0.69897, 0.47712, 0.30103, 0.30103, 0.30103, 0.30103, 0.30103, 0.30103, 0.30103, 0.30103, 0.30103, 0.30103, 0.30103, 0.30103, 0.30103, 0.30103, 0.30103, 0.30103, 0.30103, 0.30103, 0.30103, 0.30103, 0.30103, 0.30103, 0.30103, 0.30103, 0.30103, 0.30103, 0.30103, 0.30103, 0.30103, 0.30103, 0.30103, 0.30103, 0.30103, 0.30103, 0.30103, 0.30103, 0.30103, 0.30103, 0.30103, 0.30103, 0.47712, 0.30103, 0.30103, 0.30103, 0.30103, 0.30103, 0.30103, 0.30103, 0.30103, 0.30103, 0.30103, 0.30103, 0.47712, 0.47712, 0.47712, 0.30103, 0.30103, 0.30103, 0.30103, 0.30103, 0.30103, 0.30103, 0.30103, 0.30103, 0.30103, 0.30103, 0.30103, 0.30103, 0.39794, 0.30103, 0.30103, 0.30103, 0.30103, 0.30103, 0.30103, 0.30103, 0.30103, 0.30103, 0.30103, 0.30103, 0.30103, 0.30103, 0.30103, 0.30103, 0.30103, 0.30103, 0.30103, 0.30103, 0.30103, 0.30103, 0.30103, 0.30103, 0.60206, 0.60206, 0.60206, 0.60206, 0.47712, 0.60206, 0.47712, 0.47712, 0.47712, 0.60206, 0.47712, 0.47712, 0.47712, 0.30103, 0.30103, 0.30103, 0.30103, 0.30103, 0.30103, 0.60206, 0.47712, 0.47712, 0.47712, 0.30103, 0.30103, 0.47712, 0.47712, 0.47712, 0.30103, 0.30103, 0.30103, 0.30103, 0.47712, 0.47712, 0.47712, 0.60206, 0.60206, 0.47712, 0.47712, 0.47712, 0.47712, 0.47712, 0.30103, 0.30103, 0.30103, 0.30103, 0.30103, 0.30103, 0.30103, 0.30103, 0.30103, 0.30103, 0.30103, 0.30103, 0.30103, 0.30103, 0.30103, 0.60206, 0.47712, 0.47712, 0.47712, 0.47712, 0.47712, 0.47712, 0.60206, 0.47712, 0.47712, 0.47712, 0.47712, 0.30103, 0.47712, 0.30103, 0.30103, 0.30103, 0.30103, 0.30103, 0.30103, 0.30103, 0.30103, 0.30103, 0.47712, 0.47712, 0.47712, 0.30103, 0.30103, 0.30103, 0.30103, 0.30103, 0.30103, 0.30103, 0.30103, 0.30103, 0.30103, 0.30103, 0.30103, 0.30103, 0.30103, 0.30103, 0.30103, 0.30103, 0.30103, 0.30103, 0.30103, 0.30103, 0.30103, 0.30103, 0.30103, 0.30103, 0.30103, 0.30103, 0.30103, 0.30103, 0.30103, 0.30103, 0.30103, 0.30103, 0.30103, 0.30103, 0.30103, 0.30103, 0.30103, 0.30103, 0.30103, 0.30103, 0.30103, 0.30103, 0.30103, 0.30103, 0.30103, 0.30103, 0.30103, 0.30103, 0.30103, 0.30103, 0.30103, 0.30103, 0.30103, 0.30103, 0.47712, 0.30103, 0.47712, 0.30103, 0.30103, 0.30103, 0.30103, 0.30103, 0.30103, 0.30103, 0.30103, 0.30103, 0.30103, 0.30103, 0.30103, 0.30103, 0.30103, 0.30103, 0.30103, 0.30103, 0.30103, 0.30103, 0.30103, 0.30103, 0.30103, 0.30103, 0.30103, 0.30103, 0.30103, 0.30103, 0.30103, 0.30103, 0.30103, 0.30103, 0.30103, 0.30103, 0.30103, 0.30103, 0.30103, 0.30103, 0.30103, 0.30103, 0.30103, 0.30103, 0.30103, 0.30103, 0.30103, 0.30103, 0.30103, 0.30103, 0.30103, 0.30103, 0.30103, 0.30103, 0.30103, 0.30103, 0.30103, 0.30103, 0.30103, 0.30103, 0.30103, 0.30103, 0.30103, 0.30103, 0.30103, 0.30103, 0.30103, 0.47712, 0.47712, 0.47712, 0.47712, 0.47712, 0.47712, 0.47712, 0.47712, 0.30103, 0.30103, 0.30103, 0.30103, 0.30103, 0.30103, 0.30103, 0.30103, 0.30103, 0.30103, 0.30103, 0.47712, 0.47712, 0.47712, 0.47712, 0.47712, 0.47712, 0.47712, 0.47712, 0.47712, 0.47712, 0.47712, 0.47712, 0.47712, 0.47712, 0.47712, 0.47712, 0.47712, 0.30103, 0.30103, 0.30103, 0.30103, 0.30103, 0.30103, 0.30103, 0.30103, 0.47712, 0.47712, 0.60206, 0.47712, 0.60206, 0.69897, 0.30103, 0.30103, 0.30103, 0.30103, 0.30103, 0.30103, 0.30103, 0.47712, 0.47712, 0.47712, 0.47712, 0.47712, 0.47712, 0.47712, 0.47712, 0.47712, 0.47712, 0.47712, 0.47712, 0.47712, 0.30103, 0.30103, 0.47712, 0.47712, 0.47712, 0.47712, 0.47712, 0.47712, 0.47712, 0.47712, 0.47712, 0.47712, 0.47712, 0.47712, 0.30103, 0.47712, 0.47712, 0.30103, 0.30103, 0.30103, 0.30103, 0.30103, 0.30103, 0.30103, 0.47712, 0.47712, 0.47712, 0.47712, 0.47712, 0.30103, 0.30103, 0.30103, 0.30103, 0.30103, 0.30103, 0.30103, 0.30103, 0.30103, 0.30103, 0.30103, 0.30103, 0.30103, 0.30103, 0.47712, 0.47712, 0.47712, 0.47712, 0.47712, 0.8451, 0.47712, 0.60206, 0.60206, 0.47712, 0.30103, 0.30103, 0.47712, 0.47712, 0.60206, 0.47712, 0.47712, 0.30103, 0.30103, 0.30103, 0.30103, 0.30103, 0.47712, 0.47712, 0.47712, 0.47712, 0.47712, 0.47712, 0.30103, 0.30103, 0.30103, 0.30103, 0.30103, 0.30103, 0.30103, 0.30103, 0.30103, 0.30103, 0.47712, 0.47712, 0.47712, 0.47712, 0.47712, 0.47712, 0.30103, 0.30103, 0.30103, 0.30103, 0.30103, 0.30103, 0.30103, 0.30103, 0.30103, 0.30103, 0.30103, 0.30103, 0.30103, 0.47712, 0.47712, 0.47712, 0.47712, 0.47712, 0.47712, 0.47712, 0.47712, 0.47712, 0.47712, 0.47712, 0.47712, 0.47712, 0.47712, 0.30103, 0.30103, 0.47712, 0.47712, 0.30103, 0.30103, 0.47712, 0.47712, 0.47712, 0.47712, 0.47712, 0.47712, 0.47712, 0.47712, 0.47712, 0.47712, 0.47712, 0.47712, 0.47712, 0.47712, 0.47712, 0.47712, 0.47712, 0.47712, 0.47712, 0.47712, 0.47712, 0.47712, 0.47712, 0.47712, 0.30103, 0.30103, 0.30103, 0.30103]\n"
     ]
    }
   ],
   "source": [
    "# mencari nilai rf\n",
    "rf_list = []\n",
    "for i in range(len(nij)):\n",
    "    temp = 0\n",
    "    temp = math.log10(2 + (nij[i] / max_numerator[i]))\n",
    "    temp = round(temp, 5)\n",
    "    rf_list.append(temp)\n",
    "print(rf_list)"
   ]
  },
  {
   "cell_type": "code",
   "execution_count": 34,
   "id": "663d3317",
   "metadata": {},
   "outputs": [
    {
     "name": "stdout",
     "output_type": "stream",
     "text": [
      "[[0, 1, 0, 0, 0, 0, 1, 0, 0, 0, 0, 0, 0, 0, 0, 0, 1, 1, 0, 0, 0, 0, 0, 0, 0, 0, 0, 0, 0, 0, 0, 0, 0, 0, 0, 0, 0, 0, 0, 0, 0, 0, 0, 0, 0, 0, 0, 0, 0, 0, 0, 0, 0, 0, 0, 1, 0, 0, 0, 0, 0, 0, 0, 0, 0, 0, 0, 0, 0, 0, 0, 0, 0, 0, 0, 0, 0, 0, 0, 0, 0, 1, 1, 1, 1, 1, 1, 1, 1, 1, 1, 1, 0, 0, 0, 0, 0, 0, 0, 0, 0, 0, 0, 0, 0, 0, 0, 0, 0, 0, 0, 0, 0, 0, 0, 0, 0, 0, 0, 0, 0, 0, 0, 0, 0, 0, 0, 0, 0, 0, 0, 0, 0, 0, 0, 0, 0, 0, 0, 0, 0, 0, 0, 0, 0, 0, 0, 0, 0, 0, 0, 0, 0, 0, 0, 0, 0, 0, 0, 0, 0, 0, 0, 0, 0, 0, 0, 0, 0, 0, 0, 0, 0, 0, 0, 0, 0, 0, 0, 0, 0, 0, 0, 0, 0, 0, 0, 0, 0, 0, 0, 0, 0, 0, 0, 0, 0, 0, 0, 0, 0, 0, 0, 0, 0, 0, 0, 0, 0, 0, 0, 0, 0, 0, 0, 0, 0, 0, 0, 0, 0, 0, 0, 0, 0, 0, 0, 0, 0, 0, 0, 0, 0, 0, 0, 0, 0, 0, 0, 0, 0, 0, 0, 0, 0, 0, 0, 0, 0, 0, 0, 0, 0, 0, 0, 0, 0, 0, 0, 0, 0, 0, 0, 0, 0, 0, 0, 0, 0, 0, 0, 0, 0, 0, 0, 0, 0, 0, 0, 0, 0, 0, 0, 0, 0, 0, 0, 0, 0, 0, 0, 0, 0, 0, 0, 0, 0, 0, 0, 0, 0, 0, 0, 0, 0, 0, 0, 0, 0, 0, 0, 0, 0, 0, 0, 0, 0, 0, 0, 0, 0, 0, 0, 0, 0, 0, 0, 0, 0, 0, 0, 0, 0, 0, 0, 0, 0, 0, 0, 0, 0, 0, 0, 0, 0, 0, 0, 0, 0, 0, 0, 0, 0, 0, 0, 0, 0, 0, 0, 0, 0, 0, 0, 0, 0, 0, 0, 0, 0, 0, 0, 0, 0, 0, 0, 0, 0, 0, 0, 0, 0, 0, 0, 0, 0, 0, 0, 0, 0, 0, 0, 0, 0, 0, 0, 0, 0, 0, 0, 0, 0, 0, 0, 0, 0, 0, 0, 0, 0, 0, 0, 0, 0, 0, 0, 0, 0, 0, 0, 0, 0, 0, 0, 0, 0, 0, 0, 0, 0, 0, 0, 0, 0, 0, 0, 0, 0, 0, 0, 0, 0, 0, 0, 0, 0, 0, 0, 0, 0, 0, 0, 0, 0, 0, 0, 0, 0, 0, 0, 0, 0, 0, 0, 0, 0, 0, 0, 0, 0, 0, 0, 0, 0, 0, 0, 0, 0, 0, 0, 0, 0, 0, 0, 0, 0, 0, 0, 0, 0, 0, 0, 0, 0, 0, 0, 0, 0, 0, 0, 0, 0, 0, 0, 0, 0, 0, 0, 0, 0, 0, 0, 0, 0, 0, 0, 0, 0, 0, 0, 0, 0, 0, 0, 0, 0, 0, 0, 0, 0, 0, 0, 0, 0, 0, 0, 0, 0, 0, 0, 0, 0, 0, 0, 0, 0, 0, 0, 0, 0, 0, 0, 0, 0, 0, 0, 0, 0, 0, 0, 0, 0, 0, 0, 0, 0, 0, 0, 0, 0, 0, 0, 0, 0, 0, 0, 0, 0, 0, 0, 0, 0, 0, 0, 0, 0, 0, 0, 0, 0, 0, 0, 0, 0, 0, 0, 0, 0, 0, 0, 0, 0, 0, 0, 0, 0, 0, 0, 0, 0, 0, 0, 0, 0, 0, 0, 0, 0, 0, 0, 0, 0, 0, 0, 0, 0, 0, 0, 0, 0, 0, 0, 0, 0, 0, 0, 0, 0, 0, 0, 0, 0, 0, 0, 0, 0, 0, 0, 0, 0, 0, 0, 0, 0, 0, 0, 0, 0, 0, 0, 0, 0, 0, 0, 0, 0, 0, 0, 0, 0, 0, 0, 0, 0, 0, 0, 0, 0, 0, 0, 0, 0, 0, 0, 0, 0, 0, 0, 0, 0, 0, 0, 0, 0, 0, 0, 0, 0, 0, 0, 0, 0, 0, 0, 0, 0, 0, 0, 0, 0, 0, 0, 0, 0, 0, 0, 0, 0, 0, 0, 0, 0, 0, 0, 0, 0, 0, 0, 0, 0, 0, 0, 0, 0, 0, 0, 0, 0, 0, 0, 0, 0, 0, 0, 0, 0, 0, 0, 0, 0, 0, 0, 0, 0, 0, 0, 0, 0, 0, 0, 0, 0, 0, 0, 0, 0, 0, 0, 0, 0, 0, 0, 0, 0, 0, 0, 0, 0, 0, 0, 0, 0, 0, 0, 0, 0, 0, 0, 0, 0, 0, 0, 0, 0, 0, 0, 0, 0, 0, 0, 0, 0, 0, 0, 0, 0, 0, 0, 0, 0, 0, 0, 0, 0, 0, 0, 0, 0, 0, 0, 0, 0, 0, 0, 0, 0, 0, 0, 0, 0, 0, 0, 0, 0, 0, 0, 0, 0, 0, 0, 0, 0, 0, 0, 0, 0, 0, 0, 0, 0, 0, 0, 0, 0, 0, 0, 0, 0, 0, 0, 0, 0, 0, 0, 0, 0, 0, 0, 0, 0, 0, 0, 0, 0, 0, 0, 0, 0, 0, 0, 0, 0, 0, 0, 0, 0, 0, 0, 0, 0, 0, 0, 0, 0, 0, 0, 0, 0, 0, 0, 0, 0, 0, 0, 0, 0, 0, 0, 0, 0, 0, 0, 0, 0, 0, 0, 0, 0, 0, 0, 0, 0, 0, 0, 0, 0, 0, 0, 0, 0, 0, 0, 0, 0, 0, 0, 0, 0, 0, 0, 0, 0, 0, 0, 0, 0, 0, 0, 0, 0, 0, 0, 0, 0, 0, 0, 0, 0, 0, 0, 0, 0, 0, 0, 0, 0, 0, 0, 0, 0, 0, 0, 0, 0, 0, 0, 0, 0, 0, 0, 0, 0, 0, 0, 0, 0, 0, 0, 0, 0, 0, 0, 0, 0, 0, 0, 0, 0, 0, 0, 0, 0, 0, 0, 0, 0, 0, 0, 0, 0, 0, 0, 0, 0, 0, 0, 0, 0, 0, 0, 0, 0, 0, 0, 0, 0, 0, 0, 0, 0, 0, 0, 0, 0, 0, 0, 0, 0, 0, 0, 0, 0, 0, 0, 0, 0, 0, 0, 0, 0, 0, 0, 0, 0, 0, 0, 0, 0, 0, 0, 0, 0, 0, 0, 0, 0, 0, 0, 0, 0, 0, 0, 0, 0, 0, 0, 0, 0, 0, 0, 0, 0, 0, 0, 0, 0, 0, 0, 0, 0, 0, 0, 0, 0, 0, 0, 0, 0, 0, 0, 0, 0, 0, 0, 0, 0, 0, 0, 0, 0, 0, 0, 0, 0, 0, 0, 0, 0, 0, 0, 0, 0, 0, 0, 0, 0, 0, 0, 0, 0, 0, 0, 0, 0, 0, 0, 0, 0, 0, 0, 0, 0, 0, 0, 0, 0, 0, 0, 0, 0, 0, 0, 0, 0, 0, 0, 0, 0, 0, 0, 0, 0, 0, 0, 0, 0, 0, 0, 0, 0, 0, 0, 0, 0, 0, 0, 0, 0, 0, 0, 0, 0, 0, 0, 0, 0, 0, 0, 0, 0, 0, 0, 0, 0, 0, 0, 0, 0, 0, 0, 0, 0, 0, 0, 0, 0, 0, 0, 0, 0, 0, 0, 0, 0, 0, 0, 0, 0, 0, 0, 0, 0, 0, 0, 0, 0, 0, 0, 0, 0, 0, 0, 0, 0, 0, 0, 0, 0, 0, 0, 0, 0, 0, 0, 0, 0, 0, 0, 0, 0, 0, 0, 0, 0, 0, 0, 0, 0, 0, 0, 0, 0, 0, 0, 0, 0, 0, 0, 0, 0, 0, 0, 0, 0, 0, 0, 0, 0, 0, 0, 0, 0, 0, 0, 0, 0, 0, 0, 0, 0, 0, 0, 0, 0, 0, 0, 0, 0, 0, 0, 0, 0, 0, 0, 0, 0, 0, 0, 0, 0, 0, 0, 0, 0, 0, 0, 0, 0, 0, 0, 0, 0, 0, 0, 0, 0, 0, 0, 0, 0, 0, 0, 0, 0, 0, 0, 0, 0, 0, 0, 0, 0, 0, 0, 0, 0, 0, 0, 0, 0, 0, 0, 0, 0, 0, 0, 0, 0, 0, 0, 0, 0, 0, 0, 0, 0, 0, 0, 0, 0, 0, 0, 0, 0, 0, 0, 0, 0, 0, 0, 0, 0, 0, 0, 0, 0, 0, 0, 0, 0, 0, 0, 0, 0, 0, 0, 0, 0, 0, 0, 0, 0, 0, 0, 0, 0, 0, 0, 0, 0, 0, 0, 0, 0, 0, 0, 0, 0, 0, 0, 0, 0, 0, 0, 0, 0, 0, 0, 0, 0, 0, 0, 0, 0, 0, 0, 0, 0, 0, 0, 0, 0, 0, 0, 0, 0, 0, 0, 0, 0, 0, 0, 0, 0, 0, 0, 0, 0, 0, 0, 0, 0, 0, 0, 0, 0, 0, 0, 0, 0, 0, 0, 0, 0, 0, 0, 0, 0, 0, 0, 0, 0, 0, 0, 0, 0, 0, 0, 0, 0, 0, 0, 0, 0, 0, 0, 0, 0, 0, 0, 0, 0, 0, 0, 0, 0, 0, 0, 0, 0, 0, 0, 0, 0, 0, 0, 0, 0, 0, 0, 0, 0, 0, 0, 0, 0, 0, 0, 0, 0, 0, 0, 0, 0, 0, 0, 0, 0, 0, 0, 0, 0, 0, 0, 0, 0, 0, 0, 0, 0, 0, 0, 0, 0, 0, 0, 0, 0, 0, 0, 0, 0, 0, 0, 0, 0, 0, 0, 0, 0, 0, 0, 0, 0, 0, 0, 0, 0, 0, 0, 0, 0, 0, 0, 0, 0, 0, 0, 0, 0, 0, 0, 0, 0, 0, 0, 0, 0, 0, 0, 0, 0, 0, 0, 0, 0, 0, 0, 0, 0, 0, 0, 0, 0, 0, 0, 0, 0, 0, 0, 0, 0, 0, 0, 0, 0, 0, 0, 0, 0, 0, 0, 0, 0, 0, 0, 0, 0, 0, 0, 0, 0, 0, 0, 0, 0, 0, 0, 0, 0, 0, 0, 0, 0, 0, 0, 0, 0, 0, 0, 0, 0, 0, 0, 0, 0, 0, 0, 0, 0, 0, 0, 0, 0, 0, 0, 0, 0, 0, 0, 0, 0, 0, 0, 0, 0, 0, 0, 0, 0, 0, 0, 0, 0, 0, 0, 0, 0, 0, 0, 0, 0, 0, 0, 0, 0, 0, 0, 0, 0, 0, 0, 0, 0, 0, 0, 0, 0, 0, 0, 0, 0, 0, 0, 0, 0, 0, 0, 0, 0, 0, 0, 0, 0, 0, 0, 0, 0, 0, 0, 0, 0, 0, 0, 0, 0, 0, 0, 0, 0, 0, 0, 0, 0, 0, 0, 0, 0, 0, 0, 0, 0, 0, 0, 0, 0, 0, 0, 0, 0, 0, 0, 0, 0, 0, 0, 0, 0, 0, 0, 0, 0, 0, 0, 0, 0, 0, 0, 0, 0, 0, 0, 0, 0, 0, 0, 0, 0, 0, 0, 0, 0, 0, 0, 0, 0, 0, 0, 0, 0, 0, 0, 0, 0, 0, 0, 0, 0, 0, 0, 0, 0, 0, 0, 0, 0, 0, 0, 0, 0, 0, 0, 0, 0, 0, 0, 0, 0, 0, 0, 0, 0, 0, 0, 0, 0, 0, 0, 0, 0, 0, 0, 0, 0, 0, 0, 0, 0, 0, 0, 0, 0, 0, 0, 0, 0, 0, 0, 0, 0, 0, 0, 0, 0, 0, 0, 0, 0, 0, 0, 0, 0, 0, 0, 0, 0, 0, 0, 0, 0, 0, 0, 0, 0, 0, 0, 0, 0, 0, 0, 0, 0, 0, 0, 0, 0, 0, 0, 0, 0, 0, 0, 0, 0, 0, 0, 0, 0, 0, 0, 0, 0, 0, 0, 0, 0, 0, 0, 0, 0, 0, 0, 0, 0, 0, 0, 0, 0, 0, 0, 0, 0, 0, 0, 0, 0, 0, 0, 0, 0, 0, 0, 0, 0, 0, 0, 0, 0, 0, 0, 0, 0, 0, 0, 0, 0, 0, 0, 0, 0, 0, 0, 0, 0, 0, 0, 0, 0, 0, 0, 0, 0, 0, 0, 0, 0, 0, 0, 0, 0, 0, 0, 0, 0, 0, 0, 0, 0, 0, 0, 0, 0, 0, 0, 0, 0, 0, 0, 0, 0, 0, 0, 0, 0, 0, 0, 0, 0, 0, 0, 0, 0, 0, 0, 0, 0, 0, 0, 0, 0, 0, 0, 0, 0, 0, 0, 0, 0, 0, 0, 0, 0, 0, 0, 0, 0, 0, 0, 0, 0, 0, 0, 0, 0, 0, 0, 0, 0, 0, 0, 0, 0, 0, 0, 0, 0, 0, 0, 0, 0, 0, 0, 0, 0, 0, 0, 0, 0, 0, 0, 0, 0, 0, 0, 0, 0, 0, 0, 0, 0, 0, 0, 0, 0, 0, 0, 0, 0, 0, 0, 0, 0, 0, 0, 0, 0, 0, 0, 0, 0, 0, 0, 0, 0, 0, 0, 0, 0, 0, 0, 0, 0, 0, 0, 0, 0, 0, 0, 0, 0, 0, 0, 0, 0, 0, 0, 0, 0, 0, 0, 0, 0, 1], [0, 1, 0, 0, 0, 0, 0, 0, 0, 0, 0, 0, 0, 0, 0, 0, 1, 1, 0, 0, 0, 0, 0, 0, 0, 0, 0, 0, 0, 0, 0, 0, 0, 0, 0, 0, 0, 0, 0, 0, 0, 0, 0, 0, 0, 0, 0, 0, 0, 0, 0, 0, 0, 0, 0, 0, 0, 0, 1, 0, 0, 0, 0, 0, 0, 0, 0, 0, 0, 0, 0, 0, 0, 0, 0, 0, 0, 0, 0, 1, 0, 0, 0, 1, 0, 0, 0, 0, 0, 1, 0, 0, 0, 0, 0, 0, 0, 0, 0, 0, 0, 0, 0, 0, 0, 0, 0, 0, 0, 0, 0, 0, 0, 0, 0, 0, 0, 0, 0, 0, 0, 0, 0, 0, 0, 0, 0, 0, 0, 0, 0, 0, 0, 0, 0, 0, 0, 0, 0, 0, 0, 0, 0, 0, 0, 0, 0, 0, 0, 0, 0, 0, 0, 0, 0, 0, 0, 0, 0, 0, 0, 0, 0, 0, 0, 0, 0, 0, 0, 0, 0, 0, 0, 0, 0, 0, 0, 0, 0, 0, 0, 0, 0, 0, 0, 0, 0, 1, 1, 1, 1, 1, 1, 1, 1, 0, 0, 0, 0, 0, 0, 0, 0, 0, 0, 0, 0, 0, 0, 0, 0, 0, 0, 0, 0, 0, 0, 0, 0, 0, 0, 0, 0, 0, 0, 0, 0, 0, 0, 0, 0, 0, 0, 0, 0, 0, 0, 0, 0, 0, 0, 0, 0, 0, 0, 0, 0, 0, 0, 0, 0, 0, 0, 0, 0, 0, 0, 0, 0, 0, 0, 0, 0, 0, 0, 0, 0, 0, 0, 0, 0, 0, 0, 0, 0, 0, 0, 0, 0, 0, 0, 0, 0, 0, 0, 0, 0, 0, 0, 0, 0, 0, 0, 0, 0, 0, 0, 0, 0, 0, 0, 0, 0, 0, 0, 0, 0, 0, 0, 0, 0, 0, 0, 0, 0, 0, 0, 0, 0, 0, 0, 0, 0, 0, 0, 0, 0, 0, 0, 0, 0, 0, 0, 0, 0, 0, 0, 0, 0, 0, 0, 0, 0, 0, 0, 0, 0, 0, 0, 0, 0, 0, 0, 0, 0, 0, 0, 0, 0, 0, 0, 0, 0, 0, 0, 0, 0, 0, 0, 0, 0, 0, 0, 0, 0, 0, 0, 0, 0, 0, 0, 0, 0, 0, 0, 0, 0, 0, 0, 0, 0, 0, 0, 0, 0, 0, 0, 0, 0, 0, 0, 0, 0, 0, 0, 0, 0, 0, 0, 0, 0, 0, 0, 0, 0, 0, 0, 0, 0, 0, 0, 0, 0, 0, 0, 0, 0, 0, 0, 0, 0, 0, 0, 0, 0, 0, 0, 0, 0, 0, 0, 0, 0, 0, 0, 0, 0, 0, 0, 0, 0, 0, 0, 0, 0, 0, 0, 0, 0, 0, 0, 0, 0, 0, 0, 0, 0, 0, 0, 0, 0, 0, 0, 0, 0, 0, 0, 0, 0, 0, 0, 0, 0, 0, 0, 0, 0, 0, 0, 0, 0, 0, 0, 0, 0, 0, 0, 0, 0, 0, 0, 0, 0, 0, 0, 0, 0, 0, 0, 0, 0, 0, 0, 0, 0, 0, 0, 0, 0, 0, 0, 0, 0, 0, 0, 0, 0, 0, 0, 0, 0, 0, 0, 0, 0, 0, 0, 0, 0, 0, 0, 0, 0, 0, 0, 0, 0, 0, 0, 0, 0, 0, 0, 0, 0, 0, 0, 0, 0, 0, 0, 0, 0, 0, 0, 0, 0, 0, 0, 0, 0, 0, 0, 0, 0, 0, 0, 0, 0, 0, 0, 0, 0, 0, 0, 0, 0, 0, 0, 0, 0, 0, 0, 0, 0, 0, 0, 0, 0, 0, 0, 0, 0, 0, 0, 0, 0, 0, 0, 0, 0, 0, 0, 0, 0, 0, 0, 0, 0, 0, 0, 0, 0, 0, 0, 0, 0, 0, 0, 0, 0, 0, 0, 0, 0, 0, 0, 0, 0, 0, 0, 0, 0, 0, 0, 0, 0, 0, 0, 0, 0, 0, 0, 0, 0, 0, 0, 0, 0, 0, 0, 0, 0, 0, 0, 0, 0, 0, 0, 0, 0, 0, 0, 0, 0, 0, 0, 0, 0, 0, 0, 0, 0, 0, 0, 0, 0, 0, 0, 0, 0, 0, 0, 0, 0, 0, 0, 0, 0, 0, 0, 0, 0, 0, 0, 0, 0, 0, 0, 0, 0, 0, 0, 0, 0, 0, 0, 0, 0, 0, 0, 0, 0, 0, 0, 0, 0, 0, 0, 0, 0, 0, 0, 0, 0, 0, 0, 0, 0, 0, 0, 0, 0, 0, 0, 0, 0, 0, 0, 0, 0, 0, 0, 0, 0, 0, 0, 0, 0, 0, 0, 0, 0, 0, 0, 0, 0, 0, 0, 0, 0, 0, 0, 0, 0, 0, 0, 0, 0, 0, 0, 0, 0, 0, 0, 0, 0, 0, 0, 0, 0, 0, 0, 0, 0, 0, 0, 0, 0, 0, 0, 0, 0, 0, 0, 0, 0, 0, 0, 0, 0, 0, 0, 0, 0, 0, 0, 0, 0, 0, 0, 0, 0, 0, 0, 0, 0, 0, 0, 0, 0, 0, 0, 0, 0, 0, 0, 0, 0, 0, 0, 0, 0, 0, 0, 0, 0, 0, 0, 0, 0, 0, 0, 0, 0, 0, 0, 0, 0, 0, 0, 0, 0, 0, 0, 0, 0, 0, 0, 0, 0, 0, 0, 0, 0, 0, 0, 0, 0, 0, 0, 0, 0, 0, 0, 0, 0, 0, 0, 0, 0, 0, 0, 0, 0, 0, 0, 0, 0, 0, 0, 0, 0, 0, 0, 0, 0, 0, 0, 0, 0, 0, 0, 0, 0, 0, 0, 0, 0, 0, 0, 0, 0, 0, 0, 0, 0, 0, 0, 0, 0, 0, 0, 0, 0, 0, 0, 0, 0, 0, 0, 0, 0, 0, 0, 0, 0, 0, 0, 0, 0, 0, 0, 0, 0, 0, 0, 0, 0, 0, 0, 0, 0, 0, 0, 0, 0, 0, 0, 0, 0, 0, 0, 0, 0, 0, 0, 0, 0, 0, 0, 0, 0, 0, 0, 0, 0, 0, 0, 0, 0, 0, 0, 0, 0, 0, 0, 0, 0, 0, 0, 0, 0, 0, 0, 0, 0, 0, 0, 0, 0, 0, 0, 0, 0, 0, 0, 0, 0, 0, 0, 0, 0, 0, 0, 0, 0, 0, 0, 0, 0, 0, 0, 0, 0, 0, 0, 0, 0, 0, 0, 0, 0, 0, 0, 0, 0, 0, 0, 0, 0, 0, 0, 0, 0, 0, 0, 0, 0, 0, 0, 0, 0, 0, 0, 0, 0, 0, 0, 0, 0, 0, 0, 0, 0, 0, 0, 0, 0, 0, 0, 0, 0, 0, 0, 0, 0, 0, 0, 0, 0, 0, 0, 0, 0, 0, 0, 0, 0, 0, 0, 0, 0, 0, 0, 0, 0, 0, 0, 0, 0, 0, 0, 0, 0, 0, 0, 0, 0, 0, 0, 0, 0, 0, 0, 0, 0, 0, 0, 0, 0, 0, 0, 0, 0, 0, 0, 0, 0, 0, 0, 0, 0, 0, 0, 0, 0, 0, 0, 0, 0, 0, 0, 0, 0, 0, 0, 0, 0, 0, 0, 0, 0, 0, 0, 0, 0, 0, 0, 0, 0, 0, 0, 0, 0, 0, 0, 0, 0, 0, 0, 0, 0, 0, 0, 0, 0, 0, 0, 0, 0, 0, 0, 0, 0, 0, 0, 0, 0, 0, 0, 0, 0, 0, 0, 0, 0, 0, 0, 0, 0, 0, 0, 0, 0, 0, 0, 0, 0, 0, 0, 0, 0, 0, 0, 0, 0, 0, 0, 0, 0, 0, 0, 0, 0, 0, 0, 0, 0, 0, 0, 0, 0, 0, 0, 0, 0, 0, 0, 0, 0, 0, 0, 0, 0, 0, 0, 0, 0, 0, 0, 0, 0, 0, 0, 0, 0, 0, 0, 0, 0, 0, 0, 0, 0, 0, 0, 0, 0, 0, 0, 0, 0, 0, 0, 0, 0, 0, 0, 0, 0, 0, 0, 0, 0, 0, 0, 0, 0, 0, 0, 0, 0, 0, 0, 0, 0, 0, 0, 0, 0, 0, 0, 0, 0, 0, 0, 0, 0, 0, 0, 0, 0, 0, 0, 0, 0, 0, 0, 0, 0, 0, 0, 0, 0, 0, 0, 0, 0, 0, 0, 0, 0, 0, 0, 0, 0, 0, 0, 0, 0, 0, 0, 0, 0, 0, 0, 0, 0, 0, 0, 0, 0, 0, 0, 0, 0, 0, 0, 0, 0, 0, 0, 0, 0, 0, 0, 0, 0, 0, 0, 0, 0, 0, 0, 0, 0, 0, 0, 0, 0, 0, 0, 0, 0, 0, 0, 0, 0, 0, 0, 0, 0, 0, 0, 0, 0, 0, 0, 0, 0, 0, 0, 0, 0, 0, 0, 0, 0, 0, 0, 0, 0, 0, 0, 0, 0, 0, 0, 0, 0, 0, 0, 0, 0, 0, 0, 0, 0, 0, 0, 0, 0, 0, 0, 0, 0, 0, 0, 0, 0, 0, 0, 0, 0, 0, 0, 0, 0, 0, 0, 0, 0, 0, 0, 0, 0, 0, 0, 0, 0, 0, 0, 0, 0, 0, 0, 0, 0, 0, 0, 0, 0, 0, 0, 0, 0, 0, 0, 0, 0, 0, 0, 0, 0, 0, 0, 0, 0, 0, 0, 0, 0, 0, 0, 0, 0, 0, 0, 0, 0, 0, 0, 0, 0, 0, 0, 0, 0, 0, 0, 0, 0, 0, 0, 0, 0, 0, 0, 0, 0, 0, 0, 0, 0, 0, 0, 0, 0, 0, 0, 0, 0, 0, 0, 0, 0, 0, 0, 0, 0, 0, 0, 0, 0, 0, 0, 0, 0, 0, 0, 0, 0, 0, 0, 0, 0, 0, 0, 0, 0, 0, 0, 0, 0, 0, 0, 0, 0, 0, 0, 0, 0, 0, 0, 0, 0, 0, 0, 0, 0, 0, 0, 0, 0, 0, 0, 0, 0, 0, 0, 0, 0, 0, 0, 0, 0, 0, 0, 0, 0, 0, 0, 0, 0, 0, 0, 0, 0, 0, 0, 0, 0, 0, 0, 0, 0, 0, 0, 0, 0, 0, 0, 0, 0, 0, 0, 0, 0, 0, 0, 0, 0, 0, 0, 0, 0, 0, 0, 0, 0, 0, 0, 0, 0, 0, 0, 0, 0, 0, 0, 0, 0, 0, 0, 0, 0, 0, 0, 0, 0, 0, 0, 0, 0, 0, 0, 0, 0, 0, 0, 0, 0, 0, 0, 0, 0, 0, 0, 0, 0, 0, 0, 0, 0, 0, 0, 0, 0, 0, 0, 0, 0, 0, 0, 0, 0, 0, 0, 0, 0, 0, 0, 0, 0, 0, 0, 0, 0, 0, 0, 0, 0, 0, 0, 0, 0, 0, 0, 0, 0, 0, 0, 0, 0, 0, 0, 0, 0, 0, 0, 0, 0, 0, 0, 0, 0, 0, 0, 0, 0, 0, 0, 0, 0, 0, 0, 0, 0, 0, 0, 0, 0, 0, 0, 0, 0, 0, 0, 0, 0, 0, 0, 0, 0, 0, 0, 0, 0, 0, 0, 0, 0, 0, 0, 0, 0, 0, 0, 0, 0, 0, 0, 0, 0, 0, 0, 0, 0, 0, 0, 0, 0, 0, 0, 0, 0, 0, 0, 0, 0, 0, 0, 0, 0, 0, 0, 0, 0, 0, 0, 0, 0, 0, 0, 0, 0, 0, 0, 0, 0, 0, 0, 0, 0, 0, 0, 0, 0, 0, 0, 0, 0, 0, 0, 0, 0, 0, 0, 0, 0, 0, 0, 0, 0, 0, 0, 0, 0, 0, 0, 0, 0, 0, 0, 0, 0, 0, 0, 0, 0, 0, 0, 0, 0, 0, 0, 0, 0, 0, 0, 0, 0, 0, 0, 0, 0, 0, 0, 0, 0, 0, 0, 0, 0, 0, 0, 0, 0, 0, 0, 0, 0, 0, 0, 0, 0, 0, 0, 0, 0, 0, 0, 0, 0, 0, 0, 0, 0, 0, 0, 0, 0, 0, 0, 0, 0, 0, 0, 0, 0, 0, 0, 0, 0, 0, 0, 0, 0, 0, 0, 0, 0, 0, 0, 0, 0, 0, 0, 0, 0, 0, 0, 0, 0, 0, 0, 0, 0, 0, 0, 0, 0, 0, 0, 0, 0, 0, 0, 0, 0, 0, 0, 0, 0, 0, 0, 0, 0, 0, 0, 0, 0, 0, 0, 0, 0, 0, 0, 0, 0, 0, 0, 0, 0, 0, 0, 0, 0, 0, 0, 0, 0, 0, 0, 0, 0, 0, 0, 0, 0, 0, 0, 0, 0, 0, 0, 0, 0, 0, 0, 0, 0, 0, 0, 0, 0, 0, 0, 0, 0, 0, 0, 0, 0, 0, 0, 0, 0, 0, 0, 0, 0, 0, 0, 0, 0, 0, 0, 0, 0, 0, 0, 0, 0, 0, 0, 0, 0, 0, 0, 0, 0, 0, 0, 0, 0, 0, 0, 0, 0, 0, 0, 0, 0, 0, 0, 0, 0, 0, 0, 0, 0, 0, 0, 0, 0, 0, 0, 0, 0, 0, 0, 0, 0, 0, 0, 0, 0, 0, 0, 0, 0, 0, 0, 0, 0, 0, 0, 0, 0, 0, 0, 0, 0, 0, 0, 0, 0, 0, 0, 0, 0, 0, 0, 0, 0, 0, 0, 0, 0, 0, 0, 0, 0, 0, 0, 0, 0, 0, 0, 1]]\n"
     ]
    }
   ],
   "source": [
    "# menggabungkan nilai tf yg spam dan non\n",
    "tf_forRF = []\n",
    "\n",
    "for i in range(len(tf_spamrf)):\n",
    "    tf_forRF.append(tf_spamrf[i])\n",
    "    \n",
    "for i in range(len(tf_nonrf)):\n",
    "    tf_forRF.append(tf_nonrf[i])\n",
    "    \n",
    "print(tf_forRF[:2])"
   ]
  },
  {
   "cell_type": "code",
   "execution_count": 35,
   "id": "f8aa9299",
   "metadata": {},
   "outputs": [
    {
     "name": "stdout",
     "output_type": "stream",
     "text": [
      "[[0.0, 0.45332, 0.0, 0.0, 0.0, 0.0, 0.77815, 0.0, 0.0, 0.0, 0.0, 0.0, 0.0, 0.0, 0.0, 0.0, 0.52288, 0.52863, 0.0, 0.0, 0.0, 0.0, 0.0, 0.0, 0.0, 0.0, 0.0, 0.0, 0.0, 0.0, 0.0, 0.0, 0.0, 0.0, 0.0, 0.0, 0.0, 0.0, 0.0, 0.0, 0.0, 0.0, 0.0, 0.0, 0.0, 0.0, 0.0, 0.0, 0.0, 0.0, 0.0, 0.0, 0.0, 0.0, 0.0, 0.97564, 0.0, 0.0, 0.0, 0.0, 0.0, 0.0, 0.0, 0.0, 0.0, 0.0, 0.0, 0.0, 0.0, 0.0, 0.0, 0.0, 0.0, 0.0, 0.0, 0.0, 0.0, 0.0, 0.0, 0.0, 0.0, 0.69897, 0.69897, 1.17609, 0.36597, 0.73239, 1.13033, 0.90309, 0.51953, 0.85387, 0.88461, 0.47712, 0.0, 0.0, 0.0, 0.0, 0.0, 0.0, 0.0, 0.0, 0.0, 0.0, 0.0, 0.0, 0.0, 0.0, 0.0, 0.0, 0.0, 0.0, 0.0, 0.0, 0.0, 0.0, 0.0, 0.0, 0.0, 0.0, 0.0, 0.0, 0.0, 0.0, 0.0, 0.0, 0.0, 0.0, 0.0, 0.0, 0.0, 0.0, 0.0, 0.0, 0.0, 0.0, 0.0, 0.0, 0.0, 0.0, 0.0, 0.0, 0.0, 0.0, 0.0, 0.0, 0.0, 0.0, 0.0, 0.0, 0.0, 0.0, 0.0, 0.0, 0.0, 0.0, 0.0, 0.0, 0.0, 0.0, 0.0, 0.0, 0.0, 0.0, 0.0, 0.0, 0.0, 0.0, 0.0, 0.0, 0.0, 0.0, 0.0, 0.0, 0.0, 0.0, 0.0, 0.0, 0.0, 0.0, 0.0, 0.0, 0.0, 0.0, 0.0, 0.0, 0.0, 0.0, 0.0, 0.0, 0.0, 0.0, 0.0, 0.0, 0.0, 0.0, 0.0, 0.0, 0.0, 0.0, 0.0, 0.0, 0.0, 0.0, 0.0, 0.0, 0.0, 0.0, 0.0, 0.0, 0.0, 0.0, 0.0, 0.0, 0.0, 0.0, 0.0, 0.0, 0.0, 0.0, 0.0, 0.0, 0.0, 0.0, 0.0, 0.0, 0.0, 0.0, 0.0, 0.0, 0.0, 0.0, 0.0, 0.0, 0.0, 0.0, 0.0, 0.0, 0.0, 0.0, 0.0, 0.0, 0.0, 0.0, 0.0, 0.0, 0.0, 0.0, 0.0, 0.0, 0.0, 0.0, 0.0, 0.0, 0.0, 0.0, 0.0, 0.0, 0.0, 0.0, 0.0, 0.0, 0.0, 0.0, 0.0, 0.0, 0.0, 0.0, 0.0, 0.0, 0.0, 0.0, 0.0, 0.0, 0.0, 0.0, 0.0, 0.0, 0.0, 0.0, 0.0, 0.0, 0.0, 0.0, 0.0, 0.0, 0.0, 0.0, 0.0, 0.0, 0.0, 0.0, 0.0, 0.0, 0.0, 0.0, 0.0, 0.0, 0.0, 0.0, 0.0, 0.0, 0.0, 0.0, 0.0, 0.0, 0.0, 0.0, 0.0, 0.0, 0.0, 0.0, 0.0, 0.0, 0.0, 0.0, 0.0, 0.0, 0.0, 0.0, 0.0, 0.0, 0.0, 0.0, 0.0, 0.0, 0.0, 0.0, 0.0, 0.0, 0.0, 0.0, 0.0, 0.0, 0.0, 0.0, 0.0, 0.0, 0.0, 0.0, 0.0, 0.0, 0.0, 0.0, 0.0, 0.0, 0.0, 0.0, 0.0, 0.0, 0.0, 0.0, 0.0, 0.0, 0.0, 0.0, 0.0, 0.0, 0.0, 0.0, 0.0, 0.0, 0.0, 0.0, 0.0, 0.0, 0.0, 0.0, 0.0, 0.0, 0.0, 0.0, 0.0, 0.0, 0.0, 0.0, 0.0, 0.0, 0.0, 0.0, 0.0, 0.0, 0.0, 0.0, 0.0, 0.0, 0.0, 0.0, 0.0, 0.0, 0.0, 0.0, 0.0, 0.0, 0.0, 0.0, 0.0, 0.0, 0.0, 0.0, 0.0, 0.0, 0.0, 0.0, 0.0, 0.0, 0.0, 0.0, 0.0, 0.0, 0.0, 0.0, 0.0, 0.0, 0.0, 0.0, 0.0, 0.0, 0.0, 0.0, 0.0, 0.0, 0.0, 0.0, 0.0, 0.0, 0.0, 0.0, 0.0, 0.0, 0.0, 0.0, 0.0, 0.0, 0.0, 0.0, 0.0, 0.0, 0.0, 0.0, 0.0, 0.0, 0.0, 0.0, 0.0, 0.0, 0.0, 0.0, 0.0, 0.0, 0.0, 0.0, 0.0, 0.0, 0.0, 0.0, 0.0, 0.0, 0.0, 0.0, 0.0, 0.0, 0.0, 0.0, 0.0, 0.0, 0.0, 0.0, 0.0, 0.0, 0.0, 0.0, 0.0, 0.0, 0.0, 0.0, 0.0, 0.0, 0.0, 0.0, 0.0, 0.0, 0.0, 0.0, 0.0, 0.0, 0.0, 0.0, 0.0, 0.0, 0.0, 0.0, 0.0, 0.0, 0.0, 0.0, 0.0, 0.0, 0.0, 0.0, 0.0, 0.0, 0.0, 0.0, 0.0, 0.0, 0.0, 0.0, 0.0, 0.0, 0.0, 0.0, 0.0, 0.0, 0.0, 0.0, 0.0, 0.0, 0.0, 0.0, 0.0, 0.0, 0.0, 0.0, 0.0, 0.0, 0.0, 0.0, 0.0, 0.0, 0.0, 0.0, 0.0, 0.0, 0.0, 0.0, 0.0, 0.0, 0.0, 0.0, 0.0, 0.0, 0.0, 0.0, 0.0, 0.0, 0.0, 0.0, 0.0, 0.0, 0.0, 0.0, 0.0, 0.0, 0.0, 0.0, 0.0, 0.0, 0.0, 0.0, 0.0, 0.0, 0.0, 0.0, 0.0, 0.0, 0.0, 0.0, 0.0, 0.0, 0.0, 0.0, 0.0, 0.0, 0.0, 0.0, 0.0, 0.0, 0.0, 0.0, 0.0, 0.0, 0.0, 0.0, 0.0, 0.0, 0.0, 0.0, 0.0, 0.0, 0.0, 0.0, 0.0, 0.0, 0.0, 0.0, 0.0, 0.0, 0.0, 0.0, 0.0, 0.0, 0.0, 0.0, 0.0, 0.0, 0.0, 0.0, 0.0, 0.0, 0.0, 0.0, 0.0, 0.0, 0.0, 0.0, 0.0, 0.0, 0.0, 0.0, 0.0, 0.0, 0.0, 0.0, 0.0, 0.0, 0.0, 0.0, 0.0, 0.0, 0.0, 0.0, 0.0, 0.0, 0.0, 0.0, 0.0, 0.0, 0.0, 0.0, 0.0, 0.0, 0.0, 0.0, 0.0, 0.0, 0.0, 0.0, 0.0, 0.0, 0.0, 0.0, 0.0, 0.0, 0.0, 0.0, 0.0, 0.0, 0.0, 0.0, 0.0, 0.0, 0.0, 0.0, 0.0, 0.0, 0.0, 0.0, 0.0, 0.0, 0.0, 0.0, 0.0, 0.0, 0.0, 0.0, 0.0, 0.0, 0.0, 0.0, 0.0, 0.0, 0.0, 0.0, 0.0, 0.0, 0.0, 0.0, 0.0, 0.0, 0.0, 0.0, 0.0, 0.0, 0.0, 0.0, 0.0, 0.0, 0.0, 0.0, 0.0, 0.0, 0.0, 0.0, 0.0, 0.0, 0.0, 0.0, 0.0, 0.0, 0.0, 0.0, 0.0, 0.0, 0.0, 0.0, 0.0, 0.0, 0.0, 0.0, 0.0, 0.0, 0.0, 0.0, 0.0, 0.0, 0.0, 0.0, 0.0, 0.0, 0.0, 0.0, 0.0, 0.0, 0.0, 0.0, 0.0, 0.0, 0.0, 0.0, 0.0, 0.0, 0.0, 0.0, 0.0, 0.0, 0.0, 0.0, 0.0, 0.0, 0.0, 0.0, 0.0, 0.0, 0.0, 0.0, 0.0, 0.0, 0.0, 0.0, 0.0, 0.0, 0.0, 0.0, 0.0, 0.0, 0.0, 0.0, 0.0, 0.0, 0.0, 0.0, 0.0, 0.0, 0.0, 0.0, 0.0, 0.0, 0.0, 0.0, 0.0, 0.0, 0.0, 0.0, 0.0, 0.0, 0.0, 0.0, 0.0, 0.0, 0.0, 0.0, 0.0, 0.0, 0.0, 0.0, 0.0, 0.0, 0.0, 0.0, 0.0, 0.0, 0.0, 0.0, 0.0, 0.0, 0.0, 0.0, 0.0, 0.0, 0.0, 0.0, 0.0, 0.0, 0.0, 0.0, 0.0, 0.0, 0.0, 0.0, 0.0, 0.0, 0.0, 0.0, 0.0, 0.0, 0.0, 0.0, 0.0, 0.0, 0.0, 0.0, 0.0, 0.0, 0.0, 0.0, 0.0, 0.0, 0.0, 0.0, 0.0, 0.0, 0.0, 0.0, 0.0, 0.0, 0.0, 0.0, 0.0, 0.0, 0.0, 0.0, 0.0, 0.0, 0.0, 0.0, 0.0, 0.0, 0.0, 0.0, 0.0, 0.0, 0.0, 0.0, 0.0, 0.0, 0.0, 0.0, 0.0, 0.0, 0.0, 0.0, 0.0, 0.0, 0.0, 0.0, 0.0, 0.0, 0.0, 0.0, 0.0, 0.0, 0.0, 0.0, 0.0, 0.0, 0.0, 0.0, 0.0, 0.0, 0.0, 0.0, 0.0, 0.0, 0.0, 0.0, 0.0, 0.0, 0.0, 0.0, 0.0, 0.0, 0.0, 0.0, 0.0, 0.0, 0.0, 0.0, 0.0, 0.0, 0.0, 0.0, 0.0, 0.0, 0.0, 0.0, 0.0, 0.0, 0.0, 0.0, 0.0, 0.0, 0.0, 0.0, 0.0, 0.0, 0.0, 0.0, 0.0, 0.0, 0.0, 0.0, 0.0, 0.0, 0.0, 0.0, 0.0, 0.0, 0.0, 0.0, 0.0, 0.0, 0.0, 0.0, 0.0, 0.0, 0.0, 0.0, 0.0, 0.0, 0.0, 0.0, 0.0, 0.0, 0.0, 0.0, 0.0, 0.0, 0.0, 0.0, 0.0, 0.0, 0.0, 0.0, 0.0, 0.0, 0.0, 0.0, 0.0, 0.0, 0.0, 0.0, 0.0, 0.0, 0.0, 0.0, 0.0, 0.0, 0.0, 0.0, 0.0, 0.0, 0.0, 0.0, 0.0, 0.0, 0.0, 0.0, 0.0, 0.0, 0.0, 0.0, 0.0, 0.0, 0.0, 0.0, 0.0, 0.0, 0.0, 0.0, 0.0, 0.0, 0.0, 0.0, 0.0, 0.0, 0.0, 0.0, 0.0, 0.0, 0.0, 0.0, 0.0, 0.0, 0.0, 0.0, 0.0, 0.0, 0.0, 0.0, 0.0, 0.0, 0.0, 0.0, 0.0, 0.0, 0.0, 0.0, 0.0, 0.0, 0.0, 0.0, 0.0, 0.0, 0.0, 0.0, 0.0, 0.0, 0.0, 0.0, 0.0, 0.0, 0.0, 0.0, 0.0, 0.0, 0.0, 0.0, 0.0, 0.0, 0.0, 0.0, 0.0, 0.0, 0.0, 0.0, 0.0, 0.0, 0.0, 0.0, 0.0, 0.0, 0.0, 0.0, 0.0, 0.0, 0.0, 0.0, 0.0, 0.0, 0.0, 0.0, 0.0, 0.0, 0.0, 0.0, 0.0, 0.0, 0.0, 0.0, 0.0, 0.0, 0.0, 0.0, 0.0, 0.0, 0.0, 0.0, 0.0, 0.0, 0.0, 0.0, 0.0, 0.0, 0.0, 0.0, 0.0, 0.0, 0.0, 0.0, 0.0, 0.0, 0.0, 0.0, 0.0, 0.0, 0.0, 0.0, 0.0, 0.0, 0.0, 0.0, 0.0, 0.0, 0.0, 0.0, 0.0, 0.0, 0.0, 0.0, 0.0, 0.0, 0.0, 0.0, 0.0, 0.0, 0.0, 0.0, 0.0, 0.0, 0.0, 0.0, 0.0, 0.0, 0.0, 0.0, 0.0, 0.0, 0.0, 0.0, 0.0, 0.0, 0.0, 0.0, 0.0, 0.0, 0.0, 0.0, 0.0, 0.0, 0.0, 0.0, 0.0, 0.0, 0.0, 0.0, 0.0, 0.0, 0.0, 0.0, 0.0, 0.0, 0.0, 0.0, 0.0, 0.0, 0.0, 0.0, 0.0, 0.0, 0.0, 0.0, 0.0, 0.0, 0.0, 0.0, 0.0, 0.0, 0.0, 0.0, 0.0, 0.0, 0.0, 0.0, 0.0, 0.0, 0.0, 0.0, 0.0, 0.0, 0.0, 0.0, 0.0, 0.0, 0.0, 0.0, 0.0, 0.0, 0.0, 0.0, 0.0, 0.0, 0.0, 0.0, 0.0, 0.0, 0.0, 0.0, 0.0, 0.0, 0.0, 0.0, 0.0, 0.0, 0.0, 0.0, 0.0, 0.0, 0.0, 0.0, 0.0, 0.0, 0.0, 0.0, 0.0, 0.0, 0.0, 0.0, 0.0, 0.0, 0.0, 0.0, 0.0, 0.0, 0.0, 0.0, 0.0, 0.0, 0.0, 0.0, 0.0, 0.0, 0.0, 0.0, 0.0, 0.0, 0.0, 0.0, 0.0, 0.0, 0.0, 0.0, 0.0, 0.0, 0.0, 0.0, 0.0, 0.0, 0.0, 0.0, 0.0, 0.0, 0.0, 0.0, 0.0, 0.0, 0.0, 0.0, 0.0, 0.0, 0.0, 0.0, 0.0, 0.0, 0.0, 0.0, 0.0, 0.0, 0.0, 0.0, 0.0, 0.0, 0.0, 0.0, 0.0, 0.0, 0.0, 0.0, 0.0, 0.0, 0.0, 0.0, 0.0, 0.0, 0.0, 0.0, 0.0, 0.0, 0.0, 0.0, 0.0, 0.0, 0.0, 0.0, 0.0, 0.0, 0.0, 0.0, 0.0, 0.0, 0.0, 0.0, 0.0, 0.0, 0.0, 0.0, 0.0, 0.0, 0.0, 0.0, 0.0, 0.0, 0.0, 0.0, 0.0, 0.0, 0.0, 0.0, 0.0, 0.0, 0.0, 0.0, 0.0, 0.0, 0.0, 0.0, 0.0, 0.0, 0.0, 0.0, 0.0, 0.0, 0.0, 0.0, 0.0, 0.0, 0.0, 0.0, 0.0, 0.0, 0.0, 0.0, 0.0, 0.0, 0.0, 0.0, 0.0, 0.0, 0.0, 0.0, 0.0, 0.0, 0.0, 0.0, 0.0, 0.0, 0.0, 0.0, 0.0, 0.0, 0.0, 0.0, 0.0, 0.0, 0.0, 0.0, 0.0, 0.0, 0.0, 0.0, 0.0, 0.0, 0.0, 0.0, 0.0, 0.0, 0.0, 0.0, 0.0, 0.0, 0.0, 0.0, 0.0, 0.0, 0.0, 0.0, 0.0, 0.0, 0.0, 0.0, 0.0, 0.0, 0.0, 0.0, 0.0, 0.0, 0.0, 0.0, 0.0, 0.0, 0.0, 0.0, 0.0, 0.0, 0.0, 0.0, 0.0, 0.0, 0.0, 0.0, 0.0, 0.0, 0.0, 0.0, 0.0, 0.0, 0.0, 0.0, 0.0, 0.0, 0.0, 0.0, 0.0, 0.0, 0.0, 0.0, 0.0, 0.0, 0.0, 0.0, 0.0, 0.0, 0.0, 0.0, 0.0, 0.0, 0.0, 0.0, 0.0, 0.0, 0.0, 0.0, 0.0, 0.0, 0.0, 0.0, 0.0, 0.0, 0.0, 0.0, 0.0, 0.0, 0.0, 0.0, 0.0, 0.0, 0.0, 0.0, 0.0, 0.0, 0.0, 0.0, 0.0, 0.0, 0.0, 0.0, 0.0, 0.0, 0.0, 0.0, 0.0, 0.0, 0.0, 0.0, 0.0, 0.0, 0.0, 0.0, 0.0, 0.0, 0.0, 0.0, 0.0, 0.0, 0.0, 0.0, 0.0, 0.0, 0.0, 0.0, 0.0, 0.0, 0.0, 0.0, 0.0, 0.0, 0.0, 0.0, 0.0, 0.0, 0.0, 0.0, 0.0, 0.0, 0.0, 0.0, 0.0, 0.0, 0.0, 0.0, 0.0, 0.0, 0.0, 0.0, 0.0, 0.0, 0.0, 0.0, 0.0, 0.0, 0.0, 0.0, 0.0, 0.0, 0.0, 0.0, 0.0, 0.0, 0.0, 0.0, 0.0, 0.0, 0.0, 0.0, 0.0, 0.0, 0.0, 0.0, 0.0, 0.0, 0.0, 0.0, 0.0, 0.0, 0.0, 0.0, 0.0, 0.0, 0.0, 0.0, 0.0, 0.0, 0.0, 0.0, 0.0, 0.0, 0.0, 0.0, 0.0, 0.0, 0.0, 0.0, 0.0, 0.0, 0.0, 0.0, 0.0, 0.0, 0.0, 0.0, 0.0, 0.0, 0.0, 0.0, 0.0, 0.0, 0.0, 0.0, 0.0, 0.0, 0.0, 0.0, 0.0, 0.0, 0.0, 0.0, 0.0, 0.0, 0.0, 0.0, 0.0, 0.0, 0.0, 0.0, 0.0, 0.0, 0.0, 0.0, 0.0, 0.0, 0.0, 0.0, 0.0, 0.0, 0.0, 0.0, 0.0, 0.0, 0.0, 0.0, 0.0, 0.0, 0.0, 0.0, 0.0, 0.0, 0.0, 0.0, 0.0, 0.0, 0.0, 0.0, 0.0, 0.0, 0.0, 0.0, 0.0, 0.0, 0.0, 0.0, 0.0, 0.0, 0.0, 0.0, 0.0, 0.0, 0.0, 0.0, 0.0, 0.0, 0.0, 0.0, 0.0, 0.0, 0.0, 0.0, 0.0, 0.0, 0.0, 0.0, 0.0, 0.0, 0.0, 0.0, 0.0, 0.0, 0.0, 0.0, 0.0, 0.0, 0.0, 0.0, 0.0, 0.0, 0.0, 0.0, 0.0, 0.0, 0.0, 0.0, 0.0, 0.0, 0.0, 0.0, 0.0, 0.0, 0.0, 0.0, 0.0, 0.0, 0.0, 0.0, 0.0, 0.0, 0.0, 0.0, 0.0, 0.0, 0.0, 0.0, 0.0, 0.0, 0.0, 0.0, 0.0, 0.0, 0.0, 0.0, 0.0, 0.0, 0.0, 0.0, 0.0, 0.0, 0.0, 0.0, 0.0, 0.0, 0.0, 0.0, 0.0, 0.0, 0.0, 0.0, 0.0, 0.0, 0.0, 0.0, 0.0, 0.0, 0.0, 0.0, 0.0, 0.0, 0.0, 0.0, 0.0, 0.0, 0.0, 0.0, 0.0, 0.0, 0.0, 0.0, 0.0, 0.0, 0.0, 0.0, 0.0, 0.0, 0.0, 0.0, 0.0, 0.0, 0.0, 0.0, 0.0, 0.0, 0.0, 0.0, 0.0, 0.0, 0.0, 0.0, 0.0, 0.0, 0.0, 0.0, 0.0, 0.0, 0.0, 0.0, 0.0, 0.0, 0.0, 0.0, 0.0, 0.0, 0.0, 0.0, 0.0, 0.0, 0.0, 0.0, 0.0, 0.0, 0.0, 0.0, 0.0, 0.0, 0.0, 0.0, 0.0, 0.0, 0.0, 0.0, 0.0, 0.0, 0.0, 0.0, 0.0, 0.0, 0.0, 0.0, 0.0, 0.0, 0.0, 0.0, 0.0, 0.0, 0.0, 0.0, 0.0, 0.0, 0.0, 0.0, 0.0, 0.0, 0.0, 0.0, 0.0, 0.0, 0.0, 0.0, 0.0, 0.0, 0.0, 0.0, 0.0, 0.0, 0.0, 0.0, 0.0, 0.0, 0.0, 0.0, 0.0, 0.0, 0.0, 0.0, 0.0, 0.0, 0.0, 0.0, 0.0, 0.0, 0.0, 0.0, 0.0, 0.0, 0.0, 0.0, 0.0, 0.0, 0.0, 0.0, 0.0, 0.0, 0.0, 0.0, 0.0, 0.0, 0.0, 0.0, 0.0, 0.0, 0.0, 0.0, 0.0, 0.0, 0.0, 0.0, 0.0, 0.0, 0.0, 0.0, 0.0, 0.0, 0.0, 0.0, 0.0, 0.0, 0.0, 0.0, 0.0, 0.0, 0.0, 0.0, 0.0, 0.0, 0.0, 0.0, 0.0, 0.0, 0.0, 0.0, 0.0, 0.0, 0.0, 0.0, 0.0, 0.0, 0.0, 0.0, 0.0, 0.0, 0.0, 0.0, 0.0, 0.0, 0.0, 0.0, 0.0, 0.0, 0.0, 0.0, 0.0, 0.0, 0.0, 0.0, 0.0, 0.0, 0.0, 0.0, 0.0, 0.0, 0.0, 0.0, 0.0, 0.0, 0.0, 0.0, 0.0, 0.0, 0.0, 0.0, 0.0, 0.0, 0.0, 0.0, 0.0, 0.0, 0.0, 0.0, 0.0, 0.0, 0.0, 0.0, 0.0, 0.0, 0.0, 0.0, 0.0, 0.0, 0.0, 0.0, 0.0, 0.0, 0.0, 0.0, 0.0, 0.0, 0.0, 0.0, 0.0, 0.0, 0.0, 0.0, 0.0, 0.0, 0.0, 0.0, 0.0, 0.0, 0.0, 0.0, 0.0, 0.0, 0.0, 0.0, 0.0, 0.0, 0.0, 0.0, 0.0, 0.0, 0.0, 0.0, 0.0, 0.0, 0.0, 0.0, 0.0, 0.0, 0.0, 0.0, 0.0, 0.0, 0.0, 0.0, 0.0, 0.0, 0.0, 0.0, 0.0, 0.0, 0.0, 0.0, 0.0, 0.0, 0.0, 0.0, 0.0, 0.0, 0.0, 0.0, 0.0, 0.0, 0.0, 0.0, 0.0, 0.0, 0.0, 0.0, 0.0, 0.0, 0.0, 0.0, 0.0, 0.0, 0.0, 0.0, 0.0, 0.0, 0.0, 0.0, 0.0, 0.0, 0.0, 0.0, 0.0, 0.0, 0.0, 0.0, 0.0, 0.0, 0.0, 0.0, 0.0, 0.0, 0.0, 0.0, 0.0, 0.0, 0.0, 0.0, 0.0, 0.0, 0.0, 0.0, 0.0, 0.0, 0.0, 0.0, 0.0, 0.0, 0.0, 0.0, 0.0, 0.0, 0.0, 0.0, 0.0, 0.0, 0.0, 0.0, 0.0, 0.0, 0.0, 0.0, 0.0, 0.0, 0.0, 0.0, 0.0, 0.0, 0.0, 0.0, 0.0, 0.0, 0.0, 0.0, 0.0, 0.0, 0.0, 0.0, 0.0, 0.0, 0.0, 0.0, 0.0, 0.0, 0.0, 0.0, 0.0, 0.0, 0.0, 0.0, 0.0, 0.0, 0.0, 0.0, 0.0, 0.0, 0.0, 0.0, 0.0, 0.0, 0.0, 0.0, 0.0, 0.0, 0.0, 0.0, 0.0, 0.0, 0.0, 0.0, 0.0, 0.0, 0.0, 0.0, 0.0, 0.0, 0.0, 0.0, 0.0, 0.0, 0.0, 0.0, 0.0, 0.0, 0.0, 1], [0.0, 0.45332, 0.0, 0.0, 0.0, 0.0, 0.0, 0.0, 0.0, 0.0, 0.0, 0.0, 0.0, 0.0, 0.0, 0.0, 0.52288, 0.52863, 0.0, 0.0, 0.0, 0.0, 0.0, 0.0, 0.0, 0.0, 0.0, 0.0, 0.0, 0.0, 0.0, 0.0, 0.0, 0.0, 0.0, 0.0, 0.0, 0.0, 0.0, 0.0, 0.0, 0.0, 0.0, 0.0, 0.0, 0.0, 0.0, 0.0, 0.0, 0.0, 0.0, 0.0, 0.0, 0.0, 0.0, 0.0, 0.0, 0.0, 0.49236, 0.0, 0.0, 0.0, 0.0, 0.0, 0.0, 0.0, 0.0, 0.0, 0.0, 0.0, 0.0, 0.0, 0.0, 0.0, 0.0, 0.0, 0.0, 0.0, 0.0, 0.34054, 0.0, 0.0, 0.0, 1.17609, 0.0, 0.0, 0.0, 0.0, 0.0, 0.85387, 0.0, 0.0, 0.0, 0.0, 0.0, 0.0, 0.0, 0.0, 0.0, 0.0, 0.0, 0.0, 0.0, 0.0, 0.0, 0.0, 0.0, 0.0, 0.0, 0.0, 0.0, 0.0, 0.0, 0.0, 0.0, 0.0, 0.0, 0.0, 0.0, 0.0, 0.0, 0.0, 0.0, 0.0, 0.0, 0.0, 0.0, 0.0, 0.0, 0.0, 0.0, 0.0, 0.0, 0.0, 0.0, 0.0, 0.0, 0.0, 0.0, 0.0, 0.0, 0.0, 0.0, 0.0, 0.0, 0.0, 0.0, 0.0, 0.0, 0.0, 0.0, 0.0, 0.0, 0.0, 0.0, 0.0, 0.0, 0.0, 0.0, 0.0, 0.0, 0.0, 0.0, 0.0, 0.0, 0.0, 0.0, 0.0, 0.0, 0.0, 0.0, 0.0, 0.0, 0.0, 0.0, 0.0, 0.0, 0.0, 0.0, 0.0, 0.0, 0.0, 0.0, 0.0, 0.0, 0.0, 0.0, 0.52494, 0.77815, 0.69897, 0.60206, 0.47712, 0.60206, 0.54407, 0.47712, 0.0, 0.0, 0.0, 0.0, 0.0, 0.0, 0.0, 0.0, 0.0, 0.0, 0.0, 0.0, 0.0, 0.0, 0.0, 0.0, 0.0, 0.0, 0.0, 0.0, 0.0, 0.0, 0.0, 0.0, 0.0, 0.0, 0.0, 0.0, 0.0, 0.0, 0.0, 0.0, 0.0, 0.0, 0.0, 0.0, 0.0, 0.0, 0.0, 0.0, 0.0, 0.0, 0.0, 0.0, 0.0, 0.0, 0.0, 0.0, 0.0, 0.0, 0.0, 0.0, 0.0, 0.0, 0.0, 0.0, 0.0, 0.0, 0.0, 0.0, 0.0, 0.0, 0.0, 0.0, 0.0, 0.0, 0.0, 0.0, 0.0, 0.0, 0.0, 0.0, 0.0, 0.0, 0.0, 0.0, 0.0, 0.0, 0.0, 0.0, 0.0, 0.0, 0.0, 0.0, 0.0, 0.0, 0.0, 0.0, 0.0, 0.0, 0.0, 0.0, 0.0, 0.0, 0.0, 0.0, 0.0, 0.0, 0.0, 0.0, 0.0, 0.0, 0.0, 0.0, 0.0, 0.0, 0.0, 0.0, 0.0, 0.0, 0.0, 0.0, 0.0, 0.0, 0.0, 0.0, 0.0, 0.0, 0.0, 0.0, 0.0, 0.0, 0.0, 0.0, 0.0, 0.0, 0.0, 0.0, 0.0, 0.0, 0.0, 0.0, 0.0, 0.0, 0.0, 0.0, 0.0, 0.0, 0.0, 0.0, 0.0, 0.0, 0.0, 0.0, 0.0, 0.0, 0.0, 0.0, 0.0, 0.0, 0.0, 0.0, 0.0, 0.0, 0.0, 0.0, 0.0, 0.0, 0.0, 0.0, 0.0, 0.0, 0.0, 0.0, 0.0, 0.0, 0.0, 0.0, 0.0, 0.0, 0.0, 0.0, 0.0, 0.0, 0.0, 0.0, 0.0, 0.0, 0.0, 0.0, 0.0, 0.0, 0.0, 0.0, 0.0, 0.0, 0.0, 0.0, 0.0, 0.0, 0.0, 0.0, 0.0, 0.0, 0.0, 0.0, 0.0, 0.0, 0.0, 0.0, 0.0, 0.0, 0.0, 0.0, 0.0, 0.0, 0.0, 0.0, 0.0, 0.0, 0.0, 0.0, 0.0, 0.0, 0.0, 0.0, 0.0, 0.0, 0.0, 0.0, 0.0, 0.0, 0.0, 0.0, 0.0, 0.0, 0.0, 0.0, 0.0, 0.0, 0.0, 0.0, 0.0, 0.0, 0.0, 0.0, 0.0, 0.0, 0.0, 0.0, 0.0, 0.0, 0.0, 0.0, 0.0, 0.0, 0.0, 0.0, 0.0, 0.0, 0.0, 0.0, 0.0, 0.0, 0.0, 0.0, 0.0, 0.0, 0.0, 0.0, 0.0, 0.0, 0.0, 0.0, 0.0, 0.0, 0.0, 0.0, 0.0, 0.0, 0.0, 0.0, 0.0, 0.0, 0.0, 0.0, 0.0, 0.0, 0.0, 0.0, 0.0, 0.0, 0.0, 0.0, 0.0, 0.0, 0.0, 0.0, 0.0, 0.0, 0.0, 0.0, 0.0, 0.0, 0.0, 0.0, 0.0, 0.0, 0.0, 0.0, 0.0, 0.0, 0.0, 0.0, 0.0, 0.0, 0.0, 0.0, 0.0, 0.0, 0.0, 0.0, 0.0, 0.0, 0.0, 0.0, 0.0, 0.0, 0.0, 0.0, 0.0, 0.0, 0.0, 0.0, 0.0, 0.0, 0.0, 0.0, 0.0, 0.0, 0.0, 0.0, 0.0, 0.0, 0.0, 0.0, 0.0, 0.0, 0.0, 0.0, 0.0, 0.0, 0.0, 0.0, 0.0, 0.0, 0.0, 0.0, 0.0, 0.0, 0.0, 0.0, 0.0, 0.0, 0.0, 0.0, 0.0, 0.0, 0.0, 0.0, 0.0, 0.0, 0.0, 0.0, 0.0, 0.0, 0.0, 0.0, 0.0, 0.0, 0.0, 0.0, 0.0, 0.0, 0.0, 0.0, 0.0, 0.0, 0.0, 0.0, 0.0, 0.0, 0.0, 0.0, 0.0, 0.0, 0.0, 0.0, 0.0, 0.0, 0.0, 0.0, 0.0, 0.0, 0.0, 0.0, 0.0, 0.0, 0.0, 0.0, 0.0, 0.0, 0.0, 0.0, 0.0, 0.0, 0.0, 0.0, 0.0, 0.0, 0.0, 0.0, 0.0, 0.0, 0.0, 0.0, 0.0, 0.0, 0.0, 0.0, 0.0, 0.0, 0.0, 0.0, 0.0, 0.0, 0.0, 0.0, 0.0, 0.0, 0.0, 0.0, 0.0, 0.0, 0.0, 0.0, 0.0, 0.0, 0.0, 0.0, 0.0, 0.0, 0.0, 0.0, 0.0, 0.0, 0.0, 0.0, 0.0, 0.0, 0.0, 0.0, 0.0, 0.0, 0.0, 0.0, 0.0, 0.0, 0.0, 0.0, 0.0, 0.0, 0.0, 0.0, 0.0, 0.0, 0.0, 0.0, 0.0, 0.0, 0.0, 0.0, 0.0, 0.0, 0.0, 0.0, 0.0, 0.0, 0.0, 0.0, 0.0, 0.0, 0.0, 0.0, 0.0, 0.0, 0.0, 0.0, 0.0, 0.0, 0.0, 0.0, 0.0, 0.0, 0.0, 0.0, 0.0, 0.0, 0.0, 0.0, 0.0, 0.0, 0.0, 0.0, 0.0, 0.0, 0.0, 0.0, 0.0, 0.0, 0.0, 0.0, 0.0, 0.0, 0.0, 0.0, 0.0, 0.0, 0.0, 0.0, 0.0, 0.0, 0.0, 0.0, 0.0, 0.0, 0.0, 0.0, 0.0, 0.0, 0.0, 0.0, 0.0, 0.0, 0.0, 0.0, 0.0, 0.0, 0.0, 0.0, 0.0, 0.0, 0.0, 0.0, 0.0, 0.0, 0.0, 0.0, 0.0, 0.0, 0.0, 0.0, 0.0, 0.0, 0.0, 0.0, 0.0, 0.0, 0.0, 0.0, 0.0, 0.0, 0.0, 0.0, 0.0, 0.0, 0.0, 0.0, 0.0, 0.0, 0.0, 0.0, 0.0, 0.0, 0.0, 0.0, 0.0, 0.0, 0.0, 0.0, 0.0, 0.0, 0.0, 0.0, 0.0, 0.0, 0.0, 0.0, 0.0, 0.0, 0.0, 0.0, 0.0, 0.0, 0.0, 0.0, 0.0, 0.0, 0.0, 0.0, 0.0, 0.0, 0.0, 0.0, 0.0, 0.0, 0.0, 0.0, 0.0, 0.0, 0.0, 0.0, 0.0, 0.0, 0.0, 0.0, 0.0, 0.0, 0.0, 0.0, 0.0, 0.0, 0.0, 0.0, 0.0, 0.0, 0.0, 0.0, 0.0, 0.0, 0.0, 0.0, 0.0, 0.0, 0.0, 0.0, 0.0, 0.0, 0.0, 0.0, 0.0, 0.0, 0.0, 0.0, 0.0, 0.0, 0.0, 0.0, 0.0, 0.0, 0.0, 0.0, 0.0, 0.0, 0.0, 0.0, 0.0, 0.0, 0.0, 0.0, 0.0, 0.0, 0.0, 0.0, 0.0, 0.0, 0.0, 0.0, 0.0, 0.0, 0.0, 0.0, 0.0, 0.0, 0.0, 0.0, 0.0, 0.0, 0.0, 0.0, 0.0, 0.0, 0.0, 0.0, 0.0, 0.0, 0.0, 0.0, 0.0, 0.0, 0.0, 0.0, 0.0, 0.0, 0.0, 0.0, 0.0, 0.0, 0.0, 0.0, 0.0, 0.0, 0.0, 0.0, 0.0, 0.0, 0.0, 0.0, 0.0, 0.0, 0.0, 0.0, 0.0, 0.0, 0.0, 0.0, 0.0, 0.0, 0.0, 0.0, 0.0, 0.0, 0.0, 0.0, 0.0, 0.0, 0.0, 0.0, 0.0, 0.0, 0.0, 0.0, 0.0, 0.0, 0.0, 0.0, 0.0, 0.0, 0.0, 0.0, 0.0, 0.0, 0.0, 0.0, 0.0, 0.0, 0.0, 0.0, 0.0, 0.0, 0.0, 0.0, 0.0, 0.0, 0.0, 0.0, 0.0, 0.0, 0.0, 0.0, 0.0, 0.0, 0.0, 0.0, 0.0, 0.0, 0.0, 0.0, 0.0, 0.0, 0.0, 0.0, 0.0, 0.0, 0.0, 0.0, 0.0, 0.0, 0.0, 0.0, 0.0, 0.0, 0.0, 0.0, 0.0, 0.0, 0.0, 0.0, 0.0, 0.0, 0.0, 0.0, 0.0, 0.0, 0.0, 0.0, 0.0, 0.0, 0.0, 0.0, 0.0, 0.0, 0.0, 0.0, 0.0, 0.0, 0.0, 0.0, 0.0, 0.0, 0.0, 0.0, 0.0, 0.0, 0.0, 0.0, 0.0, 0.0, 0.0, 0.0, 0.0, 0.0, 0.0, 0.0, 0.0, 0.0, 0.0, 0.0, 0.0, 0.0, 0.0, 0.0, 0.0, 0.0, 0.0, 0.0, 0.0, 0.0, 0.0, 0.0, 0.0, 0.0, 0.0, 0.0, 0.0, 0.0, 0.0, 0.0, 0.0, 0.0, 0.0, 0.0, 0.0, 0.0, 0.0, 0.0, 0.0, 0.0, 0.0, 0.0, 0.0, 0.0, 0.0, 0.0, 0.0, 0.0, 0.0, 0.0, 0.0, 0.0, 0.0, 0.0, 0.0, 0.0, 0.0, 0.0, 0.0, 0.0, 0.0, 0.0, 0.0, 0.0, 0.0, 0.0, 0.0, 0.0, 0.0, 0.0, 0.0, 0.0, 0.0, 0.0, 0.0, 0.0, 0.0, 0.0, 0.0, 0.0, 0.0, 0.0, 0.0, 0.0, 0.0, 0.0, 0.0, 0.0, 0.0, 0.0, 0.0, 0.0, 0.0, 0.0, 0.0, 0.0, 0.0, 0.0, 0.0, 0.0, 0.0, 0.0, 0.0, 0.0, 0.0, 0.0, 0.0, 0.0, 0.0, 0.0, 0.0, 0.0, 0.0, 0.0, 0.0, 0.0, 0.0, 0.0, 0.0, 0.0, 0.0, 0.0, 0.0, 0.0, 0.0, 0.0, 0.0, 0.0, 0.0, 0.0, 0.0, 0.0, 0.0, 0.0, 0.0, 0.0, 0.0, 0.0, 0.0, 0.0, 0.0, 0.0, 0.0, 0.0, 0.0, 0.0, 0.0, 0.0, 0.0, 0.0, 0.0, 0.0, 0.0, 0.0, 0.0, 0.0, 0.0, 0.0, 0.0, 0.0, 0.0, 0.0, 0.0, 0.0, 0.0, 0.0, 0.0, 0.0, 0.0, 0.0, 0.0, 0.0, 0.0, 0.0, 0.0, 0.0, 0.0, 0.0, 0.0, 0.0, 0.0, 0.0, 0.0, 0.0, 0.0, 0.0, 0.0, 0.0, 0.0, 0.0, 0.0, 0.0, 0.0, 0.0, 0.0, 0.0, 0.0, 0.0, 0.0, 0.0, 0.0, 0.0, 0.0, 0.0, 0.0, 0.0, 0.0, 0.0, 0.0, 0.0, 0.0, 0.0, 0.0, 0.0, 0.0, 0.0, 0.0, 0.0, 0.0, 0.0, 0.0, 0.0, 0.0, 0.0, 0.0, 0.0, 0.0, 0.0, 0.0, 0.0, 0.0, 0.0, 0.0, 0.0, 0.0, 0.0, 0.0, 0.0, 0.0, 0.0, 0.0, 0.0, 0.0, 0.0, 0.0, 0.0, 0.0, 0.0, 0.0, 0.0, 0.0, 0.0, 0.0, 0.0, 0.0, 0.0, 0.0, 0.0, 0.0, 0.0, 0.0, 0.0, 0.0, 0.0, 0.0, 0.0, 0.0, 0.0, 0.0, 0.0, 0.0, 0.0, 0.0, 0.0, 0.0, 0.0, 0.0, 0.0, 0.0, 0.0, 0.0, 0.0, 0.0, 0.0, 0.0, 0.0, 0.0, 0.0, 0.0, 0.0, 0.0, 0.0, 0.0, 0.0, 0.0, 0.0, 0.0, 0.0, 0.0, 0.0, 0.0, 0.0, 0.0, 0.0, 0.0, 0.0, 0.0, 0.0, 0.0, 0.0, 0.0, 0.0, 0.0, 0.0, 0.0, 0.0, 0.0, 0.0, 0.0, 0.0, 0.0, 0.0, 0.0, 0.0, 0.0, 0.0, 0.0, 0.0, 0.0, 0.0, 0.0, 0.0, 0.0, 0.0, 0.0, 0.0, 0.0, 0.0, 0.0, 0.0, 0.0, 0.0, 0.0, 0.0, 0.0, 0.0, 0.0, 0.0, 0.0, 0.0, 0.0, 0.0, 0.0, 0.0, 0.0, 0.0, 0.0, 0.0, 0.0, 0.0, 0.0, 0.0, 0.0, 0.0, 0.0, 0.0, 0.0, 0.0, 0.0, 0.0, 0.0, 0.0, 0.0, 0.0, 0.0, 0.0, 0.0, 0.0, 0.0, 0.0, 0.0, 0.0, 0.0, 0.0, 0.0, 0.0, 0.0, 0.0, 0.0, 0.0, 0.0, 0.0, 0.0, 0.0, 0.0, 0.0, 0.0, 0.0, 0.0, 0.0, 0.0, 0.0, 0.0, 0.0, 0.0, 0.0, 0.0, 0.0, 0.0, 0.0, 0.0, 0.0, 0.0, 0.0, 0.0, 0.0, 0.0, 0.0, 0.0, 0.0, 0.0, 0.0, 0.0, 0.0, 0.0, 0.0, 0.0, 0.0, 0.0, 0.0, 0.0, 0.0, 0.0, 0.0, 0.0, 0.0, 0.0, 0.0, 0.0, 0.0, 0.0, 0.0, 0.0, 0.0, 0.0, 0.0, 0.0, 0.0, 0.0, 0.0, 0.0, 0.0, 0.0, 0.0, 0.0, 0.0, 0.0, 0.0, 0.0, 0.0, 0.0, 0.0, 0.0, 0.0, 0.0, 0.0, 0.0, 0.0, 0.0, 0.0, 0.0, 0.0, 0.0, 0.0, 0.0, 0.0, 0.0, 0.0, 0.0, 0.0, 0.0, 0.0, 0.0, 0.0, 0.0, 0.0, 0.0, 0.0, 0.0, 0.0, 0.0, 0.0, 0.0, 0.0, 0.0, 0.0, 0.0, 0.0, 0.0, 0.0, 0.0, 0.0, 0.0, 0.0, 0.0, 0.0, 0.0, 0.0, 0.0, 0.0, 0.0, 0.0, 0.0, 0.0, 0.0, 0.0, 0.0, 0.0, 0.0, 0.0, 0.0, 0.0, 0.0, 0.0, 0.0, 0.0, 0.0, 0.0, 0.0, 0.0, 0.0, 0.0, 0.0, 0.0, 0.0, 0.0, 0.0, 0.0, 0.0, 0.0, 0.0, 0.0, 0.0, 0.0, 0.0, 0.0, 0.0, 0.0, 0.0, 0.0, 0.0, 0.0, 0.0, 0.0, 0.0, 0.0, 0.0, 0.0, 0.0, 0.0, 0.0, 0.0, 0.0, 0.0, 0.0, 0.0, 0.0, 0.0, 0.0, 0.0, 0.0, 0.0, 0.0, 0.0, 0.0, 0.0, 0.0, 0.0, 0.0, 0.0, 0.0, 0.0, 0.0, 0.0, 0.0, 0.0, 0.0, 0.0, 0.0, 0.0, 0.0, 0.0, 0.0, 0.0, 0.0, 0.0, 0.0, 0.0, 0.0, 0.0, 0.0, 0.0, 0.0, 0.0, 0.0, 0.0, 0.0, 0.0, 0.0, 0.0, 0.0, 0.0, 0.0, 0.0, 0.0, 0.0, 0.0, 0.0, 0.0, 0.0, 0.0, 0.0, 0.0, 0.0, 0.0, 0.0, 0.0, 0.0, 0.0, 0.0, 0.0, 0.0, 0.0, 0.0, 0.0, 0.0, 0.0, 0.0, 0.0, 0.0, 0.0, 0.0, 0.0, 0.0, 0.0, 0.0, 0.0, 0.0, 0.0, 0.0, 0.0, 0.0, 0.0, 0.0, 0.0, 0.0, 0.0, 0.0, 0.0, 0.0, 0.0, 0.0, 0.0, 0.0, 0.0, 0.0, 0.0, 0.0, 0.0, 0.0, 0.0, 0.0, 0.0, 0.0, 0.0, 0.0, 0.0, 0.0, 0.0, 0.0, 0.0, 0.0, 0.0, 0.0, 0.0, 0.0, 0.0, 0.0, 0.0, 0.0, 0.0, 0.0, 0.0, 0.0, 0.0, 0.0, 0.0, 0.0, 0.0, 0.0, 0.0, 0.0, 0.0, 0.0, 0.0, 0.0, 0.0, 0.0, 0.0, 0.0, 0.0, 0.0, 0.0, 0.0, 0.0, 0.0, 0.0, 0.0, 0.0, 0.0, 0.0, 0.0, 0.0, 0.0, 0.0, 0.0, 0.0, 0.0, 0.0, 0.0, 0.0, 0.0, 0.0, 0.0, 0.0, 0.0, 0.0, 0.0, 0.0, 0.0, 0.0, 0.0, 0.0, 0.0, 0.0, 0.0, 0.0, 0.0, 0.0, 0.0, 0.0, 0.0, 0.0, 0.0, 0.0, 0.0, 0.0, 0.0, 0.0, 0.0, 0.0, 0.0, 0.0, 0.0, 0.0, 0.0, 0.0, 0.0, 0.0, 0.0, 0.0, 0.0, 0.0, 0.0, 0.0, 0.0, 0.0, 0.0, 0.0, 0.0, 0.0, 0.0, 0.0, 0.0, 0.0, 0.0, 0.0, 0.0, 0.0, 0.0, 0.0, 0.0, 0.0, 0.0, 0.0, 0.0, 0.0, 0.0, 0.0, 0.0, 0.0, 0.0, 0.0, 0.0, 0.0, 0.0, 0.0, 0.0, 0.0, 0.0, 0.0, 0.0, 0.0, 0.0, 0.0, 0.0, 0.0, 0.0, 0.0, 0.0, 0.0, 0.0, 0.0, 0.0, 0.0, 0.0, 0.0, 0.0, 0.0, 0.0, 0.0, 0.0, 0.0, 0.0, 0.0, 0.0, 0.0, 0.0, 0.0, 0.0, 0.0, 0.0, 0.0, 0.0, 0.0, 0.0, 0.0, 0.0, 0.0, 0.0, 0.0, 0.0, 0.0, 0.0, 0.0, 0.0, 0.0, 0.0, 0.0, 0.0, 0.0, 0.0, 0.0, 0.0, 0.0, 0.0, 0.0, 0.0, 0.0, 0.0, 0.0, 0.0, 0.0, 0.0, 0.0, 0.0, 0.0, 0.0, 0.0, 0.0, 0.0, 0.0, 0.0, 0.0, 0.0, 0.0, 0.0, 0.0, 0.0, 0.0, 0.0, 0.0, 0.0, 0.0, 0.0, 0.0, 0.0, 0.0, 0.0, 0.0, 0.0, 0.0, 0.0, 0.0, 0.0, 0.0, 0.0, 0.0, 0.0, 0.0, 0.0, 0.0, 0.0, 0.0, 0.0, 0.0, 0.0, 0.0, 0.0, 0.0, 0.0, 0.0, 0.0, 0.0, 0.0, 0.0, 0.0, 0.0, 0.0, 0.0, 0.0, 0.0, 0.0, 0.0, 0.0, 0.0, 0.0, 0.0, 0.0, 0.0, 0.0, 0.0, 0.0, 0.0, 0.0, 0.0, 0.0, 0.0, 0.0, 0.0, 0.0, 0.0, 0.0, 0.0, 0.0, 0.0, 0.0, 0.0, 0.0, 0.0, 0.0, 0.0, 0.0, 0.0, 0.0, 0.0, 0.0, 0.0, 0.0, 0.0, 0.0, 0.0, 0.0, 0.0, 0.0, 0.0, 0.0, 0.0, 0.0, 0.0, 0.0, 0.0, 0.0, 0.0, 0.0, 0.0, 0.0, 0.0, 0.0, 0.0, 0.0, 0.0, 0.0, 0.0, 0.0, 0.0, 0.0, 0.0, 0.0, 0.0, 0.0, 0.0, 0.0, 0.0, 0.0, 0.0, 0.0, 0.0, 0.0, 0.0, 0.0, 0.0, 0.0, 0.0, 0.0, 0.0, 0.0, 0.0, 0.0, 0.0, 0.0, 0.0, 0.0, 0.0, 0.0, 0.0, 0.0, 0.0, 0.0, 0.0, 0.0, 0.0, 0.0, 0.0, 0.0, 0.0, 0.0, 0.0, 0.0, 0.0, 0.0, 0.0, 0.0, 0.0, 0.0, 0.0, 0.0, 0.0, 0.0, 0.0, 0.0, 0.0, 0.0, 0.0, 0.0, 0.0, 0.0, 0.0, 0.0, 0.0, 0.0, 0.0, 0.0, 0.0, 0.0, 0.0, 0.0, 0.0, 0.0, 0.0, 0.0, 0.0, 0.0, 0.0, 0.0, 0.0, 0.0, 0.0, 0.0, 0.0, 0.0, 0.0, 0.0, 0.0, 0.0, 0.0, 0.0, 0.0, 0.0, 0.0, 0.0, 0.0, 0.0, 0.0, 0.0, 0.0, 0.0, 0.0, 0.0, 0.0, 0.0, 0.0, 0.0, 0.0, 0.0, 0.0, 0.0, 0.0, 0.0, 0.0, 0.0, 0.0, 0.0, 0.0, 0.0, 0.0, 0.0, 0.0, 0.0, 0.0, 0.0, 0.0, 0.0, 0.0, 0.0, 0.0, 0.0, 0.0, 1]]\n"
     ]
    }
   ],
   "source": [
    "tf_rf = []\n",
    "for i in range(len(tf_forRF)):\n",
    "    doclist = []\n",
    "    for j in range(len(tf_forRF[0])):\n",
    "        if(j == len(tf_forRF[0])-1):\n",
    "            temp = tf_forRF[i][j]\n",
    "            doclist.append(temp)\n",
    "        else:\n",
    "            temp = rf_list[j] * tf_forRF[i][j]\n",
    "            doclist.append(temp)\n",
    "    tf_rf.append(doclist)\n",
    "print(tf_rf[:2])"
   ]
  },
  {
   "attachments": {},
   "cell_type": "markdown",
   "id": "94de2981",
   "metadata": {},
   "source": [
    "<h2>d. Save hasil ke CSV</h2>"
   ]
  },
  {
   "cell_type": "code",
   "execution_count": 36,
   "id": "12b89618",
   "metadata": {},
   "outputs": [],
   "source": [
    "import pandas as pd\n",
    "\n",
    "columnName = term\n",
    "columnName.append('jenis')"
   ]
  },
  {
   "attachments": {},
   "cell_type": "markdown",
   "id": "a6b07a4d",
   "metadata": {},
   "source": [
    "<h4>TF IDF</h4>"
   ]
  },
  {
   "cell_type": "code",
   "execution_count": 37,
   "id": "013eb76d",
   "metadata": {},
   "outputs": [
    {
     "data": {
      "text/html": [
       "<div>\n",
       "<style scoped>\n",
       "    .dataframe tbody tr th:only-of-type {\n",
       "        vertical-align: middle;\n",
       "    }\n",
       "\n",
       "    .dataframe tbody tr th {\n",
       "        vertical-align: top;\n",
       "    }\n",
       "\n",
       "    .dataframe thead th {\n",
       "        text-align: right;\n",
       "    }\n",
       "</style>\n",
       "<table border=\"1\" class=\"dataframe\">\n",
       "  <thead>\n",
       "    <tr style=\"text-align: right;\">\n",
       "      <th></th>\n",
       "      <th>Unnamed: 0</th>\n",
       "      <th>wow</th>\n",
       "      <th>selamat</th>\n",
       "      <th>ga</th>\n",
       "      <th>kuota</th>\n",
       "      <th>gratis</th>\n",
       "      <th>dari</th>\n",
       "      <th>perintah</th>\n",
       "      <th>bisa</th>\n",
       "      <th>ambil</th>\n",
       "      <th>...</th>\n",
       "      <th>d1n9-d0n9</th>\n",
       "      <th>sl0tgame</th>\n",
       "      <th>ahabet</th>\n",
       "      <th>cutt</th>\n",
       "      <th>ahab3t</th>\n",
       "      <th>2021-06-15</th>\n",
       "      <th>laptop</th>\n",
       "      <th>smartphone</th>\n",
       "      <th>rediapp</th>\n",
       "      <th>jenis</th>\n",
       "    </tr>\n",
       "  </thead>\n",
       "  <tbody>\n",
       "    <tr>\n",
       "      <th>0</th>\n",
       "      <td>0</td>\n",
       "      <td>2.69897</td>\n",
       "      <td>1.03621</td>\n",
       "      <td>2.09691</td>\n",
       "      <td>0.76447</td>\n",
       "      <td>2.7535</td>\n",
       "      <td>1.46852</td>\n",
       "      <td>2.0</td>\n",
       "      <td>1.92082</td>\n",
       "      <td>3.04576</td>\n",
       "      <td>...</td>\n",
       "      <td>0.0</td>\n",
       "      <td>0.0</td>\n",
       "      <td>0.0</td>\n",
       "      <td>0.0</td>\n",
       "      <td>0.0</td>\n",
       "      <td>0.0</td>\n",
       "      <td>0.0</td>\n",
       "      <td>0.0</td>\n",
       "      <td>0.0</td>\n",
       "      <td>0</td>\n",
       "    </tr>\n",
       "    <tr>\n",
       "      <th>1</th>\n",
       "      <td>1</td>\n",
       "      <td>0.00000</td>\n",
       "      <td>1.03621</td>\n",
       "      <td>0.00000</td>\n",
       "      <td>0.00000</td>\n",
       "      <td>0.0000</td>\n",
       "      <td>0.00000</td>\n",
       "      <td>0.0</td>\n",
       "      <td>0.00000</td>\n",
       "      <td>0.00000</td>\n",
       "      <td>...</td>\n",
       "      <td>0.0</td>\n",
       "      <td>0.0</td>\n",
       "      <td>0.0</td>\n",
       "      <td>0.0</td>\n",
       "      <td>0.0</td>\n",
       "      <td>0.0</td>\n",
       "      <td>0.0</td>\n",
       "      <td>0.0</td>\n",
       "      <td>0.0</td>\n",
       "      <td>0</td>\n",
       "    </tr>\n",
       "    <tr>\n",
       "      <th>2</th>\n",
       "      <td>2</td>\n",
       "      <td>0.00000</td>\n",
       "      <td>0.00000</td>\n",
       "      <td>0.00000</td>\n",
       "      <td>0.00000</td>\n",
       "      <td>0.0000</td>\n",
       "      <td>0.00000</td>\n",
       "      <td>0.0</td>\n",
       "      <td>0.00000</td>\n",
       "      <td>0.00000</td>\n",
       "      <td>...</td>\n",
       "      <td>0.0</td>\n",
       "      <td>0.0</td>\n",
       "      <td>0.0</td>\n",
       "      <td>0.0</td>\n",
       "      <td>0.0</td>\n",
       "      <td>0.0</td>\n",
       "      <td>0.0</td>\n",
       "      <td>0.0</td>\n",
       "      <td>0.0</td>\n",
       "      <td>0</td>\n",
       "    </tr>\n",
       "    <tr>\n",
       "      <th>3</th>\n",
       "      <td>3</td>\n",
       "      <td>0.00000</td>\n",
       "      <td>0.00000</td>\n",
       "      <td>0.00000</td>\n",
       "      <td>0.00000</td>\n",
       "      <td>0.0000</td>\n",
       "      <td>0.00000</td>\n",
       "      <td>0.0</td>\n",
       "      <td>0.00000</td>\n",
       "      <td>0.00000</td>\n",
       "      <td>...</td>\n",
       "      <td>0.0</td>\n",
       "      <td>0.0</td>\n",
       "      <td>0.0</td>\n",
       "      <td>0.0</td>\n",
       "      <td>0.0</td>\n",
       "      <td>0.0</td>\n",
       "      <td>0.0</td>\n",
       "      <td>0.0</td>\n",
       "      <td>0.0</td>\n",
       "      <td>0</td>\n",
       "    </tr>\n",
       "    <tr>\n",
       "      <th>4</th>\n",
       "      <td>4</td>\n",
       "      <td>0.00000</td>\n",
       "      <td>0.00000</td>\n",
       "      <td>0.00000</td>\n",
       "      <td>0.00000</td>\n",
       "      <td>0.0000</td>\n",
       "      <td>0.00000</td>\n",
       "      <td>0.0</td>\n",
       "      <td>0.00000</td>\n",
       "      <td>0.00000</td>\n",
       "      <td>...</td>\n",
       "      <td>0.0</td>\n",
       "      <td>0.0</td>\n",
       "      <td>0.0</td>\n",
       "      <td>0.0</td>\n",
       "      <td>0.0</td>\n",
       "      <td>0.0</td>\n",
       "      <td>0.0</td>\n",
       "      <td>0.0</td>\n",
       "      <td>0.0</td>\n",
       "      <td>0</td>\n",
       "    </tr>\n",
       "  </tbody>\n",
       "</table>\n",
       "<p>5 rows × 2143 columns</p>\n",
       "</div>"
      ],
      "text/plain": [
       "   Unnamed: 0      wow  selamat       ga    kuota  gratis     dari  perintah  \\\n",
       "0           0  2.69897  1.03621  2.09691  0.76447  2.7535  1.46852       2.0   \n",
       "1           1  0.00000  1.03621  0.00000  0.00000  0.0000  0.00000       0.0   \n",
       "2           2  0.00000  0.00000  0.00000  0.00000  0.0000  0.00000       0.0   \n",
       "3           3  0.00000  0.00000  0.00000  0.00000  0.0000  0.00000       0.0   \n",
       "4           4  0.00000  0.00000  0.00000  0.00000  0.0000  0.00000       0.0   \n",
       "\n",
       "      bisa    ambil  ...  d1n9-d0n9  sl0tgame  ahabet  cutt  ahab3t  \\\n",
       "0  1.92082  3.04576  ...        0.0       0.0     0.0   0.0     0.0   \n",
       "1  0.00000  0.00000  ...        0.0       0.0     0.0   0.0     0.0   \n",
       "2  0.00000  0.00000  ...        0.0       0.0     0.0   0.0     0.0   \n",
       "3  0.00000  0.00000  ...        0.0       0.0     0.0   0.0     0.0   \n",
       "4  0.00000  0.00000  ...        0.0       0.0     0.0   0.0     0.0   \n",
       "\n",
       "   2021-06-15  laptop  smartphone  rediapp  jenis  \n",
       "0         0.0     0.0         0.0      0.0      0  \n",
       "1         0.0     0.0         0.0      0.0      0  \n",
       "2         0.0     0.0         0.0      0.0      0  \n",
       "3         0.0     0.0         0.0      0.0      0  \n",
       "4         0.0     0.0         0.0      0.0      0  \n",
       "\n",
       "[5 rows x 2143 columns]"
      ]
     },
     "execution_count": 37,
     "metadata": {},
     "output_type": "execute_result"
    }
   ],
   "source": [
    "# simpan data tf idf ke dalam csv\n",
    "idfnya = pd.DataFrame(tf_idf, columns=columnName)\n",
    "idfnya.to_csv('tfidfnya.csv')\n",
    "\n",
    "# baca data dari csv yang telah disimpan\n",
    "tesidf = pd.read_csv(\"tfidfnya.csv\")\n",
    "tesidf.head()"
   ]
  },
  {
   "attachments": {},
   "cell_type": "markdown",
   "id": "0e25fd6e",
   "metadata": {},
   "source": [
    "<h4>TF RF</h4>"
   ]
  },
  {
   "cell_type": "code",
   "execution_count": 38,
   "id": "dd93a2e8",
   "metadata": {},
   "outputs": [
    {
     "data": {
      "text/html": [
       "<div>\n",
       "<style scoped>\n",
       "    .dataframe tbody tr th:only-of-type {\n",
       "        vertical-align: middle;\n",
       "    }\n",
       "\n",
       "    .dataframe tbody tr th {\n",
       "        vertical-align: top;\n",
       "    }\n",
       "\n",
       "    .dataframe thead th {\n",
       "        text-align: right;\n",
       "    }\n",
       "</style>\n",
       "<table border=\"1\" class=\"dataframe\">\n",
       "  <thead>\n",
       "    <tr style=\"text-align: right;\">\n",
       "      <th></th>\n",
       "      <th>Unnamed: 0</th>\n",
       "      <th>wow</th>\n",
       "      <th>selamat</th>\n",
       "      <th>ga</th>\n",
       "      <th>kuota</th>\n",
       "      <th>gratis</th>\n",
       "      <th>dari</th>\n",
       "      <th>perintah</th>\n",
       "      <th>bisa</th>\n",
       "      <th>ambil</th>\n",
       "      <th>...</th>\n",
       "      <th>d1n9-d0n9</th>\n",
       "      <th>sl0tgame</th>\n",
       "      <th>ahabet</th>\n",
       "      <th>cutt</th>\n",
       "      <th>ahab3t</th>\n",
       "      <th>2021-06-15</th>\n",
       "      <th>laptop</th>\n",
       "      <th>smartphone</th>\n",
       "      <th>rediapp</th>\n",
       "      <th>jenis</th>\n",
       "    </tr>\n",
       "  </thead>\n",
       "  <tbody>\n",
       "    <tr>\n",
       "      <th>0</th>\n",
       "      <td>0</td>\n",
       "      <td>0.0</td>\n",
       "      <td>0.45332</td>\n",
       "      <td>0.0</td>\n",
       "      <td>0.0</td>\n",
       "      <td>0.0</td>\n",
       "      <td>0.0</td>\n",
       "      <td>0.77815</td>\n",
       "      <td>0.0</td>\n",
       "      <td>0.0</td>\n",
       "      <td>...</td>\n",
       "      <td>0.0</td>\n",
       "      <td>0.0</td>\n",
       "      <td>0.0</td>\n",
       "      <td>0.0</td>\n",
       "      <td>0.0</td>\n",
       "      <td>0.0</td>\n",
       "      <td>0.0</td>\n",
       "      <td>0.0</td>\n",
       "      <td>0.0</td>\n",
       "      <td>1</td>\n",
       "    </tr>\n",
       "    <tr>\n",
       "      <th>1</th>\n",
       "      <td>1</td>\n",
       "      <td>0.0</td>\n",
       "      <td>0.45332</td>\n",
       "      <td>0.0</td>\n",
       "      <td>0.0</td>\n",
       "      <td>0.0</td>\n",
       "      <td>0.0</td>\n",
       "      <td>0.00000</td>\n",
       "      <td>0.0</td>\n",
       "      <td>0.0</td>\n",
       "      <td>...</td>\n",
       "      <td>0.0</td>\n",
       "      <td>0.0</td>\n",
       "      <td>0.0</td>\n",
       "      <td>0.0</td>\n",
       "      <td>0.0</td>\n",
       "      <td>0.0</td>\n",
       "      <td>0.0</td>\n",
       "      <td>0.0</td>\n",
       "      <td>0.0</td>\n",
       "      <td>1</td>\n",
       "    </tr>\n",
       "    <tr>\n",
       "      <th>2</th>\n",
       "      <td>2</td>\n",
       "      <td>0.0</td>\n",
       "      <td>0.00000</td>\n",
       "      <td>0.0</td>\n",
       "      <td>0.0</td>\n",
       "      <td>0.0</td>\n",
       "      <td>0.0</td>\n",
       "      <td>0.00000</td>\n",
       "      <td>0.0</td>\n",
       "      <td>0.0</td>\n",
       "      <td>...</td>\n",
       "      <td>0.0</td>\n",
       "      <td>0.0</td>\n",
       "      <td>0.0</td>\n",
       "      <td>0.0</td>\n",
       "      <td>0.0</td>\n",
       "      <td>0.0</td>\n",
       "      <td>0.0</td>\n",
       "      <td>0.0</td>\n",
       "      <td>0.0</td>\n",
       "      <td>1</td>\n",
       "    </tr>\n",
       "    <tr>\n",
       "      <th>3</th>\n",
       "      <td>3</td>\n",
       "      <td>0.0</td>\n",
       "      <td>0.00000</td>\n",
       "      <td>0.0</td>\n",
       "      <td>0.0</td>\n",
       "      <td>0.0</td>\n",
       "      <td>0.0</td>\n",
       "      <td>0.00000</td>\n",
       "      <td>0.0</td>\n",
       "      <td>0.0</td>\n",
       "      <td>...</td>\n",
       "      <td>0.0</td>\n",
       "      <td>0.0</td>\n",
       "      <td>0.0</td>\n",
       "      <td>0.0</td>\n",
       "      <td>0.0</td>\n",
       "      <td>0.0</td>\n",
       "      <td>0.0</td>\n",
       "      <td>0.0</td>\n",
       "      <td>0.0</td>\n",
       "      <td>1</td>\n",
       "    </tr>\n",
       "    <tr>\n",
       "      <th>4</th>\n",
       "      <td>4</td>\n",
       "      <td>0.0</td>\n",
       "      <td>0.00000</td>\n",
       "      <td>0.0</td>\n",
       "      <td>0.0</td>\n",
       "      <td>0.0</td>\n",
       "      <td>0.0</td>\n",
       "      <td>0.00000</td>\n",
       "      <td>0.0</td>\n",
       "      <td>0.0</td>\n",
       "      <td>...</td>\n",
       "      <td>0.0</td>\n",
       "      <td>0.0</td>\n",
       "      <td>0.0</td>\n",
       "      <td>0.0</td>\n",
       "      <td>0.0</td>\n",
       "      <td>0.0</td>\n",
       "      <td>0.0</td>\n",
       "      <td>0.0</td>\n",
       "      <td>0.0</td>\n",
       "      <td>1</td>\n",
       "    </tr>\n",
       "  </tbody>\n",
       "</table>\n",
       "<p>5 rows × 2143 columns</p>\n",
       "</div>"
      ],
      "text/plain": [
       "   Unnamed: 0  wow  selamat   ga  kuota  gratis  dari  perintah  bisa  ambil  \\\n",
       "0           0  0.0  0.45332  0.0    0.0     0.0   0.0   0.77815   0.0    0.0   \n",
       "1           1  0.0  0.45332  0.0    0.0     0.0   0.0   0.00000   0.0    0.0   \n",
       "2           2  0.0  0.00000  0.0    0.0     0.0   0.0   0.00000   0.0    0.0   \n",
       "3           3  0.0  0.00000  0.0    0.0     0.0   0.0   0.00000   0.0    0.0   \n",
       "4           4  0.0  0.00000  0.0    0.0     0.0   0.0   0.00000   0.0    0.0   \n",
       "\n",
       "   ...  d1n9-d0n9  sl0tgame  ahabet  cutt  ahab3t  2021-06-15  laptop  \\\n",
       "0  ...        0.0       0.0     0.0   0.0     0.0         0.0     0.0   \n",
       "1  ...        0.0       0.0     0.0   0.0     0.0         0.0     0.0   \n",
       "2  ...        0.0       0.0     0.0   0.0     0.0         0.0     0.0   \n",
       "3  ...        0.0       0.0     0.0   0.0     0.0         0.0     0.0   \n",
       "4  ...        0.0       0.0     0.0   0.0     0.0         0.0     0.0   \n",
       "\n",
       "   smartphone  rediapp  jenis  \n",
       "0         0.0      0.0      1  \n",
       "1         0.0      0.0      1  \n",
       "2         0.0      0.0      1  \n",
       "3         0.0      0.0      1  \n",
       "4         0.0      0.0      1  \n",
       "\n",
       "[5 rows x 2143 columns]"
      ]
     },
     "execution_count": 38,
     "metadata": {},
     "output_type": "execute_result"
    }
   ],
   "source": [
    "# simpan data tf rf ke dalam csv\n",
    "rfnya = pd.DataFrame(tf_rf, columns=columnName)\n",
    "rfnya.to_csv('tfrfnya.csv')\n",
    "\n",
    "# baca data dari csv yang telah disimpan\n",
    "tesrf = pd.read_csv(\"tfrfnya.csv\")\n",
    "tesrf.head()"
   ]
  },
  {
   "attachments": {},
   "cell_type": "markdown",
   "id": "5fc5b6e0",
   "metadata": {},
   "source": [
    "<h1>2. Tanpa Stemming</h1>"
   ]
  },
  {
   "attachments": {},
   "cell_type": "markdown",
   "id": "a82f8bcf",
   "metadata": {},
   "source": [
    "<h2>a. Membaca dataset</h2>"
   ]
  },
  {
   "cell_type": "code",
   "execution_count": 39,
   "id": "acd7a9cd",
   "metadata": {},
   "outputs": [
    {
     "data": {
      "text/html": [
       "<div>\n",
       "<style scoped>\n",
       "    .dataframe tbody tr th:only-of-type {\n",
       "        vertical-align: middle;\n",
       "    }\n",
       "\n",
       "    .dataframe tbody tr th {\n",
       "        vertical-align: top;\n",
       "    }\n",
       "\n",
       "    .dataframe thead th {\n",
       "        text-align: right;\n",
       "    }\n",
       "</style>\n",
       "<table border=\"1\" class=\"dataframe\">\n",
       "  <thead>\n",
       "    <tr style=\"text-align: right;\">\n",
       "      <th></th>\n",
       "      <th>teks</th>\n",
       "      <th>jenis</th>\n",
       "      <th>kategori</th>\n",
       "      <th>pengirim</th>\n",
       "      <th>waktu</th>\n",
       "    </tr>\n",
       "  </thead>\n",
       "  <tbody>\n",
       "    <tr>\n",
       "      <th>0</th>\n",
       "      <td>WOW SELAMAT! Ga hanya kuota GRATIS dr pemerint...</td>\n",
       "      <td>non</td>\n",
       "      <td>promo</td>\n",
       "      <td>myIM3</td>\n",
       "      <td>12/10/2021 22:40</td>\n",
       "    </tr>\n",
       "    <tr>\n",
       "      <th>1</th>\n",
       "      <td>10 Desember 2021: Selamat Merayakan Hari Hak A...</td>\n",
       "      <td>non</td>\n",
       "      <td>operator</td>\n",
       "      <td>KOMNAS HAM</td>\n",
       "      <td>12/10/2021 19:27</td>\n",
       "    </tr>\n",
       "    <tr>\n",
       "      <th>2</th>\n",
       "      <td>HOT PROMO, Isi ulang skr: Min 50rb cashback 10...</td>\n",
       "      <td>non</td>\n",
       "      <td>promo</td>\n",
       "      <td>INDOSAT</td>\n",
       "      <td>12/10/2021 12:03</td>\n",
       "    </tr>\n",
       "    <tr>\n",
       "      <th>3</th>\n",
       "      <td>HotPromo super deal, 25rb dpt 12.12GB, yuk bel...</td>\n",
       "      <td>non</td>\n",
       "      <td>promo</td>\n",
       "      <td>HOT PROMO</td>\n",
       "      <td>12/10/2021 11:37</td>\n",
       "    </tr>\n",
       "    <tr>\n",
       "      <th>4</th>\n",
       "      <td>Hakim ganteng KIM MIN KYU naksir CHORONG APINK...</td>\n",
       "      <td>non</td>\n",
       "      <td>penawaran</td>\n",
       "      <td>INDOSAT</td>\n",
       "      <td>12/10/2021 8:23</td>\n",
       "    </tr>\n",
       "  </tbody>\n",
       "</table>\n",
       "</div>"
      ],
      "text/plain": [
       "                                                teks jenis   kategori  \\\n",
       "0  WOW SELAMAT! Ga hanya kuota GRATIS dr pemerint...   non      promo   \n",
       "1  10 Desember 2021: Selamat Merayakan Hari Hak A...   non   operator   \n",
       "2  HOT PROMO, Isi ulang skr: Min 50rb cashback 10...   non      promo   \n",
       "3  HotPromo super deal, 25rb dpt 12.12GB, yuk bel...   non      promo   \n",
       "4  Hakim ganteng KIM MIN KYU naksir CHORONG APINK...   non  penawaran   \n",
       "\n",
       "     pengirim             waktu  \n",
       "0       myIM3  12/10/2021 22:40  \n",
       "1  KOMNAS HAM  12/10/2021 19:27  \n",
       "2     INDOSAT  12/10/2021 12:03  \n",
       "3   HOT PROMO  12/10/2021 11:37  \n",
       "4     INDOSAT   12/10/2021 8:23  "
      ]
     },
     "execution_count": 39,
     "metadata": {},
     "output_type": "execute_result"
    }
   ],
   "source": [
    "# membaca dataset sms csv dari foldernya, lalu tampilkan 5 data pertama\n",
    "csv_path = \"../Dataset/dataset_finalkah.csv\"\n",
    "ds = pd.read_csv(csv_path)\n",
    "ds.head()"
   ]
  },
  {
   "attachments": {},
   "cell_type": "markdown",
   "id": "b135e10b",
   "metadata": {},
   "source": [
    "<h2>b. Preprocessing</h2>\n",
    "<ul>\n",
    "    <li>case folding = jadi kecil semua</li>\n",
    "    <li>tokenizing = pecah/split jadi per kata</li>\n",
    "    <li>stemming = rubah jadi kata dasar</li>\n",
    "    <li>stopword removal = ambil kata kata yg penting aja</li>\n",
    "    <li>ubah label ke numerik</li>\n",
    "</ul>"
   ]
  },
  {
   "attachments": {},
   "cell_type": "markdown",
   "id": "b5ee8d7d",
   "metadata": {},
   "source": [
    "<h4>Jalankan semua method</h4>"
   ]
  },
  {
   "cell_type": "code",
   "execution_count": 40,
   "id": "e194e95f",
   "metadata": {},
   "outputs": [
    {
     "data": {
      "text/html": [
       "<div>\n",
       "<style scoped>\n",
       "    .dataframe tbody tr th:only-of-type {\n",
       "        vertical-align: middle;\n",
       "    }\n",
       "\n",
       "    .dataframe tbody tr th {\n",
       "        vertical-align: top;\n",
       "    }\n",
       "\n",
       "    .dataframe thead th {\n",
       "        text-align: right;\n",
       "    }\n",
       "</style>\n",
       "<table border=\"1\" class=\"dataframe\">\n",
       "  <thead>\n",
       "    <tr style=\"text-align: right;\">\n",
       "      <th></th>\n",
       "      <th>teks</th>\n",
       "      <th>jenis</th>\n",
       "      <th>kategori</th>\n",
       "      <th>pengirim</th>\n",
       "      <th>waktu</th>\n",
       "    </tr>\n",
       "  </thead>\n",
       "  <tbody>\n",
       "    <tr>\n",
       "      <th>0</th>\n",
       "      <td>wow selamat! ga hanya kuota gratis dr pemerint...</td>\n",
       "      <td>non</td>\n",
       "      <td>promo</td>\n",
       "      <td>myIM3</td>\n",
       "      <td>12/10/2021 22:40</td>\n",
       "    </tr>\n",
       "    <tr>\n",
       "      <th>1</th>\n",
       "      <td>10 desember 2021: selamat merayakan hari hak a...</td>\n",
       "      <td>non</td>\n",
       "      <td>operator</td>\n",
       "      <td>KOMNAS HAM</td>\n",
       "      <td>12/10/2021 19:27</td>\n",
       "    </tr>\n",
       "    <tr>\n",
       "      <th>2</th>\n",
       "      <td>hot promo, isi ulang skr: min 50rb cashback 10...</td>\n",
       "      <td>non</td>\n",
       "      <td>promo</td>\n",
       "      <td>INDOSAT</td>\n",
       "      <td>12/10/2021 12:03</td>\n",
       "    </tr>\n",
       "    <tr>\n",
       "      <th>3</th>\n",
       "      <td>hotpromo super deal, 25rb dpt 12.12gb, yuk bel...</td>\n",
       "      <td>non</td>\n",
       "      <td>promo</td>\n",
       "      <td>HOT PROMO</td>\n",
       "      <td>12/10/2021 11:37</td>\n",
       "    </tr>\n",
       "    <tr>\n",
       "      <th>4</th>\n",
       "      <td>hakim ganteng kim min kyu naksir chorong apink...</td>\n",
       "      <td>non</td>\n",
       "      <td>penawaran</td>\n",
       "      <td>INDOSAT</td>\n",
       "      <td>12/10/2021 8:23</td>\n",
       "    </tr>\n",
       "  </tbody>\n",
       "</table>\n",
       "</div>"
      ],
      "text/plain": [
       "                                                teks jenis   kategori  \\\n",
       "0  wow selamat! ga hanya kuota gratis dr pemerint...   non      promo   \n",
       "1  10 desember 2021: selamat merayakan hari hak a...   non   operator   \n",
       "2  hot promo, isi ulang skr: min 50rb cashback 10...   non      promo   \n",
       "3  hotpromo super deal, 25rb dpt 12.12gb, yuk bel...   non      promo   \n",
       "4  hakim ganteng kim min kyu naksir chorong apink...   non  penawaran   \n",
       "\n",
       "     pengirim             waktu  \n",
       "0       myIM3  12/10/2021 22:40  \n",
       "1  KOMNAS HAM  12/10/2021 19:27  \n",
       "2     INDOSAT  12/10/2021 12:03  \n",
       "3   HOT PROMO  12/10/2021 11:37  \n",
       "4     INDOSAT   12/10/2021 8:23  "
      ]
     },
     "execution_count": 40,
     "metadata": {},
     "output_type": "execute_result"
    }
   ],
   "source": [
    "caseFolding(ds[\"teks\"])\n",
    "ds.head()"
   ]
  },
  {
   "cell_type": "code",
   "execution_count": 41,
   "id": "2013d3c1",
   "metadata": {},
   "outputs": [
    {
     "data": {
      "text/html": [
       "<div>\n",
       "<style scoped>\n",
       "    .dataframe tbody tr th:only-of-type {\n",
       "        vertical-align: middle;\n",
       "    }\n",
       "\n",
       "    .dataframe tbody tr th {\n",
       "        vertical-align: top;\n",
       "    }\n",
       "\n",
       "    .dataframe thead th {\n",
       "        text-align: right;\n",
       "    }\n",
       "</style>\n",
       "<table border=\"1\" class=\"dataframe\">\n",
       "  <thead>\n",
       "    <tr style=\"text-align: right;\">\n",
       "      <th></th>\n",
       "      <th>teks</th>\n",
       "      <th>jenis</th>\n",
       "      <th>kategori</th>\n",
       "      <th>pengirim</th>\n",
       "      <th>waktu</th>\n",
       "    </tr>\n",
       "  </thead>\n",
       "  <tbody>\n",
       "    <tr>\n",
       "      <th>0</th>\n",
       "      <td>wow selamat! ga kuota gratis dr pemerintah bis...</td>\n",
       "      <td>non</td>\n",
       "      <td>promo</td>\n",
       "      <td>myIM3</td>\n",
       "      <td>12/10/2021 22:40</td>\n",
       "    </tr>\n",
       "    <tr>\n",
       "      <th>1</th>\n",
       "      <td>10 desember 2021: selamat merayakan hari hak a...</td>\n",
       "      <td>non</td>\n",
       "      <td>operator</td>\n",
       "      <td>KOMNAS HAM</td>\n",
       "      <td>12/10/2021 19:27</td>\n",
       "    </tr>\n",
       "    <tr>\n",
       "      <th>2</th>\n",
       "      <td>hot promo, isi ulang skr: min 50rb cashback 10...</td>\n",
       "      <td>non</td>\n",
       "      <td>promo</td>\n",
       "      <td>INDOSAT</td>\n",
       "      <td>12/10/2021 12:03</td>\n",
       "    </tr>\n",
       "    <tr>\n",
       "      <th>3</th>\n",
       "      <td>hotpromo super deal, 25rb dpt 12.12gb, yuk bel...</td>\n",
       "      <td>non</td>\n",
       "      <td>promo</td>\n",
       "      <td>HOT PROMO</td>\n",
       "      <td>12/10/2021 11:37</td>\n",
       "    </tr>\n",
       "    <tr>\n",
       "      <th>4</th>\n",
       "      <td>hakim ganteng kim min kyu naksir chorong apink...</td>\n",
       "      <td>non</td>\n",
       "      <td>penawaran</td>\n",
       "      <td>INDOSAT</td>\n",
       "      <td>12/10/2021 8:23</td>\n",
       "    </tr>\n",
       "  </tbody>\n",
       "</table>\n",
       "</div>"
      ],
      "text/plain": [
       "                                                teks jenis   kategori  \\\n",
       "0  wow selamat! ga kuota gratis dr pemerintah bis...   non      promo   \n",
       "1  10 desember 2021: selamat merayakan hari hak a...   non   operator   \n",
       "2  hot promo, isi ulang skr: min 50rb cashback 10...   non      promo   \n",
       "3  hotpromo super deal, 25rb dpt 12.12gb, yuk bel...   non      promo   \n",
       "4  hakim ganteng kim min kyu naksir chorong apink...   non  penawaran   \n",
       "\n",
       "     pengirim             waktu  \n",
       "0       myIM3  12/10/2021 22:40  \n",
       "1  KOMNAS HAM  12/10/2021 19:27  \n",
       "2     INDOSAT  12/10/2021 12:03  \n",
       "3   HOT PROMO  12/10/2021 11:37  \n",
       "4     INDOSAT   12/10/2021 8:23  "
      ]
     },
     "execution_count": 41,
     "metadata": {},
     "output_type": "execute_result"
    }
   ],
   "source": [
    "stopwordRemoval(ds[\"teks\"])\n",
    "ds.head()"
   ]
  },
  {
   "cell_type": "code",
   "execution_count": 42,
   "id": "f0b26fb1",
   "metadata": {},
   "outputs": [
    {
     "data": {
      "text/html": [
       "<div>\n",
       "<style scoped>\n",
       "    .dataframe tbody tr th:only-of-type {\n",
       "        vertical-align: middle;\n",
       "    }\n",
       "\n",
       "    .dataframe tbody tr th {\n",
       "        vertical-align: top;\n",
       "    }\n",
       "\n",
       "    .dataframe thead th {\n",
       "        text-align: right;\n",
       "    }\n",
       "</style>\n",
       "<table border=\"1\" class=\"dataframe\">\n",
       "  <thead>\n",
       "    <tr style=\"text-align: right;\">\n",
       "      <th></th>\n",
       "      <th>teks</th>\n",
       "      <th>jenis</th>\n",
       "      <th>kategori</th>\n",
       "      <th>pengirim</th>\n",
       "      <th>waktu</th>\n",
       "    </tr>\n",
       "  </thead>\n",
       "  <tbody>\n",
       "    <tr>\n",
       "      <th>0</th>\n",
       "      <td>[wow, selamat, !, ga, kuota, gratis, dr, pemer...</td>\n",
       "      <td>non</td>\n",
       "      <td>promo</td>\n",
       "      <td>myIM3</td>\n",
       "      <td>12/10/2021 22:40</td>\n",
       "    </tr>\n",
       "    <tr>\n",
       "      <th>1</th>\n",
       "      <td>[10, desember, 2021, :, selamat, merayakan, ha...</td>\n",
       "      <td>non</td>\n",
       "      <td>operator</td>\n",
       "      <td>KOMNAS HAM</td>\n",
       "      <td>12/10/2021 19:27</td>\n",
       "    </tr>\n",
       "    <tr>\n",
       "      <th>2</th>\n",
       "      <td>[hot, promo, ,, isi, ulang, skr, :, min, 50rb,...</td>\n",
       "      <td>non</td>\n",
       "      <td>promo</td>\n",
       "      <td>INDOSAT</td>\n",
       "      <td>12/10/2021 12:03</td>\n",
       "    </tr>\n",
       "    <tr>\n",
       "      <th>3</th>\n",
       "      <td>[hotpromo, super, deal, ,, 25rb, dpt, 12.12gb,...</td>\n",
       "      <td>non</td>\n",
       "      <td>promo</td>\n",
       "      <td>HOT PROMO</td>\n",
       "      <td>12/10/2021 11:37</td>\n",
       "    </tr>\n",
       "    <tr>\n",
       "      <th>4</th>\n",
       "      <td>[hakim, ganteng, kim, min, kyu, naksir, choron...</td>\n",
       "      <td>non</td>\n",
       "      <td>penawaran</td>\n",
       "      <td>INDOSAT</td>\n",
       "      <td>12/10/2021 8:23</td>\n",
       "    </tr>\n",
       "  </tbody>\n",
       "</table>\n",
       "</div>"
      ],
      "text/plain": [
       "                                                teks jenis   kategori  \\\n",
       "0  [wow, selamat, !, ga, kuota, gratis, dr, pemer...   non      promo   \n",
       "1  [10, desember, 2021, :, selamat, merayakan, ha...   non   operator   \n",
       "2  [hot, promo, ,, isi, ulang, skr, :, min, 50rb,...   non      promo   \n",
       "3  [hotpromo, super, deal, ,, 25rb, dpt, 12.12gb,...   non      promo   \n",
       "4  [hakim, ganteng, kim, min, kyu, naksir, choron...   non  penawaran   \n",
       "\n",
       "     pengirim             waktu  \n",
       "0       myIM3  12/10/2021 22:40  \n",
       "1  KOMNAS HAM  12/10/2021 19:27  \n",
       "2     INDOSAT  12/10/2021 12:03  \n",
       "3   HOT PROMO  12/10/2021 11:37  \n",
       "4     INDOSAT   12/10/2021 8:23  "
      ]
     },
     "execution_count": 42,
     "metadata": {},
     "output_type": "execute_result"
    }
   ],
   "source": [
    "tokenizing(ds[\"teks\"])\n",
    "ds.head()"
   ]
  },
  {
   "attachments": {},
   "cell_type": "markdown",
   "id": "bf8e41c7",
   "metadata": {},
   "source": [
    "<h4>Ubah label jadi numerik</h4>"
   ]
  },
  {
   "cell_type": "code",
   "execution_count": 43,
   "id": "7d618d2a",
   "metadata": {},
   "outputs": [
    {
     "data": {
      "text/plain": [
       "array(['non', 'spam'], dtype=object)"
      ]
     },
     "execution_count": 43,
     "metadata": {},
     "output_type": "execute_result"
    }
   ],
   "source": [
    "from sklearn.preprocessing import LabelEncoder\n",
    "ds['jenis'].unique()"
   ]
  },
  {
   "cell_type": "code",
   "execution_count": 44,
   "id": "bf444d04",
   "metadata": {},
   "outputs": [
    {
     "data": {
      "text/plain": [
       "array([0, 1])"
      ]
     },
     "execution_count": 44,
     "metadata": {},
     "output_type": "execute_result"
    }
   ],
   "source": [
    "le = LabelEncoder()\n",
    "ds['jenis'] = le.fit_transform(ds['jenis'])\n",
    "ds['jenis'].unique()"
   ]
  },
  {
   "attachments": {},
   "cell_type": "markdown",
   "id": "cd766023",
   "metadata": {},
   "source": [
    "<h2>c. Pembobotan</h2>\n",
    "\n",
    "<h4>1) TF-IDF</h4>\n",
    "<ul>\n",
    "    <li>hitung nilai TF</li>\n",
    "    <li>hitung nilai DF</li>\n",
    "    <li>hitung nilai IDF, TF-IDF</li>\n",
    "</ul>"
   ]
  },
  {
   "attachments": {},
   "cell_type": "markdown",
   "id": "fdbcc5ca",
   "metadata": {},
   "source": [
    "<h4>Method untuk perhitungan TF dan DF</h4>"
   ]
  },
  {
   "cell_type": "code",
   "execution_count": 45,
   "id": "3caafafe",
   "metadata": {},
   "outputs": [
    {
     "name": "stdout",
     "output_type": "stream",
     "text": [
      "['wow', 'selamat', '!', 'ga', 'kuota', 'gratis', 'dr', 'pemerintah', 'bisa', 'ambil', '5gb', 'rp1', 'perak', 'yuk', '&', 'raih', 'hingga', '100gb', '.', 'bit.ly/tbswr', '10', 'desember', '2021', ':', 'merayakan', 'hari', 'hak', 'asasi', 'manusia', 'maju', 'tegakkan', 'semua', 'hot', 'promo', ',', 'isi', 'ulang', 'skr', 'min', '50rb', 'cashback', '100', '%', '+3gb', '10rb', '50', '+1gb', '5rb', 'cashback25', 'bonus', 'utk', 'nelp', 'sms', 'no', 'im3', 'internetan', 'hotpromo', 'super', 'deal', '25rb', 'dpt', '12.12gb', 'beli', 'whatsapp', 'official', 'ooredoo', 'klik', 'bit.ly/im3fs12', '12hari', '9-20des', 'pilihan', 'di', '*', '123', '60', '#', 'hakim', 'ganteng', 'kim', 'kyu', 'naksir', 'chorong', 'apink', 'serial', 'drama', 'romance', 'special', 'law', 'nonton', 'sekarang', 'trueid', 'https', '//bit.ly/3oghdd1', 'sim', 'card', 'resmi', 'mendapatkan', 'bantuan', 'dana', 'subsidi', 'rp.189.000.000', 'pin', 'pemenang', '(', '717747', ')', 'wa', '087836275975', 'bit.ly/subsidi4', 'cuma', 'nelpon', 'sepuasnya', 'selama', '30', 'ayo', 'cek', 'paket', 'hanya', 'kamu', 'lho', 'musim', 'belanja', 'byk', 'kebutuhan', '?', 'ajukan', 'ucan', 'saja', 'pinjaman', 'digital', 'aman', 'plus', 'dapat', '50gb', '//im3.do/ucan', 'cs:021-30055300', 'dsi', 'topup', 'pulsa', 'rp', '25000', 'berhasil', 'via', 'i-banking', 'mandiri', 'kode', 'trx', '1209103415364038.', 'saat', '35291.', 'terima', 'kasih', 'menggunakan', 'indosat', 'onnet', '3', 'aktif', 's.d', '12/12/2021', '10:34.', '557', '8', '250', 'impoin', 'dri', 'msk', 'akunmu', 'you', \"'ve\", 'earned', 'valid', 'until', '31-12-2021.', 'redeem', 'w/attractive', 'rewards', 'bit.ly/imnm3', 'horee', 'udh', 'dipakai', 'data', 'mau', '1gb', 'lagi', 'daftar', 'http', '//im3.do/dpktnc', 'pagi', 'sy', 'kepegawaian', 'unram', 'menginformasikan', 'kpd', 'peserta', 'wawancara', 'mengecek', 'link', 'zoom', 'email', 'masing2', '..', 'yg', 'blm', 'dikirimkan', 'menghubungi', 'nomer', 'ini', 'terimakasih', '//cpns.kemdikbud.go.id/pengumuman/pengumuman-tentang-penundaan-pelaksanaan-seleksi-kompetensi-bidang-skb-wawancara-dan-tes-praktik-mengajar-micro-teaching/index.html', 'info', 'mndptkan', '75jt', 'tiktok', 'cashkode', 'kbr99d7', 'silahkan', '//bit.ly/tiktokers_17', 'dapatkan', 'tambahan', '60mnt', 'telp', 'sesama', 'xl', 'berlaku', '1hari', 'dgn', 'menyetujui', 'kebijakan', 'terbaru', 'xl.co.id/id/kebijakan-privasi', 'balas', 'setuju', 'xl.co.id/lc', 'xnc50b', 'diharapkan', 'kehadiran', 'bpk/ibu', 'pd', 'rabu', '1', 'pkl', '09.30', 'harap', 'konfirmasi', 'ruang', 'psikometri', 'rsj', '4', 'indikator', 'pengaruhi', 'penyebaran', 'covid-19', 'mobilitas', 'penduduk', 'cakupan', 'vaksinasi', 'kepatuhan', 'prokes', 'kemampuan', 'penyakit', 'waspada', 'covid19.go.id', 'kejutan', 'uitah', '54mb', 'bayar', 'pakai', 'qris', 'imkas', 'install', 'bit.ly/promosimkassms', 'bit.ly/imkassms', 'cs', 'bit.ly/smsccim3', 'sedang', 'terbaik', 'nikmati', 'terus', '24', 'jam', 'khawatir', 'jebol', 'myim3', 'your', 'apple', 'id', 'code', 'is', '624641.', 'do', \"n't\", 'share', 'it', 'with', 'anyone', 'apple.com', '624641', 'yth', 'bapak/ibu', 'menawarkan', 'online', 'bunga', '2', 'prtaun', 'minimal', '2-300jta', '082290163221', 'sdh', 'bnyk', 'mngg', 'b0sq', 'lsng', 'kt', 'byr', 'brppun', 'dft', 'dis1tu5', 'jd', 'onli-ne', 'b0-la,5l0-t', 'casi-n0', 'p0-ker', 't0-gel', '0nli-ne', 'skrng', 'dilin-k', 'bit.ly/hokibet5', 'utama', 'transaksi', 'bonusnya', '//myxlapp.page.link/bonus', '17', 'nov', 'rp15000.0', '99971115182393.', 'registrasi', 'nomor', 'xl-mu', '4444', 'kartu', 'memasuki', 'masa', 'tenggang', 'segera', 'aktifkan', 'apa', 'komunikasi', 'tdk', 'terputus', 'xj008b', 'sisa', '641', 'menikmati', 'layanan', 'oopss', 'pulsamu', '0.', 'ooredoo-nya', 'portal', '//i.ncnd.in/u/nc', 'freedom', 'internet', 'zone', '3gb', 'rp15rb', '08:34.', '300mb', 'bit.ly/m3cpx', '11.11', 'kpn', '11.11gb', '30hari', 'rp22rb', 'yakin', 'gak', 'tertarik', 'intip', 'aja', 'dulu', 'lainnya', 'jg', 'bit.ly/im3hotpromo', 'sd', '15nov', 'gas', 'ksh', 'putus.mau', 'isipulsa', 'cb', '10rb-cb50', '3hr', '25rb-cb100', '50rb-cb100', '+3gb3hr', '100rb-cb100', '+4gb5hr', '12/11/21', 'pt', 'rkb', 'gold', 'memberikan', 'penghasilan', 'profit', '20', '-30', 'per', '6', 'wa.08152335210', 'www.rkb-gold.com', 'harga', 'pas', 'kantong', 'tetap', 'penuh', '1,5gb', '4rb/3hr', '6gb', '18rb/30hr', '3.', 'diskon', 'u', 'unlimited', 'kuotanya', 'makin', 'gede', 'harganya', '25gb', '50rb/30hr', 'ada', 'lain', 'bit.ly/m3mkd', 'prtahun', '2-300jt', '0815-2507-559', 'shopee', 'slmt', 'no.anda', 'mendaptkan', 'hadiah', 'ke-2', 'tunai', 'rp.185jt', ';', 'ad25md47', 'u/info', 'bit.ly/info-bigsale-11-11', 'tren', 'indonesia', 'kenaikan', 'pusat', 'rekreasi', 'tetaplah', 'disiplin', 'vaksin', 'lengkapi', 'dosisnya', 'spesial', 'buat', 'rp10jt', 'aplikasi', 'lebih', 'cepat', 'stabil', 'bit.ly/kttm3', 'dg', 'tarif', 'dasar', 'pemakaian', 'km', '2100.', 'hemat', 'pkt', 'mulai', '15rb', '32gb', 'butuh', 'modal', 'usaha', 'siap', 'membantu', '5jt/500jt', 'ringan', 'agen', 'pin-ol', 'terpercaya', '085825534663', 'assalamualaikum', 'cair', 'dari', 'ksp', 'bersama', 'melayani', 'seluruh', 'minat', 'hubungi', 'kami/chat', '087718858834', 'budi', 'terpilih', 'bit.ly/galery-shopee2021', '085823390427', 'tetaphappy', 'tunggu', 'lg', 'kisah', 'sekolah', 'pasto', 'dptin', 'trf', '7700/30hr', '//bit.ly/2tsihfy', 'cs:185.bls', 'ketik', 'hindari', 'lokasi', 'bahaya', 'padat', 'orang', 'tertutup', 'dan/atau', 'sempit', 'ventilasi', 'udara', 'buruk', 'abai', 'taruhannya', 'keselamatan', 'keluarga', ':082290163221', '2-500jt', ':082250170207', 'm-dptkan', '155jta', 'giveaway', 'tik-tok', 'f577a79', 'lanjut', 'bit.ly/giveaway-tiktok25', '085656024445', 'minpinjaman', '5jt-500jt', 'chat', 'wa,085796446430', 'useetv', 'verification', 'for', 'subscription', '4881.', 'use', 'this', 'to', 'finish', '712885', '927026', 'github', 'authentication', '@', 'github.com', 'givewaytiktok', 'meraih', 'rp.155juta', 'bit.ly/giveawaytiktok297', 'wa.087787772297', 'octa', 'membuka', 'investasi', 'rayakan', 'tahun', 'silver', '1jt', '19jt', '4jt', '85jt', 'platinum', '8jt', '200jt', 'www.octainvestama4d.com', 'dan4', 'pinj4man', 'tercepat', 'langung', 'rendah', 'perbulan', '2jt', 's/d', '500jt', '085221726262', 'm-dptkn', 'rp.37jt', 'program', 'bpjsinfo', 'bit.ly/bantuan-dana3', 'unduh', 'gunakan', 'pedulilindungi', 'juga', 'berguna', 'lindungi', 'diri', 'peduli', 'resiko', 'xj008g', 'otp', '5458.', 'rahasiakan', 'anda', 'abaikan', 'meminta', 'nmr', 'pada', '19/12/21', '14:59', 'sdg', 'menerima', 'panggilan', 'hub', 'beberapa', 'penawaran', 'istimewa', 'dptkan', '3hari', 'pembelian', 'minimum', '7hari', 'lihat', 'paketnya', 'apps', 'myxl', '//bit.ly/myxl4you', 'xnd84b', 'enggeh', 'trims', '28437', 'verifikasi', 'perubahan', 'faskes', 'pertama', 'nke', 'ustadz', 'ramli', 'bengkel', 'sertifikat', 'baiq', 'nurlaeli', 'hidayati', 'nik', '52xxx01', 'tersedia', '//pdl.id/c/1a1gb4dg', 'akses', 'mudah', 'lewat', 'playstore', 'appstore', 'tp', 'muncul', 'nya', 'dikirim', 'tes', 'sm', 'plggh', '0812916179180', '23411', 'handphone', 'berkah', 'pmnng', 'buka', 'bit.ly/pertaminaberbagi47', '087833434477', 'kirimkan', 'rek', 'side', 'pk', 'aji', '450603', 'memverifikasi', 'akun', 'kadaluarsa', 'waktu', 'menit', 'f43sp+yfun+', 'mik', 'kalo', 'prya', 'besok', 'titip', 'stnk', 'nike', 'gih', 'maaf', 'mengganggu', 'kmi', 'disini', 'menarwarkan', 'pinjman', 'dll', 'pertahun', '5-500jt', 'jelasnya', 'wa:087787866977', 'm-dpatkan', 'c3k', 'rp,189.000.000', 'pertamina', '85251323939', 'bit.ly/pertamina939', 'pelanggan', '085238147508', 'hape', 'baru', '+2000', 'coin', '500', '75', 'tukar', 'jadi', 'pak', 'minta', 'alamatx', 'sendiri', 'insyaallah', 'bsk', 'dah', 'mtor', 'gk', 'dpake', 'td', '20/08/21', '18:19', 'sudah', 'nsbh', 'bsi', 'ex', 'bnis', 'update', 'proses', 'konversi', 'rekening', 'weekend', 'banking', 'sabtu', '08.30-14.00', 'outlet', 'tertentu', 'bit.ly/bsiweekendbanking', 'ktntuan', 'protokol', 'dlakukan', 'mobile', 'call', '14040', 'tekan', '1.', 'slalu', 'wspada', 'thdp', 'penipuan', 'sidang', 'tahunan', 'mpr', '16', 'agustus', 'konvensi', 'ketatanegaraan', 'rangka', 'laporan', 'kinerja', 'lembaga-lembaga', 'negara', 'pesan', 'kedas', 'beauty', 'rp.175jta', 'ck805ku', 'bit.ly/program-resmi427', ':087837589899', 'sakti', 'min.100ribu', 'poin', 'langsung', 'voucher', 'joox', 'vip', '7', 'aktivasi', 'loyal3', '12ags21', 'skb', 'suzuki', 'carry', 'pick', 'up', 'dp', 'juta', 'banyak', 'bos', 'ku', 'pemesanan', 'firman', 'marketing', 'lombok', '081917720669', '``', 'informasikan', 'saya', 'keluarga/kerabatnya', 'berencana', 'membeli', 'mobil', 'fee/bonus', \"''\", 'krtu', 'dgunakn', 'atm', 'tnp', 'biaya', 'rkening', '4.', 'dilayani', 'sluruh', 'cbng', 'trdkt', 'ppkm', 'darurat', 'selalu', 'bit.ly/faqbsi', 'miq', 'mhn', 'msh', 'niki', 'rmh', 'sakit', 'biar', 'tiang', 'anterkan', 'nnti', 'air', 'bersaing', 'total', '222', 'skrg', 'cm', 'rp1500/hr', '50sms', 'xl/axis', 'xl.co.id', 'xpf01a', 'haji', 'kirimak', 'izaura', 'dus', 'soponyono', 'uangnya', 'senin', 'sore', 'wah', 'jari', 'ne', 'kesini', 'plg', 'omg', '100mb', 'download', 'mytelkomsel', '//tsel.me/tsel', 'entertainment', '363', 'slmat', 'trpilih', 'mndpatkan', 'bntuan', 'idr', '150.000.000', 'lbih', 'lngkpnya', 'silahkn', 'bit.ly/bangkesbpjs', 'locked', '257257', 'pemberitahuan', 'trakhir', '175.000.000', 'pr0gram', 'vrifikasi', 's.id/surprise_giveaway07', 'main', 'sl0tguru88', 'bit.ly/sg88jp', 'menang', 'berapapun', 'dibayar', 'qq39bet', 'bit.ly/daftarqq39bet', 'punya', 'pulsa+kuota', 'pilih', 'hangus', 'tunjukkan', 'ktp', '18', 'drive-thru', 'www.xlaxiata.co.id/indonesiabangkit', 'sinovac-biofarma', 'br196a', 'menwrkn', 'barang', 'jatuh', 'tempo', 'pegadaian', 'ori', 'bit.ly/balailelangresmi73', '<', '>', '51345050', 'facebook', 'laz+nxcarlw', 'rp10', 'tsel.me/1', 'bit.ly/rwrd5gb', '.skb', '466564', 'pembukaan', 'bank', 'syariah', '5', 'salam', 'sukses', 'memperoleh', 'plan', 'a', 'tgl', '25-5-2021', 'b000112785', 'sponsor:0', 'pasangan:50.000', 'jumlah:50.000', 'admin', '-7.500', 'ditransfer', '42.500', 'r000014644', 'sponsor:100.000', 'b000035978', 'pasangan:100.000', 'jumlah:250.000', '242.500', 'mu', 'belum', 'diambil', 'ditukar', 'mndapatkan', 'dng', 'lnjut', 'bit.ly/shopee-berbagi-2021', 'memiliki', '0', 'mb', '20-05-2021', '23:59', 'lokal', '3.82', 'gb', 'perdana', '0.04', '17-06-2021', 'tsel.me/va', '200.000.000', 'bit.ly/danabpjs-2021', 'anda:25b547', 'b', 'member', 'r000014841', 'bulan', 'april', 'kami', 'transfer', '514.840', 'dibayarkan', '507.340', 'simcard', 'trdftar', 'bpjs', 'urutan', 'bit.ly/danabantuankesbpjs', 'masukkan', 'locked:25qr47', 'ke-7', 'bit.ly/bpjssalurandanabantuan47', '557557', 'jt', '-', 'mudan', '/tahun', 'whatsaap', '085348747397', 'ass', 'btuh', 'tmbhan', 'mdal', 'u/info/silahkan', 'wa:085340304479', 'hormat', 'mnwaran', 'pnjman', 'brbsis', 'rndah', '/thun', 'dlam', '5jt', 'tnpa', 'anggunan', 'whatsup', '087788796547', '17-12-2021', 'b000145719', 'maksimal', 'diskusi', '300', 'org', '15gb', 'pro', 'tsel.me/zoompro', 'b000145718', 'jualan', 'kawinan', 'renda', '082352630303', 'kntr', '[', 'c3lc1u5k', ']', 'bit.ly/dana-bantuanbpjs2020', 'pesungihan', 'tumbal', '-dana', 'goib', '-penglaris', '-bisnis', '-asmara/dll', 'mbah', 'mijang', '082339339135', 'kredit', 'agunan', '500jta', '0,2', '0852-4857-6969', 'jo1n', 'r3c0v3ry', 'inve5t4s1', '600', 'win', '7jt', '15jt', '1,5jt', '32jt', '40jt', '80jt', '95jt', 'bit.ly/investasidana-sukses', 'rp.175.jt', '25f4777', 'u/1nf0', 'it.ly/hadiah7700', 'sb', 'finance', '-khusus', 'ekonomi', '-proses', '081215147499', 'modah', 'cpat', 'angunan', '5jta-500jta', 'wa.+6285340130704', 'kesulitan', 'bikin', 'menyediakan', 'pnjmn', 'amanah', '5juta', 'sammpai', '500juta', 'info/whatsapp', '085213725533', 'd4n4', 'cp4t', 'd4n', 'trperc4ya', 'wa:082189443339', 'ganggu', 'wktux', 'tawarkan', 'rupiah', 'jamin', 'shd', 'terdaftar', 'ojk', \"'\", 'lengkap', 'cht', 'wa.082233764198', '0822', '1705', '7985', 'koperasi', 'mnwrkn', 'wa:085283195227', 'rp.175.000,000-', 'dibaw.', 'bit.ly/undian-pemenang', 'bri.a/n', 'risma', '4479', '0102', '1801', '539', 'kre4dit', 'pinter', 'rakyat', '5jt-500t', 'tampa', 'bunga,2', 'prthn', 'hub/wa', '0857-5780-4757', 'mendapa', 'rp.175.ooo.ooo', 'kliklink', 's.id/galeripemenang012', 'pt.shopee', 'rp.175.000.000', 'u/1nfo', 'bit.ly/galerihadiah182', 's.id/galerihadiah47', 'solusi', 'finansial', '-u/usaha', '-min', '-max', '700jt', '-langsung', 'stelah', 'diaktifkan', '082346631967', 'beli1', 'gratis1', 'burger', 'bbq', 'beef', 'rasher', '+', 'coke', '50k', 'king', 'terdekat', '//bit.ly/tselbk281', '606', 'meal', 'offer', '2pc', 'ayam', 'rice', '30,000', '//bit.ly/tselbk271', 'mozzarella', 'cheeseburger+regular', 'fries+coke', '58,000', 'terdekat.klik', '//bit.ly/tselbk261', 'skb.promo', 'minuman', 'pun-grande', 'size', 'starbucks', 'exc', 'airport', 'tinggal', '4g', 'hr', '1000', '4g15', 'untuk', 'ke', 'tsel.me/hotoffer', 'telegram', '42350', 'can', 'also', 'tap', 'on', 'log', 'in', '//t.me/login/42350', 'akan', 'berakhir', '22/11/2020', 'lakukan', 'pengisian', 'tsel.me/pulsa', '4-cheese', 'whopper', 'jr.+regular', '63k', '//bit.ly/tselbk251', 'cheeseburger', 'pc', 'waffle', 'fries', 'rp65,000', '//bit.ly/tselbk241', 'untukmu', 'telkomsel', '1hr', 'tsel.me/download', 'kartuhalo', '138gb', '6bln', '100rb', 'vivo', 'grapari', 'store', 'erafone', 'tsel.me/haloerafone', 'khusus', '10gb/rp', '600mb', 'free', 'roli', '//tsel.me/roli_md', 'belajar', 'tanggal', '30/10/2020', 'wib', 'telah', 'selanjutnya', 'dikenakan', 'tariff', 'normal', '40', 'chicken', 'strips', 'nasi', '39', 'ribu', 'nett', 'cfc', 'transmart', 'mataram', 'nov.', 'classic', 'crispy', 'rp50,000', '//bit.ly/tselbk199', 'semeton', 'youtube', 'sosmed', 'unlimitedmax', '70rban', 'outlet/mytsel/', 'ksmptn', 'pulsa/minggu', 'bit.ly/pulsabln9', 'berada', 'dibelikan', 'teman/keluarga', 'yes', 'rp.4rb', 'contoh', '08123456789', '5rb-an', '11gb', '844', 'kesempatan', 'hpsamsung', 'smartwatch', 'saldo', 'linkaja', 'bit.ly/kuotabelajarbalnus', 'habis', 'silakan', 'tsel.me/tsel1', 'my', 'mndptkn', 'murah', '10rp', '.info', 'bit.ly/mytsel_reward', 'instagram', 'meriah', 'ketengan', 'dijamin', 'mahal', 'loh', 'aktifin', '847', 'nsp', '0/7hr', 'bls', 'langganan', 'aku', 'rela-tri', 'suaka', 'tsel.me/nspsk', '188', 'legends', 'gratiss', 'menantimu', 'ckp', 'mytsel', 'datang', 'pergi-mahen', 'outlet/', 'berkali2x', '6bulan', 'jalapeno', 'jr.', '//bit.ly/tselbk121', '30/09/2020', 'berbagai', 'menarik', 'telepon', 'gift', 'disney+', 'hotstar', 'mengakses', 'non', 'tsel.me/data', 'tsel.me/n1s', '100pulsa/minggu', 'penggunaan', 'terakhir', 'adalah', '25001.00', 'memenuhi', 'diperpanjang', '23/10/2020', 'g-875529', 'google', 'g-765034', 'permintaan', 'collect', 'ditolak', '+6285338647408', '1.89', '21-09-2020', '350.38', '19-06-2021', '320-294', 'mengetuk', 'tautan', 'v.whatsapp.com/320294', 'jangan', 'bagikan', 'dengan', '4sglq1p5sv6', 'bulanan', 'ilmupedia', 'cakap', 'ruangguru', 'sebanyak-banyaknya', 'rp100rb', 'telkomsel.com/racingkuota', 'tujuan', '6285158442388', 'salah', '62852382410', '150,000', 'sn', '02524500000637163815', '29/11/2021', '14:06:17.', 'pulsa/pembelian', 'mercy', 'gla200', '1poin', 'tsel.me/hadiah', 'sya', 'malaysia', 'pertolongan', 'ncik', 'selamatkan', 'hrta', 'keserakahan', 'istri', 'jka', 'si4p', 'ch4t', '+601131246148', 'permisi', 'siapa', 'tahu', 'kembangkan', '082316469276', 'rp75000', '24/11/2021', 'combo', 'pinjamamn', ':085341764479', 'youngjoy', 'technology', 'limited', 'diamonds', 'bang', 'play', '18480.00', 'termasuk', 'ppn', 'jasa', 'normal.cs:188', 'gopay', 'ditambahkan', 'metode', 'pembayaran', 'kemdikbud', 'disemua', 'games', 'video', 'tsel.me/kuotabelajar', 'tokopedia', 'memberitahu', 'rahasia', 'siapapun', 'pihak', 'kasus', 'masuk', '362183', 'uang', 'keperluan', 'solusinya', '082291120869', 'diamond', '92400.00', 'hp', '081246632537', '/', 'ya', '871951', 'indodax', 'mnormanmm', 'stop', 'janggal', 'rp0', '7hr', 'jang', 'ganggu-shine', 'of', 'black', 'perpanjangan', 'rp.0/30hari', 'tsel.me/nsp', 'cs:188', 'blu', 'by', 'bca', 'app', 'redi', 'tsel.me/redixblu', 'pengen', 'cobain', 'tsel.me/zoompro1', '+6282317685757', '250rb', 'beruntung', 'caranya', 'perbanyak', 'bni', '141', 'menu', '//bit.ly/smsbankingbni', 'berikan', 'login', '382622.', '150911', 'tidak', 'tonton', 'wandavision', 'soul', 'grey', \"'s\", 'anatomy', 'tayangan', 'global', 'tsel.me/dp1mm', '32gb,200mnttsel,400smstsel', 'bebas', 'line', 'musicmax', 'gamesmax', 'maxstream', 'batas', 'wajar', '20gb', '120000', 'status/berhenti', 'berlangganan', 'melalui', 'and', 'penerima', 'rp,75jt', 'l0cked', '47aa277', 'w', '0822-9718-2422', 'inf0', 'l1nk', 'bit.ly/rejekibpjskes22', 'pusing', 'cri', 'jngan', 'khawtir', 'slusinya', 'membntu', 'prekonomian', 'masyrkat', 'minmal', '5jt-500juta', 'bermnt', 'lngsung', '081240845590', 'slamat', 'mendptkan', '75.000.000', 'tik21k77', 'wa:082268519889', 'terpilihm-dpatkan', '//bit.ly/layanan-cs67', 'hack', 'talk', 'kedatangan', 'event', 'berlokasi', 'upnormal', 'coffee', '23', 'oktober', 'pukul', '08.00', 'wita', 'nih', '//tsel.me/redisms2', 'sampe', 'ketinggalan', '39805', '//t.me/login/39805', 'viu', 'vidio', 'rp25rb', 'gigamax', 'tsel.me/gigamaxfit', '5gb+1gb', 'regular', '21nov', 'rp.189', '083113979577', 's.id/infopertamina3', 'rp.75jt', '0822-9718-2399', 'linknya', 'bit.ly/csbantuanbpjs', 'kupon', '+1000', '70', 'pulsa/kuota', 'mendpatkan', 'degan', 'pemen4ng', '1nfo', 's.id/cs-pertamina459', 'usahamu', 'ramai', 'promosi', 'rp10ribu', 'beriklan', 'tsel.me/promositepat23', 'twitter', '995.94', '14-10-2021', '24-10-2021', 'baca', '101', '11', 'chatting', 'ibu', 'ina', 'ambon', 'brkat', 'ki', 'ageng', 'tembus', '4angka', 'kemaring', 'sydney', '2359', 'pasang', 'cobah', 'tlp/wa', '085214969127', 'tau', 'sperti', '4nd4', 'm-daptkan', 'b4ntu4n', 'dar1', 'kantor', 'bit.ly/bpjsindonesia', '052632', 'subsid1', 'formation', 'bit.ly/mypertamina04', 'whsp', '087882141504', 'gojekmu', 'dipasang', 'bukan', 'gojek.com/secure', 'pun', 'bahkan', 'gojek', 'karna', 'ngakses', 'gopaymu', '012803', 'gojek.com/safety', '4pkezqv9ubl', 'banking:29/09/2021', '11:20', 'diproses', 'anda:081246632537', 'kunjungi', 'cabang', '528756.', 'menyelesaikan', 'pelatihan', 'vsga', 'fga', 'berhak', 'mengikuti', 'pasca', 'bergabung', 'channel', '//t.me/pascapelatihan2021', 'tagihan', 'spaylater', '2021/10/5', 'team', 'bossqe', '...', 'bapau', 'baim-paula', 'mengucapkan', 'rp.35jt', 'kdr99d7', 'chatwa:082251183665', 'pacific', 'trader', 'jdilah', 'pebisnis', 'nmor', 'propit', '-60', 't-prcya', 'web', 'www.pacificgt.web.id', 'tlgram', 't.me/pacificglobaltrader', 'celana', 'jogger', 'cukup', 'buruan', 'tsel.me/toped8', 'mohd.norman', 'mukhallish', '52xxx04', '//pdl.id/c/19z3v6hd', 'myads.id/redixblu', 'jackp0t', \"slot'games\", 'terlengk4p', 'br0t', '63l', 'dik.si/mtn6d', 'b4cc4r4t', \"ding'dong\", 'to_gel', \"bo'la\", 'c', 's1n0', 'sbo', 'mainkan', 'mi', 'yaitu', '973528.', 'd4n4h', 'muda', '5/350jt', '085233028807', 'gelombang', 'ketiga', 'waspadalah', 'masker', 'jaga', 'jarak', 'cuci', 'tangan', 'sabun', 'kerumunan', '15', '9843', 'menonton', 'rp.175juta', '082347317477', 'situs', 'bit.ly/infomenarik55', '+6282344419262', '082359502768', '65', 'texasp', 'k3rcc', 's.id/tpk999', 't', 'gel', 'cambodia', 'hongkong', \"do'mino\", '845829', '355245', 'cuan', 'rp30rb', '30gb', 'tsel.me/n1a', 'besar', 'x3.000', 'china', 'japan', 'singapore', 'j0k3rb3t888', 's.id/hkb09', \"ce'me\", 'hkb', '4.51', '12-11-2021', 'pinj4m4n', 'mud4h/cep4t', 'minim4l', 'bung4', 'thn', '0822-9060-2686', '+6281290710758', '+6285386634551', 'nasabah', 'menyampaikan', 'rp.100jt', '082397118699', 'bit.ly/penerima-bantuan2021', '//bit.ly/layanan-cs47', 'permainan', 'tangkas', 'hkb,0maha', 'p', 'k3r', '0n_line', '36d', 'dragon', 'tiger', 'rg0b3t', 's.id/hkb89', '10.000', 'kemendikbud', '30hr', '12', 'bs', '5itus', \"ce'me,5icb0\", 'live', 'hi-lo', 'bola', 's8083t', \"slot'game\", \"0n'line\", 'pr0m0', '8080sp0rt', 's.id/8080sp0r7', '+nelpon', 'tsel.me/comsakmax6', 'bit.ly/pulsaoct', '561475', 'wa:082210389778', '+6282316492484', 'asik', 'persahabatan', 'sma', 'dibintangi', 'anneth', 'zara', 'ari', 'irham', 'ayah', 'diperankan', 'enda', 'ungu', 'film', 'kau', 'maxstreamgala', '465', 'belajarmu', '/mytsel/outlet', '75gb', '16rb', 'ksemptan', 'bit.ly/pulsapljr10', 'j01n', 'gitart', 'g3l', 'cardgames', 'slot', 'nusantara', 'sgp', 'hk', 'sb0', \"ca'sino\", 'sportsbook', 'bit.ly/3mzvn6w', 'seru', 'mendpatkanbantuan', 's.id/cs-pertamina-75', 'keseharianmu', 'puas', 'ntn', 'temukan', 'sesuai', 'kebutuhanmu', 'tsel.me/combo1', 'mud4h', 'cep4t', '/thn', '081230049774', 'k', 'm1', 't4w', 'rkan', '4nda', 'p1nj', 'm', 'n', 'cep', 'c4ir', 'o853', '8682', '8345', 'rg0', 's.id/gymgv', 'depo', 'domino', 'po_k3r', 'ding', 'dong', \"b0'la\", 'sb08et', 'spb977', '082297298621', 'bit.ly/ptpertamina2021', 'extra', '50rb/bln', 'combosakti', 'belajar/bekerja', 'rumah', 'lbh', 'lancar', 'bit.ly/pulsabn9', 'tingkatin', '14000', 'bmri.id/lttsel', 'rp10rb/7hr', '2.5gb', '120min', '200sms', 'tsel', 'wow25', 'atau', 'tsel.me/life1', 'sep', 'banget', '25', 'okt', 'kuotamu', 'rp10000', '75min', '30sms', '2hari', 'pd10', 'jk', '/hub', '505', 'bosen', 'dirumahaja', '09/09/2021', 'bibit', '2681', 'a0tl8ay+qim', '6254', 'gojek-mu', 'kodenya', 'ngaku', '1287', '347001', 'pengguna', 'bit.ly/pemenang-pesta2021', 'm-dapatkan', 'rp.175jt', 'pt.whatsapp', 'wha012', 'bit.ly/whatsapp-indonesia2021', 'paypal', 'security', '890920.', 'expires', 'minutes', '2x', 'lipat', '2gb', '8gb', '25rb/30hr', 'bit.ly/m3hpr', 'hidup', 'santuy', 'kalau', 'full', 'krn', 'hepi', 'nyusul', '5rb-cb', '10rb-cb', '25rb-cb', '200', '+5gb', '08/01/21', 'ingin', 'lelang', 'berkualitas', 'asli', 'bit.ly/bumn_9', 'berbagi', 'pengalaman', 'menjawab', 'pertanyaan', 'singkat', 'berikut', 'undian', 'bit.ly/pemenangshopee2021', 'hati-hati', 'mendapat', 'lazad', 'id_/kbr99d7/', '//bit.ly/daftar-pemenang87', 'trading', 'forex', 'saham', '600rb', 'get', '1.5jt', '120jt', 'open', 'www.tradingforexsaham.com', \"m'dapatkan\", 'rp.50jt', '1faw7', 'baim', 'wong', '082148646816', '18/01/2021', 'bit.ly/m3rco', 'resm', 'hub/whastapp', '085824676275', 'bit.ly/gebyarshopee275', '5rb-cashback', '10rb-cashback', '25rb-cashback', '5hari', '20/01/21', '085737xxx', 'bit.ly/pemenang-shopee12-12', 'lazada', 'thn:2021', 'ck643z77', '//bit.ly/undian-ptlazada39', 'bersifat', 'jenius', 'reset', 'password', 'jenius-mu', '877630', 'menawarin', 'ikan', 'arwana', 'red', 'anakan', '60cm', 'hasil', 'penangkaran', 'hrg', 'wa.082279875479', 'smp', 'sblm', '25/01/21', 'dapetin', 'gratisan', 'datanya', 'bit.ly/imdm3', 'cocokan', 'bit.ly/whatsapp-inc755', 'kamii', 'keuangan', 'jaminan', 'whatsapp:081243401157', '29/01/21', 'real', 'info/wa', '085888602577', 'sebulan', 'bit.ly/m3inp', 'giveway', '50jt', '77hhba', 'paula', '082215766627', 'trimakasih', 'kepda', 'terpercayah', 'pnjaman', 'wa,085311657297', '92', 'statusrbt', 'lucu', 'baik', 'wajah', 'preman', 'hati', 'beriman', 'tampan', 'kelakuan', 'begajulan', 'cs:817', 'pnjm', '082296932649', 'hai', 'sahabat', 'mengetahui', 'yellow', '2.', 'ck64z77', '//bit.ly/undianptlazada-2021', 'bpk', 'dermawan', 'masalah', '081543170499', 'tahukah', 'bit.ly/coam3', '00-24', 'hari.cek', '50000', '10/02/2021', '15:24.', 'krisis', 'pangan', 'saudara', 'petani', 'merugi', 'bantu', 'bangkit', '660', '0000', '765', 'an', 'yayasan', 'wakaf', 'bit.ly/layananact', 'kk', 'minimal.5jt-500jt', 'info/wa:0857-5673-3449', 'fire', 'fun/entertainment', 'top', '//bit.ly/35ipdie', 'vs230a', 'masih', 'rbt', 'otomatis', 'ganti', 'lagu', '1818', '817', 'tenda-tenda', 'pengungsian', 'saudara-saudara', 'palestina', 'suriah', 'lebanon', 'berjuang', 'melawan', 'dinginnya', 'cuaca', 'perut', 'lapar', 'bertahan', 'salurkan', '6600003303', 'aksi', 'tanggap', 'xl.dalam', 'meningkatkan', 'kuis', 'mohon', 'partisipasi', 'survey', 'bit.ly/surveyxl2', 'jual', 'rugi', 'fb', 'ig', 'spotify', '30rban', 'ekstra', 'unlimited+internet2gb', 'hny', 'bit.ly/xtraul', 'pengajuan', 'tambah', 'simpel', '082271370775', 'bwa', 'botol', 'simpan', 'dan', 'customer', 'service', 'maya', 'xai50a', '10gb', '4gb', 'tsel.me/mytelkomsel-reward', '/30', '17/02/2021', 'kak', 'tuan', 'mnwrkan', 'jaminan/agunan', 'minim', 'lkp', '085283011615', 'asswrwb', 'rsup', 'provinsi', 'antar', 'warga', 'berobat', 'selese', 'dimana', 'plgh', 'penujak', 'user', 'pasword', 'apapun', '28feb', '17gb', '+300min', '+unlimited', 'music', '75rb', \"aslamu'alaikum.pk\", 'brp', 'mili', 'ukuran', 'botolanx', 'bsa', 'bli', 'eceran', 'ni', 'psan', 'airx', 'stu', 'dus.kira2', 'jm', 'd', 'bsok', 'insya', 'allah', 'mf', 'siang', 'pijaman', 'baunga,2', 'perthn', 'wahtsahp', '087704197222', 'ppinjaman', 'berbasis', 'watsahp', '085333103541', '085221661327', '085825106988', 'panjaman', 'ktp/kk/buku', 'tabung', 'untuh', 'wahatsap:082260512778', 'sini', 'menawarkn', '085348744252', 'satu', 'kardus', 'mencukupi', 'siaga', 'pembyran', 'dilakukan', '911', 'ktk', 'surprise', 'jumat', 'tsel.me/surprise', 'm3n4w4rk4n', 'p1njaman', 'r1ng4n', '25-30', '085387119440', 'atas', 'tsel.me/bonusdisney', '98', 'pestarakyatbri', 'bri', 'rp.35.000.000', 'no.und1an', '150699', '//bit.ly/britama-simpedes', 'kini', 'aktfkn', '17.5gb+unlimited', '50rban', 'mytsel/outlet/', 'tsel.me/combo-sakti', 'berinvestasi', 'exadana', 'visindo', 'perminggu', 'selengkapnya', 'www.exadanavisindo.id', 'serba', '550', 'toko', 'sila', '085215031128', 'mnawark', 'pijmn', 'agun', 'minm', 'l', 'u/', 'wa:0853-1405-7745', 'perlu', 'bingung', 'kl', 'kehabisan', 'maen', 'daftarin', 'telkomselmu', 'ribet', 'potong', 'rp50rb', 'dikasih', 'fortumo', 'mini', 'days', 'rp.12000', '133/188', '140', 'freefire', 'rp.22,500', 'dirumahterusterhibur', 'duniagames.co.id', 'akhir', 'mingguan', '12.5gb+unlimited', '35rban', '085955106477', '125jt', 'da.ri', 'progran', 's.h.o.p.e.3', 'thn.2021', '25477blw', 's.id/layanan-33', '100jt', 'ultimited', '312h58j', 'bit.ly/verifikasi_telkomsel2021', 'bulannya', 'ikuti', 'minggu', 'jutaan', 's', 'tsel.me/roli_lm', 'cair/', 'wa/cht/', '0823-9954-2006', 'cs:133/188', '73000', '08/03/2021', '50rb/1hr', '.segera', 'tsel.me/combosakti', '.promo', '20feb21', 'menangin', 'samsung', 'a02s', 'undi-undi', 'kuy', '//tsel.me/uuh', 'tak', 'bicara', 'balik', 'assalamuailakum', 'barangkaliada', 'megajukan', 'wa:085386583137', 'lanjutkan', 'bln', 'tsel.me/omg', 'rp20rb', '3gb/30hr', '500mb/1hr', '999', 'tsel.me/disney1pre', '1.5gb', 'seharga', 'mengunduh', '10apr', 'birthday', 'sale', '99', 'ongkir', 'se-indonesia', 'tsel.me/lazada', 'diluar', 'tersebut', 'kecepatan', 'disesuaikan', 'rp90rb', '22gb', 'youtube-an/sosmed-an', 'fb-ig', '/tiktok-an', 'tsel.me/ketenganunlimited', 'disney+hotstar', '3gb/30hr.cuma', '1bln', '10rb/1hr', '.klik', 'tayang', 'join', 'nntn', 'marvel', 'studios', 'ditunggu-tunggu', '//gpsh.in/gohppqburar', 'streaming', 'premium', 'disney+hotstar.hanya', '20ribu', '3gb/30hari.aktifkan', 'bit.ly/ds_a3', '191502', 'sesukamu', '150mnttlpn+400sms', '15rban', 'mytsel|outlet|', 'gajian', '150mnttlpn', 'tsel.me/csu', '|outlet|', 'bit.ly/cash1ok', '12gb', 'box', 'office', 'tsel.me/maxendeal12gb', '60gb', '164rb', 'wow11', 'tsel.me/offer', 'maret', '1000/gb', 'edukasi', 'conference', 'jaringan', 'rp6rb', 'chr1', 'rp10rb', '4g+120min', 'chr2', 'tsel.me/ho', '6apr', 'aktif.skb', 'tnc', '683287', 'michat', 'ketuk', 'v.michat.sg/v/683287', '8fx317vnfgl', 'pendaftaran', 'jgn', 'dicuri', '705933', 'mnt', 'tips', 'lzd.co/aman', 'nx63pbktnz2', 'blokir', 'atur', 'profil', 'sibuk', 'tidur', 'dsb', 'aplikasinya', 'tsel.me/cm', 'tiket', 'umroh', 'manager', 'rp.330', '180', 'berhenti', 'unreg', 'kirim', '83838.', 'darurat.hub', 'tix', '462477', 'xg86vu2hwt7', 'discord', '650', '229', 'rusak', 'sering', '75rban/bln', '/mytsel/outlet.skb', 'konten', '5500', 'rp.5,500', 'xm', 'spasi', '619597', 'membeli.cs:02152971540', 'senilai', 'ppn10', 'triyakom', 'transaksi:61f108682f69489283baecb53d31f680', 'cs:02152971540', 'ibadah', 'khidmat', 'diganggu', 'enggak', 'telpon', 'olah', 'raga', 'susah', 'angkat', 'rp500', 'token', 'listrik', 'rp50.000', 'hotelmurah', '//tsel.me/hmlistrik', 'yth.nasabah', 'keamanan', 'dlm', 'bertransaksi', 'penggantian', 'atm/debit', 'bni.info', 'bnicall', '1500046', '877558', 'otp:1568', '3ipxpwmulq8b', 'perangkat', 'sebagai', 'bagian', 'penyiapan', 'pelajari', '//goo.gl/lhcs9w', 'reg', '5272011809000004', '52720133129', '101468', 'grab', 'activation', 'gac', 'not', 'h9cmnjtz1r6', 'ovo', '7934', 'kepada', 'mengaku', '1500696', '//tsel.me/tseljoox', 'sosok', 'misterius', 'the', 'penthouse', 'ke-3', 'terlewatkan', 'tsel.me/phouse', 'kawatir', '22jun.skb', 'sbgai', 'rp.100juta', 'pt.pertamina', 'slahkan', 'no.ld:385ua27', 'lnfo', 'bit.ly/undian-pertamina2021', 'awal', 'wifi', 'orbit', 'tokped', 'cicilan', '//tsel.me/orbittokopedia', '23.59', 'skema', 'berbayar', 'halo', 'didik', 'teman', 'sekolahmu', 'ajak', 'temen', 'sekelasmu', 'kam', 'mnawarkan', 'pnjmn-online', '5jt-5oojt', '082191745771', 'waktunya', 'mnwarkan', '-mudah', '5jt-300jt', '-u/info', '+6285251588854', 't0to', 'terpecaya', 'p4sar4n', 're5mi', 'd3pos1t', 'price', 'price3', 'cambo', 'b0nu5', '//bit.ly/roterpecaya', 'tsel.me/tncr1', 'preorder', 'galaxy', 's21', 'series', 'bundling', '160gb/bln', '3bln', 'terhormat', 'dsini', 'mnerima', 'syrat', 'sngt', 'mdh', 'cpt', 'wa:082399088209', 'mlbb', 'pubg', 'tsel.me/transferkuota', 'yeay', 'dicap', 'jempol', 'udah', 'rp20.000', 'check-in', 'harian', 'rp5.000', 'alamat', 'website', '//www.cxes.site/mjyzmq==xelj0nhjw1', 'bgi', 'lnkap', '4m4n', 'terperc4y4', 'wa:082149407947', 'beritahu', 'bukalapak', '93383', 'tabungan', 'error', 'dimonitor', 'wawan', '085224447446', 'miliki', 'product', 'england', 'kacamata', 'x-ray', 'fungsi', 'terlihat', \"s'perti\", 'kain', \"k'ramik.logam\", '085394142233', 'topping', 'ceria', 'allnet', '/7', '6000', '16/03/2021', '6285158617xxx', '2021-01-02', '11:36:00', '6285238474xxx', '2017-10-31', '07:00:00', 'kejar', 'tingkatkan', '10x', 'menangkan', 'tsel.me/kejarsms', 'menerim4', 'd4ri', 'k4ntor', 'pus4t', 'bit.ly/dana-bpjs2021', 'hadir', 'kembali', '+17gb', '+30min', 'akivasi', '29', 'apr', 'hore20', 'persiapkan', 'dirimu', 'utbk', 'class', 'mentor', 'pahamify', 'tsel.me/ioc', 'prabayar', 'input', '1822', '8495', '4362', '6743', '7519', 'idpel', '45029429896', 'sejumlah', '67.3', 'kwh', 'bit.ly/salurandanabpjs2021', 'locked:25fr47', 'd4ft4r', 'dmbet99', 'bit.ly/dmb3t99', \"po'ker\", 'bo-l4', 'on-line', 'd1ng-dong', \"slot'g4mes\", \"to'gel\", 'luar', 'takut', '//tsel.me/roli_all', '5hope3', 's.id/layanan-progran63', 'syarat', 'jokernet88', 'bit.ly/j0kern3t88', 'to~gel', 'deals', 'shopeepay', '14rb', 'koin', 'tsel.me/shopeepay2', 'nita', '085223955574', 'pin74m4n', '50-500', '0,566', '/bln', 't4np4', 'j4min4n', 'd3p051t', 'gadaikan', 'emasnya', 'gadai', 'mas', 'gunungsari', 'fleksibel', 'taksiran', 'tinggi', 'map', 'shorturl.at/bmjm3', '081936722710', '113-001-510-3165', 'a/n', 'dewi', 'wulandari', 'keredit', '50jt-500jt', 'adm', 'awal.info', '0823114511888', 'fitri', 'thr', 'tiba', 'serbu', 'weekend,30', 'apr-2', 'mei', 'pkl.10.00.beli', 'baju', 'muslim', 'wanita', 'dptkn', 'potongan', 'tiap', 'blnja', '300rb.s', 'jp', '3.000', 'kali', 't0~gel', \"jayapo'ker\", 'bit.ly/j4y4p-k3r', 'b4nd4r', 'dna', 'usha', 'jmnan', 'bnga', 'dn', 'mnmal.5jt-500jt', 'info/wa:0858-4537-5373', '085238474786', 'ramadhan', '220', 'siap2', 'berburu', '7-9', 'pkl.10.00.gunakan', '0213-788-563', 'fatimah', 'bgt', 'lupa', 'jaringanmu', '234712.', 'br0ve64s', 'bit.ly/br0veg4s', 's17us', 'd1n9-d0ng', \"sa'kong\", 'c3-m3', 'gabung', 'batam', 'lucky', 'plaza', 'penghabisan', 'stock', '500rb', 'iphone', 'oppo', 'relmi', 'redmi', 'grup', '//bit.ly/toko-batam', 'b0-l4', 'd1n9-d0n9', 'to~g3l', 'sl0tgame', 'ahabet', 'cutt.ly/ahab3t', 'penambahan', '6285373144625', '2021-06-15.', '888', 'laptop', 'smartphone', 'emas', 'tsel.me/rediapp']\n"
     ]
    }
   ],
   "source": [
    "# gabungin semua data yang sudah dipreprocessing jadi satu list term (tanpa ada yg double)\n",
    "term_stem = []\n",
    "termMerging(ds, ds[\"teks\"], term_stem)\n",
    "print(term_stem)"
   ]
  },
  {
   "cell_type": "code",
   "execution_count": 46,
   "id": "983dcdec",
   "metadata": {},
   "outputs": [
    {
     "name": "stdout",
     "output_type": "stream",
     "text": [
      "[[1, 1, 2, 1, 1, 2, 1, 1, 1, 2, 1, 1, 1, 1, 1, 1, 1, 1, 1, 1, 0, 0, 0, 0, 0, 0, 0, 0, 0, 0, 0, 0, 0, 0, 0, 0, 0, 0, 0, 0, 0, 0, 0, 0, 0, 0, 0, 0, 0, 0, 0, 0, 0, 0, 0, 0, 0, 0, 0, 0, 0, 0, 0, 0, 0, 0, 0, 0, 0, 0, 0, 0, 0, 0, 0, 0, 0, 0, 0, 0, 0, 0, 0, 0, 0, 0, 0, 0, 0, 0, 0, 0, 0, 0, 0, 0, 0, 0, 0, 0, 0, 0, 0, 0, 0, 0, 0, 0, 0, 0, 0, 0, 0, 0, 0, 0, 0, 0, 0, 0, 0, 0, 0, 0, 0, 0, 0, 0, 0, 0, 0, 0, 0, 0, 0, 0, 0, 0, 0, 0, 0, 0, 0, 0, 0, 0, 0, 0, 0, 0, 0, 0, 0, 0, 0, 0, 0, 0, 0, 0, 0, 0, 0, 0, 0, 0, 0, 0, 0, 0, 0, 0, 0, 0, 0, 0, 0, 0, 0, 0, 0, 0, 0, 0, 0, 0, 0, 0, 0, 0, 0, 0, 0, 0, 0, 0, 0, 0, 0, 0, 0, 0, 0, 0, 0, 0, 0, 0, 0, 0, 0, 0, 0, 0, 0, 0, 0, 0, 0, 0, 0, 0, 0, 0, 0, 0, 0, 0, 0, 0, 0, 0, 0, 0, 0, 0, 0, 0, 0, 0, 0, 0, 0, 0, 0, 0, 0, 0, 0, 0, 0, 0, 0, 0, 0, 0, 0, 0, 0, 0, 0, 0, 0, 0, 0, 0, 0, 0, 0, 0, 0, 0, 0, 0, 0, 0, 0, 0, 0, 0, 0, 0, 0, 0, 0, 0, 0, 0, 0, 0, 0, 0, 0, 0, 0, 0, 0, 0, 0, 0, 0, 0, 0, 0, 0, 0, 0, 0, 0, 0, 0, 0, 0, 0, 0, 0, 0, 0, 0, 0, 0, 0, 0, 0, 0, 0, 0, 0, 0, 0, 0, 0, 0, 0, 0, 0, 0, 0, 0, 0, 0, 0, 0, 0, 0, 0, 0, 0, 0, 0, 0, 0, 0, 0, 0, 0, 0, 0, 0, 0, 0, 0, 0, 0, 0, 0, 0, 0, 0, 0, 0, 0, 0, 0, 0, 0, 0, 0, 0, 0, 0, 0, 0, 0, 0, 0, 0, 0, 0, 0, 0, 0, 0, 0, 0, 0, 0, 0, 0, 0, 0, 0, 0, 0, 0, 0, 0, 0, 0, 0, 0, 0, 0, 0, 0, 0, 0, 0, 0, 0, 0, 0, 0, 0, 0, 0, 0, 0, 0, 0, 0, 0, 0, 0, 0, 0, 0, 0, 0, 0, 0, 0, 0, 0, 0, 0, 0, 0, 0, 0, 0, 0, 0, 0, 0, 0, 0, 0, 0, 0, 0, 0, 0, 0, 0, 0, 0, 0, 0, 0, 0, 0, 0, 0, 0, 0, 0, 0, 0, 0, 0, 0, 0, 0, 0, 0, 0, 0, 0, 0, 0, 0, 0, 0, 0, 0, 0, 0, 0, 0, 0, 0, 0, 0, 0, 0, 0, 0, 0, 0, 0, 0, 0, 0, 0, 0, 0, 0, 0, 0, 0, 0, 0, 0, 0, 0, 0, 0, 0, 0, 0, 0, 0, 0, 0, 0, 0, 0, 0, 0, 0, 0, 0, 0, 0, 0, 0, 0, 0, 0, 0, 0, 0, 0, 0, 0, 0, 0, 0, 0, 0, 0, 0, 0, 0, 0, 0, 0, 0, 0, 0, 0, 0, 0, 0, 0, 0, 0, 0, 0, 0, 0, 0, 0, 0, 0, 0, 0, 0, 0, 0, 0, 0, 0, 0, 0, 0, 0, 0, 0, 0, 0, 0, 0, 0, 0, 0, 0, 0, 0, 0, 0, 0, 0, 0, 0, 0, 0, 0, 0, 0, 0, 0, 0, 0, 0, 0, 0, 0, 0, 0, 0, 0, 0, 0, 0, 0, 0, 0, 0, 0, 0, 0, 0, 0, 0, 0, 0, 0, 0, 0, 0, 0, 0, 0, 0, 0, 0, 0, 0, 0, 0, 0, 0, 0, 0, 0, 0, 0, 0, 0, 0, 0, 0, 0, 0, 0, 0, 0, 0, 0, 0, 0, 0, 0, 0, 0, 0, 0, 0, 0, 0, 0, 0, 0, 0, 0, 0, 0, 0, 0, 0, 0, 0, 0, 0, 0, 0, 0, 0, 0, 0, 0, 0, 0, 0, 0, 0, 0, 0, 0, 0, 0, 0, 0, 0, 0, 0, 0, 0, 0, 0, 0, 0, 0, 0, 0, 0, 0, 0, 0, 0, 0, 0, 0, 0, 0, 0, 0, 0, 0, 0, 0, 0, 0, 0, 0, 0, 0, 0, 0, 0, 0, 0, 0, 0, 0, 0, 0, 0, 0, 0, 0, 0, 0, 0, 0, 0, 0, 0, 0, 0, 0, 0, 0, 0, 0, 0, 0, 0, 0, 0, 0, 0, 0, 0, 0, 0, 0, 0, 0, 0, 0, 0, 0, 0, 0, 0, 0, 0, 0, 0, 0, 0, 0, 0, 0, 0, 0, 0, 0, 0, 0, 0, 0, 0, 0, 0, 0, 0, 0, 0, 0, 0, 0, 0, 0, 0, 0, 0, 0, 0, 0, 0, 0, 0, 0, 0, 0, 0, 0, 0, 0, 0, 0, 0, 0, 0, 0, 0, 0, 0, 0, 0, 0, 0, 0, 0, 0, 0, 0, 0, 0, 0, 0, 0, 0, 0, 0, 0, 0, 0, 0, 0, 0, 0, 0, 0, 0, 0, 0, 0, 0, 0, 0, 0, 0, 0, 0, 0, 0, 0, 0, 0, 0, 0, 0, 0, 0, 0, 0, 0, 0, 0, 0, 0, 0, 0, 0, 0, 0, 0, 0, 0, 0, 0, 0, 0, 0, 0, 0, 0, 0, 0, 0, 0, 0, 0, 0, 0, 0, 0, 0, 0, 0, 0, 0, 0, 0, 0, 0, 0, 0, 0, 0, 0, 0, 0, 0, 0, 0, 0, 0, 0, 0, 0, 0, 0, 0, 0, 0, 0, 0, 0, 0, 0, 0, 0, 0, 0, 0, 0, 0, 0, 0, 0, 0, 0, 0, 0, 0, 0, 0, 0, 0, 0, 0, 0, 0, 0, 0, 0, 0, 0, 0, 0, 0, 0, 0, 0, 0, 0, 0, 0, 0, 0, 0, 0, 0, 0, 0, 0, 0, 0, 0, 0, 0, 0, 0, 0, 0, 0, 0, 0, 0, 0, 0, 0, 0, 0, 0, 0, 0, 0, 0, 0, 0, 0, 0, 0, 0, 0, 0, 0, 0, 0, 0, 0, 0, 0, 0, 0, 0, 0, 0, 0, 0, 0, 0, 0, 0, 0, 0, 0, 0, 0, 0, 0, 0, 0, 0, 0, 0, 0, 0, 0, 0, 0, 0, 0, 0, 0, 0, 0, 0, 0, 0, 0, 0, 0, 0, 0, 0, 0, 0, 0, 0, 0, 0, 0, 0, 0, 0, 0, 0, 0, 0, 0, 0, 0, 0, 0, 0, 0, 0, 0, 0, 0, 0, 0, 0, 0, 0, 0, 0, 0, 0, 0, 0, 0, 0, 0, 0, 0, 0, 0, 0, 0, 0, 0, 0, 0, 0, 0, 0, 0, 0, 0, 0, 0, 0, 0, 0, 0, 0, 0, 0, 0, 0, 0, 0, 0, 0, 0, 0, 0, 0, 0, 0, 0, 0, 0, 0, 0, 0, 0, 0, 0, 0, 0, 0, 0, 0, 0, 0, 0, 0, 0, 0, 0, 0, 0, 0, 0, 0, 0, 0, 0, 0, 0, 0, 0, 0, 0, 0, 0, 0, 0, 0, 0, 0, 0, 0, 0, 0, 0, 0, 0, 0, 0, 0, 0, 0, 0, 0, 0, 0, 0, 0, 0, 0, 0, 0, 0, 0, 0, 0, 0, 0, 0, 0, 0, 0, 0, 0, 0, 0, 0, 0, 0, 0, 0, 0, 0, 0, 0, 0, 0, 0, 0, 0, 0, 0, 0, 0, 0, 0, 0, 0, 0, 0, 0, 0, 0, 0, 0, 0, 0, 0, 0, 0, 0, 0, 0, 0, 0, 0, 0, 0, 0, 0, 0, 0, 0, 0, 0, 0, 0, 0, 0, 0, 0, 0, 0, 0, 0, 0, 0, 0, 0, 0, 0, 0, 0, 0, 0, 0, 0, 0, 0, 0, 0, 0, 0, 0, 0, 0, 0, 0, 0, 0, 0, 0, 0, 0, 0, 0, 0, 0, 0, 0, 0, 0, 0, 0, 0, 0, 0, 0, 0, 0, 0, 0, 0, 0, 0, 0, 0, 0, 0, 0, 0, 0, 0, 0, 0, 0, 0, 0, 0, 0, 0, 0, 0, 0, 0, 0, 0, 0, 0, 0, 0, 0, 0, 0, 0, 0, 0, 0, 0, 0, 0, 0, 0, 0, 0, 0, 0, 0, 0, 0, 0, 0, 0, 0, 0, 0, 0, 0, 0, 0, 0, 0, 0, 0, 0, 0, 0, 0, 0, 0, 0, 0, 0, 0, 0, 0, 0, 0, 0, 0, 0, 0, 0, 0, 0, 0, 0, 0, 0, 0, 0, 0, 0, 0, 0, 0, 0, 0, 0, 0, 0, 0, 0, 0, 0, 0, 0, 0, 0, 0, 0, 0, 0, 0, 0, 0, 0, 0, 0, 0, 0, 0, 0, 0, 0, 0, 0, 0, 0, 0, 0, 0, 0, 0, 0, 0, 0, 0, 0, 0, 0, 0, 0, 0, 0, 0, 0, 0, 0, 0, 0, 0, 0, 0, 0, 0, 0, 0, 0, 0, 0, 0, 0, 0, 0, 0, 0, 0, 0, 0, 0, 0, 0, 0, 0, 0, 0, 0, 0, 0, 0, 0, 0, 0, 0, 0, 0, 0, 0, 0, 0, 0, 0, 0, 0, 0, 0, 0, 0, 0, 0, 0, 0, 0, 0, 0, 0, 0, 0, 0, 0, 0, 0, 0, 0, 0, 0, 0, 0, 0, 0, 0, 0, 0, 0, 0, 0, 0, 0, 0, 0, 0, 0, 0, 0, 0, 0, 0, 0, 0, 0, 0, 0, 0, 0, 0, 0, 0, 0, 0, 0, 0, 0, 0, 0, 0, 0, 0, 0, 0, 0, 0, 0, 0, 0, 0, 0, 0, 0, 0, 0, 0, 0, 0, 0, 0, 0, 0, 0, 0, 0, 0, 0, 0, 0, 0, 0, 0, 0, 0, 0, 0, 0, 0, 0, 0, 0, 0, 0, 0, 0, 0, 0, 0, 0, 0, 0, 0, 0, 0, 0, 0, 0, 0, 0, 0, 0, 0, 0, 0, 0, 0, 0, 0, 0, 0, 0, 0, 0, 0, 0, 0, 0, 0, 0, 0, 0, 0, 0, 0, 0, 0, 0, 0, 0, 0, 0, 0, 0, 0, 0, 0, 0, 0, 0, 0, 0, 0, 0, 0, 0, 0, 0, 0, 0, 0, 0, 0, 0, 0, 0, 0, 0, 0, 0, 0, 0, 0, 0, 0, 0, 0, 0, 0, 0, 0, 0, 0, 0, 0, 0, 0, 0, 0, 0, 0, 0, 0, 0, 0, 0, 0, 0, 0, 0, 0, 0, 0, 0, 0, 0, 0, 0, 0, 0, 0, 0, 0, 0, 0, 0, 0, 0, 0, 0, 0, 0, 0, 0, 0, 0, 0, 0, 0, 0, 0, 0, 0, 0, 0, 0, 0, 0, 0, 0, 0, 0, 0, 0, 0, 0, 0, 0, 0, 0, 0, 0, 0, 0, 0, 0, 0, 0, 0, 0, 0, 0, 0, 0, 0, 0, 0, 0, 0, 0, 0, 0, 0, 0, 0, 0, 0, 0, 0, 0, 0, 0, 0, 0, 0, 0, 0, 0, 0, 0, 0, 0, 0, 0, 0, 0, 0, 0, 0, 0, 0, 0, 0, 0, 0, 0, 0, 0, 0, 0, 0, 0, 0, 0, 0, 0, 0, 0, 0, 0, 0, 0, 0, 0, 0, 0, 0, 0, 0, 0, 0, 0, 0, 0, 0, 0, 0, 0, 0, 0, 0, 0, 0, 0, 0, 0, 0, 0, 0, 0, 0, 0, 0, 0, 0, 0, 0, 0, 0, 0, 0, 0, 0, 0, 0, 0, 0, 0, 0, 0, 0, 0, 0, 0, 0, 0, 0, 0, 0, 0, 0, 0, 0, 0, 0, 0, 0, 0, 0, 0, 0, 0, 0, 0, 0, 0, 0, 0, 0, 0, 0, 0, 0, 0, 0, 0, 0, 0, 0, 0, 0, 0, 0, 0, 0, 0, 0, 0, 0, 0, 0, 0, 0, 0, 0, 0, 0, 0, 0, 0, 0, 0, 0, 0, 0, 0, 0, 0, 0, 0, 0, 0, 0, 0, 0, 0, 0, 0, 0, 0, 0, 0, 0, 0, 0, 0, 0, 0, 0, 0, 0, 0, 0, 0, 0, 0, 0, 0, 0, 0, 0, 0, 0, 0, 0, 0, 0, 0, 0, 0, 0, 0, 0, 0, 0, 0, 0, 0, 0, 0, 0, 0, 0, 0, 0, 0, 0, 0, 0, 0, 0, 0, 0, 0, 0, 0, 0, 0, 0, 0, 0, 0, 0, 0, 0, 0, 0, 0, 0, 0, 0, 0, 0, 0, 0, 0, 0, 0, 0, 0, 0, 0, 0, 0, 0, 0, 0, 0, 0, 0, 0, 0, 0, 0, 0, 0, 0, 0, 0, 0, 0, 0, 0, 0, 0, 0, 0, 0, 0, 0, 0, 0, 0, 0, 0, 0, 0, 0, 0, 0, 0, 0, 0, 0, 0, 0, 0, 0, 0, 0, 0, 0, 0, 0, 0, 0, 0, 0, 0, 0, 0, 0, 0, 0, 0, 0, 0, 0, 0, 0, 0, 0, 0, 0, 0, 0, 0, 0, 0, 0, 0, 0, 0, 0, 0, 0, 0, 0, 0, 0, 0, 0, 0, 0, 0, 0, 0, 0, 0, 0, 0, 0, 0, 0, 0, 0, 0, 0, 0, 0, 0, 0, 0, 0, 0, 0, 0, 0, 0, 0, 0, 0, 0, 0, 0, 0, 0, 0, 0, 0, 0, 0, 0, 0, 0, 0, 0, 0, 0, 0, 0, 0, 0, 0, 0, 0, 0, 0, 0, 0, 0, 0, 0, 0, 0, 0, 0, 0, 0, 0, 0, 0, 0, 0, 0, 0, 0, 0, 0, 0, 0, 0, 0, 0, 0, 0, 0, 0, 0, 0, 0, 0, 0, 0, 0, 0, 0, 0, 0, 0, 0, 0, 0, 0, 0, 0, 0, 0, 0, 0, 0, 0, 0, 0, 0, 0, 0, 0, 0, 0, 0, 0, 0, 0, 0, 0, 0, 0, 0, 0, 0, 0, 0, 0, 0, 0, 0, 0, 0, 0, 0, 0, 0, 0, 0, 0, 0, 0, 0, 0, 0, 0, 0, 0, 0, 0, 0, 0, 0, 0, 0, 0, 0, 0, 0, 0, 0, 0, 0, 0, 0, 0, 0, 0, 0, 0, 0, 0, 0, 0, 0, 0, 0, 0, 0, 0, 0, 0, 0, 0, 0, 0, 0, 0, 0, 0, 0, 0, 0, 0, 0, 0, 0, 0, 0, 0, 0, 0, 0, 0, 0, 0, 0, 0, 0, 0, 0, 0, 0, 0, 0, 0, 0, 0, 0, 0, 0, 0, 0, 0, 0, 0, 0, 0, 0, 0, 0, 0, 0, 0, 0, 0, 0, 0, 0, 0, 0, 0, 0, 0, 0, 0, 0, 0, 0, 0, 0, 0, 0, 0, 0, 0, 0, 0, 0, 0, 0, 0, 0, 0, 0, 0, 0, 0, 0, 0, 0, 0, 0, 0, 0, 0, 0, 0, 0, 0, 0, 0, 0, 0, 0, 0, 0, 0, 0, 0, 0, 0, 0, 0, 0, 0, 0, 0, 0, 0, 0, 0, 0, 0, 0, 0, 0, 0, 0, 0, 0, 0, 0, 0, 0, 0, 0, 0, 0, 0, 0, 0, 0, 0, 0, 0, 0, 0, 0, 0, 0, 0, 0, 0, 0, 0, 0, 0, 0, 0, 0, 0, 0, 0, 0, 0, 0, 0, 0, 0, 0, 0, 0, 0, 0, 0, 0, 0, 0, 0, 0, 0, 0, 0, 0, 0, 0, 0, 0, 0, 0, 0, 0, 0, 0, 0, 0, 0, 0, 0, 0, 0, 0, 0, 0, 0, 0, 0, 0, 0, 0, 0, 0, 0, 0, 0, 0, 0, 0, 0, 0, 0, 0, 0, 0, 0, 0, 0, 0, 0, 0, 0, 0, 0, 0, 0, 0, 0, 0, 0, 0, 0, 0, 0, 0, 0, 0, 0, 0, 0, 0, 0, 0, 0, 0, 0, 0, 0, 0, 0, 0, 0, 0, 0, 0, 0, 0, 0, 0, 0, 0, 0, 0, 0, 0, 0, 0, 0, 0, 0, 0, 0, 0, 0, 0, 0, 0, 0, 0, 0, 0, 0, 0, 0, 0, 0, 0, 0, 0, 0, 0, 0, 0, 0, 0, 0, 0, 0, 0, 0, 0, 0, 0, 0, 0, 0, 0, 0, 0, 0, 0, 0, 0, 0, 0, 0, 0, 0, 0, 0, 0, 0, 0, 0, 0, 0, 0, 0, 0, 0, 0, 0, 0, 0, 0, 0, 0, 0, 0, 0, 0, 0, 0, 0, 0, 0, 0, 0, 0, 0, 0, 0, 0, 0, 0, 0, 0, 0, 0, 0, 0, 0, 0, 0, 0, 0, 0, 0, 0, 0, 0, 0, 0, 0, 0, 0, 0, 0, 0, 0, 0, 0, 0, 0, 0, 0, 0, 0, 0, 0, 0, 0, 0, 0, 0, 0, 0, 0, 0, 0, 0, 0, 0, 0, 0, 0, 0, 0, 0, 0], [0, 1, 1, 0, 0, 0, 0, 0, 0, 0, 0, 0, 0, 0, 0, 0, 0, 0, 2, 0, 1, 1, 1, 1, 1, 1, 2, 2, 2, 1, 1, 1, 0, 0, 0, 0, 0, 0, 0, 0, 0, 0, 0, 0, 0, 0, 0, 0, 0, 0, 0, 0, 0, 0, 0, 0, 0, 0, 0, 0, 0, 0, 0, 0, 0, 0, 0, 0, 0, 0, 0, 0, 0, 0, 0, 0, 0, 0, 0, 0, 0, 0, 0, 0, 0, 0, 0, 0, 0, 0, 0, 0, 0, 0, 0, 0, 0, 0, 0, 0, 0, 0, 0, 0, 0, 0, 0, 0, 0, 0, 0, 0, 0, 0, 0, 0, 0, 0, 0, 0, 0, 0, 0, 0, 0, 0, 0, 0, 0, 0, 0, 0, 0, 0, 0, 0, 0, 0, 0, 0, 0, 0, 0, 0, 0, 0, 0, 0, 0, 0, 0, 0, 0, 0, 0, 0, 0, 0, 0, 0, 0, 0, 0, 0, 0, 0, 0, 0, 0, 0, 0, 0, 0, 0, 0, 0, 0, 0, 0, 0, 0, 0, 0, 0, 0, 0, 0, 0, 0, 0, 0, 0, 0, 0, 0, 0, 0, 0, 0, 0, 0, 0, 0, 0, 0, 0, 0, 0, 0, 0, 0, 0, 0, 0, 0, 0, 0, 0, 0, 0, 0, 0, 0, 0, 0, 0, 0, 0, 0, 0, 0, 0, 0, 0, 0, 0, 0, 0, 0, 0, 0, 0, 0, 0, 0, 0, 0, 0, 0, 0, 0, 0, 0, 0, 0, 0, 0, 0, 0, 0, 0, 0, 0, 0, 0, 0, 0, 0, 0, 0, 0, 0, 0, 0, 0, 0, 0, 0, 0, 0, 0, 0, 0, 0, 0, 0, 0, 0, 0, 0, 0, 0, 0, 0, 0, 0, 0, 0, 0, 0, 0, 0, 0, 0, 0, 0, 0, 0, 0, 0, 0, 0, 0, 0, 0, 0, 0, 0, 0, 0, 0, 0, 0, 0, 0, 0, 0, 0, 0, 0, 0, 0, 0, 0, 0, 0, 0, 0, 0, 0, 0, 0, 0, 0, 0, 0, 0, 0, 0, 0, 0, 0, 0, 0, 0, 0, 0, 0, 0, 0, 0, 0, 0, 0, 0, 0, 0, 0, 0, 0, 0, 0, 0, 0, 0, 0, 0, 0, 0, 0, 0, 0, 0, 0, 0, 0, 0, 0, 0, 0, 0, 0, 0, 0, 0, 0, 0, 0, 0, 0, 0, 0, 0, 0, 0, 0, 0, 0, 0, 0, 0, 0, 0, 0, 0, 0, 0, 0, 0, 0, 0, 0, 0, 0, 0, 0, 0, 0, 0, 0, 0, 0, 0, 0, 0, 0, 0, 0, 0, 0, 0, 0, 0, 0, 0, 0, 0, 0, 0, 0, 0, 0, 0, 0, 0, 0, 0, 0, 0, 0, 0, 0, 0, 0, 0, 0, 0, 0, 0, 0, 0, 0, 0, 0, 0, 0, 0, 0, 0, 0, 0, 0, 0, 0, 0, 0, 0, 0, 0, 0, 0, 0, 0, 0, 0, 0, 0, 0, 0, 0, 0, 0, 0, 0, 0, 0, 0, 0, 0, 0, 0, 0, 0, 0, 0, 0, 0, 0, 0, 0, 0, 0, 0, 0, 0, 0, 0, 0, 0, 0, 0, 0, 0, 0, 0, 0, 0, 0, 0, 0, 0, 0, 0, 0, 0, 0, 0, 0, 0, 0, 0, 0, 0, 0, 0, 0, 0, 0, 0, 0, 0, 0, 0, 0, 0, 0, 0, 0, 0, 0, 0, 0, 0, 0, 0, 0, 0, 0, 0, 0, 0, 0, 0, 0, 0, 0, 0, 0, 0, 0, 0, 0, 0, 0, 0, 0, 0, 0, 0, 0, 0, 0, 0, 0, 0, 0, 0, 0, 0, 0, 0, 0, 0, 0, 0, 0, 0, 0, 0, 0, 0, 0, 0, 0, 0, 0, 0, 0, 0, 0, 0, 0, 0, 0, 0, 0, 0, 0, 0, 0, 0, 0, 0, 0, 0, 0, 0, 0, 0, 0, 0, 0, 0, 0, 0, 0, 0, 0, 0, 0, 0, 0, 0, 0, 0, 0, 0, 0, 0, 0, 0, 0, 0, 0, 0, 0, 0, 0, 0, 0, 0, 0, 0, 0, 0, 0, 0, 0, 0, 0, 0, 0, 0, 0, 0, 0, 0, 0, 0, 0, 0, 0, 0, 0, 0, 0, 0, 0, 0, 0, 0, 0, 0, 0, 0, 0, 0, 0, 0, 0, 0, 0, 0, 0, 0, 0, 0, 0, 0, 0, 0, 0, 0, 0, 0, 0, 0, 0, 0, 0, 0, 0, 0, 0, 0, 0, 0, 0, 0, 0, 0, 0, 0, 0, 0, 0, 0, 0, 0, 0, 0, 0, 0, 0, 0, 0, 0, 0, 0, 0, 0, 0, 0, 0, 0, 0, 0, 0, 0, 0, 0, 0, 0, 0, 0, 0, 0, 0, 0, 0, 0, 0, 0, 0, 0, 0, 0, 0, 0, 0, 0, 0, 0, 0, 0, 0, 0, 0, 0, 0, 0, 0, 0, 0, 0, 0, 0, 0, 0, 0, 0, 0, 0, 0, 0, 0, 0, 0, 0, 0, 0, 0, 0, 0, 0, 0, 0, 0, 0, 0, 0, 0, 0, 0, 0, 0, 0, 0, 0, 0, 0, 0, 0, 0, 0, 0, 0, 0, 0, 0, 0, 0, 0, 0, 0, 0, 0, 0, 0, 0, 0, 0, 0, 0, 0, 0, 0, 0, 0, 0, 0, 0, 0, 0, 0, 0, 0, 0, 0, 0, 0, 0, 0, 0, 0, 0, 0, 0, 0, 0, 0, 0, 0, 0, 0, 0, 0, 0, 0, 0, 0, 0, 0, 0, 0, 0, 0, 0, 0, 0, 0, 0, 0, 0, 0, 0, 0, 0, 0, 0, 0, 0, 0, 0, 0, 0, 0, 0, 0, 0, 0, 0, 0, 0, 0, 0, 0, 0, 0, 0, 0, 0, 0, 0, 0, 0, 0, 0, 0, 0, 0, 0, 0, 0, 0, 0, 0, 0, 0, 0, 0, 0, 0, 0, 0, 0, 0, 0, 0, 0, 0, 0, 0, 0, 0, 0, 0, 0, 0, 0, 0, 0, 0, 0, 0, 0, 0, 0, 0, 0, 0, 0, 0, 0, 0, 0, 0, 0, 0, 0, 0, 0, 0, 0, 0, 0, 0, 0, 0, 0, 0, 0, 0, 0, 0, 0, 0, 0, 0, 0, 0, 0, 0, 0, 0, 0, 0, 0, 0, 0, 0, 0, 0, 0, 0, 0, 0, 0, 0, 0, 0, 0, 0, 0, 0, 0, 0, 0, 0, 0, 0, 0, 0, 0, 0, 0, 0, 0, 0, 0, 0, 0, 0, 0, 0, 0, 0, 0, 0, 0, 0, 0, 0, 0, 0, 0, 0, 0, 0, 0, 0, 0, 0, 0, 0, 0, 0, 0, 0, 0, 0, 0, 0, 0, 0, 0, 0, 0, 0, 0, 0, 0, 0, 0, 0, 0, 0, 0, 0, 0, 0, 0, 0, 0, 0, 0, 0, 0, 0, 0, 0, 0, 0, 0, 0, 0, 0, 0, 0, 0, 0, 0, 0, 0, 0, 0, 0, 0, 0, 0, 0, 0, 0, 0, 0, 0, 0, 0, 0, 0, 0, 0, 0, 0, 0, 0, 0, 0, 0, 0, 0, 0, 0, 0, 0, 0, 0, 0, 0, 0, 0, 0, 0, 0, 0, 0, 0, 0, 0, 0, 0, 0, 0, 0, 0, 0, 0, 0, 0, 0, 0, 0, 0, 0, 0, 0, 0, 0, 0, 0, 0, 0, 0, 0, 0, 0, 0, 0, 0, 0, 0, 0, 0, 0, 0, 0, 0, 0, 0, 0, 0, 0, 0, 0, 0, 0, 0, 0, 0, 0, 0, 0, 0, 0, 0, 0, 0, 0, 0, 0, 0, 0, 0, 0, 0, 0, 0, 0, 0, 0, 0, 0, 0, 0, 0, 0, 0, 0, 0, 0, 0, 0, 0, 0, 0, 0, 0, 0, 0, 0, 0, 0, 0, 0, 0, 0, 0, 0, 0, 0, 0, 0, 0, 0, 0, 0, 0, 0, 0, 0, 0, 0, 0, 0, 0, 0, 0, 0, 0, 0, 0, 0, 0, 0, 0, 0, 0, 0, 0, 0, 0, 0, 0, 0, 0, 0, 0, 0, 0, 0, 0, 0, 0, 0, 0, 0, 0, 0, 0, 0, 0, 0, 0, 0, 0, 0, 0, 0, 0, 0, 0, 0, 0, 0, 0, 0, 0, 0, 0, 0, 0, 0, 0, 0, 0, 0, 0, 0, 0, 0, 0, 0, 0, 0, 0, 0, 0, 0, 0, 0, 0, 0, 0, 0, 0, 0, 0, 0, 0, 0, 0, 0, 0, 0, 0, 0, 0, 0, 0, 0, 0, 0, 0, 0, 0, 0, 0, 0, 0, 0, 0, 0, 0, 0, 0, 0, 0, 0, 0, 0, 0, 0, 0, 0, 0, 0, 0, 0, 0, 0, 0, 0, 0, 0, 0, 0, 0, 0, 0, 0, 0, 0, 0, 0, 0, 0, 0, 0, 0, 0, 0, 0, 0, 0, 0, 0, 0, 0, 0, 0, 0, 0, 0, 0, 0, 0, 0, 0, 0, 0, 0, 0, 0, 0, 0, 0, 0, 0, 0, 0, 0, 0, 0, 0, 0, 0, 0, 0, 0, 0, 0, 0, 0, 0, 0, 0, 0, 0, 0, 0, 0, 0, 0, 0, 0, 0, 0, 0, 0, 0, 0, 0, 0, 0, 0, 0, 0, 0, 0, 0, 0, 0, 0, 0, 0, 0, 0, 0, 0, 0, 0, 0, 0, 0, 0, 0, 0, 0, 0, 0, 0, 0, 0, 0, 0, 0, 0, 0, 0, 0, 0, 0, 0, 0, 0, 0, 0, 0, 0, 0, 0, 0, 0, 0, 0, 0, 0, 0, 0, 0, 0, 0, 0, 0, 0, 0, 0, 0, 0, 0, 0, 0, 0, 0, 0, 0, 0, 0, 0, 0, 0, 0, 0, 0, 0, 0, 0, 0, 0, 0, 0, 0, 0, 0, 0, 0, 0, 0, 0, 0, 0, 0, 0, 0, 0, 0, 0, 0, 0, 0, 0, 0, 0, 0, 0, 0, 0, 0, 0, 0, 0, 0, 0, 0, 0, 0, 0, 0, 0, 0, 0, 0, 0, 0, 0, 0, 0, 0, 0, 0, 0, 0, 0, 0, 0, 0, 0, 0, 0, 0, 0, 0, 0, 0, 0, 0, 0, 0, 0, 0, 0, 0, 0, 0, 0, 0, 0, 0, 0, 0, 0, 0, 0, 0, 0, 0, 0, 0, 0, 0, 0, 0, 0, 0, 0, 0, 0, 0, 0, 0, 0, 0, 0, 0, 0, 0, 0, 0, 0, 0, 0, 0, 0, 0, 0, 0, 0, 0, 0, 0, 0, 0, 0, 0, 0, 0, 0, 0, 0, 0, 0, 0, 0, 0, 0, 0, 0, 0, 0, 0, 0, 0, 0, 0, 0, 0, 0, 0, 0, 0, 0, 0, 0, 0, 0, 0, 0, 0, 0, 0, 0, 0, 0, 0, 0, 0, 0, 0, 0, 0, 0, 0, 0, 0, 0, 0, 0, 0, 0, 0, 0, 0, 0, 0, 0, 0, 0, 0, 0, 0, 0, 0, 0, 0, 0, 0, 0, 0, 0, 0, 0, 0, 0, 0, 0, 0, 0, 0, 0, 0, 0, 0, 0, 0, 0, 0, 0, 0, 0, 0, 0, 0, 0, 0, 0, 0, 0, 0, 0, 0, 0, 0, 0, 0, 0, 0, 0, 0, 0, 0, 0, 0, 0, 0, 0, 0, 0, 0, 0, 0, 0, 0, 0, 0, 0, 0, 0, 0, 0, 0, 0, 0, 0, 0, 0, 0, 0, 0, 0, 0, 0, 0, 0, 0, 0, 0, 0, 0, 0, 0, 0, 0, 0, 0, 0, 0, 0, 0, 0, 0, 0, 0, 0, 0, 0, 0, 0, 0, 0, 0, 0, 0, 0, 0, 0, 0, 0, 0, 0, 0, 0, 0, 0, 0, 0, 0, 0, 0, 0, 0, 0, 0, 0, 0, 0, 0, 0, 0, 0, 0, 0, 0, 0, 0, 0, 0, 0, 0, 0, 0, 0, 0, 0, 0, 0, 0, 0, 0, 0, 0, 0, 0, 0, 0, 0, 0, 0, 0, 0, 0, 0, 0, 0, 0, 0, 0, 0, 0, 0, 0, 0, 0, 0, 0, 0, 0, 0, 0, 0, 0, 0, 0, 0, 0, 0, 0, 0, 0, 0, 0, 0, 0, 0, 0, 0, 0, 0, 0, 0, 0, 0, 0, 0, 0, 0, 0, 0, 0, 0, 0, 0, 0, 0, 0, 0, 0, 0, 0, 0, 0, 0, 0, 0, 0, 0, 0, 0, 0, 0, 0, 0, 0, 0, 0, 0, 0, 0, 0, 0, 0, 0, 0, 0, 0, 0, 0, 0, 0, 0, 0, 0, 0, 0, 0, 0, 0, 0, 0, 0, 0, 0, 0, 0, 0, 0, 0, 0, 0, 0, 0, 0, 0, 0, 0, 0, 0, 0, 0, 0, 0, 0, 0, 0, 0, 0, 0, 0, 0, 0, 0, 0, 0, 0, 0, 0, 0, 0, 0, 0, 0, 0, 0, 0, 0, 0, 0, 0, 0, 0, 0, 0, 0, 0, 0, 0, 0, 0, 0, 0, 0, 0, 0, 0, 0, 0, 0, 0, 0, 0, 0, 0, 0, 0, 0, 0, 0, 0, 0, 0, 0, 0, 0, 0, 0, 0, 0, 0, 0, 0, 0, 0, 0, 0, 0, 0, 0, 0, 0, 0, 0, 0, 0, 0, 0, 0, 0, 0, 0, 0, 0, 0, 0, 0, 0, 0, 0, 0, 0, 0, 0, 0, 0, 0, 0, 0, 0, 0, 0, 0, 0, 0, 0, 0, 0, 0, 0, 0, 0, 0, 0, 0, 0, 0, 0, 0, 0, 0, 0, 0, 0, 0, 0, 0, 0, 0, 0, 0, 0, 0, 0, 0, 0, 0, 0, 0, 0, 0, 0, 0, 0, 0, 0, 0, 0, 0, 0, 0, 0, 0, 0, 0, 0, 0, 0, 0, 0, 0, 0, 0, 0, 0, 0, 0, 0, 0, 0, 0, 0, 0, 0, 0, 0, 0, 0, 0, 0, 0, 0, 0, 0, 0, 0, 0, 0, 0, 0, 0, 0, 0, 0, 0, 0, 0, 0, 0, 0, 0, 0, 0, 0, 0, 0, 0, 0, 0, 0, 0, 0, 0, 0, 0, 0, 0, 0, 0, 0, 0, 0, 0, 0, 0, 0, 0, 0, 0, 0, 0, 0, 0, 0, 0, 0, 0, 0, 0, 0, 0, 0, 0, 0, 0, 0, 0, 0, 0, 0, 0, 0, 0, 0, 0, 0, 0, 0, 0, 0, 0, 0, 0, 0, 0, 0, 0, 0, 0, 0, 0, 0, 0, 0, 0, 0, 0, 0, 0, 0, 0, 0, 0, 0, 0, 0, 0, 0, 0, 0, 0, 0, 0, 0, 0, 0, 0, 0, 0, 0, 0, 0, 0, 0, 0, 0, 0, 0, 0, 0, 0, 0, 0, 0, 0, 0, 0, 0, 0, 0, 0, 0, 0, 0, 0, 0, 0, 0, 0, 0, 0, 0, 0, 0, 0, 0, 0, 0, 0, 0, 0, 0, 0, 0, 0, 0, 0, 0, 0, 0, 0, 0, 0, 0, 0, 0, 0, 0, 0, 0, 0, 0, 0, 0, 0, 0, 0, 0, 0, 0, 0, 0, 0, 0, 0, 0, 0, 0, 0, 0, 0, 0, 0, 0, 0, 0, 0, 0, 0, 0, 0, 0, 0, 0, 0, 0, 0, 0, 0, 0, 0, 0, 0, 0, 0, 0, 0, 0, 0, 0, 0, 0, 0, 0, 0, 0, 0, 0, 0, 0, 0, 0, 0, 0, 0, 0, 0, 0, 0, 0, 0, 0, 0, 0, 0, 0, 0, 0, 0, 0, 0, 0, 0, 0, 0, 0, 0, 0, 0, 0, 0, 0, 0, 0, 0, 0, 0, 0, 0, 0, 0, 0, 0, 0, 0, 0, 0, 0, 0, 0, 0, 0, 0, 0, 0, 0, 0, 0, 0, 0, 0, 0, 0, 0, 0, 0, 0, 0, 0, 0, 0, 0, 0, 0, 0, 0, 0, 0, 0, 0, 0, 0, 0, 0, 0, 0, 0, 0, 0, 0, 0, 0, 0, 0, 0, 0, 0, 0, 0, 0, 0, 0, 0, 0, 0, 0, 0, 0, 0, 0, 0, 0, 0, 0, 0, 0, 0, 0, 0, 0, 0, 0, 0, 0, 0, 0, 0, 0, 0, 0, 0, 0, 0, 0, 0, 0, 0, 0, 0, 0, 0, 0, 0, 0, 0, 0, 0, 0, 0, 0, 0, 0, 0, 0, 0, 0, 0, 0, 0, 0, 0, 0, 0, 0, 0, 0, 0, 0, 0, 0, 0, 0, 0, 0, 0, 0, 0, 0, 0, 0, 0, 0, 0, 0, 0, 0, 0, 0, 0, 0, 0, 0, 0, 0, 0, 0, 0, 0, 0, 0, 0, 0, 0, 0, 0, 0, 0, 0, 0, 0, 0, 0, 0, 0, 0, 0, 0, 0, 0, 0, 0, 0, 0, 0, 0, 0, 0, 0, 0, 0, 0, 0, 0, 0, 0, 0, 0, 0, 0, 0, 0, 0, 0, 0, 0, 0, 0, 0, 0, 0, 0, 0, 0, 0, 0, 0, 0, 0, 0, 0, 0, 0, 0, 0, 0, 0, 0, 0, 0, 0, 0, 0, 0, 0, 0, 0, 0, 0, 0, 0, 0, 0, 0, 0, 0, 0]]\n"
     ]
    }
   ],
   "source": [
    "# hitung kemunculan tiap term di tiap dokumen\n",
    "tf_akhir_stem = []\n",
    "temp_stem = 0\n",
    "docList_stem = []\n",
    "\n",
    "countTF(ds, temp_stem, ds[\"teks\"], ds[\"jenis\"], docList_stem, term_stem, tf_akhir_stem)\n",
    "# data yang dimunculin hanya 2 karna cukup banyak\n",
    "print(tf_akhir_stem[:2])"
   ]
  },
  {
   "cell_type": "code",
   "execution_count": 47,
   "id": "8d3ededc",
   "metadata": {},
   "outputs": [
    {
     "name": "stdout",
     "output_type": "stream",
     "text": [
      "[[1, 1, 1, 1, 1, 1, 1, 1, 1, 1, 1, 1, 1, 1, 1, 1, 1, 1, 1, 1, 0, 0, 0, 0, 0, 0, 0, 0, 0, 0, 0, 0, 0, 0, 0, 0, 0, 0, 0, 0, 0, 0, 0, 0, 0, 0, 0, 0, 0, 0, 0, 0, 0, 0, 0, 0, 0, 0, 0, 0, 0, 0, 0, 0, 0, 0, 0, 0, 0, 0, 0, 0, 0, 0, 0, 0, 0, 0, 0, 0, 0, 0, 0, 0, 0, 0, 0, 0, 0, 0, 0, 0, 0, 0, 0, 0, 0, 0, 0, 0, 0, 0, 0, 0, 0, 0, 0, 0, 0, 0, 0, 0, 0, 0, 0, 0, 0, 0, 0, 0, 0, 0, 0, 0, 0, 0, 0, 0, 0, 0, 0, 0, 0, 0, 0, 0, 0, 0, 0, 0, 0, 0, 0, 0, 0, 0, 0, 0, 0, 0, 0, 0, 0, 0, 0, 0, 0, 0, 0, 0, 0, 0, 0, 0, 0, 0, 0, 0, 0, 0, 0, 0, 0, 0, 0, 0, 0, 0, 0, 0, 0, 0, 0, 0, 0, 0, 0, 0, 0, 0, 0, 0, 0, 0, 0, 0, 0, 0, 0, 0, 0, 0, 0, 0, 0, 0, 0, 0, 0, 0, 0, 0, 0, 0, 0, 0, 0, 0, 0, 0, 0, 0, 0, 0, 0, 0, 0, 0, 0, 0, 0, 0, 0, 0, 0, 0, 0, 0, 0, 0, 0, 0, 0, 0, 0, 0, 0, 0, 0, 0, 0, 0, 0, 0, 0, 0, 0, 0, 0, 0, 0, 0, 0, 0, 0, 0, 0, 0, 0, 0, 0, 0, 0, 0, 0, 0, 0, 0, 0, 0, 0, 0, 0, 0, 0, 0, 0, 0, 0, 0, 0, 0, 0, 0, 0, 0, 0, 0, 0, 0, 0, 0, 0, 0, 0, 0, 0, 0, 0, 0, 0, 0, 0, 0, 0, 0, 0, 0, 0, 0, 0, 0, 0, 0, 0, 0, 0, 0, 0, 0, 0, 0, 0, 0, 0, 0, 0, 0, 0, 0, 0, 0, 0, 0, 0, 0, 0, 0, 0, 0, 0, 0, 0, 0, 0, 0, 0, 0, 0, 0, 0, 0, 0, 0, 0, 0, 0, 0, 0, 0, 0, 0, 0, 0, 0, 0, 0, 0, 0, 0, 0, 0, 0, 0, 0, 0, 0, 0, 0, 0, 0, 0, 0, 0, 0, 0, 0, 0, 0, 0, 0, 0, 0, 0, 0, 0, 0, 0, 0, 0, 0, 0, 0, 0, 0, 0, 0, 0, 0, 0, 0, 0, 0, 0, 0, 0, 0, 0, 0, 0, 0, 0, 0, 0, 0, 0, 0, 0, 0, 0, 0, 0, 0, 0, 0, 0, 0, 0, 0, 0, 0, 0, 0, 0, 0, 0, 0, 0, 0, 0, 0, 0, 0, 0, 0, 0, 0, 0, 0, 0, 0, 0, 0, 0, 0, 0, 0, 0, 0, 0, 0, 0, 0, 0, 0, 0, 0, 0, 0, 0, 0, 0, 0, 0, 0, 0, 0, 0, 0, 0, 0, 0, 0, 0, 0, 0, 0, 0, 0, 0, 0, 0, 0, 0, 0, 0, 0, 0, 0, 0, 0, 0, 0, 0, 0, 0, 0, 0, 0, 0, 0, 0, 0, 0, 0, 0, 0, 0, 0, 0, 0, 0, 0, 0, 0, 0, 0, 0, 0, 0, 0, 0, 0, 0, 0, 0, 0, 0, 0, 0, 0, 0, 0, 0, 0, 0, 0, 0, 0, 0, 0, 0, 0, 0, 0, 0, 0, 0, 0, 0, 0, 0, 0, 0, 0, 0, 0, 0, 0, 0, 0, 0, 0, 0, 0, 0, 0, 0, 0, 0, 0, 0, 0, 0, 0, 0, 0, 0, 0, 0, 0, 0, 0, 0, 0, 0, 0, 0, 0, 0, 0, 0, 0, 0, 0, 0, 0, 0, 0, 0, 0, 0, 0, 0, 0, 0, 0, 0, 0, 0, 0, 0, 0, 0, 0, 0, 0, 0, 0, 0, 0, 0, 0, 0, 0, 0, 0, 0, 0, 0, 0, 0, 0, 0, 0, 0, 0, 0, 0, 0, 0, 0, 0, 0, 0, 0, 0, 0, 0, 0, 0, 0, 0, 0, 0, 0, 0, 0, 0, 0, 0, 0, 0, 0, 0, 0, 0, 0, 0, 0, 0, 0, 0, 0, 0, 0, 0, 0, 0, 0, 0, 0, 0, 0, 0, 0, 0, 0, 0, 0, 0, 0, 0, 0, 0, 0, 0, 0, 0, 0, 0, 0, 0, 0, 0, 0, 0, 0, 0, 0, 0, 0, 0, 0, 0, 0, 0, 0, 0, 0, 0, 0, 0, 0, 0, 0, 0, 0, 0, 0, 0, 0, 0, 0, 0, 0, 0, 0, 0, 0, 0, 0, 0, 0, 0, 0, 0, 0, 0, 0, 0, 0, 0, 0, 0, 0, 0, 0, 0, 0, 0, 0, 0, 0, 0, 0, 0, 0, 0, 0, 0, 0, 0, 0, 0, 0, 0, 0, 0, 0, 0, 0, 0, 0, 0, 0, 0, 0, 0, 0, 0, 0, 0, 0, 0, 0, 0, 0, 0, 0, 0, 0, 0, 0, 0, 0, 0, 0, 0, 0, 0, 0, 0, 0, 0, 0, 0, 0, 0, 0, 0, 0, 0, 0, 0, 0, 0, 0, 0, 0, 0, 0, 0, 0, 0, 0, 0, 0, 0, 0, 0, 0, 0, 0, 0, 0, 0, 0, 0, 0, 0, 0, 0, 0, 0, 0, 0, 0, 0, 0, 0, 0, 0, 0, 0, 0, 0, 0, 0, 0, 0, 0, 0, 0, 0, 0, 0, 0, 0, 0, 0, 0, 0, 0, 0, 0, 0, 0, 0, 0, 0, 0, 0, 0, 0, 0, 0, 0, 0, 0, 0, 0, 0, 0, 0, 0, 0, 0, 0, 0, 0, 0, 0, 0, 0, 0, 0, 0, 0, 0, 0, 0, 0, 0, 0, 0, 0, 0, 0, 0, 0, 0, 0, 0, 0, 0, 0, 0, 0, 0, 0, 0, 0, 0, 0, 0, 0, 0, 0, 0, 0, 0, 0, 0, 0, 0, 0, 0, 0, 0, 0, 0, 0, 0, 0, 0, 0, 0, 0, 0, 0, 0, 0, 0, 0, 0, 0, 0, 0, 0, 0, 0, 0, 0, 0, 0, 0, 0, 0, 0, 0, 0, 0, 0, 0, 0, 0, 0, 0, 0, 0, 0, 0, 0, 0, 0, 0, 0, 0, 0, 0, 0, 0, 0, 0, 0, 0, 0, 0, 0, 0, 0, 0, 0, 0, 0, 0, 0, 0, 0, 0, 0, 0, 0, 0, 0, 0, 0, 0, 0, 0, 0, 0, 0, 0, 0, 0, 0, 0, 0, 0, 0, 0, 0, 0, 0, 0, 0, 0, 0, 0, 0, 0, 0, 0, 0, 0, 0, 0, 0, 0, 0, 0, 0, 0, 0, 0, 0, 0, 0, 0, 0, 0, 0, 0, 0, 0, 0, 0, 0, 0, 0, 0, 0, 0, 0, 0, 0, 0, 0, 0, 0, 0, 0, 0, 0, 0, 0, 0, 0, 0, 0, 0, 0, 0, 0, 0, 0, 0, 0, 0, 0, 0, 0, 0, 0, 0, 0, 0, 0, 0, 0, 0, 0, 0, 0, 0, 0, 0, 0, 0, 0, 0, 0, 0, 0, 0, 0, 0, 0, 0, 0, 0, 0, 0, 0, 0, 0, 0, 0, 0, 0, 0, 0, 0, 0, 0, 0, 0, 0, 0, 0, 0, 0, 0, 0, 0, 0, 0, 0, 0, 0, 0, 0, 0, 0, 0, 0, 0, 0, 0, 0, 0, 0, 0, 0, 0, 0, 0, 0, 0, 0, 0, 0, 0, 0, 0, 0, 0, 0, 0, 0, 0, 0, 0, 0, 0, 0, 0, 0, 0, 0, 0, 0, 0, 0, 0, 0, 0, 0, 0, 0, 0, 0, 0, 0, 0, 0, 0, 0, 0, 0, 0, 0, 0, 0, 0, 0, 0, 0, 0, 0, 0, 0, 0, 0, 0, 0, 0, 0, 0, 0, 0, 0, 0, 0, 0, 0, 0, 0, 0, 0, 0, 0, 0, 0, 0, 0, 0, 0, 0, 0, 0, 0, 0, 0, 0, 0, 0, 0, 0, 0, 0, 0, 0, 0, 0, 0, 0, 0, 0, 0, 0, 0, 0, 0, 0, 0, 0, 0, 0, 0, 0, 0, 0, 0, 0, 0, 0, 0, 0, 0, 0, 0, 0, 0, 0, 0, 0, 0, 0, 0, 0, 0, 0, 0, 0, 0, 0, 0, 0, 0, 0, 0, 0, 0, 0, 0, 0, 0, 0, 0, 0, 0, 0, 0, 0, 0, 0, 0, 0, 0, 0, 0, 0, 0, 0, 0, 0, 0, 0, 0, 0, 0, 0, 0, 0, 0, 0, 0, 0, 0, 0, 0, 0, 0, 0, 0, 0, 0, 0, 0, 0, 0, 0, 0, 0, 0, 0, 0, 0, 0, 0, 0, 0, 0, 0, 0, 0, 0, 0, 0, 0, 0, 0, 0, 0, 0, 0, 0, 0, 0, 0, 0, 0, 0, 0, 0, 0, 0, 0, 0, 0, 0, 0, 0, 0, 0, 0, 0, 0, 0, 0, 0, 0, 0, 0, 0, 0, 0, 0, 0, 0, 0, 0, 0, 0, 0, 0, 0, 0, 0, 0, 0, 0, 0, 0, 0, 0, 0, 0, 0, 0, 0, 0, 0, 0, 0, 0, 0, 0, 0, 0, 0, 0, 0, 0, 0, 0, 0, 0, 0, 0, 0, 0, 0, 0, 0, 0, 0, 0, 0, 0, 0, 0, 0, 0, 0, 0, 0, 0, 0, 0, 0, 0, 0, 0, 0, 0, 0, 0, 0, 0, 0, 0, 0, 0, 0, 0, 0, 0, 0, 0, 0, 0, 0, 0, 0, 0, 0, 0, 0, 0, 0, 0, 0, 0, 0, 0, 0, 0, 0, 0, 0, 0, 0, 0, 0, 0, 0, 0, 0, 0, 0, 0, 0, 0, 0, 0, 0, 0, 0, 0, 0, 0, 0, 0, 0, 0, 0, 0, 0, 0, 0, 0, 0, 0, 0, 0, 0, 0, 0, 0, 0, 0, 0, 0, 0, 0, 0, 0, 0, 0, 0, 0, 0, 0, 0, 0, 0, 0, 0, 0, 0, 0, 0, 0, 0, 0, 0, 0, 0, 0, 0, 0, 0, 0, 0, 0, 0, 0, 0, 0, 0, 0, 0, 0, 0, 0, 0, 0, 0, 0, 0, 0, 0, 0, 0, 0, 0, 0, 0, 0, 0, 0, 0, 0, 0, 0, 0, 0, 0, 0, 0, 0, 0, 0, 0, 0, 0, 0, 0, 0, 0, 0, 0, 0, 0, 0, 0, 0, 0, 0, 0, 0, 0, 0, 0, 0, 0, 0, 0, 0, 0, 0, 0, 0, 0, 0, 0, 0, 0, 0, 0, 0, 0, 0, 0, 0, 0, 0, 0, 0, 0, 0, 0, 0, 0, 0, 0, 0, 0, 0, 0, 0, 0, 0, 0, 0, 0, 0, 0, 0, 0, 0, 0, 0, 0, 0, 0, 0, 0, 0, 0, 0, 0, 0, 0, 0, 0, 0, 0, 0, 0, 0, 0, 0, 0, 0, 0, 0, 0, 0, 0, 0, 0, 0, 0, 0, 0, 0, 0, 0, 0, 0, 0, 0, 0, 0, 0, 0, 0, 0, 0, 0, 0, 0, 0, 0, 0, 0, 0, 0, 0, 0, 0, 0, 0, 0, 0, 0, 0, 0, 0, 0, 0, 0, 0, 0, 0, 0, 0, 0, 0, 0, 0, 0, 0, 0, 0, 0, 0, 0, 0, 0, 0, 0, 0, 0, 0, 0, 0, 0, 0, 0, 0, 0, 0, 0, 0, 0, 0, 0, 0, 0, 0, 0, 0, 0, 0, 0, 0, 0, 0, 0, 0, 0, 0, 0, 0, 0, 0, 0, 0, 0, 0, 0, 0, 0, 0, 0, 0, 0, 0, 0, 0, 0, 0, 0, 0, 0, 0, 0, 0, 0, 0, 0, 0, 0, 0, 0, 0, 0, 0, 0, 0, 0, 0, 0, 0, 0, 0, 0, 0, 0, 0, 0, 0, 0, 0, 0, 0, 0, 0, 0, 0, 0, 0, 0, 0, 0, 0, 0, 0, 0, 0, 0, 0, 0, 0, 0, 0, 0, 0, 0, 0, 0, 0, 0, 0, 0, 0, 0, 0, 0, 0, 0, 0, 0, 0, 0, 0, 0, 0, 0, 0, 0, 0, 0, 0, 0, 0, 0, 0, 0, 0, 0, 0, 0, 0, 0, 0, 0, 0, 0, 0, 0, 0, 0, 0, 0, 0, 0, 0, 0, 0, 0, 0, 0, 0, 0, 0, 0, 0, 0, 0, 0, 0, 0, 0, 0, 0, 0, 0, 0, 0, 0, 0, 0, 0, 0, 0, 0, 0, 0, 0, 0, 0, 0, 0, 0, 0, 0, 0, 0, 0, 0, 0, 0, 0, 0, 0, 0, 0, 0, 0, 0, 0, 0, 0, 0, 0, 0, 0, 0, 0, 0, 0, 0, 0, 0, 0, 0, 0, 0, 0, 0, 0, 0, 0, 0, 0, 0, 0, 0, 0, 0, 0, 0, 0, 0, 0, 0, 0, 0, 0, 0, 0, 0, 0, 0, 0, 0, 0, 0, 0, 0, 0, 0, 0, 0, 0, 0, 0, 0, 0, 0, 0, 0, 0, 0, 0, 0, 0, 0, 0, 0, 0, 0, 0, 0, 0, 0, 0, 0, 0, 0, 0, 0, 0, 0, 0, 0, 0, 0, 0, 0, 0, 0, 0, 0, 0, 0, 0, 0, 0, 0, 0, 0, 0, 0, 0, 0, 0, 0, 0, 0, 0, 0, 0, 0, 0, 0, 0, 0, 0, 0, 0, 0, 0, 0, 0, 0, 0, 0, 0, 0, 0, 0, 0, 0, 0, 0, 0, 0, 0, 0, 0, 0, 0, 0, 0, 0, 0, 0, 0, 0, 0, 0, 0, 0, 0, 0, 0, 0, 0, 0, 0, 0, 0, 0, 0, 0, 0, 0, 0, 0, 0, 0, 0, 0, 0, 0, 0, 0, 0, 0, 0, 0, 0, 0, 0, 0, 0, 0, 0, 0, 0, 0, 0, 0, 0, 0, 0, 0, 0, 0, 0, 0, 0, 0, 0, 0, 0, 0, 0, 0, 0, 0, 0, 0, 0, 0, 0, 0, 0, 0, 0, 0, 0, 0, 0, 0, 0, 0, 0, 0, 0, 0, 0, 0, 0, 0, 0, 0, 0, 0, 0, 0, 0, 0, 0, 0, 0, 0, 0, 0, 0, 0, 0, 0, 0, 0, 0, 0, 0, 0, 0, 0, 0, 0, 0, 0, 0, 0, 0, 0, 0, 0, 0, 0, 0, 0, 0, 0, 0, 0, 0, 0, 0, 0, 0, 0, 0, 0, 0, 0, 0, 0, 0, 0, 0, 0, 0, 0, 0, 0, 0, 0, 0, 0, 0, 0, 0, 0, 0, 0, 0, 0, 0, 0, 0, 0, 0, 0, 0, 0, 0, 0, 0, 0, 0, 0, 0, 0, 0, 0, 0, 0, 0, 0, 0, 0, 0, 0, 0, 0, 0, 0, 0, 0, 0, 0, 0, 0, 0, 0, 0, 0, 0, 0, 0, 0, 0, 0, 0, 0, 0, 0, 0, 0, 0, 0, 0, 0, 0, 0, 0, 0, 0, 0, 0, 0, 0, 0, 0, 0, 0, 0, 0, 0, 0, 0, 0, 0, 0, 0, 0, 0, 0, 0, 0, 0, 0, 0, 0, 0, 0, 0, 0, 0, 0, 0, 0, 0, 0, 0, 0, 0, 0, 0, 0, 0, 0, 0, 0, 0, 0, 0, 0, 0, 0, 0, 0, 0, 0, 0, 0, 0, 0, 0, 0, 0, 0, 0, 0, 0, 0, 0, 0, 0, 0, 0, 0, 0, 0, 0, 0, 0, 0, 0, 0, 0, 0, 0, 0, 0, 0, 0, 0, 0, 0, 0, 0, 0, 0, 0, 0, 0, 0, 0, 0, 0, 0, 0, 0, 0, 0, 0, 0, 0, 0, 0, 0, 0, 0, 0, 0, 0, 0, 0, 0, 0, 0, 0, 0, 0, 0, 0, 0, 0, 0, 0, 0, 0, 0, 0, 0, 0, 0, 0, 0, 0, 0, 0, 0, 0, 0, 0, 0, 0, 0, 0, 0, 0, 0, 0, 0, 0, 0, 0, 0, 0, 0, 0, 0, 0, 0, 0, 0, 0, 0, 0, 0, 0, 0, 0, 0, 0, 0, 0, 0, 0, 0, 0, 0, 0, 0, 0, 0, 0, 0, 0, 0, 0, 0, 0, 0, 0, 0, 0, 0, 0, 0, 0, 0, 0, 0, 0, 0, 0, 0, 0, 0, 0, 0, 0, 0, 0, 0, 0, 0, 0, 0, 0, 0, 0, 0, 0, 0, 0, 0, 0, 0, 0, 0, 0, 0, 0, 0, 0, 0, 0, 0, 0, 0, 0, 0, 0, 0, 0, 0, 0, 0, 0, 0, 0, 0, 0, 0, 0, 0, 0, 0, 0, 0, 0, 0, 0, 0, 0, 0, 0, 0, 0, 0, 0, 0, 0, 0, 0, 0, 0, 0, 0, 0, 0, 0, 0, 0, 0, 0, 0, 0, 0, 0, 0, 0, 0, 0, 0, 0, 0, 0, 0, 0, 0, 0, 0, 0, 0, 0, 0, 0, 0, 0, 0, 0, 0, 0, 0, 0, 0, 0, 0, 0, 0, 0, 0, 0, 0, 0, 0, 0, 0, 0, 0, 0, 0, 0, 0, 0, 0, 0, 0, 0, 0, 0, 0, 0, 0], [0, 1, 1, 0, 0, 0, 0, 0, 0, 0, 0, 0, 0, 0, 0, 0, 0, 0, 1, 0, 1, 1, 1, 1, 1, 1, 1, 1, 1, 1, 1, 1, 0, 0, 0, 0, 0, 0, 0, 0, 0, 0, 0, 0, 0, 0, 0, 0, 0, 0, 0, 0, 0, 0, 0, 0, 0, 0, 0, 0, 0, 0, 0, 0, 0, 0, 0, 0, 0, 0, 0, 0, 0, 0, 0, 0, 0, 0, 0, 0, 0, 0, 0, 0, 0, 0, 0, 0, 0, 0, 0, 0, 0, 0, 0, 0, 0, 0, 0, 0, 0, 0, 0, 0, 0, 0, 0, 0, 0, 0, 0, 0, 0, 0, 0, 0, 0, 0, 0, 0, 0, 0, 0, 0, 0, 0, 0, 0, 0, 0, 0, 0, 0, 0, 0, 0, 0, 0, 0, 0, 0, 0, 0, 0, 0, 0, 0, 0, 0, 0, 0, 0, 0, 0, 0, 0, 0, 0, 0, 0, 0, 0, 0, 0, 0, 0, 0, 0, 0, 0, 0, 0, 0, 0, 0, 0, 0, 0, 0, 0, 0, 0, 0, 0, 0, 0, 0, 0, 0, 0, 0, 0, 0, 0, 0, 0, 0, 0, 0, 0, 0, 0, 0, 0, 0, 0, 0, 0, 0, 0, 0, 0, 0, 0, 0, 0, 0, 0, 0, 0, 0, 0, 0, 0, 0, 0, 0, 0, 0, 0, 0, 0, 0, 0, 0, 0, 0, 0, 0, 0, 0, 0, 0, 0, 0, 0, 0, 0, 0, 0, 0, 0, 0, 0, 0, 0, 0, 0, 0, 0, 0, 0, 0, 0, 0, 0, 0, 0, 0, 0, 0, 0, 0, 0, 0, 0, 0, 0, 0, 0, 0, 0, 0, 0, 0, 0, 0, 0, 0, 0, 0, 0, 0, 0, 0, 0, 0, 0, 0, 0, 0, 0, 0, 0, 0, 0, 0, 0, 0, 0, 0, 0, 0, 0, 0, 0, 0, 0, 0, 0, 0, 0, 0, 0, 0, 0, 0, 0, 0, 0, 0, 0, 0, 0, 0, 0, 0, 0, 0, 0, 0, 0, 0, 0, 0, 0, 0, 0, 0, 0, 0, 0, 0, 0, 0, 0, 0, 0, 0, 0, 0, 0, 0, 0, 0, 0, 0, 0, 0, 0, 0, 0, 0, 0, 0, 0, 0, 0, 0, 0, 0, 0, 0, 0, 0, 0, 0, 0, 0, 0, 0, 0, 0, 0, 0, 0, 0, 0, 0, 0, 0, 0, 0, 0, 0, 0, 0, 0, 0, 0, 0, 0, 0, 0, 0, 0, 0, 0, 0, 0, 0, 0, 0, 0, 0, 0, 0, 0, 0, 0, 0, 0, 0, 0, 0, 0, 0, 0, 0, 0, 0, 0, 0, 0, 0, 0, 0, 0, 0, 0, 0, 0, 0, 0, 0, 0, 0, 0, 0, 0, 0, 0, 0, 0, 0, 0, 0, 0, 0, 0, 0, 0, 0, 0, 0, 0, 0, 0, 0, 0, 0, 0, 0, 0, 0, 0, 0, 0, 0, 0, 0, 0, 0, 0, 0, 0, 0, 0, 0, 0, 0, 0, 0, 0, 0, 0, 0, 0, 0, 0, 0, 0, 0, 0, 0, 0, 0, 0, 0, 0, 0, 0, 0, 0, 0, 0, 0, 0, 0, 0, 0, 0, 0, 0, 0, 0, 0, 0, 0, 0, 0, 0, 0, 0, 0, 0, 0, 0, 0, 0, 0, 0, 0, 0, 0, 0, 0, 0, 0, 0, 0, 0, 0, 0, 0, 0, 0, 0, 0, 0, 0, 0, 0, 0, 0, 0, 0, 0, 0, 0, 0, 0, 0, 0, 0, 0, 0, 0, 0, 0, 0, 0, 0, 0, 0, 0, 0, 0, 0, 0, 0, 0, 0, 0, 0, 0, 0, 0, 0, 0, 0, 0, 0, 0, 0, 0, 0, 0, 0, 0, 0, 0, 0, 0, 0, 0, 0, 0, 0, 0, 0, 0, 0, 0, 0, 0, 0, 0, 0, 0, 0, 0, 0, 0, 0, 0, 0, 0, 0, 0, 0, 0, 0, 0, 0, 0, 0, 0, 0, 0, 0, 0, 0, 0, 0, 0, 0, 0, 0, 0, 0, 0, 0, 0, 0, 0, 0, 0, 0, 0, 0, 0, 0, 0, 0, 0, 0, 0, 0, 0, 0, 0, 0, 0, 0, 0, 0, 0, 0, 0, 0, 0, 0, 0, 0, 0, 0, 0, 0, 0, 0, 0, 0, 0, 0, 0, 0, 0, 0, 0, 0, 0, 0, 0, 0, 0, 0, 0, 0, 0, 0, 0, 0, 0, 0, 0, 0, 0, 0, 0, 0, 0, 0, 0, 0, 0, 0, 0, 0, 0, 0, 0, 0, 0, 0, 0, 0, 0, 0, 0, 0, 0, 0, 0, 0, 0, 0, 0, 0, 0, 0, 0, 0, 0, 0, 0, 0, 0, 0, 0, 0, 0, 0, 0, 0, 0, 0, 0, 0, 0, 0, 0, 0, 0, 0, 0, 0, 0, 0, 0, 0, 0, 0, 0, 0, 0, 0, 0, 0, 0, 0, 0, 0, 0, 0, 0, 0, 0, 0, 0, 0, 0, 0, 0, 0, 0, 0, 0, 0, 0, 0, 0, 0, 0, 0, 0, 0, 0, 0, 0, 0, 0, 0, 0, 0, 0, 0, 0, 0, 0, 0, 0, 0, 0, 0, 0, 0, 0, 0, 0, 0, 0, 0, 0, 0, 0, 0, 0, 0, 0, 0, 0, 0, 0, 0, 0, 0, 0, 0, 0, 0, 0, 0, 0, 0, 0, 0, 0, 0, 0, 0, 0, 0, 0, 0, 0, 0, 0, 0, 0, 0, 0, 0, 0, 0, 0, 0, 0, 0, 0, 0, 0, 0, 0, 0, 0, 0, 0, 0, 0, 0, 0, 0, 0, 0, 0, 0, 0, 0, 0, 0, 0, 0, 0, 0, 0, 0, 0, 0, 0, 0, 0, 0, 0, 0, 0, 0, 0, 0, 0, 0, 0, 0, 0, 0, 0, 0, 0, 0, 0, 0, 0, 0, 0, 0, 0, 0, 0, 0, 0, 0, 0, 0, 0, 0, 0, 0, 0, 0, 0, 0, 0, 0, 0, 0, 0, 0, 0, 0, 0, 0, 0, 0, 0, 0, 0, 0, 0, 0, 0, 0, 0, 0, 0, 0, 0, 0, 0, 0, 0, 0, 0, 0, 0, 0, 0, 0, 0, 0, 0, 0, 0, 0, 0, 0, 0, 0, 0, 0, 0, 0, 0, 0, 0, 0, 0, 0, 0, 0, 0, 0, 0, 0, 0, 0, 0, 0, 0, 0, 0, 0, 0, 0, 0, 0, 0, 0, 0, 0, 0, 0, 0, 0, 0, 0, 0, 0, 0, 0, 0, 0, 0, 0, 0, 0, 0, 0, 0, 0, 0, 0, 0, 0, 0, 0, 0, 0, 0, 0, 0, 0, 0, 0, 0, 0, 0, 0, 0, 0, 0, 0, 0, 0, 0, 0, 0, 0, 0, 0, 0, 0, 0, 0, 0, 0, 0, 0, 0, 0, 0, 0, 0, 0, 0, 0, 0, 0, 0, 0, 0, 0, 0, 0, 0, 0, 0, 0, 0, 0, 0, 0, 0, 0, 0, 0, 0, 0, 0, 0, 0, 0, 0, 0, 0, 0, 0, 0, 0, 0, 0, 0, 0, 0, 0, 0, 0, 0, 0, 0, 0, 0, 0, 0, 0, 0, 0, 0, 0, 0, 0, 0, 0, 0, 0, 0, 0, 0, 0, 0, 0, 0, 0, 0, 0, 0, 0, 0, 0, 0, 0, 0, 0, 0, 0, 0, 0, 0, 0, 0, 0, 0, 0, 0, 0, 0, 0, 0, 0, 0, 0, 0, 0, 0, 0, 0, 0, 0, 0, 0, 0, 0, 0, 0, 0, 0, 0, 0, 0, 0, 0, 0, 0, 0, 0, 0, 0, 0, 0, 0, 0, 0, 0, 0, 0, 0, 0, 0, 0, 0, 0, 0, 0, 0, 0, 0, 0, 0, 0, 0, 0, 0, 0, 0, 0, 0, 0, 0, 0, 0, 0, 0, 0, 0, 0, 0, 0, 0, 0, 0, 0, 0, 0, 0, 0, 0, 0, 0, 0, 0, 0, 0, 0, 0, 0, 0, 0, 0, 0, 0, 0, 0, 0, 0, 0, 0, 0, 0, 0, 0, 0, 0, 0, 0, 0, 0, 0, 0, 0, 0, 0, 0, 0, 0, 0, 0, 0, 0, 0, 0, 0, 0, 0, 0, 0, 0, 0, 0, 0, 0, 0, 0, 0, 0, 0, 0, 0, 0, 0, 0, 0, 0, 0, 0, 0, 0, 0, 0, 0, 0, 0, 0, 0, 0, 0, 0, 0, 0, 0, 0, 0, 0, 0, 0, 0, 0, 0, 0, 0, 0, 0, 0, 0, 0, 0, 0, 0, 0, 0, 0, 0, 0, 0, 0, 0, 0, 0, 0, 0, 0, 0, 0, 0, 0, 0, 0, 0, 0, 0, 0, 0, 0, 0, 0, 0, 0, 0, 0, 0, 0, 0, 0, 0, 0, 0, 0, 0, 0, 0, 0, 0, 0, 0, 0, 0, 0, 0, 0, 0, 0, 0, 0, 0, 0, 0, 0, 0, 0, 0, 0, 0, 0, 0, 0, 0, 0, 0, 0, 0, 0, 0, 0, 0, 0, 0, 0, 0, 0, 0, 0, 0, 0, 0, 0, 0, 0, 0, 0, 0, 0, 0, 0, 0, 0, 0, 0, 0, 0, 0, 0, 0, 0, 0, 0, 0, 0, 0, 0, 0, 0, 0, 0, 0, 0, 0, 0, 0, 0, 0, 0, 0, 0, 0, 0, 0, 0, 0, 0, 0, 0, 0, 0, 0, 0, 0, 0, 0, 0, 0, 0, 0, 0, 0, 0, 0, 0, 0, 0, 0, 0, 0, 0, 0, 0, 0, 0, 0, 0, 0, 0, 0, 0, 0, 0, 0, 0, 0, 0, 0, 0, 0, 0, 0, 0, 0, 0, 0, 0, 0, 0, 0, 0, 0, 0, 0, 0, 0, 0, 0, 0, 0, 0, 0, 0, 0, 0, 0, 0, 0, 0, 0, 0, 0, 0, 0, 0, 0, 0, 0, 0, 0, 0, 0, 0, 0, 0, 0, 0, 0, 0, 0, 0, 0, 0, 0, 0, 0, 0, 0, 0, 0, 0, 0, 0, 0, 0, 0, 0, 0, 0, 0, 0, 0, 0, 0, 0, 0, 0, 0, 0, 0, 0, 0, 0, 0, 0, 0, 0, 0, 0, 0, 0, 0, 0, 0, 0, 0, 0, 0, 0, 0, 0, 0, 0, 0, 0, 0, 0, 0, 0, 0, 0, 0, 0, 0, 0, 0, 0, 0, 0, 0, 0, 0, 0, 0, 0, 0, 0, 0, 0, 0, 0, 0, 0, 0, 0, 0, 0, 0, 0, 0, 0, 0, 0, 0, 0, 0, 0, 0, 0, 0, 0, 0, 0, 0, 0, 0, 0, 0, 0, 0, 0, 0, 0, 0, 0, 0, 0, 0, 0, 0, 0, 0, 0, 0, 0, 0, 0, 0, 0, 0, 0, 0, 0, 0, 0, 0, 0, 0, 0, 0, 0, 0, 0, 0, 0, 0, 0, 0, 0, 0, 0, 0, 0, 0, 0, 0, 0, 0, 0, 0, 0, 0, 0, 0, 0, 0, 0, 0, 0, 0, 0, 0, 0, 0, 0, 0, 0, 0, 0, 0, 0, 0, 0, 0, 0, 0, 0, 0, 0, 0, 0, 0, 0, 0, 0, 0, 0, 0, 0, 0, 0, 0, 0, 0, 0, 0, 0, 0, 0, 0, 0, 0, 0, 0, 0, 0, 0, 0, 0, 0, 0, 0, 0, 0, 0, 0, 0, 0, 0, 0, 0, 0, 0, 0, 0, 0, 0, 0, 0, 0, 0, 0, 0, 0, 0, 0, 0, 0, 0, 0, 0, 0, 0, 0, 0, 0, 0, 0, 0, 0, 0, 0, 0, 0, 0, 0, 0, 0, 0, 0, 0, 0, 0, 0, 0, 0, 0, 0, 0, 0, 0, 0, 0, 0, 0, 0, 0, 0, 0, 0, 0, 0, 0, 0, 0, 0, 0, 0, 0, 0, 0, 0, 0, 0, 0, 0, 0, 0, 0, 0, 0, 0, 0, 0, 0, 0, 0, 0, 0, 0, 0, 0, 0, 0, 0, 0, 0, 0, 0, 0, 0, 0, 0, 0, 0, 0, 0, 0, 0, 0, 0, 0, 0, 0, 0, 0, 0, 0, 0, 0, 0, 0, 0, 0, 0, 0, 0, 0, 0, 0, 0, 0, 0, 0, 0, 0, 0, 0, 0, 0, 0, 0, 0, 0, 0, 0, 0, 0, 0, 0, 0, 0, 0, 0, 0, 0, 0, 0, 0, 0, 0, 0, 0, 0, 0, 0, 0, 0, 0, 0, 0, 0, 0, 0, 0, 0, 0, 0, 0, 0, 0, 0, 0, 0, 0, 0, 0, 0, 0, 0, 0, 0, 0, 0, 0, 0, 0, 0, 0, 0, 0, 0, 0, 0, 0, 0, 0, 0, 0, 0, 0, 0, 0, 0, 0, 0, 0, 0, 0, 0, 0, 0, 0, 0, 0, 0, 0, 0, 0, 0, 0, 0, 0, 0, 0, 0, 0, 0, 0, 0, 0, 0, 0, 0, 0, 0, 0, 0, 0, 0, 0, 0, 0, 0, 0, 0, 0, 0, 0, 0, 0, 0, 0, 0, 0, 0, 0, 0, 0, 0, 0, 0, 0, 0, 0, 0, 0, 0, 0, 0, 0, 0, 0, 0, 0, 0, 0, 0, 0, 0, 0, 0, 0, 0, 0, 0, 0, 0, 0, 0, 0, 0, 0, 0, 0, 0, 0, 0, 0, 0, 0, 0, 0, 0, 0, 0, 0, 0, 0, 0, 0, 0, 0, 0, 0, 0, 0, 0, 0, 0, 0, 0, 0, 0, 0, 0, 0, 0, 0, 0, 0, 0, 0, 0, 0, 0, 0, 0, 0, 0, 0, 0, 0, 0, 0, 0, 0, 0, 0, 0, 0, 0, 0, 0, 0, 0, 0, 0, 0, 0, 0, 0, 0, 0, 0, 0, 0, 0, 0, 0, 0, 0, 0, 0, 0, 0, 0, 0, 0, 0, 0, 0, 0, 0, 0, 0, 0, 0, 0, 0, 0, 0, 0, 0, 0, 0, 0, 0, 0, 0, 0, 0, 0, 0, 0, 0, 0, 0, 0, 0, 0, 0, 0, 0, 0, 0, 0, 0, 0, 0, 0, 0, 0, 0, 0, 0, 0, 0, 0, 0, 0, 0, 0, 0, 0, 0, 0, 0, 0, 0, 0, 0, 0, 0, 0, 0, 0, 0, 0, 0, 0, 0, 0, 0, 0, 0, 0, 0, 0, 0, 0, 0, 0, 0, 0, 0, 0, 0, 0, 0, 0, 0, 0, 0, 0, 0, 0, 0, 0, 0, 0, 0, 0, 0, 0, 0, 0, 0, 0, 0, 0, 0, 0, 0, 0, 0, 0, 0, 0, 0, 0, 0, 0, 0, 0, 0, 0, 0, 0, 0, 0, 0, 0, 0, 0, 0, 0, 0, 0, 0, 0, 0, 0, 0, 0, 0, 0, 0, 0, 0, 0, 0, 0, 0, 0, 0, 0, 0, 0, 0, 0, 0, 0, 0, 0, 0, 0, 0, 0, 0, 0, 0, 0, 0, 0, 0, 0, 0, 0, 0, 0, 0, 0, 0, 0, 0, 0, 0, 0, 0, 0, 0, 0, 0, 0, 0, 0, 0, 0, 0, 0, 0, 0, 0, 0, 0, 0, 0, 0, 0, 0, 0, 0, 0, 0, 0, 0, 0, 0, 0, 0, 0, 0, 0, 0, 0, 0, 0, 0, 0, 0, 0, 0, 0, 0, 0, 0, 0, 0, 0, 0, 0, 0, 0, 0, 0, 0, 0, 0, 0, 0, 0, 0, 0, 0, 0, 0, 0, 0, 0, 0, 0, 0, 0, 0, 0, 0, 0, 0, 0, 0, 0, 0, 0, 0, 0, 0, 0, 0, 0, 0, 0, 0, 0, 0, 0, 0, 0, 0, 0, 0, 0, 0, 0, 0, 0, 0, 0, 0, 0, 0, 0, 0, 0, 0, 0, 0, 0, 0, 0, 0, 0, 0, 0, 0, 0, 0, 0, 0, 0, 0, 0, 0, 0, 0, 0, 0, 0, 0, 0, 0, 0, 0, 0, 0, 0, 0, 0, 0, 0, 0, 0, 0, 0, 0, 0, 0, 0, 0, 0, 0, 0, 0, 0, 0, 0, 0, 0, 0, 0, 0, 0, 0, 0, 0, 0, 0, 0, 0, 0, 0, 0, 0, 0, 0, 0, 0, 0, 0, 0, 0, 0, 0, 0, 0, 0, 0, 0, 0, 0, 0, 0, 0, 0, 0, 0, 0, 0, 0, 0, 0, 0, 0, 0, 0, 0, 0, 0, 0, 0, 0, 0, 0, 0, 0, 0, 0, 0, 0, 0, 0, 0, 0, 0, 0, 0, 0, 0, 0, 0, 0, 0, 0, 0, 0, 0, 0, 0, 0, 0, 0, 0, 0, 0, 0, 0, 0, 0, 0, 0, 0, 0, 0, 0, 0, 0, 0, 0, 0, 0, 0, 0, 0, 0, 0, 0, 0, 0, 0, 0, 0, 0, 0, 0, 0, 0, 0, 0, 0, 0, 0, 0, 0, 0, 0, 0, 0, 0, 0, 0, 0, 0, 0, 0, 0, 0, 0, 0, 0, 0, 0, 0, 0, 0, 0, 0, 0, 0, 0, 0, 0, 0, 0, 0, 0, 0, 0, 0, 0, 0, 0, 0, 0, 0, 0, 0, 0, 0, 0, 0, 0, 0, 0, 0, 0, 0, 0, 0, 0, 0, 0, 0, 0, 0, 0, 0, 0, 0, 0, 0, 0]]\n"
     ]
    }
   ],
   "source": [
    "# ubah nilai yg lebih dari 1 jadi 1, untuk penghitungan DF\n",
    "tf_forDF_stem = []\n",
    "changeValue(tf_akhir_stem, tf_forDF_stem)\n",
    "print(tf_forDF_stem[:2])"
   ]
  },
  {
   "cell_type": "code",
   "execution_count": 48,
   "id": "318fce41",
   "metadata": {},
   "outputs": [
    {
     "name": "stdout",
     "output_type": "stream",
     "text": [
      "[1, 44, 131, 4, 82, 21, 12, 5, 6, 15, 3, 1, 4, 23, 94, 16, 13, 1, 255, 1, 7, 2, 11, 188, 1, 49, 1, 1, 1, 1, 1, 6, 4, 33, 211, 22, 16, 2, 28, 5, 7, 14, 66, 3, 3, 8, 4, 1, 1, 28, 43, 2, 45, 20, 12, 8, 2, 5, 4, 3, 27, 1, 42, 20, 1, 5, 54, 1, 1, 1, 4, 42, 112, 16, 6, 124, 1, 1, 1, 1, 1, 1, 1, 2, 1, 1, 1, 1, 8, 20, 1, 25, 1, 3, 3, 13, 11, 15, 21, 6, 6, 43, 11, 62, 9, 62, 42, 1, 1, 15, 5, 8, 8, 14, 9, 49, 75, 1, 50, 7, 2, 3, 1, 6, 31, 1, 1, 4, 16, 6, 8, 1, 5, 4, 1, 1, 2, 2, 51, 22, 4, 7, 5, 1, 4, 40, 1, 1, 3, 1, 5, 9, 3, 3, 3, 8, 18, 7, 2, 1, 4, 4, 4, 4, 15, 2, 3, 4, 2, 2, 2, 2, 2, 2, 2, 2, 2, 1, 1, 9, 25, 12, 4, 5, 6, 21, 1, 2, 4, 1, 1, 2, 3, 3, 2, 1, 9, 5, 1, 1, 7, 19, 2, 1, 3, 4, 26, 2, 1, 115, 4, 1, 3, 1, 1, 7, 1, 20, 8, 1, 13, 8, 7, 27, 2, 31, 1, 1, 2, 1, 13, 2, 5, 1, 1, 1, 35, 2, 1, 31, 9, 1, 2, 2, 2, 1, 1, 4, 1, 1, 1, 7, 2, 1, 1, 3, 1, 2, 1, 1, 6, 5, 4, 1, 1, 4, 9, 1, 1, 4, 1, 1, 8, 1, 3, 6, 3, 11, 2, 8, 1, 1, 7, 11, 1, 17, 19, 11, 1, 3, 2, 3, 3, 3, 3, 1, 1, 42, 3, 14, 26, 36, 55, 3, 8, 2, 1, 6, 2, 1, 1, 1, 1, 2, 1, 1, 1, 3, 1, 1, 1, 1, 1, 1, 1, 1, 1, 2, 8, 2, 1, 5, 2, 1, 1, 4, 24, 1, 1, 7, 3, 8, 5, 19, 23, 8, 2, 9, 2, 1, 2, 1, 1, 7, 1, 1, 1, 1, 1, 1, 4, 36, 1, 5, 2, 1, 1, 1, 2, 1, 1, 1, 1, 1, 6, 1, 1, 11, 6, 20, 8, 2, 23, 1, 3, 3, 3, 1, 3, 1, 2, 1, 1, 1, 1, 1, 1, 4, 1, 2, 1, 1, 3, 8, 1, 2, 6, 1, 1, 16, 3, 2, 2, 2, 2, 3, 2, 2, 1, 8, 2, 10, 2, 4, 1, 1, 5, 1, 5, 6, 1, 1, 1, 1, 8, 2, 5, 1, 15, 8, 9, 1, 24, 6, 20, 1, 1, 9, 1, 6, 1, 1, 1, 4, 1, 1, 7, 17, 1, 21, 21, 19, 1, 1, 11, 11, 1, 6, 2, 1, 5, 2, 25, 3, 1, 23, 11, 24, 6, 4, 3, 3, 2, 2, 3, 1, 7, 5, 5, 3, 4, 6, 2, 12, 12, 1, 1, 1, 16, 1, 1, 1, 4, 2, 2, 1, 1, 1, 1, 1, 1, 1, 9, 3, 1, 1, 1, 3, 1, 1, 1, 1, 1, 1, 1, 1, 1, 3, 1, 1, 1, 9, 1, 4, 2, 2, 14, 1, 1, 1, 9, 24, 1, 2, 6, 2, 2, 1, 1, 4, 5, 1, 1, 1, 1, 1, 11, 1, 1, 2, 1, 1, 1, 1, 2, 1, 1, 3, 1, 4, 1, 3, 1, 1, 1, 6, 1, 1, 3, 1, 1, 5, 1, 3, 25, 14, 1, 1, 1, 7, 1, 1, 4, 8, 6, 5, 1, 1, 1, 1, 1, 1, 8, 1, 1, 16, 2, 4, 9, 4, 1, 1, 2, 8, 2, 31, 2, 3, 1, 8, 6, 7, 3, 2, 1, 6, 11, 2, 1, 1, 2, 2, 1, 14, 1, 1, 1, 1, 1, 1, 1, 2, 1, 1, 1, 2, 1, 3, 1, 12, 13, 2, 3, 2, 1, 1, 5, 1, 1, 1, 1, 1, 1, 1, 4, 1, 13, 1, 1, 2, 3, 1, 3, 1, 1, 3, 10, 3, 3, 6, 3, 4, 1, 1, 2, 1, 1, 1, 1, 10, 3, 7, 5, 1, 3, 6, 8, 5, 1, 1, 4, 2, 1, 1, 1, 1, 18, 3, 1, 3, 6, 6, 17, 6, 22, 10, 4, 3, 1, 2, 1, 1, 1, 1, 2, 1, 1, 1, 1, 2, 2, 2, 2, 3, 4, 22, 2, 8, 3, 8, 3, 1, 3, 2, 1, 2, 1, 2, 8, 6, 2, 2, 3, 1, 2, 2, 8, 1, 1, 1, 1, 1, 1, 1, 2, 1, 1, 1, 1, 10, 1, 1, 2, 3, 1, 1, 16, 1, 8, 3, 3, 2, 2, 8, 2, 1, 1, 42, 1, 1, 1, 2, 2, 1, 4, 1, 1, 2, 1, 1, 2, 1, 2, 2, 2, 1, 1, 7, 3, 1, 3, 1, 1, 2, 1, 10, 1, 1, 1, 1, 1, 1, 1, 2, 1, 1, 1, 2, 1, 1, 3, 1, 1, 4, 1, 1, 2, 1, 3, 4, 8, 2, 1, 1, 1, 1, 1, 5, 1, 3, 1, 1, 1, 1, 1, 1, 1, 1, 1, 8, 7, 1, 13, 32, 3, 1, 51, 6, 4, 3, 4, 3, 1, 4, 3, 5, 1, 6, 1, 1, 1, 1, 1, 1, 1, 11, 2, 2, 7, 4, 4, 2, 2, 3, 1, 4, 6, 1, 3, 2, 1, 1, 1, 1, 2, 3, 3, 3, 2, 3, 2, 12, 12, 1, 3, 1, 4, 7, 1, 12, 1, 1, 4, 2, 10, 6, 11, 4, 5, 4, 10, 2, 1, 4, 4, 3, 9, 5, 4, 3, 2, 1, 2, 1, 1, 1, 3, 2, 2, 2, 1, 1, 2, 1, 5, 3, 6, 1, 13, 6, 1, 9, 2, 1, 1, 4, 2, 2, 2, 1, 1, 1, 7, 1, 8, 5, 1, 1, 1, 3, 3, 9, 5, 2, 5, 2, 2, 2, 2, 4, 13, 2, 4, 2, 2, 15, 6, 3, 3, 3, 2, 2, 2, 5, 2, 3, 3, 2, 16, 2, 6, 2, 2, 2, 1, 1, 1, 1, 1, 4, 3, 1, 1, 1, 1, 1, 1, 1, 3, 1, 3, 1, 1, 1, 1, 1, 1, 1, 1, 1, 1, 1, 5, 2, 1, 1, 1, 1, 1, 1, 2, 1, 2, 2, 1, 2, 2, 2, 2, 1, 2, 6, 2, 1, 2, 2, 1, 1, 1, 1, 1, 1, 3, 1, 1, 4, 5, 5, 3, 6, 4, 3, 4, 3, 1, 4, 1, 1, 1, 1, 1, 1, 1, 4, 1, 1, 3, 1, 1, 5, 1, 1, 1, 1, 1, 1, 1, 1, 1, 1, 1, 1, 1, 1, 1, 1, 1, 1, 1, 3, 1, 4, 1, 1, 1, 1, 1, 1, 1, 1, 2, 1, 1, 1, 1, 1, 1, 1, 2, 1, 2, 1, 1, 2, 1, 2, 2, 7, 1, 1, 1, 8, 5, 1, 7, 9, 1, 10, 1, 1, 1, 2, 1, 1, 1, 1, 1, 2, 1, 4, 1, 4, 2, 2, 2, 2, 2, 2, 2, 6, 2, 1, 1, 3, 7, 2, 4, 1, 2, 2, 2, 2, 2, 4, 1, 4, 10, 1, 2, 1, 2, 1, 2, 1, 1, 1, 1, 1, 1, 1, 1, 1, 8, 22, 3, 5, 1, 1, 1, 4, 2, 2, 1, 1, 1, 4, 1, 3, 8, 4, 1, 10, 5, 1, 10, 8, 4, 5, 4, 6, 1, 2, 1, 1, 1, 1, 1, 1, 1, 3, 1, 1, 1, 2, 1, 2, 10, 11, 4, 3, 2, 2, 2, 2, 1, 2, 2, 3, 2, 2, 2, 2, 1, 4, 2, 1, 1, 3, 6, 1, 6, 4, 1, 6, 1, 8, 2, 1, 2, 2, 1, 2, 1, 1, 3, 1, 1, 4, 2, 4, 9, 1, 1, 1, 2, 8, 5, 1, 1, 1, 2, 2, 1, 1, 2, 1, 1, 1, 1, 1, 2, 2, 3, 1, 10, 10, 4, 3, 3, 1, 1, 2, 3, 4, 1, 1, 1, 1, 1, 8, 1, 5, 3, 3, 1, 1, 1, 1, 1, 1, 1, 2, 1, 16, 2, 2, 1, 2, 2, 1, 1, 1, 2, 2, 2, 1, 2, 1, 1, 1, 1, 1, 1, 2, 2, 2, 2, 2, 1, 1, 1, 1, 1, 1, 1, 1, 1, 1, 1, 1, 5, 9, 2, 4, 1, 2, 3, 18, 1, 1, 3, 3, 3, 3, 3, 3, 2, 14, 5, 6, 3, 3, 1, 1, 1, 4, 3, 12, 8, 6, 3, 2, 5, 5, 8, 1, 8, 1, 5, 1, 1, 1, 3, 1, 8, 4, 3, 4, 1, 1, 2, 3, 2, 2, 3, 1, 1, 1, 1, 1, 1, 1, 2, 2, 2, 3, 7, 4, 1, 2, 2, 2, 1, 4, 6, 4, 2, 5, 4, 5, 2, 4, 5, 1, 3, 4, 3, 3, 2, 2, 2, 2, 2, 4, 2, 1, 2, 3, 1, 1, 3, 1, 1, 5, 1, 4, 5, 11, 1, 1, 1, 1, 2, 1, 1, 1, 1, 1, 1, 1, 1, 1, 1, 1, 1, 1, 1, 1, 1, 1, 1, 2, 3, 1, 1, 1, 1, 1, 2, 2, 2, 2, 2, 2, 2, 2, 2, 3, 2, 2, 4, 1, 1, 2, 1, 1, 2, 1, 1, 1, 1, 1, 1, 1, 1, 1, 1, 1, 1, 1, 1, 1, 2, 2, 1, 1, 1, 2, 2, 1, 1, 1, 1, 1, 1, 1, 2, 1, 1, 1, 4, 4, 6, 4, 2, 1, 1, 1, 1, 1, 2, 1, 1, 8, 1, 6, 1, 1, 1, 1, 1, 1, 1, 2, 1, 2, 1, 1, 1, 1, 1, 1, 1, 1, 1, 2, 1, 4, 3, 3, 1, 2, 1, 1, 2, 3, 1, 1, 1, 1, 3, 1, 1, 2, 2, 2, 2, 3, 2, 2, 2, 2, 2, 2, 1, 1, 1, 1, 1, 1, 1, 1, 1, 1, 1, 1, 1, 1, 1, 1, 1, 1, 1, 2, 1, 1, 1, 1, 1, 3, 3, 1, 1, 1, 1, 1, 1, 2, 4, 2, 1, 1, 1, 3, 4, 3, 3, 2, 2, 2, 2, 1, 1, 1, 1, 1, 1, 1, 1, 1, 1, 1, 1, 1, 1, 1, 1, 1, 2, 1, 2, 1, 1, 3, 1, 1, 4, 1, 1, 1, 1, 4, 5, 5, 6, 1, 1, 1, 1, 1, 3, 2, 1, 1, 2, 3, 2, 1, 1, 3, 8, 1, 1, 2, 1, 1, 4, 1, 1, 1, 1, 3, 1, 2, 1, 1, 1, 1, 1, 1, 3, 3, 1, 1, 2, 2, 1, 1, 1, 4, 7, 1, 4, 1, 1, 5, 1, 1, 1, 1, 1, 1, 1, 1, 1, 1, 1, 1, 1, 1, 2, 1, 1, 1, 1, 1, 1, 1, 1, 1, 1, 1, 4, 1, 1, 3, 1, 2, 1, 1, 1, 1, 1, 1, 1, 1, 1, 1, 2, 2, 5, 2, 1, 1, 3, 1, 1, 1, 2, 3, 3, 3, 3, 7, 1, 1, 2, 1, 7, 1, 1, 1, 1, 1, 1, 3, 1, 1, 1, 1, 1, 1, 1, 1, 1, 1, 1, 1, 1, 1, 1, 1, 1, 3, 1, 3, 1, 3, 2, 2, 1, 2, 2, 2, 2, 3, 2, 2, 8, 2, 5, 2, 1, 2, 1, 1, 2, 1, 1, 1, 1, 1, 1, 1, 2, 1, 2, 1, 1, 1, 1, 1, 1, 1, 2, 1, 1, 3, 1, 1, 3, 2, 2, 1, 1, 2, 1, 2, 2, 1, 1, 3, 1, 1, 1, 1, 1, 2, 1, 1, 2, 1, 1, 1, 1, 3, 1, 1, 2, 1, 1, 1, 1, 1, 1, 1, 1, 1, 3, 2, 1, 1, 4, 1, 1, 1, 1, 1, 1, 1, 1, 1, 1, 1, 1, 1, 1, 1, 2, 1, 1, 1, 1, 1, 1, 1, 1, 2, 2, 2, 2, 1, 1, 1, 4, 2, 1, 1, 1, 1, 1, 1, 1, 1, 1, 1, 1, 1, 1, 1, 1, 1, 4, 1, 1, 1, 1, 2, 1, 1, 1, 1, 1, 1, 2, 3, 1, 1, 1, 1, 1, 2, 1, 1, 1, 1, 1, 1, 1, 2, 2, 3, 2, 1, 1, 1, 1, 1, 1, 1, 1, 1, 1, 1, 1, 1, 1, 1, 1, 1, 1, 1, 1, 1, 3, 1, 2, 1, 1, 1, 1, 1, 2, 1, 1, 1, 2, 1, 1, 1, 3, 1, 1, 1, 1, 2, 1, 1, 2, 2, 1, 1, 1, 1, 1, 1, 1, 1, 2, 2, 3, 1, 1, 1, 1, 1, 1, 1, 1, 1, 1, 1, 1, 1, 1, 1, 1, 1, 1, 1, 1, 1, 1, 2, 2, 1, 1, 1, 1, 1, 7, 7, 2, 1, 1, 1, 3, 1, 2, 1, 1, 1, 1, 1, 3, 1, 1, 1, 1, 1, 2, 2, 1, 1, 1, 3, 3, 1, 1, 1, 1, 1, 1, 1, 1, 1, 1, 1, 1, 1, 1, 1, 1, 1, 3, 2, 2, 1, 1, 2, 1, 2, 2, 1, 1, 1, 1, 1, 1, 2, 1, 2, 1, 1, 2, 1, 1, 1, 1, 1, 1, 2, 2, 2, 2, 2, 1, 2, 1, 1, 1, 2, 1, 1, 1, 1, 1, 2, 1, 1, 1, 1, 2, 1, 1, 2, 1, 1, 1, 1, 1, 2, 1, 1, 1, 1, 1, 1, 1, 1, 1, 1, 1, 1, 1, 2, 2, 1, 1, 2, 2, 1, 1, 1, 1, 1, 1, 2, 1, 2, 1, 1, 1, 1, 1, 1, 1, 2, 1, 1, 1, 1, 1, 1, 1, 1, 1, 1, 2, 1, 1, 1, 1, 1, 1, 1, 1, 1, 1, 1, 2, 1, 1, 1, 1, 2, 1, 1, 1, 2, 2, 1, 1, 1, 1, 1, 2, 1, 2, 3, 3, 2, 1, 1, 1, 1, 1, 1, 2, 2, 3, 2, 2, 2, 1, 1, 1, 1, 1, 1, 1, 1, 1, 1, 1, 1, 1, 1, 1, 2, 1, 1, 1, 2, 3, 1, 1, 1, 1, 1, 2, 1, 1, 1, 1, 1, 1, 1, 1, 1, 1, 1, 1, 1, 2, 1, 1, 1, 1, 1, 1, 1, 1, 1, 1, 1, 1, 1, 1, 1, 1, 1, 1, 1, 1, 2, 1, 1, 1, 1, 1, 1, 1, 1, 1, 1, 1, 1, 1, 1, 1, 1, 1, 1, 1, 2, 1, 1, 1, 1, 1, 1, 1, 1, 1, 1, 1, 1, 1, 1, 2, 1, 1, 2, 1, 1, 1, 2, 1, 4, 1, 1, 1, 1, 4, 1, 1, 4, 1, 1, 1, 1, 1, 1, 1, 1, 1, 1, 1, 1, 1, 1, 1, 1, 1, 2, 2, 2, 2, 1, 2, 1, 1, 1, 1, 1, 1, 1, 1, 2, 1, 2, 1, 1, 1, 1, 1, 1, 2, 1, 1, 1, 1, 1, 1, 1, 1, 1, 1, 1, 1, 1, 1, 1, 1, 1, 1, 1, 1, 1, 1, 1, 1, 1, 1, 1, 1, 1, 1, 1, 1, 1, 1, 1, 1, 1, 1, 1, 1, 1, 1, 1, 1, 1, 1, 1, 1, 1, 1, 1, 1, 1, 1, 1, 1, 1, 1, 1, 1, 1, 2, 1, 1, 1, 1, 1, 1, 1, 1, 1, 1, 1, 1, 1, 1, 1, 1, 1, 1, 1, 1, 1, 1, 1, 1, 1, 1, 1, 1, 1, 1, 1, 1, 1, 1, 1, 1, 1, 1, 2, 1, 2, 3, 1, 1, 1, 1, 2, 1, 1, 2, 1, 1, 1, 1, 1, 1, 1, 1, 1, 1, 1, 1, 1, 1, 1, 1, 1, 1, 1, 1, 1, 1, 1, 1, 1, 1, 1, 1, 1, 1, 1, 1, 1, 1, 1, 1, 1, 1, 1, 1, 1, 1, 1, 1, 1, 1, 2, 1, 1, 1, 1, 1, 1, 1, 1, 1, 1, 1, 1, 1, 1, 1, 1, 1, 1, 1, 1, 1, 1, 1, 1, 1, 1, 1, 1, 1, 1, 1, 1, 1, 1, 1, 1, 1, 1, 5, 1, 2, 2, 1, 1, 1, 1, 1, 1, 1, 2, 1, 1, 2, 1, 1, 1, 1, 1, 1, 1, 1, 1, 1, 1, 1, 1, 1, 2, 2, 2, 2, 2, 2, 2, 2, 2, 2, 2, 1, 2, 1, 1, 1, 1, 1, 1, 1, 2, 2, 1, 1, 1, 1, 2, 1, 2, 2, 1, 1, 2, 2, 2, 2, 1, 1, 1, 1, 1, 1, 1, 1, 1, 1, 1, 1, 1, 1, 1, 1, 1, 1, 1, 1, 1, 1, 1, 1, 1, 1, 1, 1, 1, 1, 1, 1, 1, 2, 1, 1, 1, 1, 1, 1, 1, 1, 1, 1, 1, 1, 1, 1, 1, 1, 1, 1, 1, 1, 1, 1, 1, 1, 1, 1]\n"
     ]
    }
   ],
   "source": [
    "# hitung di berapa dokumen suatu term muncul\n",
    "df_akhir_stem = []\n",
    "countDF(tf_forDF_stem, df_akhir_stem)\n",
    "print(df_akhir_stem)"
   ]
  },
  {
   "attachments": {},
   "cell_type": "markdown",
   "id": "16d4e7f2",
   "metadata": {},
   "source": [
    "<h4>Method untuk perhitungan IDF dan TF-IDF</h4>"
   ]
  },
  {
   "cell_type": "code",
   "execution_count": 49,
   "id": "b44b42a9",
   "metadata": {},
   "outputs": [
    {
     "name": "stdout",
     "output_type": "stream",
     "text": [
      "[2.69897, 1.05552, 0.5817, 2.09691, 0.78516, 1.37675, 1.61979, 2.0, 1.92082, 1.52288, 2.22185, 2.69897, 2.09691, 1.33724, 0.72584, 1.49485, 1.58503, 2.69897, 0.29243, 2.69897, 1.85387, 2.39794, 1.65758, 0.42481, 2.69897, 1.00877, 2.69897, 2.69897, 2.69897, 2.69897, 2.69897, 1.92082, 2.09691, 1.18046, 0.37469, 1.35655, 1.49485, 2.39794, 1.25181, 2.0, 1.85387, 1.55284, 0.87943, 2.22185, 2.22185, 1.79588, 2.09691, 2.69897, 2.69897, 1.25181, 1.0655, 2.39794, 1.04576, 1.39794, 1.61979, 1.79588, 2.39794, 2.0, 2.09691, 2.22185, 1.26761, 2.69897, 1.07572, 1.39794, 2.69897, 2.0, 0.96658, 2.69897, 2.69897, 2.69897, 2.09691, 1.07572, 0.64975, 1.49485, 1.92082, 0.60555, 2.69897, 2.69897, 2.69897, 2.69897, 2.69897, 2.69897, 2.69897, 2.39794, 2.69897, 2.69897, 2.69897, 2.69897, 1.79588, 1.39794, 2.69897, 1.30103, 2.69897, 2.22185, 2.22185, 1.58503, 1.65758, 1.52288, 1.37675, 1.92082, 1.92082, 1.0655, 1.65758, 0.90658, 1.74473, 0.90658, 1.07572, 2.69897, 2.69897, 1.52288, 2.0, 1.79588, 1.79588, 1.55284, 1.74473, 1.00877, 0.82391, 2.69897, 1.0, 1.85387, 2.39794, 2.22185, 2.69897, 1.92082, 1.20761, 2.69897, 2.69897, 2.09691, 1.49485, 1.92082, 1.79588, 2.69897, 2.0, 2.09691, 2.69897, 2.69897, 2.39794, 2.39794, 0.9914, 1.35655, 2.09691, 1.85387, 2.0, 2.69897, 2.09691, 1.09691, 2.69897, 2.69897, 2.22185, 2.69897, 2.0, 1.74473, 2.22185, 2.22185, 2.22185, 1.79588, 1.4437, 1.85387, 2.39794, 2.69897, 2.09691, 2.09691, 2.09691, 2.09691, 1.52288, 2.39794, 2.22185, 2.09691, 2.39794, 2.39794, 2.39794, 2.39794, 2.39794, 2.39794, 2.39794, 2.39794, 2.39794, 2.69897, 2.69897, 1.74473, 1.30103, 1.61979, 2.09691, 2.0, 1.92082, 1.37675, 2.69897, 2.39794, 2.09691, 2.69897, 2.69897, 2.39794, 2.22185, 2.22185, 2.39794, 2.69897, 1.74473, 2.0, 2.69897, 2.69897, 1.85387, 1.42022, 2.39794, 2.69897, 2.22185, 2.09691, 1.284, 2.39794, 2.69897, 0.63827, 2.09691, 2.69897, 2.22185, 2.69897, 2.69897, 1.85387, 2.69897, 1.39794, 1.79588, 2.69897, 1.58503, 1.79588, 1.85387, 1.26761, 2.39794, 1.20761, 2.69897, 2.69897, 2.39794, 2.69897, 1.58503, 2.39794, 2.0, 2.69897, 2.69897, 2.69897, 1.1549, 2.39794, 2.69897, 1.20761, 1.74473, 2.69897, 2.39794, 2.39794, 2.39794, 2.69897, 2.69897, 2.09691, 2.69897, 2.69897, 2.69897, 1.85387, 2.39794, 2.69897, 2.69897, 2.22185, 2.69897, 2.39794, 2.69897, 2.69897, 1.92082, 2.0, 2.09691, 2.69897, 2.69897, 2.09691, 1.74473, 2.69897, 2.69897, 2.09691, 2.69897, 2.69897, 1.79588, 2.69897, 2.22185, 1.92082, 2.22185, 1.65758, 2.39794, 1.79588, 2.69897, 2.69897, 1.85387, 1.65758, 2.69897, 1.46852, 1.42022, 1.65758, 2.69897, 2.22185, 2.39794, 2.22185, 2.22185, 2.22185, 2.22185, 2.69897, 2.69897, 1.07572, 2.22185, 1.55284, 1.284, 1.14267, 0.95861, 2.22185, 1.79588, 2.39794, 2.69897, 1.92082, 2.39794, 2.69897, 2.69897, 2.69897, 2.69897, 2.39794, 2.69897, 2.69897, 2.69897, 2.22185, 2.69897, 2.69897, 2.69897, 2.69897, 2.69897, 2.69897, 2.69897, 2.69897, 2.69897, 2.39794, 1.79588, 2.39794, 2.69897, 2.0, 2.39794, 2.69897, 2.69897, 2.09691, 1.31876, 2.69897, 2.69897, 1.85387, 2.22185, 1.79588, 2.0, 1.42022, 1.33724, 1.79588, 2.39794, 1.74473, 2.39794, 2.69897, 2.39794, 2.69897, 2.69897, 1.85387, 2.69897, 2.69897, 2.69897, 2.69897, 2.69897, 2.69897, 2.09691, 1.14267, 2.69897, 2.0, 2.39794, 2.69897, 2.69897, 2.69897, 2.39794, 2.69897, 2.69897, 2.69897, 2.69897, 2.69897, 1.92082, 2.69897, 2.69897, 1.65758, 1.92082, 1.39794, 1.79588, 2.39794, 1.33724, 2.69897, 2.22185, 2.22185, 2.22185, 2.69897, 2.22185, 2.69897, 2.39794, 2.69897, 2.69897, 2.69897, 2.69897, 2.69897, 2.69897, 2.09691, 2.69897, 2.39794, 2.69897, 2.69897, 2.22185, 1.79588, 2.69897, 2.39794, 1.92082, 2.69897, 2.69897, 1.49485, 2.22185, 2.39794, 2.39794, 2.39794, 2.39794, 2.22185, 2.39794, 2.39794, 2.69897, 1.79588, 2.39794, 1.69897, 2.39794, 2.09691, 2.69897, 2.69897, 2.0, 2.69897, 2.0, 1.92082, 2.69897, 2.69897, 2.69897, 2.69897, 1.79588, 2.39794, 2.0, 2.69897, 1.52288, 1.79588, 1.74473, 2.69897, 1.31876, 1.92082, 1.39794, 2.69897, 2.69897, 1.74473, 2.69897, 1.92082, 2.69897, 2.69897, 2.69897, 2.09691, 2.69897, 2.69897, 1.85387, 1.46852, 2.69897, 1.37675, 1.37675, 1.42022, 2.69897, 2.69897, 1.65758, 1.65758, 2.69897, 1.92082, 2.39794, 2.69897, 2.0, 2.39794, 1.30103, 2.22185, 2.69897, 1.33724, 1.65758, 1.31876, 1.92082, 2.09691, 2.22185, 2.22185, 2.39794, 2.39794, 2.22185, 2.69897, 1.85387, 2.0, 2.0, 2.22185, 2.09691, 1.92082, 2.39794, 1.61979, 1.61979, 2.69897, 2.69897, 2.69897, 1.49485, 2.69897, 2.69897, 2.69897, 2.09691, 2.39794, 2.39794, 2.69897, 2.69897, 2.69897, 2.69897, 2.69897, 2.69897, 2.69897, 1.74473, 2.22185, 2.69897, 2.69897, 2.69897, 2.22185, 2.69897, 2.69897, 2.69897, 2.69897, 2.69897, 2.69897, 2.69897, 2.69897, 2.69897, 2.22185, 2.69897, 2.69897, 2.69897, 1.74473, 2.69897, 2.09691, 2.39794, 2.39794, 1.55284, 2.69897, 2.69897, 2.69897, 1.74473, 1.31876, 2.69897, 2.39794, 1.92082, 2.39794, 2.39794, 2.69897, 2.69897, 2.09691, 2.0, 2.69897, 2.69897, 2.69897, 2.69897, 2.69897, 1.65758, 2.69897, 2.69897, 2.39794, 2.69897, 2.69897, 2.69897, 2.69897, 2.39794, 2.69897, 2.69897, 2.22185, 2.69897, 2.09691, 2.69897, 2.22185, 2.69897, 2.69897, 2.69897, 1.92082, 2.69897, 2.69897, 2.22185, 2.69897, 2.69897, 2.0, 2.69897, 2.22185, 1.30103, 1.55284, 2.69897, 2.69897, 2.69897, 1.85387, 2.69897, 2.69897, 2.09691, 1.79588, 1.92082, 2.0, 2.69897, 2.69897, 2.69897, 2.69897, 2.69897, 2.69897, 1.79588, 2.69897, 2.69897, 1.49485, 2.39794, 2.09691, 1.74473, 2.09691, 2.69897, 2.69897, 2.39794, 1.79588, 2.39794, 1.20761, 2.39794, 2.22185, 2.69897, 1.79588, 1.92082, 1.85387, 2.22185, 2.39794, 2.69897, 1.92082, 1.65758, 2.39794, 2.69897, 2.69897, 2.39794, 2.39794, 2.69897, 1.55284, 2.69897, 2.69897, 2.69897, 2.69897, 2.69897, 2.69897, 2.69897, 2.39794, 2.69897, 2.69897, 2.69897, 2.39794, 2.69897, 2.22185, 2.69897, 1.61979, 1.58503, 2.39794, 2.22185, 2.39794, 2.69897, 2.69897, 2.0, 2.69897, 2.69897, 2.69897, 2.69897, 2.69897, 2.69897, 2.69897, 2.09691, 2.69897, 1.58503, 2.69897, 2.69897, 2.39794, 2.22185, 2.69897, 2.22185, 2.69897, 2.69897, 2.22185, 1.69897, 2.22185, 2.22185, 1.92082, 2.22185, 2.09691, 2.69897, 2.69897, 2.39794, 2.69897, 2.69897, 2.69897, 2.69897, 1.69897, 2.22185, 1.85387, 2.0, 2.69897, 2.22185, 1.92082, 1.79588, 2.0, 2.69897, 2.69897, 2.09691, 2.39794, 2.69897, 2.69897, 2.69897, 2.69897, 1.4437, 2.22185, 2.69897, 2.22185, 1.92082, 1.92082, 1.46852, 1.92082, 1.35655, 1.69897, 2.09691, 2.22185, 2.69897, 2.39794, 2.69897, 2.69897, 2.69897, 2.69897, 2.39794, 2.69897, 2.69897, 2.69897, 2.69897, 2.39794, 2.39794, 2.39794, 2.39794, 2.22185, 2.09691, 1.35655, 2.39794, 1.79588, 2.22185, 1.79588, 2.22185, 2.69897, 2.22185, 2.39794, 2.69897, 2.39794, 2.69897, 2.39794, 1.79588, 1.92082, 2.39794, 2.39794, 2.22185, 2.69897, 2.39794, 2.39794, 1.79588, 2.69897, 2.69897, 2.69897, 2.69897, 2.69897, 2.69897, 2.69897, 2.39794, 2.69897, 2.69897, 2.69897, 2.69897, 1.69897, 2.69897, 2.69897, 2.39794, 2.22185, 2.69897, 2.69897, 1.49485, 2.69897, 1.79588, 2.22185, 2.22185, 2.39794, 2.39794, 1.79588, 2.39794, 2.69897, 2.69897, 1.07572, 2.69897, 2.69897, 2.69897, 2.39794, 2.39794, 2.69897, 2.09691, 2.69897, 2.69897, 2.39794, 2.69897, 2.69897, 2.39794, 2.69897, 2.39794, 2.39794, 2.39794, 2.69897, 2.69897, 1.85387, 2.22185, 2.69897, 2.22185, 2.69897, 2.69897, 2.39794, 2.69897, 1.69897, 2.69897, 2.69897, 2.69897, 2.69897, 2.69897, 2.69897, 2.69897, 2.39794, 2.69897, 2.69897, 2.69897, 2.39794, 2.69897, 2.69897, 2.22185, 2.69897, 2.69897, 2.09691, 2.69897, 2.69897, 2.39794, 2.69897, 2.22185, 2.09691, 1.79588, 2.39794, 2.69897, 2.69897, 2.69897, 2.69897, 2.69897, 2.0, 2.69897, 2.22185, 2.69897, 2.69897, 2.69897, 2.69897, 2.69897, 2.69897, 2.69897, 2.69897, 2.69897, 1.79588, 1.85387, 2.69897, 1.58503, 1.19382, 2.22185, 2.69897, 0.9914, 1.92082, 2.09691, 2.22185, 2.09691, 2.22185, 2.69897, 2.09691, 2.22185, 2.0, 2.69897, 1.92082, 2.69897, 2.69897, 2.69897, 2.69897, 2.69897, 2.69897, 2.69897, 1.65758, 2.39794, 2.39794, 1.85387, 2.09691, 2.09691, 2.39794, 2.39794, 2.22185, 2.69897, 2.09691, 1.92082, 2.69897, 2.22185, 2.39794, 2.69897, 2.69897, 2.69897, 2.69897, 2.39794, 2.22185, 2.22185, 2.22185, 2.39794, 2.22185, 2.39794, 1.61979, 1.61979, 2.69897, 2.22185, 2.69897, 2.09691, 1.85387, 2.69897, 1.61979, 2.69897, 2.69897, 2.09691, 2.39794, 1.69897, 1.92082, 1.65758, 2.09691, 2.0, 2.09691, 1.69897, 2.39794, 2.69897, 2.09691, 2.09691, 2.22185, 1.74473, 2.0, 2.09691, 2.22185, 2.39794, 2.69897, 2.39794, 2.69897, 2.69897, 2.69897, 2.22185, 2.39794, 2.39794, 2.39794, 2.69897, 2.69897, 2.39794, 2.69897, 2.0, 2.22185, 1.92082, 2.69897, 1.58503, 1.92082, 2.69897, 1.74473, 2.39794, 2.69897, 2.69897, 2.09691, 2.39794, 2.39794, 2.39794, 2.69897, 2.69897, 2.69897, 1.85387, 2.69897, 1.79588, 2.0, 2.69897, 2.69897, 2.69897, 2.22185, 2.22185, 1.74473, 2.0, 2.39794, 2.0, 2.39794, 2.39794, 2.39794, 2.39794, 2.09691, 1.58503, 2.39794, 2.09691, 2.39794, 2.39794, 1.52288, 1.92082, 2.22185, 2.22185, 2.22185, 2.39794, 2.39794, 2.39794, 2.0, 2.39794, 2.22185, 2.22185, 2.39794, 1.49485, 2.39794, 1.92082, 2.39794, 2.39794, 2.39794, 2.69897, 2.69897, 2.69897, 2.69897, 2.69897, 2.09691, 2.22185, 2.69897, 2.69897, 2.69897, 2.69897, 2.69897, 2.69897, 2.69897, 2.22185, 2.69897, 2.22185, 2.69897, 2.69897, 2.69897, 2.69897, 2.69897, 2.69897, 2.69897, 2.69897, 2.69897, 2.69897, 2.69897, 2.0, 2.39794, 2.69897, 2.69897, 2.69897, 2.69897, 2.69897, 2.69897, 2.39794, 2.69897, 2.39794, 2.39794, 2.69897, 2.39794, 2.39794, 2.39794, 2.39794, 2.69897, 2.39794, 1.92082, 2.39794, 2.69897, 2.39794, 2.39794, 2.69897, 2.69897, 2.69897, 2.69897, 2.69897, 2.69897, 2.22185, 2.69897, 2.69897, 2.09691, 2.0, 2.0, 2.22185, 1.92082, 2.09691, 2.22185, 2.09691, 2.22185, 2.69897, 2.09691, 2.69897, 2.69897, 2.69897, 2.69897, 2.69897, 2.69897, 2.69897, 2.09691, 2.69897, 2.69897, 2.22185, 2.69897, 2.69897, 2.0, 2.69897, 2.69897, 2.69897, 2.69897, 2.69897, 2.69897, 2.69897, 2.69897, 2.69897, 2.69897, 2.69897, 2.69897, 2.69897, 2.69897, 2.69897, 2.69897, 2.69897, 2.69897, 2.69897, 2.22185, 2.69897, 2.09691, 2.69897, 2.69897, 2.69897, 2.69897, 2.69897, 2.69897, 2.69897, 2.69897, 2.39794, 2.69897, 2.69897, 2.69897, 2.69897, 2.69897, 2.69897, 2.69897, 2.39794, 2.69897, 2.39794, 2.69897, 2.69897, 2.39794, 2.69897, 2.39794, 2.39794, 1.85387, 2.69897, 2.69897, 2.69897, 1.79588, 2.0, 2.69897, 1.85387, 1.74473, 2.69897, 1.69897, 2.69897, 2.69897, 2.69897, 2.39794, 2.69897, 2.69897, 2.69897, 2.69897, 2.69897, 2.39794, 2.69897, 2.09691, 2.69897, 2.09691, 2.39794, 2.39794, 2.39794, 2.39794, 2.39794, 2.39794, 2.39794, 1.92082, 2.39794, 2.69897, 2.69897, 2.22185, 1.85387, 2.39794, 2.09691, 2.69897, 2.39794, 2.39794, 2.39794, 2.39794, 2.39794, 2.09691, 2.69897, 2.09691, 1.69897, 2.69897, 2.39794, 2.69897, 2.39794, 2.69897, 2.39794, 2.69897, 2.69897, 2.69897, 2.69897, 2.69897, 2.69897, 2.69897, 2.69897, 2.69897, 1.79588, 1.35655, 2.22185, 2.0, 2.69897, 2.69897, 2.69897, 2.09691, 2.39794, 2.39794, 2.69897, 2.69897, 2.69897, 2.09691, 2.69897, 2.22185, 1.79588, 2.09691, 2.69897, 1.69897, 2.0, 2.69897, 1.69897, 1.79588, 2.09691, 2.0, 2.09691, 1.92082, 2.69897, 2.39794, 2.69897, 2.69897, 2.69897, 2.69897, 2.69897, 2.69897, 2.69897, 2.22185, 2.69897, 2.69897, 2.69897, 2.39794, 2.69897, 2.39794, 1.69897, 1.65758, 2.09691, 2.22185, 2.39794, 2.39794, 2.39794, 2.39794, 2.69897, 2.39794, 2.39794, 2.22185, 2.39794, 2.39794, 2.39794, 2.39794, 2.69897, 2.09691, 2.39794, 2.69897, 2.69897, 2.22185, 1.92082, 2.69897, 1.92082, 2.09691, 2.69897, 1.92082, 2.69897, 1.79588, 2.39794, 2.69897, 2.39794, 2.39794, 2.69897, 2.39794, 2.69897, 2.69897, 2.22185, 2.69897, 2.69897, 2.09691, 2.39794, 2.09691, 1.74473, 2.69897, 2.69897, 2.69897, 2.39794, 1.79588, 2.0, 2.69897, 2.69897, 2.69897, 2.39794, 2.39794, 2.69897, 2.69897, 2.39794, 2.69897, 2.69897, 2.69897, 2.69897, 2.69897, 2.39794, 2.39794, 2.22185, 2.69897, 1.69897, 1.69897, 2.09691, 2.22185, 2.22185, 2.69897, 2.69897, 2.39794, 2.22185, 2.09691, 2.69897, 2.69897, 2.69897, 2.69897, 2.69897, 1.79588, 2.69897, 2.0, 2.22185, 2.22185, 2.69897, 2.69897, 2.69897, 2.69897, 2.69897, 2.69897, 2.69897, 2.39794, 2.69897, 1.49485, 2.39794, 2.39794, 2.69897, 2.39794, 2.39794, 2.69897, 2.69897, 2.69897, 2.39794, 2.39794, 2.39794, 2.69897, 2.39794, 2.69897, 2.69897, 2.69897, 2.69897, 2.69897, 2.69897, 2.39794, 2.39794, 2.39794, 2.39794, 2.39794, 2.69897, 2.69897, 2.69897, 2.69897, 2.69897, 2.69897, 2.69897, 2.69897, 2.69897, 2.69897, 2.69897, 2.69897, 2.0, 1.74473, 2.39794, 2.09691, 2.69897, 2.39794, 2.22185, 1.4437, 2.69897, 2.69897, 2.22185, 2.22185, 2.22185, 2.22185, 2.22185, 2.22185, 2.39794, 1.55284, 2.0, 1.92082, 2.22185, 2.22185, 2.69897, 2.69897, 2.69897, 2.09691, 2.22185, 1.61979, 1.79588, 1.92082, 2.22185, 2.39794, 2.0, 2.0, 1.79588, 2.69897, 1.79588, 2.69897, 2.0, 2.69897, 2.69897, 2.69897, 2.22185, 2.69897, 1.79588, 2.09691, 2.22185, 2.09691, 2.69897, 2.69897, 2.39794, 2.22185, 2.39794, 2.39794, 2.22185, 2.69897, 2.69897, 2.69897, 2.69897, 2.69897, 2.69897, 2.69897, 2.39794, 2.39794, 2.39794, 2.22185, 1.85387, 2.09691, 2.69897, 2.39794, 2.39794, 2.39794, 2.69897, 2.09691, 1.92082, 2.09691, 2.39794, 2.0, 2.09691, 2.0, 2.39794, 2.09691, 2.0, 2.69897, 2.22185, 2.09691, 2.22185, 2.22185, 2.39794, 2.39794, 2.39794, 2.39794, 2.39794, 2.09691, 2.39794, 2.69897, 2.39794, 2.22185, 2.69897, 2.69897, 2.22185, 2.69897, 2.69897, 2.0, 2.69897, 2.09691, 2.0, 1.65758, 2.69897, 2.69897, 2.69897, 2.69897, 2.39794, 2.69897, 2.69897, 2.69897, 2.69897, 2.69897, 2.69897, 2.69897, 2.69897, 2.69897, 2.69897, 2.69897, 2.69897, 2.69897, 2.69897, 2.69897, 2.69897, 2.69897, 2.69897, 2.39794, 2.22185, 2.69897, 2.69897, 2.69897, 2.69897, 2.69897, 2.39794, 2.39794, 2.39794, 2.39794, 2.39794, 2.39794, 2.39794, 2.39794, 2.39794, 2.22185, 2.39794, 2.39794, 2.09691, 2.69897, 2.69897, 2.39794, 2.69897, 2.69897, 2.39794, 2.69897, 2.69897, 2.69897, 2.69897, 2.69897, 2.69897, 2.69897, 2.69897, 2.69897, 2.69897, 2.69897, 2.69897, 2.69897, 2.69897, 2.69897, 2.39794, 2.39794, 2.69897, 2.69897, 2.69897, 2.39794, 2.39794, 2.69897, 2.69897, 2.69897, 2.69897, 2.69897, 2.69897, 2.69897, 2.39794, 2.69897, 2.69897, 2.69897, 2.09691, 2.09691, 1.92082, 2.09691, 2.39794, 2.69897, 2.69897, 2.69897, 2.69897, 2.69897, 2.39794, 2.69897, 2.69897, 1.79588, 2.69897, 1.92082, 2.69897, 2.69897, 2.69897, 2.69897, 2.69897, 2.69897, 2.69897, 2.39794, 2.69897, 2.39794, 2.69897, 2.69897, 2.69897, 2.69897, 2.69897, 2.69897, 2.69897, 2.69897, 2.69897, 2.39794, 2.69897, 2.09691, 2.22185, 2.22185, 2.69897, 2.39794, 2.69897, 2.69897, 2.39794, 2.22185, 2.69897, 2.69897, 2.69897, 2.69897, 2.22185, 2.69897, 2.69897, 2.39794, 2.39794, 2.39794, 2.39794, 2.22185, 2.39794, 2.39794, 2.39794, 2.39794, 2.39794, 2.39794, 2.69897, 2.69897, 2.69897, 2.69897, 2.69897, 2.69897, 2.69897, 2.69897, 2.69897, 2.69897, 2.69897, 2.69897, 2.69897, 2.69897, 2.69897, 2.69897, 2.69897, 2.69897, 2.69897, 2.39794, 2.69897, 2.69897, 2.69897, 2.69897, 2.69897, 2.22185, 2.22185, 2.69897, 2.69897, 2.69897, 2.69897, 2.69897, 2.69897, 2.39794, 2.09691, 2.39794, 2.69897, 2.69897, 2.69897, 2.22185, 2.09691, 2.22185, 2.22185, 2.39794, 2.39794, 2.39794, 2.39794, 2.69897, 2.69897, 2.69897, 2.69897, 2.69897, 2.69897, 2.69897, 2.69897, 2.69897, 2.69897, 2.69897, 2.69897, 2.69897, 2.69897, 2.69897, 2.69897, 2.69897, 2.39794, 2.69897, 2.39794, 2.69897, 2.69897, 2.22185, 2.69897, 2.69897, 2.09691, 2.69897, 2.69897, 2.69897, 2.69897, 2.09691, 2.0, 2.0, 1.92082, 2.69897, 2.69897, 2.69897, 2.69897, 2.69897, 2.22185, 2.39794, 2.69897, 2.69897, 2.39794, 2.22185, 2.39794, 2.69897, 2.69897, 2.22185, 1.79588, 2.69897, 2.69897, 2.39794, 2.69897, 2.69897, 2.09691, 2.69897, 2.69897, 2.69897, 2.69897, 2.22185, 2.69897, 2.39794, 2.69897, 2.69897, 2.69897, 2.69897, 2.69897, 2.69897, 2.22185, 2.22185, 2.69897, 2.69897, 2.39794, 2.39794, 2.69897, 2.69897, 2.69897, 2.09691, 1.85387, 2.69897, 2.09691, 2.69897, 2.69897, 2.0, 2.69897, 2.69897, 2.69897, 2.69897, 2.69897, 2.69897, 2.69897, 2.69897, 2.69897, 2.69897, 2.69897, 2.69897, 2.69897, 2.69897, 2.39794, 2.69897, 2.69897, 2.69897, 2.69897, 2.69897, 2.69897, 2.69897, 2.69897, 2.69897, 2.69897, 2.69897, 2.09691, 2.69897, 2.69897, 2.22185, 2.69897, 2.39794, 2.69897, 2.69897, 2.69897, 2.69897, 2.69897, 2.69897, 2.69897, 2.69897, 2.69897, 2.69897, 2.39794, 2.39794, 2.0, 2.39794, 2.69897, 2.69897, 2.22185, 2.69897, 2.69897, 2.69897, 2.39794, 2.22185, 2.22185, 2.22185, 2.22185, 1.85387, 2.69897, 2.69897, 2.39794, 2.69897, 1.85387, 2.69897, 2.69897, 2.69897, 2.69897, 2.69897, 2.69897, 2.22185, 2.69897, 2.69897, 2.69897, 2.69897, 2.69897, 2.69897, 2.69897, 2.69897, 2.69897, 2.69897, 2.69897, 2.69897, 2.69897, 2.69897, 2.69897, 2.69897, 2.69897, 2.22185, 2.69897, 2.22185, 2.69897, 2.22185, 2.39794, 2.39794, 2.69897, 2.39794, 2.39794, 2.39794, 2.39794, 2.22185, 2.39794, 2.39794, 1.79588, 2.39794, 2.0, 2.39794, 2.69897, 2.39794, 2.69897, 2.69897, 2.39794, 2.69897, 2.69897, 2.69897, 2.69897, 2.69897, 2.69897, 2.69897, 2.39794, 2.69897, 2.39794, 2.69897, 2.69897, 2.69897, 2.69897, 2.69897, 2.69897, 2.69897, 2.39794, 2.69897, 2.69897, 2.22185, 2.69897, 2.69897, 2.22185, 2.39794, 2.39794, 2.69897, 2.69897, 2.39794, 2.69897, 2.39794, 2.39794, 2.69897, 2.69897, 2.22185, 2.69897, 2.69897, 2.69897, 2.69897, 2.69897, 2.39794, 2.69897, 2.69897, 2.39794, 2.69897, 2.69897, 2.69897, 2.69897, 2.22185, 2.69897, 2.69897, 2.39794, 2.69897, 2.69897, 2.69897, 2.69897, 2.69897, 2.69897, 2.69897, 2.69897, 2.69897, 2.22185, 2.39794, 2.69897, 2.69897, 2.09691, 2.69897, 2.69897, 2.69897, 2.69897, 2.69897, 2.69897, 2.69897, 2.69897, 2.69897, 2.69897, 2.69897, 2.69897, 2.69897, 2.69897, 2.69897, 2.39794, 2.69897, 2.69897, 2.69897, 2.69897, 2.69897, 2.69897, 2.69897, 2.69897, 2.39794, 2.39794, 2.39794, 2.39794, 2.69897, 2.69897, 2.69897, 2.09691, 2.39794, 2.69897, 2.69897, 2.69897, 2.69897, 2.69897, 2.69897, 2.69897, 2.69897, 2.69897, 2.69897, 2.69897, 2.69897, 2.69897, 2.69897, 2.69897, 2.69897, 2.09691, 2.69897, 2.69897, 2.69897, 2.69897, 2.39794, 2.69897, 2.69897, 2.69897, 2.69897, 2.69897, 2.69897, 2.39794, 2.22185, 2.69897, 2.69897, 2.69897, 2.69897, 2.69897, 2.39794, 2.69897, 2.69897, 2.69897, 2.69897, 2.69897, 2.69897, 2.69897, 2.39794, 2.39794, 2.22185, 2.39794, 2.69897, 2.69897, 2.69897, 2.69897, 2.69897, 2.69897, 2.69897, 2.69897, 2.69897, 2.69897, 2.69897, 2.69897, 2.69897, 2.69897, 2.69897, 2.69897, 2.69897, 2.69897, 2.69897, 2.69897, 2.69897, 2.22185, 2.69897, 2.39794, 2.69897, 2.69897, 2.69897, 2.69897, 2.69897, 2.39794, 2.69897, 2.69897, 2.69897, 2.39794, 2.69897, 2.69897, 2.69897, 2.22185, 2.69897, 2.69897, 2.69897, 2.69897, 2.39794, 2.69897, 2.69897, 2.39794, 2.39794, 2.69897, 2.69897, 2.69897, 2.69897, 2.69897, 2.69897, 2.69897, 2.69897, 2.39794, 2.39794, 2.22185, 2.69897, 2.69897, 2.69897, 2.69897, 2.69897, 2.69897, 2.69897, 2.69897, 2.69897, 2.69897, 2.69897, 2.69897, 2.69897, 2.69897, 2.69897, 2.69897, 2.69897, 2.69897, 2.69897, 2.69897, 2.69897, 2.69897, 2.39794, 2.39794, 2.69897, 2.69897, 2.69897, 2.69897, 2.69897, 1.85387, 1.85387, 2.39794, 2.69897, 2.69897, 2.69897, 2.22185, 2.69897, 2.39794, 2.69897, 2.69897, 2.69897, 2.69897, 2.69897, 2.22185, 2.69897, 2.69897, 2.69897, 2.69897, 2.69897, 2.39794, 2.39794, 2.69897, 2.69897, 2.69897, 2.22185, 2.22185, 2.69897, 2.69897, 2.69897, 2.69897, 2.69897, 2.69897, 2.69897, 2.69897, 2.69897, 2.69897, 2.69897, 2.69897, 2.69897, 2.69897, 2.69897, 2.69897, 2.69897, 2.22185, 2.39794, 2.39794, 2.69897, 2.69897, 2.39794, 2.69897, 2.39794, 2.39794, 2.69897, 2.69897, 2.69897, 2.69897, 2.69897, 2.69897, 2.39794, 2.69897, 2.39794, 2.69897, 2.69897, 2.39794, 2.69897, 2.69897, 2.69897, 2.69897, 2.69897, 2.69897, 2.39794, 2.39794, 2.39794, 2.39794, 2.39794, 2.69897, 2.39794, 2.69897, 2.69897, 2.69897, 2.39794, 2.69897, 2.69897, 2.69897, 2.69897, 2.69897, 2.39794, 2.69897, 2.69897, 2.69897, 2.69897, 2.39794, 2.69897, 2.69897, 2.39794, 2.69897, 2.69897, 2.69897, 2.69897, 2.69897, 2.39794, 2.69897, 2.69897, 2.69897, 2.69897, 2.69897, 2.69897, 2.69897, 2.69897, 2.69897, 2.69897, 2.69897, 2.69897, 2.69897, 2.39794, 2.39794, 2.69897, 2.69897, 2.39794, 2.39794, 2.69897, 2.69897, 2.69897, 2.69897, 2.69897, 2.69897, 2.39794, 2.69897, 2.39794, 2.69897, 2.69897, 2.69897, 2.69897, 2.69897, 2.69897, 2.69897, 2.39794, 2.69897, 2.69897, 2.69897, 2.69897, 2.69897, 2.69897, 2.69897, 2.69897, 2.69897, 2.69897, 2.39794, 2.69897, 2.69897, 2.69897, 2.69897, 2.69897, 2.69897, 2.69897, 2.69897, 2.69897, 2.69897, 2.69897, 2.39794, 2.69897, 2.69897, 2.69897, 2.69897, 2.39794, 2.69897, 2.69897, 2.69897, 2.39794, 2.39794, 2.69897, 2.69897, 2.69897, 2.69897, 2.69897, 2.39794, 2.69897, 2.39794, 2.22185, 2.22185, 2.39794, 2.69897, 2.69897, 2.69897, 2.69897, 2.69897, 2.69897, 2.39794, 2.39794, 2.22185, 2.39794, 2.39794, 2.39794, 2.69897, 2.69897, 2.69897, 2.69897, 2.69897, 2.69897, 2.69897, 2.69897, 2.69897, 2.69897, 2.69897, 2.69897, 2.69897, 2.69897, 2.69897, 2.39794, 2.69897, 2.69897, 2.69897, 2.39794, 2.22185, 2.69897, 2.69897, 2.69897, 2.69897, 2.69897, 2.39794, 2.69897, 2.69897, 2.69897, 2.69897, 2.69897, 2.69897, 2.69897, 2.69897, 2.69897, 2.69897, 2.69897, 2.69897, 2.69897, 2.39794, 2.69897, 2.69897, 2.69897, 2.69897, 2.69897, 2.69897, 2.69897, 2.69897, 2.69897, 2.69897, 2.69897, 2.69897, 2.69897, 2.69897, 2.69897, 2.69897, 2.69897, 2.69897, 2.69897, 2.69897, 2.39794, 2.69897, 2.69897, 2.69897, 2.69897, 2.69897, 2.69897, 2.69897, 2.69897, 2.69897, 2.69897, 2.69897, 2.69897, 2.69897, 2.69897, 2.69897, 2.69897, 2.69897, 2.69897, 2.69897, 2.39794, 2.69897, 2.69897, 2.69897, 2.69897, 2.69897, 2.69897, 2.69897, 2.69897, 2.69897, 2.69897, 2.69897, 2.69897, 2.69897, 2.69897, 2.39794, 2.69897, 2.69897, 2.39794, 2.69897, 2.69897, 2.69897, 2.39794, 2.69897, 2.09691, 2.69897, 2.69897, 2.69897, 2.69897, 2.09691, 2.69897, 2.69897, 2.09691, 2.69897, 2.69897, 2.69897, 2.69897, 2.69897, 2.69897, 2.69897, 2.69897, 2.69897, 2.69897, 2.69897, 2.69897, 2.69897, 2.69897, 2.69897, 2.69897, 2.69897, 2.39794, 2.39794, 2.39794, 2.39794, 2.69897, 2.39794, 2.69897, 2.69897, 2.69897, 2.69897, 2.69897, 2.69897, 2.69897, 2.69897, 2.39794, 2.69897, 2.39794, 2.69897, 2.69897, 2.69897, 2.69897, 2.69897, 2.69897, 2.39794, 2.69897, 2.69897, 2.69897, 2.69897, 2.69897, 2.69897, 2.69897, 2.69897, 2.69897, 2.69897, 2.69897, 2.69897, 2.69897, 2.69897, 2.69897, 2.69897, 2.69897, 2.69897, 2.69897, 2.69897, 2.69897, 2.69897, 2.69897, 2.69897, 2.69897, 2.69897, 2.69897, 2.69897, 2.69897, 2.69897, 2.69897, 2.69897, 2.69897, 2.69897, 2.69897, 2.69897, 2.69897, 2.69897, 2.69897, 2.69897, 2.69897, 2.69897, 2.69897, 2.69897, 2.69897, 2.69897, 2.69897, 2.69897, 2.69897, 2.69897, 2.69897, 2.69897, 2.69897, 2.69897, 2.69897, 2.69897, 2.69897, 2.69897, 2.69897, 2.69897, 2.69897, 2.39794, 2.69897, 2.69897, 2.69897, 2.69897, 2.69897, 2.69897, 2.69897, 2.69897, 2.69897, 2.69897, 2.69897, 2.69897, 2.69897, 2.69897, 2.69897, 2.69897, 2.69897, 2.69897, 2.69897, 2.69897, 2.69897, 2.69897, 2.69897, 2.69897, 2.69897, 2.69897, 2.69897, 2.69897, 2.69897, 2.69897, 2.69897, 2.69897, 2.69897, 2.69897, 2.69897, 2.69897, 2.69897, 2.69897, 2.39794, 2.69897, 2.39794, 2.22185, 2.69897, 2.69897, 2.69897, 2.69897, 2.39794, 2.69897, 2.69897, 2.39794, 2.69897, 2.69897, 2.69897, 2.69897, 2.69897, 2.69897, 2.69897, 2.69897, 2.69897, 2.69897, 2.69897, 2.69897, 2.69897, 2.69897, 2.69897, 2.69897, 2.69897, 2.69897, 2.69897, 2.69897, 2.69897, 2.69897, 2.69897, 2.69897, 2.69897, 2.69897, 2.69897, 2.69897, 2.69897, 2.69897, 2.69897, 2.69897, 2.69897, 2.69897, 2.69897, 2.69897, 2.69897, 2.69897, 2.69897, 2.69897, 2.69897, 2.69897, 2.69897, 2.69897, 2.69897, 2.69897, 2.39794, 2.69897, 2.69897, 2.69897, 2.69897, 2.69897, 2.69897, 2.69897, 2.69897, 2.69897, 2.69897, 2.69897, 2.69897, 2.69897, 2.69897, 2.69897, 2.69897, 2.69897, 2.69897, 2.69897, 2.69897, 2.69897, 2.69897, 2.69897, 2.69897, 2.69897, 2.69897, 2.69897, 2.69897, 2.69897, 2.69897, 2.69897, 2.69897, 2.69897, 2.69897, 2.69897, 2.69897, 2.69897, 2.69897, 2.0, 2.69897, 2.39794, 2.39794, 2.69897, 2.69897, 2.69897, 2.69897, 2.69897, 2.69897, 2.69897, 2.39794, 2.69897, 2.69897, 2.39794, 2.69897, 2.69897, 2.69897, 2.69897, 2.69897, 2.69897, 2.69897, 2.69897, 2.69897, 2.69897, 2.69897, 2.69897, 2.69897, 2.69897, 2.39794, 2.39794, 2.39794, 2.39794, 2.39794, 2.39794, 2.39794, 2.39794, 2.39794, 2.39794, 2.39794, 2.69897, 2.39794, 2.69897, 2.69897, 2.69897, 2.69897, 2.69897, 2.69897, 2.69897, 2.39794, 2.39794, 2.69897, 2.69897, 2.69897, 2.69897, 2.39794, 2.69897, 2.39794, 2.39794, 2.69897, 2.69897, 2.39794, 2.39794, 2.39794, 2.39794, 2.69897, 2.69897, 2.69897, 2.69897, 2.69897, 2.69897, 2.69897, 2.69897, 2.69897, 2.69897, 2.69897, 2.69897, 2.69897, 2.69897, 2.69897, 2.69897, 2.69897, 2.69897, 2.69897, 2.69897, 2.69897, 2.69897, 2.69897, 2.69897, 2.69897, 2.69897, 2.69897, 2.69897, 2.69897, 2.69897, 2.69897, 2.69897, 2.69897, 2.39794, 2.69897, 2.69897, 2.69897, 2.69897, 2.69897, 2.69897, 2.69897, 2.69897, 2.69897, 2.69897, 2.69897, 2.69897, 2.69897, 2.69897, 2.69897, 2.69897, 2.69897, 2.69897, 2.69897, 2.69897, 2.69897, 2.69897, 2.69897, 2.69897, 2.69897, 2.69897]\n"
     ]
    }
   ],
   "source": [
    "# hitung nilai idf\n",
    "idf_stem = []\n",
    "countIDF(ds, df_akhir_stem, idf_stem)\n",
    "print(idf_stem)"
   ]
  },
  {
   "cell_type": "code",
   "execution_count": 50,
   "id": "5d85a39f",
   "metadata": {},
   "outputs": [
    {
     "name": "stdout",
     "output_type": "stream",
     "text": [
      "[[2.69897, 1.05552, 1.1634, 2.09691, 0.78516, 2.7535, 1.61979, 2.0, 1.92082, 3.04576, 2.22185, 2.69897, 2.09691, 1.33724, 0.72584, 1.49485, 1.58503, 2.69897, 0.29243, 2.69897, 0.0, 0.0, 0.0, 0.0, 0.0, 0.0, 0.0, 0.0, 0.0, 0.0, 0.0, 0.0, 0.0, 0.0, 0.0, 0.0, 0.0, 0.0, 0.0, 0.0, 0.0, 0.0, 0.0, 0.0, 0.0, 0.0, 0.0, 0.0, 0.0, 0.0, 0.0, 0.0, 0.0, 0.0, 0.0, 0.0, 0.0, 0.0, 0.0, 0.0, 0.0, 0.0, 0.0, 0.0, 0.0, 0.0, 0.0, 0.0, 0.0, 0.0, 0.0, 0.0, 0.0, 0.0, 0.0, 0.0, 0.0, 0.0, 0.0, 0.0, 0.0, 0.0, 0.0, 0.0, 0.0, 0.0, 0.0, 0.0, 0.0, 0.0, 0.0, 0.0, 0.0, 0.0, 0.0, 0.0, 0.0, 0.0, 0.0, 0.0, 0.0, 0.0, 0.0, 0.0, 0.0, 0.0, 0.0, 0.0, 0.0, 0.0, 0.0, 0.0, 0.0, 0.0, 0.0, 0.0, 0.0, 0.0, 0.0, 0.0, 0.0, 0.0, 0.0, 0.0, 0.0, 0.0, 0.0, 0.0, 0.0, 0.0, 0.0, 0.0, 0.0, 0.0, 0.0, 0.0, 0.0, 0.0, 0.0, 0.0, 0.0, 0.0, 0.0, 0.0, 0.0, 0.0, 0.0, 0.0, 0.0, 0.0, 0.0, 0.0, 0.0, 0.0, 0.0, 0.0, 0.0, 0.0, 0.0, 0.0, 0.0, 0.0, 0.0, 0.0, 0.0, 0.0, 0.0, 0.0, 0.0, 0.0, 0.0, 0.0, 0.0, 0.0, 0.0, 0.0, 0.0, 0.0, 0.0, 0.0, 0.0, 0.0, 0.0, 0.0, 0.0, 0.0, 0.0, 0.0, 0.0, 0.0, 0.0, 0.0, 0.0, 0.0, 0.0, 0.0, 0.0, 0.0, 0.0, 0.0, 0.0, 0.0, 0.0, 0.0, 0.0, 0.0, 0.0, 0.0, 0.0, 0.0, 0.0, 0.0, 0.0, 0.0, 0.0, 0.0, 0.0, 0.0, 0.0, 0.0, 0.0, 0.0, 0.0, 0.0, 0.0, 0.0, 0.0, 0.0, 0.0, 0.0, 0.0, 0.0, 0.0, 0.0, 0.0, 0.0, 0.0, 0.0, 0.0, 0.0, 0.0, 0.0, 0.0, 0.0, 0.0, 0.0, 0.0, 0.0, 0.0, 0.0, 0.0, 0.0, 0.0, 0.0, 0.0, 0.0, 0.0, 0.0, 0.0, 0.0, 0.0, 0.0, 0.0, 0.0, 0.0, 0.0, 0.0, 0.0, 0.0, 0.0, 0.0, 0.0, 0.0, 0.0, 0.0, 0.0, 0.0, 0.0, 0.0, 0.0, 0.0, 0.0, 0.0, 0.0, 0.0, 0.0, 0.0, 0.0, 0.0, 0.0, 0.0, 0.0, 0.0, 0.0, 0.0, 0.0, 0.0, 0.0, 0.0, 0.0, 0.0, 0.0, 0.0, 0.0, 0.0, 0.0, 0.0, 0.0, 0.0, 0.0, 0.0, 0.0, 0.0, 0.0, 0.0, 0.0, 0.0, 0.0, 0.0, 0.0, 0.0, 0.0, 0.0, 0.0, 0.0, 0.0, 0.0, 0.0, 0.0, 0.0, 0.0, 0.0, 0.0, 0.0, 0.0, 0.0, 0.0, 0.0, 0.0, 0.0, 0.0, 0.0, 0.0, 0.0, 0.0, 0.0, 0.0, 0.0, 0.0, 0.0, 0.0, 0.0, 0.0, 0.0, 0.0, 0.0, 0.0, 0.0, 0.0, 0.0, 0.0, 0.0, 0.0, 0.0, 0.0, 0.0, 0.0, 0.0, 0.0, 0.0, 0.0, 0.0, 0.0, 0.0, 0.0, 0.0, 0.0, 0.0, 0.0, 0.0, 0.0, 0.0, 0.0, 0.0, 0.0, 0.0, 0.0, 0.0, 0.0, 0.0, 0.0, 0.0, 0.0, 0.0, 0.0, 0.0, 0.0, 0.0, 0.0, 0.0, 0.0, 0.0, 0.0, 0.0, 0.0, 0.0, 0.0, 0.0, 0.0, 0.0, 0.0, 0.0, 0.0, 0.0, 0.0, 0.0, 0.0, 0.0, 0.0, 0.0, 0.0, 0.0, 0.0, 0.0, 0.0, 0.0, 0.0, 0.0, 0.0, 0.0, 0.0, 0.0, 0.0, 0.0, 0.0, 0.0, 0.0, 0.0, 0.0, 0.0, 0.0, 0.0, 0.0, 0.0, 0.0, 0.0, 0.0, 0.0, 0.0, 0.0, 0.0, 0.0, 0.0, 0.0, 0.0, 0.0, 0.0, 0.0, 0.0, 0.0, 0.0, 0.0, 0.0, 0.0, 0.0, 0.0, 0.0, 0.0, 0.0, 0.0, 0.0, 0.0, 0.0, 0.0, 0.0, 0.0, 0.0, 0.0, 0.0, 0.0, 0.0, 0.0, 0.0, 0.0, 0.0, 0.0, 0.0, 0.0, 0.0, 0.0, 0.0, 0.0, 0.0, 0.0, 0.0, 0.0, 0.0, 0.0, 0.0, 0.0, 0.0, 0.0, 0.0, 0.0, 0.0, 0.0, 0.0, 0.0, 0.0, 0.0, 0.0, 0.0, 0.0, 0.0, 0.0, 0.0, 0.0, 0.0, 0.0, 0.0, 0.0, 0.0, 0.0, 0.0, 0.0, 0.0, 0.0, 0.0, 0.0, 0.0, 0.0, 0.0, 0.0, 0.0, 0.0, 0.0, 0.0, 0.0, 0.0, 0.0, 0.0, 0.0, 0.0, 0.0, 0.0, 0.0, 0.0, 0.0, 0.0, 0.0, 0.0, 0.0, 0.0, 0.0, 0.0, 0.0, 0.0, 0.0, 0.0, 0.0, 0.0, 0.0, 0.0, 0.0, 0.0, 0.0, 0.0, 0.0, 0.0, 0.0, 0.0, 0.0, 0.0, 0.0, 0.0, 0.0, 0.0, 0.0, 0.0, 0.0, 0.0, 0.0, 0.0, 0.0, 0.0, 0.0, 0.0, 0.0, 0.0, 0.0, 0.0, 0.0, 0.0, 0.0, 0.0, 0.0, 0.0, 0.0, 0.0, 0.0, 0.0, 0.0, 0.0, 0.0, 0.0, 0.0, 0.0, 0.0, 0.0, 0.0, 0.0, 0.0, 0.0, 0.0, 0.0, 0.0, 0.0, 0.0, 0.0, 0.0, 0.0, 0.0, 0.0, 0.0, 0.0, 0.0, 0.0, 0.0, 0.0, 0.0, 0.0, 0.0, 0.0, 0.0, 0.0, 0.0, 0.0, 0.0, 0.0, 0.0, 0.0, 0.0, 0.0, 0.0, 0.0, 0.0, 0.0, 0.0, 0.0, 0.0, 0.0, 0.0, 0.0, 0.0, 0.0, 0.0, 0.0, 0.0, 0.0, 0.0, 0.0, 0.0, 0.0, 0.0, 0.0, 0.0, 0.0, 0.0, 0.0, 0.0, 0.0, 0.0, 0.0, 0.0, 0.0, 0.0, 0.0, 0.0, 0.0, 0.0, 0.0, 0.0, 0.0, 0.0, 0.0, 0.0, 0.0, 0.0, 0.0, 0.0, 0.0, 0.0, 0.0, 0.0, 0.0, 0.0, 0.0, 0.0, 0.0, 0.0, 0.0, 0.0, 0.0, 0.0, 0.0, 0.0, 0.0, 0.0, 0.0, 0.0, 0.0, 0.0, 0.0, 0.0, 0.0, 0.0, 0.0, 0.0, 0.0, 0.0, 0.0, 0.0, 0.0, 0.0, 0.0, 0.0, 0.0, 0.0, 0.0, 0.0, 0.0, 0.0, 0.0, 0.0, 0.0, 0.0, 0.0, 0.0, 0.0, 0.0, 0.0, 0.0, 0.0, 0.0, 0.0, 0.0, 0.0, 0.0, 0.0, 0.0, 0.0, 0.0, 0.0, 0.0, 0.0, 0.0, 0.0, 0.0, 0.0, 0.0, 0.0, 0.0, 0.0, 0.0, 0.0, 0.0, 0.0, 0.0, 0.0, 0.0, 0.0, 0.0, 0.0, 0.0, 0.0, 0.0, 0.0, 0.0, 0.0, 0.0, 0.0, 0.0, 0.0, 0.0, 0.0, 0.0, 0.0, 0.0, 0.0, 0.0, 0.0, 0.0, 0.0, 0.0, 0.0, 0.0, 0.0, 0.0, 0.0, 0.0, 0.0, 0.0, 0.0, 0.0, 0.0, 0.0, 0.0, 0.0, 0.0, 0.0, 0.0, 0.0, 0.0, 0.0, 0.0, 0.0, 0.0, 0.0, 0.0, 0.0, 0.0, 0.0, 0.0, 0.0, 0.0, 0.0, 0.0, 0.0, 0.0, 0.0, 0.0, 0.0, 0.0, 0.0, 0.0, 0.0, 0.0, 0.0, 0.0, 0.0, 0.0, 0.0, 0.0, 0.0, 0.0, 0.0, 0.0, 0.0, 0.0, 0.0, 0.0, 0.0, 0.0, 0.0, 0.0, 0.0, 0.0, 0.0, 0.0, 0.0, 0.0, 0.0, 0.0, 0.0, 0.0, 0.0, 0.0, 0.0, 0.0, 0.0, 0.0, 0.0, 0.0, 0.0, 0.0, 0.0, 0.0, 0.0, 0.0, 0.0, 0.0, 0.0, 0.0, 0.0, 0.0, 0.0, 0.0, 0.0, 0.0, 0.0, 0.0, 0.0, 0.0, 0.0, 0.0, 0.0, 0.0, 0.0, 0.0, 0.0, 0.0, 0.0, 0.0, 0.0, 0.0, 0.0, 0.0, 0.0, 0.0, 0.0, 0.0, 0.0, 0.0, 0.0, 0.0, 0.0, 0.0, 0.0, 0.0, 0.0, 0.0, 0.0, 0.0, 0.0, 0.0, 0.0, 0.0, 0.0, 0.0, 0.0, 0.0, 0.0, 0.0, 0.0, 0.0, 0.0, 0.0, 0.0, 0.0, 0.0, 0.0, 0.0, 0.0, 0.0, 0.0, 0.0, 0.0, 0.0, 0.0, 0.0, 0.0, 0.0, 0.0, 0.0, 0.0, 0.0, 0.0, 0.0, 0.0, 0.0, 0.0, 0.0, 0.0, 0.0, 0.0, 0.0, 0.0, 0.0, 0.0, 0.0, 0.0, 0.0, 0.0, 0.0, 0.0, 0.0, 0.0, 0.0, 0.0, 0.0, 0.0, 0.0, 0.0, 0.0, 0.0, 0.0, 0.0, 0.0, 0.0, 0.0, 0.0, 0.0, 0.0, 0.0, 0.0, 0.0, 0.0, 0.0, 0.0, 0.0, 0.0, 0.0, 0.0, 0.0, 0.0, 0.0, 0.0, 0.0, 0.0, 0.0, 0.0, 0.0, 0.0, 0.0, 0.0, 0.0, 0.0, 0.0, 0.0, 0.0, 0.0, 0.0, 0.0, 0.0, 0.0, 0.0, 0.0, 0.0, 0.0, 0.0, 0.0, 0.0, 0.0, 0.0, 0.0, 0.0, 0.0, 0.0, 0.0, 0.0, 0.0, 0.0, 0.0, 0.0, 0.0, 0.0, 0.0, 0.0, 0.0, 0.0, 0.0, 0.0, 0.0, 0.0, 0.0, 0.0, 0.0, 0.0, 0.0, 0.0, 0.0, 0.0, 0.0, 0.0, 0.0, 0.0, 0.0, 0.0, 0.0, 0.0, 0.0, 0.0, 0.0, 0.0, 0.0, 0.0, 0.0, 0.0, 0.0, 0.0, 0.0, 0.0, 0.0, 0.0, 0.0, 0.0, 0.0, 0.0, 0.0, 0.0, 0.0, 0.0, 0.0, 0.0, 0.0, 0.0, 0.0, 0.0, 0.0, 0.0, 0.0, 0.0, 0.0, 0.0, 0.0, 0.0, 0.0, 0.0, 0.0, 0.0, 0.0, 0.0, 0.0, 0.0, 0.0, 0.0, 0.0, 0.0, 0.0, 0.0, 0.0, 0.0, 0.0, 0.0, 0.0, 0.0, 0.0, 0.0, 0.0, 0.0, 0.0, 0.0, 0.0, 0.0, 0.0, 0.0, 0.0, 0.0, 0.0, 0.0, 0.0, 0.0, 0.0, 0.0, 0.0, 0.0, 0.0, 0.0, 0.0, 0.0, 0.0, 0.0, 0.0, 0.0, 0.0, 0.0, 0.0, 0.0, 0.0, 0.0, 0.0, 0.0, 0.0, 0.0, 0.0, 0.0, 0.0, 0.0, 0.0, 0.0, 0.0, 0.0, 0.0, 0.0, 0.0, 0.0, 0.0, 0.0, 0.0, 0.0, 0.0, 0.0, 0.0, 0.0, 0.0, 0.0, 0.0, 0.0, 0.0, 0.0, 0.0, 0.0, 0.0, 0.0, 0.0, 0.0, 0.0, 0.0, 0.0, 0.0, 0.0, 0.0, 0.0, 0.0, 0.0, 0.0, 0.0, 0.0, 0.0, 0.0, 0.0, 0.0, 0.0, 0.0, 0.0, 0.0, 0.0, 0.0, 0.0, 0.0, 0.0, 0.0, 0.0, 0.0, 0.0, 0.0, 0.0, 0.0, 0.0, 0.0, 0.0, 0.0, 0.0, 0.0, 0.0, 0.0, 0.0, 0.0, 0.0, 0.0, 0.0, 0.0, 0.0, 0.0, 0.0, 0.0, 0.0, 0.0, 0.0, 0.0, 0.0, 0.0, 0.0, 0.0, 0.0, 0.0, 0.0, 0.0, 0.0, 0.0, 0.0, 0.0, 0.0, 0.0, 0.0, 0.0, 0.0, 0.0, 0.0, 0.0, 0.0, 0.0, 0.0, 0.0, 0.0, 0.0, 0.0, 0.0, 0.0, 0.0, 0.0, 0.0, 0.0, 0.0, 0.0, 0.0, 0.0, 0.0, 0.0, 0.0, 0.0, 0.0, 0.0, 0.0, 0.0, 0.0, 0.0, 0.0, 0.0, 0.0, 0.0, 0.0, 0.0, 0.0, 0.0, 0.0, 0.0, 0.0, 0.0, 0.0, 0.0, 0.0, 0.0, 0.0, 0.0, 0.0, 0.0, 0.0, 0.0, 0.0, 0.0, 0.0, 0.0, 0.0, 0.0, 0.0, 0.0, 0.0, 0.0, 0.0, 0.0, 0.0, 0.0, 0.0, 0.0, 0.0, 0.0, 0.0, 0.0, 0.0, 0.0, 0.0, 0.0, 0.0, 0.0, 0.0, 0.0, 0.0, 0.0, 0.0, 0.0, 0.0, 0.0, 0.0, 0.0, 0.0, 0.0, 0.0, 0.0, 0.0, 0.0, 0.0, 0.0, 0.0, 0.0, 0.0, 0.0, 0.0, 0.0, 0.0, 0.0, 0.0, 0.0, 0.0, 0.0, 0.0, 0.0, 0.0, 0.0, 0.0, 0.0, 0.0, 0.0, 0.0, 0.0, 0.0, 0.0, 0.0, 0.0, 0.0, 0.0, 0.0, 0.0, 0.0, 0.0, 0.0, 0.0, 0.0, 0.0, 0.0, 0.0, 0.0, 0.0, 0.0, 0.0, 0.0, 0.0, 0.0, 0.0, 0.0, 0.0, 0.0, 0.0, 0.0, 0.0, 0.0, 0.0, 0.0, 0.0, 0.0, 0.0, 0.0, 0.0, 0.0, 0.0, 0.0, 0.0, 0.0, 0.0, 0.0, 0.0, 0.0, 0.0, 0.0, 0.0, 0.0, 0.0, 0.0, 0.0, 0.0, 0.0, 0.0, 0.0, 0.0, 0.0, 0.0, 0.0, 0.0, 0.0, 0.0, 0.0, 0.0, 0.0, 0.0, 0.0, 0.0, 0.0, 0.0, 0.0, 0.0, 0.0, 0.0, 0.0, 0.0, 0.0, 0.0, 0.0, 0.0, 0.0, 0.0, 0.0, 0.0, 0.0, 0.0, 0.0, 0.0, 0.0, 0.0, 0.0, 0.0, 0.0, 0.0, 0.0, 0.0, 0.0, 0.0, 0.0, 0.0, 0.0, 0.0, 0.0, 0.0, 0.0, 0.0, 0.0, 0.0, 0.0, 0.0, 0.0, 0.0, 0.0, 0.0, 0.0, 0.0, 0.0, 0.0, 0.0, 0.0, 0.0, 0.0, 0.0, 0.0, 0.0, 0.0, 0.0, 0.0, 0.0, 0.0, 0.0, 0.0, 0.0, 0.0, 0.0, 0.0, 0.0, 0.0, 0.0, 0.0, 0.0, 0.0, 0.0, 0.0, 0.0, 0.0, 0.0, 0.0, 0.0, 0.0, 0.0, 0.0, 0.0, 0.0, 0.0, 0.0, 0.0, 0.0, 0.0, 0.0, 0.0, 0.0, 0.0, 0.0, 0.0, 0.0, 0.0, 0.0, 0.0, 0.0, 0.0, 0.0, 0.0, 0.0, 0.0, 0.0, 0.0, 0.0, 0.0, 0.0, 0.0, 0.0, 0.0, 0.0, 0.0, 0.0, 0.0, 0.0, 0.0, 0.0, 0.0, 0.0, 0.0, 0.0, 0.0, 0.0, 0.0, 0.0, 0.0, 0.0, 0.0, 0.0, 0.0, 0.0, 0.0, 0.0, 0.0, 0.0, 0.0, 0.0, 0.0, 0.0, 0.0, 0.0, 0.0, 0.0, 0.0, 0.0, 0.0, 0.0, 0.0, 0.0, 0.0, 0.0, 0.0, 0.0, 0.0, 0.0, 0.0, 0.0, 0.0, 0.0, 0.0, 0.0, 0.0, 0.0, 0.0, 0.0, 0.0, 0.0, 0.0, 0.0, 0.0, 0.0, 0.0, 0.0, 0.0, 0.0, 0.0, 0.0, 0.0, 0.0, 0.0, 0.0, 0.0, 0.0, 0.0, 0.0, 0.0, 0.0, 0.0, 0.0, 0.0, 0.0, 0.0, 0.0, 0.0, 0.0, 0.0, 0.0, 0.0, 0.0, 0.0, 0.0, 0.0, 0.0, 0.0, 0.0, 0.0, 0.0, 0.0, 0.0, 0.0, 0.0, 0.0, 0.0, 0.0, 0.0, 0.0, 0.0, 0.0, 0.0, 0.0, 0.0, 0.0, 0.0, 0.0, 0.0, 0.0, 0.0, 0.0, 0.0, 0.0, 0.0, 0.0, 0.0, 0.0, 0.0, 0.0, 0.0, 0.0, 0.0, 0.0, 0.0, 0.0, 0.0, 0.0, 0.0, 0.0, 0.0, 0.0, 0.0, 0.0, 0.0, 0.0, 0.0, 0.0, 0.0, 0.0, 0.0, 0.0, 0.0, 0.0, 0.0, 0.0, 0.0, 0.0, 0.0, 0.0, 0.0, 0.0, 0.0, 0.0, 0.0, 0.0, 0.0, 0.0, 0.0, 0.0, 0.0, 0.0, 0.0, 0.0, 0.0, 0.0, 0.0, 0.0, 0.0, 0.0, 0.0, 0.0, 0.0, 0.0, 0.0, 0.0, 0.0, 0.0, 0.0, 0.0, 0.0, 0.0, 0.0, 0.0, 0.0, 0.0, 0.0, 0.0, 0.0, 0.0, 0.0, 0.0, 0.0, 0.0, 0.0, 0.0, 0.0, 0.0, 0.0, 0.0, 0.0, 0.0, 0.0, 0.0, 0.0, 0.0, 0.0, 0.0, 0.0, 0.0, 0.0, 0.0, 0.0, 0.0, 0.0, 0.0, 0.0, 0.0, 0.0, 0.0, 0.0, 0.0, 0.0, 0.0, 0.0, 0.0, 0.0, 0.0, 0.0, 0.0, 0.0, 0.0, 0.0, 0.0, 0.0, 0.0, 0.0, 0.0, 0.0, 0.0, 0.0, 0.0, 0.0, 0.0, 0.0, 0.0, 0.0, 0.0, 0.0, 0.0, 0.0, 0.0, 0.0, 0.0, 0.0, 0.0, 0.0, 0.0, 0.0, 0.0, 0.0, 0.0, 0.0, 0.0, 0.0, 0.0, 0.0, 0.0, 0.0, 0.0, 0.0, 0.0, 0.0, 0.0, 0.0, 0.0, 0.0, 0.0, 0.0, 0.0, 0.0, 0.0, 0.0, 0.0, 0.0, 0.0, 0.0, 0.0, 0.0, 0.0, 0.0, 0.0, 0.0, 0.0, 0.0, 0.0, 0.0, 0.0, 0.0, 0.0, 0.0, 0.0, 0.0, 0.0, 0.0, 0.0, 0.0, 0.0, 0.0, 0.0, 0.0, 0.0, 0.0, 0.0, 0.0, 0.0, 0.0, 0.0, 0.0, 0.0, 0.0, 0.0, 0.0, 0.0, 0.0, 0.0, 0.0, 0.0, 0.0, 0.0, 0.0, 0.0, 0.0, 0.0, 0.0, 0.0, 0.0, 0.0, 0.0, 0.0, 0.0, 0.0, 0.0, 0.0, 0.0, 0.0, 0.0, 0.0, 0.0, 0.0, 0.0, 0.0, 0.0, 0.0, 0.0, 0.0, 0.0, 0.0, 0.0, 0.0, 0.0, 0.0, 0.0, 0.0, 0.0, 0.0, 0.0, 0.0, 0.0, 0.0, 0.0, 0.0, 0.0, 0.0, 0.0, 0.0, 0.0, 0.0, 0.0, 0.0, 0.0, 0.0, 0.0, 0.0, 0.0, 0.0, 0.0, 0.0, 0.0, 0.0, 0.0, 0.0, 0.0, 0.0, 0.0, 0.0, 0.0, 0.0, 0.0, 0.0, 0.0, 0.0, 0.0, 0.0, 0.0, 0.0, 0.0, 0.0, 0.0, 0.0, 0.0, 0.0, 0.0, 0.0, 0.0, 0.0, 0.0, 0.0, 0.0, 0.0, 0.0, 0.0, 0.0, 0.0, 0.0, 0.0, 0.0, 0.0, 0.0, 0.0, 0.0, 0.0, 0.0, 0.0, 0.0, 0.0, 0.0, 0.0, 0.0, 0.0, 0.0, 0.0, 0.0, 0.0, 0.0, 0.0, 0.0, 0.0, 0.0, 0.0, 0.0, 0.0, 0.0, 0.0, 0.0, 0.0, 0.0, 0.0, 0.0, 0.0, 0.0, 0.0, 0.0, 0.0, 0.0, 0.0, 0.0, 0.0, 0.0, 0.0, 0.0, 0.0, 0.0, 0.0, 0.0, 0.0, 0.0, 0.0, 0.0, 0.0, 0.0, 0.0, 0.0, 0.0, 0.0, 0.0, 0.0, 0.0, 0.0, 0.0, 0.0, 0.0, 0.0, 0.0, 0.0, 0.0, 0.0, 0.0, 0.0, 0.0, 0.0, 0.0, 0.0, 0.0, 0.0, 0.0, 0.0, 0.0, 0.0, 0.0, 0.0, 0.0, 0.0, 0.0, 0.0, 0.0, 0.0, 0.0, 0.0, 0.0, 0.0, 0.0, 0.0, 0.0, 0.0, 0.0, 0.0, 0.0, 0.0, 0.0, 0.0, 0.0, 0.0, 0.0, 0.0, 0.0, 0.0, 0.0, 0.0, 0.0, 0.0, 0.0, 0.0, 0.0, 0.0, 0.0, 0.0, 0.0, 0.0, 0.0, 0.0, 0.0, 0.0, 0.0, 0.0, 0.0, 0.0, 0.0, 0.0, 0.0, 0.0, 0.0, 0.0, 0.0, 0.0, 0.0, 0.0, 0.0, 0.0, 0.0, 0.0, 0.0, 0.0, 0.0, 0.0, 0.0, 0.0, 0.0, 0.0, 0.0, 0.0, 0.0, 0.0, 0.0, 0.0, 0.0, 0.0, 0.0, 0.0, 0.0, 0.0, 0.0, 0.0, 0.0, 0.0, 0.0, 0.0, 0.0, 0.0, 0.0, 0.0, 0.0, 0.0, 0.0, 0.0, 0.0, 0.0, 0.0, 0.0, 0.0, 0.0, 0.0, 0.0, 0.0, 0.0, 0.0, 0.0, 0.0, 0.0, 0.0, 0.0, 0.0, 0.0, 0.0, 0.0, 0.0, 0.0, 0.0, 0.0, 0.0, 0.0, 0.0, 0.0, 0.0, 0.0, 0.0, 0.0, 0.0, 0.0, 0.0, 0.0, 0.0, 0.0, 0.0, 0.0, 0.0, 0.0, 0.0, 0.0, 0.0, 0.0, 0.0, 0.0, 0.0, 0.0, 0.0, 0.0, 0.0, 0.0, 0.0, 0.0, 0.0, 0.0, 0.0, 0.0, 0.0, 0.0, 0.0, 0.0, 0.0, 0.0, 0.0, 0.0, 0.0, 0.0, 0.0, 0.0, 0.0, 0.0, 0.0, 0.0, 0.0, 0.0, 0.0, 0.0, 0.0, 0.0, 0.0, 0.0, 0.0, 0.0, 0.0, 0.0, 0.0, 0.0, 0.0, 0.0, 0.0, 0.0, 0.0, 0.0, 0.0, 0.0, 0.0, 0.0, 0.0, 0.0, 0.0, 0.0, 0.0, 0.0, 0.0, 0.0, 0.0, 0.0, 0.0, 0.0, 0.0, 0.0, 0.0, 0.0, 0.0, 0.0, 0.0, 0.0, 0.0, 0.0, 0.0, 0.0, 0.0, 0.0, 0.0, 0.0, 0.0, 0.0, 0.0, 0.0, 0.0, 0.0, 0.0, 0.0, 0.0, 0.0, 0.0, 0.0, 0.0, 0.0, 0.0, 0.0, 0.0, 0.0, 0.0, 0.0, 0.0, 0.0, 0.0, 0.0, 0.0, 0.0, 0.0, 0.0, 0.0, 0.0, 0.0, 0.0, 0.0, 0.0, 0.0, 0.0, 0.0, 0.0, 0.0, 0.0, 0.0, 0.0, 0.0, 0.0, 0.0, 0.0, 0.0, 0.0, 0.0, 0.0, 0.0, 0.0, 0.0, 0.0, 0.0, 0.0, 0.0, 0.0, 0.0, 0.0, 0.0, 0.0, 0.0, 0.0, 0.0, 0.0, 0.0, 0.0, 0.0, 0.0, 0.0, 0.0, 0.0, 0.0, 0.0, 0.0, 0.0, 0.0, 0.0, 0.0, 0.0, 0.0, 0.0, 0.0, 0.0, 0.0, 0.0, 0.0, 0.0, 0.0, 0.0, 0.0, 0.0, 0.0, 0.0, 0.0, 0.0, 0.0, 0.0, 0.0, 0.0, 0.0, 0.0, 0.0, 0.0, 0.0, 0.0, 0.0, 0.0, 0.0, 0.0, 0.0, 0.0, 0.0, 0.0, 0.0, 0.0, 0.0, 0.0, 0.0, 0.0, 0.0, 0.0, 0.0, 0.0, 0.0, 0.0, 0.0, 0.0, 0.0, 0.0, 0.0, 0.0, 0.0, 0.0, 0.0, 0.0, 0.0, 0.0, 0.0, 0.0, 0.0, 0.0, 0.0, 0.0, 0.0, 0.0, 0.0, 0.0, 0.0, 0.0, 0.0, 0.0, 0.0, 0.0, 0.0, 0.0, 0.0, 0.0, 0.0, 0.0, 0.0, 0.0, 0.0, 0.0, 0.0, 0.0, 0.0, 0.0, 0.0, 0.0, 0.0, 0.0, 0.0, 0.0, 0.0, 0.0, 0.0, 0.0, 0.0, 0.0, 0.0, 0.0, 0.0, 0.0, 0.0, 0.0, 0.0, 0.0, 0.0, 0.0, 0.0, 0.0, 0.0, 0.0, 0.0, 0.0, 0.0, 0.0, 0.0, 0.0, 0.0, 0.0, 0.0, 0.0, 0.0, 0.0, 0.0, 0.0, 0.0, 0.0, 0.0, 0.0, 0.0, 0.0, 0.0, 0.0, 0.0, 0.0, 0.0, 0.0, 0.0, 0.0, 0.0, 0.0, 0.0, 0.0, 0.0, 0.0, 0.0, 0.0, 0.0, 0.0, 0.0, 0.0, 0.0, 0.0, 0.0, 0.0, 0.0, 0.0, 0.0, 0.0, 0.0, 0.0, 0.0, 0.0, 0.0, 0.0, 0.0, 0.0, 0.0, 0.0, 0.0, 0.0, 0.0, 0.0, 0.0, 0.0, 0.0, 0.0, 0.0, 0.0, 0.0, 0.0, 0.0, 0.0, 0.0, 0.0, 0.0, 0.0, 0.0, 0.0, 0.0, 0.0, 0.0, 0.0, 0.0, 0.0, 0.0, 0.0, 0.0, 0.0, 0.0, 0.0, 0.0, 0.0, 0.0, 0.0, 0.0, 0.0, 0.0, 0.0, 0.0, 0.0, 0.0, 0.0, 0.0, 0.0, 0.0, 0.0, 0.0, 0.0, 0.0, 0.0, 0.0, 0.0, 0.0, 0.0, 0.0, 0.0, 0.0, 0.0, 0.0, 0.0, 0.0, 0.0, 0.0, 0.0, 0.0, 0.0, 0.0, 0.0, 0.0, 0.0, 0.0, 0.0, 0.0, 0.0, 0.0, 0.0, 0.0, 0.0, 0.0, 0.0, 0.0, 0.0, 0.0, 0.0, 0.0, 0.0, 0.0, 0.0, 0.0, 0.0, 0.0, 0.0, 0.0, 0.0, 0.0, 0.0, 0.0, 0.0, 0.0, 0.0, 0.0, 0.0, 0.0, 0.0, 0.0, 0.0, 0.0, 0.0, 0.0, 0.0, 0.0, 0.0, 0.0, 0.0, 0.0, 0.0, 0.0, 0.0, 0.0, 0.0, 0.0, 0.0, 0.0, 0.0, 0.0, 0.0, 0.0, 0.0, 0.0, 0.0, 0.0, 0.0, 0.0, 0.0, 0.0, 0.0, 0.0, 0.0, 0.0, 0.0, 0.0, 0.0, 0.0, 0.0, 0.0, 0.0, 0.0, 0.0, 0.0, 0.0, 0.0, 0.0, 0.0, 0.0, 0.0, 0.0, 0.0, 0.0, 0.0, 0.0, 0.0, 0.0, 0.0, 0.0, 0.0, 0.0, 0.0, 0.0, 0.0, 0.0, 0.0, 0.0, 0.0, 0.0, 0.0, 0.0, 0.0, 0.0, 0.0, 0.0, 0.0, 0.0, 0.0, 0.0, 0.0, 0.0, 0.0, 0.0, 0.0, 0.0, 0.0, 0.0, 0.0, 0.0, 0.0, 0.0, 0.0, 0.0, 0.0, 0.0, 0.0, 0.0, 0.0, 0.0, 0.0, 0.0, 0.0, 0.0, 0.0, 0.0, 0.0, 0.0, 0.0, 0.0, 0.0, 0.0, 0.0, 0.0, 0.0, 0.0, 0.0, 0.0, 0.0, 0.0, 0.0, 0.0, 0], [0.0, 1.05552, 0.5817, 0.0, 0.0, 0.0, 0.0, 0.0, 0.0, 0.0, 0.0, 0.0, 0.0, 0.0, 0.0, 0.0, 0.0, 0.0, 0.58486, 0.0, 1.85387, 2.39794, 1.65758, 0.42481, 2.69897, 1.00877, 5.39794, 5.39794, 5.39794, 2.69897, 2.69897, 1.92082, 0.0, 0.0, 0.0, 0.0, 0.0, 0.0, 0.0, 0.0, 0.0, 0.0, 0.0, 0.0, 0.0, 0.0, 0.0, 0.0, 0.0, 0.0, 0.0, 0.0, 0.0, 0.0, 0.0, 0.0, 0.0, 0.0, 0.0, 0.0, 0.0, 0.0, 0.0, 0.0, 0.0, 0.0, 0.0, 0.0, 0.0, 0.0, 0.0, 0.0, 0.0, 0.0, 0.0, 0.0, 0.0, 0.0, 0.0, 0.0, 0.0, 0.0, 0.0, 0.0, 0.0, 0.0, 0.0, 0.0, 0.0, 0.0, 0.0, 0.0, 0.0, 0.0, 0.0, 0.0, 0.0, 0.0, 0.0, 0.0, 0.0, 0.0, 0.0, 0.0, 0.0, 0.0, 0.0, 0.0, 0.0, 0.0, 0.0, 0.0, 0.0, 0.0, 0.0, 0.0, 0.0, 0.0, 0.0, 0.0, 0.0, 0.0, 0.0, 0.0, 0.0, 0.0, 0.0, 0.0, 0.0, 0.0, 0.0, 0.0, 0.0, 0.0, 0.0, 0.0, 0.0, 0.0, 0.0, 0.0, 0.0, 0.0, 0.0, 0.0, 0.0, 0.0, 0.0, 0.0, 0.0, 0.0, 0.0, 0.0, 0.0, 0.0, 0.0, 0.0, 0.0, 0.0, 0.0, 0.0, 0.0, 0.0, 0.0, 0.0, 0.0, 0.0, 0.0, 0.0, 0.0, 0.0, 0.0, 0.0, 0.0, 0.0, 0.0, 0.0, 0.0, 0.0, 0.0, 0.0, 0.0, 0.0, 0.0, 0.0, 0.0, 0.0, 0.0, 0.0, 0.0, 0.0, 0.0, 0.0, 0.0, 0.0, 0.0, 0.0, 0.0, 0.0, 0.0, 0.0, 0.0, 0.0, 0.0, 0.0, 0.0, 0.0, 0.0, 0.0, 0.0, 0.0, 0.0, 0.0, 0.0, 0.0, 0.0, 0.0, 0.0, 0.0, 0.0, 0.0, 0.0, 0.0, 0.0, 0.0, 0.0, 0.0, 0.0, 0.0, 0.0, 0.0, 0.0, 0.0, 0.0, 0.0, 0.0, 0.0, 0.0, 0.0, 0.0, 0.0, 0.0, 0.0, 0.0, 0.0, 0.0, 0.0, 0.0, 0.0, 0.0, 0.0, 0.0, 0.0, 0.0, 0.0, 0.0, 0.0, 0.0, 0.0, 0.0, 0.0, 0.0, 0.0, 0.0, 0.0, 0.0, 0.0, 0.0, 0.0, 0.0, 0.0, 0.0, 0.0, 0.0, 0.0, 0.0, 0.0, 0.0, 0.0, 0.0, 0.0, 0.0, 0.0, 0.0, 0.0, 0.0, 0.0, 0.0, 0.0, 0.0, 0.0, 0.0, 0.0, 0.0, 0.0, 0.0, 0.0, 0.0, 0.0, 0.0, 0.0, 0.0, 0.0, 0.0, 0.0, 0.0, 0.0, 0.0, 0.0, 0.0, 0.0, 0.0, 0.0, 0.0, 0.0, 0.0, 0.0, 0.0, 0.0, 0.0, 0.0, 0.0, 0.0, 0.0, 0.0, 0.0, 0.0, 0.0, 0.0, 0.0, 0.0, 0.0, 0.0, 0.0, 0.0, 0.0, 0.0, 0.0, 0.0, 0.0, 0.0, 0.0, 0.0, 0.0, 0.0, 0.0, 0.0, 0.0, 0.0, 0.0, 0.0, 0.0, 0.0, 0.0, 0.0, 0.0, 0.0, 0.0, 0.0, 0.0, 0.0, 0.0, 0.0, 0.0, 0.0, 0.0, 0.0, 0.0, 0.0, 0.0, 0.0, 0.0, 0.0, 0.0, 0.0, 0.0, 0.0, 0.0, 0.0, 0.0, 0.0, 0.0, 0.0, 0.0, 0.0, 0.0, 0.0, 0.0, 0.0, 0.0, 0.0, 0.0, 0.0, 0.0, 0.0, 0.0, 0.0, 0.0, 0.0, 0.0, 0.0, 0.0, 0.0, 0.0, 0.0, 0.0, 0.0, 0.0, 0.0, 0.0, 0.0, 0.0, 0.0, 0.0, 0.0, 0.0, 0.0, 0.0, 0.0, 0.0, 0.0, 0.0, 0.0, 0.0, 0.0, 0.0, 0.0, 0.0, 0.0, 0.0, 0.0, 0.0, 0.0, 0.0, 0.0, 0.0, 0.0, 0.0, 0.0, 0.0, 0.0, 0.0, 0.0, 0.0, 0.0, 0.0, 0.0, 0.0, 0.0, 0.0, 0.0, 0.0, 0.0, 0.0, 0.0, 0.0, 0.0, 0.0, 0.0, 0.0, 0.0, 0.0, 0.0, 0.0, 0.0, 0.0, 0.0, 0.0, 0.0, 0.0, 0.0, 0.0, 0.0, 0.0, 0.0, 0.0, 0.0, 0.0, 0.0, 0.0, 0.0, 0.0, 0.0, 0.0, 0.0, 0.0, 0.0, 0.0, 0.0, 0.0, 0.0, 0.0, 0.0, 0.0, 0.0, 0.0, 0.0, 0.0, 0.0, 0.0, 0.0, 0.0, 0.0, 0.0, 0.0, 0.0, 0.0, 0.0, 0.0, 0.0, 0.0, 0.0, 0.0, 0.0, 0.0, 0.0, 0.0, 0.0, 0.0, 0.0, 0.0, 0.0, 0.0, 0.0, 0.0, 0.0, 0.0, 0.0, 0.0, 0.0, 0.0, 0.0, 0.0, 0.0, 0.0, 0.0, 0.0, 0.0, 0.0, 0.0, 0.0, 0.0, 0.0, 0.0, 0.0, 0.0, 0.0, 0.0, 0.0, 0.0, 0.0, 0.0, 0.0, 0.0, 0.0, 0.0, 0.0, 0.0, 0.0, 0.0, 0.0, 0.0, 0.0, 0.0, 0.0, 0.0, 0.0, 0.0, 0.0, 0.0, 0.0, 0.0, 0.0, 0.0, 0.0, 0.0, 0.0, 0.0, 0.0, 0.0, 0.0, 0.0, 0.0, 0.0, 0.0, 0.0, 0.0, 0.0, 0.0, 0.0, 0.0, 0.0, 0.0, 0.0, 0.0, 0.0, 0.0, 0.0, 0.0, 0.0, 0.0, 0.0, 0.0, 0.0, 0.0, 0.0, 0.0, 0.0, 0.0, 0.0, 0.0, 0.0, 0.0, 0.0, 0.0, 0.0, 0.0, 0.0, 0.0, 0.0, 0.0, 0.0, 0.0, 0.0, 0.0, 0.0, 0.0, 0.0, 0.0, 0.0, 0.0, 0.0, 0.0, 0.0, 0.0, 0.0, 0.0, 0.0, 0.0, 0.0, 0.0, 0.0, 0.0, 0.0, 0.0, 0.0, 0.0, 0.0, 0.0, 0.0, 0.0, 0.0, 0.0, 0.0, 0.0, 0.0, 0.0, 0.0, 0.0, 0.0, 0.0, 0.0, 0.0, 0.0, 0.0, 0.0, 0.0, 0.0, 0.0, 0.0, 0.0, 0.0, 0.0, 0.0, 0.0, 0.0, 0.0, 0.0, 0.0, 0.0, 0.0, 0.0, 0.0, 0.0, 0.0, 0.0, 0.0, 0.0, 0.0, 0.0, 0.0, 0.0, 0.0, 0.0, 0.0, 0.0, 0.0, 0.0, 0.0, 0.0, 0.0, 0.0, 0.0, 0.0, 0.0, 0.0, 0.0, 0.0, 0.0, 0.0, 0.0, 0.0, 0.0, 0.0, 0.0, 0.0, 0.0, 0.0, 0.0, 0.0, 0.0, 0.0, 0.0, 0.0, 0.0, 0.0, 0.0, 0.0, 0.0, 0.0, 0.0, 0.0, 0.0, 0.0, 0.0, 0.0, 0.0, 0.0, 0.0, 0.0, 0.0, 0.0, 0.0, 0.0, 0.0, 0.0, 0.0, 0.0, 0.0, 0.0, 0.0, 0.0, 0.0, 0.0, 0.0, 0.0, 0.0, 0.0, 0.0, 0.0, 0.0, 0.0, 0.0, 0.0, 0.0, 0.0, 0.0, 0.0, 0.0, 0.0, 0.0, 0.0, 0.0, 0.0, 0.0, 0.0, 0.0, 0.0, 0.0, 0.0, 0.0, 0.0, 0.0, 0.0, 0.0, 0.0, 0.0, 0.0, 0.0, 0.0, 0.0, 0.0, 0.0, 0.0, 0.0, 0.0, 0.0, 0.0, 0.0, 0.0, 0.0, 0.0, 0.0, 0.0, 0.0, 0.0, 0.0, 0.0, 0.0, 0.0, 0.0, 0.0, 0.0, 0.0, 0.0, 0.0, 0.0, 0.0, 0.0, 0.0, 0.0, 0.0, 0.0, 0.0, 0.0, 0.0, 0.0, 0.0, 0.0, 0.0, 0.0, 0.0, 0.0, 0.0, 0.0, 0.0, 0.0, 0.0, 0.0, 0.0, 0.0, 0.0, 0.0, 0.0, 0.0, 0.0, 0.0, 0.0, 0.0, 0.0, 0.0, 0.0, 0.0, 0.0, 0.0, 0.0, 0.0, 0.0, 0.0, 0.0, 0.0, 0.0, 0.0, 0.0, 0.0, 0.0, 0.0, 0.0, 0.0, 0.0, 0.0, 0.0, 0.0, 0.0, 0.0, 0.0, 0.0, 0.0, 0.0, 0.0, 0.0, 0.0, 0.0, 0.0, 0.0, 0.0, 0.0, 0.0, 0.0, 0.0, 0.0, 0.0, 0.0, 0.0, 0.0, 0.0, 0.0, 0.0, 0.0, 0.0, 0.0, 0.0, 0.0, 0.0, 0.0, 0.0, 0.0, 0.0, 0.0, 0.0, 0.0, 0.0, 0.0, 0.0, 0.0, 0.0, 0.0, 0.0, 0.0, 0.0, 0.0, 0.0, 0.0, 0.0, 0.0, 0.0, 0.0, 0.0, 0.0, 0.0, 0.0, 0.0, 0.0, 0.0, 0.0, 0.0, 0.0, 0.0, 0.0, 0.0, 0.0, 0.0, 0.0, 0.0, 0.0, 0.0, 0.0, 0.0, 0.0, 0.0, 0.0, 0.0, 0.0, 0.0, 0.0, 0.0, 0.0, 0.0, 0.0, 0.0, 0.0, 0.0, 0.0, 0.0, 0.0, 0.0, 0.0, 0.0, 0.0, 0.0, 0.0, 0.0, 0.0, 0.0, 0.0, 0.0, 0.0, 0.0, 0.0, 0.0, 0.0, 0.0, 0.0, 0.0, 0.0, 0.0, 0.0, 0.0, 0.0, 0.0, 0.0, 0.0, 0.0, 0.0, 0.0, 0.0, 0.0, 0.0, 0.0, 0.0, 0.0, 0.0, 0.0, 0.0, 0.0, 0.0, 0.0, 0.0, 0.0, 0.0, 0.0, 0.0, 0.0, 0.0, 0.0, 0.0, 0.0, 0.0, 0.0, 0.0, 0.0, 0.0, 0.0, 0.0, 0.0, 0.0, 0.0, 0.0, 0.0, 0.0, 0.0, 0.0, 0.0, 0.0, 0.0, 0.0, 0.0, 0.0, 0.0, 0.0, 0.0, 0.0, 0.0, 0.0, 0.0, 0.0, 0.0, 0.0, 0.0, 0.0, 0.0, 0.0, 0.0, 0.0, 0.0, 0.0, 0.0, 0.0, 0.0, 0.0, 0.0, 0.0, 0.0, 0.0, 0.0, 0.0, 0.0, 0.0, 0.0, 0.0, 0.0, 0.0, 0.0, 0.0, 0.0, 0.0, 0.0, 0.0, 0.0, 0.0, 0.0, 0.0, 0.0, 0.0, 0.0, 0.0, 0.0, 0.0, 0.0, 0.0, 0.0, 0.0, 0.0, 0.0, 0.0, 0.0, 0.0, 0.0, 0.0, 0.0, 0.0, 0.0, 0.0, 0.0, 0.0, 0.0, 0.0, 0.0, 0.0, 0.0, 0.0, 0.0, 0.0, 0.0, 0.0, 0.0, 0.0, 0.0, 0.0, 0.0, 0.0, 0.0, 0.0, 0.0, 0.0, 0.0, 0.0, 0.0, 0.0, 0.0, 0.0, 0.0, 0.0, 0.0, 0.0, 0.0, 0.0, 0.0, 0.0, 0.0, 0.0, 0.0, 0.0, 0.0, 0.0, 0.0, 0.0, 0.0, 0.0, 0.0, 0.0, 0.0, 0.0, 0.0, 0.0, 0.0, 0.0, 0.0, 0.0, 0.0, 0.0, 0.0, 0.0, 0.0, 0.0, 0.0, 0.0, 0.0, 0.0, 0.0, 0.0, 0.0, 0.0, 0.0, 0.0, 0.0, 0.0, 0.0, 0.0, 0.0, 0.0, 0.0, 0.0, 0.0, 0.0, 0.0, 0.0, 0.0, 0.0, 0.0, 0.0, 0.0, 0.0, 0.0, 0.0, 0.0, 0.0, 0.0, 0.0, 0.0, 0.0, 0.0, 0.0, 0.0, 0.0, 0.0, 0.0, 0.0, 0.0, 0.0, 0.0, 0.0, 0.0, 0.0, 0.0, 0.0, 0.0, 0.0, 0.0, 0.0, 0.0, 0.0, 0.0, 0.0, 0.0, 0.0, 0.0, 0.0, 0.0, 0.0, 0.0, 0.0, 0.0, 0.0, 0.0, 0.0, 0.0, 0.0, 0.0, 0.0, 0.0, 0.0, 0.0, 0.0, 0.0, 0.0, 0.0, 0.0, 0.0, 0.0, 0.0, 0.0, 0.0, 0.0, 0.0, 0.0, 0.0, 0.0, 0.0, 0.0, 0.0, 0.0, 0.0, 0.0, 0.0, 0.0, 0.0, 0.0, 0.0, 0.0, 0.0, 0.0, 0.0, 0.0, 0.0, 0.0, 0.0, 0.0, 0.0, 0.0, 0.0, 0.0, 0.0, 0.0, 0.0, 0.0, 0.0, 0.0, 0.0, 0.0, 0.0, 0.0, 0.0, 0.0, 0.0, 0.0, 0.0, 0.0, 0.0, 0.0, 0.0, 0.0, 0.0, 0.0, 0.0, 0.0, 0.0, 0.0, 0.0, 0.0, 0.0, 0.0, 0.0, 0.0, 0.0, 0.0, 0.0, 0.0, 0.0, 0.0, 0.0, 0.0, 0.0, 0.0, 0.0, 0.0, 0.0, 0.0, 0.0, 0.0, 0.0, 0.0, 0.0, 0.0, 0.0, 0.0, 0.0, 0.0, 0.0, 0.0, 0.0, 0.0, 0.0, 0.0, 0.0, 0.0, 0.0, 0.0, 0.0, 0.0, 0.0, 0.0, 0.0, 0.0, 0.0, 0.0, 0.0, 0.0, 0.0, 0.0, 0.0, 0.0, 0.0, 0.0, 0.0, 0.0, 0.0, 0.0, 0.0, 0.0, 0.0, 0.0, 0.0, 0.0, 0.0, 0.0, 0.0, 0.0, 0.0, 0.0, 0.0, 0.0, 0.0, 0.0, 0.0, 0.0, 0.0, 0.0, 0.0, 0.0, 0.0, 0.0, 0.0, 0.0, 0.0, 0.0, 0.0, 0.0, 0.0, 0.0, 0.0, 0.0, 0.0, 0.0, 0.0, 0.0, 0.0, 0.0, 0.0, 0.0, 0.0, 0.0, 0.0, 0.0, 0.0, 0.0, 0.0, 0.0, 0.0, 0.0, 0.0, 0.0, 0.0, 0.0, 0.0, 0.0, 0.0, 0.0, 0.0, 0.0, 0.0, 0.0, 0.0, 0.0, 0.0, 0.0, 0.0, 0.0, 0.0, 0.0, 0.0, 0.0, 0.0, 0.0, 0.0, 0.0, 0.0, 0.0, 0.0, 0.0, 0.0, 0.0, 0.0, 0.0, 0.0, 0.0, 0.0, 0.0, 0.0, 0.0, 0.0, 0.0, 0.0, 0.0, 0.0, 0.0, 0.0, 0.0, 0.0, 0.0, 0.0, 0.0, 0.0, 0.0, 0.0, 0.0, 0.0, 0.0, 0.0, 0.0, 0.0, 0.0, 0.0, 0.0, 0.0, 0.0, 0.0, 0.0, 0.0, 0.0, 0.0, 0.0, 0.0, 0.0, 0.0, 0.0, 0.0, 0.0, 0.0, 0.0, 0.0, 0.0, 0.0, 0.0, 0.0, 0.0, 0.0, 0.0, 0.0, 0.0, 0.0, 0.0, 0.0, 0.0, 0.0, 0.0, 0.0, 0.0, 0.0, 0.0, 0.0, 0.0, 0.0, 0.0, 0.0, 0.0, 0.0, 0.0, 0.0, 0.0, 0.0, 0.0, 0.0, 0.0, 0.0, 0.0, 0.0, 0.0, 0.0, 0.0, 0.0, 0.0, 0.0, 0.0, 0.0, 0.0, 0.0, 0.0, 0.0, 0.0, 0.0, 0.0, 0.0, 0.0, 0.0, 0.0, 0.0, 0.0, 0.0, 0.0, 0.0, 0.0, 0.0, 0.0, 0.0, 0.0, 0.0, 0.0, 0.0, 0.0, 0.0, 0.0, 0.0, 0.0, 0.0, 0.0, 0.0, 0.0, 0.0, 0.0, 0.0, 0.0, 0.0, 0.0, 0.0, 0.0, 0.0, 0.0, 0.0, 0.0, 0.0, 0.0, 0.0, 0.0, 0.0, 0.0, 0.0, 0.0, 0.0, 0.0, 0.0, 0.0, 0.0, 0.0, 0.0, 0.0, 0.0, 0.0, 0.0, 0.0, 0.0, 0.0, 0.0, 0.0, 0.0, 0.0, 0.0, 0.0, 0.0, 0.0, 0.0, 0.0, 0.0, 0.0, 0.0, 0.0, 0.0, 0.0, 0.0, 0.0, 0.0, 0.0, 0.0, 0.0, 0.0, 0.0, 0.0, 0.0, 0.0, 0.0, 0.0, 0.0, 0.0, 0.0, 0.0, 0.0, 0.0, 0.0, 0.0, 0.0, 0.0, 0.0, 0.0, 0.0, 0.0, 0.0, 0.0, 0.0, 0.0, 0.0, 0.0, 0.0, 0.0, 0.0, 0.0, 0.0, 0.0, 0.0, 0.0, 0.0, 0.0, 0.0, 0.0, 0.0, 0.0, 0.0, 0.0, 0.0, 0.0, 0.0, 0.0, 0.0, 0.0, 0.0, 0.0, 0.0, 0.0, 0.0, 0.0, 0.0, 0.0, 0.0, 0.0, 0.0, 0.0, 0.0, 0.0, 0.0, 0.0, 0.0, 0.0, 0.0, 0.0, 0.0, 0.0, 0.0, 0.0, 0.0, 0.0, 0.0, 0.0, 0.0, 0.0, 0.0, 0.0, 0.0, 0.0, 0.0, 0.0, 0.0, 0.0, 0.0, 0.0, 0.0, 0.0, 0.0, 0.0, 0.0, 0.0, 0.0, 0.0, 0.0, 0.0, 0.0, 0.0, 0.0, 0.0, 0.0, 0.0, 0.0, 0.0, 0.0, 0.0, 0.0, 0.0, 0.0, 0.0, 0.0, 0.0, 0.0, 0.0, 0.0, 0.0, 0.0, 0.0, 0.0, 0.0, 0.0, 0.0, 0.0, 0.0, 0.0, 0.0, 0.0, 0.0, 0.0, 0.0, 0.0, 0.0, 0.0, 0.0, 0.0, 0.0, 0.0, 0.0, 0.0, 0.0, 0.0, 0.0, 0.0, 0.0, 0.0, 0.0, 0.0, 0.0, 0.0, 0.0, 0.0, 0.0, 0.0, 0.0, 0.0, 0.0, 0.0, 0.0, 0.0, 0.0, 0.0, 0.0, 0.0, 0.0, 0.0, 0.0, 0.0, 0.0, 0.0, 0.0, 0.0, 0.0, 0.0, 0.0, 0.0, 0.0, 0.0, 0.0, 0.0, 0.0, 0.0, 0.0, 0.0, 0.0, 0.0, 0.0, 0.0, 0.0, 0.0, 0.0, 0.0, 0.0, 0.0, 0.0, 0.0, 0.0, 0.0, 0.0, 0.0, 0.0, 0.0, 0.0, 0.0, 0.0, 0.0, 0.0, 0.0, 0.0, 0.0, 0.0, 0.0, 0.0, 0.0, 0.0, 0.0, 0.0, 0.0, 0.0, 0.0, 0.0, 0.0, 0.0, 0.0, 0.0, 0.0, 0.0, 0.0, 0.0, 0.0, 0.0, 0.0, 0.0, 0.0, 0.0, 0.0, 0.0, 0.0, 0.0, 0.0, 0.0, 0.0, 0.0, 0.0, 0.0, 0.0, 0.0, 0.0, 0.0, 0.0, 0.0, 0.0, 0.0, 0.0, 0.0, 0.0, 0.0, 0.0, 0.0, 0.0, 0.0, 0.0, 0.0, 0.0, 0.0, 0.0, 0.0, 0.0, 0.0, 0.0, 0.0, 0.0, 0.0, 0.0, 0.0, 0.0, 0.0, 0.0, 0.0, 0.0, 0.0, 0.0, 0.0, 0.0, 0.0, 0.0, 0.0, 0.0, 0.0, 0.0, 0.0, 0.0, 0.0, 0.0, 0.0, 0.0, 0.0, 0.0, 0.0, 0.0, 0.0, 0.0, 0.0, 0.0, 0.0, 0.0, 0.0, 0.0, 0.0, 0.0, 0.0, 0.0, 0.0, 0.0, 0.0, 0.0, 0.0, 0.0, 0.0, 0.0, 0.0, 0.0, 0.0, 0.0, 0.0, 0.0, 0.0, 0.0, 0.0, 0.0, 0.0, 0.0, 0.0, 0.0, 0.0, 0.0, 0.0, 0.0, 0.0, 0.0, 0.0, 0.0, 0.0, 0.0, 0.0, 0.0, 0.0, 0.0, 0.0, 0.0, 0.0, 0.0, 0.0, 0.0, 0.0, 0.0, 0.0, 0.0, 0.0, 0.0, 0.0, 0.0, 0.0, 0.0, 0.0, 0.0, 0.0, 0.0, 0.0, 0.0, 0.0, 0.0, 0.0, 0.0, 0.0, 0.0, 0.0, 0.0, 0.0, 0.0, 0.0, 0.0, 0.0, 0.0, 0.0, 0.0, 0.0, 0.0, 0.0, 0.0, 0.0, 0.0, 0.0, 0.0, 0.0, 0.0, 0.0, 0.0, 0.0, 0.0, 0.0, 0.0, 0.0, 0.0, 0.0, 0.0, 0.0, 0.0, 0.0, 0.0, 0.0, 0.0, 0.0, 0.0, 0.0, 0.0, 0.0, 0.0, 0.0, 0.0, 0.0, 0.0, 0.0, 0.0, 0.0, 0.0, 0.0, 0.0, 0.0, 0.0, 0.0, 0.0, 0.0, 0.0, 0.0, 0.0, 0.0, 0.0, 0.0, 0.0, 0.0, 0.0, 0.0, 0.0, 0.0, 0.0, 0.0, 0.0, 0.0, 0.0, 0.0, 0.0, 0.0, 0.0, 0.0, 0.0, 0.0, 0.0, 0.0, 0.0, 0.0, 0.0, 0.0, 0.0, 0.0, 0.0, 0.0, 0.0, 0.0, 0.0, 0.0, 0.0, 0.0, 0.0, 0.0, 0.0, 0.0, 0.0, 0.0, 0.0, 0.0, 0.0, 0.0, 0.0, 0.0, 0.0, 0.0, 0.0, 0.0, 0.0, 0.0, 0.0, 0.0, 0.0, 0.0, 0.0, 0.0, 0.0, 0.0, 0.0, 0.0, 0.0, 0.0, 0.0, 0.0, 0.0, 0.0, 0.0, 0.0, 0.0, 0.0, 0.0, 0.0, 0.0, 0.0, 0.0, 0.0, 0.0, 0.0, 0.0, 0.0, 0.0, 0.0, 0.0, 0.0, 0.0, 0.0, 0.0, 0.0, 0.0, 0.0, 0.0, 0.0, 0.0, 0.0, 0.0, 0.0, 0.0, 0.0, 0.0, 0.0, 0.0, 0.0, 0.0, 0.0, 0.0, 0.0, 0.0, 0.0, 0.0, 0.0, 0.0, 0.0, 0.0, 0.0, 0.0, 0.0, 0.0, 0.0, 0.0, 0.0, 0.0, 0.0, 0.0, 0.0, 0.0, 0.0, 0.0, 0.0, 0.0, 0.0, 0.0, 0.0, 0.0, 0.0, 0.0, 0.0, 0.0, 0.0, 0.0, 0.0, 0.0, 0.0, 0.0, 0.0, 0.0, 0.0, 0.0, 0.0, 0.0, 0.0, 0.0, 0.0, 0.0, 0.0, 0.0, 0.0, 0.0, 0.0, 0.0, 0.0, 0.0, 0.0, 0.0, 0.0, 0.0, 0.0, 0.0, 0.0, 0.0, 0.0, 0.0, 0.0, 0.0, 0.0, 0.0, 0.0, 0.0, 0.0, 0.0, 0.0, 0.0, 0.0, 0.0, 0.0, 0.0, 0.0, 0.0, 0.0, 0.0, 0.0, 0.0, 0.0, 0.0, 0.0, 0.0, 0.0, 0.0, 0.0, 0.0, 0.0, 0.0, 0.0, 0.0, 0.0, 0.0, 0.0, 0.0, 0.0, 0.0, 0.0, 0.0, 0.0, 0.0, 0.0, 0.0, 0.0, 0.0, 0.0, 0.0, 0.0, 0.0, 0.0, 0.0, 0.0, 0.0, 0.0, 0.0, 0.0, 0.0, 0.0, 0.0, 0.0, 0.0, 0.0, 0.0, 0.0, 0.0, 0.0, 0.0, 0.0, 0.0, 0.0, 0.0, 0.0, 0.0, 0.0, 0.0, 0.0, 0.0, 0.0, 0.0, 0.0, 0.0, 0.0, 0.0, 0.0, 0.0, 0.0, 0.0, 0.0, 0.0, 0.0, 0.0, 0.0, 0.0, 0.0, 0.0, 0.0, 0.0, 0.0, 0.0, 0.0, 0.0, 0.0, 0.0, 0.0, 0.0, 0.0, 0.0, 0.0, 0.0, 0.0, 0.0, 0.0, 0.0, 0.0, 0.0, 0.0, 0.0, 0.0, 0.0, 0.0, 0.0, 0.0, 0.0, 0.0, 0.0, 0.0, 0.0, 0.0, 0.0, 0.0, 0.0, 0.0, 0.0, 0.0, 0.0, 0.0, 0.0, 0.0, 0.0, 0.0, 0.0, 0.0, 0.0, 0.0, 0.0, 0.0, 0.0, 0.0, 0.0, 0.0, 0.0, 0.0, 0.0, 0.0, 0.0, 0.0, 0.0, 0.0, 0.0, 0.0, 0.0, 0.0, 0.0, 0.0, 0.0, 0.0, 0.0, 0.0, 0.0, 0.0, 0.0, 0.0, 0.0, 0.0, 0.0, 0.0, 0.0, 0.0, 0.0, 0.0, 0.0, 0.0, 0.0, 0.0, 0.0, 0.0, 0.0, 0.0, 0.0, 0.0, 0.0, 0.0, 0.0, 0.0, 0.0, 0.0, 0.0, 0.0, 0.0, 0.0, 0.0, 0.0, 0.0, 0.0, 0.0, 0.0, 0.0, 0.0, 0.0, 0.0, 0.0, 0.0, 0.0, 0.0, 0.0, 0.0, 0.0, 0.0, 0.0, 0.0, 0.0, 0.0, 0.0, 0.0, 0.0, 0.0, 0.0, 0.0, 0.0, 0.0, 0.0, 0.0, 0.0, 0.0, 0.0, 0.0, 0.0, 0.0, 0.0, 0.0, 0.0, 0.0, 0.0, 0.0, 0.0, 0.0, 0.0, 0.0, 0.0, 0.0, 0.0, 0.0, 0.0, 0.0, 0.0, 0.0, 0.0, 0.0, 0.0, 0.0, 0.0, 0.0, 0.0, 0.0, 0.0, 0.0, 0.0, 0.0, 0.0, 0.0, 0.0, 0.0, 0.0, 0.0, 0.0, 0.0, 0.0, 0.0, 0.0, 0.0, 0.0, 0.0, 0.0, 0.0, 0.0, 0.0, 0.0, 0.0, 0.0, 0.0, 0.0, 0.0, 0.0, 0.0, 0.0, 0.0, 0.0, 0.0, 0.0, 0.0, 0.0, 0.0, 0.0, 0.0, 0.0, 0.0, 0.0, 0.0, 0.0, 0.0, 0.0, 0.0, 0.0, 0.0, 0.0, 0.0, 0.0, 0.0, 0.0, 0.0, 0.0, 0.0, 0.0, 0.0, 0.0, 0.0, 0.0, 0.0, 0.0, 0.0, 0.0, 0.0, 0.0, 0.0, 0.0, 0.0, 0.0, 0.0, 0.0, 0.0, 0.0, 0.0, 0.0, 0.0, 0.0, 0.0, 0.0, 0.0, 0.0, 0.0, 0.0, 0.0, 0.0, 0.0, 0.0, 0.0, 0.0, 0.0, 0.0, 0.0, 0.0, 0.0, 0.0, 0.0, 0.0, 0.0, 0.0, 0.0, 0.0, 0.0, 0.0, 0.0, 0.0, 0.0, 0.0, 0.0, 0.0, 0.0, 0.0, 0.0, 0.0, 0.0, 0.0, 0.0, 0.0, 0.0, 0.0, 0.0, 0.0, 0.0, 0.0, 0.0, 0.0, 0.0, 0.0, 0.0, 0.0, 0.0, 0.0, 0.0, 0.0, 0.0, 0.0, 0.0, 0.0, 0.0, 0.0, 0.0, 0.0, 0.0, 0.0, 0.0, 0.0, 0.0, 0.0, 0.0, 0.0, 0.0, 0.0, 0.0, 0.0, 0.0, 0.0, 0.0, 0.0, 0.0, 0.0, 0.0, 0.0, 0.0, 0.0, 0.0, 0.0, 0.0, 0.0, 0.0, 0.0, 0.0, 0.0, 0.0, 0.0, 0.0, 0.0, 0.0, 0.0, 0.0, 0.0, 0.0, 0.0, 0.0, 0.0, 0.0, 0.0, 0.0, 0.0, 0.0, 0.0, 0.0, 0.0, 0.0, 0.0, 0.0, 0.0, 0.0, 0.0, 0.0, 0.0, 0.0, 0.0, 0.0, 0.0, 0.0, 0.0, 0.0, 0.0, 0.0, 0.0, 0.0, 0.0, 0.0, 0.0, 0.0, 0.0, 0.0, 0.0, 0.0, 0.0, 0.0, 0.0, 0.0, 0.0, 0.0, 0.0, 0.0, 0.0, 0.0, 0.0, 0.0, 0.0, 0.0, 0.0, 0.0, 0.0, 0.0, 0.0, 0.0, 0.0, 0.0, 0.0, 0.0, 0.0, 0.0, 0.0, 0.0, 0.0, 0.0, 0.0, 0.0, 0.0, 0.0, 0.0, 0.0, 0.0, 0.0, 0.0, 0.0, 0.0, 0.0, 0.0, 0.0, 0.0, 0.0, 0.0, 0.0, 0.0, 0.0, 0.0, 0.0, 0.0, 0.0, 0.0, 0.0, 0.0, 0]]\n"
     ]
    }
   ],
   "source": [
    "# hitung nilai tf idf\n",
    "tf_idf_stem = []\n",
    "countTFIDF(tf_akhir_stem, idf_stem, tf_idf_stem)\n",
    "print(tf_idf_stem[:2])"
   ]
  },
  {
   "attachments": {},
   "cell_type": "markdown",
   "id": "56700d43",
   "metadata": {},
   "source": [
    "<h4>2) TF-RF</h4>\n",
    "<ul>\n",
    "    <li>hitung nilai RF</li>\n",
    "    <li>hitung nilai TF-RF</li>\n",
    "</ul>"
   ]
  },
  {
   "attachments": {},
   "cell_type": "markdown",
   "id": "cf384578",
   "metadata": {},
   "source": [
    "<h4>Method untuk perhitungan RF dan TF RF</h4>"
   ]
  },
  {
   "cell_type": "code",
   "execution_count": 51,
   "id": "268796b3",
   "metadata": {},
   "outputs": [],
   "source": [
    "# menggunakan method yg sama"
   ]
  },
  {
   "attachments": {},
   "cell_type": "markdown",
   "id": "2bd11153",
   "metadata": {},
   "source": [
    "<h4>Memisahkan data yg spam saja dari dataset, lalu reset indexnya</h4>"
   ]
  },
  {
   "cell_type": "code",
   "execution_count": 52,
   "id": "7618e2a3",
   "metadata": {},
   "outputs": [
    {
     "data": {
      "text/html": [
       "<div>\n",
       "<style scoped>\n",
       "    .dataframe tbody tr th:only-of-type {\n",
       "        vertical-align: middle;\n",
       "    }\n",
       "\n",
       "    .dataframe tbody tr th {\n",
       "        vertical-align: top;\n",
       "    }\n",
       "\n",
       "    .dataframe thead th {\n",
       "        text-align: right;\n",
       "    }\n",
       "</style>\n",
       "<table border=\"1\" class=\"dataframe\">\n",
       "  <thead>\n",
       "    <tr style=\"text-align: right;\">\n",
       "      <th></th>\n",
       "      <th>index</th>\n",
       "      <th>teks</th>\n",
       "      <th>jenis</th>\n",
       "      <th>kategori</th>\n",
       "      <th>pengirim</th>\n",
       "      <th>waktu</th>\n",
       "    </tr>\n",
       "  </thead>\n",
       "  <tbody>\n",
       "    <tr>\n",
       "      <th>0</th>\n",
       "      <td>5</td>\n",
       "      <td>[sim, card, resmi, selamat, mendapatkan, bantu...</td>\n",
       "      <td>1</td>\n",
       "      <td>penipuan</td>\n",
       "      <td>81902082953</td>\n",
       "      <td>12/10/2021 8:10</td>\n",
       "    </tr>\n",
       "    <tr>\n",
       "      <th>1</th>\n",
       "      <td>14</td>\n",
       "      <td>[info, resmi, selamat, mndptkan, 75jt, tiktok,...</td>\n",
       "      <td>1</td>\n",
       "      <td>penipuan</td>\n",
       "      <td>87745066300</td>\n",
       "      <td>12/2/2021 13:13</td>\n",
       "    </tr>\n",
       "    <tr>\n",
       "      <th>2</th>\n",
       "      <td>21</td>\n",
       "      <td>[yth, bapak/ibu, menawarkan, pinjaman, online,...</td>\n",
       "      <td>1</td>\n",
       "      <td>pinjol</td>\n",
       "      <td>85657034996</td>\n",
       "      <td>11/16/2021 8:50</td>\n",
       "    </tr>\n",
       "    <tr>\n",
       "      <th>3</th>\n",
       "      <td>22</td>\n",
       "      <td>[sdh, bnyk, yg, mngg, b0sq, lsng, kt, byr, brp...</td>\n",
       "      <td>1</td>\n",
       "      <td>judi</td>\n",
       "      <td>81384604303</td>\n",
       "      <td>11/16/2021 8:50</td>\n",
       "    </tr>\n",
       "    <tr>\n",
       "      <th>4</th>\n",
       "      <td>32</td>\n",
       "      <td>[pt, rkb, gold, memberikan, penghasilan, tamba...</td>\n",
       "      <td>1</td>\n",
       "      <td>penipuan</td>\n",
       "      <td>85696435767</td>\n",
       "      <td>11/8/2021 10:59</td>\n",
       "    </tr>\n",
       "    <tr>\n",
       "      <th>...</th>\n",
       "      <td>...</td>\n",
       "      <td>...</td>\n",
       "      <td>...</td>\n",
       "      <td>...</td>\n",
       "      <td>...</td>\n",
       "      <td>...</td>\n",
       "    </tr>\n",
       "    <tr>\n",
       "      <th>170</th>\n",
       "      <td>490</td>\n",
       "      <td>[pelanggan, 085238474786, ,, +1000, poin, rama...</td>\n",
       "      <td>1</td>\n",
       "      <td>NaN</td>\n",
       "      <td>85215945008</td>\n",
       "      <td>5/6/2021 13:39</td>\n",
       "    </tr>\n",
       "    <tr>\n",
       "      <th>171</th>\n",
       "      <td>492</td>\n",
       "      <td>[transfer, rekening, aja, ,, bank, bca, nomor,...</td>\n",
       "      <td>1</td>\n",
       "      <td>NaN</td>\n",
       "      <td>85298032769</td>\n",
       "      <td>5/10/2021 11:19</td>\n",
       "    </tr>\n",
       "    <tr>\n",
       "      <th>172</th>\n",
       "      <td>495</td>\n",
       "      <td>[raih, bonus, syarat, br0ve64s, bit.ly/br0veg4...</td>\n",
       "      <td>1</td>\n",
       "      <td>NaN</td>\n",
       "      <td>82383715018</td>\n",
       "      <td>5/16/2021 14:01</td>\n",
       "    </tr>\n",
       "    <tr>\n",
       "      <th>173</th>\n",
       "      <td>496</td>\n",
       "      <td>[toko, batam, lucky, plaza, menyediakan, promo...</td>\n",
       "      <td>1</td>\n",
       "      <td>NaN</td>\n",
       "      <td>85213643630</td>\n",
       "      <td>5/19/2021 9:34</td>\n",
       "    </tr>\n",
       "    <tr>\n",
       "      <th>174</th>\n",
       "      <td>497</td>\n",
       "      <td>[main, rumah, dpt, jutaan, rupiah, dgn, main, ...</td>\n",
       "      <td>1</td>\n",
       "      <td>NaN</td>\n",
       "      <td>85376989584</td>\n",
       "      <td>5/24/2021 4:59</td>\n",
       "    </tr>\n",
       "  </tbody>\n",
       "</table>\n",
       "<p>175 rows × 6 columns</p>\n",
       "</div>"
      ],
      "text/plain": [
       "     index                                               teks  jenis  \\\n",
       "0        5  [sim, card, resmi, selamat, mendapatkan, bantu...      1   \n",
       "1       14  [info, resmi, selamat, mndptkan, 75jt, tiktok,...      1   \n",
       "2       21  [yth, bapak/ibu, menawarkan, pinjaman, online,...      1   \n",
       "3       22  [sdh, bnyk, yg, mngg, b0sq, lsng, kt, byr, brp...      1   \n",
       "4       32  [pt, rkb, gold, memberikan, penghasilan, tamba...      1   \n",
       "..     ...                                                ...    ...   \n",
       "170    490  [pelanggan, 085238474786, ,, +1000, poin, rama...      1   \n",
       "171    492  [transfer, rekening, aja, ,, bank, bca, nomor,...      1   \n",
       "172    495  [raih, bonus, syarat, br0ve64s, bit.ly/br0veg4...      1   \n",
       "173    496  [toko, batam, lucky, plaza, menyediakan, promo...      1   \n",
       "174    497  [main, rumah, dpt, jutaan, rupiah, dgn, main, ...      1   \n",
       "\n",
       "     kategori     pengirim            waktu  \n",
       "0    penipuan  81902082953  12/10/2021 8:10  \n",
       "1    penipuan  87745066300  12/2/2021 13:13  \n",
       "2      pinjol  85657034996  11/16/2021 8:50  \n",
       "3        judi  81384604303  11/16/2021 8:50  \n",
       "4    penipuan  85696435767  11/8/2021 10:59  \n",
       "..        ...          ...              ...  \n",
       "170       NaN  85215945008   5/6/2021 13:39  \n",
       "171       NaN  85298032769  5/10/2021 11:19  \n",
       "172       NaN  82383715018  5/16/2021 14:01  \n",
       "173       NaN  85213643630   5/19/2021 9:34  \n",
       "174       NaN  85376989584   5/24/2021 4:59  \n",
       "\n",
       "[175 rows x 6 columns]"
      ]
     },
     "execution_count": 52,
     "metadata": {},
     "output_type": "execute_result"
    }
   ],
   "source": [
    "df_spam_stem = ds[ ds['jenis'] != 0 ]\n",
    "df_spam_stem.reset_index(inplace=True)\n",
    "df_spam_stem"
   ]
  },
  {
   "attachments": {},
   "cell_type": "markdown",
   "id": "21d2dd47",
   "metadata": {},
   "source": [
    "<h4>Memisahkan data yg non spam saja dari dataset, lalu reset indexnya</h4>"
   ]
  },
  {
   "cell_type": "code",
   "execution_count": 53,
   "id": "694e23a4",
   "metadata": {},
   "outputs": [
    {
     "data": {
      "text/html": [
       "<div>\n",
       "<style scoped>\n",
       "    .dataframe tbody tr th:only-of-type {\n",
       "        vertical-align: middle;\n",
       "    }\n",
       "\n",
       "    .dataframe tbody tr th {\n",
       "        vertical-align: top;\n",
       "    }\n",
       "\n",
       "    .dataframe thead th {\n",
       "        text-align: right;\n",
       "    }\n",
       "</style>\n",
       "<table border=\"1\" class=\"dataframe\">\n",
       "  <thead>\n",
       "    <tr style=\"text-align: right;\">\n",
       "      <th></th>\n",
       "      <th>index</th>\n",
       "      <th>teks</th>\n",
       "      <th>jenis</th>\n",
       "      <th>kategori</th>\n",
       "      <th>pengirim</th>\n",
       "      <th>waktu</th>\n",
       "    </tr>\n",
       "  </thead>\n",
       "  <tbody>\n",
       "    <tr>\n",
       "      <th>0</th>\n",
       "      <td>0</td>\n",
       "      <td>[wow, selamat, !, ga, kuota, gratis, dr, pemer...</td>\n",
       "      <td>0</td>\n",
       "      <td>promo</td>\n",
       "      <td>myIM3</td>\n",
       "      <td>12/10/2021 22:40</td>\n",
       "    </tr>\n",
       "    <tr>\n",
       "      <th>1</th>\n",
       "      <td>1</td>\n",
       "      <td>[10, desember, 2021, :, selamat, merayakan, ha...</td>\n",
       "      <td>0</td>\n",
       "      <td>operator</td>\n",
       "      <td>KOMNAS HAM</td>\n",
       "      <td>12/10/2021 19:27</td>\n",
       "    </tr>\n",
       "    <tr>\n",
       "      <th>2</th>\n",
       "      <td>2</td>\n",
       "      <td>[hot, promo, ,, isi, ulang, skr, :, min, 50rb,...</td>\n",
       "      <td>0</td>\n",
       "      <td>promo</td>\n",
       "      <td>INDOSAT</td>\n",
       "      <td>12/10/2021 12:03</td>\n",
       "    </tr>\n",
       "    <tr>\n",
       "      <th>3</th>\n",
       "      <td>3</td>\n",
       "      <td>[hotpromo, super, deal, ,, 25rb, dpt, 12.12gb,...</td>\n",
       "      <td>0</td>\n",
       "      <td>promo</td>\n",
       "      <td>HOT PROMO</td>\n",
       "      <td>12/10/2021 11:37</td>\n",
       "    </tr>\n",
       "    <tr>\n",
       "      <th>4</th>\n",
       "      <td>4</td>\n",
       "      <td>[hakim, ganteng, kim, min, kyu, naksir, choron...</td>\n",
       "      <td>0</td>\n",
       "      <td>penawaran</td>\n",
       "      <td>INDOSAT</td>\n",
       "      <td>12/10/2021 8:23</td>\n",
       "    </tr>\n",
       "    <tr>\n",
       "      <th>...</th>\n",
       "      <td>...</td>\n",
       "      <td>...</td>\n",
       "      <td>...</td>\n",
       "      <td>...</td>\n",
       "      <td>...</td>\n",
       "      <td>...</td>\n",
       "    </tr>\n",
       "    <tr>\n",
       "      <th>320</th>\n",
       "      <td>491</td>\n",
       "      <td>[bpk, fitri, ,, thr, banyak, !, siap2, weekend...</td>\n",
       "      <td>0</td>\n",
       "      <td>NaN</td>\n",
       "      <td>MATAHARI</td>\n",
       "      <td>5/7/2021 9:21</td>\n",
       "    </tr>\n",
       "    <tr>\n",
       "      <th>321</th>\n",
       "      <td>493</td>\n",
       "      <td>[murah, bgt, !, beli, berbagai, paket, 4g, men...</td>\n",
       "      <td>0</td>\n",
       "      <td>NaN</td>\n",
       "      <td>Telkomsel</td>\n",
       "      <td>5/13/2021 23:33</td>\n",
       "    </tr>\n",
       "    <tr>\n",
       "      <th>322</th>\n",
       "      <td>494</td>\n",
       "      <td>[jangan, berikan, kode, ke, siapapun, ,, terma...</td>\n",
       "      <td>0</td>\n",
       "      <td>NaN</td>\n",
       "      <td>LinkAja</td>\n",
       "      <td>5/14/2021 11:10</td>\n",
       "    </tr>\n",
       "    <tr>\n",
       "      <th>323</th>\n",
       "      <td>498</td>\n",
       "      <td>[mendapatkan, penambahan, pulsa, rp, 25000, no...</td>\n",
       "      <td>0</td>\n",
       "      <td>NaN</td>\n",
       "      <td>858</td>\n",
       "      <td>6/2/2021 9:47</td>\n",
       "    </tr>\n",
       "    <tr>\n",
       "      <th>324</th>\n",
       "      <td>499</td>\n",
       "      <td>[dapatkan, laptop, ,, smartphone, ,, emas, &amp;, ...</td>\n",
       "      <td>0</td>\n",
       "      <td>NaN</td>\n",
       "      <td>SMS BANKING</td>\n",
       "      <td>7/26/2021 12:09</td>\n",
       "    </tr>\n",
       "  </tbody>\n",
       "</table>\n",
       "<p>325 rows × 6 columns</p>\n",
       "</div>"
      ],
      "text/plain": [
       "     index                                               teks  jenis  \\\n",
       "0        0  [wow, selamat, !, ga, kuota, gratis, dr, pemer...      0   \n",
       "1        1  [10, desember, 2021, :, selamat, merayakan, ha...      0   \n",
       "2        2  [hot, promo, ,, isi, ulang, skr, :, min, 50rb,...      0   \n",
       "3        3  [hotpromo, super, deal, ,, 25rb, dpt, 12.12gb,...      0   \n",
       "4        4  [hakim, ganteng, kim, min, kyu, naksir, choron...      0   \n",
       "..     ...                                                ...    ...   \n",
       "320    491  [bpk, fitri, ,, thr, banyak, !, siap2, weekend...      0   \n",
       "321    493  [murah, bgt, !, beli, berbagai, paket, 4g, men...      0   \n",
       "322    494  [jangan, berikan, kode, ke, siapapun, ,, terma...      0   \n",
       "323    498  [mendapatkan, penambahan, pulsa, rp, 25000, no...      0   \n",
       "324    499  [dapatkan, laptop, ,, smartphone, ,, emas, &, ...      0   \n",
       "\n",
       "      kategori     pengirim             waktu  \n",
       "0        promo        myIM3  12/10/2021 22:40  \n",
       "1     operator   KOMNAS HAM  12/10/2021 19:27  \n",
       "2        promo      INDOSAT  12/10/2021 12:03  \n",
       "3        promo    HOT PROMO  12/10/2021 11:37  \n",
       "4    penawaran      INDOSAT   12/10/2021 8:23  \n",
       "..         ...          ...               ...  \n",
       "320        NaN     MATAHARI     5/7/2021 9:21  \n",
       "321        NaN    Telkomsel   5/13/2021 23:33  \n",
       "322        NaN      LinkAja   5/14/2021 11:10  \n",
       "323        NaN          858     6/2/2021 9:47  \n",
       "324        NaN  SMS BANKING   7/26/2021 12:09  \n",
       "\n",
       "[325 rows x 6 columns]"
      ]
     },
     "execution_count": 53,
     "metadata": {},
     "output_type": "execute_result"
    }
   ],
   "source": [
    "df_non_stem = ds[ ds['jenis'] != 1 ]\n",
    "df_non_stem.reset_index(inplace=True)\n",
    "df_non_stem"
   ]
  },
  {
   "attachments": {},
   "cell_type": "markdown",
   "id": "e2172bb9",
   "metadata": {},
   "source": [
    "<h4>Perhitungan RF dan TF RF</h4>"
   ]
  },
  {
   "cell_type": "code",
   "execution_count": 54,
   "id": "b2c4572a",
   "metadata": {},
   "outputs": [
    {
     "name": "stdout",
     "output_type": "stream",
     "text": [
      "[[0, 1, 0, 0, 0, 0, 0, 1, 0, 0, 0, 0, 0, 0, 0, 0, 0, 0, 0, 0, 0, 0, 0, 1, 0, 0, 0, 0, 0, 0, 0, 0, 0, 0, 0, 0, 0, 0, 0, 0, 0, 0, 0, 0, 0, 0, 0, 0, 0, 0, 0, 0, 0, 0, 0, 0, 0, 0, 0, 0, 0, 0, 0, 0, 0, 0, 0, 0, 0, 0, 0, 0, 0, 0, 0, 0, 0, 0, 0, 0, 0, 0, 0, 0, 0, 0, 0, 0, 0, 0, 0, 0, 0, 1, 1, 1, 1, 1, 1, 1, 1, 1, 1, 1, 1, 1, 1, 1, 1, 0, 0, 0, 0, 0, 0, 0, 0, 0, 0, 0, 0, 0, 0, 0, 0, 0, 0, 0, 0, 0, 0, 0, 0, 0, 0, 0, 0, 0, 0, 0, 0, 0, 0, 0, 0, 0, 0, 0, 0, 0, 0, 0, 0, 0, 0, 0, 0, 0, 0, 0, 0, 0, 0, 0, 0, 0, 0, 0, 0, 0, 0, 0, 0, 0, 0, 0, 0, 0, 0, 0, 0, 0, 0, 0, 0, 0, 0, 0, 0, 0, 0, 0, 0, 0, 0, 0, 0, 0, 0, 0, 0, 0, 0, 0, 0, 0, 0, 0, 0, 0, 0, 0, 0, 0, 0, 0, 0, 0, 0, 0, 0, 0, 0, 0, 0, 0, 0, 0, 0, 0, 0, 0, 0, 0, 0, 0, 0, 0, 0, 0, 0, 0, 0, 0, 0, 0, 0, 0, 0, 0, 0, 0, 0, 0, 0, 0, 0, 0, 0, 0, 0, 0, 0, 0, 0, 0, 0, 0, 0, 0, 0, 0, 0, 0, 0, 0, 0, 0, 0, 0, 0, 0, 0, 0, 0, 0, 0, 0, 0, 0, 0, 0, 0, 0, 0, 0, 0, 0, 0, 0, 0, 0, 0, 0, 0, 0, 0, 0, 0, 0, 0, 0, 0, 0, 0, 0, 0, 0, 0, 0, 0, 0, 0, 0, 0, 0, 0, 0, 0, 0, 0, 0, 0, 0, 0, 0, 0, 0, 0, 0, 0, 0, 0, 0, 0, 0, 0, 0, 0, 0, 0, 0, 0, 0, 0, 0, 0, 0, 0, 0, 0, 0, 0, 0, 0, 0, 0, 0, 0, 0, 0, 0, 0, 0, 0, 0, 0, 0, 0, 0, 0, 0, 0, 0, 0, 0, 0, 0, 0, 0, 0, 0, 0, 0, 0, 0, 0, 0, 0, 0, 0, 0, 0, 0, 0, 0, 0, 0, 0, 0, 0, 0, 0, 0, 0, 0, 0, 0, 0, 0, 0, 0, 0, 0, 0, 0, 0, 0, 0, 0, 0, 0, 0, 0, 0, 0, 0, 0, 0, 0, 0, 0, 0, 0, 0, 0, 0, 0, 0, 0, 0, 0, 0, 0, 0, 0, 0, 0, 0, 0, 0, 0, 0, 0, 0, 0, 0, 0, 0, 0, 0, 0, 0, 0, 0, 0, 0, 0, 0, 0, 0, 0, 0, 0, 0, 0, 0, 0, 0, 0, 0, 0, 0, 0, 0, 0, 0, 0, 0, 0, 0, 0, 0, 0, 0, 0, 0, 0, 0, 0, 0, 0, 0, 0, 0, 0, 0, 0, 0, 0, 0, 0, 0, 0, 0, 0, 0, 0, 0, 0, 0, 0, 0, 0, 0, 0, 0, 0, 0, 0, 0, 0, 0, 0, 0, 0, 0, 0, 0, 0, 0, 0, 0, 0, 0, 0, 0, 0, 0, 0, 0, 0, 0, 0, 0, 0, 0, 0, 0, 0, 0, 0, 0, 0, 0, 0, 0, 0, 0, 0, 0, 0, 0, 0, 0, 0, 0, 0, 0, 0, 0, 0, 0, 0, 0, 0, 0, 0, 0, 0, 0, 0, 0, 0, 0, 0, 0, 0, 0, 0, 0, 0, 0, 0, 0, 0, 0, 0, 0, 0, 0, 0, 0, 0, 0, 0, 0, 0, 0, 0, 0, 0, 0, 0, 0, 0, 0, 0, 0, 0, 0, 0, 0, 0, 0, 0, 0, 0, 0, 0, 0, 0, 0, 0, 0, 0, 0, 0, 0, 0, 0, 0, 0, 0, 0, 0, 0, 0, 0, 0, 0, 0, 0, 0, 0, 0, 0, 0, 0, 0, 0, 0, 0, 0, 0, 0, 0, 0, 0, 0, 0, 0, 0, 0, 0, 0, 0, 0, 0, 0, 0, 0, 0, 0, 0, 0, 0, 0, 0, 0, 0, 0, 0, 0, 0, 0, 0, 0, 0, 0, 0, 0, 0, 0, 0, 0, 0, 0, 0, 0, 0, 0, 0, 0, 0, 0, 0, 0, 0, 0, 0, 0, 0, 0, 0, 0, 0, 0, 0, 0, 0, 0, 0, 0, 0, 0, 0, 0, 0, 0, 0, 0, 0, 0, 0, 0, 0, 0, 0, 0, 0, 0, 0, 0, 0, 0, 0, 0, 0, 0, 0, 0, 0, 0, 0, 0, 0, 0, 0, 0, 0, 0, 0, 0, 0, 0, 0, 0, 0, 0, 0, 0, 0, 0, 0, 0, 0, 0, 0, 0, 0, 0, 0, 0, 0, 0, 0, 0, 0, 0, 0, 0, 0, 0, 0, 0, 0, 0, 0, 0, 0, 0, 0, 0, 0, 0, 0, 0, 0, 0, 0, 0, 0, 0, 0, 0, 0, 0, 0, 0, 0, 0, 0, 0, 0, 0, 0, 0, 0, 0, 0, 0, 0, 0, 0, 0, 0, 0, 0, 0, 0, 0, 0, 0, 0, 0, 0, 0, 0, 0, 0, 0, 0, 0, 0, 0, 0, 0, 0, 0, 0, 0, 0, 0, 0, 0, 0, 0, 0, 0, 0, 0, 0, 0, 0, 0, 0, 0, 0, 0, 0, 0, 0, 0, 0, 0, 0, 0, 0, 0, 0, 0, 0, 0, 0, 0, 0, 0, 0, 0, 0, 0, 0, 0, 0, 0, 0, 0, 0, 0, 0, 0, 0, 0, 0, 0, 0, 0, 0, 0, 0, 0, 0, 0, 0, 0, 0, 0, 0, 0, 0, 0, 0, 0, 0, 0, 0, 0, 0, 0, 0, 0, 0, 0, 0, 0, 0, 0, 0, 0, 0, 0, 0, 0, 0, 0, 0, 0, 0, 0, 0, 0, 0, 0, 0, 0, 0, 0, 0, 0, 0, 0, 0, 0, 0, 0, 0, 0, 0, 0, 0, 0, 0, 0, 0, 0, 0, 0, 0, 0, 0, 0, 0, 0, 0, 0, 0, 0, 0, 0, 0, 0, 0, 0, 0, 0, 0, 0, 0, 0, 0, 0, 0, 0, 0, 0, 0, 0, 0, 0, 0, 0, 0, 0, 0, 0, 0, 0, 0, 0, 0, 0, 0, 0, 0, 0, 0, 0, 0, 0, 0, 0, 0, 0, 0, 0, 0, 0, 0, 0, 0, 0, 0, 0, 0, 0, 0, 0, 0, 0, 0, 0, 0, 0, 0, 0, 0, 0, 0, 0, 0, 0, 0, 0, 0, 0, 0, 0, 0, 0, 0, 0, 0, 0, 0, 0, 0, 0, 0, 0, 0, 0, 0, 0, 0, 0, 0, 0, 0, 0, 0, 0, 0, 0, 0, 0, 0, 0, 0, 0, 0, 0, 0, 0, 0, 0, 0, 0, 0, 0, 0, 0, 0, 0, 0, 0, 0, 0, 0, 0, 0, 0, 0, 0, 0, 0, 0, 0, 0, 0, 0, 0, 0, 0, 0, 0, 0, 0, 0, 0, 0, 0, 0, 0, 0, 0, 0, 0, 0, 0, 0, 0, 0, 0, 0, 0, 0, 0, 0, 0, 0, 0, 0, 0, 0, 0, 0, 0, 0, 0, 0, 0, 0, 0, 0, 0, 0, 0, 0, 0, 0, 0, 0, 0, 0, 0, 0, 0, 0, 0, 0, 0, 0, 0, 0, 0, 0, 0, 0, 0, 0, 0, 0, 0, 0, 0, 0, 0, 0, 0, 0, 0, 0, 0, 0, 0, 0, 0, 0, 0, 0, 0, 0, 0, 0, 0, 0, 0, 0, 0, 0, 0, 0, 0, 0, 0, 0, 0, 0, 0, 0, 0, 0, 0, 0, 0, 0, 0, 0, 0, 0, 0, 0, 0, 0, 0, 0, 0, 0, 0, 0, 0, 0, 0, 0, 0, 0, 0, 0, 0, 0, 0, 0, 0, 0, 0, 0, 0, 0, 0, 0, 0, 0, 0, 0, 0, 0, 0, 0, 0, 0, 0, 0, 0, 0, 0, 0, 0, 0, 0, 0, 0, 0, 0, 0, 0, 0, 0, 0, 0, 0, 0, 0, 0, 0, 0, 0, 0, 0, 0, 0, 0, 0, 0, 0, 0, 0, 0, 0, 0, 0, 0, 0, 0, 0, 0, 0, 0, 0, 0, 0, 0, 0, 0, 0, 0, 0, 0, 0, 0, 0, 0, 0, 0, 0, 0, 0, 0, 0, 0, 0, 0, 0, 0, 0, 0, 0, 0, 0, 0, 0, 0, 0, 0, 0, 0, 0, 0, 0, 0, 0, 0, 0, 0, 0, 0, 0, 0, 0, 0, 0, 0, 0, 0, 0, 0, 0, 0, 0, 0, 0, 0, 0, 0, 0, 0, 0, 0, 0, 0, 0, 0, 0, 0, 0, 0, 0, 0, 0, 0, 0, 0, 0, 0, 0, 0, 0, 0, 0, 0, 0, 0, 0, 0, 0, 0, 0, 0, 0, 0, 0, 0, 0, 0, 0, 0, 0, 0, 0, 0, 0, 0, 0, 0, 0, 0, 0, 0, 0, 0, 0, 0, 0, 0, 0, 0, 0, 0, 0, 0, 0, 0, 0, 0, 0, 0, 0, 0, 0, 0, 0, 0, 0, 0, 0, 0, 0, 0, 0, 0, 0, 0, 0, 0, 0, 0, 0, 0, 0, 0, 0, 0, 0, 0, 0, 0, 0, 0, 0, 0, 0, 0, 0, 0, 0, 0, 0, 0, 0, 0, 0, 0, 0, 0, 0, 0, 0, 0, 0, 0, 0, 0, 0, 0, 0, 0, 0, 0, 0, 0, 0, 0, 0, 0, 0, 0, 0, 0, 0, 0, 0, 0, 0, 0, 0, 0, 0, 0, 0, 0, 0, 0, 0, 0, 0, 0, 0, 0, 0, 0, 0, 0, 0, 0, 0, 0, 0, 0, 0, 0, 0, 0, 0, 0, 0, 0, 0, 0, 0, 0, 0, 0, 0, 0, 0, 0, 0, 0, 0, 0, 0, 0, 0, 0, 0, 0, 0, 0, 0, 0, 0, 0, 0, 0, 0, 0, 0, 0, 0, 0, 0, 0, 0, 0, 0, 0, 0, 0, 0, 0, 0, 0, 0, 0, 0, 0, 0, 0, 0, 0, 0, 0, 0, 0, 0, 0, 0, 0, 0, 0, 0, 0, 0, 0, 0, 0, 0, 0, 0, 0, 0, 0, 0, 0, 0, 0, 0, 0, 0, 0, 0, 0, 0, 0, 0, 0, 0, 0, 0, 0, 0, 0, 0, 0, 0, 0, 0, 0, 0, 0, 0, 0, 0, 0, 0, 0, 0, 0, 0, 0, 0, 0, 0, 0, 0, 0, 0, 0, 0, 0, 0, 0, 0, 0, 0, 0, 0, 0, 0, 0, 0, 0, 0, 0, 0, 0, 0, 0, 0, 0, 0, 0, 0, 0, 0, 0, 0, 0, 0, 0, 0, 0, 0, 0, 0, 0, 0, 0, 0, 0, 0, 0, 0, 0, 0, 0, 0, 0, 0, 0, 0, 0, 0, 0, 0, 0, 0, 0, 0, 0, 0, 0, 0, 0, 0, 0, 0, 0, 0, 0, 0, 0, 0, 0, 0, 0, 0, 0, 0, 0, 0, 0, 0, 0, 0, 0, 0, 0, 0, 0, 0, 0, 0, 0, 0, 0, 0, 0, 0, 0, 0, 0, 0, 0, 0, 0, 0, 0, 0, 0, 0, 0, 0, 0, 0, 0, 0, 0, 0, 0, 0, 0, 0, 0, 0, 0, 0, 0, 0, 0, 0, 0, 0, 0, 0, 0, 0, 0, 0, 0, 0, 0, 0, 0, 0, 0, 0, 0, 0, 0, 0, 0, 0, 0, 0, 0, 0, 0, 0, 0, 0, 0, 0, 0, 0, 0, 0, 0, 0, 0, 0, 0, 0, 0, 0, 0, 0, 0, 0, 0, 0, 0, 0, 0, 0, 0, 0, 0, 0, 0, 0, 0, 0, 0, 0, 0, 0, 0, 0, 0, 0, 0, 0, 0, 0, 0, 0, 0, 0, 0, 0, 0, 0, 0, 0, 0, 0, 0, 0, 0, 0, 0, 0, 0, 0, 0, 0, 0, 0, 0, 0, 0, 0, 0, 0, 0, 0, 0, 0, 0, 0, 0, 0, 0, 0, 0, 0, 0, 0, 0, 0, 0, 0, 0, 0, 0, 0, 0, 0, 0, 0, 0, 0, 0, 0, 0, 0, 0, 0, 0, 0, 0, 0, 0, 0, 0, 0, 0, 0, 0, 0, 0, 0, 0, 0, 0, 0, 0, 0, 0, 0, 0, 0, 0, 0, 0, 0, 0, 0, 0, 0, 0, 0, 0, 0, 0, 0, 0, 0, 0, 0, 0, 0, 0, 0, 0, 0, 0, 0, 0, 0, 0, 0, 0, 0, 0, 0, 0, 0, 0, 0, 0, 0, 0, 0, 0, 0, 0, 0, 0, 0, 0, 0, 0, 0, 0, 0, 0, 0, 0, 0, 0, 0, 0, 0, 0, 0, 0, 0, 0, 0, 0, 0, 0, 0, 0, 0, 0, 0, 0, 0, 0, 0, 0, 0, 0, 0, 0, 0, 0, 0, 0, 0, 0, 0, 0, 0, 0, 0, 0, 0, 0, 0, 0, 0, 0, 0, 0, 0, 0, 0, 0, 0, 0, 0, 0, 0, 0, 0, 0, 0, 0, 0, 0, 0, 0, 0, 0, 0, 0, 0, 0, 0, 0, 0, 0, 0, 0, 0, 0, 0, 0, 0, 0, 0, 0, 0, 0, 0, 0, 0, 0, 0, 0, 0, 0, 0, 0, 0, 0, 0, 0, 0, 0, 0, 0, 0, 0, 0, 0, 0, 0, 0, 0, 0, 0, 0, 0, 0, 0, 0, 0, 0, 0, 0, 0, 0, 0, 0, 0, 0, 0, 0, 0, 0, 0, 0, 0, 0, 0, 0, 0, 0, 0, 0, 0, 0, 0, 0, 0, 0, 0, 0, 0, 0, 0, 0, 0, 0, 0, 0, 0, 0, 0, 0, 0, 0, 0, 0, 0, 0, 0, 0, 0, 0, 0, 0, 0, 0, 0, 0, 0, 0, 0, 0, 0, 0, 0, 0, 0, 0, 0, 0, 0, 0, 0, 0, 0, 0, 0, 0, 0, 0, 0, 0, 0, 0, 0, 0, 0, 0, 0, 0, 0, 0, 0, 0, 0, 0, 0, 0, 0, 0, 0, 0, 0, 0, 0, 0, 0, 0, 0, 0, 0, 0, 0, 0, 0, 0, 0, 0, 0, 0, 0, 0, 0, 0, 0, 0, 0, 0, 0, 0, 0, 0, 0, 0, 0, 0, 0, 0, 0, 0, 0, 0, 0, 0, 0, 0, 0, 0, 0, 0, 0, 0, 0, 0, 0, 0, 0, 0, 0, 0, 0, 0, 0, 0, 0, 0, 0, 0, 0, 0, 0, 0, 0, 0, 0, 0, 0, 0, 0, 0, 0, 0, 0, 0, 0, 0, 0, 0, 0, 0, 0, 0, 0, 0, 0, 0, 0, 0, 0, 0, 0, 0, 0, 0, 0, 0, 0, 0, 0, 0, 0, 0, 0, 0, 0, 0, 0, 0, 0, 0, 0, 0, 0, 0, 0, 0, 0, 0, 0, 0, 0, 0, 0, 0, 0, 0, 0, 0, 0, 0, 0, 0, 0, 0, 0, 0, 0, 0, 0, 0, 0, 0, 0, 0, 0, 0, 0, 0, 0, 0, 0, 0, 0, 0, 0, 0, 0, 0, 0, 0, 0, 0, 0, 0, 0, 0, 0, 0, 0, 0, 0, 0, 0, 0, 0, 0, 0, 0, 0, 0, 0, 0, 0, 0, 0, 0, 0, 0, 0, 0, 0, 0, 0, 0, 0, 0, 0, 0, 0, 0, 0, 0, 0, 0, 0, 0, 0, 0, 0, 0, 0, 0, 0, 0, 0, 0, 0, 0, 0, 0, 0, 0, 0, 0, 0, 0, 0, 0, 0, 0, 0, 0, 0, 0, 0, 0, 0, 0, 0, 0, 0, 0, 0, 0, 0, 0, 0, 0, 0, 0, 0, 0, 0, 0, 0, 0, 0, 0, 0, 0, 0, 0, 0, 0, 0, 0, 0, 0, 0, 0, 0, 0, 0, 0, 0, 0, 0, 0, 0, 0, 0, 0, 0, 0, 0, 0, 0, 0, 0, 0, 0, 0, 0, 0, 0, 0, 0, 0, 0, 0, 0, 0, 0, 0, 0, 0, 0, 0, 0, 0, 0, 0, 0, 0, 0, 0, 0, 0, 0, 0, 0, 0, 0, 0, 0, 0, 0, 0, 0, 0, 0, 0, 0, 0, 0, 0, 0, 0, 0, 0, 0, 0, 0, 0, 0, 0, 0, 0, 0, 0, 0, 0, 0, 0, 0, 0, 0, 0, 0, 0, 0, 0, 0, 0, 0, 0, 0, 0, 0, 0, 0, 0, 0, 0, 0, 0, 0, 0, 0, 0, 0, 0, 0, 0, 0, 0, 0, 0, 0, 0, 0, 0, 0, 0, 0, 0, 0, 0, 0, 0, 0, 0, 0, 0, 0, 0, 0, 0, 0, 0, 0, 0, 0, 0, 0, 0, 0, 0, 0, 0, 0, 0, 0, 0, 0, 0, 0, 0, 0, 0, 0, 0, 0, 0, 0, 0, 0, 0, 0, 0, 0, 0, 0, 0, 0, 0, 0, 0, 0, 0, 0, 0, 0, 0, 0, 0, 0, 0, 1], [0, 1, 0, 0, 0, 0, 0, 0, 0, 0, 0, 0, 0, 0, 0, 0, 0, 0, 0, 0, 0, 0, 0, 2, 0, 0, 0, 0, 0, 0, 0, 0, 0, 0, 0, 0, 0, 0, 0, 0, 0, 0, 0, 0, 0, 0, 0, 0, 0, 0, 0, 0, 0, 0, 0, 0, 0, 0, 0, 0, 0, 0, 0, 0, 0, 0, 1, 0, 0, 0, 0, 0, 0, 0, 0, 0, 0, 0, 0, 0, 0, 0, 0, 0, 0, 0, 0, 0, 0, 0, 0, 1, 0, 0, 0, 1, 0, 0, 0, 0, 0, 1, 0, 1, 0, 1, 0, 0, 0, 0, 0, 0, 0, 0, 0, 0, 0, 0, 0, 0, 0, 0, 0, 0, 0, 0, 0, 0, 0, 0, 0, 0, 0, 0, 0, 0, 0, 0, 0, 0, 0, 0, 0, 0, 0, 0, 0, 0, 0, 0, 0, 0, 0, 0, 0, 0, 0, 0, 0, 0, 0, 0, 0, 0, 0, 0, 0, 0, 0, 0, 0, 0, 0, 0, 0, 0, 0, 0, 0, 0, 0, 0, 0, 0, 0, 0, 0, 0, 0, 0, 0, 0, 0, 0, 0, 0, 0, 0, 0, 0, 0, 0, 0, 0, 0, 0, 0, 0, 0, 1, 1, 1, 1, 1, 1, 1, 1, 0, 0, 0, 0, 0, 0, 0, 0, 0, 0, 0, 0, 0, 0, 0, 0, 0, 0, 0, 0, 0, 0, 0, 0, 0, 0, 0, 0, 0, 0, 0, 0, 0, 0, 0, 0, 0, 0, 0, 0, 0, 0, 0, 0, 0, 0, 0, 0, 0, 0, 0, 0, 0, 0, 0, 0, 0, 0, 0, 0, 0, 0, 0, 0, 0, 0, 0, 0, 0, 0, 0, 0, 0, 0, 0, 0, 0, 0, 0, 0, 0, 0, 0, 0, 0, 0, 0, 0, 0, 0, 0, 0, 0, 0, 0, 0, 0, 0, 0, 0, 0, 0, 0, 0, 0, 0, 0, 0, 0, 0, 0, 0, 0, 0, 0, 0, 0, 0, 0, 0, 0, 0, 0, 0, 0, 0, 0, 0, 0, 0, 0, 0, 0, 0, 0, 0, 0, 0, 0, 0, 0, 0, 0, 0, 0, 0, 0, 0, 0, 0, 0, 0, 0, 0, 0, 0, 0, 0, 0, 0, 0, 0, 0, 0, 0, 0, 0, 0, 0, 0, 0, 0, 0, 0, 0, 0, 0, 0, 0, 0, 0, 0, 0, 0, 0, 0, 0, 0, 0, 0, 0, 0, 0, 0, 0, 0, 0, 0, 0, 0, 0, 0, 0, 0, 0, 0, 0, 0, 0, 0, 0, 0, 0, 0, 0, 0, 0, 0, 0, 0, 0, 0, 0, 0, 0, 0, 0, 0, 0, 0, 0, 0, 0, 0, 0, 0, 0, 0, 0, 0, 0, 0, 0, 0, 0, 0, 0, 0, 0, 0, 0, 0, 0, 0, 0, 0, 0, 0, 0, 0, 0, 0, 0, 0, 0, 0, 0, 0, 0, 0, 0, 0, 0, 0, 0, 0, 0, 0, 0, 0, 0, 0, 0, 0, 0, 0, 0, 0, 0, 0, 0, 0, 0, 0, 0, 0, 0, 0, 0, 0, 0, 0, 0, 0, 0, 0, 0, 0, 0, 0, 0, 0, 0, 0, 0, 0, 0, 0, 0, 0, 0, 0, 0, 0, 0, 0, 0, 0, 0, 0, 0, 0, 0, 0, 0, 0, 0, 0, 0, 0, 0, 0, 0, 0, 0, 0, 0, 0, 0, 0, 0, 0, 0, 0, 0, 0, 0, 0, 0, 0, 0, 0, 0, 0, 0, 0, 0, 0, 0, 0, 0, 0, 0, 0, 0, 0, 0, 0, 0, 0, 0, 0, 0, 0, 0, 0, 0, 0, 0, 0, 0, 0, 0, 0, 0, 0, 0, 0, 0, 0, 0, 0, 0, 0, 0, 0, 0, 0, 0, 0, 0, 0, 0, 0, 0, 0, 0, 0, 0, 0, 0, 0, 0, 0, 0, 0, 0, 0, 0, 0, 0, 0, 0, 0, 0, 0, 0, 0, 0, 0, 0, 0, 0, 0, 0, 0, 0, 0, 0, 0, 0, 0, 0, 0, 0, 0, 0, 0, 0, 0, 0, 0, 0, 0, 0, 0, 0, 0, 0, 0, 0, 0, 0, 0, 0, 0, 0, 0, 0, 0, 0, 0, 0, 0, 0, 0, 0, 0, 0, 0, 0, 0, 0, 0, 0, 0, 0, 0, 0, 0, 0, 0, 0, 0, 0, 0, 0, 0, 0, 0, 0, 0, 0, 0, 0, 0, 0, 0, 0, 0, 0, 0, 0, 0, 0, 0, 0, 0, 0, 0, 0, 0, 0, 0, 0, 0, 0, 0, 0, 0, 0, 0, 0, 0, 0, 0, 0, 0, 0, 0, 0, 0, 0, 0, 0, 0, 0, 0, 0, 0, 0, 0, 0, 0, 0, 0, 0, 0, 0, 0, 0, 0, 0, 0, 0, 0, 0, 0, 0, 0, 0, 0, 0, 0, 0, 0, 0, 0, 0, 0, 0, 0, 0, 0, 0, 0, 0, 0, 0, 0, 0, 0, 0, 0, 0, 0, 0, 0, 0, 0, 0, 0, 0, 0, 0, 0, 0, 0, 0, 0, 0, 0, 0, 0, 0, 0, 0, 0, 0, 0, 0, 0, 0, 0, 0, 0, 0, 0, 0, 0, 0, 0, 0, 0, 0, 0, 0, 0, 0, 0, 0, 0, 0, 0, 0, 0, 0, 0, 0, 0, 0, 0, 0, 0, 0, 0, 0, 0, 0, 0, 0, 0, 0, 0, 0, 0, 0, 0, 0, 0, 0, 0, 0, 0, 0, 0, 0, 0, 0, 0, 0, 0, 0, 0, 0, 0, 0, 0, 0, 0, 0, 0, 0, 0, 0, 0, 0, 0, 0, 0, 0, 0, 0, 0, 0, 0, 0, 0, 0, 0, 0, 0, 0, 0, 0, 0, 0, 0, 0, 0, 0, 0, 0, 0, 0, 0, 0, 0, 0, 0, 0, 0, 0, 0, 0, 0, 0, 0, 0, 0, 0, 0, 0, 0, 0, 0, 0, 0, 0, 0, 0, 0, 0, 0, 0, 0, 0, 0, 0, 0, 0, 0, 0, 0, 0, 0, 0, 0, 0, 0, 0, 0, 0, 0, 0, 0, 0, 0, 0, 0, 0, 0, 0, 0, 0, 0, 0, 0, 0, 0, 0, 0, 0, 0, 0, 0, 0, 0, 0, 0, 0, 0, 0, 0, 0, 0, 0, 0, 0, 0, 0, 0, 0, 0, 0, 0, 0, 0, 0, 0, 0, 0, 0, 0, 0, 0, 0, 0, 0, 0, 0, 0, 0, 0, 0, 0, 0, 0, 0, 0, 0, 0, 0, 0, 0, 0, 0, 0, 0, 0, 0, 0, 0, 0, 0, 0, 0, 0, 0, 0, 0, 0, 0, 0, 0, 0, 0, 0, 0, 0, 0, 0, 0, 0, 0, 0, 0, 0, 0, 0, 0, 0, 0, 0, 0, 0, 0, 0, 0, 0, 0, 0, 0, 0, 0, 0, 0, 0, 0, 0, 0, 0, 0, 0, 0, 0, 0, 0, 0, 0, 0, 0, 0, 0, 0, 0, 0, 0, 0, 0, 0, 0, 0, 0, 0, 0, 0, 0, 0, 0, 0, 0, 0, 0, 0, 0, 0, 0, 0, 0, 0, 0, 0, 0, 0, 0, 0, 0, 0, 0, 0, 0, 0, 0, 0, 0, 0, 0, 0, 0, 0, 0, 0, 0, 0, 0, 0, 0, 0, 0, 0, 0, 0, 0, 0, 0, 0, 0, 0, 0, 0, 0, 0, 0, 0, 0, 0, 0, 0, 0, 0, 0, 0, 0, 0, 0, 0, 0, 0, 0, 0, 0, 0, 0, 0, 0, 0, 0, 0, 0, 0, 0, 0, 0, 0, 0, 0, 0, 0, 0, 0, 0, 0, 0, 0, 0, 0, 0, 0, 0, 0, 0, 0, 0, 0, 0, 0, 0, 0, 0, 0, 0, 0, 0, 0, 0, 0, 0, 0, 0, 0, 0, 0, 0, 0, 0, 0, 0, 0, 0, 0, 0, 0, 0, 0, 0, 0, 0, 0, 0, 0, 0, 0, 0, 0, 0, 0, 0, 0, 0, 0, 0, 0, 0, 0, 0, 0, 0, 0, 0, 0, 0, 0, 0, 0, 0, 0, 0, 0, 0, 0, 0, 0, 0, 0, 0, 0, 0, 0, 0, 0, 0, 0, 0, 0, 0, 0, 0, 0, 0, 0, 0, 0, 0, 0, 0, 0, 0, 0, 0, 0, 0, 0, 0, 0, 0, 0, 0, 0, 0, 0, 0, 0, 0, 0, 0, 0, 0, 0, 0, 0, 0, 0, 0, 0, 0, 0, 0, 0, 0, 0, 0, 0, 0, 0, 0, 0, 0, 0, 0, 0, 0, 0, 0, 0, 0, 0, 0, 0, 0, 0, 0, 0, 0, 0, 0, 0, 0, 0, 0, 0, 0, 0, 0, 0, 0, 0, 0, 0, 0, 0, 0, 0, 0, 0, 0, 0, 0, 0, 0, 0, 0, 0, 0, 0, 0, 0, 0, 0, 0, 0, 0, 0, 0, 0, 0, 0, 0, 0, 0, 0, 0, 0, 0, 0, 0, 0, 0, 0, 0, 0, 0, 0, 0, 0, 0, 0, 0, 0, 0, 0, 0, 0, 0, 0, 0, 0, 0, 0, 0, 0, 0, 0, 0, 0, 0, 0, 0, 0, 0, 0, 0, 0, 0, 0, 0, 0, 0, 0, 0, 0, 0, 0, 0, 0, 0, 0, 0, 0, 0, 0, 0, 0, 0, 0, 0, 0, 0, 0, 0, 0, 0, 0, 0, 0, 0, 0, 0, 0, 0, 0, 0, 0, 0, 0, 0, 0, 0, 0, 0, 0, 0, 0, 0, 0, 0, 0, 0, 0, 0, 0, 0, 0, 0, 0, 0, 0, 0, 0, 0, 0, 0, 0, 0, 0, 0, 0, 0, 0, 0, 0, 0, 0, 0, 0, 0, 0, 0, 0, 0, 0, 0, 0, 0, 0, 0, 0, 0, 0, 0, 0, 0, 0, 0, 0, 0, 0, 0, 0, 0, 0, 0, 0, 0, 0, 0, 0, 0, 0, 0, 0, 0, 0, 0, 0, 0, 0, 0, 0, 0, 0, 0, 0, 0, 0, 0, 0, 0, 0, 0, 0, 0, 0, 0, 0, 0, 0, 0, 0, 0, 0, 0, 0, 0, 0, 0, 0, 0, 0, 0, 0, 0, 0, 0, 0, 0, 0, 0, 0, 0, 0, 0, 0, 0, 0, 0, 0, 0, 0, 0, 0, 0, 0, 0, 0, 0, 0, 0, 0, 0, 0, 0, 0, 0, 0, 0, 0, 0, 0, 0, 0, 0, 0, 0, 0, 0, 0, 0, 0, 0, 0, 0, 0, 0, 0, 0, 0, 0, 0, 0, 0, 0, 0, 0, 0, 0, 0, 0, 0, 0, 0, 0, 0, 0, 0, 0, 0, 0, 0, 0, 0, 0, 0, 0, 0, 0, 0, 0, 0, 0, 0, 0, 0, 0, 0, 0, 0, 0, 0, 0, 0, 0, 0, 0, 0, 0, 0, 0, 0, 0, 0, 0, 0, 0, 0, 0, 0, 0, 0, 0, 0, 0, 0, 0, 0, 0, 0, 0, 0, 0, 0, 0, 0, 0, 0, 0, 0, 0, 0, 0, 0, 0, 0, 0, 0, 0, 0, 0, 0, 0, 0, 0, 0, 0, 0, 0, 0, 0, 0, 0, 0, 0, 0, 0, 0, 0, 0, 0, 0, 0, 0, 0, 0, 0, 0, 0, 0, 0, 0, 0, 0, 0, 0, 0, 0, 0, 0, 0, 0, 0, 0, 0, 0, 0, 0, 0, 0, 0, 0, 0, 0, 0, 0, 0, 0, 0, 0, 0, 0, 0, 0, 0, 0, 0, 0, 0, 0, 0, 0, 0, 0, 0, 0, 0, 0, 0, 0, 0, 0, 0, 0, 0, 0, 0, 0, 0, 0, 0, 0, 0, 0, 0, 0, 0, 0, 0, 0, 0, 0, 0, 0, 0, 0, 0, 0, 0, 0, 0, 0, 0, 0, 0, 0, 0, 0, 0, 0, 0, 0, 0, 0, 0, 0, 0, 0, 0, 0, 0, 0, 0, 0, 0, 0, 0, 0, 0, 0, 0, 0, 0, 0, 0, 0, 0, 0, 0, 0, 0, 0, 0, 0, 0, 0, 0, 0, 0, 0, 0, 0, 0, 0, 0, 0, 0, 0, 0, 0, 0, 0, 0, 0, 0, 0, 0, 0, 0, 0, 0, 0, 0, 0, 0, 0, 0, 0, 0, 0, 0, 0, 0, 0, 0, 0, 0, 0, 0, 0, 0, 0, 0, 0, 0, 0, 0, 0, 0, 0, 0, 0, 0, 0, 0, 0, 0, 0, 0, 0, 0, 0, 0, 0, 0, 0, 0, 0, 0, 0, 0, 0, 0, 0, 0, 0, 0, 0, 0, 0, 0, 0, 0, 0, 0, 0, 0, 0, 0, 0, 0, 0, 0, 0, 0, 0, 0, 0, 0, 0, 0, 0, 0, 0, 0, 0, 0, 0, 0, 0, 0, 0, 0, 0, 0, 0, 0, 0, 0, 0, 0, 0, 0, 0, 0, 0, 0, 0, 0, 0, 0, 0, 0, 0, 0, 0, 0, 0, 0, 0, 0, 0, 0, 0, 0, 0, 0, 0, 0, 0, 0, 0, 0, 0, 0, 0, 0, 0, 0, 0, 0, 0, 0, 0, 0, 0, 0, 0, 0, 0, 0, 0, 0, 0, 0, 0, 0, 0, 0, 0, 0, 0, 0, 0, 0, 0, 0, 0, 0, 0, 0, 0, 0, 0, 0, 0, 0, 0, 0, 0, 0, 0, 0, 0, 0, 0, 0, 0, 0, 0, 0, 0, 0, 0, 0, 0, 0, 0, 0, 0, 0, 0, 0, 0, 0, 0, 0, 0, 0, 0, 0, 0, 0, 0, 0, 0, 0, 0, 0, 0, 0, 0, 0, 0, 0, 0, 0, 0, 0, 0, 0, 0, 0, 0, 0, 0, 0, 0, 0, 0, 0, 0, 0, 0, 0, 0, 0, 0, 0, 0, 0, 0, 0, 0, 0, 0, 0, 0, 0, 0, 0, 0, 0, 0, 0, 0, 0, 0, 0, 0, 0, 0, 0, 0, 0, 0, 0, 0, 0, 0, 0, 0, 0, 0, 0, 0, 0, 0, 0, 0, 0, 0, 0, 0, 0, 0, 0, 0, 0, 0, 0, 0, 0, 0, 0, 0, 0, 0, 0, 0, 0, 0, 0, 0, 0, 0, 0, 0, 0, 0, 0, 0, 0, 0, 0, 0, 0, 0, 0, 0, 0, 0, 0, 0, 0, 0, 0, 0, 0, 0, 0, 0, 0, 0, 0, 0, 0, 0, 0, 0, 0, 0, 0, 0, 0, 0, 0, 0, 0, 0, 0, 0, 0, 0, 0, 0, 0, 0, 0, 0, 0, 0, 0, 0, 0, 0, 0, 0, 0, 0, 0, 0, 0, 0, 0, 0, 0, 0, 0, 0, 0, 0, 0, 0, 0, 0, 0, 0, 0, 0, 0, 0, 0, 0, 0, 0, 0, 0, 0, 0, 0, 0, 0, 0, 0, 0, 0, 0, 0, 0, 0, 0, 0, 0, 0, 0, 0, 0, 0, 0, 0, 0, 0, 0, 0, 0, 0, 0, 0, 0, 0, 0, 0, 0, 0, 0, 0, 0, 0, 0, 0, 0, 0, 0, 0, 0, 0, 0, 0, 0, 0, 0, 0, 0, 0, 0, 0, 0, 0, 0, 0, 0, 0, 0, 0, 0, 0, 0, 0, 0, 0, 0, 0, 0, 0, 0, 0, 0, 0, 0, 0, 0, 0, 0, 0, 0, 0, 0, 0, 0, 0, 0, 0, 0, 0, 0, 0, 0, 0, 0, 0, 0, 0, 0, 0, 0, 0, 0, 0, 0, 0, 0, 0, 0, 0, 0, 0, 0, 0, 0, 0, 0, 0, 0, 0, 0, 0, 0, 0, 0, 0, 0, 0, 0, 0, 0, 0, 0, 0, 0, 0, 0, 0, 0, 0, 0, 0, 0, 0, 0, 0, 0, 0, 0, 0, 0, 0, 0, 0, 0, 0, 0, 0, 0, 0, 0, 0, 0, 0, 0, 0, 0, 0, 0, 0, 0, 0, 0, 0, 0, 0, 0, 0, 0, 0, 0, 0, 0, 0, 0, 0, 0, 0, 0, 0, 0, 0, 0, 0, 0, 0, 0, 0, 0, 0, 0, 0, 0, 0, 0, 0, 0, 0, 0, 0, 0, 0, 0, 0, 0, 0, 0, 0, 0, 0, 0, 0, 0, 0, 0, 0, 0, 0, 0, 0, 0, 0, 0, 0, 0, 0, 0, 0, 0, 0, 0, 0, 0, 0, 0, 0, 0, 0, 0, 0, 0, 0, 0, 0, 0, 0, 0, 0, 0, 0, 0, 0, 0, 0, 0, 0, 0, 0, 0, 0, 0, 0, 0, 0, 0, 0, 0, 0, 0, 0, 0, 0, 0, 0, 0, 0, 0, 0, 0, 0, 0, 0, 0, 0, 0, 0, 0, 0, 0, 0, 0, 0, 0, 0, 0, 0, 0, 0, 0, 0, 0, 0, 0, 0, 0, 0, 0, 0, 0, 0, 0, 0, 0, 0, 0, 0, 0, 0, 0, 0, 0, 0, 0, 0, 0, 0, 0, 0, 0, 0, 0, 0, 0, 0, 0, 0, 0, 0, 0, 0, 0, 0, 0, 0, 0, 0, 0, 0, 0, 0, 0, 0, 0, 0, 0, 0, 0, 0, 0, 0, 0, 0, 0, 0, 0, 0, 0, 0, 0, 0, 0, 0, 0, 0, 0, 0, 0, 0, 0, 0, 0, 0, 1]]\n"
     ]
    }
   ],
   "source": [
    "# hitung nilai tf di kategori spam\n",
    "tf_spamrf_stem = []\n",
    "countTFCategory(df_spam_stem, term_stem, df_spam_stem['teks'], tf_spamrf_stem)\n",
    "print(tf_spamrf_stem[:2])"
   ]
  },
  {
   "cell_type": "code",
   "execution_count": 55,
   "id": "6b5e73be",
   "metadata": {},
   "outputs": [
    {
     "name": "stdout",
     "output_type": "stream",
     "text": [
      "[[1, 1, 2, 1, 1, 2, 1, 1, 1, 2, 1, 1, 1, 1, 1, 1, 1, 1, 1, 1, 0, 0, 0, 0, 0, 0, 0, 0, 0, 0, 0, 0, 0, 0, 0, 0, 0, 0, 0, 0, 0, 0, 0, 0, 0, 0, 0, 0, 0, 0, 0, 0, 0, 0, 0, 0, 0, 0, 0, 0, 0, 0, 0, 0, 0, 0, 0, 0, 0, 0, 0, 0, 0, 0, 0, 0, 0, 0, 0, 0, 0, 0, 0, 0, 0, 0, 0, 0, 0, 0, 0, 0, 0, 0, 0, 0, 0, 0, 0, 0, 0, 0, 0, 0, 0, 0, 0, 0, 0, 0, 0, 0, 0, 0, 0, 0, 0, 0, 0, 0, 0, 0, 0, 0, 0, 0, 0, 0, 0, 0, 0, 0, 0, 0, 0, 0, 0, 0, 0, 0, 0, 0, 0, 0, 0, 0, 0, 0, 0, 0, 0, 0, 0, 0, 0, 0, 0, 0, 0, 0, 0, 0, 0, 0, 0, 0, 0, 0, 0, 0, 0, 0, 0, 0, 0, 0, 0, 0, 0, 0, 0, 0, 0, 0, 0, 0, 0, 0, 0, 0, 0, 0, 0, 0, 0, 0, 0, 0, 0, 0, 0, 0, 0, 0, 0, 0, 0, 0, 0, 0, 0, 0, 0, 0, 0, 0, 0, 0, 0, 0, 0, 0, 0, 0, 0, 0, 0, 0, 0, 0, 0, 0, 0, 0, 0, 0, 0, 0, 0, 0, 0, 0, 0, 0, 0, 0, 0, 0, 0, 0, 0, 0, 0, 0, 0, 0, 0, 0, 0, 0, 0, 0, 0, 0, 0, 0, 0, 0, 0, 0, 0, 0, 0, 0, 0, 0, 0, 0, 0, 0, 0, 0, 0, 0, 0, 0, 0, 0, 0, 0, 0, 0, 0, 0, 0, 0, 0, 0, 0, 0, 0, 0, 0, 0, 0, 0, 0, 0, 0, 0, 0, 0, 0, 0, 0, 0, 0, 0, 0, 0, 0, 0, 0, 0, 0, 0, 0, 0, 0, 0, 0, 0, 0, 0, 0, 0, 0, 0, 0, 0, 0, 0, 0, 0, 0, 0, 0, 0, 0, 0, 0, 0, 0, 0, 0, 0, 0, 0, 0, 0, 0, 0, 0, 0, 0, 0, 0, 0, 0, 0, 0, 0, 0, 0, 0, 0, 0, 0, 0, 0, 0, 0, 0, 0, 0, 0, 0, 0, 0, 0, 0, 0, 0, 0, 0, 0, 0, 0, 0, 0, 0, 0, 0, 0, 0, 0, 0, 0, 0, 0, 0, 0, 0, 0, 0, 0, 0, 0, 0, 0, 0, 0, 0, 0, 0, 0, 0, 0, 0, 0, 0, 0, 0, 0, 0, 0, 0, 0, 0, 0, 0, 0, 0, 0, 0, 0, 0, 0, 0, 0, 0, 0, 0, 0, 0, 0, 0, 0, 0, 0, 0, 0, 0, 0, 0, 0, 0, 0, 0, 0, 0, 0, 0, 0, 0, 0, 0, 0, 0, 0, 0, 0, 0, 0, 0, 0, 0, 0, 0, 0, 0, 0, 0, 0, 0, 0, 0, 0, 0, 0, 0, 0, 0, 0, 0, 0, 0, 0, 0, 0, 0, 0, 0, 0, 0, 0, 0, 0, 0, 0, 0, 0, 0, 0, 0, 0, 0, 0, 0, 0, 0, 0, 0, 0, 0, 0, 0, 0, 0, 0, 0, 0, 0, 0, 0, 0, 0, 0, 0, 0, 0, 0, 0, 0, 0, 0, 0, 0, 0, 0, 0, 0, 0, 0, 0, 0, 0, 0, 0, 0, 0, 0, 0, 0, 0, 0, 0, 0, 0, 0, 0, 0, 0, 0, 0, 0, 0, 0, 0, 0, 0, 0, 0, 0, 0, 0, 0, 0, 0, 0, 0, 0, 0, 0, 0, 0, 0, 0, 0, 0, 0, 0, 0, 0, 0, 0, 0, 0, 0, 0, 0, 0, 0, 0, 0, 0, 0, 0, 0, 0, 0, 0, 0, 0, 0, 0, 0, 0, 0, 0, 0, 0, 0, 0, 0, 0, 0, 0, 0, 0, 0, 0, 0, 0, 0, 0, 0, 0, 0, 0, 0, 0, 0, 0, 0, 0, 0, 0, 0, 0, 0, 0, 0, 0, 0, 0, 0, 0, 0, 0, 0, 0, 0, 0, 0, 0, 0, 0, 0, 0, 0, 0, 0, 0, 0, 0, 0, 0, 0, 0, 0, 0, 0, 0, 0, 0, 0, 0, 0, 0, 0, 0, 0, 0, 0, 0, 0, 0, 0, 0, 0, 0, 0, 0, 0, 0, 0, 0, 0, 0, 0, 0, 0, 0, 0, 0, 0, 0, 0, 0, 0, 0, 0, 0, 0, 0, 0, 0, 0, 0, 0, 0, 0, 0, 0, 0, 0, 0, 0, 0, 0, 0, 0, 0, 0, 0, 0, 0, 0, 0, 0, 0, 0, 0, 0, 0, 0, 0, 0, 0, 0, 0, 0, 0, 0, 0, 0, 0, 0, 0, 0, 0, 0, 0, 0, 0, 0, 0, 0, 0, 0, 0, 0, 0, 0, 0, 0, 0, 0, 0, 0, 0, 0, 0, 0, 0, 0, 0, 0, 0, 0, 0, 0, 0, 0, 0, 0, 0, 0, 0, 0, 0, 0, 0, 0, 0, 0, 0, 0, 0, 0, 0, 0, 0, 0, 0, 0, 0, 0, 0, 0, 0, 0, 0, 0, 0, 0, 0, 0, 0, 0, 0, 0, 0, 0, 0, 0, 0, 0, 0, 0, 0, 0, 0, 0, 0, 0, 0, 0, 0, 0, 0, 0, 0, 0, 0, 0, 0, 0, 0, 0, 0, 0, 0, 0, 0, 0, 0, 0, 0, 0, 0, 0, 0, 0, 0, 0, 0, 0, 0, 0, 0, 0, 0, 0, 0, 0, 0, 0, 0, 0, 0, 0, 0, 0, 0, 0, 0, 0, 0, 0, 0, 0, 0, 0, 0, 0, 0, 0, 0, 0, 0, 0, 0, 0, 0, 0, 0, 0, 0, 0, 0, 0, 0, 0, 0, 0, 0, 0, 0, 0, 0, 0, 0, 0, 0, 0, 0, 0, 0, 0, 0, 0, 0, 0, 0, 0, 0, 0, 0, 0, 0, 0, 0, 0, 0, 0, 0, 0, 0, 0, 0, 0, 0, 0, 0, 0, 0, 0, 0, 0, 0, 0, 0, 0, 0, 0, 0, 0, 0, 0, 0, 0, 0, 0, 0, 0, 0, 0, 0, 0, 0, 0, 0, 0, 0, 0, 0, 0, 0, 0, 0, 0, 0, 0, 0, 0, 0, 0, 0, 0, 0, 0, 0, 0, 0, 0, 0, 0, 0, 0, 0, 0, 0, 0, 0, 0, 0, 0, 0, 0, 0, 0, 0, 0, 0, 0, 0, 0, 0, 0, 0, 0, 0, 0, 0, 0, 0, 0, 0, 0, 0, 0, 0, 0, 0, 0, 0, 0, 0, 0, 0, 0, 0, 0, 0, 0, 0, 0, 0, 0, 0, 0, 0, 0, 0, 0, 0, 0, 0, 0, 0, 0, 0, 0, 0, 0, 0, 0, 0, 0, 0, 0, 0, 0, 0, 0, 0, 0, 0, 0, 0, 0, 0, 0, 0, 0, 0, 0, 0, 0, 0, 0, 0, 0, 0, 0, 0, 0, 0, 0, 0, 0, 0, 0, 0, 0, 0, 0, 0, 0, 0, 0, 0, 0, 0, 0, 0, 0, 0, 0, 0, 0, 0, 0, 0, 0, 0, 0, 0, 0, 0, 0, 0, 0, 0, 0, 0, 0, 0, 0, 0, 0, 0, 0, 0, 0, 0, 0, 0, 0, 0, 0, 0, 0, 0, 0, 0, 0, 0, 0, 0, 0, 0, 0, 0, 0, 0, 0, 0, 0, 0, 0, 0, 0, 0, 0, 0, 0, 0, 0, 0, 0, 0, 0, 0, 0, 0, 0, 0, 0, 0, 0, 0, 0, 0, 0, 0, 0, 0, 0, 0, 0, 0, 0, 0, 0, 0, 0, 0, 0, 0, 0, 0, 0, 0, 0, 0, 0, 0, 0, 0, 0, 0, 0, 0, 0, 0, 0, 0, 0, 0, 0, 0, 0, 0, 0, 0, 0, 0, 0, 0, 0, 0, 0, 0, 0, 0, 0, 0, 0, 0, 0, 0, 0, 0, 0, 0, 0, 0, 0, 0, 0, 0, 0, 0, 0, 0, 0, 0, 0, 0, 0, 0, 0, 0, 0, 0, 0, 0, 0, 0, 0, 0, 0, 0, 0, 0, 0, 0, 0, 0, 0, 0, 0, 0, 0, 0, 0, 0, 0, 0, 0, 0, 0, 0, 0, 0, 0, 0, 0, 0, 0, 0, 0, 0, 0, 0, 0, 0, 0, 0, 0, 0, 0, 0, 0, 0, 0, 0, 0, 0, 0, 0, 0, 0, 0, 0, 0, 0, 0, 0, 0, 0, 0, 0, 0, 0, 0, 0, 0, 0, 0, 0, 0, 0, 0, 0, 0, 0, 0, 0, 0, 0, 0, 0, 0, 0, 0, 0, 0, 0, 0, 0, 0, 0, 0, 0, 0, 0, 0, 0, 0, 0, 0, 0, 0, 0, 0, 0, 0, 0, 0, 0, 0, 0, 0, 0, 0, 0, 0, 0, 0, 0, 0, 0, 0, 0, 0, 0, 0, 0, 0, 0, 0, 0, 0, 0, 0, 0, 0, 0, 0, 0, 0, 0, 0, 0, 0, 0, 0, 0, 0, 0, 0, 0, 0, 0, 0, 0, 0, 0, 0, 0, 0, 0, 0, 0, 0, 0, 0, 0, 0, 0, 0, 0, 0, 0, 0, 0, 0, 0, 0, 0, 0, 0, 0, 0, 0, 0, 0, 0, 0, 0, 0, 0, 0, 0, 0, 0, 0, 0, 0, 0, 0, 0, 0, 0, 0, 0, 0, 0, 0, 0, 0, 0, 0, 0, 0, 0, 0, 0, 0, 0, 0, 0, 0, 0, 0, 0, 0, 0, 0, 0, 0, 0, 0, 0, 0, 0, 0, 0, 0, 0, 0, 0, 0, 0, 0, 0, 0, 0, 0, 0, 0, 0, 0, 0, 0, 0, 0, 0, 0, 0, 0, 0, 0, 0, 0, 0, 0, 0, 0, 0, 0, 0, 0, 0, 0, 0, 0, 0, 0, 0, 0, 0, 0, 0, 0, 0, 0, 0, 0, 0, 0, 0, 0, 0, 0, 0, 0, 0, 0, 0, 0, 0, 0, 0, 0, 0, 0, 0, 0, 0, 0, 0, 0, 0, 0, 0, 0, 0, 0, 0, 0, 0, 0, 0, 0, 0, 0, 0, 0, 0, 0, 0, 0, 0, 0, 0, 0, 0, 0, 0, 0, 0, 0, 0, 0, 0, 0, 0, 0, 0, 0, 0, 0, 0, 0, 0, 0, 0, 0, 0, 0, 0, 0, 0, 0, 0, 0, 0, 0, 0, 0, 0, 0, 0, 0, 0, 0, 0, 0, 0, 0, 0, 0, 0, 0, 0, 0, 0, 0, 0, 0, 0, 0, 0, 0, 0, 0, 0, 0, 0, 0, 0, 0, 0, 0, 0, 0, 0, 0, 0, 0, 0, 0, 0, 0, 0, 0, 0, 0, 0, 0, 0, 0, 0, 0, 0, 0, 0, 0, 0, 0, 0, 0, 0, 0, 0, 0, 0, 0, 0, 0, 0, 0, 0, 0, 0, 0, 0, 0, 0, 0, 0, 0, 0, 0, 0, 0, 0, 0, 0, 0, 0, 0, 0, 0, 0, 0, 0, 0, 0, 0, 0, 0, 0, 0, 0, 0, 0, 0, 0, 0, 0, 0, 0, 0, 0, 0, 0, 0, 0, 0, 0, 0, 0, 0, 0, 0, 0, 0, 0, 0, 0, 0, 0, 0, 0, 0, 0, 0, 0, 0, 0, 0, 0, 0, 0, 0, 0, 0, 0, 0, 0, 0, 0, 0, 0, 0, 0, 0, 0, 0, 0, 0, 0, 0, 0, 0, 0, 0, 0, 0, 0, 0, 0, 0, 0, 0, 0, 0, 0, 0, 0, 0, 0, 0, 0, 0, 0, 0, 0, 0, 0, 0, 0, 0, 0, 0, 0, 0, 0, 0, 0, 0, 0, 0, 0, 0, 0, 0, 0, 0, 0, 0, 0, 0, 0, 0, 0, 0, 0, 0, 0, 0, 0, 0, 0, 0, 0, 0, 0, 0, 0, 0, 0, 0, 0, 0, 0, 0, 0, 0, 0, 0, 0, 0, 0, 0, 0, 0, 0, 0, 0, 0, 0, 0, 0, 0, 0, 0, 0, 0, 0, 0, 0, 0, 0, 0, 0, 0, 0, 0, 0, 0, 0, 0, 0, 0, 0, 0, 0, 0, 0, 0, 0, 0, 0, 0, 0, 0, 0, 0, 0, 0, 0, 0, 0, 0, 0, 0, 0, 0, 0, 0, 0, 0, 0, 0, 0, 0, 0, 0, 0, 0, 0, 0, 0, 0, 0, 0, 0, 0, 0, 0, 0, 0, 0, 0, 0, 0, 0, 0, 0, 0, 0, 0, 0, 0, 0, 0, 0, 0, 0, 0, 0, 0, 0, 0, 0, 0, 0, 0, 0, 0, 0, 0, 0, 0, 0, 0, 0, 0, 0, 0, 0, 0, 0, 0, 0, 0, 0, 0, 0, 0, 0, 0, 0, 0, 0, 0, 0, 0, 0, 0, 0, 0, 0, 0, 0, 0, 0, 0, 0, 0, 0, 0, 0, 0, 0, 0, 0, 0, 0, 0, 0, 0, 0, 0, 0, 0, 0, 0, 0, 0, 0, 0, 0, 0, 0, 0, 0, 0, 0, 0, 0, 0, 0, 0, 0, 0, 0, 0, 0, 0, 0, 0, 0, 0, 0, 0, 0, 0, 0, 0, 0, 0, 0, 0, 0, 0, 0, 0, 0, 0, 0, 0, 0, 0, 0, 0, 0, 0, 0, 0, 0, 0, 0, 0, 0, 0, 0, 0, 0, 0, 0, 0, 0, 0, 0, 0, 0, 0, 0, 0, 0, 0, 0, 0, 0, 0, 0, 0, 0, 0, 0, 0, 0, 0, 0, 0, 0, 0, 0, 0, 0, 0, 0, 0, 0, 0, 0, 0, 0, 0, 0, 0, 0, 0, 0, 0, 0, 0, 0, 0, 0, 0, 0, 0, 0, 0, 0, 0, 0, 0, 0, 0, 0, 0, 0, 0, 0, 0, 0, 0, 0, 0, 0, 0, 0, 0, 0, 0, 0, 0, 0, 0, 0, 0, 0, 0, 0, 0, 0, 0, 0, 0, 0, 0, 0, 0, 0, 0, 0, 0, 0, 0, 0, 0, 0, 0, 0, 0, 0, 0, 0, 0, 0, 0, 0, 0, 0, 0, 0, 0, 0, 0, 0, 0, 0, 0, 0, 0, 0, 0, 0, 0, 0, 0, 0, 0, 0, 0, 0, 0, 0, 0, 0, 0, 0, 0, 0, 0, 0, 0, 0, 0, 0, 0, 0, 0, 0, 0, 0, 0, 0, 0, 0, 0, 0, 0, 0, 0, 0, 0, 0, 0, 0, 0, 0, 0, 0, 0, 0, 0, 0, 0, 0, 0, 0, 0, 0, 0, 0, 0, 0, 0, 0, 0, 0, 0, 0, 0, 0, 0, 0, 0, 0, 0, 0, 0, 0, 0, 0, 0, 0, 0, 0, 0, 0, 0, 0, 0, 0, 0, 0, 0, 0, 0, 0, 0, 0, 0, 0, 0, 0, 0, 0, 0, 0, 0, 0, 0, 0, 0, 0, 0, 0, 0, 0, 0, 0, 0, 0, 0, 0, 0, 0, 0, 0, 0, 0, 0, 0, 0, 0, 0, 0, 0, 0, 0, 0, 0, 0, 0, 0, 0, 0, 0, 0, 0, 0, 0, 0, 0, 0, 0, 0, 0, 0, 0, 0, 0, 0, 0, 0, 0, 0, 0, 0, 0, 0, 0, 0, 0, 0, 0, 0, 0, 0, 0, 0, 0, 0, 0, 0, 0, 0, 0, 0, 0, 0, 0, 0, 0, 0, 0, 0, 0, 0, 0, 0, 0, 0, 0, 0, 0, 0, 0, 0, 0, 0, 0, 0, 0, 0, 0, 0, 0, 0, 0, 0, 0, 0, 0, 0, 0, 0, 0, 0, 0, 0, 0, 0, 0, 0, 0, 0, 0, 0, 0, 0, 0, 0, 0, 0, 0, 0, 0, 0, 0, 0, 0, 0, 0, 0, 0, 0, 0, 0, 0, 0, 0, 0, 0, 0, 0, 0, 0, 0, 0, 0, 0, 0, 0, 0, 0, 0, 0, 0, 0, 0, 0, 0, 0, 0, 0, 0, 0, 0, 0, 0, 0, 0, 0, 0, 0, 0, 0, 0, 0, 0, 0, 0, 0, 0, 0, 0, 0, 0, 0, 0, 0, 0, 0, 0, 0, 0, 0, 0, 0, 0, 0, 0, 0, 0, 0, 0, 0, 0, 0, 0, 0, 0, 0, 0, 0, 0, 0, 0, 0, 0, 0, 0, 0, 0, 0, 0, 0, 0, 0, 0, 0, 0, 0, 0, 0, 0, 0, 0, 0, 0, 0, 0, 0, 0, 0, 0, 0, 0, 0, 0, 0, 0, 0, 0, 0, 0, 0, 0, 0, 0, 0, 0, 0, 0, 0, 0, 0, 0, 0, 0, 0, 0, 0, 0, 0, 0, 0, 0, 0, 0, 0, 0, 0, 0, 0, 0, 0, 0, 0, 0, 0, 0, 0, 0, 0, 0, 0, 0, 0, 0, 0, 0, 0, 0, 0, 0, 0, 0, 0, 0, 0, 0, 0, 0, 0, 0, 0, 0, 0, 0, 0, 0, 0, 0, 0, 0, 0, 0, 0, 0, 0, 0, 0, 0, 0, 0, 0, 0, 0, 0, 0, 0, 0, 0, 0, 0, 0, 0, 0, 0, 0, 0, 0, 0, 0, 0, 0, 0, 0, 0, 0, 0, 0, 0, 0, 0, 0, 0], [0, 1, 1, 0, 0, 0, 0, 0, 0, 0, 0, 0, 0, 0, 0, 0, 0, 0, 2, 0, 1, 1, 1, 1, 1, 1, 2, 2, 2, 1, 1, 1, 0, 0, 0, 0, 0, 0, 0, 0, 0, 0, 0, 0, 0, 0, 0, 0, 0, 0, 0, 0, 0, 0, 0, 0, 0, 0, 0, 0, 0, 0, 0, 0, 0, 0, 0, 0, 0, 0, 0, 0, 0, 0, 0, 0, 0, 0, 0, 0, 0, 0, 0, 0, 0, 0, 0, 0, 0, 0, 0, 0, 0, 0, 0, 0, 0, 0, 0, 0, 0, 0, 0, 0, 0, 0, 0, 0, 0, 0, 0, 0, 0, 0, 0, 0, 0, 0, 0, 0, 0, 0, 0, 0, 0, 0, 0, 0, 0, 0, 0, 0, 0, 0, 0, 0, 0, 0, 0, 0, 0, 0, 0, 0, 0, 0, 0, 0, 0, 0, 0, 0, 0, 0, 0, 0, 0, 0, 0, 0, 0, 0, 0, 0, 0, 0, 0, 0, 0, 0, 0, 0, 0, 0, 0, 0, 0, 0, 0, 0, 0, 0, 0, 0, 0, 0, 0, 0, 0, 0, 0, 0, 0, 0, 0, 0, 0, 0, 0, 0, 0, 0, 0, 0, 0, 0, 0, 0, 0, 0, 0, 0, 0, 0, 0, 0, 0, 0, 0, 0, 0, 0, 0, 0, 0, 0, 0, 0, 0, 0, 0, 0, 0, 0, 0, 0, 0, 0, 0, 0, 0, 0, 0, 0, 0, 0, 0, 0, 0, 0, 0, 0, 0, 0, 0, 0, 0, 0, 0, 0, 0, 0, 0, 0, 0, 0, 0, 0, 0, 0, 0, 0, 0, 0, 0, 0, 0, 0, 0, 0, 0, 0, 0, 0, 0, 0, 0, 0, 0, 0, 0, 0, 0, 0, 0, 0, 0, 0, 0, 0, 0, 0, 0, 0, 0, 0, 0, 0, 0, 0, 0, 0, 0, 0, 0, 0, 0, 0, 0, 0, 0, 0, 0, 0, 0, 0, 0, 0, 0, 0, 0, 0, 0, 0, 0, 0, 0, 0, 0, 0, 0, 0, 0, 0, 0, 0, 0, 0, 0, 0, 0, 0, 0, 0, 0, 0, 0, 0, 0, 0, 0, 0, 0, 0, 0, 0, 0, 0, 0, 0, 0, 0, 0, 0, 0, 0, 0, 0, 0, 0, 0, 0, 0, 0, 0, 0, 0, 0, 0, 0, 0, 0, 0, 0, 0, 0, 0, 0, 0, 0, 0, 0, 0, 0, 0, 0, 0, 0, 0, 0, 0, 0, 0, 0, 0, 0, 0, 0, 0, 0, 0, 0, 0, 0, 0, 0, 0, 0, 0, 0, 0, 0, 0, 0, 0, 0, 0, 0, 0, 0, 0, 0, 0, 0, 0, 0, 0, 0, 0, 0, 0, 0, 0, 0, 0, 0, 0, 0, 0, 0, 0, 0, 0, 0, 0, 0, 0, 0, 0, 0, 0, 0, 0, 0, 0, 0, 0, 0, 0, 0, 0, 0, 0, 0, 0, 0, 0, 0, 0, 0, 0, 0, 0, 0, 0, 0, 0, 0, 0, 0, 0, 0, 0, 0, 0, 0, 0, 0, 0, 0, 0, 0, 0, 0, 0, 0, 0, 0, 0, 0, 0, 0, 0, 0, 0, 0, 0, 0, 0, 0, 0, 0, 0, 0, 0, 0, 0, 0, 0, 0, 0, 0, 0, 0, 0, 0, 0, 0, 0, 0, 0, 0, 0, 0, 0, 0, 0, 0, 0, 0, 0, 0, 0, 0, 0, 0, 0, 0, 0, 0, 0, 0, 0, 0, 0, 0, 0, 0, 0, 0, 0, 0, 0, 0, 0, 0, 0, 0, 0, 0, 0, 0, 0, 0, 0, 0, 0, 0, 0, 0, 0, 0, 0, 0, 0, 0, 0, 0, 0, 0, 0, 0, 0, 0, 0, 0, 0, 0, 0, 0, 0, 0, 0, 0, 0, 0, 0, 0, 0, 0, 0, 0, 0, 0, 0, 0, 0, 0, 0, 0, 0, 0, 0, 0, 0, 0, 0, 0, 0, 0, 0, 0, 0, 0, 0, 0, 0, 0, 0, 0, 0, 0, 0, 0, 0, 0, 0, 0, 0, 0, 0, 0, 0, 0, 0, 0, 0, 0, 0, 0, 0, 0, 0, 0, 0, 0, 0, 0, 0, 0, 0, 0, 0, 0, 0, 0, 0, 0, 0, 0, 0, 0, 0, 0, 0, 0, 0, 0, 0, 0, 0, 0, 0, 0, 0, 0, 0, 0, 0, 0, 0, 0, 0, 0, 0, 0, 0, 0, 0, 0, 0, 0, 0, 0, 0, 0, 0, 0, 0, 0, 0, 0, 0, 0, 0, 0, 0, 0, 0, 0, 0, 0, 0, 0, 0, 0, 0, 0, 0, 0, 0, 0, 0, 0, 0, 0, 0, 0, 0, 0, 0, 0, 0, 0, 0, 0, 0, 0, 0, 0, 0, 0, 0, 0, 0, 0, 0, 0, 0, 0, 0, 0, 0, 0, 0, 0, 0, 0, 0, 0, 0, 0, 0, 0, 0, 0, 0, 0, 0, 0, 0, 0, 0, 0, 0, 0, 0, 0, 0, 0, 0, 0, 0, 0, 0, 0, 0, 0, 0, 0, 0, 0, 0, 0, 0, 0, 0, 0, 0, 0, 0, 0, 0, 0, 0, 0, 0, 0, 0, 0, 0, 0, 0, 0, 0, 0, 0, 0, 0, 0, 0, 0, 0, 0, 0, 0, 0, 0, 0, 0, 0, 0, 0, 0, 0, 0, 0, 0, 0, 0, 0, 0, 0, 0, 0, 0, 0, 0, 0, 0, 0, 0, 0, 0, 0, 0, 0, 0, 0, 0, 0, 0, 0, 0, 0, 0, 0, 0, 0, 0, 0, 0, 0, 0, 0, 0, 0, 0, 0, 0, 0, 0, 0, 0, 0, 0, 0, 0, 0, 0, 0, 0, 0, 0, 0, 0, 0, 0, 0, 0, 0, 0, 0, 0, 0, 0, 0, 0, 0, 0, 0, 0, 0, 0, 0, 0, 0, 0, 0, 0, 0, 0, 0, 0, 0, 0, 0, 0, 0, 0, 0, 0, 0, 0, 0, 0, 0, 0, 0, 0, 0, 0, 0, 0, 0, 0, 0, 0, 0, 0, 0, 0, 0, 0, 0, 0, 0, 0, 0, 0, 0, 0, 0, 0, 0, 0, 0, 0, 0, 0, 0, 0, 0, 0, 0, 0, 0, 0, 0, 0, 0, 0, 0, 0, 0, 0, 0, 0, 0, 0, 0, 0, 0, 0, 0, 0, 0, 0, 0, 0, 0, 0, 0, 0, 0, 0, 0, 0, 0, 0, 0, 0, 0, 0, 0, 0, 0, 0, 0, 0, 0, 0, 0, 0, 0, 0, 0, 0, 0, 0, 0, 0, 0, 0, 0, 0, 0, 0, 0, 0, 0, 0, 0, 0, 0, 0, 0, 0, 0, 0, 0, 0, 0, 0, 0, 0, 0, 0, 0, 0, 0, 0, 0, 0, 0, 0, 0, 0, 0, 0, 0, 0, 0, 0, 0, 0, 0, 0, 0, 0, 0, 0, 0, 0, 0, 0, 0, 0, 0, 0, 0, 0, 0, 0, 0, 0, 0, 0, 0, 0, 0, 0, 0, 0, 0, 0, 0, 0, 0, 0, 0, 0, 0, 0, 0, 0, 0, 0, 0, 0, 0, 0, 0, 0, 0, 0, 0, 0, 0, 0, 0, 0, 0, 0, 0, 0, 0, 0, 0, 0, 0, 0, 0, 0, 0, 0, 0, 0, 0, 0, 0, 0, 0, 0, 0, 0, 0, 0, 0, 0, 0, 0, 0, 0, 0, 0, 0, 0, 0, 0, 0, 0, 0, 0, 0, 0, 0, 0, 0, 0, 0, 0, 0, 0, 0, 0, 0, 0, 0, 0, 0, 0, 0, 0, 0, 0, 0, 0, 0, 0, 0, 0, 0, 0, 0, 0, 0, 0, 0, 0, 0, 0, 0, 0, 0, 0, 0, 0, 0, 0, 0, 0, 0, 0, 0, 0, 0, 0, 0, 0, 0, 0, 0, 0, 0, 0, 0, 0, 0, 0, 0, 0, 0, 0, 0, 0, 0, 0, 0, 0, 0, 0, 0, 0, 0, 0, 0, 0, 0, 0, 0, 0, 0, 0, 0, 0, 0, 0, 0, 0, 0, 0, 0, 0, 0, 0, 0, 0, 0, 0, 0, 0, 0, 0, 0, 0, 0, 0, 0, 0, 0, 0, 0, 0, 0, 0, 0, 0, 0, 0, 0, 0, 0, 0, 0, 0, 0, 0, 0, 0, 0, 0, 0, 0, 0, 0, 0, 0, 0, 0, 0, 0, 0, 0, 0, 0, 0, 0, 0, 0, 0, 0, 0, 0, 0, 0, 0, 0, 0, 0, 0, 0, 0, 0, 0, 0, 0, 0, 0, 0, 0, 0, 0, 0, 0, 0, 0, 0, 0, 0, 0, 0, 0, 0, 0, 0, 0, 0, 0, 0, 0, 0, 0, 0, 0, 0, 0, 0, 0, 0, 0, 0, 0, 0, 0, 0, 0, 0, 0, 0, 0, 0, 0, 0, 0, 0, 0, 0, 0, 0, 0, 0, 0, 0, 0, 0, 0, 0, 0, 0, 0, 0, 0, 0, 0, 0, 0, 0, 0, 0, 0, 0, 0, 0, 0, 0, 0, 0, 0, 0, 0, 0, 0, 0, 0, 0, 0, 0, 0, 0, 0, 0, 0, 0, 0, 0, 0, 0, 0, 0, 0, 0, 0, 0, 0, 0, 0, 0, 0, 0, 0, 0, 0, 0, 0, 0, 0, 0, 0, 0, 0, 0, 0, 0, 0, 0, 0, 0, 0, 0, 0, 0, 0, 0, 0, 0, 0, 0, 0, 0, 0, 0, 0, 0, 0, 0, 0, 0, 0, 0, 0, 0, 0, 0, 0, 0, 0, 0, 0, 0, 0, 0, 0, 0, 0, 0, 0, 0, 0, 0, 0, 0, 0, 0, 0, 0, 0, 0, 0, 0, 0, 0, 0, 0, 0, 0, 0, 0, 0, 0, 0, 0, 0, 0, 0, 0, 0, 0, 0, 0, 0, 0, 0, 0, 0, 0, 0, 0, 0, 0, 0, 0, 0, 0, 0, 0, 0, 0, 0, 0, 0, 0, 0, 0, 0, 0, 0, 0, 0, 0, 0, 0, 0, 0, 0, 0, 0, 0, 0, 0, 0, 0, 0, 0, 0, 0, 0, 0, 0, 0, 0, 0, 0, 0, 0, 0, 0, 0, 0, 0, 0, 0, 0, 0, 0, 0, 0, 0, 0, 0, 0, 0, 0, 0, 0, 0, 0, 0, 0, 0, 0, 0, 0, 0, 0, 0, 0, 0, 0, 0, 0, 0, 0, 0, 0, 0, 0, 0, 0, 0, 0, 0, 0, 0, 0, 0, 0, 0, 0, 0, 0, 0, 0, 0, 0, 0, 0, 0, 0, 0, 0, 0, 0, 0, 0, 0, 0, 0, 0, 0, 0, 0, 0, 0, 0, 0, 0, 0, 0, 0, 0, 0, 0, 0, 0, 0, 0, 0, 0, 0, 0, 0, 0, 0, 0, 0, 0, 0, 0, 0, 0, 0, 0, 0, 0, 0, 0, 0, 0, 0, 0, 0, 0, 0, 0, 0, 0, 0, 0, 0, 0, 0, 0, 0, 0, 0, 0, 0, 0, 0, 0, 0, 0, 0, 0, 0, 0, 0, 0, 0, 0, 0, 0, 0, 0, 0, 0, 0, 0, 0, 0, 0, 0, 0, 0, 0, 0, 0, 0, 0, 0, 0, 0, 0, 0, 0, 0, 0, 0, 0, 0, 0, 0, 0, 0, 0, 0, 0, 0, 0, 0, 0, 0, 0, 0, 0, 0, 0, 0, 0, 0, 0, 0, 0, 0, 0, 0, 0, 0, 0, 0, 0, 0, 0, 0, 0, 0, 0, 0, 0, 0, 0, 0, 0, 0, 0, 0, 0, 0, 0, 0, 0, 0, 0, 0, 0, 0, 0, 0, 0, 0, 0, 0, 0, 0, 0, 0, 0, 0, 0, 0, 0, 0, 0, 0, 0, 0, 0, 0, 0, 0, 0, 0, 0, 0, 0, 0, 0, 0, 0, 0, 0, 0, 0, 0, 0, 0, 0, 0, 0, 0, 0, 0, 0, 0, 0, 0, 0, 0, 0, 0, 0, 0, 0, 0, 0, 0, 0, 0, 0, 0, 0, 0, 0, 0, 0, 0, 0, 0, 0, 0, 0, 0, 0, 0, 0, 0, 0, 0, 0, 0, 0, 0, 0, 0, 0, 0, 0, 0, 0, 0, 0, 0, 0, 0, 0, 0, 0, 0, 0, 0, 0, 0, 0, 0, 0, 0, 0, 0, 0, 0, 0, 0, 0, 0, 0, 0, 0, 0, 0, 0, 0, 0, 0, 0, 0, 0, 0, 0, 0, 0, 0, 0, 0, 0, 0, 0, 0, 0, 0, 0, 0, 0, 0, 0, 0, 0, 0, 0, 0, 0, 0, 0, 0, 0, 0, 0, 0, 0, 0, 0, 0, 0, 0, 0, 0, 0, 0, 0, 0, 0, 0, 0, 0, 0, 0, 0, 0, 0, 0, 0, 0, 0, 0, 0, 0, 0, 0, 0, 0, 0, 0, 0, 0, 0, 0, 0, 0, 0, 0, 0, 0, 0, 0, 0, 0, 0, 0, 0, 0, 0, 0, 0, 0, 0, 0, 0, 0, 0, 0, 0, 0, 0, 0, 0, 0, 0, 0, 0, 0, 0, 0, 0, 0, 0, 0, 0, 0, 0, 0, 0, 0, 0, 0, 0, 0, 0, 0, 0, 0, 0, 0, 0, 0, 0, 0, 0, 0, 0, 0, 0, 0, 0, 0, 0, 0, 0, 0, 0, 0, 0, 0, 0, 0, 0, 0, 0, 0, 0, 0, 0, 0, 0, 0, 0, 0, 0, 0, 0, 0, 0, 0, 0, 0, 0, 0, 0, 0, 0, 0, 0, 0, 0, 0, 0, 0, 0, 0, 0, 0, 0, 0, 0, 0, 0, 0, 0, 0, 0, 0, 0, 0, 0, 0, 0, 0, 0, 0, 0, 0, 0, 0, 0, 0, 0, 0, 0, 0, 0, 0, 0, 0, 0, 0, 0, 0, 0, 0, 0, 0, 0, 0, 0, 0, 0, 0, 0, 0, 0, 0, 0, 0, 0, 0, 0, 0, 0, 0, 0, 0, 0, 0, 0, 0, 0, 0, 0, 0, 0, 0, 0, 0, 0, 0, 0, 0, 0, 0, 0, 0, 0, 0, 0, 0, 0, 0, 0, 0, 0, 0, 0, 0, 0, 0, 0, 0, 0, 0, 0, 0, 0, 0, 0, 0, 0, 0, 0, 0, 0, 0, 0, 0, 0, 0, 0, 0, 0, 0, 0, 0, 0, 0, 0, 0, 0, 0, 0, 0, 0, 0, 0, 0, 0, 0, 0, 0, 0, 0, 0, 0, 0, 0, 0, 0, 0, 0, 0, 0, 0, 0, 0, 0, 0, 0, 0, 0, 0, 0, 0, 0, 0, 0, 0, 0, 0, 0, 0, 0, 0, 0, 0, 0, 0, 0, 0, 0, 0, 0, 0, 0, 0, 0, 0, 0, 0, 0, 0, 0, 0, 0, 0, 0, 0, 0, 0, 0, 0, 0, 0, 0, 0, 0, 0, 0, 0, 0, 0, 0, 0, 0, 0, 0, 0, 0, 0, 0, 0, 0, 0, 0, 0, 0, 0, 0, 0, 0, 0, 0, 0, 0, 0, 0, 0, 0, 0, 0, 0, 0, 0, 0, 0, 0, 0, 0, 0, 0, 0, 0, 0, 0, 0, 0, 0, 0, 0, 0, 0, 0, 0, 0, 0, 0, 0, 0, 0, 0, 0, 0, 0, 0, 0, 0, 0, 0, 0, 0, 0, 0, 0, 0, 0, 0, 0, 0, 0, 0, 0, 0, 0, 0, 0, 0, 0, 0, 0, 0, 0, 0, 0, 0, 0, 0, 0, 0, 0, 0, 0, 0, 0, 0, 0, 0, 0, 0, 0, 0, 0, 0, 0, 0, 0, 0, 0, 0, 0, 0, 0, 0, 0, 0, 0, 0, 0, 0, 0, 0, 0, 0, 0, 0, 0, 0, 0, 0, 0, 0, 0, 0, 0, 0, 0, 0, 0, 0, 0, 0, 0, 0, 0, 0, 0, 0, 0, 0, 0, 0, 0, 0, 0, 0, 0, 0, 0, 0, 0, 0, 0, 0, 0, 0, 0, 0, 0, 0, 0, 0, 0, 0, 0, 0, 0, 0, 0, 0, 0, 0, 0, 0, 0, 0, 0, 0, 0, 0, 0, 0, 0, 0, 0, 0, 0, 0, 0, 0, 0, 0, 0, 0, 0, 0, 0, 0, 0, 0, 0, 0, 0, 0, 0, 0, 0, 0, 0, 0, 0, 0, 0, 0, 0, 0, 0, 0, 0, 0, 0, 0, 0, 0, 0, 0, 0, 0, 0, 0, 0, 0, 0, 0, 0, 0, 0, 0, 0, 0, 0, 0, 0, 0, 0, 0, 0, 0, 0, 0, 0, 0, 0, 0, 0, 0, 0, 0, 0, 0, 0, 0, 0, 0, 0, 0, 0, 0, 0, 0, 0, 0, 0, 0, 0, 0, 0, 0, 0, 0, 0, 0, 0, 0, 0, 0, 0, 0, 0, 0, 0, 0, 0, 0, 0, 0, 0, 0, 0, 0, 0, 0, 0, 0, 0, 0, 0, 0, 0, 0, 0, 0, 0, 0, 0, 0, 0, 0, 0, 0, 0, 0, 0, 0, 0, 0, 0, 0, 0, 0, 0, 0, 0, 0, 0, 0, 0, 0, 0, 0, 0, 0, 0, 0, 0, 0, 0, 0, 0, 0, 0, 0, 0, 0, 0, 0, 0, 0, 0, 0, 0, 0, 0, 0, 0, 0, 0, 0, 0, 0, 0, 0, 0, 0, 0, 0, 0, 0]]\n"
     ]
    }
   ],
   "source": [
    "# hitung nilai tf di kategori non\n",
    "tf_nonrf_stem = []\n",
    "countTFCategory(df_non_stem, term_stem, df_non_stem['teks'], tf_nonrf_stem)\n",
    "print(tf_nonrf_stem[:2])"
   ]
  },
  {
   "cell_type": "code",
   "execution_count": 56,
   "id": "3e182ba3",
   "metadata": {},
   "outputs": [
    {
     "name": "stdout",
     "output_type": "stream",
     "text": [
      "[[0, 1, 0, 0, 0, 0, 0, 1, 0, 0, 0, 0, 0, 0, 0, 0, 0, 0, 0, 0, 0, 0, 0, 1, 0, 0, 0, 0, 0, 0, 0, 0, 0, 0, 0, 0, 0, 0, 0, 0, 0, 0, 0, 0, 0, 0, 0, 0, 0, 0, 0, 0, 0, 0, 0, 0, 0, 0, 0, 0, 0, 0, 0, 0, 0, 0, 0, 0, 0, 0, 0, 0, 0, 0, 0, 0, 0, 0, 0, 0, 0, 0, 0, 0, 0, 0, 0, 0, 0, 0, 0, 0, 0, 1, 1, 1, 1, 1, 1, 1, 1, 1, 1, 1, 1, 1, 1, 1, 1, 0, 0, 0, 0, 0, 0, 0, 0, 0, 0, 0, 0, 0, 0, 0, 0, 0, 0, 0, 0, 0, 0, 0, 0, 0, 0, 0, 0, 0, 0, 0, 0, 0, 0, 0, 0, 0, 0, 0, 0, 0, 0, 0, 0, 0, 0, 0, 0, 0, 0, 0, 0, 0, 0, 0, 0, 0, 0, 0, 0, 0, 0, 0, 0, 0, 0, 0, 0, 0, 0, 0, 0, 0, 0, 0, 0, 0, 0, 0, 0, 0, 0, 0, 0, 0, 0, 0, 0, 0, 0, 0, 0, 0, 0, 0, 0, 0, 0, 0, 0, 0, 0, 0, 0, 0, 0, 0, 0, 0, 0, 0, 0, 0, 0, 0, 0, 0, 0, 0, 0, 0, 0, 0, 0, 0, 0, 0, 0, 0, 0, 0, 0, 0, 0, 0, 0, 0, 0, 0, 0, 0, 0, 0, 0, 0, 0, 0, 0, 0, 0, 0, 0, 0, 0, 0, 0, 0, 0, 0, 0, 0, 0, 0, 0, 0, 0, 0, 0, 0, 0, 0, 0, 0, 0, 0, 0, 0, 0, 0, 0, 0, 0, 0, 0, 0, 0, 0, 0, 0, 0, 0, 0, 0, 0, 0, 0, 0, 0, 0, 0, 0, 0, 0, 0, 0, 0, 0, 0, 0, 0, 0, 0, 0, 0, 0, 0, 0, 0, 0, 0, 0, 0, 0, 0, 0, 0, 0, 0, 0, 0, 0, 0, 0, 0, 0, 0, 0, 0, 0, 0, 0, 0, 0, 0, 0, 0, 0, 0, 0, 0, 0, 0, 0, 0, 0, 0, 0, 0, 0, 0, 0, 0, 0, 0, 0, 0, 0, 0, 0, 0, 0, 0, 0, 0, 0, 0, 0, 0, 0, 0, 0, 0, 0, 0, 0, 0, 0, 0, 0, 0, 0, 0, 0, 0, 0, 0, 0, 0, 0, 0, 0, 0, 0, 0, 0, 0, 0, 0, 0, 0, 0, 0, 0, 0, 0, 0, 0, 0, 0, 0, 0, 0, 0, 0, 0, 0, 0, 0, 0, 0, 0, 0, 0, 0, 0, 0, 0, 0, 0, 0, 0, 0, 0, 0, 0, 0, 0, 0, 0, 0, 0, 0, 0, 0, 0, 0, 0, 0, 0, 0, 0, 0, 0, 0, 0, 0, 0, 0, 0, 0, 0, 0, 0, 0, 0, 0, 0, 0, 0, 0, 0, 0, 0, 0, 0, 0, 0, 0, 0, 0, 0, 0, 0, 0, 0, 0, 0, 0, 0, 0, 0, 0, 0, 0, 0, 0, 0, 0, 0, 0, 0, 0, 0, 0, 0, 0, 0, 0, 0, 0, 0, 0, 0, 0, 0, 0, 0, 0, 0, 0, 0, 0, 0, 0, 0, 0, 0, 0, 0, 0, 0, 0, 0, 0, 0, 0, 0, 0, 0, 0, 0, 0, 0, 0, 0, 0, 0, 0, 0, 0, 0, 0, 0, 0, 0, 0, 0, 0, 0, 0, 0, 0, 0, 0, 0, 0, 0, 0, 0, 0, 0, 0, 0, 0, 0, 0, 0, 0, 0, 0, 0, 0, 0, 0, 0, 0, 0, 0, 0, 0, 0, 0, 0, 0, 0, 0, 0, 0, 0, 0, 0, 0, 0, 0, 0, 0, 0, 0, 0, 0, 0, 0, 0, 0, 0, 0, 0, 0, 0, 0, 0, 0, 0, 0, 0, 0, 0, 0, 0, 0, 0, 0, 0, 0, 0, 0, 0, 0, 0, 0, 0, 0, 0, 0, 0, 0, 0, 0, 0, 0, 0, 0, 0, 0, 0, 0, 0, 0, 0, 0, 0, 0, 0, 0, 0, 0, 0, 0, 0, 0, 0, 0, 0, 0, 0, 0, 0, 0, 0, 0, 0, 0, 0, 0, 0, 0, 0, 0, 0, 0, 0, 0, 0, 0, 0, 0, 0, 0, 0, 0, 0, 0, 0, 0, 0, 0, 0, 0, 0, 0, 0, 0, 0, 0, 0, 0, 0, 0, 0, 0, 0, 0, 0, 0, 0, 0, 0, 0, 0, 0, 0, 0, 0, 0, 0, 0, 0, 0, 0, 0, 0, 0, 0, 0, 0, 0, 0, 0, 0, 0, 0, 0, 0, 0, 0, 0, 0, 0, 0, 0, 0, 0, 0, 0, 0, 0, 0, 0, 0, 0, 0, 0, 0, 0, 0, 0, 0, 0, 0, 0, 0, 0, 0, 0, 0, 0, 0, 0, 0, 0, 0, 0, 0, 0, 0, 0, 0, 0, 0, 0, 0, 0, 0, 0, 0, 0, 0, 0, 0, 0, 0, 0, 0, 0, 0, 0, 0, 0, 0, 0, 0, 0, 0, 0, 0, 0, 0, 0, 0, 0, 0, 0, 0, 0, 0, 0, 0, 0, 0, 0, 0, 0, 0, 0, 0, 0, 0, 0, 0, 0, 0, 0, 0, 0, 0, 0, 0, 0, 0, 0, 0, 0, 0, 0, 0, 0, 0, 0, 0, 0, 0, 0, 0, 0, 0, 0, 0, 0, 0, 0, 0, 0, 0, 0, 0, 0, 0, 0, 0, 0, 0, 0, 0, 0, 0, 0, 0, 0, 0, 0, 0, 0, 0, 0, 0, 0, 0, 0, 0, 0, 0, 0, 0, 0, 0, 0, 0, 0, 0, 0, 0, 0, 0, 0, 0, 0, 0, 0, 0, 0, 0, 0, 0, 0, 0, 0, 0, 0, 0, 0, 0, 0, 0, 0, 0, 0, 0, 0, 0, 0, 0, 0, 0, 0, 0, 0, 0, 0, 0, 0, 0, 0, 0, 0, 0, 0, 0, 0, 0, 0, 0, 0, 0, 0, 0, 0, 0, 0, 0, 0, 0, 0, 0, 0, 0, 0, 0, 0, 0, 0, 0, 0, 0, 0, 0, 0, 0, 0, 0, 0, 0, 0, 0, 0, 0, 0, 0, 0, 0, 0, 0, 0, 0, 0, 0, 0, 0, 0, 0, 0, 0, 0, 0, 0, 0, 0, 0, 0, 0, 0, 0, 0, 0, 0, 0, 0, 0, 0, 0, 0, 0, 0, 0, 0, 0, 0, 0, 0, 0, 0, 0, 0, 0, 0, 0, 0, 0, 0, 0, 0, 0, 0, 0, 0, 0, 0, 0, 0, 0, 0, 0, 0, 0, 0, 0, 0, 0, 0, 0, 0, 0, 0, 0, 0, 0, 0, 0, 0, 0, 0, 0, 0, 0, 0, 0, 0, 0, 0, 0, 0, 0, 0, 0, 0, 0, 0, 0, 0, 0, 0, 0, 0, 0, 0, 0, 0, 0, 0, 0, 0, 0, 0, 0, 0, 0, 0, 0, 0, 0, 0, 0, 0, 0, 0, 0, 0, 0, 0, 0, 0, 0, 0, 0, 0, 0, 0, 0, 0, 0, 0, 0, 0, 0, 0, 0, 0, 0, 0, 0, 0, 0, 0, 0, 0, 0, 0, 0, 0, 0, 0, 0, 0, 0, 0, 0, 0, 0, 0, 0, 0, 0, 0, 0, 0, 0, 0, 0, 0, 0, 0, 0, 0, 0, 0, 0, 0, 0, 0, 0, 0, 0, 0, 0, 0, 0, 0, 0, 0, 0, 0, 0, 0, 0, 0, 0, 0, 0, 0, 0, 0, 0, 0, 0, 0, 0, 0, 0, 0, 0, 0, 0, 0, 0, 0, 0, 0, 0, 0, 0, 0, 0, 0, 0, 0, 0, 0, 0, 0, 0, 0, 0, 0, 0, 0, 0, 0, 0, 0, 0, 0, 0, 0, 0, 0, 0, 0, 0, 0, 0, 0, 0, 0, 0, 0, 0, 0, 0, 0, 0, 0, 0, 0, 0, 0, 0, 0, 0, 0, 0, 0, 0, 0, 0, 0, 0, 0, 0, 0, 0, 0, 0, 0, 0, 0, 0, 0, 0, 0, 0, 0, 0, 0, 0, 0, 0, 0, 0, 0, 0, 0, 0, 0, 0, 0, 0, 0, 0, 0, 0, 0, 0, 0, 0, 0, 0, 0, 0, 0, 0, 0, 0, 0, 0, 0, 0, 0, 0, 0, 0, 0, 0, 0, 0, 0, 0, 0, 0, 0, 0, 0, 0, 0, 0, 0, 0, 0, 0, 0, 0, 0, 0, 0, 0, 0, 0, 0, 0, 0, 0, 0, 0, 0, 0, 0, 0, 0, 0, 0, 0, 0, 0, 0, 0, 0, 0, 0, 0, 0, 0, 0, 0, 0, 0, 0, 0, 0, 0, 0, 0, 0, 0, 0, 0, 0, 0, 0, 0, 0, 0, 0, 0, 0, 0, 0, 0, 0, 0, 0, 0, 0, 0, 0, 0, 0, 0, 0, 0, 0, 0, 0, 0, 0, 0, 0, 0, 0, 0, 0, 0, 0, 0, 0, 0, 0, 0, 0, 0, 0, 0, 0, 0, 0, 0, 0, 0, 0, 0, 0, 0, 0, 0, 0, 0, 0, 0, 0, 0, 0, 0, 0, 0, 0, 0, 0, 0, 0, 0, 0, 0, 0, 0, 0, 0, 0, 0, 0, 0, 0, 0, 0, 0, 0, 0, 0, 0, 0, 0, 0, 0, 0, 0, 0, 0, 0, 0, 0, 0, 0, 0, 0, 0, 0, 0, 0, 0, 0, 0, 0, 0, 0, 0, 0, 0, 0, 0, 0, 0, 0, 0, 0, 0, 0, 0, 0, 0, 0, 0, 0, 0, 0, 0, 0, 0, 0, 0, 0, 0, 0, 0, 0, 0, 0, 0, 0, 0, 0, 0, 0, 0, 0, 0, 0, 0, 0, 0, 0, 0, 0, 0, 0, 0, 0, 0, 0, 0, 0, 0, 0, 0, 0, 0, 0, 0, 0, 0, 0, 0, 0, 0, 0, 0, 0, 0, 0, 0, 0, 0, 0, 0, 0, 0, 0, 0, 0, 0, 0, 0, 0, 0, 0, 0, 0, 0, 0, 0, 0, 0, 0, 0, 0, 0, 0, 0, 0, 0, 0, 0, 0, 0, 0, 0, 0, 0, 0, 0, 0, 0, 0, 0, 0, 0, 0, 0, 0, 0, 0, 0, 0, 0, 0, 0, 0, 0, 0, 0, 0, 0, 0, 0, 0, 0, 0, 0, 0, 0, 0, 0, 0, 0, 0, 0, 0, 0, 0, 0, 0, 0, 0, 0, 0, 0, 0, 0, 0, 0, 0, 0, 0, 0, 0, 0, 0, 0, 0, 0, 0, 0, 0, 0, 0, 0, 0, 0, 0, 0, 0, 0, 0, 0, 0, 0, 0, 0, 0, 0, 0, 0, 0, 0, 0, 0, 0, 0, 0, 0, 0, 0, 0, 0, 0, 0, 0, 0, 0, 0, 0, 0, 0, 0, 0, 0, 0, 0, 0, 0, 0, 0, 0, 0, 0, 0, 0, 0, 0, 0, 0, 0, 0, 0, 0, 0, 0, 0, 0, 0, 0, 0, 0, 0, 0, 0, 0, 0, 0, 0, 0, 0, 0, 0, 0, 0, 0, 0, 0, 0, 0, 0, 0, 0, 0, 0, 0, 0, 0, 0, 0, 0, 0, 0, 0, 0, 0, 0, 0, 0, 0, 0, 0, 0, 0, 0, 0, 0, 0, 0, 0, 0, 0, 0, 0, 0, 0, 0, 0, 0, 0, 0, 0, 0, 0, 0, 0, 0, 0, 0, 0, 0, 0, 0, 0, 0, 0, 0, 0, 0, 0, 0, 0, 0, 0, 0, 0, 0, 0, 0, 0, 0, 0, 0, 0, 0, 0, 0, 0, 0, 0, 0, 0, 0, 0, 0, 0, 0, 0, 0, 0, 0, 0, 0, 0, 0, 0, 0, 0, 0, 0, 0, 0, 0, 0, 0, 0, 0, 0, 0, 0, 0, 0, 0, 0, 0, 0, 0, 0, 0, 0, 0, 0, 0, 0, 0, 0, 0, 0, 0, 0, 0, 0, 0, 0, 0, 0, 0, 0, 0, 0, 0, 0, 0, 0, 0, 0, 0, 0, 0, 0, 0, 0, 0, 0, 0, 0, 0, 0, 0, 0, 0, 0, 0, 0, 0, 0, 0, 0, 0, 0, 0, 0, 0, 0, 0, 0, 0, 0, 0, 0, 0, 0, 0, 0, 0, 0, 0, 0, 0, 0, 0, 0, 0, 0, 0, 0, 0, 0, 0, 0, 0, 0, 0, 0, 0, 0, 0, 0, 0, 0, 0, 0, 0, 0, 0, 0, 0, 0, 0, 0, 0, 0, 0, 0, 0, 0, 0, 0, 0, 0, 0, 0, 0, 0, 0, 0, 0, 0, 0, 0, 0, 0, 0, 0, 0, 0, 0, 0, 0, 0, 0, 0, 0, 0, 0, 0, 0, 0, 0, 0, 0, 0, 0, 0, 0, 0, 0, 0, 0, 0, 0, 0, 0, 0, 0, 0, 0, 0, 0, 0, 0, 0, 0, 0, 0, 0, 0, 0, 0, 0, 0, 0, 0, 0, 0, 0, 0, 0, 0, 0, 0, 0, 0, 0, 0, 0, 0, 0, 0, 0, 0, 0, 0, 0, 0, 0, 0, 0, 0, 0, 0, 0, 0, 0, 0, 0, 0, 0, 0, 0, 0, 0, 0, 0, 0, 0, 0, 0, 0, 0, 0, 0, 0, 0, 0, 0, 0, 0, 0, 0, 0, 0, 0, 0, 0, 0, 0, 0, 0, 0, 0, 0, 0, 0, 0, 0, 0, 0, 0, 0, 0, 0, 0, 0, 0, 0, 0, 0, 0, 0, 0, 0, 0, 0, 0, 0, 0, 0, 0, 0, 0, 0, 0, 0, 0, 0, 0, 0, 0, 0, 0, 0, 0, 0, 0, 0, 0, 0, 0, 0, 0, 0, 0, 0, 0, 0, 0, 0, 0, 0, 0, 0, 0, 0, 0, 0, 0, 0, 0, 0, 0, 0, 0, 0, 0, 0, 0, 0, 0, 0, 0, 0, 0, 0, 0, 0, 0, 0, 0, 0, 0, 0, 0, 0, 0, 0, 0, 0, 0, 0, 0, 0, 0, 0, 0, 0, 0, 0, 0, 0, 0, 0, 0, 0, 0, 0, 0, 0, 0, 0, 0, 0, 0, 0, 0, 0, 0, 0, 0, 0, 0, 0, 0, 0, 0, 0, 0, 0, 0, 0, 0, 0, 0, 0, 0, 0, 0, 0, 0, 0, 0, 0, 0, 0, 0, 0, 0, 0, 0, 0, 0, 0, 0, 0, 0, 0, 0, 0, 0, 0, 0, 0, 0, 0, 0, 0, 0, 0, 0, 0, 0, 0, 0, 0, 0, 0, 0, 0, 0, 0, 0, 0, 0, 0, 0, 0, 0, 0, 0, 0, 0, 0, 0, 0, 0, 0, 0, 0, 0, 0, 0, 0, 0, 0, 0, 0, 0, 0, 0, 0, 0, 0, 0, 0, 0, 0, 0, 0, 0, 0, 0, 0, 0, 0, 0, 0, 0, 0, 0, 0, 0, 0, 0, 0, 0, 0, 0, 0, 0, 0, 0, 0, 0, 0, 0, 0, 0, 0, 0, 0, 0, 0, 0, 0, 0, 0, 0, 0, 0, 0, 0, 0, 0, 0, 0, 0, 0, 0, 0, 0, 0, 0, 0, 0, 0, 0, 0, 0, 0, 0, 0, 0, 0, 0, 0, 0, 0, 0, 0, 0, 0, 0, 0, 0, 0, 0, 0, 0, 0, 0, 0, 0, 0, 0, 0, 0, 0, 0, 0, 0, 0, 0, 0, 0, 0, 0, 0, 0, 0, 0, 0, 0, 0, 0, 0, 0, 0, 0, 0, 0, 0, 0, 0, 0, 0, 0, 0, 0, 0, 0, 0, 0, 0, 0, 0, 0, 0, 0, 0, 0, 0, 0, 0, 0, 0, 0, 0, 0, 0, 0, 0, 0, 0, 0, 0, 0, 0, 0, 0, 0, 0, 0, 0, 0, 0, 0, 0, 0, 0, 0, 0, 0, 0, 0, 0, 0, 0, 0, 0, 0, 0, 0, 0, 0, 0, 0, 0, 0, 0, 0, 0, 0, 0, 0, 0, 0, 0, 0, 0, 0, 0, 0, 0, 0, 0, 0, 0, 0, 0, 0, 0, 0, 0, 0, 0, 0, 0, 0, 0, 0, 0, 0, 0, 0, 0, 0, 0, 0, 0, 0, 0, 0, 0, 0, 0, 0, 0, 0, 0, 0, 0, 0, 0, 0, 0, 0, 0, 0, 0, 0, 0, 0, 0, 0, 0, 0, 0, 0, 0, 0, 0, 0, 0, 0, 0, 0, 0, 0, 0, 0, 0, 0, 0, 0, 0, 0, 0, 0, 0, 0, 0, 0, 0, 0, 0, 0, 0, 0, 0, 0, 0, 0, 0, 0, 0, 0, 0, 0, 0, 0, 0, 0, 0, 0, 0, 0, 0, 0, 0, 0, 0, 0, 0, 0, 0, 0, 0, 0, 0, 0, 0, 0, 0, 0, 0, 0, 0, 0, 0, 0, 0, 0, 0, 0, 0, 0, 0, 0, 0, 0, 0, 0, 0, 0, 0, 0, 0, 0, 0, 0, 0, 0, 0, 0, 0, 0, 0, 0, 0, 0, 0, 0, 0, 0, 0, 0, 0, 0, 0, 0, 0, 0, 0, 0, 0, 0, 0, 0, 0, 0, 0, 0, 0, 0, 0, 0, 0, 0, 0, 0, 0, 0, 0, 0, 0, 0], [0, 1, 0, 0, 0, 0, 0, 0, 0, 0, 0, 0, 0, 0, 0, 0, 0, 0, 0, 0, 0, 0, 0, 1, 0, 0, 0, 0, 0, 0, 0, 0, 0, 0, 0, 0, 0, 0, 0, 0, 0, 0, 0, 0, 0, 0, 0, 0, 0, 0, 0, 0, 0, 0, 0, 0, 0, 0, 0, 0, 0, 0, 0, 0, 0, 0, 1, 0, 0, 0, 0, 0, 0, 0, 0, 0, 0, 0, 0, 0, 0, 0, 0, 0, 0, 0, 0, 0, 0, 0, 0, 1, 0, 0, 0, 1, 0, 0, 0, 0, 0, 1, 0, 1, 0, 1, 0, 0, 0, 0, 0, 0, 0, 0, 0, 0, 0, 0, 0, 0, 0, 0, 0, 0, 0, 0, 0, 0, 0, 0, 0, 0, 0, 0, 0, 0, 0, 0, 0, 0, 0, 0, 0, 0, 0, 0, 0, 0, 0, 0, 0, 0, 0, 0, 0, 0, 0, 0, 0, 0, 0, 0, 0, 0, 0, 0, 0, 0, 0, 0, 0, 0, 0, 0, 0, 0, 0, 0, 0, 0, 0, 0, 0, 0, 0, 0, 0, 0, 0, 0, 0, 0, 0, 0, 0, 0, 0, 0, 0, 0, 0, 0, 0, 0, 0, 0, 0, 0, 0, 1, 1, 1, 1, 1, 1, 1, 1, 0, 0, 0, 0, 0, 0, 0, 0, 0, 0, 0, 0, 0, 0, 0, 0, 0, 0, 0, 0, 0, 0, 0, 0, 0, 0, 0, 0, 0, 0, 0, 0, 0, 0, 0, 0, 0, 0, 0, 0, 0, 0, 0, 0, 0, 0, 0, 0, 0, 0, 0, 0, 0, 0, 0, 0, 0, 0, 0, 0, 0, 0, 0, 0, 0, 0, 0, 0, 0, 0, 0, 0, 0, 0, 0, 0, 0, 0, 0, 0, 0, 0, 0, 0, 0, 0, 0, 0, 0, 0, 0, 0, 0, 0, 0, 0, 0, 0, 0, 0, 0, 0, 0, 0, 0, 0, 0, 0, 0, 0, 0, 0, 0, 0, 0, 0, 0, 0, 0, 0, 0, 0, 0, 0, 0, 0, 0, 0, 0, 0, 0, 0, 0, 0, 0, 0, 0, 0, 0, 0, 0, 0, 0, 0, 0, 0, 0, 0, 0, 0, 0, 0, 0, 0, 0, 0, 0, 0, 0, 0, 0, 0, 0, 0, 0, 0, 0, 0, 0, 0, 0, 0, 0, 0, 0, 0, 0, 0, 0, 0, 0, 0, 0, 0, 0, 0, 0, 0, 0, 0, 0, 0, 0, 0, 0, 0, 0, 0, 0, 0, 0, 0, 0, 0, 0, 0, 0, 0, 0, 0, 0, 0, 0, 0, 0, 0, 0, 0, 0, 0, 0, 0, 0, 0, 0, 0, 0, 0, 0, 0, 0, 0, 0, 0, 0, 0, 0, 0, 0, 0, 0, 0, 0, 0, 0, 0, 0, 0, 0, 0, 0, 0, 0, 0, 0, 0, 0, 0, 0, 0, 0, 0, 0, 0, 0, 0, 0, 0, 0, 0, 0, 0, 0, 0, 0, 0, 0, 0, 0, 0, 0, 0, 0, 0, 0, 0, 0, 0, 0, 0, 0, 0, 0, 0, 0, 0, 0, 0, 0, 0, 0, 0, 0, 0, 0, 0, 0, 0, 0, 0, 0, 0, 0, 0, 0, 0, 0, 0, 0, 0, 0, 0, 0, 0, 0, 0, 0, 0, 0, 0, 0, 0, 0, 0, 0, 0, 0, 0, 0, 0, 0, 0, 0, 0, 0, 0, 0, 0, 0, 0, 0, 0, 0, 0, 0, 0, 0, 0, 0, 0, 0, 0, 0, 0, 0, 0, 0, 0, 0, 0, 0, 0, 0, 0, 0, 0, 0, 0, 0, 0, 0, 0, 0, 0, 0, 0, 0, 0, 0, 0, 0, 0, 0, 0, 0, 0, 0, 0, 0, 0, 0, 0, 0, 0, 0, 0, 0, 0, 0, 0, 0, 0, 0, 0, 0, 0, 0, 0, 0, 0, 0, 0, 0, 0, 0, 0, 0, 0, 0, 0, 0, 0, 0, 0, 0, 0, 0, 0, 0, 0, 0, 0, 0, 0, 0, 0, 0, 0, 0, 0, 0, 0, 0, 0, 0, 0, 0, 0, 0, 0, 0, 0, 0, 0, 0, 0, 0, 0, 0, 0, 0, 0, 0, 0, 0, 0, 0, 0, 0, 0, 0, 0, 0, 0, 0, 0, 0, 0, 0, 0, 0, 0, 0, 0, 0, 0, 0, 0, 0, 0, 0, 0, 0, 0, 0, 0, 0, 0, 0, 0, 0, 0, 0, 0, 0, 0, 0, 0, 0, 0, 0, 0, 0, 0, 0, 0, 0, 0, 0, 0, 0, 0, 0, 0, 0, 0, 0, 0, 0, 0, 0, 0, 0, 0, 0, 0, 0, 0, 0, 0, 0, 0, 0, 0, 0, 0, 0, 0, 0, 0, 0, 0, 0, 0, 0, 0, 0, 0, 0, 0, 0, 0, 0, 0, 0, 0, 0, 0, 0, 0, 0, 0, 0, 0, 0, 0, 0, 0, 0, 0, 0, 0, 0, 0, 0, 0, 0, 0, 0, 0, 0, 0, 0, 0, 0, 0, 0, 0, 0, 0, 0, 0, 0, 0, 0, 0, 0, 0, 0, 0, 0, 0, 0, 0, 0, 0, 0, 0, 0, 0, 0, 0, 0, 0, 0, 0, 0, 0, 0, 0, 0, 0, 0, 0, 0, 0, 0, 0, 0, 0, 0, 0, 0, 0, 0, 0, 0, 0, 0, 0, 0, 0, 0, 0, 0, 0, 0, 0, 0, 0, 0, 0, 0, 0, 0, 0, 0, 0, 0, 0, 0, 0, 0, 0, 0, 0, 0, 0, 0, 0, 0, 0, 0, 0, 0, 0, 0, 0, 0, 0, 0, 0, 0, 0, 0, 0, 0, 0, 0, 0, 0, 0, 0, 0, 0, 0, 0, 0, 0, 0, 0, 0, 0, 0, 0, 0, 0, 0, 0, 0, 0, 0, 0, 0, 0, 0, 0, 0, 0, 0, 0, 0, 0, 0, 0, 0, 0, 0, 0, 0, 0, 0, 0, 0, 0, 0, 0, 0, 0, 0, 0, 0, 0, 0, 0, 0, 0, 0, 0, 0, 0, 0, 0, 0, 0, 0, 0, 0, 0, 0, 0, 0, 0, 0, 0, 0, 0, 0, 0, 0, 0, 0, 0, 0, 0, 0, 0, 0, 0, 0, 0, 0, 0, 0, 0, 0, 0, 0, 0, 0, 0, 0, 0, 0, 0, 0, 0, 0, 0, 0, 0, 0, 0, 0, 0, 0, 0, 0, 0, 0, 0, 0, 0, 0, 0, 0, 0, 0, 0, 0, 0, 0, 0, 0, 0, 0, 0, 0, 0, 0, 0, 0, 0, 0, 0, 0, 0, 0, 0, 0, 0, 0, 0, 0, 0, 0, 0, 0, 0, 0, 0, 0, 0, 0, 0, 0, 0, 0, 0, 0, 0, 0, 0, 0, 0, 0, 0, 0, 0, 0, 0, 0, 0, 0, 0, 0, 0, 0, 0, 0, 0, 0, 0, 0, 0, 0, 0, 0, 0, 0, 0, 0, 0, 0, 0, 0, 0, 0, 0, 0, 0, 0, 0, 0, 0, 0, 0, 0, 0, 0, 0, 0, 0, 0, 0, 0, 0, 0, 0, 0, 0, 0, 0, 0, 0, 0, 0, 0, 0, 0, 0, 0, 0, 0, 0, 0, 0, 0, 0, 0, 0, 0, 0, 0, 0, 0, 0, 0, 0, 0, 0, 0, 0, 0, 0, 0, 0, 0, 0, 0, 0, 0, 0, 0, 0, 0, 0, 0, 0, 0, 0, 0, 0, 0, 0, 0, 0, 0, 0, 0, 0, 0, 0, 0, 0, 0, 0, 0, 0, 0, 0, 0, 0, 0, 0, 0, 0, 0, 0, 0, 0, 0, 0, 0, 0, 0, 0, 0, 0, 0, 0, 0, 0, 0, 0, 0, 0, 0, 0, 0, 0, 0, 0, 0, 0, 0, 0, 0, 0, 0, 0, 0, 0, 0, 0, 0, 0, 0, 0, 0, 0, 0, 0, 0, 0, 0, 0, 0, 0, 0, 0, 0, 0, 0, 0, 0, 0, 0, 0, 0, 0, 0, 0, 0, 0, 0, 0, 0, 0, 0, 0, 0, 0, 0, 0, 0, 0, 0, 0, 0, 0, 0, 0, 0, 0, 0, 0, 0, 0, 0, 0, 0, 0, 0, 0, 0, 0, 0, 0, 0, 0, 0, 0, 0, 0, 0, 0, 0, 0, 0, 0, 0, 0, 0, 0, 0, 0, 0, 0, 0, 0, 0, 0, 0, 0, 0, 0, 0, 0, 0, 0, 0, 0, 0, 0, 0, 0, 0, 0, 0, 0, 0, 0, 0, 0, 0, 0, 0, 0, 0, 0, 0, 0, 0, 0, 0, 0, 0, 0, 0, 0, 0, 0, 0, 0, 0, 0, 0, 0, 0, 0, 0, 0, 0, 0, 0, 0, 0, 0, 0, 0, 0, 0, 0, 0, 0, 0, 0, 0, 0, 0, 0, 0, 0, 0, 0, 0, 0, 0, 0, 0, 0, 0, 0, 0, 0, 0, 0, 0, 0, 0, 0, 0, 0, 0, 0, 0, 0, 0, 0, 0, 0, 0, 0, 0, 0, 0, 0, 0, 0, 0, 0, 0, 0, 0, 0, 0, 0, 0, 0, 0, 0, 0, 0, 0, 0, 0, 0, 0, 0, 0, 0, 0, 0, 0, 0, 0, 0, 0, 0, 0, 0, 0, 0, 0, 0, 0, 0, 0, 0, 0, 0, 0, 0, 0, 0, 0, 0, 0, 0, 0, 0, 0, 0, 0, 0, 0, 0, 0, 0, 0, 0, 0, 0, 0, 0, 0, 0, 0, 0, 0, 0, 0, 0, 0, 0, 0, 0, 0, 0, 0, 0, 0, 0, 0, 0, 0, 0, 0, 0, 0, 0, 0, 0, 0, 0, 0, 0, 0, 0, 0, 0, 0, 0, 0, 0, 0, 0, 0, 0, 0, 0, 0, 0, 0, 0, 0, 0, 0, 0, 0, 0, 0, 0, 0, 0, 0, 0, 0, 0, 0, 0, 0, 0, 0, 0, 0, 0, 0, 0, 0, 0, 0, 0, 0, 0, 0, 0, 0, 0, 0, 0, 0, 0, 0, 0, 0, 0, 0, 0, 0, 0, 0, 0, 0, 0, 0, 0, 0, 0, 0, 0, 0, 0, 0, 0, 0, 0, 0, 0, 0, 0, 0, 0, 0, 0, 0, 0, 0, 0, 0, 0, 0, 0, 0, 0, 0, 0, 0, 0, 0, 0, 0, 0, 0, 0, 0, 0, 0, 0, 0, 0, 0, 0, 0, 0, 0, 0, 0, 0, 0, 0, 0, 0, 0, 0, 0, 0, 0, 0, 0, 0, 0, 0, 0, 0, 0, 0, 0, 0, 0, 0, 0, 0, 0, 0, 0, 0, 0, 0, 0, 0, 0, 0, 0, 0, 0, 0, 0, 0, 0, 0, 0, 0, 0, 0, 0, 0, 0, 0, 0, 0, 0, 0, 0, 0, 0, 0, 0, 0, 0, 0, 0, 0, 0, 0, 0, 0, 0, 0, 0, 0, 0, 0, 0, 0, 0, 0, 0, 0, 0, 0, 0, 0, 0, 0, 0, 0, 0, 0, 0, 0, 0, 0, 0, 0, 0, 0, 0, 0, 0, 0, 0, 0, 0, 0, 0, 0, 0, 0, 0, 0, 0, 0, 0, 0, 0, 0, 0, 0, 0, 0, 0, 0, 0, 0, 0, 0, 0, 0, 0, 0, 0, 0, 0, 0, 0, 0, 0, 0, 0, 0, 0, 0, 0, 0, 0, 0, 0, 0, 0, 0, 0, 0, 0, 0, 0, 0, 0, 0, 0, 0, 0, 0, 0, 0, 0, 0, 0, 0, 0, 0, 0, 0, 0, 0, 0, 0, 0, 0, 0, 0, 0, 0, 0, 0, 0, 0, 0, 0, 0, 0, 0, 0, 0, 0, 0, 0, 0, 0, 0, 0, 0, 0, 0, 0, 0, 0, 0, 0, 0, 0, 0, 0, 0, 0, 0, 0, 0, 0, 0, 0, 0, 0, 0, 0, 0, 0, 0, 0, 0, 0, 0, 0, 0, 0, 0, 0, 0, 0, 0, 0, 0, 0, 0, 0, 0, 0, 0, 0, 0, 0, 0, 0, 0, 0, 0, 0, 0, 0, 0, 0, 0, 0, 0, 0, 0, 0, 0, 0, 0, 0, 0, 0, 0, 0, 0, 0, 0, 0, 0, 0, 0, 0, 0, 0, 0, 0, 0, 0, 0, 0, 0, 0, 0, 0, 0, 0, 0, 0, 0, 0, 0, 0, 0, 0, 0, 0, 0, 0, 0, 0, 0, 0, 0, 0, 0, 0, 0, 0, 0, 0, 0, 0, 0, 0, 0, 0, 0, 0, 0, 0, 0, 0, 0, 0, 0, 0, 0, 0, 0, 0, 0, 0, 0, 0, 0, 0, 0, 0, 0, 0, 0, 0, 0, 0, 0, 0, 0, 0, 0, 0, 0, 0, 0, 0, 0, 0, 0, 0, 0, 0, 0, 0, 0, 0, 0, 0, 0, 0, 0, 0, 0, 0, 0, 0, 0, 0, 0, 0, 0, 0, 0, 0, 0, 0, 0, 0, 0, 0, 0, 0, 0, 0, 0, 0, 0, 0, 0, 0, 0, 0, 0, 0, 0, 0, 0, 0, 0, 0, 0, 0, 0, 0, 0, 0, 0, 0, 0, 0, 0, 0, 0, 0, 0, 0, 0, 0, 0, 0, 0, 0, 0, 0, 0, 0, 0, 0, 0, 0, 0, 0, 0, 0, 0, 0, 0, 0, 0, 0, 0, 0, 0, 0, 0, 0, 0, 0, 0, 0, 0, 0, 0, 0, 0, 0, 0, 0, 0, 0, 0, 0, 0, 0, 0, 0, 0, 0, 0, 0, 0, 0, 0, 0, 0, 0, 0, 0, 0, 0, 0, 0, 0, 0, 0, 0, 0, 0, 0, 0, 0, 0, 0, 0, 0, 0, 0, 0, 0, 0, 0, 0, 0, 0, 0, 0, 0, 0, 0, 0, 0, 0, 0, 0, 0, 0, 0, 0, 0, 0, 0, 0, 0, 0, 0, 0, 0, 0, 0, 0, 0, 0, 0, 0, 0, 0, 0, 0, 0, 0, 0, 0, 0, 0, 0, 0, 0, 0, 0, 0, 0, 0, 0, 0, 0, 0, 0, 0, 0, 0, 0, 0, 0, 0, 0, 0, 0, 0, 0, 0, 0, 0, 0, 0, 0, 0, 0, 0, 0, 0, 0, 0, 0, 0, 0, 0, 0, 0, 0, 0, 0, 0, 0, 0, 0, 0, 0, 0, 0, 0, 0, 0, 0, 0, 0, 0, 0, 0, 0, 0, 0, 0, 0, 0, 0, 0, 0, 0, 0, 0, 0, 0, 0, 0, 0, 0, 0, 0, 0, 0, 0, 0, 0, 0, 0, 0, 0, 0, 0, 0, 0, 0, 0, 0, 0, 0, 0, 0, 0, 0, 0, 0, 0, 0, 0, 0, 0, 0, 0, 0, 0, 0, 0, 0, 0, 0, 0, 0, 0, 0, 0, 0, 0, 0, 0, 0, 0, 0, 0, 0, 0, 0, 0, 0, 0, 0, 0, 0, 0, 0, 0, 0, 0, 0, 0, 0, 0, 0, 0, 0, 0, 0, 0, 0, 0, 0, 0, 0, 0, 0, 0, 0, 0, 0, 0, 0, 0, 0, 0, 0, 0, 0, 0, 0, 0, 0, 0, 0, 0, 0, 0, 0, 0, 0, 0, 0, 0, 0, 0, 0, 0, 0, 0, 0, 0, 0, 0, 0, 0, 0, 0, 0, 0, 0, 0, 0, 0, 0, 0, 0, 0, 0, 0, 0, 0, 0, 0, 0, 0, 0, 0, 0, 0, 0, 0, 0, 0, 0, 0, 0, 0, 0, 0, 0, 0, 0, 0, 0, 0, 0, 0, 0, 0, 0, 0, 0, 0, 0, 0, 0, 0, 0, 0, 0, 0, 0, 0, 0, 0, 0, 0, 0, 0, 0, 0, 0, 0, 0, 0, 0, 0, 0, 0, 0, 0, 0, 0, 0, 0, 0, 0, 0, 0, 0, 0, 0, 0, 0, 0, 0, 0, 0, 0, 0, 0, 0, 0, 0, 0, 0, 0, 0, 0, 0, 0, 0, 0, 0, 0, 0, 0, 0, 0, 0, 0, 0, 0, 0, 0, 0, 0, 0, 0, 0, 0, 0, 0, 0, 0, 0, 0, 0, 0, 0, 0, 0, 0, 0, 0, 0, 0, 0, 0, 0, 0, 0, 0, 0, 0, 0, 0, 0, 0, 0, 0, 0, 0, 0, 0, 0, 0, 0, 0, 0, 0, 0, 0, 0, 0, 0, 0, 0, 0, 0, 0, 0, 0, 0, 0, 0, 0, 0, 0, 0, 0, 0, 0, 0, 0, 0, 0, 0, 0, 0, 0, 0, 0, 0, 0, 0, 0, 0, 0, 0, 0, 0, 0, 0, 0, 0, 0, 0, 0, 0, 0, 0, 0, 0, 0, 0, 0, 0, 0, 0, 0, 0, 0, 0, 0, 0, 0, 0, 0, 0, 0, 0, 0, 0, 0, 0, 0, 0, 0, 0, 0, 0, 0, 0, 0, 0, 0, 0, 0, 0, 0, 0, 0, 0, 0, 0, 0, 0, 0, 0, 0, 0, 0, 0, 0, 0, 0, 0, 0, 0, 0, 0, 0, 0, 0, 0, 0, 0, 0, 0, 0, 0, 0, 0, 0, 0, 0, 0, 0, 0, 0, 0, 0, 0, 0, 0, 0, 0, 0, 0, 0, 0, 0, 0, 0, 0, 0, 0, 0, 0, 0, 0, 0, 0, 0, 0, 0, 0, 0, 0, 0, 0, 0, 0, 0, 0, 0, 0, 0, 0]]\n"
     ]
    }
   ],
   "source": [
    "# ubah nilai yg lebih dari 1 jadi 1, untuk penghitungan DF\n",
    "tf_spamForNIJ_stem = []\n",
    "changeValue(tf_spamrf_stem, tf_spamForNIJ_stem)\n",
    "print(tf_spamForNIJ_stem[:2])"
   ]
  },
  {
   "cell_type": "code",
   "execution_count": 57,
   "id": "ea3a4dce",
   "metadata": {},
   "outputs": [
    {
     "name": "stdout",
     "output_type": "stream",
     "text": [
      "[[1, 1, 1, 1, 1, 1, 1, 1, 1, 1, 1, 1, 1, 1, 1, 1, 1, 1, 1, 1, 0, 0, 0, 0, 0, 0, 0, 0, 0, 0, 0, 0, 0, 0, 0, 0, 0, 0, 0, 0, 0, 0, 0, 0, 0, 0, 0, 0, 0, 0, 0, 0, 0, 0, 0, 0, 0, 0, 0, 0, 0, 0, 0, 0, 0, 0, 0, 0, 0, 0, 0, 0, 0, 0, 0, 0, 0, 0, 0, 0, 0, 0, 0, 0, 0, 0, 0, 0, 0, 0, 0, 0, 0, 0, 0, 0, 0, 0, 0, 0, 0, 0, 0, 0, 0, 0, 0, 0, 0, 0, 0, 0, 0, 0, 0, 0, 0, 0, 0, 0, 0, 0, 0, 0, 0, 0, 0, 0, 0, 0, 0, 0, 0, 0, 0, 0, 0, 0, 0, 0, 0, 0, 0, 0, 0, 0, 0, 0, 0, 0, 0, 0, 0, 0, 0, 0, 0, 0, 0, 0, 0, 0, 0, 0, 0, 0, 0, 0, 0, 0, 0, 0, 0, 0, 0, 0, 0, 0, 0, 0, 0, 0, 0, 0, 0, 0, 0, 0, 0, 0, 0, 0, 0, 0, 0, 0, 0, 0, 0, 0, 0, 0, 0, 0, 0, 0, 0, 0, 0, 0, 0, 0, 0, 0, 0, 0, 0, 0, 0, 0, 0, 0, 0, 0, 0, 0, 0, 0, 0, 0, 0, 0, 0, 0, 0, 0, 0, 0, 0, 0, 0, 0, 0, 0, 0, 0, 0, 0, 0, 0, 0, 0, 0, 0, 0, 0, 0, 0, 0, 0, 0, 0, 0, 0, 0, 0, 0, 0, 0, 0, 0, 0, 0, 0, 0, 0, 0, 0, 0, 0, 0, 0, 0, 0, 0, 0, 0, 0, 0, 0, 0, 0, 0, 0, 0, 0, 0, 0, 0, 0, 0, 0, 0, 0, 0, 0, 0, 0, 0, 0, 0, 0, 0, 0, 0, 0, 0, 0, 0, 0, 0, 0, 0, 0, 0, 0, 0, 0, 0, 0, 0, 0, 0, 0, 0, 0, 0, 0, 0, 0, 0, 0, 0, 0, 0, 0, 0, 0, 0, 0, 0, 0, 0, 0, 0, 0, 0, 0, 0, 0, 0, 0, 0, 0, 0, 0, 0, 0, 0, 0, 0, 0, 0, 0, 0, 0, 0, 0, 0, 0, 0, 0, 0, 0, 0, 0, 0, 0, 0, 0, 0, 0, 0, 0, 0, 0, 0, 0, 0, 0, 0, 0, 0, 0, 0, 0, 0, 0, 0, 0, 0, 0, 0, 0, 0, 0, 0, 0, 0, 0, 0, 0, 0, 0, 0, 0, 0, 0, 0, 0, 0, 0, 0, 0, 0, 0, 0, 0, 0, 0, 0, 0, 0, 0, 0, 0, 0, 0, 0, 0, 0, 0, 0, 0, 0, 0, 0, 0, 0, 0, 0, 0, 0, 0, 0, 0, 0, 0, 0, 0, 0, 0, 0, 0, 0, 0, 0, 0, 0, 0, 0, 0, 0, 0, 0, 0, 0, 0, 0, 0, 0, 0, 0, 0, 0, 0, 0, 0, 0, 0, 0, 0, 0, 0, 0, 0, 0, 0, 0, 0, 0, 0, 0, 0, 0, 0, 0, 0, 0, 0, 0, 0, 0, 0, 0, 0, 0, 0, 0, 0, 0, 0, 0, 0, 0, 0, 0, 0, 0, 0, 0, 0, 0, 0, 0, 0, 0, 0, 0, 0, 0, 0, 0, 0, 0, 0, 0, 0, 0, 0, 0, 0, 0, 0, 0, 0, 0, 0, 0, 0, 0, 0, 0, 0, 0, 0, 0, 0, 0, 0, 0, 0, 0, 0, 0, 0, 0, 0, 0, 0, 0, 0, 0, 0, 0, 0, 0, 0, 0, 0, 0, 0, 0, 0, 0, 0, 0, 0, 0, 0, 0, 0, 0, 0, 0, 0, 0, 0, 0, 0, 0, 0, 0, 0, 0, 0, 0, 0, 0, 0, 0, 0, 0, 0, 0, 0, 0, 0, 0, 0, 0, 0, 0, 0, 0, 0, 0, 0, 0, 0, 0, 0, 0, 0, 0, 0, 0, 0, 0, 0, 0, 0, 0, 0, 0, 0, 0, 0, 0, 0, 0, 0, 0, 0, 0, 0, 0, 0, 0, 0, 0, 0, 0, 0, 0, 0, 0, 0, 0, 0, 0, 0, 0, 0, 0, 0, 0, 0, 0, 0, 0, 0, 0, 0, 0, 0, 0, 0, 0, 0, 0, 0, 0, 0, 0, 0, 0, 0, 0, 0, 0, 0, 0, 0, 0, 0, 0, 0, 0, 0, 0, 0, 0, 0, 0, 0, 0, 0, 0, 0, 0, 0, 0, 0, 0, 0, 0, 0, 0, 0, 0, 0, 0, 0, 0, 0, 0, 0, 0, 0, 0, 0, 0, 0, 0, 0, 0, 0, 0, 0, 0, 0, 0, 0, 0, 0, 0, 0, 0, 0, 0, 0, 0, 0, 0, 0, 0, 0, 0, 0, 0, 0, 0, 0, 0, 0, 0, 0, 0, 0, 0, 0, 0, 0, 0, 0, 0, 0, 0, 0, 0, 0, 0, 0, 0, 0, 0, 0, 0, 0, 0, 0, 0, 0, 0, 0, 0, 0, 0, 0, 0, 0, 0, 0, 0, 0, 0, 0, 0, 0, 0, 0, 0, 0, 0, 0, 0, 0, 0, 0, 0, 0, 0, 0, 0, 0, 0, 0, 0, 0, 0, 0, 0, 0, 0, 0, 0, 0, 0, 0, 0, 0, 0, 0, 0, 0, 0, 0, 0, 0, 0, 0, 0, 0, 0, 0, 0, 0, 0, 0, 0, 0, 0, 0, 0, 0, 0, 0, 0, 0, 0, 0, 0, 0, 0, 0, 0, 0, 0, 0, 0, 0, 0, 0, 0, 0, 0, 0, 0, 0, 0, 0, 0, 0, 0, 0, 0, 0, 0, 0, 0, 0, 0, 0, 0, 0, 0, 0, 0, 0, 0, 0, 0, 0, 0, 0, 0, 0, 0, 0, 0, 0, 0, 0, 0, 0, 0, 0, 0, 0, 0, 0, 0, 0, 0, 0, 0, 0, 0, 0, 0, 0, 0, 0, 0, 0, 0, 0, 0, 0, 0, 0, 0, 0, 0, 0, 0, 0, 0, 0, 0, 0, 0, 0, 0, 0, 0, 0, 0, 0, 0, 0, 0, 0, 0, 0, 0, 0, 0, 0, 0, 0, 0, 0, 0, 0, 0, 0, 0, 0, 0, 0, 0, 0, 0, 0, 0, 0, 0, 0, 0, 0, 0, 0, 0, 0, 0, 0, 0, 0, 0, 0, 0, 0, 0, 0, 0, 0, 0, 0, 0, 0, 0, 0, 0, 0, 0, 0, 0, 0, 0, 0, 0, 0, 0, 0, 0, 0, 0, 0, 0, 0, 0, 0, 0, 0, 0, 0, 0, 0, 0, 0, 0, 0, 0, 0, 0, 0, 0, 0, 0, 0, 0, 0, 0, 0, 0, 0, 0, 0, 0, 0, 0, 0, 0, 0, 0, 0, 0, 0, 0, 0, 0, 0, 0, 0, 0, 0, 0, 0, 0, 0, 0, 0, 0, 0, 0, 0, 0, 0, 0, 0, 0, 0, 0, 0, 0, 0, 0, 0, 0, 0, 0, 0, 0, 0, 0, 0, 0, 0, 0, 0, 0, 0, 0, 0, 0, 0, 0, 0, 0, 0, 0, 0, 0, 0, 0, 0, 0, 0, 0, 0, 0, 0, 0, 0, 0, 0, 0, 0, 0, 0, 0, 0, 0, 0, 0, 0, 0, 0, 0, 0, 0, 0, 0, 0, 0, 0, 0, 0, 0, 0, 0, 0, 0, 0, 0, 0, 0, 0, 0, 0, 0, 0, 0, 0, 0, 0, 0, 0, 0, 0, 0, 0, 0, 0, 0, 0, 0, 0, 0, 0, 0, 0, 0, 0, 0, 0, 0, 0, 0, 0, 0, 0, 0, 0, 0, 0, 0, 0, 0, 0, 0, 0, 0, 0, 0, 0, 0, 0, 0, 0, 0, 0, 0, 0, 0, 0, 0, 0, 0, 0, 0, 0, 0, 0, 0, 0, 0, 0, 0, 0, 0, 0, 0, 0, 0, 0, 0, 0, 0, 0, 0, 0, 0, 0, 0, 0, 0, 0, 0, 0, 0, 0, 0, 0, 0, 0, 0, 0, 0, 0, 0, 0, 0, 0, 0, 0, 0, 0, 0, 0, 0, 0, 0, 0, 0, 0, 0, 0, 0, 0, 0, 0, 0, 0, 0, 0, 0, 0, 0, 0, 0, 0, 0, 0, 0, 0, 0, 0, 0, 0, 0, 0, 0, 0, 0, 0, 0, 0, 0, 0, 0, 0, 0, 0, 0, 0, 0, 0, 0, 0, 0, 0, 0, 0, 0, 0, 0, 0, 0, 0, 0, 0, 0, 0, 0, 0, 0, 0, 0, 0, 0, 0, 0, 0, 0, 0, 0, 0, 0, 0, 0, 0, 0, 0, 0, 0, 0, 0, 0, 0, 0, 0, 0, 0, 0, 0, 0, 0, 0, 0, 0, 0, 0, 0, 0, 0, 0, 0, 0, 0, 0, 0, 0, 0, 0, 0, 0, 0, 0, 0, 0, 0, 0, 0, 0, 0, 0, 0, 0, 0, 0, 0, 0, 0, 0, 0, 0, 0, 0, 0, 0, 0, 0, 0, 0, 0, 0, 0, 0, 0, 0, 0, 0, 0, 0, 0, 0, 0, 0, 0, 0, 0, 0, 0, 0, 0, 0, 0, 0, 0, 0, 0, 0, 0, 0, 0, 0, 0, 0, 0, 0, 0, 0, 0, 0, 0, 0, 0, 0, 0, 0, 0, 0, 0, 0, 0, 0, 0, 0, 0, 0, 0, 0, 0, 0, 0, 0, 0, 0, 0, 0, 0, 0, 0, 0, 0, 0, 0, 0, 0, 0, 0, 0, 0, 0, 0, 0, 0, 0, 0, 0, 0, 0, 0, 0, 0, 0, 0, 0, 0, 0, 0, 0, 0, 0, 0, 0, 0, 0, 0, 0, 0, 0, 0, 0, 0, 0, 0, 0, 0, 0, 0, 0, 0, 0, 0, 0, 0, 0, 0, 0, 0, 0, 0, 0, 0, 0, 0, 0, 0, 0, 0, 0, 0, 0, 0, 0, 0, 0, 0, 0, 0, 0, 0, 0, 0, 0, 0, 0, 0, 0, 0, 0, 0, 0, 0, 0, 0, 0, 0, 0, 0, 0, 0, 0, 0, 0, 0, 0, 0, 0, 0, 0, 0, 0, 0, 0, 0, 0, 0, 0, 0, 0, 0, 0, 0, 0, 0, 0, 0, 0, 0, 0, 0, 0, 0, 0, 0, 0, 0, 0, 0, 0, 0, 0, 0, 0, 0, 0, 0, 0, 0, 0, 0, 0, 0, 0, 0, 0, 0, 0, 0, 0, 0, 0, 0, 0, 0, 0, 0, 0, 0, 0, 0, 0, 0, 0, 0, 0, 0, 0, 0, 0, 0, 0, 0, 0, 0, 0, 0, 0, 0, 0, 0, 0, 0, 0, 0, 0, 0, 0, 0, 0, 0, 0, 0, 0, 0, 0, 0, 0, 0, 0, 0, 0, 0, 0, 0, 0, 0, 0, 0, 0, 0, 0, 0, 0, 0, 0, 0, 0, 0, 0, 0, 0, 0, 0, 0, 0, 0, 0, 0, 0, 0, 0, 0, 0, 0, 0, 0, 0, 0, 0, 0, 0, 0, 0, 0, 0, 0, 0, 0, 0, 0, 0, 0, 0, 0, 0, 0, 0, 0, 0, 0, 0, 0, 0, 0, 0, 0, 0, 0, 0, 0, 0, 0, 0, 0, 0, 0, 0, 0, 0, 0, 0, 0, 0, 0, 0, 0, 0, 0, 0, 0, 0, 0, 0, 0, 0, 0, 0, 0, 0, 0, 0, 0, 0, 0, 0, 0, 0, 0, 0, 0, 0, 0, 0, 0, 0, 0, 0, 0, 0, 0, 0, 0, 0, 0, 0, 0, 0, 0, 0, 0, 0, 0, 0, 0, 0, 0, 0, 0, 0, 0, 0, 0, 0, 0, 0, 0, 0, 0, 0, 0, 0, 0, 0, 0, 0, 0, 0, 0, 0, 0, 0, 0, 0, 0, 0, 0, 0, 0, 0, 0, 0, 0, 0, 0, 0, 0, 0, 0, 0, 0, 0, 0, 0, 0, 0, 0, 0, 0, 0, 0, 0, 0, 0, 0, 0, 0, 0, 0, 0, 0, 0, 0, 0, 0, 0, 0, 0, 0, 0, 0, 0, 0, 0, 0, 0, 0, 0, 0, 0, 0, 0, 0, 0, 0, 0, 0, 0, 0, 0, 0, 0, 0, 0, 0, 0, 0, 0, 0, 0, 0, 0, 0, 0, 0, 0, 0, 0, 0, 0, 0, 0, 0, 0, 0, 0, 0, 0, 0, 0, 0, 0, 0, 0, 0, 0, 0, 0, 0, 0, 0, 0, 0, 0, 0, 0, 0, 0, 0, 0, 0, 0, 0, 0, 0, 0, 0, 0, 0, 0, 0, 0, 0, 0, 0, 0, 0, 0, 0, 0, 0, 0, 0, 0, 0, 0, 0, 0, 0, 0, 0, 0, 0, 0, 0, 0, 0, 0, 0, 0, 0, 0, 0, 0, 0, 0, 0, 0, 0, 0, 0, 0, 0, 0, 0, 0, 0, 0, 0, 0, 0, 0, 0, 0, 0, 0, 0, 0, 0, 0, 0, 0, 0, 0, 0, 0, 0, 0, 0, 0, 0, 0, 0, 0, 0, 0, 0, 0, 0, 0, 0, 0, 0, 0, 0, 0, 0, 0, 0, 0, 0, 0, 0, 0, 0, 0, 0, 0, 0, 0, 0, 0, 0, 0, 0, 0, 0, 0, 0, 0, 0, 0, 0, 0, 0, 0, 0, 0, 0, 0, 0, 0, 0, 0, 0, 0, 0, 0, 0, 0, 0, 0, 0, 0, 0, 0, 0, 0, 0, 0, 0, 0, 0, 0, 0, 0, 0, 0, 0, 0, 0, 0, 0, 0, 0, 0, 0, 0, 0, 0, 0, 0, 0, 0, 0, 0, 0, 0, 0, 0, 0, 0, 0, 0, 0, 0, 0, 0, 0, 0, 0, 0, 0, 0, 0, 0, 0, 0, 0, 0, 0, 0, 0, 0, 0, 0, 0, 0, 0, 0, 0, 0, 0, 0, 0, 0, 0, 0, 0, 0, 0, 0, 0, 0, 0, 0, 0, 0, 0, 0, 0, 0, 0, 0, 0, 0, 0, 0, 0, 0, 0, 0, 0, 0, 0, 0, 0, 0, 0, 0, 0, 0, 0, 0, 0, 0, 0, 0, 0, 0, 0, 0, 0, 0, 0, 0, 0, 0, 0, 0, 0, 0, 0, 0, 0, 0, 0, 0, 0, 0, 0, 0, 0, 0, 0, 0, 0, 0, 0, 0, 0, 0, 0, 0, 0, 0, 0, 0, 0, 0, 0, 0, 0, 0, 0, 0, 0, 0, 0, 0, 0, 0, 0, 0, 0, 0, 0, 0, 0, 0, 0, 0, 0, 0, 0, 0, 0, 0, 0, 0, 0, 0, 0, 0, 0, 0, 0, 0, 0, 0, 0, 0, 0, 0, 0, 0, 0, 0, 0, 0, 0, 0, 0, 0, 0, 0, 0, 0, 0, 0, 0, 0, 0, 0, 0, 0, 0, 0, 0, 0, 0, 0, 0, 0, 0, 0, 0, 0, 0, 0, 0, 0, 0, 0, 0, 0, 0, 0, 0, 0, 0, 0, 0, 0, 0, 0, 0, 0, 0, 0, 0, 0, 0, 0, 0, 0, 0, 0, 0, 0, 0, 0, 0, 0, 0, 0, 0, 0, 0, 0, 0, 0, 0, 0, 0, 0, 0, 0, 0, 0, 0, 0, 0, 0, 0, 0, 0, 0, 0, 0, 0, 0, 0, 0, 0, 0, 0, 0, 0, 0, 0, 0, 0, 0, 0, 0, 0, 0, 0, 0, 0, 0, 0, 0, 0, 0, 0, 0, 0, 0, 0, 0, 0, 0, 0, 0, 0, 0, 0, 0, 0, 0, 0, 0, 0, 0, 0, 0, 0, 0, 0, 0, 0, 0, 0, 0, 0, 0, 0, 0, 0, 0, 0, 0, 0, 0, 0, 0, 0, 0, 0, 0, 0, 0, 0, 0, 0, 0, 0, 0, 0, 0, 0, 0, 0, 0, 0, 0, 0, 0, 0, 0, 0, 0, 0, 0, 0, 0, 0, 0, 0, 0, 0, 0, 0, 0, 0, 0, 0, 0, 0, 0, 0, 0, 0, 0, 0, 0, 0, 0, 0, 0, 0, 0, 0, 0, 0, 0, 0, 0, 0, 0, 0, 0, 0, 0, 0, 0, 0, 0, 0, 0, 0, 0, 0, 0, 0, 0, 0, 0, 0, 0, 0, 0, 0, 0, 0, 0, 0, 0, 0, 0, 0, 0, 0, 0, 0, 0, 0, 0, 0, 0, 0, 0, 0, 0, 0, 0, 0, 0, 0, 0, 0, 0, 0, 0, 0, 0, 0, 0, 0, 0, 0, 0, 0, 0, 0, 0, 0, 0, 0, 0, 0, 0, 0, 0, 0, 0, 0, 0, 0, 0, 0, 0, 0, 0, 0, 0, 0, 0, 0, 0, 0, 0, 0, 0, 0, 0, 0, 0, 0, 0, 0, 0, 0, 0, 0, 0, 0, 0, 0, 0, 0, 0, 0, 0, 0, 0, 0, 0, 0, 0, 0, 0, 0, 0, 0, 0, 0, 0, 0, 0, 0, 0, 0, 0, 0, 0, 0, 0, 0, 0, 0, 0, 0, 0, 0, 0, 0, 0, 0, 0, 0, 0, 0, 0, 0, 0, 0, 0, 0, 0, 0, 0, 0, 0, 0, 0, 0, 0, 0, 0, 0, 0, 0, 0, 0, 0, 0, 0, 0, 0, 0, 0, 0, 0, 0, 0, 0, 0, 0, 0, 0, 0, 0, 0], [0, 1, 1, 0, 0, 0, 0, 0, 0, 0, 0, 0, 0, 0, 0, 0, 0, 0, 1, 0, 1, 1, 1, 1, 1, 1, 1, 1, 1, 1, 1, 1, 0, 0, 0, 0, 0, 0, 0, 0, 0, 0, 0, 0, 0, 0, 0, 0, 0, 0, 0, 0, 0, 0, 0, 0, 0, 0, 0, 0, 0, 0, 0, 0, 0, 0, 0, 0, 0, 0, 0, 0, 0, 0, 0, 0, 0, 0, 0, 0, 0, 0, 0, 0, 0, 0, 0, 0, 0, 0, 0, 0, 0, 0, 0, 0, 0, 0, 0, 0, 0, 0, 0, 0, 0, 0, 0, 0, 0, 0, 0, 0, 0, 0, 0, 0, 0, 0, 0, 0, 0, 0, 0, 0, 0, 0, 0, 0, 0, 0, 0, 0, 0, 0, 0, 0, 0, 0, 0, 0, 0, 0, 0, 0, 0, 0, 0, 0, 0, 0, 0, 0, 0, 0, 0, 0, 0, 0, 0, 0, 0, 0, 0, 0, 0, 0, 0, 0, 0, 0, 0, 0, 0, 0, 0, 0, 0, 0, 0, 0, 0, 0, 0, 0, 0, 0, 0, 0, 0, 0, 0, 0, 0, 0, 0, 0, 0, 0, 0, 0, 0, 0, 0, 0, 0, 0, 0, 0, 0, 0, 0, 0, 0, 0, 0, 0, 0, 0, 0, 0, 0, 0, 0, 0, 0, 0, 0, 0, 0, 0, 0, 0, 0, 0, 0, 0, 0, 0, 0, 0, 0, 0, 0, 0, 0, 0, 0, 0, 0, 0, 0, 0, 0, 0, 0, 0, 0, 0, 0, 0, 0, 0, 0, 0, 0, 0, 0, 0, 0, 0, 0, 0, 0, 0, 0, 0, 0, 0, 0, 0, 0, 0, 0, 0, 0, 0, 0, 0, 0, 0, 0, 0, 0, 0, 0, 0, 0, 0, 0, 0, 0, 0, 0, 0, 0, 0, 0, 0, 0, 0, 0, 0, 0, 0, 0, 0, 0, 0, 0, 0, 0, 0, 0, 0, 0, 0, 0, 0, 0, 0, 0, 0, 0, 0, 0, 0, 0, 0, 0, 0, 0, 0, 0, 0, 0, 0, 0, 0, 0, 0, 0, 0, 0, 0, 0, 0, 0, 0, 0, 0, 0, 0, 0, 0, 0, 0, 0, 0, 0, 0, 0, 0, 0, 0, 0, 0, 0, 0, 0, 0, 0, 0, 0, 0, 0, 0, 0, 0, 0, 0, 0, 0, 0, 0, 0, 0, 0, 0, 0, 0, 0, 0, 0, 0, 0, 0, 0, 0, 0, 0, 0, 0, 0, 0, 0, 0, 0, 0, 0, 0, 0, 0, 0, 0, 0, 0, 0, 0, 0, 0, 0, 0, 0, 0, 0, 0, 0, 0, 0, 0, 0, 0, 0, 0, 0, 0, 0, 0, 0, 0, 0, 0, 0, 0, 0, 0, 0, 0, 0, 0, 0, 0, 0, 0, 0, 0, 0, 0, 0, 0, 0, 0, 0, 0, 0, 0, 0, 0, 0, 0, 0, 0, 0, 0, 0, 0, 0, 0, 0, 0, 0, 0, 0, 0, 0, 0, 0, 0, 0, 0, 0, 0, 0, 0, 0, 0, 0, 0, 0, 0, 0, 0, 0, 0, 0, 0, 0, 0, 0, 0, 0, 0, 0, 0, 0, 0, 0, 0, 0, 0, 0, 0, 0, 0, 0, 0, 0, 0, 0, 0, 0, 0, 0, 0, 0, 0, 0, 0, 0, 0, 0, 0, 0, 0, 0, 0, 0, 0, 0, 0, 0, 0, 0, 0, 0, 0, 0, 0, 0, 0, 0, 0, 0, 0, 0, 0, 0, 0, 0, 0, 0, 0, 0, 0, 0, 0, 0, 0, 0, 0, 0, 0, 0, 0, 0, 0, 0, 0, 0, 0, 0, 0, 0, 0, 0, 0, 0, 0, 0, 0, 0, 0, 0, 0, 0, 0, 0, 0, 0, 0, 0, 0, 0, 0, 0, 0, 0, 0, 0, 0, 0, 0, 0, 0, 0, 0, 0, 0, 0, 0, 0, 0, 0, 0, 0, 0, 0, 0, 0, 0, 0, 0, 0, 0, 0, 0, 0, 0, 0, 0, 0, 0, 0, 0, 0, 0, 0, 0, 0, 0, 0, 0, 0, 0, 0, 0, 0, 0, 0, 0, 0, 0, 0, 0, 0, 0, 0, 0, 0, 0, 0, 0, 0, 0, 0, 0, 0, 0, 0, 0, 0, 0, 0, 0, 0, 0, 0, 0, 0, 0, 0, 0, 0, 0, 0, 0, 0, 0, 0, 0, 0, 0, 0, 0, 0, 0, 0, 0, 0, 0, 0, 0, 0, 0, 0, 0, 0, 0, 0, 0, 0, 0, 0, 0, 0, 0, 0, 0, 0, 0, 0, 0, 0, 0, 0, 0, 0, 0, 0, 0, 0, 0, 0, 0, 0, 0, 0, 0, 0, 0, 0, 0, 0, 0, 0, 0, 0, 0, 0, 0, 0, 0, 0, 0, 0, 0, 0, 0, 0, 0, 0, 0, 0, 0, 0, 0, 0, 0, 0, 0, 0, 0, 0, 0, 0, 0, 0, 0, 0, 0, 0, 0, 0, 0, 0, 0, 0, 0, 0, 0, 0, 0, 0, 0, 0, 0, 0, 0, 0, 0, 0, 0, 0, 0, 0, 0, 0, 0, 0, 0, 0, 0, 0, 0, 0, 0, 0, 0, 0, 0, 0, 0, 0, 0, 0, 0, 0, 0, 0, 0, 0, 0, 0, 0, 0, 0, 0, 0, 0, 0, 0, 0, 0, 0, 0, 0, 0, 0, 0, 0, 0, 0, 0, 0, 0, 0, 0, 0, 0, 0, 0, 0, 0, 0, 0, 0, 0, 0, 0, 0, 0, 0, 0, 0, 0, 0, 0, 0, 0, 0, 0, 0, 0, 0, 0, 0, 0, 0, 0, 0, 0, 0, 0, 0, 0, 0, 0, 0, 0, 0, 0, 0, 0, 0, 0, 0, 0, 0, 0, 0, 0, 0, 0, 0, 0, 0, 0, 0, 0, 0, 0, 0, 0, 0, 0, 0, 0, 0, 0, 0, 0, 0, 0, 0, 0, 0, 0, 0, 0, 0, 0, 0, 0, 0, 0, 0, 0, 0, 0, 0, 0, 0, 0, 0, 0, 0, 0, 0, 0, 0, 0, 0, 0, 0, 0, 0, 0, 0, 0, 0, 0, 0, 0, 0, 0, 0, 0, 0, 0, 0, 0, 0, 0, 0, 0, 0, 0, 0, 0, 0, 0, 0, 0, 0, 0, 0, 0, 0, 0, 0, 0, 0, 0, 0, 0, 0, 0, 0, 0, 0, 0, 0, 0, 0, 0, 0, 0, 0, 0, 0, 0, 0, 0, 0, 0, 0, 0, 0, 0, 0, 0, 0, 0, 0, 0, 0, 0, 0, 0, 0, 0, 0, 0, 0, 0, 0, 0, 0, 0, 0, 0, 0, 0, 0, 0, 0, 0, 0, 0, 0, 0, 0, 0, 0, 0, 0, 0, 0, 0, 0, 0, 0, 0, 0, 0, 0, 0, 0, 0, 0, 0, 0, 0, 0, 0, 0, 0, 0, 0, 0, 0, 0, 0, 0, 0, 0, 0, 0, 0, 0, 0, 0, 0, 0, 0, 0, 0, 0, 0, 0, 0, 0, 0, 0, 0, 0, 0, 0, 0, 0, 0, 0, 0, 0, 0, 0, 0, 0, 0, 0, 0, 0, 0, 0, 0, 0, 0, 0, 0, 0, 0, 0, 0, 0, 0, 0, 0, 0, 0, 0, 0, 0, 0, 0, 0, 0, 0, 0, 0, 0, 0, 0, 0, 0, 0, 0, 0, 0, 0, 0, 0, 0, 0, 0, 0, 0, 0, 0, 0, 0, 0, 0, 0, 0, 0, 0, 0, 0, 0, 0, 0, 0, 0, 0, 0, 0, 0, 0, 0, 0, 0, 0, 0, 0, 0, 0, 0, 0, 0, 0, 0, 0, 0, 0, 0, 0, 0, 0, 0, 0, 0, 0, 0, 0, 0, 0, 0, 0, 0, 0, 0, 0, 0, 0, 0, 0, 0, 0, 0, 0, 0, 0, 0, 0, 0, 0, 0, 0, 0, 0, 0, 0, 0, 0, 0, 0, 0, 0, 0, 0, 0, 0, 0, 0, 0, 0, 0, 0, 0, 0, 0, 0, 0, 0, 0, 0, 0, 0, 0, 0, 0, 0, 0, 0, 0, 0, 0, 0, 0, 0, 0, 0, 0, 0, 0, 0, 0, 0, 0, 0, 0, 0, 0, 0, 0, 0, 0, 0, 0, 0, 0, 0, 0, 0, 0, 0, 0, 0, 0, 0, 0, 0, 0, 0, 0, 0, 0, 0, 0, 0, 0, 0, 0, 0, 0, 0, 0, 0, 0, 0, 0, 0, 0, 0, 0, 0, 0, 0, 0, 0, 0, 0, 0, 0, 0, 0, 0, 0, 0, 0, 0, 0, 0, 0, 0, 0, 0, 0, 0, 0, 0, 0, 0, 0, 0, 0, 0, 0, 0, 0, 0, 0, 0, 0, 0, 0, 0, 0, 0, 0, 0, 0, 0, 0, 0, 0, 0, 0, 0, 0, 0, 0, 0, 0, 0, 0, 0, 0, 0, 0, 0, 0, 0, 0, 0, 0, 0, 0, 0, 0, 0, 0, 0, 0, 0, 0, 0, 0, 0, 0, 0, 0, 0, 0, 0, 0, 0, 0, 0, 0, 0, 0, 0, 0, 0, 0, 0, 0, 0, 0, 0, 0, 0, 0, 0, 0, 0, 0, 0, 0, 0, 0, 0, 0, 0, 0, 0, 0, 0, 0, 0, 0, 0, 0, 0, 0, 0, 0, 0, 0, 0, 0, 0, 0, 0, 0, 0, 0, 0, 0, 0, 0, 0, 0, 0, 0, 0, 0, 0, 0, 0, 0, 0, 0, 0, 0, 0, 0, 0, 0, 0, 0, 0, 0, 0, 0, 0, 0, 0, 0, 0, 0, 0, 0, 0, 0, 0, 0, 0, 0, 0, 0, 0, 0, 0, 0, 0, 0, 0, 0, 0, 0, 0, 0, 0, 0, 0, 0, 0, 0, 0, 0, 0, 0, 0, 0, 0, 0, 0, 0, 0, 0, 0, 0, 0, 0, 0, 0, 0, 0, 0, 0, 0, 0, 0, 0, 0, 0, 0, 0, 0, 0, 0, 0, 0, 0, 0, 0, 0, 0, 0, 0, 0, 0, 0, 0, 0, 0, 0, 0, 0, 0, 0, 0, 0, 0, 0, 0, 0, 0, 0, 0, 0, 0, 0, 0, 0, 0, 0, 0, 0, 0, 0, 0, 0, 0, 0, 0, 0, 0, 0, 0, 0, 0, 0, 0, 0, 0, 0, 0, 0, 0, 0, 0, 0, 0, 0, 0, 0, 0, 0, 0, 0, 0, 0, 0, 0, 0, 0, 0, 0, 0, 0, 0, 0, 0, 0, 0, 0, 0, 0, 0, 0, 0, 0, 0, 0, 0, 0, 0, 0, 0, 0, 0, 0, 0, 0, 0, 0, 0, 0, 0, 0, 0, 0, 0, 0, 0, 0, 0, 0, 0, 0, 0, 0, 0, 0, 0, 0, 0, 0, 0, 0, 0, 0, 0, 0, 0, 0, 0, 0, 0, 0, 0, 0, 0, 0, 0, 0, 0, 0, 0, 0, 0, 0, 0, 0, 0, 0, 0, 0, 0, 0, 0, 0, 0, 0, 0, 0, 0, 0, 0, 0, 0, 0, 0, 0, 0, 0, 0, 0, 0, 0, 0, 0, 0, 0, 0, 0, 0, 0, 0, 0, 0, 0, 0, 0, 0, 0, 0, 0, 0, 0, 0, 0, 0, 0, 0, 0, 0, 0, 0, 0, 0, 0, 0, 0, 0, 0, 0, 0, 0, 0, 0, 0, 0, 0, 0, 0, 0, 0, 0, 0, 0, 0, 0, 0, 0, 0, 0, 0, 0, 0, 0, 0, 0, 0, 0, 0, 0, 0, 0, 0, 0, 0, 0, 0, 0, 0, 0, 0, 0, 0, 0, 0, 0, 0, 0, 0, 0, 0, 0, 0, 0, 0, 0, 0, 0, 0, 0, 0, 0, 0, 0, 0, 0, 0, 0, 0, 0, 0, 0, 0, 0, 0, 0, 0, 0, 0, 0, 0, 0, 0, 0, 0, 0, 0, 0, 0, 0, 0, 0, 0, 0, 0, 0, 0, 0, 0, 0, 0, 0, 0, 0, 0, 0, 0, 0, 0, 0, 0, 0, 0, 0, 0, 0, 0, 0, 0, 0, 0, 0, 0, 0, 0, 0, 0, 0, 0, 0, 0, 0, 0, 0, 0, 0, 0, 0, 0, 0, 0, 0, 0, 0, 0, 0, 0, 0, 0, 0, 0, 0, 0, 0, 0, 0, 0, 0, 0, 0, 0, 0, 0, 0, 0, 0, 0, 0, 0, 0, 0, 0, 0, 0, 0, 0, 0, 0, 0, 0, 0, 0, 0, 0, 0, 0, 0, 0, 0, 0, 0, 0, 0, 0, 0, 0, 0, 0, 0, 0, 0, 0, 0, 0, 0, 0, 0, 0, 0, 0, 0, 0, 0, 0, 0, 0, 0, 0, 0, 0, 0, 0, 0, 0, 0, 0, 0, 0, 0, 0, 0, 0, 0, 0, 0, 0, 0, 0, 0, 0, 0, 0, 0, 0, 0, 0, 0, 0, 0, 0, 0, 0, 0, 0, 0, 0, 0, 0, 0, 0, 0, 0, 0, 0, 0, 0, 0, 0, 0, 0, 0, 0, 0, 0, 0, 0, 0, 0, 0, 0, 0, 0, 0, 0, 0, 0, 0, 0, 0, 0, 0, 0, 0, 0, 0, 0, 0, 0, 0, 0, 0, 0, 0, 0, 0, 0, 0, 0, 0, 0, 0, 0, 0, 0, 0, 0, 0, 0, 0, 0, 0, 0, 0, 0, 0, 0, 0, 0, 0, 0, 0, 0, 0, 0, 0, 0, 0, 0, 0, 0, 0, 0, 0, 0, 0, 0, 0, 0, 0, 0, 0, 0, 0, 0, 0, 0, 0, 0, 0, 0, 0, 0, 0, 0, 0, 0, 0, 0, 0, 0, 0, 0, 0, 0, 0, 0, 0, 0, 0, 0, 0, 0, 0, 0, 0, 0, 0, 0, 0, 0, 0, 0, 0, 0, 0, 0, 0, 0, 0, 0, 0, 0, 0, 0, 0, 0, 0, 0, 0, 0, 0, 0, 0, 0, 0, 0, 0, 0, 0, 0, 0, 0, 0, 0, 0, 0, 0, 0, 0, 0, 0, 0, 0, 0, 0, 0, 0, 0, 0, 0, 0, 0, 0, 0, 0, 0, 0, 0, 0, 0, 0, 0, 0, 0, 0, 0, 0, 0, 0, 0, 0, 0, 0, 0, 0, 0, 0, 0, 0, 0, 0, 0, 0, 0, 0, 0, 0, 0, 0, 0, 0, 0, 0, 0, 0, 0, 0, 0, 0, 0, 0, 0, 0, 0, 0, 0, 0, 0, 0, 0, 0, 0, 0, 0, 0, 0, 0, 0, 0, 0, 0, 0, 0, 0, 0, 0, 0, 0, 0, 0, 0, 0, 0, 0, 0, 0, 0, 0, 0, 0, 0, 0, 0, 0, 0, 0, 0, 0, 0, 0, 0, 0, 0, 0, 0, 0, 0, 0, 0, 0, 0, 0, 0, 0, 0, 0, 0, 0, 0, 0, 0, 0, 0, 0, 0, 0, 0, 0, 0, 0, 0, 0, 0, 0, 0, 0, 0, 0, 0, 0, 0, 0, 0, 0, 0, 0, 0, 0, 0, 0, 0, 0, 0, 0, 0, 0, 0, 0, 0, 0, 0, 0, 0, 0, 0, 0, 0, 0, 0, 0, 0, 0, 0, 0, 0, 0, 0, 0, 0, 0, 0, 0, 0, 0, 0, 0, 0, 0, 0, 0, 0, 0, 0, 0, 0, 0, 0, 0, 0, 0, 0, 0, 0, 0, 0, 0, 0, 0, 0, 0, 0, 0, 0, 0, 0, 0, 0, 0, 0, 0, 0, 0, 0, 0, 0, 0, 0, 0, 0, 0, 0, 0, 0, 0, 0, 0, 0, 0, 0, 0, 0, 0, 0, 0, 0, 0, 0, 0, 0, 0, 0, 0, 0, 0, 0, 0, 0, 0, 0, 0, 0, 0, 0, 0, 0, 0, 0, 0, 0, 0, 0, 0, 0, 0, 0, 0, 0, 0, 0, 0, 0, 0, 0, 0, 0, 0, 0, 0, 0, 0, 0, 0, 0, 0, 0, 0, 0, 0, 0, 0, 0, 0, 0, 0, 0, 0, 0, 0, 0, 0, 0, 0, 0, 0, 0, 0, 0, 0, 0, 0, 0, 0, 0, 0, 0, 0, 0, 0, 0, 0, 0, 0, 0, 0, 0, 0, 0, 0, 0, 0, 0, 0, 0, 0, 0, 0, 0, 0, 0, 0, 0, 0, 0, 0, 0, 0, 0, 0, 0, 0, 0, 0, 0, 0, 0, 0, 0, 0, 0, 0, 0, 0, 0, 0, 0, 0, 0, 0, 0, 0, 0, 0, 0, 0, 0, 0, 0, 0, 0, 0, 0, 0, 0, 0, 0, 0, 0, 0, 0, 0, 0, 0, 0, 0, 0, 0, 0, 0, 0, 0, 0, 0, 0, 0, 0, 0, 0, 0, 0, 0, 0, 0, 0, 0, 0, 0, 0, 0, 0, 0, 0, 0, 0, 0, 0, 0, 0, 0, 0, 0, 0, 0, 0, 0, 0, 0, 0, 0, 0, 0, 0, 0, 0, 0, 0, 0, 0, 0, 0, 0, 0, 0, 0, 0, 0, 0, 0, 0, 0, 0, 0, 0, 0, 0, 0, 0, 0, 0, 0, 0, 0, 0, 0, 0, 0, 0, 0, 0, 0, 0, 0, 0, 0, 0, 0, 0, 0, 0, 0, 0, 0, 0, 0, 0, 0, 0, 0, 0, 0, 0, 0, 0, 0, 0, 0, 0, 0, 0, 0, 0, 0]]\n"
     ]
    }
   ],
   "source": [
    "# ubah nilai yg lebih dari 1 jadi 1, untuk penghitungan DF\n",
    "tf_nonForNIJ_stem = []\n",
    "changeValue(tf_nonrf_stem, tf_nonForNIJ_stem)\n",
    "print(tf_nonForNIJ_stem[:2])"
   ]
  },
  {
   "cell_type": "code",
   "execution_count": 58,
   "id": "e527f752",
   "metadata": {},
   "outputs": [
    {
     "name": "stdout",
     "output_type": "stream",
     "text": [
      "[0, 19, 26, 0, 4, 1, 2, 4, 3, 8, 0, 0, 0, 5, 27, 4, 1, 0, 34, 0, 3, 0, 3, 71, 0, 5, 0, 0, 0, 0, 0, 0, 0, 3, 57, 0, 1, 1, 24, 0, 0, 7, 52, 0, 1, 0, 0, 0, 0, 5, 5, 0, 0, 14, 0, 0, 0, 2, 0, 0, 1, 0, 1, 14, 0, 0, 31, 0, 0, 0, 0, 11, 15, 0, 0, 10, 0, 0, 0, 0, 0, 0, 0, 0, 0, 0, 0, 0, 0, 1, 0, 4, 0, 3, 3, 13, 1, 12, 19, 6, 6, 36, 11, 28, 9, 28, 37, 1, 1, 3, 0, 0, 0, 1, 2, 17, 1, 0, 6, 4, 0, 1, 0, 5, 2, 0, 0, 1, 15, 0, 5, 0, 3, 0, 0, 0, 0, 0, 7, 4, 0, 0, 1, 0, 1, 14, 0, 0, 0, 0, 0, 0, 0, 1, 0, 0, 1, 0, 0, 0, 0, 0, 0, 0, 13, 0, 0, 0, 0, 0, 0, 0, 0, 0, 0, 0, 0, 0, 0, 1, 4, 1, 0, 1, 1, 6, 0, 1, 1, 0, 0, 1, 2, 0, 0, 0, 6, 0, 0, 0, 5, 7, 0, 0, 0, 0, 1, 1, 0, 54, 4, 1, 2, 1, 1, 3, 1, 2, 2, 0, 0, 0, 0, 1, 0, 9, 0, 0, 1, 0, 0, 0, 0, 0, 0, 0, 34, 0, 0, 5, 1, 0, 1, 0, 1, 0, 0, 1, 0, 0, 0, 1, 0, 0, 0, 0, 0, 0, 0, 0, 0, 1, 0, 0, 0, 0, 0, 0, 0, 0, 0, 0, 0, 0, 0, 3, 0, 0, 0, 2, 0, 0, 0, 0, 0, 11, 6, 0, 0, 0, 0, 0, 0, 0, 0, 0, 0, 26, 3, 14, 22, 36, 36, 3, 8, 2, 1, 1, 2, 1, 1, 1, 1, 1, 1, 1, 1, 2, 1, 1, 1, 1, 1, 1, 1, 1, 1, 0, 0, 1, 0, 0, 0, 0, 0, 1, 13, 0, 0, 0, 0, 0, 0, 7, 0, 0, 0, 0, 0, 0, 0, 0, 0, 1, 0, 0, 0, 0, 0, 0, 0, 0, 0, 1, 0, 0, 0, 0, 1, 0, 0, 0, 0, 0, 0, 0, 0, 2, 0, 1, 4, 0, 0, 0, 0, 0, 0, 0, 0, 0, 0, 0, 0, 0, 0, 0, 0, 4, 1, 2, 1, 1, 3, 2, 1, 1, 2, 1, 1, 1, 0, 0, 1, 0, 0, 0, 0, 0, 0, 1, 0, 0, 0, 0, 0, 0, 0, 0, 1, 4, 0, 1, 1, 1, 7, 2, 5, 1, 14, 6, 9, 1, 24, 6, 20, 1, 0, 7, 0, 5, 0, 0, 0, 0, 0, 0, 0, 9, 0, 0, 7, 13, 0, 0, 0, 0, 0, 0, 0, 0, 0, 0, 8, 0, 0, 20, 9, 24, 5, 4, 3, 3, 2, 2, 3, 1, 5, 5, 5, 3, 3, 5, 1, 12, 4, 1, 1, 1, 14, 1, 1, 0, 1, 0, 0, 0, 0, 0, 0, 0, 0, 0, 0, 1, 1, 1, 1, 1, 1, 1, 1, 1, 1, 1, 1, 1, 1, 2, 1, 1, 1, 9, 1, 4, 2, 2, 13, 1, 1, 1, 9, 21, 1, 0, 0, 0, 0, 0, 0, 0, 2, 0, 0, 0, 0, 0, 10, 0, 1, 2, 1, 1, 1, 1, 1, 1, 1, 1, 1, 4, 1, 3, 1, 1, 1, 6, 1, 1, 3, 1, 1, 5, 1, 3, 16, 13, 1, 1, 1, 4, 1, 1, 0, 0, 0, 1, 0, 0, 0, 0, 0, 0, 0, 0, 0, 3, 0, 0, 1, 0, 0, 0, 0, 6, 0, 14, 0, 1, 0, 2, 0, 0, 0, 0, 0, 0, 1, 0, 0, 0, 0, 0, 0, 3, 0, 0, 0, 0, 0, 0, 0, 0, 0, 0, 0, 0, 0, 0, 0, 0, 10, 0, 0, 0, 0, 0, 3, 0, 0, 0, 0, 0, 0, 0, 3, 1, 6, 1, 1, 0, 2, 0, 0, 0, 0, 0, 0, 0, 0, 1, 0, 0, 0, 0, 0, 0, 0, 0, 0, 5, 3, 6, 3, 1, 3, 4, 8, 5, 1, 1, 4, 2, 1, 1, 1, 1, 7, 3, 1, 1, 6, 6, 10, 6, 6, 7, 0, 0, 0, 1, 0, 0, 0, 0, 0, 0, 0, 0, 0, 0, 0, 0, 0, 0, 0, 17, 0, 4, 0, 0, 0, 0, 0, 0, 0, 0, 0, 0, 0, 0, 0, 0, 0, 0, 0, 0, 1, 0, 0, 0, 0, 0, 0, 0, 0, 0, 0, 0, 0, 4, 1, 1, 2, 3, 1, 1, 0, 0, 1, 0, 0, 0, 0, 4, 0, 0, 0, 0, 1, 1, 1, 1, 2, 1, 2, 1, 1, 2, 1, 1, 1, 1, 1, 1, 1, 1, 1, 1, 1, 1, 2, 0, 0, 0, 0, 4, 0, 0, 0, 0, 0, 0, 0, 0, 0, 0, 0, 0, 0, 0, 0, 0, 0, 0, 0, 0, 0, 0, 0, 0, 1, 0, 0, 0, 0, 0, 0, 0, 0, 0, 0, 0, 0, 0, 0, 0, 0, 0, 0, 0, 0, 0, 0, 0, 0, 0, 1, 6, 4, 3, 4, 3, 1, 4, 3, 5, 1, 6, 1, 1, 1, 1, 1, 1, 1, 10, 2, 2, 5, 4, 4, 2, 2, 1, 1, 4, 6, 0, 2, 1, 0, 0, 0, 0, 2, 3, 3, 3, 2, 3, 2, 0, 0, 0, 0, 0, 0, 0, 0, 0, 0, 0, 2, 0, 2, 2, 1, 0, 0, 0, 1, 0, 0, 0, 0, 0, 3, 0, 0, 0, 0, 0, 0, 0, 0, 0, 3, 2, 2, 2, 1, 1, 2, 1, 0, 0, 0, 0, 1, 0, 0, 0, 0, 0, 0, 0, 2, 2, 2, 0, 0, 0, 0, 0, 7, 2, 0, 0, 0, 3, 3, 9, 5, 2, 5, 2, 2, 2, 2, 4, 4, 2, 4, 2, 2, 15, 6, 3, 3, 3, 2, 2, 2, 5, 2, 3, 3, 2, 16, 2, 6, 2, 2, 0, 0, 0, 0, 0, 0, 0, 0, 0, 0, 1, 1, 1, 1, 1, 3, 1, 3, 1, 1, 1, 1, 1, 1, 1, 1, 1, 1, 1, 3, 2, 1, 1, 1, 1, 1, 1, 1, 1, 2, 2, 1, 2, 2, 2, 2, 1, 2, 6, 2, 1, 2, 2, 1, 1, 1, 1, 1, 1, 3, 1, 1, 4, 3, 5, 3, 6, 4, 3, 4, 3, 1, 4, 1, 1, 1, 1, 1, 1, 1, 3, 1, 1, 2, 1, 1, 2, 1, 1, 1, 1, 1, 1, 1, 1, 1, 1, 1, 1, 1, 1, 1, 1, 1, 1, 1, 3, 1, 4, 1, 1, 1, 1, 1, 1, 1, 1, 2, 1, 1, 1, 1, 1, 1, 1, 2, 1, 2, 1, 1, 1, 1, 0, 0, 0, 0, 0, 0, 0, 0, 0, 0, 0, 0, 0, 0, 0, 0, 0, 0, 0, 0, 0, 0, 0, 0, 0, 0, 0, 0, 0, 0, 0, 0, 0, 0, 1, 0, 0, 0, 0, 1, 0, 0, 0, 0, 0, 0, 0, 0, 0, 0, 0, 0, 0, 0, 0, 0, 0, 0, 0, 0, 0, 0, 0, 0, 0, 0, 0, 0, 1, 0, 0, 0, 0, 0, 0, 1, 0, 0, 0, 0, 0, 0, 0, 0, 0, 0, 0, 0, 0, 1, 0, 0, 0, 0, 0, 0, 0, 0, 0, 0, 0, 0, 0, 0, 0, 0, 0, 0, 0, 0, 0, 0, 0, 0, 0, 0, 0, 0, 0, 0, 0, 0, 0, 0, 0, 0, 0, 0, 0, 0, 0, 0, 0, 0, 0, 0, 1, 0, 1, 0, 0, 0, 0, 0, 0, 0, 0, 0, 0, 0, 0, 0, 0, 0, 0, 0, 0, 0, 0, 0, 1, 0, 0, 0, 0, 0, 1, 0, 0, 0, 0, 0, 0, 0, 0, 0, 0, 0, 0, 0, 0, 0, 0, 0, 0, 0, 0, 0, 0, 0, 0, 0, 0, 0, 0, 0, 0, 0, 0, 0, 0, 0, 0, 0, 0, 0, 0, 0, 0, 0, 1, 0, 0, 0, 0, 0, 0, 0, 0, 0, 0, 0, 0, 0, 0, 0, 0, 0, 0, 0, 0, 0, 0, 1, 1, 1, 1, 1, 1, 1, 1, 1, 1, 1, 1, 5, 2, 1, 4, 1, 0, 0, 0, 1, 1, 0, 0, 0, 0, 0, 0, 0, 0, 0, 0, 0, 0, 0, 0, 0, 0, 0, 2, 0, 0, 0, 0, 0, 0, 0, 0, 1, 0, 5, 1, 1, 1, 0, 0, 6, 3, 3, 3, 0, 0, 0, 0, 0, 0, 0, 0, 0, 0, 0, 0, 0, 0, 0, 0, 0, 1, 0, 0, 0, 0, 0, 0, 1, 0, 0, 0, 0, 0, 0, 0, 0, 0, 0, 0, 0, 0, 0, 0, 0, 0, 0, 0, 0, 1, 0, 0, 0, 0, 0, 0, 0, 0, 0, 0, 0, 1, 1, 1, 1, 1, 1, 1, 2, 1, 1, 1, 1, 1, 1, 1, 1, 1, 1, 1, 1, 1, 1, 1, 1, 1, 1, 2, 3, 1, 1, 1, 1, 1, 0, 0, 0, 0, 0, 0, 0, 0, 0, 0, 0, 0, 0, 0, 0, 0, 0, 0, 0, 0, 0, 0, 0, 0, 0, 0, 1, 1, 1, 1, 1, 1, 1, 1, 2, 1, 1, 1, 1, 2, 2, 1, 0, 0, 0, 0, 0, 0, 0, 0, 0, 0, 0, 0, 0, 0, 2, 1, 1, 1, 1, 1, 2, 1, 1, 8, 1, 4, 1, 1, 1, 1, 1, 1, 1, 2, 1, 2, 1, 0, 1, 1, 1, 1, 1, 0, 0, 0, 0, 0, 0, 0, 0, 0, 0, 0, 0, 0, 0, 0, 0, 0, 0, 0, 0, 0, 0, 0, 0, 0, 0, 0, 0, 0, 0, 0, 0, 0, 1, 1, 1, 1, 1, 1, 1, 1, 1, 1, 1, 1, 1, 1, 1, 1, 1, 2, 1, 1, 1, 0, 0, 0, 0, 0, 0, 0, 0, 0, 0, 2, 4, 2, 1, 1, 1, 3, 4, 3, 3, 2, 2, 2, 2, 0, 0, 0, 1, 1, 1, 1, 0, 0, 0, 0, 0, 0, 0, 0, 0, 0, 1, 0, 0, 1, 1, 3, 1, 1, 1, 1, 1, 1, 1, 4, 5, 5, 6, 1, 0, 0, 0, 0, 0, 0, 1, 1, 2, 3, 2, 1, 1, 3, 8, 0, 0, 2, 1, 1, 4, 1, 1, 0, 0, 3, 1, 2, 1, 1, 1, 1, 1, 1, 3, 3, 1, 1, 2, 2, 1, 1, 1, 0, 0, 0, 2, 1, 1, 5, 1, 1, 1, 1, 1, 1, 1, 1, 0, 0, 0, 1, 1, 1, 0, 0, 0, 0, 0, 0, 0, 0, 0, 0, 0, 0, 0, 0, 0, 0, 0, 0, 0, 0, 0, 0, 1, 1, 1, 1, 1, 1, 2, 2, 5, 2, 1, 1, 1, 1, 1, 0, 0, 0, 0, 0, 0, 0, 1, 1, 2, 1, 1, 1, 1, 1, 1, 1, 1, 2, 1, 1, 1, 1, 1, 1, 1, 1, 1, 1, 1, 1, 1, 1, 1, 1, 1, 0, 0, 0, 0, 1, 0, 0, 0, 0, 0, 0, 0, 0, 0, 0, 1, 0, 0, 0, 0, 0, 0, 0, 0, 0, 0, 0, 0, 0, 0, 0, 0, 0, 0, 0, 0, 0, 0, 0, 0, 0, 0, 0, 0, 2, 1, 1, 3, 2, 2, 1, 0, 0, 0, 0, 0, 0, 0, 0, 0, 0, 0, 0, 0, 0, 0, 0, 0, 0, 0, 0, 0, 0, 0, 0, 2, 1, 1, 1, 1, 0, 0, 0, 0, 0, 0, 2, 1, 1, 3, 1, 1, 1, 1, 1, 1, 1, 1, 1, 1, 1, 1, 1, 1, 1, 2, 1, 1, 0, 0, 1, 1, 1, 1, 0, 0, 0, 0, 0, 1, 1, 2, 2, 1, 1, 0, 0, 0, 0, 0, 0, 1, 1, 1, 1, 1, 1, 1, 1, 1, 1, 0, 0, 0, 0, 0, 0, 0, 1, 1, 1, 2, 3, 1, 0, 1, 1, 1, 0, 0, 1, 1, 1, 1, 1, 1, 2, 2, 3, 2, 0, 0, 0, 0, 0, 0, 0, 0, 0, 0, 0, 0, 1, 1, 0, 0, 0, 0, 0, 1, 1, 1, 1, 1, 1, 0, 0, 0, 0, 0, 0, 0, 0, 0, 0, 0, 0, 1, 0, 0, 0, 0, 0, 0, 0, 0, 2, 1, 1, 0, 0, 0, 0, 0, 0, 0, 0, 0, 0, 0, 0, 0, 0, 0, 0, 0, 0, 0, 0, 0, 0, 0, 0, 0, 0, 0, 0, 0, 0, 0, 0, 0, 0, 0, 0, 0, 0, 0, 0, 0, 0, 0, 0, 0, 0, 2, 1, 1, 1, 0, 0, 0, 0, 0, 0, 0, 0, 0, 0, 0, 0, 0, 0, 0, 1, 1, 1, 1, 1, 0, 0, 0, 0, 0, 0, 0, 0, 0, 0, 0, 0, 0, 0, 1, 0, 0, 0, 0, 0, 0, 0, 0, 0, 0, 0, 0, 0, 0, 0, 0, 0, 0, 0, 0, 0, 0, 0, 0, 2, 2, 2, 2, 2, 1, 2, 1, 1, 1, 2, 1, 1, 1, 1, 1, 1, 1, 1, 0, 0, 0, 0, 0, 0, 0, 0, 0, 0, 0, 2, 1, 1, 1, 1, 0, 0, 0, 1, 1, 1, 1, 1, 1, 0, 0, 0, 0, 0, 0, 1, 1, 1, 1, 1, 1, 2, 1, 2, 1, 1, 1, 1, 1, 1, 1, 1, 1, 0, 0, 0, 0, 0, 0, 0, 0, 0, 0, 0, 0, 0, 0, 0, 0, 0, 0, 0, 0, 0, 0, 0, 0, 0, 1, 2, 1, 1, 1, 2, 2, 1, 1, 1, 1, 1, 0, 0, 0, 2, 0, 0, 1, 1, 1, 0, 0, 0, 0, 0, 0, 0, 0, 0, 0, 0, 0, 0, 0, 0, 0, 0, 1, 1, 1, 1, 0, 0, 0, 0, 0, 0, 0, 0, 0, 0, 0, 0, 0, 0, 0, 0, 0, 0, 0, 0, 0, 0, 0, 0, 0, 0, 0, 0, 0, 0, 0, 0, 0, 0, 0, 0, 0, 0, 0, 0, 0, 0, 0, 0, 0, 0, 0, 0, 0, 0, 0, 0, 0, 0, 0, 0, 0, 0, 0, 0, 0, 0, 0, 0, 0, 0, 0, 0, 0, 0, 0, 0, 0, 0, 0, 0, 0, 0, 0, 0, 0, 0, 0, 0, 1, 0, 0, 1, 0, 0, 0, 0, 0, 0, 0, 0, 0, 0, 0, 0, 0, 0, 0, 0, 0, 0, 0, 0, 0, 0, 0, 0, 0, 0, 0, 0, 0, 0, 0, 0, 0, 0, 0, 0, 0, 0, 0, 0, 0, 0, 0, 0, 0, 0, 0, 0, 0, 0, 0, 0, 0, 0, 0, 0, 0, 0, 0, 0, 0, 0, 0, 0, 0, 0, 0, 0, 0, 0, 0, 0, 0, 0, 0, 0, 0, 0, 0, 0, 0, 0, 0, 0, 0, 0, 0, 0, 0, 0, 0, 0, 0, 0, 0, 0, 0, 0, 0, 0, 1, 1, 1, 1, 1, 1, 1, 0, 0, 0, 0, 0, 0, 0, 0, 0, 0, 0, 0, 0, 0, 0, 0, 1, 1, 1, 1, 1, 1, 1, 1, 1, 1, 1, 1, 1, 1, 1, 1, 1, 1, 1, 1, 1, 0, 0, 0, 0, 0, 0, 0, 0, 1, 1, 1, 2, 1, 2, 3, 1, 0, 0, 0, 0, 0, 0, 0, 1, 1, 1, 1, 1, 1, 1, 1, 1, 1, 1, 1, 0, 0, 0, 1, 1, 1, 1, 1, 1, 1, 1, 1, 1, 1, 1, 1, 1, 1, 1, 0, 1, 1, 1, 1, 1, 0, 0, 0, 0, 0, 0, 0, 0, 0, 1, 0, 1, 1, 1, 1, 1, 0, 0, 0, 0, 0, 0, 0, 0, 0, 0, 0, 0, 0, 0, 0, 0, 0, 0, 0, 0, 0, 0, 0, 0, 0, 0, 0, 1, 1, 1, 1, 1, 5, 1, 2, 2, 1, 1, 0, 0, 0, 1, 1, 2, 1, 1, 2, 0, 0, 0, 0, 0, 1, 1, 1, 1, 1, 1, 1, 1, 1, 0, 0, 0, 0, 0, 0, 0, 0, 0, 0, 0, 1, 2, 1, 1, 1, 1, 1, 1, 1, 0, 0, 0, 0, 0, 0, 0, 0, 0, 0, 0, 0, 0, 0, 0, 0, 1, 1, 1, 1, 1, 1, 1, 1, 1, 1, 1, 1, 1, 1, 1, 1, 1, 0, 0, 0, 0, 1, 1, 0, 0, 0, 0, 1, 1, 1, 1, 1, 1, 2, 1, 1, 1, 1, 1, 1, 1, 1, 1, 1, 1, 1, 1, 1, 1, 1, 1, 1, 0, 0, 0, 0, 0, 0, 0, 0]\n"
     ]
    }
   ],
   "source": [
    "# hitung di berapa dokumen suatu term muncul\n",
    "nij_stem = []\n",
    "countDF(tf_spamForNIJ_stem, nij_stem)\n",
    "print(nij_stem)"
   ]
  },
  {
   "cell_type": "code",
   "execution_count": 59,
   "id": "de2b6b51",
   "metadata": {},
   "outputs": [
    {
     "name": "stdout",
     "output_type": "stream",
     "text": [
      "[1, 25, 105, 4, 78, 20, 10, 1, 3, 7, 3, 1, 4, 18, 67, 12, 12, 1, 221, 1, 4, 2, 8, 117, 1, 44, 1, 1, 1, 1, 1, 6, 4, 30, 154, 22, 15, 1, 4, 5, 7, 7, 14, 3, 2, 8, 4, 1, 1, 23, 38, 2, 45, 6, 12, 8, 2, 3, 4, 3, 26, 1, 41, 6, 1, 5, 23, 1, 1, 1, 4, 31, 97, 16, 6, 114, 1, 1, 1, 1, 1, 1, 1, 2, 1, 1, 1, 1, 8, 19, 1, 21, 1, 0, 0, 0, 10, 3, 2, 0, 0, 7, 0, 34, 0, 34, 5, 0, 0, 12, 5, 8, 8, 13, 7, 32, 74, 1, 44, 3, 2, 2, 1, 1, 29, 1, 1, 3, 1, 6, 3, 1, 2, 4, 1, 1, 2, 2, 44, 18, 4, 7, 4, 1, 3, 26, 1, 1, 3, 1, 5, 9, 3, 2, 3, 8, 17, 7, 2, 1, 4, 4, 4, 4, 2, 2, 3, 4, 2, 2, 2, 2, 2, 2, 2, 2, 2, 1, 1, 8, 21, 11, 4, 4, 5, 15, 1, 1, 3, 1, 1, 1, 1, 3, 2, 1, 3, 5, 1, 1, 2, 12, 2, 1, 3, 4, 25, 1, 1, 61, 0, 0, 1, 0, 0, 4, 0, 18, 6, 1, 13, 8, 7, 26, 2, 22, 1, 1, 1, 1, 13, 2, 5, 1, 1, 1, 1, 2, 1, 26, 8, 1, 1, 2, 1, 1, 1, 3, 1, 1, 1, 6, 2, 1, 1, 3, 1, 2, 1, 1, 6, 4, 4, 1, 1, 4, 9, 1, 1, 4, 1, 1, 8, 1, 3, 3, 3, 11, 2, 6, 1, 1, 7, 11, 1, 6, 13, 11, 1, 3, 2, 3, 3, 3, 3, 1, 1, 16, 0, 0, 4, 0, 19, 0, 0, 0, 0, 5, 0, 0, 0, 0, 0, 1, 0, 0, 0, 1, 0, 0, 0, 0, 0, 0, 0, 0, 0, 2, 8, 1, 1, 5, 2, 1, 1, 3, 11, 1, 1, 7, 3, 8, 5, 12, 23, 8, 2, 9, 2, 1, 2, 1, 1, 6, 1, 1, 1, 1, 1, 1, 4, 36, 1, 4, 2, 1, 1, 1, 1, 1, 1, 1, 1, 1, 6, 1, 1, 9, 6, 19, 4, 2, 23, 1, 3, 3, 3, 1, 3, 1, 2, 1, 1, 1, 1, 1, 1, 0, 0, 0, 0, 0, 0, 6, 0, 1, 4, 0, 0, 15, 3, 2, 1, 2, 2, 3, 2, 2, 1, 7, 2, 10, 2, 4, 1, 1, 5, 1, 4, 2, 1, 0, 0, 0, 1, 0, 0, 0, 1, 2, 0, 0, 0, 0, 0, 0, 1, 2, 1, 1, 1, 1, 1, 4, 1, 1, 7, 8, 1, 21, 14, 6, 1, 1, 11, 11, 1, 6, 2, 1, 5, 2, 17, 3, 1, 3, 2, 0, 1, 0, 0, 0, 0, 0, 0, 0, 2, 0, 0, 0, 1, 1, 1, 0, 8, 0, 0, 0, 2, 0, 0, 1, 3, 2, 2, 1, 1, 1, 1, 1, 1, 1, 9, 2, 0, 0, 0, 2, 0, 0, 0, 0, 0, 0, 0, 0, 0, 1, 0, 0, 0, 0, 0, 0, 0, 0, 1, 0, 0, 0, 0, 3, 0, 2, 6, 2, 2, 1, 1, 4, 3, 1, 1, 1, 1, 1, 1, 1, 0, 0, 0, 0, 0, 0, 1, 0, 0, 2, 0, 0, 0, 0, 0, 0, 0, 0, 0, 0, 0, 0, 0, 0, 0, 0, 9, 1, 0, 0, 0, 3, 0, 0, 4, 8, 6, 4, 1, 1, 1, 1, 1, 1, 8, 1, 1, 13, 2, 4, 8, 4, 1, 1, 2, 2, 2, 17, 2, 2, 1, 6, 6, 7, 3, 2, 1, 6, 10, 2, 1, 1, 2, 2, 1, 11, 1, 1, 1, 1, 1, 1, 1, 2, 1, 1, 1, 2, 1, 3, 1, 12, 3, 2, 3, 2, 1, 1, 2, 1, 1, 1, 1, 1, 1, 1, 1, 0, 7, 0, 0, 2, 1, 1, 3, 1, 1, 3, 10, 3, 3, 5, 3, 4, 1, 1, 2, 1, 1, 1, 1, 5, 0, 1, 2, 0, 0, 2, 0, 0, 0, 0, 0, 0, 0, 0, 0, 0, 11, 0, 0, 2, 0, 0, 7, 0, 16, 3, 4, 3, 1, 1, 1, 1, 1, 1, 2, 1, 1, 1, 1, 2, 2, 2, 2, 3, 4, 5, 2, 4, 3, 8, 3, 1, 3, 2, 1, 2, 1, 2, 8, 6, 2, 2, 3, 1, 2, 2, 7, 1, 1, 1, 1, 1, 1, 1, 2, 1, 1, 1, 1, 6, 0, 0, 0, 0, 0, 0, 16, 1, 7, 3, 3, 2, 2, 4, 2, 1, 1, 42, 0, 0, 0, 1, 0, 0, 2, 0, 0, 0, 0, 0, 1, 0, 1, 1, 1, 0, 0, 6, 2, 0, 1, 1, 1, 2, 1, 6, 1, 1, 1, 1, 1, 1, 1, 2, 1, 1, 1, 2, 1, 1, 3, 1, 1, 4, 1, 1, 2, 1, 3, 4, 7, 2, 1, 1, 1, 1, 1, 5, 1, 3, 1, 1, 1, 1, 1, 1, 1, 1, 1, 8, 7, 1, 13, 32, 3, 1, 50, 0, 0, 0, 0, 0, 0, 0, 0, 0, 0, 0, 0, 0, 0, 0, 0, 0, 0, 1, 0, 0, 2, 0, 0, 0, 0, 2, 0, 0, 0, 1, 1, 1, 1, 1, 1, 1, 0, 0, 0, 0, 0, 0, 0, 12, 12, 1, 3, 1, 4, 7, 1, 12, 1, 1, 2, 2, 8, 4, 10, 4, 5, 4, 9, 2, 1, 4, 4, 3, 6, 5, 4, 3, 2, 1, 2, 1, 1, 1, 0, 0, 0, 0, 0, 0, 0, 0, 5, 3, 6, 1, 12, 6, 1, 9, 2, 1, 1, 4, 0, 0, 0, 1, 1, 1, 7, 1, 1, 3, 1, 1, 1, 0, 0, 0, 0, 0, 0, 0, 0, 0, 0, 0, 9, 0, 0, 0, 0, 0, 0, 0, 0, 0, 0, 0, 0, 0, 0, 0, 0, 0, 0, 0, 0, 0, 0, 2, 1, 1, 1, 1, 1, 4, 3, 1, 1, 0, 0, 0, 0, 0, 0, 0, 0, 0, 0, 0, 0, 0, 0, 0, 0, 0, 0, 0, 2, 0, 0, 0, 0, 0, 0, 0, 1, 0, 0, 0, 0, 0, 0, 0, 0, 0, 0, 0, 0, 0, 0, 0, 0, 0, 0, 0, 0, 0, 0, 0, 0, 0, 2, 0, 0, 0, 0, 0, 0, 0, 0, 0, 0, 0, 0, 0, 0, 0, 0, 1, 0, 0, 1, 0, 0, 3, 0, 0, 0, 0, 0, 0, 0, 0, 0, 0, 0, 0, 0, 0, 0, 0, 0, 0, 0, 0, 0, 0, 0, 0, 0, 0, 0, 0, 0, 0, 0, 0, 0, 0, 0, 0, 0, 0, 0, 0, 0, 0, 0, 1, 0, 2, 2, 7, 1, 1, 1, 8, 5, 1, 7, 9, 1, 10, 1, 1, 1, 2, 1, 1, 1, 1, 1, 2, 1, 4, 1, 4, 2, 2, 2, 2, 2, 2, 2, 5, 2, 1, 1, 3, 6, 2, 4, 1, 2, 2, 2, 2, 2, 4, 1, 4, 10, 1, 2, 1, 2, 1, 2, 1, 1, 1, 1, 1, 1, 1, 1, 1, 8, 21, 3, 5, 1, 1, 1, 4, 1, 2, 1, 1, 1, 4, 1, 3, 8, 4, 1, 10, 5, 1, 9, 8, 4, 5, 4, 6, 1, 2, 1, 1, 1, 1, 1, 1, 1, 3, 1, 1, 1, 2, 1, 2, 10, 11, 4, 3, 2, 2, 2, 2, 1, 2, 2, 3, 2, 2, 2, 2, 1, 4, 2, 1, 1, 3, 6, 1, 6, 3, 1, 5, 1, 8, 2, 1, 2, 2, 1, 2, 1, 1, 3, 1, 1, 4, 2, 4, 9, 1, 1, 1, 2, 7, 5, 1, 1, 1, 2, 1, 1, 1, 2, 1, 1, 1, 1, 1, 2, 2, 3, 1, 10, 10, 4, 3, 3, 1, 1, 2, 3, 4, 1, 1, 1, 1, 1, 8, 1, 5, 3, 3, 1, 1, 1, 1, 1, 1, 1, 2, 1, 16, 2, 1, 1, 2, 2, 1, 1, 1, 2, 2, 2, 1, 2, 1, 1, 1, 1, 1, 1, 2, 2, 2, 2, 2, 0, 0, 0, 0, 0, 0, 0, 0, 0, 0, 0, 0, 0, 7, 1, 0, 0, 2, 3, 18, 0, 0, 3, 3, 3, 3, 3, 3, 2, 14, 5, 6, 3, 3, 1, 1, 1, 4, 3, 10, 8, 6, 3, 2, 5, 5, 8, 1, 7, 1, 0, 0, 0, 0, 3, 1, 2, 1, 0, 1, 1, 1, 2, 3, 2, 2, 3, 1, 1, 1, 1, 1, 1, 1, 2, 2, 2, 2, 7, 4, 1, 2, 2, 2, 0, 4, 6, 4, 2, 5, 4, 5, 2, 4, 5, 1, 3, 4, 3, 3, 2, 2, 2, 2, 2, 3, 2, 1, 2, 3, 1, 1, 3, 1, 1, 5, 1, 3, 4, 10, 0, 0, 0, 0, 0, 0, 0, 0, 0, 0, 0, 0, 0, 0, 0, 0, 0, 0, 0, 0, 0, 0, 0, 0, 0, 0, 0, 0, 0, 0, 2, 2, 2, 2, 2, 2, 2, 2, 2, 3, 2, 2, 4, 1, 1, 2, 1, 1, 2, 1, 1, 1, 1, 1, 1, 1, 0, 0, 0, 0, 0, 0, 0, 0, 0, 1, 0, 0, 0, 0, 0, 0, 1, 1, 1, 1, 1, 1, 2, 1, 1, 1, 4, 4, 6, 4, 0, 0, 0, 0, 0, 0, 0, 0, 0, 0, 0, 2, 0, 0, 0, 0, 0, 0, 0, 0, 0, 0, 0, 1, 0, 0, 0, 0, 0, 1, 1, 2, 1, 4, 3, 3, 1, 2, 1, 1, 2, 3, 1, 1, 1, 1, 3, 1, 1, 2, 2, 2, 2, 3, 2, 2, 2, 2, 2, 2, 1, 1, 0, 0, 0, 0, 0, 0, 0, 0, 0, 0, 0, 0, 0, 0, 0, 0, 0, 0, 0, 0, 0, 1, 1, 3, 3, 1, 1, 1, 1, 1, 1, 0, 0, 0, 0, 0, 0, 0, 0, 0, 0, 0, 0, 0, 0, 1, 1, 1, 0, 0, 0, 0, 1, 1, 1, 1, 1, 1, 1, 1, 1, 1, 1, 1, 2, 0, 0, 0, 0, 0, 3, 0, 0, 0, 0, 0, 0, 0, 0, 0, 1, 1, 1, 1, 3, 2, 0, 0, 0, 0, 0, 0, 0, 0, 0, 1, 1, 0, 0, 0, 0, 0, 0, 1, 1, 0, 0, 0, 0, 0, 0, 0, 0, 0, 0, 0, 0, 0, 0, 0, 0, 0, 0, 4, 7, 1, 2, 0, 0, 0, 0, 0, 0, 0, 0, 0, 0, 0, 1, 1, 1, 0, 0, 0, 2, 1, 1, 1, 1, 1, 1, 1, 1, 1, 1, 1, 4, 1, 1, 3, 1, 2, 1, 1, 1, 1, 0, 0, 0, 0, 0, 0, 0, 0, 0, 0, 0, 0, 2, 0, 0, 1, 2, 3, 3, 3, 3, 7, 0, 0, 0, 0, 6, 0, 0, 0, 0, 0, 0, 1, 0, 0, 0, 0, 0, 0, 0, 0, 0, 0, 0, 0, 0, 0, 0, 0, 0, 3, 1, 3, 1, 2, 2, 2, 1, 2, 2, 2, 2, 3, 2, 2, 7, 2, 5, 2, 1, 2, 1, 1, 2, 1, 1, 1, 1, 1, 1, 1, 2, 1, 2, 1, 1, 1, 1, 1, 1, 1, 2, 1, 1, 1, 0, 0, 0, 0, 0, 0, 1, 2, 1, 2, 2, 1, 1, 3, 1, 1, 1, 1, 1, 2, 1, 1, 2, 1, 1, 1, 1, 3, 1, 1, 0, 0, 0, 0, 0, 1, 1, 1, 1, 1, 3, 0, 0, 0, 1, 0, 0, 0, 0, 0, 0, 0, 0, 0, 0, 0, 0, 0, 0, 0, 0, 0, 0, 1, 1, 0, 0, 0, 0, 2, 2, 2, 2, 1, 0, 0, 2, 0, 0, 0, 1, 1, 1, 1, 1, 1, 0, 0, 0, 0, 0, 0, 0, 0, 3, 0, 1, 1, 1, 2, 1, 1, 1, 0, 0, 0, 0, 0, 0, 1, 0, 0, 0, 2, 1, 0, 0, 0, 0, 0, 0, 0, 0, 0, 0, 1, 1, 1, 1, 1, 1, 1, 1, 1, 1, 1, 1, 0, 0, 1, 1, 1, 1, 1, 0, 0, 2, 0, 1, 0, 1, 1, 1, 1, 2, 1, 1, 1, 2, 1, 1, 1, 2, 1, 1, 1, 1, 2, 1, 1, 2, 0, 0, 0, 1, 1, 1, 1, 1, 1, 2, 2, 3, 1, 1, 1, 1, 1, 1, 1, 1, 1, 1, 1, 1, 1, 1, 1, 1, 1, 1, 1, 1, 1, 1, 2, 2, 1, 1, 1, 1, 1, 7, 7, 2, 1, 1, 1, 3, 1, 0, 0, 0, 0, 1, 1, 3, 1, 1, 1, 1, 1, 2, 2, 1, 1, 1, 3, 3, 0, 0, 0, 0, 0, 1, 1, 1, 1, 1, 1, 1, 1, 1, 1, 1, 1, 3, 2, 1, 1, 1, 2, 1, 2, 2, 1, 1, 1, 1, 1, 1, 2, 1, 2, 1, 1, 2, 1, 1, 1, 1, 1, 1, 0, 0, 0, 0, 0, 0, 0, 0, 0, 0, 0, 0, 0, 0, 0, 0, 1, 0, 0, 1, 1, 2, 1, 1, 2, 1, 1, 1, 1, 1, 0, 0, 0, 0, 0, 1, 1, 1, 0, 0, 0, 0, 0, 0, 2, 2, 1, 1, 2, 2, 0, 0, 0, 0, 0, 0, 0, 0, 0, 0, 0, 0, 0, 0, 0, 0, 1, 0, 1, 1, 1, 1, 1, 1, 1, 1, 1, 2, 1, 1, 1, 1, 1, 1, 1, 1, 1, 1, 1, 2, 1, 1, 1, 0, 0, 0, 0, 0, 0, 0, 0, 0, 0, 0, 0, 2, 1, 2, 1, 3, 2, 0, 0, 0, 1, 1, 1, 2, 2, 3, 2, 2, 2, 1, 1, 1, 1, 1, 1, 1, 1, 0, 0, 0, 0, 1, 1, 1, 2, 1, 1, 1, 2, 3, 1, 1, 1, 1, 1, 2, 1, 1, 1, 1, 1, 1, 1, 1, 1, 1, 1, 1, 1, 2, 1, 1, 1, 1, 1, 1, 1, 1, 1, 1, 1, 1, 1, 1, 1, 1, 1, 1, 1, 1, 2, 1, 1, 1, 1, 1, 1, 1, 1, 1, 1, 1, 1, 1, 1, 1, 1, 1, 1, 1, 2, 1, 1, 1, 1, 1, 1, 1, 1, 1, 1, 1, 1, 1, 1, 1, 1, 1, 1, 1, 1, 1, 2, 1, 4, 1, 1, 1, 1, 4, 1, 1, 4, 1, 1, 1, 1, 1, 1, 1, 1, 1, 1, 1, 1, 1, 1, 1, 1, 1, 2, 2, 2, 2, 1, 2, 1, 1, 1, 1, 1, 1, 1, 1, 2, 1, 2, 1, 1, 1, 1, 1, 1, 2, 1, 1, 1, 1, 1, 1, 1, 1, 1, 1, 1, 1, 1, 1, 1, 1, 1, 1, 1, 1, 1, 1, 1, 1, 1, 1, 1, 1, 1, 1, 1, 1, 1, 1, 1, 1, 1, 1, 1, 1, 1, 1, 1, 1, 1, 0, 0, 0, 0, 0, 0, 0, 1, 1, 1, 1, 1, 1, 1, 1, 1, 2, 1, 1, 1, 1, 1, 1, 0, 0, 0, 0, 0, 0, 0, 0, 0, 0, 0, 0, 0, 0, 0, 0, 0, 0, 0, 0, 0, 1, 1, 1, 1, 1, 1, 1, 1, 0, 0, 0, 0, 0, 0, 0, 0, 1, 1, 1, 2, 1, 1, 2, 0, 0, 0, 0, 0, 0, 0, 0, 0, 0, 0, 0, 1, 1, 1, 0, 0, 0, 0, 0, 0, 0, 0, 0, 0, 0, 0, 0, 0, 0, 0, 1, 0, 0, 0, 0, 0, 1, 1, 1, 1, 1, 1, 1, 1, 1, 1, 1, 0, 0, 0, 0, 0, 1, 1, 1, 1, 1, 1, 1, 1, 1, 1, 1, 1, 1, 1, 1, 1, 1, 1, 1, 1, 1, 1, 1, 1, 1, 1, 1, 0, 0, 0, 0, 0, 0, 0, 0, 0, 0, 0, 1, 1, 1, 0, 0, 0, 0, 0, 0, 1, 1, 1, 1, 1, 0, 0, 0, 0, 0, 0, 0, 0, 0, 2, 2, 2, 2, 2, 2, 2, 2, 2, 2, 2, 0, 0, 0, 0, 0, 0, 0, 0, 0, 2, 2, 1, 1, 1, 1, 2, 1, 2, 2, 1, 1, 2, 2, 2, 2, 0, 0, 0, 0, 0, 0, 0, 0, 0, 0, 0, 0, 0, 0, 0, 0, 0, 1, 1, 1, 1, 0, 0, 1, 1, 1, 1, 0, 0, 0, 0, 0, 0, 0, 0, 0, 0, 0, 0, 0, 0, 0, 0, 0, 0, 0, 0, 0, 0, 0, 0, 0, 1, 1, 1, 1, 1, 1, 1, 1]\n"
     ]
    }
   ],
   "source": [
    "# hitung di berapa dokumen suatu term muncul\n",
    "nij_aksen_stem = []\n",
    "countDF(tf_nonForNIJ_stem, nij_aksen_stem)\n",
    "print(nij_aksen_stem)"
   ]
  },
  {
   "cell_type": "code",
   "execution_count": 60,
   "id": "8a050ef1",
   "metadata": {},
   "outputs": [
    {
     "name": "stdout",
     "output_type": "stream",
     "text": [
      "[1, 25, 105, 4, 78, 20, 10, 1, 3, 7, 3, 1, 4, 18, 67, 12, 12, 1, 221, 1, 4, 2, 8, 117, 1, 44, 1, 1, 1, 1, 1, 6, 4, 30, 154, 22, 15, 1, 4, 5, 7, 7, 14, 3, 2, 8, 4, 1, 1, 23, 38, 2, 45, 6, 12, 8, 2, 3, 4, 3, 26, 1, 41, 6, 1, 5, 23, 1, 1, 1, 4, 31, 97, 16, 6, 114, 1, 1, 1, 1, 1, 1, 1, 2, 1, 1, 1, 1, 8, 19, 1, 21, 1, 1, 1, 1, 10, 3, 2, 1, 1, 7, 1, 34, 1, 34, 5, 1, 1, 12, 5, 8, 8, 13, 7, 32, 74, 1, 44, 3, 2, 2, 1, 1, 29, 1, 1, 3, 1, 6, 3, 1, 2, 4, 1, 1, 2, 2, 44, 18, 4, 7, 4, 1, 3, 26, 1, 1, 3, 1, 5, 9, 3, 2, 3, 8, 17, 7, 2, 1, 4, 4, 4, 4, 2, 2, 3, 4, 2, 2, 2, 2, 2, 2, 2, 2, 2, 1, 1, 8, 21, 11, 4, 4, 5, 15, 1, 1, 3, 1, 1, 1, 1, 3, 2, 1, 3, 5, 1, 1, 2, 12, 2, 1, 3, 4, 25, 1, 1, 61, 1, 1, 1, 1, 1, 4, 1, 18, 6, 1, 13, 8, 7, 26, 2, 22, 1, 1, 1, 1, 13, 2, 5, 1, 1, 1, 1, 2, 1, 26, 8, 1, 1, 2, 1, 1, 1, 3, 1, 1, 1, 6, 2, 1, 1, 3, 1, 2, 1, 1, 6, 4, 4, 1, 1, 4, 9, 1, 1, 4, 1, 1, 8, 1, 3, 3, 3, 11, 2, 6, 1, 1, 7, 11, 1, 6, 13, 11, 1, 3, 2, 3, 3, 3, 3, 1, 1, 16, 1, 1, 4, 1, 19, 1, 1, 1, 1, 5, 1, 1, 1, 1, 1, 1, 1, 1, 1, 1, 1, 1, 1, 1, 1, 1, 1, 1, 1, 2, 8, 1, 1, 5, 2, 1, 1, 3, 11, 1, 1, 7, 3, 8, 5, 12, 23, 8, 2, 9, 2, 1, 2, 1, 1, 6, 1, 1, 1, 1, 1, 1, 4, 36, 1, 4, 2, 1, 1, 1, 1, 1, 1, 1, 1, 1, 6, 1, 1, 9, 6, 19, 4, 2, 23, 1, 3, 3, 3, 1, 3, 1, 2, 1, 1, 1, 1, 1, 1, 1, 1, 1, 1, 1, 1, 6, 1, 1, 4, 1, 1, 15, 3, 2, 1, 2, 2, 3, 2, 2, 1, 7, 2, 10, 2, 4, 1, 1, 5, 1, 4, 2, 1, 1, 1, 1, 1, 1, 1, 1, 1, 2, 1, 1, 1, 1, 1, 1, 1, 2, 1, 1, 1, 1, 1, 4, 1, 1, 7, 8, 1, 21, 14, 6, 1, 1, 11, 11, 1, 6, 2, 1, 5, 2, 17, 3, 1, 3, 2, 1, 1, 1, 1, 1, 1, 1, 1, 1, 2, 1, 1, 1, 1, 1, 1, 1, 8, 1, 1, 1, 2, 1, 1, 1, 3, 2, 2, 1, 1, 1, 1, 1, 1, 1, 9, 2, 1, 1, 1, 2, 1, 1, 1, 1, 1, 1, 1, 1, 1, 1, 1, 1, 1, 1, 1, 1, 1, 1, 1, 1, 1, 1, 1, 3, 1, 2, 6, 2, 2, 1, 1, 4, 3, 1, 1, 1, 1, 1, 1, 1, 1, 1, 1, 1, 1, 1, 1, 1, 1, 2, 1, 1, 1, 1, 1, 1, 1, 1, 1, 1, 1, 1, 1, 1, 1, 1, 9, 1, 1, 1, 1, 3, 1, 1, 4, 8, 6, 4, 1, 1, 1, 1, 1, 1, 8, 1, 1, 13, 2, 4, 8, 4, 1, 1, 2, 2, 2, 17, 2, 2, 1, 6, 6, 7, 3, 2, 1, 6, 10, 2, 1, 1, 2, 2, 1, 11, 1, 1, 1, 1, 1, 1, 1, 2, 1, 1, 1, 2, 1, 3, 1, 12, 3, 2, 3, 2, 1, 1, 2, 1, 1, 1, 1, 1, 1, 1, 1, 1, 7, 1, 1, 2, 1, 1, 3, 1, 1, 3, 10, 3, 3, 5, 3, 4, 1, 1, 2, 1, 1, 1, 1, 5, 1, 1, 2, 1, 1, 2, 1, 1, 1, 1, 1, 1, 1, 1, 1, 1, 11, 1, 1, 2, 1, 1, 7, 1, 16, 3, 4, 3, 1, 1, 1, 1, 1, 1, 2, 1, 1, 1, 1, 2, 2, 2, 2, 3, 4, 5, 2, 4, 3, 8, 3, 1, 3, 2, 1, 2, 1, 2, 8, 6, 2, 2, 3, 1, 2, 2, 7, 1, 1, 1, 1, 1, 1, 1, 2, 1, 1, 1, 1, 6, 1, 1, 1, 1, 1, 1, 16, 1, 7, 3, 3, 2, 2, 4, 2, 1, 1, 42, 1, 1, 1, 1, 1, 1, 2, 1, 1, 1, 1, 1, 1, 1, 1, 1, 1, 1, 1, 6, 2, 1, 1, 1, 1, 2, 1, 6, 1, 1, 1, 1, 1, 1, 1, 2, 1, 1, 1, 2, 1, 1, 3, 1, 1, 4, 1, 1, 2, 1, 3, 4, 7, 2, 1, 1, 1, 1, 1, 5, 1, 3, 1, 1, 1, 1, 1, 1, 1, 1, 1, 8, 7, 1, 13, 32, 3, 1, 50, 1, 1, 1, 1, 1, 1, 1, 1, 1, 1, 1, 1, 1, 1, 1, 1, 1, 1, 1, 1, 1, 2, 1, 1, 1, 1, 2, 1, 1, 1, 1, 1, 1, 1, 1, 1, 1, 1, 1, 1, 1, 1, 1, 1, 12, 12, 1, 3, 1, 4, 7, 1, 12, 1, 1, 2, 2, 8, 4, 10, 4, 5, 4, 9, 2, 1, 4, 4, 3, 6, 5, 4, 3, 2, 1, 2, 1, 1, 1, 1, 1, 1, 1, 1, 1, 1, 1, 5, 3, 6, 1, 12, 6, 1, 9, 2, 1, 1, 4, 1, 1, 1, 1, 1, 1, 7, 1, 1, 3, 1, 1, 1, 1, 1, 1, 1, 1, 1, 1, 1, 1, 1, 1, 9, 1, 1, 1, 1, 1, 1, 1, 1, 1, 1, 1, 1, 1, 1, 1, 1, 1, 1, 1, 1, 1, 1, 2, 1, 1, 1, 1, 1, 4, 3, 1, 1, 1, 1, 1, 1, 1, 1, 1, 1, 1, 1, 1, 1, 1, 1, 1, 1, 1, 1, 1, 2, 1, 1, 1, 1, 1, 1, 1, 1, 1, 1, 1, 1, 1, 1, 1, 1, 1, 1, 1, 1, 1, 1, 1, 1, 1, 1, 1, 1, 1, 1, 1, 1, 1, 2, 1, 1, 1, 1, 1, 1, 1, 1, 1, 1, 1, 1, 1, 1, 1, 1, 1, 1, 1, 1, 1, 1, 3, 1, 1, 1, 1, 1, 1, 1, 1, 1, 1, 1, 1, 1, 1, 1, 1, 1, 1, 1, 1, 1, 1, 1, 1, 1, 1, 1, 1, 1, 1, 1, 1, 1, 1, 1, 1, 1, 1, 1, 1, 1, 1, 1, 1, 1, 2, 2, 7, 1, 1, 1, 8, 5, 1, 7, 9, 1, 10, 1, 1, 1, 2, 1, 1, 1, 1, 1, 2, 1, 4, 1, 4, 2, 2, 2, 2, 2, 2, 2, 5, 2, 1, 1, 3, 6, 2, 4, 1, 2, 2, 2, 2, 2, 4, 1, 4, 10, 1, 2, 1, 2, 1, 2, 1, 1, 1, 1, 1, 1, 1, 1, 1, 8, 21, 3, 5, 1, 1, 1, 4, 1, 2, 1, 1, 1, 4, 1, 3, 8, 4, 1, 10, 5, 1, 9, 8, 4, 5, 4, 6, 1, 2, 1, 1, 1, 1, 1, 1, 1, 3, 1, 1, 1, 2, 1, 2, 10, 11, 4, 3, 2, 2, 2, 2, 1, 2, 2, 3, 2, 2, 2, 2, 1, 4, 2, 1, 1, 3, 6, 1, 6, 3, 1, 5, 1, 8, 2, 1, 2, 2, 1, 2, 1, 1, 3, 1, 1, 4, 2, 4, 9, 1, 1, 1, 2, 7, 5, 1, 1, 1, 2, 1, 1, 1, 2, 1, 1, 1, 1, 1, 2, 2, 3, 1, 10, 10, 4, 3, 3, 1, 1, 2, 3, 4, 1, 1, 1, 1, 1, 8, 1, 5, 3, 3, 1, 1, 1, 1, 1, 1, 1, 2, 1, 16, 2, 1, 1, 2, 2, 1, 1, 1, 2, 2, 2, 1, 2, 1, 1, 1, 1, 1, 1, 2, 2, 2, 2, 2, 1, 1, 1, 1, 1, 1, 1, 1, 1, 1, 1, 1, 1, 7, 1, 1, 1, 2, 3, 18, 1, 1, 3, 3, 3, 3, 3, 3, 2, 14, 5, 6, 3, 3, 1, 1, 1, 4, 3, 10, 8, 6, 3, 2, 5, 5, 8, 1, 7, 1, 1, 1, 1, 1, 3, 1, 2, 1, 1, 1, 1, 1, 2, 3, 2, 2, 3, 1, 1, 1, 1, 1, 1, 1, 2, 2, 2, 2, 7, 4, 1, 2, 2, 2, 1, 4, 6, 4, 2, 5, 4, 5, 2, 4, 5, 1, 3, 4, 3, 3, 2, 2, 2, 2, 2, 3, 2, 1, 2, 3, 1, 1, 3, 1, 1, 5, 1, 3, 4, 10, 1, 1, 1, 1, 1, 1, 1, 1, 1, 1, 1, 1, 1, 1, 1, 1, 1, 1, 1, 1, 1, 1, 1, 1, 1, 1, 1, 1, 1, 1, 2, 2, 2, 2, 2, 2, 2, 2, 2, 3, 2, 2, 4, 1, 1, 2, 1, 1, 2, 1, 1, 1, 1, 1, 1, 1, 1, 1, 1, 1, 1, 1, 1, 1, 1, 1, 1, 1, 1, 1, 1, 1, 1, 1, 1, 1, 1, 1, 2, 1, 1, 1, 4, 4, 6, 4, 1, 1, 1, 1, 1, 1, 1, 1, 1, 1, 1, 2, 1, 1, 1, 1, 1, 1, 1, 1, 1, 1, 1, 1, 1, 1, 1, 1, 1, 1, 1, 2, 1, 4, 3, 3, 1, 2, 1, 1, 2, 3, 1, 1, 1, 1, 3, 1, 1, 2, 2, 2, 2, 3, 2, 2, 2, 2, 2, 2, 1, 1, 1, 1, 1, 1, 1, 1, 1, 1, 1, 1, 1, 1, 1, 1, 1, 1, 1, 1, 1, 1, 1, 1, 1, 3, 3, 1, 1, 1, 1, 1, 1, 1, 1, 1, 1, 1, 1, 1, 1, 1, 1, 1, 1, 1, 1, 1, 1, 1, 1, 1, 1, 1, 1, 1, 1, 1, 1, 1, 1, 1, 1, 1, 1, 1, 2, 1, 1, 1, 1, 1, 3, 1, 1, 1, 1, 1, 1, 1, 1, 1, 1, 1, 1, 1, 3, 2, 1, 1, 1, 1, 1, 1, 1, 1, 1, 1, 1, 1, 1, 1, 1, 1, 1, 1, 1, 1, 1, 1, 1, 1, 1, 1, 1, 1, 1, 1, 1, 1, 1, 1, 1, 1, 1, 4, 7, 1, 2, 1, 1, 1, 1, 1, 1, 1, 1, 1, 1, 1, 1, 1, 1, 1, 1, 1, 2, 1, 1, 1, 1, 1, 1, 1, 1, 1, 1, 1, 4, 1, 1, 3, 1, 2, 1, 1, 1, 1, 1, 1, 1, 1, 1, 1, 1, 1, 1, 1, 1, 1, 2, 1, 1, 1, 2, 3, 3, 3, 3, 7, 1, 1, 1, 1, 6, 1, 1, 1, 1, 1, 1, 1, 1, 1, 1, 1, 1, 1, 1, 1, 1, 1, 1, 1, 1, 1, 1, 1, 1, 3, 1, 3, 1, 2, 2, 2, 1, 2, 2, 2, 2, 3, 2, 2, 7, 2, 5, 2, 1, 2, 1, 1, 2, 1, 1, 1, 1, 1, 1, 1, 2, 1, 2, 1, 1, 1, 1, 1, 1, 1, 2, 1, 1, 1, 1, 1, 1, 1, 1, 1, 1, 2, 1, 2, 2, 1, 1, 3, 1, 1, 1, 1, 1, 2, 1, 1, 2, 1, 1, 1, 1, 3, 1, 1, 1, 1, 1, 1, 1, 1, 1, 1, 1, 1, 3, 1, 1, 1, 1, 1, 1, 1, 1, 1, 1, 1, 1, 1, 1, 1, 1, 1, 1, 1, 1, 1, 1, 1, 1, 1, 1, 1, 1, 2, 2, 2, 2, 1, 1, 1, 2, 1, 1, 1, 1, 1, 1, 1, 1, 1, 1, 1, 1, 1, 1, 1, 1, 1, 3, 1, 1, 1, 1, 2, 1, 1, 1, 1, 1, 1, 1, 1, 1, 1, 1, 1, 1, 2, 1, 1, 1, 1, 1, 1, 1, 1, 1, 1, 1, 1, 1, 1, 1, 1, 1, 1, 1, 1, 1, 1, 1, 1, 1, 1, 1, 1, 1, 1, 1, 1, 2, 1, 1, 1, 1, 1, 1, 1, 2, 1, 1, 1, 2, 1, 1, 1, 2, 1, 1, 1, 1, 2, 1, 1, 2, 1, 1, 1, 1, 1, 1, 1, 1, 1, 2, 2, 3, 1, 1, 1, 1, 1, 1, 1, 1, 1, 1, 1, 1, 1, 1, 1, 1, 1, 1, 1, 1, 1, 1, 2, 2, 1, 1, 1, 1, 1, 7, 7, 2, 1, 1, 1, 3, 1, 1, 1, 1, 1, 1, 1, 3, 1, 1, 1, 1, 1, 2, 2, 1, 1, 1, 3, 3, 1, 1, 1, 1, 1, 1, 1, 1, 1, 1, 1, 1, 1, 1, 1, 1, 1, 3, 2, 1, 1, 1, 2, 1, 2, 2, 1, 1, 1, 1, 1, 1, 2, 1, 2, 1, 1, 2, 1, 1, 1, 1, 1, 1, 1, 1, 1, 1, 1, 1, 1, 1, 1, 1, 1, 1, 1, 1, 1, 1, 1, 1, 1, 1, 1, 2, 1, 1, 2, 1, 1, 1, 1, 1, 1, 1, 1, 1, 1, 1, 1, 1, 1, 1, 1, 1, 1, 1, 2, 2, 1, 1, 2, 2, 1, 1, 1, 1, 1, 1, 1, 1, 1, 1, 1, 1, 1, 1, 1, 1, 1, 1, 1, 1, 1, 1, 1, 1, 1, 1, 1, 2, 1, 1, 1, 1, 1, 1, 1, 1, 1, 1, 1, 2, 1, 1, 1, 1, 1, 1, 1, 1, 1, 1, 1, 1, 1, 1, 1, 2, 1, 2, 1, 3, 2, 1, 1, 1, 1, 1, 1, 2, 2, 3, 2, 2, 2, 1, 1, 1, 1, 1, 1, 1, 1, 1, 1, 1, 1, 1, 1, 1, 2, 1, 1, 1, 2, 3, 1, 1, 1, 1, 1, 2, 1, 1, 1, 1, 1, 1, 1, 1, 1, 1, 1, 1, 1, 2, 1, 1, 1, 1, 1, 1, 1, 1, 1, 1, 1, 1, 1, 1, 1, 1, 1, 1, 1, 1, 2, 1, 1, 1, 1, 1, 1, 1, 1, 1, 1, 1, 1, 1, 1, 1, 1, 1, 1, 1, 2, 1, 1, 1, 1, 1, 1, 1, 1, 1, 1, 1, 1, 1, 1, 1, 1, 1, 1, 1, 1, 1, 2, 1, 4, 1, 1, 1, 1, 4, 1, 1, 4, 1, 1, 1, 1, 1, 1, 1, 1, 1, 1, 1, 1, 1, 1, 1, 1, 1, 2, 2, 2, 2, 1, 2, 1, 1, 1, 1, 1, 1, 1, 1, 2, 1, 2, 1, 1, 1, 1, 1, 1, 2, 1, 1, 1, 1, 1, 1, 1, 1, 1, 1, 1, 1, 1, 1, 1, 1, 1, 1, 1, 1, 1, 1, 1, 1, 1, 1, 1, 1, 1, 1, 1, 1, 1, 1, 1, 1, 1, 1, 1, 1, 1, 1, 1, 1, 1, 1, 1, 1, 1, 1, 1, 1, 1, 1, 1, 1, 1, 1, 1, 1, 1, 2, 1, 1, 1, 1, 1, 1, 1, 1, 1, 1, 1, 1, 1, 1, 1, 1, 1, 1, 1, 1, 1, 1, 1, 1, 1, 1, 1, 1, 1, 1, 1, 1, 1, 1, 1, 1, 1, 1, 1, 1, 1, 1, 1, 1, 1, 1, 2, 1, 1, 2, 1, 1, 1, 1, 1, 1, 1, 1, 1, 1, 1, 1, 1, 1, 1, 1, 1, 1, 1, 1, 1, 1, 1, 1, 1, 1, 1, 1, 1, 1, 1, 1, 1, 1, 1, 1, 1, 1, 1, 1, 1, 1, 1, 1, 1, 1, 1, 1, 1, 1, 1, 1, 1, 1, 1, 1, 1, 1, 1, 1, 1, 1, 1, 1, 1, 1, 1, 1, 1, 1, 1, 1, 1, 1, 1, 1, 1, 1, 1, 1, 1, 1, 1, 1, 1, 1, 1, 1, 1, 1, 1, 1, 1, 1, 1, 1, 1, 1, 1, 1, 1, 1, 1, 1, 1, 1, 1, 1, 1, 1, 1, 1, 1, 1, 2, 2, 2, 2, 2, 2, 2, 2, 2, 2, 2, 1, 1, 1, 1, 1, 1, 1, 1, 1, 2, 2, 1, 1, 1, 1, 2, 1, 2, 2, 1, 1, 2, 2, 2, 2, 1, 1, 1, 1, 1, 1, 1, 1, 1, 1, 1, 1, 1, 1, 1, 1, 1, 1, 1, 1, 1, 1, 1, 1, 1, 1, 1, 1, 1, 1, 1, 1, 1, 1, 1, 1, 1, 1, 1, 1, 1, 1, 1, 1, 1, 1, 1, 1, 1, 1, 1, 1, 1, 1, 1, 1, 1, 1, 1, 1]\n"
     ]
    }
   ],
   "source": [
    "# menentukan nilai max antara 1 dengan nilai nij aksen\n",
    "max_numerator_stem = []\n",
    "for i in range(len(nij_aksen_stem)):\n",
    "    temp_stem = 0\n",
    "    temp_stem = max(1, nij_aksen_stem[i])\n",
    "    max_numerator_stem.append(temp_stem)\n",
    "print(max_numerator_stem)"
   ]
  },
  {
   "cell_type": "code",
   "execution_count": 61,
   "id": "b64cd7e9",
   "metadata": {},
   "outputs": [
    {
     "name": "stdout",
     "output_type": "stream",
     "text": [
      "[0.30103, 0.44091, 0.35172, 0.30103, 0.31203, 0.31175, 0.34242, 0.77815, 0.47712, 0.49732, 0.30103, 0.30103, 0.30103, 0.35751, 0.38075, 0.36798, 0.31876, 0.30103, 0.33321, 0.30103, 0.43933, 0.30103, 0.37566, 0.41611, 0.30103, 0.32503, 0.30103, 0.30103, 0.30103, 0.30103, 0.30103, 0.30103, 0.30103, 0.32222, 0.37477, 0.30103, 0.31527, 0.47712, 0.90309, 0.30103, 0.30103, 0.47712, 0.75696, 0.30103, 0.39794, 0.30103, 0.30103, 0.30103, 0.30103, 0.34584, 0.3287, 0.30103, 0.30103, 0.63682, 0.30103, 0.30103, 0.30103, 0.42597, 0.30103, 0.30103, 0.3093, 0.30103, 0.30629, 0.63682, 0.30103, 0.30103, 0.52476, 0.30103, 0.30103, 0.30103, 0.30103, 0.37196, 0.33337, 0.30103, 0.30103, 0.31967, 0.30103, 0.30103, 0.30103, 0.30103, 0.30103, 0.30103, 0.30103, 0.30103, 0.30103, 0.30103, 0.30103, 0.30103, 0.30103, 0.31231, 0.30103, 0.34054, 0.30103, 0.69897, 0.69897, 1.17609, 0.32222, 0.77815, 1.0607, 0.90309, 0.90309, 0.85387, 1.11394, 0.45079, 1.04139, 0.45079, 0.97313, 0.47712, 0.47712, 0.35218, 0.30103, 0.30103, 0.30103, 0.31742, 0.35902, 0.40334, 0.30395, 0.30103, 0.32968, 0.52288, 0.30103, 0.39794, 0.30103, 0.8451, 0.31575, 0.30103, 0.30103, 0.36798, 1.23045, 0.30103, 0.56427, 0.30103, 0.54407, 0.30103, 0.30103, 0.30103, 0.30103, 0.30103, 0.33427, 0.34679, 0.30103, 0.30103, 0.35218, 0.30103, 0.36798, 0.40457, 0.30103, 0.30103, 0.30103, 0.30103, 0.30103, 0.30103, 0.30103, 0.39794, 0.30103, 0.30103, 0.31362, 0.30103, 0.30103, 0.30103, 0.30103, 0.30103, 0.30103, 0.30103, 0.92942, 0.30103, 0.30103, 0.30103, 0.30103, 0.30103, 0.30103, 0.30103, 0.30103, 0.30103, 0.30103, 0.30103, 0.30103, 0.30103, 0.30103, 0.32736, 0.34054, 0.32034, 0.30103, 0.35218, 0.34242, 0.38021, 0.30103, 0.47712, 0.36798, 0.30103, 0.30103, 0.47712, 0.60206, 0.30103, 0.30103, 0.30103, 0.60206, 0.30103, 0.30103, 0.30103, 0.65321, 0.41218, 0.30103, 0.30103, 0.30103, 0.30103, 0.30963, 0.47712, 0.30103, 0.46018, 0.77815, 0.47712, 0.60206, 0.47712, 0.47712, 0.43933, 0.47712, 0.32451, 0.36798, 0.30103, 0.30103, 0.30103, 0.30103, 0.3093, 0.30103, 0.38185, 0.30103, 0.30103, 0.47712, 0.30103, 0.30103, 0.30103, 0.30103, 0.30103, 0.30103, 0.30103, 1.5563, 0.30103, 0.30103, 0.3409, 0.32736, 0.30103, 0.47712, 0.30103, 0.47712, 0.30103, 0.30103, 0.36798, 0.30103, 0.30103, 0.30103, 0.33579, 0.30103, 0.30103, 0.30103, 0.30103, 0.30103, 0.30103, 0.30103, 0.30103, 0.30103, 0.35218, 0.30103, 0.30103, 0.30103, 0.30103, 0.30103, 0.30103, 0.30103, 0.30103, 0.30103, 0.30103, 0.30103, 0.30103, 0.30103, 0.47712, 0.30103, 0.30103, 0.30103, 0.36798, 0.30103, 0.30103, 0.30103, 0.30103, 0.30103, 0.58358, 0.39121, 0.30103, 0.30103, 0.30103, 0.30103, 0.30103, 0.30103, 0.30103, 0.30103, 0.30103, 0.30103, 0.55931, 0.69897, 1.20412, 0.87506, 1.57978, 0.59048, 0.69897, 1.0, 0.60206, 0.47712, 0.34242, 0.60206, 0.47712, 0.47712, 0.47712, 0.47712, 0.47712, 0.47712, 0.47712, 0.47712, 0.60206, 0.47712, 0.47712, 0.47712, 0.47712, 0.47712, 0.47712, 0.47712, 0.47712, 0.47712, 0.30103, 0.30103, 0.47712, 0.30103, 0.30103, 0.30103, 0.30103, 0.30103, 0.36798, 0.50268, 0.30103, 0.30103, 0.30103, 0.30103, 0.30103, 0.30103, 0.41218, 0.30103, 0.30103, 0.30103, 0.30103, 0.30103, 0.30103, 0.30103, 0.30103, 0.30103, 0.33579, 0.30103, 0.30103, 0.30103, 0.30103, 0.30103, 0.30103, 0.30103, 0.30103, 0.30103, 0.35218, 0.30103, 0.30103, 0.30103, 0.30103, 0.47712, 0.30103, 0.30103, 0.30103, 0.30103, 0.30103, 0.30103, 0.30103, 0.30103, 0.34679, 0.30103, 0.31231, 0.47712, 0.30103, 0.30103, 0.30103, 0.30103, 0.30103, 0.30103, 0.30103, 0.30103, 0.30103, 0.30103, 0.30103, 0.30103, 0.30103, 0.30103, 0.30103, 0.30103, 0.77815, 0.47712, 0.60206, 0.47712, 0.47712, 0.69897, 0.36798, 0.47712, 0.47712, 0.39794, 0.47712, 0.47712, 0.31527, 0.30103, 0.30103, 0.47712, 0.30103, 0.30103, 0.30103, 0.30103, 0.30103, 0.30103, 0.33099, 0.30103, 0.30103, 0.30103, 0.30103, 0.30103, 0.30103, 0.30103, 0.30103, 0.35218, 0.60206, 0.30103, 0.47712, 0.47712, 0.47712, 0.95424, 0.60206, 0.8451, 0.47712, 1.20412, 0.69897, 1.04139, 0.47712, 1.41497, 0.90309, 1.34242, 0.47712, 0.30103, 0.74036, 0.30103, 0.8451, 0.30103, 0.30103, 0.30103, 0.30103, 0.30103, 0.30103, 0.30103, 0.49485, 0.30103, 0.30103, 0.39794, 0.61979, 0.30103, 0.30103, 0.30103, 0.30103, 0.30103, 0.30103, 0.30103, 0.30103, 0.30103, 0.30103, 0.3928, 0.30103, 0.30103, 0.93785, 0.81291, 1.41497, 0.8451, 0.77815, 0.69897, 0.69897, 0.60206, 0.60206, 0.69897, 0.47712, 0.65321, 0.8451, 0.8451, 0.69897, 0.69897, 0.8451, 0.47712, 1.14613, 0.39794, 0.47712, 0.47712, 0.47712, 0.95424, 0.47712, 0.47712, 0.30103, 0.36798, 0.30103, 0.30103, 0.30103, 0.30103, 0.30103, 0.30103, 0.30103, 0.30103, 0.30103, 0.30103, 0.39794, 0.47712, 0.47712, 0.47712, 0.39794, 0.47712, 0.47712, 0.47712, 0.47712, 0.47712, 0.47712, 0.47712, 0.47712, 0.47712, 0.60206, 0.47712, 0.47712, 0.47712, 1.04139, 0.47712, 0.77815, 0.60206, 0.60206, 1.17609, 0.47712, 0.47712, 0.47712, 1.04139, 0.95424, 0.47712, 0.30103, 0.30103, 0.30103, 0.30103, 0.30103, 0.30103, 0.30103, 0.42597, 0.30103, 0.30103, 0.30103, 0.30103, 0.30103, 1.07918, 0.30103, 0.47712, 0.60206, 0.47712, 0.47712, 0.47712, 0.47712, 0.47712, 0.47712, 0.47712, 0.39794, 0.47712, 0.77815, 0.47712, 0.69897, 0.47712, 0.47712, 0.47712, 0.90309, 0.47712, 0.47712, 0.69897, 0.47712, 0.47712, 0.8451, 0.47712, 0.69897, 0.57724, 1.17609, 0.47712, 0.47712, 0.47712, 0.52288, 0.47712, 0.47712, 0.30103, 0.30103, 0.30103, 0.35218, 0.30103, 0.30103, 0.30103, 0.30103, 0.30103, 0.30103, 0.30103, 0.30103, 0.30103, 0.34845, 0.30103, 0.30103, 0.32736, 0.30103, 0.30103, 0.30103, 0.30103, 0.69897, 0.30103, 0.45079, 0.30103, 0.39794, 0.30103, 0.36798, 0.30103, 0.30103, 0.30103, 0.30103, 0.30103, 0.30103, 0.32222, 0.30103, 0.30103, 0.30103, 0.30103, 0.30103, 0.30103, 0.35655, 0.30103, 0.30103, 0.30103, 0.30103, 0.30103, 0.30103, 0.30103, 0.30103, 0.30103, 0.30103, 0.30103, 0.30103, 0.30103, 0.30103, 0.30103, 0.30103, 0.727, 0.30103, 0.30103, 0.30103, 0.30103, 0.30103, 0.54407, 0.30103, 0.30103, 0.30103, 0.30103, 0.30103, 0.30103, 0.30103, 0.69897, 0.47712, 0.45593, 0.47712, 0.47712, 0.30103, 0.60206, 0.30103, 0.30103, 0.30103, 0.30103, 0.30103, 0.30103, 0.30103, 0.30103, 0.34242, 0.30103, 0.30103, 0.30103, 0.30103, 0.30103, 0.30103, 0.30103, 0.30103, 0.30103, 0.47712, 0.69897, 0.90309, 0.54407, 0.47712, 0.69897, 0.60206, 1.0, 0.8451, 0.47712, 0.47712, 0.77815, 0.60206, 0.47712, 0.47712, 0.47712, 0.47712, 0.42101, 0.69897, 0.47712, 0.39794, 0.90309, 0.90309, 0.53511, 0.90309, 0.37566, 0.63682, 0.30103, 0.30103, 0.30103, 0.47712, 0.30103, 0.30103, 0.30103, 0.30103, 0.30103, 0.30103, 0.30103, 0.30103, 0.30103, 0.30103, 0.30103, 0.30103, 0.30103, 0.30103, 0.30103, 0.73239, 0.30103, 0.47712, 0.30103, 0.30103, 0.30103, 0.30103, 0.30103, 0.30103, 0.30103, 0.30103, 0.30103, 0.30103, 0.30103, 0.30103, 0.30103, 0.30103, 0.30103, 0.30103, 0.30103, 0.30103, 0.33099, 0.30103, 0.30103, 0.30103, 0.30103, 0.30103, 0.30103, 0.30103, 0.30103, 0.30103, 0.30103, 0.30103, 0.30103, 0.42597, 0.47712, 0.47712, 0.60206, 0.69897, 0.47712, 0.47712, 0.30103, 0.30103, 0.33099, 0.30103, 0.30103, 0.30103, 0.30103, 0.47712, 0.30103, 0.30103, 0.30103, 0.30103, 0.47712, 0.47712, 0.47712, 0.47712, 0.60206, 0.47712, 0.47712, 0.47712, 0.47712, 0.60206, 0.47712, 0.47712, 0.47712, 0.47712, 0.47712, 0.47712, 0.47712, 0.47712, 0.47712, 0.33579, 0.39794, 0.47712, 0.60206, 0.30103, 0.30103, 0.30103, 0.30103, 0.42597, 0.30103, 0.30103, 0.30103, 0.30103, 0.30103, 0.30103, 0.30103, 0.30103, 0.30103, 0.30103, 0.30103, 0.30103, 0.30103, 0.30103, 0.30103, 0.30103, 0.30103, 0.30103, 0.30103, 0.30103, 0.30103, 0.30103, 0.30103, 0.30103, 0.33099, 0.30103, 0.30103, 0.30103, 0.30103, 0.30103, 0.30103, 0.30103, 0.30103, 0.30103, 0.30103, 0.30103, 0.30103, 0.30103, 0.30103, 0.30103, 0.30103, 0.30103, 0.30103, 0.30103, 0.30103, 0.30103, 0.30103, 0.30103, 0.30103, 0.30103, 0.30535, 0.90309, 0.77815, 0.69897, 0.77815, 0.69897, 0.47712, 0.77815, 0.69897, 0.8451, 0.47712, 0.90309, 0.47712, 0.47712, 0.47712, 0.47712, 0.47712, 0.47712, 0.47712, 1.07918, 0.60206, 0.60206, 0.65321, 0.77815, 0.77815, 0.60206, 0.60206, 0.39794, 0.47712, 0.77815, 0.90309, 0.30103, 0.60206, 0.47712, 0.30103, 0.30103, 0.30103, 0.30103, 0.60206, 0.69897, 0.69897, 0.69897, 0.60206, 0.69897, 0.60206, 0.30103, 0.30103, 0.30103, 0.30103, 0.30103, 0.30103, 0.30103, 0.30103, 0.30103, 0.30103, 0.30103, 0.47712, 0.30103, 0.35218, 0.39794, 0.32222, 0.30103, 0.30103, 0.30103, 0.32451, 0.30103, 0.30103, 0.30103, 0.30103, 0.30103, 0.39794, 0.30103, 0.30103, 0.30103, 0.30103, 0.30103, 0.30103, 0.30103, 0.30103, 0.30103, 0.69897, 0.60206, 0.60206, 0.60206, 0.47712, 0.47712, 0.60206, 0.47712, 0.30103, 0.30103, 0.30103, 0.30103, 0.31876, 0.30103, 0.30103, 0.30103, 0.30103, 0.30103, 0.30103, 0.30103, 0.60206, 0.60206, 0.60206, 0.30103, 0.30103, 0.30103, 0.30103, 0.30103, 0.95424, 0.42597, 0.30103, 0.30103, 0.30103, 0.69897, 0.69897, 1.04139, 0.8451, 0.60206, 0.8451, 0.60206, 0.60206, 0.60206, 0.60206, 0.77815, 0.38818, 0.60206, 0.77815, 0.60206, 0.60206, 1.23045, 0.90309, 0.69897, 0.69897, 0.69897, 0.60206, 0.60206, 0.60206, 0.8451, 0.60206, 0.69897, 0.69897, 0.60206, 1.25527, 0.60206, 0.90309, 0.60206, 0.60206, 0.30103, 0.30103, 0.30103, 0.30103, 0.30103, 0.30103, 0.30103, 0.30103, 0.30103, 0.30103, 0.47712, 0.47712, 0.47712, 0.47712, 0.47712, 0.69897, 0.47712, 0.69897, 0.47712, 0.47712, 0.47712, 0.47712, 0.47712, 0.47712, 0.47712, 0.47712, 0.47712, 0.47712, 0.47712, 0.54407, 0.60206, 0.47712, 0.47712, 0.47712, 0.47712, 0.47712, 0.47712, 0.47712, 0.47712, 0.60206, 0.60206, 0.47712, 0.60206, 0.60206, 0.60206, 0.60206, 0.47712, 0.60206, 0.90309, 0.60206, 0.47712, 0.60206, 0.60206, 0.47712, 0.47712, 0.47712, 0.47712, 0.47712, 0.47712, 0.69897, 0.47712, 0.47712, 0.77815, 0.54407, 0.8451, 0.69897, 0.90309, 0.77815, 0.69897, 0.77815, 0.69897, 0.47712, 0.77815, 0.47712, 0.47712, 0.47712, 0.47712, 0.47712, 0.47712, 0.47712, 0.69897, 0.47712, 0.47712, 0.60206, 0.47712, 0.47712, 0.42597, 0.47712, 0.47712, 0.47712, 0.47712, 0.47712, 0.47712, 0.47712, 0.47712, 0.47712, 0.47712, 0.47712, 0.47712, 0.47712, 0.47712, 0.47712, 0.47712, 0.47712, 0.47712, 0.47712, 0.69897, 0.47712, 0.77815, 0.47712, 0.47712, 0.47712, 0.47712, 0.47712, 0.47712, 0.47712, 0.47712, 0.60206, 0.47712, 0.47712, 0.47712, 0.47712, 0.47712, 0.47712, 0.47712, 0.60206, 0.47712, 0.60206, 0.47712, 0.47712, 0.47712, 0.47712, 0.30103, 0.30103, 0.30103, 0.30103, 0.30103, 0.30103, 0.30103, 0.30103, 0.30103, 0.30103, 0.30103, 0.30103, 0.30103, 0.30103, 0.30103, 0.30103, 0.30103, 0.30103, 0.30103, 0.30103, 0.30103, 0.30103, 0.30103, 0.30103, 0.30103, 0.30103, 0.30103, 0.30103, 0.30103, 0.30103, 0.30103, 0.30103, 0.30103, 0.30103, 0.34242, 0.30103, 0.30103, 0.30103, 0.30103, 0.33579, 0.30103, 0.30103, 0.30103, 0.30103, 0.30103, 0.30103, 0.30103, 0.30103, 0.30103, 0.30103, 0.30103, 0.30103, 0.30103, 0.30103, 0.30103, 0.30103, 0.30103, 0.30103, 0.30103, 0.30103, 0.30103, 0.30103, 0.30103, 0.30103, 0.30103, 0.30103, 0.30103, 0.30103, 0.31125, 0.30103, 0.30103, 0.30103, 0.30103, 0.30103, 0.30103, 0.47712, 0.30103, 0.30103, 0.30103, 0.30103, 0.30103, 0.30103, 0.30103, 0.30103, 0.30103, 0.30103, 0.30103, 0.30103, 0.30103, 0.32451, 0.30103, 0.30103, 0.30103, 0.30103, 0.30103, 0.30103, 0.30103, 0.30103, 0.30103, 0.30103, 0.30103, 0.30103, 0.30103, 0.30103, 0.30103, 0.30103, 0.30103, 0.30103, 0.30103, 0.30103, 0.30103, 0.30103, 0.30103, 0.30103, 0.30103, 0.30103, 0.30103, 0.30103, 0.30103, 0.30103, 0.30103, 0.30103, 0.30103, 0.30103, 0.30103, 0.30103, 0.30103, 0.30103, 0.30103, 0.30103, 0.30103, 0.30103, 0.30103, 0.30103, 0.30103, 0.30103, 0.36798, 0.30103, 0.34242, 0.30103, 0.30103, 0.30103, 0.30103, 0.30103, 0.30103, 0.30103, 0.30103, 0.30103, 0.30103, 0.30103, 0.30103, 0.30103, 0.30103, 0.30103, 0.30103, 0.30103, 0.30103, 0.30103, 0.30103, 0.30103, 0.33099, 0.30103, 0.30103, 0.30103, 0.30103, 0.30103, 0.47712, 0.30103, 0.30103, 0.30103, 0.30103, 0.30103, 0.30103, 0.30103, 0.30103, 0.30103, 0.30103, 0.30103, 0.30103, 0.30103, 0.30103, 0.30103, 0.30103, 0.30103, 0.30103, 0.30103, 0.30103, 0.30103, 0.30103, 0.30103, 0.30103, 0.30103, 0.30103, 0.30103, 0.30103, 0.30103, 0.30103, 0.30103, 0.30103, 0.30103, 0.30103, 0.30103, 0.30103, 0.30103, 0.30103, 0.30103, 0.30103, 0.30103, 0.30103, 0.30103, 0.47712, 0.30103, 0.30103, 0.30103, 0.30103, 0.30103, 0.30103, 0.30103, 0.30103, 0.30103, 0.30103, 0.30103, 0.30103, 0.30103, 0.30103, 0.30103, 0.30103, 0.30103, 0.30103, 0.30103, 0.30103, 0.30103, 0.30103, 0.47712, 0.47712, 0.47712, 0.47712, 0.47712, 0.47712, 0.47712, 0.47712, 0.47712, 0.47712, 0.47712, 0.47712, 0.8451, 0.35902, 0.47712, 0.77815, 0.47712, 0.30103, 0.30103, 0.30103, 0.47712, 0.47712, 0.30103, 0.30103, 0.30103, 0.30103, 0.30103, 0.30103, 0.30103, 0.30103, 0.30103, 0.30103, 0.30103, 0.30103, 0.30103, 0.30103, 0.30103, 0.30103, 0.30103, 0.34242, 0.30103, 0.30103, 0.30103, 0.30103, 0.30103, 0.30103, 0.30103, 0.30103, 0.33099, 0.30103, 0.8451, 0.47712, 0.47712, 0.47712, 0.30103, 0.30103, 0.69897, 0.69897, 0.69897, 0.69897, 0.30103, 0.30103, 0.30103, 0.30103, 0.30103, 0.30103, 0.30103, 0.30103, 0.30103, 0.30103, 0.30103, 0.30103, 0.30103, 0.30103, 0.30103, 0.30103, 0.30103, 0.39794, 0.30103, 0.30103, 0.30103, 0.30103, 0.30103, 0.30103, 0.47712, 0.30103, 0.30103, 0.30103, 0.30103, 0.30103, 0.30103, 0.30103, 0.30103, 0.30103, 0.30103, 0.30103, 0.30103, 0.30103, 0.30103, 0.30103, 0.30103, 0.30103, 0.30103, 0.30103, 0.30103, 0.36798, 0.30103, 0.30103, 0.30103, 0.30103, 0.30103, 0.30103, 0.30103, 0.30103, 0.30103, 0.30103, 0.30103, 0.36798, 0.35218, 0.32222, 0.47712, 0.47712, 0.47712, 0.47712, 0.60206, 0.47712, 0.47712, 0.47712, 0.47712, 0.47712, 0.47712, 0.47712, 0.47712, 0.47712, 0.47712, 0.47712, 0.47712, 0.47712, 0.47712, 0.47712, 0.47712, 0.47712, 0.47712, 0.60206, 0.69897, 0.47712, 0.47712, 0.47712, 0.47712, 0.47712, 0.30103, 0.30103, 0.30103, 0.30103, 0.30103, 0.30103, 0.30103, 0.30103, 0.30103, 0.30103, 0.30103, 0.30103, 0.30103, 0.30103, 0.30103, 0.30103, 0.30103, 0.30103, 0.30103, 0.30103, 0.30103, 0.30103, 0.30103, 0.30103, 0.30103, 0.30103, 0.47712, 0.47712, 0.47712, 0.47712, 0.47712, 0.47712, 0.47712, 0.47712, 0.60206, 0.47712, 0.47712, 0.47712, 0.47712, 0.60206, 0.60206, 0.47712, 0.30103, 0.30103, 0.30103, 0.30103, 0.30103, 0.30103, 0.30103, 0.30103, 0.30103, 0.30103, 0.30103, 0.30103, 0.30103, 0.30103, 0.60206, 0.47712, 0.47712, 0.47712, 0.47712, 0.47712, 0.60206, 0.47712, 0.47712, 1.0, 0.47712, 0.60206, 0.47712, 0.47712, 0.47712, 0.47712, 0.47712, 0.47712, 0.47712, 0.60206, 0.47712, 0.60206, 0.47712, 0.30103, 0.47712, 0.47712, 0.47712, 0.47712, 0.47712, 0.30103, 0.30103, 0.30103, 0.30103, 0.30103, 0.30103, 0.30103, 0.30103, 0.30103, 0.30103, 0.30103, 0.30103, 0.30103, 0.30103, 0.30103, 0.30103, 0.30103, 0.30103, 0.30103, 0.30103, 0.30103, 0.30103, 0.30103, 0.30103, 0.30103, 0.30103, 0.30103, 0.30103, 0.30103, 0.30103, 0.30103, 0.30103, 0.30103, 0.47712, 0.47712, 0.47712, 0.47712, 0.47712, 0.47712, 0.47712, 0.47712, 0.47712, 0.47712, 0.47712, 0.47712, 0.47712, 0.47712, 0.47712, 0.47712, 0.47712, 0.60206, 0.47712, 0.47712, 0.47712, 0.30103, 0.30103, 0.30103, 0.30103, 0.30103, 0.30103, 0.30103, 0.30103, 0.30103, 0.30103, 0.60206, 0.77815, 0.60206, 0.47712, 0.47712, 0.47712, 0.69897, 0.77815, 0.69897, 0.69897, 0.60206, 0.60206, 0.60206, 0.60206, 0.30103, 0.30103, 0.30103, 0.47712, 0.47712, 0.47712, 0.47712, 0.30103, 0.30103, 0.30103, 0.30103, 0.30103, 0.30103, 0.30103, 0.30103, 0.30103, 0.30103, 0.47712, 0.30103, 0.30103, 0.47712, 0.47712, 0.69897, 0.47712, 0.47712, 0.36798, 0.47712, 0.47712, 0.47712, 0.47712, 0.77815, 0.8451, 0.8451, 0.90309, 0.47712, 0.30103, 0.30103, 0.30103, 0.30103, 0.30103, 0.30103, 0.47712, 0.47712, 0.60206, 0.69897, 0.60206, 0.47712, 0.47712, 0.69897, 1.0, 0.30103, 0.30103, 0.60206, 0.47712, 0.47712, 0.77815, 0.47712, 0.47712, 0.30103, 0.30103, 0.69897, 0.47712, 0.60206, 0.47712, 0.47712, 0.47712, 0.47712, 0.47712, 0.47712, 0.69897, 0.69897, 0.47712, 0.47712, 0.60206, 0.60206, 0.47712, 0.47712, 0.47712, 0.30103, 0.30103, 0.30103, 0.47712, 0.47712, 0.47712, 0.8451, 0.47712, 0.47712, 0.47712, 0.47712, 0.47712, 0.47712, 0.47712, 0.47712, 0.30103, 0.30103, 0.30103, 0.47712, 0.47712, 0.47712, 0.30103, 0.30103, 0.30103, 0.30103, 0.30103, 0.30103, 0.30103, 0.30103, 0.30103, 0.30103, 0.30103, 0.30103, 0.30103, 0.30103, 0.30103, 0.30103, 0.30103, 0.30103, 0.30103, 0.30103, 0.30103, 0.30103, 0.47712, 0.47712, 0.47712, 0.47712, 0.47712, 0.47712, 0.60206, 0.60206, 0.8451, 0.60206, 0.47712, 0.47712, 0.39794, 0.47712, 0.47712, 0.30103, 0.30103, 0.30103, 0.30103, 0.30103, 0.30103, 0.30103, 0.47712, 0.47712, 0.60206, 0.47712, 0.33579, 0.47712, 0.47712, 0.47712, 0.47712, 0.47712, 0.47712, 0.60206, 0.47712, 0.47712, 0.47712, 0.47712, 0.47712, 0.47712, 0.47712, 0.47712, 0.47712, 0.47712, 0.47712, 0.47712, 0.47712, 0.47712, 0.47712, 0.47712, 0.47712, 0.30103, 0.30103, 0.30103, 0.30103, 0.39794, 0.30103, 0.30103, 0.30103, 0.30103, 0.30103, 0.30103, 0.30103, 0.30103, 0.30103, 0.30103, 0.33099, 0.30103, 0.30103, 0.30103, 0.30103, 0.30103, 0.30103, 0.30103, 0.30103, 0.30103, 0.30103, 0.30103, 0.30103, 0.30103, 0.30103, 0.30103, 0.30103, 0.30103, 0.30103, 0.30103, 0.30103, 0.30103, 0.30103, 0.30103, 0.30103, 0.30103, 0.30103, 0.30103, 0.30103, 0.60206, 0.47712, 0.47712, 0.69897, 0.60206, 0.60206, 0.47712, 0.30103, 0.30103, 0.30103, 0.30103, 0.30103, 0.30103, 0.30103, 0.30103, 0.30103, 0.30103, 0.30103, 0.30103, 0.30103, 0.30103, 0.30103, 0.30103, 0.30103, 0.30103, 0.30103, 0.30103, 0.30103, 0.30103, 0.30103, 0.30103, 0.60206, 0.47712, 0.47712, 0.47712, 0.47712, 0.30103, 0.30103, 0.30103, 0.30103, 0.30103, 0.30103, 0.60206, 0.47712, 0.47712, 0.69897, 0.47712, 0.47712, 0.47712, 0.47712, 0.47712, 0.47712, 0.47712, 0.47712, 0.47712, 0.47712, 0.47712, 0.47712, 0.47712, 0.47712, 0.47712, 0.60206, 0.47712, 0.47712, 0.30103, 0.30103, 0.47712, 0.47712, 0.47712, 0.47712, 0.30103, 0.30103, 0.30103, 0.30103, 0.30103, 0.47712, 0.47712, 0.47712, 0.60206, 0.47712, 0.47712, 0.30103, 0.30103, 0.30103, 0.30103, 0.30103, 0.30103, 0.47712, 0.47712, 0.47712, 0.47712, 0.47712, 0.47712, 0.47712, 0.47712, 0.36798, 0.47712, 0.30103, 0.30103, 0.30103, 0.30103, 0.30103, 0.30103, 0.30103, 0.47712, 0.47712, 0.47712, 0.60206, 0.69897, 0.47712, 0.30103, 0.47712, 0.47712, 0.47712, 0.30103, 0.30103, 0.47712, 0.47712, 0.47712, 0.47712, 0.47712, 0.47712, 0.60206, 0.60206, 0.69897, 0.60206, 0.30103, 0.30103, 0.30103, 0.30103, 0.30103, 0.30103, 0.30103, 0.30103, 0.30103, 0.30103, 0.30103, 0.30103, 0.47712, 0.47712, 0.30103, 0.30103, 0.30103, 0.30103, 0.30103, 0.47712, 0.47712, 0.39794, 0.47712, 0.47712, 0.47712, 0.30103, 0.30103, 0.30103, 0.30103, 0.30103, 0.30103, 0.30103, 0.30103, 0.30103, 0.30103, 0.30103, 0.30103, 0.39794, 0.30103, 0.30103, 0.30103, 0.30103, 0.30103, 0.30103, 0.30103, 0.30103, 0.60206, 0.47712, 0.47712, 0.30103, 0.30103, 0.30103, 0.30103, 0.30103, 0.30103, 0.30103, 0.30103, 0.30103, 0.30103, 0.30103, 0.30103, 0.30103, 0.30103, 0.30103, 0.30103, 0.30103, 0.30103, 0.30103, 0.30103, 0.30103, 0.30103, 0.30103, 0.30103, 0.30103, 0.30103, 0.30103, 0.30103, 0.30103, 0.30103, 0.30103, 0.30103, 0.30103, 0.30103, 0.30103, 0.30103, 0.30103, 0.30103, 0.30103, 0.30103, 0.30103, 0.30103, 0.30103, 0.30103, 0.30103, 0.30103, 0.60206, 0.47712, 0.47712, 0.47712, 0.30103, 0.30103, 0.30103, 0.30103, 0.30103, 0.30103, 0.30103, 0.30103, 0.30103, 0.30103, 0.30103, 0.30103, 0.30103, 0.30103, 0.30103, 0.47712, 0.47712, 0.47712, 0.47712, 0.47712, 0.30103, 0.30103, 0.30103, 0.30103, 0.30103, 0.30103, 0.30103, 0.30103, 0.30103, 0.30103, 0.30103, 0.30103, 0.30103, 0.30103, 0.47712, 0.30103, 0.30103, 0.30103, 0.30103, 0.30103, 0.30103, 0.30103, 0.30103, 0.30103, 0.30103, 0.30103, 0.30103, 0.30103, 0.30103, 0.30103, 0.30103, 0.30103, 0.30103, 0.30103, 0.30103, 0.30103, 0.30103, 0.30103, 0.30103, 0.60206, 0.60206, 0.60206, 0.60206, 0.60206, 0.47712, 0.60206, 0.47712, 0.47712, 0.47712, 0.60206, 0.47712, 0.47712, 0.47712, 0.47712, 0.47712, 0.47712, 0.47712, 0.47712, 0.30103, 0.30103, 0.30103, 0.30103, 0.30103, 0.30103, 0.30103, 0.30103, 0.30103, 0.30103, 0.30103, 0.60206, 0.47712, 0.47712, 0.47712, 0.47712, 0.30103, 0.30103, 0.30103, 0.47712, 0.47712, 0.47712, 0.47712, 0.47712, 0.47712, 0.30103, 0.30103, 0.30103, 0.30103, 0.30103, 0.30103, 0.47712, 0.47712, 0.47712, 0.47712, 0.47712, 0.47712, 0.60206, 0.47712, 0.60206, 0.47712, 0.47712, 0.47712, 0.47712, 0.47712, 0.47712, 0.47712, 0.47712, 0.47712, 0.30103, 0.30103, 0.30103, 0.30103, 0.30103, 0.30103, 0.30103, 0.30103, 0.30103, 0.30103, 0.30103, 0.30103, 0.30103, 0.30103, 0.30103, 0.30103, 0.30103, 0.30103, 0.30103, 0.30103, 0.30103, 0.30103, 0.30103, 0.30103, 0.30103, 0.47712, 0.60206, 0.47712, 0.47712, 0.47712, 0.60206, 0.60206, 0.47712, 0.47712, 0.47712, 0.47712, 0.47712, 0.30103, 0.30103, 0.30103, 0.60206, 0.30103, 0.30103, 0.47712, 0.47712, 0.47712, 0.30103, 0.30103, 0.30103, 0.30103, 0.30103, 0.30103, 0.30103, 0.30103, 0.30103, 0.30103, 0.30103, 0.30103, 0.30103, 0.30103, 0.30103, 0.30103, 0.30103, 0.47712, 0.47712, 0.47712, 0.47712, 0.30103, 0.30103, 0.30103, 0.30103, 0.30103, 0.30103, 0.30103, 0.30103, 0.30103, 0.30103, 0.30103, 0.30103, 0.30103, 0.30103, 0.30103, 0.30103, 0.30103, 0.30103, 0.30103, 0.30103, 0.30103, 0.30103, 0.30103, 0.30103, 0.30103, 0.30103, 0.30103, 0.30103, 0.30103, 0.30103, 0.30103, 0.30103, 0.30103, 0.30103, 0.30103, 0.30103, 0.30103, 0.30103, 0.30103, 0.30103, 0.30103, 0.30103, 0.30103, 0.30103, 0.30103, 0.30103, 0.30103, 0.30103, 0.30103, 0.30103, 0.30103, 0.30103, 0.30103, 0.30103, 0.30103, 0.30103, 0.30103, 0.30103, 0.30103, 0.30103, 0.30103, 0.30103, 0.30103, 0.30103, 0.30103, 0.30103, 0.30103, 0.30103, 0.30103, 0.30103, 0.30103, 0.30103, 0.30103, 0.30103, 0.30103, 0.30103, 0.30103, 0.30103, 0.30103, 0.30103, 0.30103, 0.30103, 0.30103, 0.30103, 0.47712, 0.30103, 0.30103, 0.47712, 0.30103, 0.30103, 0.30103, 0.30103, 0.30103, 0.30103, 0.30103, 0.30103, 0.30103, 0.30103, 0.30103, 0.30103, 0.30103, 0.30103, 0.30103, 0.30103, 0.30103, 0.30103, 0.30103, 0.30103, 0.30103, 0.30103, 0.30103, 0.30103, 0.30103, 0.30103, 0.30103, 0.30103, 0.30103, 0.30103, 0.30103, 0.30103, 0.30103, 0.30103, 0.30103, 0.30103, 0.30103, 0.30103, 0.30103, 0.30103, 0.30103, 0.30103, 0.30103, 0.30103, 0.30103, 0.30103, 0.30103, 0.30103, 0.30103, 0.30103, 0.30103, 0.30103, 0.30103, 0.30103, 0.30103, 0.30103, 0.30103, 0.30103, 0.30103, 0.30103, 0.30103, 0.30103, 0.30103, 0.30103, 0.30103, 0.30103, 0.30103, 0.30103, 0.30103, 0.30103, 0.30103, 0.30103, 0.30103, 0.30103, 0.30103, 0.30103, 0.30103, 0.30103, 0.30103, 0.30103, 0.30103, 0.30103, 0.30103, 0.30103, 0.30103, 0.30103, 0.30103, 0.30103, 0.30103, 0.30103, 0.30103, 0.30103, 0.30103, 0.30103, 0.30103, 0.30103, 0.30103, 0.30103, 0.30103, 0.30103, 0.47712, 0.47712, 0.47712, 0.47712, 0.47712, 0.47712, 0.47712, 0.30103, 0.30103, 0.30103, 0.30103, 0.30103, 0.30103, 0.30103, 0.30103, 0.30103, 0.30103, 0.30103, 0.30103, 0.30103, 0.30103, 0.30103, 0.30103, 0.47712, 0.47712, 0.47712, 0.47712, 0.47712, 0.47712, 0.47712, 0.47712, 0.47712, 0.47712, 0.47712, 0.47712, 0.47712, 0.47712, 0.47712, 0.47712, 0.47712, 0.47712, 0.47712, 0.47712, 0.47712, 0.30103, 0.30103, 0.30103, 0.30103, 0.30103, 0.30103, 0.30103, 0.30103, 0.47712, 0.47712, 0.47712, 0.60206, 0.47712, 0.60206, 0.69897, 0.47712, 0.30103, 0.30103, 0.30103, 0.30103, 0.30103, 0.30103, 0.30103, 0.47712, 0.47712, 0.47712, 0.47712, 0.47712, 0.47712, 0.47712, 0.47712, 0.47712, 0.47712, 0.47712, 0.47712, 0.30103, 0.30103, 0.30103, 0.47712, 0.47712, 0.47712, 0.47712, 0.47712, 0.47712, 0.47712, 0.47712, 0.47712, 0.47712, 0.47712, 0.47712, 0.47712, 0.47712, 0.47712, 0.47712, 0.30103, 0.47712, 0.47712, 0.47712, 0.47712, 0.47712, 0.30103, 0.30103, 0.30103, 0.30103, 0.30103, 0.30103, 0.30103, 0.30103, 0.30103, 0.47712, 0.30103, 0.47712, 0.47712, 0.47712, 0.47712, 0.47712, 0.30103, 0.30103, 0.30103, 0.30103, 0.30103, 0.30103, 0.30103, 0.30103, 0.30103, 0.30103, 0.30103, 0.30103, 0.30103, 0.30103, 0.30103, 0.30103, 0.30103, 0.30103, 0.30103, 0.30103, 0.30103, 0.30103, 0.30103, 0.30103, 0.30103, 0.30103, 0.30103, 0.47712, 0.47712, 0.47712, 0.47712, 0.47712, 0.8451, 0.47712, 0.60206, 0.60206, 0.47712, 0.47712, 0.30103, 0.30103, 0.30103, 0.47712, 0.47712, 0.60206, 0.47712, 0.47712, 0.60206, 0.30103, 0.30103, 0.30103, 0.30103, 0.30103, 0.47712, 0.47712, 0.47712, 0.47712, 0.47712, 0.47712, 0.47712, 0.47712, 0.47712, 0.30103, 0.30103, 0.30103, 0.30103, 0.30103, 0.30103, 0.30103, 0.30103, 0.30103, 0.30103, 0.30103, 0.47712, 0.60206, 0.47712, 0.47712, 0.47712, 0.47712, 0.47712, 0.47712, 0.47712, 0.30103, 0.30103, 0.30103, 0.30103, 0.30103, 0.30103, 0.30103, 0.30103, 0.30103, 0.30103, 0.30103, 0.30103, 0.30103, 0.30103, 0.30103, 0.30103, 0.47712, 0.47712, 0.47712, 0.47712, 0.47712, 0.47712, 0.47712, 0.47712, 0.47712, 0.47712, 0.47712, 0.47712, 0.47712, 0.47712, 0.47712, 0.47712, 0.47712, 0.30103, 0.30103, 0.30103, 0.30103, 0.47712, 0.47712, 0.30103, 0.30103, 0.30103, 0.30103, 0.47712, 0.47712, 0.47712, 0.47712, 0.47712, 0.47712, 0.60206, 0.47712, 0.47712, 0.47712, 0.47712, 0.47712, 0.47712, 0.47712, 0.47712, 0.47712, 0.47712, 0.47712, 0.47712, 0.47712, 0.47712, 0.47712, 0.47712, 0.47712, 0.47712, 0.30103, 0.30103, 0.30103, 0.30103, 0.30103, 0.30103, 0.30103, 0.30103]\n"
     ]
    }
   ],
   "source": [
    "# mencari nilai rf\n",
    "rf_list_stem = []\n",
    "for i in range(len(nij_stem)):\n",
    "    temp_stem = 0\n",
    "    temp_stem = math.log10(2 + (nij_stem[i] / max_numerator_stem[i]))\n",
    "    temp_stem = round(temp_stem, 5)\n",
    "    rf_list_stem.append(temp_stem)\n",
    "print(rf_list_stem)"
   ]
  },
  {
   "cell_type": "code",
   "execution_count": 62,
   "id": "f5440b0a",
   "metadata": {},
   "outputs": [
    {
     "name": "stdout",
     "output_type": "stream",
     "text": [
      "[[0, 1, 0, 0, 0, 0, 0, 1, 0, 0, 0, 0, 0, 0, 0, 0, 0, 0, 0, 0, 0, 0, 0, 1, 0, 0, 0, 0, 0, 0, 0, 0, 0, 0, 0, 0, 0, 0, 0, 0, 0, 0, 0, 0, 0, 0, 0, 0, 0, 0, 0, 0, 0, 0, 0, 0, 0, 0, 0, 0, 0, 0, 0, 0, 0, 0, 0, 0, 0, 0, 0, 0, 0, 0, 0, 0, 0, 0, 0, 0, 0, 0, 0, 0, 0, 0, 0, 0, 0, 0, 0, 0, 0, 1, 1, 1, 1, 1, 1, 1, 1, 1, 1, 1, 1, 1, 1, 1, 1, 0, 0, 0, 0, 0, 0, 0, 0, 0, 0, 0, 0, 0, 0, 0, 0, 0, 0, 0, 0, 0, 0, 0, 0, 0, 0, 0, 0, 0, 0, 0, 0, 0, 0, 0, 0, 0, 0, 0, 0, 0, 0, 0, 0, 0, 0, 0, 0, 0, 0, 0, 0, 0, 0, 0, 0, 0, 0, 0, 0, 0, 0, 0, 0, 0, 0, 0, 0, 0, 0, 0, 0, 0, 0, 0, 0, 0, 0, 0, 0, 0, 0, 0, 0, 0, 0, 0, 0, 0, 0, 0, 0, 0, 0, 0, 0, 0, 0, 0, 0, 0, 0, 0, 0, 0, 0, 0, 0, 0, 0, 0, 0, 0, 0, 0, 0, 0, 0, 0, 0, 0, 0, 0, 0, 0, 0, 0, 0, 0, 0, 0, 0, 0, 0, 0, 0, 0, 0, 0, 0, 0, 0, 0, 0, 0, 0, 0, 0, 0, 0, 0, 0, 0, 0, 0, 0, 0, 0, 0, 0, 0, 0, 0, 0, 0, 0, 0, 0, 0, 0, 0, 0, 0, 0, 0, 0, 0, 0, 0, 0, 0, 0, 0, 0, 0, 0, 0, 0, 0, 0, 0, 0, 0, 0, 0, 0, 0, 0, 0, 0, 0, 0, 0, 0, 0, 0, 0, 0, 0, 0, 0, 0, 0, 0, 0, 0, 0, 0, 0, 0, 0, 0, 0, 0, 0, 0, 0, 0, 0, 0, 0, 0, 0, 0, 0, 0, 0, 0, 0, 0, 0, 0, 0, 0, 0, 0, 0, 0, 0, 0, 0, 0, 0, 0, 0, 0, 0, 0, 0, 0, 0, 0, 0, 0, 0, 0, 0, 0, 0, 0, 0, 0, 0, 0, 0, 0, 0, 0, 0, 0, 0, 0, 0, 0, 0, 0, 0, 0, 0, 0, 0, 0, 0, 0, 0, 0, 0, 0, 0, 0, 0, 0, 0, 0, 0, 0, 0, 0, 0, 0, 0, 0, 0, 0, 0, 0, 0, 0, 0, 0, 0, 0, 0, 0, 0, 0, 0, 0, 0, 0, 0, 0, 0, 0, 0, 0, 0, 0, 0, 0, 0, 0, 0, 0, 0, 0, 0, 0, 0, 0, 0, 0, 0, 0, 0, 0, 0, 0, 0, 0, 0, 0, 0, 0, 0, 0, 0, 0, 0, 0, 0, 0, 0, 0, 0, 0, 0, 0, 0, 0, 0, 0, 0, 0, 0, 0, 0, 0, 0, 0, 0, 0, 0, 0, 0, 0, 0, 0, 0, 0, 0, 0, 0, 0, 0, 0, 0, 0, 0, 0, 0, 0, 0, 0, 0, 0, 0, 0, 0, 0, 0, 0, 0, 0, 0, 0, 0, 0, 0, 0, 0, 0, 0, 0, 0, 0, 0, 0, 0, 0, 0, 0, 0, 0, 0, 0, 0, 0, 0, 0, 0, 0, 0, 0, 0, 0, 0, 0, 0, 0, 0, 0, 0, 0, 0, 0, 0, 0, 0, 0, 0, 0, 0, 0, 0, 0, 0, 0, 0, 0, 0, 0, 0, 0, 0, 0, 0, 0, 0, 0, 0, 0, 0, 0, 0, 0, 0, 0, 0, 0, 0, 0, 0, 0, 0, 0, 0, 0, 0, 0, 0, 0, 0, 0, 0, 0, 0, 0, 0, 0, 0, 0, 0, 0, 0, 0, 0, 0, 0, 0, 0, 0, 0, 0, 0, 0, 0, 0, 0, 0, 0, 0, 0, 0, 0, 0, 0, 0, 0, 0, 0, 0, 0, 0, 0, 0, 0, 0, 0, 0, 0, 0, 0, 0, 0, 0, 0, 0, 0, 0, 0, 0, 0, 0, 0, 0, 0, 0, 0, 0, 0, 0, 0, 0, 0, 0, 0, 0, 0, 0, 0, 0, 0, 0, 0, 0, 0, 0, 0, 0, 0, 0, 0, 0, 0, 0, 0, 0, 0, 0, 0, 0, 0, 0, 0, 0, 0, 0, 0, 0, 0, 0, 0, 0, 0, 0, 0, 0, 0, 0, 0, 0, 0, 0, 0, 0, 0, 0, 0, 0, 0, 0, 0, 0, 0, 0, 0, 0, 0, 0, 0, 0, 0, 0, 0, 0, 0, 0, 0, 0, 0, 0, 0, 0, 0, 0, 0, 0, 0, 0, 0, 0, 0, 0, 0, 0, 0, 0, 0, 0, 0, 0, 0, 0, 0, 0, 0, 0, 0, 0, 0, 0, 0, 0, 0, 0, 0, 0, 0, 0, 0, 0, 0, 0, 0, 0, 0, 0, 0, 0, 0, 0, 0, 0, 0, 0, 0, 0, 0, 0, 0, 0, 0, 0, 0, 0, 0, 0, 0, 0, 0, 0, 0, 0, 0, 0, 0, 0, 0, 0, 0, 0, 0, 0, 0, 0, 0, 0, 0, 0, 0, 0, 0, 0, 0, 0, 0, 0, 0, 0, 0, 0, 0, 0, 0, 0, 0, 0, 0, 0, 0, 0, 0, 0, 0, 0, 0, 0, 0, 0, 0, 0, 0, 0, 0, 0, 0, 0, 0, 0, 0, 0, 0, 0, 0, 0, 0, 0, 0, 0, 0, 0, 0, 0, 0, 0, 0, 0, 0, 0, 0, 0, 0, 0, 0, 0, 0, 0, 0, 0, 0, 0, 0, 0, 0, 0, 0, 0, 0, 0, 0, 0, 0, 0, 0, 0, 0, 0, 0, 0, 0, 0, 0, 0, 0, 0, 0, 0, 0, 0, 0, 0, 0, 0, 0, 0, 0, 0, 0, 0, 0, 0, 0, 0, 0, 0, 0, 0, 0, 0, 0, 0, 0, 0, 0, 0, 0, 0, 0, 0, 0, 0, 0, 0, 0, 0, 0, 0, 0, 0, 0, 0, 0, 0, 0, 0, 0, 0, 0, 0, 0, 0, 0, 0, 0, 0, 0, 0, 0, 0, 0, 0, 0, 0, 0, 0, 0, 0, 0, 0, 0, 0, 0, 0, 0, 0, 0, 0, 0, 0, 0, 0, 0, 0, 0, 0, 0, 0, 0, 0, 0, 0, 0, 0, 0, 0, 0, 0, 0, 0, 0, 0, 0, 0, 0, 0, 0, 0, 0, 0, 0, 0, 0, 0, 0, 0, 0, 0, 0, 0, 0, 0, 0, 0, 0, 0, 0, 0, 0, 0, 0, 0, 0, 0, 0, 0, 0, 0, 0, 0, 0, 0, 0, 0, 0, 0, 0, 0, 0, 0, 0, 0, 0, 0, 0, 0, 0, 0, 0, 0, 0, 0, 0, 0, 0, 0, 0, 0, 0, 0, 0, 0, 0, 0, 0, 0, 0, 0, 0, 0, 0, 0, 0, 0, 0, 0, 0, 0, 0, 0, 0, 0, 0, 0, 0, 0, 0, 0, 0, 0, 0, 0, 0, 0, 0, 0, 0, 0, 0, 0, 0, 0, 0, 0, 0, 0, 0, 0, 0, 0, 0, 0, 0, 0, 0, 0, 0, 0, 0, 0, 0, 0, 0, 0, 0, 0, 0, 0, 0, 0, 0, 0, 0, 0, 0, 0, 0, 0, 0, 0, 0, 0, 0, 0, 0, 0, 0, 0, 0, 0, 0, 0, 0, 0, 0, 0, 0, 0, 0, 0, 0, 0, 0, 0, 0, 0, 0, 0, 0, 0, 0, 0, 0, 0, 0, 0, 0, 0, 0, 0, 0, 0, 0, 0, 0, 0, 0, 0, 0, 0, 0, 0, 0, 0, 0, 0, 0, 0, 0, 0, 0, 0, 0, 0, 0, 0, 0, 0, 0, 0, 0, 0, 0, 0, 0, 0, 0, 0, 0, 0, 0, 0, 0, 0, 0, 0, 0, 0, 0, 0, 0, 0, 0, 0, 0, 0, 0, 0, 0, 0, 0, 0, 0, 0, 0, 0, 0, 0, 0, 0, 0, 0, 0, 0, 0, 0, 0, 0, 0, 0, 0, 0, 0, 0, 0, 0, 0, 0, 0, 0, 0, 0, 0, 0, 0, 0, 0, 0, 0, 0, 0, 0, 0, 0, 0, 0, 0, 0, 0, 0, 0, 0, 0, 0, 0, 0, 0, 0, 0, 0, 0, 0, 0, 0, 0, 0, 0, 0, 0, 0, 0, 0, 0, 0, 0, 0, 0, 0, 0, 0, 0, 0, 0, 0, 0, 0, 0, 0, 0, 0, 0, 0, 0, 0, 0, 0, 0, 0, 0, 0, 0, 0, 0, 0, 0, 0, 0, 0, 0, 0, 0, 0, 0, 0, 0, 0, 0, 0, 0, 0, 0, 0, 0, 0, 0, 0, 0, 0, 0, 0, 0, 0, 0, 0, 0, 0, 0, 0, 0, 0, 0, 0, 0, 0, 0, 0, 0, 0, 0, 0, 0, 0, 0, 0, 0, 0, 0, 0, 0, 0, 0, 0, 0, 0, 0, 0, 0, 0, 0, 0, 0, 0, 0, 0, 0, 0, 0, 0, 0, 0, 0, 0, 0, 0, 0, 0, 0, 0, 0, 0, 0, 0, 0, 0, 0, 0, 0, 0, 0, 0, 0, 0, 0, 0, 0, 0, 0, 0, 0, 0, 0, 0, 0, 0, 0, 0, 0, 0, 0, 0, 0, 0, 0, 0, 0, 0, 0, 0, 0, 0, 0, 0, 0, 0, 0, 0, 0, 0, 0, 0, 0, 0, 0, 0, 0, 0, 0, 0, 0, 0, 0, 0, 0, 0, 0, 0, 0, 0, 0, 0, 0, 0, 0, 0, 0, 0, 0, 0, 0, 0, 0, 0, 0, 0, 0, 0, 0, 0, 0, 0, 0, 0, 0, 0, 0, 0, 0, 0, 0, 0, 0, 0, 0, 0, 0, 0, 0, 0, 0, 0, 0, 0, 0, 0, 0, 0, 0, 0, 0, 0, 0, 0, 0, 0, 0, 0, 0, 0, 0, 0, 0, 0, 0, 0, 0, 0, 0, 0, 0, 0, 0, 0, 0, 0, 0, 0, 0, 0, 0, 0, 0, 0, 0, 0, 0, 0, 0, 0, 0, 0, 0, 0, 0, 0, 0, 0, 0, 0, 0, 0, 0, 0, 0, 0, 0, 0, 0, 0, 0, 0, 0, 0, 0, 0, 0, 0, 0, 0, 0, 0, 0, 0, 0, 0, 0, 0, 0, 0, 0, 0, 0, 0, 0, 0, 0, 0, 0, 0, 0, 0, 0, 0, 0, 0, 0, 0, 0, 0, 0, 0, 0, 0, 0, 0, 0, 0, 0, 0, 0, 0, 0, 0, 0, 0, 0, 0, 0, 0, 0, 0, 0, 0, 0, 0, 0, 0, 0, 0, 0, 0, 0, 0, 0, 0, 0, 0, 0, 0, 0, 0, 0, 0, 0, 0, 0, 0, 0, 0, 0, 0, 0, 0, 0, 0, 0, 0, 0, 0, 0, 0, 0, 0, 0, 0, 0, 0, 0, 0, 0, 0, 0, 0, 0, 0, 0, 0, 0, 0, 0, 0, 0, 0, 0, 0, 0, 0, 0, 0, 0, 0, 0, 0, 0, 0, 0, 0, 0, 0, 0, 0, 0, 0, 0, 0, 0, 0, 0, 0, 0, 0, 0, 0, 0, 0, 0, 0, 0, 0, 0, 0, 0, 0, 0, 0, 0, 0, 0, 0, 0, 0, 0, 0, 0, 0, 0, 0, 0, 0, 0, 0, 0, 0, 0, 0, 0, 0, 0, 0, 0, 0, 0, 0, 0, 0, 0, 0, 0, 0, 0, 0, 0, 0, 0, 0, 0, 0, 0, 0, 0, 0, 0, 0, 0, 0, 0, 0, 0, 0, 0, 0, 0, 0, 0, 0, 0, 0, 0, 0, 0, 0, 0, 0, 0, 0, 0, 0, 0, 0, 0, 0, 0, 0, 0, 0, 0, 0, 0, 0, 0, 0, 0, 0, 0, 0, 0, 0, 0, 0, 0, 0, 0, 0, 0, 0, 0, 0, 0, 0, 0, 0, 0, 0, 0, 0, 0, 0, 0, 0, 0, 0, 0, 0, 0, 0, 0, 0, 0, 0, 0, 0, 0, 0, 0, 0, 0, 0, 0, 0, 0, 0, 0, 0, 0, 0, 0, 0, 0, 0, 0, 0, 0, 0, 0, 0, 0, 0, 0, 0, 0, 0, 0, 0, 0, 0, 0, 0, 0, 0, 0, 0, 0, 0, 0, 0, 0, 0, 0, 0, 0, 0, 0, 0, 0, 0, 0, 0, 0, 0, 0, 0, 0, 0, 0, 0, 0, 0, 0, 0, 0, 0, 0, 0, 0, 0, 0, 0, 0, 0, 0, 0, 0, 0, 0, 0, 0, 0, 0, 0, 0, 0, 0, 0, 0, 0, 0, 0, 0, 0, 0, 0, 0, 0, 0, 0, 0, 0, 0, 0, 0, 0, 0, 0, 0, 0, 0, 0, 0, 0, 0, 0, 0, 0, 0, 0, 0, 0, 0, 0, 0, 0, 0, 0, 0, 0, 0, 0, 0, 0, 0, 0, 0, 0, 0, 0, 0, 0, 0, 0, 0, 0, 0, 0, 0, 0, 0, 0, 0, 0, 0, 0, 0, 0, 0, 0, 0, 0, 0, 0, 0, 0, 0, 0, 0, 0, 0, 0, 0, 0, 0, 0, 0, 0, 0, 0, 0, 0, 0, 0, 0, 0, 0, 0, 0, 0, 0, 0, 0, 0, 0, 0, 0, 0, 0, 0, 0, 0, 0, 0, 0, 0, 0, 0, 0, 0, 0, 0, 0, 0, 0, 0, 0, 0, 0, 0, 0, 0, 0, 0, 0, 0, 0, 0, 0, 0, 0, 0, 0, 0, 0, 0, 0, 0, 0, 0, 0, 0, 0, 0, 0, 0, 0, 0, 0, 0, 0, 0, 0, 0, 0, 0, 0, 0, 0, 0, 0, 0, 0, 0, 0, 0, 0, 0, 0, 0, 0, 0, 0, 0, 0, 0, 0, 0, 0, 0, 0, 0, 0, 0, 0, 0, 0, 0, 0, 0, 0, 0, 0, 0, 0, 0, 0, 0, 0, 0, 0, 0, 0, 0, 0, 0, 0, 0, 0, 0, 0, 0, 0, 0, 0, 0, 0, 0, 0, 0, 0, 0, 0, 0, 0, 0, 0, 0, 0, 0, 0, 0, 0, 0, 0, 0, 0, 0, 0, 0, 0, 0, 0, 0, 0, 0, 0, 0, 0, 0, 0, 0, 0, 0, 0, 0, 0, 0, 0, 0, 0, 0, 0, 0, 0, 0, 0, 0, 0, 0, 0, 0, 0, 0, 0, 0, 0, 0, 0, 0, 0, 0, 0, 0, 0, 0, 0, 0, 0, 0, 0, 0, 0, 0, 0, 0, 0, 0, 0, 0, 0, 0, 0, 0, 0, 0, 0, 0, 0, 0, 0, 0, 0, 0, 0, 0, 0, 0, 0, 0, 0, 0, 0, 0, 0, 0, 0, 0, 0, 0, 0, 0, 0, 0, 0, 0, 0, 0, 0, 0, 0, 0, 0, 0, 0, 0, 0, 0, 0, 0, 0, 0, 0, 0, 0, 0, 0, 0, 0, 0, 0, 0, 0, 0, 0, 0, 0, 0, 0, 0, 0, 0, 0, 0, 0, 0, 0, 0, 0, 0, 0, 0, 0, 0, 0, 0, 0, 0, 0, 0, 0, 0, 0, 0, 0, 0, 0, 0, 0, 0, 0, 0, 0, 0, 0, 0, 0, 0, 0, 0, 0, 0, 0, 0, 0, 0, 0, 0, 0, 0, 0, 0, 0, 0, 0, 0, 0, 0, 0, 0, 0, 0, 0, 0, 0, 0, 0, 0, 0, 0, 0, 0, 0, 0, 0, 0, 0, 0, 0, 0, 0, 0, 0, 0, 0, 0, 0, 0, 0, 0, 0, 0, 0, 0, 0, 0, 0, 0, 0, 0, 0, 0, 0, 0, 0, 0, 0, 0, 0, 0, 0, 0, 0, 0, 0, 0, 0, 0, 0, 0, 0, 0, 0, 0, 0, 0, 0, 0, 0, 0, 0, 0, 0, 0, 0, 0, 0, 0, 0, 0, 0, 0, 0, 0, 0, 0, 0, 0, 0, 0, 0, 0, 0, 0, 0, 0, 0, 0, 0, 0, 0, 0, 0, 0, 0, 0, 0, 0, 0, 0, 0, 0, 0, 0, 0, 0, 0, 0, 0, 0, 0, 0, 0, 0, 0, 0, 0, 0, 0, 0, 0, 0, 0, 0, 0, 0, 0, 0, 0, 0, 0, 0, 0, 0, 0, 0, 0, 0, 0, 0, 0, 0, 0, 0, 0, 0, 0, 0, 0, 0, 0, 0, 0, 0, 0, 0, 0, 0, 0, 0, 0, 0, 0, 0, 0, 0, 0, 0, 0, 0, 0, 0, 0, 0, 0, 0, 0, 0, 0, 0, 0, 0, 0, 0, 0, 0, 0, 0, 0, 0, 0, 0, 0, 0, 0, 0, 0, 0, 0, 0, 0, 0, 0, 0, 0, 0, 0, 0, 0, 0, 0, 0, 0, 0, 0, 0, 0, 0, 0, 0, 0, 0, 0, 0, 0, 0, 0, 0, 0, 0, 0, 0, 0, 0, 0, 0, 0, 0, 0, 0, 0, 0, 0, 0, 0, 0, 0, 0, 0, 0, 0, 0, 0, 0, 0, 0, 0, 0, 0, 0, 0, 0, 0, 0, 0, 0, 0, 0, 0, 0, 0, 0, 0, 0, 0, 0, 0, 0, 1], [0, 1, 0, 0, 0, 0, 0, 0, 0, 0, 0, 0, 0, 0, 0, 0, 0, 0, 0, 0, 0, 0, 0, 2, 0, 0, 0, 0, 0, 0, 0, 0, 0, 0, 0, 0, 0, 0, 0, 0, 0, 0, 0, 0, 0, 0, 0, 0, 0, 0, 0, 0, 0, 0, 0, 0, 0, 0, 0, 0, 0, 0, 0, 0, 0, 0, 1, 0, 0, 0, 0, 0, 0, 0, 0, 0, 0, 0, 0, 0, 0, 0, 0, 0, 0, 0, 0, 0, 0, 0, 0, 1, 0, 0, 0, 1, 0, 0, 0, 0, 0, 1, 0, 1, 0, 1, 0, 0, 0, 0, 0, 0, 0, 0, 0, 0, 0, 0, 0, 0, 0, 0, 0, 0, 0, 0, 0, 0, 0, 0, 0, 0, 0, 0, 0, 0, 0, 0, 0, 0, 0, 0, 0, 0, 0, 0, 0, 0, 0, 0, 0, 0, 0, 0, 0, 0, 0, 0, 0, 0, 0, 0, 0, 0, 0, 0, 0, 0, 0, 0, 0, 0, 0, 0, 0, 0, 0, 0, 0, 0, 0, 0, 0, 0, 0, 0, 0, 0, 0, 0, 0, 0, 0, 0, 0, 0, 0, 0, 0, 0, 0, 0, 0, 0, 0, 0, 0, 0, 0, 1, 1, 1, 1, 1, 1, 1, 1, 0, 0, 0, 0, 0, 0, 0, 0, 0, 0, 0, 0, 0, 0, 0, 0, 0, 0, 0, 0, 0, 0, 0, 0, 0, 0, 0, 0, 0, 0, 0, 0, 0, 0, 0, 0, 0, 0, 0, 0, 0, 0, 0, 0, 0, 0, 0, 0, 0, 0, 0, 0, 0, 0, 0, 0, 0, 0, 0, 0, 0, 0, 0, 0, 0, 0, 0, 0, 0, 0, 0, 0, 0, 0, 0, 0, 0, 0, 0, 0, 0, 0, 0, 0, 0, 0, 0, 0, 0, 0, 0, 0, 0, 0, 0, 0, 0, 0, 0, 0, 0, 0, 0, 0, 0, 0, 0, 0, 0, 0, 0, 0, 0, 0, 0, 0, 0, 0, 0, 0, 0, 0, 0, 0, 0, 0, 0, 0, 0, 0, 0, 0, 0, 0, 0, 0, 0, 0, 0, 0, 0, 0, 0, 0, 0, 0, 0, 0, 0, 0, 0, 0, 0, 0, 0, 0, 0, 0, 0, 0, 0, 0, 0, 0, 0, 0, 0, 0, 0, 0, 0, 0, 0, 0, 0, 0, 0, 0, 0, 0, 0, 0, 0, 0, 0, 0, 0, 0, 0, 0, 0, 0, 0, 0, 0, 0, 0, 0, 0, 0, 0, 0, 0, 0, 0, 0, 0, 0, 0, 0, 0, 0, 0, 0, 0, 0, 0, 0, 0, 0, 0, 0, 0, 0, 0, 0, 0, 0, 0, 0, 0, 0, 0, 0, 0, 0, 0, 0, 0, 0, 0, 0, 0, 0, 0, 0, 0, 0, 0, 0, 0, 0, 0, 0, 0, 0, 0, 0, 0, 0, 0, 0, 0, 0, 0, 0, 0, 0, 0, 0, 0, 0, 0, 0, 0, 0, 0, 0, 0, 0, 0, 0, 0, 0, 0, 0, 0, 0, 0, 0, 0, 0, 0, 0, 0, 0, 0, 0, 0, 0, 0, 0, 0, 0, 0, 0, 0, 0, 0, 0, 0, 0, 0, 0, 0, 0, 0, 0, 0, 0, 0, 0, 0, 0, 0, 0, 0, 0, 0, 0, 0, 0, 0, 0, 0, 0, 0, 0, 0, 0, 0, 0, 0, 0, 0, 0, 0, 0, 0, 0, 0, 0, 0, 0, 0, 0, 0, 0, 0, 0, 0, 0, 0, 0, 0, 0, 0, 0, 0, 0, 0, 0, 0, 0, 0, 0, 0, 0, 0, 0, 0, 0, 0, 0, 0, 0, 0, 0, 0, 0, 0, 0, 0, 0, 0, 0, 0, 0, 0, 0, 0, 0, 0, 0, 0, 0, 0, 0, 0, 0, 0, 0, 0, 0, 0, 0, 0, 0, 0, 0, 0, 0, 0, 0, 0, 0, 0, 0, 0, 0, 0, 0, 0, 0, 0, 0, 0, 0, 0, 0, 0, 0, 0, 0, 0, 0, 0, 0, 0, 0, 0, 0, 0, 0, 0, 0, 0, 0, 0, 0, 0, 0, 0, 0, 0, 0, 0, 0, 0, 0, 0, 0, 0, 0, 0, 0, 0, 0, 0, 0, 0, 0, 0, 0, 0, 0, 0, 0, 0, 0, 0, 0, 0, 0, 0, 0, 0, 0, 0, 0, 0, 0, 0, 0, 0, 0, 0, 0, 0, 0, 0, 0, 0, 0, 0, 0, 0, 0, 0, 0, 0, 0, 0, 0, 0, 0, 0, 0, 0, 0, 0, 0, 0, 0, 0, 0, 0, 0, 0, 0, 0, 0, 0, 0, 0, 0, 0, 0, 0, 0, 0, 0, 0, 0, 0, 0, 0, 0, 0, 0, 0, 0, 0, 0, 0, 0, 0, 0, 0, 0, 0, 0, 0, 0, 0, 0, 0, 0, 0, 0, 0, 0, 0, 0, 0, 0, 0, 0, 0, 0, 0, 0, 0, 0, 0, 0, 0, 0, 0, 0, 0, 0, 0, 0, 0, 0, 0, 0, 0, 0, 0, 0, 0, 0, 0, 0, 0, 0, 0, 0, 0, 0, 0, 0, 0, 0, 0, 0, 0, 0, 0, 0, 0, 0, 0, 0, 0, 0, 0, 0, 0, 0, 0, 0, 0, 0, 0, 0, 0, 0, 0, 0, 0, 0, 0, 0, 0, 0, 0, 0, 0, 0, 0, 0, 0, 0, 0, 0, 0, 0, 0, 0, 0, 0, 0, 0, 0, 0, 0, 0, 0, 0, 0, 0, 0, 0, 0, 0, 0, 0, 0, 0, 0, 0, 0, 0, 0, 0, 0, 0, 0, 0, 0, 0, 0, 0, 0, 0, 0, 0, 0, 0, 0, 0, 0, 0, 0, 0, 0, 0, 0, 0, 0, 0, 0, 0, 0, 0, 0, 0, 0, 0, 0, 0, 0, 0, 0, 0, 0, 0, 0, 0, 0, 0, 0, 0, 0, 0, 0, 0, 0, 0, 0, 0, 0, 0, 0, 0, 0, 0, 0, 0, 0, 0, 0, 0, 0, 0, 0, 0, 0, 0, 0, 0, 0, 0, 0, 0, 0, 0, 0, 0, 0, 0, 0, 0, 0, 0, 0, 0, 0, 0, 0, 0, 0, 0, 0, 0, 0, 0, 0, 0, 0, 0, 0, 0, 0, 0, 0, 0, 0, 0, 0, 0, 0, 0, 0, 0, 0, 0, 0, 0, 0, 0, 0, 0, 0, 0, 0, 0, 0, 0, 0, 0, 0, 0, 0, 0, 0, 0, 0, 0, 0, 0, 0, 0, 0, 0, 0, 0, 0, 0, 0, 0, 0, 0, 0, 0, 0, 0, 0, 0, 0, 0, 0, 0, 0, 0, 0, 0, 0, 0, 0, 0, 0, 0, 0, 0, 0, 0, 0, 0, 0, 0, 0, 0, 0, 0, 0, 0, 0, 0, 0, 0, 0, 0, 0, 0, 0, 0, 0, 0, 0, 0, 0, 0, 0, 0, 0, 0, 0, 0, 0, 0, 0, 0, 0, 0, 0, 0, 0, 0, 0, 0, 0, 0, 0, 0, 0, 0, 0, 0, 0, 0, 0, 0, 0, 0, 0, 0, 0, 0, 0, 0, 0, 0, 0, 0, 0, 0, 0, 0, 0, 0, 0, 0, 0, 0, 0, 0, 0, 0, 0, 0, 0, 0, 0, 0, 0, 0, 0, 0, 0, 0, 0, 0, 0, 0, 0, 0, 0, 0, 0, 0, 0, 0, 0, 0, 0, 0, 0, 0, 0, 0, 0, 0, 0, 0, 0, 0, 0, 0, 0, 0, 0, 0, 0, 0, 0, 0, 0, 0, 0, 0, 0, 0, 0, 0, 0, 0, 0, 0, 0, 0, 0, 0, 0, 0, 0, 0, 0, 0, 0, 0, 0, 0, 0, 0, 0, 0, 0, 0, 0, 0, 0, 0, 0, 0, 0, 0, 0, 0, 0, 0, 0, 0, 0, 0, 0, 0, 0, 0, 0, 0, 0, 0, 0, 0, 0, 0, 0, 0, 0, 0, 0, 0, 0, 0, 0, 0, 0, 0, 0, 0, 0, 0, 0, 0, 0, 0, 0, 0, 0, 0, 0, 0, 0, 0, 0, 0, 0, 0, 0, 0, 0, 0, 0, 0, 0, 0, 0, 0, 0, 0, 0, 0, 0, 0, 0, 0, 0, 0, 0, 0, 0, 0, 0, 0, 0, 0, 0, 0, 0, 0, 0, 0, 0, 0, 0, 0, 0, 0, 0, 0, 0, 0, 0, 0, 0, 0, 0, 0, 0, 0, 0, 0, 0, 0, 0, 0, 0, 0, 0, 0, 0, 0, 0, 0, 0, 0, 0, 0, 0, 0, 0, 0, 0, 0, 0, 0, 0, 0, 0, 0, 0, 0, 0, 0, 0, 0, 0, 0, 0, 0, 0, 0, 0, 0, 0, 0, 0, 0, 0, 0, 0, 0, 0, 0, 0, 0, 0, 0, 0, 0, 0, 0, 0, 0, 0, 0, 0, 0, 0, 0, 0, 0, 0, 0, 0, 0, 0, 0, 0, 0, 0, 0, 0, 0, 0, 0, 0, 0, 0, 0, 0, 0, 0, 0, 0, 0, 0, 0, 0, 0, 0, 0, 0, 0, 0, 0, 0, 0, 0, 0, 0, 0, 0, 0, 0, 0, 0, 0, 0, 0, 0, 0, 0, 0, 0, 0, 0, 0, 0, 0, 0, 0, 0, 0, 0, 0, 0, 0, 0, 0, 0, 0, 0, 0, 0, 0, 0, 0, 0, 0, 0, 0, 0, 0, 0, 0, 0, 0, 0, 0, 0, 0, 0, 0, 0, 0, 0, 0, 0, 0, 0, 0, 0, 0, 0, 0, 0, 0, 0, 0, 0, 0, 0, 0, 0, 0, 0, 0, 0, 0, 0, 0, 0, 0, 0, 0, 0, 0, 0, 0, 0, 0, 0, 0, 0, 0, 0, 0, 0, 0, 0, 0, 0, 0, 0, 0, 0, 0, 0, 0, 0, 0, 0, 0, 0, 0, 0, 0, 0, 0, 0, 0, 0, 0, 0, 0, 0, 0, 0, 0, 0, 0, 0, 0, 0, 0, 0, 0, 0, 0, 0, 0, 0, 0, 0, 0, 0, 0, 0, 0, 0, 0, 0, 0, 0, 0, 0, 0, 0, 0, 0, 0, 0, 0, 0, 0, 0, 0, 0, 0, 0, 0, 0, 0, 0, 0, 0, 0, 0, 0, 0, 0, 0, 0, 0, 0, 0, 0, 0, 0, 0, 0, 0, 0, 0, 0, 0, 0, 0, 0, 0, 0, 0, 0, 0, 0, 0, 0, 0, 0, 0, 0, 0, 0, 0, 0, 0, 0, 0, 0, 0, 0, 0, 0, 0, 0, 0, 0, 0, 0, 0, 0, 0, 0, 0, 0, 0, 0, 0, 0, 0, 0, 0, 0, 0, 0, 0, 0, 0, 0, 0, 0, 0, 0, 0, 0, 0, 0, 0, 0, 0, 0, 0, 0, 0, 0, 0, 0, 0, 0, 0, 0, 0, 0, 0, 0, 0, 0, 0, 0, 0, 0, 0, 0, 0, 0, 0, 0, 0, 0, 0, 0, 0, 0, 0, 0, 0, 0, 0, 0, 0, 0, 0, 0, 0, 0, 0, 0, 0, 0, 0, 0, 0, 0, 0, 0, 0, 0, 0, 0, 0, 0, 0, 0, 0, 0, 0, 0, 0, 0, 0, 0, 0, 0, 0, 0, 0, 0, 0, 0, 0, 0, 0, 0, 0, 0, 0, 0, 0, 0, 0, 0, 0, 0, 0, 0, 0, 0, 0, 0, 0, 0, 0, 0, 0, 0, 0, 0, 0, 0, 0, 0, 0, 0, 0, 0, 0, 0, 0, 0, 0, 0, 0, 0, 0, 0, 0, 0, 0, 0, 0, 0, 0, 0, 0, 0, 0, 0, 0, 0, 0, 0, 0, 0, 0, 0, 0, 0, 0, 0, 0, 0, 0, 0, 0, 0, 0, 0, 0, 0, 0, 0, 0, 0, 0, 0, 0, 0, 0, 0, 0, 0, 0, 0, 0, 0, 0, 0, 0, 0, 0, 0, 0, 0, 0, 0, 0, 0, 0, 0, 0, 0, 0, 0, 0, 0, 0, 0, 0, 0, 0, 0, 0, 0, 0, 0, 0, 0, 0, 0, 0, 0, 0, 0, 0, 0, 0, 0, 0, 0, 0, 0, 0, 0, 0, 0, 0, 0, 0, 0, 0, 0, 0, 0, 0, 0, 0, 0, 0, 0, 0, 0, 0, 0, 0, 0, 0, 0, 0, 0, 0, 0, 0, 0, 0, 0, 0, 0, 0, 0, 0, 0, 0, 0, 0, 0, 0, 0, 0, 0, 0, 0, 0, 0, 0, 0, 0, 0, 0, 0, 0, 0, 0, 0, 0, 0, 0, 0, 0, 0, 0, 0, 0, 0, 0, 0, 0, 0, 0, 0, 0, 0, 0, 0, 0, 0, 0, 0, 0, 0, 0, 0, 0, 0, 0, 0, 0, 0, 0, 0, 0, 0, 0, 0, 0, 0, 0, 0, 0, 0, 0, 0, 0, 0, 0, 0, 0, 0, 0, 0, 0, 0, 0, 0, 0, 0, 0, 0, 0, 0, 0, 0, 0, 0, 0, 0, 0, 0, 0, 0, 0, 0, 0, 0, 0, 0, 0, 0, 0, 0, 0, 0, 0, 0, 0, 0, 0, 0, 0, 0, 0, 0, 0, 0, 0, 0, 0, 0, 0, 0, 0, 0, 0, 0, 0, 0, 0, 0, 0, 0, 0, 0, 0, 0, 0, 0, 0, 0, 0, 0, 0, 0, 0, 0, 0, 0, 0, 0, 0, 0, 0, 0, 0, 0, 0, 0, 0, 0, 0, 0, 0, 0, 0, 0, 0, 0, 0, 0, 0, 0, 0, 0, 0, 0, 0, 0, 0, 0, 0, 0, 0, 0, 0, 0, 0, 0, 0, 0, 0, 0, 0, 0, 0, 0, 0, 0, 0, 0, 0, 0, 0, 0, 0, 0, 0, 0, 0, 0, 0, 0, 0, 0, 0, 0, 0, 0, 0, 0, 0, 0, 0, 0, 0, 0, 0, 0, 0, 0, 0, 0, 0, 0, 0, 0, 0, 0, 0, 0, 0, 0, 0, 0, 0, 0, 0, 0, 0, 0, 0, 0, 0, 0, 0, 0, 0, 0, 0, 0, 0, 0, 0, 0, 0, 0, 0, 0, 0, 0, 0, 0, 0, 0, 0, 0, 0, 0, 0, 0, 0, 0, 0, 0, 0, 0, 0, 0, 0, 0, 0, 0, 0, 0, 0, 0, 0, 0, 0, 0, 0, 0, 0, 0, 0, 0, 0, 0, 0, 0, 0, 0, 0, 0, 0, 0, 0, 0, 0, 0, 0, 0, 0, 0, 0, 0, 0, 0, 0, 0, 0, 0, 0, 0, 0, 0, 0, 0, 0, 0, 0, 0, 0, 0, 0, 0, 0, 0, 0, 0, 0, 0, 0, 0, 0, 0, 0, 0, 0, 0, 0, 0, 0, 0, 0, 0, 0, 0, 0, 0, 0, 0, 0, 0, 0, 0, 0, 0, 0, 0, 0, 0, 0, 0, 0, 0, 0, 0, 0, 0, 0, 0, 0, 0, 0, 0, 0, 0, 0, 0, 0, 0, 0, 0, 0, 0, 0, 0, 0, 0, 0, 0, 0, 0, 0, 0, 0, 0, 0, 0, 0, 0, 0, 0, 0, 0, 0, 0, 0, 0, 0, 0, 0, 0, 0, 0, 0, 0, 0, 0, 0, 0, 0, 0, 0, 0, 0, 0, 0, 0, 0, 0, 0, 0, 0, 0, 0, 0, 0, 0, 0, 0, 0, 0, 0, 0, 0, 0, 0, 0, 0, 0, 0, 0, 0, 0, 0, 0, 0, 0, 0, 0, 0, 0, 0, 0, 0, 0, 0, 0, 0, 0, 0, 0, 0, 0, 0, 0, 0, 0, 0, 0, 0, 0, 0, 0, 0, 0, 0, 0, 0, 0, 0, 0, 0, 0, 0, 0, 0, 0, 0, 0, 0, 0, 0, 0, 0, 0, 0, 0, 0, 0, 0, 0, 0, 0, 0, 0, 0, 0, 0, 0, 0, 0, 0, 0, 0, 0, 0, 0, 0, 0, 0, 0, 0, 0, 0, 0, 0, 0, 0, 0, 0, 0, 0, 0, 0, 0, 0, 0, 0, 0, 0, 0, 0, 0, 0, 0, 0, 0, 0, 0, 0, 0, 0, 0, 0, 0, 0, 0, 0, 0, 0, 0, 0, 0, 0, 0, 0, 0, 0, 0, 0, 0, 0, 0, 0, 0, 0, 0, 0, 0, 0, 0, 0, 0, 0, 0, 0, 0, 0, 0, 0, 0, 0, 0, 0, 0, 0, 0, 0, 0, 0, 0, 0, 0, 0, 0, 0, 0, 0, 0, 0, 0, 0, 0, 0, 0, 0, 0, 0, 0, 0, 0, 0, 0, 0, 0, 0, 0, 0, 0, 0, 0, 0, 0, 0, 0, 0, 0, 0, 0, 0, 0, 0, 0, 0, 0, 0, 0, 0, 0, 0, 0, 0, 0, 0, 0, 0, 0, 0, 0, 0, 0, 0, 0, 0, 0, 0, 0, 0, 0, 0, 0, 0, 0, 0, 0, 0, 0, 0, 0, 0, 0, 0, 0, 0, 0, 0, 0, 0, 0, 0, 0, 0, 0, 0, 0, 0, 0, 0, 0, 0, 0, 0, 0, 0, 0, 0, 0, 0, 0, 0, 0, 0, 0, 0, 0, 0, 0, 0, 0, 0, 0, 0, 0, 0, 0, 0, 0, 0, 0, 0, 0, 0, 0, 0, 0, 0, 0, 0, 0, 0, 0, 0, 0, 0, 0, 0, 0, 0, 0, 1]]\n"
     ]
    }
   ],
   "source": [
    "# menggabungkan nilai tf yg spam dan non\n",
    "tf_forRF_stem = []\n",
    "\n",
    "for i in range(len(tf_spamrf_stem)):\n",
    "    tf_forRF_stem.append(tf_spamrf_stem[i])\n",
    "    \n",
    "for i in range(len(tf_nonrf_stem)):\n",
    "    tf_forRF_stem.append(tf_nonrf_stem[i])\n",
    "    \n",
    "print(tf_forRF_stem[:2])"
   ]
  },
  {
   "cell_type": "code",
   "execution_count": 63,
   "id": "5dc4cf16",
   "metadata": {},
   "outputs": [
    {
     "name": "stdout",
     "output_type": "stream",
     "text": [
      "[[0.0, 0.44091, 0.0, 0.0, 0.0, 0.0, 0.0, 0.77815, 0.0, 0.0, 0.0, 0.0, 0.0, 0.0, 0.0, 0.0, 0.0, 0.0, 0.0, 0.0, 0.0, 0.0, 0.0, 0.41611, 0.0, 0.0, 0.0, 0.0, 0.0, 0.0, 0.0, 0.0, 0.0, 0.0, 0.0, 0.0, 0.0, 0.0, 0.0, 0.0, 0.0, 0.0, 0.0, 0.0, 0.0, 0.0, 0.0, 0.0, 0.0, 0.0, 0.0, 0.0, 0.0, 0.0, 0.0, 0.0, 0.0, 0.0, 0.0, 0.0, 0.0, 0.0, 0.0, 0.0, 0.0, 0.0, 0.0, 0.0, 0.0, 0.0, 0.0, 0.0, 0.0, 0.0, 0.0, 0.0, 0.0, 0.0, 0.0, 0.0, 0.0, 0.0, 0.0, 0.0, 0.0, 0.0, 0.0, 0.0, 0.0, 0.0, 0.0, 0.0, 0.0, 0.69897, 0.69897, 1.17609, 0.32222, 0.77815, 1.0607, 0.90309, 0.90309, 0.85387, 1.11394, 0.45079, 1.04139, 0.45079, 0.97313, 0.47712, 0.47712, 0.0, 0.0, 0.0, 0.0, 0.0, 0.0, 0.0, 0.0, 0.0, 0.0, 0.0, 0.0, 0.0, 0.0, 0.0, 0.0, 0.0, 0.0, 0.0, 0.0, 0.0, 0.0, 0.0, 0.0, 0.0, 0.0, 0.0, 0.0, 0.0, 0.0, 0.0, 0.0, 0.0, 0.0, 0.0, 0.0, 0.0, 0.0, 0.0, 0.0, 0.0, 0.0, 0.0, 0.0, 0.0, 0.0, 0.0, 0.0, 0.0, 0.0, 0.0, 0.0, 0.0, 0.0, 0.0, 0.0, 0.0, 0.0, 0.0, 0.0, 0.0, 0.0, 0.0, 0.0, 0.0, 0.0, 0.0, 0.0, 0.0, 0.0, 0.0, 0.0, 0.0, 0.0, 0.0, 0.0, 0.0, 0.0, 0.0, 0.0, 0.0, 0.0, 0.0, 0.0, 0.0, 0.0, 0.0, 0.0, 0.0, 0.0, 0.0, 0.0, 0.0, 0.0, 0.0, 0.0, 0.0, 0.0, 0.0, 0.0, 0.0, 0.0, 0.0, 0.0, 0.0, 0.0, 0.0, 0.0, 0.0, 0.0, 0.0, 0.0, 0.0, 0.0, 0.0, 0.0, 0.0, 0.0, 0.0, 0.0, 0.0, 0.0, 0.0, 0.0, 0.0, 0.0, 0.0, 0.0, 0.0, 0.0, 0.0, 0.0, 0.0, 0.0, 0.0, 0.0, 0.0, 0.0, 0.0, 0.0, 0.0, 0.0, 0.0, 0.0, 0.0, 0.0, 0.0, 0.0, 0.0, 0.0, 0.0, 0.0, 0.0, 0.0, 0.0, 0.0, 0.0, 0.0, 0.0, 0.0, 0.0, 0.0, 0.0, 0.0, 0.0, 0.0, 0.0, 0.0, 0.0, 0.0, 0.0, 0.0, 0.0, 0.0, 0.0, 0.0, 0.0, 0.0, 0.0, 0.0, 0.0, 0.0, 0.0, 0.0, 0.0, 0.0, 0.0, 0.0, 0.0, 0.0, 0.0, 0.0, 0.0, 0.0, 0.0, 0.0, 0.0, 0.0, 0.0, 0.0, 0.0, 0.0, 0.0, 0.0, 0.0, 0.0, 0.0, 0.0, 0.0, 0.0, 0.0, 0.0, 0.0, 0.0, 0.0, 0.0, 0.0, 0.0, 0.0, 0.0, 0.0, 0.0, 0.0, 0.0, 0.0, 0.0, 0.0, 0.0, 0.0, 0.0, 0.0, 0.0, 0.0, 0.0, 0.0, 0.0, 0.0, 0.0, 0.0, 0.0, 0.0, 0.0, 0.0, 0.0, 0.0, 0.0, 0.0, 0.0, 0.0, 0.0, 0.0, 0.0, 0.0, 0.0, 0.0, 0.0, 0.0, 0.0, 0.0, 0.0, 0.0, 0.0, 0.0, 0.0, 0.0, 0.0, 0.0, 0.0, 0.0, 0.0, 0.0, 0.0, 0.0, 0.0, 0.0, 0.0, 0.0, 0.0, 0.0, 0.0, 0.0, 0.0, 0.0, 0.0, 0.0, 0.0, 0.0, 0.0, 0.0, 0.0, 0.0, 0.0, 0.0, 0.0, 0.0, 0.0, 0.0, 0.0, 0.0, 0.0, 0.0, 0.0, 0.0, 0.0, 0.0, 0.0, 0.0, 0.0, 0.0, 0.0, 0.0, 0.0, 0.0, 0.0, 0.0, 0.0, 0.0, 0.0, 0.0, 0.0, 0.0, 0.0, 0.0, 0.0, 0.0, 0.0, 0.0, 0.0, 0.0, 0.0, 0.0, 0.0, 0.0, 0.0, 0.0, 0.0, 0.0, 0.0, 0.0, 0.0, 0.0, 0.0, 0.0, 0.0, 0.0, 0.0, 0.0, 0.0, 0.0, 0.0, 0.0, 0.0, 0.0, 0.0, 0.0, 0.0, 0.0, 0.0, 0.0, 0.0, 0.0, 0.0, 0.0, 0.0, 0.0, 0.0, 0.0, 0.0, 0.0, 0.0, 0.0, 0.0, 0.0, 0.0, 0.0, 0.0, 0.0, 0.0, 0.0, 0.0, 0.0, 0.0, 0.0, 0.0, 0.0, 0.0, 0.0, 0.0, 0.0, 0.0, 0.0, 0.0, 0.0, 0.0, 0.0, 0.0, 0.0, 0.0, 0.0, 0.0, 0.0, 0.0, 0.0, 0.0, 0.0, 0.0, 0.0, 0.0, 0.0, 0.0, 0.0, 0.0, 0.0, 0.0, 0.0, 0.0, 0.0, 0.0, 0.0, 0.0, 0.0, 0.0, 0.0, 0.0, 0.0, 0.0, 0.0, 0.0, 0.0, 0.0, 0.0, 0.0, 0.0, 0.0, 0.0, 0.0, 0.0, 0.0, 0.0, 0.0, 0.0, 0.0, 0.0, 0.0, 0.0, 0.0, 0.0, 0.0, 0.0, 0.0, 0.0, 0.0, 0.0, 0.0, 0.0, 0.0, 0.0, 0.0, 0.0, 0.0, 0.0, 0.0, 0.0, 0.0, 0.0, 0.0, 0.0, 0.0, 0.0, 0.0, 0.0, 0.0, 0.0, 0.0, 0.0, 0.0, 0.0, 0.0, 0.0, 0.0, 0.0, 0.0, 0.0, 0.0, 0.0, 0.0, 0.0, 0.0, 0.0, 0.0, 0.0, 0.0, 0.0, 0.0, 0.0, 0.0, 0.0, 0.0, 0.0, 0.0, 0.0, 0.0, 0.0, 0.0, 0.0, 0.0, 0.0, 0.0, 0.0, 0.0, 0.0, 0.0, 0.0, 0.0, 0.0, 0.0, 0.0, 0.0, 0.0, 0.0, 0.0, 0.0, 0.0, 0.0, 0.0, 0.0, 0.0, 0.0, 0.0, 0.0, 0.0, 0.0, 0.0, 0.0, 0.0, 0.0, 0.0, 0.0, 0.0, 0.0, 0.0, 0.0, 0.0, 0.0, 0.0, 0.0, 0.0, 0.0, 0.0, 0.0, 0.0, 0.0, 0.0, 0.0, 0.0, 0.0, 0.0, 0.0, 0.0, 0.0, 0.0, 0.0, 0.0, 0.0, 0.0, 0.0, 0.0, 0.0, 0.0, 0.0, 0.0, 0.0, 0.0, 0.0, 0.0, 0.0, 0.0, 0.0, 0.0, 0.0, 0.0, 0.0, 0.0, 0.0, 0.0, 0.0, 0.0, 0.0, 0.0, 0.0, 0.0, 0.0, 0.0, 0.0, 0.0, 0.0, 0.0, 0.0, 0.0, 0.0, 0.0, 0.0, 0.0, 0.0, 0.0, 0.0, 0.0, 0.0, 0.0, 0.0, 0.0, 0.0, 0.0, 0.0, 0.0, 0.0, 0.0, 0.0, 0.0, 0.0, 0.0, 0.0, 0.0, 0.0, 0.0, 0.0, 0.0, 0.0, 0.0, 0.0, 0.0, 0.0, 0.0, 0.0, 0.0, 0.0, 0.0, 0.0, 0.0, 0.0, 0.0, 0.0, 0.0, 0.0, 0.0, 0.0, 0.0, 0.0, 0.0, 0.0, 0.0, 0.0, 0.0, 0.0, 0.0, 0.0, 0.0, 0.0, 0.0, 0.0, 0.0, 0.0, 0.0, 0.0, 0.0, 0.0, 0.0, 0.0, 0.0, 0.0, 0.0, 0.0, 0.0, 0.0, 0.0, 0.0, 0.0, 0.0, 0.0, 0.0, 0.0, 0.0, 0.0, 0.0, 0.0, 0.0, 0.0, 0.0, 0.0, 0.0, 0.0, 0.0, 0.0, 0.0, 0.0, 0.0, 0.0, 0.0, 0.0, 0.0, 0.0, 0.0, 0.0, 0.0, 0.0, 0.0, 0.0, 0.0, 0.0, 0.0, 0.0, 0.0, 0.0, 0.0, 0.0, 0.0, 0.0, 0.0, 0.0, 0.0, 0.0, 0.0, 0.0, 0.0, 0.0, 0.0, 0.0, 0.0, 0.0, 0.0, 0.0, 0.0, 0.0, 0.0, 0.0, 0.0, 0.0, 0.0, 0.0, 0.0, 0.0, 0.0, 0.0, 0.0, 0.0, 0.0, 0.0, 0.0, 0.0, 0.0, 0.0, 0.0, 0.0, 0.0, 0.0, 0.0, 0.0, 0.0, 0.0, 0.0, 0.0, 0.0, 0.0, 0.0, 0.0, 0.0, 0.0, 0.0, 0.0, 0.0, 0.0, 0.0, 0.0, 0.0, 0.0, 0.0, 0.0, 0.0, 0.0, 0.0, 0.0, 0.0, 0.0, 0.0, 0.0, 0.0, 0.0, 0.0, 0.0, 0.0, 0.0, 0.0, 0.0, 0.0, 0.0, 0.0, 0.0, 0.0, 0.0, 0.0, 0.0, 0.0, 0.0, 0.0, 0.0, 0.0, 0.0, 0.0, 0.0, 0.0, 0.0, 0.0, 0.0, 0.0, 0.0, 0.0, 0.0, 0.0, 0.0, 0.0, 0.0, 0.0, 0.0, 0.0, 0.0, 0.0, 0.0, 0.0, 0.0, 0.0, 0.0, 0.0, 0.0, 0.0, 0.0, 0.0, 0.0, 0.0, 0.0, 0.0, 0.0, 0.0, 0.0, 0.0, 0.0, 0.0, 0.0, 0.0, 0.0, 0.0, 0.0, 0.0, 0.0, 0.0, 0.0, 0.0, 0.0, 0.0, 0.0, 0.0, 0.0, 0.0, 0.0, 0.0, 0.0, 0.0, 0.0, 0.0, 0.0, 0.0, 0.0, 0.0, 0.0, 0.0, 0.0, 0.0, 0.0, 0.0, 0.0, 0.0, 0.0, 0.0, 0.0, 0.0, 0.0, 0.0, 0.0, 0.0, 0.0, 0.0, 0.0, 0.0, 0.0, 0.0, 0.0, 0.0, 0.0, 0.0, 0.0, 0.0, 0.0, 0.0, 0.0, 0.0, 0.0, 0.0, 0.0, 0.0, 0.0, 0.0, 0.0, 0.0, 0.0, 0.0, 0.0, 0.0, 0.0, 0.0, 0.0, 0.0, 0.0, 0.0, 0.0, 0.0, 0.0, 0.0, 0.0, 0.0, 0.0, 0.0, 0.0, 0.0, 0.0, 0.0, 0.0, 0.0, 0.0, 0.0, 0.0, 0.0, 0.0, 0.0, 0.0, 0.0, 0.0, 0.0, 0.0, 0.0, 0.0, 0.0, 0.0, 0.0, 0.0, 0.0, 0.0, 0.0, 0.0, 0.0, 0.0, 0.0, 0.0, 0.0, 0.0, 0.0, 0.0, 0.0, 0.0, 0.0, 0.0, 0.0, 0.0, 0.0, 0.0, 0.0, 0.0, 0.0, 0.0, 0.0, 0.0, 0.0, 0.0, 0.0, 0.0, 0.0, 0.0, 0.0, 0.0, 0.0, 0.0, 0.0, 0.0, 0.0, 0.0, 0.0, 0.0, 0.0, 0.0, 0.0, 0.0, 0.0, 0.0, 0.0, 0.0, 0.0, 0.0, 0.0, 0.0, 0.0, 0.0, 0.0, 0.0, 0.0, 0.0, 0.0, 0.0, 0.0, 0.0, 0.0, 0.0, 0.0, 0.0, 0.0, 0.0, 0.0, 0.0, 0.0, 0.0, 0.0, 0.0, 0.0, 0.0, 0.0, 0.0, 0.0, 0.0, 0.0, 0.0, 0.0, 0.0, 0.0, 0.0, 0.0, 0.0, 0.0, 0.0, 0.0, 0.0, 0.0, 0.0, 0.0, 0.0, 0.0, 0.0, 0.0, 0.0, 0.0, 0.0, 0.0, 0.0, 0.0, 0.0, 0.0, 0.0, 0.0, 0.0, 0.0, 0.0, 0.0, 0.0, 0.0, 0.0, 0.0, 0.0, 0.0, 0.0, 0.0, 0.0, 0.0, 0.0, 0.0, 0.0, 0.0, 0.0, 0.0, 0.0, 0.0, 0.0, 0.0, 0.0, 0.0, 0.0, 0.0, 0.0, 0.0, 0.0, 0.0, 0.0, 0.0, 0.0, 0.0, 0.0, 0.0, 0.0, 0.0, 0.0, 0.0, 0.0, 0.0, 0.0, 0.0, 0.0, 0.0, 0.0, 0.0, 0.0, 0.0, 0.0, 0.0, 0.0, 0.0, 0.0, 0.0, 0.0, 0.0, 0.0, 0.0, 0.0, 0.0, 0.0, 0.0, 0.0, 0.0, 0.0, 0.0, 0.0, 0.0, 0.0, 0.0, 0.0, 0.0, 0.0, 0.0, 0.0, 0.0, 0.0, 0.0, 0.0, 0.0, 0.0, 0.0, 0.0, 0.0, 0.0, 0.0, 0.0, 0.0, 0.0, 0.0, 0.0, 0.0, 0.0, 0.0, 0.0, 0.0, 0.0, 0.0, 0.0, 0.0, 0.0, 0.0, 0.0, 0.0, 0.0, 0.0, 0.0, 0.0, 0.0, 0.0, 0.0, 0.0, 0.0, 0.0, 0.0, 0.0, 0.0, 0.0, 0.0, 0.0, 0.0, 0.0, 0.0, 0.0, 0.0, 0.0, 0.0, 0.0, 0.0, 0.0, 0.0, 0.0, 0.0, 0.0, 0.0, 0.0, 0.0, 0.0, 0.0, 0.0, 0.0, 0.0, 0.0, 0.0, 0.0, 0.0, 0.0, 0.0, 0.0, 0.0, 0.0, 0.0, 0.0, 0.0, 0.0, 0.0, 0.0, 0.0, 0.0, 0.0, 0.0, 0.0, 0.0, 0.0, 0.0, 0.0, 0.0, 0.0, 0.0, 0.0, 0.0, 0.0, 0.0, 0.0, 0.0, 0.0, 0.0, 0.0, 0.0, 0.0, 0.0, 0.0, 0.0, 0.0, 0.0, 0.0, 0.0, 0.0, 0.0, 0.0, 0.0, 0.0, 0.0, 0.0, 0.0, 0.0, 0.0, 0.0, 0.0, 0.0, 0.0, 0.0, 0.0, 0.0, 0.0, 0.0, 0.0, 0.0, 0.0, 0.0, 0.0, 0.0, 0.0, 0.0, 0.0, 0.0, 0.0, 0.0, 0.0, 0.0, 0.0, 0.0, 0.0, 0.0, 0.0, 0.0, 0.0, 0.0, 0.0, 0.0, 0.0, 0.0, 0.0, 0.0, 0.0, 0.0, 0.0, 0.0, 0.0, 0.0, 0.0, 0.0, 0.0, 0.0, 0.0, 0.0, 0.0, 0.0, 0.0, 0.0, 0.0, 0.0, 0.0, 0.0, 0.0, 0.0, 0.0, 0.0, 0.0, 0.0, 0.0, 0.0, 0.0, 0.0, 0.0, 0.0, 0.0, 0.0, 0.0, 0.0, 0.0, 0.0, 0.0, 0.0, 0.0, 0.0, 0.0, 0.0, 0.0, 0.0, 0.0, 0.0, 0.0, 0.0, 0.0, 0.0, 0.0, 0.0, 0.0, 0.0, 0.0, 0.0, 0.0, 0.0, 0.0, 0.0, 0.0, 0.0, 0.0, 0.0, 0.0, 0.0, 0.0, 0.0, 0.0, 0.0, 0.0, 0.0, 0.0, 0.0, 0.0, 0.0, 0.0, 0.0, 0.0, 0.0, 0.0, 0.0, 0.0, 0.0, 0.0, 0.0, 0.0, 0.0, 0.0, 0.0, 0.0, 0.0, 0.0, 0.0, 0.0, 0.0, 0.0, 0.0, 0.0, 0.0, 0.0, 0.0, 0.0, 0.0, 0.0, 0.0, 0.0, 0.0, 0.0, 0.0, 0.0, 0.0, 0.0, 0.0, 0.0, 0.0, 0.0, 0.0, 0.0, 0.0, 0.0, 0.0, 0.0, 0.0, 0.0, 0.0, 0.0, 0.0, 0.0, 0.0, 0.0, 0.0, 0.0, 0.0, 0.0, 0.0, 0.0, 0.0, 0.0, 0.0, 0.0, 0.0, 0.0, 0.0, 0.0, 0.0, 0.0, 0.0, 0.0, 0.0, 0.0, 0.0, 0.0, 0.0, 0.0, 0.0, 0.0, 0.0, 0.0, 0.0, 0.0, 0.0, 0.0, 0.0, 0.0, 0.0, 0.0, 0.0, 0.0, 0.0, 0.0, 0.0, 0.0, 0.0, 0.0, 0.0, 0.0, 0.0, 0.0, 0.0, 0.0, 0.0, 0.0, 0.0, 0.0, 0.0, 0.0, 0.0, 0.0, 0.0, 0.0, 0.0, 0.0, 0.0, 0.0, 0.0, 0.0, 0.0, 0.0, 0.0, 0.0, 0.0, 0.0, 0.0, 0.0, 0.0, 0.0, 0.0, 0.0, 0.0, 0.0, 0.0, 0.0, 0.0, 0.0, 0.0, 0.0, 0.0, 0.0, 0.0, 0.0, 0.0, 0.0, 0.0, 0.0, 0.0, 0.0, 0.0, 0.0, 0.0, 0.0, 0.0, 0.0, 0.0, 0.0, 0.0, 0.0, 0.0, 0.0, 0.0, 0.0, 0.0, 0.0, 0.0, 0.0, 0.0, 0.0, 0.0, 0.0, 0.0, 0.0, 0.0, 0.0, 0.0, 0.0, 0.0, 0.0, 0.0, 0.0, 0.0, 0.0, 0.0, 0.0, 0.0, 0.0, 0.0, 0.0, 0.0, 0.0, 0.0, 0.0, 0.0, 0.0, 0.0, 0.0, 0.0, 0.0, 0.0, 0.0, 0.0, 0.0, 0.0, 0.0, 0.0, 0.0, 0.0, 0.0, 0.0, 0.0, 0.0, 0.0, 0.0, 0.0, 0.0, 0.0, 0.0, 0.0, 0.0, 0.0, 0.0, 0.0, 0.0, 0.0, 0.0, 0.0, 0.0, 0.0, 0.0, 0.0, 0.0, 0.0, 0.0, 0.0, 0.0, 0.0, 0.0, 0.0, 0.0, 0.0, 0.0, 0.0, 0.0, 0.0, 0.0, 0.0, 0.0, 0.0, 0.0, 0.0, 0.0, 0.0, 0.0, 0.0, 0.0, 0.0, 0.0, 0.0, 0.0, 0.0, 0.0, 0.0, 0.0, 0.0, 0.0, 0.0, 0.0, 0.0, 0.0, 0.0, 0.0, 0.0, 0.0, 0.0, 0.0, 0.0, 0.0, 0.0, 0.0, 0.0, 0.0, 0.0, 0.0, 0.0, 0.0, 0.0, 0.0, 0.0, 0.0, 0.0, 0.0, 0.0, 0.0, 0.0, 0.0, 0.0, 0.0, 0.0, 0.0, 0.0, 0.0, 0.0, 0.0, 0.0, 0.0, 0.0, 0.0, 0.0, 0.0, 0.0, 0.0, 0.0, 0.0, 0.0, 0.0, 0.0, 0.0, 0.0, 0.0, 0.0, 0.0, 0.0, 0.0, 0.0, 0.0, 0.0, 0.0, 0.0, 0.0, 0.0, 0.0, 0.0, 0.0, 0.0, 0.0, 0.0, 0.0, 0.0, 0.0, 0.0, 0.0, 0.0, 0.0, 0.0, 0.0, 0.0, 0.0, 0.0, 0.0, 0.0, 0.0, 0.0, 0.0, 0.0, 0.0, 0.0, 0.0, 0.0, 0.0, 0.0, 0.0, 0.0, 0.0, 0.0, 0.0, 0.0, 0.0, 0.0, 0.0, 0.0, 0.0, 0.0, 0.0, 0.0, 0.0, 0.0, 0.0, 0.0, 0.0, 0.0, 0.0, 0.0, 0.0, 0.0, 0.0, 0.0, 0.0, 0.0, 0.0, 0.0, 0.0, 0.0, 0.0, 0.0, 0.0, 0.0, 0.0, 0.0, 0.0, 0.0, 0.0, 0.0, 0.0, 0.0, 0.0, 0.0, 0.0, 0.0, 0.0, 0.0, 0.0, 0.0, 0.0, 0.0, 0.0, 0.0, 0.0, 0.0, 0.0, 0.0, 0.0, 0.0, 0.0, 0.0, 0.0, 0.0, 0.0, 0.0, 0.0, 0.0, 0.0, 0.0, 0.0, 0.0, 0.0, 0.0, 0.0, 0.0, 0.0, 0.0, 0.0, 0.0, 0.0, 0.0, 0.0, 0.0, 0.0, 0.0, 0.0, 0.0, 0.0, 0.0, 0.0, 0.0, 0.0, 0.0, 0.0, 0.0, 0.0, 0.0, 0.0, 0.0, 0.0, 0.0, 0.0, 0.0, 0.0, 0.0, 0.0, 0.0, 0.0, 0.0, 0.0, 0.0, 0.0, 0.0, 0.0, 0.0, 0.0, 0.0, 0.0, 0.0, 0.0, 0.0, 0.0, 0.0, 0.0, 0.0, 0.0, 0.0, 0.0, 0.0, 0.0, 0.0, 0.0, 0.0, 0.0, 0.0, 0.0, 0.0, 0.0, 0.0, 0.0, 0.0, 0.0, 0.0, 0.0, 0.0, 0.0, 0.0, 0.0, 0.0, 0.0, 0.0, 0.0, 0.0, 0.0, 0.0, 0.0, 0.0, 0.0, 0.0, 0.0, 0.0, 0.0, 0.0, 0.0, 0.0, 0.0, 0.0, 0.0, 0.0, 0.0, 0.0, 0.0, 0.0, 0.0, 0.0, 0.0, 0.0, 0.0, 0.0, 0.0, 0.0, 0.0, 0.0, 0.0, 0.0, 0.0, 0.0, 0.0, 0.0, 0.0, 0.0, 0.0, 0.0, 0.0, 0.0, 0.0, 0.0, 0.0, 0.0, 0.0, 0.0, 0.0, 0.0, 0.0, 0.0, 0.0, 0.0, 0.0, 0.0, 0.0, 0.0, 0.0, 0.0, 0.0, 0.0, 0.0, 0.0, 0.0, 0.0, 0.0, 0.0, 0.0, 0.0, 0.0, 0.0, 0.0, 0.0, 0.0, 0.0, 0.0, 0.0, 0.0, 0.0, 0.0, 0.0, 0.0, 0.0, 0.0, 0.0, 0.0, 0.0, 0.0, 0.0, 0.0, 0.0, 0.0, 0.0, 0.0, 0.0, 0.0, 0.0, 0.0, 0.0, 0.0, 0.0, 0.0, 0.0, 0.0, 0.0, 0.0, 0.0, 0.0, 0.0, 0.0, 0.0, 0.0, 0.0, 0.0, 0.0, 0.0, 0.0, 0.0, 0.0, 0.0, 0.0, 0.0, 0.0, 0.0, 0.0, 0.0, 0.0, 0.0, 0.0, 0.0, 0.0, 0.0, 0.0, 0.0, 0.0, 0.0, 0.0, 0.0, 0.0, 0.0, 0.0, 0.0, 0.0, 0.0, 0.0, 0.0, 0.0, 0.0, 0.0, 0.0, 0.0, 0.0, 0.0, 0.0, 0.0, 0.0, 0.0, 0.0, 0.0, 0.0, 0.0, 0.0, 0.0, 0.0, 0.0, 0.0, 0.0, 0.0, 0.0, 0.0, 0.0, 0.0, 0.0, 0.0, 0.0, 0.0, 0.0, 0.0, 0.0, 0.0, 0.0, 0.0, 0.0, 0.0, 0.0, 0.0, 0.0, 0.0, 0.0, 0.0, 0.0, 0.0, 0.0, 0.0, 0.0, 0.0, 0.0, 0.0, 0.0, 0.0, 0.0, 0.0, 0.0, 0.0, 0.0, 0.0, 0.0, 0.0, 0.0, 0.0, 0.0, 0.0, 0.0, 0.0, 0.0, 0.0, 0.0, 0.0, 0.0, 0.0, 0.0, 0.0, 0.0, 0.0, 0.0, 0.0, 0.0, 0.0, 0.0, 0.0, 0.0, 0.0, 0.0, 0.0, 0.0, 0.0, 0.0, 0.0, 0.0, 0.0, 0.0, 0.0, 0.0, 0.0, 0.0, 0.0, 0.0, 0.0, 0.0, 0.0, 0.0, 0.0, 0.0, 0.0, 0.0, 0.0, 0.0, 0.0, 0.0, 0.0, 0.0, 0.0, 0.0, 0.0, 0.0, 0.0, 0.0, 0.0, 0.0, 0.0, 0.0, 0.0, 0.0, 0.0, 0.0, 0.0, 0.0, 0.0, 0.0, 0.0, 0.0, 0.0, 0.0, 0.0, 0.0, 0.0, 0.0, 0.0, 0.0, 0.0, 0.0, 0.0, 0.0, 0.0, 0.0, 0.0, 0.0, 0.0, 0.0, 0.0, 0.0, 0.0, 0.0, 0.0, 0.0, 0.0, 0.0, 0.0, 0.0, 0.0, 0.0, 0.0, 0.0, 0.0, 0.0, 0.0, 0.0, 0.0, 0.0, 0.0, 0.0, 0.0, 0.0, 0.0, 0.0, 0.0, 0.0, 0.0, 0.0, 0.0, 0.0, 0.0, 0.0, 0.0, 0.0, 0.0, 0.0, 0.0, 0.0, 0.0, 0.0, 0.0, 0.0, 0.0, 0.0, 0.0, 0.0, 0.0, 0.0, 0.0, 0.0, 0.0, 0.0, 0.0, 0.0, 0.0, 0.0, 0.0, 0.0, 0.0, 0.0, 0.0, 0.0, 0.0, 0.0, 0.0, 0.0, 0.0, 0.0, 0.0, 0.0, 0.0, 0.0, 0.0, 0.0, 0.0, 0.0, 0.0, 0.0, 0.0, 0.0, 0.0, 0.0, 0.0, 0.0, 0.0, 0.0, 0.0, 0.0, 0.0, 0.0, 0.0, 0.0, 0.0, 0.0, 0.0, 0.0, 0.0, 0.0, 0.0, 0.0, 0.0, 0.0, 0.0, 0.0, 0.0, 0.0, 0.0, 0.0, 0.0, 0.0, 0.0, 0.0, 0.0, 0.0, 0.0, 0.0, 0.0, 0.0, 0.0, 0.0, 0.0, 0.0, 0.0, 0.0, 0.0, 0.0, 0.0, 0.0, 0.0, 0.0, 0.0, 0.0, 0.0, 0.0, 0.0, 0.0, 0.0, 0.0, 0.0, 0.0, 0.0, 0.0, 0.0, 0.0, 0.0, 0.0, 0.0, 0.0, 0.0, 0.0, 0.0, 0.0, 0.0, 0.0, 0.0, 0.0, 0.0, 0.0, 0.0, 0.0, 0.0, 0.0, 0.0, 0.0, 0.0, 0.0, 0.0, 0.0, 0.0, 0.0, 0.0, 0.0, 0.0, 0.0, 0.0, 0.0, 0.0, 0.0, 0.0, 0.0, 0.0, 0.0, 0.0, 0.0, 0.0, 0.0, 0.0, 0.0, 0.0, 0.0, 0.0, 0.0, 0.0, 0.0, 0.0, 0.0, 0.0, 0.0, 0.0, 0.0, 0.0, 0.0, 0.0, 0.0, 0.0, 0.0, 0.0, 0.0, 0.0, 0.0, 0.0, 0.0, 0.0, 0.0, 0.0, 0.0, 0.0, 0.0, 0.0, 0.0, 0.0, 0.0, 0.0, 0.0, 0.0, 0.0, 0.0, 0.0, 0.0, 0.0, 0.0, 0.0, 0.0, 0.0, 0.0, 0.0, 0.0, 0.0, 0.0, 0.0, 0.0, 0.0, 0.0, 0.0, 0.0, 0.0, 0.0, 0.0, 0.0, 0.0, 0.0, 0.0, 0.0, 0.0, 0.0, 0.0, 0.0, 0.0, 0.0, 0.0, 0.0, 0.0, 0.0, 0.0, 0.0, 0.0, 0.0, 0.0, 0.0, 0.0, 0.0, 0.0, 0.0, 0.0, 0.0, 0.0, 0.0, 0.0, 0.0, 0.0, 0.0, 0.0, 0.0, 0.0, 0.0, 0.0, 0.0, 0.0, 0.0, 0.0, 0.0, 0.0, 0.0, 0.0, 0.0, 0.0, 0.0, 0.0, 0.0, 0.0, 0.0, 0.0, 0.0, 0.0, 0.0, 0.0, 0.0, 0.0, 0.0, 0.0, 0.0, 0.0, 0.0, 0.0, 0.0, 0.0, 0.0, 0.0, 0.0, 0.0, 0.0, 0.0, 0.0, 0.0, 0.0, 0.0, 0.0, 0.0, 0.0, 0.0, 0.0, 0.0, 0.0, 0.0, 0.0, 0.0, 0.0, 0.0, 0.0, 0.0, 0.0, 0.0, 0.0, 0.0, 0.0, 0.0, 0.0, 0.0, 0.0, 0.0, 0.0, 0.0, 0.0, 0.0, 0.0, 0.0, 0.0, 0.0, 0.0, 0.0, 0.0, 0.0, 0.0, 0.0, 0.0, 0.0, 0.0, 0.0, 0.0, 0.0, 0.0, 0.0, 0.0, 0.0, 0.0, 0.0, 0.0, 0.0, 0.0, 0.0, 0.0, 0.0, 0.0, 0.0, 0.0, 0.0, 0.0, 0.0, 0.0, 0.0, 0.0, 0.0, 0.0, 0.0, 0.0, 0.0, 0.0, 0.0, 0.0, 0.0, 0.0, 0.0, 0.0, 0.0, 0.0, 0.0, 0.0, 0.0, 0.0, 0.0, 0.0, 0.0, 0.0, 0.0, 0.0, 0.0, 0.0, 0.0, 0.0, 0.0, 0.0, 0.0, 0.0, 0.0, 0.0, 0.0, 0.0, 0.0, 0.0, 0.0, 0.0, 0.0, 0.0, 0.0, 0.0, 0.0, 0.0, 0.0, 0.0, 0.0, 0.0, 0.0, 0.0, 0.0, 0.0, 0.0, 0.0, 0.0, 0.0, 0.0, 0.0, 0.0, 0.0, 0.0, 0.0, 0.0, 0.0, 0.0, 0.0, 0.0, 0.0, 0.0, 0.0, 0.0, 0.0, 0.0, 0.0, 0.0, 0.0, 0.0, 0.0, 0.0, 0.0, 0.0, 0.0, 0.0, 0.0, 0.0, 0.0, 0.0, 0.0, 1], [0.0, 0.44091, 0.0, 0.0, 0.0, 0.0, 0.0, 0.0, 0.0, 0.0, 0.0, 0.0, 0.0, 0.0, 0.0, 0.0, 0.0, 0.0, 0.0, 0.0, 0.0, 0.0, 0.0, 0.83222, 0.0, 0.0, 0.0, 0.0, 0.0, 0.0, 0.0, 0.0, 0.0, 0.0, 0.0, 0.0, 0.0, 0.0, 0.0, 0.0, 0.0, 0.0, 0.0, 0.0, 0.0, 0.0, 0.0, 0.0, 0.0, 0.0, 0.0, 0.0, 0.0, 0.0, 0.0, 0.0, 0.0, 0.0, 0.0, 0.0, 0.0, 0.0, 0.0, 0.0, 0.0, 0.0, 0.52476, 0.0, 0.0, 0.0, 0.0, 0.0, 0.0, 0.0, 0.0, 0.0, 0.0, 0.0, 0.0, 0.0, 0.0, 0.0, 0.0, 0.0, 0.0, 0.0, 0.0, 0.0, 0.0, 0.0, 0.0, 0.34054, 0.0, 0.0, 0.0, 1.17609, 0.0, 0.0, 0.0, 0.0, 0.0, 0.85387, 0.0, 0.45079, 0.0, 0.45079, 0.0, 0.0, 0.0, 0.0, 0.0, 0.0, 0.0, 0.0, 0.0, 0.0, 0.0, 0.0, 0.0, 0.0, 0.0, 0.0, 0.0, 0.0, 0.0, 0.0, 0.0, 0.0, 0.0, 0.0, 0.0, 0.0, 0.0, 0.0, 0.0, 0.0, 0.0, 0.0, 0.0, 0.0, 0.0, 0.0, 0.0, 0.0, 0.0, 0.0, 0.0, 0.0, 0.0, 0.0, 0.0, 0.0, 0.0, 0.0, 0.0, 0.0, 0.0, 0.0, 0.0, 0.0, 0.0, 0.0, 0.0, 0.0, 0.0, 0.0, 0.0, 0.0, 0.0, 0.0, 0.0, 0.0, 0.0, 0.0, 0.0, 0.0, 0.0, 0.0, 0.0, 0.0, 0.0, 0.0, 0.0, 0.0, 0.0, 0.0, 0.0, 0.0, 0.0, 0.0, 0.0, 0.0, 0.0, 0.0, 0.0, 0.0, 0.0, 0.0, 0.0, 0.0, 0.0, 0.0, 0.0, 0.0, 0.0, 0.0, 0.0, 0.0, 0.0, 0.46018, 0.77815, 0.47712, 0.60206, 0.47712, 0.47712, 0.43933, 0.47712, 0.0, 0.0, 0.0, 0.0, 0.0, 0.0, 0.0, 0.0, 0.0, 0.0, 0.0, 0.0, 0.0, 0.0, 0.0, 0.0, 0.0, 0.0, 0.0, 0.0, 0.0, 0.0, 0.0, 0.0, 0.0, 0.0, 0.0, 0.0, 0.0, 0.0, 0.0, 0.0, 0.0, 0.0, 0.0, 0.0, 0.0, 0.0, 0.0, 0.0, 0.0, 0.0, 0.0, 0.0, 0.0, 0.0, 0.0, 0.0, 0.0, 0.0, 0.0, 0.0, 0.0, 0.0, 0.0, 0.0, 0.0, 0.0, 0.0, 0.0, 0.0, 0.0, 0.0, 0.0, 0.0, 0.0, 0.0, 0.0, 0.0, 0.0, 0.0, 0.0, 0.0, 0.0, 0.0, 0.0, 0.0, 0.0, 0.0, 0.0, 0.0, 0.0, 0.0, 0.0, 0.0, 0.0, 0.0, 0.0, 0.0, 0.0, 0.0, 0.0, 0.0, 0.0, 0.0, 0.0, 0.0, 0.0, 0.0, 0.0, 0.0, 0.0, 0.0, 0.0, 0.0, 0.0, 0.0, 0.0, 0.0, 0.0, 0.0, 0.0, 0.0, 0.0, 0.0, 0.0, 0.0, 0.0, 0.0, 0.0, 0.0, 0.0, 0.0, 0.0, 0.0, 0.0, 0.0, 0.0, 0.0, 0.0, 0.0, 0.0, 0.0, 0.0, 0.0, 0.0, 0.0, 0.0, 0.0, 0.0, 0.0, 0.0, 0.0, 0.0, 0.0, 0.0, 0.0, 0.0, 0.0, 0.0, 0.0, 0.0, 0.0, 0.0, 0.0, 0.0, 0.0, 0.0, 0.0, 0.0, 0.0, 0.0, 0.0, 0.0, 0.0, 0.0, 0.0, 0.0, 0.0, 0.0, 0.0, 0.0, 0.0, 0.0, 0.0, 0.0, 0.0, 0.0, 0.0, 0.0, 0.0, 0.0, 0.0, 0.0, 0.0, 0.0, 0.0, 0.0, 0.0, 0.0, 0.0, 0.0, 0.0, 0.0, 0.0, 0.0, 0.0, 0.0, 0.0, 0.0, 0.0, 0.0, 0.0, 0.0, 0.0, 0.0, 0.0, 0.0, 0.0, 0.0, 0.0, 0.0, 0.0, 0.0, 0.0, 0.0, 0.0, 0.0, 0.0, 0.0, 0.0, 0.0, 0.0, 0.0, 0.0, 0.0, 0.0, 0.0, 0.0, 0.0, 0.0, 0.0, 0.0, 0.0, 0.0, 0.0, 0.0, 0.0, 0.0, 0.0, 0.0, 0.0, 0.0, 0.0, 0.0, 0.0, 0.0, 0.0, 0.0, 0.0, 0.0, 0.0, 0.0, 0.0, 0.0, 0.0, 0.0, 0.0, 0.0, 0.0, 0.0, 0.0, 0.0, 0.0, 0.0, 0.0, 0.0, 0.0, 0.0, 0.0, 0.0, 0.0, 0.0, 0.0, 0.0, 0.0, 0.0, 0.0, 0.0, 0.0, 0.0, 0.0, 0.0, 0.0, 0.0, 0.0, 0.0, 0.0, 0.0, 0.0, 0.0, 0.0, 0.0, 0.0, 0.0, 0.0, 0.0, 0.0, 0.0, 0.0, 0.0, 0.0, 0.0, 0.0, 0.0, 0.0, 0.0, 0.0, 0.0, 0.0, 0.0, 0.0, 0.0, 0.0, 0.0, 0.0, 0.0, 0.0, 0.0, 0.0, 0.0, 0.0, 0.0, 0.0, 0.0, 0.0, 0.0, 0.0, 0.0, 0.0, 0.0, 0.0, 0.0, 0.0, 0.0, 0.0, 0.0, 0.0, 0.0, 0.0, 0.0, 0.0, 0.0, 0.0, 0.0, 0.0, 0.0, 0.0, 0.0, 0.0, 0.0, 0.0, 0.0, 0.0, 0.0, 0.0, 0.0, 0.0, 0.0, 0.0, 0.0, 0.0, 0.0, 0.0, 0.0, 0.0, 0.0, 0.0, 0.0, 0.0, 0.0, 0.0, 0.0, 0.0, 0.0, 0.0, 0.0, 0.0, 0.0, 0.0, 0.0, 0.0, 0.0, 0.0, 0.0, 0.0, 0.0, 0.0, 0.0, 0.0, 0.0, 0.0, 0.0, 0.0, 0.0, 0.0, 0.0, 0.0, 0.0, 0.0, 0.0, 0.0, 0.0, 0.0, 0.0, 0.0, 0.0, 0.0, 0.0, 0.0, 0.0, 0.0, 0.0, 0.0, 0.0, 0.0, 0.0, 0.0, 0.0, 0.0, 0.0, 0.0, 0.0, 0.0, 0.0, 0.0, 0.0, 0.0, 0.0, 0.0, 0.0, 0.0, 0.0, 0.0, 0.0, 0.0, 0.0, 0.0, 0.0, 0.0, 0.0, 0.0, 0.0, 0.0, 0.0, 0.0, 0.0, 0.0, 0.0, 0.0, 0.0, 0.0, 0.0, 0.0, 0.0, 0.0, 0.0, 0.0, 0.0, 0.0, 0.0, 0.0, 0.0, 0.0, 0.0, 0.0, 0.0, 0.0, 0.0, 0.0, 0.0, 0.0, 0.0, 0.0, 0.0, 0.0, 0.0, 0.0, 0.0, 0.0, 0.0, 0.0, 0.0, 0.0, 0.0, 0.0, 0.0, 0.0, 0.0, 0.0, 0.0, 0.0, 0.0, 0.0, 0.0, 0.0, 0.0, 0.0, 0.0, 0.0, 0.0, 0.0, 0.0, 0.0, 0.0, 0.0, 0.0, 0.0, 0.0, 0.0, 0.0, 0.0, 0.0, 0.0, 0.0, 0.0, 0.0, 0.0, 0.0, 0.0, 0.0, 0.0, 0.0, 0.0, 0.0, 0.0, 0.0, 0.0, 0.0, 0.0, 0.0, 0.0, 0.0, 0.0, 0.0, 0.0, 0.0, 0.0, 0.0, 0.0, 0.0, 0.0, 0.0, 0.0, 0.0, 0.0, 0.0, 0.0, 0.0, 0.0, 0.0, 0.0, 0.0, 0.0, 0.0, 0.0, 0.0, 0.0, 0.0, 0.0, 0.0, 0.0, 0.0, 0.0, 0.0, 0.0, 0.0, 0.0, 0.0, 0.0, 0.0, 0.0, 0.0, 0.0, 0.0, 0.0, 0.0, 0.0, 0.0, 0.0, 0.0, 0.0, 0.0, 0.0, 0.0, 0.0, 0.0, 0.0, 0.0, 0.0, 0.0, 0.0, 0.0, 0.0, 0.0, 0.0, 0.0, 0.0, 0.0, 0.0, 0.0, 0.0, 0.0, 0.0, 0.0, 0.0, 0.0, 0.0, 0.0, 0.0, 0.0, 0.0, 0.0, 0.0, 0.0, 0.0, 0.0, 0.0, 0.0, 0.0, 0.0, 0.0, 0.0, 0.0, 0.0, 0.0, 0.0, 0.0, 0.0, 0.0, 0.0, 0.0, 0.0, 0.0, 0.0, 0.0, 0.0, 0.0, 0.0, 0.0, 0.0, 0.0, 0.0, 0.0, 0.0, 0.0, 0.0, 0.0, 0.0, 0.0, 0.0, 0.0, 0.0, 0.0, 0.0, 0.0, 0.0, 0.0, 0.0, 0.0, 0.0, 0.0, 0.0, 0.0, 0.0, 0.0, 0.0, 0.0, 0.0, 0.0, 0.0, 0.0, 0.0, 0.0, 0.0, 0.0, 0.0, 0.0, 0.0, 0.0, 0.0, 0.0, 0.0, 0.0, 0.0, 0.0, 0.0, 0.0, 0.0, 0.0, 0.0, 0.0, 0.0, 0.0, 0.0, 0.0, 0.0, 0.0, 0.0, 0.0, 0.0, 0.0, 0.0, 0.0, 0.0, 0.0, 0.0, 0.0, 0.0, 0.0, 0.0, 0.0, 0.0, 0.0, 0.0, 0.0, 0.0, 0.0, 0.0, 0.0, 0.0, 0.0, 0.0, 0.0, 0.0, 0.0, 0.0, 0.0, 0.0, 0.0, 0.0, 0.0, 0.0, 0.0, 0.0, 0.0, 0.0, 0.0, 0.0, 0.0, 0.0, 0.0, 0.0, 0.0, 0.0, 0.0, 0.0, 0.0, 0.0, 0.0, 0.0, 0.0, 0.0, 0.0, 0.0, 0.0, 0.0, 0.0, 0.0, 0.0, 0.0, 0.0, 0.0, 0.0, 0.0, 0.0, 0.0, 0.0, 0.0, 0.0, 0.0, 0.0, 0.0, 0.0, 0.0, 0.0, 0.0, 0.0, 0.0, 0.0, 0.0, 0.0, 0.0, 0.0, 0.0, 0.0, 0.0, 0.0, 0.0, 0.0, 0.0, 0.0, 0.0, 0.0, 0.0, 0.0, 0.0, 0.0, 0.0, 0.0, 0.0, 0.0, 0.0, 0.0, 0.0, 0.0, 0.0, 0.0, 0.0, 0.0, 0.0, 0.0, 0.0, 0.0, 0.0, 0.0, 0.0, 0.0, 0.0, 0.0, 0.0, 0.0, 0.0, 0.0, 0.0, 0.0, 0.0, 0.0, 0.0, 0.0, 0.0, 0.0, 0.0, 0.0, 0.0, 0.0, 0.0, 0.0, 0.0, 0.0, 0.0, 0.0, 0.0, 0.0, 0.0, 0.0, 0.0, 0.0, 0.0, 0.0, 0.0, 0.0, 0.0, 0.0, 0.0, 0.0, 0.0, 0.0, 0.0, 0.0, 0.0, 0.0, 0.0, 0.0, 0.0, 0.0, 0.0, 0.0, 0.0, 0.0, 0.0, 0.0, 0.0, 0.0, 0.0, 0.0, 0.0, 0.0, 0.0, 0.0, 0.0, 0.0, 0.0, 0.0, 0.0, 0.0, 0.0, 0.0, 0.0, 0.0, 0.0, 0.0, 0.0, 0.0, 0.0, 0.0, 0.0, 0.0, 0.0, 0.0, 0.0, 0.0, 0.0, 0.0, 0.0, 0.0, 0.0, 0.0, 0.0, 0.0, 0.0, 0.0, 0.0, 0.0, 0.0, 0.0, 0.0, 0.0, 0.0, 0.0, 0.0, 0.0, 0.0, 0.0, 0.0, 0.0, 0.0, 0.0, 0.0, 0.0, 0.0, 0.0, 0.0, 0.0, 0.0, 0.0, 0.0, 0.0, 0.0, 0.0, 0.0, 0.0, 0.0, 0.0, 0.0, 0.0, 0.0, 0.0, 0.0, 0.0, 0.0, 0.0, 0.0, 0.0, 0.0, 0.0, 0.0, 0.0, 0.0, 0.0, 0.0, 0.0, 0.0, 0.0, 0.0, 0.0, 0.0, 0.0, 0.0, 0.0, 0.0, 0.0, 0.0, 0.0, 0.0, 0.0, 0.0, 0.0, 0.0, 0.0, 0.0, 0.0, 0.0, 0.0, 0.0, 0.0, 0.0, 0.0, 0.0, 0.0, 0.0, 0.0, 0.0, 0.0, 0.0, 0.0, 0.0, 0.0, 0.0, 0.0, 0.0, 0.0, 0.0, 0.0, 0.0, 0.0, 0.0, 0.0, 0.0, 0.0, 0.0, 0.0, 0.0, 0.0, 0.0, 0.0, 0.0, 0.0, 0.0, 0.0, 0.0, 0.0, 0.0, 0.0, 0.0, 0.0, 0.0, 0.0, 0.0, 0.0, 0.0, 0.0, 0.0, 0.0, 0.0, 0.0, 0.0, 0.0, 0.0, 0.0, 0.0, 0.0, 0.0, 0.0, 0.0, 0.0, 0.0, 0.0, 0.0, 0.0, 0.0, 0.0, 0.0, 0.0, 0.0, 0.0, 0.0, 0.0, 0.0, 0.0, 0.0, 0.0, 0.0, 0.0, 0.0, 0.0, 0.0, 0.0, 0.0, 0.0, 0.0, 0.0, 0.0, 0.0, 0.0, 0.0, 0.0, 0.0, 0.0, 0.0, 0.0, 0.0, 0.0, 0.0, 0.0, 0.0, 0.0, 0.0, 0.0, 0.0, 0.0, 0.0, 0.0, 0.0, 0.0, 0.0, 0.0, 0.0, 0.0, 0.0, 0.0, 0.0, 0.0, 0.0, 0.0, 0.0, 0.0, 0.0, 0.0, 0.0, 0.0, 0.0, 0.0, 0.0, 0.0, 0.0, 0.0, 0.0, 0.0, 0.0, 0.0, 0.0, 0.0, 0.0, 0.0, 0.0, 0.0, 0.0, 0.0, 0.0, 0.0, 0.0, 0.0, 0.0, 0.0, 0.0, 0.0, 0.0, 0.0, 0.0, 0.0, 0.0, 0.0, 0.0, 0.0, 0.0, 0.0, 0.0, 0.0, 0.0, 0.0, 0.0, 0.0, 0.0, 0.0, 0.0, 0.0, 0.0, 0.0, 0.0, 0.0, 0.0, 0.0, 0.0, 0.0, 0.0, 0.0, 0.0, 0.0, 0.0, 0.0, 0.0, 0.0, 0.0, 0.0, 0.0, 0.0, 0.0, 0.0, 0.0, 0.0, 0.0, 0.0, 0.0, 0.0, 0.0, 0.0, 0.0, 0.0, 0.0, 0.0, 0.0, 0.0, 0.0, 0.0, 0.0, 0.0, 0.0, 0.0, 0.0, 0.0, 0.0, 0.0, 0.0, 0.0, 0.0, 0.0, 0.0, 0.0, 0.0, 0.0, 0.0, 0.0, 0.0, 0.0, 0.0, 0.0, 0.0, 0.0, 0.0, 0.0, 0.0, 0.0, 0.0, 0.0, 0.0, 0.0, 0.0, 0.0, 0.0, 0.0, 0.0, 0.0, 0.0, 0.0, 0.0, 0.0, 0.0, 0.0, 0.0, 0.0, 0.0, 0.0, 0.0, 0.0, 0.0, 0.0, 0.0, 0.0, 0.0, 0.0, 0.0, 0.0, 0.0, 0.0, 0.0, 0.0, 0.0, 0.0, 0.0, 0.0, 0.0, 0.0, 0.0, 0.0, 0.0, 0.0, 0.0, 0.0, 0.0, 0.0, 0.0, 0.0, 0.0, 0.0, 0.0, 0.0, 0.0, 0.0, 0.0, 0.0, 0.0, 0.0, 0.0, 0.0, 0.0, 0.0, 0.0, 0.0, 0.0, 0.0, 0.0, 0.0, 0.0, 0.0, 0.0, 0.0, 0.0, 0.0, 0.0, 0.0, 0.0, 0.0, 0.0, 0.0, 0.0, 0.0, 0.0, 0.0, 0.0, 0.0, 0.0, 0.0, 0.0, 0.0, 0.0, 0.0, 0.0, 0.0, 0.0, 0.0, 0.0, 0.0, 0.0, 0.0, 0.0, 0.0, 0.0, 0.0, 0.0, 0.0, 0.0, 0.0, 0.0, 0.0, 0.0, 0.0, 0.0, 0.0, 0.0, 0.0, 0.0, 0.0, 0.0, 0.0, 0.0, 0.0, 0.0, 0.0, 0.0, 0.0, 0.0, 0.0, 0.0, 0.0, 0.0, 0.0, 0.0, 0.0, 0.0, 0.0, 0.0, 0.0, 0.0, 0.0, 0.0, 0.0, 0.0, 0.0, 0.0, 0.0, 0.0, 0.0, 0.0, 0.0, 0.0, 0.0, 0.0, 0.0, 0.0, 0.0, 0.0, 0.0, 0.0, 0.0, 0.0, 0.0, 0.0, 0.0, 0.0, 0.0, 0.0, 0.0, 0.0, 0.0, 0.0, 0.0, 0.0, 0.0, 0.0, 0.0, 0.0, 0.0, 0.0, 0.0, 0.0, 0.0, 0.0, 0.0, 0.0, 0.0, 0.0, 0.0, 0.0, 0.0, 0.0, 0.0, 0.0, 0.0, 0.0, 0.0, 0.0, 0.0, 0.0, 0.0, 0.0, 0.0, 0.0, 0.0, 0.0, 0.0, 0.0, 0.0, 0.0, 0.0, 0.0, 0.0, 0.0, 0.0, 0.0, 0.0, 0.0, 0.0, 0.0, 0.0, 0.0, 0.0, 0.0, 0.0, 0.0, 0.0, 0.0, 0.0, 0.0, 0.0, 0.0, 0.0, 0.0, 0.0, 0.0, 0.0, 0.0, 0.0, 0.0, 0.0, 0.0, 0.0, 0.0, 0.0, 0.0, 0.0, 0.0, 0.0, 0.0, 0.0, 0.0, 0.0, 0.0, 0.0, 0.0, 0.0, 0.0, 0.0, 0.0, 0.0, 0.0, 0.0, 0.0, 0.0, 0.0, 0.0, 0.0, 0.0, 0.0, 0.0, 0.0, 0.0, 0.0, 0.0, 0.0, 0.0, 0.0, 0.0, 0.0, 0.0, 0.0, 0.0, 0.0, 0.0, 0.0, 0.0, 0.0, 0.0, 0.0, 0.0, 0.0, 0.0, 0.0, 0.0, 0.0, 0.0, 0.0, 0.0, 0.0, 0.0, 0.0, 0.0, 0.0, 0.0, 0.0, 0.0, 0.0, 0.0, 0.0, 0.0, 0.0, 0.0, 0.0, 0.0, 0.0, 0.0, 0.0, 0.0, 0.0, 0.0, 0.0, 0.0, 0.0, 0.0, 0.0, 0.0, 0.0, 0.0, 0.0, 0.0, 0.0, 0.0, 0.0, 0.0, 0.0, 0.0, 0.0, 0.0, 0.0, 0.0, 0.0, 0.0, 0.0, 0.0, 0.0, 0.0, 0.0, 0.0, 0.0, 0.0, 0.0, 0.0, 0.0, 0.0, 0.0, 0.0, 0.0, 0.0, 0.0, 0.0, 0.0, 0.0, 0.0, 0.0, 0.0, 0.0, 0.0, 0.0, 0.0, 0.0, 0.0, 0.0, 0.0, 0.0, 0.0, 0.0, 0.0, 0.0, 0.0, 0.0, 0.0, 0.0, 0.0, 0.0, 0.0, 0.0, 0.0, 0.0, 0.0, 0.0, 0.0, 0.0, 0.0, 0.0, 0.0, 0.0, 0.0, 0.0, 0.0, 0.0, 0.0, 0.0, 0.0, 0.0, 0.0, 0.0, 0.0, 0.0, 0.0, 0.0, 0.0, 0.0, 0.0, 0.0, 0.0, 0.0, 0.0, 0.0, 0.0, 0.0, 0.0, 0.0, 0.0, 0.0, 0.0, 0.0, 0.0, 0.0, 0.0, 0.0, 0.0, 0.0, 0.0, 0.0, 0.0, 0.0, 0.0, 0.0, 0.0, 0.0, 0.0, 0.0, 0.0, 0.0, 0.0, 0.0, 0.0, 0.0, 0.0, 0.0, 0.0, 0.0, 0.0, 0.0, 0.0, 0.0, 0.0, 0.0, 0.0, 0.0, 0.0, 0.0, 0.0, 0.0, 0.0, 0.0, 0.0, 0.0, 0.0, 0.0, 0.0, 0.0, 0.0, 0.0, 0.0, 0.0, 0.0, 0.0, 0.0, 0.0, 0.0, 0.0, 0.0, 0.0, 0.0, 0.0, 0.0, 0.0, 0.0, 0.0, 0.0, 0.0, 0.0, 0.0, 0.0, 0.0, 0.0, 0.0, 0.0, 0.0, 0.0, 0.0, 0.0, 0.0, 0.0, 0.0, 0.0, 0.0, 0.0, 0.0, 0.0, 0.0, 0.0, 0.0, 0.0, 0.0, 0.0, 0.0, 0.0, 0.0, 0.0, 0.0, 0.0, 0.0, 0.0, 0.0, 0.0, 0.0, 0.0, 0.0, 0.0, 0.0, 0.0, 0.0, 0.0, 0.0, 0.0, 0.0, 0.0, 0.0, 0.0, 0.0, 0.0, 0.0, 0.0, 0.0, 0.0, 0.0, 0.0, 0.0, 0.0, 0.0, 0.0, 0.0, 0.0, 0.0, 0.0, 0.0, 0.0, 0.0, 0.0, 0.0, 0.0, 0.0, 0.0, 0.0, 0.0, 0.0, 0.0, 0.0, 0.0, 0.0, 0.0, 0.0, 0.0, 0.0, 0.0, 0.0, 0.0, 0.0, 0.0, 0.0, 0.0, 0.0, 0.0, 0.0, 0.0, 0.0, 0.0, 0.0, 0.0, 0.0, 0.0, 0.0, 0.0, 0.0, 0.0, 0.0, 0.0, 0.0, 0.0, 0.0, 0.0, 0.0, 0.0, 0.0, 0.0, 0.0, 0.0, 0.0, 0.0, 0.0, 0.0, 0.0, 0.0, 0.0, 0.0, 0.0, 0.0, 0.0, 0.0, 0.0, 0.0, 0.0, 0.0, 0.0, 0.0, 0.0, 0.0, 0.0, 0.0, 0.0, 0.0, 0.0, 0.0, 0.0, 0.0, 0.0, 0.0, 0.0, 0.0, 0.0, 0.0, 0.0, 0.0, 0.0, 0.0, 0.0, 0.0, 0.0, 0.0, 0.0, 0.0, 0.0, 0.0, 0.0, 0.0, 0.0, 0.0, 0.0, 0.0, 0.0, 0.0, 0.0, 0.0, 0.0, 0.0, 0.0, 0.0, 0.0, 0.0, 0.0, 0.0, 0.0, 0.0, 0.0, 0.0, 0.0, 0.0, 0.0, 0.0, 0.0, 0.0, 0.0, 0.0, 0.0, 0.0, 0.0, 0.0, 0.0, 0.0, 0.0, 0.0, 0.0, 0.0, 0.0, 0.0, 0.0, 0.0, 0.0, 0.0, 0.0, 0.0, 0.0, 0.0, 0.0, 0.0, 0.0, 0.0, 0.0, 0.0, 0.0, 0.0, 0.0, 0.0, 0.0, 0.0, 0.0, 0.0, 0.0, 0.0, 0.0, 0.0, 0.0, 0.0, 0.0, 0.0, 0.0, 0.0, 0.0, 0.0, 0.0, 0.0, 0.0, 0.0, 0.0, 0.0, 0.0, 0.0, 0.0, 0.0, 0.0, 0.0, 0.0, 0.0, 0.0, 0.0, 0.0, 0.0, 0.0, 0.0, 0.0, 0.0, 0.0, 0.0, 0.0, 0.0, 0.0, 0.0, 0.0, 0.0, 0.0, 0.0, 0.0, 0.0, 0.0, 0.0, 0.0, 0.0, 0.0, 0.0, 0.0, 0.0, 0.0, 0.0, 0.0, 0.0, 0.0, 0.0, 0.0, 0.0, 0.0, 0.0, 0.0, 0.0, 0.0, 0.0, 0.0, 0.0, 0.0, 0.0, 0.0, 0.0, 0.0, 0.0, 0.0, 0.0, 0.0, 0.0, 0.0, 0.0, 0.0, 0.0, 0.0, 0.0, 0.0, 0.0, 0.0, 0.0, 0.0, 0.0, 0.0, 0.0, 0.0, 0.0, 0.0, 0.0, 0.0, 0.0, 0.0, 0.0, 0.0, 0.0, 0.0, 0.0, 0.0, 0.0, 0.0, 0.0, 0.0, 0.0, 0.0, 0.0, 0.0, 0.0, 0.0, 0.0, 0.0, 0.0, 0.0, 0.0, 0.0, 0.0, 0.0, 0.0, 0.0, 0.0, 0.0, 0.0, 0.0, 0.0, 0.0, 0.0, 0.0, 0.0, 0.0, 0.0, 0.0, 0.0, 0.0, 0.0, 0.0, 0.0, 0.0, 0.0, 0.0, 0.0, 0.0, 0.0, 0.0, 0.0, 0.0, 0.0, 0.0, 0.0, 0.0, 0.0, 0.0, 0.0, 0.0, 0.0, 0.0, 0.0, 0.0, 0.0, 0.0, 0.0, 0.0, 0.0, 0.0, 0.0, 0.0, 0.0, 0.0, 0.0, 0.0, 0.0, 0.0, 0.0, 0.0, 0.0, 0.0, 0.0, 0.0, 0.0, 0.0, 0.0, 0.0, 0.0, 0.0, 0.0, 0.0, 0.0, 0.0, 0.0, 0.0, 0.0, 0.0, 0.0, 0.0, 0.0, 0.0, 0.0, 0.0, 0.0, 0.0, 0.0, 0.0, 0.0, 0.0, 0.0, 0.0, 0.0, 0.0, 0.0, 0.0, 0.0, 0.0, 0.0, 0.0, 0.0, 0.0, 0.0, 0.0, 0.0, 0.0, 0.0, 0.0, 0.0, 0.0, 0.0, 0.0, 0.0, 0.0, 0.0, 0.0, 0.0, 0.0, 0.0, 0.0, 0.0, 0.0, 0.0, 0.0, 0.0, 0.0, 0.0, 0.0, 0.0, 0.0, 0.0, 0.0, 0.0, 0.0, 0.0, 0.0, 0.0, 0.0, 0.0, 0.0, 0.0, 0.0, 0.0, 0.0, 0.0, 0.0, 0.0, 0.0, 0.0, 0.0, 0.0, 0.0, 0.0, 0.0, 0.0, 0.0, 0.0, 0.0, 0.0, 0.0, 0.0, 0.0, 0.0, 0.0, 0.0, 0.0, 0.0, 0.0, 0.0, 0.0, 0.0, 0.0, 0.0, 0.0, 0.0, 0.0, 0.0, 0.0, 0.0, 0.0, 0.0, 0.0, 0.0, 0.0, 0.0, 0.0, 0.0, 0.0, 0.0, 0.0, 0.0, 0.0, 0.0, 0.0, 0.0, 0.0, 0.0, 0.0, 0.0, 0.0, 0.0, 0.0, 0.0, 0.0, 0.0, 0.0, 0.0, 0.0, 0.0, 0.0, 0.0, 0.0, 0.0, 0.0, 0.0, 0.0, 0.0, 0.0, 0.0, 0.0, 0.0, 0.0, 0.0, 0.0, 0.0, 0.0, 0.0, 0.0, 0.0, 0.0, 0.0, 0.0, 0.0, 0.0, 0.0, 0.0, 0.0, 0.0, 0.0, 0.0, 0.0, 0.0, 0.0, 0.0, 0.0, 0.0, 0.0, 0.0, 0.0, 0.0, 0.0, 0.0, 0.0, 0.0, 0.0, 0.0, 0.0, 0.0, 0.0, 0.0, 0.0, 0.0, 0.0, 0.0, 0.0, 0.0, 0.0, 0.0, 0.0, 0.0, 0.0, 0.0, 0.0, 0.0, 0.0, 0.0, 0.0, 0.0, 0.0, 0.0, 0.0, 0.0, 0.0, 0.0, 0.0, 0.0, 0.0, 0.0, 0.0, 0.0, 0.0, 0.0, 0.0, 0.0, 0.0, 0.0, 0.0, 0.0, 0.0, 0.0, 0.0, 0.0, 0.0, 0.0, 0.0, 0.0, 0.0, 0.0, 0.0, 0.0, 0.0, 0.0, 0.0, 0.0, 0.0, 0.0, 0.0, 0.0, 0.0, 0.0, 0.0, 0.0, 0.0, 0.0, 0.0, 0.0, 0.0, 0.0, 0.0, 0.0, 0.0, 0.0, 0.0, 0.0, 0.0, 0.0, 0.0, 0.0, 0.0, 0.0, 0.0, 0.0, 0.0, 0.0, 0.0, 0.0, 0.0, 0.0, 0.0, 0.0, 0.0, 0.0, 0.0, 0.0, 0.0, 0.0, 0.0, 0.0, 0.0, 0.0, 0.0, 0.0, 0.0, 0.0, 0.0, 0.0, 0.0, 0.0, 0.0, 0.0, 0.0, 0.0, 0.0, 0.0, 0.0, 0.0, 0.0, 0.0, 0.0, 0.0, 0.0, 0.0, 0.0, 0.0, 0.0, 0.0, 0.0, 0.0, 0.0, 0.0, 0.0, 0.0, 0.0, 0.0, 0.0, 0.0, 0.0, 0.0, 0.0, 0.0, 0.0, 0.0, 0.0, 0.0, 0.0, 0.0, 0.0, 0.0, 0.0, 0.0, 0.0, 0.0, 0.0, 0.0, 0.0, 0.0, 0.0, 0.0, 0.0, 0.0, 0.0, 0.0, 0.0, 0.0, 0.0, 0.0, 0.0, 0.0, 0.0, 0.0, 0.0, 0.0, 0.0, 0.0, 0.0, 0.0, 0.0, 0.0, 0.0, 0.0, 0.0, 0.0, 0.0, 0.0, 0.0, 0.0, 0.0, 0.0, 0.0, 0.0, 0.0, 0.0, 0.0, 0.0, 0.0, 0.0, 0.0, 0.0, 0.0, 0.0, 0.0, 0.0, 0.0, 0.0, 0.0, 0.0, 0.0, 0.0, 0.0, 0.0, 0.0, 0.0, 0.0, 0.0, 0.0, 0.0, 0.0, 0.0, 0.0, 0.0, 0.0, 0.0, 0.0, 0.0, 0.0, 0.0, 0.0, 0.0, 0.0, 0.0, 0.0, 0.0, 0.0, 0.0, 0.0, 0.0, 0.0, 0.0, 0.0, 0.0, 0.0, 0.0, 0.0, 0.0, 0.0, 0.0, 0.0, 0.0, 0.0, 1]]\n"
     ]
    }
   ],
   "source": [
    "tf_rf_stem = []\n",
    "for i in range(len(tf_forRF_stem)):\n",
    "    doclist_stem = []\n",
    "    for j in range(len(tf_forRF_stem[0])):\n",
    "        if(j == len(tf_forRF_stem[0])-1):\n",
    "            temp_stem = tf_forRF_stem[i][j]\n",
    "            doclist_stem.append(temp_stem)\n",
    "        else:\n",
    "            temp_stem = rf_list_stem[j] * tf_forRF_stem[i][j]\n",
    "            doclist_stem.append(temp_stem)\n",
    "    tf_rf_stem.append(doclist_stem)\n",
    "print(tf_rf_stem[:2])"
   ]
  },
  {
   "attachments": {},
   "cell_type": "markdown",
   "id": "b1deebd9",
   "metadata": {},
   "source": [
    "<h2>d. Save hasil ke CSV</h2>"
   ]
  },
  {
   "cell_type": "code",
   "execution_count": 64,
   "id": "b61ac91c",
   "metadata": {},
   "outputs": [],
   "source": [
    "import pandas as pd\n",
    "\n",
    "columnName_stem = term_stem\n",
    "columnName_stem.append('jenis')"
   ]
  },
  {
   "attachments": {},
   "cell_type": "markdown",
   "id": "4567a7a6",
   "metadata": {},
   "source": [
    "<h4>TF IDF</h4>"
   ]
  },
  {
   "cell_type": "code",
   "execution_count": 65,
   "id": "3404f794",
   "metadata": {},
   "outputs": [],
   "source": [
    "# simpan data tf idf ke dalam csv\n",
    "idfnya_stem = pd.DataFrame(tf_idf_stem, columns=columnName_stem)\n",
    "idfnya_stem.to_csv('tfidfnya_stem.csv')"
   ]
  },
  {
   "cell_type": "code",
   "execution_count": 66,
   "id": "ccad9189",
   "metadata": {},
   "outputs": [
    {
     "data": {
      "text/html": [
       "<div>\n",
       "<style scoped>\n",
       "    .dataframe tbody tr th:only-of-type {\n",
       "        vertical-align: middle;\n",
       "    }\n",
       "\n",
       "    .dataframe tbody tr th {\n",
       "        vertical-align: top;\n",
       "    }\n",
       "\n",
       "    .dataframe thead th {\n",
       "        text-align: right;\n",
       "    }\n",
       "</style>\n",
       "<table border=\"1\" class=\"dataframe\">\n",
       "  <thead>\n",
       "    <tr style=\"text-align: right;\">\n",
       "      <th></th>\n",
       "      <th>Unnamed: 0</th>\n",
       "      <th>wow</th>\n",
       "      <th>selamat</th>\n",
       "      <th>!</th>\n",
       "      <th>ga</th>\n",
       "      <th>kuota</th>\n",
       "      <th>gratis</th>\n",
       "      <th>dr</th>\n",
       "      <th>pemerintah</th>\n",
       "      <th>bisa</th>\n",
       "      <th>...</th>\n",
       "      <th>cutt.ly/ahab3t</th>\n",
       "      <th>penambahan</th>\n",
       "      <th>6285373144625</th>\n",
       "      <th>2021-06-15.</th>\n",
       "      <th>888</th>\n",
       "      <th>laptop</th>\n",
       "      <th>smartphone</th>\n",
       "      <th>emas</th>\n",
       "      <th>tsel.me/rediapp</th>\n",
       "      <th>jenis</th>\n",
       "    </tr>\n",
       "  </thead>\n",
       "  <tbody>\n",
       "    <tr>\n",
       "      <th>0</th>\n",
       "      <td>0</td>\n",
       "      <td>2.69897</td>\n",
       "      <td>1.05552</td>\n",
       "      <td>1.1634</td>\n",
       "      <td>2.09691</td>\n",
       "      <td>0.78516</td>\n",
       "      <td>2.7535</td>\n",
       "      <td>1.61979</td>\n",
       "      <td>2.0</td>\n",
       "      <td>1.92082</td>\n",
       "      <td>...</td>\n",
       "      <td>0.0</td>\n",
       "      <td>0.0</td>\n",
       "      <td>0.0</td>\n",
       "      <td>0.0</td>\n",
       "      <td>0.0</td>\n",
       "      <td>0.0</td>\n",
       "      <td>0.0</td>\n",
       "      <td>0.0</td>\n",
       "      <td>0.0</td>\n",
       "      <td>0</td>\n",
       "    </tr>\n",
       "    <tr>\n",
       "      <th>1</th>\n",
       "      <td>1</td>\n",
       "      <td>0.00000</td>\n",
       "      <td>1.05552</td>\n",
       "      <td>0.5817</td>\n",
       "      <td>0.00000</td>\n",
       "      <td>0.00000</td>\n",
       "      <td>0.0000</td>\n",
       "      <td>0.00000</td>\n",
       "      <td>0.0</td>\n",
       "      <td>0.00000</td>\n",
       "      <td>...</td>\n",
       "      <td>0.0</td>\n",
       "      <td>0.0</td>\n",
       "      <td>0.0</td>\n",
       "      <td>0.0</td>\n",
       "      <td>0.0</td>\n",
       "      <td>0.0</td>\n",
       "      <td>0.0</td>\n",
       "      <td>0.0</td>\n",
       "      <td>0.0</td>\n",
       "      <td>0</td>\n",
       "    </tr>\n",
       "    <tr>\n",
       "      <th>2</th>\n",
       "      <td>2</td>\n",
       "      <td>0.00000</td>\n",
       "      <td>0.00000</td>\n",
       "      <td>0.0000</td>\n",
       "      <td>0.00000</td>\n",
       "      <td>0.00000</td>\n",
       "      <td>0.0000</td>\n",
       "      <td>0.00000</td>\n",
       "      <td>0.0</td>\n",
       "      <td>0.00000</td>\n",
       "      <td>...</td>\n",
       "      <td>0.0</td>\n",
       "      <td>0.0</td>\n",
       "      <td>0.0</td>\n",
       "      <td>0.0</td>\n",
       "      <td>0.0</td>\n",
       "      <td>0.0</td>\n",
       "      <td>0.0</td>\n",
       "      <td>0.0</td>\n",
       "      <td>0.0</td>\n",
       "      <td>0</td>\n",
       "    </tr>\n",
       "    <tr>\n",
       "      <th>3</th>\n",
       "      <td>3</td>\n",
       "      <td>0.00000</td>\n",
       "      <td>0.00000</td>\n",
       "      <td>0.0000</td>\n",
       "      <td>0.00000</td>\n",
       "      <td>0.00000</td>\n",
       "      <td>0.0000</td>\n",
       "      <td>0.00000</td>\n",
       "      <td>0.0</td>\n",
       "      <td>0.00000</td>\n",
       "      <td>...</td>\n",
       "      <td>0.0</td>\n",
       "      <td>0.0</td>\n",
       "      <td>0.0</td>\n",
       "      <td>0.0</td>\n",
       "      <td>0.0</td>\n",
       "      <td>0.0</td>\n",
       "      <td>0.0</td>\n",
       "      <td>0.0</td>\n",
       "      <td>0.0</td>\n",
       "      <td>0</td>\n",
       "    </tr>\n",
       "    <tr>\n",
       "      <th>4</th>\n",
       "      <td>4</td>\n",
       "      <td>0.00000</td>\n",
       "      <td>0.00000</td>\n",
       "      <td>0.0000</td>\n",
       "      <td>0.00000</td>\n",
       "      <td>0.00000</td>\n",
       "      <td>0.0000</td>\n",
       "      <td>0.00000</td>\n",
       "      <td>0.0</td>\n",
       "      <td>0.00000</td>\n",
       "      <td>...</td>\n",
       "      <td>0.0</td>\n",
       "      <td>0.0</td>\n",
       "      <td>0.0</td>\n",
       "      <td>0.0</td>\n",
       "      <td>0.0</td>\n",
       "      <td>0.0</td>\n",
       "      <td>0.0</td>\n",
       "      <td>0.0</td>\n",
       "      <td>0.0</td>\n",
       "      <td>0</td>\n",
       "    </tr>\n",
       "  </tbody>\n",
       "</table>\n",
       "<p>5 rows × 2793 columns</p>\n",
       "</div>"
      ],
      "text/plain": [
       "   Unnamed: 0      wow  selamat       !       ga    kuota  gratis       dr  \\\n",
       "0           0  2.69897  1.05552  1.1634  2.09691  0.78516  2.7535  1.61979   \n",
       "1           1  0.00000  1.05552  0.5817  0.00000  0.00000  0.0000  0.00000   \n",
       "2           2  0.00000  0.00000  0.0000  0.00000  0.00000  0.0000  0.00000   \n",
       "3           3  0.00000  0.00000  0.0000  0.00000  0.00000  0.0000  0.00000   \n",
       "4           4  0.00000  0.00000  0.0000  0.00000  0.00000  0.0000  0.00000   \n",
       "\n",
       "   pemerintah     bisa  ...  cutt.ly/ahab3t  penambahan  6285373144625  \\\n",
       "0         2.0  1.92082  ...             0.0         0.0            0.0   \n",
       "1         0.0  0.00000  ...             0.0         0.0            0.0   \n",
       "2         0.0  0.00000  ...             0.0         0.0            0.0   \n",
       "3         0.0  0.00000  ...             0.0         0.0            0.0   \n",
       "4         0.0  0.00000  ...             0.0         0.0            0.0   \n",
       "\n",
       "   2021-06-15.  888  laptop  smartphone  emas  tsel.me/rediapp  jenis  \n",
       "0          0.0  0.0     0.0         0.0   0.0              0.0      0  \n",
       "1          0.0  0.0     0.0         0.0   0.0              0.0      0  \n",
       "2          0.0  0.0     0.0         0.0   0.0              0.0      0  \n",
       "3          0.0  0.0     0.0         0.0   0.0              0.0      0  \n",
       "4          0.0  0.0     0.0         0.0   0.0              0.0      0  \n",
       "\n",
       "[5 rows x 2793 columns]"
      ]
     },
     "execution_count": 66,
     "metadata": {},
     "output_type": "execute_result"
    }
   ],
   "source": [
    "# baca data dari csv yang telah disimpan\n",
    "tesidf_stem = pd.read_csv(\"tfidfnya_stem.csv\")\n",
    "tesidf_stem.head()"
   ]
  },
  {
   "attachments": {},
   "cell_type": "markdown",
   "id": "fdbbc1e8",
   "metadata": {},
   "source": [
    "<h4>TF RF</h4>"
   ]
  },
  {
   "cell_type": "code",
   "execution_count": 67,
   "id": "8aaf392f",
   "metadata": {},
   "outputs": [],
   "source": [
    "# simpan data tf rf ke dalam csv\n",
    "rfnya_stem = pd.DataFrame(tf_rf_stem, columns=columnName_stem)\n",
    "rfnya_stem.to_csv('tfrfnya_stem.csv')"
   ]
  },
  {
   "cell_type": "code",
   "execution_count": 68,
   "id": "a0116471",
   "metadata": {},
   "outputs": [
    {
     "data": {
      "text/html": [
       "<div>\n",
       "<style scoped>\n",
       "    .dataframe tbody tr th:only-of-type {\n",
       "        vertical-align: middle;\n",
       "    }\n",
       "\n",
       "    .dataframe tbody tr th {\n",
       "        vertical-align: top;\n",
       "    }\n",
       "\n",
       "    .dataframe thead th {\n",
       "        text-align: right;\n",
       "    }\n",
       "</style>\n",
       "<table border=\"1\" class=\"dataframe\">\n",
       "  <thead>\n",
       "    <tr style=\"text-align: right;\">\n",
       "      <th></th>\n",
       "      <th>Unnamed: 0</th>\n",
       "      <th>wow</th>\n",
       "      <th>selamat</th>\n",
       "      <th>!</th>\n",
       "      <th>ga</th>\n",
       "      <th>kuota</th>\n",
       "      <th>gratis</th>\n",
       "      <th>dr</th>\n",
       "      <th>pemerintah</th>\n",
       "      <th>bisa</th>\n",
       "      <th>...</th>\n",
       "      <th>cutt.ly/ahab3t</th>\n",
       "      <th>penambahan</th>\n",
       "      <th>6285373144625</th>\n",
       "      <th>2021-06-15.</th>\n",
       "      <th>888</th>\n",
       "      <th>laptop</th>\n",
       "      <th>smartphone</th>\n",
       "      <th>emas</th>\n",
       "      <th>tsel.me/rediapp</th>\n",
       "      <th>jenis</th>\n",
       "    </tr>\n",
       "  </thead>\n",
       "  <tbody>\n",
       "    <tr>\n",
       "      <th>0</th>\n",
       "      <td>0</td>\n",
       "      <td>0.0</td>\n",
       "      <td>0.44091</td>\n",
       "      <td>0.0</td>\n",
       "      <td>0.0</td>\n",
       "      <td>0.0</td>\n",
       "      <td>0.0</td>\n",
       "      <td>0.0</td>\n",
       "      <td>0.77815</td>\n",
       "      <td>0.0</td>\n",
       "      <td>...</td>\n",
       "      <td>0.0</td>\n",
       "      <td>0.0</td>\n",
       "      <td>0.0</td>\n",
       "      <td>0.0</td>\n",
       "      <td>0.0</td>\n",
       "      <td>0.0</td>\n",
       "      <td>0.0</td>\n",
       "      <td>0.0</td>\n",
       "      <td>0.0</td>\n",
       "      <td>1</td>\n",
       "    </tr>\n",
       "    <tr>\n",
       "      <th>1</th>\n",
       "      <td>1</td>\n",
       "      <td>0.0</td>\n",
       "      <td>0.44091</td>\n",
       "      <td>0.0</td>\n",
       "      <td>0.0</td>\n",
       "      <td>0.0</td>\n",
       "      <td>0.0</td>\n",
       "      <td>0.0</td>\n",
       "      <td>0.00000</td>\n",
       "      <td>0.0</td>\n",
       "      <td>...</td>\n",
       "      <td>0.0</td>\n",
       "      <td>0.0</td>\n",
       "      <td>0.0</td>\n",
       "      <td>0.0</td>\n",
       "      <td>0.0</td>\n",
       "      <td>0.0</td>\n",
       "      <td>0.0</td>\n",
       "      <td>0.0</td>\n",
       "      <td>0.0</td>\n",
       "      <td>1</td>\n",
       "    </tr>\n",
       "    <tr>\n",
       "      <th>2</th>\n",
       "      <td>2</td>\n",
       "      <td>0.0</td>\n",
       "      <td>0.00000</td>\n",
       "      <td>0.0</td>\n",
       "      <td>0.0</td>\n",
       "      <td>0.0</td>\n",
       "      <td>0.0</td>\n",
       "      <td>0.0</td>\n",
       "      <td>0.00000</td>\n",
       "      <td>0.0</td>\n",
       "      <td>...</td>\n",
       "      <td>0.0</td>\n",
       "      <td>0.0</td>\n",
       "      <td>0.0</td>\n",
       "      <td>0.0</td>\n",
       "      <td>0.0</td>\n",
       "      <td>0.0</td>\n",
       "      <td>0.0</td>\n",
       "      <td>0.0</td>\n",
       "      <td>0.0</td>\n",
       "      <td>1</td>\n",
       "    </tr>\n",
       "    <tr>\n",
       "      <th>3</th>\n",
       "      <td>3</td>\n",
       "      <td>0.0</td>\n",
       "      <td>0.00000</td>\n",
       "      <td>0.0</td>\n",
       "      <td>0.0</td>\n",
       "      <td>0.0</td>\n",
       "      <td>0.0</td>\n",
       "      <td>0.0</td>\n",
       "      <td>0.00000</td>\n",
       "      <td>0.0</td>\n",
       "      <td>...</td>\n",
       "      <td>0.0</td>\n",
       "      <td>0.0</td>\n",
       "      <td>0.0</td>\n",
       "      <td>0.0</td>\n",
       "      <td>0.0</td>\n",
       "      <td>0.0</td>\n",
       "      <td>0.0</td>\n",
       "      <td>0.0</td>\n",
       "      <td>0.0</td>\n",
       "      <td>1</td>\n",
       "    </tr>\n",
       "    <tr>\n",
       "      <th>4</th>\n",
       "      <td>4</td>\n",
       "      <td>0.0</td>\n",
       "      <td>0.00000</td>\n",
       "      <td>0.0</td>\n",
       "      <td>0.0</td>\n",
       "      <td>0.0</td>\n",
       "      <td>0.0</td>\n",
       "      <td>0.0</td>\n",
       "      <td>0.00000</td>\n",
       "      <td>0.0</td>\n",
       "      <td>...</td>\n",
       "      <td>0.0</td>\n",
       "      <td>0.0</td>\n",
       "      <td>0.0</td>\n",
       "      <td>0.0</td>\n",
       "      <td>0.0</td>\n",
       "      <td>0.0</td>\n",
       "      <td>0.0</td>\n",
       "      <td>0.0</td>\n",
       "      <td>0.0</td>\n",
       "      <td>1</td>\n",
       "    </tr>\n",
       "  </tbody>\n",
       "</table>\n",
       "<p>5 rows × 2793 columns</p>\n",
       "</div>"
      ],
      "text/plain": [
       "   Unnamed: 0  wow  selamat    !   ga  kuota  gratis   dr  pemerintah  bisa  \\\n",
       "0           0  0.0  0.44091  0.0  0.0    0.0     0.0  0.0     0.77815   0.0   \n",
       "1           1  0.0  0.44091  0.0  0.0    0.0     0.0  0.0     0.00000   0.0   \n",
       "2           2  0.0  0.00000  0.0  0.0    0.0     0.0  0.0     0.00000   0.0   \n",
       "3           3  0.0  0.00000  0.0  0.0    0.0     0.0  0.0     0.00000   0.0   \n",
       "4           4  0.0  0.00000  0.0  0.0    0.0     0.0  0.0     0.00000   0.0   \n",
       "\n",
       "   ...  cutt.ly/ahab3t  penambahan  6285373144625  2021-06-15.  888  laptop  \\\n",
       "0  ...             0.0         0.0            0.0          0.0  0.0     0.0   \n",
       "1  ...             0.0         0.0            0.0          0.0  0.0     0.0   \n",
       "2  ...             0.0         0.0            0.0          0.0  0.0     0.0   \n",
       "3  ...             0.0         0.0            0.0          0.0  0.0     0.0   \n",
       "4  ...             0.0         0.0            0.0          0.0  0.0     0.0   \n",
       "\n",
       "   smartphone  emas  tsel.me/rediapp  jenis  \n",
       "0         0.0   0.0              0.0      1  \n",
       "1         0.0   0.0              0.0      1  \n",
       "2         0.0   0.0              0.0      1  \n",
       "3         0.0   0.0              0.0      1  \n",
       "4         0.0   0.0              0.0      1  \n",
       "\n",
       "[5 rows x 2793 columns]"
      ]
     },
     "execution_count": 68,
     "metadata": {},
     "output_type": "execute_result"
    }
   ],
   "source": [
    "# baca data dari csv yang telah disimpan\n",
    "tesrf_stem = pd.read_csv(\"tfrfnya_stem.csv\")\n",
    "tesrf_stem.head()"
   ]
  }
 ],
 "metadata": {
  "kernelspec": {
   "display_name": "Python 3 (ipykernel)",
   "language": "python",
   "name": "python3"
  },
  "language_info": {
   "codemirror_mode": {
    "name": "ipython",
    "version": 3
   },
   "file_extension": ".py",
   "mimetype": "text/x-python",
   "name": "python",
   "nbconvert_exporter": "python",
   "pygments_lexer": "ipython3",
   "version": "3.10.7"
  }
 },
 "nbformat": 4,
 "nbformat_minor": 5
}
